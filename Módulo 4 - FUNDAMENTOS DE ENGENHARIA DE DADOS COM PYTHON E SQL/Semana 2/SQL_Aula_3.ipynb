{
  "cells": [
    {
      "cell_type": "code",
      "execution_count": 1,
      "metadata": {
        "id": "2cQPuhGyEJbf"
      },
      "outputs": [],
      "source": [
        "%load_ext sql"
      ]
    },
    {
      "cell_type": "code",
      "execution_count": null,
      "metadata": {
        "colab": {
          "base_uri": "https://localhost:8080/"
        },
        "id": "zq_KDR-J-Icn",
        "outputId": "5b9b2e80-af82-45cc-deb5-cb11c5035a06"
      },
      "outputs": [
        {
          "name": "stdout",
          "output_type": "stream",
          "text": [
            "--2023-07-09 18:59:47--  https://rtvad.blob.core.windows.net/misc-data/northwind.sqlite3\n",
            "Resolving rtvad.blob.core.windows.net (rtvad.blob.core.windows.net)... 20.60.132.100\n",
            "Connecting to rtvad.blob.core.windows.net (rtvad.blob.core.windows.net)|20.60.132.100|:443... connected.\n",
            "HTTP request sent, awaiting response... 200 OK\n",
            "Length: 804864 (786K) [application/octet-stream]\n",
            "Saving to: ‘northwind.sqlite3’\n",
            "\n",
            "northwind.sqlite3   100%[===================>] 786.00K  5.03MB/s    in 0.2s    \n",
            "\n",
            "2023-07-09 18:59:48 (5.03 MB/s) - ‘northwind.sqlite3’ saved [804864/804864]\n",
            "\n"
          ]
        }
      ],
      "source": [
        "!wget https://rtvad.blob.core.windows.net/misc-data/northwind.sqlite3"
      ]
    },
    {
      "cell_type": "code",
      "execution_count": 2,
      "metadata": {},
      "outputs": [],
      "source": [
        "import requests\n",
        "\n",
        "url = \"https://rtvad.blob.core.windows.net/misc-data/northwind.sqlite3\"\n",
        "response = requests.get(url)\n",
        "\n",
        "with open(\"northwind.sqlite3\", \"wb\") as file:\n",
        "    file.write(response.content)"
      ]
    },
    {
      "cell_type": "code",
      "execution_count": 3,
      "metadata": {
        "id": "MRHTlrAR-LNf"
      },
      "outputs": [
        {
          "data": {
            "text/html": [
              "<span style=\"None\">Connecting to &#x27;sqlite:///northwind.sqlite3&#x27;</span>"
            ],
            "text/plain": [
              "Connecting to 'sqlite:///northwind.sqlite3'"
            ]
          },
          "metadata": {},
          "output_type": "display_data"
        }
      ],
      "source": [
        "%sql sqlite:///northwind.sqlite3"
      ]
    },
    {
      "cell_type": "markdown",
      "metadata": {
        "id": "ufi_OoPjuj4W"
      },
      "source": [
        "## Funções de Agregação e Group By\n",
        "\n",
        "A cláusula \"GROUP BY\" no SQL é utilizada para agrupar registros de uma tabela com base em uma ou mais colunas específicas. Essa cláusula permite que você divida os dados em grupos com base nos valores das colunas escolhidas.\n",
        "\n",
        "Quando você usa o \"GROUP BY\", os registros são agrupados em conjuntos distintos, onde cada conjunto contém registros com valores idênticos nas colunas especificadas. Em seguida, você pode aplicar funções de agregação, como COUNT, SUM, AVG, MAX, MIN, entre outras, para obter informações resumidas sobre cada grupo.\n",
        "\n",
        "Essa cláusula é frequentemente usada em combinação com outras cláusulas, como \"SELECT\" e \"HAVING\", para realizar consultas mais complexas. Ela é útil para analisar grandes conjuntos de dados e obter insights sobre diferentes grupos ou categorias de informações.\n",
        "\n",
        "Por exemplo, ao utilizar o \"GROUP BY\" na coluna de categoria de produtos, você pode obter a contagem de produtos em cada categoria ou o valor total de vendas por categoria. Isso permite que você faça análises mais detalhadas e resuma os dados de acordo com critérios específicos.\n",
        "\n",
        "Em resumo, a cláusula \"GROUP BY\" no SQL é usada para agrupar registros com base em valores de colunas específicas, permitindo a aplicação de funções de agregação para obter informações resumidas sobre cada grupo. Isso é útil para análise de dados e geração de relatórios."
      ]
    },
    {
      "cell_type": "markdown",
      "metadata": {
        "id": "QrUrdXbdxljr"
      },
      "source": [
        "### sum(), count(), min(), max(), avg()\n",
        "\n",
        "No SQLite3, você pode usar as seguintes funções de agregação em combinação com a cláusula \"GROUP BY\" para obter informações resumidas sobre grupos de dados:\n",
        "\n",
        "- COUNT: Retorna o número de registros em cada grupo.\n",
        "- SUM: Calcula a soma dos valores em uma coluna específica para cada grupo.\n",
        "- AVG: Calcula a média dos valores em uma coluna específica para cada grupo.\n",
        "- MAX: Retorna o valor máximo em uma coluna específica para cada grupo.\n",
        "- MIN: Retorna o valor mínimo em uma coluna específica para cada grupo.\n",
        "- HAVING: Permite filtrar grupos com base em condições especificadas após o \"GROUP BY\" e antes da cláusula \"ORDER BY\".\n",
        "\n",
        "Essas funções de agregação podem ser usadas para gerar relatórios resumidos, obter estatísticas sobre grupos de dados ou realizar análises agregadas em um banco de dados SQLite3."
      ]
    },
    {
      "cell_type": "code",
      "execution_count": 4,
      "metadata": {
        "colab": {
          "base_uri": "https://localhost:8080/",
          "height": 306
        },
        "id": "lCMFjtbLmTyR",
        "outputId": "e8e89a95-9e8f-4b5c-9cc3-b8c11720f5d2"
      },
      "outputs": [
        {
          "data": {
            "text/html": [
              "<span style=\"None\">Running query in &#x27;sqlite:///northwind.sqlite3&#x27;</span>"
            ],
            "text/plain": [
              "Running query in 'sqlite:///northwind.sqlite3'"
            ]
          },
          "metadata": {},
          "output_type": "display_data"
        },
        {
          "data": {
            "text/html": [
              "<table>\n",
              "    <thead>\n",
              "        <tr>\n",
              "            <th>OrderID</th>\n",
              "            <th>ProductID</th>\n",
              "            <th>UnitPrice</th>\n",
              "            <th>Quantity</th>\n",
              "            <th>Discount</th>\n",
              "        </tr>\n",
              "    </thead>\n",
              "    <tbody>\n",
              "        <tr>\n",
              "            <td>10248</td>\n",
              "            <td>11</td>\n",
              "            <td>14</td>\n",
              "            <td>12</td>\n",
              "            <td>0.0</td>\n",
              "        </tr>\n",
              "        <tr>\n",
              "            <td>10248</td>\n",
              "            <td>42</td>\n",
              "            <td>9.8</td>\n",
              "            <td>10</td>\n",
              "            <td>0.0</td>\n",
              "        </tr>\n",
              "        <tr>\n",
              "            <td>10248</td>\n",
              "            <td>72</td>\n",
              "            <td>34.8</td>\n",
              "            <td>5</td>\n",
              "            <td>0.0</td>\n",
              "        </tr>\n",
              "        <tr>\n",
              "            <td>10249</td>\n",
              "            <td>14</td>\n",
              "            <td>18.6</td>\n",
              "            <td>9</td>\n",
              "            <td>0.0</td>\n",
              "        </tr>\n",
              "        <tr>\n",
              "            <td>10249</td>\n",
              "            <td>51</td>\n",
              "            <td>42.4</td>\n",
              "            <td>40</td>\n",
              "            <td>0.0</td>\n",
              "        </tr>\n",
              "        <tr>\n",
              "            <td>10250</td>\n",
              "            <td>41</td>\n",
              "            <td>7.7</td>\n",
              "            <td>10</td>\n",
              "            <td>0.0</td>\n",
              "        </tr>\n",
              "        <tr>\n",
              "            <td>10250</td>\n",
              "            <td>51</td>\n",
              "            <td>42.4</td>\n",
              "            <td>35</td>\n",
              "            <td>0.15</td>\n",
              "        </tr>\n",
              "        <tr>\n",
              "            <td>10250</td>\n",
              "            <td>65</td>\n",
              "            <td>16.8</td>\n",
              "            <td>15</td>\n",
              "            <td>0.15</td>\n",
              "        </tr>\n",
              "        <tr>\n",
              "            <td>10251</td>\n",
              "            <td>22</td>\n",
              "            <td>16.8</td>\n",
              "            <td>6</td>\n",
              "            <td>0.05</td>\n",
              "        </tr>\n",
              "        <tr>\n",
              "            <td>10251</td>\n",
              "            <td>57</td>\n",
              "            <td>15.6</td>\n",
              "            <td>15</td>\n",
              "            <td>0.05</td>\n",
              "        </tr>\n",
              "    </tbody>\n",
              "</table>\n",
              "<span style=\"font-style:italic;text-align:center;\">Truncated to <a href=\"https://jupysql.ploomber.io/en/latest/api/configuration.html#displaylimit\">displaylimit</a> of 10.</span>"
            ],
            "text/plain": [
              "+---------+-----------+-----------+----------+----------+\n",
              "| OrderID | ProductID | UnitPrice | Quantity | Discount |\n",
              "+---------+-----------+-----------+----------+----------+\n",
              "|  10248  |     11    |     14    |    12    |   0.0    |\n",
              "|  10248  |     42    |    9.8    |    10    |   0.0    |\n",
              "|  10248  |     72    |    34.8   |    5     |   0.0    |\n",
              "|  10249  |     14    |    18.6   |    9     |   0.0    |\n",
              "|  10249  |     51    |    42.4   |    40    |   0.0    |\n",
              "|  10250  |     41    |    7.7    |    10    |   0.0    |\n",
              "|  10250  |     51    |    42.4   |    35    |   0.15   |\n",
              "|  10250  |     65    |    16.8   |    15    |   0.15   |\n",
              "|  10251  |     22    |    16.8   |    6     |   0.05   |\n",
              "|  10251  |     57    |    15.6   |    15    |   0.05   |\n",
              "+---------+-----------+-----------+----------+----------+\n",
              "Truncated to displaylimit of 10."
            ]
          },
          "execution_count": 4,
          "metadata": {},
          "output_type": "execute_result"
        }
      ],
      "source": [
        "%%sql\n",
        "\n",
        "select * from OrderDetails"
      ]
    },
    {
      "cell_type": "code",
      "execution_count": 5,
      "metadata": {
        "colab": {
          "base_uri": "https://localhost:8080/",
          "height": 79
        },
        "id": "a37eK8EUu4EZ",
        "outputId": "26f92309-c8c4-4ec8-8b39-407a6fb6c305"
      },
      "outputs": [
        {
          "data": {
            "text/html": [
              "<span style=\"None\">Running query in &#x27;sqlite:///northwind.sqlite3&#x27;</span>"
            ],
            "text/plain": [
              "Running query in 'sqlite:///northwind.sqlite3'"
            ]
          },
          "metadata": {},
          "output_type": "display_data"
        },
        {
          "data": {
            "text/html": [
              "<table>\n",
              "    <thead>\n",
              "        <tr>\n",
              "            <th>sum(UnitPrice)</th>\n",
              "        </tr>\n",
              "    </thead>\n",
              "    <tbody>\n",
              "        <tr>\n",
              "            <td>56543.18000000013</td>\n",
              "        </tr>\n",
              "    </tbody>\n",
              "</table>"
            ],
            "text/plain": [
              "+-------------------+\n",
              "|   sum(UnitPrice)  |\n",
              "+-------------------+\n",
              "| 56543.18000000013 |\n",
              "+-------------------+"
            ]
          },
          "execution_count": 5,
          "metadata": {},
          "output_type": "execute_result"
        }
      ],
      "source": [
        "%%sql\n",
        "\n",
        "select sum(UnitPrice) from OrderDetails"
      ]
    },
    {
      "cell_type": "code",
      "execution_count": null,
      "metadata": {
        "colab": {
          "base_uri": "https://localhost:8080/",
          "height": 79
        },
        "id": "Pk8cNjv-u_aC",
        "outputId": "7bff6a85-6e3c-4192-f56e-e085811f3e8c"
      },
      "outputs": [
        {
          "data": {
            "text/html": [
              "<span style=\"None\">Running query in &#x27;sqlite:///northwind.sqlite3&#x27;</span>"
            ],
            "text/plain": [
              "Running query in 'sqlite:///northwind.sqlite3'"
            ]
          },
          "metadata": {},
          "output_type": "display_data"
        },
        {
          "data": {
            "text/html": [
              "<table>\n",
              "    <tr>\n",
              "        <th>count(*)</th>\n",
              "    </tr>\n",
              "    <tr>\n",
              "        <td>2155</td>\n",
              "    </tr>\n",
              "</table>"
            ],
            "text/plain": [
              "+----------+\n",
              "| count(*) |\n",
              "+----------+\n",
              "|   2155   |\n",
              "+----------+"
            ]
          },
          "execution_count": 7,
          "metadata": {},
          "output_type": "execute_result"
        }
      ],
      "source": [
        "%%sql\n",
        "\n",
        "select count(*) from OrderDetails"
      ]
    },
    {
      "cell_type": "code",
      "execution_count": null,
      "metadata": {
        "colab": {
          "base_uri": "https://localhost:8080/",
          "height": 79
        },
        "id": "K5_-sPKTvEcC",
        "outputId": "ed1fb558-5203-4aed-ed9e-6eacb99e2cc9"
      },
      "outputs": [
        {
          "data": {
            "text/html": [
              "<span style=\"None\">Running query in &#x27;sqlite:///northwind.sqlite3&#x27;</span>"
            ],
            "text/plain": [
              "Running query in 'sqlite:///northwind.sqlite3'"
            ]
          },
          "metadata": {},
          "output_type": "display_data"
        },
        {
          "data": {
            "text/html": [
              "<table>\n",
              "    <tr>\n",
              "        <th>min(UnitPrice * Quantity)</th>\n",
              "    </tr>\n",
              "    <tr>\n",
              "        <td>4.8</td>\n",
              "    </tr>\n",
              "</table>"
            ],
            "text/plain": [
              "+---------------------------+\n",
              "| min(UnitPrice * Quantity) |\n",
              "+---------------------------+\n",
              "|            4.8            |\n",
              "+---------------------------+"
            ]
          },
          "execution_count": 8,
          "metadata": {},
          "output_type": "execute_result"
        }
      ],
      "source": [
        "%%sql\n",
        "\n",
        "select min(UnitPrice * Quantity) from OrderDetails"
      ]
    },
    {
      "cell_type": "code",
      "execution_count": null,
      "metadata": {
        "colab": {
          "base_uri": "https://localhost:8080/",
          "height": 79
        },
        "id": "6yPRfCfKvEVW",
        "outputId": "cd621770-47e8-4657-98d7-ce96d33b6de5"
      },
      "outputs": [
        {
          "data": {
            "text/html": [
              "<span style=\"None\">Running query in &#x27;sqlite:///northwind.sqlite3&#x27;</span>"
            ],
            "text/plain": [
              "Running query in 'sqlite:///northwind.sqlite3'"
            ]
          },
          "metadata": {},
          "output_type": "display_data"
        },
        {
          "data": {
            "text/html": [
              "<table>\n",
              "    <tr>\n",
              "        <th>max(UnitPrice * Quantity)</th>\n",
              "    </tr>\n",
              "    <tr>\n",
              "        <td>15810.0</td>\n",
              "    </tr>\n",
              "</table>"
            ],
            "text/plain": [
              "+---------------------------+\n",
              "| max(UnitPrice * Quantity) |\n",
              "+---------------------------+\n",
              "|          15810.0          |\n",
              "+---------------------------+"
            ]
          },
          "execution_count": 9,
          "metadata": {},
          "output_type": "execute_result"
        }
      ],
      "source": [
        "%%sql\n",
        "\n",
        "select max(UnitPrice * Quantity) from OrderDetails"
      ]
    },
    {
      "cell_type": "code",
      "execution_count": null,
      "metadata": {
        "colab": {
          "base_uri": "https://localhost:8080/",
          "height": 79
        },
        "id": "19QLrFzRwLQP",
        "outputId": "b5e9029f-ad36-4e99-9a18-6a7062a1939b"
      },
      "outputs": [
        {
          "data": {
            "text/html": [
              "<span style=\"None\">Running query in &#x27;sqlite:///northwind.sqlite3&#x27;</span>"
            ],
            "text/plain": [
              "Running query in 'sqlite:///northwind.sqlite3'"
            ]
          },
          "metadata": {},
          "output_type": "display_data"
        },
        {
          "data": {
            "text/html": [
              "<table>\n",
              "    <tr>\n",
              "        <th>avg(UnitPrice * Quantity)</th>\n",
              "    </tr>\n",
              "    <tr>\n",
              "        <td>628.8062227378191</td>\n",
              "    </tr>\n",
              "</table>"
            ],
            "text/plain": [
              "+---------------------------+\n",
              "| avg(UnitPrice * Quantity) |\n",
              "+---------------------------+\n",
              "|     628.8062227378191     |\n",
              "+---------------------------+"
            ]
          },
          "execution_count": 10,
          "metadata": {},
          "output_type": "execute_result"
        }
      ],
      "source": [
        "%%sql\n",
        "\n",
        "select avg(UnitPrice * Quantity) from OrderDetails"
      ]
    },
    {
      "cell_type": "markdown",
      "metadata": {
        "id": "5O9265-axv7h"
      },
      "source": [
        "### GroupBy"
      ]
    },
    {
      "cell_type": "code",
      "execution_count": 6,
      "metadata": {
        "colab": {
          "base_uri": "https://localhost:8080/",
          "height": 306
        },
        "id": "U7Tg0Ebex0PT",
        "outputId": "89c54831-a18d-42f5-844c-da438bc95390"
      },
      "outputs": [
        {
          "data": {
            "text/html": [
              "<span style=\"None\">Running query in &#x27;sqlite:///northwind.sqlite3&#x27;</span>"
            ],
            "text/plain": [
              "Running query in 'sqlite:///northwind.sqlite3'"
            ]
          },
          "metadata": {},
          "output_type": "display_data"
        },
        {
          "data": {
            "text/html": [
              "<table>\n",
              "    <thead>\n",
              "        <tr>\n",
              "            <th>sum(Quantity)</th>\n",
              "        </tr>\n",
              "    </thead>\n",
              "    <tbody>\n",
              "        <tr>\n",
              "            <td>828</td>\n",
              "        </tr>\n",
              "        <tr>\n",
              "            <td>1057</td>\n",
              "        </tr>\n",
              "        <tr>\n",
              "            <td>328</td>\n",
              "        </tr>\n",
              "        <tr>\n",
              "            <td>453</td>\n",
              "        </tr>\n",
              "        <tr>\n",
              "            <td>298</td>\n",
              "        </tr>\n",
              "        <tr>\n",
              "            <td>301</td>\n",
              "        </tr>\n",
              "        <tr>\n",
              "            <td>763</td>\n",
              "        </tr>\n",
              "        <tr>\n",
              "            <td>372</td>\n",
              "        </tr>\n",
              "        <tr>\n",
              "            <td>95</td>\n",
              "        </tr>\n",
              "        <tr>\n",
              "            <td>742</td>\n",
              "        </tr>\n",
              "    </tbody>\n",
              "</table>\n",
              "<span style=\"font-style:italic;text-align:center;\">Truncated to <a href=\"https://jupysql.ploomber.io/en/latest/api/configuration.html#displaylimit\">displaylimit</a> of 10.</span>"
            ],
            "text/plain": [
              "+---------------+\n",
              "| sum(Quantity) |\n",
              "+---------------+\n",
              "|      828      |\n",
              "|      1057     |\n",
              "|      328      |\n",
              "|      453      |\n",
              "|      298      |\n",
              "|      301      |\n",
              "|      763      |\n",
              "|      372      |\n",
              "|       95      |\n",
              "|      742      |\n",
              "+---------------+\n",
              "Truncated to displaylimit of 10."
            ]
          },
          "execution_count": 6,
          "metadata": {},
          "output_type": "execute_result"
        }
      ],
      "source": [
        "%%sql\n",
        "\n",
        "select sum(Quantity) from OrderDetails\n",
        "group by ProductId"
      ]
    },
    {
      "cell_type": "code",
      "execution_count": 7,
      "metadata": {
        "colab": {
          "base_uri": "https://localhost:8080/",
          "height": 306
        },
        "id": "M-bvvMECx9F2",
        "outputId": "d4eb497e-0aa0-46ef-f361-82d75b256ce3"
      },
      "outputs": [
        {
          "data": {
            "text/html": [
              "<span style=\"None\">Running query in &#x27;sqlite:///northwind.sqlite3&#x27;</span>"
            ],
            "text/plain": [
              "Running query in 'sqlite:///northwind.sqlite3'"
            ]
          },
          "metadata": {},
          "output_type": "display_data"
        },
        {
          "data": {
            "text/html": [
              "<table>\n",
              "    <thead>\n",
              "        <tr>\n",
              "            <th>ProductID</th>\n",
              "            <th>SomaQuantidade</th>\n",
              "        </tr>\n",
              "    </thead>\n",
              "    <tbody>\n",
              "        <tr>\n",
              "            <td>60</td>\n",
              "            <td>1577</td>\n",
              "        </tr>\n",
              "        <tr>\n",
              "            <td>59</td>\n",
              "            <td>1496</td>\n",
              "        </tr>\n",
              "        <tr>\n",
              "            <td>31</td>\n",
              "            <td>1397</td>\n",
              "        </tr>\n",
              "        <tr>\n",
              "            <td>56</td>\n",
              "            <td>1263</td>\n",
              "        </tr>\n",
              "        <tr>\n",
              "            <td>24</td>\n",
              "            <td>1162</td>\n",
              "        </tr>\n",
              "        <tr>\n",
              "            <td>16</td>\n",
              "            <td>1158</td>\n",
              "        </tr>\n",
              "        <tr>\n",
              "            <td>75</td>\n",
              "            <td>1155</td>\n",
              "        </tr>\n",
              "        <tr>\n",
              "            <td>40</td>\n",
              "            <td>1103</td>\n",
              "        </tr>\n",
              "        <tr>\n",
              "            <td>62</td>\n",
              "            <td>1083</td>\n",
              "        </tr>\n",
              "        <tr>\n",
              "            <td>2</td>\n",
              "            <td>1057</td>\n",
              "        </tr>\n",
              "    </tbody>\n",
              "</table>\n",
              "<span style=\"font-style:italic;text-align:center;\">Truncated to <a href=\"https://jupysql.ploomber.io/en/latest/api/configuration.html#displaylimit\">displaylimit</a> of 10.</span>"
            ],
            "text/plain": [
              "+-----------+----------------+\n",
              "| ProductID | SomaQuantidade |\n",
              "+-----------+----------------+\n",
              "|     60    |      1577      |\n",
              "|     59    |      1496      |\n",
              "|     31    |      1397      |\n",
              "|     56    |      1263      |\n",
              "|     24    |      1162      |\n",
              "|     16    |      1158      |\n",
              "|     75    |      1155      |\n",
              "|     40    |      1103      |\n",
              "|     62    |      1083      |\n",
              "|     2     |      1057      |\n",
              "+-----------+----------------+\n",
              "Truncated to displaylimit of 10."
            ]
          },
          "execution_count": 7,
          "metadata": {},
          "output_type": "execute_result"
        }
      ],
      "source": [
        "%%sql\n",
        "\n",
        "select ProductId, sum(Quantity) as SomaQuantidade from OrderDetails\n",
        "group by ProductId\n",
        "order by SomaQuantidade desc"
      ]
    },
    {
      "cell_type": "markdown",
      "metadata": {
        "id": "cZk_eFkh5xFY"
      },
      "source": [
        "### Having"
      ]
    },
    {
      "cell_type": "code",
      "execution_count": 8,
      "metadata": {
        "colab": {
          "base_uri": "https://localhost:8080/",
          "height": 79
        },
        "id": "hfTzktZ35wlL",
        "outputId": "8a34d683-65c8-430b-8d81-f58c976c522d"
      },
      "outputs": [
        {
          "data": {
            "text/html": [
              "<span style=\"None\">Running query in &#x27;sqlite:///northwind.sqlite3&#x27;</span>"
            ],
            "text/plain": [
              "Running query in 'sqlite:///northwind.sqlite3'"
            ]
          },
          "metadata": {},
          "output_type": "display_data"
        },
        {
          "data": {
            "text/html": [
              "<table>\n",
              "    <thead>\n",
              "        <tr>\n",
              "            <th>ProductID</th>\n",
              "            <th>SomaQuantidade</th>\n",
              "        </tr>\n",
              "    </thead>\n",
              "    <tbody>\n",
              "        <tr>\n",
              "            <td>9</td>\n",
              "            <td>95</td>\n",
              "        </tr>\n",
              "    </tbody>\n",
              "</table>"
            ],
            "text/plain": [
              "+-----------+----------------+\n",
              "| ProductID | SomaQuantidade |\n",
              "+-----------+----------------+\n",
              "|     9     |       95       |\n",
              "+-----------+----------------+"
            ]
          },
          "execution_count": 8,
          "metadata": {},
          "output_type": "execute_result"
        }
      ],
      "source": [
        "%%sql\n",
        "\n",
        "select ProductId, sum(Quantity) as SomaQuantidade from OrderDetails\n",
        "group by ProductId\n",
        "having SomaQuantidade < 100\n",
        "order by SomaQuantidade desc"
      ]
    },
    {
      "cell_type": "markdown",
      "metadata": {
        "id": "ZIY0VgrcDCiJ"
      },
      "source": [
        "#Funções de date"
      ]
    },
    {
      "cell_type": "markdown",
      "metadata": {
        "id": "dnP3CkZSDaAi"
      },
      "source": [
        "## strftime"
      ]
    },
    {
      "cell_type": "markdown",
      "metadata": {
        "id": "IDNbg-hGDHMF"
      },
      "source": [
        "Uma das funções de data mais comuns no SQLite 3 é a função strftime(), que formata uma data e hora de acordo com um padrão especificado. Aqui está um exemplo:"
      ]
    },
    {
      "cell_type": "code",
      "execution_count": 9,
      "metadata": {
        "colab": {
          "base_uri": "https://localhost:8080/",
          "height": 79
        },
        "id": "MtO0NeGaDEOv",
        "outputId": "9fb46bb9-8431-4225-f800-90b1b8595d0c"
      },
      "outputs": [
        {
          "data": {
            "text/html": [
              "<span style=\"None\">Running query in &#x27;sqlite:///northwind.sqlite3&#x27;</span>"
            ],
            "text/plain": [
              "Running query in 'sqlite:///northwind.sqlite3'"
            ]
          },
          "metadata": {},
          "output_type": "display_data"
        },
        {
          "data": {
            "text/html": [
              "<table>\n",
              "    <thead>\n",
              "        <tr>\n",
              "            <th>current_date</th>\n",
              "        </tr>\n",
              "    </thead>\n",
              "    <tbody>\n",
              "        <tr>\n",
              "            <td>2023-11-26</td>\n",
              "        </tr>\n",
              "    </tbody>\n",
              "</table>"
            ],
            "text/plain": [
              "+--------------+\n",
              "| current_date |\n",
              "+--------------+\n",
              "|  2023-11-26  |\n",
              "+--------------+"
            ]
          },
          "execution_count": 9,
          "metadata": {},
          "output_type": "execute_result"
        }
      ],
      "source": [
        "%%sql\n",
        "\n",
        "SELECT strftime('%Y-%m-%d', 'now') AS current_date;"
      ]
    },
    {
      "cell_type": "markdown",
      "metadata": {
        "id": "ed9ovhKFDbZC"
      },
      "source": [
        "## date"
      ]
    },
    {
      "cell_type": "markdown",
      "metadata": {
        "id": "xItot3-VDLvJ"
      },
      "source": [
        "Outra função útil é a função date(), que extrai a parte da data de um valor de data e hora. Aqui está um exemplo:"
      ]
    },
    {
      "cell_type": "code",
      "execution_count": 10,
      "metadata": {
        "colab": {
          "base_uri": "https://localhost:8080/",
          "height": 79
        },
        "id": "g0mrXFQ0DLEL",
        "outputId": "03ea3d39-2aca-4729-d5f6-3107997b16a5"
      },
      "outputs": [
        {
          "data": {
            "text/html": [
              "<span style=\"None\">Running query in &#x27;sqlite:///northwind.sqlite3&#x27;</span>"
            ],
            "text/plain": [
              "Running query in 'sqlite:///northwind.sqlite3'"
            ]
          },
          "metadata": {},
          "output_type": "display_data"
        },
        {
          "data": {
            "text/html": [
              "<table>\n",
              "    <thead>\n",
              "        <tr>\n",
              "            <th>extracted_date</th>\n",
              "        </tr>\n",
              "    </thead>\n",
              "    <tbody>\n",
              "        <tr>\n",
              "            <td>2023-07-09</td>\n",
              "        </tr>\n",
              "    </tbody>\n",
              "</table>"
            ],
            "text/plain": [
              "+----------------+\n",
              "| extracted_date |\n",
              "+----------------+\n",
              "|   2023-07-09   |\n",
              "+----------------+"
            ]
          },
          "execution_count": 10,
          "metadata": {},
          "output_type": "execute_result"
        }
      ],
      "source": [
        "%%sql\n",
        "\n",
        "SELECT date('2023-07-09 14:30:00') AS extracted_date;\n"
      ]
    },
    {
      "cell_type": "markdown",
      "metadata": {
        "id": "ab3OWQVvDTWt"
      },
      "source": [
        "O SQLite 3 possui uma função chamada date('now'), que retorna a data atual no formato 'YYYY-MM-DD'. É uma forma conveniente de obter a data atual sem precisar especificar um valor específico. Aqui está um exemplo de uso dessa função:"
      ]
    },
    {
      "cell_type": "code",
      "execution_count": 11,
      "metadata": {
        "colab": {
          "base_uri": "https://localhost:8080/",
          "height": 79
        },
        "id": "JKJkROD7DU7k",
        "outputId": "d61d57f1-5fe8-4f18-8a0e-f9b8e73bfb5a"
      },
      "outputs": [
        {
          "data": {
            "text/html": [
              "<span style=\"None\">Running query in &#x27;sqlite:///northwind.sqlite3&#x27;</span>"
            ],
            "text/plain": [
              "Running query in 'sqlite:///northwind.sqlite3'"
            ]
          },
          "metadata": {},
          "output_type": "display_data"
        },
        {
          "data": {
            "text/html": [
              "<table>\n",
              "    <thead>\n",
              "        <tr>\n",
              "            <th>current_date</th>\n",
              "        </tr>\n",
              "    </thead>\n",
              "    <tbody>\n",
              "        <tr>\n",
              "            <td>2023-11-26</td>\n",
              "        </tr>\n",
              "    </tbody>\n",
              "</table>"
            ],
            "text/plain": [
              "+--------------+\n",
              "| current_date |\n",
              "+--------------+\n",
              "|  2023-11-26  |\n",
              "+--------------+"
            ]
          },
          "execution_count": 11,
          "metadata": {},
          "output_type": "execute_result"
        }
      ],
      "source": [
        "%%sql\n",
        "\n",
        "SELECT date('now') AS current_date;\n"
      ]
    },
    {
      "cell_type": "markdown",
      "metadata": {
        "id": "Hz85wzXUu8CN"
      },
      "source": [
        "A função time retorna a parte do horário de um valor datetime."
      ]
    },
    {
      "cell_type": "code",
      "execution_count": 12,
      "metadata": {
        "id": "84dtWl1NDQpd"
      },
      "outputs": [
        {
          "data": {
            "text/html": [
              "<span style=\"None\">Running query in &#x27;sqlite:///northwind.sqlite3&#x27;</span>"
            ],
            "text/plain": [
              "Running query in 'sqlite:///northwind.sqlite3'"
            ]
          },
          "metadata": {},
          "output_type": "display_data"
        },
        {
          "data": {
            "text/html": [
              "<table>\n",
              "    <thead>\n",
              "        <tr>\n",
              "            <th>current_time</th>\n",
              "        </tr>\n",
              "    </thead>\n",
              "    <tbody>\n",
              "        <tr>\n",
              "            <td>21:16:40</td>\n",
              "        </tr>\n",
              "    </tbody>\n",
              "</table>"
            ],
            "text/plain": [
              "+--------------+\n",
              "| current_time |\n",
              "+--------------+\n",
              "|   21:16:40   |\n",
              "+--------------+"
            ]
          },
          "execution_count": 12,
          "metadata": {},
          "output_type": "execute_result"
        }
      ],
      "source": [
        "%%sql\n",
        "\n",
        "select time('now') as current_time;"
      ]
    }
  ],
  "metadata": {
    "colab": {
      "provenance": [],
      "toc_visible": true
    },
    "kernelspec": {
      "display_name": "Python 3",
      "name": "python3"
    },
    "language_info": {
      "codemirror_mode": {
        "name": "ipython",
        "version": 3
      },
      "file_extension": ".py",
      "mimetype": "text/x-python",
      "name": "python",
      "nbconvert_exporter": "python",
      "pygments_lexer": "ipython3",
      "version": "3.9.18"
    }
  },
  "nbformat": 4,
  "nbformat_minor": 0
}
