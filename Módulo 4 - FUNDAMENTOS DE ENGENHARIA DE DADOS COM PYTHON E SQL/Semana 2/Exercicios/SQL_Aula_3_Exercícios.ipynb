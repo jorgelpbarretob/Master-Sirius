{
  "cells": [
    {
      "cell_type": "markdown",
      "metadata": {
        "id": "PODHDIZwBzk2"
      },
      "source": [
        "# Setup"
      ]
    },
    {
      "cell_type": "code",
      "execution_count": 1,
      "metadata": {
        "id": "aW3-ZlZ-B2Hq"
      },
      "outputs": [],
      "source": [
        "%load_ext sql"
      ]
    },
    {
      "cell_type": "code",
      "execution_count": 2,
      "metadata": {},
      "outputs": [],
      "source": [
        "import requests\n",
        "\n",
        "url = \"https://rtvad.blob.core.windows.net/misc-data/northwind.sqlite3\"\n",
        "response = requests.get(url)\n",
        "\n",
        "with open(\"northwind.sqlite3\", \"wb\") as file:\n",
        "    file.write(response.content)"
      ]
    },
    {
      "cell_type": "code",
      "execution_count": 3,
      "metadata": {
        "id": "j_j-5-iNB35o"
      },
      "outputs": [
        {
          "data": {
            "text/html": [
              "<span style=\"None\">Connecting to &#x27;sqlite:///northwind.sqlite3&#x27;</span>"
            ],
            "text/plain": [
              "Connecting to 'sqlite:///northwind.sqlite3'"
            ]
          },
          "metadata": {},
          "output_type": "display_data"
        }
      ],
      "source": [
        "%sql sqlite:///northwind.sqlite3"
      ]
    },
    {
      "cell_type": "markdown",
      "metadata": {
        "id": "Oh4qU0NlB5Yg"
      },
      "source": [
        "# Exercícios"
      ]
    },
    {
      "cell_type": "markdown",
      "metadata": {
        "id": "adiQsHHYB6do"
      },
      "source": [
        "Exercício 1:\n",
        "\n",
        "Qual é o número total de clientes na tabela Customers?"
      ]
    },
    {
      "cell_type": "code",
      "execution_count": 6,
      "metadata": {
        "colab": {
          "base_uri": "https://localhost:8080/",
          "height": 79
        },
        "id": "OYQc1PQ7B5AR",
        "outputId": "6efaa688-da7b-4968-d4fb-f620c1b86d0d"
      },
      "outputs": [
        {
          "data": {
            "text/html": [
              "<span style=\"None\">Running query in &#x27;sqlite:///northwind.sqlite3&#x27;</span>"
            ],
            "text/plain": [
              "Running query in 'sqlite:///northwind.sqlite3'"
            ]
          },
          "metadata": {},
          "output_type": "display_data"
        },
        {
          "data": {
            "text/html": [
              "<table>\n",
              "    <thead>\n",
              "        <tr>\n",
              "            <th>Total_de_Clientes</th>\n",
              "        </tr>\n",
              "    </thead>\n",
              "    <tbody>\n",
              "        <tr>\n",
              "            <td>91</td>\n",
              "        </tr>\n",
              "    </tbody>\n",
              "</table>"
            ],
            "text/plain": [
              "+-------------------+\n",
              "| Total_de_Clientes |\n",
              "+-------------------+\n",
              "|         91        |\n",
              "+-------------------+"
            ]
          },
          "execution_count": 6,
          "metadata": {},
          "output_type": "execute_result"
        }
      ],
      "source": [
        "%%sql\n",
        "\n",
        "SELECT COUNT(*) as Total_de_Clientes FROM Customers;"
      ]
    },
    {
      "cell_type": "markdown",
      "metadata": {
        "id": "o4nKqNsVCEUr"
      },
      "source": [
        "Exercício 2:\n",
        "\n",
        "Qual é a idade mínima dos funcionários na tabela Employees?"
      ]
    },
    {
      "cell_type": "code",
      "execution_count": 10,
      "metadata": {
        "colab": {
          "base_uri": "https://localhost:8080/",
          "height": 79
        },
        "id": "XnwBdU6JCDW_",
        "outputId": "15582c1e-cd27-45d5-ddff-07cbf76362ac"
      },
      "outputs": [
        {
          "data": {
            "text/html": [
              "<span style=\"None\">Running query in &#x27;sqlite:///northwind.sqlite3&#x27;</span>"
            ],
            "text/plain": [
              "Running query in 'sqlite:///northwind.sqlite3'"
            ]
          },
          "metadata": {},
          "output_type": "display_data"
        },
        {
          "data": {
            "text/html": [
              "<table>\n",
              "    <thead>\n",
              "        <tr>\n",
              "            <th>idade_minima</th>\n",
              "        </tr>\n",
              "    </thead>\n",
              "    <tbody>\n",
              "        <tr>\n",
              "            <td>39</td>\n",
              "        </tr>\n",
              "    </tbody>\n",
              "</table>"
            ],
            "text/plain": [
              "+--------------+\n",
              "| idade_minima |\n",
              "+--------------+\n",
              "|      39      |\n",
              "+--------------+"
            ]
          },
          "execution_count": 10,
          "metadata": {},
          "output_type": "execute_result"
        }
      ],
      "source": [
        "%%sql\n",
        "\n",
        "SELECT MIN(strftime('%Y', 'now') - strftime('%Y', birthdate)) AS idade_minima\n",
        "FROM Employees;"
      ]
    },
    {
      "cell_type": "markdown",
      "metadata": {
        "id": "JWAIFzRKDfRp"
      },
      "source": [
        "Exercício 3:\n",
        "\n",
        "Qual é o valor máximo do frete na tabela Orders?"
      ]
    },
    {
      "cell_type": "code",
      "execution_count": 13,
      "metadata": {
        "colab": {
          "base_uri": "https://localhost:8080/",
          "height": 79
        },
        "id": "CHRxqwnVCI1l",
        "outputId": "f8ede825-a3b8-4811-9fdf-8517c42fef35"
      },
      "outputs": [
        {
          "data": {
            "text/html": [
              "<span style=\"None\">Running query in &#x27;sqlite:///northwind.sqlite3&#x27;</span>"
            ],
            "text/plain": [
              "Running query in 'sqlite:///northwind.sqlite3'"
            ]
          },
          "metadata": {},
          "output_type": "display_data"
        },
        {
          "data": {
            "text/html": [
              "<table>\n",
              "    <thead>\n",
              "        <tr>\n",
              "            <th>valor_maximo_frete</th>\n",
              "        </tr>\n",
              "    </thead>\n",
              "    <tbody>\n",
              "        <tr>\n",
              "            <td>2000</td>\n",
              "        </tr>\n",
              "    </tbody>\n",
              "</table>"
            ],
            "text/plain": [
              "+--------------------+\n",
              "| valor_maximo_frete |\n",
              "+--------------------+\n",
              "|        2000        |\n",
              "+--------------------+"
            ]
          },
          "execution_count": 13,
          "metadata": {},
          "output_type": "execute_result"
        }
      ],
      "source": [
        "%%sql\n",
        "\n",
        "SELECT MAX(Freight) AS valor_maximo_frete FROM Orders;"
      ]
    },
    {
      "cell_type": "markdown",
      "metadata": {
        "id": "uMBIouXxDjI8"
      },
      "source": [
        "Exercício 4:\n",
        "\n",
        "Qual é o preço médio dos produtos na tabela Products?"
      ]
    },
    {
      "cell_type": "code",
      "execution_count": 20,
      "metadata": {
        "colab": {
          "base_uri": "https://localhost:8080/",
          "height": 79
        },
        "id": "ISSY4CJUDib7",
        "outputId": "cc91c8e6-84e1-40e3-d581-31116a459e51"
      },
      "outputs": [
        {
          "data": {
            "text/html": [
              "<span style=\"None\">Running query in &#x27;sqlite:///northwind.sqlite3&#x27;</span>"
            ],
            "text/plain": [
              "Running query in 'sqlite:///northwind.sqlite3'"
            ]
          },
          "metadata": {},
          "output_type": "display_data"
        },
        {
          "data": {
            "text/html": [
              "<table>\n",
              "    <thead>\n",
              "        <tr>\n",
              "            <th>preco_medio</th>\n",
              "        </tr>\n",
              "    </thead>\n",
              "    <tbody>\n",
              "        <tr>\n",
              "            <td>28.866363636363637</td>\n",
              "        </tr>\n",
              "    </tbody>\n",
              "</table>"
            ],
            "text/plain": [
              "+--------------------+\n",
              "|    preco_medio     |\n",
              "+--------------------+\n",
              "| 28.866363636363637 |\n",
              "+--------------------+"
            ]
          },
          "execution_count": 20,
          "metadata": {},
          "output_type": "execute_result"
        }
      ],
      "source": [
        "%%sql\n",
        "\n",
        "SELECT AVG(UnitPrice) AS preco_medio FROM Products;"
      ]
    },
    {
      "cell_type": "markdown",
      "metadata": {
        "id": "XPqQFkZ_FFQp"
      },
      "source": [
        "Exercício 5:\n",
        "\n",
        "Quantos clientes existem em cada país?\n"
      ]
    },
    {
      "cell_type": "code",
      "execution_count": 23,
      "metadata": {
        "colab": {
          "base_uri": "https://localhost:8080/",
          "height": 306
        },
        "id": "_4Ei3GMlDly7",
        "outputId": "09772e1e-5156-4de7-e52f-fea7197f1b05"
      },
      "outputs": [
        {
          "data": {
            "text/html": [
              "<span style=\"None\">Running query in &#x27;sqlite:///northwind.sqlite3&#x27;</span>"
            ],
            "text/plain": [
              "Running query in 'sqlite:///northwind.sqlite3'"
            ]
          },
          "metadata": {},
          "output_type": "display_data"
        },
        {
          "data": {
            "text/html": [
              "<table>\n",
              "    <thead>\n",
              "        <tr>\n",
              "            <th>Country</th>\n",
              "            <th>total_clientes</th>\n",
              "        </tr>\n",
              "    </thead>\n",
              "    <tbody>\n",
              "        <tr>\n",
              "            <td>USA</td>\n",
              "            <td>13</td>\n",
              "        </tr>\n",
              "        <tr>\n",
              "            <td>Germany</td>\n",
              "            <td>11</td>\n",
              "        </tr>\n",
              "        <tr>\n",
              "            <td>France</td>\n",
              "            <td>11</td>\n",
              "        </tr>\n",
              "        <tr>\n",
              "            <td>Brazil</td>\n",
              "            <td>9</td>\n",
              "        </tr>\n",
              "        <tr>\n",
              "            <td>UK</td>\n",
              "            <td>7</td>\n",
              "        </tr>\n",
              "        <tr>\n",
              "            <td>Spain</td>\n",
              "            <td>5</td>\n",
              "        </tr>\n",
              "        <tr>\n",
              "            <td>Mexico</td>\n",
              "            <td>5</td>\n",
              "        </tr>\n",
              "        <tr>\n",
              "            <td>Venezuela</td>\n",
              "            <td>4</td>\n",
              "        </tr>\n",
              "        <tr>\n",
              "            <td>Italy</td>\n",
              "            <td>3</td>\n",
              "        </tr>\n",
              "        <tr>\n",
              "            <td>Canada</td>\n",
              "            <td>3</td>\n",
              "        </tr>\n",
              "    </tbody>\n",
              "</table>\n",
              "<span style=\"font-style:italic;text-align:center;\">Truncated to <a href=\"https://jupysql.ploomber.io/en/latest/api/configuration.html#displaylimit\">displaylimit</a> of 10.</span>"
            ],
            "text/plain": [
              "+-----------+----------------+\n",
              "|  Country  | total_clientes |\n",
              "+-----------+----------------+\n",
              "|    USA    |       13       |\n",
              "|  Germany  |       11       |\n",
              "|   France  |       11       |\n",
              "|   Brazil  |       9        |\n",
              "|     UK    |       7        |\n",
              "|   Spain   |       5        |\n",
              "|   Mexico  |       5        |\n",
              "| Venezuela |       4        |\n",
              "|   Italy   |       3        |\n",
              "|   Canada  |       3        |\n",
              "+-----------+----------------+\n",
              "Truncated to displaylimit of 10."
            ]
          },
          "execution_count": 23,
          "metadata": {},
          "output_type": "execute_result"
        }
      ],
      "source": [
        "%%sql\n",
        "\n",
        "SELECT Country, COUNT(*) AS total_clientes\n",
        "FROM Customers\n",
        "GROUP BY Country\n",
        "ORDER BY total_clientes DESC;"
      ]
    },
    {
      "cell_type": "markdown",
      "metadata": {
        "id": "cdfh9-8LFQbz"
      },
      "source": [
        "Exercício 6:\n",
        "\n",
        "Quantos funcionários existem em cada cidade?"
      ]
    },
    {
      "cell_type": "code",
      "execution_count": 24,
      "metadata": {
        "colab": {
          "base_uri": "https://localhost:8080/",
          "height": 165
        },
        "id": "SR8MsRYpFHiE",
        "outputId": "7b72c56c-588e-45c7-f594-a9de78996d5b"
      },
      "outputs": [
        {
          "data": {
            "text/html": [
              "<span style=\"None\">Running query in &#x27;sqlite:///northwind.sqlite3&#x27;</span>"
            ],
            "text/plain": [
              "Running query in 'sqlite:///northwind.sqlite3'"
            ]
          },
          "metadata": {},
          "output_type": "display_data"
        },
        {
          "data": {
            "text/html": [
              "<table>\n",
              "    <thead>\n",
              "        <tr>\n",
              "            <th>City</th>\n",
              "            <th>total_funcionarios</th>\n",
              "        </tr>\n",
              "    </thead>\n",
              "    <tbody>\n",
              "        <tr>\n",
              "            <td>London</td>\n",
              "            <td>4</td>\n",
              "        </tr>\n",
              "        <tr>\n",
              "            <td>Seattle</td>\n",
              "            <td>2</td>\n",
              "        </tr>\n",
              "        <tr>\n",
              "            <td>Tacoma</td>\n",
              "            <td>1</td>\n",
              "        </tr>\n",
              "        <tr>\n",
              "            <td>Redmond</td>\n",
              "            <td>1</td>\n",
              "        </tr>\n",
              "        <tr>\n",
              "            <td>Kirkland</td>\n",
              "            <td>1</td>\n",
              "        </tr>\n",
              "    </tbody>\n",
              "</table>"
            ],
            "text/plain": [
              "+----------+--------------------+\n",
              "|   City   | total_funcionarios |\n",
              "+----------+--------------------+\n",
              "|  London  |         4          |\n",
              "| Seattle  |         2          |\n",
              "|  Tacoma  |         1          |\n",
              "| Redmond  |         1          |\n",
              "| Kirkland |         1          |\n",
              "+----------+--------------------+"
            ]
          },
          "execution_count": 24,
          "metadata": {},
          "output_type": "execute_result"
        }
      ],
      "source": [
        "%%sql\n",
        "\n",
        "SELECT City, COUNT(*) AS total_funcionarios\n",
        "FROM Employees\n",
        "GROUP BY City\n",
        "ORDER BY total_funcionarios DESC;"
      ]
    },
    {
      "cell_type": "markdown",
      "metadata": {
        "id": "h6o1axVdFWEq"
      },
      "source": [
        "Exercício 7:\n",
        "\n",
        "Qual é a média do preço dos produtos por categoria?"
      ]
    },
    {
      "cell_type": "code",
      "execution_count": 28,
      "metadata": {},
      "outputs": [
        {
          "data": {
            "text/html": [
              "<span style=\"None\">Running query in &#x27;sqlite:///northwind.sqlite3&#x27;</span>"
            ],
            "text/plain": [
              "Running query in 'sqlite:///northwind.sqlite3'"
            ]
          },
          "metadata": {},
          "output_type": "display_data"
        },
        {
          "data": {
            "text/html": [
              "<table>\n",
              "    <thead>\n",
              "        <tr>\n",
              "            <th>ProductID</th>\n",
              "            <th>ProductName</th>\n",
              "            <th>SupplierID</th>\n",
              "            <th>CategoryID</th>\n",
              "            <th>QuantityPerUnit</th>\n",
              "            <th>UnitPrice</th>\n",
              "            <th>UnitsInStock</th>\n",
              "            <th>UnitsOnOrder</th>\n",
              "            <th>ReorderLevel</th>\n",
              "            <th>Discontinued</th>\n",
              "        </tr>\n",
              "    </thead>\n",
              "    <tbody>\n",
              "        <tr>\n",
              "            <td>1</td>\n",
              "            <td>Chai</td>\n",
              "            <td>1</td>\n",
              "            <td>1</td>\n",
              "            <td>10 boxes x 20 bags</td>\n",
              "            <td>18</td>\n",
              "            <td>39</td>\n",
              "            <td>0</td>\n",
              "            <td>10</td>\n",
              "            <td>0</td>\n",
              "        </tr>\n",
              "        <tr>\n",
              "            <td>2</td>\n",
              "            <td>Chang</td>\n",
              "            <td>1</td>\n",
              "            <td>1</td>\n",
              "            <td>24 - 12 oz bottles</td>\n",
              "            <td>19</td>\n",
              "            <td>17</td>\n",
              "            <td>40</td>\n",
              "            <td>25</td>\n",
              "            <td>0</td>\n",
              "        </tr>\n",
              "        <tr>\n",
              "            <td>3</td>\n",
              "            <td>Aniseed Syrup</td>\n",
              "            <td>1</td>\n",
              "            <td>2</td>\n",
              "            <td>12 - 550 ml bottles</td>\n",
              "            <td>10</td>\n",
              "            <td>13</td>\n",
              "            <td>70</td>\n",
              "            <td>25</td>\n",
              "            <td>0</td>\n",
              "        </tr>\n",
              "        <tr>\n",
              "            <td>4</td>\n",
              "            <td>Chef Anton's Cajun Seasoning</td>\n",
              "            <td>2</td>\n",
              "            <td>2</td>\n",
              "            <td>48 - 6 oz jars</td>\n",
              "            <td>22</td>\n",
              "            <td>53</td>\n",
              "            <td>0</td>\n",
              "            <td>0</td>\n",
              "            <td>0</td>\n",
              "        </tr>\n",
              "        <tr>\n",
              "            <td>5</td>\n",
              "            <td>Chef Anton's Gumbo Mix</td>\n",
              "            <td>2</td>\n",
              "            <td>2</td>\n",
              "            <td>36 boxes</td>\n",
              "            <td>21.35</td>\n",
              "            <td>0</td>\n",
              "            <td>0</td>\n",
              "            <td>0</td>\n",
              "            <td>1</td>\n",
              "        </tr>\n",
              "        <tr>\n",
              "            <td>6</td>\n",
              "            <td>Grandma's Boysenberry Spread</td>\n",
              "            <td>3</td>\n",
              "            <td>2</td>\n",
              "            <td>12 - 8 oz jars</td>\n",
              "            <td>25</td>\n",
              "            <td>120</td>\n",
              "            <td>0</td>\n",
              "            <td>25</td>\n",
              "            <td>0</td>\n",
              "        </tr>\n",
              "        <tr>\n",
              "            <td>7</td>\n",
              "            <td>Uncle Bob's Organic Dried Pears</td>\n",
              "            <td>3</td>\n",
              "            <td>7</td>\n",
              "            <td>12 - 1 lb pkgs.</td>\n",
              "            <td>30</td>\n",
              "            <td>15</td>\n",
              "            <td>0</td>\n",
              "            <td>10</td>\n",
              "            <td>0</td>\n",
              "        </tr>\n",
              "        <tr>\n",
              "            <td>8</td>\n",
              "            <td>Northwoods Cranberry Sauce</td>\n",
              "            <td>3</td>\n",
              "            <td>2</td>\n",
              "            <td>12 - 12 oz jars</td>\n",
              "            <td>40</td>\n",
              "            <td>6</td>\n",
              "            <td>0</td>\n",
              "            <td>0</td>\n",
              "            <td>0</td>\n",
              "        </tr>\n",
              "        <tr>\n",
              "            <td>9</td>\n",
              "            <td>Mishi Kobe Niku</td>\n",
              "            <td>4</td>\n",
              "            <td>6</td>\n",
              "            <td>18 - 500 g pkgs.</td>\n",
              "            <td>97</td>\n",
              "            <td>29</td>\n",
              "            <td>0</td>\n",
              "            <td>0</td>\n",
              "            <td>1</td>\n",
              "        </tr>\n",
              "        <tr>\n",
              "            <td>10</td>\n",
              "            <td>Ikura</td>\n",
              "            <td>4</td>\n",
              "            <td>8</td>\n",
              "            <td>12 - 200 ml jars</td>\n",
              "            <td>31</td>\n",
              "            <td>31</td>\n",
              "            <td>0</td>\n",
              "            <td>0</td>\n",
              "            <td>0</td>\n",
              "        </tr>\n",
              "    </tbody>\n",
              "</table>\n",
              "<span style=\"font-style:italic;text-align:center;\">Truncated to <a href=\"https://jupysql.ploomber.io/en/latest/api/configuration.html#displaylimit\">displaylimit</a> of 10.</span>"
            ],
            "text/plain": [
              "+-----------+---------------------------------+------------+------------+---------------------+-----------+--------------+--------------+--------------+--------------+\n",
              "| ProductID |           ProductName           | SupplierID | CategoryID |   QuantityPerUnit   | UnitPrice | UnitsInStock | UnitsOnOrder | ReorderLevel | Discontinued |\n",
              "+-----------+---------------------------------+------------+------------+---------------------+-----------+--------------+--------------+--------------+--------------+\n",
              "|     1     |               Chai              |     1      |     1      |  10 boxes x 20 bags |     18    |      39      |      0       |      10      |      0       |\n",
              "|     2     |              Chang              |     1      |     1      |  24 - 12 oz bottles |     19    |      17      |      40      |      25      |      0       |\n",
              "|     3     |          Aniseed Syrup          |     1      |     2      | 12 - 550 ml bottles |     10    |      13      |      70      |      25      |      0       |\n",
              "|     4     |   Chef Anton's Cajun Seasoning  |     2      |     2      |    48 - 6 oz jars   |     22    |      53      |      0       |      0       |      0       |\n",
              "|     5     |      Chef Anton's Gumbo Mix     |     2      |     2      |       36 boxes      |   21.35   |      0       |      0       |      0       |      1       |\n",
              "|     6     |   Grandma's Boysenberry Spread  |     3      |     2      |    12 - 8 oz jars   |     25    |     120      |      0       |      25      |      0       |\n",
              "|     7     | Uncle Bob's Organic Dried Pears |     3      |     7      |   12 - 1 lb pkgs.   |     30    |      15      |      0       |      10      |      0       |\n",
              "|     8     |    Northwoods Cranberry Sauce   |     3      |     2      |   12 - 12 oz jars   |     40    |      6       |      0       |      0       |      0       |\n",
              "|     9     |         Mishi Kobe Niku         |     4      |     6      |   18 - 500 g pkgs.  |     97    |      29      |      0       |      0       |      1       |\n",
              "|     10    |              Ikura              |     4      |     8      |   12 - 200 ml jars  |     31    |      31      |      0       |      0       |      0       |\n",
              "+-----------+---------------------------------+------------+------------+---------------------+-----------+--------------+--------------+--------------+--------------+\n",
              "Truncated to displaylimit of 10."
            ]
          },
          "execution_count": 28,
          "metadata": {},
          "output_type": "execute_result"
        }
      ],
      "source": [
        "%%sql\n",
        "\n",
        "select * from Products;"
      ]
    },
    {
      "cell_type": "code",
      "execution_count": 29,
      "metadata": {
        "colab": {
          "base_uri": "https://localhost:8080/",
          "height": 229
        },
        "id": "6gNa2WRaFSZw",
        "outputId": "417723d3-0fc0-4a2d-9ffa-5aaa3fe2e028"
      },
      "outputs": [
        {
          "data": {
            "text/html": [
              "<span style=\"None\">Running query in &#x27;sqlite:///northwind.sqlite3&#x27;</span>"
            ],
            "text/plain": [
              "Running query in 'sqlite:///northwind.sqlite3'"
            ]
          },
          "metadata": {},
          "output_type": "display_data"
        },
        {
          "data": {
            "text/html": [
              "<table>\n",
              "    <thead>\n",
              "        <tr>\n",
              "            <th>CategoryID</th>\n",
              "            <th>media_preco</th>\n",
              "        </tr>\n",
              "    </thead>\n",
              "    <tbody>\n",
              "        <tr>\n",
              "            <td>1</td>\n",
              "            <td>37.979166666666664</td>\n",
              "        </tr>\n",
              "        <tr>\n",
              "            <td>2</td>\n",
              "            <td>23.0625</td>\n",
              "        </tr>\n",
              "        <tr>\n",
              "            <td>3</td>\n",
              "            <td>25.16</td>\n",
              "        </tr>\n",
              "        <tr>\n",
              "            <td>4</td>\n",
              "            <td>28.73</td>\n",
              "        </tr>\n",
              "        <tr>\n",
              "            <td>5</td>\n",
              "            <td>20.25</td>\n",
              "        </tr>\n",
              "        <tr>\n",
              "            <td>6</td>\n",
              "            <td>54.00666666666667</td>\n",
              "        </tr>\n",
              "        <tr>\n",
              "            <td>7</td>\n",
              "            <td>32.37</td>\n",
              "        </tr>\n",
              "        <tr>\n",
              "            <td>8</td>\n",
              "            <td>20.6825</td>\n",
              "        </tr>\n",
              "    </tbody>\n",
              "</table>"
            ],
            "text/plain": [
              "+------------+--------------------+\n",
              "| CategoryID |    media_preco     |\n",
              "+------------+--------------------+\n",
              "|     1      | 37.979166666666664 |\n",
              "|     2      |      23.0625       |\n",
              "|     3      |       25.16        |\n",
              "|     4      |       28.73        |\n",
              "|     5      |       20.25        |\n",
              "|     6      | 54.00666666666667  |\n",
              "|     7      |       32.37        |\n",
              "|     8      |      20.6825       |\n",
              "+------------+--------------------+"
            ]
          },
          "execution_count": 29,
          "metadata": {},
          "output_type": "execute_result"
        }
      ],
      "source": [
        "%%sql\n",
        "\n",
        "SELECT CategoryID, AVG(UnitPrice) AS media_preco\n",
        "FROM Products\n",
        "GROUP BY CategoryID;"
      ]
    },
    {
      "cell_type": "markdown",
      "metadata": {
        "id": "WNNvKJsNFb4I"
      },
      "source": [
        "Exercício 8:\n",
        "\n",
        "\n",
        "Quantos pedidos cada cliente fez?"
      ]
    },
    {
      "cell_type": "code",
      "execution_count": 30,
      "metadata": {
        "colab": {
          "base_uri": "https://localhost:8080/",
          "height": 306
        },
        "id": "DTpPEw3_FbSA",
        "outputId": "df9d5985-00da-4c4c-abaf-5e3f2069c9d8"
      },
      "outputs": [
        {
          "data": {
            "text/html": [
              "<span style=\"None\">Running query in &#x27;sqlite:///northwind.sqlite3&#x27;</span>"
            ],
            "text/plain": [
              "Running query in 'sqlite:///northwind.sqlite3'"
            ]
          },
          "metadata": {},
          "output_type": "display_data"
        },
        {
          "data": {
            "text/html": [
              "<table>\n",
              "    <thead>\n",
              "        <tr>\n",
              "            <th>CustomerID</th>\n",
              "            <th>total_pedidos</th>\n",
              "        </tr>\n",
              "    </thead>\n",
              "    <tbody>\n",
              "        <tr>\n",
              "            <td>SAVEA</td>\n",
              "            <td>31</td>\n",
              "        </tr>\n",
              "        <tr>\n",
              "            <td>ERNSH</td>\n",
              "            <td>30</td>\n",
              "        </tr>\n",
              "        <tr>\n",
              "            <td>QUICK</td>\n",
              "            <td>28</td>\n",
              "        </tr>\n",
              "        <tr>\n",
              "            <td>FOLKO</td>\n",
              "            <td>19</td>\n",
              "        </tr>\n",
              "        <tr>\n",
              "            <td>HUNGO</td>\n",
              "            <td>19</td>\n",
              "        </tr>\n",
              "        <tr>\n",
              "            <td>BERGS</td>\n",
              "            <td>18</td>\n",
              "        </tr>\n",
              "        <tr>\n",
              "            <td>HILAA</td>\n",
              "            <td>18</td>\n",
              "        </tr>\n",
              "        <tr>\n",
              "            <td>RATTC</td>\n",
              "            <td>18</td>\n",
              "        </tr>\n",
              "        <tr>\n",
              "            <td>BONAP</td>\n",
              "            <td>17</td>\n",
              "        </tr>\n",
              "        <tr>\n",
              "            <td>FRANK</td>\n",
              "            <td>15</td>\n",
              "        </tr>\n",
              "    </tbody>\n",
              "</table>\n",
              "<span style=\"font-style:italic;text-align:center;\">Truncated to <a href=\"https://jupysql.ploomber.io/en/latest/api/configuration.html#displaylimit\">displaylimit</a> of 10.</span>"
            ],
            "text/plain": [
              "+------------+---------------+\n",
              "| CustomerID | total_pedidos |\n",
              "+------------+---------------+\n",
              "|   SAVEA    |       31      |\n",
              "|   ERNSH    |       30      |\n",
              "|   QUICK    |       28      |\n",
              "|   FOLKO    |       19      |\n",
              "|   HUNGO    |       19      |\n",
              "|   BERGS    |       18      |\n",
              "|   HILAA    |       18      |\n",
              "|   RATTC    |       18      |\n",
              "|   BONAP    |       17      |\n",
              "|   FRANK    |       15      |\n",
              "+------------+---------------+\n",
              "Truncated to displaylimit of 10."
            ]
          },
          "execution_count": 30,
          "metadata": {},
          "output_type": "execute_result"
        }
      ],
      "source": [
        "%%sql\n",
        "\n",
        "SELECT CustomerID, COUNT(*) AS total_pedidos\n",
        "FROM Orders\n",
        "GROUP BY CustomerID\n",
        "ORDER BY total_pedidos DESC;"
      ]
    },
    {
      "cell_type": "markdown",
      "metadata": {
        "id": "gUKIouYmFrhQ"
      },
      "source": [
        "Exercício 9:\n",
        "\n",
        "Quantos produtos de cada categoria estão descontinuados?"
      ]
    },
    {
      "cell_type": "code",
      "execution_count": 32,
      "metadata": {
        "colab": {
          "base_uri": "https://localhost:8080/",
          "height": 165
        },
        "id": "hXoE5bE0FqOg",
        "outputId": "a83dc368-9506-4dc9-8d27-ceaad7bd45cb"
      },
      "outputs": [
        {
          "data": {
            "text/html": [
              "<span style=\"None\">Running query in &#x27;sqlite:///northwind.sqlite3&#x27;</span>"
            ],
            "text/plain": [
              "Running query in 'sqlite:///northwind.sqlite3'"
            ]
          },
          "metadata": {},
          "output_type": "display_data"
        },
        {
          "data": {
            "text/html": [
              "<table>\n",
              "    <thead>\n",
              "        <tr>\n",
              "            <th>CategoryID</th>\n",
              "            <th>total_descontinuados</th>\n",
              "        </tr>\n",
              "    </thead>\n",
              "    <tbody>\n",
              "        <tr>\n",
              "            <td>1</td>\n",
              "            <td>1</td>\n",
              "        </tr>\n",
              "        <tr>\n",
              "            <td>2</td>\n",
              "            <td>1</td>\n",
              "        </tr>\n",
              "        <tr>\n",
              "            <td>5</td>\n",
              "            <td>1</td>\n",
              "        </tr>\n",
              "        <tr>\n",
              "            <td>6</td>\n",
              "            <td>4</td>\n",
              "        </tr>\n",
              "        <tr>\n",
              "            <td>7</td>\n",
              "            <td>1</td>\n",
              "        </tr>\n",
              "    </tbody>\n",
              "</table>"
            ],
            "text/plain": [
              "+------------+----------------------+\n",
              "| CategoryID | total_descontinuados |\n",
              "+------------+----------------------+\n",
              "|     1      |          1           |\n",
              "|     2      |          1           |\n",
              "|     5      |          1           |\n",
              "|     6      |          4           |\n",
              "|     7      |          1           |\n",
              "+------------+----------------------+"
            ]
          },
          "execution_count": 32,
          "metadata": {},
          "output_type": "execute_result"
        }
      ],
      "source": [
        "%%sql\n",
        "\n",
        "SELECT CategoryID, COUNT(*) AS total_descontinuados\n",
        "FROM Products\n",
        "WHERE Discontinued = 1\n",
        "GROUP BY CategoryID;"
      ]
    }
  ],
  "metadata": {
    "colab": {
      "provenance": []
    },
    "kernelspec": {
      "display_name": "Python 3",
      "name": "python3"
    },
    "language_info": {
      "codemirror_mode": {
        "name": "ipython",
        "version": 3
      },
      "file_extension": ".py",
      "mimetype": "text/x-python",
      "name": "python",
      "nbconvert_exporter": "python",
      "pygments_lexer": "ipython3",
      "version": "3.9.18"
    }
  },
  "nbformat": 4,
  "nbformat_minor": 0
}
