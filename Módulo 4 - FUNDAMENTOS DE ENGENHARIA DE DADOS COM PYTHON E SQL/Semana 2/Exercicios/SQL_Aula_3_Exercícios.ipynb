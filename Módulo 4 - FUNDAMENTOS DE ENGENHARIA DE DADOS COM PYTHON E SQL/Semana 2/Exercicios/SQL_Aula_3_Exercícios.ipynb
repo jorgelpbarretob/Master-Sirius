{
  "nbformat": 4,
  "nbformat_minor": 0,
  "metadata": {
    "colab": {
      "provenance": []
    },
    "kernelspec": {
      "name": "python3",
      "display_name": "Python 3"
    },
    "language_info": {
      "name": "python"
    }
  },
  "cells": [
    {
      "cell_type": "markdown",
      "source": [
        "# Setup"
      ],
      "metadata": {
        "id": "PODHDIZwBzk2"
      }
    },
    {
      "cell_type": "code",
      "execution_count": null,
      "metadata": {
        "colab": {
          "base_uri": "https://localhost:8080/"
        },
        "id": "54Ickaz3BrwU",
        "outputId": "8e0a516e-7900-402f-98a1-764e12efd970"
      },
      "outputs": [
        {
          "output_type": "stream",
          "name": "stdout",
          "text": [
            "Collecting jupysql\n",
            "  Downloading jupysql-0.7.9-py3-none-any.whl (65 kB)\n",
            "\u001b[?25l     \u001b[90m━━━━━━━━━━━━━━━━━━━━━━━━━━━━━━━━━━━━━━━━\u001b[0m \u001b[32m0.0/65.0 kB\u001b[0m \u001b[31m?\u001b[0m eta \u001b[36m-:--:--\u001b[0m\r\u001b[2K     \u001b[90m━━━━━━━━━━━━━━━━━━━━━━━━━━━━━━━━━━━━━━━━\u001b[0m \u001b[32m65.0/65.0 kB\u001b[0m \u001b[31m3.2 MB/s\u001b[0m eta \u001b[36m0:00:00\u001b[0m\n",
            "\u001b[?25hRequirement already satisfied: prettytable in /usr/local/lib/python3.10/dist-packages (from jupysql) (0.7.2)\n",
            "Requirement already satisfied: ipython in /usr/local/lib/python3.10/dist-packages (from jupysql) (7.34.0)\n",
            "Requirement already satisfied: sqlalchemy in /usr/local/lib/python3.10/dist-packages (from jupysql) (2.0.16)\n",
            "Requirement already satisfied: sqlparse in /usr/local/lib/python3.10/dist-packages (from jupysql) (0.4.4)\n",
            "Requirement already satisfied: ipython-genutils>=0.1.0 in /usr/local/lib/python3.10/dist-packages (from jupysql) (0.2.0)\n",
            "Collecting sqlglot (from jupysql)\n",
            "  Downloading sqlglot-17.3.0-py3-none-any.whl (280 kB)\n",
            "\u001b[2K     \u001b[90m━━━━━━━━━━━━━━━━━━━━━━━━━━━━━━━━━━━━━━\u001b[0m \u001b[32m280.6/280.6 kB\u001b[0m \u001b[31m13.2 MB/s\u001b[0m eta \u001b[36m0:00:00\u001b[0m\n",
            "\u001b[?25hRequirement already satisfied: jinja2 in /usr/local/lib/python3.10/dist-packages (from jupysql) (3.1.2)\n",
            "Collecting ploomber-core>=0.2.7 (from jupysql)\n",
            "  Downloading ploomber_core-0.2.13-py3-none-any.whl (21 kB)\n",
            "Requirement already satisfied: click in /usr/local/lib/python3.10/dist-packages (from ploomber-core>=0.2.7->jupysql) (8.1.3)\n",
            "Requirement already satisfied: pyyaml in /usr/local/lib/python3.10/dist-packages (from ploomber-core>=0.2.7->jupysql) (6.0)\n",
            "Collecting posthog (from ploomber-core>=0.2.7->jupysql)\n",
            "  Downloading posthog-3.0.1-py2.py3-none-any.whl (37 kB)\n",
            "Requirement already satisfied: setuptools>=18.5 in /usr/local/lib/python3.10/dist-packages (from ipython->jupysql) (67.7.2)\n",
            "Collecting jedi>=0.16 (from ipython->jupysql)\n",
            "  Downloading jedi-0.18.2-py2.py3-none-any.whl (1.6 MB)\n",
            "\u001b[2K     \u001b[90m━━━━━━━━━━━━━━━━━━━━━━━━━━━━━━━━━━━━━━━━\u001b[0m \u001b[32m1.6/1.6 MB\u001b[0m \u001b[31m50.8 MB/s\u001b[0m eta \u001b[36m0:00:00\u001b[0m\n",
            "\u001b[?25hRequirement already satisfied: decorator in /usr/local/lib/python3.10/dist-packages (from ipython->jupysql) (4.4.2)\n",
            "Requirement already satisfied: pickleshare in /usr/local/lib/python3.10/dist-packages (from ipython->jupysql) (0.7.5)\n",
            "Requirement already satisfied: traitlets>=4.2 in /usr/local/lib/python3.10/dist-packages (from ipython->jupysql) (5.7.1)\n",
            "Requirement already satisfied: prompt-toolkit!=3.0.0,!=3.0.1,<3.1.0,>=2.0.0 in /usr/local/lib/python3.10/dist-packages (from ipython->jupysql) (3.0.38)\n",
            "Requirement already satisfied: pygments in /usr/local/lib/python3.10/dist-packages (from ipython->jupysql) (2.14.0)\n",
            "Requirement already satisfied: backcall in /usr/local/lib/python3.10/dist-packages (from ipython->jupysql) (0.2.0)\n",
            "Requirement already satisfied: matplotlib-inline in /usr/local/lib/python3.10/dist-packages (from ipython->jupysql) (0.1.6)\n",
            "Requirement already satisfied: pexpect>4.3 in /usr/local/lib/python3.10/dist-packages (from ipython->jupysql) (4.8.0)\n",
            "Requirement already satisfied: MarkupSafe>=2.0 in /usr/local/lib/python3.10/dist-packages (from jinja2->jupysql) (2.1.3)\n",
            "Requirement already satisfied: typing-extensions>=4.2.0 in /usr/local/lib/python3.10/dist-packages (from sqlalchemy->jupysql) (4.6.3)\n",
            "Requirement already satisfied: greenlet!=0.4.17 in /usr/local/lib/python3.10/dist-packages (from sqlalchemy->jupysql) (2.0.2)\n",
            "Requirement already satisfied: parso<0.9.0,>=0.8.0 in /usr/local/lib/python3.10/dist-packages (from jedi>=0.16->ipython->jupysql) (0.8.3)\n",
            "Requirement already satisfied: ptyprocess>=0.5 in /usr/local/lib/python3.10/dist-packages (from pexpect>4.3->ipython->jupysql) (0.7.0)\n",
            "Requirement already satisfied: wcwidth in /usr/local/lib/python3.10/dist-packages (from prompt-toolkit!=3.0.0,!=3.0.1,<3.1.0,>=2.0.0->ipython->jupysql) (0.2.6)\n",
            "Requirement already satisfied: requests<3.0,>=2.7 in /usr/local/lib/python3.10/dist-packages (from posthog->ploomber-core>=0.2.7->jupysql) (2.27.1)\n",
            "Requirement already satisfied: six>=1.5 in /usr/local/lib/python3.10/dist-packages (from posthog->ploomber-core>=0.2.7->jupysql) (1.16.0)\n",
            "Collecting monotonic>=1.5 (from posthog->ploomber-core>=0.2.7->jupysql)\n",
            "  Downloading monotonic-1.6-py2.py3-none-any.whl (8.2 kB)\n",
            "Collecting backoff>=1.10.0 (from posthog->ploomber-core>=0.2.7->jupysql)\n",
            "  Downloading backoff-2.2.1-py3-none-any.whl (15 kB)\n",
            "Requirement already satisfied: python-dateutil>2.1 in /usr/local/lib/python3.10/dist-packages (from posthog->ploomber-core>=0.2.7->jupysql) (2.8.2)\n",
            "Requirement already satisfied: urllib3<1.27,>=1.21.1 in /usr/local/lib/python3.10/dist-packages (from requests<3.0,>=2.7->posthog->ploomber-core>=0.2.7->jupysql) (1.26.16)\n",
            "Requirement already satisfied: certifi>=2017.4.17 in /usr/local/lib/python3.10/dist-packages (from requests<3.0,>=2.7->posthog->ploomber-core>=0.2.7->jupysql) (2023.5.7)\n",
            "Requirement already satisfied: charset-normalizer~=2.0.0 in /usr/local/lib/python3.10/dist-packages (from requests<3.0,>=2.7->posthog->ploomber-core>=0.2.7->jupysql) (2.0.12)\n",
            "Requirement already satisfied: idna<4,>=2.5 in /usr/local/lib/python3.10/dist-packages (from requests<3.0,>=2.7->posthog->ploomber-core>=0.2.7->jupysql) (3.4)\n",
            "Installing collected packages: sqlglot, monotonic, jedi, backoff, posthog, ploomber-core, jupysql\n",
            "Successfully installed backoff-2.2.1 jedi-0.18.2 jupysql-0.7.9 monotonic-1.6 ploomber-core-0.2.13 posthog-3.0.1 sqlglot-17.3.0\n"
          ]
        }
      ],
      "source": [
        "!pip install jupysql"
      ]
    },
    {
      "cell_type": "code",
      "source": [
        "%load_ext sql"
      ],
      "metadata": {
        "id": "aW3-ZlZ-B2Hq"
      },
      "execution_count": null,
      "outputs": []
    },
    {
      "cell_type": "code",
      "source": [
        "!wget https://rtvad.blob.core.windows.net/misc-data/northwind.sqlite3"
      ],
      "metadata": {
        "colab": {
          "base_uri": "https://localhost:8080/"
        },
        "id": "Ndxr034bB2_g",
        "outputId": "9c5ecc7d-50ce-4dd5-edbf-6f0b1f568ee8"
      },
      "execution_count": null,
      "outputs": [
        {
          "output_type": "stream",
          "name": "stdout",
          "text": [
            "--2023-07-09 19:01:22--  https://rtvad.blob.core.windows.net/misc-data/northwind.sqlite3\n",
            "Resolving rtvad.blob.core.windows.net (rtvad.blob.core.windows.net)... 20.60.132.100\n",
            "Connecting to rtvad.blob.core.windows.net (rtvad.blob.core.windows.net)|20.60.132.100|:443... connected.\n",
            "HTTP request sent, awaiting response... 200 OK\n",
            "Length: 804864 (786K) [application/octet-stream]\n",
            "Saving to: ‘northwind.sqlite3’\n",
            "\n",
            "northwind.sqlite3   100%[===================>] 786.00K  1.42MB/s    in 0.5s    \n",
            "\n",
            "2023-07-09 19:01:23 (1.42 MB/s) - ‘northwind.sqlite3’ saved [804864/804864]\n",
            "\n"
          ]
        }
      ]
    },
    {
      "cell_type": "code",
      "source": [
        "%sql sqlite:///northwind.sqlite3"
      ],
      "metadata": {
        "id": "j_j-5-iNB35o"
      },
      "execution_count": null,
      "outputs": []
    },
    {
      "cell_type": "markdown",
      "source": [
        "# Exercícios"
      ],
      "metadata": {
        "id": "Oh4qU0NlB5Yg"
      }
    },
    {
      "cell_type": "markdown",
      "source": [
        "Exercício 1:\n",
        "\n",
        "Qual é o número total de clientes na tabela Customers?"
      ],
      "metadata": {
        "id": "adiQsHHYB6do"
      }
    },
    {
      "cell_type": "code",
      "source": [
        "%%sql\n"
      ],
      "metadata": {
        "colab": {
          "base_uri": "https://localhost:8080/",
          "height": 79
        },
        "id": "OYQc1PQ7B5AR",
        "outputId": "6efaa688-da7b-4968-d4fb-f620c1b86d0d"
      },
      "execution_count": null,
      "outputs": [
        {
          "output_type": "display_data",
          "data": {
            "text/plain": [
              "Running query in 'sqlite:///northwind.sqlite3'"
            ],
            "text/html": [
              "<span style=\"None\">Running query in &#x27;sqlite:///northwind.sqlite3&#x27;</span>"
            ]
          },
          "metadata": {}
        },
        {
          "output_type": "execute_result",
          "data": {
            "text/plain": [
              "+---------------+\n",
              "| TotalClientes |\n",
              "+---------------+\n",
              "|       91      |\n",
              "+---------------+"
            ],
            "text/html": [
              "<table>\n",
              "    <tr>\n",
              "        <th>TotalClientes</th>\n",
              "    </tr>\n",
              "    <tr>\n",
              "        <td>91</td>\n",
              "    </tr>\n",
              "</table>"
            ]
          },
          "metadata": {},
          "execution_count": 5
        }
      ]
    },
    {
      "cell_type": "markdown",
      "source": [
        "Exercício 2:\n",
        "\n",
        "Qual é a idade mínima dos funcionários na tabela Employees?"
      ],
      "metadata": {
        "id": "o4nKqNsVCEUr"
      }
    },
    {
      "cell_type": "code",
      "source": [
        "%%sql\n",
        "\n"
      ],
      "metadata": {
        "colab": {
          "base_uri": "https://localhost:8080/",
          "height": 79
        },
        "id": "XnwBdU6JCDW_",
        "outputId": "15582c1e-cd27-45d5-ddff-07cbf76362ac"
      },
      "execution_count": null,
      "outputs": [
        {
          "output_type": "display_data",
          "data": {
            "text/plain": [
              "Running query in 'sqlite:///northwind.sqlite3'"
            ],
            "text/html": [
              "<span style=\"None\">Running query in &#x27;sqlite:///northwind.sqlite3&#x27;</span>"
            ]
          },
          "metadata": {}
        },
        {
          "output_type": "execute_result",
          "data": {
            "text/plain": [
              "+-------------+\n",
              "| IdadeMinima |\n",
              "+-------------+\n",
              "|      39     |\n",
              "+-------------+"
            ],
            "text/html": [
              "<table>\n",
              "    <tr>\n",
              "        <th>IdadeMinima</th>\n",
              "    </tr>\n",
              "    <tr>\n",
              "        <td>39</td>\n",
              "    </tr>\n",
              "</table>"
            ]
          },
          "metadata": {},
          "execution_count": 6
        }
      ]
    },
    {
      "cell_type": "markdown",
      "source": [
        "Exercício 3:\n",
        "\n",
        "Qual é o valor máximo do frete na tabela Orders?"
      ],
      "metadata": {
        "id": "JWAIFzRKDfRp"
      }
    },
    {
      "cell_type": "code",
      "source": [
        "%%sql\n"
      ],
      "metadata": {
        "colab": {
          "base_uri": "https://localhost:8080/",
          "height": 79
        },
        "id": "CHRxqwnVCI1l",
        "outputId": "f8ede825-a3b8-4811-9fdf-8517c42fef35"
      },
      "execution_count": null,
      "outputs": [
        {
          "output_type": "display_data",
          "data": {
            "text/plain": [
              "Running query in 'sqlite:///northwind.sqlite3'"
            ],
            "text/html": [
              "<span style=\"None\">Running query in &#x27;sqlite:///northwind.sqlite3&#x27;</span>"
            ]
          },
          "metadata": {}
        },
        {
          "output_type": "execute_result",
          "data": {
            "text/plain": [
              "+------------------+\n",
              "| ValorMaximoFrete |\n",
              "+------------------+\n",
              "|       2000       |\n",
              "+------------------+"
            ],
            "text/html": [
              "<table>\n",
              "    <tr>\n",
              "        <th>ValorMaximoFrete</th>\n",
              "    </tr>\n",
              "    <tr>\n",
              "        <td>2000</td>\n",
              "    </tr>\n",
              "</table>"
            ]
          },
          "metadata": {},
          "execution_count": 7
        }
      ]
    },
    {
      "cell_type": "markdown",
      "source": [
        "Exercício 4:\n",
        "\n",
        "Qual é o preço médio dos produtos na tabela Products?"
      ],
      "metadata": {
        "id": "uMBIouXxDjI8"
      }
    },
    {
      "cell_type": "code",
      "source": [
        "%%sql\n",
        "\n"
      ],
      "metadata": {
        "colab": {
          "base_uri": "https://localhost:8080/",
          "height": 79
        },
        "id": "ISSY4CJUDib7",
        "outputId": "cc91c8e6-84e1-40e3-d581-31116a459e51"
      },
      "execution_count": null,
      "outputs": [
        {
          "output_type": "display_data",
          "data": {
            "text/plain": [
              "Running query in 'sqlite:///northwind.sqlite3'"
            ],
            "text/html": [
              "<span style=\"None\">Running query in &#x27;sqlite:///northwind.sqlite3&#x27;</span>"
            ]
          },
          "metadata": {}
        },
        {
          "output_type": "execute_result",
          "data": {
            "text/plain": [
              "+--------------------+\n",
              "| PrecoMedioProdutos |\n",
              "+--------------------+\n",
              "| 28.866363636363637 |\n",
              "+--------------------+"
            ],
            "text/html": [
              "<table>\n",
              "    <tr>\n",
              "        <th>PrecoMedioProdutos</th>\n",
              "    </tr>\n",
              "    <tr>\n",
              "        <td>28.866363636363637</td>\n",
              "    </tr>\n",
              "</table>"
            ]
          },
          "metadata": {},
          "execution_count": 9
        }
      ]
    },
    {
      "cell_type": "markdown",
      "source": [
        "Exercício 5:\n",
        "\n",
        "Quantos clientes existem em cada país?\n"
      ],
      "metadata": {
        "id": "XPqQFkZ_FFQp"
      }
    },
    {
      "cell_type": "code",
      "source": [
        "%%sql\n",
        "\n"
      ],
      "metadata": {
        "colab": {
          "base_uri": "https://localhost:8080/",
          "height": 306
        },
        "id": "_4Ei3GMlDly7",
        "outputId": "09772e1e-5156-4de7-e52f-fea7197f1b05"
      },
      "execution_count": null,
      "outputs": [
        {
          "output_type": "display_data",
          "data": {
            "text/plain": [
              "Running query in 'sqlite:///northwind.sqlite3'"
            ],
            "text/html": [
              "<span style=\"None\">Running query in &#x27;sqlite:///northwind.sqlite3&#x27;</span>"
            ]
          },
          "metadata": {}
        },
        {
          "output_type": "execute_result",
          "data": {
            "text/plain": [
              "+-----------+----------+\n",
              "|  Country  | count(*) |\n",
              "+-----------+----------+\n",
              "| Argentina |    3     |\n",
              "|  Austria  |    2     |\n",
              "|  Belgium  |    2     |\n",
              "|   Brazil  |    9     |\n",
              "|   Canada  |    3     |\n",
              "|  Denmark  |    2     |\n",
              "|  Finland  |    2     |\n",
              "|   France  |    11    |\n",
              "|  Germany  |    11    |\n",
              "|  Ireland  |    1     |\n",
              "+-----------+----------+"
            ],
            "text/html": [
              "<table>\n",
              "    <tr>\n",
              "        <th>Country</th>\n",
              "        <th>count(*)</th>\n",
              "    </tr>\n",
              "    <tr>\n",
              "        <td>Argentina</td>\n",
              "        <td>3</td>\n",
              "    </tr>\n",
              "    <tr>\n",
              "        <td>Austria</td>\n",
              "        <td>2</td>\n",
              "    </tr>\n",
              "    <tr>\n",
              "        <td>Belgium</td>\n",
              "        <td>2</td>\n",
              "    </tr>\n",
              "    <tr>\n",
              "        <td>Brazil</td>\n",
              "        <td>9</td>\n",
              "    </tr>\n",
              "    <tr>\n",
              "        <td>Canada</td>\n",
              "        <td>3</td>\n",
              "    </tr>\n",
              "    <tr>\n",
              "        <td>Denmark</td>\n",
              "        <td>2</td>\n",
              "    </tr>\n",
              "    <tr>\n",
              "        <td>Finland</td>\n",
              "        <td>2</td>\n",
              "    </tr>\n",
              "    <tr>\n",
              "        <td>France</td>\n",
              "        <td>11</td>\n",
              "    </tr>\n",
              "    <tr>\n",
              "        <td>Germany</td>\n",
              "        <td>11</td>\n",
              "    </tr>\n",
              "    <tr>\n",
              "        <td>Ireland</td>\n",
              "        <td>1</td>\n",
              "    </tr>\n",
              "</table>\n",
              "<span style=\"font-style:italic;text-align:center;\">21 rows, truncated to displaylimit of 10</span><br><span style=\"font-style:italic;text-align:center;\">If you want to see more, please visit <a href=\"https://jupysql.ploomber.io/en/latest/api/configuration.html#displaylimit\">displaylimit</a> configuration</span>"
            ]
          },
          "metadata": {},
          "execution_count": 10
        }
      ]
    },
    {
      "cell_type": "markdown",
      "source": [
        "Exercício 6:\n",
        "\n",
        "Quantos funcionários existem em cada cidade?"
      ],
      "metadata": {
        "id": "cdfh9-8LFQbz"
      }
    },
    {
      "cell_type": "code",
      "source": [
        "%%sql\n",
        "\n"
      ],
      "metadata": {
        "colab": {
          "base_uri": "https://localhost:8080/",
          "height": 165
        },
        "id": "SR8MsRYpFHiE",
        "outputId": "7b72c56c-588e-45c7-f594-a9de78996d5b"
      },
      "execution_count": null,
      "outputs": [
        {
          "output_type": "display_data",
          "data": {
            "text/plain": [
              "Running query in 'sqlite:///northwind.sqlite3'"
            ],
            "text/html": [
              "<span style=\"None\">Running query in &#x27;sqlite:///northwind.sqlite3&#x27;</span>"
            ]
          },
          "metadata": {}
        },
        {
          "output_type": "execute_result",
          "data": {
            "text/plain": [
              "+----------+----------+\n",
              "|   City   | count(*) |\n",
              "+----------+----------+\n",
              "| Kirkland |    1     |\n",
              "|  London  |    4     |\n",
              "| Redmond  |    1     |\n",
              "| Seattle  |    2     |\n",
              "|  Tacoma  |    1     |\n",
              "+----------+----------+"
            ],
            "text/html": [
              "<table>\n",
              "    <tr>\n",
              "        <th>City</th>\n",
              "        <th>count(*)</th>\n",
              "    </tr>\n",
              "    <tr>\n",
              "        <td>Kirkland</td>\n",
              "        <td>1</td>\n",
              "    </tr>\n",
              "    <tr>\n",
              "        <td>London</td>\n",
              "        <td>4</td>\n",
              "    </tr>\n",
              "    <tr>\n",
              "        <td>Redmond</td>\n",
              "        <td>1</td>\n",
              "    </tr>\n",
              "    <tr>\n",
              "        <td>Seattle</td>\n",
              "        <td>2</td>\n",
              "    </tr>\n",
              "    <tr>\n",
              "        <td>Tacoma</td>\n",
              "        <td>1</td>\n",
              "    </tr>\n",
              "</table>"
            ]
          },
          "metadata": {},
          "execution_count": 11
        }
      ]
    },
    {
      "cell_type": "markdown",
      "source": [
        "Exercício 7:\n",
        "\n",
        "Qual é a média do preço dos produtos por categoria?"
      ],
      "metadata": {
        "id": "h6o1axVdFWEq"
      }
    },
    {
      "cell_type": "code",
      "source": [
        "%%sql\n",
        "\n"
      ],
      "metadata": {
        "colab": {
          "base_uri": "https://localhost:8080/",
          "height": 229
        },
        "id": "6gNa2WRaFSZw",
        "outputId": "417723d3-0fc0-4a2d-9ffa-5aaa3fe2e028"
      },
      "execution_count": null,
      "outputs": [
        {
          "output_type": "display_data",
          "data": {
            "text/plain": [
              "Running query in 'sqlite:///northwind.sqlite3'"
            ],
            "text/html": [
              "<span style=\"None\">Running query in &#x27;sqlite:///northwind.sqlite3&#x27;</span>"
            ]
          },
          "metadata": {}
        },
        {
          "output_type": "execute_result",
          "data": {
            "text/plain": [
              "+------------+--------------------+\n",
              "| CategoryID |   avg(UnitPrice)   |\n",
              "+------------+--------------------+\n",
              "|     1      | 37.979166666666664 |\n",
              "|     2      |      23.0625       |\n",
              "|     3      |       25.16        |\n",
              "|     4      |       28.73        |\n",
              "|     5      |       20.25        |\n",
              "|     6      | 54.00666666666667  |\n",
              "|     7      |       32.37        |\n",
              "|     8      |      20.6825       |\n",
              "+------------+--------------------+"
            ],
            "text/html": [
              "<table>\n",
              "    <tr>\n",
              "        <th>CategoryID</th>\n",
              "        <th>avg(UnitPrice)</th>\n",
              "    </tr>\n",
              "    <tr>\n",
              "        <td>1</td>\n",
              "        <td>37.979166666666664</td>\n",
              "    </tr>\n",
              "    <tr>\n",
              "        <td>2</td>\n",
              "        <td>23.0625</td>\n",
              "    </tr>\n",
              "    <tr>\n",
              "        <td>3</td>\n",
              "        <td>25.16</td>\n",
              "    </tr>\n",
              "    <tr>\n",
              "        <td>4</td>\n",
              "        <td>28.73</td>\n",
              "    </tr>\n",
              "    <tr>\n",
              "        <td>5</td>\n",
              "        <td>20.25</td>\n",
              "    </tr>\n",
              "    <tr>\n",
              "        <td>6</td>\n",
              "        <td>54.00666666666667</td>\n",
              "    </tr>\n",
              "    <tr>\n",
              "        <td>7</td>\n",
              "        <td>32.37</td>\n",
              "    </tr>\n",
              "    <tr>\n",
              "        <td>8</td>\n",
              "        <td>20.6825</td>\n",
              "    </tr>\n",
              "</table>"
            ]
          },
          "metadata": {},
          "execution_count": 12
        }
      ]
    },
    {
      "cell_type": "markdown",
      "source": [
        "Exercício 8:\n",
        "\n",
        "\n",
        "Quantos pedidos cada cliente fez?"
      ],
      "metadata": {
        "id": "WNNvKJsNFb4I"
      }
    },
    {
      "cell_type": "code",
      "source": [
        "%%sql\n"
      ],
      "metadata": {
        "colab": {
          "base_uri": "https://localhost:8080/",
          "height": 306
        },
        "id": "DTpPEw3_FbSA",
        "outputId": "df9d5985-00da-4c4c-abaf-5e3f2069c9d8"
      },
      "execution_count": null,
      "outputs": [
        {
          "output_type": "display_data",
          "data": {
            "text/plain": [
              "Running query in 'sqlite:///northwind.sqlite3'"
            ],
            "text/html": [
              "<span style=\"None\">Running query in &#x27;sqlite:///northwind.sqlite3&#x27;</span>"
            ]
          },
          "metadata": {}
        },
        {
          "output_type": "execute_result",
          "data": {
            "text/plain": [
              "+------------+----------+\n",
              "| CustomerID | count(*) |\n",
              "+------------+----------+\n",
              "|   ALFKI    |    6     |\n",
              "|   ANATR    |    4     |\n",
              "|   ANTON    |    7     |\n",
              "|   AROUT    |    13    |\n",
              "|   BERGS    |    18    |\n",
              "|   BLAUS    |    7     |\n",
              "|   BLONP    |    11    |\n",
              "|   BOLID    |    3     |\n",
              "|   BONAP    |    17    |\n",
              "|   BOTTM    |    14    |\n",
              "+------------+----------+"
            ],
            "text/html": [
              "<table>\n",
              "    <tr>\n",
              "        <th>CustomerID</th>\n",
              "        <th>count(*)</th>\n",
              "    </tr>\n",
              "    <tr>\n",
              "        <td>ALFKI</td>\n",
              "        <td>6</td>\n",
              "    </tr>\n",
              "    <tr>\n",
              "        <td>ANATR</td>\n",
              "        <td>4</td>\n",
              "    </tr>\n",
              "    <tr>\n",
              "        <td>ANTON</td>\n",
              "        <td>7</td>\n",
              "    </tr>\n",
              "    <tr>\n",
              "        <td>AROUT</td>\n",
              "        <td>13</td>\n",
              "    </tr>\n",
              "    <tr>\n",
              "        <td>BERGS</td>\n",
              "        <td>18</td>\n",
              "    </tr>\n",
              "    <tr>\n",
              "        <td>BLAUS</td>\n",
              "        <td>7</td>\n",
              "    </tr>\n",
              "    <tr>\n",
              "        <td>BLONP</td>\n",
              "        <td>11</td>\n",
              "    </tr>\n",
              "    <tr>\n",
              "        <td>BOLID</td>\n",
              "        <td>3</td>\n",
              "    </tr>\n",
              "    <tr>\n",
              "        <td>BONAP</td>\n",
              "        <td>17</td>\n",
              "    </tr>\n",
              "    <tr>\n",
              "        <td>BOTTM</td>\n",
              "        <td>14</td>\n",
              "    </tr>\n",
              "</table>\n",
              "<span style=\"font-style:italic;text-align:center;\">89 rows, truncated to displaylimit of 10</span><br><span style=\"font-style:italic;text-align:center;\">If you want to see more, please visit <a href=\"https://jupysql.ploomber.io/en/latest/api/configuration.html#displaylimit\">displaylimit</a> configuration</span>"
            ]
          },
          "metadata": {},
          "execution_count": 13
        }
      ]
    },
    {
      "cell_type": "markdown",
      "source": [
        "Exercício 9:\n",
        "\n",
        "Quantos produtos de cada categoria estão descontinuados?"
      ],
      "metadata": {
        "id": "gUKIouYmFrhQ"
      }
    },
    {
      "cell_type": "code",
      "source": [
        "%%sql\n",
        "\n"
      ],
      "metadata": {
        "colab": {
          "base_uri": "https://localhost:8080/",
          "height": 165
        },
        "id": "hXoE5bE0FqOg",
        "outputId": "a83dc368-9506-4dc9-8d27-ceaad7bd45cb"
      },
      "execution_count": null,
      "outputs": [
        {
          "output_type": "display_data",
          "data": {
            "text/plain": [
              "Running query in 'sqlite:///northwind.sqlite3'"
            ],
            "text/html": [
              "<span style=\"None\">Running query in &#x27;sqlite:///northwind.sqlite3&#x27;</span>"
            ]
          },
          "metadata": {}
        },
        {
          "output_type": "execute_result",
          "data": {
            "text/plain": [
              "+------------+----------+\n",
              "| CategoryID | count(*) |\n",
              "+------------+----------+\n",
              "|     1      |    1     |\n",
              "|     2      |    1     |\n",
              "|     5      |    1     |\n",
              "|     6      |    4     |\n",
              "|     7      |    1     |\n",
              "+------------+----------+"
            ],
            "text/html": [
              "<table>\n",
              "    <tr>\n",
              "        <th>CategoryID</th>\n",
              "        <th>count(*)</th>\n",
              "    </tr>\n",
              "    <tr>\n",
              "        <td>1</td>\n",
              "        <td>1</td>\n",
              "    </tr>\n",
              "    <tr>\n",
              "        <td>2</td>\n",
              "        <td>1</td>\n",
              "    </tr>\n",
              "    <tr>\n",
              "        <td>5</td>\n",
              "        <td>1</td>\n",
              "    </tr>\n",
              "    <tr>\n",
              "        <td>6</td>\n",
              "        <td>4</td>\n",
              "    </tr>\n",
              "    <tr>\n",
              "        <td>7</td>\n",
              "        <td>1</td>\n",
              "    </tr>\n",
              "</table>"
            ]
          },
          "metadata": {},
          "execution_count": 15
        }
      ]
    }
  ]
}