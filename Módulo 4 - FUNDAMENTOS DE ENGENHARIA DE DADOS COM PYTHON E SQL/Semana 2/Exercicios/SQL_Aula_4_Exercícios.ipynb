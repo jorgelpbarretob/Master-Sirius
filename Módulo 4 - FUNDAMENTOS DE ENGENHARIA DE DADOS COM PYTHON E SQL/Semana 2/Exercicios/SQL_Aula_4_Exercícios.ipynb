{
  "nbformat": 4,
  "nbformat_minor": 0,
  "metadata": {
    "colab": {
      "provenance": []
    },
    "kernelspec": {
      "name": "python3",
      "display_name": "Python 3"
    },
    "language_info": {
      "name": "python"
    }
  },
  "cells": [
    {
      "cell_type": "markdown",
      "source": [
        "https://colab.research.google.com/drive/11P2rylOqREHx3h4l8IiyWmUwC286LFo2?usp=sharing#scrollTo=ZXmd1FX8yZzF"
      ],
      "metadata": {
        "id": "p96a_oa_Wl8t"
      }
    },
    {
      "cell_type": "markdown",
      "source": [
        "# Setup"
      ],
      "metadata": {
        "id": "PODHDIZwBzk2"
      }
    },
    {
      "cell_type": "markdown",
      "source": [],
      "metadata": {
        "id": "gONJc9nyxmJQ"
      }
    },
    {
      "cell_type": "code",
      "execution_count": null,
      "metadata": {
        "colab": {
          "base_uri": "https://localhost:8080/"
        },
        "id": "54Ickaz3BrwU",
        "outputId": "63e29b81-a6a2-466d-bf48-039621ad0122"
      },
      "outputs": [
        {
          "output_type": "stream",
          "name": "stdout",
          "text": [
            "Collecting jupysql\n",
            "  Downloading jupysql-0.7.9-py3-none-any.whl (65 kB)\n",
            "\u001b[?25l     \u001b[90m━━━━━━━━━━━━━━━━━━━━━━━━━━━━━━━━━━━━━━━━\u001b[0m \u001b[32m0.0/65.0 kB\u001b[0m \u001b[31m?\u001b[0m eta \u001b[36m-:--:--\u001b[0m\r\u001b[2K     \u001b[90m━━━━━━━━━━━━━━━━━━━━━━━━━━━━━━━━━━━━━━━━\u001b[0m \u001b[32m65.0/65.0 kB\u001b[0m \u001b[31m3.8 MB/s\u001b[0m eta \u001b[36m0:00:00\u001b[0m\n",
            "\u001b[?25hRequirement already satisfied: prettytable in /usr/local/lib/python3.10/dist-packages (from jupysql) (0.7.2)\n",
            "Requirement already satisfied: ipython in /usr/local/lib/python3.10/dist-packages (from jupysql) (7.34.0)\n",
            "Requirement already satisfied: sqlalchemy in /usr/local/lib/python3.10/dist-packages (from jupysql) (2.0.16)\n",
            "Requirement already satisfied: sqlparse in /usr/local/lib/python3.10/dist-packages (from jupysql) (0.4.4)\n",
            "Requirement already satisfied: ipython-genutils>=0.1.0 in /usr/local/lib/python3.10/dist-packages (from jupysql) (0.2.0)\n",
            "Collecting sqlglot (from jupysql)\n",
            "  Downloading sqlglot-17.3.0-py3-none-any.whl (280 kB)\n",
            "\u001b[2K     \u001b[90m━━━━━━━━━━━━━━━━━━━━━━━━━━━━━━━━━━━━━━\u001b[0m \u001b[32m280.6/280.6 kB\u001b[0m \u001b[31m15.2 MB/s\u001b[0m eta \u001b[36m0:00:00\u001b[0m\n",
            "\u001b[?25hRequirement already satisfied: jinja2 in /usr/local/lib/python3.10/dist-packages (from jupysql) (3.1.2)\n",
            "Collecting ploomber-core>=0.2.7 (from jupysql)\n",
            "  Downloading ploomber_core-0.2.13-py3-none-any.whl (21 kB)\n",
            "Requirement already satisfied: click in /usr/local/lib/python3.10/dist-packages (from ploomber-core>=0.2.7->jupysql) (8.1.3)\n",
            "Requirement already satisfied: pyyaml in /usr/local/lib/python3.10/dist-packages (from ploomber-core>=0.2.7->jupysql) (6.0)\n",
            "Collecting posthog (from ploomber-core>=0.2.7->jupysql)\n",
            "  Downloading posthog-3.0.1-py2.py3-none-any.whl (37 kB)\n",
            "Requirement already satisfied: setuptools>=18.5 in /usr/local/lib/python3.10/dist-packages (from ipython->jupysql) (67.7.2)\n",
            "Collecting jedi>=0.16 (from ipython->jupysql)\n",
            "  Downloading jedi-0.18.2-py2.py3-none-any.whl (1.6 MB)\n",
            "\u001b[2K     \u001b[90m━━━━━━━━━━━━━━━━━━━━━━━━━━━━━━━━━━━━━━━━\u001b[0m \u001b[32m1.6/1.6 MB\u001b[0m \u001b[31m47.4 MB/s\u001b[0m eta \u001b[36m0:00:00\u001b[0m\n",
            "\u001b[?25hRequirement already satisfied: decorator in /usr/local/lib/python3.10/dist-packages (from ipython->jupysql) (4.4.2)\n",
            "Requirement already satisfied: pickleshare in /usr/local/lib/python3.10/dist-packages (from ipython->jupysql) (0.7.5)\n",
            "Requirement already satisfied: traitlets>=4.2 in /usr/local/lib/python3.10/dist-packages (from ipython->jupysql) (5.7.1)\n",
            "Requirement already satisfied: prompt-toolkit!=3.0.0,!=3.0.1,<3.1.0,>=2.0.0 in /usr/local/lib/python3.10/dist-packages (from ipython->jupysql) (3.0.38)\n",
            "Requirement already satisfied: pygments in /usr/local/lib/python3.10/dist-packages (from ipython->jupysql) (2.14.0)\n",
            "Requirement already satisfied: backcall in /usr/local/lib/python3.10/dist-packages (from ipython->jupysql) (0.2.0)\n",
            "Requirement already satisfied: matplotlib-inline in /usr/local/lib/python3.10/dist-packages (from ipython->jupysql) (0.1.6)\n",
            "Requirement already satisfied: pexpect>4.3 in /usr/local/lib/python3.10/dist-packages (from ipython->jupysql) (4.8.0)\n",
            "Requirement already satisfied: MarkupSafe>=2.0 in /usr/local/lib/python3.10/dist-packages (from jinja2->jupysql) (2.1.3)\n",
            "Requirement already satisfied: typing-extensions>=4.2.0 in /usr/local/lib/python3.10/dist-packages (from sqlalchemy->jupysql) (4.6.3)\n",
            "Requirement already satisfied: greenlet!=0.4.17 in /usr/local/lib/python3.10/dist-packages (from sqlalchemy->jupysql) (2.0.2)\n",
            "Requirement already satisfied: parso<0.9.0,>=0.8.0 in /usr/local/lib/python3.10/dist-packages (from jedi>=0.16->ipython->jupysql) (0.8.3)\n",
            "Requirement already satisfied: ptyprocess>=0.5 in /usr/local/lib/python3.10/dist-packages (from pexpect>4.3->ipython->jupysql) (0.7.0)\n",
            "Requirement already satisfied: wcwidth in /usr/local/lib/python3.10/dist-packages (from prompt-toolkit!=3.0.0,!=3.0.1,<3.1.0,>=2.0.0->ipython->jupysql) (0.2.6)\n",
            "Requirement already satisfied: requests<3.0,>=2.7 in /usr/local/lib/python3.10/dist-packages (from posthog->ploomber-core>=0.2.7->jupysql) (2.27.1)\n",
            "Requirement already satisfied: six>=1.5 in /usr/local/lib/python3.10/dist-packages (from posthog->ploomber-core>=0.2.7->jupysql) (1.16.0)\n",
            "Collecting monotonic>=1.5 (from posthog->ploomber-core>=0.2.7->jupysql)\n",
            "  Downloading monotonic-1.6-py2.py3-none-any.whl (8.2 kB)\n",
            "Collecting backoff>=1.10.0 (from posthog->ploomber-core>=0.2.7->jupysql)\n",
            "  Downloading backoff-2.2.1-py3-none-any.whl (15 kB)\n",
            "Requirement already satisfied: python-dateutil>2.1 in /usr/local/lib/python3.10/dist-packages (from posthog->ploomber-core>=0.2.7->jupysql) (2.8.2)\n",
            "Requirement already satisfied: urllib3<1.27,>=1.21.1 in /usr/local/lib/python3.10/dist-packages (from requests<3.0,>=2.7->posthog->ploomber-core>=0.2.7->jupysql) (1.26.16)\n",
            "Requirement already satisfied: certifi>=2017.4.17 in /usr/local/lib/python3.10/dist-packages (from requests<3.0,>=2.7->posthog->ploomber-core>=0.2.7->jupysql) (2023.5.7)\n",
            "Requirement already satisfied: charset-normalizer~=2.0.0 in /usr/local/lib/python3.10/dist-packages (from requests<3.0,>=2.7->posthog->ploomber-core>=0.2.7->jupysql) (2.0.12)\n",
            "Requirement already satisfied: idna<4,>=2.5 in /usr/local/lib/python3.10/dist-packages (from requests<3.0,>=2.7->posthog->ploomber-core>=0.2.7->jupysql) (3.4)\n",
            "Installing collected packages: sqlglot, monotonic, jedi, backoff, posthog, ploomber-core, jupysql\n",
            "Successfully installed backoff-2.2.1 jedi-0.18.2 jupysql-0.7.9 monotonic-1.6 ploomber-core-0.2.13 posthog-3.0.1 sqlglot-17.3.0\n"
          ]
        }
      ],
      "source": [
        "!pip install jupysql"
      ]
    },
    {
      "cell_type": "code",
      "source": [
        "%load_ext sql"
      ],
      "metadata": {
        "id": "aW3-ZlZ-B2Hq"
      },
      "execution_count": null,
      "outputs": []
    },
    {
      "cell_type": "code",
      "source": [
        "!wget https://rtvad.blob.core.windows.net/misc-data/northwind.sqlite3"
      ],
      "metadata": {
        "colab": {
          "base_uri": "https://localhost:8080/"
        },
        "id": "Ndxr034bB2_g",
        "outputId": "f1dd8752-07e4-42fe-8107-db91e681850b"
      },
      "execution_count": null,
      "outputs": [
        {
          "output_type": "stream",
          "name": "stdout",
          "text": [
            "--2023-07-09 19:23:15--  https://rtvad.blob.core.windows.net/misc-data/northwind.sqlite3\n",
            "Resolving rtvad.blob.core.windows.net (rtvad.blob.core.windows.net)... 20.60.132.100\n",
            "Connecting to rtvad.blob.core.windows.net (rtvad.blob.core.windows.net)|20.60.132.100|:443... connected.\n",
            "HTTP request sent, awaiting response... 200 OK\n",
            "Length: 804864 (786K) [application/octet-stream]\n",
            "Saving to: ‘northwind.sqlite3’\n",
            "\n",
            "northwind.sqlite3   100%[===================>] 786.00K  1.52MB/s    in 0.5s    \n",
            "\n",
            "2023-07-09 19:23:16 (1.52 MB/s) - ‘northwind.sqlite3’ saved [804864/804864]\n",
            "\n"
          ]
        }
      ]
    },
    {
      "cell_type": "code",
      "source": [
        "%sql sqlite:///northwind.sqlite3"
      ],
      "metadata": {
        "id": "j_j-5-iNB35o"
      },
      "execution_count": null,
      "outputs": []
    },
    {
      "cell_type": "markdown",
      "source": [
        "# Exercícios"
      ],
      "metadata": {
        "id": "Oh4qU0NlB5Yg"
      }
    },
    {
      "cell_type": "markdown",
      "source": [
        "Exercício 1:\n",
        "Listar todos os clientes e seus respectivos pedidos."
      ],
      "metadata": {
        "id": "adiQsHHYB6do"
      }
    },
    {
      "cell_type": "code",
      "source": [
        "%%sql\n",
        "\n"
      ],
      "metadata": {
        "colab": {
          "base_uri": "https://localhost:8080/",
          "height": 306
        },
        "id": "OYQc1PQ7B5AR",
        "outputId": "bc91cb99-62cd-42fc-c7b5-791dfee6248a"
      },
      "execution_count": null,
      "outputs": [
        {
          "output_type": "display_data",
          "data": {
            "text/plain": [
              "Running query in 'sqlite:///northwind.sqlite3'"
            ],
            "text/html": [
              "<span style=\"None\">Running query in &#x27;sqlite:///northwind.sqlite3&#x27;</span>"
            ]
          },
          "metadata": {}
        },
        {
          "output_type": "execute_result",
          "data": {
            "text/plain": [
              "+------------+------------------------------------+---------+\n",
              "| CustomerID |            CompanyName             | OrderID |\n",
              "+------------+------------------------------------+---------+\n",
              "|   ALFKI    |        Alfreds Futterkiste         |  10643  |\n",
              "|   ALFKI    |        Alfreds Futterkiste         |  10692  |\n",
              "|   ALFKI    |        Alfreds Futterkiste         |  10702  |\n",
              "|   ALFKI    |        Alfreds Futterkiste         |  10835  |\n",
              "|   ALFKI    |        Alfreds Futterkiste         |  10952  |\n",
              "|   ALFKI    |        Alfreds Futterkiste         |  11011  |\n",
              "|   ANATR    | Ana Trujillo Emparedados y helados |  10308  |\n",
              "|   ANATR    | Ana Trujillo Emparedados y helados |  10625  |\n",
              "|   ANATR    | Ana Trujillo Emparedados y helados |  10759  |\n",
              "|   ANATR    | Ana Trujillo Emparedados y helados |  10926  |\n",
              "+------------+------------------------------------+---------+"
            ],
            "text/html": [
              "<table>\n",
              "    <tr>\n",
              "        <th>CustomerID</th>\n",
              "        <th>CompanyName</th>\n",
              "        <th>OrderID</th>\n",
              "    </tr>\n",
              "    <tr>\n",
              "        <td>ALFKI</td>\n",
              "        <td>Alfreds Futterkiste</td>\n",
              "        <td>10643</td>\n",
              "    </tr>\n",
              "    <tr>\n",
              "        <td>ALFKI</td>\n",
              "        <td>Alfreds Futterkiste</td>\n",
              "        <td>10692</td>\n",
              "    </tr>\n",
              "    <tr>\n",
              "        <td>ALFKI</td>\n",
              "        <td>Alfreds Futterkiste</td>\n",
              "        <td>10702</td>\n",
              "    </tr>\n",
              "    <tr>\n",
              "        <td>ALFKI</td>\n",
              "        <td>Alfreds Futterkiste</td>\n",
              "        <td>10835</td>\n",
              "    </tr>\n",
              "    <tr>\n",
              "        <td>ALFKI</td>\n",
              "        <td>Alfreds Futterkiste</td>\n",
              "        <td>10952</td>\n",
              "    </tr>\n",
              "    <tr>\n",
              "        <td>ALFKI</td>\n",
              "        <td>Alfreds Futterkiste</td>\n",
              "        <td>11011</td>\n",
              "    </tr>\n",
              "    <tr>\n",
              "        <td>ANATR</td>\n",
              "        <td>Ana Trujillo Emparedados y helados</td>\n",
              "        <td>10308</td>\n",
              "    </tr>\n",
              "    <tr>\n",
              "        <td>ANATR</td>\n",
              "        <td>Ana Trujillo Emparedados y helados</td>\n",
              "        <td>10625</td>\n",
              "    </tr>\n",
              "    <tr>\n",
              "        <td>ANATR</td>\n",
              "        <td>Ana Trujillo Emparedados y helados</td>\n",
              "        <td>10759</td>\n",
              "    </tr>\n",
              "    <tr>\n",
              "        <td>ANATR</td>\n",
              "        <td>Ana Trujillo Emparedados y helados</td>\n",
              "        <td>10926</td>\n",
              "    </tr>\n",
              "</table>\n",
              "<span style=\"font-style:italic;text-align:center;\">832 rows, truncated to displaylimit of 10</span><br><span style=\"font-style:italic;text-align:center;\">If you want to see more, please visit <a href=\"https://jupysql.ploomber.io/en/latest/api/configuration.html#displaylimit\">displaylimit</a> configuration</span>"
            ]
          },
          "metadata": {},
          "execution_count": 5
        }
      ]
    },
    {
      "cell_type": "markdown",
      "source": [
        "Exercício 2:\n",
        "Listar todos os pedidos feitos por um cliente específico."
      ],
      "metadata": {
        "id": "o4nKqNsVCEUr"
      }
    },
    {
      "cell_type": "code",
      "source": [
        "%%sql\n",
        "\n"
      ],
      "metadata": {
        "colab": {
          "base_uri": "https://localhost:8080/",
          "height": 186
        },
        "id": "XnwBdU6JCDW_",
        "outputId": "0603a1a9-4218-4617-f7ac-248c4887d08c"
      },
      "execution_count": null,
      "outputs": [
        {
          "output_type": "display_data",
          "data": {
            "text/plain": [
              "Running query in 'sqlite:///northwind.sqlite3'"
            ],
            "text/html": [
              "<span style=\"None\">Running query in &#x27;sqlite:///northwind.sqlite3&#x27;</span>"
            ]
          },
          "metadata": {}
        },
        {
          "output_type": "execute_result",
          "data": {
            "text/plain": [
              "+---------+-------------------------+-------------------------+\n",
              "| OrderID |        OrderDate        |       ShippedDate       |\n",
              "+---------+-------------------------+-------------------------+\n",
              "|  10643  | 2015-08-25 19:00:00.000 | 2015-09-02 00:00:00.000 |\n",
              "|  10692  | 2015-10-03 05:00:00.000 | 2015-10-13 00:00:00.000 |\n",
              "|  10702  | 2015-10-13 19:00:00.000 | 2015-10-21 00:00:00.000 |\n",
              "|  10835  | 2016-01-15 20:00:00.000 | 2016-01-21 00:00:00.000 |\n",
              "|  10952  | 2016-03-16 00:00:00.000 | 2016-03-24 00:00:00.000 |\n",
              "|  11011  | 2016-04-09 09:00:00.000 | 2016-04-13 00:00:00.000 |\n",
              "+---------+-------------------------+-------------------------+"
            ],
            "text/html": [
              "<table>\n",
              "    <tr>\n",
              "        <th>OrderID</th>\n",
              "        <th>OrderDate</th>\n",
              "        <th>ShippedDate</th>\n",
              "    </tr>\n",
              "    <tr>\n",
              "        <td>10643</td>\n",
              "        <td>2015-08-25 19:00:00.000</td>\n",
              "        <td>2015-09-02 00:00:00.000</td>\n",
              "    </tr>\n",
              "    <tr>\n",
              "        <td>10692</td>\n",
              "        <td>2015-10-03 05:00:00.000</td>\n",
              "        <td>2015-10-13 00:00:00.000</td>\n",
              "    </tr>\n",
              "    <tr>\n",
              "        <td>10702</td>\n",
              "        <td>2015-10-13 19:00:00.000</td>\n",
              "        <td>2015-10-21 00:00:00.000</td>\n",
              "    </tr>\n",
              "    <tr>\n",
              "        <td>10835</td>\n",
              "        <td>2016-01-15 20:00:00.000</td>\n",
              "        <td>2016-01-21 00:00:00.000</td>\n",
              "    </tr>\n",
              "    <tr>\n",
              "        <td>10952</td>\n",
              "        <td>2016-03-16 00:00:00.000</td>\n",
              "        <td>2016-03-24 00:00:00.000</td>\n",
              "    </tr>\n",
              "    <tr>\n",
              "        <td>11011</td>\n",
              "        <td>2016-04-09 09:00:00.000</td>\n",
              "        <td>2016-04-13 00:00:00.000</td>\n",
              "    </tr>\n",
              "</table>"
            ]
          },
          "metadata": {},
          "execution_count": 6
        }
      ]
    },
    {
      "cell_type": "markdown",
      "source": [
        "Exercício 3:\n",
        "Listar todos os produtos e seus respectivos fornecedores."
      ],
      "metadata": {
        "id": "JWAIFzRKDfRp"
      }
    },
    {
      "cell_type": "code",
      "source": [
        "%%sql\n"
      ],
      "metadata": {
        "colab": {
          "base_uri": "https://localhost:8080/",
          "height": 306
        },
        "id": "CHRxqwnVCI1l",
        "outputId": "ff0d9f62-bc3c-425d-b594-8596d02b8da4"
      },
      "execution_count": null,
      "outputs": [
        {
          "output_type": "display_data",
          "data": {
            "text/plain": [
              "Running query in 'sqlite:///northwind.sqlite3'"
            ],
            "text/html": [
              "<span style=\"None\">Running query in &#x27;sqlite:///northwind.sqlite3&#x27;</span>"
            ]
          },
          "metadata": {}
        },
        {
          "output_type": "execute_result",
          "data": {
            "text/plain": [
              "+-----------+---------------------------------+------------+----------------------------+\n",
              "| ProductID |           ProductName           | SupplierID |        CompanyName         |\n",
              "+-----------+---------------------------------+------------+----------------------------+\n",
              "|     1     |               Chai              |     1      |       Exotic Liquids       |\n",
              "|     2     |              Chang              |     1      |       Exotic Liquids       |\n",
              "|     3     |          Aniseed Syrup          |     1      |       Exotic Liquids       |\n",
              "|     4     |   Chef Anton's Cajun Seasoning  |     2      | New Orleans Cajun Delights |\n",
              "|     5     |      Chef Anton's Gumbo Mix     |     2      | New Orleans Cajun Delights |\n",
              "|     6     |   Grandma's Boysenberry Spread  |     3      | Grandma Kelly's Homestead  |\n",
              "|     7     | Uncle Bob's Organic Dried Pears |     3      | Grandma Kelly's Homestead  |\n",
              "|     8     |    Northwoods Cranberry Sauce   |     3      | Grandma Kelly's Homestead  |\n",
              "|     9     |         Mishi Kobe Niku         |     4      |       Tokyo Traders        |\n",
              "|     10    |              Ikura              |     4      |       Tokyo Traders        |\n",
              "+-----------+---------------------------------+------------+----------------------------+"
            ],
            "text/html": [
              "<table>\n",
              "    <tr>\n",
              "        <th>ProductID</th>\n",
              "        <th>ProductName</th>\n",
              "        <th>SupplierID</th>\n",
              "        <th>CompanyName</th>\n",
              "    </tr>\n",
              "    <tr>\n",
              "        <td>1</td>\n",
              "        <td>Chai</td>\n",
              "        <td>1</td>\n",
              "        <td>Exotic Liquids</td>\n",
              "    </tr>\n",
              "    <tr>\n",
              "        <td>2</td>\n",
              "        <td>Chang</td>\n",
              "        <td>1</td>\n",
              "        <td>Exotic Liquids</td>\n",
              "    </tr>\n",
              "    <tr>\n",
              "        <td>3</td>\n",
              "        <td>Aniseed Syrup</td>\n",
              "        <td>1</td>\n",
              "        <td>Exotic Liquids</td>\n",
              "    </tr>\n",
              "    <tr>\n",
              "        <td>4</td>\n",
              "        <td>Chef Anton's Cajun Seasoning</td>\n",
              "        <td>2</td>\n",
              "        <td>New Orleans Cajun Delights</td>\n",
              "    </tr>\n",
              "    <tr>\n",
              "        <td>5</td>\n",
              "        <td>Chef Anton's Gumbo Mix</td>\n",
              "        <td>2</td>\n",
              "        <td>New Orleans Cajun Delights</td>\n",
              "    </tr>\n",
              "    <tr>\n",
              "        <td>6</td>\n",
              "        <td>Grandma's Boysenberry Spread</td>\n",
              "        <td>3</td>\n",
              "        <td>Grandma Kelly's Homestead</td>\n",
              "    </tr>\n",
              "    <tr>\n",
              "        <td>7</td>\n",
              "        <td>Uncle Bob's Organic Dried Pears</td>\n",
              "        <td>3</td>\n",
              "        <td>Grandma Kelly's Homestead</td>\n",
              "    </tr>\n",
              "    <tr>\n",
              "        <td>8</td>\n",
              "        <td>Northwoods Cranberry Sauce</td>\n",
              "        <td>3</td>\n",
              "        <td>Grandma Kelly's Homestead</td>\n",
              "    </tr>\n",
              "    <tr>\n",
              "        <td>9</td>\n",
              "        <td>Mishi Kobe Niku</td>\n",
              "        <td>4</td>\n",
              "        <td>Tokyo Traders</td>\n",
              "    </tr>\n",
              "    <tr>\n",
              "        <td>10</td>\n",
              "        <td>Ikura</td>\n",
              "        <td>4</td>\n",
              "        <td>Tokyo Traders</td>\n",
              "    </tr>\n",
              "</table>\n",
              "<span style=\"font-style:italic;text-align:center;\">77 rows, truncated to displaylimit of 10</span><br><span style=\"font-style:italic;text-align:center;\">If you want to see more, please visit <a href=\"https://jupysql.ploomber.io/en/latest/api/configuration.html#displaylimit\">displaylimit</a> configuration</span>"
            ]
          },
          "metadata": {},
          "execution_count": 7
        }
      ]
    },
    {
      "cell_type": "markdown",
      "source": [
        "Exercício 4:\n",
        "Listar todos os produtos de uma determinada categoria."
      ],
      "metadata": {
        "id": "uMBIouXxDjI8"
      }
    },
    {
      "cell_type": "code",
      "source": [
        "%%sql\n",
        "\n"
      ],
      "metadata": {
        "colab": {
          "base_uri": "https://localhost:8080/",
          "height": 306
        },
        "id": "ISSY4CJUDib7",
        "outputId": "6e03c874-ba2a-4fcb-d02e-b7737010270d"
      },
      "execution_count": null,
      "outputs": [
        {
          "output_type": "display_data",
          "data": {
            "text/plain": [
              "Running query in 'sqlite:///northwind.sqlite3'"
            ],
            "text/html": [
              "<span style=\"None\">Running query in &#x27;sqlite:///northwind.sqlite3&#x27;</span>"
            ]
          },
          "metadata": {}
        },
        {
          "output_type": "execute_result",
          "data": {
            "text/plain": [
              "+---------------------------+--------------+\n",
              "|        ProductName        | CategoryName |\n",
              "+---------------------------+--------------+\n",
              "|            Chai           |  Beverages   |\n",
              "|           Chang           |  Beverages   |\n",
              "|     Guaraná Fantástica    |  Beverages   |\n",
              "|       Sasquatch Ale       |  Beverages   |\n",
              "|       Steeleye Stout      |  Beverages   |\n",
              "|       Côte de Blaye       |  Beverages   |\n",
              "|      Chartreuse verte     |  Beverages   |\n",
              "|        Ipoh Coffee        |  Beverages   |\n",
              "| Laughing Lumberjack Lager |  Beverages   |\n",
              "|       Outback Lager       |  Beverages   |\n",
              "+---------------------------+--------------+"
            ],
            "text/html": [
              "<table>\n",
              "    <tr>\n",
              "        <th>ProductName</th>\n",
              "        <th>CategoryName</th>\n",
              "    </tr>\n",
              "    <tr>\n",
              "        <td>Chai</td>\n",
              "        <td>Beverages</td>\n",
              "    </tr>\n",
              "    <tr>\n",
              "        <td>Chang</td>\n",
              "        <td>Beverages</td>\n",
              "    </tr>\n",
              "    <tr>\n",
              "        <td>Guaraná Fantástica</td>\n",
              "        <td>Beverages</td>\n",
              "    </tr>\n",
              "    <tr>\n",
              "        <td>Sasquatch Ale</td>\n",
              "        <td>Beverages</td>\n",
              "    </tr>\n",
              "    <tr>\n",
              "        <td>Steeleye Stout</td>\n",
              "        <td>Beverages</td>\n",
              "    </tr>\n",
              "    <tr>\n",
              "        <td>Côte de Blaye</td>\n",
              "        <td>Beverages</td>\n",
              "    </tr>\n",
              "    <tr>\n",
              "        <td>Chartreuse verte</td>\n",
              "        <td>Beverages</td>\n",
              "    </tr>\n",
              "    <tr>\n",
              "        <td>Ipoh Coffee</td>\n",
              "        <td>Beverages</td>\n",
              "    </tr>\n",
              "    <tr>\n",
              "        <td>Laughing Lumberjack Lager</td>\n",
              "        <td>Beverages</td>\n",
              "    </tr>\n",
              "    <tr>\n",
              "        <td>Outback Lager</td>\n",
              "        <td>Beverages</td>\n",
              "    </tr>\n",
              "</table>\n",
              "<span style=\"font-style:italic;text-align:center;\">12 rows, truncated to displaylimit of 10</span><br><span style=\"font-style:italic;text-align:center;\">If you want to see more, please visit <a href=\"https://jupysql.ploomber.io/en/latest/api/configuration.html#displaylimit\">displaylimit</a> configuration</span>"
            ]
          },
          "metadata": {},
          "execution_count": 8
        }
      ]
    },
    {
      "cell_type": "markdown",
      "source": [
        "Exercício 5:\n",
        "Listar todos os pedidos entregues por determinada transportadora (explore a tabela para escolher uma transportadora)"
      ],
      "metadata": {
        "id": "XPqQFkZ_FFQp"
      }
    },
    {
      "cell_type": "code",
      "source": [
        "%%sql\n"
      ],
      "metadata": {
        "colab": {
          "base_uri": "https://localhost:8080/",
          "height": 306
        },
        "id": "_4Ei3GMlDly7",
        "outputId": "ee7bcbd7-aefa-43c3-ebdf-6d264b4c38d2"
      },
      "execution_count": null,
      "outputs": [
        {
          "output_type": "display_data",
          "data": {
            "text/plain": [
              "Running query in 'sqlite:///northwind.sqlite3'"
            ],
            "text/html": [
              "<span style=\"None\">Running query in &#x27;sqlite:///northwind.sqlite3&#x27;</span>"
            ]
          },
          "metadata": {}
        },
        {
          "output_type": "execute_result",
          "data": {
            "text/plain": [
              "+---------+-------------------------+----------------+\n",
              "| OrderID |        OrderDate        |  CompanyName   |\n",
              "+---------+-------------------------+----------------+\n",
              "|  10249  | 2014-07-05 04:00:00.000 | Speedy Express |\n",
              "|  10251  | 2014-07-08 14:00:00.000 | Speedy Express |\n",
              "|  10258  | 2014-07-17 00:00:00.000 | Speedy Express |\n",
              "|  10260  | 2014-07-19 09:00:00.000 | Speedy Express |\n",
              "|  10265  | 2014-07-25 21:00:00.000 | Speedy Express |\n",
              "|  10267  | 2014-07-29 14:00:00.000 | Speedy Express |\n",
              "|  10269  | 2014-07-31 00:00:00.000 | Speedy Express |\n",
              "|  10270  | 2014-08-01 19:00:00.000 | Speedy Express |\n",
              "|  10274  | 2014-08-06 12:00:00.000 | Speedy Express |\n",
              "|  10275  | 2014-08-07 06:00:00.000 | Speedy Express |\n",
              "+---------+-------------------------+----------------+"
            ],
            "text/html": [
              "<table>\n",
              "    <tr>\n",
              "        <th>OrderID</th>\n",
              "        <th>OrderDate</th>\n",
              "        <th>CompanyName</th>\n",
              "    </tr>\n",
              "    <tr>\n",
              "        <td>10249</td>\n",
              "        <td>2014-07-05 04:00:00.000</td>\n",
              "        <td>Speedy Express</td>\n",
              "    </tr>\n",
              "    <tr>\n",
              "        <td>10251</td>\n",
              "        <td>2014-07-08 14:00:00.000</td>\n",
              "        <td>Speedy Express</td>\n",
              "    </tr>\n",
              "    <tr>\n",
              "        <td>10258</td>\n",
              "        <td>2014-07-17 00:00:00.000</td>\n",
              "        <td>Speedy Express</td>\n",
              "    </tr>\n",
              "    <tr>\n",
              "        <td>10260</td>\n",
              "        <td>2014-07-19 09:00:00.000</td>\n",
              "        <td>Speedy Express</td>\n",
              "    </tr>\n",
              "    <tr>\n",
              "        <td>10265</td>\n",
              "        <td>2014-07-25 21:00:00.000</td>\n",
              "        <td>Speedy Express</td>\n",
              "    </tr>\n",
              "    <tr>\n",
              "        <td>10267</td>\n",
              "        <td>2014-07-29 14:00:00.000</td>\n",
              "        <td>Speedy Express</td>\n",
              "    </tr>\n",
              "    <tr>\n",
              "        <td>10269</td>\n",
              "        <td>2014-07-31 00:00:00.000</td>\n",
              "        <td>Speedy Express</td>\n",
              "    </tr>\n",
              "    <tr>\n",
              "        <td>10270</td>\n",
              "        <td>2014-08-01 19:00:00.000</td>\n",
              "        <td>Speedy Express</td>\n",
              "    </tr>\n",
              "    <tr>\n",
              "        <td>10274</td>\n",
              "        <td>2014-08-06 12:00:00.000</td>\n",
              "        <td>Speedy Express</td>\n",
              "    </tr>\n",
              "    <tr>\n",
              "        <td>10275</td>\n",
              "        <td>2014-08-07 06:00:00.000</td>\n",
              "        <td>Speedy Express</td>\n",
              "    </tr>\n",
              "</table>\n",
              "<span style=\"font-style:italic;text-align:center;\">245 rows, truncated to displaylimit of 10</span><br><span style=\"font-style:italic;text-align:center;\">If you want to see more, please visit <a href=\"https://jupysql.ploomber.io/en/latest/api/configuration.html#displaylimit\">displaylimit</a> configuration</span>"
            ]
          },
          "metadata": {},
          "execution_count": 9
        }
      ]
    },
    {
      "cell_type": "markdown",
      "source": [
        "Exercício 6: Listar todos os clientes que fizeram um pedido após uma determinada data (explore a tabela para descobrir os períodos e defina uma data)"
      ],
      "metadata": {
        "id": "cdfh9-8LFQbz"
      }
    },
    {
      "cell_type": "code",
      "source": [
        "%%sql\n",
        "\n"
      ],
      "metadata": {
        "colab": {
          "base_uri": "https://localhost:8080/",
          "height": 306
        },
        "id": "SR8MsRYpFHiE",
        "outputId": "9081036b-26a3-4012-eaef-a1128f3c1078"
      },
      "execution_count": null,
      "outputs": [
        {
          "output_type": "display_data",
          "data": {
            "text/plain": [
              "Running query in 'sqlite:///northwind.sqlite3'"
            ],
            "text/html": [
              "<span style=\"None\">Running query in &#x27;sqlite:///northwind.sqlite3&#x27;</span>"
            ]
          },
          "metadata": {}
        },
        {
          "output_type": "execute_result",
          "data": {
            "text/plain": [
              "+------------+---------------------------+---------+-------------------------+\n",
              "| CustomerID |        CompanyName        | OrderID |        OrderDate        |\n",
              "+------------+---------------------------+---------+-------------------------+\n",
              "|   VINET    | Vins et alcools Chevalier |  10248  | 2014-07-04 08:00:00.000 |\n",
              "|   TOMSP    |     Toms Spezialitäten    |  10249  | 2014-07-05 04:00:00.000 |\n",
              "|   VICTE    |    Victuailles en stock   |  10251  | 2014-07-08 14:00:00.000 |\n",
              "|   HANAR    |       Hanari Carnes       |  10250  | 2014-07-08 15:00:00.000 |\n",
              "|   SUPRD    |      Suprêmes délices     |  10252  | 2014-07-09 01:00:00.000 |\n",
              "|   HANAR    |       Hanari Carnes       |  10253  | 2014-07-10 08:00:00.000 |\n",
              "|   CHOPS    |     Chop-suey Chinese     |  10254  | 2014-07-11 02:00:00.000 |\n",
              "|   RICSU    |     Richter Supermarkt    |  10255  | 2014-07-12 20:00:00.000 |\n",
              "|   WELLI    |   Wellington Importadora  |  10256  | 2014-07-15 22:00:00.000 |\n",
              "|   HILAA    |      HILARION-Abastos     |  10257  | 2014-07-16 15:00:00.000 |\n",
              "+------------+---------------------------+---------+-------------------------+"
            ],
            "text/html": [
              "<table>\n",
              "    <tr>\n",
              "        <th>CustomerID</th>\n",
              "        <th>CompanyName</th>\n",
              "        <th>OrderID</th>\n",
              "        <th>OrderDate</th>\n",
              "    </tr>\n",
              "    <tr>\n",
              "        <td>VINET</td>\n",
              "        <td>Vins et alcools Chevalier</td>\n",
              "        <td>10248</td>\n",
              "        <td>2014-07-04 08:00:00.000</td>\n",
              "    </tr>\n",
              "    <tr>\n",
              "        <td>TOMSP</td>\n",
              "        <td>Toms Spezialitäten</td>\n",
              "        <td>10249</td>\n",
              "        <td>2014-07-05 04:00:00.000</td>\n",
              "    </tr>\n",
              "    <tr>\n",
              "        <td>VICTE</td>\n",
              "        <td>Victuailles en stock</td>\n",
              "        <td>10251</td>\n",
              "        <td>2014-07-08 14:00:00.000</td>\n",
              "    </tr>\n",
              "    <tr>\n",
              "        <td>HANAR</td>\n",
              "        <td>Hanari Carnes</td>\n",
              "        <td>10250</td>\n",
              "        <td>2014-07-08 15:00:00.000</td>\n",
              "    </tr>\n",
              "    <tr>\n",
              "        <td>SUPRD</td>\n",
              "        <td>Suprêmes délices</td>\n",
              "        <td>10252</td>\n",
              "        <td>2014-07-09 01:00:00.000</td>\n",
              "    </tr>\n",
              "    <tr>\n",
              "        <td>HANAR</td>\n",
              "        <td>Hanari Carnes</td>\n",
              "        <td>10253</td>\n",
              "        <td>2014-07-10 08:00:00.000</td>\n",
              "    </tr>\n",
              "    <tr>\n",
              "        <td>CHOPS</td>\n",
              "        <td>Chop-suey Chinese</td>\n",
              "        <td>10254</td>\n",
              "        <td>2014-07-11 02:00:00.000</td>\n",
              "    </tr>\n",
              "    <tr>\n",
              "        <td>RICSU</td>\n",
              "        <td>Richter Supermarkt</td>\n",
              "        <td>10255</td>\n",
              "        <td>2014-07-12 20:00:00.000</td>\n",
              "    </tr>\n",
              "    <tr>\n",
              "        <td>WELLI</td>\n",
              "        <td>Wellington Importadora</td>\n",
              "        <td>10256</td>\n",
              "        <td>2014-07-15 22:00:00.000</td>\n",
              "    </tr>\n",
              "    <tr>\n",
              "        <td>HILAA</td>\n",
              "        <td>HILARION-Abastos</td>\n",
              "        <td>10257</td>\n",
              "        <td>2014-07-16 15:00:00.000</td>\n",
              "    </tr>\n",
              "</table>\n",
              "<span style=\"font-style:italic;text-align:center;\">830 rows, truncated to displaylimit of 10</span><br><span style=\"font-style:italic;text-align:center;\">If you want to see more, please visit <a href=\"https://jupysql.ploomber.io/en/latest/api/configuration.html#displaylimit\">displaylimit</a> configuration</span>"
            ]
          },
          "metadata": {},
          "execution_count": 10
        }
      ]
    },
    {
      "cell_type": "markdown",
      "source": [
        "Exercício 7:\n",
        "Listar todos os produtos que estão em estoque e que precisam ser reabastecidos"
      ],
      "metadata": {
        "id": "h6o1axVdFWEq"
      }
    },
    {
      "cell_type": "code",
      "source": [
        "%%sql\n",
        "\n"
      ],
      "metadata": {
        "colab": {
          "base_uri": "https://localhost:8080/",
          "height": 306
        },
        "id": "6gNa2WRaFSZw",
        "outputId": "9c338e76-259c-4ac7-ef52-4b04cc80ad3c"
      },
      "execution_count": null,
      "outputs": [
        {
          "output_type": "display_data",
          "data": {
            "text/plain": [
              "Running query in 'sqlite:///northwind.sqlite3'"
            ],
            "text/html": [
              "<span style=\"None\">Running query in &#x27;sqlite:///northwind.sqlite3&#x27;</span>"
            ]
          },
          "metadata": {}
        },
        {
          "output_type": "execute_result",
          "data": {
            "text/plain": [
              "+-----------------------+--------------+--------------+\n",
              "|      ProductName      | UnitsInStock | ReorderLevel |\n",
              "+-----------------------+--------------+--------------+\n",
              "|         Chang         |      17      |      25      |\n",
              "|     Aniseed Syrup     |      13      |      25      |\n",
              "|     Queso Cabrales    |      22      |      30      |\n",
              "|  Sir Rodney's Scones  |      3       |      5       |\n",
              "| Nord-Ost Matjeshering |      10      |      15      |\n",
              "|   Gorgonzola Telino   |      0       |      20      |\n",
              "|   Mascarpone Fabioli  |      9       |      25      |\n",
              "|       Gravad lax      |      11      |      25      |\n",
              "|      Ipoh Coffee      |      17      |      25      |\n",
              "|      Rogede sild      |      5       |      15      |\n",
              "+-----------------------+--------------+--------------+"
            ],
            "text/html": [
              "<table>\n",
              "    <tr>\n",
              "        <th>ProductName</th>\n",
              "        <th>UnitsInStock</th>\n",
              "        <th>ReorderLevel</th>\n",
              "    </tr>\n",
              "    <tr>\n",
              "        <td>Chang</td>\n",
              "        <td>17</td>\n",
              "        <td>25</td>\n",
              "    </tr>\n",
              "    <tr>\n",
              "        <td>Aniseed Syrup</td>\n",
              "        <td>13</td>\n",
              "        <td>25</td>\n",
              "    </tr>\n",
              "    <tr>\n",
              "        <td>Queso Cabrales</td>\n",
              "        <td>22</td>\n",
              "        <td>30</td>\n",
              "    </tr>\n",
              "    <tr>\n",
              "        <td>Sir Rodney's Scones</td>\n",
              "        <td>3</td>\n",
              "        <td>5</td>\n",
              "    </tr>\n",
              "    <tr>\n",
              "        <td>Nord-Ost Matjeshering</td>\n",
              "        <td>10</td>\n",
              "        <td>15</td>\n",
              "    </tr>\n",
              "    <tr>\n",
              "        <td>Gorgonzola Telino</td>\n",
              "        <td>0</td>\n",
              "        <td>20</td>\n",
              "    </tr>\n",
              "    <tr>\n",
              "        <td>Mascarpone Fabioli</td>\n",
              "        <td>9</td>\n",
              "        <td>25</td>\n",
              "    </tr>\n",
              "    <tr>\n",
              "        <td>Gravad lax</td>\n",
              "        <td>11</td>\n",
              "        <td>25</td>\n",
              "    </tr>\n",
              "    <tr>\n",
              "        <td>Ipoh Coffee</td>\n",
              "        <td>17</td>\n",
              "        <td>25</td>\n",
              "    </tr>\n",
              "    <tr>\n",
              "        <td>Rogede sild</td>\n",
              "        <td>5</td>\n",
              "        <td>15</td>\n",
              "    </tr>\n",
              "</table>\n",
              "<span style=\"font-style:italic;text-align:center;\">18 rows, truncated to displaylimit of 10</span><br><span style=\"font-style:italic;text-align:center;\">If you want to see more, please visit <a href=\"https://jupysql.ploomber.io/en/latest/api/configuration.html#displaylimit\">displaylimit</a> configuration</span>"
            ]
          },
          "metadata": {},
          "execution_count": 11
        }
      ]
    },
    {
      "cell_type": "markdown",
      "source": [
        "Exercício 8: Listar todos os funcionários e seus respectivos supervisores."
      ],
      "metadata": {
        "id": "WNNvKJsNFb4I"
      }
    },
    {
      "cell_type": "code",
      "source": [
        "%%sql\n",
        "\n"
      ],
      "metadata": {
        "colab": {
          "base_uri": "https://localhost:8080/",
          "height": 250
        },
        "id": "DTpPEw3_FbSA",
        "outputId": "f22227a6-3dfa-4d73-90a8-2f48dc4e8c25"
      },
      "execution_count": null,
      "outputs": [
        {
          "output_type": "display_data",
          "data": {
            "text/plain": [
              "Running query in 'sqlite:///northwind.sqlite3'"
            ],
            "text/html": [
              "<span style=\"None\">Running query in &#x27;sqlite:///northwind.sqlite3&#x27;</span>"
            ]
          },
          "metadata": {}
        },
        {
          "output_type": "execute_result",
          "data": {
            "text/plain": [
              "+------------+-----------+-----------+--------------------+---------------------+\n",
              "| EmployeeID |  LastName | FirstName | SupervisorLastName | SupervisorFirstName |\n",
              "+------------+-----------+-----------+--------------------+---------------------+\n",
              "|     1      |  Davolio  |   Nancy   |       Fuller       |        Andrew       |\n",
              "|     2      |   Fuller  |   Andrew  |        None        |         None        |\n",
              "|     3      | Leverling |   Janet   |       Fuller       |        Andrew       |\n",
              "|     4      |  Peacock  |  Margaret |       Fuller       |        Andrew       |\n",
              "|     5      |  Buchanan |   Steven  |       Fuller       |        Andrew       |\n",
              "|     6      |   Suyama  |  Michael  |      Buchanan      |        Steven       |\n",
              "|     7      |    King   |   Robert  |      Buchanan      |        Steven       |\n",
              "|     8      |  Callahan |   Laura   |       Fuller       |        Andrew       |\n",
              "|     9      | Dodsworth |    Anne   |      Buchanan      |        Steven       |\n",
              "+------------+-----------+-----------+--------------------+---------------------+"
            ],
            "text/html": [
              "<table>\n",
              "    <tr>\n",
              "        <th>EmployeeID</th>\n",
              "        <th>LastName</th>\n",
              "        <th>FirstName</th>\n",
              "        <th>SupervisorLastName</th>\n",
              "        <th>SupervisorFirstName</th>\n",
              "    </tr>\n",
              "    <tr>\n",
              "        <td>1</td>\n",
              "        <td>Davolio</td>\n",
              "        <td>Nancy</td>\n",
              "        <td>Fuller</td>\n",
              "        <td>Andrew</td>\n",
              "    </tr>\n",
              "    <tr>\n",
              "        <td>2</td>\n",
              "        <td>Fuller</td>\n",
              "        <td>Andrew</td>\n",
              "        <td>None</td>\n",
              "        <td>None</td>\n",
              "    </tr>\n",
              "    <tr>\n",
              "        <td>3</td>\n",
              "        <td>Leverling</td>\n",
              "        <td>Janet</td>\n",
              "        <td>Fuller</td>\n",
              "        <td>Andrew</td>\n",
              "    </tr>\n",
              "    <tr>\n",
              "        <td>4</td>\n",
              "        <td>Peacock</td>\n",
              "        <td>Margaret</td>\n",
              "        <td>Fuller</td>\n",
              "        <td>Andrew</td>\n",
              "    </tr>\n",
              "    <tr>\n",
              "        <td>5</td>\n",
              "        <td>Buchanan</td>\n",
              "        <td>Steven</td>\n",
              "        <td>Fuller</td>\n",
              "        <td>Andrew</td>\n",
              "    </tr>\n",
              "    <tr>\n",
              "        <td>6</td>\n",
              "        <td>Suyama</td>\n",
              "        <td>Michael</td>\n",
              "        <td>Buchanan</td>\n",
              "        <td>Steven</td>\n",
              "    </tr>\n",
              "    <tr>\n",
              "        <td>7</td>\n",
              "        <td>King</td>\n",
              "        <td>Robert</td>\n",
              "        <td>Buchanan</td>\n",
              "        <td>Steven</td>\n",
              "    </tr>\n",
              "    <tr>\n",
              "        <td>8</td>\n",
              "        <td>Callahan</td>\n",
              "        <td>Laura</td>\n",
              "        <td>Fuller</td>\n",
              "        <td>Andrew</td>\n",
              "    </tr>\n",
              "    <tr>\n",
              "        <td>9</td>\n",
              "        <td>Dodsworth</td>\n",
              "        <td>Anne</td>\n",
              "        <td>Buchanan</td>\n",
              "        <td>Steven</td>\n",
              "    </tr>\n",
              "</table>"
            ]
          },
          "metadata": {},
          "execution_count": 12
        }
      ]
    },
    {
      "cell_type": "markdown",
      "source": [
        "Exercício 9: Listar todos os fornecedores e seus respectivos produtos."
      ],
      "metadata": {
        "id": "gUKIouYmFrhQ"
      }
    },
    {
      "cell_type": "code",
      "source": [
        "%%sql\n",
        "\n"
      ],
      "metadata": {
        "colab": {
          "base_uri": "https://localhost:8080/",
          "height": 306
        },
        "id": "hXoE5bE0FqOg",
        "outputId": "daf37751-125e-445a-e56f-3053a866fa6b"
      },
      "execution_count": null,
      "outputs": [
        {
          "output_type": "display_data",
          "data": {
            "text/plain": [
              "Running query in 'sqlite:///northwind.sqlite3'"
            ],
            "text/html": [
              "<span style=\"None\">Running query in &#x27;sqlite:///northwind.sqlite3&#x27;</span>"
            ]
          },
          "metadata": {}
        },
        {
          "output_type": "execute_result",
          "data": {
            "text/plain": [
              "+------------+------------------------------------+-----------+---------------------------+\n",
              "| SupplierID |            CompanyName             | ProductID |        ProductName        |\n",
              "+------------+------------------------------------+-----------+---------------------------+\n",
              "|     18     |     Aux joyeux ecclésiastiques     |     38    |       Côte de Blaye       |\n",
              "|     18     |     Aux joyeux ecclésiastiques     |     39    |      Chartreuse verte     |\n",
              "|     16     |         Bigfoot Breweries          |     34    |       Sasquatch Ale       |\n",
              "|     16     |         Bigfoot Breweries          |     35    |       Steeleye Stout      |\n",
              "|     16     |         Bigfoot Breweries          |     67    | Laughing Lumberjack Lager |\n",
              "|     5      | Cooperativa de Quesos 'Las Cabras' |     11    |       Queso Cabrales      |\n",
              "|     5      | Cooperativa de Quesos 'Las Cabras' |     12    | Queso Manchego La Pastora |\n",
              "|     27     |         Escargots Nouveaux         |     58    |   Escargots de Bourgogne  |\n",
              "|     1      |           Exotic Liquids           |     1     |            Chai           |\n",
              "|     1      |           Exotic Liquids           |     2     |           Chang           |\n",
              "+------------+------------------------------------+-----------+---------------------------+"
            ],
            "text/html": [
              "<table>\n",
              "    <tr>\n",
              "        <th>SupplierID</th>\n",
              "        <th>CompanyName</th>\n",
              "        <th>ProductID</th>\n",
              "        <th>ProductName</th>\n",
              "    </tr>\n",
              "    <tr>\n",
              "        <td>18</td>\n",
              "        <td>Aux joyeux ecclésiastiques</td>\n",
              "        <td>38</td>\n",
              "        <td>Côte de Blaye</td>\n",
              "    </tr>\n",
              "    <tr>\n",
              "        <td>18</td>\n",
              "        <td>Aux joyeux ecclésiastiques</td>\n",
              "        <td>39</td>\n",
              "        <td>Chartreuse verte</td>\n",
              "    </tr>\n",
              "    <tr>\n",
              "        <td>16</td>\n",
              "        <td>Bigfoot Breweries</td>\n",
              "        <td>34</td>\n",
              "        <td>Sasquatch Ale</td>\n",
              "    </tr>\n",
              "    <tr>\n",
              "        <td>16</td>\n",
              "        <td>Bigfoot Breweries</td>\n",
              "        <td>35</td>\n",
              "        <td>Steeleye Stout</td>\n",
              "    </tr>\n",
              "    <tr>\n",
              "        <td>16</td>\n",
              "        <td>Bigfoot Breweries</td>\n",
              "        <td>67</td>\n",
              "        <td>Laughing Lumberjack Lager</td>\n",
              "    </tr>\n",
              "    <tr>\n",
              "        <td>5</td>\n",
              "        <td>Cooperativa de Quesos 'Las Cabras'</td>\n",
              "        <td>11</td>\n",
              "        <td>Queso Cabrales</td>\n",
              "    </tr>\n",
              "    <tr>\n",
              "        <td>5</td>\n",
              "        <td>Cooperativa de Quesos 'Las Cabras'</td>\n",
              "        <td>12</td>\n",
              "        <td>Queso Manchego La Pastora</td>\n",
              "    </tr>\n",
              "    <tr>\n",
              "        <td>27</td>\n",
              "        <td>Escargots Nouveaux</td>\n",
              "        <td>58</td>\n",
              "        <td>Escargots de Bourgogne</td>\n",
              "    </tr>\n",
              "    <tr>\n",
              "        <td>1</td>\n",
              "        <td>Exotic Liquids</td>\n",
              "        <td>1</td>\n",
              "        <td>Chai</td>\n",
              "    </tr>\n",
              "    <tr>\n",
              "        <td>1</td>\n",
              "        <td>Exotic Liquids</td>\n",
              "        <td>2</td>\n",
              "        <td>Chang</td>\n",
              "    </tr>\n",
              "</table>\n",
              "<span style=\"font-style:italic;text-align:center;\">77 rows, truncated to displaylimit of 10</span><br><span style=\"font-style:italic;text-align:center;\">If you want to see more, please visit <a href=\"https://jupysql.ploomber.io/en/latest/api/configuration.html#displaylimit\">displaylimit</a> configuration</span>"
            ]
          },
          "metadata": {},
          "execution_count": 13
        }
      ]
    },
    {
      "cell_type": "markdown",
      "source": [
        "Exercício 10:\n",
        "Listar o total de vendas por cliente.\n"
      ],
      "metadata": {
        "id": "mIbvkpoKHnX4"
      }
    },
    {
      "cell_type": "code",
      "source": [
        "%%sql\n",
        "\n"
      ],
      "metadata": {
        "colab": {
          "base_uri": "https://localhost:8080/",
          "height": 306
        },
        "id": "q-Hyzu-hHm91",
        "outputId": "0ea88874-3c41-4638-ed7b-dce8e0bf7c6a"
      },
      "execution_count": null,
      "outputs": [
        {
          "output_type": "display_data",
          "data": {
            "text/plain": [
              "Running query in 'sqlite:///northwind.sqlite3'"
            ],
            "text/html": [
              "<span style=\"None\">Running query in &#x27;sqlite:///northwind.sqlite3&#x27;</span>"
            ]
          },
          "metadata": {}
        },
        {
          "output_type": "execute_result",
          "data": {
            "text/plain": [
              "+------------+------------------------------------+--------------------+\n",
              "| CustomerID |            CompanyName             |     TotalSales     |\n",
              "+------------+------------------------------------+--------------------+\n",
              "|   ALFKI    |        Alfreds Futterkiste         |       4596.2       |\n",
              "|   ANATR    | Ana Trujillo Emparedados y helados |      1402.95       |\n",
              "|   ANTON    |      Antonio Moreno Taquería       | 7515.349999999999  |\n",
              "|   AROUT    |          Around the Horn           |      13806.5       |\n",
              "|   BERGS    |         Berglunds snabbköp         | 26968.149999999998 |\n",
              "|   BLAUS    |      Blauer See Delikatessen       |       3239.8       |\n",
              "|   BLONP    |      Blondesddsl père et fils      |      19088.0       |\n",
              "|   BOLID    |     Bólido Comidas preparadas      |       5297.8       |\n",
              "|   BONAP    |              Bon app'              |      23850.95      |\n",
              "|   BOTTM    |       Bottom-Dollar Markets        |      22607.7       |\n",
              "+------------+------------------------------------+--------------------+"
            ],
            "text/html": [
              "<table>\n",
              "    <tr>\n",
              "        <th>CustomerID</th>\n",
              "        <th>CompanyName</th>\n",
              "        <th>TotalSales</th>\n",
              "    </tr>\n",
              "    <tr>\n",
              "        <td>ALFKI</td>\n",
              "        <td>Alfreds Futterkiste</td>\n",
              "        <td>4596.2</td>\n",
              "    </tr>\n",
              "    <tr>\n",
              "        <td>ANATR</td>\n",
              "        <td>Ana Trujillo Emparedados y helados</td>\n",
              "        <td>1402.95</td>\n",
              "    </tr>\n",
              "    <tr>\n",
              "        <td>ANTON</td>\n",
              "        <td>Antonio Moreno Taquería</td>\n",
              "        <td>7515.349999999999</td>\n",
              "    </tr>\n",
              "    <tr>\n",
              "        <td>AROUT</td>\n",
              "        <td>Around the Horn</td>\n",
              "        <td>13806.5</td>\n",
              "    </tr>\n",
              "    <tr>\n",
              "        <td>BERGS</td>\n",
              "        <td>Berglunds snabbköp</td>\n",
              "        <td>26968.149999999998</td>\n",
              "    </tr>\n",
              "    <tr>\n",
              "        <td>BLAUS</td>\n",
              "        <td>Blauer See Delikatessen</td>\n",
              "        <td>3239.8</td>\n",
              "    </tr>\n",
              "    <tr>\n",
              "        <td>BLONP</td>\n",
              "        <td>Blondesddsl père et fils</td>\n",
              "        <td>19088.0</td>\n",
              "    </tr>\n",
              "    <tr>\n",
              "        <td>BOLID</td>\n",
              "        <td>Bólido Comidas preparadas</td>\n",
              "        <td>5297.8</td>\n",
              "    </tr>\n",
              "    <tr>\n",
              "        <td>BONAP</td>\n",
              "        <td>Bon app'</td>\n",
              "        <td>23850.95</td>\n",
              "    </tr>\n",
              "    <tr>\n",
              "        <td>BOTTM</td>\n",
              "        <td>Bottom-Dollar Markets</td>\n",
              "        <td>22607.7</td>\n",
              "    </tr>\n",
              "</table>\n",
              "<span style=\"font-style:italic;text-align:center;\">89 rows, truncated to displaylimit of 10</span><br><span style=\"font-style:italic;text-align:center;\">If you want to see more, please visit <a href=\"https://jupysql.ploomber.io/en/latest/api/configuration.html#displaylimit\">displaylimit</a> configuration</span>"
            ]
          },
          "metadata": {},
          "execution_count": 14
        }
      ]
    },
    {
      "cell_type": "code",
      "source": [],
      "metadata": {
        "id": "cRaTjAu3Hp0y"
      },
      "execution_count": null,
      "outputs": []
    }
  ]
}