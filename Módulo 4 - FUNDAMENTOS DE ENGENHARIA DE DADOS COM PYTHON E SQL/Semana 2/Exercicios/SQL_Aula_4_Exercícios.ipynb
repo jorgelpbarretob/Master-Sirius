{
  "cells": [
    {
      "cell_type": "markdown",
      "metadata": {
        "id": "PODHDIZwBzk2"
      },
      "source": [
        "# Setup"
      ]
    },
    {
      "cell_type": "code",
      "execution_count": 1,
      "metadata": {
        "id": "aW3-ZlZ-B2Hq"
      },
      "outputs": [
        {
          "name": "stdout",
          "output_type": "stream",
          "text": [
            "\u001b[33mThere's a new jupysql version available (0.10.4), you're running 0.10.3. To upgrade: pip install jupysql --upgrade\u001b[0m\n"
          ]
        }
      ],
      "source": [
        "%load_ext sql"
      ]
    },
    {
      "cell_type": "code",
      "execution_count": 2,
      "metadata": {},
      "outputs": [],
      "source": [
        "import requests\n",
        "\n",
        "url = \"https://rtvad.blob.core.windows.net/misc-data/northwind.sqlite3\"\n",
        "response = requests.get(url)\n",
        "\n",
        "with open(\"northwind.sqlite3\", \"wb\") as file:\n",
        "    file.write(response.content)"
      ]
    },
    {
      "cell_type": "code",
      "execution_count": 3,
      "metadata": {
        "id": "j_j-5-iNB35o"
      },
      "outputs": [
        {
          "data": {
            "text/html": [
              "<span style=\"None\">Connecting to &#x27;sqlite:///northwind.sqlite3&#x27;</span>"
            ],
            "text/plain": [
              "Connecting to 'sqlite:///northwind.sqlite3'"
            ]
          },
          "metadata": {},
          "output_type": "display_data"
        }
      ],
      "source": [
        "%sql sqlite:///northwind.sqlite3"
      ]
    },
    {
      "cell_type": "markdown",
      "metadata": {
        "id": "Oh4qU0NlB5Yg"
      },
      "source": [
        "# Exercícios"
      ]
    },
    {
      "cell_type": "markdown",
      "metadata": {
        "id": "adiQsHHYB6do"
      },
      "source": [
        "Exercício 1:\n",
        "Listar todos os clientes e seus respectivos pedidos."
      ]
    },
    {
      "cell_type": "code",
      "execution_count": 4,
      "metadata": {
        "colab": {
          "base_uri": "https://localhost:8080/",
          "height": 306
        },
        "id": "OYQc1PQ7B5AR",
        "outputId": "bc91cb99-62cd-42fc-c7b5-791dfee6248a"
      },
      "outputs": [
        {
          "data": {
            "text/html": [
              "<span style=\"None\">Running query in &#x27;sqlite:///northwind.sqlite3&#x27;</span>"
            ],
            "text/plain": [
              "Running query in 'sqlite:///northwind.sqlite3'"
            ]
          },
          "metadata": {},
          "output_type": "display_data"
        },
        {
          "data": {
            "text/html": [
              "<table>\n",
              "    <thead>\n",
              "        <tr>\n",
              "            <th>CustomerID</th>\n",
              "            <th>ContactName</th>\n",
              "            <th>OrderID</th>\n",
              "        </tr>\n",
              "    </thead>\n",
              "    <tbody>\n",
              "        <tr>\n",
              "            <td>ALFKI</td>\n",
              "            <td>Maria Anders</td>\n",
              "            <td>10643</td>\n",
              "        </tr>\n",
              "        <tr>\n",
              "            <td>ALFKI</td>\n",
              "            <td>Maria Anders</td>\n",
              "            <td>10692</td>\n",
              "        </tr>\n",
              "        <tr>\n",
              "            <td>ALFKI</td>\n",
              "            <td>Maria Anders</td>\n",
              "            <td>10702</td>\n",
              "        </tr>\n",
              "        <tr>\n",
              "            <td>ALFKI</td>\n",
              "            <td>Maria Anders</td>\n",
              "            <td>10835</td>\n",
              "        </tr>\n",
              "        <tr>\n",
              "            <td>ALFKI</td>\n",
              "            <td>Maria Anders</td>\n",
              "            <td>10952</td>\n",
              "        </tr>\n",
              "        <tr>\n",
              "            <td>ALFKI</td>\n",
              "            <td>Maria Anders</td>\n",
              "            <td>11011</td>\n",
              "        </tr>\n",
              "        <tr>\n",
              "            <td>ANATR</td>\n",
              "            <td>Ana Trujillo</td>\n",
              "            <td>10308</td>\n",
              "        </tr>\n",
              "        <tr>\n",
              "            <td>ANATR</td>\n",
              "            <td>Ana Trujillo</td>\n",
              "            <td>10625</td>\n",
              "        </tr>\n",
              "        <tr>\n",
              "            <td>ANATR</td>\n",
              "            <td>Ana Trujillo</td>\n",
              "            <td>10759</td>\n",
              "        </tr>\n",
              "        <tr>\n",
              "            <td>ANATR</td>\n",
              "            <td>Ana Trujillo</td>\n",
              "            <td>10926</td>\n",
              "        </tr>\n",
              "    </tbody>\n",
              "</table>\n",
              "<span style=\"font-style:italic;text-align:center;\">Truncated to <a href=\"https://jupysql.ploomber.io/en/latest/api/configuration.html#displaylimit\">displaylimit</a> of 10.</span>"
            ],
            "text/plain": [
              "+------------+--------------+---------+\n",
              "| CustomerID | ContactName  | OrderID |\n",
              "+------------+--------------+---------+\n",
              "|   ALFKI    | Maria Anders |  10643  |\n",
              "|   ALFKI    | Maria Anders |  10692  |\n",
              "|   ALFKI    | Maria Anders |  10702  |\n",
              "|   ALFKI    | Maria Anders |  10835  |\n",
              "|   ALFKI    | Maria Anders |  10952  |\n",
              "|   ALFKI    | Maria Anders |  11011  |\n",
              "|   ANATR    | Ana Trujillo |  10308  |\n",
              "|   ANATR    | Ana Trujillo |  10625  |\n",
              "|   ANATR    | Ana Trujillo |  10759  |\n",
              "|   ANATR    | Ana Trujillo |  10926  |\n",
              "+------------+--------------+---------+\n",
              "Truncated to displaylimit of 10."
            ]
          },
          "execution_count": 4,
          "metadata": {},
          "output_type": "execute_result"
        }
      ],
      "source": [
        "%%sql\n",
        "\n",
        "SELECT Customers.CustomerID, Customers.ContactName, Orders.OrderID\n",
        "FROM Customers\n",
        "LEFT JOIN Orders ON Customers.CustomerID = Orders.CustomerID\n",
        "ORDER BY Customers.CustomerID, Orders.OrderID;"
      ]
    },
    {
      "cell_type": "markdown",
      "metadata": {
        "id": "o4nKqNsVCEUr"
      },
      "source": [
        "Exercício 2:\n",
        "Listar todos os pedidos feitos por um cliente específico."
      ]
    },
    {
      "cell_type": "code",
      "execution_count": 7,
      "metadata": {
        "colab": {
          "base_uri": "https://localhost:8080/",
          "height": 186
        },
        "id": "XnwBdU6JCDW_",
        "outputId": "0603a1a9-4218-4617-f7ac-248c4887d08c"
      },
      "outputs": [
        {
          "data": {
            "text/html": [
              "<span style=\"None\">Running query in &#x27;sqlite:///northwind.sqlite3&#x27;</span>"
            ],
            "text/plain": [
              "Running query in 'sqlite:///northwind.sqlite3'"
            ]
          },
          "metadata": {},
          "output_type": "display_data"
        },
        {
          "data": {
            "text/html": [
              "<table>\n",
              "    <thead>\n",
              "        <tr>\n",
              "            <th>CustomerID</th>\n",
              "            <th>OrderID</th>\n",
              "            <th>OrderDate</th>\n",
              "        </tr>\n",
              "    </thead>\n",
              "    <tbody>\n",
              "        <tr>\n",
              "            <td>VINET</td>\n",
              "            <td>10248</td>\n",
              "            <td>2014-07-04 08:00:00.000</td>\n",
              "        </tr>\n",
              "        <tr>\n",
              "            <td>VINET</td>\n",
              "            <td>10274</td>\n",
              "            <td>2014-08-06 12:00:00.000</td>\n",
              "        </tr>\n",
              "        <tr>\n",
              "            <td>VINET</td>\n",
              "            <td>10295</td>\n",
              "            <td>2014-09-02 08:00:00.000</td>\n",
              "        </tr>\n",
              "        <tr>\n",
              "            <td>VINET</td>\n",
              "            <td>10737</td>\n",
              "            <td>2015-11-11 13:00:00.000</td>\n",
              "        </tr>\n",
              "        <tr>\n",
              "            <td>VINET</td>\n",
              "            <td>10739</td>\n",
              "            <td>2015-11-12 10:00:00.000</td>\n",
              "        </tr>\n",
              "    </tbody>\n",
              "</table>"
            ],
            "text/plain": [
              "+------------+---------+-------------------------+\n",
              "| CustomerID | OrderID |        OrderDate        |\n",
              "+------------+---------+-------------------------+\n",
              "|   VINET    |  10248  | 2014-07-04 08:00:00.000 |\n",
              "|   VINET    |  10274  | 2014-08-06 12:00:00.000 |\n",
              "|   VINET    |  10295  | 2014-09-02 08:00:00.000 |\n",
              "|   VINET    |  10737  | 2015-11-11 13:00:00.000 |\n",
              "|   VINET    |  10739  | 2015-11-12 10:00:00.000 |\n",
              "+------------+---------+-------------------------+"
            ]
          },
          "execution_count": 7,
          "metadata": {},
          "output_type": "execute_result"
        }
      ],
      "source": [
        "%%sql\n",
        "\n",
        "SELECT CustomerID, OrderID, OrderDate\n",
        "FROM Orders\n",
        "WHERE CustomerID = 'VINET'"
      ]
    },
    {
      "cell_type": "markdown",
      "metadata": {
        "id": "JWAIFzRKDfRp"
      },
      "source": [
        "Exercício 3:\n",
        "Listar todos os produtos e seus respectivos fornecedores."
      ]
    },
    {
      "cell_type": "code",
      "execution_count": 10,
      "metadata": {
        "colab": {
          "base_uri": "https://localhost:8080/",
          "height": 306
        },
        "id": "CHRxqwnVCI1l",
        "outputId": "ff0d9f62-bc3c-425d-b594-8596d02b8da4"
      },
      "outputs": [
        {
          "data": {
            "text/html": [
              "<span style=\"None\">Running query in &#x27;sqlite:///northwind.sqlite3&#x27;</span>"
            ],
            "text/plain": [
              "Running query in 'sqlite:///northwind.sqlite3'"
            ]
          },
          "metadata": {},
          "output_type": "display_data"
        },
        {
          "data": {
            "text/html": [
              "<table>\n",
              "    <thead>\n",
              "        <tr>\n",
              "            <th>ProductName</th>\n",
              "            <th>CompanyName</th>\n",
              "        </tr>\n",
              "    </thead>\n",
              "    <tbody>\n",
              "        <tr>\n",
              "            <td>Alice Mutton</td>\n",
              "            <td>Pavlova, Ltd.</td>\n",
              "        </tr>\n",
              "        <tr>\n",
              "            <td>Aniseed Syrup</td>\n",
              "            <td>Exotic Liquids</td>\n",
              "        </tr>\n",
              "        <tr>\n",
              "            <td>Boston Crab Meat</td>\n",
              "            <td>New England Seafood Cannery</td>\n",
              "        </tr>\n",
              "        <tr>\n",
              "            <td>Camembert Pierrot</td>\n",
              "            <td>Gai pâturage</td>\n",
              "        </tr>\n",
              "        <tr>\n",
              "            <td>Carnarvon Tigers</td>\n",
              "            <td>Pavlova, Ltd.</td>\n",
              "        </tr>\n",
              "        <tr>\n",
              "            <td>Chai</td>\n",
              "            <td>Exotic Liquids</td>\n",
              "        </tr>\n",
              "        <tr>\n",
              "            <td>Chang</td>\n",
              "            <td>Exotic Liquids</td>\n",
              "        </tr>\n",
              "        <tr>\n",
              "            <td>Chartreuse verte</td>\n",
              "            <td>Aux joyeux ecclésiastiques</td>\n",
              "        </tr>\n",
              "        <tr>\n",
              "            <td>Chef Anton's Cajun Seasoning</td>\n",
              "            <td>New Orleans Cajun Delights</td>\n",
              "        </tr>\n",
              "        <tr>\n",
              "            <td>Chef Anton's Gumbo Mix</td>\n",
              "            <td>New Orleans Cajun Delights</td>\n",
              "        </tr>\n",
              "    </tbody>\n",
              "</table>\n",
              "<span style=\"font-style:italic;text-align:center;\">Truncated to <a href=\"https://jupysql.ploomber.io/en/latest/api/configuration.html#displaylimit\">displaylimit</a> of 10.</span>"
            ],
            "text/plain": [
              "+------------------------------+-----------------------------+\n",
              "|         ProductName          |         CompanyName         |\n",
              "+------------------------------+-----------------------------+\n",
              "|         Alice Mutton         |        Pavlova, Ltd.        |\n",
              "|        Aniseed Syrup         |        Exotic Liquids       |\n",
              "|       Boston Crab Meat       | New England Seafood Cannery |\n",
              "|      Camembert Pierrot       |         Gai pâturage        |\n",
              "|       Carnarvon Tigers       |        Pavlova, Ltd.        |\n",
              "|             Chai             |        Exotic Liquids       |\n",
              "|            Chang             |        Exotic Liquids       |\n",
              "|       Chartreuse verte       |  Aux joyeux ecclésiastiques |\n",
              "| Chef Anton's Cajun Seasoning |  New Orleans Cajun Delights |\n",
              "|    Chef Anton's Gumbo Mix    |  New Orleans Cajun Delights |\n",
              "+------------------------------+-----------------------------+\n",
              "Truncated to displaylimit of 10."
            ]
          },
          "execution_count": 10,
          "metadata": {},
          "output_type": "execute_result"
        }
      ],
      "source": [
        "%%sql\n",
        "\n",
        "SELECT Products.ProductName, Suppliers.CompanyName\n",
        "FROM Products\n",
        "INNER JOIN Suppliers ON Products.SupplierID = Suppliers.SupplierID\n",
        "ORDER BY Products.ProductName;"
      ]
    },
    {
      "cell_type": "markdown",
      "metadata": {
        "id": "uMBIouXxDjI8"
      },
      "source": [
        "Exercício 4:\n",
        "Listar todos os produtos de uma determinada categoria."
      ]
    },
    {
      "cell_type": "code",
      "execution_count": 12,
      "metadata": {
        "colab": {
          "base_uri": "https://localhost:8080/",
          "height": 306
        },
        "id": "ISSY4CJUDib7",
        "outputId": "6e03c874-ba2a-4fcb-d02e-b7737010270d"
      },
      "outputs": [
        {
          "data": {
            "text/html": [
              "<span style=\"None\">Running query in &#x27;sqlite:///northwind.sqlite3&#x27;</span>"
            ],
            "text/plain": [
              "Running query in 'sqlite:///northwind.sqlite3'"
            ]
          },
          "metadata": {},
          "output_type": "display_data"
        },
        {
          "data": {
            "text/html": [
              "<table>\n",
              "    <thead>\n",
              "        <tr>\n",
              "            <th>ProductName</th>\n",
              "            <th>CategoryName</th>\n",
              "        </tr>\n",
              "    </thead>\n",
              "    <tbody>\n",
              "        <tr>\n",
              "            <td>Ikura</td>\n",
              "            <td>Seafood</td>\n",
              "        </tr>\n",
              "        <tr>\n",
              "            <td>Konbu</td>\n",
              "            <td>Seafood</td>\n",
              "        </tr>\n",
              "        <tr>\n",
              "            <td>Carnarvon Tigers</td>\n",
              "            <td>Seafood</td>\n",
              "        </tr>\n",
              "        <tr>\n",
              "            <td>Nord-Ost Matjeshering</td>\n",
              "            <td>Seafood</td>\n",
              "        </tr>\n",
              "        <tr>\n",
              "            <td>Inlagd Sill</td>\n",
              "            <td>Seafood</td>\n",
              "        </tr>\n",
              "        <tr>\n",
              "            <td>Gravad lax</td>\n",
              "            <td>Seafood</td>\n",
              "        </tr>\n",
              "        <tr>\n",
              "            <td>Boston Crab Meat</td>\n",
              "            <td>Seafood</td>\n",
              "        </tr>\n",
              "        <tr>\n",
              "            <td>Jack's New England Clam Chowder</td>\n",
              "            <td>Seafood</td>\n",
              "        </tr>\n",
              "        <tr>\n",
              "            <td>Rogede sild</td>\n",
              "            <td>Seafood</td>\n",
              "        </tr>\n",
              "        <tr>\n",
              "            <td>Spegesild</td>\n",
              "            <td>Seafood</td>\n",
              "        </tr>\n",
              "    </tbody>\n",
              "</table>\n",
              "<span style=\"font-style:italic;text-align:center;\">Truncated to <a href=\"https://jupysql.ploomber.io/en/latest/api/configuration.html#displaylimit\">displaylimit</a> of 10.</span>"
            ],
            "text/plain": [
              "+---------------------------------+--------------+\n",
              "|           ProductName           | CategoryName |\n",
              "+---------------------------------+--------------+\n",
              "|              Ikura              |   Seafood    |\n",
              "|              Konbu              |   Seafood    |\n",
              "|         Carnarvon Tigers        |   Seafood    |\n",
              "|      Nord-Ost Matjeshering      |   Seafood    |\n",
              "|           Inlagd Sill           |   Seafood    |\n",
              "|            Gravad lax           |   Seafood    |\n",
              "|         Boston Crab Meat        |   Seafood    |\n",
              "| Jack's New England Clam Chowder |   Seafood    |\n",
              "|           Rogede sild           |   Seafood    |\n",
              "|            Spegesild            |   Seafood    |\n",
              "+---------------------------------+--------------+\n",
              "Truncated to displaylimit of 10."
            ]
          },
          "execution_count": 12,
          "metadata": {},
          "output_type": "execute_result"
        }
      ],
      "source": [
        "%%sql\n",
        "\n",
        "SELECT P.ProductName, C.CategoryName\n",
        "FROM Products P\n",
        "INNER JOIN Categories C\n",
        "ON P.CategoryID = C.CategoryID\n",
        "WHERE CategoryName = 'Seafood'"
      ]
    },
    {
      "cell_type": "markdown",
      "metadata": {
        "id": "XPqQFkZ_FFQp"
      },
      "source": [
        "Exercício 5:\n",
        "Listar todos os pedidos entregues por determinada transportadora (explore a tabela para escolher uma transportadora)"
      ]
    },
    {
      "cell_type": "code",
      "execution_count": 14,
      "metadata": {},
      "outputs": [
        {
          "data": {
            "text/html": [
              "<span style=\"None\">Running query in &#x27;sqlite:///northwind.sqlite3&#x27;</span>"
            ],
            "text/plain": [
              "Running query in 'sqlite:///northwind.sqlite3'"
            ]
          },
          "metadata": {},
          "output_type": "display_data"
        },
        {
          "data": {
            "text/html": [
              "<table>\n",
              "    <thead>\n",
              "        <tr>\n",
              "            <th>ShipperID</th>\n",
              "            <th>CompanyName</th>\n",
              "            <th>Phone</th>\n",
              "        </tr>\n",
              "    </thead>\n",
              "    <tbody>\n",
              "        <tr>\n",
              "            <td>1</td>\n",
              "            <td>Speedy Express</td>\n",
              "            <td>(503) 555-9831</td>\n",
              "        </tr>\n",
              "        <tr>\n",
              "            <td>2</td>\n",
              "            <td>United Package</td>\n",
              "            <td>(503) 555-3199</td>\n",
              "        </tr>\n",
              "        <tr>\n",
              "            <td>3</td>\n",
              "            <td>Federal Shipping</td>\n",
              "            <td>(503) 555-9931</td>\n",
              "        </tr>\n",
              "    </tbody>\n",
              "</table>"
            ],
            "text/plain": [
              "+-----------+------------------+----------------+\n",
              "| ShipperID |   CompanyName    |     Phone      |\n",
              "+-----------+------------------+----------------+\n",
              "|     1     |  Speedy Express  | (503) 555-9831 |\n",
              "|     2     |  United Package  | (503) 555-3199 |\n",
              "|     3     | Federal Shipping | (503) 555-9931 |\n",
              "+-----------+------------------+----------------+"
            ]
          },
          "execution_count": 14,
          "metadata": {},
          "output_type": "execute_result"
        }
      ],
      "source": [
        "%%sql\n",
        "\n",
        "SELECT *\n",
        "FROM Shippers"
      ]
    },
    {
      "cell_type": "code",
      "execution_count": 17,
      "metadata": {},
      "outputs": [
        {
          "data": {
            "text/html": [
              "<span style=\"None\">Running query in &#x27;sqlite:///northwind.sqlite3&#x27;</span>"
            ],
            "text/plain": [
              "Running query in 'sqlite:///northwind.sqlite3'"
            ]
          },
          "metadata": {},
          "output_type": "display_data"
        },
        {
          "data": {
            "text/html": [
              "<table>\n",
              "    <thead>\n",
              "        <tr>\n",
              "            <th>OrderID</th>\n",
              "            <th>CustomerID</th>\n",
              "            <th>EmployeeID</th>\n",
              "            <th>OrderDate</th>\n",
              "            <th>RequiredDate</th>\n",
              "            <th>ShippedDate</th>\n",
              "            <th>ShipVia</th>\n",
              "            <th>Freight</th>\n",
              "            <th>ShipName</th>\n",
              "            <th>ShipAddress</th>\n",
              "            <th>ShipCity</th>\n",
              "            <th>ShipRegion</th>\n",
              "            <th>ShipPostalCode</th>\n",
              "            <th>ShipCountry</th>\n",
              "        </tr>\n",
              "    </thead>\n",
              "    <tbody>\n",
              "        <tr>\n",
              "            <td>10248</td>\n",
              "            <td>VINET</td>\n",
              "            <td>5</td>\n",
              "            <td>2014-07-04 08:00:00.000</td>\n",
              "            <td>2014-08-01 00:00:00.000</td>\n",
              "            <td>2014-07-16 00:00:00.000</td>\n",
              "            <td>3</td>\n",
              "            <td>32.38</td>\n",
              "            <td>Vins et alcools Chevalier</td>\n",
              "            <td>59 rue de l'Abbaye</td>\n",
              "            <td>Reims</td>\n",
              "            <td>None</td>\n",
              "            <td>51100</td>\n",
              "            <td>France</td>\n",
              "        </tr>\n",
              "        <tr>\n",
              "            <td>10249</td>\n",
              "            <td>TOMSP</td>\n",
              "            <td>6</td>\n",
              "            <td>2014-07-05 04:00:00.000</td>\n",
              "            <td>2014-08-16 00:00:00.000</td>\n",
              "            <td>2014-07-10 00:00:00.000</td>\n",
              "            <td>1</td>\n",
              "            <td>11.61</td>\n",
              "            <td>Toms Spezialitäten</td>\n",
              "            <td>Luisenstr. 48</td>\n",
              "            <td>Münster</td>\n",
              "            <td>None</td>\n",
              "            <td>44087</td>\n",
              "            <td>Germany</td>\n",
              "        </tr>\n",
              "        <tr>\n",
              "            <td>10250</td>\n",
              "            <td>HANAR</td>\n",
              "            <td>4</td>\n",
              "            <td>2014-07-08 15:00:00.000</td>\n",
              "            <td>2014-08-05 00:00:00.000</td>\n",
              "            <td>2014-07-12 00:00:00.000</td>\n",
              "            <td>2</td>\n",
              "            <td>65.83</td>\n",
              "            <td>Hanari Carnes</td>\n",
              "            <td>Rua do Paço, 67</td>\n",
              "            <td>Rio de Janeiro</td>\n",
              "            <td>RJ</td>\n",
              "            <td>05454-876</td>\n",
              "            <td>Brazil</td>\n",
              "        </tr>\n",
              "        <tr>\n",
              "            <td>10251</td>\n",
              "            <td>VICTE</td>\n",
              "            <td>3</td>\n",
              "            <td>2014-07-08 14:00:00.000</td>\n",
              "            <td>2014-08-05 00:00:00.000</td>\n",
              "            <td>2014-07-15 00:00:00.000</td>\n",
              "            <td>1</td>\n",
              "            <td>41.34</td>\n",
              "            <td>Victuailles en stock</td>\n",
              "            <td>2, rue du Commerce</td>\n",
              "            <td>Lyon</td>\n",
              "            <td>None</td>\n",
              "            <td>69004</td>\n",
              "            <td>France</td>\n",
              "        </tr>\n",
              "        <tr>\n",
              "            <td>10252</td>\n",
              "            <td>SUPRD</td>\n",
              "            <td>4</td>\n",
              "            <td>2014-07-09 01:00:00.000</td>\n",
              "            <td>2014-08-06 00:00:00.000</td>\n",
              "            <td>2014-07-11 00:00:00.000</td>\n",
              "            <td>2</td>\n",
              "            <td>51.3</td>\n",
              "            <td>Suprêmes délices</td>\n",
              "            <td>Boulevard Tirou, 255</td>\n",
              "            <td>Charleroi</td>\n",
              "            <td>None</td>\n",
              "            <td>B-6000</td>\n",
              "            <td>Belgium</td>\n",
              "        </tr>\n",
              "        <tr>\n",
              "            <td>10253</td>\n",
              "            <td>HANAR</td>\n",
              "            <td>3</td>\n",
              "            <td>2014-07-10 08:00:00.000</td>\n",
              "            <td>2014-07-24 00:00:00.000</td>\n",
              "            <td>2014-07-16 00:00:00.000</td>\n",
              "            <td>2</td>\n",
              "            <td>58.17</td>\n",
              "            <td>Hanari Carnes</td>\n",
              "            <td>Rua do Paço, 67</td>\n",
              "            <td>Rio de Janeiro</td>\n",
              "            <td>RJ</td>\n",
              "            <td>05454-876</td>\n",
              "            <td>Brazil</td>\n",
              "        </tr>\n",
              "        <tr>\n",
              "            <td>10254</td>\n",
              "            <td>CHOPS</td>\n",
              "            <td>5</td>\n",
              "            <td>2014-07-11 02:00:00.000</td>\n",
              "            <td>2014-08-08 00:00:00.000</td>\n",
              "            <td>2014-07-23 00:00:00.000</td>\n",
              "            <td>2</td>\n",
              "            <td>22.98</td>\n",
              "            <td>Chop-suey Chinese</td>\n",
              "            <td>Hauptstr. 31</td>\n",
              "            <td>Bern</td>\n",
              "            <td>None</td>\n",
              "            <td>3012</td>\n",
              "            <td>Switzerland</td>\n",
              "        </tr>\n",
              "        <tr>\n",
              "            <td>10255</td>\n",
              "            <td>RICSU</td>\n",
              "            <td>9</td>\n",
              "            <td>2014-07-12 20:00:00.000</td>\n",
              "            <td>2014-08-09 00:00:00.000</td>\n",
              "            <td>2014-07-15 00:00:00.000</td>\n",
              "            <td>3</td>\n",
              "            <td>148.33</td>\n",
              "            <td>Richter Supermarkt</td>\n",
              "            <td>Starenweg 5</td>\n",
              "            <td>Genève</td>\n",
              "            <td>None</td>\n",
              "            <td>1204</td>\n",
              "            <td>Switzerland</td>\n",
              "        </tr>\n",
              "        <tr>\n",
              "            <td>10256</td>\n",
              "            <td>WELLI</td>\n",
              "            <td>3</td>\n",
              "            <td>2014-07-15 22:00:00.000</td>\n",
              "            <td>2014-08-12 00:00:00.000</td>\n",
              "            <td>2014-07-17 00:00:00.000</td>\n",
              "            <td>2</td>\n",
              "            <td>13.97</td>\n",
              "            <td>Wellington Importadora</td>\n",
              "            <td>Rua do Mercado, 12</td>\n",
              "            <td>Resende</td>\n",
              "            <td>SP</td>\n",
              "            <td>08737-363</td>\n",
              "            <td>Brazil</td>\n",
              "        </tr>\n",
              "        <tr>\n",
              "            <td>10257</td>\n",
              "            <td>HILAA</td>\n",
              "            <td>4</td>\n",
              "            <td>2014-07-16 15:00:00.000</td>\n",
              "            <td>2014-08-13 00:00:00.000</td>\n",
              "            <td>2014-07-22 00:00:00.000</td>\n",
              "            <td>3</td>\n",
              "            <td>81.91</td>\n",
              "            <td>HILARION-Abastos</td>\n",
              "            <td>Carrera 22 con Ave. Carlos Soublette #8-35</td>\n",
              "            <td>San Cristóbal</td>\n",
              "            <td>Táchira</td>\n",
              "            <td>5022</td>\n",
              "            <td>Venezuela</td>\n",
              "        </tr>\n",
              "    </tbody>\n",
              "</table>\n",
              "<span style=\"font-style:italic;text-align:center;\">Truncated to <a href=\"https://jupysql.ploomber.io/en/latest/api/configuration.html#displaylimit\">displaylimit</a> of 10.</span>"
            ],
            "text/plain": [
              "+---------+------------+------------+-------------------------+-------------------------+-------------------------+---------+---------+---------------------------+--------------------------------------------+----------------+------------+----------------+-------------+\n",
              "| OrderID | CustomerID | EmployeeID |        OrderDate        |       RequiredDate      |       ShippedDate       | ShipVia | Freight |          ShipName         |                ShipAddress                 |    ShipCity    | ShipRegion | ShipPostalCode | ShipCountry |\n",
              "+---------+------------+------------+-------------------------+-------------------------+-------------------------+---------+---------+---------------------------+--------------------------------------------+----------------+------------+----------------+-------------+\n",
              "|  10248  |   VINET    |     5      | 2014-07-04 08:00:00.000 | 2014-08-01 00:00:00.000 | 2014-07-16 00:00:00.000 |    3    |  32.38  | Vins et alcools Chevalier |             59 rue de l'Abbaye             |     Reims      |    None    |     51100      |    France   |\n",
              "|  10249  |   TOMSP    |     6      | 2014-07-05 04:00:00.000 | 2014-08-16 00:00:00.000 | 2014-07-10 00:00:00.000 |    1    |  11.61  |     Toms Spezialitäten    |               Luisenstr. 48                |    Münster     |    None    |     44087      |   Germany   |\n",
              "|  10250  |   HANAR    |     4      | 2014-07-08 15:00:00.000 | 2014-08-05 00:00:00.000 | 2014-07-12 00:00:00.000 |    2    |  65.83  |       Hanari Carnes       |              Rua do Paço, 67               | Rio de Janeiro |     RJ     |   05454-876    |    Brazil   |\n",
              "|  10251  |   VICTE    |     3      | 2014-07-08 14:00:00.000 | 2014-08-05 00:00:00.000 | 2014-07-15 00:00:00.000 |    1    |  41.34  |    Victuailles en stock   |             2, rue du Commerce             |      Lyon      |    None    |     69004      |    France   |\n",
              "|  10252  |   SUPRD    |     4      | 2014-07-09 01:00:00.000 | 2014-08-06 00:00:00.000 | 2014-07-11 00:00:00.000 |    2    |   51.3  |      Suprêmes délices     |            Boulevard Tirou, 255            |   Charleroi    |    None    |     B-6000     |   Belgium   |\n",
              "|  10253  |   HANAR    |     3      | 2014-07-10 08:00:00.000 | 2014-07-24 00:00:00.000 | 2014-07-16 00:00:00.000 |    2    |  58.17  |       Hanari Carnes       |              Rua do Paço, 67               | Rio de Janeiro |     RJ     |   05454-876    |    Brazil   |\n",
              "|  10254  |   CHOPS    |     5      | 2014-07-11 02:00:00.000 | 2014-08-08 00:00:00.000 | 2014-07-23 00:00:00.000 |    2    |  22.98  |     Chop-suey Chinese     |                Hauptstr. 31                |      Bern      |    None    |      3012      | Switzerland |\n",
              "|  10255  |   RICSU    |     9      | 2014-07-12 20:00:00.000 | 2014-08-09 00:00:00.000 | 2014-07-15 00:00:00.000 |    3    |  148.33 |     Richter Supermarkt    |                Starenweg 5                 |     Genève     |    None    |      1204      | Switzerland |\n",
              "|  10256  |   WELLI    |     3      | 2014-07-15 22:00:00.000 | 2014-08-12 00:00:00.000 | 2014-07-17 00:00:00.000 |    2    |  13.97  |   Wellington Importadora  |             Rua do Mercado, 12             |    Resende     |     SP     |   08737-363    |    Brazil   |\n",
              "|  10257  |   HILAA    |     4      | 2014-07-16 15:00:00.000 | 2014-08-13 00:00:00.000 | 2014-07-22 00:00:00.000 |    3    |  81.91  |      HILARION-Abastos     | Carrera 22 con Ave. Carlos Soublette #8-35 | San Cristóbal  |  Táchira   |      5022      |  Venezuela  |\n",
              "+---------+------------+------------+-------------------------+-------------------------+-------------------------+---------+---------+---------------------------+--------------------------------------------+----------------+------------+----------------+-------------+\n",
              "Truncated to displaylimit of 10."
            ]
          },
          "execution_count": 17,
          "metadata": {},
          "output_type": "execute_result"
        }
      ],
      "source": [
        "%%sql\n",
        "\n",
        "SELECT *\n",
        "FROM Orders"
      ]
    },
    {
      "cell_type": "code",
      "execution_count": 22,
      "metadata": {
        "colab": {
          "base_uri": "https://localhost:8080/",
          "height": 306
        },
        "id": "_4Ei3GMlDly7",
        "outputId": "ee7bcbd7-aefa-43c3-ebdf-6d264b4c38d2"
      },
      "outputs": [
        {
          "data": {
            "text/html": [
              "<span style=\"None\">Running query in &#x27;sqlite:///northwind.sqlite3&#x27;</span>"
            ],
            "text/plain": [
              "Running query in 'sqlite:///northwind.sqlite3'"
            ]
          },
          "metadata": {},
          "output_type": "display_data"
        },
        {
          "data": {
            "text/html": [
              "<table>\n",
              "    <thead>\n",
              "        <tr>\n",
              "            <th>OrderID</th>\n",
              "            <th>OrderDate</th>\n",
              "            <th>CompanyName</th>\n",
              "        </tr>\n",
              "    </thead>\n",
              "    <tbody>\n",
              "        <tr>\n",
              "            <td>10249</td>\n",
              "            <td>2014-07-05 04:00:00.000</td>\n",
              "            <td>Speedy Express</td>\n",
              "        </tr>\n",
              "        <tr>\n",
              "            <td>10251</td>\n",
              "            <td>2014-07-08 14:00:00.000</td>\n",
              "            <td>Speedy Express</td>\n",
              "        </tr>\n",
              "        <tr>\n",
              "            <td>10258</td>\n",
              "            <td>2014-07-17 00:00:00.000</td>\n",
              "            <td>Speedy Express</td>\n",
              "        </tr>\n",
              "        <tr>\n",
              "            <td>10260</td>\n",
              "            <td>2014-07-19 09:00:00.000</td>\n",
              "            <td>Speedy Express</td>\n",
              "        </tr>\n",
              "        <tr>\n",
              "            <td>10265</td>\n",
              "            <td>2014-07-25 21:00:00.000</td>\n",
              "            <td>Speedy Express</td>\n",
              "        </tr>\n",
              "        <tr>\n",
              "            <td>10267</td>\n",
              "            <td>2014-07-29 14:00:00.000</td>\n",
              "            <td>Speedy Express</td>\n",
              "        </tr>\n",
              "        <tr>\n",
              "            <td>10269</td>\n",
              "            <td>2014-07-31 00:00:00.000</td>\n",
              "            <td>Speedy Express</td>\n",
              "        </tr>\n",
              "        <tr>\n",
              "            <td>10270</td>\n",
              "            <td>2014-08-01 19:00:00.000</td>\n",
              "            <td>Speedy Express</td>\n",
              "        </tr>\n",
              "        <tr>\n",
              "            <td>10274</td>\n",
              "            <td>2014-08-06 12:00:00.000</td>\n",
              "            <td>Speedy Express</td>\n",
              "        </tr>\n",
              "        <tr>\n",
              "            <td>10275</td>\n",
              "            <td>2014-08-07 06:00:00.000</td>\n",
              "            <td>Speedy Express</td>\n",
              "        </tr>\n",
              "    </tbody>\n",
              "</table>\n",
              "<span style=\"font-style:italic;text-align:center;\">Truncated to <a href=\"https://jupysql.ploomber.io/en/latest/api/configuration.html#displaylimit\">displaylimit</a> of 10.</span>"
            ],
            "text/plain": [
              "+---------+-------------------------+----------------+\n",
              "| OrderID |        OrderDate        |  CompanyName   |\n",
              "+---------+-------------------------+----------------+\n",
              "|  10249  | 2014-07-05 04:00:00.000 | Speedy Express |\n",
              "|  10251  | 2014-07-08 14:00:00.000 | Speedy Express |\n",
              "|  10258  | 2014-07-17 00:00:00.000 | Speedy Express |\n",
              "|  10260  | 2014-07-19 09:00:00.000 | Speedy Express |\n",
              "|  10265  | 2014-07-25 21:00:00.000 | Speedy Express |\n",
              "|  10267  | 2014-07-29 14:00:00.000 | Speedy Express |\n",
              "|  10269  | 2014-07-31 00:00:00.000 | Speedy Express |\n",
              "|  10270  | 2014-08-01 19:00:00.000 | Speedy Express |\n",
              "|  10274  | 2014-08-06 12:00:00.000 | Speedy Express |\n",
              "|  10275  | 2014-08-07 06:00:00.000 | Speedy Express |\n",
              "+---------+-------------------------+----------------+\n",
              "Truncated to displaylimit of 10."
            ]
          },
          "execution_count": 22,
          "metadata": {},
          "output_type": "execute_result"
        }
      ],
      "source": [
        "%%sql\n",
        "\n",
        "SELECT Orders.OrderID, Orders.OrderDate, Shippers.CompanyName\n",
        "FROM Orders\n",
        "INNER JOIN Shippers ON Orders.ShipVia = Shippers.ShipperID\n",
        "WHERE Shippers.ShipperID = 1"
      ]
    },
    {
      "cell_type": "markdown",
      "metadata": {
        "id": "cdfh9-8LFQbz"
      },
      "source": [
        "Exercício 6: Listar todos os clientes que fizeram um pedido após uma determinada data (explore a tabela para descobrir os períodos e defina uma data)"
      ]
    },
    {
      "cell_type": "code",
      "execution_count": 25,
      "metadata": {
        "colab": {
          "base_uri": "https://localhost:8080/",
          "height": 306
        },
        "id": "SR8MsRYpFHiE",
        "outputId": "9081036b-26a3-4012-eaef-a1128f3c1078"
      },
      "outputs": [
        {
          "data": {
            "text/html": [
              "<span style=\"None\">Running query in &#x27;sqlite:///northwind.sqlite3&#x27;</span>"
            ],
            "text/plain": [
              "Running query in 'sqlite:///northwind.sqlite3'"
            ]
          },
          "metadata": {},
          "output_type": "display_data"
        },
        {
          "data": {
            "text/html": [
              "<table>\n",
              "    <thead>\n",
              "        <tr>\n",
              "            <th>CustomerID</th>\n",
              "            <th>ContactName</th>\n",
              "        </tr>\n",
              "    </thead>\n",
              "    <tbody>\n",
              "        <tr>\n",
              "            <td>RATTC</td>\n",
              "            <td>Paula Wilson</td>\n",
              "        </tr>\n",
              "        <tr>\n",
              "            <td>EASTC</td>\n",
              "            <td>Ann Devon</td>\n",
              "        </tr>\n",
              "        <tr>\n",
              "            <td>ERNSH</td>\n",
              "            <td>Roland Mendel</td>\n",
              "        </tr>\n",
              "        <tr>\n",
              "            <td>MAGAA</td>\n",
              "            <td>Giovanni Rovelli</td>\n",
              "        </tr>\n",
              "        <tr>\n",
              "            <td>LINOD</td>\n",
              "            <td>Felipe Izquierdo</td>\n",
              "        </tr>\n",
              "        <tr>\n",
              "            <td>QUEEN</td>\n",
              "            <td>Lúcia Carvalho</td>\n",
              "        </tr>\n",
              "        <tr>\n",
              "            <td>OTTIK</td>\n",
              "            <td>Henriette Pfalzheim</td>\n",
              "        </tr>\n",
              "        <tr>\n",
              "            <td>FOLIG</td>\n",
              "            <td>Martine Rancé</td>\n",
              "        </tr>\n",
              "        <tr>\n",
              "            <td>OCEAN</td>\n",
              "            <td>Yvonne Moncada</td>\n",
              "        </tr>\n",
              "        <tr>\n",
              "            <td>BOTTM</td>\n",
              "            <td>Elizabeth Lincoln</td>\n",
              "        </tr>\n",
              "    </tbody>\n",
              "</table>\n",
              "<span style=\"font-style:italic;text-align:center;\">Truncated to <a href=\"https://jupysql.ploomber.io/en/latest/api/configuration.html#displaylimit\">displaylimit</a> of 10.</span>"
            ],
            "text/plain": [
              "+------------+---------------------+\n",
              "| CustomerID |     ContactName     |\n",
              "+------------+---------------------+\n",
              "|   RATTC    |     Paula Wilson    |\n",
              "|   EASTC    |      Ann Devon      |\n",
              "|   ERNSH    |    Roland Mendel    |\n",
              "|   MAGAA    |   Giovanni Rovelli  |\n",
              "|   LINOD    |   Felipe Izquierdo  |\n",
              "|   QUEEN    |    Lúcia Carvalho   |\n",
              "|   OTTIK    | Henriette Pfalzheim |\n",
              "|   FOLIG    |    Martine Rancé    |\n",
              "|   OCEAN    |    Yvonne Moncada   |\n",
              "|   BOTTM    |  Elizabeth Lincoln  |\n",
              "+------------+---------------------+\n",
              "Truncated to displaylimit of 10."
            ]
          },
          "execution_count": 25,
          "metadata": {},
          "output_type": "execute_result"
        }
      ],
      "source": [
        "%%sql\n",
        "\n",
        "SELECT DISTINCT Customers.CustomerID, Customers.ContactName\n",
        "FROM Customers\n",
        "INNER JOIN Orders ON Customers.CustomerID = Orders.CustomerID\n",
        "WHERE Orders.OrderDate > '2015-01-01'"
      ]
    },
    {
      "cell_type": "markdown",
      "metadata": {
        "id": "h6o1axVdFWEq"
      },
      "source": [
        "Exercício 7:\n",
        "Listar todos os produtos que estão em estoque e que precisam ser reabastecidos"
      ]
    },
    {
      "cell_type": "code",
      "execution_count": 26,
      "metadata": {
        "colab": {
          "base_uri": "https://localhost:8080/",
          "height": 306
        },
        "id": "6gNa2WRaFSZw",
        "outputId": "9c338e76-259c-4ac7-ef52-4b04cc80ad3c"
      },
      "outputs": [
        {
          "data": {
            "text/html": [
              "<span style=\"None\">Running query in &#x27;sqlite:///northwind.sqlite3&#x27;</span>"
            ],
            "text/plain": [
              "Running query in 'sqlite:///northwind.sqlite3'"
            ]
          },
          "metadata": {},
          "output_type": "display_data"
        },
        {
          "data": {
            "text/html": [
              "<table>\n",
              "    <thead>\n",
              "        <tr>\n",
              "            <th>ProductName</th>\n",
              "            <th>UnitsInStock</th>\n",
              "            <th>ReorderLevel</th>\n",
              "        </tr>\n",
              "    </thead>\n",
              "    <tbody>\n",
              "        <tr>\n",
              "            <td>Chang</td>\n",
              "            <td>17</td>\n",
              "            <td>25</td>\n",
              "        </tr>\n",
              "        <tr>\n",
              "            <td>Aniseed Syrup</td>\n",
              "            <td>13</td>\n",
              "            <td>25</td>\n",
              "        </tr>\n",
              "        <tr>\n",
              "            <td>Queso Cabrales</td>\n",
              "            <td>22</td>\n",
              "            <td>30</td>\n",
              "        </tr>\n",
              "        <tr>\n",
              "            <td>Sir Rodney's Scones</td>\n",
              "            <td>3</td>\n",
              "            <td>5</td>\n",
              "        </tr>\n",
              "        <tr>\n",
              "            <td>Nord-Ost Matjeshering</td>\n",
              "            <td>10</td>\n",
              "            <td>15</td>\n",
              "        </tr>\n",
              "        <tr>\n",
              "            <td>Gorgonzola Telino</td>\n",
              "            <td>0</td>\n",
              "            <td>20</td>\n",
              "        </tr>\n",
              "        <tr>\n",
              "            <td>Mascarpone Fabioli</td>\n",
              "            <td>9</td>\n",
              "            <td>25</td>\n",
              "        </tr>\n",
              "        <tr>\n",
              "            <td>Gravad lax</td>\n",
              "            <td>11</td>\n",
              "            <td>25</td>\n",
              "        </tr>\n",
              "        <tr>\n",
              "            <td>Ipoh Coffee</td>\n",
              "            <td>17</td>\n",
              "            <td>25</td>\n",
              "        </tr>\n",
              "        <tr>\n",
              "            <td>Rogede sild</td>\n",
              "            <td>5</td>\n",
              "            <td>15</td>\n",
              "        </tr>\n",
              "    </tbody>\n",
              "</table>\n",
              "<span style=\"font-style:italic;text-align:center;\">Truncated to <a href=\"https://jupysql.ploomber.io/en/latest/api/configuration.html#displaylimit\">displaylimit</a> of 10.</span>"
            ],
            "text/plain": [
              "+-----------------------+--------------+--------------+\n",
              "|      ProductName      | UnitsInStock | ReorderLevel |\n",
              "+-----------------------+--------------+--------------+\n",
              "|         Chang         |      17      |      25      |\n",
              "|     Aniseed Syrup     |      13      |      25      |\n",
              "|     Queso Cabrales    |      22      |      30      |\n",
              "|  Sir Rodney's Scones  |      3       |      5       |\n",
              "| Nord-Ost Matjeshering |      10      |      15      |\n",
              "|   Gorgonzola Telino   |      0       |      20      |\n",
              "|   Mascarpone Fabioli  |      9       |      25      |\n",
              "|       Gravad lax      |      11      |      25      |\n",
              "|      Ipoh Coffee      |      17      |      25      |\n",
              "|      Rogede sild      |      5       |      15      |\n",
              "+-----------------------+--------------+--------------+\n",
              "Truncated to displaylimit of 10."
            ]
          },
          "execution_count": 26,
          "metadata": {},
          "output_type": "execute_result"
        }
      ],
      "source": [
        "%%sql\n",
        "\n",
        "SELECT ProductName, UnitsInStock, ReorderLevel\n",
        "FROM Products\n",
        "WHERE ReorderLevel > UnitsInStock"
      ]
    },
    {
      "cell_type": "markdown",
      "metadata": {
        "id": "WNNvKJsNFb4I"
      },
      "source": [
        "Exercício 8: Listar todos os funcionários e seus respectivos supervisores."
      ]
    },
    {
      "cell_type": "code",
      "execution_count": 30,
      "metadata": {
        "colab": {
          "base_uri": "https://localhost:8080/",
          "height": 250
        },
        "id": "DTpPEw3_FbSA",
        "outputId": "f22227a6-3dfa-4d73-90a8-2f48dc4e8c25"
      },
      "outputs": [
        {
          "data": {
            "text/html": [
              "<span style=\"None\">Running query in &#x27;sqlite:///northwind.sqlite3&#x27;</span>"
            ],
            "text/plain": [
              "Running query in 'sqlite:///northwind.sqlite3'"
            ]
          },
          "metadata": {},
          "output_type": "display_data"
        },
        {
          "data": {
            "text/html": [
              "<table>\n",
              "    <thead>\n",
              "        <tr>\n",
              "            <th>FuncionarioID</th>\n",
              "            <th>FuncionarioPrimeiroNome</th>\n",
              "            <th>FuncionarioUltimoNome</th>\n",
              "            <th>SupervisorID</th>\n",
              "            <th>SupervisorPrimeiroNome</th>\n",
              "            <th>SupervisorUltimoNome</th>\n",
              "        </tr>\n",
              "    </thead>\n",
              "    <tbody>\n",
              "        <tr>\n",
              "            <td>1</td>\n",
              "            <td>Nancy</td>\n",
              "            <td>Davolio</td>\n",
              "            <td>2</td>\n",
              "            <td>Andrew</td>\n",
              "            <td>Fuller</td>\n",
              "        </tr>\n",
              "        <tr>\n",
              "            <td>2</td>\n",
              "            <td>Andrew</td>\n",
              "            <td>Fuller</td>\n",
              "            <td>None</td>\n",
              "            <td>None</td>\n",
              "            <td>None</td>\n",
              "        </tr>\n",
              "        <tr>\n",
              "            <td>3</td>\n",
              "            <td>Janet</td>\n",
              "            <td>Leverling</td>\n",
              "            <td>2</td>\n",
              "            <td>Andrew</td>\n",
              "            <td>Fuller</td>\n",
              "        </tr>\n",
              "        <tr>\n",
              "            <td>4</td>\n",
              "            <td>Margaret</td>\n",
              "            <td>Peacock</td>\n",
              "            <td>2</td>\n",
              "            <td>Andrew</td>\n",
              "            <td>Fuller</td>\n",
              "        </tr>\n",
              "        <tr>\n",
              "            <td>5</td>\n",
              "            <td>Steven</td>\n",
              "            <td>Buchanan</td>\n",
              "            <td>2</td>\n",
              "            <td>Andrew</td>\n",
              "            <td>Fuller</td>\n",
              "        </tr>\n",
              "        <tr>\n",
              "            <td>6</td>\n",
              "            <td>Michael</td>\n",
              "            <td>Suyama</td>\n",
              "            <td>5</td>\n",
              "            <td>Steven</td>\n",
              "            <td>Buchanan</td>\n",
              "        </tr>\n",
              "        <tr>\n",
              "            <td>7</td>\n",
              "            <td>Robert</td>\n",
              "            <td>King</td>\n",
              "            <td>5</td>\n",
              "            <td>Steven</td>\n",
              "            <td>Buchanan</td>\n",
              "        </tr>\n",
              "        <tr>\n",
              "            <td>8</td>\n",
              "            <td>Laura</td>\n",
              "            <td>Callahan</td>\n",
              "            <td>2</td>\n",
              "            <td>Andrew</td>\n",
              "            <td>Fuller</td>\n",
              "        </tr>\n",
              "        <tr>\n",
              "            <td>9</td>\n",
              "            <td>Anne</td>\n",
              "            <td>Dodsworth</td>\n",
              "            <td>5</td>\n",
              "            <td>Steven</td>\n",
              "            <td>Buchanan</td>\n",
              "        </tr>\n",
              "    </tbody>\n",
              "</table>"
            ],
            "text/plain": [
              "+---------------+-------------------------+-----------------------+--------------+------------------------+----------------------+\n",
              "| FuncionarioID | FuncionarioPrimeiroNome | FuncionarioUltimoNome | SupervisorID | SupervisorPrimeiroNome | SupervisorUltimoNome |\n",
              "+---------------+-------------------------+-----------------------+--------------+------------------------+----------------------+\n",
              "|       1       |          Nancy          |        Davolio        |      2       |         Andrew         |        Fuller        |\n",
              "|       2       |          Andrew         |         Fuller        |     None     |          None          |         None         |\n",
              "|       3       |          Janet          |       Leverling       |      2       |         Andrew         |        Fuller        |\n",
              "|       4       |         Margaret        |        Peacock        |      2       |         Andrew         |        Fuller        |\n",
              "|       5       |          Steven         |        Buchanan       |      2       |         Andrew         |        Fuller        |\n",
              "|       6       |         Michael         |         Suyama        |      5       |         Steven         |       Buchanan       |\n",
              "|       7       |          Robert         |          King         |      5       |         Steven         |       Buchanan       |\n",
              "|       8       |          Laura          |        Callahan       |      2       |         Andrew         |        Fuller        |\n",
              "|       9       |           Anne          |       Dodsworth       |      5       |         Steven         |       Buchanan       |\n",
              "+---------------+-------------------------+-----------------------+--------------+------------------------+----------------------+"
            ]
          },
          "execution_count": 30,
          "metadata": {},
          "output_type": "execute_result"
        }
      ],
      "source": [
        "%%sql\n",
        "\n",
        "SELECT \n",
        "    e1.EmployeeID AS FuncionarioID, \n",
        "    e1.FirstName AS FuncionarioPrimeiroNome,\n",
        "    e1.LastName AS FuncionarioUltimoNome,\n",
        "    e2.EmployeeID AS SupervisorID, \n",
        "    e2.FirstName AS SupervisorPrimeiroNome,\n",
        "    e2.LastName AS SupervisorUltimoNome\n",
        "FROM Employees e1\n",
        "LEFT JOIN Employees e2 ON e1.ReportsTo = e2.EmployeeID\n",
        "ORDER BY FuncionarioID"
      ]
    },
    {
      "cell_type": "markdown",
      "metadata": {
        "id": "gUKIouYmFrhQ"
      },
      "source": [
        "Exercício 9: Listar todos os fornecedores e seus respectivos produtos."
      ]
    },
    {
      "cell_type": "code",
      "execution_count": 33,
      "metadata": {
        "colab": {
          "base_uri": "https://localhost:8080/",
          "height": 306
        },
        "id": "hXoE5bE0FqOg",
        "outputId": "daf37751-125e-445a-e56f-3053a866fa6b"
      },
      "outputs": [
        {
          "data": {
            "text/html": [
              "<span style=\"None\">Running query in &#x27;sqlite:///northwind.sqlite3&#x27;</span>"
            ],
            "text/plain": [
              "Running query in 'sqlite:///northwind.sqlite3'"
            ]
          },
          "metadata": {},
          "output_type": "display_data"
        },
        {
          "data": {
            "text/html": [
              "<table>\n",
              "    <thead>\n",
              "        <tr>\n",
              "            <th>CompanyName</th>\n",
              "            <th>ProductName</th>\n",
              "        </tr>\n",
              "    </thead>\n",
              "    <tbody>\n",
              "        <tr>\n",
              "            <td>Aux joyeux ecclésiastiques</td>\n",
              "            <td>Côte de Blaye</td>\n",
              "        </tr>\n",
              "        <tr>\n",
              "            <td>Aux joyeux ecclésiastiques</td>\n",
              "            <td>Chartreuse verte</td>\n",
              "        </tr>\n",
              "        <tr>\n",
              "            <td>Bigfoot Breweries</td>\n",
              "            <td>Sasquatch Ale</td>\n",
              "        </tr>\n",
              "        <tr>\n",
              "            <td>Bigfoot Breweries</td>\n",
              "            <td>Steeleye Stout</td>\n",
              "        </tr>\n",
              "        <tr>\n",
              "            <td>Bigfoot Breweries</td>\n",
              "            <td>Laughing Lumberjack Lager</td>\n",
              "        </tr>\n",
              "        <tr>\n",
              "            <td>Cooperativa de Quesos 'Las Cabras'</td>\n",
              "            <td>Queso Cabrales</td>\n",
              "        </tr>\n",
              "        <tr>\n",
              "            <td>Cooperativa de Quesos 'Las Cabras'</td>\n",
              "            <td>Queso Manchego La Pastora</td>\n",
              "        </tr>\n",
              "        <tr>\n",
              "            <td>Escargots Nouveaux</td>\n",
              "            <td>Escargots de Bourgogne</td>\n",
              "        </tr>\n",
              "        <tr>\n",
              "            <td>Exotic Liquids</td>\n",
              "            <td>Chai</td>\n",
              "        </tr>\n",
              "        <tr>\n",
              "            <td>Exotic Liquids</td>\n",
              "            <td>Chang</td>\n",
              "        </tr>\n",
              "    </tbody>\n",
              "</table>\n",
              "<span style=\"font-style:italic;text-align:center;\">Truncated to <a href=\"https://jupysql.ploomber.io/en/latest/api/configuration.html#displaylimit\">displaylimit</a> of 10.</span>"
            ],
            "text/plain": [
              "+------------------------------------+---------------------------+\n",
              "|            CompanyName             |        ProductName        |\n",
              "+------------------------------------+---------------------------+\n",
              "|     Aux joyeux ecclésiastiques     |       Côte de Blaye       |\n",
              "|     Aux joyeux ecclésiastiques     |      Chartreuse verte     |\n",
              "|         Bigfoot Breweries          |       Sasquatch Ale       |\n",
              "|         Bigfoot Breweries          |       Steeleye Stout      |\n",
              "|         Bigfoot Breweries          | Laughing Lumberjack Lager |\n",
              "| Cooperativa de Quesos 'Las Cabras' |       Queso Cabrales      |\n",
              "| Cooperativa de Quesos 'Las Cabras' | Queso Manchego La Pastora |\n",
              "|         Escargots Nouveaux         |   Escargots de Bourgogne  |\n",
              "|           Exotic Liquids           |            Chai           |\n",
              "|           Exotic Liquids           |           Chang           |\n",
              "+------------------------------------+---------------------------+\n",
              "Truncated to displaylimit of 10."
            ]
          },
          "execution_count": 33,
          "metadata": {},
          "output_type": "execute_result"
        }
      ],
      "source": [
        "%%sql\n",
        "\n",
        "SELECT Suppliers.CompanyName, Products.ProductName\n",
        "FROM Suppliers\n",
        "LEFT JOIN Products ON Suppliers.SupplierID = Products.SupplierID"
      ]
    },
    {
      "cell_type": "markdown",
      "metadata": {
        "id": "mIbvkpoKHnX4"
      },
      "source": [
        "Exercício 10:\n",
        "Listar o total de vendas por cliente.\n"
      ]
    },
    {
      "cell_type": "code",
      "execution_count": 37,
      "metadata": {
        "colab": {
          "base_uri": "https://localhost:8080/",
          "height": 306
        },
        "id": "q-Hyzu-hHm91",
        "outputId": "0ea88874-3c41-4638-ed7b-dce8e0bf7c6a"
      },
      "outputs": [
        {
          "data": {
            "text/html": [
              "<span style=\"None\">Running query in &#x27;sqlite:///northwind.sqlite3&#x27;</span>"
            ],
            "text/plain": [
              "Running query in 'sqlite:///northwind.sqlite3'"
            ]
          },
          "metadata": {},
          "output_type": "display_data"
        },
        {
          "data": {
            "text/html": [
              "<table>\n",
              "    <thead>\n",
              "        <tr>\n",
              "            <th>CustomerID</th>\n",
              "            <th>CompanyName</th>\n",
              "            <th>TotalVendas</th>\n",
              "        </tr>\n",
              "    </thead>\n",
              "    <tbody>\n",
              "        <tr>\n",
              "            <td>QUICK</td>\n",
              "            <td>QUICK-Stop</td>\n",
              "            <td>117483.39000000001</td>\n",
              "        </tr>\n",
              "        <tr>\n",
              "            <td>SAVEA</td>\n",
              "            <td>Save-a-lot Markets</td>\n",
              "            <td>115673.39</td>\n",
              "        </tr>\n",
              "        <tr>\n",
              "            <td>ERNSH</td>\n",
              "            <td>Ernst Handel</td>\n",
              "            <td>113601.88</td>\n",
              "        </tr>\n",
              "        <tr>\n",
              "            <td>HUNGO</td>\n",
              "            <td>Hungry Owl All-Night Grocers</td>\n",
              "            <td>57317.39</td>\n",
              "        </tr>\n",
              "        <tr>\n",
              "            <td>RATTC</td>\n",
              "            <td>Rattlesnake Canyon Grocery</td>\n",
              "            <td>52245.9</td>\n",
              "        </tr>\n",
              "        <tr>\n",
              "            <td>HANAR</td>\n",
              "            <td>Hanari Carnes</td>\n",
              "            <td>34101.15</td>\n",
              "        </tr>\n",
              "        <tr>\n",
              "            <td>FOLKO</td>\n",
              "            <td>Folk och fä HB</td>\n",
              "            <td>32555.55</td>\n",
              "        </tr>\n",
              "        <tr>\n",
              "            <td>MEREP</td>\n",
              "            <td>Mère Paillarde</td>\n",
              "            <td>32203.9</td>\n",
              "        </tr>\n",
              "        <tr>\n",
              "            <td>KOENE</td>\n",
              "            <td>Königlich Essen</td>\n",
              "            <td>31745.75</td>\n",
              "        </tr>\n",
              "        <tr>\n",
              "            <td>QUEEN</td>\n",
              "            <td>Queen Cozinha</td>\n",
              "            <td>30226.099999999995</td>\n",
              "        </tr>\n",
              "    </tbody>\n",
              "</table>\n",
              "<span style=\"font-style:italic;text-align:center;\">Truncated to <a href=\"https://jupysql.ploomber.io/en/latest/api/configuration.html#displaylimit\">displaylimit</a> of 10.</span>"
            ],
            "text/plain": [
              "+------------+------------------------------+--------------------+\n",
              "| CustomerID |         CompanyName          |    TotalVendas     |\n",
              "+------------+------------------------------+--------------------+\n",
              "|   QUICK    |          QUICK-Stop          | 117483.39000000001 |\n",
              "|   SAVEA    |      Save-a-lot Markets      |     115673.39      |\n",
              "|   ERNSH    |         Ernst Handel         |     113601.88      |\n",
              "|   HUNGO    | Hungry Owl All-Night Grocers |      57317.39      |\n",
              "|   RATTC    |  Rattlesnake Canyon Grocery  |      52245.9       |\n",
              "|   HANAR    |        Hanari Carnes         |      34101.15      |\n",
              "|   FOLKO    |        Folk och fä HB        |      32555.55      |\n",
              "|   MEREP    |        Mère Paillarde        |      32203.9       |\n",
              "|   KOENE    |       Königlich Essen        |      31745.75      |\n",
              "|   QUEEN    |        Queen Cozinha         | 30226.099999999995 |\n",
              "+------------+------------------------------+--------------------+\n",
              "Truncated to displaylimit of 10."
            ]
          },
          "execution_count": 37,
          "metadata": {},
          "output_type": "execute_result"
        }
      ],
      "source": [
        "%%sql\n",
        "\n",
        "SELECT C.CustomerID, C.CompanyName, SUM(OD.Quantity * OD.UnitPrice) AS TotalVendas\n",
        "FROM Customers C\n",
        "LEFT JOIN Orders O ON C.CustomerID = O.CustomerID\n",
        "LEFT JOIN OrderDetails OD ON O.OrderID = OD.OrderID\n",
        "GROUP BY C.CustomerID, C.ContactName\n",
        "ORDER BY TotalVendas DESC"
      ]
    }
  ],
  "metadata": {
    "colab": {
      "provenance": []
    },
    "kernelspec": {
      "display_name": "Python 3",
      "name": "python3"
    },
    "language_info": {
      "codemirror_mode": {
        "name": "ipython",
        "version": 3
      },
      "file_extension": ".py",
      "mimetype": "text/x-python",
      "name": "python",
      "nbconvert_exporter": "python",
      "pygments_lexer": "ipython3",
      "version": "3.9.18"
    }
  },
  "nbformat": 4,
  "nbformat_minor": 0
}
