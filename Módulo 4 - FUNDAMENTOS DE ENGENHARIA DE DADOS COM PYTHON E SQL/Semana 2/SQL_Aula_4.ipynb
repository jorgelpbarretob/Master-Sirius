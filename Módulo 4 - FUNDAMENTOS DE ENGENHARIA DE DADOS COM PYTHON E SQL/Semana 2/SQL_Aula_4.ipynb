{
  "cells": [
    {
      "cell_type": "code",
      "execution_count": 1,
      "metadata": {
        "id": "2cQPuhGyEJbf"
      },
      "outputs": [],
      "source": [
        "%load_ext sql"
      ]
    },
    {
      "cell_type": "code",
      "execution_count": null,
      "metadata": {
        "id": "zq_KDR-J-Icn"
      },
      "outputs": [],
      "source": [
        "!wget https://rtvad.blob.core.windows.net/misc-data/northwind.sqlite3"
      ]
    },
    {
      "cell_type": "code",
      "execution_count": 2,
      "metadata": {
        "id": "MRHTlrAR-LNf"
      },
      "outputs": [
        {
          "data": {
            "text/html": [
              "<span style=\"None\">Connecting to &#x27;sqlite:///northwind.sqlite3&#x27;</span>"
            ],
            "text/plain": [
              "Connecting to 'sqlite:///northwind.sqlite3'"
            ]
          },
          "metadata": {},
          "output_type": "display_data"
        }
      ],
      "source": [
        "%sql sqlite:///northwind.sqlite3"
      ]
    },
    {
      "cell_type": "markdown",
      "metadata": {
        "id": "nKM4ntv8yM_i"
      },
      "source": [
        "## Unions e Joins\n",
        "\n",
        "Unions e joins são ferramentas poderosas para combinar dados de várias tabelas em uma consulta de banco de dados. Vamos explorar mais os conceitos de uniões e junções e fornecer exemplos para cada um.\n"
      ]
    },
    {
      "cell_type": "markdown",
      "metadata": {
        "id": "2N3zBTJwzJ_u"
      },
      "source": [
        "### Unions\n",
        "\n",
        "O operador `UNION` nos permite combinar os resultados de várias instruções `SELECT` em um único resultado. Ele combina linhas de diferentes tabelas e remove duplicatas. Aqui está um exemplo:\n",
        "\n",
        "```\n",
        "SELECT name\n",
        "FROM customers\n",
        "UNION\n",
        "SELECT name\n",
        "FROM suppliers;\n",
        "```\n",
        "\n",
        "Neste exemplo, a consulta recupera os nomes dos clientes da tabela `customers` e os combina com os nomes dos fornecedores da tabela `suppliers`. O conjunto de dados resultante incluirá uma única lista de nomes, eliminando quaisquer entradas duplicadas.\n",
        "\n",
        "\n"
      ]
    },
    {
      "cell_type": "code",
      "execution_count": 3,
      "metadata": {
        "id": "QjrxxsGZyRGW"
      },
      "outputs": [
        {
          "data": {
            "text/html": [
              "<span style=\"None\">Running query in &#x27;sqlite:///northwind.sqlite3&#x27;</span>"
            ],
            "text/plain": [
              "Running query in 'sqlite:///northwind.sqlite3'"
            ]
          },
          "metadata": {},
          "output_type": "display_data"
        },
        {
          "data": {
            "text/html": [
              "<table>\n",
              "    <thead>\n",
              "        <tr>\n",
              "            <th>ContactName</th>\n",
              "        </tr>\n",
              "    </thead>\n",
              "    <tbody>\n",
              "        <tr>\n",
              "            <td>Alejandra Camino</td>\n",
              "        </tr>\n",
              "        <tr>\n",
              "            <td>Alexander Feuer</td>\n",
              "        </tr>\n",
              "        <tr>\n",
              "            <td>Ana Trujillo</td>\n",
              "        </tr>\n",
              "        <tr>\n",
              "            <td>Anabela Domingues</td>\n",
              "        </tr>\n",
              "        <tr>\n",
              "            <td>André Fonseca</td>\n",
              "        </tr>\n",
              "        <tr>\n",
              "            <td>Ann Devon</td>\n",
              "        </tr>\n",
              "        <tr>\n",
              "            <td>Annette Roulet</td>\n",
              "        </tr>\n",
              "        <tr>\n",
              "            <td>Antonio Moreno</td>\n",
              "        </tr>\n",
              "        <tr>\n",
              "            <td>Aria Cruz</td>\n",
              "        </tr>\n",
              "        <tr>\n",
              "            <td>Art Braunschweiger</td>\n",
              "        </tr>\n",
              "    </tbody>\n",
              "</table>\n",
              "<span style=\"font-style:italic;text-align:center;\">Truncated to <a href=\"https://jupysql.ploomber.io/en/latest/api/configuration.html#displaylimit\">displaylimit</a> of 10.</span>"
            ],
            "text/plain": [
              "+--------------------+\n",
              "|    ContactName     |\n",
              "+--------------------+\n",
              "|  Alejandra Camino  |\n",
              "|  Alexander Feuer   |\n",
              "|    Ana Trujillo    |\n",
              "| Anabela Domingues  |\n",
              "|   André Fonseca    |\n",
              "|     Ann Devon      |\n",
              "|   Annette Roulet   |\n",
              "|   Antonio Moreno   |\n",
              "|     Aria Cruz      |\n",
              "| Art Braunschweiger |\n",
              "+--------------------+\n",
              "Truncated to displaylimit of 10."
            ]
          },
          "execution_count": 3,
          "metadata": {},
          "output_type": "execute_result"
        }
      ],
      "source": [
        "%%sql\n",
        "\n",
        "select ContactName from Customers\n",
        "order by ContactName asc"
      ]
    },
    {
      "cell_type": "code",
      "execution_count": 4,
      "metadata": {
        "id": "7vZ4PreyyljH"
      },
      "outputs": [
        {
          "data": {
            "text/html": [
              "<span style=\"None\">Running query in &#x27;sqlite:///northwind.sqlite3&#x27;</span>"
            ],
            "text/plain": [
              "Running query in 'sqlite:///northwind.sqlite3'"
            ]
          },
          "metadata": {},
          "output_type": "display_data"
        },
        {
          "data": {
            "text/html": [
              "<table>\n",
              "    <thead>\n",
              "        <tr>\n",
              "            <th>NomeCompleto</th>\n",
              "        </tr>\n",
              "    </thead>\n",
              "    <tbody>\n",
              "        <tr>\n",
              "            <td>Andrew Fuller</td>\n",
              "        </tr>\n",
              "        <tr>\n",
              "            <td>Anne Dodsworth</td>\n",
              "        </tr>\n",
              "        <tr>\n",
              "            <td>Janet Leverling</td>\n",
              "        </tr>\n",
              "        <tr>\n",
              "            <td>Laura Callahan</td>\n",
              "        </tr>\n",
              "        <tr>\n",
              "            <td>Margaret Peacock</td>\n",
              "        </tr>\n",
              "        <tr>\n",
              "            <td>Michael Suyama</td>\n",
              "        </tr>\n",
              "        <tr>\n",
              "            <td>Nancy Davolio</td>\n",
              "        </tr>\n",
              "        <tr>\n",
              "            <td>Robert King</td>\n",
              "        </tr>\n",
              "        <tr>\n",
              "            <td>Steven Buchanan</td>\n",
              "        </tr>\n",
              "    </tbody>\n",
              "</table>"
            ],
            "text/plain": [
              "+------------------+\n",
              "|   NomeCompleto   |\n",
              "+------------------+\n",
              "|  Andrew Fuller   |\n",
              "|  Anne Dodsworth  |\n",
              "| Janet Leverling  |\n",
              "|  Laura Callahan  |\n",
              "| Margaret Peacock |\n",
              "|  Michael Suyama  |\n",
              "|  Nancy Davolio   |\n",
              "|   Robert King    |\n",
              "| Steven Buchanan  |\n",
              "+------------------+"
            ]
          },
          "execution_count": 4,
          "metadata": {},
          "output_type": "execute_result"
        }
      ],
      "source": [
        "%%sql\n",
        "\n",
        "select FirstName || ' ' || LastName as NomeCompleto  from Employees\n",
        "order by NomeCompleto"
      ]
    },
    {
      "cell_type": "code",
      "execution_count": 5,
      "metadata": {
        "id": "mW5pVoatzABe"
      },
      "outputs": [
        {
          "data": {
            "text/html": [
              "<span style=\"None\">Running query in &#x27;sqlite:///northwind.sqlite3&#x27;</span>"
            ],
            "text/plain": [
              "Running query in 'sqlite:///northwind.sqlite3'"
            ]
          },
          "metadata": {},
          "output_type": "display_data"
        },
        {
          "data": {
            "text/html": [
              "<table>\n",
              "    <thead>\n",
              "        <tr>\n",
              "            <th>Name</th>\n",
              "        </tr>\n",
              "    </thead>\n",
              "    <tbody>\n",
              "        <tr>\n",
              "            <td>Alejandra Camino</td>\n",
              "        </tr>\n",
              "        <tr>\n",
              "            <td>Alexander Feuer</td>\n",
              "        </tr>\n",
              "        <tr>\n",
              "            <td>Ana Trujillo</td>\n",
              "        </tr>\n",
              "        <tr>\n",
              "            <td>Anabela Domingues</td>\n",
              "        </tr>\n",
              "        <tr>\n",
              "            <td>Andrew Fuller</td>\n",
              "        </tr>\n",
              "        <tr>\n",
              "            <td>André Fonseca</td>\n",
              "        </tr>\n",
              "        <tr>\n",
              "            <td>Ann Devon</td>\n",
              "        </tr>\n",
              "        <tr>\n",
              "            <td>Anne Dodsworth</td>\n",
              "        </tr>\n",
              "        <tr>\n",
              "            <td>Annette Roulet</td>\n",
              "        </tr>\n",
              "        <tr>\n",
              "            <td>Antonio Moreno</td>\n",
              "        </tr>\n",
              "    </tbody>\n",
              "</table>\n",
              "<span style=\"font-style:italic;text-align:center;\">Truncated to <a href=\"https://jupysql.ploomber.io/en/latest/api/configuration.html#displaylimit\">displaylimit</a> of 10.</span>"
            ],
            "text/plain": [
              "+-------------------+\n",
              "|        Name       |\n",
              "+-------------------+\n",
              "|  Alejandra Camino |\n",
              "|  Alexander Feuer  |\n",
              "|    Ana Trujillo   |\n",
              "| Anabela Domingues |\n",
              "|   Andrew Fuller   |\n",
              "|   André Fonseca   |\n",
              "|     Ann Devon     |\n",
              "|   Anne Dodsworth  |\n",
              "|   Annette Roulet  |\n",
              "|   Antonio Moreno  |\n",
              "+-------------------+\n",
              "Truncated to displaylimit of 10."
            ]
          },
          "execution_count": 5,
          "metadata": {},
          "output_type": "execute_result"
        }
      ],
      "source": [
        "%%sql\n",
        "\n",
        "select ContactName as Name from Customers\n",
        "union\n",
        "select FirstName || ' ' || LastName as Name from Employees\n",
        "order by Name"
      ]
    },
    {
      "cell_type": "markdown",
      "metadata": {
        "id": "Ky0lIfyPzLja"
      },
      "source": [
        "### Joins\n",
        "\n",
        "Os joins mesclam linhas de duas ou mais tabelas com base em uma coluna relacionada. Existem diferentes tipos de junções disponíveis para atender a vários requisitos. Vamos explorar alguns:\n"
      ]
    },
    {
      "cell_type": "code",
      "execution_count": 7,
      "metadata": {
        "id": "Ce5BHKmNzwrm"
      },
      "outputs": [
        {
          "data": {
            "text/html": [
              "<span style=\"None\">Running query in &#x27;sqlite:///northwind.sqlite3&#x27;</span>"
            ],
            "text/plain": [
              "Running query in 'sqlite:///northwind.sqlite3'"
            ]
          },
          "metadata": {},
          "output_type": "display_data"
        },
        {
          "data": {
            "text/html": [
              "<table>\n",
              "    <thead>\n",
              "        <tr>\n",
              "            <th>ProductID</th>\n",
              "            <th>ProductName</th>\n",
              "            <th>SupplierID</th>\n",
              "            <th>CategoryID</th>\n",
              "            <th>QuantityPerUnit</th>\n",
              "            <th>UnitPrice</th>\n",
              "            <th>UnitsInStock</th>\n",
              "            <th>UnitsOnOrder</th>\n",
              "            <th>ReorderLevel</th>\n",
              "            <th>Discontinued</th>\n",
              "        </tr>\n",
              "    </thead>\n",
              "    <tbody>\n",
              "        <tr>\n",
              "            <td>1</td>\n",
              "            <td>Chai</td>\n",
              "            <td>1</td>\n",
              "            <td>1</td>\n",
              "            <td>10 boxes x 20 bags</td>\n",
              "            <td>18</td>\n",
              "            <td>39</td>\n",
              "            <td>0</td>\n",
              "            <td>10</td>\n",
              "            <td>0</td>\n",
              "        </tr>\n",
              "        <tr>\n",
              "            <td>2</td>\n",
              "            <td>Chang</td>\n",
              "            <td>1</td>\n",
              "            <td>1</td>\n",
              "            <td>24 - 12 oz bottles</td>\n",
              "            <td>19</td>\n",
              "            <td>17</td>\n",
              "            <td>40</td>\n",
              "            <td>25</td>\n",
              "            <td>0</td>\n",
              "        </tr>\n",
              "        <tr>\n",
              "            <td>3</td>\n",
              "            <td>Aniseed Syrup</td>\n",
              "            <td>1</td>\n",
              "            <td>2</td>\n",
              "            <td>12 - 550 ml bottles</td>\n",
              "            <td>10</td>\n",
              "            <td>13</td>\n",
              "            <td>70</td>\n",
              "            <td>25</td>\n",
              "            <td>0</td>\n",
              "        </tr>\n",
              "        <tr>\n",
              "            <td>4</td>\n",
              "            <td>Chef Anton's Cajun Seasoning</td>\n",
              "            <td>2</td>\n",
              "            <td>2</td>\n",
              "            <td>48 - 6 oz jars</td>\n",
              "            <td>22</td>\n",
              "            <td>53</td>\n",
              "            <td>0</td>\n",
              "            <td>0</td>\n",
              "            <td>0</td>\n",
              "        </tr>\n",
              "        <tr>\n",
              "            <td>5</td>\n",
              "            <td>Chef Anton's Gumbo Mix</td>\n",
              "            <td>2</td>\n",
              "            <td>2</td>\n",
              "            <td>36 boxes</td>\n",
              "            <td>21.35</td>\n",
              "            <td>0</td>\n",
              "            <td>0</td>\n",
              "            <td>0</td>\n",
              "            <td>1</td>\n",
              "        </tr>\n",
              "        <tr>\n",
              "            <td>6</td>\n",
              "            <td>Grandma's Boysenberry Spread</td>\n",
              "            <td>3</td>\n",
              "            <td>2</td>\n",
              "            <td>12 - 8 oz jars</td>\n",
              "            <td>25</td>\n",
              "            <td>120</td>\n",
              "            <td>0</td>\n",
              "            <td>25</td>\n",
              "            <td>0</td>\n",
              "        </tr>\n",
              "        <tr>\n",
              "            <td>7</td>\n",
              "            <td>Uncle Bob's Organic Dried Pears</td>\n",
              "            <td>3</td>\n",
              "            <td>7</td>\n",
              "            <td>12 - 1 lb pkgs.</td>\n",
              "            <td>30</td>\n",
              "            <td>15</td>\n",
              "            <td>0</td>\n",
              "            <td>10</td>\n",
              "            <td>0</td>\n",
              "        </tr>\n",
              "        <tr>\n",
              "            <td>8</td>\n",
              "            <td>Northwoods Cranberry Sauce</td>\n",
              "            <td>3</td>\n",
              "            <td>2</td>\n",
              "            <td>12 - 12 oz jars</td>\n",
              "            <td>40</td>\n",
              "            <td>6</td>\n",
              "            <td>0</td>\n",
              "            <td>0</td>\n",
              "            <td>0</td>\n",
              "        </tr>\n",
              "        <tr>\n",
              "            <td>9</td>\n",
              "            <td>Mishi Kobe Niku</td>\n",
              "            <td>4</td>\n",
              "            <td>6</td>\n",
              "            <td>18 - 500 g pkgs.</td>\n",
              "            <td>97</td>\n",
              "            <td>29</td>\n",
              "            <td>0</td>\n",
              "            <td>0</td>\n",
              "            <td>1</td>\n",
              "        </tr>\n",
              "        <tr>\n",
              "            <td>10</td>\n",
              "            <td>Ikura</td>\n",
              "            <td>4</td>\n",
              "            <td>8</td>\n",
              "            <td>12 - 200 ml jars</td>\n",
              "            <td>31</td>\n",
              "            <td>31</td>\n",
              "            <td>0</td>\n",
              "            <td>0</td>\n",
              "            <td>0</td>\n",
              "        </tr>\n",
              "    </tbody>\n",
              "</table>\n",
              "<span style=\"font-style:italic;text-align:center;\">Truncated to <a href=\"https://jupysql.ploomber.io/en/latest/api/configuration.html#displaylimit\">displaylimit</a> of 10.</span>"
            ],
            "text/plain": [
              "+-----------+---------------------------------+------------+------------+---------------------+-----------+--------------+--------------+--------------+--------------+\n",
              "| ProductID |           ProductName           | SupplierID | CategoryID |   QuantityPerUnit   | UnitPrice | UnitsInStock | UnitsOnOrder | ReorderLevel | Discontinued |\n",
              "+-----------+---------------------------------+------------+------------+---------------------+-----------+--------------+--------------+--------------+--------------+\n",
              "|     1     |               Chai              |     1      |     1      |  10 boxes x 20 bags |     18    |      39      |      0       |      10      |      0       |\n",
              "|     2     |              Chang              |     1      |     1      |  24 - 12 oz bottles |     19    |      17      |      40      |      25      |      0       |\n",
              "|     3     |          Aniseed Syrup          |     1      |     2      | 12 - 550 ml bottles |     10    |      13      |      70      |      25      |      0       |\n",
              "|     4     |   Chef Anton's Cajun Seasoning  |     2      |     2      |    48 - 6 oz jars   |     22    |      53      |      0       |      0       |      0       |\n",
              "|     5     |      Chef Anton's Gumbo Mix     |     2      |     2      |       36 boxes      |   21.35   |      0       |      0       |      0       |      1       |\n",
              "|     6     |   Grandma's Boysenberry Spread  |     3      |     2      |    12 - 8 oz jars   |     25    |     120      |      0       |      25      |      0       |\n",
              "|     7     | Uncle Bob's Organic Dried Pears |     3      |     7      |   12 - 1 lb pkgs.   |     30    |      15      |      0       |      10      |      0       |\n",
              "|     8     |    Northwoods Cranberry Sauce   |     3      |     2      |   12 - 12 oz jars   |     40    |      6       |      0       |      0       |      0       |\n",
              "|     9     |         Mishi Kobe Niku         |     4      |     6      |   18 - 500 g pkgs.  |     97    |      29      |      0       |      0       |      1       |\n",
              "|     10    |              Ikura              |     4      |     8      |   12 - 200 ml jars  |     31    |      31      |      0       |      0       |      0       |\n",
              "+-----------+---------------------------------+------------+------------+---------------------+-----------+--------------+--------------+--------------+--------------+\n",
              "Truncated to displaylimit of 10."
            ]
          },
          "execution_count": 7,
          "metadata": {},
          "output_type": "execute_result"
        }
      ],
      "source": [
        "%%sql\n",
        "\n",
        "select * from Products"
      ]
    },
    {
      "cell_type": "markdown",
      "metadata": {
        "id": "fIo7HvEw0RYu"
      },
      "source": [
        "#### Inner Join\n",
        "\n",
        "**INNER JOIN**: Recupera linhas onde os valores nas colunas relacionadas existem em ambas as tabelas.\n",
        "\n",
        "```\n",
        "SELECT orders.order_id, customers.name\n",
        "FROM orders\n",
        "INNER JOIN customers\n",
        "    ON orders.customer_id = customers.customer_id;\n",
        "```\n",
        "\n",
        "Neste exemplo, a consulta combina as tabelas `orders` e `customers` com base nos valores `customer_id` correspondentes. O resultado incluirá as colunas `order_id` e `name` para clientes que fizeram pedidos.\n"
      ]
    },
    {
      "cell_type": "code",
      "execution_count": 8,
      "metadata": {
        "id": "o2gJ3kyPzNN0"
      },
      "outputs": [
        {
          "data": {
            "text/html": [
              "<span style=\"None\">Running query in &#x27;sqlite:///northwind.sqlite3&#x27;</span>"
            ],
            "text/plain": [
              "Running query in 'sqlite:///northwind.sqlite3'"
            ]
          },
          "metadata": {},
          "output_type": "display_data"
        },
        {
          "data": {
            "text/html": [
              "<table>\n",
              "    <thead>\n",
              "        <tr>\n",
              "            <th>count(*)</th>\n",
              "        </tr>\n",
              "    </thead>\n",
              "    <tbody>\n",
              "        <tr>\n",
              "            <td>2155</td>\n",
              "        </tr>\n",
              "    </tbody>\n",
              "</table>"
            ],
            "text/plain": [
              "+----------+\n",
              "| count(*) |\n",
              "+----------+\n",
              "|   2155   |\n",
              "+----------+"
            ]
          },
          "execution_count": 8,
          "metadata": {},
          "output_type": "execute_result"
        }
      ],
      "source": [
        "%%sql\n",
        "\n",
        "select count(*) from OrderDetails as A\n",
        "inner join Products B on  A.ProductId = B.ProductId"
      ]
    },
    {
      "cell_type": "code",
      "execution_count": 9,
      "metadata": {
        "id": "ICMcYZlzID6p"
      },
      "outputs": [
        {
          "data": {
            "text/html": [
              "<span style=\"None\">Running query in &#x27;sqlite:///northwind.sqlite3&#x27;</span>"
            ],
            "text/plain": [
              "Running query in 'sqlite:///northwind.sqlite3'"
            ]
          },
          "metadata": {},
          "output_type": "display_data"
        },
        {
          "data": {
            "text/html": [
              "<table>\n",
              "    <thead>\n",
              "        <tr>\n",
              "            <th>ProductID</th>\n",
              "            <th>ProductName</th>\n",
              "            <th>SupplierID</th>\n",
              "            <th>CategoryID</th>\n",
              "            <th>QuantityPerUnit</th>\n",
              "            <th>UnitPrice</th>\n",
              "            <th>UnitsInStock</th>\n",
              "            <th>UnitsOnOrder</th>\n",
              "            <th>ReorderLevel</th>\n",
              "            <th>Discontinued</th>\n",
              "            <th>OrderID</th>\n",
              "            <th>ProductID_1</th>\n",
              "            <th>UnitPrice_1</th>\n",
              "            <th>Quantity</th>\n",
              "            <th>Discount</th>\n",
              "        </tr>\n",
              "    </thead>\n",
              "    <tbody>\n",
              "        <tr>\n",
              "            <td>11</td>\n",
              "            <td>Queso Cabrales</td>\n",
              "            <td>5</td>\n",
              "            <td>4</td>\n",
              "            <td>1 kg pkg.</td>\n",
              "            <td>21</td>\n",
              "            <td>22</td>\n",
              "            <td>30</td>\n",
              "            <td>30</td>\n",
              "            <td>0</td>\n",
              "            <td>10248</td>\n",
              "            <td>11</td>\n",
              "            <td>14</td>\n",
              "            <td>12</td>\n",
              "            <td>0.0</td>\n",
              "        </tr>\n",
              "        <tr>\n",
              "            <td>42</td>\n",
              "            <td>Singaporean Hokkien Fried Mee</td>\n",
              "            <td>20</td>\n",
              "            <td>5</td>\n",
              "            <td>32 - 1 kg pkgs.</td>\n",
              "            <td>14</td>\n",
              "            <td>26</td>\n",
              "            <td>0</td>\n",
              "            <td>0</td>\n",
              "            <td>1</td>\n",
              "            <td>10248</td>\n",
              "            <td>42</td>\n",
              "            <td>9.8</td>\n",
              "            <td>10</td>\n",
              "            <td>0.0</td>\n",
              "        </tr>\n",
              "        <tr>\n",
              "            <td>72</td>\n",
              "            <td>Mozzarella di Giovanni</td>\n",
              "            <td>14</td>\n",
              "            <td>4</td>\n",
              "            <td>24 - 200 g pkgs.</td>\n",
              "            <td>34.8</td>\n",
              "            <td>14</td>\n",
              "            <td>0</td>\n",
              "            <td>0</td>\n",
              "            <td>0</td>\n",
              "            <td>10248</td>\n",
              "            <td>72</td>\n",
              "            <td>34.8</td>\n",
              "            <td>5</td>\n",
              "            <td>0.0</td>\n",
              "        </tr>\n",
              "        <tr>\n",
              "            <td>14</td>\n",
              "            <td>Tofu</td>\n",
              "            <td>6</td>\n",
              "            <td>7</td>\n",
              "            <td>40 - 100 g pkgs.</td>\n",
              "            <td>23.25</td>\n",
              "            <td>35</td>\n",
              "            <td>0</td>\n",
              "            <td>0</td>\n",
              "            <td>0</td>\n",
              "            <td>10249</td>\n",
              "            <td>14</td>\n",
              "            <td>18.6</td>\n",
              "            <td>9</td>\n",
              "            <td>0.0</td>\n",
              "        </tr>\n",
              "        <tr>\n",
              "            <td>51</td>\n",
              "            <td>Manjimup Dried Apples</td>\n",
              "            <td>24</td>\n",
              "            <td>7</td>\n",
              "            <td>50 - 300 g pkgs.</td>\n",
              "            <td>53</td>\n",
              "            <td>20</td>\n",
              "            <td>0</td>\n",
              "            <td>10</td>\n",
              "            <td>0</td>\n",
              "            <td>10249</td>\n",
              "            <td>51</td>\n",
              "            <td>42.4</td>\n",
              "            <td>40</td>\n",
              "            <td>0.0</td>\n",
              "        </tr>\n",
              "        <tr>\n",
              "            <td>41</td>\n",
              "            <td>Jack's New England Clam Chowder</td>\n",
              "            <td>19</td>\n",
              "            <td>8</td>\n",
              "            <td>12 - 12 oz cans</td>\n",
              "            <td>9.65</td>\n",
              "            <td>85</td>\n",
              "            <td>0</td>\n",
              "            <td>10</td>\n",
              "            <td>0</td>\n",
              "            <td>10250</td>\n",
              "            <td>41</td>\n",
              "            <td>7.7</td>\n",
              "            <td>10</td>\n",
              "            <td>0.0</td>\n",
              "        </tr>\n",
              "        <tr>\n",
              "            <td>51</td>\n",
              "            <td>Manjimup Dried Apples</td>\n",
              "            <td>24</td>\n",
              "            <td>7</td>\n",
              "            <td>50 - 300 g pkgs.</td>\n",
              "            <td>53</td>\n",
              "            <td>20</td>\n",
              "            <td>0</td>\n",
              "            <td>10</td>\n",
              "            <td>0</td>\n",
              "            <td>10250</td>\n",
              "            <td>51</td>\n",
              "            <td>42.4</td>\n",
              "            <td>35</td>\n",
              "            <td>0.15</td>\n",
              "        </tr>\n",
              "        <tr>\n",
              "            <td>65</td>\n",
              "            <td>Louisiana Fiery Hot Pepper Sauce</td>\n",
              "            <td>2</td>\n",
              "            <td>2</td>\n",
              "            <td>32 - 8 oz bottles</td>\n",
              "            <td>21.05</td>\n",
              "            <td>76</td>\n",
              "            <td>0</td>\n",
              "            <td>0</td>\n",
              "            <td>0</td>\n",
              "            <td>10250</td>\n",
              "            <td>65</td>\n",
              "            <td>16.8</td>\n",
              "            <td>15</td>\n",
              "            <td>0.15</td>\n",
              "        </tr>\n",
              "        <tr>\n",
              "            <td>22</td>\n",
              "            <td>Gustaf's Knäckebröd</td>\n",
              "            <td>9</td>\n",
              "            <td>5</td>\n",
              "            <td>24 - 500 g pkgs.</td>\n",
              "            <td>21</td>\n",
              "            <td>104</td>\n",
              "            <td>0</td>\n",
              "            <td>25</td>\n",
              "            <td>0</td>\n",
              "            <td>10251</td>\n",
              "            <td>22</td>\n",
              "            <td>16.8</td>\n",
              "            <td>6</td>\n",
              "            <td>0.05</td>\n",
              "        </tr>\n",
              "        <tr>\n",
              "            <td>57</td>\n",
              "            <td>Ravioli Angelo</td>\n",
              "            <td>26</td>\n",
              "            <td>5</td>\n",
              "            <td>24 - 250 g pkgs.</td>\n",
              "            <td>19.5</td>\n",
              "            <td>36</td>\n",
              "            <td>0</td>\n",
              "            <td>20</td>\n",
              "            <td>0</td>\n",
              "            <td>10251</td>\n",
              "            <td>57</td>\n",
              "            <td>15.6</td>\n",
              "            <td>15</td>\n",
              "            <td>0.05</td>\n",
              "        </tr>\n",
              "    </tbody>\n",
              "</table>\n",
              "<span style=\"font-style:italic;text-align:center;\">Truncated to <a href=\"https://jupysql.ploomber.io/en/latest/api/configuration.html#displaylimit\">displaylimit</a> of 10.</span>"
            ],
            "text/plain": [
              "+-----------+----------------------------------+------------+------------+-------------------+-----------+--------------+--------------+--------------+--------------+---------+-------------+-------------+----------+----------+\n",
              "| ProductID |           ProductName            | SupplierID | CategoryID |  QuantityPerUnit  | UnitPrice | UnitsInStock | UnitsOnOrder | ReorderLevel | Discontinued | OrderID | ProductID_1 | UnitPrice_1 | Quantity | Discount |\n",
              "+-----------+----------------------------------+------------+------------+-------------------+-----------+--------------+--------------+--------------+--------------+---------+-------------+-------------+----------+----------+\n",
              "|     11    |          Queso Cabrales          |     5      |     4      |     1 kg pkg.     |     21    |      22      |      30      |      30      |      0       |  10248  |      11     |      14     |    12    |   0.0    |\n",
              "|     42    |  Singaporean Hokkien Fried Mee   |     20     |     5      |  32 - 1 kg pkgs.  |     14    |      26      |      0       |      0       |      1       |  10248  |      42     |     9.8     |    10    |   0.0    |\n",
              "|     72    |      Mozzarella di Giovanni      |     14     |     4      |  24 - 200 g pkgs. |    34.8   |      14      |      0       |      0       |      0       |  10248  |      72     |     34.8    |    5     |   0.0    |\n",
              "|     14    |               Tofu               |     6      |     7      |  40 - 100 g pkgs. |   23.25   |      35      |      0       |      0       |      0       |  10249  |      14     |     18.6    |    9     |   0.0    |\n",
              "|     51    |      Manjimup Dried Apples       |     24     |     7      |  50 - 300 g pkgs. |     53    |      20      |      0       |      10      |      0       |  10249  |      51     |     42.4    |    40    |   0.0    |\n",
              "|     41    | Jack's New England Clam Chowder  |     19     |     8      |  12 - 12 oz cans  |    9.65   |      85      |      0       |      10      |      0       |  10250  |      41     |     7.7     |    10    |   0.0    |\n",
              "|     51    |      Manjimup Dried Apples       |     24     |     7      |  50 - 300 g pkgs. |     53    |      20      |      0       |      10      |      0       |  10250  |      51     |     42.4    |    35    |   0.15   |\n",
              "|     65    | Louisiana Fiery Hot Pepper Sauce |     2      |     2      | 32 - 8 oz bottles |   21.05   |      76      |      0       |      0       |      0       |  10250  |      65     |     16.8    |    15    |   0.15   |\n",
              "|     22    |       Gustaf's Knäckebröd        |     9      |     5      |  24 - 500 g pkgs. |     21    |     104      |      0       |      25      |      0       |  10251  |      22     |     16.8    |    6     |   0.05   |\n",
              "|     57    |          Ravioli Angelo          |     26     |     5      |  24 - 250 g pkgs. |    19.5   |      36      |      0       |      20      |      0       |  10251  |      57     |     15.6    |    15    |   0.05   |\n",
              "+-----------+----------------------------------+------------+------------+-------------------+-----------+--------------+--------------+--------------+--------------+---------+-------------+-------------+----------+----------+\n",
              "Truncated to displaylimit of 10."
            ]
          },
          "execution_count": 9,
          "metadata": {},
          "output_type": "execute_result"
        }
      ],
      "source": [
        "%%sql\n",
        "\n",
        "select * from Products as A\n",
        "inner join OrderDetails B on  A.ProductId = B.ProductId"
      ]
    },
    {
      "cell_type": "code",
      "execution_count": 10,
      "metadata": {
        "id": "XRY2LOHTwFSo"
      },
      "outputs": [
        {
          "data": {
            "text/html": [
              "<span style=\"None\">Running query in &#x27;sqlite:///northwind.sqlite3&#x27;</span>"
            ],
            "text/plain": [
              "Running query in 'sqlite:///northwind.sqlite3'"
            ]
          },
          "metadata": {},
          "output_type": "display_data"
        },
        {
          "data": {
            "text/html": [
              "<table>\n",
              "    <thead>\n",
              "        <tr>\n",
              "            <th>OrderID</th>\n",
              "            <th>ProductID</th>\n",
              "            <th>UnitPrice</th>\n",
              "            <th>Quantity</th>\n",
              "            <th>Discount</th>\n",
              "            <th>ProductID_1</th>\n",
              "            <th>ProductName</th>\n",
              "            <th>SupplierID</th>\n",
              "            <th>CategoryID</th>\n",
              "            <th>QuantityPerUnit</th>\n",
              "            <th>UnitPrice_1</th>\n",
              "            <th>UnitsInStock</th>\n",
              "            <th>UnitsOnOrder</th>\n",
              "            <th>ReorderLevel</th>\n",
              "            <th>Discontinued</th>\n",
              "        </tr>\n",
              "    </thead>\n",
              "    <tbody>\n",
              "        <tr>\n",
              "            <td>10248</td>\n",
              "            <td>11</td>\n",
              "            <td>14</td>\n",
              "            <td>12</td>\n",
              "            <td>0.0</td>\n",
              "            <td>11</td>\n",
              "            <td>Queso Cabrales</td>\n",
              "            <td>5</td>\n",
              "            <td>4</td>\n",
              "            <td>1 kg pkg.</td>\n",
              "            <td>21</td>\n",
              "            <td>22</td>\n",
              "            <td>30</td>\n",
              "            <td>30</td>\n",
              "            <td>0</td>\n",
              "        </tr>\n",
              "        <tr>\n",
              "            <td>10248</td>\n",
              "            <td>42</td>\n",
              "            <td>9.8</td>\n",
              "            <td>10</td>\n",
              "            <td>0.0</td>\n",
              "            <td>42</td>\n",
              "            <td>Singaporean Hokkien Fried Mee</td>\n",
              "            <td>20</td>\n",
              "            <td>5</td>\n",
              "            <td>32 - 1 kg pkgs.</td>\n",
              "            <td>14</td>\n",
              "            <td>26</td>\n",
              "            <td>0</td>\n",
              "            <td>0</td>\n",
              "            <td>1</td>\n",
              "        </tr>\n",
              "        <tr>\n",
              "            <td>10248</td>\n",
              "            <td>72</td>\n",
              "            <td>34.8</td>\n",
              "            <td>5</td>\n",
              "            <td>0.0</td>\n",
              "            <td>72</td>\n",
              "            <td>Mozzarella di Giovanni</td>\n",
              "            <td>14</td>\n",
              "            <td>4</td>\n",
              "            <td>24 - 200 g pkgs.</td>\n",
              "            <td>34.8</td>\n",
              "            <td>14</td>\n",
              "            <td>0</td>\n",
              "            <td>0</td>\n",
              "            <td>0</td>\n",
              "        </tr>\n",
              "        <tr>\n",
              "            <td>10249</td>\n",
              "            <td>14</td>\n",
              "            <td>18.6</td>\n",
              "            <td>9</td>\n",
              "            <td>0.0</td>\n",
              "            <td>14</td>\n",
              "            <td>Tofu</td>\n",
              "            <td>6</td>\n",
              "            <td>7</td>\n",
              "            <td>40 - 100 g pkgs.</td>\n",
              "            <td>23.25</td>\n",
              "            <td>35</td>\n",
              "            <td>0</td>\n",
              "            <td>0</td>\n",
              "            <td>0</td>\n",
              "        </tr>\n",
              "        <tr>\n",
              "            <td>10249</td>\n",
              "            <td>51</td>\n",
              "            <td>42.4</td>\n",
              "            <td>40</td>\n",
              "            <td>0.0</td>\n",
              "            <td>51</td>\n",
              "            <td>Manjimup Dried Apples</td>\n",
              "            <td>24</td>\n",
              "            <td>7</td>\n",
              "            <td>50 - 300 g pkgs.</td>\n",
              "            <td>53</td>\n",
              "            <td>20</td>\n",
              "            <td>0</td>\n",
              "            <td>10</td>\n",
              "            <td>0</td>\n",
              "        </tr>\n",
              "        <tr>\n",
              "            <td>10250</td>\n",
              "            <td>41</td>\n",
              "            <td>7.7</td>\n",
              "            <td>10</td>\n",
              "            <td>0.0</td>\n",
              "            <td>41</td>\n",
              "            <td>Jack's New England Clam Chowder</td>\n",
              "            <td>19</td>\n",
              "            <td>8</td>\n",
              "            <td>12 - 12 oz cans</td>\n",
              "            <td>9.65</td>\n",
              "            <td>85</td>\n",
              "            <td>0</td>\n",
              "            <td>10</td>\n",
              "            <td>0</td>\n",
              "        </tr>\n",
              "        <tr>\n",
              "            <td>10250</td>\n",
              "            <td>51</td>\n",
              "            <td>42.4</td>\n",
              "            <td>35</td>\n",
              "            <td>0.15</td>\n",
              "            <td>51</td>\n",
              "            <td>Manjimup Dried Apples</td>\n",
              "            <td>24</td>\n",
              "            <td>7</td>\n",
              "            <td>50 - 300 g pkgs.</td>\n",
              "            <td>53</td>\n",
              "            <td>20</td>\n",
              "            <td>0</td>\n",
              "            <td>10</td>\n",
              "            <td>0</td>\n",
              "        </tr>\n",
              "        <tr>\n",
              "            <td>10250</td>\n",
              "            <td>65</td>\n",
              "            <td>16.8</td>\n",
              "            <td>15</td>\n",
              "            <td>0.15</td>\n",
              "            <td>65</td>\n",
              "            <td>Louisiana Fiery Hot Pepper Sauce</td>\n",
              "            <td>2</td>\n",
              "            <td>2</td>\n",
              "            <td>32 - 8 oz bottles</td>\n",
              "            <td>21.05</td>\n",
              "            <td>76</td>\n",
              "            <td>0</td>\n",
              "            <td>0</td>\n",
              "            <td>0</td>\n",
              "        </tr>\n",
              "        <tr>\n",
              "            <td>10251</td>\n",
              "            <td>22</td>\n",
              "            <td>16.8</td>\n",
              "            <td>6</td>\n",
              "            <td>0.05</td>\n",
              "            <td>22</td>\n",
              "            <td>Gustaf's Knäckebröd</td>\n",
              "            <td>9</td>\n",
              "            <td>5</td>\n",
              "            <td>24 - 500 g pkgs.</td>\n",
              "            <td>21</td>\n",
              "            <td>104</td>\n",
              "            <td>0</td>\n",
              "            <td>25</td>\n",
              "            <td>0</td>\n",
              "        </tr>\n",
              "        <tr>\n",
              "            <td>10251</td>\n",
              "            <td>57</td>\n",
              "            <td>15.6</td>\n",
              "            <td>15</td>\n",
              "            <td>0.05</td>\n",
              "            <td>57</td>\n",
              "            <td>Ravioli Angelo</td>\n",
              "            <td>26</td>\n",
              "            <td>5</td>\n",
              "            <td>24 - 250 g pkgs.</td>\n",
              "            <td>19.5</td>\n",
              "            <td>36</td>\n",
              "            <td>0</td>\n",
              "            <td>20</td>\n",
              "            <td>0</td>\n",
              "        </tr>\n",
              "    </tbody>\n",
              "</table>\n",
              "<span style=\"font-style:italic;text-align:center;\">Truncated to <a href=\"https://jupysql.ploomber.io/en/latest/api/configuration.html#displaylimit\">displaylimit</a> of 10.</span>"
            ],
            "text/plain": [
              "+---------+-----------+-----------+----------+----------+-------------+----------------------------------+------------+------------+-------------------+-------------+--------------+--------------+--------------+--------------+\n",
              "| OrderID | ProductID | UnitPrice | Quantity | Discount | ProductID_1 |           ProductName            | SupplierID | CategoryID |  QuantityPerUnit  | UnitPrice_1 | UnitsInStock | UnitsOnOrder | ReorderLevel | Discontinued |\n",
              "+---------+-----------+-----------+----------+----------+-------------+----------------------------------+------------+------------+-------------------+-------------+--------------+--------------+--------------+--------------+\n",
              "|  10248  |     11    |     14    |    12    |   0.0    |      11     |          Queso Cabrales          |     5      |     4      |     1 kg pkg.     |      21     |      22      |      30      |      30      |      0       |\n",
              "|  10248  |     42    |    9.8    |    10    |   0.0    |      42     |  Singaporean Hokkien Fried Mee   |     20     |     5      |  32 - 1 kg pkgs.  |      14     |      26      |      0       |      0       |      1       |\n",
              "|  10248  |     72    |    34.8   |    5     |   0.0    |      72     |      Mozzarella di Giovanni      |     14     |     4      |  24 - 200 g pkgs. |     34.8    |      14      |      0       |      0       |      0       |\n",
              "|  10249  |     14    |    18.6   |    9     |   0.0    |      14     |               Tofu               |     6      |     7      |  40 - 100 g pkgs. |    23.25    |      35      |      0       |      0       |      0       |\n",
              "|  10249  |     51    |    42.4   |    40    |   0.0    |      51     |      Manjimup Dried Apples       |     24     |     7      |  50 - 300 g pkgs. |      53     |      20      |      0       |      10      |      0       |\n",
              "|  10250  |     41    |    7.7    |    10    |   0.0    |      41     | Jack's New England Clam Chowder  |     19     |     8      |  12 - 12 oz cans  |     9.65    |      85      |      0       |      10      |      0       |\n",
              "|  10250  |     51    |    42.4   |    35    |   0.15   |      51     |      Manjimup Dried Apples       |     24     |     7      |  50 - 300 g pkgs. |      53     |      20      |      0       |      10      |      0       |\n",
              "|  10250  |     65    |    16.8   |    15    |   0.15   |      65     | Louisiana Fiery Hot Pepper Sauce |     2      |     2      | 32 - 8 oz bottles |    21.05    |      76      |      0       |      0       |      0       |\n",
              "|  10251  |     22    |    16.8   |    6     |   0.05   |      22     |       Gustaf's Knäckebröd        |     9      |     5      |  24 - 500 g pkgs. |      21     |     104      |      0       |      25      |      0       |\n",
              "|  10251  |     57    |    15.6   |    15    |   0.05   |      57     |          Ravioli Angelo          |     26     |     5      |  24 - 250 g pkgs. |     19.5    |      36      |      0       |      20      |      0       |\n",
              "+---------+-----------+-----------+----------+----------+-------------+----------------------------------+------------+------------+-------------------+-------------+--------------+--------------+--------------+--------------+\n",
              "Truncated to displaylimit of 10."
            ]
          },
          "execution_count": 10,
          "metadata": {},
          "output_type": "execute_result"
        }
      ],
      "source": [
        "%%sql\n",
        "\n",
        "select * from OrderDetails as A\n",
        "inner join Products B on  A.ProductId = B.ProductId"
      ]
    },
    {
      "cell_type": "code",
      "execution_count": 11,
      "metadata": {
        "id": "PTKFmStlwGqa"
      },
      "outputs": [
        {
          "data": {
            "text/html": [
              "<span style=\"None\">Running query in &#x27;sqlite:///northwind.sqlite3&#x27;</span>"
            ],
            "text/plain": [
              "Running query in 'sqlite:///northwind.sqlite3'"
            ]
          },
          "metadata": {},
          "output_type": "display_data"
        },
        {
          "data": {
            "text/html": [
              "<table>\n",
              "    <thead>\n",
              "        <tr>\n",
              "            <th>OrderID</th>\n",
              "            <th>ProductID</th>\n",
              "            <th>ProductName</th>\n",
              "            <th>UnitPrice</th>\n",
              "            <th>Quantity</th>\n",
              "        </tr>\n",
              "    </thead>\n",
              "    <tbody>\n",
              "        <tr>\n",
              "            <td>10248</td>\n",
              "            <td>11</td>\n",
              "            <td>Queso Cabrales</td>\n",
              "            <td>14</td>\n",
              "            <td>12</td>\n",
              "        </tr>\n",
              "        <tr>\n",
              "            <td>10248</td>\n",
              "            <td>42</td>\n",
              "            <td>Singaporean Hokkien Fried Mee</td>\n",
              "            <td>9.8</td>\n",
              "            <td>10</td>\n",
              "        </tr>\n",
              "        <tr>\n",
              "            <td>10248</td>\n",
              "            <td>72</td>\n",
              "            <td>Mozzarella di Giovanni</td>\n",
              "            <td>34.8</td>\n",
              "            <td>5</td>\n",
              "        </tr>\n",
              "        <tr>\n",
              "            <td>10249</td>\n",
              "            <td>14</td>\n",
              "            <td>Tofu</td>\n",
              "            <td>18.6</td>\n",
              "            <td>9</td>\n",
              "        </tr>\n",
              "        <tr>\n",
              "            <td>10249</td>\n",
              "            <td>51</td>\n",
              "            <td>Manjimup Dried Apples</td>\n",
              "            <td>42.4</td>\n",
              "            <td>40</td>\n",
              "        </tr>\n",
              "        <tr>\n",
              "            <td>10250</td>\n",
              "            <td>41</td>\n",
              "            <td>Jack's New England Clam Chowder</td>\n",
              "            <td>7.7</td>\n",
              "            <td>10</td>\n",
              "        </tr>\n",
              "        <tr>\n",
              "            <td>10250</td>\n",
              "            <td>51</td>\n",
              "            <td>Manjimup Dried Apples</td>\n",
              "            <td>42.4</td>\n",
              "            <td>35</td>\n",
              "        </tr>\n",
              "        <tr>\n",
              "            <td>10250</td>\n",
              "            <td>65</td>\n",
              "            <td>Louisiana Fiery Hot Pepper Sauce</td>\n",
              "            <td>16.8</td>\n",
              "            <td>15</td>\n",
              "        </tr>\n",
              "        <tr>\n",
              "            <td>10251</td>\n",
              "            <td>22</td>\n",
              "            <td>Gustaf's Knäckebröd</td>\n",
              "            <td>16.8</td>\n",
              "            <td>6</td>\n",
              "        </tr>\n",
              "        <tr>\n",
              "            <td>10251</td>\n",
              "            <td>57</td>\n",
              "            <td>Ravioli Angelo</td>\n",
              "            <td>15.6</td>\n",
              "            <td>15</td>\n",
              "        </tr>\n",
              "    </tbody>\n",
              "</table>\n",
              "<span style=\"font-style:italic;text-align:center;\">Truncated to <a href=\"https://jupysql.ploomber.io/en/latest/api/configuration.html#displaylimit\">displaylimit</a> of 10.</span>"
            ],
            "text/plain": [
              "+---------+-----------+----------------------------------+-----------+----------+\n",
              "| OrderID | ProductID |           ProductName            | UnitPrice | Quantity |\n",
              "+---------+-----------+----------------------------------+-----------+----------+\n",
              "|  10248  |     11    |          Queso Cabrales          |     14    |    12    |\n",
              "|  10248  |     42    |  Singaporean Hokkien Fried Mee   |    9.8    |    10    |\n",
              "|  10248  |     72    |      Mozzarella di Giovanni      |    34.8   |    5     |\n",
              "|  10249  |     14    |               Tofu               |    18.6   |    9     |\n",
              "|  10249  |     51    |      Manjimup Dried Apples       |    42.4   |    40    |\n",
              "|  10250  |     41    | Jack's New England Clam Chowder  |    7.7    |    10    |\n",
              "|  10250  |     51    |      Manjimup Dried Apples       |    42.4   |    35    |\n",
              "|  10250  |     65    | Louisiana Fiery Hot Pepper Sauce |    16.8   |    15    |\n",
              "|  10251  |     22    |       Gustaf's Knäckebröd        |    16.8   |    6     |\n",
              "|  10251  |     57    |          Ravioli Angelo          |    15.6   |    15    |\n",
              "+---------+-----------+----------------------------------+-----------+----------+\n",
              "Truncated to displaylimit of 10."
            ]
          },
          "execution_count": 11,
          "metadata": {},
          "output_type": "execute_result"
        }
      ],
      "source": [
        "%%sql\n",
        "\n",
        "select A.OrderId, A.ProductId, B.ProductName, A.UnitPrice, A.Quantity from OrderDetails as A\n",
        "inner join Products B on  A.ProductId = B.ProductId"
      ]
    },
    {
      "cell_type": "code",
      "execution_count": 12,
      "metadata": {
        "id": "tJSXlLqCwKK-"
      },
      "outputs": [
        {
          "data": {
            "text/html": [
              "<span style=\"None\">Running query in &#x27;sqlite:///northwind.sqlite3&#x27;</span>"
            ],
            "text/plain": [
              "Running query in 'sqlite:///northwind.sqlite3'"
            ]
          },
          "metadata": {},
          "output_type": "display_data"
        },
        {
          "data": {
            "text/html": [
              "<table>\n",
              "    <thead>\n",
              "        <tr>\n",
              "            <th>ProductID</th>\n",
              "            <th>ProductName</th>\n",
              "            <th>SomaQuantidade</th>\n",
              "        </tr>\n",
              "    </thead>\n",
              "    <tbody>\n",
              "        <tr>\n",
              "            <td>60</td>\n",
              "            <td>Camembert Pierrot</td>\n",
              "            <td>1577</td>\n",
              "        </tr>\n",
              "        <tr>\n",
              "            <td>59</td>\n",
              "            <td>Raclette Courdavault</td>\n",
              "            <td>1496</td>\n",
              "        </tr>\n",
              "        <tr>\n",
              "            <td>31</td>\n",
              "            <td>Gorgonzola Telino</td>\n",
              "            <td>1397</td>\n",
              "        </tr>\n",
              "        <tr>\n",
              "            <td>56</td>\n",
              "            <td>Gnocchi di nonna Alice</td>\n",
              "            <td>1263</td>\n",
              "        </tr>\n",
              "        <tr>\n",
              "            <td>24</td>\n",
              "            <td>Guaraná Fantástica</td>\n",
              "            <td>1162</td>\n",
              "        </tr>\n",
              "        <tr>\n",
              "            <td>16</td>\n",
              "            <td>Pavlova</td>\n",
              "            <td>1158</td>\n",
              "        </tr>\n",
              "        <tr>\n",
              "            <td>75</td>\n",
              "            <td>Rhönbräu Klosterbier</td>\n",
              "            <td>1155</td>\n",
              "        </tr>\n",
              "        <tr>\n",
              "            <td>40</td>\n",
              "            <td>Boston Crab Meat</td>\n",
              "            <td>1103</td>\n",
              "        </tr>\n",
              "        <tr>\n",
              "            <td>62</td>\n",
              "            <td>Tarte au sucre</td>\n",
              "            <td>1083</td>\n",
              "        </tr>\n",
              "        <tr>\n",
              "            <td>2</td>\n",
              "            <td>Chang</td>\n",
              "            <td>1057</td>\n",
              "        </tr>\n",
              "    </tbody>\n",
              "</table>\n",
              "<span style=\"font-style:italic;text-align:center;\">Truncated to <a href=\"https://jupysql.ploomber.io/en/latest/api/configuration.html#displaylimit\">displaylimit</a> of 10.</span>"
            ],
            "text/plain": [
              "+-----------+------------------------+----------------+\n",
              "| ProductID |      ProductName       | SomaQuantidade |\n",
              "+-----------+------------------------+----------------+\n",
              "|     60    |   Camembert Pierrot    |      1577      |\n",
              "|     59    |  Raclette Courdavault  |      1496      |\n",
              "|     31    |   Gorgonzola Telino    |      1397      |\n",
              "|     56    | Gnocchi di nonna Alice |      1263      |\n",
              "|     24    |   Guaraná Fantástica   |      1162      |\n",
              "|     16    |        Pavlova         |      1158      |\n",
              "|     75    |  Rhönbräu Klosterbier  |      1155      |\n",
              "|     40    |    Boston Crab Meat    |      1103      |\n",
              "|     62    |     Tarte au sucre     |      1083      |\n",
              "|     2     |         Chang          |      1057      |\n",
              "+-----------+------------------------+----------------+\n",
              "Truncated to displaylimit of 10."
            ]
          },
          "execution_count": 12,
          "metadata": {},
          "output_type": "execute_result"
        }
      ],
      "source": [
        "%%sql\n",
        "\n",
        "select A.ProductId, B.ProductName, sum(A.Quantity) as SomaQuantidade from OrderDetails as A\n",
        "inner join Products B on  A.ProductId = B.ProductId\n",
        "group by A.ProductId\n",
        "order by SomaQuantidade desc"
      ]
    },
    {
      "cell_type": "markdown",
      "metadata": {
        "id": "DEyhL9eoH4cD"
      },
      "source": [
        "Podemos utilizar joins em sequência para referenciar diferentes tabelas em uma query só"
      ]
    },
    {
      "cell_type": "code",
      "execution_count": 13,
      "metadata": {
        "id": "IN7Y_8mGwLq_"
      },
      "outputs": [
        {
          "data": {
            "text/html": [
              "<span style=\"None\">Running query in &#x27;sqlite:///northwind.sqlite3&#x27;</span>"
            ],
            "text/plain": [
              "Running query in 'sqlite:///northwind.sqlite3'"
            ]
          },
          "metadata": {},
          "output_type": "display_data"
        },
        {
          "data": {
            "text/html": [
              "<table>\n",
              "    <thead>\n",
              "        <tr>\n",
              "            <th>OrderID</th>\n",
              "            <th>ProductID</th>\n",
              "            <th>UnitPrice</th>\n",
              "            <th>Quantity</th>\n",
              "            <th>Discount</th>\n",
              "        </tr>\n",
              "    </thead>\n",
              "    <tbody>\n",
              "        <tr>\n",
              "            <td>10248</td>\n",
              "            <td>11</td>\n",
              "            <td>14</td>\n",
              "            <td>12</td>\n",
              "            <td>0.0</td>\n",
              "        </tr>\n",
              "        <tr>\n",
              "            <td>10248</td>\n",
              "            <td>42</td>\n",
              "            <td>9.8</td>\n",
              "            <td>10</td>\n",
              "            <td>0.0</td>\n",
              "        </tr>\n",
              "        <tr>\n",
              "            <td>10248</td>\n",
              "            <td>72</td>\n",
              "            <td>34.8</td>\n",
              "            <td>5</td>\n",
              "            <td>0.0</td>\n",
              "        </tr>\n",
              "        <tr>\n",
              "            <td>10249</td>\n",
              "            <td>14</td>\n",
              "            <td>18.6</td>\n",
              "            <td>9</td>\n",
              "            <td>0.0</td>\n",
              "        </tr>\n",
              "        <tr>\n",
              "            <td>10249</td>\n",
              "            <td>51</td>\n",
              "            <td>42.4</td>\n",
              "            <td>40</td>\n",
              "            <td>0.0</td>\n",
              "        </tr>\n",
              "        <tr>\n",
              "            <td>10250</td>\n",
              "            <td>41</td>\n",
              "            <td>7.7</td>\n",
              "            <td>10</td>\n",
              "            <td>0.0</td>\n",
              "        </tr>\n",
              "        <tr>\n",
              "            <td>10250</td>\n",
              "            <td>51</td>\n",
              "            <td>42.4</td>\n",
              "            <td>35</td>\n",
              "            <td>0.15</td>\n",
              "        </tr>\n",
              "        <tr>\n",
              "            <td>10250</td>\n",
              "            <td>65</td>\n",
              "            <td>16.8</td>\n",
              "            <td>15</td>\n",
              "            <td>0.15</td>\n",
              "        </tr>\n",
              "        <tr>\n",
              "            <td>10251</td>\n",
              "            <td>22</td>\n",
              "            <td>16.8</td>\n",
              "            <td>6</td>\n",
              "            <td>0.05</td>\n",
              "        </tr>\n",
              "        <tr>\n",
              "            <td>10251</td>\n",
              "            <td>57</td>\n",
              "            <td>15.6</td>\n",
              "            <td>15</td>\n",
              "            <td>0.05</td>\n",
              "        </tr>\n",
              "    </tbody>\n",
              "</table>\n",
              "<span style=\"font-style:italic;text-align:center;\">Truncated to <a href=\"https://jupysql.ploomber.io/en/latest/api/configuration.html#displaylimit\">displaylimit</a> of 10.</span>"
            ],
            "text/plain": [
              "+---------+-----------+-----------+----------+----------+\n",
              "| OrderID | ProductID | UnitPrice | Quantity | Discount |\n",
              "+---------+-----------+-----------+----------+----------+\n",
              "|  10248  |     11    |     14    |    12    |   0.0    |\n",
              "|  10248  |     42    |    9.8    |    10    |   0.0    |\n",
              "|  10248  |     72    |    34.8   |    5     |   0.0    |\n",
              "|  10249  |     14    |    18.6   |    9     |   0.0    |\n",
              "|  10249  |     51    |    42.4   |    40    |   0.0    |\n",
              "|  10250  |     41    |    7.7    |    10    |   0.0    |\n",
              "|  10250  |     51    |    42.4   |    35    |   0.15   |\n",
              "|  10250  |     65    |    16.8   |    15    |   0.15   |\n",
              "|  10251  |     22    |    16.8   |    6     |   0.05   |\n",
              "|  10251  |     57    |    15.6   |    15    |   0.05   |\n",
              "+---------+-----------+-----------+----------+----------+\n",
              "Truncated to displaylimit of 10."
            ]
          },
          "execution_count": 13,
          "metadata": {},
          "output_type": "execute_result"
        }
      ],
      "source": [
        "%%sql\n",
        "\n",
        "select * from OrderDetails"
      ]
    },
    {
      "cell_type": "code",
      "execution_count": 14,
      "metadata": {
        "id": "dmQgAcWKwLio"
      },
      "outputs": [
        {
          "data": {
            "text/html": [
              "<span style=\"None\">Running query in &#x27;sqlite:///northwind.sqlite3&#x27;</span>"
            ],
            "text/plain": [
              "Running query in 'sqlite:///northwind.sqlite3'"
            ]
          },
          "metadata": {},
          "output_type": "display_data"
        },
        {
          "data": {
            "text/html": [
              "<table>\n",
              "    <thead>\n",
              "        <tr>\n",
              "            <th>CompanyName</th>\n",
              "            <th>ProductName</th>\n",
              "            <th>OrderDate</th>\n",
              "        </tr>\n",
              "    </thead>\n",
              "    <tbody>\n",
              "        <tr>\n",
              "            <td>Hanari Carnes</td>\n",
              "            <td>Jack's New England Clam Chowder</td>\n",
              "            <td>2014-07-08 15:00:00.000</td>\n",
              "        </tr>\n",
              "        <tr>\n",
              "            <td>Hanari Carnes</td>\n",
              "            <td>Manjimup Dried Apples</td>\n",
              "            <td>2014-07-08 15:00:00.000</td>\n",
              "        </tr>\n",
              "        <tr>\n",
              "            <td>Hanari Carnes</td>\n",
              "            <td>Louisiana Fiery Hot Pepper Sauce</td>\n",
              "            <td>2014-07-08 15:00:00.000</td>\n",
              "        </tr>\n",
              "        <tr>\n",
              "            <td>Hanari Carnes</td>\n",
              "            <td>Gorgonzola Telino</td>\n",
              "            <td>2014-07-10 08:00:00.000</td>\n",
              "        </tr>\n",
              "        <tr>\n",
              "            <td>Hanari Carnes</td>\n",
              "            <td>Chartreuse verte</td>\n",
              "            <td>2014-07-10 08:00:00.000</td>\n",
              "        </tr>\n",
              "        <tr>\n",
              "            <td>Hanari Carnes</td>\n",
              "            <td>Maxilaku</td>\n",
              "            <td>2014-07-10 08:00:00.000</td>\n",
              "        </tr>\n",
              "        <tr>\n",
              "            <td>Que Delícia</td>\n",
              "            <td>Sir Rodney's Scones</td>\n",
              "            <td>2014-07-19 13:00:00.000</td>\n",
              "        </tr>\n",
              "        <tr>\n",
              "            <td>Que Delícia</td>\n",
              "            <td>Steeleye Stout</td>\n",
              "            <td>2014-07-19 13:00:00.000</td>\n",
              "        </tr>\n",
              "        <tr>\n",
              "            <td>Ricardo Adocicados</td>\n",
              "            <td>Pavlova</td>\n",
              "            <td>2014-08-22 07:00:00.000</td>\n",
              "        </tr>\n",
              "        <tr>\n",
              "            <td>Ricardo Adocicados</td>\n",
              "            <td>Sasquatch Ale</td>\n",
              "            <td>2014-08-22 07:00:00.000</td>\n",
              "        </tr>\n",
              "    </tbody>\n",
              "</table>\n",
              "<span style=\"font-style:italic;text-align:center;\">Truncated to <a href=\"https://jupysql.ploomber.io/en/latest/api/configuration.html#displaylimit\">displaylimit</a> of 10.</span>"
            ],
            "text/plain": [
              "+--------------------+----------------------------------+-------------------------+\n",
              "|    CompanyName     |           ProductName            |        OrderDate        |\n",
              "+--------------------+----------------------------------+-------------------------+\n",
              "|   Hanari Carnes    | Jack's New England Clam Chowder  | 2014-07-08 15:00:00.000 |\n",
              "|   Hanari Carnes    |      Manjimup Dried Apples       | 2014-07-08 15:00:00.000 |\n",
              "|   Hanari Carnes    | Louisiana Fiery Hot Pepper Sauce | 2014-07-08 15:00:00.000 |\n",
              "|   Hanari Carnes    |        Gorgonzola Telino         | 2014-07-10 08:00:00.000 |\n",
              "|   Hanari Carnes    |         Chartreuse verte         | 2014-07-10 08:00:00.000 |\n",
              "|   Hanari Carnes    |             Maxilaku             | 2014-07-10 08:00:00.000 |\n",
              "|    Que Delícia     |       Sir Rodney's Scones        | 2014-07-19 13:00:00.000 |\n",
              "|    Que Delícia     |          Steeleye Stout          | 2014-07-19 13:00:00.000 |\n",
              "| Ricardo Adocicados |             Pavlova              | 2014-08-22 07:00:00.000 |\n",
              "| Ricardo Adocicados |          Sasquatch Ale           | 2014-08-22 07:00:00.000 |\n",
              "+--------------------+----------------------------------+-------------------------+\n",
              "Truncated to displaylimit of 10."
            ]
          },
          "execution_count": 14,
          "metadata": {},
          "output_type": "execute_result"
        }
      ],
      "source": [
        "%%sql\n",
        "SELECT c.CompanyName, p.ProductName, o.OrderDate\n",
        "FROM Customers c\n",
        "INNER JOIN Orders o ON c.CustomerID = o.CustomerID\n",
        "INNER JOIN OrderDetails od ON o.OrderID = od.OrderID\n",
        "INNER JOIN Products p ON od.ProductID = p.ProductID\n",
        "WHERE c.City = 'Rio de Janeiro';"
      ]
    },
    {
      "cell_type": "markdown",
      "metadata": {
        "id": "EIBVu-7j0eGS"
      },
      "source": [
        "#### Left Join\n",
        "\n",
        "**LEFT JOIN**: Inclui todas as linhas da tabela da esquerda e corresponde às linhas correspondentes da tabela da direita.\n",
        "\n",
        "```\n",
        "SELECT customers.name, orders.order_id\n",
        "FROM customers\n",
        "LEFT JOIN orders\n",
        "    ON customers.customer_id = orders.customer_id;\n",
        "```\n",
        "\n",
        "Aqui, a consulta inclui todos os clientes da tabela `clientes`, independentemente de terem feito pedidos ou não. As linhas correspondentes da tabela `orders` também são incluídas, exibindo o `order_id` ao lado do nome do cliente. Se um cliente não fez um pedido, o `order_id` será NULL.\n"
      ]
    },
    {
      "cell_type": "code",
      "execution_count": 15,
      "metadata": {
        "id": "M5-cQ4o-v27w"
      },
      "outputs": [
        {
          "data": {
            "text/html": [
              "<span style=\"None\">Running query in &#x27;sqlite:///northwind.sqlite3&#x27;</span>"
            ],
            "text/plain": [
              "Running query in 'sqlite:///northwind.sqlite3'"
            ]
          },
          "metadata": {},
          "output_type": "display_data"
        },
        {
          "data": {
            "text/html": [
              "<table>\n",
              "    <thead>\n",
              "        <tr>\n",
              "            <th>count(*)</th>\n",
              "        </tr>\n",
              "    </thead>\n",
              "    <tbody>\n",
              "        <tr>\n",
              "            <td>91</td>\n",
              "        </tr>\n",
              "    </tbody>\n",
              "</table>"
            ],
            "text/plain": [
              "+----------+\n",
              "| count(*) |\n",
              "+----------+\n",
              "|    91    |\n",
              "+----------+"
            ]
          },
          "execution_count": 15,
          "metadata": {},
          "output_type": "execute_result"
        }
      ],
      "source": [
        "%%sql\n",
        "\n",
        "select count(*) FROM Customers"
      ]
    },
    {
      "cell_type": "code",
      "execution_count": 16,
      "metadata": {
        "id": "muvrPQDC0ijG"
      },
      "outputs": [
        {
          "data": {
            "text/html": [
              "<span style=\"None\">Running query in &#x27;sqlite:///northwind.sqlite3&#x27;</span>"
            ],
            "text/plain": [
              "Running query in 'sqlite:///northwind.sqlite3'"
            ]
          },
          "metadata": {},
          "output_type": "display_data"
        },
        {
          "data": {
            "text/html": [
              "<table>\n",
              "    <thead>\n",
              "        <tr>\n",
              "            <th>count(distinct ContactName)</th>\n",
              "        </tr>\n",
              "    </thead>\n",
              "    <tbody>\n",
              "        <tr>\n",
              "            <td>89</td>\n",
              "        </tr>\n",
              "    </tbody>\n",
              "</table>"
            ],
            "text/plain": [
              "+-----------------------------+\n",
              "| count(distinct ContactName) |\n",
              "+-----------------------------+\n",
              "|              89             |\n",
              "+-----------------------------+"
            ]
          },
          "execution_count": 16,
          "metadata": {},
          "output_type": "execute_result"
        }
      ],
      "source": [
        "%%sql\n",
        "\n",
        "select count(distinct ContactName) FROM Customers\n",
        "inner join Orders ON  Customers.CustomerID = Orders.CustomerID;"
      ]
    },
    {
      "cell_type": "code",
      "execution_count": 17,
      "metadata": {
        "id": "-905QIBq5PVP"
      },
      "outputs": [
        {
          "data": {
            "text/html": [
              "<span style=\"None\">Running query in &#x27;sqlite:///northwind.sqlite3&#x27;</span>"
            ],
            "text/plain": [
              "Running query in 'sqlite:///northwind.sqlite3'"
            ]
          },
          "metadata": {},
          "output_type": "display_data"
        },
        {
          "data": {
            "text/html": [
              "<table>\n",
              "    <thead>\n",
              "        <tr>\n",
              "            <th>count(distinct ContactName)</th>\n",
              "        </tr>\n",
              "    </thead>\n",
              "    <tbody>\n",
              "        <tr>\n",
              "            <td>91</td>\n",
              "        </tr>\n",
              "    </tbody>\n",
              "</table>"
            ],
            "text/plain": [
              "+-----------------------------+\n",
              "| count(distinct ContactName) |\n",
              "+-----------------------------+\n",
              "|              91             |\n",
              "+-----------------------------+"
            ]
          },
          "execution_count": 17,
          "metadata": {},
          "output_type": "execute_result"
        }
      ],
      "source": [
        "%%sql\n",
        "\n",
        "select count(distinct ContactName) FROM Customers\n",
        "left join Orders ON  Customers.CustomerID = Orders.CustomerID"
      ]
    },
    {
      "cell_type": "code",
      "execution_count": 18,
      "metadata": {
        "id": "3We3fB9L00Yg"
      },
      "outputs": [
        {
          "data": {
            "text/html": [
              "<span style=\"None\">Running query in &#x27;sqlite:///northwind.sqlite3&#x27;</span>"
            ],
            "text/plain": [
              "Running query in 'sqlite:///northwind.sqlite3'"
            ]
          },
          "metadata": {},
          "output_type": "display_data"
        },
        {
          "data": {
            "text/html": [
              "<table>\n",
              "    <thead>\n",
              "        <tr>\n",
              "            <th>ContactName</th>\n",
              "            <th>OrderID</th>\n",
              "        </tr>\n",
              "    </thead>\n",
              "    <tbody>\n",
              "        <tr>\n",
              "            <td>Diego Roel</td>\n",
              "            <td>None</td>\n",
              "        </tr>\n",
              "        <tr>\n",
              "            <td>Marie Bertrand</td>\n",
              "            <td>None</td>\n",
              "        </tr>\n",
              "    </tbody>\n",
              "</table>"
            ],
            "text/plain": [
              "+----------------+---------+\n",
              "|  ContactName   | OrderID |\n",
              "+----------------+---------+\n",
              "|   Diego Roel   |   None  |\n",
              "| Marie Bertrand |   None  |\n",
              "+----------------+---------+"
            ]
          },
          "execution_count": 18,
          "metadata": {},
          "output_type": "execute_result"
        }
      ],
      "source": [
        "%%sql\n",
        "\n",
        "select Customers.ContactName, Orders.OrderId FROM Customers\n",
        "left join Orders ON  Customers.CustomerID = Orders.CustomerID\n",
        "where Orders.OrderId is null"
      ]
    }
  ],
  "metadata": {
    "colab": {
      "provenance": [],
      "toc_visible": true
    },
    "kernelspec": {
      "display_name": "Python 3",
      "name": "python3"
    },
    "language_info": {
      "codemirror_mode": {
        "name": "ipython",
        "version": 3
      },
      "file_extension": ".py",
      "mimetype": "text/x-python",
      "name": "python",
      "nbconvert_exporter": "python",
      "pygments_lexer": "ipython3",
      "version": "3.9.18"
    }
  },
  "nbformat": 4,
  "nbformat_minor": 0
}
