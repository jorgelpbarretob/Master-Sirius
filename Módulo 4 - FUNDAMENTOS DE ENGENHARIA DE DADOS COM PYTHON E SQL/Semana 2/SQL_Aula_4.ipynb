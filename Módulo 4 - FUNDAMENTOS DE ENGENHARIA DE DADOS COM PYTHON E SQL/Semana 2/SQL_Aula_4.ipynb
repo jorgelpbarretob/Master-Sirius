{
  "cells": [
    {
      "cell_type": "code",
      "execution_count": null,
      "metadata": {
        "id": "A-SBkpADEOJN"
      },
      "outputs": [],
      "source": [
        "!pip install jupysql"
      ]
    },
    {
      "cell_type": "code",
      "execution_count": null,
      "metadata": {
        "id": "2cQPuhGyEJbf"
      },
      "outputs": [],
      "source": [
        "%load_ext sql"
      ]
    },
    {
      "cell_type": "code",
      "execution_count": null,
      "metadata": {
        "id": "zq_KDR-J-Icn"
      },
      "outputs": [],
      "source": [
        "!wget https://rtvad.blob.core.windows.net/misc-data/northwind.sqlite3"
      ]
    },
    {
      "cell_type": "code",
      "execution_count": null,
      "metadata": {
        "id": "MRHTlrAR-LNf"
      },
      "outputs": [],
      "source": [
        "%sql sqlite:///northwind.sqlite3"
      ]
    },
    {
      "cell_type": "markdown",
      "metadata": {
        "id": "nKM4ntv8yM_i"
      },
      "source": [
        "## Unions e Joins\n",
        "\n",
        "Unions e joins são ferramentas poderosas para combinar dados de várias tabelas em uma consulta de banco de dados. Vamos explorar mais os conceitos de uniões e junções e fornecer exemplos para cada um.\n"
      ]
    },
    {
      "cell_type": "markdown",
      "metadata": {
        "id": "2N3zBTJwzJ_u"
      },
      "source": [
        "### Unions\n",
        "\n",
        "O operador `UNION` nos permite combinar os resultados de várias instruções `SELECT` em um único resultado. Ele combina linhas de diferentes tabelas e remove duplicatas. Aqui está um exemplo:\n",
        "\n",
        "```\n",
        "SELECT name\n",
        "FROM customers\n",
        "UNION\n",
        "SELECT name\n",
        "FROM suppliers;\n",
        "```\n",
        "\n",
        "Neste exemplo, a consulta recupera os nomes dos clientes da tabela `customers` e os combina com os nomes dos fornecedores da tabela `suppliers`. O conjunto de dados resultante incluirá uma única lista de nomes, eliminando quaisquer entradas duplicadas.\n",
        "\n",
        "\n"
      ]
    },
    {
      "cell_type": "code",
      "execution_count": null,
      "metadata": {
        "id": "QjrxxsGZyRGW"
      },
      "outputs": [],
      "source": [
        "%%sql\n",
        "\n",
        "select ContactName from Customers\n",
        "order by ContactName asc"
      ]
    },
    {
      "cell_type": "code",
      "execution_count": null,
      "metadata": {
        "id": "7vZ4PreyyljH"
      },
      "outputs": [],
      "source": [
        "%%sql\n",
        "\n",
        "select FirstName || ' ' || LastName as NomeCompleto  from Employees\n",
        "order by NomeCompleto"
      ]
    },
    {
      "cell_type": "code",
      "execution_count": null,
      "metadata": {
        "id": "mW5pVoatzABe"
      },
      "outputs": [],
      "source": [
        "%%sql\n",
        "\n",
        "select ContactName as Name from Customers\n",
        "union\n",
        "select FirstName || ' ' || LastName as Name from Employees\n",
        "order by Name"
      ]
    },
    {
      "cell_type": "markdown",
      "metadata": {
        "id": "Ky0lIfyPzLja"
      },
      "source": [
        "### Joins\n",
        "\n",
        "Os joins mesclam linhas de duas ou mais tabelas com base em uma coluna relacionada. Existem diferentes tipos de junções disponíveis para atender a vários requisitos. Vamos explorar alguns:\n"
      ]
    },
    {
      "cell_type": "code",
      "execution_count": null,
      "metadata": {
        "id": "Ce5BHKmNzwrm"
      },
      "outputs": [],
      "source": [
        "%%sql\n",
        "\n",
        "select * from Products"
      ]
    },
    {
      "cell_type": "markdown",
      "metadata": {
        "id": "fIo7HvEw0RYu"
      },
      "source": [
        "#### Inner Join\n",
        "\n",
        "**INNER JOIN**: Recupera linhas onde os valores nas colunas relacionadas existem em ambas as tabelas.\n",
        "\n",
        "```\n",
        "SELECT orders.order_id, customers.name\n",
        "FROM orders\n",
        "INNER JOIN customers\n",
        "    ON orders.customer_id = customers.customer_id;\n",
        "```\n",
        "\n",
        "Neste exemplo, a consulta combina as tabelas `orders` e `customers` com base nos valores `customer_id` correspondentes. O resultado incluirá as colunas `order_id` e `name` para clientes que fizeram pedidos.\n"
      ]
    },
    {
      "cell_type": "code",
      "execution_count": null,
      "metadata": {
        "id": "o2gJ3kyPzNN0"
      },
      "outputs": [],
      "source": [
        "%%sql\n",
        "\n",
        "select count(*) from OrderDetails as A\n",
        "inner join Products B on  A.ProductId = B.ProductId"
      ]
    },
    {
      "cell_type": "code",
      "source": [
        "%%sql\n",
        "\n",
        "select * from Products as A\n",
        "inner join OrderDetails B on  A.ProductId = B.ProductId"
      ],
      "metadata": {
        "id": "ICMcYZlzID6p"
      },
      "execution_count": null,
      "outputs": []
    },
    {
      "cell_type": "code",
      "source": [
        "%%sql\n",
        "\n",
        "select * from OrderDetails as A\n",
        "inner join Products B on  A.ProductId = B.ProductId"
      ],
      "metadata": {
        "id": "XRY2LOHTwFSo"
      },
      "execution_count": null,
      "outputs": []
    },
    {
      "cell_type": "code",
      "source": [
        "%%sql\n",
        "\n",
        "select A.OrderId, A.ProductId, B.ProductName, A.UnitPrice, A.Quantity from OrderDetails as A\n",
        "inner join Products B on  A.ProductId = B.ProductId"
      ],
      "metadata": {
        "id": "PTKFmStlwGqa"
      },
      "execution_count": null,
      "outputs": []
    },
    {
      "cell_type": "code",
      "source": [
        "%%sql\n",
        "\n",
        "select A.ProductId, B.ProductName, sum(A.Quantity) as SomaQuantidade from OrderDetails as A\n",
        "inner join Products B on  A.ProductId = B.ProductId\n",
        "group by A.ProductId\n",
        "order by SomaQuantidade desc"
      ],
      "metadata": {
        "id": "tJSXlLqCwKK-"
      },
      "execution_count": null,
      "outputs": []
    },
    {
      "cell_type": "markdown",
      "source": [
        "Podemos utilizar joins em sequência para referenciar diferentes tabelas em uma query só"
      ],
      "metadata": {
        "id": "DEyhL9eoH4cD"
      }
    },
    {
      "cell_type": "code",
      "source": [
        "%%sql\n",
        "\n",
        "select * from OrderDetails"
      ],
      "metadata": {
        "id": "IN7Y_8mGwLq_"
      },
      "execution_count": null,
      "outputs": []
    },
    {
      "cell_type": "code",
      "source": [
        "%%sql\n",
        "SELECT c.CompanyName, p.ProductName, o.OrderDate\n",
        "FROM Customers c\n",
        "INNER JOIN Orders o ON c.CustomerID = o.CustomerID\n",
        "INNER JOIN OrderDetails od ON o.OrderID = od.OrderID\n",
        "INNER JOIN Products p ON od.ProductID = p.ProductID\n",
        "WHERE c.City = 'Rio de Janeiro';"
      ],
      "metadata": {
        "id": "dmQgAcWKwLio"
      },
      "execution_count": null,
      "outputs": []
    },
    {
      "cell_type": "markdown",
      "metadata": {
        "id": "EIBVu-7j0eGS"
      },
      "source": [
        "#### Left Join\n",
        "\n",
        "**LEFT JOIN**: Inclui todas as linhas da tabela da esquerda e corresponde às linhas correspondentes da tabela da direita.\n",
        "\n",
        "```\n",
        "SELECT customers.name, orders.order_id\n",
        "FROM customers\n",
        "LEFT JOIN orders\n",
        "    ON customers.customer_id = orders.customer_id;\n",
        "```\n",
        "\n",
        "Aqui, a consulta inclui todos os clientes da tabela `clientes`, independentemente de terem feito pedidos ou não. As linhas correspondentes da tabela `orders` também são incluídas, exibindo o `order_id` ao lado do nome do cliente. Se um cliente não fez um pedido, o `order_id` será NULL.\n"
      ]
    },
    {
      "cell_type": "code",
      "source": [
        "%%sql\n",
        "\n",
        "select count(*) FROM Customers"
      ],
      "metadata": {
        "id": "M5-cQ4o-v27w"
      },
      "execution_count": null,
      "outputs": []
    },
    {
      "cell_type": "code",
      "execution_count": null,
      "metadata": {
        "id": "muvrPQDC0ijG"
      },
      "outputs": [],
      "source": [
        "%%sql\n",
        "\n",
        "select count(distinct ContactName) FROM Customers\n",
        "inner join Orders ON  Customers.CustomerID = Orders.CustomerID;"
      ]
    },
    {
      "cell_type": "code",
      "execution_count": null,
      "metadata": {
        "id": "-905QIBq5PVP"
      },
      "outputs": [],
      "source": [
        "%%sql\n",
        "\n",
        "select count(distinct ContactName) FROM Customers\n",
        "left join Orders ON  Customers.CustomerID = Orders.CustomerID"
      ]
    },
    {
      "cell_type": "code",
      "execution_count": null,
      "metadata": {
        "id": "3We3fB9L00Yg"
      },
      "outputs": [],
      "source": [
        "%%sql\n",
        "\n",
        "select Customers.ContactName, Orders.OrderId FROM Customers\n",
        "left join Orders ON  Customers.CustomerID = Orders.CustomerID\n",
        "where Orders.OrderId is null"
      ]
    }
  ],
  "metadata": {
    "colab": {
      "toc_visible": true,
      "provenance": []
    },
    "kernelspec": {
      "display_name": "Python 3",
      "name": "python3"
    },
    "language_info": {
      "name": "python"
    }
  },
  "nbformat": 4,
  "nbformat_minor": 0
}