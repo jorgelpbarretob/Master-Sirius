{
  "nbformat": 4,
  "nbformat_minor": 0,
  "metadata": {
    "colab": {
      "provenance": []
    },
    "kernelspec": {
      "name": "python3",
      "display_name": "Python 3"
    },
    "language_info": {
      "name": "python"
    }
  },
  "cells": [
    {
      "cell_type": "markdown",
      "source": [
        "# Exercício\n",
        "\n",
        "Faça a extração de alguma tabela da Wikipedia utilizando a biblioteca BeautifulSoup"
      ],
      "metadata": {
        "id": "8EPN6mxecYQg"
      }
    },
    {
      "cell_type": "code",
      "execution_count": null,
      "metadata": {
        "id": "tvfLp34JcSuP"
      },
      "outputs": [],
      "source": []
    }
  ]
}