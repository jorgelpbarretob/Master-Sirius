{
  "cells": [
    {
      "cell_type": "markdown",
      "metadata": {
        "id": "2jMmRjhR534g"
      },
      "source": [
        "# Setup"
      ]
    },
    {
      "cell_type": "code",
      "execution_count": null,
      "metadata": {
        "colab": {
          "base_uri": "https://localhost:8080/"
        },
        "id": "DsuSyEy56LCO",
        "outputId": "93a90be9-f9d8-4209-f059-d6c5d16d70c9"
      },
      "outputs": [
        {
          "name": "stdout",
          "output_type": "stream",
          "text": [
            "Collecting jupysql\n",
            "  Downloading jupysql-0.10.0-py3-none-any.whl (83 kB)\n",
            "\u001b[?25l     \u001b[90m━━━━━━━━━━━━━━━━━━━━━━━━━━━━━━━━━━━━━━━━\u001b[0m \u001b[32m0.0/83.7 kB\u001b[0m \u001b[31m?\u001b[0m eta \u001b[36m-:--:--\u001b[0m\r\u001b[2K     \u001b[90m━━━━━━━━━━━━━━━━━━━━━━━━━━━━━━━━━━━━━━━━\u001b[0m \u001b[32m83.7/83.7 kB\u001b[0m \u001b[31m3.3 MB/s\u001b[0m eta \u001b[36m0:00:00\u001b[0m\n",
            "\u001b[?25hRequirement already satisfied: prettytable in /usr/local/lib/python3.10/dist-packages (from jupysql) (3.8.0)\n",
            "Requirement already satisfied: ipython in /usr/local/lib/python3.10/dist-packages (from jupysql) (7.34.0)\n",
            "Requirement already satisfied: sqlalchemy in /usr/local/lib/python3.10/dist-packages (from jupysql) (2.0.20)\n",
            "Requirement already satisfied: sqlparse in /usr/local/lib/python3.10/dist-packages (from jupysql) (0.4.4)\n",
            "Requirement already satisfied: ipython-genutils>=0.1.0 in /usr/local/lib/python3.10/dist-packages (from jupysql) (0.2.0)\n",
            "Collecting sqlglot (from jupysql)\n",
            "  Downloading sqlglot-17.15.0-py3-none-any.whl (295 kB)\n",
            "\u001b[2K     \u001b[90m━━━━━━━━━━━━━━━━━━━━━━━━━━━━━━━━━━━━━━\u001b[0m \u001b[32m295.9/295.9 kB\u001b[0m \u001b[31m13.7 MB/s\u001b[0m eta \u001b[36m0:00:00\u001b[0m\n",
            "\u001b[?25hRequirement already satisfied: jinja2 in /usr/local/lib/python3.10/dist-packages (from jupysql) (3.1.2)\n",
            "Collecting ploomber-core>=0.2.7 (from jupysql)\n",
            "  Downloading ploomber_core-0.2.14-py3-none-any.whl (21 kB)\n",
            "Requirement already satisfied: click in /usr/local/lib/python3.10/dist-packages (from ploomber-core>=0.2.7->jupysql) (8.1.7)\n",
            "Requirement already satisfied: pyyaml in /usr/local/lib/python3.10/dist-packages (from ploomber-core>=0.2.7->jupysql) (6.0.1)\n",
            "Collecting posthog (from ploomber-core>=0.2.7->jupysql)\n",
            "  Downloading posthog-3.0.2-py2.py3-none-any.whl (37 kB)\n",
            "Requirement already satisfied: setuptools>=18.5 in /usr/local/lib/python3.10/dist-packages (from ipython->jupysql) (67.7.2)\n",
            "Collecting jedi>=0.16 (from ipython->jupysql)\n",
            "  Downloading jedi-0.19.0-py2.py3-none-any.whl (1.6 MB)\n",
            "\u001b[2K     \u001b[90m━━━━━━━━━━━━━━━━━━━━━━━━━━━━━━━━━━━━━━━━\u001b[0m \u001b[32m1.6/1.6 MB\u001b[0m \u001b[31m44.3 MB/s\u001b[0m eta \u001b[36m0:00:00\u001b[0m\n",
            "\u001b[?25hRequirement already satisfied: decorator in /usr/local/lib/python3.10/dist-packages (from ipython->jupysql) (4.4.2)\n",
            "Requirement already satisfied: pickleshare in /usr/local/lib/python3.10/dist-packages (from ipython->jupysql) (0.7.5)\n",
            "Requirement already satisfied: traitlets>=4.2 in /usr/local/lib/python3.10/dist-packages (from ipython->jupysql) (5.7.1)\n",
            "Requirement already satisfied: prompt-toolkit!=3.0.0,!=3.0.1,<3.1.0,>=2.0.0 in /usr/local/lib/python3.10/dist-packages (from ipython->jupysql) (3.0.39)\n",
            "Requirement already satisfied: pygments in /usr/local/lib/python3.10/dist-packages (from ipython->jupysql) (2.16.1)\n",
            "Requirement already satisfied: backcall in /usr/local/lib/python3.10/dist-packages (from ipython->jupysql) (0.2.0)\n",
            "Requirement already satisfied: matplotlib-inline in /usr/local/lib/python3.10/dist-packages (from ipython->jupysql) (0.1.6)\n",
            "Requirement already satisfied: pexpect>4.3 in /usr/local/lib/python3.10/dist-packages (from ipython->jupysql) (4.8.0)\n",
            "Requirement already satisfied: MarkupSafe>=2.0 in /usr/local/lib/python3.10/dist-packages (from jinja2->jupysql) (2.1.3)\n",
            "Requirement already satisfied: wcwidth in /usr/local/lib/python3.10/dist-packages (from prettytable->jupysql) (0.2.6)\n",
            "Requirement already satisfied: typing-extensions>=4.2.0 in /usr/local/lib/python3.10/dist-packages (from sqlalchemy->jupysql) (4.7.1)\n",
            "Requirement already satisfied: greenlet!=0.4.17 in /usr/local/lib/python3.10/dist-packages (from sqlalchemy->jupysql) (2.0.2)\n",
            "Requirement already satisfied: parso<0.9.0,>=0.8.3 in /usr/local/lib/python3.10/dist-packages (from jedi>=0.16->ipython->jupysql) (0.8.3)\n",
            "Requirement already satisfied: ptyprocess>=0.5 in /usr/local/lib/python3.10/dist-packages (from pexpect>4.3->ipython->jupysql) (0.7.0)\n",
            "Requirement already satisfied: requests<3.0,>=2.7 in /usr/local/lib/python3.10/dist-packages (from posthog->ploomber-core>=0.2.7->jupysql) (2.31.0)\n",
            "Requirement already satisfied: six>=1.5 in /usr/local/lib/python3.10/dist-packages (from posthog->ploomber-core>=0.2.7->jupysql) (1.16.0)\n",
            "Collecting monotonic>=1.5 (from posthog->ploomber-core>=0.2.7->jupysql)\n",
            "  Downloading monotonic-1.6-py2.py3-none-any.whl (8.2 kB)\n",
            "Collecting backoff>=1.10.0 (from posthog->ploomber-core>=0.2.7->jupysql)\n",
            "  Downloading backoff-2.2.1-py3-none-any.whl (15 kB)\n",
            "Requirement already satisfied: python-dateutil>2.1 in /usr/local/lib/python3.10/dist-packages (from posthog->ploomber-core>=0.2.7->jupysql) (2.8.2)\n",
            "Requirement already satisfied: charset-normalizer<4,>=2 in /usr/local/lib/python3.10/dist-packages (from requests<3.0,>=2.7->posthog->ploomber-core>=0.2.7->jupysql) (3.2.0)\n",
            "Requirement already satisfied: idna<4,>=2.5 in /usr/local/lib/python3.10/dist-packages (from requests<3.0,>=2.7->posthog->ploomber-core>=0.2.7->jupysql) (3.4)\n",
            "Requirement already satisfied: urllib3<3,>=1.21.1 in /usr/local/lib/python3.10/dist-packages (from requests<3.0,>=2.7->posthog->ploomber-core>=0.2.7->jupysql) (2.0.4)\n",
            "Requirement already satisfied: certifi>=2017.4.17 in /usr/local/lib/python3.10/dist-packages (from requests<3.0,>=2.7->posthog->ploomber-core>=0.2.7->jupysql) (2023.7.22)\n",
            "Installing collected packages: sqlglot, monotonic, jedi, backoff, posthog, ploomber-core, jupysql\n",
            "Successfully installed backoff-2.2.1 jedi-0.19.0 jupysql-0.10.0 monotonic-1.6 ploomber-core-0.2.14 posthog-3.0.2 sqlglot-17.15.0\n",
            "Requirement already satisfied: beautifulsoup4 in /usr/local/lib/python3.10/dist-packages (4.11.2)\n",
            "Requirement already satisfied: soupsieve>1.2 in /usr/local/lib/python3.10/dist-packages (from beautifulsoup4) (2.4.1)\n"
          ]
        }
      ],
      "source": [
        "!pip install jupysql\n",
        "!pip install beautifulsoup4"
      ]
    },
    {
      "cell_type": "code",
      "execution_count": null,
      "metadata": {
        "id": "CGeOrt3aXBmt"
      },
      "outputs": [],
      "source": [
        "import requests\n",
        "from bs4 import BeautifulSoup\n",
        "import pandas as pd\n",
        "import sqlite3"
      ]
    },
    {
      "cell_type": "markdown",
      "metadata": {
        "id": "uVfInWI8qTN5"
      },
      "source": [
        "# BeautifulSoup\n",
        "\n",
        "BeautifulSoup é uma biblioteca Python que é usada para web scraping, ou seja, para extrair dados de páginas HTML e XML. É uma ferramenta incrivelmente útil e eficiente que permite ao programador focar em manipular os dados já coletados em vez de ter de lidar com os detalhes da extração de dados.\n",
        "\n"
      ]
    },
    {
      "cell_type": "code",
      "execution_count": null,
      "metadata": {
        "id": "1aka9Vl3qW9A"
      },
      "outputs": [],
      "source": [
        "# string HTML\n",
        "html_string = \"\"\"\n",
        "<html>\n",
        "<head>\n",
        "<title>Sirius ETL</title>\n",
        "</head>\n",
        "<body>\n",
        "<h1>Você está na página Sirius ETL</h1>\n",
        "<p>ETL significa Extract, Transform, Load, que são as etapas fundamentais para a integração e preparação de dados em um ambiente de análise.</p>\n",
        "</body>\n",
        "</html>\n",
        "\"\"\""
      ]
    },
    {
      "cell_type": "code",
      "execution_count": null,
      "metadata": {
        "colab": {
          "base_uri": "https://localhost:8080/"
        },
        "id": "BbXMza7Uq6cr",
        "outputId": "3cb7ba5c-3d27-4b29-b873-024adc1d4f4f"
      },
      "outputs": [
        {
          "name": "stdout",
          "output_type": "stream",
          "text": [
            "Sirius ETL\n",
            "Você está na página Sirius ETL\n",
            "ETL significa Extract, Transform, Load, que são as etapas fundamentais para a integração e preparação de dados em um ambiente de análise.\n"
          ]
        }
      ],
      "source": [
        "soup = BeautifulSoup(html_string, 'html.parser')\n",
        "\n",
        "# Criando uma instância BeautifulSoup\n",
        "soup = BeautifulSoup(html_string, 'html.parser')\n",
        "\n",
        "# Imprimindo o título da página\n",
        "print(soup.title.string)\n",
        "\n",
        "# Imprimindo o primeiro h1 na página\n",
        "print(soup.h1.string)\n",
        "\n",
        "# Imprimindo o primeiro parágrafo na página\n",
        "print(soup.p.string)"
      ]
    },
    {
      "cell_type": "code",
      "execution_count": null,
      "metadata": {
        "colab": {
          "base_uri": "https://localhost:8080/"
        },
        "id": "42NGlyF6rDSW",
        "outputId": "8b93027c-d90d-471e-ed1e-387c2d813ec6"
      },
      "outputs": [
        {
          "data": {
            "text/plain": [
              "[<p>ETL significa Extract, Transform, Load, que são as etapas fundamentais para a integração e preparação de dados em um ambiente de análise.</p>]"
            ]
          },
          "execution_count": 5,
          "metadata": {},
          "output_type": "execute_result"
        }
      ],
      "source": [
        "soup.find_all('p')"
      ]
    },
    {
      "cell_type": "markdown",
      "metadata": {
        "id": "wA-C9qHdW5jC"
      },
      "source": [
        "# Extração\n",
        "\n",
        "Vamos utilizar o módulo requests para obter o conteúdo HTML da página e o Beautiful Soup para fazer o parsing desses dados. Neste exemplo, vamos obter uma tabela com dados dos países da América do Sul da página https://pt.wikipedia.org/wiki/Am%C3%A9rica_do_Sul como exemplo."
      ]
    },
    {
      "cell_type": "code",
      "execution_count": null,
      "metadata": {
        "id": "spvSBWHiW36P"
      },
      "outputs": [],
      "source": [
        "# Fazer requisição GET para a página da Wikipedia e obter o conteúdo HTML\n",
        "url = \"https://pt.wikipedia.org/wiki/Am%C3%A9rica_do_Sul\"\n",
        "response = requests.get(url)\n",
        "html = response.content\n",
        "\n",
        "# Criar o objeto Beautiful Soup\n",
        "soup = BeautifulSoup(html, \"html.parser\")\n",
        "\n",
        "# Encontrar a tabela desejada na página (pode variar dependendo da página e dados que você deseja extrair)\n",
        "table = soup.find_all(\"table\", class_=\"wikitable\")[1]\n",
        "\n",
        "# Extrair os dados da tabela para uma lista\n",
        "data = []\n",
        "for row in table.find_all(\"tr\"):\n",
        "    cols = row.find_all(\"td\")\n",
        "    if cols:\n",
        "        values = [col.text.strip() for col in cols]\n",
        "        data.append(values)"
      ]
    },
    {
      "cell_type": "code",
      "execution_count": null,
      "metadata": {
        "colab": {
          "base_uri": "https://localhost:8080/"
        },
        "id": "VUgtRRghXP6H",
        "outputId": "81fbf39f-b6e1-4cc4-de5a-cefc644134f7"
      },
      "outputs": [
        {
          "data": {
            "text/plain": [
              "[['Argentina', '2\\xa0791\\xa0810\\xa0km²', '39\\xa0745\\xa0613', 'Buenos Aires'],\n",
              " ['Aruba (\\xa0Países Baixos) *', '193\\xa0km²', '102\\xa0695', 'Oranjestad'],\n",
              " ['Bolívia', '1\\xa0098\\xa0581\\xa0km²', '9\\xa0627\\xa0269', 'La Paz e Sucre'],\n",
              " ['Bonaire (\\xa0Países Baixos) **', '294\\xa0km²', '15\\xa0800', 'Kralendijk'],\n",
              " ['Brasil', '8\\xa0515\\xa0767\\xa0km²', '200\\xa0104\\xa0749', 'Brasília'],\n",
              " ['Chile', '756\\xa0950\\xa0km²', '16\\xa0598\\xa0074', 'Santiago'],\n",
              " ['Colômbia', '1\\xa0141\\xa0748\\xa0km²', '44\\xa0379\\xa0598', 'Bogotá'],\n",
              " ['Curaçao (\\xa0Países Baixos) *', '444\\xa0km²', '142\\xa0180', 'Willemstad'],\n",
              " ['Equador', '256\\xa0370\\xa0km²', '13\\xa0810\\xa0000', 'Quito'],\n",
              " ['Guiana', '214\\xa0970\\xa0km²', '751\\xa0000', 'Georgetown'],\n",
              " ['Guiana Francesa (\\xa0França) **',\n",
              "  '86\\xa0504\\xa0km²',\n",
              "  '209\\xa0000',\n",
              "  'Caiena'],\n",
              " ['Ilhas Malvinas (\\xa0Reino Unido)*',\n",
              "  '12\\xa0200\\xa0km²',\n",
              "  '3\\xa0060',\n",
              "  'Port Stanley'],\n",
              " ['Ilhas Geórgia do Sul e Sandwich do Sul (\\xa0Reino Unido) *',\n",
              "  '4\\xa0057\\xa0km²',\n",
              "  '100',\n",
              "  'Ponto Rei Eduardo'],\n",
              " ['Paraguai', '406\\xa0750\\xa0km²', '6\\xa0100\\xa0000', 'Assunção'],\n",
              " ['Peru', '1\\xa0285\\xa0220\\xa0km²', '28\\xa0674\\xa0757', 'Lima'],\n",
              " ['Suriname', '163\\xa0270\\xa0km²', '470\\xa0000', 'Paramaribo'],\n",
              " ['Trinidad e Tobago',\n",
              "  '5\\xa0131\\xa0km²',\n",
              "  '1\\xa0353\\xa0895',\n",
              "  'Porto da Espanha'],\n",
              " ['Uruguai', '176\\xa0220\\xa0km²', '3\\xa0399\\xa0237', 'Montevidéo'],\n",
              " ['Venezuela', '916\\xa0445\\xa0km²', '27\\xa0934\\xa0783', 'Caracas']]"
            ]
          },
          "execution_count": 7,
          "metadata": {},
          "output_type": "execute_result"
        }
      ],
      "source": [
        "data"
      ]
    },
    {
      "cell_type": "markdown",
      "metadata": {
        "id": "G0uHD6IHXjEl"
      },
      "source": [
        "# Transformação\n",
        "\n",
        "Aqui, podemos utilizar as funcionalidades do pandas para manipular e transformar os dados extraídos da tabela."
      ]
    },
    {
      "cell_type": "code",
      "execution_count": null,
      "metadata": {
        "id": "7UHOPSbsXwvo"
      },
      "outputs": [],
      "source": [
        "df = pd.DataFrame(data)"
      ]
    },
    {
      "cell_type": "code",
      "execution_count": null,
      "metadata": {
        "colab": {
          "base_uri": "https://localhost:8080/",
          "height": 645
        },
        "id": "P3cDa50EYCts",
        "outputId": "7b17dc50-25d1-4476-8a9b-c999815d7d47"
      },
      "outputs": [
        {
          "data": {
            "text/html": [
              "\n",
              "  <div id=\"df-fda8252b-01a9-4b21-8ea9-a08b1a5c47e4\" class=\"colab-df-container\">\n",
              "    <div>\n",
              "<style scoped>\n",
              "    .dataframe tbody tr th:only-of-type {\n",
              "        vertical-align: middle;\n",
              "    }\n",
              "\n",
              "    .dataframe tbody tr th {\n",
              "        vertical-align: top;\n",
              "    }\n",
              "\n",
              "    .dataframe thead th {\n",
              "        text-align: right;\n",
              "    }\n",
              "</style>\n",
              "<table border=\"1\" class=\"dataframe\">\n",
              "  <thead>\n",
              "    <tr style=\"text-align: right;\">\n",
              "      <th></th>\n",
              "      <th>0</th>\n",
              "      <th>1</th>\n",
              "      <th>2</th>\n",
              "      <th>3</th>\n",
              "    </tr>\n",
              "  </thead>\n",
              "  <tbody>\n",
              "    <tr>\n",
              "      <th>0</th>\n",
              "      <td>Argentina</td>\n",
              "      <td>2 791 810 km²</td>\n",
              "      <td>39 745 613</td>\n",
              "      <td>Buenos Aires</td>\n",
              "    </tr>\n",
              "    <tr>\n",
              "      <th>1</th>\n",
              "      <td>Aruba ( Países Baixos) *</td>\n",
              "      <td>193 km²</td>\n",
              "      <td>102 695</td>\n",
              "      <td>Oranjestad</td>\n",
              "    </tr>\n",
              "    <tr>\n",
              "      <th>2</th>\n",
              "      <td>Bolívia</td>\n",
              "      <td>1 098 581 km²</td>\n",
              "      <td>9 627 269</td>\n",
              "      <td>La Paz e Sucre</td>\n",
              "    </tr>\n",
              "    <tr>\n",
              "      <th>3</th>\n",
              "      <td>Bonaire ( Países Baixos) **</td>\n",
              "      <td>294 km²</td>\n",
              "      <td>15 800</td>\n",
              "      <td>Kralendijk</td>\n",
              "    </tr>\n",
              "    <tr>\n",
              "      <th>4</th>\n",
              "      <td>Brasil</td>\n",
              "      <td>8 515 767 km²</td>\n",
              "      <td>200 104 749</td>\n",
              "      <td>Brasília</td>\n",
              "    </tr>\n",
              "    <tr>\n",
              "      <th>5</th>\n",
              "      <td>Chile</td>\n",
              "      <td>756 950 km²</td>\n",
              "      <td>16 598 074</td>\n",
              "      <td>Santiago</td>\n",
              "    </tr>\n",
              "    <tr>\n",
              "      <th>6</th>\n",
              "      <td>Colômbia</td>\n",
              "      <td>1 141 748 km²</td>\n",
              "      <td>44 379 598</td>\n",
              "      <td>Bogotá</td>\n",
              "    </tr>\n",
              "    <tr>\n",
              "      <th>7</th>\n",
              "      <td>Curaçao ( Países Baixos) *</td>\n",
              "      <td>444 km²</td>\n",
              "      <td>142 180</td>\n",
              "      <td>Willemstad</td>\n",
              "    </tr>\n",
              "    <tr>\n",
              "      <th>8</th>\n",
              "      <td>Equador</td>\n",
              "      <td>256 370 km²</td>\n",
              "      <td>13 810 000</td>\n",
              "      <td>Quito</td>\n",
              "    </tr>\n",
              "    <tr>\n",
              "      <th>9</th>\n",
              "      <td>Guiana</td>\n",
              "      <td>214 970 km²</td>\n",
              "      <td>751 000</td>\n",
              "      <td>Georgetown</td>\n",
              "    </tr>\n",
              "    <tr>\n",
              "      <th>10</th>\n",
              "      <td>Guiana Francesa ( França) **</td>\n",
              "      <td>86 504 km²</td>\n",
              "      <td>209 000</td>\n",
              "      <td>Caiena</td>\n",
              "    </tr>\n",
              "    <tr>\n",
              "      <th>11</th>\n",
              "      <td>Ilhas Malvinas ( Reino Unido)*</td>\n",
              "      <td>12 200 km²</td>\n",
              "      <td>3 060</td>\n",
              "      <td>Port Stanley</td>\n",
              "    </tr>\n",
              "    <tr>\n",
              "      <th>12</th>\n",
              "      <td>Ilhas Geórgia do Sul e Sandwich do Sul ( Reino...</td>\n",
              "      <td>4 057 km²</td>\n",
              "      <td>100</td>\n",
              "      <td>Ponto Rei Eduardo</td>\n",
              "    </tr>\n",
              "    <tr>\n",
              "      <th>13</th>\n",
              "      <td>Paraguai</td>\n",
              "      <td>406 750 km²</td>\n",
              "      <td>6 100 000</td>\n",
              "      <td>Assunção</td>\n",
              "    </tr>\n",
              "    <tr>\n",
              "      <th>14</th>\n",
              "      <td>Peru</td>\n",
              "      <td>1 285 220 km²</td>\n",
              "      <td>28 674 757</td>\n",
              "      <td>Lima</td>\n",
              "    </tr>\n",
              "    <tr>\n",
              "      <th>15</th>\n",
              "      <td>Suriname</td>\n",
              "      <td>163 270 km²</td>\n",
              "      <td>470 000</td>\n",
              "      <td>Paramaribo</td>\n",
              "    </tr>\n",
              "    <tr>\n",
              "      <th>16</th>\n",
              "      <td>Trinidad e Tobago</td>\n",
              "      <td>5 131 km²</td>\n",
              "      <td>1 353 895</td>\n",
              "      <td>Porto da Espanha</td>\n",
              "    </tr>\n",
              "    <tr>\n",
              "      <th>17</th>\n",
              "      <td>Uruguai</td>\n",
              "      <td>176 220 km²</td>\n",
              "      <td>3 399 237</td>\n",
              "      <td>Montevidéo</td>\n",
              "    </tr>\n",
              "    <tr>\n",
              "      <th>18</th>\n",
              "      <td>Venezuela</td>\n",
              "      <td>916 445 km²</td>\n",
              "      <td>27 934 783</td>\n",
              "      <td>Caracas</td>\n",
              "    </tr>\n",
              "  </tbody>\n",
              "</table>\n",
              "</div>\n",
              "    <div class=\"colab-df-buttons\">\n",
              "\n",
              "  <div class=\"colab-df-container\">\n",
              "    <button class=\"colab-df-convert\" onclick=\"convertToInteractive('df-fda8252b-01a9-4b21-8ea9-a08b1a5c47e4')\"\n",
              "            title=\"Convert this dataframe to an interactive table.\"\n",
              "            style=\"display:none;\">\n",
              "\n",
              "  <svg xmlns=\"http://www.w3.org/2000/svg\" height=\"24px\" viewBox=\"0 -960 960 960\">\n",
              "    <path d=\"M120-120v-720h720v720H120Zm60-500h600v-160H180v160Zm220 220h160v-160H400v160Zm0 220h160v-160H400v160ZM180-400h160v-160H180v160Zm440 0h160v-160H620v160ZM180-180h160v-160H180v160Zm440 0h160v-160H620v160Z\"/>\n",
              "  </svg>\n",
              "    </button>\n",
              "\n",
              "  <style>\n",
              "    .colab-df-container {\n",
              "      display:flex;\n",
              "      gap: 12px;\n",
              "    }\n",
              "\n",
              "    .colab-df-convert {\n",
              "      background-color: #E8F0FE;\n",
              "      border: none;\n",
              "      border-radius: 50%;\n",
              "      cursor: pointer;\n",
              "      display: none;\n",
              "      fill: #1967D2;\n",
              "      height: 32px;\n",
              "      padding: 0 0 0 0;\n",
              "      width: 32px;\n",
              "    }\n",
              "\n",
              "    .colab-df-convert:hover {\n",
              "      background-color: #E2EBFA;\n",
              "      box-shadow: 0px 1px 2px rgba(60, 64, 67, 0.3), 0px 1px 3px 1px rgba(60, 64, 67, 0.15);\n",
              "      fill: #174EA6;\n",
              "    }\n",
              "\n",
              "    .colab-df-buttons div {\n",
              "      margin-bottom: 4px;\n",
              "    }\n",
              "\n",
              "    [theme=dark] .colab-df-convert {\n",
              "      background-color: #3B4455;\n",
              "      fill: #D2E3FC;\n",
              "    }\n",
              "\n",
              "    [theme=dark] .colab-df-convert:hover {\n",
              "      background-color: #434B5C;\n",
              "      box-shadow: 0px 1px 3px 1px rgba(0, 0, 0, 0.15);\n",
              "      filter: drop-shadow(0px 1px 2px rgba(0, 0, 0, 0.3));\n",
              "      fill: #FFFFFF;\n",
              "    }\n",
              "  </style>\n",
              "\n",
              "    <script>\n",
              "      const buttonEl =\n",
              "        document.querySelector('#df-fda8252b-01a9-4b21-8ea9-a08b1a5c47e4 button.colab-df-convert');\n",
              "      buttonEl.style.display =\n",
              "        google.colab.kernel.accessAllowed ? 'block' : 'none';\n",
              "\n",
              "      async function convertToInteractive(key) {\n",
              "        const element = document.querySelector('#df-fda8252b-01a9-4b21-8ea9-a08b1a5c47e4');\n",
              "        const dataTable =\n",
              "          await google.colab.kernel.invokeFunction('convertToInteractive',\n",
              "                                                    [key], {});\n",
              "        if (!dataTable) return;\n",
              "\n",
              "        const docLinkHtml = 'Like what you see? Visit the ' +\n",
              "          '<a target=\"_blank\" href=https://colab.research.google.com/notebooks/data_table.ipynb>data table notebook</a>'\n",
              "          + ' to learn more about interactive tables.';\n",
              "        element.innerHTML = '';\n",
              "        dataTable['output_type'] = 'display_data';\n",
              "        await google.colab.output.renderOutput(dataTable, element);\n",
              "        const docLink = document.createElement('div');\n",
              "        docLink.innerHTML = docLinkHtml;\n",
              "        element.appendChild(docLink);\n",
              "      }\n",
              "    </script>\n",
              "  </div>\n",
              "\n",
              "\n",
              "<div id=\"df-8f1ce681-9d73-4b9c-9f57-9bfe8accf037\">\n",
              "  <button class=\"colab-df-quickchart\" onclick=\"quickchart('df-8f1ce681-9d73-4b9c-9f57-9bfe8accf037')\"\n",
              "            title=\"Suggest charts.\"\n",
              "            style=\"display:none;\">\n",
              "\n",
              "<svg xmlns=\"http://www.w3.org/2000/svg\" height=\"24px\"viewBox=\"0 0 24 24\"\n",
              "     width=\"24px\">\n",
              "    <g>\n",
              "        <path d=\"M19 3H5c-1.1 0-2 .9-2 2v14c0 1.1.9 2 2 2h14c1.1 0 2-.9 2-2V5c0-1.1-.9-2-2-2zM9 17H7v-7h2v7zm4 0h-2V7h2v10zm4 0h-2v-4h2v4z\"/>\n",
              "    </g>\n",
              "</svg>\n",
              "  </button>\n",
              "\n",
              "<style>\n",
              "  .colab-df-quickchart {\n",
              "    background-color: #E8F0FE;\n",
              "    border: none;\n",
              "    border-radius: 50%;\n",
              "    cursor: pointer;\n",
              "    display: none;\n",
              "    fill: #1967D2;\n",
              "    height: 32px;\n",
              "    padding: 0 0 0 0;\n",
              "    width: 32px;\n",
              "  }\n",
              "\n",
              "  .colab-df-quickchart:hover {\n",
              "    background-color: #E2EBFA;\n",
              "    box-shadow: 0px 1px 2px rgba(60, 64, 67, 0.3), 0px 1px 3px 1px rgba(60, 64, 67, 0.15);\n",
              "    fill: #174EA6;\n",
              "  }\n",
              "\n",
              "  [theme=dark] .colab-df-quickchart {\n",
              "    background-color: #3B4455;\n",
              "    fill: #D2E3FC;\n",
              "  }\n",
              "\n",
              "  [theme=dark] .colab-df-quickchart:hover {\n",
              "    background-color: #434B5C;\n",
              "    box-shadow: 0px 1px 3px 1px rgba(0, 0, 0, 0.15);\n",
              "    filter: drop-shadow(0px 1px 2px rgba(0, 0, 0, 0.3));\n",
              "    fill: #FFFFFF;\n",
              "  }\n",
              "</style>\n",
              "\n",
              "  <script>\n",
              "    async function quickchart(key) {\n",
              "      const charts = await google.colab.kernel.invokeFunction(\n",
              "          'suggestCharts', [key], {});\n",
              "    }\n",
              "    (() => {\n",
              "      let quickchartButtonEl =\n",
              "        document.querySelector('#df-8f1ce681-9d73-4b9c-9f57-9bfe8accf037 button');\n",
              "      quickchartButtonEl.style.display =\n",
              "        google.colab.kernel.accessAllowed ? 'block' : 'none';\n",
              "    })();\n",
              "  </script>\n",
              "</div>\n",
              "    </div>\n",
              "  </div>\n"
            ],
            "text/plain": [
              "                                                    0              1  \\\n",
              "0                                           Argentina  2 791 810 km²   \n",
              "1                            Aruba ( Países Baixos) *        193 km²   \n",
              "2                                             Bolívia  1 098 581 km²   \n",
              "3                         Bonaire ( Países Baixos) **        294 km²   \n",
              "4                                              Brasil  8 515 767 km²   \n",
              "5                                               Chile    756 950 km²   \n",
              "6                                            Colômbia  1 141 748 km²   \n",
              "7                          Curaçao ( Países Baixos) *        444 km²   \n",
              "8                                             Equador    256 370 km²   \n",
              "9                                              Guiana    214 970 km²   \n",
              "10                       Guiana Francesa ( França) **     86 504 km²   \n",
              "11                     Ilhas Malvinas ( Reino Unido)*     12 200 km²   \n",
              "12  Ilhas Geórgia do Sul e Sandwich do Sul ( Reino...      4 057 km²   \n",
              "13                                           Paraguai    406 750 km²   \n",
              "14                                               Peru  1 285 220 km²   \n",
              "15                                           Suriname    163 270 km²   \n",
              "16                                  Trinidad e Tobago      5 131 km²   \n",
              "17                                            Uruguai    176 220 km²   \n",
              "18                                          Venezuela    916 445 km²   \n",
              "\n",
              "              2                  3  \n",
              "0    39 745 613       Buenos Aires  \n",
              "1       102 695         Oranjestad  \n",
              "2     9 627 269     La Paz e Sucre  \n",
              "3        15 800         Kralendijk  \n",
              "4   200 104 749           Brasília  \n",
              "5    16 598 074           Santiago  \n",
              "6    44 379 598             Bogotá  \n",
              "7       142 180         Willemstad  \n",
              "8    13 810 000              Quito  \n",
              "9       751 000         Georgetown  \n",
              "10      209 000             Caiena  \n",
              "11        3 060       Port Stanley  \n",
              "12          100  Ponto Rei Eduardo  \n",
              "13    6 100 000           Assunção  \n",
              "14   28 674 757               Lima  \n",
              "15      470 000         Paramaribo  \n",
              "16    1 353 895   Porto da Espanha  \n",
              "17    3 399 237         Montevidéo  \n",
              "18   27 934 783            Caracas  "
            ]
          },
          "execution_count": 9,
          "metadata": {},
          "output_type": "execute_result"
        }
      ],
      "source": [
        "df"
      ]
    },
    {
      "cell_type": "code",
      "execution_count": null,
      "metadata": {
        "id": "popLdZrWYDD0"
      },
      "outputs": [],
      "source": [
        "df.columns = [\"País\", \"Área\", \"População\", \"Capital\"]"
      ]
    },
    {
      "cell_type": "code",
      "execution_count": null,
      "metadata": {
        "colab": {
          "base_uri": "https://localhost:8080/",
          "height": 645
        },
        "id": "Xin_xXUCYNCJ",
        "outputId": "c8a28791-e16e-4dd6-9ed4-f2ca90d1eefd"
      },
      "outputs": [
        {
          "data": {
            "text/html": [
              "\n",
              "  <div id=\"df-0c202371-0e5a-48f3-a928-d076a638efdf\" class=\"colab-df-container\">\n",
              "    <div>\n",
              "<style scoped>\n",
              "    .dataframe tbody tr th:only-of-type {\n",
              "        vertical-align: middle;\n",
              "    }\n",
              "\n",
              "    .dataframe tbody tr th {\n",
              "        vertical-align: top;\n",
              "    }\n",
              "\n",
              "    .dataframe thead th {\n",
              "        text-align: right;\n",
              "    }\n",
              "</style>\n",
              "<table border=\"1\" class=\"dataframe\">\n",
              "  <thead>\n",
              "    <tr style=\"text-align: right;\">\n",
              "      <th></th>\n",
              "      <th>País</th>\n",
              "      <th>Área</th>\n",
              "      <th>População</th>\n",
              "      <th>Capital</th>\n",
              "    </tr>\n",
              "  </thead>\n",
              "  <tbody>\n",
              "    <tr>\n",
              "      <th>0</th>\n",
              "      <td>Argentina</td>\n",
              "      <td>2 791 810 km²</td>\n",
              "      <td>39 745 613</td>\n",
              "      <td>Buenos Aires</td>\n",
              "    </tr>\n",
              "    <tr>\n",
              "      <th>1</th>\n",
              "      <td>Aruba ( Países Baixos) *</td>\n",
              "      <td>193 km²</td>\n",
              "      <td>102 695</td>\n",
              "      <td>Oranjestad</td>\n",
              "    </tr>\n",
              "    <tr>\n",
              "      <th>2</th>\n",
              "      <td>Bolívia</td>\n",
              "      <td>1 098 581 km²</td>\n",
              "      <td>9 627 269</td>\n",
              "      <td>La Paz e Sucre</td>\n",
              "    </tr>\n",
              "    <tr>\n",
              "      <th>3</th>\n",
              "      <td>Bonaire ( Países Baixos) **</td>\n",
              "      <td>294 km²</td>\n",
              "      <td>15 800</td>\n",
              "      <td>Kralendijk</td>\n",
              "    </tr>\n",
              "    <tr>\n",
              "      <th>4</th>\n",
              "      <td>Brasil</td>\n",
              "      <td>8 515 767 km²</td>\n",
              "      <td>200 104 749</td>\n",
              "      <td>Brasília</td>\n",
              "    </tr>\n",
              "    <tr>\n",
              "      <th>5</th>\n",
              "      <td>Chile</td>\n",
              "      <td>756 950 km²</td>\n",
              "      <td>16 598 074</td>\n",
              "      <td>Santiago</td>\n",
              "    </tr>\n",
              "    <tr>\n",
              "      <th>6</th>\n",
              "      <td>Colômbia</td>\n",
              "      <td>1 141 748 km²</td>\n",
              "      <td>44 379 598</td>\n",
              "      <td>Bogotá</td>\n",
              "    </tr>\n",
              "    <tr>\n",
              "      <th>7</th>\n",
              "      <td>Curaçao ( Países Baixos) *</td>\n",
              "      <td>444 km²</td>\n",
              "      <td>142 180</td>\n",
              "      <td>Willemstad</td>\n",
              "    </tr>\n",
              "    <tr>\n",
              "      <th>8</th>\n",
              "      <td>Equador</td>\n",
              "      <td>256 370 km²</td>\n",
              "      <td>13 810 000</td>\n",
              "      <td>Quito</td>\n",
              "    </tr>\n",
              "    <tr>\n",
              "      <th>9</th>\n",
              "      <td>Guiana</td>\n",
              "      <td>214 970 km²</td>\n",
              "      <td>751 000</td>\n",
              "      <td>Georgetown</td>\n",
              "    </tr>\n",
              "    <tr>\n",
              "      <th>10</th>\n",
              "      <td>Guiana Francesa ( França) **</td>\n",
              "      <td>86 504 km²</td>\n",
              "      <td>209 000</td>\n",
              "      <td>Caiena</td>\n",
              "    </tr>\n",
              "    <tr>\n",
              "      <th>11</th>\n",
              "      <td>Ilhas Malvinas ( Reino Unido)*</td>\n",
              "      <td>12 200 km²</td>\n",
              "      <td>3 060</td>\n",
              "      <td>Port Stanley</td>\n",
              "    </tr>\n",
              "    <tr>\n",
              "      <th>12</th>\n",
              "      <td>Ilhas Geórgia do Sul e Sandwich do Sul ( Reino...</td>\n",
              "      <td>4 057 km²</td>\n",
              "      <td>100</td>\n",
              "      <td>Ponto Rei Eduardo</td>\n",
              "    </tr>\n",
              "    <tr>\n",
              "      <th>13</th>\n",
              "      <td>Paraguai</td>\n",
              "      <td>406 750 km²</td>\n",
              "      <td>6 100 000</td>\n",
              "      <td>Assunção</td>\n",
              "    </tr>\n",
              "    <tr>\n",
              "      <th>14</th>\n",
              "      <td>Peru</td>\n",
              "      <td>1 285 220 km²</td>\n",
              "      <td>28 674 757</td>\n",
              "      <td>Lima</td>\n",
              "    </tr>\n",
              "    <tr>\n",
              "      <th>15</th>\n",
              "      <td>Suriname</td>\n",
              "      <td>163 270 km²</td>\n",
              "      <td>470 000</td>\n",
              "      <td>Paramaribo</td>\n",
              "    </tr>\n",
              "    <tr>\n",
              "      <th>16</th>\n",
              "      <td>Trinidad e Tobago</td>\n",
              "      <td>5 131 km²</td>\n",
              "      <td>1 353 895</td>\n",
              "      <td>Porto da Espanha</td>\n",
              "    </tr>\n",
              "    <tr>\n",
              "      <th>17</th>\n",
              "      <td>Uruguai</td>\n",
              "      <td>176 220 km²</td>\n",
              "      <td>3 399 237</td>\n",
              "      <td>Montevidéo</td>\n",
              "    </tr>\n",
              "    <tr>\n",
              "      <th>18</th>\n",
              "      <td>Venezuela</td>\n",
              "      <td>916 445 km²</td>\n",
              "      <td>27 934 783</td>\n",
              "      <td>Caracas</td>\n",
              "    </tr>\n",
              "  </tbody>\n",
              "</table>\n",
              "</div>\n",
              "    <div class=\"colab-df-buttons\">\n",
              "\n",
              "  <div class=\"colab-df-container\">\n",
              "    <button class=\"colab-df-convert\" onclick=\"convertToInteractive('df-0c202371-0e5a-48f3-a928-d076a638efdf')\"\n",
              "            title=\"Convert this dataframe to an interactive table.\"\n",
              "            style=\"display:none;\">\n",
              "\n",
              "  <svg xmlns=\"http://www.w3.org/2000/svg\" height=\"24px\" viewBox=\"0 -960 960 960\">\n",
              "    <path d=\"M120-120v-720h720v720H120Zm60-500h600v-160H180v160Zm220 220h160v-160H400v160Zm0 220h160v-160H400v160ZM180-400h160v-160H180v160Zm440 0h160v-160H620v160ZM180-180h160v-160H180v160Zm440 0h160v-160H620v160Z\"/>\n",
              "  </svg>\n",
              "    </button>\n",
              "\n",
              "  <style>\n",
              "    .colab-df-container {\n",
              "      display:flex;\n",
              "      gap: 12px;\n",
              "    }\n",
              "\n",
              "    .colab-df-convert {\n",
              "      background-color: #E8F0FE;\n",
              "      border: none;\n",
              "      border-radius: 50%;\n",
              "      cursor: pointer;\n",
              "      display: none;\n",
              "      fill: #1967D2;\n",
              "      height: 32px;\n",
              "      padding: 0 0 0 0;\n",
              "      width: 32px;\n",
              "    }\n",
              "\n",
              "    .colab-df-convert:hover {\n",
              "      background-color: #E2EBFA;\n",
              "      box-shadow: 0px 1px 2px rgba(60, 64, 67, 0.3), 0px 1px 3px 1px rgba(60, 64, 67, 0.15);\n",
              "      fill: #174EA6;\n",
              "    }\n",
              "\n",
              "    .colab-df-buttons div {\n",
              "      margin-bottom: 4px;\n",
              "    }\n",
              "\n",
              "    [theme=dark] .colab-df-convert {\n",
              "      background-color: #3B4455;\n",
              "      fill: #D2E3FC;\n",
              "    }\n",
              "\n",
              "    [theme=dark] .colab-df-convert:hover {\n",
              "      background-color: #434B5C;\n",
              "      box-shadow: 0px 1px 3px 1px rgba(0, 0, 0, 0.15);\n",
              "      filter: drop-shadow(0px 1px 2px rgba(0, 0, 0, 0.3));\n",
              "      fill: #FFFFFF;\n",
              "    }\n",
              "  </style>\n",
              "\n",
              "    <script>\n",
              "      const buttonEl =\n",
              "        document.querySelector('#df-0c202371-0e5a-48f3-a928-d076a638efdf button.colab-df-convert');\n",
              "      buttonEl.style.display =\n",
              "        google.colab.kernel.accessAllowed ? 'block' : 'none';\n",
              "\n",
              "      async function convertToInteractive(key) {\n",
              "        const element = document.querySelector('#df-0c202371-0e5a-48f3-a928-d076a638efdf');\n",
              "        const dataTable =\n",
              "          await google.colab.kernel.invokeFunction('convertToInteractive',\n",
              "                                                    [key], {});\n",
              "        if (!dataTable) return;\n",
              "\n",
              "        const docLinkHtml = 'Like what you see? Visit the ' +\n",
              "          '<a target=\"_blank\" href=https://colab.research.google.com/notebooks/data_table.ipynb>data table notebook</a>'\n",
              "          + ' to learn more about interactive tables.';\n",
              "        element.innerHTML = '';\n",
              "        dataTable['output_type'] = 'display_data';\n",
              "        await google.colab.output.renderOutput(dataTable, element);\n",
              "        const docLink = document.createElement('div');\n",
              "        docLink.innerHTML = docLinkHtml;\n",
              "        element.appendChild(docLink);\n",
              "      }\n",
              "    </script>\n",
              "  </div>\n",
              "\n",
              "\n",
              "<div id=\"df-94fc4268-f7ae-4ae7-a5f3-b2978d3e5020\">\n",
              "  <button class=\"colab-df-quickchart\" onclick=\"quickchart('df-94fc4268-f7ae-4ae7-a5f3-b2978d3e5020')\"\n",
              "            title=\"Suggest charts.\"\n",
              "            style=\"display:none;\">\n",
              "\n",
              "<svg xmlns=\"http://www.w3.org/2000/svg\" height=\"24px\"viewBox=\"0 0 24 24\"\n",
              "     width=\"24px\">\n",
              "    <g>\n",
              "        <path d=\"M19 3H5c-1.1 0-2 .9-2 2v14c0 1.1.9 2 2 2h14c1.1 0 2-.9 2-2V5c0-1.1-.9-2-2-2zM9 17H7v-7h2v7zm4 0h-2V7h2v10zm4 0h-2v-4h2v4z\"/>\n",
              "    </g>\n",
              "</svg>\n",
              "  </button>\n",
              "\n",
              "<style>\n",
              "  .colab-df-quickchart {\n",
              "    background-color: #E8F0FE;\n",
              "    border: none;\n",
              "    border-radius: 50%;\n",
              "    cursor: pointer;\n",
              "    display: none;\n",
              "    fill: #1967D2;\n",
              "    height: 32px;\n",
              "    padding: 0 0 0 0;\n",
              "    width: 32px;\n",
              "  }\n",
              "\n",
              "  .colab-df-quickchart:hover {\n",
              "    background-color: #E2EBFA;\n",
              "    box-shadow: 0px 1px 2px rgba(60, 64, 67, 0.3), 0px 1px 3px 1px rgba(60, 64, 67, 0.15);\n",
              "    fill: #174EA6;\n",
              "  }\n",
              "\n",
              "  [theme=dark] .colab-df-quickchart {\n",
              "    background-color: #3B4455;\n",
              "    fill: #D2E3FC;\n",
              "  }\n",
              "\n",
              "  [theme=dark] .colab-df-quickchart:hover {\n",
              "    background-color: #434B5C;\n",
              "    box-shadow: 0px 1px 3px 1px rgba(0, 0, 0, 0.15);\n",
              "    filter: drop-shadow(0px 1px 2px rgba(0, 0, 0, 0.3));\n",
              "    fill: #FFFFFF;\n",
              "  }\n",
              "</style>\n",
              "\n",
              "  <script>\n",
              "    async function quickchart(key) {\n",
              "      const charts = await google.colab.kernel.invokeFunction(\n",
              "          'suggestCharts', [key], {});\n",
              "    }\n",
              "    (() => {\n",
              "      let quickchartButtonEl =\n",
              "        document.querySelector('#df-94fc4268-f7ae-4ae7-a5f3-b2978d3e5020 button');\n",
              "      quickchartButtonEl.style.display =\n",
              "        google.colab.kernel.accessAllowed ? 'block' : 'none';\n",
              "    })();\n",
              "  </script>\n",
              "</div>\n",
              "    </div>\n",
              "  </div>\n"
            ],
            "text/plain": [
              "                                                 País           Área  \\\n",
              "0                                           Argentina  2 791 810 km²   \n",
              "1                            Aruba ( Países Baixos) *        193 km²   \n",
              "2                                             Bolívia  1 098 581 km²   \n",
              "3                         Bonaire ( Países Baixos) **        294 km²   \n",
              "4                                              Brasil  8 515 767 km²   \n",
              "5                                               Chile    756 950 km²   \n",
              "6                                            Colômbia  1 141 748 km²   \n",
              "7                          Curaçao ( Países Baixos) *        444 km²   \n",
              "8                                             Equador    256 370 km²   \n",
              "9                                              Guiana    214 970 km²   \n",
              "10                       Guiana Francesa ( França) **     86 504 km²   \n",
              "11                     Ilhas Malvinas ( Reino Unido)*     12 200 km²   \n",
              "12  Ilhas Geórgia do Sul e Sandwich do Sul ( Reino...      4 057 km²   \n",
              "13                                           Paraguai    406 750 km²   \n",
              "14                                               Peru  1 285 220 km²   \n",
              "15                                           Suriname    163 270 km²   \n",
              "16                                  Trinidad e Tobago      5 131 km²   \n",
              "17                                            Uruguai    176 220 km²   \n",
              "18                                          Venezuela    916 445 km²   \n",
              "\n",
              "      População            Capital  \n",
              "0    39 745 613       Buenos Aires  \n",
              "1       102 695         Oranjestad  \n",
              "2     9 627 269     La Paz e Sucre  \n",
              "3        15 800         Kralendijk  \n",
              "4   200 104 749           Brasília  \n",
              "5    16 598 074           Santiago  \n",
              "6    44 379 598             Bogotá  \n",
              "7       142 180         Willemstad  \n",
              "8    13 810 000              Quito  \n",
              "9       751 000         Georgetown  \n",
              "10      209 000             Caiena  \n",
              "11        3 060       Port Stanley  \n",
              "12          100  Ponto Rei Eduardo  \n",
              "13    6 100 000           Assunção  \n",
              "14   28 674 757               Lima  \n",
              "15      470 000         Paramaribo  \n",
              "16    1 353 895   Porto da Espanha  \n",
              "17    3 399 237         Montevidéo  \n",
              "18   27 934 783            Caracas  "
            ]
          },
          "execution_count": 12,
          "metadata": {},
          "output_type": "execute_result"
        }
      ],
      "source": [
        "df"
      ]
    },
    {
      "cell_type": "code",
      "execution_count": null,
      "metadata": {
        "id": "QkoIo9H-YNeU"
      },
      "outputs": [],
      "source": [
        "df.set_index('País', inplace=True)"
      ]
    },
    {
      "cell_type": "code",
      "execution_count": null,
      "metadata": {
        "id": "WexZ2WZTYSI9"
      },
      "outputs": [],
      "source": [
        "df"
      ]
    },
    {
      "cell_type": "code",
      "execution_count": null,
      "metadata": {
        "id": "z1K42httYUhd"
      },
      "outputs": [],
      "source": [
        "df.loc['Trindade e Tobago', 'População'] = df.loc['Trindade e Tobago', 'Capital']\n"
      ]
    },
    {
      "cell_type": "code",
      "execution_count": null,
      "metadata": {
        "id": "DdCiSJQYYWpV"
      },
      "outputs": [],
      "source": [
        "df.loc['Trindade e Tobago', 'Capital'] = df.loc['Trindade e Tobago', 0]"
      ]
    },
    {
      "cell_type": "code",
      "execution_count": null,
      "metadata": {
        "id": "7SP8MxPuY89j"
      },
      "outputs": [],
      "source": [
        "df.drop(0, axis=1, inplace=True)"
      ]
    },
    {
      "cell_type": "code",
      "execution_count": null,
      "metadata": {
        "id": "s4fEJqVsY_XX"
      },
      "outputs": [],
      "source": [
        "df"
      ]
    },
    {
      "cell_type": "code",
      "execution_count": null,
      "metadata": {
        "id": "UsgKGkhjZuaV"
      },
      "outputs": [],
      "source": [
        "df.drop('5 131 km²', axis=0, inplace=True)"
      ]
    },
    {
      "cell_type": "code",
      "execution_count": null,
      "metadata": {
        "id": "q3i-6ZA6Zzkf"
      },
      "outputs": [],
      "source": [
        "df"
      ]
    },
    {
      "cell_type": "code",
      "execution_count": null,
      "metadata": {
        "id": "M9dfANadZLgF"
      },
      "outputs": [],
      "source": [
        "df[\"População\"] = df[\"População\"].str.replace(\"\\xa0\", \"\")\n",
        "df[\"População\"] = df[\"População\"].str.replace(\" \", \"\")\n",
        "df[\"Área\"] = df[\"Área\"].str.replace(\"km²\", \"\")\n",
        "df[\"Área\"] = df[\"Área\"].str.replace(\"\\xa0\", \"\")\n",
        "df[\"Área\"] = df[\"Área\"].str.replace(\" \", \"\")\n",
        "df[\"Área\"] = df[\"Área\"].str.replace(\"km2\", \"\")"
      ]
    },
    {
      "cell_type": "code",
      "execution_count": null,
      "metadata": {
        "id": "NPm6_hmWZTSS"
      },
      "outputs": [],
      "source": [
        "df"
      ]
    },
    {
      "cell_type": "code",
      "execution_count": null,
      "metadata": {
        "id": "byhjgy0eZ-G_"
      },
      "outputs": [],
      "source": [
        "df['Área'] = df['Área'].astype(int)\n",
        "df['População'] = df['Área'].astype(int)"
      ]
    },
    {
      "cell_type": "code",
      "execution_count": null,
      "metadata": {
        "id": "cuRSkp-mbFXF"
      },
      "outputs": [],
      "source": [
        "df.loc[df['Área'].idxmax()]"
      ]
    },
    {
      "cell_type": "markdown",
      "metadata": {
        "id": "q10MyE9rb2t0"
      },
      "source": [
        "# Carregamento\n",
        "\n",
        "Finalmente, podemos utilizar o módulo sqlite3 para criar um banco de dados SQLite3 e salvar o DataFrame como uma tabela dentro dele.\n"
      ]
    },
    {
      "cell_type": "code",
      "execution_count": null,
      "metadata": {
        "id": "tekVdKJRbG7F"
      },
      "outputs": [],
      "source": [
        "%load_ext sql"
      ]
    },
    {
      "cell_type": "code",
      "execution_count": null,
      "metadata": {
        "id": "mIKZjQ0Tb4yp"
      },
      "outputs": [],
      "source": [
        "%%sql sqlite://"
      ]
    },
    {
      "cell_type": "code",
      "execution_count": null,
      "metadata": {
        "id": "5NJ4aeBacEuS"
      },
      "outputs": [],
      "source": [
        "%sql --persist df"
      ]
    },
    {
      "cell_type": "code",
      "execution_count": null,
      "metadata": {
        "id": "HEDT_YcNFl9Y"
      },
      "outputs": [],
      "source": []
    },
    {
      "cell_type": "code",
      "execution_count": null,
      "metadata": {
        "id": "MujMchjdcGon"
      },
      "outputs": [],
      "source": [
        "%%sql\n",
        "\n",
        "select * from df"
      ]
    },
    {
      "cell_type": "code",
      "execution_count": null,
      "metadata": {
        "id": "h_l_iNbrcIdC"
      },
      "outputs": [],
      "source": []
    }
  ],
  "metadata": {
    "colab": {
      "provenance": []
    },
    "kernelspec": {
      "display_name": "Python 3",
      "name": "python3"
    },
    "language_info": {
      "name": "python"
    }
  },
  "nbformat": 4,
  "nbformat_minor": 0
}
