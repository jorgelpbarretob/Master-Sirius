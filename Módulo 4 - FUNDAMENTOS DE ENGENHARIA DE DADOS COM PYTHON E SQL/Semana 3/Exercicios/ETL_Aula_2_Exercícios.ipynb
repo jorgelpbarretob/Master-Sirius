{
  "nbformat": 4,
  "nbformat_minor": 0,
  "metadata": {
    "colab": {
      "provenance": []
    },
    "kernelspec": {
      "name": "python3",
      "display_name": "Python 3"
    },
    "language_info": {
      "name": "python"
    }
  },
  "cells": [
    {
      "cell_type": "markdown",
      "source": [
        "# Exercícios"
      ],
      "metadata": {
        "id": "CPh15dg2VZeG"
      }
    },
    {
      "cell_type": "markdown",
      "source": [
        "1. Quais são as possíveis falhas que podem ocorrer durante o processo de migração da base de dados Northwind para o modelo dimensional?"
      ],
      "metadata": {
        "id": "42fO4z2XVWNt"
      }
    },
    {
      "cell_type": "markdown",
      "source": [
        "2. Quais oportunidades de melhoria podem ser identificadas na migração realizada?"
      ],
      "metadata": {
        "id": "WiDMUveQVcuA"
      }
    },
    {
      "cell_type": "markdown",
      "source": [
        "3. Como a modelagem dimensional pode ajudar na análise de negócios em comparação com a estrutura da base de dados original?"
      ],
      "metadata": {
        "id": "uf1eRVzhVfKS"
      }
    },
    {
      "cell_type": "markdown",
      "source": [
        "4. Quais são os principais desafios enfrentados durante a transformação da base de dados em um modelo dimensional?"
      ],
      "metadata": {
        "id": "3ml4u8t-VixT"
      }
    },
    {
      "cell_type": "markdown",
      "source": [
        "5. Quais estratégias podem ser adotadas para mitigar possíveis problemas e validar a qualidade dos dados após a migração?"
      ],
      "metadata": {
        "id": "dAoDSF_wVlMV"
      }
    }
  ]
}