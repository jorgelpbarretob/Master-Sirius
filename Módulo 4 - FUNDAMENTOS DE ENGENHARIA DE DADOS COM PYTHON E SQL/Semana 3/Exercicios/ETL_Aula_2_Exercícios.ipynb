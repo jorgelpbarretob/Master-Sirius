{
  "cells": [
    {
      "cell_type": "markdown",
      "metadata": {
        "id": "CPh15dg2VZeG"
      },
      "source": [
        "# Exercícios"
      ]
    },
    {
      "cell_type": "markdown",
      "metadata": {
        "id": "42fO4z2XVWNt"
      },
      "source": [
        "1. Quais são as possíveis falhas que podem ocorrer durante o processo de migração da base de dados Northwind para o modelo dimensional?"
      ]
    },
    {
      "cell_type": "markdown",
      "metadata": {},
      "source": [
        "Perda de Dados: Risco de dados serem perdidos ou mal interpretados durante a migração.\n",
        "\n",
        "Erros de Mapeamento: Dificuldades em mapear corretamente tabelas relacionais em dimensões e fatos.\n",
        "\n",
        "Problemas de Desempenho: Ineficiências que surgem devido a um design dimensional inadequado, afetando a velocidade das consultas."
      ]
    },
    {
      "cell_type": "markdown",
      "metadata": {
        "id": "WiDMUveQVcuA"
      },
      "source": [
        "2. Quais oportunidades de melhoria podem ser identificadas na migração realizada?"
      ]
    },
    {
      "cell_type": "markdown",
      "metadata": {},
      "source": [
        "Melhoria na Eficiência de Consultas: Otimizar a estrutura para consultas analíticas mais rápidas.\n",
        "\n",
        "Aumento da Intuitividade para Usuários Finais: Tornar a base de dados mais compreensível para análise de negócios.\n",
        "\n",
        "Estrutura Escalável: Desenvolver um sistema que possa crescer e se adaptar facilmente às mudanças nos requisitos de dados."
      ]
    },
    {
      "cell_type": "markdown",
      "metadata": {
        "id": "uf1eRVzhVfKS"
      },
      "source": [
        "3. Como a modelagem dimensional pode ajudar na análise de negócios em comparação com a estrutura da base de dados original?"
      ]
    },
    {
      "cell_type": "markdown",
      "metadata": {},
      "source": [
        "Consultas Otimizadas: Acesso mais rápido e eficiente aos dados para análises complexas.\n",
        "\n",
        "Facilidade de Compreensão: Estrutura que facilita a compreensão dos dados pelos usuários de negócios.\n",
        "\n",
        "Flexibilidade para Análises Diversas: Capacidade de examinar os dados sob várias perspectivas e dimensões."
      ]
    },
    {
      "cell_type": "markdown",
      "metadata": {
        "id": "3ml4u8t-VixT"
      },
      "source": [
        "4. Quais são os principais desafios enfrentados durante a transformação da base de dados em um modelo dimensional?"
      ]
    },
    {
      "cell_type": "markdown",
      "metadata": {},
      "source": [
        "Complexidade Técnica: Desafio de converter um esquema relacional complexo em um modelo dimensional.\n",
        "\n",
        "Integridade dos Dados: Garantir a precisão e a consistência dos dados após a transformação.\n",
        "\n",
        "Treinamento e Adaptação dos Usuários: Necessidade de treinar os usuários para entender e utilizar o novo sistema."
      ]
    },
    {
      "cell_type": "markdown",
      "metadata": {
        "id": "dAoDSF_wVlMV"
      },
      "source": [
        "5. Quais estratégias podem ser adotadas para mitigar possíveis problemas e validar a qualidade dos dados após a migração?"
      ]
    },
    {
      "cell_type": "markdown",
      "metadata": {},
      "source": [
        "Testes Abrangentes: Conduzir testes detalhados para garantir a correta migração dos dados.\n",
        "\n",
        "Monitoramento e Manutenção Contínua: Estabelecer processos para monitorar e manter a qualidade dos dados.\n",
        "\n",
        "Envolver Usuários no Processo: Obter feedback dos usuários finais para identificar e corrigir problemas prontamente."
      ]
    }
  ],
  "metadata": {
    "colab": {
      "provenance": []
    },
    "kernelspec": {
      "display_name": "Python 3",
      "name": "python3"
    },
    "language_info": {
      "name": "python"
    }
  },
  "nbformat": 4,
  "nbformat_minor": 0
}
