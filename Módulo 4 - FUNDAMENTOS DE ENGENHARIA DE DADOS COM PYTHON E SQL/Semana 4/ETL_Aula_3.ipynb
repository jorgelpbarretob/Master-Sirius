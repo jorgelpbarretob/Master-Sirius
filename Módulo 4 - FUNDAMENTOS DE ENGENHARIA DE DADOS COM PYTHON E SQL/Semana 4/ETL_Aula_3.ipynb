{
  "nbformat": 4,
  "nbformat_minor": 0,
  "metadata": {
    "colab": {
      "provenance": []
    },
    "kernelspec": {
      "name": "python3",
      "display_name": "Python 3"
    }
  },
  "cells": [
    {
      "cell_type": "markdown",
      "metadata": {
        "id": "DTruZS5TPEvK"
      },
      "source": [
        "## Instalando o PySpark no Google Colab"
      ]
    },
    {
      "cell_type": "code",
      "metadata": {
        "id": "Oz_8sWI7PKEl",
        "colab": {
          "base_uri": "https://localhost:8080/"
        },
        "outputId": "0ff97723-639b-41e3-b766-1d07b2157fee"
      },
      "source": [
        "!pip install pyspark"
      ],
      "execution_count": null,
      "outputs": [
        {
          "output_type": "stream",
          "name": "stdout",
          "text": [
            "Requirement already satisfied: pyspark in /usr/local/lib/python3.10/dist-packages (3.4.1)\n",
            "Requirement already satisfied: py4j==0.10.9.7 in /usr/local/lib/python3.10/dist-packages (from pyspark) (0.10.9.7)\n"
          ]
        }
      ]
    },
    {
      "cell_type": "markdown",
      "metadata": {
        "id": "Klur5aiRPdqx"
      },
      "source": [
        "# Primeiros passos com PySpark\n",
        "\n",
        "Primeiramente, vamos iniciar nossa SparkSession"
      ]
    },
    {
      "cell_type": "code",
      "source": [
        "from pyspark.sql import SparkSession\n",
        "sc = SparkSession.builder.master('local[*]').getOrCreate()"
      ],
      "metadata": {
        "id": "jNhMiDNreaaO"
      },
      "execution_count": null,
      "outputs": []
    },
    {
      "cell_type": "markdown",
      "source": [
        "## Manipulação de dados\n",
        "\n",
        "Existem vários métodos populares para manipulação de DataFrames no PySpark, que é a biblioteca do Apache Spark para processamento de dados distribuídos. Aqui estão alguns métodos comuns no PySpark, comparados com métodos populares equivalentes no pandas:\n",
        "\n",
        "Leitura de dados:\n",
        "\n",
        "- PySpark: spark.read.format().load() ou spark.read.csv()\n",
        "- Pandas: pd.read_csv() ou pd.read_excel()\n",
        "\n",
        "Exibição de dados:\n",
        "\n",
        "- PySpark: df.show(), df.printSchema(), df.head()\n",
        "- Pandas: df.head(), df.info(), df.describe()\n",
        "\n",
        "Seleção de colunas:\n",
        "\n",
        "- PySpark: df.select('column_name'),\n",
        "- Pandas: df['column_name'], df.loc[:, 'column_name']\n",
        "\n",
        "Filtragem de dados:\n",
        "\n",
        "- PySpark: df.filter(), df.where()\n",
        "- Pandas: df[df['condition']], df.loc[df['condition']]\n",
        "\n",
        "Agrupamento e agregação:\n",
        "\n",
        "- PySpark: df.groupBy().agg(), df.groupby().sum()\n",
        "- Pandas: df.groupby().agg(), df.groupby().sum()\n",
        "\n",
        "Ordenação de dados:\n",
        "\n",
        "- PySpark: df.orderBy(), df.sort()\n",
        "- Pandas: df.sort_values(), df.sort_index()\n",
        "\n",
        "Adição e remoção de colunas:\n",
        "\n",
        "- PySpark: df.withColumn(), df.drop()\n",
        "- Pandas: df['new_column'] = value, df.drop()\n",
        "\n",
        "Junção de DataFrames:\n",
        "\n",
        "- PySpark: df.join()\n",
        "- Pandas: df.merge(), df.merge()\n",
        "\n",
        "Operações de agregação personalizadas:\n",
        "\n",
        "- PySpark: functions, pyspark.sql.functions\n",
        "- Pandas: groupby().apply(), funções personalizadas do Python\n",
        "\n",
        "Vamos ler um arquivo .csv disponibilizado pelo Airbnb utilizando o método `read.csv()`"
      ],
      "metadata": {
        "id": "tWAsdzXhdZsZ"
      }
    },
    {
      "cell_type": "code",
      "source": [
        "!wget --quiet --show-progress https://rtvad.blob.core.windows.net/misc-data/listings.csv"
      ],
      "metadata": {
        "colab": {
          "base_uri": "https://localhost:8080/"
        },
        "id": "W1TOaFjnd4BC",
        "outputId": "e52bc2f3-d9ef-4bfa-bf2a-824b180ed84e"
      },
      "execution_count": null,
      "outputs": [
        {
          "output_type": "stream",
          "name": "stdout",
          "text": [
            "listings.csv        100%[===================>]   5.42M  4.26MB/s    in 1.3s    \n"
          ]
        }
      ]
    },
    {
      "cell_type": "markdown",
      "source": [
        "### `read.format().load()` ou `spark.read.csv()`\n",
        "   Esses comandos são utilizados para carregar dados de um arquivo ou fonte externa para um DataFrame no Pyspark."
      ],
      "metadata": {
        "id": "4dibNugNpUYb"
      }
    },
    {
      "cell_type": "code",
      "source": [
        "df_spark = sc.read.csv(\"./listings.csv\", inferSchema=True, header=True)"
      ],
      "metadata": {
        "id": "w9_1JZVid2Wh"
      },
      "execution_count": null,
      "outputs": []
    },
    {
      "cell_type": "markdown",
      "source": [
        "### `show()`\n",
        "   Esse comando é usado para exibir uma prévia dos dados do DataFrame em formato de tabela."
      ],
      "metadata": {
        "id": "IFJvQXLFpadL"
      }
    },
    {
      "cell_type": "code",
      "source": [
        "df_spark.show()"
      ],
      "metadata": {
        "colab": {
          "base_uri": "https://localhost:8080/"
        },
        "id": "7OFmZpImh26W",
        "outputId": "68f9b24d-1647-41cd-c5c5-2a795a3521a5"
      },
      "execution_count": null,
      "outputs": [
        {
          "output_type": "stream",
          "name": "stdout",
          "text": [
            "+------------------+--------------------+---------+---------------+-------------------+--------------------+------------------+------------------+---------------+-----+--------------+-----------------+-----------+-----------------+------------------------------+----------------+---------------------+-------+\n",
            "|                id|                name|  host_id|      host_name|neighbourhood_group|       neighbourhood|          latitude|         longitude|      room_type|price|minimum_nights|number_of_reviews|last_review|reviews_per_month|calculated_host_listings_count|availability_365|number_of_reviews_ltm|license|\n",
            "+------------------+--------------------+---------+---------------+-------------------+--------------------+------------------+------------------+---------------+-----+--------------+-----------------+-----------+-----------------+------------------------------+----------------+---------------------+-------+\n",
            "|          29051942|Rental unit in Ip...|  4307081|        Nereu A|               null|             Ipanema|         -22.98341|          -43.2147|Entire home/apt|  334|             3|                1| 2018-10-07|             0.02|                            52|             362|                    0|   null|\n",
            "|            912633|Home in Rio de Ja...|  4897168|         Taryhk|               null|        Rio Comprido|         -22.92466|         -43.20748|    Shared room|  407|             1|                1| 2013-02-15|             0.01|                             1|               0|                    0|   null|\n",
            "|           3123306|Home in Rio · 2 b...| 15864313|     José Mario|               null|             Vidigal|         -22.99298|          -43.2391|Entire home/apt|  800|            10|                0|       null|             null|                             1|               0|                    0|   null|\n",
            "|          52279209|Rental unit in Bo...|172482654|        Evilene|               null|            Botafogo|         -22.94617|         -43.18323|Entire home/apt|  130|            20|                3| 2023-02-26|             0.15|                            14|               0|                    2|   null|\n",
            "|          45636008|Condo in Campo Gr...|199934701|          Luiza|               null|           Guaratiba|         -22.95318|         -43.57231|Entire home/apt|  140|             2|                0|       null|             null|                             1|              89|                    0|   null|\n",
            "|          42321866|Home in Copacaban...|336498592|          Agnes|               null|          Copacabana|         -22.96781|          -43.1849|   Private room|  200|             3|                0|       null|             null|                             1|               0|                    0|   null|\n",
            "|           1879131|Rental unit in Ri...|  9784682|          Thais|               null|              Centro|         -22.91666|         -43.18825|Entire home/apt|  383|             5|               15| 2016-08-20|             0.13|                             1|               0|                    0|   null|\n",
            "|          11386489|Home in Rio de Ja...| 15092611|         Nelson|               null|            Maracanã|         -22.91437|         -43.22989|Entire home/apt| 2000|            10|                0|       null|             null|                             1|               0|                    0|   null|\n",
            "|          13561531|Rental unit in Ri...| 69583438|            Eli|               null|     Barra da Tijuca|         -23.00598|          -43.3217|Entire home/apt| 6222|             1|                0|       null|             null|                             1|               0|                    0|   null|\n",
            "|           1010761|Rental unit in Ri...|  4307081|        Nereu A|               null|             Ipanema|         -22.98528|         -43.20015|Entire home/apt| 1435|             2|                0|       null|             null|                            52|             365|                    0|   null|\n",
            "|           2421783|Home in Rio · 3 b...| 12379059| Carlos Orlando|               null|            Campinho|         -22.88624|         -43.34384|Entire home/apt|  900|             2|                0|       null|             null|                             1|               0|                    0|   null|\n",
            "|          11376479|Rental unit in Ri...| 59609917|          Alice|               null|              Centro|         -22.90629|         -43.17195|   Private room|  300|             3|                0|       null|             null|                             1|               0|                    0|   null|\n",
            "|          14469401|Rental unit in Ri...| 85493490|         Dayane|               null|Recreio dos Bande...|         -23.02555|         -43.47452|Entire home/apt|  350|            10|                0|       null|             null|                             4|             364|                    0|   null|\n",
            "|           2562754|Rental unit in Ri...| 13120528|          Leila|               null|          Copacabana|         -22.96419|         -43.17962|Entire home/apt| 1436|             1|                0|       null|             null|                             1|               0|                    0|   null|\n",
            "|           1012156|Hostel in Rio de ...|  4307081|        Nereu A|               null|          Copacabana|         -22.96969|         -43.18847|   Private room|  383|             1|                0|       null|             null|                            52|             365|                    0|   null|\n",
            "|872647373995574485|Rental unit in Ri...|216326040|          Denis|               null|              Centro|-22.91220214595157|-43.18739786966554|Entire home/apt|  135|             1|                0|       null|             null|                             1|             306|                    0|   null|\n",
            "|          15790056|Loft in Rio de Ja...| 44729495|        Juliana|               null|          Copacabana|         -22.98414|          -43.1913|Entire home/apt|  191|             3|              106| 2023-06-11|             1.34|                             8|              76|                   26|   null|\n",
            "|             97636|Home in Rio de Ja...|   496656|Marcia  Longras|               null|            Botafogo|         -22.94169|         -43.18703|   Private room|  277|             8|               18| 2021-12-15|             0.13|                            11|             365|                    0|   null|\n",
            "|863882686563732543|Rental unit in Ri...|172345271|         Monica|               null|                Leme|-22.96383852122678|-43.16974267299979|Entire home/apt|  457|             2|                0|       null|             null|                             9|             115|                    0|   null|\n",
            "|709350735679244782|Rental unit in Ri...|441220159|          Mário|               null|              Centro|         -22.91192|         -43.18348|Entire home/apt|  900|             2|                0|       null|             null|                             1|             364|                    0|   null|\n",
            "+------------------+--------------------+---------+---------------+-------------------+--------------------+------------------+------------------+---------------+-----+--------------+-----------------+-----------+-----------------+------------------------------+----------------+---------------------+-------+\n",
            "only showing top 20 rows\n",
            "\n"
          ]
        }
      ]
    },
    {
      "cell_type": "markdown",
      "source": [
        "### `printSchema()`\n",
        "   Esse comando mostra o esquema do DataFrame, exibindo a estrutura dos campos e seus tipos de dados."
      ],
      "metadata": {
        "id": "lKgj-x_gpjTF"
      }
    },
    {
      "cell_type": "code",
      "source": [
        "df_spark.printSchema()"
      ],
      "metadata": {
        "colab": {
          "base_uri": "https://localhost:8080/"
        },
        "id": "ErsENEWgh9qZ",
        "outputId": "fa41d66e-b6fc-459b-c0dd-f2e2fbc58466"
      },
      "execution_count": null,
      "outputs": [
        {
          "output_type": "stream",
          "name": "stdout",
          "text": [
            "root\n",
            " |-- id: long (nullable = true)\n",
            " |-- name: string (nullable = true)\n",
            " |-- host_id: integer (nullable = true)\n",
            " |-- host_name: string (nullable = true)\n",
            " |-- neighbourhood_group: string (nullable = true)\n",
            " |-- neighbourhood: string (nullable = true)\n",
            " |-- latitude: double (nullable = true)\n",
            " |-- longitude: double (nullable = true)\n",
            " |-- room_type: string (nullable = true)\n",
            " |-- price: integer (nullable = true)\n",
            " |-- minimum_nights: integer (nullable = true)\n",
            " |-- number_of_reviews: integer (nullable = true)\n",
            " |-- last_review: date (nullable = true)\n",
            " |-- reviews_per_month: double (nullable = true)\n",
            " |-- calculated_host_listings_count: integer (nullable = true)\n",
            " |-- availability_365: integer (nullable = true)\n",
            " |-- number_of_reviews_ltm: integer (nullable = true)\n",
            " |-- license: string (nullable = true)\n",
            "\n"
          ]
        }
      ]
    },
    {
      "cell_type": "markdown",
      "source": [
        "### `head()`\n",
        "   Esse comando retorna as primeiras linhas do DataFrame como uma lista."
      ],
      "metadata": {
        "id": "2GL871bUprP6"
      }
    },
    {
      "cell_type": "code",
      "source": [
        "df_spark.head()"
      ],
      "metadata": {
        "id": "5AHKmj2Rj8ZU",
        "colab": {
          "base_uri": "https://localhost:8080/"
        },
        "outputId": "f4036da3-a51f-459b-ad68-9688a5b3bb0a"
      },
      "execution_count": null,
      "outputs": [
        {
          "output_type": "execute_result",
          "data": {
            "text/plain": [
              "Row(id=29051942, name='Rental unit in Ipanema · Studio · 1 bed · 1 bath', host_id=4307081, host_name='Nereu A', neighbourhood_group=None, neighbourhood='Ipanema', latitude=-22.98341, longitude=-43.2147, room_type='Entire home/apt', price=334, minimum_nights=3, number_of_reviews=1, last_review=datetime.date(2018, 10, 7), reviews_per_month=0.02, calculated_host_listings_count=52, availability_365=362, number_of_reviews_ltm=0, license=None)"
            ]
          },
          "metadata": {},
          "execution_count": 10
        }
      ]
    },
    {
      "cell_type": "markdown",
      "source": [
        "### `select()`\n",
        "   Esse comando permite selecionar colunas específicas do DataFrame."
      ],
      "metadata": {
        "id": "goynaK6Sqe5K"
      }
    },
    {
      "cell_type": "code",
      "source": [
        "selected_df = df_spark.select('name')\n",
        "selected_df.show()"
      ],
      "metadata": {
        "colab": {
          "base_uri": "https://localhost:8080/"
        },
        "id": "oESNvxy4qh3t",
        "outputId": "7be54ff1-6068-4b4b-d69e-6526ab12a093"
      },
      "execution_count": null,
      "outputs": [
        {
          "output_type": "stream",
          "name": "stdout",
          "text": [
            "+--------------------+\n",
            "|                name|\n",
            "+--------------------+\n",
            "|Rental unit in Ip...|\n",
            "|Home in Rio de Ja...|\n",
            "|Home in Rio · 2 b...|\n",
            "|Rental unit in Bo...|\n",
            "|Condo in Campo Gr...|\n",
            "|Home in Copacaban...|\n",
            "|Rental unit in Ri...|\n",
            "|Home in Rio de Ja...|\n",
            "|Rental unit in Ri...|\n",
            "|Rental unit in Ri...|\n",
            "|Home in Rio · 3 b...|\n",
            "|Rental unit in Ri...|\n",
            "|Rental unit in Ri...|\n",
            "|Rental unit in Ri...|\n",
            "|Hostel in Rio de ...|\n",
            "|Rental unit in Ri...|\n",
            "|Loft in Rio de Ja...|\n",
            "|Home in Rio de Ja...|\n",
            "|Rental unit in Ri...|\n",
            "|Rental unit in Ri...|\n",
            "+--------------------+\n",
            "only showing top 20 rows\n",
            "\n"
          ]
        }
      ]
    },
    {
      "cell_type": "markdown",
      "source": [
        "### `df.filter` ou `df.where`\n",
        "   Esses comandos são usados para filtrar registros com base em condições específicas."
      ],
      "metadata": {
        "id": "-HXrmrSOqnbP"
      }
    },
    {
      "cell_type": "code",
      "source": [
        "filtered_df = df_spark.filter(df_spark[\"price\"] > 100)\n",
        "filtered_df.show()"
      ],
      "metadata": {
        "colab": {
          "base_uri": "https://localhost:8080/"
        },
        "id": "E0O_ATMuqpcI",
        "outputId": "6c5472b8-408c-4591-8642-0d8480f6c776"
      },
      "execution_count": null,
      "outputs": [
        {
          "output_type": "stream",
          "name": "stdout",
          "text": [
            "+------------------+--------------------+---------+---------------+-------------------+--------------------+------------------+------------------+---------------+-----+--------------+-----------------+-----------+-----------------+------------------------------+----------------+---------------------+-------+\n",
            "|                id|                name|  host_id|      host_name|neighbourhood_group|       neighbourhood|          latitude|         longitude|      room_type|price|minimum_nights|number_of_reviews|last_review|reviews_per_month|calculated_host_listings_count|availability_365|number_of_reviews_ltm|license|\n",
            "+------------------+--------------------+---------+---------------+-------------------+--------------------+------------------+------------------+---------------+-----+--------------+-----------------+-----------+-----------------+------------------------------+----------------+---------------------+-------+\n",
            "|          29051942|Rental unit in Ip...|  4307081|        Nereu A|               null|             Ipanema|         -22.98341|          -43.2147|Entire home/apt|  334|             3|                1| 2018-10-07|             0.02|                            52|             362|                    0|   null|\n",
            "|            912633|Home in Rio de Ja...|  4897168|         Taryhk|               null|        Rio Comprido|         -22.92466|         -43.20748|    Shared room|  407|             1|                1| 2013-02-15|             0.01|                             1|               0|                    0|   null|\n",
            "|           3123306|Home in Rio · 2 b...| 15864313|     José Mario|               null|             Vidigal|         -22.99298|          -43.2391|Entire home/apt|  800|            10|                0|       null|             null|                             1|               0|                    0|   null|\n",
            "|          52279209|Rental unit in Bo...|172482654|        Evilene|               null|            Botafogo|         -22.94617|         -43.18323|Entire home/apt|  130|            20|                3| 2023-02-26|             0.15|                            14|               0|                    2|   null|\n",
            "|          45636008|Condo in Campo Gr...|199934701|          Luiza|               null|           Guaratiba|         -22.95318|         -43.57231|Entire home/apt|  140|             2|                0|       null|             null|                             1|              89|                    0|   null|\n",
            "|          42321866|Home in Copacaban...|336498592|          Agnes|               null|          Copacabana|         -22.96781|          -43.1849|   Private room|  200|             3|                0|       null|             null|                             1|               0|                    0|   null|\n",
            "|           1879131|Rental unit in Ri...|  9784682|          Thais|               null|              Centro|         -22.91666|         -43.18825|Entire home/apt|  383|             5|               15| 2016-08-20|             0.13|                             1|               0|                    0|   null|\n",
            "|          11386489|Home in Rio de Ja...| 15092611|         Nelson|               null|            Maracanã|         -22.91437|         -43.22989|Entire home/apt| 2000|            10|                0|       null|             null|                             1|               0|                    0|   null|\n",
            "|          13561531|Rental unit in Ri...| 69583438|            Eli|               null|     Barra da Tijuca|         -23.00598|          -43.3217|Entire home/apt| 6222|             1|                0|       null|             null|                             1|               0|                    0|   null|\n",
            "|           1010761|Rental unit in Ri...|  4307081|        Nereu A|               null|             Ipanema|         -22.98528|         -43.20015|Entire home/apt| 1435|             2|                0|       null|             null|                            52|             365|                    0|   null|\n",
            "|           2421783|Home in Rio · 3 b...| 12379059| Carlos Orlando|               null|            Campinho|         -22.88624|         -43.34384|Entire home/apt|  900|             2|                0|       null|             null|                             1|               0|                    0|   null|\n",
            "|          11376479|Rental unit in Ri...| 59609917|          Alice|               null|              Centro|         -22.90629|         -43.17195|   Private room|  300|             3|                0|       null|             null|                             1|               0|                    0|   null|\n",
            "|          14469401|Rental unit in Ri...| 85493490|         Dayane|               null|Recreio dos Bande...|         -23.02555|         -43.47452|Entire home/apt|  350|            10|                0|       null|             null|                             4|             364|                    0|   null|\n",
            "|           2562754|Rental unit in Ri...| 13120528|          Leila|               null|          Copacabana|         -22.96419|         -43.17962|Entire home/apt| 1436|             1|                0|       null|             null|                             1|               0|                    0|   null|\n",
            "|           1012156|Hostel in Rio de ...|  4307081|        Nereu A|               null|          Copacabana|         -22.96969|         -43.18847|   Private room|  383|             1|                0|       null|             null|                            52|             365|                    0|   null|\n",
            "|872647373995574485|Rental unit in Ri...|216326040|          Denis|               null|              Centro|-22.91220214595157|-43.18739786966554|Entire home/apt|  135|             1|                0|       null|             null|                             1|             306|                    0|   null|\n",
            "|          15790056|Loft in Rio de Ja...| 44729495|        Juliana|               null|          Copacabana|         -22.98414|          -43.1913|Entire home/apt|  191|             3|              106| 2023-06-11|             1.34|                             8|              76|                   26|   null|\n",
            "|             97636|Home in Rio de Ja...|   496656|Marcia  Longras|               null|            Botafogo|         -22.94169|         -43.18703|   Private room|  277|             8|               18| 2021-12-15|             0.13|                            11|             365|                    0|   null|\n",
            "|863882686563732543|Rental unit in Ri...|172345271|         Monica|               null|                Leme|-22.96383852122678|-43.16974267299979|Entire home/apt|  457|             2|                0|       null|             null|                             9|             115|                    0|   null|\n",
            "|709350735679244782|Rental unit in Ri...|441220159|          Mário|               null|              Centro|         -22.91192|         -43.18348|Entire home/apt|  900|             2|                0|       null|             null|                             1|             364|                    0|   null|\n",
            "+------------------+--------------------+---------+---------------+-------------------+--------------------+------------------+------------------+---------------+-----+--------------+-----------------+-----------+-----------------+------------------------------+----------------+---------------------+-------+\n",
            "only showing top 20 rows\n",
            "\n"
          ]
        }
      ]
    },
    {
      "cell_type": "markdown",
      "source": [
        "### `df.groupby.agg`\n",
        "   Esse comando é utilizado para agrupar o DataFrame por uma ou mais colunas e aplicar uma ou mais operações agregadas, como sum, count, mean, etc."
      ],
      "metadata": {
        "id": "mCpR7nEZqx2W"
      }
    },
    {
      "cell_type": "code",
      "source": [
        "aggregated_df = df_spark.groupby(\"neighbourhood\").agg({\"price\": \"avg\", \"number_of_reviews\": \"sum\"})\n",
        "aggregated_df.show()"
      ],
      "metadata": {
        "colab": {
          "base_uri": "https://localhost:8080/"
        },
        "id": "q3xv2l1Qqyfz",
        "outputId": "e751062e-b200-46f9-a0a5-be729fde8e95"
      },
      "execution_count": null,
      "outputs": [
        {
          "output_type": "stream",
          "name": "stdout",
          "text": [
            "+-------------------+------------------+----------------------+\n",
            "|      neighbourhood|        avg(price)|sum(number_of_reviews)|\n",
            "+-------------------+------------------+----------------------+\n",
            "|             Cocotá|             230.0|                     2|\n",
            "|              Gávea| 991.0049751243781|                  2000|\n",
            "|       Tomás Coelho|             100.5|                     4|\n",
            "|            Ipanema| 966.4082763115022|                 85048|\n",
            "|           Realengo|           955.625|                    12|\n",
            "|      Gardênia Azul| 381.2647058823529|                   185|\n",
            "|              Rocha| 444.3333333333333|                    26|\n",
            "|      Bento Ribeiro| 286.8181818181818|                   176|\n",
            "|Vicente de Carvalho|              94.5|                    14|\n",
            "|         Manguinhos|             117.0|                     0|\n",
            "|           Botafogo| 753.7788461538462|                 25471|\n",
            "|               Leme| 514.1632653061224|                 11791|\n",
            "|        Jacarepaguá| 679.3083280356008|                 17136|\n",
            "|       Campo Grande| 590.1944444444445|                   918|\n",
            "|            Rocinha| 648.9166666666666|                    63|\n",
            "|            Grumari|             466.5|                   200|\n",
            "|       Padre Miguel|             391.0|                    11|\n",
            "|           Flamengo| 516.8720112517581|                 10575|\n",
            "|       Santo Cristo|358.90909090909093|                    77|\n",
            "|  Engenho da Rainha|             793.0|                     1|\n",
            "+-------------------+------------------+----------------------+\n",
            "only showing top 20 rows\n",
            "\n"
          ]
        }
      ]
    },
    {
      "cell_type": "markdown",
      "source": [
        "### `df.groupby.sum`\n",
        "   Esse comando é usado para agrupar o DataFrame por uma ou mais colunas e calcular a soma de uma ou mais colunas numéricas."
      ],
      "metadata": {
        "id": "2Azw1GierdJ7"
      }
    },
    {
      "cell_type": "code",
      "source": [
        "summed_df = df_spark.groupby(\"neighbourhood\").sum(\"price\", \"number_of_reviews\")\n",
        "summed_df.show()"
      ],
      "metadata": {
        "colab": {
          "base_uri": "https://localhost:8080/"
        },
        "id": "fl0ROQ0Frfrs",
        "outputId": "e469ecf4-930d-4cb8-ea3a-e14f425a4f27"
      },
      "execution_count": null,
      "outputs": [
        {
          "output_type": "stream",
          "name": "stdout",
          "text": [
            "+-------------------+----------+----------------------+\n",
            "|      neighbourhood|sum(price)|sum(number_of_reviews)|\n",
            "+-------------------+----------+----------------------+\n",
            "|             Cocotá|       690|                     2|\n",
            "|              Gávea|    199192|                  2000|\n",
            "|       Tomás Coelho|       402|                     4|\n",
            "|            Ipanema|   2965907|                 85048|\n",
            "|           Realengo|      7645|                    12|\n",
            "|      Gardênia Azul|     12963|                   185|\n",
            "|              Rocha|      3999|                    26|\n",
            "|      Bento Ribeiro|      3155|                   176|\n",
            "|Vicente de Carvalho|       189|                    14|\n",
            "|         Manguinhos|       117|                     0|\n",
            "|           Botafogo|   1019109|                 25471|\n",
            "|               Leme|    302328|                 11791|\n",
            "|        Jacarepaguá|   1068552|                 17136|\n",
            "|       Campo Grande|     63741|                   918|\n",
            "|            Rocinha|     15574|                    63|\n",
            "|            Grumari|      2799|                   200|\n",
            "|       Padre Miguel|      3128|                    11|\n",
            "|           Flamengo|    367496|                 10575|\n",
            "|       Santo Cristo|      3948|                    77|\n",
            "|  Engenho da Rainha|      1586|                     1|\n",
            "+-------------------+----------+----------------------+\n",
            "only showing top 20 rows\n",
            "\n"
          ]
        }
      ]
    },
    {
      "cell_type": "markdown",
      "source": [
        "### `df.orderBy` ou `df.sort`\n",
        "   Esses comandos são utilizados para ordenar o DataFrame com base em uma ou mais colunas."
      ],
      "metadata": {
        "id": "sa1nE82urp6h"
      }
    },
    {
      "cell_type": "code",
      "source": [
        "sorted_df = df_spark.orderBy(\"price\")\n",
        "sorted_df.show()"
      ],
      "metadata": {
        "colab": {
          "base_uri": "https://localhost:8080/"
        },
        "id": "hCr7Tk9jrtAO",
        "outputId": "ac38a060-1a3c-4f11-b012-3160a0947621"
      },
      "execution_count": null,
      "outputs": [
        {
          "output_type": "stream",
          "name": "stdout",
          "text": [
            "+------------------+--------------------+---------+----------------+-------------------+--------------------+-------------------+-------------------+---------------+-----+--------------+-----------------+-----------+-----------------+------------------------------+----------------+---------------------+-------+\n",
            "|                id|                name|  host_id|       host_name|neighbourhood_group|       neighbourhood|           latitude|          longitude|      room_type|price|minimum_nights|number_of_reviews|last_review|reviews_per_month|calculated_host_listings_count|availability_365|number_of_reviews_ltm|license|\n",
            "+------------------+--------------------+---------+----------------+-------------------+--------------------+-------------------+-------------------+---------------+-----+--------------+-----------------+-----------+-----------------+------------------------------+----------------+---------------------+-------+\n",
            "|          43148322|Hotel in Barra da...|315032561|  Américas Barra|               null|     Barra da Tijuca|          -23.00065|          -43.41907|     Hotel room|    0|             1|                0|       null|             null|                             1|               0|                    0|   null|\n",
            "|          45636785|Boutique hotel in...|369708259|          Selina|               null|          Copacabana|           -22.9801|          -43.19002|     Hotel room|    0|             1|              216| 2022-11-18|             6.99|                             2|               0|                    5|   null|\n",
            "|          43247506|Hotel in Centro ·...|310461308|Américas Granada|               null|              Centro|          -22.91155|           -43.1838|     Hotel room|    0|             1|                0|       null|             null|                             1|               0|                    0|   null|\n",
            "|          43148433|Hotel in Copacaba...|318396893|        Américas|               null|          Copacabana|          -22.97081|          -43.18915|     Hotel room|    0|             2|                0|       null|             null|                             1|               0|                    0|   null|\n",
            "|          43309227|Hotel in Copacaba...|312899567|       Augusto'S|               null|          Copacabana|          -22.96159|          -43.17491|     Hotel room|    0|             1|                0|       null|             null|                             1|               0|                    0|   null|\n",
            "|          43036115|Hotel in Copacaba...|311180109|      Rio Design|               null|          Copacabana|          -22.98298|          -43.19063|     Hotel room|    0|             1|                0|       null|             null|                             1|               0|                    0|   null|\n",
            "|          14358570|Rental unit in Ri...| 87681423|          Rafael|               null|            Cachambi|          -22.89472|          -43.26944|   Private room|   33|            80|                2| 2017-09-25|             0.03|                             1|             359|                    0|   null|\n",
            "|           9651430|Home in Rio de Ja...| 49894931|       Elizabeth|               null|              Grajaú|          -22.92036|          -43.26042|    Shared room|   35|             7|                0|       null|             null|                             1|             365|                    0|   null|\n",
            "|          15781518|Rental unit in Ri...|102074576|         Adriana|               null|         Jacarepaguá|          -22.92274|          -43.42687|   Private room|   35|           365|                0|       null|             null|                             1|               0|                    0|   null|\n",
            "|          54357792|Place to stay in ...|440770399|        Reynaldo|               null|              Tijuca|          -22.93882|          -43.24906|    Shared room|   37|             1|                1| 2022-05-09|             0.07|                             2|             155|                    0|   null|\n",
            "|          48693338|Bed and breakfast...| 41846354|        Reynaldo|               null|              Tijuca|          -22.92464|          -43.21961|    Shared room|   38|             1|               25| 2023-06-18|             0.91|                             7|              30|                   12|   null|\n",
            "|          21825145|Home in Vicente d...|158569627|        Etelvina|               null| Vicente de Carvalho|           -22.8512|          -43.31095|   Private room|   39|           120|                0|       null|             null|                             1|               0|                    0|   null|\n",
            "|868325732367941840|Guesthouse in Rio...|155126690|          Efraim|               null|            Flamengo|-22.927919139172438| -43.17616352819878|    Shared room|   40|             1|                0|       null|             null|                             1|             319|                    0|   null|\n",
            "|882096679932197815|Home in Rio de Ja...|201307776|          Monica|               null|           Bancários|-22.798192027189824|-43.177442811151764|Entire home/apt|   40|             1|                0|       null|             null|                             1|             356|                    0|   null|\n",
            "|893023586297456862|Guesthouse in Rio...|515120985|         Vanessa|               null|São Francisco Xavier|        -22.8976673|        -43.2435171|    Shared room|   40|             1|                0|       null|             null|                             1|             365|                    0|   null|\n",
            "|921613233047549133|Guesthouse in Rio...|521919836|           Pablo|               null|        Santa Teresa|          -22.91673|          -43.18733|    Shared room|   40|             1|                0|       null|             null|                             1|             364|                    0|   null|\n",
            "|869362881649284001|Guesthouse in Rio...| 26650786|         Eduardo|               null|             Rocinha|-22.990938193436858| -43.24964102357626|    Shared room|   40|             1|                0|       null|             null|                             1|             365|                    0|   null|\n",
            "|888599873511732243|Rental unit in Ri...|200499012|         Camilla|               null|              Grajaú|        -22.9218372| -43.26589990000001|   Private room|   40|             1|                0|       null|             null|                             3|             364|                    0|   null|\n",
            "|          14026935|Rental unit in Ri...| 83888085|            Iara|               null|              Catete|          -22.92893|           -43.1793|   Private room|   40|             1|                6| 2019-06-28|             0.07|                             1|               0|                    0|   null|\n",
            "|910812729373830621|Rental unit in Ri...|438800528|         Tatiane|               null|   Praça da Bandeira|-22.911118744367442|-43.212567759757796|   Private room|   40|             1|                0|       null|             null|                             1|             362|                    0|   null|\n",
            "+------------------+--------------------+---------+----------------+-------------------+--------------------+-------------------+-------------------+---------------+-----+--------------+-----------------+-----------+-----------------+------------------------------+----------------+---------------------+-------+\n",
            "only showing top 20 rows\n",
            "\n"
          ]
        }
      ]
    },
    {
      "cell_type": "markdown",
      "source": [
        "### `df.withColumn`\n",
        "  Esse comando permite criar uma nova coluna ou substituir os valores de uma coluna existente."
      ],
      "metadata": {
        "id": "Hnc4v_K3rwBa"
      }
    },
    {
      "cell_type": "code",
      "source": [
        "updated_df = df_spark.withColumn(\"reviews_per_month_int\", df_spark[\"reviews_per_month\"].cast(\"integer\"))\n",
        "updated_df.show()"
      ],
      "metadata": {
        "colab": {
          "base_uri": "https://localhost:8080/"
        },
        "id": "oFUus1VAr003",
        "outputId": "81392e34-0432-446f-f28b-3ee468c6a8f4"
      },
      "execution_count": null,
      "outputs": [
        {
          "output_type": "stream",
          "name": "stdout",
          "text": [
            "+------------------+--------------------+---------+---------------+-------------------+--------------------+------------------+------------------+---------------+-----+--------------+-----------------+-----------+-----------------+------------------------------+----------------+---------------------+-------+---------------------+\n",
            "|                id|                name|  host_id|      host_name|neighbourhood_group|       neighbourhood|          latitude|         longitude|      room_type|price|minimum_nights|number_of_reviews|last_review|reviews_per_month|calculated_host_listings_count|availability_365|number_of_reviews_ltm|license|reviews_per_month_int|\n",
            "+------------------+--------------------+---------+---------------+-------------------+--------------------+------------------+------------------+---------------+-----+--------------+-----------------+-----------+-----------------+------------------------------+----------------+---------------------+-------+---------------------+\n",
            "|          29051942|Rental unit in Ip...|  4307081|        Nereu A|               null|             Ipanema|         -22.98341|          -43.2147|Entire home/apt|  334|             3|                1| 2018-10-07|             0.02|                            52|             362|                    0|   null|                    0|\n",
            "|            912633|Home in Rio de Ja...|  4897168|         Taryhk|               null|        Rio Comprido|         -22.92466|         -43.20748|    Shared room|  407|             1|                1| 2013-02-15|             0.01|                             1|               0|                    0|   null|                    0|\n",
            "|           3123306|Home in Rio · 2 b...| 15864313|     José Mario|               null|             Vidigal|         -22.99298|          -43.2391|Entire home/apt|  800|            10|                0|       null|             null|                             1|               0|                    0|   null|                 null|\n",
            "|          52279209|Rental unit in Bo...|172482654|        Evilene|               null|            Botafogo|         -22.94617|         -43.18323|Entire home/apt|  130|            20|                3| 2023-02-26|             0.15|                            14|               0|                    2|   null|                    0|\n",
            "|          45636008|Condo in Campo Gr...|199934701|          Luiza|               null|           Guaratiba|         -22.95318|         -43.57231|Entire home/apt|  140|             2|                0|       null|             null|                             1|              89|                    0|   null|                 null|\n",
            "|          42321866|Home in Copacaban...|336498592|          Agnes|               null|          Copacabana|         -22.96781|          -43.1849|   Private room|  200|             3|                0|       null|             null|                             1|               0|                    0|   null|                 null|\n",
            "|           1879131|Rental unit in Ri...|  9784682|          Thais|               null|              Centro|         -22.91666|         -43.18825|Entire home/apt|  383|             5|               15| 2016-08-20|             0.13|                             1|               0|                    0|   null|                    0|\n",
            "|          11386489|Home in Rio de Ja...| 15092611|         Nelson|               null|            Maracanã|         -22.91437|         -43.22989|Entire home/apt| 2000|            10|                0|       null|             null|                             1|               0|                    0|   null|                 null|\n",
            "|          13561531|Rental unit in Ri...| 69583438|            Eli|               null|     Barra da Tijuca|         -23.00598|          -43.3217|Entire home/apt| 6222|             1|                0|       null|             null|                             1|               0|                    0|   null|                 null|\n",
            "|           1010761|Rental unit in Ri...|  4307081|        Nereu A|               null|             Ipanema|         -22.98528|         -43.20015|Entire home/apt| 1435|             2|                0|       null|             null|                            52|             365|                    0|   null|                 null|\n",
            "|           2421783|Home in Rio · 3 b...| 12379059| Carlos Orlando|               null|            Campinho|         -22.88624|         -43.34384|Entire home/apt|  900|             2|                0|       null|             null|                             1|               0|                    0|   null|                 null|\n",
            "|          11376479|Rental unit in Ri...| 59609917|          Alice|               null|              Centro|         -22.90629|         -43.17195|   Private room|  300|             3|                0|       null|             null|                             1|               0|                    0|   null|                 null|\n",
            "|          14469401|Rental unit in Ri...| 85493490|         Dayane|               null|Recreio dos Bande...|         -23.02555|         -43.47452|Entire home/apt|  350|            10|                0|       null|             null|                             4|             364|                    0|   null|                 null|\n",
            "|           2562754|Rental unit in Ri...| 13120528|          Leila|               null|          Copacabana|         -22.96419|         -43.17962|Entire home/apt| 1436|             1|                0|       null|             null|                             1|               0|                    0|   null|                 null|\n",
            "|           1012156|Hostel in Rio de ...|  4307081|        Nereu A|               null|          Copacabana|         -22.96969|         -43.18847|   Private room|  383|             1|                0|       null|             null|                            52|             365|                    0|   null|                 null|\n",
            "|872647373995574485|Rental unit in Ri...|216326040|          Denis|               null|              Centro|-22.91220214595157|-43.18739786966554|Entire home/apt|  135|             1|                0|       null|             null|                             1|             306|                    0|   null|                 null|\n",
            "|          15790056|Loft in Rio de Ja...| 44729495|        Juliana|               null|          Copacabana|         -22.98414|          -43.1913|Entire home/apt|  191|             3|              106| 2023-06-11|             1.34|                             8|              76|                   26|   null|                    1|\n",
            "|             97636|Home in Rio de Ja...|   496656|Marcia  Longras|               null|            Botafogo|         -22.94169|         -43.18703|   Private room|  277|             8|               18| 2021-12-15|             0.13|                            11|             365|                    0|   null|                    0|\n",
            "|863882686563732543|Rental unit in Ri...|172345271|         Monica|               null|                Leme|-22.96383852122678|-43.16974267299979|Entire home/apt|  457|             2|                0|       null|             null|                             9|             115|                    0|   null|                 null|\n",
            "|709350735679244782|Rental unit in Ri...|441220159|          Mário|               null|              Centro|         -22.91192|         -43.18348|Entire home/apt|  900|             2|                0|       null|             null|                             1|             364|                    0|   null|                 null|\n",
            "+------------------+--------------------+---------+---------------+-------------------+--------------------+------------------+------------------+---------------+-----+--------------+-----------------+-----------+-----------------+------------------------------+----------------+---------------------+-------+---------------------+\n",
            "only showing top 20 rows\n",
            "\n"
          ]
        }
      ]
    },
    {
      "cell_type": "code",
      "source": [],
      "metadata": {
        "id": "4INES4x6sZv0"
      },
      "execution_count": null,
      "outputs": []
    }
  ]
}