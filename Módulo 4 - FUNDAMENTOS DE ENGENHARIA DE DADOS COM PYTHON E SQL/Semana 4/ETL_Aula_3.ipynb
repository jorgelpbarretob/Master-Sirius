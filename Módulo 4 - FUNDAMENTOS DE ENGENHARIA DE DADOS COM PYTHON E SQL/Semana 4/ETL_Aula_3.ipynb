{
  "cells": [
    {
      "cell_type": "markdown",
      "metadata": {
        "id": "DTruZS5TPEvK"
      },
      "source": [
        "## Instalando o PySpark no Google Colab"
      ]
    },
    {
      "cell_type": "code",
      "execution_count": 1,
      "metadata": {
        "colab": {
          "base_uri": "https://localhost:8080/"
        },
        "id": "Oz_8sWI7PKEl",
        "outputId": "c99c7e46-11d5-4a70-eae0-75d7020cb132"
      },
      "outputs": [
        {
          "output_type": "stream",
          "name": "stdout",
          "text": [
            "Collecting pyspark\n",
            "  Downloading pyspark-3.5.0.tar.gz (316.9 MB)\n",
            "\u001b[2K     \u001b[90m━━━━━━━━━━━━━━━━━━━━━━━━━━━━━━━━━━━━━━━━\u001b[0m \u001b[32m316.9/316.9 MB\u001b[0m \u001b[31m2.1 MB/s\u001b[0m eta \u001b[36m0:00:00\u001b[0m\n",
            "\u001b[?25h  Preparing metadata (setup.py) ... \u001b[?25l\u001b[?25hdone\n",
            "Requirement already satisfied: py4j==0.10.9.7 in /usr/local/lib/python3.10/dist-packages (from pyspark) (0.10.9.7)\n",
            "Building wheels for collected packages: pyspark\n",
            "  Building wheel for pyspark (setup.py) ... \u001b[?25l\u001b[?25hdone\n",
            "  Created wheel for pyspark: filename=pyspark-3.5.0-py2.py3-none-any.whl size=317425345 sha256=61704abcdde4be7cfe4c239c41f64891dccab90791d7c4a24ccbc004c99f42ff\n",
            "  Stored in directory: /root/.cache/pip/wheels/41/4e/10/c2cf2467f71c678cfc8a6b9ac9241e5e44a01940da8fbb17fc\n",
            "Successfully built pyspark\n",
            "Installing collected packages: pyspark\n",
            "Successfully installed pyspark-3.5.0\n"
          ]
        }
      ],
      "source": [
        "!pip install pyspark"
      ]
    },
    {
      "cell_type": "markdown",
      "metadata": {
        "id": "Klur5aiRPdqx"
      },
      "source": [
        "# Primeiros passos com PySpark\n",
        "\n",
        "Primeiramente, vamos iniciar nossa SparkSession"
      ]
    },
    {
      "cell_type": "code",
      "execution_count": 2,
      "metadata": {
        "id": "jNhMiDNreaaO"
      },
      "outputs": [],
      "source": [
        "from pyspark.sql import SparkSession\n",
        "sc = SparkSession.builder.master('local[*]').getOrCreate()"
      ]
    },
    {
      "cell_type": "markdown",
      "metadata": {
        "id": "tWAsdzXhdZsZ"
      },
      "source": [
        "## Manipulação de dados\n",
        "\n",
        "Existem vários métodos populares para manipulação de DataFrames no PySpark, que é a biblioteca do Apache Spark para processamento de dados distribuídos. Aqui estão alguns métodos comuns no PySpark, comparados com métodos populares equivalentes no pandas:\n",
        "\n",
        "Leitura de dados:\n",
        "\n",
        "- PySpark: spark.read.format().load() ou spark.read.csv()\n",
        "- Pandas: pd.read_csv() ou pd.read_excel()\n",
        "\n",
        "Exibição de dados:\n",
        "\n",
        "- PySpark: df.show(), df.printSchema(), df.head()\n",
        "- Pandas: df.head(), df.info(), df.describe()\n",
        "\n",
        "Seleção de colunas:\n",
        "\n",
        "- PySpark: df.select('column_name'),\n",
        "- Pandas: df['column_name'], df.loc[:, 'column_name']\n",
        "\n",
        "Filtragem de dados:\n",
        "\n",
        "- PySpark: df.filter(), df.where()\n",
        "- Pandas: df[df['condition']], df.loc[df['condition']]\n",
        "\n",
        "Agrupamento e agregação:\n",
        "\n",
        "- PySpark: df.groupBy().agg(), df.groupby().sum()\n",
        "- Pandas: df.groupby().agg(), df.groupby().sum()\n",
        "\n",
        "Ordenação de dados:\n",
        "\n",
        "- PySpark: df.orderBy(), df.sort()\n",
        "- Pandas: df.sort_values(), df.sort_index()\n",
        "\n",
        "Adição e remoção de colunas:\n",
        "\n",
        "- PySpark: df.withColumn(), df.drop()\n",
        "- Pandas: df['new_column'] = value, df.drop()\n",
        "\n",
        "Junção de DataFrames:\n",
        "\n",
        "- PySpark: df.join()\n",
        "- Pandas: df.merge(), df.merge()\n",
        "\n",
        "Operações de agregação personalizadas:\n",
        "\n",
        "- PySpark: functions, pyspark.sql.functions\n",
        "- Pandas: groupby().apply(), funções personalizadas do Python\n",
        "\n",
        "Vamos ler um arquivo .csv disponibilizado pelo Airbnb utilizando o método `read.csv()`"
      ]
    },
    {
      "cell_type": "code",
      "execution_count": 3,
      "metadata": {
        "colab": {
          "base_uri": "https://localhost:8080/"
        },
        "id": "W1TOaFjnd4BC",
        "outputId": "7ea23e87-3160-45cf-ec57-c64fb798051f"
      },
      "outputs": [
        {
          "output_type": "stream",
          "name": "stdout",
          "text": [
            "listings.csv        100%[===================>]   5.42M  8.00MB/s    in 0.7s    \n"
          ]
        }
      ],
      "source": [
        "!wget --quiet --show-progress https://rtvad.blob.core.windows.net/misc-data/listings.csv"
      ]
    },
    {
      "cell_type": "markdown",
      "metadata": {
        "id": "4dibNugNpUYb"
      },
      "source": [
        "### `read.format().load()` ou `spark.read.csv()`\n",
        "   Esses comandos são utilizados para carregar dados de um arquivo ou fonte externa para um DataFrame no Pyspark."
      ]
    },
    {
      "cell_type": "code",
      "execution_count": 4,
      "metadata": {
        "id": "w9_1JZVid2Wh"
      },
      "outputs": [],
      "source": [
        "df_spark = sc.read.csv(\"./listings.csv\", inferSchema=True, header=True)"
      ]
    },
    {
      "cell_type": "markdown",
      "metadata": {
        "id": "IFJvQXLFpadL"
      },
      "source": [
        "### `show()`\n",
        "   Esse comando é usado para exibir uma prévia dos dados do DataFrame em formato de tabela."
      ]
    },
    {
      "cell_type": "code",
      "execution_count": 5,
      "metadata": {
        "colab": {
          "base_uri": "https://localhost:8080/"
        },
        "id": "7OFmZpImh26W",
        "outputId": "5e39c11e-aec5-4e9a-a110-3d3df05eee0e"
      },
      "outputs": [
        {
          "output_type": "stream",
          "name": "stdout",
          "text": [
            "+------------------+--------------------+---------+---------------+-------------------+--------------------+------------------+------------------+---------------+-----+--------------+-----------------+-----------+-----------------+------------------------------+----------------+---------------------+-------+\n",
            "|                id|                name|  host_id|      host_name|neighbourhood_group|       neighbourhood|          latitude|         longitude|      room_type|price|minimum_nights|number_of_reviews|last_review|reviews_per_month|calculated_host_listings_count|availability_365|number_of_reviews_ltm|license|\n",
            "+------------------+--------------------+---------+---------------+-------------------+--------------------+------------------+------------------+---------------+-----+--------------+-----------------+-----------+-----------------+------------------------------+----------------+---------------------+-------+\n",
            "|          29051942|Rental unit in Ip...|  4307081|        Nereu A|               NULL|             Ipanema|         -22.98341|          -43.2147|Entire home/apt|  334|             3|                1| 2018-10-07|             0.02|                            52|             362|                    0|   NULL|\n",
            "|            912633|Home in Rio de Ja...|  4897168|         Taryhk|               NULL|        Rio Comprido|         -22.92466|         -43.20748|    Shared room|  407|             1|                1| 2013-02-15|             0.01|                             1|               0|                    0|   NULL|\n",
            "|           3123306|Home in Rio · 2 b...| 15864313|     José Mario|               NULL|             Vidigal|         -22.99298|          -43.2391|Entire home/apt|  800|            10|                0|       NULL|             NULL|                             1|               0|                    0|   NULL|\n",
            "|          52279209|Rental unit in Bo...|172482654|        Evilene|               NULL|            Botafogo|         -22.94617|         -43.18323|Entire home/apt|  130|            20|                3| 2023-02-26|             0.15|                            14|               0|                    2|   NULL|\n",
            "|          45636008|Condo in Campo Gr...|199934701|          Luiza|               NULL|           Guaratiba|         -22.95318|         -43.57231|Entire home/apt|  140|             2|                0|       NULL|             NULL|                             1|              89|                    0|   NULL|\n",
            "|          42321866|Home in Copacaban...|336498592|          Agnes|               NULL|          Copacabana|         -22.96781|          -43.1849|   Private room|  200|             3|                0|       NULL|             NULL|                             1|               0|                    0|   NULL|\n",
            "|           1879131|Rental unit in Ri...|  9784682|          Thais|               NULL|              Centro|         -22.91666|         -43.18825|Entire home/apt|  383|             5|               15| 2016-08-20|             0.13|                             1|               0|                    0|   NULL|\n",
            "|          11386489|Home in Rio de Ja...| 15092611|         Nelson|               NULL|            Maracanã|         -22.91437|         -43.22989|Entire home/apt| 2000|            10|                0|       NULL|             NULL|                             1|               0|                    0|   NULL|\n",
            "|          13561531|Rental unit in Ri...| 69583438|            Eli|               NULL|     Barra da Tijuca|         -23.00598|          -43.3217|Entire home/apt| 6222|             1|                0|       NULL|             NULL|                             1|               0|                    0|   NULL|\n",
            "|           1010761|Rental unit in Ri...|  4307081|        Nereu A|               NULL|             Ipanema|         -22.98528|         -43.20015|Entire home/apt| 1435|             2|                0|       NULL|             NULL|                            52|             365|                    0|   NULL|\n",
            "|           2421783|Home in Rio · 3 b...| 12379059| Carlos Orlando|               NULL|            Campinho|         -22.88624|         -43.34384|Entire home/apt|  900|             2|                0|       NULL|             NULL|                             1|               0|                    0|   NULL|\n",
            "|          11376479|Rental unit in Ri...| 59609917|          Alice|               NULL|              Centro|         -22.90629|         -43.17195|   Private room|  300|             3|                0|       NULL|             NULL|                             1|               0|                    0|   NULL|\n",
            "|          14469401|Rental unit in Ri...| 85493490|         Dayane|               NULL|Recreio dos Bande...|         -23.02555|         -43.47452|Entire home/apt|  350|            10|                0|       NULL|             NULL|                             4|             364|                    0|   NULL|\n",
            "|           2562754|Rental unit in Ri...| 13120528|          Leila|               NULL|          Copacabana|         -22.96419|         -43.17962|Entire home/apt| 1436|             1|                0|       NULL|             NULL|                             1|               0|                    0|   NULL|\n",
            "|           1012156|Hostel in Rio de ...|  4307081|        Nereu A|               NULL|          Copacabana|         -22.96969|         -43.18847|   Private room|  383|             1|                0|       NULL|             NULL|                            52|             365|                    0|   NULL|\n",
            "|872647373995574485|Rental unit in Ri...|216326040|          Denis|               NULL|              Centro|-22.91220214595157|-43.18739786966554|Entire home/apt|  135|             1|                0|       NULL|             NULL|                             1|             306|                    0|   NULL|\n",
            "|          15790056|Loft in Rio de Ja...| 44729495|        Juliana|               NULL|          Copacabana|         -22.98414|          -43.1913|Entire home/apt|  191|             3|              106| 2023-06-11|             1.34|                             8|              76|                   26|   NULL|\n",
            "|             97636|Home in Rio de Ja...|   496656|Marcia  Longras|               NULL|            Botafogo|         -22.94169|         -43.18703|   Private room|  277|             8|               18| 2021-12-15|             0.13|                            11|             365|                    0|   NULL|\n",
            "|863882686563732543|Rental unit in Ri...|172345271|         Monica|               NULL|                Leme|-22.96383852122678|-43.16974267299979|Entire home/apt|  457|             2|                0|       NULL|             NULL|                             9|             115|                    0|   NULL|\n",
            "|709350735679244782|Rental unit in Ri...|441220159|          Mário|               NULL|              Centro|         -22.91192|         -43.18348|Entire home/apt|  900|             2|                0|       NULL|             NULL|                             1|             364|                    0|   NULL|\n",
            "+------------------+--------------------+---------+---------------+-------------------+--------------------+------------------+------------------+---------------+-----+--------------+-----------------+-----------+-----------------+------------------------------+----------------+---------------------+-------+\n",
            "only showing top 20 rows\n",
            "\n"
          ]
        }
      ],
      "source": [
        "df_spark.show()"
      ]
    },
    {
      "cell_type": "markdown",
      "metadata": {
        "id": "lKgj-x_gpjTF"
      },
      "source": [
        "### `printSchema()`\n",
        "   Esse comando mostra o esquema do DataFrame, exibindo a estrutura dos campos e seus tipos de dados."
      ]
    },
    {
      "cell_type": "code",
      "execution_count": 6,
      "metadata": {
        "colab": {
          "base_uri": "https://localhost:8080/"
        },
        "id": "ErsENEWgh9qZ",
        "outputId": "d1d3e276-6996-41a8-b713-f515650d3481"
      },
      "outputs": [
        {
          "output_type": "stream",
          "name": "stdout",
          "text": [
            "root\n",
            " |-- id: long (nullable = true)\n",
            " |-- name: string (nullable = true)\n",
            " |-- host_id: integer (nullable = true)\n",
            " |-- host_name: string (nullable = true)\n",
            " |-- neighbourhood_group: string (nullable = true)\n",
            " |-- neighbourhood: string (nullable = true)\n",
            " |-- latitude: double (nullable = true)\n",
            " |-- longitude: double (nullable = true)\n",
            " |-- room_type: string (nullable = true)\n",
            " |-- price: integer (nullable = true)\n",
            " |-- minimum_nights: integer (nullable = true)\n",
            " |-- number_of_reviews: integer (nullable = true)\n",
            " |-- last_review: date (nullable = true)\n",
            " |-- reviews_per_month: double (nullable = true)\n",
            " |-- calculated_host_listings_count: integer (nullable = true)\n",
            " |-- availability_365: integer (nullable = true)\n",
            " |-- number_of_reviews_ltm: integer (nullable = true)\n",
            " |-- license: string (nullable = true)\n",
            "\n"
          ]
        }
      ],
      "source": [
        "df_spark.printSchema()"
      ]
    },
    {
      "cell_type": "markdown",
      "metadata": {
        "id": "2GL871bUprP6"
      },
      "source": [
        "### `head()`\n",
        "   Esse comando retorna as primeiras linhas do DataFrame como uma lista."
      ]
    },
    {
      "cell_type": "code",
      "execution_count": 7,
      "metadata": {
        "colab": {
          "base_uri": "https://localhost:8080/"
        },
        "id": "5AHKmj2Rj8ZU",
        "outputId": "d840ff86-bd40-42bf-d169-f75d854e038d"
      },
      "outputs": [
        {
          "output_type": "execute_result",
          "data": {
            "text/plain": [
              "Row(id=29051942, name='Rental unit in Ipanema · Studio · 1 bed · 1 bath', host_id=4307081, host_name='Nereu A', neighbourhood_group=None, neighbourhood='Ipanema', latitude=-22.98341, longitude=-43.2147, room_type='Entire home/apt', price=334, minimum_nights=3, number_of_reviews=1, last_review=datetime.date(2018, 10, 7), reviews_per_month=0.02, calculated_host_listings_count=52, availability_365=362, number_of_reviews_ltm=0, license=None)"
            ]
          },
          "metadata": {},
          "execution_count": 7
        }
      ],
      "source": [
        "df_spark.head()"
      ]
    },
    {
      "cell_type": "markdown",
      "metadata": {
        "id": "goynaK6Sqe5K"
      },
      "source": [
        "### `select()`\n",
        "   Esse comando permite selecionar colunas específicas do DataFrame."
      ]
    },
    {
      "cell_type": "code",
      "execution_count": 8,
      "metadata": {
        "colab": {
          "base_uri": "https://localhost:8080/"
        },
        "id": "oESNvxy4qh3t",
        "outputId": "ebcd0fb5-28ed-491a-9a43-ec03caf4ce75"
      },
      "outputs": [
        {
          "output_type": "stream",
          "name": "stdout",
          "text": [
            "+--------------------+\n",
            "|                name|\n",
            "+--------------------+\n",
            "|Rental unit in Ip...|\n",
            "|Home in Rio de Ja...|\n",
            "|Home in Rio · 2 b...|\n",
            "|Rental unit in Bo...|\n",
            "|Condo in Campo Gr...|\n",
            "|Home in Copacaban...|\n",
            "|Rental unit in Ri...|\n",
            "|Home in Rio de Ja...|\n",
            "|Rental unit in Ri...|\n",
            "|Rental unit in Ri...|\n",
            "|Home in Rio · 3 b...|\n",
            "|Rental unit in Ri...|\n",
            "|Rental unit in Ri...|\n",
            "|Rental unit in Ri...|\n",
            "|Hostel in Rio de ...|\n",
            "|Rental unit in Ri...|\n",
            "|Loft in Rio de Ja...|\n",
            "|Home in Rio de Ja...|\n",
            "|Rental unit in Ri...|\n",
            "|Rental unit in Ri...|\n",
            "+--------------------+\n",
            "only showing top 20 rows\n",
            "\n"
          ]
        }
      ],
      "source": [
        "selected_df = df_spark.select('name')\n",
        "selected_df.show()"
      ]
    },
    {
      "cell_type": "markdown",
      "metadata": {
        "id": "-HXrmrSOqnbP"
      },
      "source": [
        "### `df.filter` ou `df.where`\n",
        "   Esses comandos são usados para filtrar registros com base em condições específicas."
      ]
    },
    {
      "cell_type": "code",
      "execution_count": 9,
      "metadata": {
        "colab": {
          "base_uri": "https://localhost:8080/"
        },
        "id": "E0O_ATMuqpcI",
        "outputId": "dfde5c38-9861-47dd-acbe-f042c2f20e56"
      },
      "outputs": [
        {
          "output_type": "stream",
          "name": "stdout",
          "text": [
            "+------------------+--------------------+---------+---------------+-------------------+--------------------+------------------+------------------+---------------+-----+--------------+-----------------+-----------+-----------------+------------------------------+----------------+---------------------+-------+\n",
            "|                id|                name|  host_id|      host_name|neighbourhood_group|       neighbourhood|          latitude|         longitude|      room_type|price|minimum_nights|number_of_reviews|last_review|reviews_per_month|calculated_host_listings_count|availability_365|number_of_reviews_ltm|license|\n",
            "+------------------+--------------------+---------+---------------+-------------------+--------------------+------------------+------------------+---------------+-----+--------------+-----------------+-----------+-----------------+------------------------------+----------------+---------------------+-------+\n",
            "|          29051942|Rental unit in Ip...|  4307081|        Nereu A|               NULL|             Ipanema|         -22.98341|          -43.2147|Entire home/apt|  334|             3|                1| 2018-10-07|             0.02|                            52|             362|                    0|   NULL|\n",
            "|            912633|Home in Rio de Ja...|  4897168|         Taryhk|               NULL|        Rio Comprido|         -22.92466|         -43.20748|    Shared room|  407|             1|                1| 2013-02-15|             0.01|                             1|               0|                    0|   NULL|\n",
            "|           3123306|Home in Rio · 2 b...| 15864313|     José Mario|               NULL|             Vidigal|         -22.99298|          -43.2391|Entire home/apt|  800|            10|                0|       NULL|             NULL|                             1|               0|                    0|   NULL|\n",
            "|          52279209|Rental unit in Bo...|172482654|        Evilene|               NULL|            Botafogo|         -22.94617|         -43.18323|Entire home/apt|  130|            20|                3| 2023-02-26|             0.15|                            14|               0|                    2|   NULL|\n",
            "|          45636008|Condo in Campo Gr...|199934701|          Luiza|               NULL|           Guaratiba|         -22.95318|         -43.57231|Entire home/apt|  140|             2|                0|       NULL|             NULL|                             1|              89|                    0|   NULL|\n",
            "|          42321866|Home in Copacaban...|336498592|          Agnes|               NULL|          Copacabana|         -22.96781|          -43.1849|   Private room|  200|             3|                0|       NULL|             NULL|                             1|               0|                    0|   NULL|\n",
            "|           1879131|Rental unit in Ri...|  9784682|          Thais|               NULL|              Centro|         -22.91666|         -43.18825|Entire home/apt|  383|             5|               15| 2016-08-20|             0.13|                             1|               0|                    0|   NULL|\n",
            "|          11386489|Home in Rio de Ja...| 15092611|         Nelson|               NULL|            Maracanã|         -22.91437|         -43.22989|Entire home/apt| 2000|            10|                0|       NULL|             NULL|                             1|               0|                    0|   NULL|\n",
            "|          13561531|Rental unit in Ri...| 69583438|            Eli|               NULL|     Barra da Tijuca|         -23.00598|          -43.3217|Entire home/apt| 6222|             1|                0|       NULL|             NULL|                             1|               0|                    0|   NULL|\n",
            "|           1010761|Rental unit in Ri...|  4307081|        Nereu A|               NULL|             Ipanema|         -22.98528|         -43.20015|Entire home/apt| 1435|             2|                0|       NULL|             NULL|                            52|             365|                    0|   NULL|\n",
            "|           2421783|Home in Rio · 3 b...| 12379059| Carlos Orlando|               NULL|            Campinho|         -22.88624|         -43.34384|Entire home/apt|  900|             2|                0|       NULL|             NULL|                             1|               0|                    0|   NULL|\n",
            "|          11376479|Rental unit in Ri...| 59609917|          Alice|               NULL|              Centro|         -22.90629|         -43.17195|   Private room|  300|             3|                0|       NULL|             NULL|                             1|               0|                    0|   NULL|\n",
            "|          14469401|Rental unit in Ri...| 85493490|         Dayane|               NULL|Recreio dos Bande...|         -23.02555|         -43.47452|Entire home/apt|  350|            10|                0|       NULL|             NULL|                             4|             364|                    0|   NULL|\n",
            "|           2562754|Rental unit in Ri...| 13120528|          Leila|               NULL|          Copacabana|         -22.96419|         -43.17962|Entire home/apt| 1436|             1|                0|       NULL|             NULL|                             1|               0|                    0|   NULL|\n",
            "|           1012156|Hostel in Rio de ...|  4307081|        Nereu A|               NULL|          Copacabana|         -22.96969|         -43.18847|   Private room|  383|             1|                0|       NULL|             NULL|                            52|             365|                    0|   NULL|\n",
            "|872647373995574485|Rental unit in Ri...|216326040|          Denis|               NULL|              Centro|-22.91220214595157|-43.18739786966554|Entire home/apt|  135|             1|                0|       NULL|             NULL|                             1|             306|                    0|   NULL|\n",
            "|          15790056|Loft in Rio de Ja...| 44729495|        Juliana|               NULL|          Copacabana|         -22.98414|          -43.1913|Entire home/apt|  191|             3|              106| 2023-06-11|             1.34|                             8|              76|                   26|   NULL|\n",
            "|             97636|Home in Rio de Ja...|   496656|Marcia  Longras|               NULL|            Botafogo|         -22.94169|         -43.18703|   Private room|  277|             8|               18| 2021-12-15|             0.13|                            11|             365|                    0|   NULL|\n",
            "|863882686563732543|Rental unit in Ri...|172345271|         Monica|               NULL|                Leme|-22.96383852122678|-43.16974267299979|Entire home/apt|  457|             2|                0|       NULL|             NULL|                             9|             115|                    0|   NULL|\n",
            "|709350735679244782|Rental unit in Ri...|441220159|          Mário|               NULL|              Centro|         -22.91192|         -43.18348|Entire home/apt|  900|             2|                0|       NULL|             NULL|                             1|             364|                    0|   NULL|\n",
            "+------------------+--------------------+---------+---------------+-------------------+--------------------+------------------+------------------+---------------+-----+--------------+-----------------+-----------+-----------------+------------------------------+----------------+---------------------+-------+\n",
            "only showing top 20 rows\n",
            "\n"
          ]
        }
      ],
      "source": [
        "filtered_df = df_spark.filter(df_spark[\"price\"] > 100)\n",
        "filtered_df.show()"
      ]
    },
    {
      "cell_type": "markdown",
      "metadata": {
        "id": "mCpR7nEZqx2W"
      },
      "source": [
        "### `df.groupby.agg`\n",
        "   Esse comando é utilizado para agrupar o DataFrame por uma ou mais colunas e aplicar uma ou mais operações agregadas, como sum, count, mean, etc."
      ]
    },
    {
      "cell_type": "code",
      "execution_count": 10,
      "metadata": {
        "colab": {
          "base_uri": "https://localhost:8080/"
        },
        "id": "q3xv2l1Qqyfz",
        "outputId": "7093022b-7af8-4086-f83f-cb904ae1e3be"
      },
      "outputs": [
        {
          "output_type": "stream",
          "name": "stdout",
          "text": [
            "+-------------------+------------------+----------------------+\n",
            "|      neighbourhood|        avg(price)|sum(number_of_reviews)|\n",
            "+-------------------+------------------+----------------------+\n",
            "|             Cocotá|             230.0|                     2|\n",
            "|              Gávea| 991.0049751243781|                  2000|\n",
            "|       Tomás Coelho|             100.5|                     4|\n",
            "|            Ipanema| 966.4082763115022|                 85048|\n",
            "|           Realengo|           955.625|                    12|\n",
            "|      Gardênia Azul| 381.2647058823529|                   185|\n",
            "|              Rocha| 444.3333333333333|                    26|\n",
            "|      Bento Ribeiro| 286.8181818181818|                   176|\n",
            "|Vicente de Carvalho|              94.5|                    14|\n",
            "|         Manguinhos|             117.0|                     0|\n",
            "|           Botafogo| 753.7788461538462|                 25471|\n",
            "|               Leme| 514.1632653061224|                 11791|\n",
            "|        Jacarepaguá| 679.3083280356008|                 17136|\n",
            "|       Campo Grande| 590.1944444444445|                   918|\n",
            "|            Rocinha| 648.9166666666666|                    63|\n",
            "|            Grumari|             466.5|                   200|\n",
            "|       Padre Miguel|             391.0|                    11|\n",
            "|           Flamengo| 516.8720112517581|                 10575|\n",
            "|       Santo Cristo|358.90909090909093|                    77|\n",
            "|  Engenho da Rainha|             793.0|                     1|\n",
            "+-------------------+------------------+----------------------+\n",
            "only showing top 20 rows\n",
            "\n"
          ]
        }
      ],
      "source": [
        "aggregated_df = df_spark.groupby(\"neighbourhood\").agg({\"price\": \"avg\", \"number_of_reviews\": \"sum\"})\n",
        "aggregated_df.show()"
      ]
    },
    {
      "cell_type": "markdown",
      "metadata": {
        "id": "2Azw1GierdJ7"
      },
      "source": [
        "### `df.groupby.sum`\n",
        "   Esse comando é usado para agrupar o DataFrame por uma ou mais colunas e calcular a soma de uma ou mais colunas numéricas."
      ]
    },
    {
      "cell_type": "code",
      "execution_count": 11,
      "metadata": {
        "colab": {
          "base_uri": "https://localhost:8080/"
        },
        "id": "fl0ROQ0Frfrs",
        "outputId": "88d6f08b-b17a-406d-81aa-5e9741429e0c"
      },
      "outputs": [
        {
          "output_type": "stream",
          "name": "stdout",
          "text": [
            "+-------------------+----------+----------------------+\n",
            "|      neighbourhood|sum(price)|sum(number_of_reviews)|\n",
            "+-------------------+----------+----------------------+\n",
            "|             Cocotá|       690|                     2|\n",
            "|              Gávea|    199192|                  2000|\n",
            "|       Tomás Coelho|       402|                     4|\n",
            "|            Ipanema|   2965907|                 85048|\n",
            "|           Realengo|      7645|                    12|\n",
            "|      Gardênia Azul|     12963|                   185|\n",
            "|              Rocha|      3999|                    26|\n",
            "|      Bento Ribeiro|      3155|                   176|\n",
            "|Vicente de Carvalho|       189|                    14|\n",
            "|         Manguinhos|       117|                     0|\n",
            "|           Botafogo|   1019109|                 25471|\n",
            "|               Leme|    302328|                 11791|\n",
            "|        Jacarepaguá|   1068552|                 17136|\n",
            "|       Campo Grande|     63741|                   918|\n",
            "|            Rocinha|     15574|                    63|\n",
            "|            Grumari|      2799|                   200|\n",
            "|       Padre Miguel|      3128|                    11|\n",
            "|           Flamengo|    367496|                 10575|\n",
            "|       Santo Cristo|      3948|                    77|\n",
            "|  Engenho da Rainha|      1586|                     1|\n",
            "+-------------------+----------+----------------------+\n",
            "only showing top 20 rows\n",
            "\n"
          ]
        }
      ],
      "source": [
        "summed_df = df_spark.groupby(\"neighbourhood\").sum(\"price\", \"number_of_reviews\")\n",
        "summed_df.show()"
      ]
    },
    {
      "cell_type": "markdown",
      "metadata": {
        "id": "sa1nE82urp6h"
      },
      "source": [
        "### `df.orderBy` ou `df.sort`\n",
        "   Esses comandos são utilizados para ordenar o DataFrame com base em uma ou mais colunas."
      ]
    },
    {
      "cell_type": "code",
      "execution_count": 12,
      "metadata": {
        "colab": {
          "base_uri": "https://localhost:8080/"
        },
        "id": "hCr7Tk9jrtAO",
        "outputId": "e7499f92-1248-44cb-a93c-1aa6a15e305e"
      },
      "outputs": [
        {
          "output_type": "stream",
          "name": "stdout",
          "text": [
            "+------------------+--------------------+---------+----------------+-------------------+--------------------+-------------------+-------------------+---------------+-----+--------------+-----------------+-----------+-----------------+------------------------------+----------------+---------------------+-------+\n",
            "|                id|                name|  host_id|       host_name|neighbourhood_group|       neighbourhood|           latitude|          longitude|      room_type|price|minimum_nights|number_of_reviews|last_review|reviews_per_month|calculated_host_listings_count|availability_365|number_of_reviews_ltm|license|\n",
            "+------------------+--------------------+---------+----------------+-------------------+--------------------+-------------------+-------------------+---------------+-----+--------------+-----------------+-----------+-----------------+------------------------------+----------------+---------------------+-------+\n",
            "|          43148322|Hotel in Barra da...|315032561|  Américas Barra|               NULL|     Barra da Tijuca|          -23.00065|          -43.41907|     Hotel room|    0|             1|                0|       NULL|             NULL|                             1|               0|                    0|   NULL|\n",
            "|          45636785|Boutique hotel in...|369708259|          Selina|               NULL|          Copacabana|           -22.9801|          -43.19002|     Hotel room|    0|             1|              216| 2022-11-18|             6.99|                             2|               0|                    5|   NULL|\n",
            "|          43247506|Hotel in Centro ·...|310461308|Américas Granada|               NULL|              Centro|          -22.91155|           -43.1838|     Hotel room|    0|             1|                0|       NULL|             NULL|                             1|               0|                    0|   NULL|\n",
            "|          43148433|Hotel in Copacaba...|318396893|        Américas|               NULL|          Copacabana|          -22.97081|          -43.18915|     Hotel room|    0|             2|                0|       NULL|             NULL|                             1|               0|                    0|   NULL|\n",
            "|          43309227|Hotel in Copacaba...|312899567|       Augusto'S|               NULL|          Copacabana|          -22.96159|          -43.17491|     Hotel room|    0|             1|                0|       NULL|             NULL|                             1|               0|                    0|   NULL|\n",
            "|          43036115|Hotel in Copacaba...|311180109|      Rio Design|               NULL|          Copacabana|          -22.98298|          -43.19063|     Hotel room|    0|             1|                0|       NULL|             NULL|                             1|               0|                    0|   NULL|\n",
            "|          14358570|Rental unit in Ri...| 87681423|          Rafael|               NULL|            Cachambi|          -22.89472|          -43.26944|   Private room|   33|            80|                2| 2017-09-25|             0.03|                             1|             359|                    0|   NULL|\n",
            "|           9651430|Home in Rio de Ja...| 49894931|       Elizabeth|               NULL|              Grajaú|          -22.92036|          -43.26042|    Shared room|   35|             7|                0|       NULL|             NULL|                             1|             365|                    0|   NULL|\n",
            "|          15781518|Rental unit in Ri...|102074576|         Adriana|               NULL|         Jacarepaguá|          -22.92274|          -43.42687|   Private room|   35|           365|                0|       NULL|             NULL|                             1|               0|                    0|   NULL|\n",
            "|          54357792|Place to stay in ...|440770399|        Reynaldo|               NULL|              Tijuca|          -22.93882|          -43.24906|    Shared room|   37|             1|                1| 2022-05-09|             0.07|                             2|             155|                    0|   NULL|\n",
            "|          48693338|Bed and breakfast...| 41846354|        Reynaldo|               NULL|              Tijuca|          -22.92464|          -43.21961|    Shared room|   38|             1|               25| 2023-06-18|             0.91|                             7|              30|                   12|   NULL|\n",
            "|          21825145|Home in Vicente d...|158569627|        Etelvina|               NULL| Vicente de Carvalho|           -22.8512|          -43.31095|   Private room|   39|           120|                0|       NULL|             NULL|                             1|               0|                    0|   NULL|\n",
            "|868325732367941840|Guesthouse in Rio...|155126690|          Efraim|               NULL|            Flamengo|-22.927919139172438| -43.17616352819878|    Shared room|   40|             1|                0|       NULL|             NULL|                             1|             319|                    0|   NULL|\n",
            "|882096679932197815|Home in Rio de Ja...|201307776|          Monica|               NULL|           Bancários|-22.798192027189824|-43.177442811151764|Entire home/apt|   40|             1|                0|       NULL|             NULL|                             1|             356|                    0|   NULL|\n",
            "|893023586297456862|Guesthouse in Rio...|515120985|         Vanessa|               NULL|São Francisco Xavier|        -22.8976673|        -43.2435171|    Shared room|   40|             1|                0|       NULL|             NULL|                             1|             365|                    0|   NULL|\n",
            "|921613233047549133|Guesthouse in Rio...|521919836|           Pablo|               NULL|        Santa Teresa|          -22.91673|          -43.18733|    Shared room|   40|             1|                0|       NULL|             NULL|                             1|             364|                    0|   NULL|\n",
            "|869362881649284001|Guesthouse in Rio...| 26650786|         Eduardo|               NULL|             Rocinha|-22.990938193436858| -43.24964102357626|    Shared room|   40|             1|                0|       NULL|             NULL|                             1|             365|                    0|   NULL|\n",
            "|888599873511732243|Rental unit in Ri...|200499012|         Camilla|               NULL|              Grajaú|        -22.9218372| -43.26589990000001|   Private room|   40|             1|                0|       NULL|             NULL|                             3|             364|                    0|   NULL|\n",
            "|          14026935|Rental unit in Ri...| 83888085|            Iara|               NULL|              Catete|          -22.92893|           -43.1793|   Private room|   40|             1|                6| 2019-06-28|             0.07|                             1|               0|                    0|   NULL|\n",
            "|910812729373830621|Rental unit in Ri...|438800528|         Tatiane|               NULL|   Praça da Bandeira|-22.911118744367442|-43.212567759757796|   Private room|   40|             1|                0|       NULL|             NULL|                             1|             362|                    0|   NULL|\n",
            "+------------------+--------------------+---------+----------------+-------------------+--------------------+-------------------+-------------------+---------------+-----+--------------+-----------------+-----------+-----------------+------------------------------+----------------+---------------------+-------+\n",
            "only showing top 20 rows\n",
            "\n"
          ]
        }
      ],
      "source": [
        "sorted_df = df_spark.orderBy(\"price\")\n",
        "sorted_df.show()"
      ]
    },
    {
      "cell_type": "markdown",
      "metadata": {
        "id": "Hnc4v_K3rwBa"
      },
      "source": [
        "### `df.withColumn`\n",
        "  Esse comando permite criar uma nova coluna ou substituir os valores de uma coluna existente."
      ]
    },
    {
      "cell_type": "code",
      "execution_count": 13,
      "metadata": {
        "colab": {
          "base_uri": "https://localhost:8080/"
        },
        "id": "oFUus1VAr003",
        "outputId": "a2960894-49e8-47f6-9633-71d02e1d9936"
      },
      "outputs": [
        {
          "output_type": "stream",
          "name": "stdout",
          "text": [
            "+------------------+--------------------+---------+---------------+-------------------+--------------------+------------------+------------------+---------------+-----+--------------+-----------------+-----------+-----------------+------------------------------+----------------+---------------------+-------+---------------------+\n",
            "|                id|                name|  host_id|      host_name|neighbourhood_group|       neighbourhood|          latitude|         longitude|      room_type|price|minimum_nights|number_of_reviews|last_review|reviews_per_month|calculated_host_listings_count|availability_365|number_of_reviews_ltm|license|reviews_per_month_int|\n",
            "+------------------+--------------------+---------+---------------+-------------------+--------------------+------------------+------------------+---------------+-----+--------------+-----------------+-----------+-----------------+------------------------------+----------------+---------------------+-------+---------------------+\n",
            "|          29051942|Rental unit in Ip...|  4307081|        Nereu A|               NULL|             Ipanema|         -22.98341|          -43.2147|Entire home/apt|  334|             3|                1| 2018-10-07|             0.02|                            52|             362|                    0|   NULL|                    0|\n",
            "|            912633|Home in Rio de Ja...|  4897168|         Taryhk|               NULL|        Rio Comprido|         -22.92466|         -43.20748|    Shared room|  407|             1|                1| 2013-02-15|             0.01|                             1|               0|                    0|   NULL|                    0|\n",
            "|           3123306|Home in Rio · 2 b...| 15864313|     José Mario|               NULL|             Vidigal|         -22.99298|          -43.2391|Entire home/apt|  800|            10|                0|       NULL|             NULL|                             1|               0|                    0|   NULL|                 NULL|\n",
            "|          52279209|Rental unit in Bo...|172482654|        Evilene|               NULL|            Botafogo|         -22.94617|         -43.18323|Entire home/apt|  130|            20|                3| 2023-02-26|             0.15|                            14|               0|                    2|   NULL|                    0|\n",
            "|          45636008|Condo in Campo Gr...|199934701|          Luiza|               NULL|           Guaratiba|         -22.95318|         -43.57231|Entire home/apt|  140|             2|                0|       NULL|             NULL|                             1|              89|                    0|   NULL|                 NULL|\n",
            "|          42321866|Home in Copacaban...|336498592|          Agnes|               NULL|          Copacabana|         -22.96781|          -43.1849|   Private room|  200|             3|                0|       NULL|             NULL|                             1|               0|                    0|   NULL|                 NULL|\n",
            "|           1879131|Rental unit in Ri...|  9784682|          Thais|               NULL|              Centro|         -22.91666|         -43.18825|Entire home/apt|  383|             5|               15| 2016-08-20|             0.13|                             1|               0|                    0|   NULL|                    0|\n",
            "|          11386489|Home in Rio de Ja...| 15092611|         Nelson|               NULL|            Maracanã|         -22.91437|         -43.22989|Entire home/apt| 2000|            10|                0|       NULL|             NULL|                             1|               0|                    0|   NULL|                 NULL|\n",
            "|          13561531|Rental unit in Ri...| 69583438|            Eli|               NULL|     Barra da Tijuca|         -23.00598|          -43.3217|Entire home/apt| 6222|             1|                0|       NULL|             NULL|                             1|               0|                    0|   NULL|                 NULL|\n",
            "|           1010761|Rental unit in Ri...|  4307081|        Nereu A|               NULL|             Ipanema|         -22.98528|         -43.20015|Entire home/apt| 1435|             2|                0|       NULL|             NULL|                            52|             365|                    0|   NULL|                 NULL|\n",
            "|           2421783|Home in Rio · 3 b...| 12379059| Carlos Orlando|               NULL|            Campinho|         -22.88624|         -43.34384|Entire home/apt|  900|             2|                0|       NULL|             NULL|                             1|               0|                    0|   NULL|                 NULL|\n",
            "|          11376479|Rental unit in Ri...| 59609917|          Alice|               NULL|              Centro|         -22.90629|         -43.17195|   Private room|  300|             3|                0|       NULL|             NULL|                             1|               0|                    0|   NULL|                 NULL|\n",
            "|          14469401|Rental unit in Ri...| 85493490|         Dayane|               NULL|Recreio dos Bande...|         -23.02555|         -43.47452|Entire home/apt|  350|            10|                0|       NULL|             NULL|                             4|             364|                    0|   NULL|                 NULL|\n",
            "|           2562754|Rental unit in Ri...| 13120528|          Leila|               NULL|          Copacabana|         -22.96419|         -43.17962|Entire home/apt| 1436|             1|                0|       NULL|             NULL|                             1|               0|                    0|   NULL|                 NULL|\n",
            "|           1012156|Hostel in Rio de ...|  4307081|        Nereu A|               NULL|          Copacabana|         -22.96969|         -43.18847|   Private room|  383|             1|                0|       NULL|             NULL|                            52|             365|                    0|   NULL|                 NULL|\n",
            "|872647373995574485|Rental unit in Ri...|216326040|          Denis|               NULL|              Centro|-22.91220214595157|-43.18739786966554|Entire home/apt|  135|             1|                0|       NULL|             NULL|                             1|             306|                    0|   NULL|                 NULL|\n",
            "|          15790056|Loft in Rio de Ja...| 44729495|        Juliana|               NULL|          Copacabana|         -22.98414|          -43.1913|Entire home/apt|  191|             3|              106| 2023-06-11|             1.34|                             8|              76|                   26|   NULL|                    1|\n",
            "|             97636|Home in Rio de Ja...|   496656|Marcia  Longras|               NULL|            Botafogo|         -22.94169|         -43.18703|   Private room|  277|             8|               18| 2021-12-15|             0.13|                            11|             365|                    0|   NULL|                    0|\n",
            "|863882686563732543|Rental unit in Ri...|172345271|         Monica|               NULL|                Leme|-22.96383852122678|-43.16974267299979|Entire home/apt|  457|             2|                0|       NULL|             NULL|                             9|             115|                    0|   NULL|                 NULL|\n",
            "|709350735679244782|Rental unit in Ri...|441220159|          Mário|               NULL|              Centro|         -22.91192|         -43.18348|Entire home/apt|  900|             2|                0|       NULL|             NULL|                             1|             364|                    0|   NULL|                 NULL|\n",
            "+------------------+--------------------+---------+---------------+-------------------+--------------------+------------------+------------------+---------------+-----+--------------+-----------------+-----------+-----------------+------------------------------+----------------+---------------------+-------+---------------------+\n",
            "only showing top 20 rows\n",
            "\n"
          ]
        }
      ],
      "source": [
        "updated_df = df_spark.withColumn(\"reviews_per_month_int\", df_spark[\"reviews_per_month\"].cast(\"integer\"))\n",
        "updated_df.show()"
      ]
    },
    {
      "cell_type": "code",
      "execution_count": null,
      "metadata": {
        "id": "4INES4x6sZv0"
      },
      "outputs": [],
      "source": []
    }
  ],
  "metadata": {
    "colab": {
      "provenance": []
    },
    "kernelspec": {
      "display_name": "Python 3",
      "name": "python3"
    },
    "language_info": {
      "codemirror_mode": {
        "name": "ipython",
        "version": 3
      },
      "file_extension": ".py",
      "mimetype": "text/x-python",
      "name": "python",
      "nbconvert_exporter": "python",
      "pygments_lexer": "ipython3",
      "version": "3.9.18"
    }
  },
  "nbformat": 4,
  "nbformat_minor": 0
}