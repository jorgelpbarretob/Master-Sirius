{
  "nbformat": 4,
  "nbformat_minor": 0,
  "metadata": {
    "colab": {
      "provenance": []
    },
    "kernelspec": {
      "name": "python3",
      "display_name": "Python 3"
    },
    "language_info": {
      "name": "python"
    }
  },
  "cells": [
    {
      "cell_type": "markdown",
      "source": [
        "# Contexto"
      ],
      "metadata": {
        "id": "L9CBHFEBiBem"
      }
    },
    {
      "cell_type": "markdown",
      "source": [
        "Você percorreu um longo caminho até aqui! Passou por uma série de conceitos importantes do mundo de dados, e já fez até análises preditivas, olhando para o futuro a partir de dados históricos, utilizando técnicas como o aprendizado de máquina.\n",
        "\n",
        "Agora, vamos mergulhar em uma das linguages mais uteis no ecossistema de dados: SQL!\n",
        "\n",
        "Esse desafio será dividido em dois encontros, nesse primeiro vamos utilizar a base de dados `base_educacao_sirius.db` para trabalhar com duas bases:\n",
        "\n",
        "### Microdados do ENEM a nivel de escola\n",
        "\n",
        "Essa base de dados foi disponibilizada pelo INEP em 2022 e descreve a nota média do ENEM de escolas do brasil entre os periodos de 2005 a 2015.\n",
        "\n",
        "A base já foi extraida do arquivo csv para o nosso arquivo `.db` mas você pode acessar a fonte dela [através desse link](https://www.gov.br/inep/pt-br/acesso-a-informacao/dados-abertos/microdados/enem-por-escola).\n",
        "\n",
        "### Microdados do censo escolar de 2010\n",
        "\n",
        "O censo escolar da edcucação basica é a base mais importante para analisar a infraestrutura das escolas, tem dezenas de informações relevantes, do numero de turmas até a presença de saneamento basico ou atelier na escola.\n",
        "\n",
        "A base escolhida é de 2010, pois é um periodo já historico onde suas analises podem ser comparadas com noticias e analises da época, alem de ser um periodo contido na base de ENEM a nivel de escola.\n",
        "\n",
        "Você pode conhecer um pouco mais sobre o [censo escolar aqui](https://www.gov.br/inep/pt-br/areas-de-atuacao/pesquisas-estatisticas-e-indicadores/censo-escolar).\n",
        "\n",
        "---------------------\n",
        "\n",
        "\n",
        "Nessa primeira etapa vamos conhecer esses dados, e através das tabelas brutas dentro de nosso arquivo vamos criar tabelas mais estruturadas e filtrar pelos dados que realmente serão relevantes para nossas analises.\n",
        "\n",
        "\n",
        "Link para bases:\n",
        "\n",
        "https://rtvad.blob.core.windows.net/misc-data/MICRODADOS_ENEM_ESCOLA.csv\n",
        "\n",
        "https://rtvad.blob.core.windows.net/misc-data/microdados_ed_basica_2010.csv\n",
        "\n",
        "https://rtvad.blob.core.windows.net/misc-data/Dicionário_Microdados_Enem_Escola.xlsx\n",
        "\n",
        "https://rtvad.blob.core.windows.net/misc-data/dicionаrio_dados_educacao_bаsica.xlsx"
      ],
      "metadata": {
        "id": "M_RrpvoyiE0f"
      }
    },
    {
      "cell_type": "markdown",
      "source": [
        "# Setup"
      ],
      "metadata": {
        "id": "katEDsS2Yp82"
      }
    },
    {
      "cell_type": "markdown",
      "source": [
        "# Conhecendo o Dado pelos Metadados"
      ],
      "metadata": {
        "id": "FTcSA0CdYrcl"
      }
    },
    {
      "cell_type": "markdown",
      "source": [
        "Antes de explorarmos esses dados na prática, é importante conhecer os `metadados` sobre essas tabelas para ter uma noção do que cada coluna carrega de informação.\n",
        "\n",
        "Por esse motivo, vamos explorar os arquivos de `dicionario de dados` desses microdados e selecionar as colunas que nos interessam.\n",
        "\n",
        "Acesse os arquivos `dicionаrio_dados_educacao_bаsica.xlsx` e `Dicionário_Microdados_Enem_Escola.xlsx`.\n",
        "\n",
        "E responda a perguntas entre as atividades 1 a 3"
      ],
      "metadata": {
        "id": "JwtSEiBCkxnB"
      }
    },
    {
      "cell_type": "markdown",
      "source": [
        "### Atividade 1\n",
        "\n",
        "Olhando apenas para esses dicionarios de dados, entre as colunas agrupadas como \"DADOS DA ESCOLA\" quais são semelhantes entre as duas tabelas?"
      ],
      "metadata": {
        "id": "LtINBNtBqXRj"
      }
    },
    {
      "cell_type": "markdown",
      "source": [
        "*Responda aqui...*\n",
        "\n",
        "\n",
        "Cod do UF, Cod do Municipio, Cod da Escola\n",
        "\n",
        "entre outras, mas essas são mas mais importantes"
      ],
      "metadata": {
        "id": "7iyKWSzcqw57"
      }
    },
    {
      "cell_type": "markdown",
      "source": [
        "### Atividade 2\n",
        "\n",
        "Você acredita que as duas tabelas terão a mesma quantidade de escolas?\n",
        "\n",
        "Para essa pergunte use as informações em ambos dicionarios de dados para responder, existem algumas informações que podem ser usadas para respondem, você pode dar apenas uma.\n",
        "\n",
        "**dica:** Nas ultimas linhas do arquivo `Dicionário_Microdados_Enem_Escola.xlsx` existe uma seção de notas."
      ],
      "metadata": {
        "id": "5W4NK4Bqqv6f"
      }
    },
    {
      "cell_type": "markdown",
      "source": [
        "*Responda aqui...*\n",
        "\n",
        "não sera igual, duas respostas validas são:\n",
        "\n",
        "O censo escolar compreende todas as escolas, mesmos aquelas que não tem turmas de ensino médio, já a base do ENEM vai conter apenas escolas de ensino médio.\n",
        "\n",
        "A base do ENEM, apartir de 2008, só inclui escolas que tiveram uma determina taxa de adesão, para 2009 e 2010 até 2% de adesão, e apartir de 2011 apartir de mais de 50%."
      ],
      "metadata": {
        "id": "ka4VVLLDsqyU"
      }
    },
    {
      "cell_type": "code",
      "source": [],
      "metadata": {
        "id": "uPL7hRA-pT05"
      },
      "execution_count": null,
      "outputs": []
    },
    {
      "cell_type": "markdown",
      "source": [
        "### Atividade 3\n",
        "\n",
        "Se quisessemos analisar a correlação da nota do ENEM a qualquer informação de infraestrutura, quais informações na tabela `dicionаrio_dados_educacao_bаsica.xlsx` poderiamos usar?"
      ],
      "metadata": {
        "id": "77yARKKIsNSr"
      }
    },
    {
      "cell_type": "markdown",
      "source": [
        "# Extração e Limpeza dos Dados\n",
        "\n",
        "Vamos primeiramente carregar nossos dados e então fazer um tratamento adequado a eles, por enquanto iremos fazer apenas para a base do ENEM por escola.\n",
        "\n",
        "Para entender melhor vamos no passo-a-passo\n",
        "\n",
        "\n",
        "1 - Vamos carregar as duas bases no Pandas\n",
        "\n",
        "2 - Dentro no Pandas ainda, iremos fazer alguns tratamentos na base ENEM:\n",
        "  * 2.1 - Vamos filtrar pelos resultados do ano de 2010\n",
        "  * 2.2 - Vamos selecionar apenas as colunas que são relevantes para nós\n",
        "  \n",
        "3 - Vamos carregar para nosso ambiente SQL\n",
        "\n",
        "\n",
        "**Atenção:** Como esses arquivos são grandes, pode demorar um pouco algumas operações."
      ],
      "metadata": {
        "id": "E9Jd0Rq2SLQA"
      }
    },
    {
      "cell_type": "markdown",
      "source": [
        "# Explorando a Tabela do ENEM"
      ],
      "metadata": {
        "id": "IhlCj5xDsuvN"
      }
    },
    {
      "cell_type": "markdown",
      "source": [
        "Vamos já filtrar pelo ano desejado e vamos limitar para as primeiras 10 entradas da nossa base."
      ],
      "metadata": {
        "id": "GF_haXFvs6RD"
      }
    },
    {
      "cell_type": "markdown",
      "source": [
        "### Atividade 4\n",
        "\n",
        "Agora, a essa altura, cada grupo já deve ter recebido qual região do brasil seu grupo vai utilizar, filtre sua tabela com o estado de interesse e identifique informações relevantes:\n",
        "\n",
        "1 - Quantas escolas temos na base?\n",
        "\n",
        "2 - Será que existem escolas repetidas?\n",
        "\n",
        "3 - Quantos municipios temos na base?\n",
        "\n",
        "4 - Qual municipio tem mais escolas?\n",
        "\n",
        "5 - Qual escola tem mais alunos?\n",
        "\n",
        "6 - Qual a melhor escola do estado do meu grupo?\n",
        "\n",
        "7 - Quais a diferenças entre rural e urbana do meu estado? e privada e publica?"
      ],
      "metadata": {
        "id": "Tk2s8mGDT6Lw"
      }
    },
    {
      "cell_type": "markdown",
      "source": [
        "### Atividade 5\n",
        "\n",
        "Faça o cruzamento da tabela enem com a tabela censo e tente explorar essas perguntas:\n",
        "\n",
        "1 - Aplicando Inner Join, quantas escolas sobram em nossa base? faz sentido com o numero de escolas de ensino médio no Brasil? (pesquisa no google)\n",
        "\n",
        "2 - Como a nota do ENEM se comporta agrupando o seu estado pelas informações do Censo escolar? tente criar hipoteses como \"escolas com biblioteca performam melhor que escolas sem biblioteca\". Desenvolva queries simples, analises estatisticas aprofundadas não são necessarias.\n",
        "\n",
        "3 - Podemos agora fazer médias das notas agrupando por macroregiões e microregiões, como a sua base se comporta com essas regiões? pesquise pelo IDH da melhor e pior região, como esses dados se comportam?"
      ],
      "metadata": {
        "id": "a4jykPNTX3PF"
      }
    }
  ]
}