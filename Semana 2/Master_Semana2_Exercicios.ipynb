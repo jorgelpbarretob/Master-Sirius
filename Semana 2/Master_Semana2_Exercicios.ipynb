{
  "cells": [
    {
      "cell_type": "markdown",
      "metadata": {
        "id": "9H7XRk3GlSOe"
      },
      "source": [
        "# Teste de Hipótese para a Média (uma variável)\n",
        "\n",
        "### Atividade 1: Crie um dataframe a partir do banco de dados `basedosdados.br_inep_ideb.municipio` disponível em [Ideb](https://basedosdados.org/dataset/br-inep-ideb?bdm_table=municipio). Selecione apenas as colunas `ano`, `sigla_uf`, `taxa_aprovacao`, `nota_saeb_matematica`, `nota_saeb_lingua_portuguesa` e `ideb`."
      ]
    },
    {
      "cell_type": "code",
      "execution_count": 13,
      "metadata": {
        "id": "-cfY16BHT88h"
      },
      "outputs": [],
      "source": [
        "# Importando a biblioteca para criação de gráficos e visualizações\n",
        "import matplotlib.pyplot as plt\n",
        "\n",
        "# Importando a biblioteca para manipulação de vetores e matrizes numéricas\n",
        "import numpy as np\n",
        "\n",
        "# Importando a biblioteca para manipulação de dados em formato de tabela (dataframes)\n",
        "import pandas as pd\n",
        "\n",
        "# Importando a biblioteca para realização de testes estatísticos e cálculo de medidas descritivas\n",
        "from scipy import stats\n",
        "\n",
        "# Importando a biblioteca para realização de testes Post-hoc, como o teste de Tukey\n",
        "from statsmodels.stats.multicomp import pairwise_tukeyhsd\n",
        "\n",
        "# Importando a biblioteca para realizar o teste ANOVA One-Way\n",
        "from scipy.stats import f_oneway\n",
        "\n",
        "# Importando a biblioteca para realizar o teste t de Student pareado\n",
        "from scipy.stats import ttest_rel\n",
        "\n",
        "# Importando a biblioteca para realizar o teste t de Student independente\n",
        "from scipy.stats import ttest_ind\n",
        "\n",
        "# Importando a biblioteca para criação de gráficos estatísticos com alta qualidade visual\n",
        "import seaborn as sns\n",
        "\n",
        "# Importando a biblioteca para ajuste de modelos estatísticos e realização de testes de hipóteses. \n",
        "import statsmodels.api as sm\n"
      ]
    },
    {
      "cell_type": "code",
      "execution_count": 14,
      "metadata": {
        "id": "daQqvK6NWWTW"
      },
      "outputs": [],
      "source": [
        "ideb = pd.read_csv('ideb 2.csv')"
      ]
    },
    {
      "cell_type": "code",
      "execution_count": 15,
      "metadata": {},
      "outputs": [
        {
          "data": {
            "text/html": [
              "<div>\n",
              "<style scoped>\n",
              "    .dataframe tbody tr th:only-of-type {\n",
              "        vertical-align: middle;\n",
              "    }\n",
              "\n",
              "    .dataframe tbody tr th {\n",
              "        vertical-align: top;\n",
              "    }\n",
              "\n",
              "    .dataframe thead th {\n",
              "        text-align: right;\n",
              "    }\n",
              "</style>\n",
              "<table border=\"1\" class=\"dataframe\">\n",
              "  <thead>\n",
              "    <tr style=\"text-align: right;\">\n",
              "      <th></th>\n",
              "      <th>ano</th>\n",
              "      <th>sigla_uf</th>\n",
              "      <th>taxa_aprovacao</th>\n",
              "      <th>nota_saeb_matematica</th>\n",
              "      <th>nota_saeb_lingua_portuguesa</th>\n",
              "      <th>ideb</th>\n",
              "    </tr>\n",
              "  </thead>\n",
              "  <tbody>\n",
              "    <tr>\n",
              "      <th>0</th>\n",
              "      <td>2005</td>\n",
              "      <td>AC</td>\n",
              "      <td>64.1</td>\n",
              "      <td>161.8</td>\n",
              "      <td>150.80</td>\n",
              "      <td>2.4</td>\n",
              "    </tr>\n",
              "    <tr>\n",
              "      <th>1</th>\n",
              "      <td>2005</td>\n",
              "      <td>AC</td>\n",
              "      <td>53.9</td>\n",
              "      <td>167.8</td>\n",
              "      <td>165.60</td>\n",
              "      <td>2.3</td>\n",
              "    </tr>\n",
              "    <tr>\n",
              "      <th>2</th>\n",
              "      <td>2005</td>\n",
              "      <td>AC</td>\n",
              "      <td>49.3</td>\n",
              "      <td>151.8</td>\n",
              "      <td>149.60</td>\n",
              "      <td>1.8</td>\n",
              "    </tr>\n",
              "    <tr>\n",
              "      <th>3</th>\n",
              "      <td>2005</td>\n",
              "      <td>AC</td>\n",
              "      <td>48.8</td>\n",
              "      <td>163.6</td>\n",
              "      <td>155.80</td>\n",
              "      <td>1.9</td>\n",
              "    </tr>\n",
              "    <tr>\n",
              "      <th>4</th>\n",
              "      <td>2005</td>\n",
              "      <td>AC</td>\n",
              "      <td>48.8</td>\n",
              "      <td>159.0</td>\n",
              "      <td>153.39</td>\n",
              "      <td>1.9</td>\n",
              "    </tr>\n",
              "  </tbody>\n",
              "</table>\n",
              "</div>"
            ],
            "text/plain": [
              "    ano sigla_uf  taxa_aprovacao  nota_saeb_matematica  \\\n",
              "0  2005       AC            64.1                 161.8   \n",
              "1  2005       AC            53.9                 167.8   \n",
              "2  2005       AC            49.3                 151.8   \n",
              "3  2005       AC            48.8                 163.6   \n",
              "4  2005       AC            48.8                 159.0   \n",
              "\n",
              "   nota_saeb_lingua_portuguesa  ideb  \n",
              "0                       150.80   2.4  \n",
              "1                       165.60   2.3  \n",
              "2                       149.60   1.8  \n",
              "3                       155.80   1.9  \n",
              "4                       153.39   1.9  "
            ]
          },
          "execution_count": 15,
          "metadata": {},
          "output_type": "execute_result"
        }
      ],
      "source": [
        "ideb = ideb[['ano', 'sigla_uf', 'taxa_aprovacao', 'nota_saeb_matematica', 'nota_saeb_lingua_portuguesa', 'ideb']]\n",
        "ideb.head()"
      ]
    },
    {
      "cell_type": "markdown",
      "metadata": {
        "id": "xsEP0uQwUib_"
      },
      "source": [
        "### Atividade 2: Verifique quantas linhas e colunas possui esse dataframe. Veja também se há dados faltantes."
      ]
    },
    {
      "cell_type": "code",
      "execution_count": 16,
      "metadata": {},
      "outputs": [
        {
          "data": {
            "text/plain": [
              "(130194, 6)"
            ]
          },
          "execution_count": 16,
          "metadata": {},
          "output_type": "execute_result"
        }
      ],
      "source": [
        "ideb.shape"
      ]
    },
    {
      "cell_type": "code",
      "execution_count": 17,
      "metadata": {
        "id": "Hbfcm2eZT86g"
      },
      "outputs": [
        {
          "name": "stdout",
          "output_type": "stream",
          "text": [
            "Valores faltantes em cada coluna:\n",
            " ano                                0\n",
            "sigla_uf                           0\n",
            "taxa_aprovacao                 26736\n",
            "nota_saeb_matematica           41849\n",
            "nota_saeb_lingua_portuguesa    41849\n",
            "ideb                           29825\n",
            "dtype: int64\n",
            "\n",
            "Informações sobre o DataFrame result:\n",
            "<class 'pandas.core.frame.DataFrame'>\n",
            "RangeIndex: 130194 entries, 0 to 130193\n",
            "Data columns (total 6 columns):\n",
            " #   Column                       Non-Null Count   Dtype  \n",
            "---  ------                       --------------   -----  \n",
            " 0   ano                          130194 non-null  int64  \n",
            " 1   sigla_uf                     130194 non-null  object \n",
            " 2   taxa_aprovacao               103458 non-null  float64\n",
            " 3   nota_saeb_matematica         88345 non-null   float64\n",
            " 4   nota_saeb_lingua_portuguesa  88345 non-null   float64\n",
            " 5   ideb                         100369 non-null  float64\n",
            "dtypes: float64(4), int64(1), object(1)\n",
            "memory usage: 6.0+ MB\n"
          ]
        }
      ],
      "source": [
        "# Verificando se há dados faltantes no DataFrame ideb\n",
        "missing_values = ideb.isna().sum()\n",
        "print(\"Valores faltantes em cada coluna:\\n\", missing_values)\n",
        "\n",
        "#ideb = ideb.dropna()\n",
        "\n",
        "# Verificando a estrutura do DataFrame ideb\n",
        "print(\"\\nInformações sobre o DataFrame result:\")\n",
        "ideb.info()"
      ]
    },
    {
      "cell_type": "markdown",
      "metadata": {
        "id": "9lzeAO8TUxgE"
      },
      "source": [
        "### Atividade 3: Teste a hipótese de a média da taxa de aprovação para o ano de 2005 ser igual a 78. Considere um nível de confiança de 95%.\n",
        "\n",
        "Descreva, sucintamente, o resultado do teste de hipótese. Não esqueça de incluir as estatísticas encontradas.\n",
        "\n",
        "Dica: crie um DataFrame somente com os valores do ano e da variável de interesse.\n"
      ]
    },
    {
      "cell_type": "code",
      "execution_count": 18,
      "metadata": {},
      "outputs": [],
      "source": [
        "ideb_2005 = ideb.loc[ideb['ano'] == 2005,'taxa_aprovacao'].dropna()"
      ]
    },
    {
      "cell_type": "code",
      "execution_count": 19,
      "metadata": {
        "id": "R9FM2kK-T82a"
      },
      "outputs": [
        {
          "name": "stdout",
          "output_type": "stream",
          "text": [
            "TtestResult(statistic=20.890080427394643, pvalue=3.1469508067020596e-95, df=12082)\n"
          ]
        }
      ],
      "source": [
        "# Realizando o teste de hipótese\n",
        "resultado_teste = stats.ttest_1samp(ideb_2005, popmean=78, alternative='two-sided')\n",
        "\n",
        "# Exibindo o resultado\n",
        "print(resultado_teste)"
      ]
    },
    {
      "attachments": {},
      "cell_type": "markdown",
      "metadata": {},
      "source": [
        "Comentário: No caso apresentado, a estatística t do teste é de 20.890080427394643, o valor de p é muito baixo (3.1469508067020596e-95), o que sugere forte evidência contra a hipótese nula de que a média da taxa de aprovação é igual a 78. "
      ]
    },
    {
      "cell_type": "code",
      "execution_count": 20,
      "metadata": {},
      "outputs": [
        {
          "data": {
            "image/png": "[encoded data removed]",
            "text/plain": [
              "<Figure size 640x480 with 1 Axes>"
            ]
          },
          "metadata": {},
          "output_type": "display_data"
        },
        {
          "name": "stdout",
          "output_type": "stream",
          "text": [
            "count    12083.000000\n",
            "mean        80.330771\n",
            "std         12.264414\n",
            "min         16.000000\n",
            "25%         71.800000\n",
            "50%         82.800000\n",
            "75%         90.100000\n",
            "max        100.000000\n",
            "Name: taxa_aprovacao, dtype: float64\n"
          ]
        }
      ],
      "source": [
        "# Criar o boxplot usando o Seaborn\n",
        "sns.boxplot(ideb_2005)\n",
        "plt.show()\n",
        "\n",
        "# Calcula o resumo dos dados\n",
        "resumo = ideb_2005.describe()\n",
        "\n",
        "# Imprime o resumo dos dados\n",
        "print(resumo)"
      ]
    },
    {
      "cell_type": "markdown",
      "metadata": {
        "id": "J_zjF2d0HUsv"
      },
      "source": [
        "# Teste de Hipótese para a Média (duas variáveis independentes)\n",
        "\n",
        "Agora vamos aplicar um teste de hipótese para a média de duas populações independentes usando dados reais. Desejamos saber se a média para ambas é a mesma."
      ]
    },
    {
      "cell_type": "markdown",
      "metadata": {
        "id": "WMLStXqvHhsW"
      },
      "source": [
        "### Atividade 4: Teste a hipótese de a média do IDEB para os estados do Rio Grande do Sul e do Ceará, no ano de 2019, serem iguais. Considere um nível de confiança de 95%\n",
        "\n",
        "Dica: Primeiro crie um dataframe auxiliar contendo apenas os dados referentes a 2019. Depois selecione dois conjunto de valores de IDEB, um apenas para o estado do Rio Grande do Sul e outro apenas para o estado do Ceará."
      ]
    },
    {
      "cell_type": "code",
      "execution_count": 21,
      "metadata": {
        "id": "lNMs3qOQHVtZ"
      },
      "outputs": [],
      "source": [
        "# Criar um DataFrame auxiliar com os dados referentes a 2019\n",
        "ideb_2019 = ideb[ideb['ano'] == 2019]"
      ]
    },
    {
      "cell_type": "code",
      "execution_count": 22,
      "metadata": {},
      "outputs": [],
      "source": [
        "# Selecionar os valores de IDEB apenas para o estado do Rio Grande do Sul\n",
        "ideb_rs = ideb_2019[ideb_2019['sigla_uf'] == 'RS']['ideb'].dropna()\n",
        "\n",
        "# Selecionar os valores de IDEB apenas para o estado do Ceará\n",
        "ideb_ce = ideb_2019[ideb_2019['sigla_uf'] == 'CE']['ideb'].dropna()"
      ]
    },
    {
      "cell_type": "code",
      "execution_count": 23,
      "metadata": {},
      "outputs": [
        {
          "name": "stdout",
          "output_type": "stream",
          "text": [
            "Ttest_indResult(statistic=-3.9541302761146584, pvalue=8.673400907588078e-05)\n"
          ]
        }
      ],
      "source": [
        "# Realizar o teste t de duas amostras para médias não pareadas\n",
        "resultado_teste = ttest_ind(ideb_rs, ideb_ce, equal_var=False)\n",
        "\n",
        "# Exibir o resultado\n",
        "print(resultado_teste)"
      ]
    },
    {
      "attachments": {},
      "cell_type": "markdown",
      "metadata": {},
      "source": [
        "Comentário: No caso, o valor do p-valor foi muito baixo (0.00008673400907588078), o que nos leva a rejeitar a hipótese nula de que as médias do IDEB para os estados do Rio Grande do Sul e do Ceará em 2019 são iguais, com um nível de confiança de 95%. Podemos concluir, portanto, que há evidência significativa de que as médias são diferentes."
      ]
    },
    {
      "cell_type": "markdown",
      "metadata": {
        "id": "8uxllG0pIBeA"
      },
      "source": [
        "### Atividade 5: Com base no resultado do teste anterior, faça um boxplot que lhe ajude a entender melhor os resultados obtidos. Isto é, compare o boxplot do IDEB dos dois estados."
      ]
    },
    {
      "cell_type": "code",
      "execution_count": 27,
      "metadata": {
        "id": "k0rj4wdnHWhy"
      },
      "outputs": [
        {
          "data": {
            "image/png": "[encoded data removed]",
            "text/plain": [
              "<Figure size 640x480 with 1 Axes>"
            ]
          },
          "metadata": {},
          "output_type": "display_data"
        },
        {
          "name": "stdout",
          "output_type": "stream",
          "text": [
            "Estado          CE           RS\n",
            "count   373.000000  1117.000000\n",
            "mean      6.356836     6.158818\n",
            "std       0.870785     0.728408\n",
            "min       3.900000     3.800000\n",
            "25%       5.800000     5.700000\n",
            "50%       6.200000     6.200000\n",
            "75%       6.800000     6.600000\n",
            "max       9.400000     8.400000\n"
          ]
        }
      ],
      "source": [
        "# Criar um DataFrame com os valores dos IDEBs para os dois estados\n",
        "df_boxplot = pd.DataFrame({'Estado': ['RS'] * len(ideb_rs) + ['CE'] * len(ideb_ce), 'IDEB': list(ideb_rs) + list(ideb_ce)})\n",
        "\n",
        "# Criar o boxplot usando o Seaborn\n",
        "sns.boxplot(x='Estado', y='IDEB', data=df_boxplot)\n",
        "plt.show()\n",
        "\n",
        "# Calcular o resumo dos dados\n",
        "resumo = df_boxplot.groupby('Estado')['IDEB'].describe().T\n",
        "\n",
        "# Imprime o resumo dos dados\n",
        "print(resumo)"
      ]
    },
    {
      "cell_type": "markdown",
      "metadata": {
        "id": "VTgadqJqIUWt"
      },
      "source": [
        "### Atividade 6: Teste a hipótese de a média do IDEB para os anos de 2005 e 2019 serem iguais. Considere um nível de confiança de 95%\n",
        "\n",
        "Dica: Crie dois dataframes auxiliares e selecione 300 linhas de cada um apenas (sem conter valores faltantes) para realizar o teste."
      ]
    },
    {
      "cell_type": "code",
      "execution_count": 28,
      "metadata": {
        "id": "MDqP4xvRIPOt"
      },
      "outputs": [],
      "source": [
        "# Criar um DataFrame auxiliar com os dados referentes a 2005\n",
        "ideb_2005 = ideb.loc[ideb['ano'] == 2005,['ideb']].dropna().head(n=300)\n",
        "\n",
        "# Criar um DataFrame auxiliar com os dados referentes a 2019\n",
        "ideb_2019 = ideb.loc[ideb['ano'] == 2019,['ideb']].dropna().head(n=300)"
      ]
    },
    {
      "cell_type": "code",
      "execution_count": 29,
      "metadata": {},
      "outputs": [
        {
          "name": "stdout",
          "output_type": "stream",
          "text": [
            "TtestResult(statistic=array([-163.87518962]), pvalue=array([8.32973437e-295]), df=array([299]))\n"
          ]
        }
      ],
      "source": [
        "# Realizar o teste t de duas amostras para médias pareadas\n",
        "resultado_teste = ttest_rel(ideb_2005, ideb_2019)\n",
        "\n",
        "# Exibir o resultado\n",
        "print(resultado_teste)"
      ]
    },
    {
      "attachments": {},
      "cell_type": "markdown",
      "metadata": {},
      "source": [
        "No caso, o valor do p-valor foi muito baixo (2.5513488 x 10^-83), o que nos leva a rejeitar a hipótese nula de que as médias do IDEB para os anos de 2005 e 2019 são iguais, com um nível de confiança de 95%. Podemos concluir, portanto, que há evidência significativa de que as médias são diferentes. A estatística t negativa indica que a média do IDEB em 2019 é significativamente maior do que em 2005."
      ]
    },
    {
      "cell_type": "markdown",
      "metadata": {
        "id": "NtEjca_OIc4w"
      },
      "source": [
        "### Atividade 7: Com base no resultado do teste anterior, faça um boxplot que lhe ajude a entender melhor os resultados obtidos. Isto é, compare o boxplot do IDEB para os dois anos."
      ]
    },
    {
      "cell_type": "code",
      "execution_count": 98,
      "metadata": {},
      "outputs": [],
      "source": [
        "# Selecionar apenas os valores de IDEB dos dois anos de interesse\n",
        "ideb_2005 = ideb_2005['ideb'].values\n",
        "ideb_2019 = ideb_2019['ideb'].values"
      ]
    },
    {
      "cell_type": "code",
      "execution_count": 99,
      "metadata": {
        "id": "2k4C6scGIPKF"
      },
      "outputs": [
        {
          "data": {
            "image/png": "[encoded data removed]",
            "text/plain": [
              "<Figure size 640x480 with 1 Axes>"
            ]
          },
          "metadata": {},
          "output_type": "display_data"
        }
      ],
      "source": [
        "# Criar um DataFrame com os valores dos IDEBs para os dois anos\n",
        "df_boxplot = pd.DataFrame({'Ano': ['2005'] * len(ideb_2005) + ['2019'] * len(ideb_2019), 'IDEB': list(ideb_2005) + list(ideb_2019)})\n",
        "\n",
        "# Criar o boxplot usando o Seaborn\n",
        "sns.boxplot(x='Ano', y='IDEB', data=df_boxplot)\n",
        "\n",
        "plt.show()"
      ]
    },
    {
      "cell_type": "markdown",
      "metadata": {
        "id": "u7Zs62g3mY4E"
      },
      "source": [
        "# Análise de Variância (ANOVA) One-Way\n",
        "\n",
        "### Atividade 8: Vamos comparar a média do IDEB para os três estados da região sul, em 2019, para ver se estas médias podem ser consideradas iguais. Considere um nível de confiança de 95%.\n",
        "\n",
        "Dica: Crie três dataframes auxiliares, um para cada estado."
      ]
    },
    {
      "cell_type": "code",
      "execution_count": 100,
      "metadata": {
        "id": "GUb-Ng3flRY7"
      },
      "outputs": [],
      "source": [
        "# Criar um DataFrame auxiliar com os dados referentes aos estados da região sul em 2019\n",
        "df_idem_sul = ideb.loc[(ideb['ano'] == 2019) & ((ideb['sigla_uf'] == 'PR') | \n",
        "                                                (ideb['sigla_uf'] == 'SC') | \n",
        "                                                (ideb['sigla_uf'] == 'RS'))].dropna()\n",
        "\n",
        "# Criar um DataFrame auxiliar para o estado do Paraná\n",
        "df_idem_pr = df_idem_sul[df_idem_sul['sigla_uf'] == 'PR']\n",
        "\n",
        "# Criar um DataFrame auxiliar para o estado de Santa Catarina\n",
        "df_idem_sc = df_idem_sul[df_idem_sul['sigla_uf'] == 'SC']\n",
        "\n",
        "# Criar um DataFrame auxiliar para o estado do Rio Grande do Sul\n",
        "df_idem_rs = df_idem_sul[df_idem_sul['sigla_uf'] == 'RS']"
      ]
    },
    {
      "cell_type": "code",
      "execution_count": 101,
      "metadata": {
        "id": "JjFxaMVQVqwz"
      },
      "outputs": [
        {
          "name": "stdout",
          "output_type": "stream",
          "text": [
            "F_onewayResult(statistic=27.712354138245196, pvalue=1.2331589284254783e-12)\n"
          ]
        }
      ],
      "source": [
        "from scipy.stats import f_oneway\n",
        "\n",
        "# Selecionar apenas os valores de IDEB de cada um dos três dataframes auxiliares\n",
        "ideb_pr = df_idem_pr['ideb'].values\n",
        "ideb_sc = df_idem_sc['ideb'].values\n",
        "ideb_rs = df_idem_rs['ideb'].values\n",
        "\n",
        "# Realizar o teste de ANOVA One-Way\n",
        "resultado_teste = f_oneway(ideb_pr, ideb_sc, ideb_rs)\n",
        "\n",
        "# Exibir o resultado\n",
        "print(resultado_teste)"
      ]
    },
    {
      "attachments": {},
      "cell_type": "markdown",
      "metadata": {},
      "source": [
        "No caso, o valor do p-valor foi muito baixo (1.2331589284254783 x 10^-12), o que nos leva a rejeitar a hipótese nula de que as médias do IDEB para os três estados da região sul em 2019 são iguais, com um nível de confiança de 95%. Podemos concluir, portanto, que há evidência significativa de que as médias são diferentes. A estatística F positiva indica que pelo menos uma das médias dos grupos é significativamente diferente das outras."
      ]
    },
    {
      "cell_type": "markdown",
      "metadata": {
        "id": "5fLIsXvgV5Z9"
      },
      "source": [
        "### Atividade 9: Faça um boxplot para entender melhor o que está acontecendo com os valores do IDEB para os três estados."
      ]
    },
    {
      "cell_type": "code",
      "execution_count": 102,
      "metadata": {
        "id": "XOUnpMm6Vqsm"
      },
      "outputs": [
        {
          "data": {
            "image/png": "[encoded data removed]",
            "text/plain": [
              "<Figure size 640x480 with 1 Axes>"
            ]
          },
          "metadata": {},
          "output_type": "display_data"
        }
      ],
      "source": [
        "# Criar um DataFrame com os valores do IDEB para os três estados\n",
        "df_boxplot = pd.DataFrame({'Estado': ['PR'] * len(ideb_pr) + ['SC'] * len(ideb_sc) + ['RS']\n",
        "                           * len(ideb_rs), 'IDEB': list(ideb_pr) + list(ideb_sc) + list(ideb_rs)})\n",
        "\n",
        "# Criar o boxplot utilizando o Seaborn\n",
        "sns.boxplot(x='Estado', y='IDEB', data=df_boxplot)\n",
        "\n",
        "plt.show()"
      ]
    },
    {
      "cell_type": "markdown",
      "metadata": {
        "id": "YY9W9g4YWAwO"
      },
      "source": [
        "### Atividade 10: Faça um teste Post-hoc para verificar se de fato é o estado de Santa Catarina tem média diferente dos demais estados."
      ]
    },
    {
      "cell_type": "code",
      "execution_count": 103,
      "metadata": {},
      "outputs": [
        {
          "name": "stdout",
          "output_type": "stream",
          "text": [
            "Multiple Comparison of Means - Tukey HSD, FWER=0.05 \n",
            "====================================================\n",
            "group1 group2 meandiff p-adj   lower   upper  reject\n",
            "----------------------------------------------------\n",
            "    PR     RS  -0.2294    0.0  -0.302 -0.1568   True\n",
            "    PR     SC  -0.1123 0.0035 -0.1936  -0.031   True\n",
            "    RS     SC   0.1171 0.0009  0.0414  0.1928   True\n",
            "----------------------------------------------------\n"
          ]
        }
      ],
      "source": [
        "# Realizar o teste de Tukey para verificar quais estados apresentam médias de IDEB significativamente diferentes\n",
        "tukey_teste = pairwise_tukeyhsd(df_idem_sul['ideb'], df_idem_sul['sigla_uf'])\n",
        "\n",
        "# Exibir o resultado do teste de Tukey\n",
        "print(tukey_teste)"
      ]
    },
    {
      "attachments": {},
      "cell_type": "markdown",
      "metadata": {},
      "source": [
        "O boxplot gerado na Atividade 9 ajuda a visualizar melhor essas diferenças entre as médias dos estados. Podemos ver que a mediana do IDEB do Paraná e de Santa Catarina é mais alta do que a do Rio Grande do Sul, o que é consistente com o resultado do teste de Tukey.\n",
        "\n",
        "Em resumo, o teste Post-hoc com o teste de Tukey permite verificar quais grupos são significativamente diferentes entre si após um resultado significativo no teste de ANOVA One-Way. Neste caso, foi possível concluir que as médias de IDEB do Paraná e de Santa Catarina são diferentes da média do Rio Grande do Sul, e que as médias do Paraná e de Santa Catarina também são diferentes entre si."
      ]
    }
  ],
  "metadata": {
    "colab": {
      "provenance": []
    },
    "kernelspec": {
      "display_name": "Python 3",
      "name": "python3"
    },
    "language_info": {
      "codemirror_mode": {
        "name": "ipython",
        "version": 3
      },
      "file_extension": ".py",
      "mimetype": "text/x-python",
      "name": "python",
      "nbconvert_exporter": "python",
      "pygments_lexer": "ipython3",
      "version": "3.9.16"
    }
  },
  "nbformat": 4,
  "nbformat_minor": 0
}
