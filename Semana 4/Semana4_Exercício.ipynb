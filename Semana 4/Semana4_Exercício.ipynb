{
  "cells": [
    {
      "attachments": {},
      "cell_type": "markdown",
      "metadata": {
        "id": "pKyHd-IEkqPS"
      },
      "source": [
        "# Exercício\n",
        "\n",
        "\n",
        "Neste exercício, tentaremos identificar diferentes `perfis de clientes` de um supermercado. O propósito será de identificar clusters semelhantes para que sejam criadas estratégias de marketing e vendas mais adequadas para cada grupo, incentivando a fidelidade dos clientes e potencializando as vendas."
      ]
    },
    {
      "attachments": {},
      "cell_type": "markdown",
      "metadata": {
        "id": "kHUvg0eO6yLV"
      },
      "source": [
        "# Clusterização\n",
        "\n",
        "### Atividade 1: Crie um dataframe a partir do banco de dados `customer_supermarket`.\n",
        "\n",
        "O dataset está disponível em [formato .csv](https://drive.google.com/file/d/1L3ohl-YgU5SPcUS2LihG29Kj9XPE6er9/view?usp=share_link) ou em [formato .xlsx](https://docs.google.com/spreadsheets/d/18Cl-4fdjVAV-mKD74zRFpQ9esz_nU7fP/edit?usp=share_link&ouid=111649208388214484177&rtpof=true&sd=true)\n",
        "\n",
        "\n",
        "Abaixo encontra-se o dicionário de dados:\n",
        "\n",
        "\n",
        "**Informações Pessoais**\n",
        "\n",
        "`ID`: Identificador único do cliente\n",
        "\n",
        "`Year_Birth`: Ano de nascimento do cliente\n",
        "\n",
        "`Education`: Nível de escolaridade do cliente\n",
        "\n",
        "`Marital_Status`: Estado civil do cliente\n",
        "\n",
        "`Income`: Renda familiar anual do cliente\n",
        "\n",
        "`Kidhome`: Número de filhos na casa do cliente\n",
        "\n",
        "`Teenhome`: Número de adolescentes na casa do cliente\n",
        "\n",
        "`Dt_Customer`: Data de cadastro do cliente\n",
        "\n",
        "`Days_Registered`: Quantidade de Dias desde o cadastro\n",
        "\n",
        "`Recency`: Número de dias desde a última compra do cliente\n",
        "\n",
        "`Complain`: 1 se o cliente reclamou nos últimos 2 anos, 0 caso contrário\n",
        "\n",
        "\n",
        "\n",
        "**Produtos**\n",
        "\n",
        "`MntWines`: Valor gasto em vinho nos últimos 2 anos\n",
        "\n",
        "`MntFruits`: Valor gasto em frutas nos últimos 2 anos\n",
        "\n",
        "`MntMeatProducts`: Valor gasto em carnes nos últimos 2 anos\n",
        "\n",
        "`MntFishProducts`: Valor gasto em pescados nos últimos 2 anos\n",
        "\n",
        "`MntSweetProducts`: Valor gasto em doces nos últimos 2 anos\n",
        "\n",
        "`MntGoldProds`: Valor gasto em ouro nos últimos 2 anos\n",
        "\n",
        "\n",
        "\n",
        "**Promoções**\n",
        "\n",
        "`NumDealsPurchases`: Número de compras feitas com desconto\n",
        "\n",
        "`AcceptedCmp1`: 1 se o cliente aceitou a oferta na 1ª campanha, 0 caso contrário\n",
        "\n",
        "`AcceptedCmp2`: 1 se o cliente aceitou a oferta na 2ª campanha, 0 caso contrário\n",
        "\n",
        "`AcceptedCmp3`: 1 se o cliente aceitou a oferta na 3ª campanha, 0 caso contrário\n",
        "\n",
        "`AcceptedCmp4`: 1 se o cliente aceitou a oferta na 4ª campanha, 0 caso contrário\n",
        "\n",
        "`AcceptedCmp5`: 1 se o cliente aceitou a oferta na 5ª campanha, 0 caso contrário\n",
        "\n",
        "`Response`: 1 se o cliente aceitou a oferta na última campanha, 0 caso contrário\n",
        "\n",
        "\n",
        "\n",
        "**Meios**\n",
        "\n",
        "`NumWebPurchases`: Número de compras realizadas pelo site da empresa\n",
        "\n",
        "`NumCatalogPurchases`: Número de compras feitas usando um catálogo\n",
        "\n",
        "`NumStorePurchases`: Número de compras feitas diretamente nas lojas\n",
        "\n",
        "`NumWebVisitsMonth`: Número de visitas ao site da empresa no último mês\n",
        "\n",
        "\n",
        "Obs: este dataset foi `adaptado` a partir do original encontrado no [kaggle](https://www.kaggle.com/datasets/imakash3011/customer-personality-analysis)."
      ]
    },
    {
      "cell_type": "code",
      "execution_count": 27,
      "metadata": {
        "id": "vLi7uBsuMn8c"
      },
      "outputs": [],
      "source": [
        "import pandas as pd\n",
        "\n",
        "import numpy as np\n",
        "\n",
        "# Importando a biblioteca warnings para ignorar avisos durante a execução do código\n",
        "import warnings\n",
        "warnings.filterwarnings(\"ignore\")"
      ]
    },
    {
      "cell_type": "code",
      "execution_count": 17,
      "metadata": {
        "id": "AKwc595wR0Nd"
      },
      "outputs": [
        {
          "data": {
            "text/html": [
              "<div>\n",
              "<style scoped>\n",
              "    .dataframe tbody tr th:only-of-type {\n",
              "        vertical-align: middle;\n",
              "    }\n",
              "\n",
              "    .dataframe tbody tr th {\n",
              "        vertical-align: top;\n",
              "    }\n",
              "\n",
              "    .dataframe thead th {\n",
              "        text-align: right;\n",
              "    }\n",
              "</style>\n",
              "<table border=\"1\" class=\"dataframe\">\n",
              "  <thead>\n",
              "    <tr style=\"text-align: right;\">\n",
              "      <th></th>\n",
              "      <th>ID</th>\n",
              "      <th>Year_Birth</th>\n",
              "      <th>Education</th>\n",
              "      <th>Marital_Status</th>\n",
              "      <th>Income</th>\n",
              "      <th>Kidhome</th>\n",
              "      <th>Teenhome</th>\n",
              "      <th>Dt_Customer</th>\n",
              "      <th>Days_Registered</th>\n",
              "      <th>Recency</th>\n",
              "      <th>...</th>\n",
              "      <th>NumWebVisitsMonth</th>\n",
              "      <th>AcceptedCmp3</th>\n",
              "      <th>AcceptedCmp4</th>\n",
              "      <th>AcceptedCmp5</th>\n",
              "      <th>AcceptedCmp1</th>\n",
              "      <th>AcceptedCmp2</th>\n",
              "      <th>Complain</th>\n",
              "      <th>Z_CostContact</th>\n",
              "      <th>Z_Revenue</th>\n",
              "      <th>Response</th>\n",
              "    </tr>\n",
              "  </thead>\n",
              "  <tbody>\n",
              "    <tr>\n",
              "      <th>0</th>\n",
              "      <td>5524</td>\n",
              "      <td>1965</td>\n",
              "      <td>Graduation</td>\n",
              "      <td>Single</td>\n",
              "      <td>58138.0</td>\n",
              "      <td>0</td>\n",
              "      <td>0</td>\n",
              "      <td>2020-09-04</td>\n",
              "      <td>849</td>\n",
              "      <td>58</td>\n",
              "      <td>...</td>\n",
              "      <td>7</td>\n",
              "      <td>0</td>\n",
              "      <td>0</td>\n",
              "      <td>0</td>\n",
              "      <td>0</td>\n",
              "      <td>0</td>\n",
              "      <td>0</td>\n",
              "      <td>3</td>\n",
              "      <td>11</td>\n",
              "      <td>1</td>\n",
              "    </tr>\n",
              "    <tr>\n",
              "      <th>1</th>\n",
              "      <td>2174</td>\n",
              "      <td>1962</td>\n",
              "      <td>Graduation</td>\n",
              "      <td>Single</td>\n",
              "      <td>46344.0</td>\n",
              "      <td>1</td>\n",
              "      <td>1</td>\n",
              "      <td>2022-03-08</td>\n",
              "      <td>299</td>\n",
              "      <td>38</td>\n",
              "      <td>...</td>\n",
              "      <td>5</td>\n",
              "      <td>0</td>\n",
              "      <td>0</td>\n",
              "      <td>0</td>\n",
              "      <td>0</td>\n",
              "      <td>0</td>\n",
              "      <td>0</td>\n",
              "      <td>3</td>\n",
              "      <td>11</td>\n",
              "      <td>0</td>\n",
              "    </tr>\n",
              "    <tr>\n",
              "      <th>2</th>\n",
              "      <td>4141</td>\n",
              "      <td>1973</td>\n",
              "      <td>Graduation</td>\n",
              "      <td>Together</td>\n",
              "      <td>71613.0</td>\n",
              "      <td>0</td>\n",
              "      <td>0</td>\n",
              "      <td>2021-08-21</td>\n",
              "      <td>498</td>\n",
              "      <td>26</td>\n",
              "      <td>...</td>\n",
              "      <td>4</td>\n",
              "      <td>0</td>\n",
              "      <td>0</td>\n",
              "      <td>0</td>\n",
              "      <td>0</td>\n",
              "      <td>0</td>\n",
              "      <td>0</td>\n",
              "      <td>3</td>\n",
              "      <td>11</td>\n",
              "      <td>0</td>\n",
              "    </tr>\n",
              "    <tr>\n",
              "      <th>3</th>\n",
              "      <td>6182</td>\n",
              "      <td>1992</td>\n",
              "      <td>Graduation</td>\n",
              "      <td>Together</td>\n",
              "      <td>26646.0</td>\n",
              "      <td>1</td>\n",
              "      <td>0</td>\n",
              "      <td>2022-02-10</td>\n",
              "      <td>325</td>\n",
              "      <td>26</td>\n",
              "      <td>...</td>\n",
              "      <td>6</td>\n",
              "      <td>0</td>\n",
              "      <td>0</td>\n",
              "      <td>0</td>\n",
              "      <td>0</td>\n",
              "      <td>0</td>\n",
              "      <td>0</td>\n",
              "      <td>3</td>\n",
              "      <td>11</td>\n",
              "      <td>0</td>\n",
              "    </tr>\n",
              "    <tr>\n",
              "      <th>4</th>\n",
              "      <td>5324</td>\n",
              "      <td>1989</td>\n",
              "      <td>PhD</td>\n",
              "      <td>Married</td>\n",
              "      <td>58293.0</td>\n",
              "      <td>1</td>\n",
              "      <td>0</td>\n",
              "      <td>2022-01-19</td>\n",
              "      <td>347</td>\n",
              "      <td>94</td>\n",
              "      <td>...</td>\n",
              "      <td>5</td>\n",
              "      <td>0</td>\n",
              "      <td>0</td>\n",
              "      <td>0</td>\n",
              "      <td>0</td>\n",
              "      <td>0</td>\n",
              "      <td>0</td>\n",
              "      <td>3</td>\n",
              "      <td>11</td>\n",
              "      <td>0</td>\n",
              "    </tr>\n",
              "  </tbody>\n",
              "</table>\n",
              "<p>5 rows × 30 columns</p>\n",
              "</div>"
            ],
            "text/plain": [
              "     ID  Year_Birth   Education Marital_Status   Income  Kidhome  Teenhome  \\\n",
              "0  5524        1965  Graduation         Single  58138.0        0         0   \n",
              "1  2174        1962  Graduation         Single  46344.0        1         1   \n",
              "2  4141        1973  Graduation       Together  71613.0        0         0   \n",
              "3  6182        1992  Graduation       Together  26646.0        1         0   \n",
              "4  5324        1989         PhD        Married  58293.0        1         0   \n",
              "\n",
              "  Dt_Customer  Days_Registered  Recency  ...  NumWebVisitsMonth  AcceptedCmp3  \\\n",
              "0  2020-09-04              849       58  ...                  7             0   \n",
              "1  2022-03-08              299       38  ...                  5             0   \n",
              "2  2021-08-21              498       26  ...                  4             0   \n",
              "3  2022-02-10              325       26  ...                  6             0   \n",
              "4  2022-01-19              347       94  ...                  5             0   \n",
              "\n",
              "   AcceptedCmp4  AcceptedCmp5  AcceptedCmp1  AcceptedCmp2  Complain  \\\n",
              "0             0             0             0             0         0   \n",
              "1             0             0             0             0         0   \n",
              "2             0             0             0             0         0   \n",
              "3             0             0             0             0         0   \n",
              "4             0             0             0             0         0   \n",
              "\n",
              "   Z_CostContact  Z_Revenue  Response  \n",
              "0              3         11         1  \n",
              "1              3         11         0  \n",
              "2              3         11         0  \n",
              "3              3         11         0  \n",
              "4              3         11         0  \n",
              "\n",
              "[5 rows x 30 columns]"
            ]
          },
          "execution_count": 17,
          "metadata": {},
          "output_type": "execute_result"
        }
      ],
      "source": [
        "# Lendo o arquivo\n",
        "df = pd.read_excel('customer_supermarket.xlsx')\n",
        "\n",
        "df.head()"
      ]
    },
    {
      "attachments": {},
      "cell_type": "markdown",
      "metadata": {
        "id": "hxlKIjwz6fc1"
      },
      "source": [
        "### Atividade 2: Faça o tratamento dos Dados.\n",
        "Dica: verifique `dados ausentes` e `outliers` e, se necessário, remova as linhas."
      ]
    },
    {
      "cell_type": "code",
      "execution_count": 18,
      "metadata": {
        "id": "Sc9OJjwQ6sPy"
      },
      "outputs": [
        {
          "name": "stdout",
          "output_type": "stream",
          "text": [
            "Dados ausentes por coluna:\n",
            "ID                      0\n",
            "Year_Birth              0\n",
            "Education               0\n",
            "Marital_Status          0\n",
            "Income                 24\n",
            "Kidhome                 0\n",
            "Teenhome                0\n",
            "Dt_Customer             0\n",
            "Days_Registered         0\n",
            "Recency                 0\n",
            "MntWines                0\n",
            "MntFruits               0\n",
            "MntMeatProducts         0\n",
            "MntFishProducts         0\n",
            "MntSweetProducts        0\n",
            "MntGoldProds            0\n",
            "NumDealsPurchases       0\n",
            "NumWebPurchases         0\n",
            "NumCatalogPurchases     0\n",
            "NumStorePurchases       0\n",
            "NumWebVisitsMonth       0\n",
            "AcceptedCmp3            0\n",
            "AcceptedCmp4            0\n",
            "AcceptedCmp5            0\n",
            "AcceptedCmp1            0\n",
            "AcceptedCmp2            0\n",
            "Complain                0\n",
            "Z_CostContact           0\n",
            "Z_Revenue               0\n",
            "Response                0\n",
            "dtype: int64\n"
          ]
        },
        {
          "data": {
            "text/plain": [
              "ID                     0\n",
              "Year_Birth             0\n",
              "Education              0\n",
              "Marital_Status         0\n",
              "Income                 0\n",
              "Kidhome                0\n",
              "Teenhome               0\n",
              "Dt_Customer            0\n",
              "Days_Registered        0\n",
              "Recency                0\n",
              "MntWines               0\n",
              "MntFruits              0\n",
              "MntMeatProducts        0\n",
              "MntFishProducts        0\n",
              "MntSweetProducts       0\n",
              "MntGoldProds           0\n",
              "NumDealsPurchases      0\n",
              "NumWebPurchases        0\n",
              "NumCatalogPurchases    0\n",
              "NumStorePurchases      0\n",
              "NumWebVisitsMonth      0\n",
              "AcceptedCmp3           0\n",
              "AcceptedCmp4           0\n",
              "AcceptedCmp5           0\n",
              "AcceptedCmp1           0\n",
              "AcceptedCmp2           0\n",
              "Complain               0\n",
              "Z_CostContact          0\n",
              "Z_Revenue              0\n",
              "Response               0\n",
              "dtype: int64"
            ]
          },
          "execution_count": 18,
          "metadata": {},
          "output_type": "execute_result"
        }
      ],
      "source": [
        "# Verificar dados ausentes\n",
        "print(\"Dados ausentes por coluna:\")\n",
        "print(df.isnull().sum())\n",
        "\n",
        "# Dropar dados ausentes\n",
        "df.dropna(inplace=True)\n",
        "df.isnull().sum()"
      ]
    },
    {
      "cell_type": "code",
      "execution_count": 19,
      "metadata": {
        "id": "6Bqm-Q728E_-"
      },
      "outputs": [
        {
          "name": "stdout",
          "output_type": "stream",
          "text": [
            "\n",
            "Outliers:\n",
            "ID                       0\n",
            "Year_Birth               3\n",
            "Income                   8\n",
            "Kidhome                  0\n",
            "Teenhome                 0\n",
            "Days_Registered          0\n",
            "Recency                  0\n",
            "MntWines                35\n",
            "MntFruits              246\n",
            "MntMeatProducts        174\n",
            "MntFishProducts        222\n",
            "MntSweetProducts       246\n",
            "MntGoldProds           205\n",
            "NumDealsPurchases       84\n",
            "NumWebPurchases          3\n",
            "NumCatalogPurchases     23\n",
            "NumStorePurchases        0\n",
            "NumWebVisitsMonth        8\n",
            "AcceptedCmp3           163\n",
            "AcceptedCmp4           164\n",
            "AcceptedCmp5           162\n",
            "AcceptedCmp1           142\n",
            "AcceptedCmp2            30\n",
            "Complain                21\n",
            "Z_CostContact            0\n",
            "Z_Revenue                0\n",
            "Response               333\n",
            "dtype: int64\n"
          ]
        }
      ],
      "source": [
        "# Selecionando apenas colunas numéricas (excluindo colunas de data)\n",
        "numerical_df = df.select_dtypes(include=[np.number])\n",
        "\n",
        "# Verificar outliers usando o método IQR Score\n",
        "Q1 = numerical_df.quantile(0.25)\n",
        "Q3 = numerical_df.quantile(0.75)\n",
        "IQR = Q3 - Q1\n",
        "print(\"\\nOutliers:\")\n",
        "print(((numerical_df < (Q1 - 1.5 * IQR)) | (numerical_df > (Q3 + 1.5 * IQR))).sum())"
      ]
    },
    {
      "cell_type": "code",
      "execution_count": 21,
      "metadata": {
        "id": "SU8Axn6pusGj"
      },
      "outputs": [
        {
          "name": "stdout",
          "output_type": "stream",
          "text": [
            "                 Coluna  Contagem\n",
            "0                    ID         0\n",
            "1            Year_Birth         3\n",
            "2                Income         8\n",
            "3               Kidhome         0\n",
            "4              Teenhome         0\n",
            "5       Days_Registered         0\n",
            "6               Recency         0\n",
            "7              MntWines        15\n",
            "8             MntFruits        64\n",
            "9       MntMeatProducts        39\n",
            "10      MntFishProducts        58\n",
            "11     MntSweetProducts        61\n",
            "12         MntGoldProds        46\n",
            "13    NumDealsPurchases        31\n",
            "14      NumWebPurchases         3\n",
            "15  NumCatalogPurchases         4\n",
            "16    NumStorePurchases         0\n",
            "17    NumWebVisitsMonth         9\n",
            "18         AcceptedCmp3       163\n",
            "19         AcceptedCmp4       164\n",
            "20         AcceptedCmp5       162\n",
            "21         AcceptedCmp1       142\n",
            "22         AcceptedCmp2        30\n",
            "23             Complain        21\n",
            "24        Z_CostContact         0\n",
            "25            Z_Revenue         0\n",
            "26             Response         0\n"
          ]
        }
      ],
      "source": [
        "# Verificar outliers usando o método Z-Score\n",
        "outliers_count = {}\n",
        "\n",
        "threshold = 3  # Definir o número de desvios padrão para considerar como outliers\n",
        "\n",
        "for column in numerical_df.columns:\n",
        "    mean = numerical_df[column].mean()\n",
        "    std = numerical_df[column].std()\n",
        "    lower_threshold = mean - threshold * std\n",
        "    upper_threshold = mean + threshold * std\n",
        "    outliers = numerical_df[(numerical_df[column] < lower_threshold) | (numerical_df[column] > upper_threshold)]\n",
        "    outliers_count[column] = outliers.shape[0]\n",
        "\n",
        "outliers_df = pd.DataFrame(outliers_count.items(), columns=['Coluna', 'Contagem'])\n",
        "print(outliers_df)"
      ]
    },
    {
      "cell_type": "code",
      "execution_count": 22,
      "metadata": {},
      "outputs": [
        {
          "name": "stdout",
          "output_type": "stream",
          "text": [
            "                     IQR  Z-score\n",
            "ID                     0        0\n",
            "Year_Birth             3        3\n",
            "Income                 8        8\n",
            "Kidhome                0        0\n",
            "Teenhome               0        0\n",
            "Days_Registered        0        0\n",
            "Recency                0        0\n",
            "MntWines              35       15\n",
            "MntFruits            246       64\n",
            "MntMeatProducts      174       39\n",
            "MntFishProducts      222       58\n",
            "MntSweetProducts     246       61\n",
            "MntGoldProds         205       46\n",
            "NumDealsPurchases     84       31\n",
            "NumWebPurchases        3        3\n",
            "NumCatalogPurchases   23        4\n",
            "NumStorePurchases      0        0\n",
            "NumWebVisitsMonth      8        9\n",
            "AcceptedCmp3         163      163\n",
            "AcceptedCmp4         164      164\n",
            "AcceptedCmp5         162      162\n",
            "AcceptedCmp1         142      142\n",
            "AcceptedCmp2          30       30\n",
            "Complain              21       21\n",
            "Z_CostContact          0        0\n",
            "Z_Revenue              0        0\n",
            "Response             333        0\n"
          ]
        }
      ],
      "source": [
        "outliers_count = {}\n",
        "iqr_multiplier = 1.5  # Multiplicador do IQR para definir os limites de outliers\n",
        "zscore_threshold = 3  # Limite de Z-score para definir outliers\n",
        "\n",
        "for column in numerical_df.columns:\n",
        "    # Contagem de outliers usando o método do IQR\n",
        "    q1 = numerical_df[column].quantile(0.25)\n",
        "    q3 = numerical_df[column].quantile(0.75)\n",
        "    iqr = q3 - q1\n",
        "    lower_threshold_iqr = q1 - iqr_multiplier * iqr\n",
        "    upper_threshold_iqr = q3 + iqr_multiplier * iqr\n",
        "    outliers_iqr = numerical_df[(numerical_df[column] < lower_threshold_iqr) | (numerical_df[column] > upper_threshold_iqr)]\n",
        "    \n",
        "    # Contagem de outliers usando o método do Z-score\n",
        "    mean = numerical_df[column].mean()\n",
        "    std = numerical_df[column].std()\n",
        "    lower_threshold_zscore = mean - zscore_threshold * std\n",
        "    upper_threshold_zscore = mean + zscore_threshold * std\n",
        "    outliers_zscore = numerical_df[(numerical_df[column] < lower_threshold_zscore) | (numerical_df[column] > upper_threshold_zscore)]\n",
        "    \n",
        "    outliers_count[column] = {'IQR': outliers_iqr.shape[0], 'Z-score': outliers_zscore.shape[0]}\n",
        "\n",
        "outliers_df = pd.DataFrame(outliers_count).transpose()\n",
        "print(outliers_df)\n"
      ]
    },
    {
      "cell_type": "code",
      "execution_count": 40,
      "metadata": {},
      "outputs": [
        {
          "name": "stdout",
          "output_type": "stream",
          "text": [
            "                     IQR  Z-score  Isolation Forest  DBSCAN\n",
            "ID                     0        0               111       0\n",
            "Year_Birth             3        3               101       3\n",
            "Income                 8        8               110       2\n",
            "Kidhome                0        0                46       0\n",
            "Teenhome               0        0                51       0\n",
            "Days_Registered        0        0               110       0\n",
            "Recency                0        0               111       0\n",
            "MntWines              35       15               110       0\n",
            "MntFruits            246       64               111       0\n",
            "MntMeatProducts      174       39               111       4\n",
            "MntFishProducts      222       58               105       0\n",
            "MntSweetProducts     246       61               110       1\n",
            "MntGoldProds         205       46               111       3\n",
            "NumDealsPurchases     84       31                89       6\n",
            "NumWebPurchases        3        3                95       3\n",
            "NumCatalogPurchases   23        4                70       4\n",
            "NumStorePurchases      0        0               103       0\n",
            "NumWebVisitsMonth      8        9               104      12\n",
            "AcceptedCmp3         163      163                 0       0\n",
            "AcceptedCmp4         164      164                 0       0\n",
            "AcceptedCmp5         162      162                 0       0\n",
            "AcceptedCmp1         142      142                 0       0\n",
            "AcceptedCmp2          30       30                30       0\n",
            "Complain              21       21                21       0\n",
            "Z_CostContact          0        0                 0       0\n",
            "Z_Revenue              0        0                 0       0\n",
            "Response             333        0                 0       0\n"
          ]
        }
      ],
      "source": [
        "from sklearn.ensemble import IsolationForest\n",
        "from sklearn.cluster import DBSCAN\n",
        "from sklearn.preprocessing import StandardScaler, RobustScaler\n",
        "\n",
        "# Criar uma instância do StandardScaler\n",
        "scaler = RobustScaler()\n",
        "\n",
        "alpha = 0.05  # Definir o nível de significância desejado\n",
        "\n",
        "outliers_count = {}\n",
        "\n",
        "for column in numerical_df.columns:\n",
        "    # Contagem de outliers usando o método do IQR\n",
        "    q1 = numerical_df[column].quantile(0.25)\n",
        "    q3 = numerical_df[column].quantile(0.75)\n",
        "    iqr = q3 - q1\n",
        "    lower_threshold_iqr = q1 - iqr_multiplier * iqr\n",
        "    upper_threshold_iqr = q3 + iqr_multiplier * iqr\n",
        "    outliers_iqr = numerical_df[(numerical_df[column] < lower_threshold_iqr) | (numerical_df[column] > upper_threshold_iqr)]\n",
        "    \n",
        "    # Contagem de outliers usando o método do Z-score\n",
        "    mean = numerical_df[column].mean()\n",
        "    std = numerical_df[column].std()\n",
        "    lower_threshold_zscore = mean - zscore_threshold * std\n",
        "    upper_threshold_zscore = mean + zscore_threshold * std\n",
        "    outliers_zscore = numerical_df[(numerical_df[column] < lower_threshold_zscore) | (numerical_df[column] > upper_threshold_zscore)]\n",
        "    \n",
        "\n",
        "    # Padronizar os dados\n",
        "    dados_padronizados = scaler.fit_transform(numerical_df)\n",
        "\n",
        "    # Criar um novo DataFrame com os dados padronizados\n",
        "    df_padronizado = pd.DataFrame(dados_padronizados, columns=numerical_df.columns)\n",
        "\n",
        "    # Contagem de outliers usando o método Isolation Forest\n",
        "    isolation_forest = IsolationForest(contamination=alpha)\n",
        "    isolation_forest.fit(df_padronizado[[column]])\n",
        "    outliers_isolation_forest = isolation_forest.predict(df_padronizado[[column]])\n",
        "    outliers_isolation_forest = numerical_df[outliers_isolation_forest == -1]\n",
        "\n",
        "    # Apply DBSCAN to cluster the data and find outliers\n",
        "    dbscan = DBSCAN(eps=0.2, min_samples=5)\n",
        "    dbscan.fit(df_padronizado[[column]])\n",
        "    outliers_DBSCAN = dbscan.labels_\n",
        "    #outliers_DBSCAN = dbscan.predict(numerical_df[[column]])\n",
        "    outliers_DBSCAN = numerical_df[outliers_DBSCAN == -1]\n",
        "    \n",
        "    outliers_count[column] = {'IQR': outliers_iqr.shape[0], 'Z-score': outliers_zscore.shape[0],\n",
        "                               'Isolation Forest': outliers_isolation_forest.shape[0], 'DBSCAN': outliers_DBSCAN.shape[0]}\n",
        "\n",
        "outliers_df = pd.DataFrame(outliers_count).transpose()\n",
        "print(outliers_df)"
      ]
    },
    {
      "cell_type": "code",
      "execution_count": null,
      "metadata": {},
      "outputs": [],
      "source": [
        "# Dropar outliers\n",
        "numerical_df = numerical_df[~((numerical_df < (Q1 - 1.5 * IQR)) | (numerical_df > (Q3 + 1.5 * IQR))).any(axis=1)]"
      ]
    },
    {
      "cell_type": "code",
      "execution_count": null,
      "metadata": {
        "id": "2InaNEVGur2J"
      },
      "outputs": [],
      "source": [
        "# seu código"
      ]
    },
    {
      "attachments": {},
      "cell_type": "markdown",
      "metadata": {
        "id": "R1tr2m4Y3q5P"
      },
      "source": [
        "### Atividade 3: Crie uma nova coluna chamada \"MntTotal\" que é a soma das colunas \"MntFruits\", \"MntMeatProducts\", \"MntSweetProducts\", \"MntWines\" e \"MntGoldProds\""
      ]
    },
    {
      "cell_type": "code",
      "execution_count": null,
      "metadata": {
        "id": "ipBq0vFLCFa-"
      },
      "outputs": [],
      "source": [
        "# seu código"
      ]
    },
    {
      "attachments": {},
      "cell_type": "markdown",
      "metadata": {
        "id": "erKupZVt4Vog"
      },
      "source": [
        "### Atividade 4: Crie um DataFrame apenas com as colunas `Recency`, `Days_Registered`, `MntTotal` e `Income` e use-o para fazer o agrupamento."
      ]
    },
    {
      "cell_type": "code",
      "execution_count": null,
      "metadata": {
        "id": "UqdnUNNB-yAC"
      },
      "outputs": [],
      "source": [
        "# seu código"
      ]
    },
    {
      "attachments": {},
      "cell_type": "markdown",
      "metadata": {
        "id": "DIZFtzqlOgGL"
      },
      "source": [
        "### Atividade 5: Padronize os dados."
      ]
    },
    {
      "cell_type": "code",
      "execution_count": null,
      "metadata": {
        "id": "lYGEYtIoMpLm"
      },
      "outputs": [],
      "source": [
        "# seu código"
      ]
    },
    {
      "attachments": {},
      "cell_type": "markdown",
      "metadata": {
        "id": "83C6DDlCO3n9"
      },
      "source": [
        "### Atividade 6: Faça um agrupamento hierárquico e plote o dendograma."
      ]
    },
    {
      "cell_type": "code",
      "execution_count": null,
      "metadata": {
        "id": "DQUCPKq3WDdK"
      },
      "outputs": [],
      "source": [
        "# seu código"
      ]
    },
    {
      "cell_type": "code",
      "execution_count": null,
      "metadata": {
        "id": "b3Wf2pT6AUwq"
      },
      "outputs": [],
      "source": [
        "# seu código"
      ]
    },
    {
      "attachments": {},
      "cell_type": "markdown",
      "metadata": {
        "id": "OCXL1qDNPAwg"
      },
      "source": [
        "### Atividade 7: Encontre a quantidade que parece adequada para o número de grupos.\n",
        "Dicas:\n",
        "* Faça a análise a partir do dendrograma acima, escolha uma quantidade de clusters que parecer adequada e crie uma coluna com o nome `grupos` no dataframe.\n",
        "* Adicione a coluna `grupos` ao dataframe contendo todas as variáveis (e não somente aquelas utilizadas para os agrupamentos), assim você poderá fazer uma análise mais ampla dos consumidores.\n",
        "* Para o propósito deste exercício, utilize um `máximo` de 4 grupos para permitir uma boa visualização nas etapas a seguir."
      ]
    },
    {
      "cell_type": "code",
      "execution_count": null,
      "metadata": {
        "id": "MH0-qDSxAh4e"
      },
      "outputs": [],
      "source": [
        "# seu código"
      ]
    },
    {
      "attachments": {},
      "cell_type": "markdown",
      "metadata": {
        "id": "0d8BfhTspN1c"
      },
      "source": [
        "### Atividade 8: Crie Gráficos para visualizar os Grupos."
      ]
    },
    {
      "attachments": {},
      "cell_type": "markdown",
      "metadata": {
        "id": "_sfWlHhPqafR"
      },
      "source": [
        "#### Atividade 8.1: Crie Visualizações em Boxplot\n",
        "Dica: utilize o Seaborn para criar boxplots com os clusters selecionados."
      ]
    },
    {
      "cell_type": "code",
      "execution_count": null,
      "metadata": {
        "id": "7fQ4zce6pQly"
      },
      "outputs": [],
      "source": [
        "# seu código"
      ]
    },
    {
      "cell_type": "code",
      "execution_count": null,
      "metadata": {
        "id": "TOqxrPmux7fJ"
      },
      "outputs": [],
      "source": [
        "# seu código"
      ]
    },
    {
      "cell_type": "code",
      "execution_count": null,
      "metadata": {
        "id": "Ikw_pTrEx7Pk"
      },
      "outputs": [],
      "source": [
        "# seu código"
      ]
    },
    {
      "cell_type": "code",
      "execution_count": null,
      "metadata": {
        "id": "zekCX68Kx63a"
      },
      "outputs": [],
      "source": [
        "# seu código"
      ]
    },
    {
      "attachments": {},
      "cell_type": "markdown",
      "metadata": {
        "id": "6UarjftOqDQb"
      },
      "source": [
        "#### Atividade 8.2: Crie Histogramas para visualizar os Grupos\n",
        "Dica: utilize o Seaborn para plotar histogramas dos clusters selecionados."
      ]
    },
    {
      "cell_type": "code",
      "execution_count": null,
      "metadata": {
        "id": "UC09rcnjx8VY"
      },
      "outputs": [],
      "source": [
        "# seu código"
      ]
    },
    {
      "cell_type": "code",
      "execution_count": null,
      "metadata": {
        "id": "98dgYdyWx8J7"
      },
      "outputs": [],
      "source": [
        "# seu código"
      ]
    },
    {
      "cell_type": "code",
      "execution_count": null,
      "metadata": {
        "id": "x7B6aMz2yAhx"
      },
      "outputs": [],
      "source": [
        "# seu código"
      ]
    },
    {
      "cell_type": "code",
      "execution_count": null,
      "metadata": {
        "id": "sPVX1QK0yAXN"
      },
      "outputs": [],
      "source": [
        "# seu código"
      ]
    },
    {
      "cell_type": "code",
      "execution_count": null,
      "metadata": {
        "id": "mkGte59_yAPA"
      },
      "outputs": [],
      "source": [
        "# seu código"
      ]
    },
    {
      "cell_type": "code",
      "execution_count": null,
      "metadata": {
        "id": "8I3UuP8Nx__a"
      },
      "outputs": [],
      "source": [
        "# seu código"
      ]
    },
    {
      "attachments": {},
      "cell_type": "markdown",
      "metadata": {
        "id": "otEYFO5KOshc"
      },
      "source": [
        "### Atividade 9: Faça uma análise de cada grupo a fim de criar uma descrição adequada dele (persona)."
      ]
    },
    {
      "attachments": {},
      "cell_type": "markdown",
      "metadata": {
        "id": "2--rxXOFBZhJ"
      },
      "source": [
        "Descrição dos Grupos:\n",
        "\n",
        "* O grupo 1 é composto por pessoas que [...].\n",
        "\n",
        "* O grupo 2 é composto por pessoas que [...].\n",
        "\n",
        "* O grupo (n) é composto por pessoas que [...]."
      ]
    },
    {
      "attachments": {},
      "cell_type": "markdown",
      "metadata": {
        "id": "qIRbkFA957j2"
      },
      "source": [
        "### Para refletir: \n",
        "\n",
        "\n",
        "####Quais outras variáveis poderíamos combinar ou processar para obter análises mais precisas?\n",
        "\n",
        "Exemplo: e se comparássemos o valor gasto com a faixa de salário para entender esses valores percentualmente?\n",
        "\n",
        "####Como poderíamos usar uma variável categórica para realizar agrupamento?\n",
        "\n",
        "Dica:  Pesquise sobre One Hot Encoding"
      ]
    }
  ],
  "metadata": {
    "colab": {
      "provenance": []
    },
    "kernelspec": {
      "display_name": "Python 3",
      "name": "python3"
    },
    "language_info": {
      "codemirror_mode": {
        "name": "ipython",
        "version": 3
      },
      "file_extension": ".py",
      "mimetype": "text/x-python",
      "name": "python",
      "nbconvert_exporter": "python",
      "pygments_lexer": "ipython3",
      "version": "3.9.16"
    }
  },
  "nbformat": 4,
  "nbformat_minor": 0
}
