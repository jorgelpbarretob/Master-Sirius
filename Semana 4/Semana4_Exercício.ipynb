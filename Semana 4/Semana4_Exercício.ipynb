{
  "nbformat": 4,
  "nbformat_minor": 0,
  "metadata": {
    "colab": {
      "provenance": []
    },
    "kernelspec": {
      "name": "python3",
      "display_name": "Python 3"
    },
    "language_info": {
      "name": "python"
    }
  },
  "cells": [
    {
      "cell_type": "markdown",
      "source": [
        "# Exercício\n",
        "\n",
        "\n",
        "Neste exercício, tentaremos identificar diferentes `perfis de clientes` de um supermercado. O propósito será de identificar clusters semelhantes para que sejam criadas estratégias de marketing e vendas mais adequadas para cada grupo, incentivando a fidelidade dos clientes e potencializando as vendas."
      ],
      "metadata": {
        "id": "pKyHd-IEkqPS"
      }
    },
    {
      "cell_type": "markdown",
      "source": [
        "# Clusterização\n",
        "\n",
        "### Atividade 1: Crie um dataframe a partir do banco de dados `customer_supermarket`.\n",
        "\n",
        "O dataset está disponível em [formato .csv](https://drive.google.com/file/d/1L3ohl-YgU5SPcUS2LihG29Kj9XPE6er9/view?usp=share_link) ou em [formato .xlsx](https://docs.google.com/spreadsheets/d/18Cl-4fdjVAV-mKD74zRFpQ9esz_nU7fP/edit?usp=share_link&ouid=111649208388214484177&rtpof=true&sd=true)\n",
        "\n",
        "\n",
        "Abaixo encontra-se o dicionário de dados:\n",
        "\n",
        "\n",
        "**Informações Pessoais**\n",
        "\n",
        "`ID`: Identificador único do cliente\n",
        "\n",
        "`Year_Birth`: Ano de nascimento do cliente\n",
        "\n",
        "`Education`: Nível de escolaridade do cliente\n",
        "\n",
        "`Marital_Status`: Estado civil do cliente\n",
        "\n",
        "`Income`: Renda familiar anual do cliente\n",
        "\n",
        "`Kidhome`: Número de filhos na casa do cliente\n",
        "\n",
        "`Teenhome`: Número de adolescentes na casa do cliente\n",
        "\n",
        "`Dt_Customer`: Data de cadastro do cliente\n",
        "\n",
        "`Days_Registered`: Quantidade de Dias desde o cadastro\n",
        "\n",
        "`Recency`: Número de dias desde a última compra do cliente\n",
        "\n",
        "`Complain`: 1 se o cliente reclamou nos últimos 2 anos, 0 caso contrário\n",
        "\n",
        "\n",
        "\n",
        "**Produtos**\n",
        "\n",
        "`MntWines`: Valor gasto em vinho nos últimos 2 anos\n",
        "\n",
        "`MntFruits`: Valor gasto em frutas nos últimos 2 anos\n",
        "\n",
        "`MntMeatProducts`: Valor gasto em carnes nos últimos 2 anos\n",
        "\n",
        "`MntFishProducts`: Valor gasto em pescados nos últimos 2 anos\n",
        "\n",
        "`MntSweetProducts`: Valor gasto em doces nos últimos 2 anos\n",
        "\n",
        "`MntGoldProds`: Valor gasto em ouro nos últimos 2 anos\n",
        "\n",
        "\n",
        "\n",
        "**Promoções**\n",
        "\n",
        "`NumDealsPurchases`: Número de compras feitas com desconto\n",
        "\n",
        "`AcceptedCmp1`: 1 se o cliente aceitou a oferta na 1ª campanha, 0 caso contrário\n",
        "\n",
        "`AcceptedCmp2`: 1 se o cliente aceitou a oferta na 2ª campanha, 0 caso contrário\n",
        "\n",
        "`AcceptedCmp3`: 1 se o cliente aceitou a oferta na 3ª campanha, 0 caso contrário\n",
        "\n",
        "`AcceptedCmp4`: 1 se o cliente aceitou a oferta na 4ª campanha, 0 caso contrário\n",
        "\n",
        "`AcceptedCmp5`: 1 se o cliente aceitou a oferta na 5ª campanha, 0 caso contrário\n",
        "\n",
        "`Response`: 1 se o cliente aceitou a oferta na última campanha, 0 caso contrário\n",
        "\n",
        "\n",
        "\n",
        "**Meios**\n",
        "\n",
        "`NumWebPurchases`: Número de compras realizadas pelo site da empresa\n",
        "\n",
        "`NumCatalogPurchases`: Número de compras feitas usando um catálogo\n",
        "\n",
        "`NumStorePurchases`: Número de compras feitas diretamente nas lojas\n",
        "\n",
        "`NumWebVisitsMonth`: Número de visitas ao site da empresa no último mês\n",
        "\n",
        "\n",
        "Obs: este dataset foi `adaptado` a partir do original encontrado no [kaggle](https://www.kaggle.com/datasets/imakash3011/customer-personality-analysis)."
      ],
      "metadata": {
        "id": "kHUvg0eO6yLV"
      }
    },
    {
      "cell_type": "code",
      "execution_count": null,
      "metadata": {
        "id": "vLi7uBsuMn8c"
      },
      "outputs": [],
      "source": [
        "# seu código"
      ]
    },
    {
      "cell_type": "code",
      "source": [
        "# seu código"
      ],
      "metadata": {
        "id": "AKwc595wR0Nd"
      },
      "execution_count": null,
      "outputs": []
    },
    {
      "cell_type": "markdown",
      "source": [
        "### Atividade 2: Faça o tratamento dos Dados.\n",
        "Dica: verifique `dados ausentes` e `outliers` e, se necessário, remova as linhas."
      ],
      "metadata": {
        "id": "hxlKIjwz6fc1"
      }
    },
    {
      "cell_type": "code",
      "source": [
        "# seu código"
      ],
      "metadata": {
        "id": "Sc9OJjwQ6sPy"
      },
      "execution_count": null,
      "outputs": []
    },
    {
      "cell_type": "code",
      "source": [
        "# seu código"
      ],
      "metadata": {
        "id": "6Bqm-Q728E_-"
      },
      "execution_count": null,
      "outputs": []
    },
    {
      "cell_type": "code",
      "source": [
        "# seu código"
      ],
      "metadata": {
        "id": "3SBGiSJJuIn2"
      },
      "execution_count": null,
      "outputs": []
    },
    {
      "cell_type": "code",
      "source": [
        "# seu código"
      ],
      "metadata": {
        "id": "SU8Axn6pusGj"
      },
      "execution_count": null,
      "outputs": []
    },
    {
      "cell_type": "code",
      "source": [
        "# seu código"
      ],
      "metadata": {
        "id": "2InaNEVGur2J"
      },
      "execution_count": null,
      "outputs": []
    },
    {
      "cell_type": "markdown",
      "source": [
        "### Atividade 3: Crie uma nova coluna chamada \"MntTotal\" que é a soma das colunas \"MntFruits\", \"MntMeatProducts\", \"MntSweetProducts\", \"MntWines\" e \"MntGoldProds\""
      ],
      "metadata": {
        "id": "R1tr2m4Y3q5P"
      }
    },
    {
      "cell_type": "code",
      "source": [
        "# seu código"
      ],
      "metadata": {
        "id": "ipBq0vFLCFa-"
      },
      "execution_count": null,
      "outputs": []
    },
    {
      "cell_type": "markdown",
      "source": [
        "### Atividade 4: Crie um DataFrame apenas com as colunas `Recency`, `Days_Registered`, `MntTotal` e `Income` e use-o para fazer o agrupamento."
      ],
      "metadata": {
        "id": "erKupZVt4Vog"
      }
    },
    {
      "cell_type": "code",
      "source": [
        "# seu código"
      ],
      "metadata": {
        "id": "UqdnUNNB-yAC"
      },
      "execution_count": null,
      "outputs": []
    },
    {
      "cell_type": "markdown",
      "source": [
        "### Atividade 5: Padronize os dados."
      ],
      "metadata": {
        "id": "DIZFtzqlOgGL"
      }
    },
    {
      "cell_type": "code",
      "source": [
        "# seu código"
      ],
      "metadata": {
        "id": "lYGEYtIoMpLm"
      },
      "execution_count": null,
      "outputs": []
    },
    {
      "cell_type": "markdown",
      "source": [
        "### Atividade 6: Faça um agrupamento hierárquico e plote o dendograma."
      ],
      "metadata": {
        "id": "83C6DDlCO3n9"
      }
    },
    {
      "cell_type": "code",
      "source": [
        "# seu código"
      ],
      "metadata": {
        "id": "DQUCPKq3WDdK"
      },
      "execution_count": null,
      "outputs": []
    },
    {
      "cell_type": "code",
      "source": [
        "# seu código"
      ],
      "metadata": {
        "id": "b3Wf2pT6AUwq"
      },
      "execution_count": null,
      "outputs": []
    },
    {
      "cell_type": "markdown",
      "source": [
        "### Atividade 7: Encontre a quantidade que parece adequada para o número de grupos.\n",
        "Dicas:\n",
        "* Faça a análise a partir do dendrograma acima, escolha uma quantidade de clusters que parecer adequada e crie uma coluna com o nome `grupos` no dataframe.\n",
        "* Adicione a coluna `grupos` ao dataframe contendo todas as variáveis (e não somente aquelas utilizadas para os agrupamentos), assim você poderá fazer uma análise mais ampla dos consumidores.\n",
        "* Para o propósito deste exercício, utilize um `máximo` de 4 grupos para permitir uma boa visualização nas etapas a seguir."
      ],
      "metadata": {
        "id": "OCXL1qDNPAwg"
      }
    },
    {
      "cell_type": "code",
      "source": [
        "# seu código"
      ],
      "metadata": {
        "id": "MH0-qDSxAh4e"
      },
      "execution_count": null,
      "outputs": []
    },
    {
      "cell_type": "markdown",
      "source": [
        "### Atividade 8: Crie Gráficos para visualizar os Grupos."
      ],
      "metadata": {
        "id": "0d8BfhTspN1c"
      }
    },
    {
      "cell_type": "markdown",
      "source": [
        "#### Atividade 8.1: Crie Visualizações em Boxplot\n",
        "Dica: utilize o Seaborn para criar boxplots com os clusters selecionados."
      ],
      "metadata": {
        "id": "_sfWlHhPqafR"
      }
    },
    {
      "cell_type": "code",
      "source": [
        "# seu código"
      ],
      "metadata": {
        "id": "7fQ4zce6pQly"
      },
      "execution_count": null,
      "outputs": []
    },
    {
      "cell_type": "code",
      "source": [
        "# seu código"
      ],
      "metadata": {
        "id": "TOqxrPmux7fJ"
      },
      "execution_count": null,
      "outputs": []
    },
    {
      "cell_type": "code",
      "source": [
        "# seu código"
      ],
      "metadata": {
        "id": "Ikw_pTrEx7Pk"
      },
      "execution_count": null,
      "outputs": []
    },
    {
      "cell_type": "code",
      "source": [
        "# seu código"
      ],
      "metadata": {
        "id": "zekCX68Kx63a"
      },
      "execution_count": null,
      "outputs": []
    },
    {
      "cell_type": "markdown",
      "source": [
        "#### Atividade 8.2: Crie Histogramas para visualizar os Grupos\n",
        "Dica: utilize o Seaborn para plotar histogramas dos clusters selecionados."
      ],
      "metadata": {
        "id": "6UarjftOqDQb"
      }
    },
    {
      "cell_type": "code",
      "source": [
        "# seu código"
      ],
      "metadata": {
        "id": "UC09rcnjx8VY"
      },
      "execution_count": null,
      "outputs": []
    },
    {
      "cell_type": "code",
      "source": [
        "# seu código"
      ],
      "metadata": {
        "id": "98dgYdyWx8J7"
      },
      "execution_count": null,
      "outputs": []
    },
    {
      "cell_type": "code",
      "source": [
        "# seu código"
      ],
      "metadata": {
        "id": "x7B6aMz2yAhx"
      },
      "execution_count": null,
      "outputs": []
    },
    {
      "cell_type": "code",
      "source": [
        "# seu código"
      ],
      "metadata": {
        "id": "sPVX1QK0yAXN"
      },
      "execution_count": null,
      "outputs": []
    },
    {
      "cell_type": "code",
      "source": [
        "# seu código"
      ],
      "metadata": {
        "id": "mkGte59_yAPA"
      },
      "execution_count": null,
      "outputs": []
    },
    {
      "cell_type": "code",
      "source": [
        "# seu código"
      ],
      "metadata": {
        "id": "8I3UuP8Nx__a"
      },
      "execution_count": null,
      "outputs": []
    },
    {
      "cell_type": "markdown",
      "source": [
        "### Atividade 9: Faça uma análise de cada grupo a fim de criar uma descrição adequada dele (persona)."
      ],
      "metadata": {
        "id": "otEYFO5KOshc"
      }
    },
    {
      "cell_type": "markdown",
      "source": [
        "Descrição dos Grupos:\n",
        "\n",
        "* O grupo 1 é composto por pessoas que [...].\n",
        "\n",
        "* O grupo 2 é composto por pessoas que [...].\n",
        "\n",
        "* O grupo (n) é composto por pessoas que [...]."
      ],
      "metadata": {
        "id": "2--rxXOFBZhJ"
      }
    },
    {
      "cell_type": "markdown",
      "source": [
        "### Para refletir: \n",
        "\n",
        "\n",
        "####Quais outras variáveis poderíamos combinar ou processar para obter análises mais precisas?\n",
        "\n",
        "Exemplo: e se comparássemos o valor gasto com a faixa de salário para entender esses valores percentualmente?\n",
        "\n",
        "####Como poderíamos usar uma variável categórica para realizar agrupamento?\n",
        "\n",
        "Dica:  Pesquise sobre One Hot Encoding"
      ],
      "metadata": {
        "id": "qIRbkFA957j2"
      }
    }
  ]
}