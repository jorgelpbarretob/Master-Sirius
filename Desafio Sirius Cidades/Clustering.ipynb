{
 "cells": [
  {
   "cell_type": "code",
   "execution_count": 1,
   "metadata": {},
   "outputs": [],
   "source": [
    "import pandas as pd\n",
    "import numpy as np\n",
    "import seaborn as sns\n",
    "import matplotlib.pyplot as plt\n",
    "\n",
    "# Importando a biblioteca warnings para ignorar avisos durante a execução do código\n",
    "import warnings\n",
    "warnings.filterwarnings(\"ignore\")\n",
    "\n",
    "import scipy.stats as stats"
   ]
  },
  {
   "cell_type": "code",
   "execution_count": 2,
   "metadata": {},
   "outputs": [],
   "source": [
    "df = pd.read_excel('Dados/Fonte dos Dados.xlsx')"
   ]
  },
  {
   "cell_type": "code",
   "execution_count": 3,
   "metadata": {},
   "outputs": [
    {
     "data": {
      "text/html": [
       "<div>\n",
       "<style scoped>\n",
       "    .dataframe tbody tr th:only-of-type {\n",
       "        vertical-align: middle;\n",
       "    }\n",
       "\n",
       "    .dataframe tbody tr th {\n",
       "        vertical-align: top;\n",
       "    }\n",
       "\n",
       "    .dataframe thead th {\n",
       "        text-align: right;\n",
       "    }\n",
       "</style>\n",
       "<table border=\"1\" class=\"dataframe\">\n",
       "  <thead>\n",
       "    <tr style=\"text-align: right;\">\n",
       "      <th></th>\n",
       "      <th>nomeLocalidade</th>\n",
       "      <th>estado</th>\n",
       "      <th>População residente</th>\n",
       "      <th>Densidade demográfica</th>\n",
       "      <th>Porcentagem de Jovens</th>\n",
       "      <th>Porcentagem de Ativos</th>\n",
       "      <th>Porcentagem de Idosos</th>\n",
       "      <th>Taxa de Urbanização</th>\n",
       "      <th>Taxa de Saneamento Básico</th>\n",
       "      <th>Ativos com Baixo Nível Educacional</th>\n",
       "      <th>...</th>\n",
       "      <th>Percentual de trabalhadores do setor secundário em relação ao total</th>\n",
       "      <th>Percentual de trabalhadores do setor terciário em relação ao total</th>\n",
       "      <th>Média Salarial</th>\n",
       "      <th>Produtividade</th>\n",
       "      <th>Taxa de desemprego dos jovens</th>\n",
       "      <th>Taxa de desemprego</th>\n",
       "      <th>Número de trabalhadores(Comerciais, hotéis e restaurantes) por 1,000 habitantes</th>\n",
       "      <th>Número de ativos culturais e de lazer por 10,000 habitantes</th>\n",
       "      <th>Produtividade_bin</th>\n",
       "      <th>Cluster</th>\n",
       "    </tr>\n",
       "  </thead>\n",
       "  <tbody>\n",
       "    <tr>\n",
       "      <th>0</th>\n",
       "      <td>Acrelândia</td>\n",
       "      <td>Acre</td>\n",
       "      <td>12538</td>\n",
       "      <td>6.93</td>\n",
       "      <td>52.92</td>\n",
       "      <td>43.04</td>\n",
       "      <td>4.04</td>\n",
       "      <td>48.34</td>\n",
       "      <td>0.00</td>\n",
       "      <td>75.34</td>\n",
       "      <td>...</td>\n",
       "      <td>21.53</td>\n",
       "      <td>34.07</td>\n",
       "      <td>994.67</td>\n",
       "      <td>2654247.23</td>\n",
       "      <td>19.17</td>\n",
       "      <td>9.62</td>\n",
       "      <td>12.12</td>\n",
       "      <td>0.0</td>\n",
       "      <td>4</td>\n",
       "      <td>Cluster 0</td>\n",
       "    </tr>\n",
       "    <tr>\n",
       "      <th>1</th>\n",
       "      <td>Assis Brasil</td>\n",
       "      <td>Acre</td>\n",
       "      <td>6072</td>\n",
       "      <td>1.22</td>\n",
       "      <td>55.58</td>\n",
       "      <td>40.07</td>\n",
       "      <td>4.35</td>\n",
       "      <td>65.30</td>\n",
       "      <td>2.39</td>\n",
       "      <td>66.83</td>\n",
       "      <td>...</td>\n",
       "      <td>0.00</td>\n",
       "      <td>36.25</td>\n",
       "      <td>1163.49</td>\n",
       "      <td>2113108.99</td>\n",
       "      <td>10.57</td>\n",
       "      <td>7.44</td>\n",
       "      <td>17.79</td>\n",
       "      <td>0.0</td>\n",
       "      <td>3</td>\n",
       "      <td>Cluster 0</td>\n",
       "    </tr>\n",
       "    <tr>\n",
       "      <th>2</th>\n",
       "      <td>Brasiléia</td>\n",
       "      <td>Acre</td>\n",
       "      <td>21398</td>\n",
       "      <td>5.46</td>\n",
       "      <td>51.88</td>\n",
       "      <td>42.76</td>\n",
       "      <td>5.37</td>\n",
       "      <td>70.02</td>\n",
       "      <td>21.27</td>\n",
       "      <td>70.67</td>\n",
       "      <td>...</td>\n",
       "      <td>17.70</td>\n",
       "      <td>33.83</td>\n",
       "      <td>818.65</td>\n",
       "      <td>2376384.22</td>\n",
       "      <td>11.13</td>\n",
       "      <td>5.96</td>\n",
       "      <td>14.58</td>\n",
       "      <td>0.0</td>\n",
       "      <td>3</td>\n",
       "      <td>Cluster 0</td>\n",
       "    </tr>\n",
       "    <tr>\n",
       "      <th>3</th>\n",
       "      <td>Bujari</td>\n",
       "      <td>Acre</td>\n",
       "      <td>8471</td>\n",
       "      <td>2.79</td>\n",
       "      <td>52.71</td>\n",
       "      <td>42.60</td>\n",
       "      <td>4.69</td>\n",
       "      <td>44.07</td>\n",
       "      <td>0.16</td>\n",
       "      <td>71.05</td>\n",
       "      <td>...</td>\n",
       "      <td>1.04</td>\n",
       "      <td>29.40</td>\n",
       "      <td>897.30</td>\n",
       "      <td>2668575.85</td>\n",
       "      <td>9.76</td>\n",
       "      <td>3.41</td>\n",
       "      <td>5.78</td>\n",
       "      <td>0.0</td>\n",
       "      <td>4</td>\n",
       "      <td>Cluster 0</td>\n",
       "    </tr>\n",
       "    <tr>\n",
       "      <th>4</th>\n",
       "      <td>Capixaba</td>\n",
       "      <td>Acre</td>\n",
       "      <td>8798</td>\n",
       "      <td>5.17</td>\n",
       "      <td>53.92</td>\n",
       "      <td>41.92</td>\n",
       "      <td>4.16</td>\n",
       "      <td>44.60</td>\n",
       "      <td>0.82</td>\n",
       "      <td>77.90</td>\n",
       "      <td>...</td>\n",
       "      <td>30.37</td>\n",
       "      <td>10.32</td>\n",
       "      <td>843.49</td>\n",
       "      <td>2803488.37</td>\n",
       "      <td>6.35</td>\n",
       "      <td>4.14</td>\n",
       "      <td>7.73</td>\n",
       "      <td>0.0</td>\n",
       "      <td>4</td>\n",
       "      <td>Cluster 0</td>\n",
       "    </tr>\n",
       "  </tbody>\n",
       "</table>\n",
       "<p>5 rows × 42 columns</p>\n",
       "</div>"
      ],
      "text/plain": [
       "  nomeLocalidade estado  População residente  Densidade demográfica  \\\n",
       "0     Acrelândia   Acre                12538                   6.93   \n",
       "1   Assis Brasil   Acre                 6072                   1.22   \n",
       "2      Brasiléia   Acre                21398                   5.46   \n",
       "3         Bujari   Acre                 8471                   2.79   \n",
       "4       Capixaba   Acre                 8798                   5.17   \n",
       "\n",
       "   Porcentagem de Jovens  Porcentagem de Ativos  Porcentagem de Idosos  \\\n",
       "0                  52.92                  43.04                   4.04   \n",
       "1                  55.58                  40.07                   4.35   \n",
       "2                  51.88                  42.76                   5.37   \n",
       "3                  52.71                  42.60                   4.69   \n",
       "4                  53.92                  41.92                   4.16   \n",
       "\n",
       "   Taxa de Urbanização  Taxa de Saneamento Básico  \\\n",
       "0                48.34                       0.00   \n",
       "1                65.30                       2.39   \n",
       "2                70.02                      21.27   \n",
       "3                44.07                       0.16   \n",
       "4                44.60                       0.82   \n",
       "\n",
       "   Ativos com Baixo Nível Educacional  ...  \\\n",
       "0                               75.34  ...   \n",
       "1                               66.83  ...   \n",
       "2                               70.67  ...   \n",
       "3                               71.05  ...   \n",
       "4                               77.90  ...   \n",
       "\n",
       "   Percentual de trabalhadores do setor secundário em relação ao total  \\\n",
       "0                                              21.53                     \n",
       "1                                               0.00                     \n",
       "2                                              17.70                     \n",
       "3                                               1.04                     \n",
       "4                                              30.37                     \n",
       "\n",
       "   Percentual de trabalhadores do setor terciário em relação ao total  \\\n",
       "0                                              34.07                    \n",
       "1                                              36.25                    \n",
       "2                                              33.83                    \n",
       "3                                              29.40                    \n",
       "4                                              10.32                    \n",
       "\n",
       "   Média Salarial  Produtividade  Taxa de desemprego dos jovens  \\\n",
       "0          994.67     2654247.23                          19.17   \n",
       "1         1163.49     2113108.99                          10.57   \n",
       "2          818.65     2376384.22                          11.13   \n",
       "3          897.30     2668575.85                           9.76   \n",
       "4          843.49     2803488.37                           6.35   \n",
       "\n",
       "   Taxa de desemprego  \\\n",
       "0                9.62   \n",
       "1                7.44   \n",
       "2                5.96   \n",
       "3                3.41   \n",
       "4                4.14   \n",
       "\n",
       "   Número de trabalhadores(Comerciais, hotéis e restaurantes) por 1,000 habitantes  \\\n",
       "0                                              12.12                                 \n",
       "1                                              17.79                                 \n",
       "2                                              14.58                                 \n",
       "3                                               5.78                                 \n",
       "4                                               7.73                                 \n",
       "\n",
       "   Número de ativos culturais e de lazer por 10,000 habitantes  \\\n",
       "0                                                0.0             \n",
       "1                                                0.0             \n",
       "2                                                0.0             \n",
       "3                                                0.0             \n",
       "4                                                0.0             \n",
       "\n",
       "   Produtividade_bin    Cluster  \n",
       "0                  4  Cluster 0  \n",
       "1                  3  Cluster 0  \n",
       "2                  3  Cluster 0  \n",
       "3                  4  Cluster 0  \n",
       "4                  4  Cluster 0  \n",
       "\n",
       "[5 rows x 42 columns]"
      ]
     },
     "execution_count": 3,
     "metadata": {},
     "output_type": "execute_result"
    }
   ],
   "source": [
    "df.head()"
   ]
  },
  {
   "cell_type": "code",
   "execution_count": 4,
   "metadata": {},
   "outputs": [],
   "source": [
    "from pycaret.clustering import *\n",
    "s = setup(df, ignore_features=['nomeLocalidade','estado', 'Cluster'])"
   ]
  },
  {
   "cell_type": "code",
   "execution_count": 5,
   "metadata": {},
   "outputs": [],
   "source": [
    "# import ClusteringExperiment and init the class\n",
    "from pycaret.clustering import ClusteringExperiment\n",
    "exp = ClusteringExperiment()"
   ]
  },
  {
   "cell_type": "code",
   "execution_count": 6,
   "metadata": {},
   "outputs": [
    {
     "data": {
      "text/plain": [
       "pycaret.clustering.oop.ClusteringExperiment"
      ]
     },
     "execution_count": 6,
     "metadata": {},
     "output_type": "execute_result"
    }
   ],
   "source": [
    "# check the type of exp\n",
    "type(exp)"
   ]
  },
  {
   "cell_type": "code",
   "execution_count": 7,
   "metadata": {},
   "outputs": [
    {
     "data": {
      "text/plain": [
       "<pycaret.clustering.oop.ClusteringExperiment at 0x24ee2910848>"
      ]
     },
     "execution_count": 7,
     "metadata": {},
     "output_type": "execute_result"
    }
   ],
   "source": [
    "# init setup on exp\n",
    "exp.setup(df, ignore_features=['nomeLocalidade','estado', 'Cluster'])"
   ]
  },
  {
   "cell_type": "code",
   "execution_count": 8,
   "metadata": {},
   "outputs": [
    {
     "data": {
      "text/html": [
       "<div>\n",
       "<style scoped>\n",
       "    .dataframe tbody tr th:only-of-type {\n",
       "        vertical-align: middle;\n",
       "    }\n",
       "\n",
       "    .dataframe tbody tr th {\n",
       "        vertical-align: top;\n",
       "    }\n",
       "\n",
       "    .dataframe thead th {\n",
       "        text-align: right;\n",
       "    }\n",
       "</style>\n",
       "<table border=\"1\" class=\"dataframe\">\n",
       "  <thead>\n",
       "    <tr style=\"text-align: right;\">\n",
       "      <th></th>\n",
       "      <th></th>\n",
       "      <th></th>\n",
       "    </tr>\n",
       "    <tr>\n",
       "      <th></th>\n",
       "      <th></th>\n",
       "      <th></th>\n",
       "    </tr>\n",
       "  </thead>\n",
       "  <tbody>\n",
       "    <tr>\n",
       "      <th>Initiated</th>\n",
       "      <td>. . . . . . . . . . . . . . . . . .</td>\n",
       "      <td>19:09:47</td>\n",
       "    </tr>\n",
       "    <tr>\n",
       "      <th>Status</th>\n",
       "      <td>. . . . . . . . . . . . . . . . . .</td>\n",
       "      <td>Selecting Estimator</td>\n",
       "    </tr>\n",
       "    <tr>\n",
       "      <th>Estimator</th>\n",
       "      <td>. . . . . . . . . . . . . . . . . .</td>\n",
       "      <td>Compiling Library</td>\n",
       "    </tr>\n",
       "  </tbody>\n",
       "</table>\n",
       "</div>"
      ],
      "text/plain": [
       "                                                                   \n",
       "                                                                   \n",
       "Initiated  . . . . . . . . . . . . . . . . . .             19:09:47\n",
       "Status     . . . . . . . . . . . . . . . . . .  Selecting Estimator\n",
       "Estimator  . . . . . . . . . . . . . . . . . .    Compiling Library"
      ]
     },
     "metadata": {},
     "output_type": "display_data"
    },
    {
     "data": {
      "text/html": [
       "<style type=\"text/css\">\n",
       "</style>\n",
       "<table id=\"T_8a259_\">\n",
       "  <thead>\n",
       "    <tr>\n",
       "      <th class=\"blank level0\" >&nbsp;</th>\n",
       "      <th class=\"col_heading level0 col0\" >Silhouette</th>\n",
       "      <th class=\"col_heading level0 col1\" >Calinski-Harabasz</th>\n",
       "      <th class=\"col_heading level0 col2\" >Davies-Bouldin</th>\n",
       "      <th class=\"col_heading level0 col3\" >Homogeneity</th>\n",
       "      <th class=\"col_heading level0 col4\" >Rand Index</th>\n",
       "      <th class=\"col_heading level0 col5\" >Completeness</th>\n",
       "    </tr>\n",
       "  </thead>\n",
       "  <tbody>\n",
       "    <tr>\n",
       "      <th id=\"T_8a259_level0_row0\" class=\"row_heading level0 row0\" >0</th>\n",
       "      <td id=\"T_8a259_row0_col0\" class=\"data row0 col0\" >0.9202</td>\n",
       "      <td id=\"T_8a259_row0_col1\" class=\"data row0 col1\" >65101.7593</td>\n",
       "      <td id=\"T_8a259_row0_col2\" class=\"data row0 col2\" >0.3680</td>\n",
       "      <td id=\"T_8a259_row0_col3\" class=\"data row0 col3\" >0</td>\n",
       "      <td id=\"T_8a259_row0_col4\" class=\"data row0 col4\" >0</td>\n",
       "      <td id=\"T_8a259_row0_col5\" class=\"data row0 col5\" >0</td>\n",
       "    </tr>\n",
       "  </tbody>\n",
       "</table>\n"
      ],
      "text/plain": [
       "<pandas.io.formats.style.Styler at 0x24ee2915b08>"
      ]
     },
     "metadata": {},
     "output_type": "display_data"
    },
    {
     "data": {
      "text/html": [
       "<style type=\"text/css\">\n",
       "</style>\n",
       "<table id=\"T_8a259_\">\n",
       "  <thead>\n",
       "    <tr>\n",
       "      <th class=\"blank level0\" >&nbsp;</th>\n",
       "      <th class=\"col_heading level0 col0\" >Silhouette</th>\n",
       "      <th class=\"col_heading level0 col1\" >Calinski-Harabasz</th>\n",
       "      <th class=\"col_heading level0 col2\" >Davies-Bouldin</th>\n",
       "      <th class=\"col_heading level0 col3\" >Homogeneity</th>\n",
       "      <th class=\"col_heading level0 col4\" >Rand Index</th>\n",
       "      <th class=\"col_heading level0 col5\" >Completeness</th>\n",
       "    </tr>\n",
       "  </thead>\n",
       "  <tbody>\n",
       "    <tr>\n",
       "      <th id=\"T_8a259_level0_row0\" class=\"row_heading level0 row0\" >0</th>\n",
       "      <td id=\"T_8a259_row0_col0\" class=\"data row0 col0\" >0.9202</td>\n",
       "      <td id=\"T_8a259_row0_col1\" class=\"data row0 col1\" >65101.7593</td>\n",
       "      <td id=\"T_8a259_row0_col2\" class=\"data row0 col2\" >0.3680</td>\n",
       "      <td id=\"T_8a259_row0_col3\" class=\"data row0 col3\" >0</td>\n",
       "      <td id=\"T_8a259_row0_col4\" class=\"data row0 col4\" >0</td>\n",
       "      <td id=\"T_8a259_row0_col5\" class=\"data row0 col5\" >0</td>\n",
       "    </tr>\n",
       "  </tbody>\n",
       "</table>\n"
      ],
      "text/plain": [
       "<pandas.io.formats.style.Styler at 0x24ee2915b08>"
      ]
     },
     "metadata": {},
     "output_type": "display_data"
    }
   ],
   "source": [
    "# train kmeans model\n",
    "kmeans = create_model('kmeans', num_clusters = 6)"
   ]
  },
  {
   "cell_type": "code",
   "execution_count": 9,
   "metadata": {},
   "outputs": [
    {
     "data": {
      "text/html": [
       "<div>\n",
       "<style scoped>\n",
       "    .dataframe tbody tr th:only-of-type {\n",
       "        vertical-align: middle;\n",
       "    }\n",
       "\n",
       "    .dataframe tbody tr th {\n",
       "        vertical-align: top;\n",
       "    }\n",
       "\n",
       "    .dataframe thead th {\n",
       "        text-align: right;\n",
       "    }\n",
       "</style>\n",
       "<table border=\"1\" class=\"dataframe\">\n",
       "  <thead>\n",
       "    <tr style=\"text-align: right;\">\n",
       "      <th></th>\n",
       "      <th>Name</th>\n",
       "      <th>Reference</th>\n",
       "    </tr>\n",
       "    <tr>\n",
       "      <th>ID</th>\n",
       "      <th></th>\n",
       "      <th></th>\n",
       "    </tr>\n",
       "  </thead>\n",
       "  <tbody>\n",
       "    <tr>\n",
       "      <th>kmeans</th>\n",
       "      <td>K-Means Clustering</td>\n",
       "      <td>sklearn.cluster._kmeans.KMeans</td>\n",
       "    </tr>\n",
       "    <tr>\n",
       "      <th>ap</th>\n",
       "      <td>Affinity Propagation</td>\n",
       "      <td>sklearn.cluster._affinity_propagation.Affinity...</td>\n",
       "    </tr>\n",
       "    <tr>\n",
       "      <th>meanshift</th>\n",
       "      <td>Mean Shift Clustering</td>\n",
       "      <td>sklearn.cluster._mean_shift.MeanShift</td>\n",
       "    </tr>\n",
       "    <tr>\n",
       "      <th>sc</th>\n",
       "      <td>Spectral Clustering</td>\n",
       "      <td>sklearn.cluster._spectral.SpectralClustering</td>\n",
       "    </tr>\n",
       "    <tr>\n",
       "      <th>hclust</th>\n",
       "      <td>Agglomerative Clustering</td>\n",
       "      <td>sklearn.cluster._agglomerative.AgglomerativeCl...</td>\n",
       "    </tr>\n",
       "    <tr>\n",
       "      <th>dbscan</th>\n",
       "      <td>Density-Based Spatial Clustering</td>\n",
       "      <td>sklearn.cluster._dbscan.DBSCAN</td>\n",
       "    </tr>\n",
       "    <tr>\n",
       "      <th>optics</th>\n",
       "      <td>OPTICS Clustering</td>\n",
       "      <td>sklearn.cluster._optics.OPTICS</td>\n",
       "    </tr>\n",
       "    <tr>\n",
       "      <th>birch</th>\n",
       "      <td>Birch Clustering</td>\n",
       "      <td>sklearn.cluster._birch.Birch</td>\n",
       "    </tr>\n",
       "    <tr>\n",
       "      <th>kmodes</th>\n",
       "      <td>K-Modes Clustering</td>\n",
       "      <td>kmodes.kmodes.KModes</td>\n",
       "    </tr>\n",
       "  </tbody>\n",
       "</table>\n",
       "</div>"
      ],
      "text/plain": [
       "                                       Name  \\\n",
       "ID                                            \n",
       "kmeans                   K-Means Clustering   \n",
       "ap                     Affinity Propagation   \n",
       "meanshift             Mean Shift Clustering   \n",
       "sc                      Spectral Clustering   \n",
       "hclust             Agglomerative Clustering   \n",
       "dbscan     Density-Based Spatial Clustering   \n",
       "optics                    OPTICS Clustering   \n",
       "birch                      Birch Clustering   \n",
       "kmodes                   K-Modes Clustering   \n",
       "\n",
       "                                                   Reference  \n",
       "ID                                                            \n",
       "kmeans                        sklearn.cluster._kmeans.KMeans  \n",
       "ap         sklearn.cluster._affinity_propagation.Affinity...  \n",
       "meanshift              sklearn.cluster._mean_shift.MeanShift  \n",
       "sc              sklearn.cluster._spectral.SpectralClustering  \n",
       "hclust     sklearn.cluster._agglomerative.AgglomerativeCl...  \n",
       "dbscan                        sklearn.cluster._dbscan.DBSCAN  \n",
       "optics                        sklearn.cluster._optics.OPTICS  \n",
       "birch                           sklearn.cluster._birch.Birch  \n",
       "kmodes                                  kmodes.kmodes.KModes  "
      ]
     },
     "execution_count": 9,
     "metadata": {},
     "output_type": "execute_result"
    }
   ],
   "source": [
    "# to check all the available models\n",
    "models()"
   ]
  },
  {
   "cell_type": "code",
   "execution_count": 10,
   "metadata": {},
   "outputs": [
    {
     "data": {
      "text/html": [
       "<div>\n",
       "<style scoped>\n",
       "    .dataframe tbody tr th:only-of-type {\n",
       "        vertical-align: middle;\n",
       "    }\n",
       "\n",
       "    .dataframe tbody tr th {\n",
       "        vertical-align: top;\n",
       "    }\n",
       "\n",
       "    .dataframe thead th {\n",
       "        text-align: right;\n",
       "    }\n",
       "</style>\n",
       "<table border=\"1\" class=\"dataframe\">\n",
       "  <thead>\n",
       "    <tr style=\"text-align: right;\">\n",
       "      <th></th>\n",
       "      <th>População residente</th>\n",
       "      <th>Densidade demográfica</th>\n",
       "      <th>Porcentagem de Jovens</th>\n",
       "      <th>Porcentagem de Ativos</th>\n",
       "      <th>Porcentagem de Idosos</th>\n",
       "      <th>Taxa de Urbanização</th>\n",
       "      <th>Taxa de Saneamento Básico</th>\n",
       "      <th>Ativos com Baixo Nível Educacional</th>\n",
       "      <th>Ativos com Médio Nível Educacional</th>\n",
       "      <th>Ativos com Alto Nível Educacional</th>\n",
       "      <th>...</th>\n",
       "      <th>Percentual de trabalhadores do setor secundário em relação ao total</th>\n",
       "      <th>Percentual de trabalhadores do setor terciário em relação ao total</th>\n",
       "      <th>Média Salarial</th>\n",
       "      <th>Produtividade</th>\n",
       "      <th>Taxa de desemprego dos jovens</th>\n",
       "      <th>Taxa de desemprego</th>\n",
       "      <th>Número de trabalhadores(Comerciais, hotéis e restaurantes) por 1,000 habitantes</th>\n",
       "      <th>Número de ativos culturais e de lazer por 10,000 habitantes</th>\n",
       "      <th>Produtividade_bin</th>\n",
       "      <th>Cluster</th>\n",
       "    </tr>\n",
       "  </thead>\n",
       "  <tbody>\n",
       "    <tr>\n",
       "      <th>0</th>\n",
       "      <td>12538</td>\n",
       "      <td>6.93</td>\n",
       "      <td>52.919998</td>\n",
       "      <td>43.040001</td>\n",
       "      <td>4.04</td>\n",
       "      <td>48.340000</td>\n",
       "      <td>0.00</td>\n",
       "      <td>75.339996</td>\n",
       "      <td>19.520000</td>\n",
       "      <td>5.14</td>\n",
       "      <td>...</td>\n",
       "      <td>21.530001</td>\n",
       "      <td>34.070000</td>\n",
       "      <td>994.669983</td>\n",
       "      <td>2654247.25</td>\n",
       "      <td>19.17</td>\n",
       "      <td>9.62</td>\n",
       "      <td>12.120000</td>\n",
       "      <td>0.0</td>\n",
       "      <td>4</td>\n",
       "      <td>Cluster 0</td>\n",
       "    </tr>\n",
       "    <tr>\n",
       "      <th>1</th>\n",
       "      <td>6072</td>\n",
       "      <td>1.22</td>\n",
       "      <td>55.580002</td>\n",
       "      <td>40.070000</td>\n",
       "      <td>4.35</td>\n",
       "      <td>65.300003</td>\n",
       "      <td>2.39</td>\n",
       "      <td>66.830002</td>\n",
       "      <td>26.930000</td>\n",
       "      <td>6.23</td>\n",
       "      <td>...</td>\n",
       "      <td>0.000000</td>\n",
       "      <td>36.250000</td>\n",
       "      <td>1163.489990</td>\n",
       "      <td>2113109.00</td>\n",
       "      <td>10.57</td>\n",
       "      <td>7.44</td>\n",
       "      <td>17.790001</td>\n",
       "      <td>0.0</td>\n",
       "      <td>3</td>\n",
       "      <td>Cluster 0</td>\n",
       "    </tr>\n",
       "    <tr>\n",
       "      <th>2</th>\n",
       "      <td>21398</td>\n",
       "      <td>5.46</td>\n",
       "      <td>51.880001</td>\n",
       "      <td>42.759998</td>\n",
       "      <td>5.37</td>\n",
       "      <td>70.019997</td>\n",
       "      <td>21.27</td>\n",
       "      <td>70.669998</td>\n",
       "      <td>21.290001</td>\n",
       "      <td>8.04</td>\n",
       "      <td>...</td>\n",
       "      <td>17.700001</td>\n",
       "      <td>33.830002</td>\n",
       "      <td>818.650024</td>\n",
       "      <td>2376384.25</td>\n",
       "      <td>11.13</td>\n",
       "      <td>5.96</td>\n",
       "      <td>14.580000</td>\n",
       "      <td>0.0</td>\n",
       "      <td>3</td>\n",
       "      <td>Cluster 0</td>\n",
       "    </tr>\n",
       "    <tr>\n",
       "      <th>3</th>\n",
       "      <td>8471</td>\n",
       "      <td>2.79</td>\n",
       "      <td>52.709999</td>\n",
       "      <td>42.599998</td>\n",
       "      <td>4.69</td>\n",
       "      <td>44.070000</td>\n",
       "      <td>0.16</td>\n",
       "      <td>71.050003</td>\n",
       "      <td>22.049999</td>\n",
       "      <td>6.90</td>\n",
       "      <td>...</td>\n",
       "      <td>1.040000</td>\n",
       "      <td>29.400000</td>\n",
       "      <td>897.299988</td>\n",
       "      <td>2668575.75</td>\n",
       "      <td>9.76</td>\n",
       "      <td>3.41</td>\n",
       "      <td>5.780000</td>\n",
       "      <td>0.0</td>\n",
       "      <td>4</td>\n",
       "      <td>Cluster 0</td>\n",
       "    </tr>\n",
       "    <tr>\n",
       "      <th>4</th>\n",
       "      <td>8798</td>\n",
       "      <td>5.17</td>\n",
       "      <td>53.919998</td>\n",
       "      <td>41.919998</td>\n",
       "      <td>4.16</td>\n",
       "      <td>44.599998</td>\n",
       "      <td>0.82</td>\n",
       "      <td>77.900002</td>\n",
       "      <td>16.600000</td>\n",
       "      <td>5.49</td>\n",
       "      <td>...</td>\n",
       "      <td>30.370001</td>\n",
       "      <td>10.320000</td>\n",
       "      <td>843.489990</td>\n",
       "      <td>2803488.25</td>\n",
       "      <td>6.35</td>\n",
       "      <td>4.14</td>\n",
       "      <td>7.730000</td>\n",
       "      <td>0.0</td>\n",
       "      <td>4</td>\n",
       "      <td>Cluster 0</td>\n",
       "    </tr>\n",
       "  </tbody>\n",
       "</table>\n",
       "<p>5 rows × 40 columns</p>\n",
       "</div>"
      ],
      "text/plain": [
       "   População residente  Densidade demográfica  Porcentagem de Jovens  \\\n",
       "0                12538                   6.93              52.919998   \n",
       "1                 6072                   1.22              55.580002   \n",
       "2                21398                   5.46              51.880001   \n",
       "3                 8471                   2.79              52.709999   \n",
       "4                 8798                   5.17              53.919998   \n",
       "\n",
       "   Porcentagem de Ativos  Porcentagem de Idosos  Taxa de Urbanização  \\\n",
       "0              43.040001                   4.04            48.340000   \n",
       "1              40.070000                   4.35            65.300003   \n",
       "2              42.759998                   5.37            70.019997   \n",
       "3              42.599998                   4.69            44.070000   \n",
       "4              41.919998                   4.16            44.599998   \n",
       "\n",
       "   Taxa de Saneamento Básico  Ativos com Baixo Nível Educacional  \\\n",
       "0                       0.00                           75.339996   \n",
       "1                       2.39                           66.830002   \n",
       "2                      21.27                           70.669998   \n",
       "3                       0.16                           71.050003   \n",
       "4                       0.82                           77.900002   \n",
       "\n",
       "   Ativos com Médio Nível Educacional  Ativos com Alto Nível Educacional  ...  \\\n",
       "0                           19.520000                               5.14  ...   \n",
       "1                           26.930000                               6.23  ...   \n",
       "2                           21.290001                               8.04  ...   \n",
       "3                           22.049999                               6.90  ...   \n",
       "4                           16.600000                               5.49  ...   \n",
       "\n",
       "   Percentual de trabalhadores do setor secundário em relação ao total  \\\n",
       "0                                          21.530001                     \n",
       "1                                           0.000000                     \n",
       "2                                          17.700001                     \n",
       "3                                           1.040000                     \n",
       "4                                          30.370001                     \n",
       "\n",
       "   Percentual de trabalhadores do setor terciário em relação ao total  \\\n",
       "0                                          34.070000                    \n",
       "1                                          36.250000                    \n",
       "2                                          33.830002                    \n",
       "3                                          29.400000                    \n",
       "4                                          10.320000                    \n",
       "\n",
       "   Média Salarial  Produtividade  Taxa de desemprego dos jovens  \\\n",
       "0      994.669983     2654247.25                          19.17   \n",
       "1     1163.489990     2113109.00                          10.57   \n",
       "2      818.650024     2376384.25                          11.13   \n",
       "3      897.299988     2668575.75                           9.76   \n",
       "4      843.489990     2803488.25                           6.35   \n",
       "\n",
       "   Taxa de desemprego  \\\n",
       "0                9.62   \n",
       "1                7.44   \n",
       "2                5.96   \n",
       "3                3.41   \n",
       "4                4.14   \n",
       "\n",
       "   Número de trabalhadores(Comerciais, hotéis e restaurantes) por 1,000 habitantes  \\\n",
       "0                                          12.120000                                 \n",
       "1                                          17.790001                                 \n",
       "2                                          14.580000                                 \n",
       "3                                           5.780000                                 \n",
       "4                                           7.730000                                 \n",
       "\n",
       "   Número de ativos culturais e de lazer por 10,000 habitantes  \\\n",
       "0                                                0.0             \n",
       "1                                                0.0             \n",
       "2                                                0.0             \n",
       "3                                                0.0             \n",
       "4                                                0.0             \n",
       "\n",
       "   Produtividade_bin    Cluster  \n",
       "0                  4  Cluster 0  \n",
       "1                  3  Cluster 0  \n",
       "2                  3  Cluster 0  \n",
       "3                  4  Cluster 0  \n",
       "4                  4  Cluster 0  \n",
       "\n",
       "[5 rows x 40 columns]"
      ]
     },
     "execution_count": 10,
     "metadata": {},
     "output_type": "execute_result"
    }
   ],
   "source": [
    "kmeans_cluster = assign_model(kmeans)\n",
    "kmeans_cluster.head()"
   ]
  },
  {
   "cell_type": "code",
   "execution_count": 11,
   "metadata": {},
   "outputs": [
    {
     "data": {
      "text/html": [
       "<div>\n",
       "<style scoped>\n",
       "    .dataframe tbody tr th:only-of-type {\n",
       "        vertical-align: middle;\n",
       "    }\n",
       "\n",
       "    .dataframe tbody tr th {\n",
       "        vertical-align: top;\n",
       "    }\n",
       "\n",
       "    .dataframe thead th {\n",
       "        text-align: right;\n",
       "    }\n",
       "</style>\n",
       "<table border=\"1\" class=\"dataframe\">\n",
       "  <thead>\n",
       "    <tr style=\"text-align: right;\">\n",
       "      <th></th>\n",
       "      <th>População residente</th>\n",
       "      <th>Densidade demográfica</th>\n",
       "      <th>Porcentagem de Jovens</th>\n",
       "      <th>Porcentagem de Ativos</th>\n",
       "      <th>Porcentagem de Idosos</th>\n",
       "      <th>Taxa de Urbanização</th>\n",
       "      <th>Taxa de Saneamento Básico</th>\n",
       "      <th>Ativos com Baixo Nível Educacional</th>\n",
       "      <th>Ativos com Médio Nível Educacional</th>\n",
       "      <th>Ativos com Alto Nível Educacional</th>\n",
       "      <th>...</th>\n",
       "      <th>Percentual de trabalhadores do setor secundário em relação ao total</th>\n",
       "      <th>Percentual de trabalhadores do setor terciário em relação ao total</th>\n",
       "      <th>Média Salarial</th>\n",
       "      <th>Produtividade</th>\n",
       "      <th>Taxa de desemprego dos jovens</th>\n",
       "      <th>Taxa de desemprego</th>\n",
       "      <th>Número de trabalhadores(Comerciais, hotéis e restaurantes) por 1,000 habitantes</th>\n",
       "      <th>Número de ativos culturais e de lazer por 10,000 habitantes</th>\n",
       "      <th>Produtividade_bin</th>\n",
       "      <th>Cluster</th>\n",
       "    </tr>\n",
       "  </thead>\n",
       "  <tbody>\n",
       "    <tr>\n",
       "      <th>0</th>\n",
       "      <td>12538.0</td>\n",
       "      <td>6.93</td>\n",
       "      <td>52.919998</td>\n",
       "      <td>43.040001</td>\n",
       "      <td>4.04</td>\n",
       "      <td>48.340000</td>\n",
       "      <td>0.00</td>\n",
       "      <td>75.339996</td>\n",
       "      <td>19.520000</td>\n",
       "      <td>5.14</td>\n",
       "      <td>...</td>\n",
       "      <td>21.530001</td>\n",
       "      <td>34.070000</td>\n",
       "      <td>994.669983</td>\n",
       "      <td>2654247.25</td>\n",
       "      <td>19.17</td>\n",
       "      <td>9.62</td>\n",
       "      <td>12.120000</td>\n",
       "      <td>0.0</td>\n",
       "      <td>4.0</td>\n",
       "      <td>Cluster 0</td>\n",
       "    </tr>\n",
       "    <tr>\n",
       "      <th>1</th>\n",
       "      <td>6072.0</td>\n",
       "      <td>1.22</td>\n",
       "      <td>55.580002</td>\n",
       "      <td>40.070000</td>\n",
       "      <td>4.35</td>\n",
       "      <td>65.300003</td>\n",
       "      <td>2.39</td>\n",
       "      <td>66.830002</td>\n",
       "      <td>26.930000</td>\n",
       "      <td>6.23</td>\n",
       "      <td>...</td>\n",
       "      <td>0.000000</td>\n",
       "      <td>36.250000</td>\n",
       "      <td>1163.489990</td>\n",
       "      <td>2113109.00</td>\n",
       "      <td>10.57</td>\n",
       "      <td>7.44</td>\n",
       "      <td>17.790001</td>\n",
       "      <td>0.0</td>\n",
       "      <td>3.0</td>\n",
       "      <td>Cluster 0</td>\n",
       "    </tr>\n",
       "    <tr>\n",
       "      <th>2</th>\n",
       "      <td>21398.0</td>\n",
       "      <td>5.46</td>\n",
       "      <td>51.880001</td>\n",
       "      <td>42.759998</td>\n",
       "      <td>5.37</td>\n",
       "      <td>70.019997</td>\n",
       "      <td>21.27</td>\n",
       "      <td>70.669998</td>\n",
       "      <td>21.290001</td>\n",
       "      <td>8.04</td>\n",
       "      <td>...</td>\n",
       "      <td>17.700001</td>\n",
       "      <td>33.830002</td>\n",
       "      <td>818.650024</td>\n",
       "      <td>2376384.25</td>\n",
       "      <td>11.13</td>\n",
       "      <td>5.96</td>\n",
       "      <td>14.580000</td>\n",
       "      <td>0.0</td>\n",
       "      <td>3.0</td>\n",
       "      <td>Cluster 0</td>\n",
       "    </tr>\n",
       "    <tr>\n",
       "      <th>3</th>\n",
       "      <td>8471.0</td>\n",
       "      <td>2.79</td>\n",
       "      <td>52.709999</td>\n",
       "      <td>42.599998</td>\n",
       "      <td>4.69</td>\n",
       "      <td>44.070000</td>\n",
       "      <td>0.16</td>\n",
       "      <td>71.050003</td>\n",
       "      <td>22.049999</td>\n",
       "      <td>6.90</td>\n",
       "      <td>...</td>\n",
       "      <td>1.040000</td>\n",
       "      <td>29.400000</td>\n",
       "      <td>897.299988</td>\n",
       "      <td>2668575.75</td>\n",
       "      <td>9.76</td>\n",
       "      <td>3.41</td>\n",
       "      <td>5.780000</td>\n",
       "      <td>0.0</td>\n",
       "      <td>4.0</td>\n",
       "      <td>Cluster 0</td>\n",
       "    </tr>\n",
       "    <tr>\n",
       "      <th>4</th>\n",
       "      <td>8798.0</td>\n",
       "      <td>5.17</td>\n",
       "      <td>53.919998</td>\n",
       "      <td>41.919998</td>\n",
       "      <td>4.16</td>\n",
       "      <td>44.599998</td>\n",
       "      <td>0.82</td>\n",
       "      <td>77.900002</td>\n",
       "      <td>16.600000</td>\n",
       "      <td>5.49</td>\n",
       "      <td>...</td>\n",
       "      <td>30.370001</td>\n",
       "      <td>10.320000</td>\n",
       "      <td>843.489990</td>\n",
       "      <td>2803488.25</td>\n",
       "      <td>6.35</td>\n",
       "      <td>4.14</td>\n",
       "      <td>7.730000</td>\n",
       "      <td>0.0</td>\n",
       "      <td>4.0</td>\n",
       "      <td>Cluster 0</td>\n",
       "    </tr>\n",
       "  </tbody>\n",
       "</table>\n",
       "<p>5 rows × 40 columns</p>\n",
       "</div>"
      ],
      "text/plain": [
       "   População residente  Densidade demográfica  Porcentagem de Jovens  \\\n",
       "0              12538.0                   6.93              52.919998   \n",
       "1               6072.0                   1.22              55.580002   \n",
       "2              21398.0                   5.46              51.880001   \n",
       "3               8471.0                   2.79              52.709999   \n",
       "4               8798.0                   5.17              53.919998   \n",
       "\n",
       "   Porcentagem de Ativos  Porcentagem de Idosos  Taxa de Urbanização  \\\n",
       "0              43.040001                   4.04            48.340000   \n",
       "1              40.070000                   4.35            65.300003   \n",
       "2              42.759998                   5.37            70.019997   \n",
       "3              42.599998                   4.69            44.070000   \n",
       "4              41.919998                   4.16            44.599998   \n",
       "\n",
       "   Taxa de Saneamento Básico  Ativos com Baixo Nível Educacional  \\\n",
       "0                       0.00                           75.339996   \n",
       "1                       2.39                           66.830002   \n",
       "2                      21.27                           70.669998   \n",
       "3                       0.16                           71.050003   \n",
       "4                       0.82                           77.900002   \n",
       "\n",
       "   Ativos com Médio Nível Educacional  Ativos com Alto Nível Educacional  ...  \\\n",
       "0                           19.520000                               5.14  ...   \n",
       "1                           26.930000                               6.23  ...   \n",
       "2                           21.290001                               8.04  ...   \n",
       "3                           22.049999                               6.90  ...   \n",
       "4                           16.600000                               5.49  ...   \n",
       "\n",
       "   Percentual de trabalhadores do setor secundário em relação ao total  \\\n",
       "0                                          21.530001                     \n",
       "1                                           0.000000                     \n",
       "2                                          17.700001                     \n",
       "3                                           1.040000                     \n",
       "4                                          30.370001                     \n",
       "\n",
       "   Percentual de trabalhadores do setor terciário em relação ao total  \\\n",
       "0                                          34.070000                    \n",
       "1                                          36.250000                    \n",
       "2                                          33.830002                    \n",
       "3                                          29.400000                    \n",
       "4                                          10.320000                    \n",
       "\n",
       "   Média Salarial  Produtividade  Taxa de desemprego dos jovens  \\\n",
       "0      994.669983     2654247.25                          19.17   \n",
       "1     1163.489990     2113109.00                          10.57   \n",
       "2      818.650024     2376384.25                          11.13   \n",
       "3      897.299988     2668575.75                           9.76   \n",
       "4      843.489990     2803488.25                           6.35   \n",
       "\n",
       "   Taxa de desemprego  \\\n",
       "0                9.62   \n",
       "1                7.44   \n",
       "2                5.96   \n",
       "3                3.41   \n",
       "4                4.14   \n",
       "\n",
       "   Número de trabalhadores(Comerciais, hotéis e restaurantes) por 1,000 habitantes  \\\n",
       "0                                          12.120000                                 \n",
       "1                                          17.790001                                 \n",
       "2                                          14.580000                                 \n",
       "3                                           5.780000                                 \n",
       "4                                           7.730000                                 \n",
       "\n",
       "   Número de ativos culturais e de lazer por 10,000 habitantes  \\\n",
       "0                                                0.0             \n",
       "1                                                0.0             \n",
       "2                                                0.0             \n",
       "3                                                0.0             \n",
       "4                                                0.0             \n",
       "\n",
       "   Produtividade_bin    Cluster  \n",
       "0                4.0  Cluster 0  \n",
       "1                3.0  Cluster 0  \n",
       "2                3.0  Cluster 0  \n",
       "3                4.0  Cluster 0  \n",
       "4                4.0  Cluster 0  \n",
       "\n",
       "[5 rows x 40 columns]"
      ]
     },
     "execution_count": 11,
     "metadata": {},
     "output_type": "execute_result"
    }
   ],
   "source": [
    "# predict on test set\n",
    "kmeans_pred = predict_model(kmeans, data=df)\n",
    "kmeans_pred.head()"
   ]
  },
  {
   "cell_type": "code",
   "execution_count": 12,
   "metadata": {},
   "outputs": [],
   "source": [
    "kmeans_pred.to_excel('Dados/Cluster.xlsx')"
   ]
  },
  {
   "cell_type": "code",
   "execution_count": 13,
   "metadata": {},
   "outputs": [
    {
     "data": {
      "text/html": [],
      "text/plain": [
       "<IPython.core.display.HTML object>"
      ]
     },
     "metadata": {},
     "output_type": "display_data"
    },
    {
     "data": {
      "application/vnd.plotly.v1+json": {
       "config": {
        "plotlyServerURL": "https://plot.ly"
       },
       "data": [
        {
         "customdata": [
          [
           "Acrelândia"
          ],
          [
           "Rio Claro"
          ],
          [
           "Rio Bonito"
          ],
          [
           "Queimados"
          ],
          [
           "Quatis"
          ],
          [
           "Porciúncula"
          ],
          [
           "Piraí"
          ],
          [
           "Pinheiral"
          ],
          [
           "Paty do Alferes"
          ],
          [
           "Paraty"
          ],
          [
           "Paraíba do Sul"
          ],
          [
           "Paracambi"
          ],
          [
           "Nilópolis"
          ],
          [
           "Natividade"
          ],
          [
           "Miracema"
          ],
          [
           "Miguel Pereira"
          ],
          [
           "Mesquita"
          ],
          [
           "Mendes"
          ],
          [
           "Rio das Flores"
          ],
          [
           "Maricá"
          ],
          [
           "Santa Maria Madalena"
          ],
          [
           "São Fidélis"
          ],
          [
           "Acari"
          ],
          [
           "Vassouras"
          ],
          [
           "Varre-Sai"
          ],
          [
           "Valença"
          ],
          [
           "Três Rios"
          ],
          [
           "Trajano de Moraes"
          ],
          [
           "Tanguá"
          ],
          [
           "Sumidouro"
          ],
          [
           "Silva Jardim"
          ],
          [
           "Seropédica"
          ],
          [
           "Saquarema"
          ],
          [
           "Sapucaia"
          ],
          [
           "São Sebastião do Alto"
          ],
          [
           "São Pedro da Aldeia"
          ],
          [
           "São José do Vale do Rio Preto"
          ],
          [
           "São José de Ubá"
          ],
          [
           "São Francisco de Itabapoana"
          ],
          [
           "Santo Antônio de Pádua"
          ],
          [
           "Açu"
          ],
          [
           "Mangaratiba"
          ],
          [
           "Macuco"
          ],
          [
           "Bom Jesus do Itabapoana"
          ],
          [
           "Bom Jardim"
          ],
          [
           "Barra do Piraí"
          ],
          [
           "Arraial do Cabo"
          ],
          [
           "Armação dos Búzios"
          ],
          [
           "Areal"
          ],
          [
           "Araruama"
          ],
          [
           "Aperibé"
          ],
          [
           "Wall Ferraz"
          ],
          [
           "Vila Nova do Piauí"
          ],
          [
           "Vera Mendes"
          ],
          [
           "Várzea Grande"
          ],
          [
           "Várzea Branca"
          ],
          [
           "Valença do Piauí"
          ],
          [
           "Uruçuí"
          ],
          [
           "União"
          ],
          [
           "Tanque do Piauí"
          ],
          [
           "Cachoeiras de Macacu"
          ],
          [
           "Magé"
          ],
          [
           "Cambuci"
          ],
          [
           "Carapebus"
          ],
          [
           "Laje do Muriaé"
          ],
          [
           "Japeri"
          ],
          [
           "Itatiaia"
          ],
          [
           "Itaperuna"
          ],
          [
           "Itaocara"
          ],
          [
           "Italva"
          ],
          [
           "Itaboraí"
          ],
          [
           "Iguaba Grande"
          ],
          [
           "Guapimirim"
          ],
          [
           "Engenheiro Paulo de Frontin"
          ],
          [
           "Duas Barras"
          ],
          [
           "Cordeiro"
          ],
          [
           "Conceição de Macabu"
          ],
          [
           "Comendador Levy Gasparian"
          ],
          [
           "Casimiro de Abreu"
          ],
          [
           "Carmo"
          ],
          [
           "Cardoso Moreira"
          ],
          [
           "Cantagalo"
          ],
          [
           "Afonso Bezerra"
          ],
          [
           "Água Nova"
          ],
          [
           "Alexandria"
          ],
          [
           "José da Penha"
          ],
          [
           "João Dias"
          ],
          [
           "João Câmara"
          ],
          [
           "Jardim do Seridó"
          ],
          [
           "Jardim de Piranhas"
          ],
          [
           "Jardim de Angicos"
          ],
          [
           "Japi"
          ],
          [
           "Januário Cicco"
          ],
          [
           "Janduís"
          ],
          [
           "Jandaíra"
          ],
          [
           "Jaçanã"
          ],
          [
           "Itaú"
          ],
          [
           "Itajá"
          ],
          [
           "Ipueira"
          ],
          [
           "Ipanguaçu"
          ],
          [
           "Ielmo Marinho"
          ],
          [
           "Guamaré"
          ],
          [
           "Jucurutu"
          ],
          [
           "Grossos"
          ],
          [
           "Jundiá"
          ],
          [
           "Lagoa de Pedras"
          ],
          [
           "Monte das Gameleiras"
          ],
          [
           "Monte Alegre"
          ],
          [
           "Montanhas"
          ],
          [
           "Messias Targino"
          ],
          [
           "Maxaranguape"
          ],
          [
           "Martins"
          ],
          [
           "Marcelino Vieira"
          ],
          [
           "Major Sales"
          ],
          [
           "Macau"
          ],
          [
           "Macaíba"
          ],
          [
           "Luís Gomes"
          ],
          [
           "Lucrécia"
          ],
          [
           "Lajes Pintadas"
          ],
          [
           "Lajes"
          ],
          [
           "Lagoa Salgada"
          ],
          [
           "Lagoa Nova"
          ],
          [
           "Lagoa de Velhos"
          ],
          [
           "Lagoa d'Anta"
          ],
          [
           "Governador Dix-Sept Rosado"
          ],
          [
           "Goianinha"
          ],
          [
           "Galinhos"
          ],
          [
           "Caiçara do Rio do Vento"
          ],
          [
           "Caiçara do Norte"
          ],
          [
           "Brejinho"
          ],
          [
           "Bom Jesus"
          ],
          [
           "Bodó"
          ],
          [
           "Bento Fernandes"
          ],
          [
           "Barcelona"
          ],
          [
           "Baraúna"
          ],
          [
           "Baía Formosa"
          ],
          [
           "Augusto Severo"
          ],
          [
           "Arês"
          ],
          [
           "Areia Branca"
          ],
          [
           "Apodi"
          ],
          [
           "Antônio Martins"
          ],
          [
           "Angicos"
          ],
          [
           "Alto do Rodrigues"
          ],
          [
           "Almino Afonso"
          ],
          [
           "Caicó"
          ],
          [
           "Campo Redondo"
          ],
          [
           "Canguaretama"
          ],
          [
           "Caraúbas"
          ],
          [
           "Frutuoso Gomes"
          ],
          [
           "Francisco Dantas"
          ],
          [
           "Florânia"
          ],
          [
           "Fernando Pedroza"
          ],
          [
           "Felipe Guerra"
          ],
          [
           "Extremoz"
          ],
          [
           "Espírito Santo"
          ],
          [
           "Equador"
          ],
          [
           "Tamboril do Piauí"
          ],
          [
           "Encanto"
          ],
          [
           "Currais Novos"
          ],
          [
           "Cruzeta"
          ],
          [
           "Coronel João Pessoa"
          ],
          [
           "Coronel Ezequiel"
          ],
          [
           "Cerro Corá"
          ],
          [
           "Ceará-Mirim"
          ],
          [
           "Carnaubais"
          ],
          [
           "Carnaúba dos Dantas"
          ],
          [
           "Doutor Severiano"
          ],
          [
           "Sussuapara"
          ],
          [
           "Socorro do Piauí"
          ],
          [
           "Simplício Mendes"
          ],
          [
           "Jerumenha"
          ],
          [
           "Jatobá do Piauí"
          ],
          [
           "Jardim do Mulato"
          ],
          [
           "Jaicós"
          ],
          [
           "Jacobina do Piauí"
          ],
          [
           "Itaueira"
          ],
          [
           "Itainópolis"
          ],
          [
           "Isaías Coelho"
          ],
          [
           "Ipiranga do Piauí"
          ],
          [
           "Inhuma"
          ],
          [
           "Ilha Grande"
          ],
          [
           "Hugo Napoleão"
          ],
          [
           "Guaribas"
          ],
          [
           "Guadalupe"
          ],
          [
           "Gilbués"
          ],
          [
           "Geminiano"
          ],
          [
           "Fronteiras"
          ],
          [
           "João Costa"
          ],
          [
           "Francisco Santos"
          ],
          [
           "Joaquim Pires"
          ],
          [
           "José de Freitas"
          ],
          [
           "Massapê do Piauí"
          ],
          [
           "Marcos Parente"
          ],
          [
           "Marcolândia"
          ],
          [
           "Manoel Emídio"
          ],
          [
           "Madeiro"
          ],
          [
           "Luzilândia"
          ],
          [
           "Luís Correia"
          ],
          [
           "Landri Sales"
          ],
          [
           "Lagoinha do Piauí"
          ],
          [
           "Lagoa do Sítio"
          ],
          [
           "Lagoa do Piauí"
          ],
          [
           "Lagoa do Barro do Piauí"
          ],
          [
           "Lagoa de São Francisco"
          ],
          [
           "Lagoa Alegre"
          ],
          [
           "Jurema"
          ],
          [
           "Júlio Borges"
          ],
          [
           "Juazeiro do Piauí"
          ],
          [
           "Joca Marques"
          ],
          [
           "Francisco Macedo"
          ],
          [
           "Francisco Ayres"
          ],
          [
           "Francinópolis"
          ],
          [
           "Colônia do Gurguéia"
          ],
          [
           "Coivaras"
          ],
          [
           "Cocal dos Alves"
          ],
          [
           "Cocal de Telha"
          ],
          [
           "Cocal"
          ],
          [
           "Caxingó"
          ],
          [
           "Castelo do Piauí"
          ],
          [
           "Caridade do Piauí"
          ],
          [
           "Caraúbas do Piauí"
          ],
          [
           "Caracol"
          ],
          [
           "Capitão Gervásio Oliveira"
          ],
          [
           "Capitão de Campos"
          ],
          [
           "Canto do Buriti"
          ],
          [
           "Canavieira"
          ],
          [
           "Campo Maior"
          ],
          [
           "Campo Largo do Piauí"
          ],
          [
           "Campo Grande do Piauí"
          ],
          [
           "Colônia do Piauí"
          ],
          [
           "Conceição do Canindé"
          ],
          [
           "Coronel José Dias"
          ],
          [
           "Corrente"
          ],
          [
           "Floriano"
          ],
          [
           "Floresta do Piauí"
          ],
          [
           "Flores do Piauí"
          ],
          [
           "Fartura do Piauí"
          ],
          [
           "Esperantina"
          ],
          [
           "Eliseu Martins"
          ],
          [
           "Elesbão Veloso"
          ],
          [
           "Domingos Mourão"
          ],
          [
           "Matias Olímpio"
          ],
          [
           "Dom Inocêncio"
          ],
          [
           "Dirceu Arcoverde"
          ],
          [
           "Demerval Lobão"
          ],
          [
           "Curralinhos"
          ],
          [
           "Curral Novo do Piauí"
          ],
          [
           "Currais"
          ],
          [
           "Curimatá"
          ],
          [
           "Cristino Castro"
          ],
          [
           "Cristalândia do Piauí"
          ],
          [
           "Dom Expedito Lopes"
          ],
          [
           "Nísia Floresta"
          ],
          [
           "Miguel Alves"
          ],
          [
           "Milton Brandão"
          ],
          [
           "São Gonçalo do Piauí"
          ],
          [
           "São Gonçalo do Gurguéia"
          ],
          [
           "São Francisco do Piauí"
          ],
          [
           "São Francisco de Assis do Piauí"
          ],
          [
           "São Félix do Piauí"
          ],
          [
           "São Braz do Piauí"
          ],
          [
           "Santo Inácio do Piauí"
          ],
          [
           "Santo Antônio dos Milagres"
          ],
          [
           "Santo Antônio de Lisboa"
          ],
          [
           "Santana do Piauí"
          ],
          [
           "Santa Rosa do Piauí"
          ],
          [
           "Santa Luz"
          ],
          [
           "Santa Filomena"
          ],
          [
           "Santa Cruz dos Milagres"
          ],
          [
           "Santa Cruz do Piauí"
          ],
          [
           "Rio Grande do Piauí"
          ],
          [
           "Ribeiro Gonçalves"
          ],
          [
           "São João da Canabrava"
          ],
          [
           "Ribeira do Piauí"
          ],
          [
           "São João da Fronteira"
          ],
          [
           "São João da Varjota"
          ],
          [
           "Simões"
          ],
          [
           "Sigefredo Pacheco"
          ],
          [
           "Sebastião Leal"
          ],
          [
           "Sebastião Barros"
          ],
          [
           "São Raimundo Nonato"
          ],
          [
           "São Pedro do Piauí"
          ],
          [
           "São Miguel do Tapuio"
          ],
          [
           "São Miguel do Fidalgo"
          ],
          [
           "São Miguel da Baixa Grande"
          ],
          [
           "São Luis do Piauí"
          ],
          [
           "São Lourenço do Piauí"
          ],
          [
           "São Julião"
          ],
          [
           "São José do Piauí"
          ],
          [
           "São José do Peixe"
          ],
          [
           "São José do Divino"
          ],
          [
           "São João do Piauí"
          ],
          [
           "São João do Arraial"
          ],
          [
           "São João da Serra"
          ],
          [
           "Riacho Frio"
          ],
          [
           "Regeneração"
          ],
          [
           "Redenção do Gurguéia"
          ],
          [
           "Paes Landim"
          ],
          [
           "Padre Marcos"
          ],
          [
           "Olho D'Água do Piauí"
          ],
          [
           "Oeiras"
          ],
          [
           "Novo Santo Antônio"
          ],
          [
           "Novo Oriente do Piauí"
          ],
          [
           "Nova Santa Rita"
          ],
          [
           "Nossa Senhora dos Remédios"
          ],
          [
           "Nossa Senhora de Nazaré"
          ],
          [
           "Nazária"
          ],
          [
           "Nazaré do Piauí"
          ],
          [
           "Murici dos Portelas"
          ],
          [
           "Morro do Chapéu do Piauí"
          ],
          [
           "Morro Cabeça no Tempo"
          ],
          [
           "Monte Alegre do Piauí"
          ],
          [
           "Monsenhor Hipólito"
          ],
          [
           "Monsenhor Gil"
          ],
          [
           "Pajeú do Piauí"
          ],
          [
           "Palmeira do Piauí"
          ],
          [
           "Palmeirais"
          ],
          [
           "Paquetá"
          ],
          [
           "Queimada Nova"
          ],
          [
           "Prata do Piauí"
          ],
          [
           "Porto Alegre do Piauí"
          ],
          [
           "Porto"
          ],
          [
           "Piripiri"
          ],
          [
           "Piracuruca"
          ],
          [
           "Pio IX"
          ],
          [
           "Pimenteiras"
          ],
          [
           "Miguel Leão"
          ],
          [
           "Picos"
          ],
          [
           "Pedro II"
          ],
          [
           "Pavussu"
          ],
          [
           "Paulistana"
          ],
          [
           "Pau D'Arco do Piauí"
          ],
          [
           "Patos do Piauí"
          ],
          [
           "Passagem Franca do Piauí"
          ],
          [
           "Parnaíba"
          ],
          [
           "Parnaguá"
          ],
          [
           "Pedro Laurentino"
          ],
          [
           "Campo Alegre do Fidalgo"
          ],
          [
           "Nova Cruz"
          ],
          [
           "Ouro Branco"
          ],
          [
           "Estrela"
          ],
          [
           "Esteio"
          ],
          [
           "Estância Velha"
          ],
          [
           "Estação"
          ],
          [
           "Espumoso"
          ],
          [
           "Esperança do Sul"
          ],
          [
           "Esmeralda"
          ],
          [
           "Erval Seco"
          ],
          [
           "Erval Grande"
          ],
          [
           "Ernestina"
          ],
          [
           "Erechim"
          ],
          [
           "Erebango"
          ],
          [
           "Entre-Ijuís"
          ],
          [
           "Entre Rios do Sul"
          ],
          [
           "Engenho Velho"
          ],
          [
           "Encruzilhada do Sul"
          ],
          [
           "Encantado"
          ],
          [
           "Estrela Velha"
          ],
          [
           "Eldorado do Sul"
          ],
          [
           "Eugênio de Castro"
          ],
          [
           "Farroupilha"
          ],
          [
           "Getúlio Vargas"
          ],
          [
           "Gentil"
          ],
          [
           "General Câmara"
          ],
          [
           "Gaurama"
          ],
          [
           "Garruchos"
          ],
          [
           "Garibaldi"
          ],
          [
           "Frederico Westphalen"
          ],
          [
           "Fortaleza dos Valos"
          ],
          [
           "Forquetinha"
          ],
          [
           "Formigueiro"
          ],
          [
           "Fontoura Xavier"
          ],
          [
           "Floriano Peixoto"
          ],
          [
           "Flores da Cunha"
          ],
          [
           "Feliz"
          ],
          [
           "Fazenda Vilanova"
          ],
          [
           "Faxinalzinho"
          ],
          [
           "Faxinal do Soturno"
          ],
          [
           "Fagundes Varela"
          ],
          [
           "Giruá"
          ],
          [
           "Doutor Ricardo"
          ],
          [
           "Dona Francisca"
          ],
          [
           "Coqueiros do Sul"
          ],
          [
           "Coqueiro Baixo"
          ],
          [
           "Constantina"
          ],
          [
           "Condor"
          ],
          [
           "Colorado"
          ],
          [
           "Colinas"
          ],
          [
           "Ciríaco"
          ],
          [
           "Cidreira"
          ],
          [
           "Chuvisca"
          ],
          [
           "Chuí"
          ],
          [
           "Chiapetta"
          ],
          [
           "Charrua"
          ],
          [
           "Charqueadas"
          ],
          [
           "Chapada"
          ],
          [
           "Cerro Largo"
          ],
          [
           "Cerro Grande do Sul"
          ],
          [
           "Cerro Grande"
          ],
          [
           "Coronel Barros"
          ],
          [
           "Doutor Maurício Cardoso"
          ],
          [
           "Coronel Bicaco"
          ],
          [
           "Cotiporã"
          ],
          [
           "Dom Pedro de Alcântara"
          ],
          [
           "Dom Pedrito"
          ],
          [
           "Dom Feliciano"
          ],
          [
           "Dois Lajeados"
          ],
          [
           "Dois Irmãos das Missões"
          ],
          [
           "Dois Irmãos"
          ],
          [
           "Dilermando de Aguiar"
          ],
          [
           "Dezesseis de Novembro"
          ],
          [
           "Derrubadas"
          ],
          [
           "David Canabarro"
          ],
          [
           "Cruzeiro do Sul"
          ],
          [
           "Cruzaltense"
          ],
          [
           "Cruz Alta"
          ],
          [
           "Cristal do Sul"
          ],
          [
           "Cristal"
          ],
          [
           "Crissiumal"
          ],
          [
           "Coxilha"
          ],
          [
           "Coronel Pilar"
          ],
          [
           "Glorinha"
          ],
          [
           "Gramado"
          ],
          [
           "Gramado dos Loureiros"
          ],
          [
           "Marcelino Ramos"
          ],
          [
           "Marau"
          ],
          [
           "Maratá"
          ],
          [
           "Maquiné"
          ],
          [
           "Manoel Viana"
          ],
          [
           "Mampituba"
          ],
          [
           "Machadinho"
          ],
          [
           "Maçambará"
          ],
          [
           "Linha Nova"
          ],
          [
           "Lindolfo Collor"
          ],
          [
           "Liberato Salzano"
          ],
          [
           "Lavras do Sul"
          ],
          [
           "Lajeado do Bugre"
          ],
          [
           "Lajeado"
          ],
          [
           "Lagoão"
          ],
          [
           "Lagoa Vermelha"
          ],
          [
           "Lagoa dos Três Cantos"
          ],
          [
           "Mariana Pimentel"
          ],
          [
           "Lagoa Bonita do Sul"
          ],
          [
           "Mariano Moro"
          ],
          [
           "Mata"
          ],
          [
           "Muitos Capões"
          ],
          [
           "Muçum"
          ],
          [
           "Mostardas"
          ],
          [
           "Morro Reuter"
          ],
          [
           "Morro Redondo"
          ],
          [
           "Morrinhos do Sul"
          ],
          [
           "Mormaço"
          ],
          [
           "Montenegro"
          ],
          [
           "Monte Belo do Sul"
          ],
          [
           "Monte Alegre dos Campos"
          ],
          [
           "Montauri"
          ],
          [
           "Miraguaí"
          ],
          [
           "Minas do Leão"
          ],
          [
           "Maximiliano de Almeida"
          ],
          [
           "Mato Queimado"
          ],
          [
           "Mato Leitão"
          ],
          [
           "Mato Castelhano"
          ],
          [
           "Marques de Souza"
          ],
          [
           "Júlio de Castilhos"
          ],
          [
           "Jóia"
          ],
          [
           "Jari"
          ],
          [
           "Ijuí"
          ],
          [
           "Igrejinha"
          ],
          [
           "Ibirubá"
          ],
          [
           "Ibirapuitã"
          ],
          [
           "Ibiraiaras"
          ],
          [
           "Ibiaçá"
          ],
          [
           "Ibarama"
          ],
          [
           "Humaitá"
          ],
          [
           "Hulha Negra"
          ],
          [
           "Horizontina"
          ],
          [
           "Herveiras"
          ],
          [
           "Herval"
          ],
          [
           "Harmonia"
          ],
          [
           "Guarani das Missões"
          ],
          [
           "Guaporé"
          ],
          [
           "Guabiju"
          ],
          [
           "Gramado Xavier"
          ],
          [
           "Ilópolis"
          ],
          [
           "Imbé"
          ],
          [
           "Imigrante"
          ],
          [
           "Independência"
          ],
          [
           "Jaquirana"
          ],
          [
           "Jaguari"
          ],
          [
           "Jaguarão"
          ],
          [
           "Jacutinga"
          ],
          [
           "Jacuizinho"
          ],
          [
           "Jaboticaba"
          ],
          [
           "Ivoti"
          ],
          [
           "Ivorá"
          ],
          [
           "Cerro Branco"
          ],
          [
           "Itatiba do Sul"
          ],
          [
           "Itaqui"
          ],
          [
           "Itapuca"
          ],
          [
           "Itacurubi"
          ],
          [
           "Itaara"
          ],
          [
           "Iraí"
          ],
          [
           "Ipiranga do Sul"
          ],
          [
           "Ipê"
          ],
          [
           "Inhacorá"
          ],
          [
           "Itati"
          ],
          [
           "Cerrito"
          ],
          [
           "Centenário"
          ],
          [
           "Catuípe"
          ],
          [
           "Taipu"
          ],
          [
           "Taboleiro Grande"
          ],
          [
           "Sítio Novo"
          ],
          [
           "Severiano Melo"
          ],
          [
           "Serrinha dos Pintos"
          ],
          [
           "Serrinha"
          ],
          [
           "Serra Negra do Norte"
          ],
          [
           "Serra do Mel"
          ],
          [
           "Serra de São Bento"
          ],
          [
           "Senador Georgino Avelino"
          ],
          [
           "Senador Elói de Souza"
          ],
          [
           "São Vicente"
          ],
          [
           "São Tomé"
          ],
          [
           "São Rafael"
          ],
          [
           "São Pedro"
          ],
          [
           "São Paulo do Potengi"
          ],
          [
           "São Miguel do Gostoso"
          ],
          [
           "Tangará"
          ],
          [
           "São Miguel"
          ],
          [
           "Tenente Ananias"
          ],
          [
           "Tibau"
          ],
          [
           "Alegrete"
          ],
          [
           "Alecrim"
          ],
          [
           "Ajuricaba"
          ],
          [
           "Agudo"
          ],
          [
           "Água Santa"
          ],
          [
           "Aceguá"
          ],
          [
           "Vila Flor"
          ],
          [
           "Viçosa"
          ],
          [
           "Vera Cruz"
          ],
          [
           "Venha-Ver"
          ],
          [
           "Várzea"
          ],
          [
           "Upanema"
          ],
          [
           "Umarizal"
          ],
          [
           "Triunfo Potiguar"
          ],
          [
           "Touros"
          ],
          [
           "Timbaúba dos Batistas"
          ],
          [
           "Tibau do Sul"
          ],
          [
           "Tenente Laurentino Cruz"
          ],
          [
           "São José do Seridó"
          ],
          [
           "São José do Campestre"
          ],
          [
           "São José de Mipibu"
          ],
          [
           "Portalegre"
          ],
          [
           "Poço Branco"
          ],
          [
           "Pilões"
          ],
          [
           "Pendências"
          ],
          [
           "Pedro Velho"
          ],
          [
           "Pedro Avelino"
          ],
          [
           "Pedra Preta"
          ],
          [
           "Pedra Grande"
          ],
          [
           "Pau dos Ferros"
          ],
          [
           "Patu"
          ],
          [
           "Passagem"
          ],
          [
           "Passa e Fica"
          ],
          [
           "Parnamirim"
          ],
          [
           "Parelhas"
          ],
          [
           "Parazinho"
          ],
          [
           "Paraú"
          ],
          [
           "Paraná"
          ],
          [
           "Porto do Mangue"
          ],
          [
           "Presidente Juscelino"
          ],
          [
           "Pureza"
          ],
          [
           "Rafael Fernandes"
          ],
          [
           "São João do Sabugi"
          ],
          [
           "São Gonçalo do Amarante"
          ],
          [
           "São Francisco do Oeste"
          ],
          [
           "São Fernando"
          ],
          [
           "São Bento do Trairí"
          ],
          [
           "São Bento do Norte"
          ],
          [
           "Santo Antônio"
          ],
          [
           "Santana do Seridó"
          ],
          [
           "Alegria"
          ],
          [
           "Santana do Matos"
          ],
          [
           "Santa Cruz"
          ],
          [
           "Ruy Barbosa"
          ],
          [
           "Rodolfo Fernandes"
          ],
          [
           "Rio do Fogo"
          ],
          [
           "Riachuelo"
          ],
          [
           "Riacho de Santana"
          ],
          [
           "Riacho da Cruz"
          ],
          [
           "Rafael Godeiro"
          ],
          [
           "Santa Maria"
          ],
          [
           "Olho-d'Água do Borges"
          ],
          [
           "Almirante Tamandaré do Sul"
          ],
          [
           "Alto Alegre"
          ],
          [
           "Campo Bom"
          ],
          [
           "Campinas do Sul"
          ],
          [
           "Campina das Missões"
          ],
          [
           "Campestre da Serra"
          ],
          [
           "Cambará do Sul"
          ],
          [
           "Camargo"
          ],
          [
           "Camaquã"
          ],
          [
           "Caiçara"
          ],
          [
           "Caibaté"
          ],
          [
           "Cacique Doble"
          ],
          [
           "Cachoeira do Sul"
          ],
          [
           "Cacequi"
          ],
          [
           "Caçapava do Sul"
          ],
          [
           "Butiá"
          ],
          [
           "Brochier"
          ],
          [
           "Braga"
          ],
          [
           "Bozano"
          ],
          [
           "Campo Novo"
          ],
          [
           "Bossoroca"
          ],
          [
           "Campos Borges"
          ],
          [
           "Cândido Godói"
          ],
          [
           "Caseiros"
          ],
          [
           "Casca"
          ],
          [
           "Carlos Gomes"
          ],
          [
           "Carlos Barbosa"
          ],
          [
           "Carazinho"
          ],
          [
           "Caraá"
          ],
          [
           "Capivari do Sul"
          ],
          [
           "Capitão"
          ],
          [
           "Capela de Santana"
          ],
          [
           "Capão do Leão"
          ],
          [
           "Capão do Cipó"
          ],
          [
           "Capão da Canoa"
          ],
          [
           "Capão Bonito do Sul"
          ],
          [
           "Canudos do Vale"
          ],
          [
           "Canguçu"
          ],
          [
           "Canela"
          ],
          [
           "Candiota"
          ],
          [
           "Candelária"
          ],
          [
           "Boqueirão do Leão"
          ],
          [
           "Bom Retiro do Sul"
          ],
          [
           "Bom Progresso"
          ],
          [
           "Arvorezinha"
          ],
          [
           "Arroio Grande"
          ],
          [
           "Arroio dos Ratos"
          ],
          [
           "Arroio do Tigre"
          ],
          [
           "Arroio do Sal"
          ],
          [
           "Arroio do Padre"
          ],
          [
           "Arroio do Meio"
          ],
          [
           "Aratiba"
          ],
          [
           "Araricá"
          ],
          [
           "Arambaré"
          ],
          [
           "Antônio Prado"
          ],
          [
           "Anta Gorda"
          ],
          [
           "André da Rocha"
          ],
          [
           "Ametista do Sul"
          ],
          [
           "Amaral Ferrador"
          ],
          [
           "Alvorada"
          ],
          [
           "Alto Feliz"
          ],
          [
           "Augusto Pestana"
          ],
          [
           "Áurea"
          ],
          [
           "Bagé"
          ],
          [
           "Balneário Pinhal"
          ],
          [
           "Bom Princípio"
          ],
          [
           "Bom Jesus"
          ],
          [
           "Boa Vista do Sul"
          ],
          [
           "Boa Vista do Incra"
          ],
          [
           "Boa Vista do Cadeado"
          ],
          [
           "Boa Vista do Buricá"
          ],
          [
           "Boa Vista das Missões"
          ],
          [
           "Benjamin Constant do Sul"
          ],
          [
           "Alpestre"
          ],
          [
           "Barros Cassal"
          ],
          [
           "Barra Funda"
          ],
          [
           "Barra do Rio Azul"
          ],
          [
           "Barra do Ribeiro"
          ],
          [
           "Barra do Quaraí"
          ],
          [
           "Barra do Guarita"
          ],
          [
           "Barão do Triunfo"
          ],
          [
           "Barão de Cotegipe"
          ],
          [
           "Barão"
          ],
          [
           "Barracão"
          ],
          [
           "Campinas do Piauí"
          ],
          [
           "Caldeirão Grande do Piauí"
          ],
          [
           "Cajueiro da Praia"
          ],
          [
           "Ivaiporã"
          ],
          [
           "Ivaí"
          ],
          [
           "Itaúna do Sul"
          ],
          [
           "Itaperuçu"
          ],
          [
           "Itapejara d'Oeste"
          ],
          [
           "Itambé"
          ],
          [
           "Itambaracá"
          ],
          [
           "Itaipulândia"
          ],
          [
           "Itaguajé"
          ],
          [
           "Iretama"
          ],
          [
           "Irati"
          ],
          [
           "Iracema do Oeste"
          ],
          [
           "Iporã"
          ],
          [
           "Ipiranga"
          ],
          [
           "Indianópolis"
          ],
          [
           "Inajá"
          ],
          [
           "Inácio Martins"
          ],
          [
           "Ivaté"
          ],
          [
           "Imbituva"
          ],
          [
           "Ivatuba"
          ],
          [
           "Jacarezinho"
          ],
          [
           "Laranjal"
          ],
          [
           "Lapa"
          ],
          [
           "Kaloré"
          ],
          [
           "Jussara"
          ],
          [
           "Juranda"
          ],
          [
           "Jundiaí do Sul"
          ],
          [
           "Joaquim Távora"
          ],
          [
           "Jesuítas"
          ],
          [
           "Jataizinho"
          ],
          [
           "Jardim Olinda"
          ],
          [
           "Jardim Alegre"
          ],
          [
           "Japurá"
          ],
          [
           "Japira"
          ],
          [
           "Janiópolis"
          ],
          [
           "Jandaia do Sul"
          ],
          [
           "Jaguariaíva"
          ],
          [
           "Jaguapitã"
          ],
          [
           "Jaboti"
          ],
          [
           "Laranjeiras do Sul"
          ],
          [
           "Imbaú"
          ],
          [
           "Iguaraçu"
          ],
          [
           "Francisco Alves"
          ],
          [
           "Foz do Jordão"
          ],
          [
           "Formosa do Oeste"
          ],
          [
           "Flórida"
          ],
          [
           "Florestópolis"
          ],
          [
           "Floresta"
          ],
          [
           "Floraí"
          ],
          [
           "Flor da Serra do Sul"
          ],
          [
           "Figueira"
          ],
          [
           "Fernandes Pinheiro"
          ],
          [
           "Fênix"
          ],
          [
           "Fazenda Rio Grande"
          ],
          [
           "Faxinal"
          ],
          [
           "Farol"
          ],
          [
           "Espigão Alto do Iguaçu"
          ],
          [
           "Esperança Nova"
          ],
          [
           "Entre Rios do Oeste"
          ],
          [
           "Francisco Beltrão"
          ],
          [
           "Iguatu"
          ],
          [
           "General Carneiro"
          ],
          [
           "Goioerê"
          ],
          [
           "Icaraíma"
          ],
          [
           "Ibiporã"
          ],
          [
           "Ibema"
          ],
          [
           "Ibaiti"
          ],
          [
           "Honório Serpa"
          ],
          [
           "Guaratuba"
          ],
          [
           "Guaraqueçaba"
          ],
          [
           "Guarapuava"
          ],
          [
           "Guaraniaçu"
          ],
          [
           "Guaraci"
          ],
          [
           "Guaporema"
          ],
          [
           "Guapirama"
          ],
          [
           "Guamiranga"
          ],
          [
           "Guairaçá"
          ],
          [
           "Guaíra"
          ],
          [
           "Grandes Rios"
          ],
          [
           "Goioxim"
          ],
          [
           "Godoy Moreira"
          ],
          [
           "Leópolis"
          ],
          [
           "Lidianópolis"
          ],
          [
           "Lindoeste"
          ],
          [
           "Palotina"
          ],
          [
           "Palmital"
          ],
          [
           "Palmeira"
          ],
          [
           "Palmas"
          ],
          [
           "Paiçandu"
          ],
          [
           "Ouro Verde do Oeste"
          ],
          [
           "Ourizona"
          ],
          [
           "Ortigueira"
          ],
          [
           "Novo Itacolomi"
          ],
          [
           "Nova Tebas"
          ],
          [
           "Nova Santa Rosa"
          ],
          [
           "Nova Santa Bárbara"
          ],
          [
           "Nova Prata do Iguaçu"
          ],
          [
           "Nova Olímpia"
          ],
          [
           "Nova Londrina"
          ],
          [
           "Nova Laranjeiras"
          ],
          [
           "Nova Fátima"
          ],
          [
           "Paraíso do Norte"
          ],
          [
           "Nova Esperança do Sudoeste"
          ],
          [
           "Paranacity"
          ],
          [
           "Paranavaí"
          ],
          [
           "Planaltina do Paraná"
          ],
          [
           "Pitangueiras"
          ],
          [
           "Pitanga"
          ],
          [
           "Piraquara"
          ],
          [
           "Piraí do Sul"
          ],
          [
           "Pinhão"
          ],
          [
           "Pinhalão"
          ],
          [
           "Pinhal de São Bento"
          ],
          [
           "Piên"
          ],
          [
           "Pérola d'Oeste"
          ],
          [
           "Pérola"
          ],
          [
           "Perobal"
          ],
          [
           "Peabiru"
          ],
          [
           "Paulo Frontin"
          ],
          [
           "Paula Freitas"
          ],
          [
           "Pato Branco"
          ],
          [
           "Pato Bragado"
          ],
          [
           "Paranapoema"
          ],
          [
           "Nova Esperança"
          ],
          [
           "Nova Cantu"
          ],
          [
           "Nova Aurora"
          ],
          [
           "Marilândia do Sul"
          ],
          [
           "Marialva"
          ],
          [
           "Maria Helena"
          ],
          [
           "Marechal Cândido Rondon"
          ],
          [
           "Manoel Ribas"
          ],
          [
           "Mangueirinha"
          ],
          [
           "Manfrinópolis"
          ],
          [
           "Mandirituba"
          ],
          [
           "Mandaguari"
          ],
          [
           "Mandaguaçu"
          ],
          [
           "Mamborê"
          ],
          [
           "Mallet"
          ],
          [
           "Lupionópolis"
          ],
          [
           "Lunardelli"
          ],
          [
           "Luiziana"
          ],
          [
           "Lobato"
          ],
          [
           "Loanda"
          ],
          [
           "Marilena"
          ],
          [
           "Mariluz"
          ],
          [
           "Mariópolis"
          ],
          [
           "Maripá"
          ],
          [
           "Nova América da Colina"
          ],
          [
           "Nova Aliança do Ivaí"
          ],
          [
           "Nossa Senhora das Graças"
          ],
          [
           "Munhoz de Melo"
          ],
          [
           "Morretes"
          ],
          [
           "Moreira Sales"
          ],
          [
           "Missal"
          ],
          [
           "Miraselva"
          ],
          [
           "Engenheiro Beltrão"
          ],
          [
           "Mirador"
          ],
          [
           "Medianeira"
          ],
          [
           "Mauá da Serra"
          ],
          [
           "Mato Rico"
          ],
          [
           "Matinhos"
          ],
          [
           "Matelândia"
          ],
          [
           "Marumbi"
          ],
          [
           "Marquinho"
          ],
          [
           "Marmeleiro"
          ],
          [
           "Mercedes"
          ],
          [
           "Enéas Marques"
          ],
          [
           "Doutor Ulysses"
          ],
          [
           "Doutor Camargo"
          ],
          [
           "Teixeira"
          ],
          [
           "Tavares"
          ],
          [
           "Taperoá"
          ],
          [
           "Tacima"
          ],
          [
           "Sumé"
          ],
          [
           "Sousa"
          ],
          [
           "Sossêgo"
          ],
          [
           "Soledade"
          ],
          [
           "Solânea"
          ],
          [
           "Sobrado"
          ],
          [
           "Sertãozinho"
          ],
          [
           "Serraria"
          ],
          [
           "Serra Redonda"
          ],
          [
           "Serra Grande"
          ],
          [
           "Serra da Raiz"
          ],
          [
           "Serra Branca"
          ],
          [
           "Sapé"
          ],
          [
           "Tenório"
          ],
          [
           "São Vicente do Seridó"
          ],
          [
           "Triunfo"
          ],
          [
           "Umbuzeiro"
          ],
          [
           "Anahy"
          ],
          [
           "Ampére"
          ],
          [
           "Amaporã"
          ],
          [
           "Alvorada do Sul"
          ],
          [
           "Altônia"
          ],
          [
           "Alto Piquiri"
          ],
          [
           "Alto Paraná"
          ],
          [
           "Alto Paraíso"
          ],
          [
           "Altamira do Paraná"
          ],
          [
           "Almirante Tamandaré"
          ],
          [
           "Agudos do Sul"
          ],
          [
           "Adrianópolis"
          ],
          [
           "Abatiá"
          ],
          [
           "Wanderlândia"
          ],
          [
           "Vista Serrana"
          ],
          [
           "Vieirópolis"
          ],
          [
           "Várzea"
          ],
          [
           "Uiraúna"
          ],
          [
           "São Sebastião do Umbuzeiro"
          ],
          [
           "São Sebastião de Lagoa de Roça"
          ],
          [
           "São Miguel de Taipu"
          ],
          [
           "Santa Teresinha"
          ],
          [
           "Santa Rita"
          ],
          [
           "Santa Luzia"
          ],
          [
           "Santa Inês"
          ],
          [
           "Santa Helena"
          ],
          [
           "Santa Cruz"
          ],
          [
           "Santa Cecília"
          ],
          [
           "Salgado de São Félix"
          ],
          [
           "Salgadinho"
          ],
          [
           "Rio Tinto"
          ],
          [
           "Riacho dos Cavalos"
          ],
          [
           "Riacho de Santo Antônio"
          ],
          [
           "Riachão do Poço"
          ],
          [
           "Riachão do Bacamarte"
          ],
          [
           "Riachão"
          ],
          [
           "Remígio"
          ],
          [
           "Quixabá"
          ],
          [
           "Santana de Mangueira"
          ],
          [
           "Santana dos Garrotes"
          ],
          [
           "Santo André"
          ],
          [
           "São Bentinho"
          ],
          [
           "São Mamede"
          ],
          [
           "São José dos Ramos"
          ],
          [
           "São José dos Cordeiros"
          ],
          [
           "São José do Sabugi"
          ],
          [
           "São José do Brejo do Cruz"
          ],
          [
           "São José do Bonfim"
          ],
          [
           "São José de Princesa"
          ],
          [
           "São José de Piranhas"
          ],
          [
           "Andirá"
          ],
          [
           "São José de Espinharas"
          ],
          [
           "São José da Lagoa Tapada"
          ],
          [
           "São João do Tigre"
          ],
          [
           "São João do Rio do Peixe"
          ],
          [
           "São João do Cariri"
          ],
          [
           "São Francisco"
          ],
          [
           "São Domingos do Cariri"
          ],
          [
           "São Domingos"
          ],
          [
           "São Bento"
          ],
          [
           "São José de Caiana"
          ],
          [
           "Planalto"
          ],
          [
           "Ângulo"
          ],
          [
           "Antônio Olinto"
          ],
          [
           "Clevelândia"
          ],
          [
           "Cidade Gaúcha"
          ],
          [
           "Cianorte"
          ],
          [
           "Chopinzinho"
          ],
          [
           "Céu Azul"
          ],
          [
           "Cerro Azul"
          ],
          [
           "Centenário do Sul"
          ],
          [
           "Catanduvas"
          ],
          [
           "Castro"
          ],
          [
           "Carlópolis"
          ],
          [
           "Carambeí"
          ],
          [
           "Capitão Leônidas Marques"
          ],
          [
           "Capanema"
          ],
          [
           "Cantagalo"
          ],
          [
           "Candói"
          ],
          [
           "Cândido de Abreu"
          ],
          [
           "Campo Mourão"
          ],
          [
           "Colombo"
          ],
          [
           "Campo Magro"
          ],
          [
           "Colorado"
          ],
          [
           "Conselheiro Mairinck"
          ],
          [
           "Douradina"
          ],
          [
           "Dois Vizinhos"
          ],
          [
           "Diamante D'Oeste"
          ],
          [
           "Diamante do Sul"
          ],
          [
           "Diamante do Norte"
          ],
          [
           "Curiúva"
          ],
          [
           "Cruzmaltina"
          ],
          [
           "Cruzeiro do Sul"
          ],
          [
           "Cruzeiro do Oeste"
          ],
          [
           "Cruzeiro do Iguaçu"
          ],
          [
           "Cruz Machado"
          ],
          [
           "Corumbataí do Sul"
          ],
          [
           "Coronel Vivida"
          ],
          [
           "Coronel Domingos Soares"
          ],
          [
           "Cornélio Procópio"
          ],
          [
           "Corbélia"
          ],
          [
           "Contenda"
          ],
          [
           "Congonhinhas"
          ],
          [
           "Campo Largo"
          ],
          [
           "Campo do Tenente"
          ],
          [
           "Campo Bonito"
          ],
          [
           "Bela Vista do Paraíso"
          ],
          [
           "Bela Vista da Caroba"
          ],
          [
           "Barracão"
          ],
          [
           "Barra do Jacaré"
          ],
          [
           "Barbosa Ferraz"
          ],
          [
           "Bandeirantes"
          ],
          [
           "Balsa Nova"
          ],
          [
           "Atalaia"
          ],
          [
           "Astorga"
          ],
          [
           "Assis Chateaubriand"
          ],
          [
           "Assaí"
          ],
          [
           "Ariranha do Ivaí"
          ],
          [
           "Araruna"
          ],
          [
           "Arapuã"
          ],
          [
           "Arapoti"
          ],
          [
           "Arapongas"
          ],
          [
           "Apucarana"
          ],
          [
           "Bituruna"
          ],
          [
           "Boa Esperança"
          ],
          [
           "Boa Esperança do Iguaçu"
          ],
          [
           "Boa Ventura de São Roque"
          ],
          [
           "Campina Grande do Sul"
          ],
          [
           "Campina do Simão"
          ],
          [
           "Campina da Lagoa"
          ],
          [
           "Cambira"
          ],
          [
           "Cambé"
          ],
          [
           "Cambará"
          ],
          [
           "Califórnia"
          ],
          [
           "Cafezal do Sul"
          ],
          [
           "Antonina"
          ],
          [
           "Cafelândia"
          ],
          [
           "Brasilândia do Sul"
          ],
          [
           "Braganey"
          ],
          [
           "Borrazópolis"
          ],
          [
           "Bom Sucesso do Sul"
          ],
          [
           "Bom Sucesso"
          ],
          [
           "Bom Jesus do Sul"
          ],
          [
           "Bocaiúva do Sul"
          ],
          [
           "Boa Vista da Aparecida"
          ],
          [
           "Cafeara"
          ],
          [
           "Pontal do Paraná"
          ],
          [
           "Porecatu"
          ],
          [
           "Porto Amazonas"
          ],
          [
           "Palmeirina"
          ],
          [
           "Palmares"
          ],
          [
           "Ouricuri"
          ],
          [
           "Orocó"
          ],
          [
           "Orobó"
          ],
          [
           "Nazaré da Mata"
          ],
          [
           "Moreno"
          ],
          [
           "Moreilândia"
          ],
          [
           "Mirandiba"
          ],
          [
           "Maraial"
          ],
          [
           "Manari"
          ],
          [
           "Machados"
          ],
          [
           "Macaparana"
          ],
          [
           "Limoeiro"
          ],
          [
           "Lajedo"
          ],
          [
           "Lagoa Grande"
          ],
          [
           "Lagoa dos Gatos"
          ],
          [
           "Panelas"
          ],
          [
           "Lagoa do Ouro"
          ],
          [
           "Paranatama"
          ],
          [
           "Passira"
          ],
          [
           "Saloá"
          ],
          [
           "Salgueiro"
          ],
          [
           "Salgadinho"
          ],
          [
           "Sairé"
          ],
          [
           "Rio Formoso"
          ],
          [
           "Ribeirão"
          ],
          [
           "Riacho das Almas"
          ],
          [
           "Quixaba"
          ],
          [
           "Quipapá"
          ],
          [
           "Primavera"
          ],
          [
           "Pombos"
          ],
          [
           "Poção"
          ],
          [
           "Petrolândia"
          ],
          [
           "Pesqueira"
          ],
          [
           "Pedra"
          ],
          [
           "Paulista"
          ],
          [
           "Paudalho"
          ],
          [
           "Parnamirim"
          ],
          [
           "Lagoa do Carro"
          ],
          [
           "Lagoa de Itaenga"
          ],
          [
           "Jurema"
          ],
          [
           "Gravatá"
          ],
          [
           "Granito"
          ],
          [
           "Goiana"
          ],
          [
           "Glória do Goitá"
          ],
          [
           "Garanhuns"
          ],
          [
           "Gameleira"
          ],
          [
           "Frei Miguelinho"
          ],
          [
           "Floresta"
          ],
          [
           "Flores"
          ],
          [
           "Ferreiros"
          ],
          [
           "Fernando de Noronha"
          ],
          [
           "Feira Nova"
          ],
          [
           "Exu"
          ],
          [
           "Escada"
          ],
          [
           "Dormentes"
          ],
          [
           "Custódia"
          ],
          [
           "Cupira"
          ],
          [
           "Iati"
          ],
          [
           "Ibimirim"
          ],
          [
           "Ibirajuba"
          ],
          [
           "Igarassu"
          ],
          [
           "Jupi"
          ],
          [
           "Jucati"
          ],
          [
           "Joaquim Nabuco"
          ],
          [
           "João Alfredo"
          ],
          [
           "Jatobá"
          ],
          [
           "Jataúba"
          ],
          [
           "Jaqueira"
          ],
          [
           "Itaquitinga"
          ],
          [
           "Sanharó"
          ],
          [
           "Itapissuma"
          ],
          [
           "Itambé"
          ],
          [
           "Itaíba"
          ],
          [
           "Itacuruba"
          ],
          [
           "Ipubi"
          ],
          [
           "Ingazeira"
          ],
          [
           "Inajá"
          ],
          [
           "Ilha de Itamaracá"
          ],
          [
           "Iguaraci"
          ],
          [
           "Itapetim"
          ],
          [
           "Cumaru"
          ],
          [
           "Santa Cruz"
          ],
          [
           "Santa Cruz do Capibaribe"
          ],
          [
           "Barra D'Alcântara"
          ],
          [
           "Baixa Grande do Ribeiro"
          ],
          [
           "Avelino Lopes"
          ],
          [
           "Assunção do Piauí"
          ],
          [
           "Arraial"
          ],
          [
           "Aroeiras do Itaim"
          ],
          [
           "Aroazes"
          ],
          [
           "Antônio Almeida"
          ],
          [
           "Anísio de Abreu"
          ],
          [
           "Angical do Piauí"
          ],
          [
           "Amarante"
          ],
          [
           "Alvorada do Gurguéia"
          ],
          [
           "Altos"
          ],
          [
           "Alto Longá"
          ],
          [
           "Alegrete do Piauí"
          ],
          [
           "Alagoinha do Piauí"
          ],
          [
           "Água Branca"
          ],
          [
           "Barras"
          ],
          [
           "Agricolândia"
          ],
          [
           "Barreiras do Piauí"
          ],
          [
           "Batalha"
          ],
          [
           "Cajazeiras do Piauí"
          ],
          [
           "Cabeceiras do Piauí"
          ],
          [
           "Buriti dos Montes"
          ],
          [
           "Buriti dos Lopes"
          ],
          [
           "Brejo do Piauí"
          ],
          [
           "Brasileira"
          ],
          [
           "Boqueirão do Piauí"
          ],
          [
           "Bonfim do Piauí"
          ],
          [
           "Bom Princípio do Piauí"
          ],
          [
           "Bom Jesus"
          ],
          [
           "Bocaina"
          ],
          [
           "Boa Hora"
          ],
          [
           "Betânia do Piauí"
          ],
          [
           "Bertolínia"
          ],
          [
           "Beneditinos"
          ],
          [
           "Belém do Piauí"
          ],
          [
           "Bela Vista do Piauí"
          ],
          [
           "Barro Duro"
          ],
          [
           "Acauã"
          ],
          [
           "Xexéu"
          ],
          [
           "Vitória de Santo Antão"
          ],
          [
           "Sertânia"
          ],
          [
           "Serrita"
          ],
          [
           "Serra Talhada"
          ],
          [
           "São Vicente Ferrer"
          ],
          [
           "São Lourenço da Mata"
          ],
          [
           "São José do Egito"
          ],
          [
           "São José do Belmonte"
          ],
          [
           "São José da Coroa Grande"
          ],
          [
           "São Joaquim do Monte"
          ],
          [
           "São João"
          ],
          [
           "São Caitano"
          ],
          [
           "São Bento do Una"
          ],
          [
           "São Benedito do Sul"
          ],
          [
           "Santa Terezinha"
          ],
          [
           "Santa Maria do Cambucá"
          ],
          [
           "Santa Maria da Boa Vista"
          ],
          [
           "Santa Filomena"
          ],
          [
           "Sirinhaém"
          ],
          [
           "Solidão"
          ],
          [
           "Surubim"
          ],
          [
           "Tabira"
          ],
          [
           "Vicência"
          ],
          [
           "Vertentes"
          ],
          [
           "Vertente do Lério"
          ],
          [
           "Verdejante"
          ],
          [
           "Venturosa"
          ],
          [
           "Tuparetama"
          ],
          [
           "Tupanatinga"
          ],
          [
           "Triunfo"
          ],
          [
           "Santa Cruz da Baixa Verde"
          ],
          [
           "Trindade"
          ],
          [
           "Toritama"
          ],
          [
           "Timbaúba"
          ],
          [
           "Terra Nova"
          ],
          [
           "Terezinha"
          ],
          [
           "Taquaritinga do Norte"
          ],
          [
           "Tamandaré"
          ],
          [
           "Tacaratu"
          ],
          [
           "Tacaimbó"
          ],
          [
           "Tracunhaém"
          ],
          [
           "Muliterno"
          ],
          [
           "Cortês"
          ],
          [
           "Condado"
          ],
          [
           "Santo Inácio"
          ],
          [
           "Santo Antônio do Sudoeste"
          ],
          [
           "Santo Antônio do Paraíso"
          ],
          [
           "Santo Antônio do Caiuá"
          ],
          [
           "Santo Antônio da Platina"
          ],
          [
           "Santana do Itararé"
          ],
          [
           "Santa Terezinha de Itaipu"
          ],
          [
           "Santa Tereza do Oeste"
          ],
          [
           "Santa Mônica"
          ],
          [
           "Santa Mariana"
          ],
          [
           "Santa Maria do Oeste"
          ],
          [
           "Santa Lúcia"
          ],
          [
           "Santa Izabel do Oeste"
          ],
          [
           "Santa Isabel do Ivaí"
          ],
          [
           "Santa Inês"
          ],
          [
           "Santa Helena"
          ],
          [
           "Santa Fé"
          ],
          [
           "São Carlos do Ivaí"
          ],
          [
           "Santa Cruz de Monte Castelo"
          ],
          [
           "São Jerônimo da Serra"
          ],
          [
           "São João do Caiuá"
          ],
          [
           "Sarandi"
          ],
          [
           "Sapopema"
          ],
          [
           "São Tomé"
          ],
          [
           "São Sebastião da Amoreira"
          ],
          [
           "São Pedro do Paraná"
          ],
          [
           "São Pedro do Ivaí"
          ],
          [
           "São Pedro do Iguaçu"
          ],
          [
           "São Miguel do Iguaçu"
          ],
          [
           "São Mateus do Sul"
          ],
          [
           "São Manoel do Paraná"
          ],
          [
           "São José das Palmeiras"
          ],
          [
           "São José da Boa Vista"
          ],
          [
           "São Jorge d'Oeste"
          ],
          [
           "São Jorge do Patrocínio"
          ],
          [
           "São Jorge do Ivaí"
          ],
          [
           "São João do Triunfo"
          ],
          [
           "São João do Ivaí"
          ],
          [
           "São João"
          ],
          [
           "Santa Cecília do Pavão"
          ],
          [
           "Santa Amélia"
          ],
          [
           "Salto do Lontra"
          ],
          [
           "Ramilândia"
          ],
          [
           "Quitandinha"
          ],
          [
           "Quinta do Sol"
          ],
          [
           "Querência do Norte"
          ],
          [
           "Quedas do Iguaçu"
          ],
          [
           "Quatro Pontes"
          ],
          [
           "Quatro Barras"
          ],
          [
           "Quatiguá"
          ],
          [
           "Quarto Centenário"
          ],
          [
           "Prudentópolis"
          ],
          [
           "Primeiro de Maio"
          ],
          [
           "Presidente Castelo Branco"
          ],
          [
           "Pranchita"
          ],
          [
           "Prado Ferreira"
          ],
          [
           "Porto Vitória"
          ],
          [
           "Porto Rico"
          ],
          [
           "Porto Barreiro"
          ],
          [
           "Rancho Alegre"
          ],
          [
           "Rancho Alegre D'Oeste"
          ],
          [
           "Realeza"
          ],
          [
           "Rebouças"
          ],
          [
           "Salto do Itararé"
          ],
          [
           "Salgado Filho"
          ],
          [
           "Sabáudia"
          ],
          [
           "Rosário do Ivaí"
          ],
          [
           "Rondon"
          ],
          [
           "Roncador"
          ],
          [
           "Rolândia"
          ],
          [
           "Rio Negro"
          ],
          [
           "Saudade do Iguaçu"
          ],
          [
           "Rio Branco do Sul"
          ],
          [
           "Rio Bonito do Iguaçu"
          ],
          [
           "Rio Bom"
          ],
          [
           "Rio Azul"
          ],
          [
           "Ribeirão do Pinhal"
          ],
          [
           "Ribeirão Claro"
          ],
          [
           "Reserva do Iguaçu"
          ],
          [
           "Reserva"
          ],
          [
           "Renascença"
          ],
          [
           "Rio Branco do Ivaí"
          ],
          [
           "Correntes"
          ],
          [
           "Sengés"
          ],
          [
           "Sertaneja"
          ],
          [
           "Brejinho"
          ],
          [
           "Brejão"
          ],
          [
           "Bonito"
          ],
          [
           "Bom Jardim"
          ],
          [
           "Bom Conselho"
          ],
          [
           "Bodocó"
          ],
          [
           "Bezerros"
          ],
          [
           "Betânia"
          ],
          [
           "Belo Jardim"
          ],
          [
           "Belém do São Francisco"
          ],
          [
           "Belém de Maria"
          ],
          [
           "Barreiros"
          ],
          [
           "Barra de Guabiraba"
          ],
          [
           "Arcoverde"
          ],
          [
           "Araripina"
          ],
          [
           "Araçoiaba"
          ],
          [
           "Angelim"
          ],
          [
           "Brejo da Madre de Deus"
          ],
          [
           "Amaraji"
          ],
          [
           "Buenos Aires"
          ],
          [
           "Cabrobó"
          ],
          [
           "Chã Grande"
          ],
          [
           "Chã de Alegria"
          ],
          [
           "Cedro"
          ],
          [
           "Catende"
          ],
          [
           "Casinhas"
          ],
          [
           "Carpina"
          ],
          [
           "Carnaubeira da Penha"
          ],
          [
           "Carnaíba"
          ],
          [
           "Capoeiras"
          ],
          [
           "Canhotinho"
          ],
          [
           "Camutanga"
          ],
          [
           "Camocim de São Félix"
          ],
          [
           "Camaragibe"
          ],
          [
           "Calumbi"
          ],
          [
           "Calçado"
          ],
          [
           "Caetés"
          ],
          [
           "Cachoeirinha"
          ],
          [
           "Buíque"
          ],
          [
           "Altinho"
          ],
          [
           "Aliança"
          ],
          [
           "Alagoinha"
          ],
          [
           "Três Barras do Paraná"
          ],
          [
           "Tomazina"
          ],
          [
           "Toledo"
          ],
          [
           "Tijucas do Sul"
          ],
          [
           "Tibagi"
          ],
          [
           "Terra Roxa"
          ],
          [
           "Terra Rica"
          ],
          [
           "Terra Boa"
          ],
          [
           "Telêmaco Borba"
          ],
          [
           "Teixeira Soares"
          ],
          [
           "Tapira"
          ],
          [
           "Tapejara"
          ],
          [
           "Tamboara"
          ],
          [
           "Tamarana"
          ],
          [
           "Sulina"
          ],
          [
           "Siqueira Campos"
          ],
          [
           "Sertanópolis"
          ],
          [
           "Tunas do Paraná"
          ],
          [
           "Tuneiras do Oeste"
          ],
          [
           "Tupãssi"
          ],
          [
           "Turvo"
          ],
          [
           "Águas Belas"
          ],
          [
           "Água Preta"
          ],
          [
           "Agrestina"
          ],
          [
           "Afrânio"
          ],
          [
           "Afogados da Ingazeira"
          ],
          [
           "Abreu e Lima"
          ],
          [
           "Xambrê"
          ],
          [
           "Wenceslau Braz"
          ],
          [
           "Serranópolis do Iguaçu"
          ],
          [
           "Vitorino"
          ],
          [
           "Verê"
          ],
          [
           "Vera Cruz do Oeste"
          ],
          [
           "Ventania"
          ],
          [
           "Uraí"
          ],
          [
           "Uniflor"
          ],
          [
           "União da Vitória"
          ],
          [
           "Umuarama"
          ],
          [
           "Ubiratã"
          ],
          [
           "Virmond"
          ],
          [
           "Queimadas"
          ],
          [
           "Não-Me-Toque"
          ],
          [
           "Nonoai"
          ],
          [
           "Novais"
          ],
          [
           "Nova Odessa"
          ],
          [
           "Nova Luzitânia"
          ],
          [
           "Nova Independência"
          ],
          [
           "Nova Guataporanga"
          ],
          [
           "Nova Granada"
          ],
          [
           "Nova Europa"
          ],
          [
           "Nova Castilho"
          ],
          [
           "Nova Canaã Paulista"
          ],
          [
           "Nova Campina"
          ],
          [
           "Nova Aliança"
          ],
          [
           "Nipoã"
          ],
          [
           "Nhandeara"
          ],
          [
           "Neves Paulista"
          ],
          [
           "Nazaré Paulista"
          ],
          [
           "Natividade da Serra"
          ],
          [
           "Narandiba"
          ],
          [
           "Novo Horizonte"
          ],
          [
           "Nantes"
          ],
          [
           "Nuporanga"
          ],
          [
           "Óleo"
          ],
          [
           "Paraguaçu Paulista"
          ],
          [
           "Panorama"
          ],
          [
           "Palmital"
          ],
          [
           "Palmeira d'Oeste"
          ],
          [
           "Palmares Paulista"
          ],
          [
           "Palestina"
          ],
          [
           "Pacaembu"
          ],
          [
           "Ouroeste"
          ],
          [
           "Ouro Verde"
          ],
          [
           "Ourinhos"
          ],
          [
           "Osvaldo Cruz"
          ],
          [
           "Oscar Bressane"
          ],
          [
           "Orlândia"
          ],
          [
           "Orindiúva"
          ],
          [
           "Oriente"
          ],
          [
           "Onda Verde"
          ],
          [
           "Olímpia"
          ],
          [
           "Ocauçu"
          ],
          [
           "Paraibuna"
          ],
          [
           "Murutinga do Sul"
          ],
          [
           "Morungaba"
          ],
          [
           "Mesópolis"
          ],
          [
           "Meridiano"
          ],
          [
           "Mendonça"
          ],
          [
           "Matão"
          ],
          [
           "Martinópolis"
          ],
          [
           "Marinópolis"
          ],
          [
           "Mariápolis"
          ],
          [
           "Marapoama"
          ],
          [
           "Maracaí"
          ],
          [
           "Marabá Paulista"
          ],
          [
           "Manduri"
          ],
          [
           "Mairiporã"
          ],
          [
           "Mairinque"
          ],
          [
           "Magda"
          ],
          [
           "Macedônia"
          ],
          [
           "Macaubal"
          ],
          [
           "Macatuba"
          ],
          [
           "Miguelópolis"
          ],
          [
           "Motuca"
          ],
          [
           "Mineiros do Tietê"
          ],
          [
           "Miracatu"
          ],
          [
           "Morro Agudo"
          ],
          [
           "Monteiro Lobato"
          ],
          [
           "Monte Mor"
          ],
          [
           "Monte Castelo"
          ],
          [
           "Monte Azul Paulista"
          ],
          [
           "Monte Aprazível"
          ],
          [
           "Monte Alto"
          ],
          [
           "Monte Alegre do Sul"
          ],
          [
           "Mongaguá"
          ],
          [
           "Monções"
          ],
          [
           "Mombuca"
          ],
          [
           "Moji Mirim"
          ],
          [
           "Mococa"
          ],
          [
           "Mirassolândia"
          ],
          [
           "Mirassol"
          ],
          [
           "Mirante do Paranapanema"
          ],
          [
           "Mirandópolis"
          ],
          [
           "Mira Estrela"
          ],
          [
           "Paraíso"
          ],
          [
           "Paranapanema"
          ],
          [
           "Paranapuã"
          ],
          [
           "Queiroz"
          ],
          [
           "Quatá"
          ],
          [
           "Quadra"
          ],
          [
           "Promissão"
          ],
          [
           "Presidente Venceslau"
          ],
          [
           "Presidente Epitácio"
          ],
          [
           "Presidente Bernardes"
          ],
          [
           "Presidente Alves"
          ],
          [
           "Pratânia"
          ],
          [
           "Pradópolis"
          ],
          [
           "Pracinha"
          ],
          [
           "Potirendaba"
          ],
          [
           "Potim"
          ],
          [
           "Porto Ferreira"
          ],
          [
           "Porto Feliz"
          ],
          [
           "Porangaba"
          ],
          [
           "Populina"
          ],
          [
           "Queluz"
          ],
          [
           "Pontes Gestal"
          ],
          [
           "Quintana"
          ],
          [
           "Rancharia"
          ],
          [
           "Rio das Pedras"
          ],
          [
           "Rinópolis"
          ],
          [
           "Rincão"
          ],
          [
           "Rifaina"
          ],
          [
           "Ribeirão Pires"
          ],
          [
           "Ribeirão Grande"
          ],
          [
           "Ribeirão dos Índios"
          ],
          [
           "Ribeirão do Sul"
          ],
          [
           "Ribeirão Corrente"
          ],
          [
           "Ribeirão Branco"
          ],
          [
           "Ribeirão Bonito"
          ],
          [
           "Ribeira"
          ],
          [
           "Restinga"
          ],
          [
           "Registro"
          ],
          [
           "Reginópolis"
          ],
          [
           "Regente Feijó"
          ],
          [
           "Redenção da Serra"
          ],
          [
           "Rafard"
          ],
          [
           "Pontalinda"
          ],
          [
           "Pontal"
          ],
          [
           "Pongaí"
          ],
          [
           "Pereira Barreto"
          ],
          [
           "Penápolis"
          ],
          [
           "Pedro de Toledo"
          ],
          [
           "Pedrinhas Paulista"
          ],
          [
           "Pedreira"
          ],
          [
           "Pedregulho"
          ],
          [
           "Pedranópolis"
          ],
          [
           "Pedra Bela"
          ],
          [
           "Pederneiras"
          ],
          [
           "Paulo de Faria"
          ],
          [
           "Paulistânia"
          ],
          [
           "Paulicéia"
          ],
          [
           "Patrocínio Paulista"
          ],
          [
           "Parisi"
          ],
          [
           "Pariquera-Açu"
          ],
          [
           "Pardinho"
          ],
          [
           "Parapuã"
          ],
          [
           "Pereiras"
          ],
          [
           "Peruíbe"
          ],
          [
           "Piacatu"
          ],
          [
           "Piedade"
          ],
          [
           "Pompéia"
          ],
          [
           "Poloni"
          ],
          [
           "Platina"
          ],
          [
           "Planalto"
          ],
          [
           "Pitangueiras"
          ],
          [
           "Piratininga"
          ],
          [
           "Pirassununga"
          ],
          [
           "Pirapozinho"
          ],
          [
           "Lutécia"
          ],
          [
           "Pirapora do Bom Jesus"
          ],
          [
           "Pirajuí"
          ],
          [
           "Piraju"
          ],
          [
           "Piracaia"
          ],
          [
           "Piquete"
          ],
          [
           "Piquerobi"
          ],
          [
           "Pinhalzinho"
          ],
          [
           "Pindorama"
          ],
          [
           "Pilar do Sul"
          ],
          [
           "Pirangi"
          ],
          [
           "Lupércio"
          ],
          [
           "Luiziânia"
          ],
          [
           "Luís Antônio"
          ],
          [
           "Gália"
          ],
          [
           "Gabriel Monteiro"
          ],
          [
           "Franco da Rocha"
          ],
          [
           "Francisco Morato"
          ],
          [
           "Florínia"
          ],
          [
           "Flórida Paulista"
          ],
          [
           "Floreal"
          ],
          [
           "Flora Rica"
          ],
          [
           "Ferraz de Vasconcelos"
          ],
          [
           "Fernão"
          ],
          [
           "Fernandópolis"
          ],
          [
           "Fernando Prestes"
          ],
          [
           "Fartura"
          ],
          [
           "Euclides da Cunha Paulista"
          ],
          [
           "Estrela d'Oeste"
          ],
          [
           "Estrela do Norte"
          ],
          [
           "Estiva Gerbi"
          ],
          [
           "Garça"
          ],
          [
           "Espírito Santo do Turvo"
          ],
          [
           "Gastão Vidigal"
          ],
          [
           "General Salgado"
          ],
          [
           "Guatapará"
          ],
          [
           "Guariba"
          ],
          [
           "Guareí"
          ],
          [
           "Guararema"
          ],
          [
           "Guararapes"
          ],
          [
           "Guarantã"
          ],
          [
           "Guarani d'Oeste"
          ],
          [
           "Guaraci"
          ],
          [
           "Guaraçaí"
          ],
          [
           "Guará"
          ],
          [
           "Guapiara"
          ],
          [
           "Guapiaçu"
          ],
          [
           "Guaíra"
          ],
          [
           "Guaimbê"
          ],
          [
           "Guaiçara"
          ],
          [
           "Glicério"
          ],
          [
           "Getulina"
          ],
          [
           "Gavião Peixoto"
          ],
          [
           "Espírito Santo do Pinhal"
          ],
          [
           "Engenheiro Coelho"
          ],
          [
           "Emilianópolis"
          ],
          [
           "Cosmópolis"
          ],
          [
           "Corumbataí"
          ],
          [
           "Coronel Macedo"
          ],
          [
           "Coroados"
          ],
          [
           "Cordeirópolis"
          ],
          [
           "Conchas"
          ],
          [
           "Conchal"
          ],
          [
           "Colômbia"
          ],
          [
           "Colina"
          ],
          [
           "Clementina"
          ],
          [
           "Chavantes"
          ],
          [
           "Charqueada"
          ],
          [
           "Cesário Lange"
          ],
          [
           "Cerquilho"
          ],
          [
           "Cerqueira César"
          ],
          [
           "Cedral"
          ],
          [
           "Catiguá"
          ],
          [
           "Cosmorama"
          ],
          [
           "Cravinhos"
          ],
          [
           "Cristais Paulista"
          ],
          [
           "Cruzália"
          ],
          [
           "Embu-Guaçu"
          ],
          [
           "Embaúba"
          ],
          [
           "Elisiário"
          ],
          [
           "Elias Fausto"
          ],
          [
           "Eldorado"
          ],
          [
           "Echaporã"
          ],
          [
           "Dumont"
          ],
          [
           "Duartina"
          ],
          [
           "Guzolândia"
          ],
          [
           "Dracena"
          ],
          [
           "Dolcinópolis"
          ],
          [
           "Dois Córregos"
          ],
          [
           "Dobrada"
          ],
          [
           "Divinolândia"
          ],
          [
           "Dirce Reis"
          ],
          [
           "Descalvado"
          ],
          [
           "Cunha"
          ],
          [
           "Cruzeiro"
          ],
          [
           "Dourado"
          ],
          [
           "Rio Grande da Serra"
          ],
          [
           "Herculândia"
          ],
          [
           "Iacanga"
          ],
          [
           "Jaú"
          ],
          [
           "Jarinu"
          ],
          [
           "Jardinópolis"
          ],
          [
           "Jandira"
          ],
          [
           "Jambeiro"
          ],
          [
           "Jales"
          ],
          [
           "Jacupiranga"
          ],
          [
           "Jaci"
          ],
          [
           "Jaboticabal"
          ],
          [
           "Jaborandi"
          ],
          [
           "Ituverava"
          ],
          [
           "Itupeva"
          ],
          [
           "Itobi"
          ],
          [
           "Itirapuã"
          ],
          [
           "Itirapina"
          ],
          [
           "Itatinga"
          ],
          [
           "Itariri"
          ],
          [
           "Jeriquara"
          ],
          [
           "Itararé"
          ],
          [
           "Joanópolis"
          ],
          [
           "José Bonifácio"
          ],
          [
           "Lucianópolis"
          ],
          [
           "Lucélia"
          ],
          [
           "Lourdes"
          ],
          [
           "Lorena"
          ],
          [
           "Lins"
          ],
          [
           "Lindóia"
          ],
          [
           "Lençóis Paulista"
          ],
          [
           "Leme"
          ],
          [
           "Lavrinhas"
          ],
          [
           "Lavínia"
          ],
          [
           "Laranjal Paulista"
          ],
          [
           "Lagoinha"
          ],
          [
           "Juquitiba"
          ],
          [
           "Juquiá"
          ],
          [
           "Junqueirópolis"
          ],
          [
           "Jumirim"
          ],
          [
           "Júlio Mesquita"
          ],
          [
           "João Ramalho"
          ],
          [
           "Itapura"
          ],
          [
           "Itapuí"
          ],
          [
           "Itaporanga"
          ],
          [
           "Indiana"
          ],
          [
           "Ilhabela"
          ],
          [
           "Ilha Solteira"
          ],
          [
           "Ilha Comprida"
          ],
          [
           "Iguape"
          ],
          [
           "Igaratá"
          ],
          [
           "Igarapava"
          ],
          [
           "Igaraçu do Tietê"
          ],
          [
           "Iepê"
          ],
          [
           "Icém"
          ],
          [
           "Ibiúna"
          ],
          [
           "Ibitinga"
          ],
          [
           "Ibirarema"
          ],
          [
           "Ibirá"
          ],
          [
           "Ibaté"
          ],
          [
           "Iaras"
          ],
          [
           "Iacri"
          ],
          [
           "Indiaporã"
          ],
          [
           "Inúbia Paulista"
          ],
          [
           "Ipaussu"
          ],
          [
           "Iperó"
          ],
          [
           "Itápolis"
          ],
          [
           "Itapirapuã Paulista"
          ],
          [
           "Itapira"
          ],
          [
           "Itapeva"
          ],
          [
           "Itapetininga"
          ],
          [
           "Itaóca"
          ],
          [
           "Itanhaém"
          ],
          [
           "Itaju"
          ],
          [
           "Holambra"
          ],
          [
           "Itajobi"
          ],
          [
           "Itaberá"
          ],
          [
           "Irapuru"
          ],
          [
           "Irapuã"
          ],
          [
           "Iracemápolis"
          ],
          [
           "Ipuã"
          ],
          [
           "Iporanga"
          ],
          [
           "Ipiguá"
          ],
          [
           "Ipeúna"
          ],
          [
           "Itaí"
          ],
          [
           "Catanduva"
          ],
          [
           "Riolândia"
          ],
          [
           "Rosana"
          ],
          [
           "Campos Lindos"
          ],
          [
           "Cachoeirinha"
          ],
          [
           "Buriti do Tocantins"
          ],
          [
           "Brejinho de Nazaré"
          ],
          [
           "Brasilândia do Tocantins"
          ],
          [
           "Bom Jesus do Tocantins"
          ],
          [
           "Bernardo Sayão"
          ],
          [
           "Barrolândia"
          ],
          [
           "Barra do Ouro"
          ],
          [
           "Bandeirantes do Tocantins"
          ],
          [
           "Babaçulândia"
          ],
          [
           "Axixá do Tocantins"
          ],
          [
           "Aurora do Tocantins"
          ],
          [
           "Augustinópolis"
          ],
          [
           "Arraias"
          ],
          [
           "Arapoema"
          ],
          [
           "Araguatins"
          ],
          [
           "Cariri do Tocantins"
          ],
          [
           "Araguanã"
          ],
          [
           "Carmolândia"
          ],
          [
           "Caseara"
          ],
          [
           "Fátima"
          ],
          [
           "Esperantina"
          ],
          [
           "Dueré"
          ],
          [
           "Dois Irmãos do Tocantins"
          ],
          [
           "Divinópolis do Tocantins"
          ],
          [
           "Dianópolis"
          ],
          [
           "Darcinópolis"
          ],
          [
           "Crixás do Tocantins"
          ],
          [
           "Cristalândia"
          ],
          [
           "Couto Magalhães"
          ],
          [
           "Conceição do Tocantins"
          ],
          [
           "Combinado"
          ],
          [
           "Colméia"
          ],
          [
           "Colinas do Tocantins"
          ],
          [
           "Chapada de Areia"
          ],
          [
           "Chapada da Natividade"
          ],
          [
           "Centenário"
          ],
          [
           "Carrasco Bonito"
          ],
          [
           "Figueirópolis"
          ],
          [
           "Araguaína"
          ],
          [
           "Araguacema"
          ],
          [
           "Santa Rosa de Lima"
          ],
          [
           "Santa Luzia do Itanhy"
          ],
          [
           "Salgado"
          ],
          [
           "Rosário do Catete"
          ],
          [
           "Ribeirópolis"
          ],
          [
           "Riachuelo"
          ],
          [
           "Riachão do Dantas"
          ],
          [
           "Propriá"
          ],
          [
           "Porto da Folha"
          ],
          [
           "Poço Verde"
          ],
          [
           "Poço Redondo"
          ],
          [
           "Pirambu"
          ],
          [
           "Pinhão"
          ],
          [
           "Pedrinhas"
          ],
          [
           "Pedra Mole"
          ],
          [
           "Pacatuba"
          ],
          [
           "Nossa Senhora do Socorro"
          ],
          [
           "Santana do São Francisco"
          ],
          [
           "Araguaçu"
          ],
          [
           "Santo Amaro das Brotas"
          ],
          [
           "São Domingos"
          ],
          [
           "Aragominas"
          ],
          [
           "Aparecida do Rio Negro"
          ],
          [
           "Angico"
          ],
          [
           "Ananás"
          ],
          [
           "Alvorada"
          ],
          [
           "Almas"
          ],
          [
           "Aliança do Tocantins"
          ],
          [
           "Aguiarnópolis"
          ],
          [
           "Abreulândia"
          ],
          [
           "Umbaúba"
          ],
          [
           "Tomar do Geru"
          ],
          [
           "Tobias Barreto"
          ],
          [
           "Telha"
          ],
          [
           "Siriri"
          ],
          [
           "Simão Dias"
          ],
          [
           "São Miguel do Aleixo"
          ],
          [
           "São Francisco"
          ],
          [
           "São Cristóvão"
          ],
          [
           "Filadélfia"
          ],
          [
           "Formoso do Araguaia"
          ],
          [
           "Fortaleza do Tabocão"
          ],
          [
           "Santa Fé do Araguaia"
          ],
          [
           "Sandolândia"
          ],
          [
           "Sampaio"
          ],
          [
           "Rio Sono"
          ],
          [
           "Rio dos Bois"
          ],
          [
           "Rio da Conceição"
          ],
          [
           "Riachinho"
          ],
          [
           "Recursolândia"
          ],
          [
           "Pugmil"
          ],
          [
           "Presidente Kennedy"
          ],
          [
           "Praia Norte"
          ],
          [
           "Porto Nacional"
          ],
          [
           "Porto Alegre do Tocantins"
          ],
          [
           "Ponte Alta do Tocantins"
          ],
          [
           "Ponte Alta do Bom Jesus"
          ],
          [
           "Pium"
          ],
          [
           "Piraquê"
          ],
          [
           "Santa Maria do Tocantins"
          ],
          [
           "Pindorama do Tocantins"
          ],
          [
           "Santa Rita do Tocantins"
          ],
          [
           "Santa Tereza do Tocantins"
          ],
          [
           "Tupiratins"
          ],
          [
           "Tupirama"
          ],
          [
           "Tocantinópolis"
          ],
          [
           "Tocantínia"
          ],
          [
           "Talismã"
          ],
          [
           "Taipas do Tocantins"
          ],
          [
           "Taguatinga"
          ],
          [
           "Sucupira"
          ],
          [
           "Sítio Novo do Tocantins"
          ],
          [
           "Silvanópolis"
          ],
          [
           "São Valério"
          ],
          [
           "São Sebastião do Tocantins"
          ],
          [
           "São Salvador do Tocantins"
          ],
          [
           "São Miguel do Tocantins"
          ],
          [
           "São Félix do Tocantins"
          ],
          [
           "São Bento do Tocantins"
          ],
          [
           "Santa Terezinha do Tocantins"
          ],
          [
           "Santa Rosa do Tocantins"
          ],
          [
           "Pequizeiro"
          ],
          [
           "Peixe"
          ],
          [
           "Pedro Afonso"
          ],
          [
           "Luzinópolis"
          ],
          [
           "Lizarda"
          ],
          [
           "Lavandeira"
          ],
          [
           "Lajeado"
          ],
          [
           "Lagoa do Tocantins"
          ],
          [
           "Lagoa da Confusão"
          ],
          [
           "Juarina"
          ],
          [
           "Jaú do Tocantins"
          ],
          [
           "Itaporã do Tocantins"
          ],
          [
           "Itapiratins"
          ],
          [
           "Itaguatins"
          ],
          [
           "Itacajá"
          ],
          [
           "Ipueiras"
          ],
          [
           "Gurupi"
          ],
          [
           "Guaraí"
          ],
          [
           "Goiatins"
          ],
          [
           "Goianorte"
          ],
          [
           "Marianópolis do Tocantins"
          ],
          [
           "Mateiros"
          ],
          [
           "Maurilândia do Tocantins"
          ],
          [
           "Miracema do Tocantins"
          ],
          [
           "Pau D'Arco"
          ],
          [
           "Paranã"
          ],
          [
           "Paraíso do Tocantins"
          ],
          [
           "Palmeirópolis"
          ],
          [
           "Palmeiras do Tocantins"
          ],
          [
           "Palmeirante"
          ],
          [
           "Oliveira de Fátima"
          ],
          [
           "Novo Jardim"
          ],
          [
           "Nossa Senhora de Lourdes"
          ],
          [
           "Novo Alegre"
          ],
          [
           "Nova Rosalândia"
          ],
          [
           "Nova Olinda"
          ],
          [
           "Nazaré"
          ],
          [
           "Natividade"
          ],
          [
           "Muricilândia"
          ],
          [
           "Monte Santo do Tocantins"
          ],
          [
           "Monte do Carmo"
          ],
          [
           "Miranorte"
          ],
          [
           "Novo Acordo"
          ],
          [
           "Nossa Senhora das Dores"
          ],
          [
           "Nossa Senhora da Glória"
          ],
          [
           "Nossa Senhora Aparecida"
          ],
          [
           "São Simão"
          ],
          [
           "São Sebastião da Grama"
          ],
          [
           "São Roque"
          ],
          [
           "São Pedro do Turvo"
          ],
          [
           "São Pedro"
          ],
          [
           "São Miguel Arcanjo"
          ],
          [
           "São Manuel"
          ],
          [
           "São Luís do Paraitinga"
          ],
          [
           "São Lourenço da Serra"
          ],
          [
           "São José do Rio Pardo"
          ],
          [
           "São José do Barreiro"
          ],
          [
           "São José da Bela Vista"
          ],
          [
           "São Joaquim da Barra"
          ],
          [
           "São João do Pau d'Alho"
          ],
          [
           "São João de Iracema"
          ],
          [
           "São João das Duas Pontes"
          ],
          [
           "São João da Boa Vista"
          ],
          [
           "Sarapuí"
          ],
          [
           "São Francisco"
          ],
          [
           "Sarutaiá"
          ],
          [
           "Serra Azul"
          ],
          [
           "Tapiraí"
          ],
          [
           "Tanabi"
          ],
          [
           "Tambaú"
          ],
          [
           "Taiúva"
          ],
          [
           "Taiaçu"
          ],
          [
           "Taguaí"
          ],
          [
           "Taciba"
          ],
          [
           "Tabatinga"
          ],
          [
           "Tabapuã"
          ],
          [
           "Suzanápolis"
          ],
          [
           "Sud Mennucci"
          ],
          [
           "Socorro"
          ],
          [
           "Silveiras"
          ],
          [
           "Severínia"
          ],
          [
           "Sete Barras"
          ],
          [
           "Serrana"
          ],
          [
           "Serra Negra"
          ],
          [
           "Sebastianópolis do Sul"
          ],
          [
           "São Bento do Sapucaí"
          ],
          [
           "Santópolis do Aguapeí"
          ],
          [
           "Santo Expedito"
          ],
          [
           "Santa Clara d'Oeste"
          ],
          [
           "Santa Branca"
          ],
          [
           "Santa Albertina"
          ],
          [
           "Santa Adélia"
          ],
          [
           "Sandovalina"
          ],
          [
           "Salto Grande"
          ],
          [
           "Salto de Pirapora"
          ],
          [
           "Saltinho"
          ],
          [
           "Salmourão"
          ],
          [
           "Salesópolis"
          ],
          [
           "Sales Oliveira"
          ],
          [
           "Sales"
          ],
          [
           "Sagres"
          ],
          [
           "Sabino"
          ],
          [
           "Rubinéia"
          ],
          [
           "Rubiácea"
          ],
          [
           "Roseira"
          ],
          [
           "Santa Cruz da Conceição"
          ],
          [
           "Santa Cruz da Esperança"
          ],
          [
           "Santa Cruz das Palmeiras"
          ],
          [
           "Santa Cruz do Rio Pardo"
          ],
          [
           "Santo Antônio do Pinhal"
          ],
          [
           "Santo Antônio do Jardim"
          ],
          [
           "Santo Antônio do Aracanguá"
          ],
          [
           "Santo Antônio de Posse"
          ],
          [
           "Santo Antônio da Alegria"
          ],
          [
           "Santo Anastácio"
          ],
          [
           "Santana da Ponte Pensa"
          ],
          [
           "Santa Salete"
          ],
          [
           "Tapiratiba"
          ],
          [
           "Santa Rosa de Viterbo"
          ],
          [
           "Santa Rita do Passa Quatro"
          ],
          [
           "Santa Mercedes"
          ],
          [
           "Santa Maria da Serra"
          ],
          [
           "Santa Lúcia"
          ],
          [
           "Santa Isabel"
          ],
          [
           "Santa Gertrudes"
          ],
          [
           "Santa Fé do Sul"
          ],
          [
           "Santa Ernestina"
          ],
          [
           "Santa Rita d'Oeste"
          ],
          [
           "Riversul"
          ],
          [
           "Taquaral"
          ],
          [
           "Taquarituba"
          ],
          [
           "Frei Paulo"
          ],
          [
           "Feira Nova"
          ],
          [
           "Estância"
          ],
          [
           "Divina Pastora"
          ],
          [
           "Cumbe"
          ],
          [
           "Cristinápolis"
          ],
          [
           "Cedro de São João"
          ],
          [
           "Carmópolis"
          ],
          [
           "Carira"
          ],
          [
           "Capela"
          ],
          [
           "Canindé de São Francisco"
          ],
          [
           "Canhoba"
          ],
          [
           "Campo do Brito"
          ],
          [
           "Brejo Grande"
          ],
          [
           "Boquim"
          ],
          [
           "Barra dos Coqueiros"
          ],
          [
           "Areia Branca"
          ],
          [
           "Gararu"
          ],
          [
           "Arauá"
          ],
          [
           "General Maynard"
          ],
          [
           "Ilha das Flores"
          ],
          [
           "Neópolis"
          ],
          [
           "Muribeca"
          ],
          [
           "Monte Alegre de Sergipe"
          ],
          [
           "Moita Bonita"
          ],
          [
           "Maruim"
          ],
          [
           "Malhador"
          ],
          [
           "Malhada dos Bois"
          ],
          [
           "Macambira"
          ],
          [
           "Laranjeiras"
          ],
          [
           "Lagarto"
          ],
          [
           "Japoatã"
          ],
          [
           "Japaratuba"
          ],
          [
           "Itaporanga d'Ajuda"
          ],
          [
           "Itabi"
          ],
          [
           "Itabaianinha"
          ],
          [
           "Itabaiana"
          ],
          [
           "Indiaroba"
          ],
          [
           "Gracho Cardoso"
          ],
          [
           "Aquidabã"
          ],
          [
           "Amparo de São Francisco"
          ],
          [
           "Zacarias"
          ],
          [
           "Tupi Paulista"
          ],
          [
           "Tupã"
          ],
          [
           "Tuiuti"
          ],
          [
           "Três Fronteiras"
          ],
          [
           "Tremembé"
          ],
          [
           "Trabiju"
          ],
          [
           "Torrinha"
          ],
          [
           "Torre de Pedra"
          ],
          [
           "Timburi"
          ],
          [
           "Tietê"
          ],
          [
           "Terra Roxa"
          ],
          [
           "Teodoro Sampaio"
          ],
          [
           "Tejupá"
          ],
          [
           "Tatuí"
          ],
          [
           "Tarumã"
          ],
          [
           "Tarabai"
          ],
          [
           "Taquarivaí"
          ],
          [
           "Turiúba"
          ],
          [
           "Turmalina"
          ],
          [
           "Ubarana"
          ],
          [
           "Ubatuba"
          ],
          [
           "Votuporanga"
          ],
          [
           "Votorantim"
          ],
          [
           "Vitória Brasil"
          ],
          [
           "Vista Alegre do Alto"
          ],
          [
           "Viradouro"
          ],
          [
           "Vera Cruz"
          ],
          [
           "Várzea Paulista"
          ],
          [
           "Vargem Grande Paulista"
          ],
          [
           "Taquaritinga"
          ],
          [
           "Vargem Grande do Sul"
          ],
          [
           "Valparaíso"
          ],
          [
           "Valentim Gentil"
          ],
          [
           "Urupês"
          ],
          [
           "Uru"
          ],
          [
           "Urânia"
          ],
          [
           "União Paulista"
          ],
          [
           "Uchoa"
          ],
          [
           "Ubirajara"
          ],
          [
           "Vargem"
          ],
          [
           "Castilho"
          ],
          [
           "Cássia dos Coqueiros"
          ],
          [
           "Casa Branca"
          ],
          [
           "Castanheiras"
          ],
          [
           "Candeias do Jamari"
          ],
          [
           "Campo Novo de Rondônia"
          ],
          [
           "Cacoal"
          ],
          [
           "Cacaulândia"
          ],
          [
           "Cabixi"
          ],
          [
           "Buritis"
          ],
          [
           "Ariquemes"
          ],
          [
           "Alvorada D'Oeste"
          ],
          [
           "Alto Paraíso"
          ],
          [
           "Alto Alegre dos Parecis"
          ],
          [
           "Alta Floresta D'Oeste"
          ],
          [
           "Xangri-lá"
          ],
          [
           "Westfalia"
          ],
          [
           "Vitória das Missões"
          ],
          [
           "Vista Gaúcha"
          ],
          [
           "Vista Alegre do Prata"
          ],
          [
           "Cerejeiras"
          ],
          [
           "Vista Alegre"
          ],
          [
           "Chupinguaia"
          ],
          [
           "Corumbiara"
          ],
          [
           "Ouro Preto do Oeste"
          ],
          [
           "Novo Horizonte do Oeste"
          ],
          [
           "Nova União"
          ],
          [
           "Nova Mamoré"
          ],
          [
           "Nova Brasilândia D'Oeste"
          ],
          [
           "Monte Negro"
          ],
          [
           "Mirante da Serra"
          ],
          [
           "Ministro Andreazza"
          ],
          [
           "Machadinho D'Oeste"
          ],
          [
           "Ji-Paraná"
          ],
          [
           "Jaru"
          ],
          [
           "Itapuã do Oeste"
          ],
          [
           "Guajará-Mirim"
          ],
          [
           "Governador Jorge Teixeira"
          ],
          [
           "Espigão D'Oeste"
          ],
          [
           "Cujubim"
          ],
          [
           "Costa Marques"
          ],
          [
           "Colorado do Oeste"
          ],
          [
           "Parecis"
          ],
          [
           "Vila Nova do Sul"
          ],
          [
           "Vila Lângaro"
          ],
          [
           "Tupanciretã"
          ],
          [
           "Tupanci do Sul"
          ],
          [
           "Tunas"
          ],
          [
           "Tucunduva"
          ],
          [
           "Trindade do Sul"
          ],
          [
           "Três Passos"
          ],
          [
           "Três Palmeiras"
          ],
          [
           "Três Forquilhas"
          ],
          [
           "Três de Maio"
          ],
          [
           "Três Coroas"
          ],
          [
           "Três Cachoeiras"
          ],
          [
           "Três Arroios"
          ],
          [
           "Travesseiro"
          ],
          [
           "Tramandaí"
          ],
          [
           "Torres"
          ],
          [
           "Toropi"
          ],
          [
           "Tiradentes do Sul"
          ],
          [
           "Tupandi"
          ],
          [
           "Vila Maria"
          ],
          [
           "Tuparendi"
          ],
          [
           "Ubiretama"
          ],
          [
           "Vila Flores"
          ],
          [
           "Victor Graeff"
          ],
          [
           "Vicente Dutra"
          ],
          [
           "Viamão"
          ],
          [
           "Viadutos"
          ],
          [
           "Vespasiano Correa"
          ],
          [
           "Veranópolis"
          ],
          [
           "Vera Cruz"
          ],
          [
           "Venâncio Aires"
          ],
          [
           "Vanini"
          ],
          [
           "Vale Verde"
          ],
          [
           "Vale Real"
          ],
          [
           "Vale do Sol"
          ],
          [
           "Vacaria"
          ],
          [
           "Uruguaiana"
          ],
          [
           "Unistalda"
          ],
          [
           "União da Serra"
          ],
          [
           "Turuçu"
          ],
          [
           "Pimenta Bueno"
          ],
          [
           "Pimenteiras do Oeste"
          ],
          [
           "Presidente Médici"
          ],
          [
           "Barra Velha"
          ],
          [
           "Barra Bonita"
          ],
          [
           "Bandeirante"
          ],
          [
           "Balneário Piçarras"
          ],
          [
           "Balneário Gaivota"
          ],
          [
           "Balneário Barra do Sul"
          ],
          [
           "Balneário Arroio do Silva"
          ],
          [
           "Aurora"
          ],
          [
           "Atalanta"
          ],
          [
           "Ascurra"
          ],
          [
           "Arvoredo"
          ],
          [
           "Arroio Trinta"
          ],
          [
           "Armazém"
          ],
          [
           "Araranguá"
          ],
          [
           "Araquari"
          ],
          [
           "Arabutã"
          ],
          [
           "Apiúna"
          ],
          [
           "Bela Vista do Toldo"
          ],
          [
           "Antônio Carlos"
          ],
          [
           "Belmonte"
          ],
          [
           "Biguaçu"
          ],
          [
           "Campo Erê"
          ],
          [
           "Campo Belo do Sul"
          ],
          [
           "Campo Alegre"
          ],
          [
           "Camboriú"
          ],
          [
           "Calmon"
          ],
          [
           "Caibi"
          ],
          [
           "Caçador"
          ],
          [
           "Brunópolis"
          ],
          [
           "Braço do Trombudo"
          ],
          [
           "Braço do Norte"
          ],
          [
           "Botuverá"
          ],
          [
           "Bombinhas"
          ],
          [
           "Bom Retiro"
          ],
          [
           "Bom Jesus do Oeste"
          ],
          [
           "Bom Jesus"
          ],
          [
           "Bom Jardim da Serra"
          ],
          [
           "Bocaina do Sul"
          ],
          [
           "Benedito Novo"
          ],
          [
           "Anitápolis"
          ],
          [
           "Anita Garibaldi"
          ],
          [
           "Angelina"
          ],
          [
           "Bonfim"
          ],
          [
           "Amajari"
          ],
          [
           "Alto Alegre"
          ],
          [
           "Vilhena"
          ],
          [
           "Vale do Paraíso"
          ],
          [
           "Vale do Anari"
          ],
          [
           "Urupá"
          ],
          [
           "Theobroma"
          ],
          [
           "Teixeirópolis"
          ],
          [
           "Seringueiras"
          ],
          [
           "São Miguel do Guaporé"
          ],
          [
           "São Francisco do Guaporé"
          ],
          [
           "São Felipe D'Oeste"
          ],
          [
           "Santa Luzia D'Oeste"
          ],
          [
           "Rolim de Moura"
          ],
          [
           "Rio Crespo"
          ],
          [
           "Primavera de Rondônia"
          ],
          [
           "Cantá"
          ],
          [
           "Caracaraí"
          ],
          [
           "Caroebe"
          ],
          [
           "Iracema"
          ],
          [
           "Anchieta"
          ],
          [
           "Alto Bela Vista"
          ],
          [
           "Alfredo Wagner"
          ],
          [
           "Águas Mornas"
          ],
          [
           "Águas Frias"
          ],
          [
           "Águas de Chapecó"
          ],
          [
           "Água Doce"
          ],
          [
           "Agronômica"
          ],
          [
           "Tio Hugo"
          ],
          [
           "Agrolândia"
          ],
          [
           "Abdon Batista"
          ],
          [
           "Uiramutã"
          ],
          [
           "São Luiz"
          ],
          [
           "São João da Baliza"
          ],
          [
           "Rorainópolis"
          ],
          [
           "Pacaraima"
          ],
          [
           "Normandia"
          ],
          [
           "Mucajaí"
          ],
          [
           "Abelardo Luz"
          ],
          [
           "Teutônia"
          ],
          [
           "Terra de Areia"
          ],
          [
           "Tenente Portela"
          ],
          [
           "Putinga"
          ],
          [
           "Protásio Alves"
          ],
          [
           "Progresso"
          ],
          [
           "Presidente Lucena"
          ],
          [
           "Pouso Novo"
          ],
          [
           "Porto Xavier"
          ],
          [
           "Porto Vera Cruz"
          ],
          [
           "Porto Mauá"
          ],
          [
           "Porto Lucena"
          ],
          [
           "Portão"
          ],
          [
           "Ponte Preta"
          ],
          [
           "Pontão"
          ],
          [
           "Poço das Antas"
          ],
          [
           "Planalto"
          ],
          [
           "Piratini"
          ],
          [
           "Pirapó"
          ],
          [
           "Pinheiro Machado"
          ],
          [
           "Quaraí"
          ],
          [
           "Pinheirinho do Vale"
          ],
          [
           "Quatro Irmãos"
          ],
          [
           "Quinze de Novembro"
          ],
          [
           "Salto do Jacuí"
          ],
          [
           "Saldanha Marinho"
          ],
          [
           "Sagrada Família"
          ],
          [
           "Rosário do Sul"
          ],
          [
           "Roque Gonzales"
          ],
          [
           "Rondinha"
          ],
          [
           "Ronda Alta"
          ],
          [
           "Rolante"
          ],
          [
           "Rolador"
          ],
          [
           "Rodeio Bonito"
          ],
          [
           "Roca Sales"
          ],
          [
           "Riozinho"
          ],
          [
           "Rio Pardo"
          ],
          [
           "Rio dos Índios"
          ],
          [
           "Restinga Seca"
          ],
          [
           "Relvado"
          ],
          [
           "Redentora"
          ],
          [
           "Quevedos"
          ],
          [
           "Pinhal Grande"
          ],
          [
           "Pinhal da Serra"
          ],
          [
           "Pinhal"
          ],
          [
           "Novo Cabrais"
          ],
          [
           "Novo Barreiro"
          ],
          [
           "Nova Santa Rita"
          ],
          [
           "Nova Roma do Sul"
          ],
          [
           "Nova Ramada"
          ],
          [
           "Nova Prata"
          ],
          [
           "Nova Petrópolis"
          ],
          [
           "Nova Palma"
          ],
          [
           "Nova Pádua"
          ],
          [
           "Nova Hartz"
          ],
          [
           "Nova Esperança do Sul"
          ],
          [
           "Nova Candelária"
          ],
          [
           "Nova Bréscia"
          ],
          [
           "Nova Boa Vista"
          ],
          [
           "Nova Bassano"
          ],
          [
           "Nova Araçá"
          ],
          [
           "Nova Alvorada"
          ],
          [
           "Novo Machado"
          ],
          [
           "Novo Tiradentes"
          ],
          [
           "Novo Xingu"
          ],
          [
           "Osório"
          ],
          [
           "Picada Café"
          ],
          [
           "Pejuçara"
          ],
          [
           "Pedro Osório"
          ],
          [
           "Pedras Altas"
          ],
          [
           "Paverama"
          ],
          [
           "Paulo Bento"
          ],
          [
           "Passo do Sobrado"
          ],
          [
           "Passa Sete"
          ],
          [
           "Salvador das Missões"
          ],
          [
           "Parobé"
          ],
          [
           "Paraíso do Sul"
          ],
          [
           "Paraí"
          ],
          [
           "Pantano Grande"
          ],
          [
           "Panambi"
          ],
          [
           "Palmitinho"
          ],
          [
           "Palmeira das Missões"
          ],
          [
           "Palmares do Sul"
          ],
          [
           "Paim Filho"
          ],
          [
           "Pareci Novo"
          ],
          [
           "Campos Novos"
          ],
          [
           "Salvador do Sul"
          ],
          [
           "Santa Bárbara do Sul"
          ],
          [
           "Segredo"
          ],
          [
           "Sede Nova"
          ],
          [
           "Seberi"
          ],
          [
           "Sarandi"
          ],
          [
           "Sapucaia do Sul"
          ],
          [
           "Sapiranga"
          ],
          [
           "São Vicente do Sul"
          ],
          [
           "São Vendelino"
          ],
          [
           "São Valério do Sul"
          ],
          [
           "São Valentim do Sul"
          ],
          [
           "São Valentim"
          ],
          [
           "São Sepé"
          ],
          [
           "São Sebastião do Caí"
          ],
          [
           "São Pedro do Sul"
          ],
          [
           "São Pedro do Butiá"
          ],
          [
           "São Pedro das Missões"
          ],
          [
           "São Pedro da Serra"
          ],
          [
           "Selbach"
          ],
          [
           "São Paulo das Missões"
          ],
          [
           "Senador Salgado Filho"
          ],
          [
           "Serafina Corrêa"
          ],
          [
           "Tavares"
          ],
          [
           "Taquaruçu do Sul"
          ],
          [
           "Taquari"
          ],
          [
           "Taquara"
          ],
          [
           "Tapes"
          ],
          [
           "Tapera"
          ],
          [
           "Tapejara"
          ],
          [
           "Tabaí"
          ],
          [
           "Soledade"
          ],
          [
           "Sobradinho"
          ],
          [
           "Sinimbu"
          ],
          [
           "Silveira Martins"
          ],
          [
           "Severiano de Almeida"
          ],
          [
           "Sete de Setembro"
          ],
          [
           "Sertão Santana"
          ],
          [
           "Sertão"
          ],
          [
           "Sério"
          ],
          [
           "Sentinela do Sul"
          ],
          [
           "São Nicolau"
          ],
          [
           "São Miguel das Missões"
          ],
          [
           "São Martinho da Serra"
          ],
          [
           "Santo Cristo"
          ],
          [
           "Santo Augusto"
          ],
          [
           "Santo Antônio do Planalto"
          ],
          [
           "Santo Antônio do Palma"
          ],
          [
           "Santo Antônio das Missões"
          ],
          [
           "Santo Antônio da Patrulha"
          ],
          [
           "Santo Ângelo"
          ],
          [
           "Santiago"
          ],
          [
           "Sant'Ana do Livramento"
          ],
          [
           "Santana da Boa Vista"
          ],
          [
           "Santa Vitória do Palmar"
          ],
          [
           "Santa Tereza"
          ],
          [
           "Santa Rosa"
          ],
          [
           "Santa Maria do Herval"
          ],
          [
           "Santa Margarida do Sul"
          ],
          [
           "Santa Clara do Sul"
          ],
          [
           "Santa Cecília do Sul"
          ],
          [
           "Santo Expedito do Sul"
          ],
          [
           "São Borja"
          ],
          [
           "São Domingos do Sul"
          ],
          [
           "São Francisco de Assis"
          ],
          [
           "São Martinho"
          ],
          [
           "São Marcos"
          ],
          [
           "São Luiz Gonzaga"
          ],
          [
           "São Lourenço do Sul"
          ],
          [
           "São José dos Ausentes"
          ],
          [
           "São José do Sul"
          ],
          [
           "São José do Ouro"
          ],
          [
           "São José do Norte"
          ],
          [
           "Sananduva"
          ],
          [
           "São José do Inhacorá"
          ],
          [
           "São José do Herval"
          ],
          [
           "São José das Missões"
          ],
          [
           "São Jorge"
          ],
          [
           "São João do Polêsine"
          ],
          [
           "São João da Urtiga"
          ],
          [
           "São Jerônimo"
          ],
          [
           "São Gabriel"
          ],
          [
           "São Francisco de Paula"
          ],
          [
           "São José do Hortêncio"
          ],
          [
           "Canelinha"
          ],
          [
           "Canoinhas"
          ],
          [
           "Capão Alto"
          ],
          [
           "Águas de Lindóia"
          ],
          [
           "Águas da Prata"
          ],
          [
           "Aguaí"
          ],
          [
           "Adolfo"
          ],
          [
           "Adamantina"
          ],
          [
           "Zortéa"
          ],
          [
           "Xaxim"
          ],
          [
           "Xavantina"
          ],
          [
           "Xanxerê"
          ],
          [
           "Witmarsum"
          ],
          [
           "Vitor Meireles"
          ],
          [
           "Videira"
          ],
          [
           "Vidal Ramos"
          ],
          [
           "Vargem Bonita"
          ],
          [
           "Vargem"
          ],
          [
           "Vargeão"
          ],
          [
           "Urussanga"
          ],
          [
           "Águas de Santa Bárbara"
          ],
          [
           "Urupema"
          ],
          [
           "Águas de São Pedro"
          ],
          [
           "Alambari"
          ],
          [
           "Anhumas"
          ],
          [
           "Anhembi"
          ],
          [
           "Angatuba"
          ],
          [
           "Andradina"
          ],
          [
           "Analândia"
          ],
          [
           "Amparo"
          ],
          [
           "Américo de Campos"
          ],
          [
           "Américo Brasiliense"
          ],
          [
           "Alvinlândia"
          ],
          [
           "Álvaro de Carvalho"
          ],
          [
           "Álvares Machado"
          ],
          [
           "Álvares Florence"
          ],
          [
           "Alumínio"
          ],
          [
           "Alto Alegre"
          ],
          [
           "Altinópolis"
          ],
          [
           "Altair"
          ],
          [
           "Alfredo Marcondes"
          ],
          [
           "Agudos"
          ],
          [
           "Urubici"
          ],
          [
           "União do Oeste"
          ],
          [
           "Turvo"
          ],
          [
           "São Miguel do Oeste"
          ],
          [
           "São Miguel da Boa Vista"
          ],
          [
           "São Martinho"
          ],
          [
           "São Ludgero"
          ],
          [
           "São Lourenço do Oeste"
          ],
          [
           "São José do Cerrito"
          ],
          [
           "São José do Cedro"
          ],
          [
           "São Joaquim"
          ],
          [
           "São João do Sul"
          ],
          [
           "São João do Oeste"
          ],
          [
           "São João do Itaperiú"
          ],
          [
           "São João Batista"
          ],
          [
           "São Francisco do Sul"
          ],
          [
           "São Domingos"
          ],
          [
           "São Cristovão do Sul"
          ],
          [
           "São Carlos"
          ],
          [
           "São Bonifácio"
          ],
          [
           "São Pedro de Alcântara"
          ],
          [
           "Saudades"
          ],
          [
           "Schroeder"
          ],
          [
           "Seara"
          ],
          [
           "Tunápolis"
          ],
          [
           "Tubarão"
          ],
          [
           "Trombudo Central"
          ],
          [
           "Treze Tílias"
          ],
          [
           "Treze de Maio"
          ],
          [
           "Treviso"
          ],
          [
           "Três Barras"
          ],
          [
           "Timbó Grande"
          ],
          [
           "Aparecida"
          ],
          [
           "Timbó"
          ],
          [
           "Tijucas"
          ],
          [
           "Tigrinhos"
          ],
          [
           "Tangará"
          ],
          [
           "Taió"
          ],
          [
           "Sul Brasil"
          ],
          [
           "Sombrio"
          ],
          [
           "Siderópolis"
          ],
          [
           "Serra Alta"
          ],
          [
           "Timbé do Sul"
          ],
          [
           "São Bernardino"
          ],
          [
           "Aparecida d'Oeste"
          ],
          [
           "Araçariguama"
          ],
          [
           "Caconde"
          ],
          [
           "Cachoeira Paulista"
          ],
          [
           "Caçapava"
          ],
          [
           "Cabreúva"
          ],
          [
           "Cabrália Paulista"
          ],
          [
           "Buritizal"
          ],
          [
           "Buritama"
          ],
          [
           "Buri"
          ],
          [
           "Brotas"
          ],
          [
           "Brodowski"
          ],
          [
           "Brejo Alegre"
          ],
          [
           "Braúna"
          ],
          [
           "Borebi"
          ],
          [
           "Borborema"
          ],
          [
           "Boracéia"
          ],
          [
           "Borá"
          ],
          [
           "Bom Sucesso de Itararé"
          ],
          [
           "Cafelândia"
          ],
          [
           "Bom Jesus dos Perdões"
          ],
          [
           "Caiabu"
          ],
          [
           "Caiuá"
          ],
          [
           "Cardoso"
          ],
          [
           "Caraguatatuba"
          ],
          [
           "Capivari"
          ],
          [
           "Capela do Alto"
          ],
          [
           "Capão Bonito"
          ],
          [
           "Canitar"
          ],
          [
           "Cândido Rodrigues"
          ],
          [
           "Cândido Mota"
          ],
          [
           "Canas"
          ],
          [
           "Cananéia"
          ],
          [
           "Campos Novos Paulista"
          ],
          [
           "Campos do Jordão"
          ],
          [
           "Campo Limpo Paulista"
          ],
          [
           "Campina do Monte Alegre"
          ],
          [
           "Cajuru"
          ],
          [
           "Cajobi"
          ],
          [
           "Cajati"
          ],
          [
           "Caieiras"
          ],
          [
           "Boituva"
          ],
          [
           "Bofete"
          ],
          [
           "Bocaina"
          ],
          [
           "Avaré"
          ],
          [
           "Avanhandava"
          ],
          [
           "Avaí"
          ],
          [
           "Auriflama"
          ],
          [
           "Assis"
          ],
          [
           "Aspásia"
          ],
          [
           "Arujá"
          ],
          [
           "Artur Nogueira"
          ],
          [
           "Ariranha"
          ],
          [
           "Areiópolis"
          ],
          [
           "Areias"
          ],
          [
           "Arealva"
          ],
          [
           "Arco-Íris"
          ],
          [
           "Arapeí"
          ],
          [
           "Arandu"
          ],
          [
           "Aramina"
          ],
          [
           "Araçoiaba da Serra"
          ],
          [
           "Bady Bassitt"
          ],
          [
           "Balbinos"
          ],
          [
           "Bálsamo"
          ],
          [
           "Bananal"
          ],
          [
           "Boa Esperança do Sul"
          ],
          [
           "Biritiba-Mirim"
          ],
          [
           "Birigui"
          ],
          [
           "Bilac"
          ],
          [
           "Bertioga"
          ],
          [
           "Bernardino de Campos"
          ],
          [
           "Bento de Abreu"
          ],
          [
           "Bebedouro"
          ],
          [
           "Apiaí"
          ],
          [
           "Batatais"
          ],
          [
           "Barrinha"
          ],
          [
           "Barretos"
          ],
          [
           "Barra do Turvo"
          ],
          [
           "Barra do Chapéu"
          ],
          [
           "Barra Bonita"
          ],
          [
           "Bariri"
          ],
          [
           "Barbosa"
          ],
          [
           "Barão de Antonina"
          ],
          [
           "Bastos"
          ],
          [
           "Nicolau Vergueiro"
          ],
          [
           "São Bento do Sul"
          ],
          [
           "Santiago do Sul"
          ],
          [
           "Irati"
          ],
          [
           "Irani"
          ],
          [
           "Iraceminha"
          ],
          [
           "Ipumirim"
          ],
          [
           "Ipuaçu"
          ],
          [
           "Iporã do Oeste"
          ],
          [
           "Ipira"
          ],
          [
           "Iomerê"
          ],
          [
           "Indaial"
          ],
          [
           "Imbuia"
          ],
          [
           "Imbituba"
          ],
          [
           "Imaruí"
          ],
          [
           "Ilhota"
          ],
          [
           "Içara"
          ],
          [
           "Ibirama"
          ],
          [
           "Ibicaré"
          ],
          [
           "Ibiam"
          ],
          [
           "Irineópolis"
          ],
          [
           "Herval d'Oeste"
          ],
          [
           "Itá"
          ],
          [
           "Itapema"
          ],
          [
           "Leoberto Leal"
          ],
          [
           "Lebon Régis"
          ],
          [
           "Lauro Muller"
          ],
          [
           "Laurentino"
          ],
          [
           "Lajeado Grande"
          ],
          [
           "Laguna"
          ],
          [
           "Lacerdópolis"
          ],
          [
           "Jupiá"
          ],
          [
           "José Boiteux"
          ],
          [
           "Joaçaba"
          ],
          [
           "Jardinópolis"
          ],
          [
           "Jaguaruna"
          ],
          [
           "Jacinto Machado"
          ],
          [
           "Jaborá"
          ],
          [
           "Ituporanga"
          ],
          [
           "Itapoá"
          ],
          [
           "Itapiranga"
          ],
          [
           "Itaiópolis"
          ],
          [
           "Guatambú"
          ],
          [
           "Guarujá do Sul"
          ],
          [
           "Guaramirim"
          ],
          [
           "Curitibanos"
          ],
          [
           "Cunhataí"
          ],
          [
           "Cunha Porã"
          ],
          [
           "Corupá"
          ],
          [
           "Correia Pinto"
          ],
          [
           "Coronel Martins"
          ],
          [
           "Coronel Freitas"
          ],
          [
           "Cordilheira Alta"
          ],
          [
           "Concórdia"
          ],
          [
           "Cocal do Sul"
          ],
          [
           "Chapadão do Lageado"
          ],
          [
           "Cerro Negro"
          ],
          [
           "Celso Ramos"
          ],
          [
           "Caxambu do Sul"
          ],
          [
           "Catanduvas"
          ],
          [
           "Capivari de Baixo"
          ],
          [
           "Capinzal"
          ],
          [
           "Descanso"
          ],
          [
           "Dionísio Cerqueira"
          ],
          [
           "Dona Emma"
          ],
          [
           "Doutor Pedrinho"
          ],
          [
           "Guaraciaba"
          ],
          [
           "Guabiruba"
          ],
          [
           "Gravatal"
          ],
          [
           "Grão Pará"
          ],
          [
           "Governador Celso Ramos"
          ],
          [
           "Gaspar"
          ],
          [
           "Garuva"
          ],
          [
           "Garopaba"
          ],
          [
           "Lindóia do Sul"
          ],
          [
           "Galvão"
          ],
          [
           "Fraiburgo"
          ],
          [
           "Forquilhinha"
          ],
          [
           "Formosa do Sul"
          ],
          [
           "Flor do Sertão"
          ],
          [
           "Faxinal dos Guedes"
          ],
          [
           "Erval Velho"
          ],
          [
           "Ermo"
          ],
          [
           "Entre Rios"
          ],
          [
           "Frei Rogério"
          ],
          [
           "Santo Amaro da Imperatriz"
          ],
          [
           "Lontras"
          ],
          [
           "Luzerna"
          ],
          [
           "Rancho Queimado"
          ],
          [
           "Quilombo"
          ],
          [
           "Princesa"
          ],
          [
           "Presidente Nereu"
          ],
          [
           "Presidente Getúlio"
          ],
          [
           "Presidente Castello Branco"
          ],
          [
           "Praia Grande"
          ],
          [
           "Pouso Redondo"
          ],
          [
           "Porto União"
          ],
          [
           "Porto Belo"
          ],
          [
           "Ponte Serrada"
          ],
          [
           "Ponte Alta do Norte"
          ],
          [
           "Ponte Alta"
          ],
          [
           "Pomerode"
          ],
          [
           "Planalto Alegre"
          ],
          [
           "Piratuba"
          ],
          [
           "Pinheiro Preto"
          ],
          [
           "Rio das Antas"
          ],
          [
           "Pinhalzinho"
          ],
          [
           "Rio do Campo"
          ],
          [
           "Rio do Sul"
          ],
          [
           "Santa Terezinha do Progresso"
          ],
          [
           "Santa Terezinha"
          ],
          [
           "Santa Rosa do Sul"
          ],
          [
           "Santa Rosa de Lima"
          ],
          [
           "Santa Helena"
          ],
          [
           "Santa Cecília"
          ],
          [
           "Sangão"
          ],
          [
           "Salto Veloso"
          ],
          [
           "Saltinho"
          ],
          [
           "Salete"
          ],
          [
           "Romelândia"
          ],
          [
           "Rodeio"
          ],
          [
           "Riqueza"
          ],
          [
           "Rio Rufino"
          ],
          [
           "Rio Negrinho"
          ],
          [
           "Rio Fortuna"
          ],
          [
           "Rio dos Cedros"
          ],
          [
           "Rio do Oeste"
          ],
          [
           "Petrolândia"
          ],
          [
           "Peritiba"
          ],
          [
           "Penha"
          ],
          [
           "Morro Grande"
          ],
          [
           "Morro da Fumaça"
          ],
          [
           "Monte Castelo"
          ],
          [
           "Monte Carlo"
          ],
          [
           "Mondaí"
          ],
          [
           "Modelo"
          ],
          [
           "Mirim Doce"
          ],
          [
           "Meleiro"
          ],
          [
           "Matos Costa"
          ],
          [
           "Massaranduba"
          ],
          [
           "Marema"
          ],
          [
           "Maravilha"
          ],
          [
           "Maracajá"
          ],
          [
           "Major Vieira"
          ],
          [
           "Major Gercino"
          ],
          [
           "Mafra"
          ],
          [
           "Macieira"
          ],
          [
           "Navegantes"
          ],
          [
           "Nova Erechim"
          ],
          [
           "Nova Itaberaba"
          ],
          [
           "Nova Trento"
          ],
          [
           "Pedras Grandes"
          ],
          [
           "Paulo Lopes"
          ],
          [
           "Passos Maia"
          ],
          [
           "Passo de Torres"
          ],
          [
           "Paraíso"
          ],
          [
           "Papanduva"
          ],
          [
           "Palmitos"
          ],
          [
           "Palmeira"
          ],
          [
           "Luiz Alves"
          ],
          [
           "Palma Sola"
          ],
          [
           "Painel"
          ],
          [
           "Paial"
          ],
          [
           "Ouro Verde"
          ],
          [
           "Ouro"
          ],
          [
           "Otacílio Costa"
          ],
          [
           "Orleans"
          ],
          [
           "Novo Horizonte"
          ],
          [
           "Nova Veneza"
          ],
          [
           "Palhoça"
          ],
          [
           "Puxinanã"
          ],
          [
           "Zabelê"
          ],
          [
           "Prata"
          ],
          [
           "Castelândia"
          ],
          [
           "Carmo do Rio Verde"
          ],
          [
           "Campos Verdes"
          ],
          [
           "Campos Belos"
          ],
          [
           "Campo Limpo de Goiás"
          ],
          [
           "Campo Alegre de Goiás"
          ],
          [
           "Campinorte"
          ],
          [
           "Campinaçu"
          ],
          [
           "Campestre de Goiás"
          ],
          [
           "Caldazinha"
          ],
          [
           "Caldas Novas"
          ],
          [
           "Caiapônia"
          ],
          [
           "Caçu"
          ],
          [
           "Cachoeira Dourada"
          ],
          [
           "Cachoeira de Goiás"
          ],
          [
           "Cachoeira Alta"
          ],
          [
           "Cabeceiras"
          ],
          [
           "Caturaí"
          ],
          [
           "Buritinópolis"
          ],
          [
           "Cavalcante"
          ],
          [
           "Cezarina"
          ],
          [
           "Divinópolis de Goiás"
          ],
          [
           "Diorama"
          ],
          [
           "Davinópolis"
          ],
          [
           "Damolândia"
          ],
          [
           "Damianópolis"
          ],
          [
           "Cumari"
          ],
          [
           "Cromínia"
          ],
          [
           "Crixás"
          ],
          [
           "Cristianópolis"
          ],
          [
           "Cristalina"
          ],
          [
           "Corumbaíba"
          ],
          [
           "Corumbá de Goiás"
          ],
          [
           "Córrego do Ouro"
          ],
          [
           "Colinas do Sul"
          ],
          [
           "Cocalzinho de Goiás"
          ],
          [
           "Cidade Ocidental"
          ],
          [
           "Chapadão do Céu"
          ],
          [
           "Ceres"
          ],
          [
           "Buriti de Goiás"
          ],
          [
           "Buriti Alegre"
          ],
          [
           "Britânia"
          ],
          [
           "Amaralina"
          ],
          [
           "Alvorada do Norte"
          ],
          [
           "Alto Paraíso de Goiás"
          ],
          [
           "Alto Horizonte"
          ],
          [
           "Aloândia"
          ],
          [
           "Alexânia"
          ],
          [
           "Águas Lindas de Goiás"
          ],
          [
           "Água Limpa"
          ],
          [
           "Água Fria de Goiás"
          ],
          [
           "Adelândia"
          ],
          [
           "Acreúna"
          ],
          [
           "Abadiânia"
          ],
          [
           "Abadia de Goiás"
          ],
          [
           "Vila Valério"
          ],
          [
           "Vila Pavão"
          ],
          [
           "Viana"
          ],
          [
           "Venda Nova do Imigrante"
          ],
          [
           "Americano do Brasil"
          ],
          [
           "Amorinópolis"
          ],
          [
           "Anhanguera"
          ],
          [
           "Anicuns"
          ],
          [
           "Brazabrantes"
          ],
          [
           "Bonópolis"
          ],
          [
           "Bonfinópolis"
          ],
          [
           "Bom Jesus de Goiás"
          ],
          [
           "Bom Jardim de Goiás"
          ],
          [
           "Bela Vista de Goiás"
          ],
          [
           "Barro Alto"
          ],
          [
           "Baliza"
          ],
          [
           "Doverlândia"
          ],
          [
           "Avelinópolis"
          ],
          [
           "Aruanã"
          ],
          [
           "Arenópolis"
          ],
          [
           "Araguapaz"
          ],
          [
           "Aragoiânia"
          ],
          [
           "Aragarças"
          ],
          [
           "Araçu"
          ],
          [
           "Aporé"
          ],
          [
           "Aparecida do Rio Doce"
          ],
          [
           "Aurilândia"
          ],
          [
           "Vargem Alta"
          ],
          [
           "Edealina"
          ],
          [
           "Estrela do Norte"
          ],
          [
           "Moiporá"
          ],
          [
           "Mineiros"
          ],
          [
           "Minaçu"
          ],
          [
           "Mimoso de Goiás"
          ],
          [
           "Maurilândia"
          ],
          [
           "Matrinchã"
          ],
          [
           "Marzagão"
          ],
          [
           "Mara Rosa"
          ],
          [
           "Mambaí"
          ],
          [
           "Mairipotaba"
          ],
          [
           "Luziânia"
          ],
          [
           "Leopoldo de Bulhões"
          ],
          [
           "Lagoa Santa"
          ],
          [
           "Jussara"
          ],
          [
           "Joviânia"
          ],
          [
           "Jesúpolis"
          ],
          [
           "Jaupaci"
          ],
          [
           "Monte Alegre de Goiás"
          ],
          [
           "Jataí"
          ],
          [
           "Montes Claros de Goiás"
          ],
          [
           "Montividiu do Norte"
          ],
          [
           "Novo Brasil"
          ],
          [
           "Nova Veneza"
          ],
          [
           "Nova Roma"
          ],
          [
           "Nova Iguaçu de Goiás"
          ],
          [
           "Nova Glória"
          ],
          [
           "Nova Crixás"
          ],
          [
           "Nova Aurora"
          ],
          [
           "Nova América"
          ],
          [
           "Niquelândia"
          ],
          [
           "Nerópolis"
          ],
          [
           "Nazário"
          ],
          [
           "Mutunópolis"
          ],
          [
           "Mundo Novo"
          ],
          [
           "Mozarlândia"
          ],
          [
           "Mossâmedes"
          ],
          [
           "Morro Agudo de Goiás"
          ],
          [
           "Morrinhos"
          ],
          [
           "Montividiu"
          ],
          [
           "Jaraguá"
          ],
          [
           "Jandaia"
          ],
          [
           "Ivolândia"
          ],
          [
           "Guarani de Goiás"
          ],
          [
           "Guaraíta"
          ],
          [
           "Guapó"
          ],
          [
           "Gouvelândia"
          ],
          [
           "Goiatuba"
          ],
          [
           "Goiás"
          ],
          [
           "Goianira"
          ],
          [
           "Goianésia"
          ],
          [
           "Goiandira"
          ],
          [
           "Goianápolis"
          ],
          [
           "Gameleira de Goiás"
          ],
          [
           "Formoso"
          ],
          [
           "Formosa"
          ],
          [
           "Flores de Goiás"
          ],
          [
           "Firminópolis"
          ],
          [
           "Fazenda Nova"
          ],
          [
           "Faina"
          ],
          [
           "Guarinos"
          ],
          [
           "Heitoraí"
          ],
          [
           "Hidrolândia"
          ],
          [
           "Hidrolina"
          ],
          [
           "Itumbiara"
          ],
          [
           "Itauçu"
          ],
          [
           "Itarumã"
          ],
          [
           "Itapuranga"
          ],
          [
           "Itapirapuã"
          ],
          [
           "Itapaci"
          ],
          [
           "Itajá"
          ],
          [
           "Itaguaru"
          ],
          [
           "Edéia"
          ],
          [
           "Itaguari"
          ],
          [
           "Israelândia"
          ],
          [
           "Iporá"
          ],
          [
           "Ipiranga de Goiás"
          ],
          [
           "Ipameri"
          ],
          [
           "Inhumas"
          ],
          [
           "Indiara"
          ],
          [
           "Inaciolândia"
          ],
          [
           "Iaciara"
          ],
          [
           "Itaberaí"
          ],
          [
           "Sooretama"
          ],
          [
           "São Roque do Canaã"
          ],
          [
           "São Mateus"
          ],
          [
           "Penaforte"
          ],
          [
           "Pedra Branca"
          ],
          [
           "Paramoti"
          ],
          [
           "Parambu"
          ],
          [
           "Paraipaba"
          ],
          [
           "Paracuru"
          ],
          [
           "Palmácia"
          ],
          [
           "Palhano"
          ],
          [
           "Pacujá"
          ],
          [
           "Pacoti"
          ],
          [
           "Pacatuba"
          ],
          [
           "Pacajus"
          ],
          [
           "Orós"
          ],
          [
           "Ocara"
          ],
          [
           "Novo Oriente"
          ],
          [
           "Nova Russas"
          ],
          [
           "Nova Olinda"
          ],
          [
           "Pentecoste"
          ],
          [
           "Mulungu"
          ],
          [
           "Pereiro"
          ],
          [
           "Piquet Carneiro"
          ],
          [
           "Santana do Acaraú"
          ],
          [
           "Santa Quitéria"
          ],
          [
           "Salitre"
          ],
          [
           "Saboeiro"
          ],
          [
           "Russas"
          ],
          [
           "Reriutaba"
          ],
          [
           "Redenção"
          ],
          [
           "Quixeré"
          ],
          [
           "Quixeramobim"
          ],
          [
           "Quixelô"
          ],
          [
           "Quixadá"
          ],
          [
           "Quiterianópolis"
          ],
          [
           "Potiretama"
          ],
          [
           "Potengi"
          ],
          [
           "Porteiras"
          ],
          [
           "Poranga"
          ],
          [
           "Pires Ferreira"
          ],
          [
           "Pindoretama"
          ],
          [
           "Mucambo"
          ],
          [
           "Morrinhos"
          ],
          [
           "Moraújo"
          ],
          [
           "Jaguaribe"
          ],
          [
           "Jaguaribara"
          ],
          [
           "Jaguaretama"
          ],
          [
           "Itatira"
          ],
          [
           "Itarema"
          ],
          [
           "Itapiúna"
          ],
          [
           "Itapipoca"
          ],
          [
           "Itapagé"
          ],
          [
           "Itaitinga"
          ],
          [
           "Itaiçaba"
          ],
          [
           "Irauçuba"
          ],
          [
           "Iracema"
          ],
          [
           "Ipueiras"
          ],
          [
           "Ipu"
          ],
          [
           "Ipaumirim"
          ],
          [
           "Ipaporanga"
          ],
          [
           "Independência"
          ],
          [
           "Jaguaruana"
          ],
          [
           "Jardim"
          ],
          [
           "Jati"
          ],
          [
           "Jijoca de Jericoacoara"
          ],
          [
           "Morada Nova"
          ],
          [
           "Monsenhor Tabosa"
          ],
          [
           "Mombaça"
          ],
          [
           "Missão Velha"
          ],
          [
           "Miraíma"
          ],
          [
           "Milhã"
          ],
          [
           "Milagres"
          ],
          [
           "Meruoca"
          ],
          [
           "Santana do Cariri"
          ],
          [
           "Mauriti"
          ],
          [
           "Martinópole"
          ],
          [
           "Marco"
          ],
          [
           "Maranguape"
          ],
          [
           "Madalena"
          ],
          [
           "Limoeiro do Norte"
          ],
          [
           "Lavras da Mangabeira"
          ],
          [
           "Jucás"
          ],
          [
           "Juazeiro do Norte"
          ],
          [
           "Massapê"
          ],
          [
           "São Benedito"
          ],
          [
           "São Gonçalo do Amarante"
          ],
          [
           "São João do Jaguaribe"
          ],
          [
           "Mantenópolis"
          ],
          [
           "Laranja da Terra"
          ],
          [
           "João Neiva"
          ],
          [
           "Jerônimo Monteiro"
          ],
          [
           "Jaguaré"
          ],
          [
           "Iúna"
          ],
          [
           "Itarana"
          ],
          [
           "Itapemirim"
          ],
          [
           "Itaguaçu"
          ],
          [
           "Irupi"
          ],
          [
           "Iconha"
          ],
          [
           "Ibitirama"
          ],
          [
           "Ibiraçu"
          ],
          [
           "Ibatiba"
          ],
          [
           "Guarapari"
          ],
          [
           "Guaçuí"
          ],
          [
           "Governador Lindenberg"
          ],
          [
           "Marataízes"
          ],
          [
           "Marechal Floriano"
          ],
          [
           "Marilândia"
          ],
          [
           "Mimoso do Sul"
          ],
          [
           "São José do Calçado"
          ],
          [
           "São Gabriel da Palha"
          ],
          [
           "São Domingos do Norte"
          ],
          [
           "Santa Teresa"
          ],
          [
           "Santa Maria de Jetibá"
          ],
          [
           "Santa Leopoldina"
          ],
          [
           "Rio Novo do Sul"
          ],
          [
           "Rio Bananal"
          ],
          [
           "Fundão"
          ],
          [
           "Ponto Belo"
          ],
          [
           "Pinheiros"
          ],
          [
           "Pedro Canário"
          ],
          [
           "Pancas"
          ],
          [
           "Nova Venécia"
          ],
          [
           "Muqui"
          ],
          [
           "Muniz Freire"
          ],
          [
           "Mucurici"
          ],
          [
           "Montanha"
          ],
          [
           "Piúma"
          ],
          [
           "Novo Gama"
          ],
          [
           "Ecoporanga"
          ],
          [
           "Domingos Martins"
          ],
          [
           "Uruburetama"
          ],
          [
           "Umirim"
          ],
          [
           "Umari"
          ],
          [
           "Ubajara"
          ],
          [
           "Tururu"
          ],
          [
           "Trairi"
          ],
          [
           "Tianguá"
          ],
          [
           "Tejuçuoca"
          ],
          [
           "Tauá"
          ],
          [
           "Tarrafas"
          ],
          [
           "Tamboril"
          ],
          [
           "Tabuleiro do Norte"
          ],
          [
           "Solonópole"
          ],
          [
           "Sobral"
          ],
          [
           "Senador Sá"
          ],
          [
           "Senador Pompeu"
          ],
          [
           "São Luís do Curu"
          ],
          [
           "Uruoca"
          ],
          [
           "Varjota"
          ],
          [
           "Várzea Alegre"
          ],
          [
           "Viçosa do Ceará"
          ],
          [
           "Divino de São Lourenço"
          ],
          [
           "Conceição do Castelo"
          ],
          [
           "Conceição da Barra"
          ],
          [
           "Colatina"
          ],
          [
           "Castelo"
          ],
          [
           "Brejetuba"
          ],
          [
           "Bom Jesus do Norte"
          ],
          [
           "Boa Esperança"
          ],
          [
           "Dores do Rio Preto"
          ],
          [
           "Barra de São Francisco"
          ],
          [
           "Atilio Vivacqua"
          ],
          [
           "Apiacá"
          ],
          [
           "Alto Rio Novo"
          ],
          [
           "Alfredo Chaves"
          ],
          [
           "Alegre"
          ],
          [
           "Águia Branca"
          ],
          [
           "Água Doce do Norte"
          ],
          [
           "Afonso Cláudio"
          ],
          [
           "Baixo Guandu"
          ],
          [
           "Iguatu"
          ],
          [
           "Novo Planalto"
          ],
          [
           "Ouro Verde de Goiás"
          ],
          [
           "Riachão"
          ],
          [
           "Raposa"
          ],
          [
           "Primeira Cruz"
          ],
          [
           "Presidente Vargas"
          ],
          [
           "Presidente Sarney"
          ],
          [
           "Presidente Médici"
          ],
          [
           "Presidente Juscelino"
          ],
          [
           "Presidente Dutra"
          ],
          [
           "Porto Rico do Maranhão"
          ],
          [
           "Porto Franco"
          ],
          [
           "Poção de Pedras"
          ],
          [
           "Pirapemas"
          ],
          [
           "Pio XII"
          ],
          [
           "Pinheiro"
          ],
          [
           "Pindaré-Mirim"
          ],
          [
           "Peritoró"
          ],
          [
           "Peri Mirim"
          ],
          [
           "Ribamar Fiquene"
          ],
          [
           "Penalva"
          ],
          [
           "Rosário"
          ],
          [
           "Santa Filomena do Maranhão"
          ],
          [
           "São Francisco do Maranhão"
          ],
          [
           "São Francisco do Brejão"
          ],
          [
           "São Félix de Balsas"
          ],
          [
           "São Domingos do Maranhão"
          ],
          [
           "São Domingos do Azeitão"
          ],
          [
           "São Bernardo"
          ],
          [
           "São Bento"
          ],
          [
           "São Benedito do Rio Preto"
          ],
          [
           "Santo Antônio dos Lopes"
          ],
          [
           "Santo Amaro do Maranhão"
          ],
          [
           "Santana do Maranhão"
          ],
          [
           "Santa Rita"
          ],
          [
           "Santa Quitéria do Maranhão"
          ],
          [
           "Santa Luzia do Paruá"
          ],
          [
           "Santa Luzia"
          ],
          [
           "Santa Inês"
          ],
          [
           "Santa Helena"
          ],
          [
           "Sambaíba"
          ],
          [
           "Pedro do Rosário"
          ],
          [
           "Pedreiras"
          ],
          [
           "Paulo Ramos"
          ],
          [
           "Matinha"
          ],
          [
           "Mata Roma"
          ],
          [
           "Maranhãozinho"
          ],
          [
           "Marajá do Sena"
          ],
          [
           "Maracaçumé"
          ],
          [
           "Magalhães de Almeida"
          ],
          [
           "Luís Domingues"
          ],
          [
           "Loreto"
          ],
          [
           "Lima Campos"
          ],
          [
           "Lajeado Novo"
          ],
          [
           "Lagoa Grande do Maranhão"
          ],
          [
           "Lagoa do Mato"
          ],
          [
           "Lago Verde"
          ],
          [
           "Lago dos Rodrigues"
          ],
          [
           "Lago do Junco"
          ],
          [
           "Lago da Pedra"
          ],
          [
           "Junco do Maranhão"
          ],
          [
           "Matões"
          ],
          [
           "Matões do Norte"
          ],
          [
           "Milagres do Maranhão"
          ],
          [
           "Mirador"
          ],
          [
           "Paulino Neves"
          ],
          [
           "Pastos Bons"
          ],
          [
           "Passagem Franca"
          ],
          [
           "Parnarama"
          ],
          [
           "Paraibano"
          ],
          [
           "Palmeirândia"
          ],
          [
           "Paço do Lumiar"
          ],
          [
           "Olinda Nova do Maranhão"
          ],
          [
           "São João Batista"
          ],
          [
           "Olho d'Água das Cunhãs"
          ],
          [
           "Nova Iorque"
          ],
          [
           "Nova Colinas"
          ],
          [
           "Nina Rodrigues"
          ],
          [
           "Morros"
          ],
          [
           "Montes Altos"
          ],
          [
           "Monção"
          ],
          [
           "Mirinzal"
          ],
          [
           "Miranda do Norte"
          ],
          [
           "Nova Olinda do Maranhão"
          ],
          [
           "Joselândia"
          ],
          [
           "São João do Carú"
          ],
          [
           "São João do Soter"
          ],
          [
           "Canarana"
          ],
          [
           "Canabrava do Norte"
          ],
          [
           "Campos de Júlio"
          ],
          [
           "Campo Verde"
          ],
          [
           "Campo Novo do Parecis"
          ],
          [
           "Campinápolis"
          ],
          [
           "Cáceres"
          ],
          [
           "Brasnorte"
          ],
          [
           "Bom Jesus do Araguaia"
          ],
          [
           "Barra do Garças"
          ],
          [
           "Barra do Bugres"
          ],
          [
           "Barão de Melgaço"
          ],
          [
           "Aripuanã"
          ],
          [
           "Arenápolis"
          ],
          [
           "Araputanga"
          ],
          [
           "Araguainha"
          ],
          [
           "Araguaiana"
          ],
          [
           "Carlinda"
          ],
          [
           "Apiacás"
          ],
          [
           "Castanheira"
          ],
          [
           "Cláudia"
          ],
          [
           "Guarantã do Norte"
          ],
          [
           "Glória D'Oeste"
          ],
          [
           "General Carneiro"
          ],
          [
           "Gaúcha do Norte"
          ],
          [
           "Figueirópolis D'Oeste"
          ],
          [
           "Feliz Natal"
          ],
          [
           "Dom Aquino"
          ],
          [
           "Diamantino"
          ],
          [
           "Denise"
          ],
          [
           "Curvelândia"
          ],
          [
           "Cotriguaçu"
          ],
          [
           "Conquista D'Oeste"
          ],
          [
           "Confresa"
          ],
          [
           "Comodoro"
          ],
          [
           "Colniza"
          ],
          [
           "Colíder"
          ],
          [
           "Cocalinho"
          ],
          [
           "Chapada dos Guimarães"
          ],
          [
           "Alto Taquari"
          ],
          [
           "Alto Paraguai"
          ],
          [
           "Alto Garças"
          ],
          [
           "Sucupira do Norte"
          ],
          [
           "Sítio Novo"
          ],
          [
           "Serrano do Maranhão"
          ],
          [
           "Senador La Rocque"
          ],
          [
           "Senador Alexandre Costa"
          ],
          [
           "Satubinha"
          ],
          [
           "São Vicente Ferrer"
          ],
          [
           "São Roberto"
          ],
          [
           "São Raimundo do Doca Bezerra"
          ],
          [
           "São Raimundo das Mangabeiras"
          ],
          [
           "São Pedro dos Crentes"
          ],
          [
           "São Pedro da Água Branca"
          ],
          [
           "São Mateus do Maranhão"
          ],
          [
           "São Luís Gonzaga do Maranhão"
          ],
          [
           "São José dos Basílios"
          ],
          [
           "São José de Ribamar"
          ],
          [
           "São João dos Patos"
          ],
          [
           "Sucupira do Riachão"
          ],
          [
           "Tasso Fragoso"
          ],
          [
           "Timbiras"
          ],
          [
           "Timon"
          ],
          [
           "Alto Boa Vista"
          ],
          [
           "Alto Araguaia"
          ],
          [
           "Alta Floresta"
          ],
          [
           "Água Boa"
          ],
          [
           "Acorizal"
          ],
          [
           "Zé Doca"
          ],
          [
           "Vitorino Freire"
          ],
          [
           "Vitória do Mearim"
          ],
          [
           "São João do Paraíso"
          ],
          [
           "Vila Nova dos Martírios"
          ],
          [
           "Vargem Grande"
          ],
          [
           "Urbano Santos"
          ],
          [
           "Tutóia"
          ],
          [
           "Turilândia"
          ],
          [
           "Princesa Isabel"
          ],
          [
           "Tuntum"
          ],
          [
           "Tufilândia"
          ],
          [
           "Trizidela do Vale"
          ],
          [
           "Viana"
          ],
          [
           "João Lisboa"
          ],
          [
           "Jenipapo dos Vieiras"
          ],
          [
           "Jatobá"
          ],
          [
           "Terezópolis de Goiás"
          ],
          [
           "Teresina de Goiás"
          ],
          [
           "Taquaral de Goiás"
          ],
          [
           "Sítio d'Abadia"
          ],
          [
           "Simolândia"
          ],
          [
           "Silvânia"
          ],
          [
           "Serranópolis"
          ],
          [
           "Senador Canedo"
          ],
          [
           "São Simão"
          ],
          [
           "São Patrício"
          ],
          [
           "São Miguel do Passa Quatro"
          ],
          [
           "São Miguel do Araguaia"
          ],
          [
           "São Luíz do Norte"
          ],
          [
           "São Luís de Montes Belos"
          ],
          [
           "São João d'Aliança"
          ],
          [
           "São João da Paraúna"
          ],
          [
           "São Francisco de Goiás"
          ],
          [
           "Três Ranchos"
          ],
          [
           "São Domingos"
          ],
          [
           "Trindade"
          ],
          [
           "Turvânia"
          ],
          [
           "Altamira do Maranhão"
          ],
          [
           "Aldeias Altas"
          ],
          [
           "Alcântara"
          ],
          [
           "Água Doce do Maranhão"
          ],
          [
           "Afonso Cunha"
          ],
          [
           "Açailândia"
          ],
          [
           "Vila Propício"
          ],
          [
           "Vila Boa"
          ],
          [
           "Vicentinópolis"
          ],
          [
           "Vianópolis"
          ],
          [
           "Varjão"
          ],
          [
           "Valparaíso de Goiás"
          ],
          [
           "Urutaí"
          ],
          [
           "Uruana"
          ],
          [
           "Uruaçu"
          ],
          [
           "Uirapuru"
          ],
          [
           "Turvelândia"
          ],
          [
           "Trombas"
          ],
          [
           "Santo Antônio do Descoberto"
          ],
          [
           "Santo Antônio de Goiás"
          ],
          [
           "Santo Antônio da Barra"
          ],
          [
           "Planaltina"
          ],
          [
           "Pires do Rio"
          ],
          [
           "Pirenópolis"
          ],
          [
           "Piranhas"
          ],
          [
           "Piracanjuba"
          ],
          [
           "Pilar de Goiás"
          ],
          [
           "Petrolina de Goiás"
          ],
          [
           "Perolândia"
          ],
          [
           "Paraúna"
          ],
          [
           "Paranaiguara"
          ],
          [
           "Panamá"
          ],
          [
           "Palminópolis"
          ],
          [
           "Palmelo"
          ],
          [
           "Palmeiras de Goiás"
          ],
          [
           "Palestina de Goiás"
          ],
          [
           "Padre Bernardo"
          ],
          [
           "Ouvidor"
          ],
          [
           "Pontalina"
          ],
          [
           "Porangatu"
          ],
          [
           "Porteirão"
          ],
          [
           "Portelândia"
          ],
          [
           "Santa Terezinha de Goiás"
          ],
          [
           "Santa Tereza de Goiás"
          ],
          [
           "Santa Rosa de Goiás"
          ],
          [
           "Santa Rita do Novo Destino"
          ],
          [
           "Santa Rita do Araguaia"
          ],
          [
           "Santa Isabel"
          ],
          [
           "Santa Helena de Goiás"
          ],
          [
           "Santa Fé de Goiás"
          ],
          [
           "Alto Alegre do Maranhão"
          ],
          [
           "Santa Cruz de Goiás"
          ],
          [
           "Sanclerlândia"
          ],
          [
           "Rubiataba"
          ],
          [
           "Rio Quente"
          ],
          [
           "Rianápolis"
          ],
          [
           "Rialma"
          ],
          [
           "Quirinópolis"
          ],
          [
           "Professor Jamil"
          ],
          [
           "Posse"
          ],
          [
           "Santa Bárbara de Goiás"
          ],
          [
           "Alto Alegre do Pindaré"
          ],
          [
           "Alto Parnaíba"
          ],
          [
           "Amapá do Maranhão"
          ],
          [
           "Feira Nova do Maranhão"
          ],
          [
           "Estreito"
          ],
          [
           "Esperantinópolis"
          ],
          [
           "Duque Bacelar"
          ],
          [
           "Dom Pedro"
          ],
          [
           "Davinópolis"
          ],
          [
           "Cururupu"
          ],
          [
           "Coroatá"
          ],
          [
           "Conceição do Lago-Açu"
          ],
          [
           "Colinas"
          ],
          [
           "Coelho Neto"
          ],
          [
           "Codó"
          ],
          [
           "Cidelândia"
          ],
          [
           "Chapadinha"
          ],
          [
           "Centro Novo do Maranhão"
          ],
          [
           "Centro do Guilherme"
          ],
          [
           "Central do Maranhão"
          ],
          [
           "Fernando Falcão"
          ],
          [
           "Formosa da Serra Negra"
          ],
          [
           "Fortaleza dos Nogueiras"
          ],
          [
           "Fortuna"
          ],
          [
           "Itinga do Maranhão"
          ],
          [
           "Itapecuru Mirim"
          ],
          [
           "Itaipava do Grajaú"
          ],
          [
           "Igarapé Grande"
          ],
          [
           "Igarapé do Meio"
          ],
          [
           "Icatu"
          ],
          [
           "Humberto de Campos"
          ],
          [
           "Guimarães"
          ],
          [
           "Cedral"
          ],
          [
           "Grajaú"
          ],
          [
           "Governador Nunes Freire"
          ],
          [
           "Governador Newton Bello"
          ],
          [
           "Governador Luiz Rocha"
          ],
          [
           "Governador Eugênio Barros"
          ],
          [
           "Governador Edison Lobão"
          ],
          [
           "Governador Archer"
          ],
          [
           "Gonçalves Dias"
          ],
          [
           "Godofredo Viana"
          ],
          [
           "Graça Aranha"
          ],
          [
           "Orizona"
          ],
          [
           "Caxias"
          ],
          [
           "Carolina"
          ],
          [
           "Barreirinhas"
          ],
          [
           "Barra do Corda"
          ],
          [
           "Barão de Grajaú"
          ],
          [
           "Balsas"
          ],
          [
           "Bacurituba"
          ],
          [
           "Bacuri"
          ],
          [
           "Bacabeira"
          ],
          [
           "Bacabal"
          ],
          [
           "Axixá"
          ],
          [
           "Arari"
          ],
          [
           "Arame"
          ],
          [
           "Araioses"
          ],
          [
           "Araguanã"
          ],
          [
           "Apicum-Açu"
          ],
          [
           "Anapurus"
          ],
          [
           "Anajatuba"
          ],
          [
           "Amarante do Maranhão"
          ],
          [
           "Bela Vista do Maranhão"
          ],
          [
           "Belágua"
          ],
          [
           "Benedito Leite"
          ],
          [
           "Bequimão"
          ],
          [
           "Capinzal do Norte"
          ],
          [
           "Cantanhede"
          ],
          [
           "Cândido Mendes"
          ],
          [
           "Campestre do Maranhão"
          ],
          [
           "Cajari"
          ],
          [
           "Cajapió"
          ],
          [
           "Cachoeira Grande"
          ],
          [
           "Buritirana"
          ],
          [
           "Carutapera"
          ],
          [
           "Buriticupu"
          ],
          [
           "Buriti"
          ],
          [
           "Brejo de Areia"
          ],
          [
           "Brejo"
          ],
          [
           "Bom Lugar"
          ],
          [
           "Bom Jesus das Selvas"
          ],
          [
           "Bom Jardim"
          ],
          [
           "Boa Vista do Gurupi"
          ],
          [
           "Bernardo do Mearim"
          ],
          [
           "Buriti Bravo"
          ],
          [
           "Icó"
          ],
          [
           "Icapuí"
          ],
          [
           "Ibicuitinga"
          ],
          [
           "Barra da Estiva"
          ],
          [
           "Barra"
          ],
          [
           "Banzaê"
          ],
          [
           "Baixa Grande"
          ],
          [
           "Baianópolis"
          ],
          [
           "Aurelino Leal"
          ],
          [
           "Aratuípe"
          ],
          [
           "Arataca"
          ],
          [
           "Aramari"
          ],
          [
           "Araci"
          ],
          [
           "Aracatu"
          ],
          [
           "Araças"
          ],
          [
           "Apuarema"
          ],
          [
           "Aporá"
          ],
          [
           "Antônio Gonçalves"
          ],
          [
           "Antônio Cardoso"
          ],
          [
           "Antas"
          ],
          [
           "Barra do Choça"
          ],
          [
           "Anguera"
          ],
          [
           "Barra do Mendes"
          ],
          [
           "Barreiras"
          ],
          [
           "Brotas de Macaúbas"
          ],
          [
           "Brejolândia"
          ],
          [
           "Brejões"
          ],
          [
           "Botuporã"
          ],
          [
           "Boquira"
          ],
          [
           "Bonito"
          ],
          [
           "Boninal"
          ],
          [
           "Bom Jesus da Serra"
          ],
          [
           "Bom Jesus da Lapa"
          ],
          [
           "Boa Vista do Tupim"
          ],
          [
           "Boa Nova"
          ],
          [
           "Biritinga"
          ],
          [
           "Belo Campo"
          ],
          [
           "Belmonte"
          ],
          [
           "Barrocas"
          ],
          [
           "Barro Preto"
          ],
          [
           "Barro Alto"
          ],
          [
           "Barra do Rocha"
          ],
          [
           "Angical"
          ],
          [
           "Andorinha"
          ],
          [
           "Andaraí"
          ],
          [
           "São Paulo de Olivença"
          ],
          [
           "São Gabriel da Cachoeira"
          ],
          [
           "Santo Antônio do Içá"
          ],
          [
           "Santa Isabel do Rio Negro"
          ],
          [
           "Rio Preto da Eva"
          ],
          [
           "Presidente Figueiredo"
          ],
          [
           "Pauini"
          ],
          [
           "Parintins"
          ],
          [
           "Novo Aripuanã"
          ],
          [
           "Novo Airão"
          ],
          [
           "Nova Olinda do Norte"
          ],
          [
           "Nhamundá"
          ],
          [
           "Maués"
          ],
          [
           "Maraã"
          ],
          [
           "Manicoré"
          ],
          [
           "Manaquiri"
          ],
          [
           "Manacapuru"
          ],
          [
           "São Sebastião do Uatumã"
          ],
          [
           "Silves"
          ],
          [
           "Tabatinga"
          ],
          [
           "Tapauá"
          ],
          [
           "Anagé"
          ],
          [
           "América Dourada"
          ],
          [
           "Amélia Rodrigues"
          ],
          [
           "Amargosa"
          ],
          [
           "Almadina"
          ],
          [
           "Alcobaça"
          ],
          [
           "Alagoinhas"
          ],
          [
           "Aiquara"
          ],
          [
           "Brumado"
          ],
          [
           "Água Fria"
          ],
          [
           "Acajutiba"
          ],
          [
           "Abaré"
          ],
          [
           "Abaíra"
          ],
          [
           "Urucurituba"
          ],
          [
           "Urucará"
          ],
          [
           "Uarini"
          ],
          [
           "Tonantins"
          ],
          [
           "Tefé"
          ],
          [
           "Adustina"
          ],
          [
           "Lábrea"
          ],
          [
           "Buerarema"
          ],
          [
           "Caatiba"
          ],
          [
           "Dom Basílio"
          ],
          [
           "Dias d'Ávila"
          ],
          [
           "Dário Meira"
          ],
          [
           "Curaçá"
          ],
          [
           "Cruz das Almas"
          ],
          [
           "Cristópolis"
          ],
          [
           "Crisópolis"
          ],
          [
           "Cravolândia"
          ],
          [
           "Cotegipe"
          ],
          [
           "Correntina"
          ],
          [
           "Coronel João Sá"
          ],
          [
           "Coribe"
          ],
          [
           "Cordeiros"
          ],
          [
           "Coração de Maria"
          ],
          [
           "Contendas do Sincorá"
          ],
          [
           "Condeúba"
          ],
          [
           "Conde"
          ],
          [
           "Dom Macedo Costa"
          ],
          [
           "Conceição do Jacuípe"
          ],
          [
           "Elísio Medrado"
          ],
          [
           "Entre Rios"
          ],
          [
           "Guajeru"
          ],
          [
           "Governador Mangabeira"
          ],
          [
           "Gongogi"
          ],
          [
           "Glória"
          ],
          [
           "Gentio do Ouro"
          ],
          [
           "Gavião"
          ],
          [
           "Gandu"
          ],
          [
           "Formosa do Rio Preto"
          ],
          [
           "Floresta Azul"
          ],
          [
           "Firmino Alves"
          ],
          [
           "Filadélfia"
          ],
          [
           "Feira da Mata"
          ],
          [
           "Fátima"
          ],
          [
           "Eunápolis"
          ],
          [
           "Euclides da Cunha"
          ],
          [
           "Esplanada"
          ],
          [
           "Érico Cardoso"
          ],
          [
           "Encruzilhada"
          ],
          [
           "Conceição do Coité"
          ],
          [
           "Conceição do Almeida"
          ],
          [
           "Conceição da Feira"
          ],
          [
           "Candeal"
          ],
          [
           "Canavieiras"
          ],
          [
           "Canarana"
          ],
          [
           "Canápolis"
          ],
          [
           "Campo Formoso"
          ],
          [
           "Campo Alegre de Lourdes"
          ],
          [
           "Camamu"
          ],
          [
           "Camacan"
          ],
          [
           "Caldeirão Grande"
          ],
          [
           "Cairu"
          ],
          [
           "Cafarnaum"
          ],
          [
           "Caetité"
          ],
          [
           "Caetanos"
          ],
          [
           "Caém"
          ],
          [
           "Caculé"
          ],
          [
           "Cachoeira"
          ],
          [
           "Cabaceiras do Paraguaçu"
          ],
          [
           "Candeias"
          ],
          [
           "Candiba"
          ],
          [
           "Cândido Sales"
          ],
          [
           "Cansanção"
          ],
          [
           "Cocos"
          ],
          [
           "Coaraci"
          ],
          [
           "Cipó"
          ],
          [
           "Cícero Dantas"
          ],
          [
           "Chorrochó"
          ],
          [
           "Central"
          ],
          [
           "Caturama"
          ],
          [
           "Catu"
          ],
          [
           "Buritirama"
          ],
          [
           "Catolândia"
          ],
          [
           "Casa Nova"
          ],
          [
           "Carinhanha"
          ],
          [
           "Cardeal da Silva"
          ],
          [
           "Caravelas"
          ],
          [
           "Caraíbas"
          ],
          [
           "Capim Grosso"
          ],
          [
           "Capela do Alto Alegre"
          ],
          [
           "Canudos"
          ],
          [
           "Castro Alves"
          ],
          [
           "Jutaí"
          ],
          [
           "Juruá"
          ],
          [
           "Japurá"
          ],
          [
           "Jaramataia"
          ],
          [
           "Japaratinga"
          ],
          [
           "Jacuípe"
          ],
          [
           "Jacaré dos Homens"
          ],
          [
           "Inhapi"
          ],
          [
           "Igreja Nova"
          ],
          [
           "Igaci"
          ],
          [
           "Ibateguara"
          ],
          [
           "Girau do Ponciano"
          ],
          [
           "Flexeiras"
          ],
          [
           "Feliz Deserto"
          ],
          [
           "Feira Grande"
          ],
          [
           "Estrela de Alagoas"
          ],
          [
           "Dois Riachos"
          ],
          [
           "Delmiro Gouveia"
          ],
          [
           "Craíbas"
          ],
          [
           "Coruripe"
          ],
          [
           "Jequiá da Praia"
          ],
          [
           "Coqueiro Seco"
          ],
          [
           "Joaquim Gomes"
          ],
          [
           "Junqueiro"
          ],
          [
           "Olho d'Água do Casado"
          ],
          [
           "Olho d'Água das Flores"
          ],
          [
           "Novo Lino"
          ],
          [
           "Murici"
          ],
          [
           "Monteirópolis"
          ],
          [
           "Minador do Negrão"
          ],
          [
           "Messias"
          ],
          [
           "Matriz de Camaragibe"
          ],
          [
           "Mata Grande"
          ],
          [
           "Maribondo"
          ],
          [
           "Marechal Deodoro"
          ],
          [
           "Maravilha"
          ],
          [
           "Maragogi"
          ],
          [
           "Mar Vermelho"
          ],
          [
           "Major Isidoro"
          ],
          [
           "Limoeiro de Anadia"
          ],
          [
           "Lagoa da Canoa"
          ],
          [
           "Jundiá"
          ],
          [
           "Colônia Leopoldina"
          ],
          [
           "Coité do Nóia"
          ],
          [
           "Chã Preta"
          ],
          [
           "Sena Madureira"
          ],
          [
           "Santa Rosa do Purus"
          ],
          [
           "Rodrigues Alves"
          ],
          [
           "Porto Walter"
          ],
          [
           "Porto Acre"
          ],
          [
           "Plácido de Castro"
          ],
          [
           "Marechal Thaumaturgo"
          ],
          [
           "Manoel Urbano"
          ],
          [
           "Mâncio Lima"
          ],
          [
           "Jordão"
          ],
          [
           "Feijó"
          ],
          [
           "Epitaciolândia"
          ],
          [
           "Cruzeiro do Sul"
          ],
          [
           "Capixaba"
          ],
          [
           "Bujari"
          ],
          [
           "Brasiléia"
          ],
          [
           "Assis Brasil"
          ],
          [
           "Senador Guiomard"
          ],
          [
           "Tarauacá"
          ],
          [
           "Xapuri"
          ],
          [
           "Água Branca"
          ],
          [
           "Carneiros"
          ],
          [
           "Capela"
          ],
          [
           "Canapi"
          ],
          [
           "Campo Grande"
          ],
          [
           "Campo Alegre"
          ],
          [
           "Campestre"
          ],
          [
           "Cajueiro"
          ],
          [
           "Cacimbinhas"
          ],
          [
           "Olho d'Água Grande"
          ],
          [
           "Branquinha"
          ],
          [
           "Belo Monte"
          ],
          [
           "Belém"
          ],
          [
           "Batalha"
          ],
          [
           "Barra de São Miguel"
          ],
          [
           "Barra de Santo Antônio"
          ],
          [
           "Atalaia"
          ],
          [
           "Arapiraca"
          ],
          [
           "Anadia"
          ],
          [
           "Boca da Mata"
          ],
          [
           "Olivença"
          ],
          [
           "Ouro Branco"
          ],
          [
           "Palestina"
          ],
          [
           "Barreirinha"
          ],
          [
           "Barcelos"
          ],
          [
           "Autazes"
          ],
          [
           "Atalaia do Norte"
          ],
          [
           "Apuí"
          ],
          [
           "Anori"
          ],
          [
           "Anamã"
          ],
          [
           "Amaturá"
          ],
          [
           "Alvarães"
          ],
          [
           "Vitória do Jari"
          ],
          [
           "Tartarugalzinho"
          ],
          [
           "Serra do Navio"
          ],
          [
           "Santana"
          ],
          [
           "Pracuúba"
          ],
          [
           "Porto Grande"
          ],
          [
           "Pedra Branca do Amapari"
          ],
          [
           "Oiapoque"
          ],
          [
           "Benjamin Constant"
          ],
          [
           "Beruri"
          ],
          [
           "Boa Vista do Ramos"
          ],
          [
           "Boca do Acre"
          ],
          [
           "Itapiranga"
          ],
          [
           "Itamarati"
          ],
          [
           "Itacoatiara"
          ],
          [
           "Iranduba"
          ],
          [
           "Ipixuna"
          ],
          [
           "Humaitá"
          ],
          [
           "Guajará"
          ],
          [
           "Fonte Boa"
          ],
          [
           "Mazagão"
          ],
          [
           "Envira"
          ],
          [
           "Codajás"
          ],
          [
           "Coari"
          ],
          [
           "Careiro da Várzea"
          ],
          [
           "Careiro"
          ],
          [
           "Carauari"
          ],
          [
           "Canutama"
          ],
          [
           "Caapiranga"
          ],
          [
           "Borba"
          ],
          [
           "Eirunepé"
          ],
          [
           "Guanambi"
          ],
          [
           "Laranjal do Jari"
          ],
          [
           "Ferreira Gomes"
          ],
          [
           "Rio Largo"
          ],
          [
           "Quebrangulo"
          ],
          [
           "Porto Real do Colégio"
          ],
          [
           "Porto de Pedras"
          ],
          [
           "Porto Calvo"
          ],
          [
           "Poço das Trincheiras"
          ],
          [
           "Piranhas"
          ],
          [
           "Pindoba"
          ],
          [
           "Pilar"
          ],
          [
           "Piaçabuçu"
          ],
          [
           "Penedo"
          ],
          [
           "Paulo Jacinto"
          ],
          [
           "Passo de Camaragibe"
          ],
          [
           "Paripueira"
          ],
          [
           "Pariconha"
          ],
          [
           "Pão de Açúcar"
          ],
          [
           "Palmeira dos Índios"
          ],
          [
           "Roteiro"
          ],
          [
           "Santa Luzia do Norte"
          ],
          [
           "Santana do Ipanema"
          ],
          [
           "Santana do Mundaú"
          ],
          [
           "Cutias"
          ],
          [
           "Calçoene"
          ],
          [
           "Amapá"
          ],
          [
           "Viçosa"
          ],
          [
           "União dos Palmares"
          ],
          [
           "Traipu"
          ],
          [
           "Teotônio Vilela"
          ],
          [
           "Taquarana"
          ],
          [
           "Itaubal"
          ],
          [
           "Tanque d'Arca"
          ],
          [
           "Satuba"
          ],
          [
           "São Sebastião"
          ],
          [
           "São Miguel dos Milagres"
          ],
          [
           "São Miguel dos Campos"
          ],
          [
           "São Luís do Quitunde"
          ],
          [
           "São José da Tapera"
          ],
          [
           "São José da Laje"
          ],
          [
           "São Brás"
          ],
          [
           "Senador Rui Palmeira"
          ],
          [
           "Guaratinga"
          ],
          [
           "Heliópolis"
          ],
          [
           "Iaçu"
          ],
          [
           "Souto Soares"
          ],
          [
           "Sobradinho"
          ],
          [
           "Sítio do Quinto"
          ],
          [
           "Sítio do Mato"
          ],
          [
           "Serrolândia"
          ],
          [
           "Serrinha"
          ],
          [
           "Serra Preta"
          ],
          [
           "Serra Dourada"
          ],
          [
           "Serra do Ramalho"
          ],
          [
           "Sento Sé"
          ],
          [
           "Senhor do Bonfim"
          ],
          [
           "Sebastião Laranjeiras"
          ],
          [
           "Seabra"
          ],
          [
           "Saúde"
          ],
          [
           "Saubara"
          ],
          [
           "Sátiro Dias"
          ],
          [
           "Sapeaçu"
          ],
          [
           "Tabocas do Brejo Velho"
          ],
          [
           "São Sebastião do Passé"
          ],
          [
           "Tanhaçu"
          ],
          [
           "Tanquinho"
          ],
          [
           "Urandi"
          ],
          [
           "Una"
          ],
          [
           "Umburanas"
          ],
          [
           "Uibaí"
          ],
          [
           "Ubatã"
          ],
          [
           "Ubaitaba"
          ],
          [
           "Ubaíra"
          ],
          [
           "Uauá"
          ],
          [
           "Tucano"
          ],
          [
           "Tremedal"
          ],
          [
           "Terra Nova"
          ],
          [
           "Teolândia"
          ],
          [
           "Teofilândia"
          ],
          [
           "Teodoro Sampaio"
          ],
          [
           "Teixeira de Freitas"
          ],
          [
           "Tapiramutá"
          ],
          [
           "Taperoá"
          ],
          [
           "Tanque Novo"
          ],
          [
           "São Miguel das Matas"
          ],
          [
           "São José do Jacuípe"
          ],
          [
           "São José da Vitória"
          ],
          [
           "Salinas da Margarida"
          ],
          [
           "Ruy Barbosa"
          ],
          [
           "Rodelas"
          ],
          [
           "Rio Real"
          ],
          [
           "Rio do Pires"
          ],
          [
           "Rio do Antônio"
          ],
          [
           "Rio de Contas"
          ],
          [
           "Ribeirão do Largo"
          ],
          [
           "Ribeira do Pombal"
          ],
          [
           "Ribeira do Amparo"
          ],
          [
           "Riacho de Santana"
          ],
          [
           "Riachão do Jacuípe"
          ],
          [
           "Riachão das Neves"
          ],
          [
           "Retirolândia"
          ],
          [
           "Remanso"
          ],
          [
           "Rafael Jambeiro"
          ],
          [
           "Quixabeira"
          ],
          [
           "Santa Bárbara"
          ],
          [
           "Santa Brígida"
          ],
          [
           "Santa Cruz Cabrália"
          ],
          [
           "Santa Cruz da Vitória"
          ],
          [
           "São Gonçalo dos Campos"
          ],
          [
           "São Gabriel"
          ],
          [
           "São Félix do Coribe"
          ],
          [
           "São Félix"
          ],
          [
           "São Felipe"
          ],
          [
           "São Domingos"
          ],
          [
           "São Desidério"
          ],
          [
           "Santo Estêvão"
          ],
          [
           "Uruçuca"
          ],
          [
           "Santo Antônio de Jesus"
          ],
          [
           "Santanópolis"
          ],
          [
           "Santana"
          ],
          [
           "Santaluz"
          ],
          [
           "Santa Teresinha"
          ],
          [
           "Santa Rita de Cássia"
          ],
          [
           "Santa Maria da Vitória"
          ],
          [
           "Santa Luzia"
          ],
          [
           "Santa Inês"
          ],
          [
           "Santo Amaro"
          ],
          [
           "Utinga"
          ],
          [
           "Valença"
          ],
          [
           "Valente"
          ],
          [
           "Crateús"
          ],
          [
           "Coreaú"
          ],
          [
           "Chorozinho"
          ],
          [
           "Choró"
          ],
          [
           "Chaval"
          ],
          [
           "Cedro"
          ],
          [
           "Caucaia"
          ],
          [
           "Catunda"
          ],
          [
           "Catarina"
          ],
          [
           "Cascavel"
          ],
          [
           "Carnaubal"
          ],
          [
           "Cariús"
          ],
          [
           "Caririaçu"
          ],
          [
           "Cariré"
          ],
          [
           "Caridade"
          ],
          [
           "Capistrano"
          ],
          [
           "Canindé"
          ],
          [
           "Crato"
          ],
          [
           "Croatá"
          ],
          [
           "Cruz"
          ],
          [
           "Deputado Irapuan Pinheiro"
          ],
          [
           "Ibiapina"
          ],
          [
           "Ibaretama"
          ],
          [
           "Horizonte"
          ],
          [
           "Hidrolândia"
          ],
          [
           "Guaramiranga"
          ],
          [
           "Guaraciaba do Norte"
          ],
          [
           "Guaiúba"
          ],
          [
           "Groaíras"
          ],
          [
           "Campos Sales"
          ],
          [
           "Granjeiro"
          ],
          [
           "Graça"
          ],
          [
           "General Sampaio"
          ],
          [
           "Frecheirinha"
          ],
          [
           "Fortim"
          ],
          [
           "Forquilha"
          ],
          [
           "Farias Brito"
          ],
          [
           "Eusébio"
          ],
          [
           "Ererê"
          ],
          [
           "Granja"
          ],
          [
           "Quijingue"
          ],
          [
           "Camocim"
          ],
          [
           "Boa Viagem"
          ],
          [
           "Altaneira"
          ],
          [
           "Alcântaras"
          ],
          [
           "Aiuaba"
          ],
          [
           "Acopiara"
          ],
          [
           "Acaraú"
          ],
          [
           "Acarape"
          ],
          [
           "Abaiara"
          ],
          [
           "Xique-Xique"
          ],
          [
           "Wenceslau Guimarães"
          ],
          [
           "Wanderley"
          ],
          [
           "Wagner"
          ],
          [
           "Vereda"
          ],
          [
           "Vera Cruz"
          ],
          [
           "Varzedo"
          ],
          [
           "Várzea Nova"
          ],
          [
           "Várzea do Poço"
          ],
          [
           "Várzea da Roça"
          ],
          [
           "Alto Santo"
          ],
          [
           "Amontada"
          ],
          [
           "Antonina do Norte"
          ],
          [
           "Apuiarés"
          ],
          [
           "Bela Cruz"
          ],
          [
           "Beberibe"
          ],
          [
           "Baturité"
          ],
          [
           "Barroquinha"
          ],
          [
           "Barro"
          ],
          [
           "Barreira"
          ],
          [
           "Barbalha"
          ],
          [
           "Banabuiú"
          ],
          [
           "Brejo Santo"
          ],
          [
           "Baixio"
          ],
          [
           "Assaré"
          ],
          [
           "Arneiroz"
          ],
          [
           "Aratuba"
          ],
          [
           "Araripe"
          ],
          [
           "Ararendá"
          ],
          [
           "Aracoiaba"
          ],
          [
           "Aracati"
          ],
          [
           "Aquiraz"
          ],
          [
           "Aurora"
          ],
          [
           "Guiratinga"
          ],
          [
           "Queimadas"
          ],
          [
           "Presidente Jânio Quadros"
          ],
          [
           "Jaborandi"
          ],
          [
           "Iuiú"
          ],
          [
           "Ituberá"
          ],
          [
           "Ituaçu"
          ],
          [
           "Itororó"
          ],
          [
           "Itiúba"
          ],
          [
           "Itiruçu"
          ],
          [
           "Itatim"
          ],
          [
           "Itarantim"
          ],
          [
           "Itaquara"
          ],
          [
           "Itapitanga"
          ],
          [
           "Itapicuru"
          ],
          [
           "Itapetinga"
          ],
          [
           "Itapebi"
          ],
          [
           "Itapé"
          ],
          [
           "Itaparica"
          ],
          [
           "Itanhém"
          ],
          [
           "Jacaraci"
          ],
          [
           "Itanagra"
          ],
          [
           "Jacobina"
          ],
          [
           "Jaguarari"
          ],
          [
           "Lajedinho"
          ],
          [
           "Lajedão"
          ],
          [
           "Laje"
          ],
          [
           "Lagoa Real"
          ],
          [
           "Lafaiete Coutinho"
          ],
          [
           "Jussiape"
          ],
          [
           "Jussari"
          ],
          [
           "Jussara"
          ],
          [
           "Jucuruçu"
          ],
          [
           "Juazeiro"
          ],
          [
           "João Dourado"
          ],
          [
           "Jitaúna"
          ],
          [
           "Jiquiriçá"
          ],
          [
           "Jeremoabo"
          ],
          [
           "Jequié"
          ],
          [
           "Jandaíra"
          ],
          [
           "Jaguaripe"
          ],
          [
           "Jaguaquara"
          ],
          [
           "Itambé"
          ],
          [
           "Itamari"
          ],
          [
           "Itamaraju"
          ],
          [
           "Iguaí"
          ],
          [
           "Igrapiúna"
          ],
          [
           "Igaporã"
          ],
          [
           "Ichu"
          ],
          [
           "Ibotirama"
          ],
          [
           "Ibititá"
          ],
          [
           "Ibitiara"
          ],
          [
           "Ibirataia"
          ],
          [
           "Ibirapuã"
          ],
          [
           "Ibirapitanga"
          ],
          [
           "Ibiquera"
          ],
          [
           "Ibipitanga"
          ],
          [
           "Ibipeba"
          ],
          [
           "Ibicuí"
          ],
          [
           "Ibicoara"
          ],
          [
           "Ibicaraí"
          ],
          [
           "Ibiassucê"
          ],
          [
           "Ilhéus"
          ],
          [
           "Inhambupe"
          ],
          [
           "Ipecaetá"
          ],
          [
           "Ipiaú"
          ],
          [
           "Itajuípe"
          ],
          [
           "Itaju do Colônia"
          ],
          [
           "Itaguaçu da Bahia"
          ],
          [
           "Itagimirim"
          ],
          [
           "Itagibá"
          ],
          [
           "Itagi"
          ],
          [
           "Itaeté"
          ],
          [
           "Itacaré"
          ],
          [
           "Lajedo do Tabocal"
          ],
          [
           "Itabuna"
          ],
          [
           "Itabela"
          ],
          [
           "Irecê"
          ],
          [
           "Irará"
          ],
          [
           "Iraquara"
          ],
          [
           "Iramaia"
          ],
          [
           "Irajuba"
          ],
          [
           "Ipupiara"
          ],
          [
           "Ipirá"
          ],
          [
           "Itaberaba"
          ],
          [
           "Lamarão"
          ],
          [
           "Lapão"
          ],
          [
           "Lençóis"
          ],
          [
           "Paripiranga"
          ],
          [
           "Paratinga"
          ],
          [
           "Paramirim"
          ],
          [
           "Palmeiras"
          ],
          [
           "Palmas de Monte Alto"
          ],
          [
           "Ourolândia"
          ],
          [
           "Ouriçangas"
          ],
          [
           "Oliveira dos Brejinhos"
          ],
          [
           "Olindina"
          ],
          [
           "Novo Triunfo"
          ],
          [
           "Novo Horizonte"
          ],
          [
           "Nova Viçosa"
          ],
          [
           "Nova Soure"
          ],
          [
           "Nova Redenção"
          ],
          [
           "Nova Itarana"
          ],
          [
           "Nova Ibiá"
          ],
          [
           "Nova Fátima"
          ],
          [
           "Pau Brasil"
          ],
          [
           "Paulo Afonso"
          ],
          [
           "Pé de Serra"
          ],
          [
           "Pedrão"
          ],
          [
           "Presidente Dutra"
          ],
          [
           "Prado"
          ],
          [
           "Potiraguá"
          ],
          [
           "Porto Seguro"
          ],
          [
           "Ponto Novo"
          ],
          [
           "Pojuca"
          ],
          [
           "Poções"
          ],
          [
           "Planalto"
          ],
          [
           "Nova Canaã"
          ],
          [
           "Planaltino"
          ],
          [
           "Piripá"
          ],
          [
           "Piraí do Norte"
          ],
          [
           "Pintadas"
          ],
          [
           "Pindobaçu"
          ],
          [
           "Pindaí"
          ],
          [
           "Pilão Arcado"
          ],
          [
           "Piatã"
          ],
          [
           "Pedro Alexandre"
          ],
          [
           "Piritiba"
          ],
          [
           "Presidente Tancredo Neves"
          ],
          [
           "Nordestina"
          ],
          [
           "Nazaré"
          ],
          [
           "Maragogipe"
          ],
          [
           "Maracás"
          ],
          [
           "Mansidão"
          ],
          [
           "Manoel Vitorino"
          ],
          [
           "Malhada de Pedras"
          ],
          [
           "Malhada"
          ],
          [
           "Mairi"
          ],
          [
           "Maiquinique"
          ],
          [
           "Maetinga"
          ],
          [
           "Madre de Deus"
          ],
          [
           "Macururé"
          ],
          [
           "Macaúbas"
          ],
          [
           "Macarani"
          ],
          [
           "Macajuba"
          ],
          [
           "Luís Eduardo Magalhães"
          ],
          [
           "Livramento de Nossa Senhora"
          ],
          [
           "Licínio de Almeida"
          ],
          [
           "Maraú"
          ],
          [
           "Marcionílio Souza"
          ],
          [
           "Mascote"
          ],
          [
           "Mata de São João"
          ],
          [
           "Mutuípe"
          ],
          [
           "Muritiba"
          ],
          [
           "Muquém de São Francisco"
          ],
          [
           "Muniz Ferreira"
          ],
          [
           "Mundo Novo"
          ],
          [
           "Mulungu do Morro"
          ],
          [
           "Mucuri"
          ],
          [
           "Mucugê"
          ],
          [
           "Nilo Peçanha"
          ],
          [
           "Mortugaba"
          ],
          [
           "Morpará"
          ],
          [
           "Monte Santo"
          ],
          [
           "Mirante"
          ],
          [
           "Mirangaba"
          ],
          [
           "Milagres"
          ],
          [
           "Miguel Calmon"
          ],
          [
           "Medeiros Neto"
          ],
          [
           "Matina"
          ],
          [
           "Morro do Chapéu"
          ],
          [
           "Indiavaí"
          ],
          [
           "Turiaçu"
          ],
          [
           "Itanhangá"
          ],
          [
           "Santa Rita do Itueto"
          ],
          [
           "Santa Rita de Minas"
          ],
          [
           "Santa Rita de Jacutinga"
          ],
          [
           "Santa Rita de Ibitipoca"
          ],
          [
           "Santa Rita de Caldas"
          ],
          [
           "Santa Maria do Suaçuí"
          ],
          [
           "Santa Maria do Salto"
          ],
          [
           "Santa Maria de Itabira"
          ],
          [
           "Santa Margarida"
          ],
          [
           "Santa Luzia"
          ],
          [
           "Santa Juliana"
          ],
          [
           "Santa Helena de Minas"
          ],
          [
           "Santa Fé de Minas"
          ],
          [
           "Santa Efigênia de Minas"
          ],
          [
           "Santa Cruz do Escalvado"
          ],
          [
           "Santa Cruz de Salinas"
          ],
          [
           "Santa Cruz de Minas"
          ],
          [
           "Santa Rita do Sapucaí"
          ],
          [
           "Santa Rosa da Serra"
          ],
          [
           "Santa Vitória"
          ],
          [
           "Santana da Vargem"
          ],
          [
           "Santo Hipólito"
          ],
          [
           "Santo Antônio do Rio Abaixo"
          ],
          [
           "Santo Antônio do Retiro"
          ],
          [
           "Santo Antônio do Monte"
          ],
          [
           "Santo Antônio do Jacinto"
          ],
          [
           "Santo Antônio do Itambé"
          ],
          [
           "Santo Antônio do Grama"
          ],
          [
           "Santo Antônio do Aventureiro"
          ],
          [
           "Santa Bárbara do Tugúrio"
          ],
          [
           "Santo Antônio do Amparo"
          ],
          [
           "Santana do Riacho"
          ],
          [
           "Santana do Paraíso"
          ],
          [
           "Santana do Manhuaçu"
          ],
          [
           "Santana do Jacaré"
          ],
          [
           "Santana do Garambéu"
          ],
          [
           "Santana do Deserto"
          ],
          [
           "Santana de Pirapama"
          ],
          [
           "Santana de Cataguases"
          ],
          [
           "Santana dos Montes"
          ],
          [
           "Santos Dumont"
          ],
          [
           "Santa Bárbara do Monte Verde"
          ],
          [
           "Santa Bárbara"
          ],
          [
           "Rio do Prado"
          ],
          [
           "Rio Casca"
          ],
          [
           "Rio Acima"
          ],
          [
           "Ribeirão Vermelho"
          ],
          [
           "Ribeirão das Neves"
          ],
          [
           "Riacho dos Machados"
          ],
          [
           "Riachinho"
          ],
          [
           "Ressaquinha"
          ],
          [
           "Resplendor"
          ],
          [
           "Resende Costa"
          ],
          [
           "Reduto"
          ],
          [
           "Recreio"
          ],
          [
           "Raul Soares"
          ],
          [
           "Raposos"
          ],
          [
           "Queluzito"
          ],
          [
           "Quartel Geral"
          ],
          [
           "Prudente de Morais"
          ],
          [
           "Rio Doce"
          ],
          [
           "Rio Espera"
          ],
          [
           "Rio Manso"
          ],
          [
           "Rio Novo"
          ],
          [
           "Salto da Divisa"
          ],
          [
           "Salinas"
          ],
          [
           "Sacramento"
          ],
          [
           "Sabinópolis"
          ],
          [
           "Sabará"
          ],
          [
           "Rubim"
          ],
          [
           "Rubelita"
          ],
          [
           "Rosário da Limeira"
          ],
          [
           "Santa Bárbara do Leste"
          ],
          [
           "Romaria"
          ],
          [
           "Rochedo de Minas"
          ],
          [
           "Ritápolis"
          ],
          [
           "Rio Vermelho"
          ],
          [
           "Rio Preto"
          ],
          [
           "Rio Pomba"
          ],
          [
           "Rio Piracicaba"
          ],
          [
           "Rio Pardo de Minas"
          ],
          [
           "Rio Paranaíba"
          ],
          [
           "Rodeiro"
          ],
          [
           "Presidente Olegário"
          ],
          [
           "São Bento Abade"
          ],
          [
           "São Domingos das Dores"
          ],
          [
           "Sarzedo"
          ],
          [
           "Sardoá"
          ],
          [
           "Sapucaí-Mirim"
          ],
          [
           "São Vicente de Minas"
          ],
          [
           "São Tomás de Aquino"
          ],
          [
           "São Tiago"
          ],
          [
           "São Thomé das Letras"
          ],
          [
           "São Sebastião do Rio Verde"
          ],
          [
           "São Sebastião do Rio Preto"
          ],
          [
           "São Sebastião do Paraíso"
          ],
          [
           "São Sebastião do Oeste"
          ],
          [
           "São Sebastião do Maranhão"
          ],
          [
           "São Sebastião do Anta"
          ],
          [
           "São Sebastião da Vargem Alegre"
          ],
          [
           "São Sebastião da Bela Vista"
          ],
          [
           "São Roque de Minas"
          ],
          [
           "São Romão"
          ],
          [
           "Sem-Peixe"
          ],
          [
           "Senador Amaral"
          ],
          [
           "Senador Cortes"
          ],
          [
           "Senador Firmino"
          ],
          [
           "Silvianópolis"
          ],
          [
           "Silveirânia"
          ],
          [
           "Setubinha"
          ],
          [
           "Serro"
          ],
          [
           "Serranos"
          ],
          [
           "Serranópolis de Minas"
          ],
          [
           "Serrania"
          ],
          [
           "Serra dos Aimorés"
          ],
          [
           "São Pedro dos Ferros"
          ],
          [
           "Serra do Salitre"
          ],
          [
           "Serra Azul de Minas"
          ],
          [
           "Seritinga"
          ],
          [
           "Sericita"
          ],
          [
           "Senhora dos Remédios"
          ],
          [
           "Senhora do Porto"
          ],
          [
           "Senhora de Oliveira"
          ],
          [
           "Senador Modestino Gonçalves"
          ],
          [
           "Senador José Bento"
          ],
          [
           "Serra da Saudade"
          ],
          [
           "São Brás do Suaçuí"
          ],
          [
           "São Pedro do Suaçuí"
          ],
          [
           "São Miguel do Anta"
          ],
          [
           "São João da Lagoa"
          ],
          [
           "São João Batista do Glória"
          ],
          [
           "São Gotardo"
          ],
          [
           "São Gonçalo do Sapucaí"
          ],
          [
           "São Gonçalo do Rio Preto"
          ],
          [
           "São Gonçalo do Rio Abaixo"
          ],
          [
           "São Gonçalo do Pará"
          ],
          [
           "São Gonçalo do Abaeté"
          ],
          [
           "São Geraldo do Baixio"
          ],
          [
           "São Geraldo da Piedade"
          ],
          [
           "São Geraldo"
          ],
          [
           "São Francisco do Glória"
          ],
          [
           "São Francisco de Sales"
          ],
          [
           "São Francisco de Paula"
          ],
          [
           "São Francisco"
          ],
          [
           "São Félix de Minas"
          ],
          [
           "São Domingos do Prata"
          ],
          [
           "São João da Mata"
          ],
          [
           "São João da Ponte"
          ],
          [
           "São João das Missões"
          ],
          [
           "São João del Rei"
          ],
          [
           "São Lourenço"
          ],
          [
           "São José do Mantimento"
          ],
          [
           "São José do Jacuri"
          ],
          [
           "São José do Goiabal"
          ],
          [
           "São José do Divino"
          ],
          [
           "São José do Alegre"
          ],
          [
           "São José da Varginha"
          ],
          [
           "São José da Safira"
          ],
          [
           "São Pedro da União"
          ],
          [
           "São José da Lapa"
          ],
          [
           "São Joaquim de Bicas"
          ],
          [
           "São João Nepomuceno"
          ],
          [
           "São João Evangelista"
          ],
          [
           "São João do Paraíso"
          ],
          [
           "São João do Pacuí"
          ],
          [
           "São João do Oriente"
          ],
          [
           "São João do Manteninha"
          ],
          [
           "São João do Manhuaçu"
          ],
          [
           "São José da Barra"
          ],
          [
           "Simão Pereira"
          ],
          [
           "Presidente Kubitschek"
          ],
          [
           "Presidente Bernardes"
          ],
          [
           "Mutum"
          ],
          [
           "Muriaé"
          ],
          [
           "Munhoz"
          ],
          [
           "Morro do Pilar"
          ],
          [
           "Morro da Garça"
          ],
          [
           "Morada Nova de Minas"
          ],
          [
           "Montezuma"
          ],
          [
           "Monte Sião"
          ],
          [
           "Monte Santo de Minas"
          ],
          [
           "Monte Formoso"
          ],
          [
           "Monte Carmelo"
          ],
          [
           "Monte Belo"
          ],
          [
           "Monte Azul"
          ],
          [
           "Monte Alegre de Minas"
          ],
          [
           "Montalvânia"
          ],
          [
           "Ipiranga do Norte"
          ],
          [
           "Monjolos"
          ],
          [
           "Muzambinho"
          ],
          [
           "Nacip Raydan"
          ],
          [
           "Nanuque"
          ],
          [
           "Naque"
          ],
          [
           "Olhos-d'Água"
          ],
          [
           "Olaria"
          ],
          [
           "Novorizonte"
          ],
          [
           "Novo Oriente de Minas"
          ],
          [
           "Novo Cruzeiro"
          ],
          [
           "Nova União"
          ],
          [
           "Nova Serrana"
          ],
          [
           "Nova Resende"
          ],
          [
           "Moema"
          ],
          [
           "Nova Porteirinha"
          ],
          [
           "Nova Módica"
          ],
          [
           "Nova Era"
          ],
          [
           "Nova Belém"
          ],
          [
           "Ninheira"
          ],
          [
           "Nepomuceno"
          ],
          [
           "Nazareno"
          ],
          [
           "Natércia"
          ],
          [
           "Natalândia"
          ],
          [
           "Nova Ponte"
          ],
          [
           "Olímpio Noronha"
          ],
          [
           "Moeda"
          ],
          [
           "Miraí"
          ],
          [
           "Marliéria"
          ],
          [
           "Maripá de Minas"
          ],
          [
           "Mário Campos"
          ],
          [
           "Marilac"
          ],
          [
           "Maria da Fé"
          ],
          [
           "Maravilhas"
          ],
          [
           "Mar de Espanha"
          ],
          [
           "Mantena"
          ],
          [
           "Manhumirim"
          ],
          [
           "Manhuaçu"
          ],
          [
           "Manga"
          ],
          [
           "Mamonas"
          ],
          [
           "Malacacheta"
          ],
          [
           "Madre de Deus de Minas"
          ],
          [
           "Machado"
          ],
          [
           "Machacalis"
          ],
          [
           "Luz"
          ],
          [
           "Marmelópolis"
          ],
          [
           "Martinho Campos"
          ],
          [
           "Martins Soares"
          ],
          [
           "Mata Verde"
          ],
          [
           "Miradouro"
          ],
          [
           "Mirabela"
          ],
          [
           "Minduri"
          ],
          [
           "Minas Novas"
          ],
          [
           "Mesquita"
          ],
          [
           "Mercês"
          ],
          [
           "Mendes Pimentel"
          ],
          [
           "Medina"
          ],
          [
           "Miravânia"
          ],
          [
           "Medeiros"
          ],
          [
           "Matozinhos"
          ],
          [
           "Mato Verde"
          ],
          [
           "Matipó"
          ],
          [
           "Matias Cardoso"
          ],
          [
           "Matias Barbosa"
          ],
          [
           "Mathias Lobato"
          ],
          [
           "Mateus Leme"
          ],
          [
           "Materlândia"
          ],
          [
           "Matutina"
          ],
          [
           "Presidente Juscelino"
          ],
          [
           "Oliveira"
          ],
          [
           "Onça de Pitangui"
          ],
          [
           "Piranga"
          ],
          [
           "Pirajuba"
          ],
          [
           "Piracema"
          ],
          [
           "Pintópolis"
          ],
          [
           "Pingo-d'Água"
          ],
          [
           "Pimenta"
          ],
          [
           "Piedade dos Gerais"
          ],
          [
           "Piedade do Rio Grande"
          ],
          [
           "Piedade de Ponte Nova"
          ],
          [
           "Piedade de Caratinga"
          ],
          [
           "Piau"
          ],
          [
           "Pescador"
          ],
          [
           "Periquito"
          ],
          [
           "Perdões"
          ],
          [
           "Perdizes"
          ],
          [
           "Perdigão"
          ],
          [
           "Pequi"
          ],
          [
           "Piranguçu"
          ],
          [
           "Piranguinho"
          ],
          [
           "Pirapetinga"
          ],
          [
           "Pirapora"
          ],
          [
           "Pratinha"
          ],
          [
           "Pratápolis"
          ],
          [
           "Prata"
          ],
          [
           "Prados"
          ],
          [
           "Pouso Alto"
          ],
          [
           "Poté"
          ],
          [
           "Porto Firme"
          ],
          [
           "Porteirinha"
          ],
          [
           "Pequeri"
          ],
          [
           "Ponto dos Volantes"
          ],
          [
           "Ponte Nova"
          ],
          [
           "Pompéu"
          ],
          [
           "Pocrane"
          ],
          [
           "Poço Fundo"
          ],
          [
           "Planura"
          ],
          [
           "Piumhi"
          ],
          [
           "Pitangui"
          ],
          [
           "Piraúba"
          ],
          [
           "Ponto Chique"
          ],
          [
           "Oliveira Fortes"
          ],
          [
           "Pedro Teixeira"
          ],
          [
           "Pedrinópolis"
          ],
          [
           "Paraguaçu"
          ],
          [
           "Paracatu"
          ],
          [
           "Pará de Minas"
          ],
          [
           "Papagaios"
          ],
          [
           "Palmópolis"
          ],
          [
           "Palma"
          ],
          [
           "Paiva"
          ],
          [
           "Pains"
          ],
          [
           "Paineiras"
          ],
          [
           "Pai Pedro"
          ],
          [
           "Padre Paraíso"
          ],
          [
           "Padre Carvalho"
          ],
          [
           "Ouro Verde de Minas"
          ],
          [
           "Ouro Fino"
          ],
          [
           "Ouro Branco"
          ],
          [
           "Orizânia"
          ],
          [
           "Oratórios"
          ],
          [
           "Paraisópolis"
          ],
          [
           "Paraopeba"
          ],
          [
           "Passa Quatro"
          ],
          [
           "Passa Tempo"
          ],
          [
           "Pedras de Maria da Cruz"
          ],
          [
           "Pedralva"
          ],
          [
           "Pedra Dourada"
          ],
          [
           "Pedra do Indaiá"
          ],
          [
           "Pedra do Anta"
          ],
          [
           "Pedra Bonita"
          ],
          [
           "Pedra Azul"
          ],
          [
           "Peçanha"
          ],
          [
           "Pedro Leopoldo"
          ],
          [
           "Pavão"
          ],
          [
           "Paula Cândido"
          ],
          [
           "Patrocínio do Muriaé"
          ],
          [
           "Patrocínio"
          ],
          [
           "Patos de Minas"
          ],
          [
           "Patis"
          ],
          [
           "Passos"
          ],
          [
           "Passa-Vinte"
          ],
          [
           "Passabém"
          ],
          [
           "Paulistas"
          ],
          [
           "Simonésia"
          ],
          [
           "Sobrália"
          ],
          [
           "Soledade de Minas"
          ],
          [
           "Cachoeira dos Índios"
          ],
          [
           "Cabedelo"
          ],
          [
           "Cabaceiras"
          ],
          [
           "Caaporã"
          ],
          [
           "Brejo dos Santos"
          ],
          [
           "Brejo do Cruz"
          ],
          [
           "Borborema"
          ],
          [
           "Boqueirão"
          ],
          [
           "Bonito de Santa Fé"
          ],
          [
           "Bom Sucesso"
          ],
          [
           "Bom Jesus"
          ],
          [
           "Boa Vista"
          ],
          [
           "Boa Ventura"
          ],
          [
           "Bernardino Batista"
          ],
          [
           "Belém do Brejo do Cruz"
          ],
          [
           "Belém"
          ],
          [
           "Bayeux"
          ],
          [
           "Cacimba de Areia"
          ],
          [
           "Cacimba de Dentro"
          ],
          [
           "Cacimbas"
          ],
          [
           "Caiçara"
          ],
          [
           "Cruz do Espírito Santo"
          ],
          [
           "Coxixola"
          ],
          [
           "Coremas"
          ],
          [
           "Congo"
          ],
          [
           "Conde"
          ],
          [
           "Condado"
          ],
          [
           "Conceição"
          ],
          [
           "Caturité"
          ],
          [
           "Barra de São Miguel"
          ],
          [
           "Catolé do Rocha"
          ],
          [
           "Casserengue"
          ],
          [
           "Carrapateira"
          ],
          [
           "Caraúbas"
          ],
          [
           "Capim"
          ],
          [
           "Camalaú"
          ],
          [
           "Caldas Brandão"
          ],
          [
           "Cajazeirinhas"
          ],
          [
           "Cajazeiras"
          ],
          [
           "Catingueira"
          ],
          [
           "Cubati"
          ],
          [
           "Barra de Santana"
          ],
          [
           "Baraúna"
          ],
          [
           "Viseu"
          ],
          [
           "Vigia"
          ],
          [
           "Uruará"
          ],
          [
           "Ulianópolis"
          ],
          [
           "Tucuruí"
          ],
          [
           "Tucumã"
          ],
          [
           "Trairão"
          ],
          [
           "Tracuateua"
          ],
          [
           "Tomé-Açu"
          ],
          [
           "Terra Santa"
          ],
          [
           "Terra Alta"
          ],
          [
           "Tailândia"
          ],
          [
           "Soure"
          ],
          [
           "Senador José Porfírio"
          ],
          [
           "Sapucaia"
          ],
          [
           "São Sebastião da Boa Vista"
          ],
          [
           "São Miguel do Guamá"
          ],
          [
           "Vitória do Xingu"
          ],
          [
           "Xinguara"
          ],
          [
           "Água Branca"
          ],
          [
           "Aguiar"
          ],
          [
           "Bananeiras"
          ],
          [
           "Baía da Traição"
          ],
          [
           "Assunção"
          ],
          [
           "Aroeiras"
          ],
          [
           "Areial"
          ],
          [
           "Areia de Baraúnas"
          ],
          [
           "Areia"
          ],
          [
           "Araruna"
          ],
          [
           "Barra de Santa Rosa"
          ],
          [
           "Arara"
          ],
          [
           "Aparecida"
          ],
          [
           "Amparo"
          ],
          [
           "Alhandra"
          ],
          [
           "Algodão de Jandaíra"
          ],
          [
           "Alcantil"
          ],
          [
           "Alagoinha"
          ],
          [
           "Alagoa Nova"
          ],
          [
           "Alagoa Grande"
          ],
          [
           "Araçagi"
          ],
          [
           "São João do Araguaia"
          ],
          [
           "Cuité"
          ],
          [
           "Cuitegi"
          ],
          [
           "Nova Palmeira"
          ],
          [
           "Nova Olinda"
          ],
          [
           "Nova Floresta"
          ],
          [
           "Nazarezinho"
          ],
          [
           "Natuba"
          ],
          [
           "Mulungu"
          ],
          [
           "Monteiro"
          ],
          [
           "Monte Horebe"
          ],
          [
           "Montadas"
          ],
          [
           "Mogeiro"
          ],
          [
           "Maturéia"
          ],
          [
           "Mato Grosso"
          ],
          [
           "Matinhas"
          ],
          [
           "Mataraca"
          ],
          [
           "Massaranduba"
          ],
          [
           "Marizópolis"
          ],
          [
           "Mari"
          ],
          [
           "Olho d'Água"
          ],
          [
           "Olivedos"
          ],
          [
           "Ouro Velho"
          ],
          [
           "Parari"
          ],
          [
           "Pombal"
          ],
          [
           "Poço de José de Moura"
          ],
          [
           "Poço Dantas"
          ],
          [
           "Pocinhos"
          ],
          [
           "Pitimbu"
          ],
          [
           "Pirpirituba"
          ],
          [
           "Pilõezinhos"
          ],
          [
           "Pilões"
          ],
          [
           "Marcação"
          ],
          [
           "Pilar"
          ],
          [
           "Piancó"
          ],
          [
           "Pedro Régis"
          ],
          [
           "Pedras de Fogo"
          ],
          [
           "Pedra Lavrada"
          ],
          [
           "Pedra Branca"
          ],
          [
           "Paulista"
          ],
          [
           "Patos"
          ],
          [
           "Passagem"
          ],
          [
           "Picuí"
          ],
          [
           "Cuité de Mamanguape"
          ],
          [
           "Manaíra"
          ],
          [
           "Malta"
          ],
          [
           "Igaracy"
          ],
          [
           "Ibiara"
          ],
          [
           "Gurjão"
          ],
          [
           "Gurinhém"
          ],
          [
           "Guarabira"
          ],
          [
           "Gado Bravo"
          ],
          [
           "Frei Martinho"
          ],
          [
           "Fagundes"
          ],
          [
           "Esperança"
          ],
          [
           "Emas"
          ],
          [
           "Duas Estradas"
          ],
          [
           "Dona Inês"
          ],
          [
           "Diamante"
          ],
          [
           "Desterro"
          ],
          [
           "Damião"
          ],
          [
           "Curral Velho"
          ],
          [
           "Curral de Cima"
          ],
          [
           "Imaculada"
          ],
          [
           "Ingá"
          ],
          [
           "Itabaiana"
          ],
          [
           "Itaporanga"
          ],
          [
           "Mãe d'Água"
          ],
          [
           "Lucena"
          ],
          [
           "Logradouro"
          ],
          [
           "Livramento"
          ],
          [
           "Lastro"
          ],
          [
           "Lagoa Seca"
          ],
          [
           "Lagoa de Dentro"
          ],
          [
           "Lagoa"
          ],
          [
           "Mamanguape"
          ],
          [
           "Juru"
          ],
          [
           "Junco do Seridó"
          ],
          [
           "Juazeirinho"
          ],
          [
           "Juarez Távora"
          ],
          [
           "Joca Claudino"
          ],
          [
           "Jericó"
          ],
          [
           "Jacaraú"
          ],
          [
           "Itatuba"
          ],
          [
           "Itapororoca"
          ],
          [
           "Juripiranga"
          ],
          [
           "São João de Pirabas"
          ],
          [
           "São João da Ponta"
          ],
          [
           "São Geraldo do Araguaia"
          ],
          [
           "Almeirim"
          ],
          [
           "Alenquer"
          ],
          [
           "Água Azul do Norte"
          ],
          [
           "Afuá"
          ],
          [
           "Acará"
          ],
          [
           "Abel Figueiredo"
          ],
          [
           "Abaetetuba"
          ],
          [
           "Wenceslau Braz"
          ],
          [
           "Volta Grande"
          ],
          [
           "Visconde do Rio Branco"
          ],
          [
           "Virgolândia"
          ],
          [
           "Virginópolis"
          ],
          [
           "Virgínia"
          ],
          [
           "Virgem da Lapa"
          ],
          [
           "Vieiras"
          ],
          [
           "Viçosa"
          ],
          [
           "Vespasiano"
          ],
          [
           "Altamira"
          ],
          [
           "Anajás"
          ],
          [
           "Anapu"
          ],
          [
           "Augusto Corrêa"
          ],
          [
           "Cachoeira do Piriá"
          ],
          [
           "Cachoeira do Arari"
          ],
          [
           "Bujaru"
          ],
          [
           "Breves"
          ],
          [
           "Breu Branco"
          ],
          [
           "Brejo Grande do Araguaia"
          ],
          [
           "Brasil Novo"
          ],
          [
           "Bragança"
          ],
          [
           "Vermelho Novo"
          ],
          [
           "Bonito"
          ],
          [
           "Benevides"
          ],
          [
           "Belterra"
          ],
          [
           "Barcarena"
          ],
          [
           "Bannach"
          ],
          [
           "Baião"
          ],
          [
           "Bagre"
          ],
          [
           "Aveiro"
          ],
          [
           "Aurora do Pará"
          ],
          [
           "Bom Jesus do Tocantins"
          ],
          [
           "Cametá"
          ],
          [
           "Veríssimo"
          ],
          [
           "Verdelândia"
          ],
          [
           "Três Corações"
          ],
          [
           "Tombos"
          ],
          [
           "Toledo"
          ],
          [
           "Tocos do Moji"
          ],
          [
           "Tocantins"
          ],
          [
           "Tiros"
          ],
          [
           "Tiradentes"
          ],
          [
           "Timóteo"
          ],
          [
           "Teófilo Otoni"
          ],
          [
           "Teixeiras"
          ],
          [
           "Tarumirim"
          ],
          [
           "Taquaraçu de Minas"
          ],
          [
           "Tapiraí"
          ],
          [
           "Tapira"
          ],
          [
           "Taparuba"
          ],
          [
           "Taiobeiras"
          ],
          [
           "Tabuleiro"
          ],
          [
           "Três Marias"
          ],
          [
           "Três Pontas"
          ],
          [
           "Tumiritinga"
          ],
          [
           "Tupaciguara"
          ],
          [
           "Vazante"
          ],
          [
           "Varzelândia"
          ],
          [
           "Várzea da Palma"
          ],
          [
           "Varjão de Minas"
          ],
          [
           "Vargem Grande do Rio Pardo"
          ],
          [
           "Vargem Bonita"
          ],
          [
           "Vargem Alegre"
          ],
          [
           "Urucuia"
          ],
          [
           "Veredinha"
          ],
          [
           "Urucânia"
          ],
          [
           "União de Minas"
          ],
          [
           "Unaí"
          ],
          [
           "Umburatiba"
          ],
          [
           "Ubaporanga"
          ],
          [
           "Ubaí"
          ],
          [
           "Ubá"
          ],
          [
           "Turvolândia"
          ],
          [
           "Turmalina"
          ],
          [
           "Uruana de Minas"
          ],
          [
           "Canaã dos Carajás"
          ],
          [
           "Capanema"
          ],
          [
           "Capitão Poço"
          ],
          [
           "Primavera"
          ],
          [
           "Prainha"
          ],
          [
           "Porto de Moz"
          ],
          [
           "Portel"
          ],
          [
           "Ponta de Pedras"
          ],
          [
           "Placas"
          ],
          [
           "Piçarra"
          ],
          [
           "Peixe-Boi"
          ],
          [
           "Pau D'Arco"
          ],
          [
           "Paragominas"
          ],
          [
           "Palestina do Pará"
          ],
          [
           "Pacajá"
          ],
          [
           "Ourilândia do Norte"
          ],
          [
           "Ourém"
          ],
          [
           "Oriximiná"
          ],
          [
           "Oeiras do Pará"
          ],
          [
           "Óbidos"
          ],
          [
           "Quatipuru"
          ],
          [
           "Redenção"
          ],
          [
           "Rio Maria"
          ],
          [
           "Rondon do Pará"
          ],
          [
           "São Francisco do Pará"
          ],
          [
           "São Félix do Xingu"
          ],
          [
           "São Domingos do Capim"
          ],
          [
           "São Domingos do Araguaia"
          ],
          [
           "São Caetano de Odivelas"
          ],
          [
           "Santo Antônio do Tauá"
          ],
          [
           "Santarém Novo"
          ],
          [
           "Santarém"
          ],
          [
           "Novo Repartimento"
          ],
          [
           "Santana do Araguaia"
          ],
          [
           "Santa Maria das Barreiras"
          ],
          [
           "Santa Luzia do Pará"
          ],
          [
           "Santa Isabel do Pará"
          ],
          [
           "Santa Cruz do Arari"
          ],
          [
           "Santa Bárbara do Pará"
          ],
          [
           "Salvaterra"
          ],
          [
           "Salinópolis"
          ],
          [
           "Rurópolis"
          ],
          [
           "Santa Maria do Pará"
          ],
          [
           "Novo Progresso"
          ],
          [
           "Nova Timboteua"
          ],
          [
           "Nova Ipixuna"
          ],
          [
           "Igarapé-Açu"
          ],
          [
           "Gurupá"
          ],
          [
           "Goianésia do Pará"
          ],
          [
           "Garrafão do Norte"
          ],
          [
           "Floresta do Araguaia"
          ],
          [
           "Faro"
          ],
          [
           "Eldorado dos Carajás"
          ],
          [
           "Dom Eliseu"
          ],
          [
           "Igarapé-Miri"
          ],
          [
           "Curuçá"
          ],
          [
           "Curralinho"
          ],
          [
           "Curionópolis"
          ],
          [
           "Cumaru do Norte"
          ],
          [
           "Concórdia do Pará"
          ],
          [
           "Conceição do Araguaia"
          ],
          [
           "Colares"
          ],
          [
           "Chaves"
          ],
          [
           "Castanhal"
          ],
          [
           "Curuá"
          ],
          [
           "Luminárias"
          ],
          [
           "Inhangapi"
          ],
          [
           "Irituia"
          ],
          [
           "Nova Esperança do Piriá"
          ],
          [
           "Muaná"
          ],
          [
           "Monte Alegre"
          ],
          [
           "Moju"
          ],
          [
           "Mocajuba"
          ],
          [
           "Melgaço"
          ],
          [
           "Medicilândia"
          ],
          [
           "Marituba"
          ],
          [
           "Ipixuna do Pará"
          ],
          [
           "Marapanim"
          ],
          [
           "Magalhães Barata"
          ],
          [
           "Mãe do Rio"
          ],
          [
           "Limoeiro do Ajuru"
          ],
          [
           "Juruti"
          ],
          [
           "Jacundá"
          ],
          [
           "Jacareacanga"
          ],
          [
           "Itupiranga"
          ],
          [
           "Itaituba"
          ],
          [
           "Maracanã"
          ],
          [
           "Luislândia"
          ],
          [
           "Monsenhor Paulo"
          ],
          [
           "Lontra"
          ],
          [
           "Bom Jardim de Minas"
          ],
          [
           "Bom Despacho"
          ],
          [
           "Bocaiúva"
          ],
          [
           "Bocaina de Minas"
          ],
          [
           "Boa Esperança"
          ],
          [
           "Biquinhas"
          ],
          [
           "Bicas"
          ],
          [
           "Bias Fortes"
          ],
          [
           "Bom Jesus da Penha"
          ],
          [
           "Bertópolis"
          ],
          [
           "Berilo"
          ],
          [
           "Belo Vale"
          ],
          [
           "Belo Oriente"
          ],
          [
           "Belmiro Braga"
          ],
          [
           "Bela Vista de Minas"
          ],
          [
           "Barroso"
          ],
          [
           "Barra Longa"
          ],
          [
           "Barbacena"
          ],
          [
           "Berizal"
          ],
          [
           "Barão de Monte Alto"
          ],
          [
           "Bom Jesus do Amparo"
          ],
          [
           "Bom Repouso"
          ],
          [
           "Buritizeiro"
          ],
          [
           "Buritis"
          ],
          [
           "Bugre"
          ],
          [
           "Buenópolis"
          ],
          [
           "Bueno Brandão"
          ],
          [
           "Brumadinho"
          ],
          [
           "Brazópolis"
          ],
          [
           "Braúnas"
          ],
          [
           "Bom Jesus do Galho"
          ],
          [
           "Brasília de Minas"
          ],
          [
           "Brás Pires"
          ],
          [
           "Botumirim"
          ],
          [
           "Botelhos"
          ],
          [
           "Borda da Mata"
          ],
          [
           "Bonito de Minas"
          ],
          [
           "Bonfinópolis de Minas"
          ],
          [
           "Bonfim"
          ],
          [
           "Bom Sucesso"
          ],
          [
           "Brasilândia de Minas"
          ],
          [
           "Cabeceira Grande"
          ],
          [
           "Barão de Cocais"
          ],
          [
           "Bandeira"
          ],
          [
           "Antônio Prado de Minas"
          ],
          [
           "Antônio Dias"
          ],
          [
           "Antônio Carlos"
          ],
          [
           "Angelândia"
          ],
          [
           "Andrelândia"
          ],
          [
           "Andradas"
          ],
          [
           "Amparo do Serra"
          ],
          [
           "Alvorada de Minas"
          ],
          [
           "Araçaí"
          ],
          [
           "Alvinópolis"
          ],
          [
           "Alto Rio Doce"
          ],
          [
           "Alto Jequitibá"
          ],
          [
           "Alto Caparaó"
          ],
          [
           "Alterosa"
          ],
          [
           "Alpinópolis"
          ],
          [
           "Alpercata"
          ],
          [
           "Almenara"
          ],
          [
           "Alfredo Vasconcelos"
          ],
          [
           "Alvarenga"
          ],
          [
           "Bandeira do Sul"
          ],
          [
           "Aracitaba"
          ],
          [
           "Araguari"
          ],
          [
           "Bambuí"
          ],
          [
           "Baldim"
          ],
          [
           "Baependi"
          ],
          [
           "Augusto de Lima"
          ],
          [
           "Ataléia"
          ],
          [
           "Astolfo Dutra"
          ],
          [
           "Arinos"
          ],
          [
           "Aricanduva"
          ],
          [
           "Araçuaí"
          ],
          [
           "Argirita"
          ],
          [
           "Arcos"
          ],
          [
           "Arceburgo"
          ],
          [
           "Araxá"
          ],
          [
           "Araújos"
          ],
          [
           "Arapuá"
          ],
          [
           "Araporã"
          ],
          [
           "Araponga"
          ],
          [
           "Arantina"
          ],
          [
           "Areado"
          ],
          [
           "Cabo Verde"
          ],
          [
           "Cachoeira da Prata"
          ],
          [
           "Cachoeira de Minas"
          ],
          [
           "Catuji"
          ],
          [
           "Catas Altas da Noruega"
          ],
          [
           "Catas Altas"
          ],
          [
           "Cataguases"
          ],
          [
           "Cássia"
          ],
          [
           "Cascalho Rico"
          ],
          [
           "Casa Grande"
          ],
          [
           "Carvalhos"
          ],
          [
           "Catuti"
          ],
          [
           "Carvalhópolis"
          ],
          [
           "Carneirinho"
          ],
          [
           "Carmópolis de Minas"
          ],
          [
           "Carmo do Rio Claro"
          ],
          [
           "Luisburgo"
          ],
          [
           "Carmo do Cajuru"
          ],
          [
           "Carmo de Minas"
          ],
          [
           "Carmo da Mata"
          ],
          [
           "Carmo da Cachoeira"
          ],
          [
           "Carrancas"
          ],
          [
           "Carmésia"
          ],
          [
           "Caxambu"
          ],
          [
           "Central de Minas"
          ],
          [
           "Conceição das Pedras"
          ],
          [
           "Conceição das Alagoas"
          ],
          [
           "Conceição da Barra de Minas"
          ],
          [
           "Conceição da Aparecida"
          ],
          [
           "Comercinho"
          ],
          [
           "Comendador Gomes"
          ],
          [
           "Coluna"
          ],
          [
           "Coimbra"
          ],
          [
           "Cedro do Abaeté"
          ],
          [
           "Cláudio"
          ],
          [
           "Claraval"
          ],
          [
           "Cipotânea"
          ],
          [
           "Chiador"
          ],
          [
           "Chapada Gaúcha"
          ],
          [
           "Chapada do Norte"
          ],
          [
           "Chalé"
          ],
          [
           "Chácara"
          ],
          [
           "Centralina"
          ],
          [
           "Claro dos Poções"
          ],
          [
           "Carlos Chagas"
          ],
          [
           "Careaçu"
          ],
          [
           "Carbonita"
          ],
          [
           "Campo do Meio"
          ],
          [
           "Campo Belo"
          ],
          [
           "Campo Azul"
          ],
          [
           "Campina Verde"
          ],
          [
           "Campestre"
          ],
          [
           "Campanha"
          ],
          [
           "Campanário"
          ],
          [
           "Cambuquira"
          ],
          [
           "Campo Florido"
          ],
          [
           "Cambuí"
          ],
          [
           "Camacho"
          ],
          [
           "Caldas"
          ],
          [
           "Cajuri"
          ],
          [
           "Caiana"
          ],
          [
           "Caeté"
          ],
          [
           "Caetanópolis"
          ],
          [
           "Cachoeira Dourada"
          ],
          [
           "Cachoeira de Pajeú"
          ],
          [
           "Camanducaia"
          ],
          [
           "Campos Altos"
          ],
          [
           "Campos Gerais"
          ],
          [
           "Cana Verde"
          ],
          [
           "Caratinga"
          ],
          [
           "Carangola"
          ],
          [
           "Carandaí"
          ],
          [
           "Caranaíba"
          ],
          [
           "Caraí"
          ],
          [
           "Caputira"
          ],
          [
           "Capitólio"
          ],
          [
           "Capitão Enéas"
          ],
          [
           "Capitão Andrade"
          ],
          [
           "Capinópolis"
          ],
          [
           "Capim Branco"
          ],
          [
           "Capetinga"
          ],
          [
           "Capelinha"
          ],
          [
           "Capela Nova"
          ],
          [
           "Caparaó"
          ],
          [
           "Cantagalo"
          ],
          [
           "Candeias"
          ],
          [
           "Canápolis"
          ],
          [
           "Canaã"
          ],
          [
           "Alfenas"
          ],
          [
           "Além Paraíba"
          ],
          [
           "Albertina"
          ],
          [
           "Alagoa"
          ],
          [
           "Santa Terezinha"
          ],
          [
           "Santa Rita do Trivelato"
          ],
          [
           "Santa Cruz do Xingu"
          ],
          [
           "Santa Carmem"
          ],
          [
           "Salto do Céu"
          ],
          [
           "Rosário Oeste"
          ],
          [
           "Rondolândia"
          ],
          [
           "Rio Branco"
          ],
          [
           "Santo Afonso"
          ],
          [
           "Ribeirãozinho"
          ],
          [
           "Reserva do Cabaçal"
          ],
          [
           "Querência"
          ],
          [
           "Primavera do Leste"
          ],
          [
           "Poxoréo"
          ],
          [
           "Porto Estrela"
          ],
          [
           "Porto Esperidião"
          ],
          [
           "Porto dos Gaúchos"
          ],
          [
           "Porto Alegre do Norte"
          ],
          [
           "Ribeirão Cascalheira"
          ],
          [
           "Pontes e Lacerda"
          ],
          [
           "Santo Antônio do Leste"
          ],
          [
           "São Félix do Araguaia"
          ],
          [
           "Vera"
          ],
          [
           "Vale de São Domingos"
          ],
          [
           "União do Sul"
          ],
          [
           "Torixoréu"
          ],
          [
           "Tesouro"
          ],
          [
           "Terra Nova do Norte"
          ],
          [
           "Tapurah"
          ],
          [
           "Tangará da Serra"
          ],
          [
           "Santo Antônio do Leverger"
          ],
          [
           "Tabaporã"
          ],
          [
           "Sinop"
          ],
          [
           "Serra Nova Dourada"
          ],
          [
           "Sapezal"
          ],
          [
           "São Pedro da Cipa"
          ],
          [
           "São José dos Quatro Marcos"
          ],
          [
           "São José do Xingu"
          ],
          [
           "São José do Rio Claro"
          ],
          [
           "São José do Povo"
          ],
          [
           "Sorriso"
          ],
          [
           "Ponte Branca"
          ],
          [
           "Pontal do Araguaia"
          ],
          [
           "Poconé"
          ],
          [
           "Nossa Senhora do Livramento"
          ],
          [
           "Nortelândia"
          ],
          [
           "Nobres"
          ],
          [
           "Mirassol d'Oeste"
          ],
          [
           "Matupá"
          ],
          [
           "Marcelândia"
          ],
          [
           "Luciara"
          ],
          [
           "Lucas do Rio Verde"
          ],
          [
           "Nova Bandeirantes"
          ],
          [
           "Lambari D'Oeste"
          ],
          [
           "Juruena"
          ],
          [
           "Juína"
          ],
          [
           "Juara"
          ],
          [
           "Jauru"
          ],
          [
           "Jangada"
          ],
          [
           "Jaciara"
          ],
          [
           "Itiquira"
          ],
          [
           "Itaúba"
          ],
          [
           "Juscimeira"
          ],
          [
           "Nova Brasilândia"
          ],
          [
           "Nova Canaã do Norte"
          ],
          [
           "Nova Guarita"
          ],
          [
           "Planalto da Serra"
          ],
          [
           "Peixoto de Azevedo"
          ],
          [
           "Pedra Preta"
          ],
          [
           "Paranatinga"
          ],
          [
           "Paranaíta"
          ],
          [
           "Novo São Joaquim"
          ],
          [
           "Novo Santo Antônio"
          ],
          [
           "Novo Mundo"
          ],
          [
           "Novo Horizonte do Norte"
          ],
          [
           "Nova Xavantina"
          ],
          [
           "Nova Ubiratã"
          ],
          [
           "Nova Santa Helena"
          ],
          [
           "Nova Olímpia"
          ],
          [
           "Nova Nazaré"
          ],
          [
           "Nova Mutum"
          ],
          [
           "Nova Monte Verde"
          ],
          [
           "Nova Maringá"
          ],
          [
           "Nova Marilândia"
          ],
          [
           "Nova Lacerda"
          ],
          [
           "Vila Bela da Santíssima Trindade"
          ],
          [
           "Conceição de Ipanema"
          ],
          [
           "Vila Rica"
          ],
          [
           "Alcinópolis"
          ],
          [
           "Rochedo"
          ],
          [
           "Rio Verde de Mato Grosso"
          ],
          [
           "Rio Negro"
          ],
          [
           "Rio Brilhante"
          ],
          [
           "Ribas do Rio Pardo"
          ],
          [
           "Porto Murtinho"
          ],
          [
           "Ponta Porã"
          ],
          [
           "Pedro Gomes"
          ],
          [
           "Santa Rita do Pardo"
          ],
          [
           "Paranhos"
          ],
          [
           "Novo Horizonte do Sul"
          ],
          [
           "Nova Andradina"
          ],
          [
           "Nova Alvorada do Sul"
          ],
          [
           "Nioaque"
          ],
          [
           "Naviraí"
          ],
          [
           "Mundo Novo"
          ],
          [
           "Miranda"
          ],
          [
           "Maracaju"
          ],
          [
           "Paranaíba"
          ],
          [
           "Laguna Carapã"
          ],
          [
           "São Gabriel do Oeste"
          ],
          [
           "Sete Quedas"
          ],
          [
           "Aiuruoca"
          ],
          [
           "Aimorés"
          ],
          [
           "Águas Vermelhas"
          ],
          [
           "Águas Formosas"
          ],
          [
           "Aguanil"
          ],
          [
           "Água Comprida"
          ],
          [
           "Água Boa"
          ],
          [
           "Açucena"
          ],
          [
           "Selvíria"
          ],
          [
           "Acaiaca"
          ],
          [
           "Abaeté"
          ],
          [
           "Abadia dos Dourados"
          ],
          [
           "Vicentina"
          ],
          [
           "Terenos"
          ],
          [
           "Taquarussu"
          ],
          [
           "Tacuru"
          ],
          [
           "Sonora"
          ],
          [
           "Sidrolândia"
          ],
          [
           "Abre Campo"
          ],
          [
           "Ladário"
          ],
          [
           "Juti"
          ],
          [
           "Jateí"
          ],
          [
           "Caracol"
          ],
          [
           "Camapuã"
          ],
          [
           "Caarapó"
          ],
          [
           "Brasilândia"
          ],
          [
           "Bonito"
          ],
          [
           "Bodoquena"
          ],
          [
           "Bela Vista"
          ],
          [
           "Batayporã"
          ],
          [
           "Cassilândia"
          ],
          [
           "Bataguassu"
          ],
          [
           "Aral Moreira"
          ],
          [
           "Aquidauana"
          ],
          [
           "Aparecida do Taboado"
          ],
          [
           "Antônio João"
          ],
          [
           "Angélica"
          ],
          [
           "Anaurilândia"
          ],
          [
           "Anastácio"
          ],
          [
           "Amambai"
          ],
          [
           "Bandeirantes"
          ],
          [
           "Chapadão do Sul"
          ],
          [
           "Corguinho"
          ],
          [
           "Coronel Sapucaia"
          ],
          [
           "Jardim"
          ],
          [
           "Jaraguari"
          ],
          [
           "Japorã"
          ],
          [
           "Ivinhema"
          ],
          [
           "Itaquiraí"
          ],
          [
           "Itaporã"
          ],
          [
           "Inocência"
          ],
          [
           "Iguatemi"
          ],
          [
           "Guia Lopes da Laguna"
          ],
          [
           "Glória de Dourados"
          ],
          [
           "Figueirão"
          ],
          [
           "Fátima do Sul"
          ],
          [
           "Eldorado"
          ],
          [
           "Douradina"
          ],
          [
           "Dois Irmãos do Buriti"
          ],
          [
           "Deodápolis"
          ],
          [
           "Coxim"
          ],
          [
           "Costa Rica"
          ],
          [
           "Corumbá"
          ],
          [
           "Água Clara"
          ],
          [
           "Conceição do Mato Dentro"
          ],
          [
           "Carmo do Paranaíba"
          ],
          [
           "Conceição do Rio Verde"
          ],
          [
           "Ibiracatu"
          ],
          [
           "Ibiaí"
          ],
          [
           "Ibiá"
          ],
          [
           "Ibertioga"
          ],
          [
           "Iapu"
          ],
          [
           "Heliodora"
          ],
          [
           "Gurinhatã"
          ],
          [
           "Ibiraci"
          ],
          [
           "Guiricema"
          ],
          [
           "Guidoval"
          ],
          [
           "Guaxupé"
          ],
          [
           "Guarda-Mor"
          ],
          [
           "Guarará"
          ],
          [
           "Guarani"
          ],
          [
           "Guaranésia"
          ],
          [
           "Guaraciama"
          ],
          [
           "Guimarânia"
          ],
          [
           "Ibirité"
          ],
          [
           "Ibitiúra de Minas"
          ],
          [
           "Ibituruna"
          ],
          [
           "Ipiaçu"
          ],
          [
           "Ipanema"
          ],
          [
           "Ipaba"
          ],
          [
           "Inimutaba"
          ],
          [
           "Inhaúma"
          ],
          [
           "Inhapim"
          ],
          [
           "Ingaí"
          ],
          [
           "Indianópolis"
          ],
          [
           "Indaiabira"
          ],
          [
           "Inconfidentes"
          ],
          [
           "Imbé de Minas"
          ],
          [
           "Ilicínea"
          ],
          [
           "Ijaci"
          ],
          [
           "Iguatama"
          ],
          [
           "Igaratinga"
          ],
          [
           "Igarapé"
          ],
          [
           "Icaraí de Minas"
          ],
          [
           "Guaraciaba"
          ],
          [
           "Ipuiúna"
          ],
          [
           "Guapé"
          ],
          [
           "Grupiara"
          ],
          [
           "Francisco Badaró"
          ],
          [
           "Fortuna de Minas"
          ],
          [
           "Fortaleza de Minas"
          ],
          [
           "Formoso"
          ],
          [
           "Formiga"
          ],
          [
           "Florestal"
          ],
          [
           "Fervedouro"
          ],
          [
           "Francisco Dumont"
          ],
          [
           "Ferros"
          ],
          [
           "Felixlândia"
          ],
          [
           "Felisburgo"
          ],
          [
           "Felício dos Santos"
          ],
          [
           "Faria Lemos"
          ],
          [
           "Fama"
          ],
          [
           "Extrema"
          ],
          [
           "Ewbank da Câmara"
          ],
          [
           "Fernandes Tourinho"
          ],
          [
           "Francisco Sá"
          ],
          [
           "Franciscópolis"
          ],
          [
           "Frei Gaspar"
          ],
          [
           "Grão Mogol"
          ],
          [
           "Gouveia"
          ],
          [
           "Gonzaga"
          ],
          [
           "Gonçalves"
          ],
          [
           "Goianá"
          ],
          [
           "Goiabeira"
          ],
          [
           "Glaucilândia"
          ],
          [
           "Gameleiras"
          ],
          [
           "Galiléia"
          ],
          [
           "Funilândia"
          ],
          [
           "Frutal"
          ],
          [
           "Fruta de Leite"
          ],
          [
           "Conceição do Pará"
          ],
          [
           "Fronteira dos Vales"
          ],
          [
           "Fronteira"
          ],
          [
           "Frei Lagonegro"
          ],
          [
           "Frei Inocêncio"
          ],
          [
           "Guanhães"
          ],
          [
           "Eugenópolis"
          ],
          [
           "Iraí de Minas"
          ],
          [
           "Itabirito"
          ],
          [
           "Juruaia"
          ],
          [
           "Juramento"
          ],
          [
           "Juatuba"
          ],
          [
           "Josenópolis"
          ],
          [
           "José Raydan"
          ],
          [
           "José Gonçalves de Minas"
          ],
          [
           "Jordânia"
          ],
          [
           "Juvenília"
          ],
          [
           "Joaquim Felício"
          ],
          [
           "João Monlevade"
          ],
          [
           "Joanésia"
          ],
          [
           "Joaíma"
          ],
          [
           "Jesuânia"
          ],
          [
           "Jequitinhonha"
          ],
          [
           "Jequitibá"
          ],
          [
           "Jequitaí"
          ],
          [
           "João Pinheiro"
          ],
          [
           "Ladainha"
          ],
          [
           "Lagamar"
          ],
          [
           "Lagoa da Prata"
          ],
          [
           "Limeira do Oeste"
          ],
          [
           "Lima Duarte"
          ],
          [
           "Liberdade"
          ],
          [
           "Leopoldina"
          ],
          [
           "Leme do Prado"
          ],
          [
           "Leandro Ferreira"
          ],
          [
           "Lavras"
          ],
          [
           "Lassance"
          ],
          [
           "Laranjal"
          ],
          [
           "Lamim"
          ],
          [
           "Lambari"
          ],
          [
           "Lajinha"
          ],
          [
           "Lagoa Santa"
          ],
          [
           "Lagoa Grande"
          ],
          [
           "Lagoa Formosa"
          ],
          [
           "Lagoa Dourada"
          ],
          [
           "Lagoa dos Patos"
          ],
          [
           "Jequeri"
          ],
          [
           "Itabirinha"
          ],
          [
           "Jenipapo de Minas"
          ],
          [
           "Japonvar"
          ],
          [
           "Itapecerica"
          ],
          [
           "Itapagipe"
          ],
          [
           "Itaobim"
          ],
          [
           "Itanhomi"
          ],
          [
           "Itanhandu"
          ],
          [
           "Itamonte"
          ],
          [
           "Itamogi"
          ],
          [
           "Itapeva"
          ],
          [
           "Itambé do Mato Dentro"
          ],
          [
           "Itamarati de Minas"
          ],
          [
           "Itamarandiba"
          ],
          [
           "Itajubá"
          ],
          [
           "Itaipé"
          ],
          [
           "Itaguara"
          ],
          [
           "Itacarambi"
          ],
          [
           "Itacambira"
          ],
          [
           "Itambacuri"
          ],
          [
           "Itatiaiuçu"
          ],
          [
           "Itaú de Minas"
          ],
          [
           "Itaúna"
          ],
          [
           "Japaraíba"
          ],
          [
           "Januária"
          ],
          [
           "Janaúba"
          ],
          [
           "Jampruca"
          ],
          [
           "Jaíba"
          ],
          [
           "Jaguaraçu"
          ],
          [
           "Jacutinga"
          ],
          [
           "Jacuí"
          ],
          [
           "Jacinto"
          ],
          [
           "Jaboticatubas"
          ],
          [
           "Itutinga"
          ],
          [
           "Iturama"
          ],
          [
           "Itumirim"
          ],
          [
           "Ituiutaba"
          ],
          [
           "Itueta"
          ],
          [
           "Itinga"
          ],
          [
           "Itaverava"
          ],
          [
           "Jeceaba"
          ],
          [
           "Estrela do Sul"
          ],
          [
           "Xambioá"
          ],
          [
           "Estrela Dalva"
          ],
          [
           "Cordislândia"
          ],
          [
           "Douradoquara"
          ],
          [
           "Córrego Novo"
          ],
          [
           "Durandé"
          ],
          [
           "Elói Mendes"
          ],
          [
           "Cordisburgo"
          ],
          [
           "Couto de Magalhães de Minas"
          ],
          [
           "Divisa Nova"
          ],
          [
           "Engenheiro Caldas"
          ],
          [
           "Coração de Jesus"
          ],
          [
           "Engenheiro Navarro"
          ],
          [
           "Divisa Alegre"
          ],
          [
           "Crisólita"
          ],
          [
           "Cristais"
          ],
          [
           "Divinolândia de Minas"
          ],
          [
           "Divino das Laranjeiras"
          ],
          [
           "Coqueiral"
          ],
          [
           "Doresópolis"
          ],
          [
           "Cristália"
          ],
          [
           "Corinto"
          ],
          [
           "Córrego Fundo"
          ],
          [
           "Dores de Campos"
          ],
          [
           "Coronel Pacheco"
          ],
          [
           "Dores de Guanhães"
          ],
          [
           "Dona Eusébia"
          ],
          [
           "Dom Viçoso"
          ],
          [
           "Coronel Xavier Chaves"
          ],
          [
           "Dores do Indaiá"
          ],
          [
           "Coronel Fabriciano"
          ],
          [
           "Coromandel"
          ],
          [
           "Córrego Danta"
          ],
          [
           "Coroaci"
          ],
          [
           "Dom Silvério"
          ],
          [
           "Córrego do Bom Jesus"
          ],
          [
           "Dores do Turvo"
          ],
          [
           "Dom Joaquim"
          ],
          [
           "Dom Cavati"
          ],
          [
           "Dom Bosco"
          ],
          [
           "Divisópolis"
          ],
          [
           "Cristiano Otoni"
          ],
          [
           "Divino"
          ],
          [
           "Consolação"
          ],
          [
           "Entre Folhas"
          ],
          [
           "Congonhas"
          ],
          [
           "Curral de Dentro"
          ],
          [
           "Espírito Santo do Dourado"
          ],
          [
           "Congonhal"
          ],
          [
           "Confins"
          ],
          [
           "Cônego Marinho"
          ],
          [
           "Estiva"
          ],
          [
           "Congonhas do Norte"
          ],
          [
           "Curvelo"
          ],
          [
           "Diamantina"
          ],
          [
           "Desterro do Melo"
          ],
          [
           "Delfim Moreira"
          ],
          [
           "Delfinópolis"
          ],
          [
           "Desterro de Entre Rios"
          ],
          [
           "Delta"
          ],
          [
           "Descoberto"
          ],
          [
           "Conceição dos Ouros"
          ],
          [
           "Datas"
          ],
          [
           "Espera Feliz"
          ],
          [
           "Espinosa"
          ],
          [
           "Conquista"
          ],
          [
           "Entre Rios de Minas"
          ],
          [
           "Cristina"
          ],
          [
           "Estrela do Indaiá"
          ],
          [
           "Crucilândia"
          ],
          [
           "Divinésia"
          ],
          [
           "Cruzeiro da Fortaleza"
          ],
          [
           "Ervália"
          ],
          [
           "Cuparaque"
          ],
          [
           "Diogo de Vasconcelos"
          ],
          [
           "Conselheiro Pena"
          ],
          [
           "Cruzília"
          ],
          [
           "Conselheiro Lafaiete"
          ],
          [
           "Coronel Murta"
          ],
          [
           "Dionísio"
          ],
          [
           "Esmeraldas"
          ]
         ],
         "hovertemplate": "Cluster=Cluster 0<br>PCA1=%{x}<br>PCA2=%{y}<br>Feature=%{customdata[0]}<extra></extra>",
         "legendgroup": "Cluster 0",
         "marker": {
          "color": "#636efa",
          "opacity": 0.5,
          "symbol": "circle"
         },
         "mode": "markers",
         "name": "Cluster 0",
         "showlegend": true,
         "textposition": "top center",
         "type": "scattergl",
         "x": [
          -576302724.9548081,
          -489463013.77900547,
          473185319.44362223,
          1343473826.5815654,
          -428077566.0871337,
          -516203390.77276075,
          356143539.1279096,
          -490860529.29043704,
          -410759949.93217194,
          115328343.39212099,
          -119748716.6816201,
          -244580206.9093501,
          1024372182.7568886,
          -544732053.9220064,
          -447559782.3424409,
          -336554149.3450098,
          762111799.3124037,
          -525883776.84594977,
          -405839391.4441433,
          1180020928.9640474,
          -561790832.5414815,
          -302149712.22249275,
          -626892535.2536511,
          -203833862.46163657,
          -615700104.2888771,
          328758787.53185356,
          1148841116.145634,
          -608509731.0335029,
          -357067843.15948105,
          -490086472.0145263,
          -471854585.0984701,
          216543324.76954377,
          769685409.8179775,
          -254956220.88972336,
          -562656002.1425382,
          235297162.12199184,
          -99884826.55287871,
          -627241530.7392203,
          -217704217.341391,
          -112772652.6067903,
          -273137513.34147364,
          1085789162.768215,
          -603725212.335429,
          -271467009.3368033,
          -291882806.61152464,
          780026132.6038809,
          -297116285.9834418,
          1176130453.3167112,
          -397926076.4384961,
          693552187.774278,
          -603633833.5961549,
          -683147874.9495332,
          -683507385.3239833,
          -686444781.4960902,
          -681454846.7749636,
          -683012161.198557,
          -596861538.2225628,
          -271391056.9837197,
          -490850822.8644571,
          -687763751.4029028,
          187284411.65628442,
          1674025106.62025,
          -529597509.6616282,
          -93375986.84668644,
          -620063596.2880317,
          -2372531.0883352533,
          748462304.9905632,
          749452750.2965157,
          -438986180.1936704,
          -533422884.3577622,
          1740722454.7029908,
          -481781392.40276724,
          -75126080.32603037,
          -528904909.04726624,
          -591091633.2377229,
          -484073794.35924673,
          -518288547.3397564,
          -489377038.86358696,
          1380957365.4255884,
          -430904549.9187193,
          -580353152.3685507,
          31496528.996756047,
          -649982449.3293185,
          -683476199.7771999,
          -635237659.1954645,
          -669707312.2546685,
          -686111830.6076796,
          -533775821.2985293,
          -602134998.8200033,
          -599580806.3366128,
          -684128292.0802498,
          -673762339.1094068,
          -658787128.1277146,
          -670178152.408561,
          -667705137.954014,
          -665370159.3708566,
          -669655460.1275623,
          -657631718.0156198,
          -685283501.7605205,
          -617378602.1646596,
          -635497150.982074,
          -68310786.15643914,
          -607156730.016938,
          -470307353.32340693,
          -680897758.9923395,
          -666357113.3367023,
          -685252355.0250345,
          -601468354.6760921,
          -653361557.7214729,
          -677175744.1079608,
          -644474852.5770603,
          -663019342.2881777,
          -660102316.0500677,
          -682433665.9197775,
          -47258199.06249182,
          113240859.63998884,
          -654075247.9271296,
          -680837101.2211548,
          -676141195.4440063,
          -649144072.6987121,
          -662836209.0254719,
          -638371094.8845421,
          -682197883.0646513,
          -671080980.6241636,
          -509250570.93237555,
          -538874034.0964916,
          -607373515.3904989,
          -682076583.3305539,
          -666826796.1255549,
          -646141920.6032573,
          -658405391.7363724,
          -681628519.1716028,
          -672674027.7823205,
          -679505816.706892,
          -388877566.75003487,
          -566376003.6085074,
          -655792987.2515776,
          -521427350.4008512,
          46096510.80056798,
          -327065213.32136446,
          -668979087.3351389,
          -636312892.5979525,
          -400959029.2649136,
          -678588890.4085737,
          -116787763.02832386,
          -654574221.7515408,
          -471246263.56280154,
          -523998123.6833539,
          -676987607.5592682,
          -684024891.8048558,
          -657834590.4885188,
          -684739546.8298151,
          -634632711.7087835,
          -513279487.43932027,
          -661540244.6574035,
          -648253699.3540673,
          -687897102.2199907,
          -676679885.7552942,
          -362614469.5256606,
          -634330675.0848497,
          -675737371.6530212,
          -673515049.8076051,
          -643649928.8106881,
          -325183567.18306845,
          -612321541.7122808,
          -611961514.0334098,
          -672117364.6212811,
          -670522280.3166295,
          -683637123.0205661,
          -642648105.6689543,
          -678581252.5464125,
          -676498182.0650669,
          -683648521.9893996,
          -626988928.4161979,
          -675159612.776366,
          -646778153.6080065,
          -657472084.460162,
          -671907862.5057578,
          -663935751.9161346,
          -645111892.6325852,
          -663028256.6204745,
          -684188358.4919643,
          -684100865.1053443,
          -520656522.4542741,
          -625512084.935278,
          -676517314.0578597,
          -512570353.9713906,
          -685014634.8960923,
          -666020595.6501602,
          -656290129.5545379,
          -532313928.29072064,
          -679975234.6094127,
          -681538457.6400442,
          -669796292.8938323,
          -674828899.6469539,
          -672415033.5050712,
          -586563030.3465307,
          -581904603.3702658,
          -666577771.7114263,
          -689039065.0502874,
          -680314172.2813743,
          -642915143.238828,
          -682218578.1704712,
          -677307131.3010166,
          -672606049.4456915,
          -681230228.490041,
          -679270262.4666289,
          -676256148.1895964,
          -682469535.1489587,
          -687767841.7568963,
          -682403889.8923175,
          -679788909.1855165,
          -672773115.2061743,
          -684844266.9286972,
          -679601569.9278008,
          -681337783.8947293,
          -610999116.4594166,
          -676544808.4735097,
          -616573082.1267238,
          -681820449.9718175,
          -677825843.4552155,
          -664052664.3705443,
          -683363856.0993308,
          -664565274.1966465,
          -600428952.4069688,
          -683148837.2906002,
          -432567593.98115647,
          -677724233.8299214,
          -677901128.3872323,
          -671783232.1544493,
          -683063422.3443851,
          -681740640.9654678,
          -537501744.4814454,
          -148277159.2972652,
          -689047657.458559,
          -681297114.1852278,
          -683566478.1937387,
          -538894021.084195,
          -677826688.4752656,
          -639193882.2562038,
          -683722098.7541322,
          -664479024.2360561,
          -671357816.7523996,
          -676108753.9544938,
          -657886891.499818,
          -686670004.983636,
          -683868166.1089433,
          -663688768.9473884,
          -654862207.1903263,
          -658131335.1257138,
          -671596552.8374976,
          -664816504.1713661,
          -530560002.369181,
          -589757116.8748819,
          -678252423.2888197,
          -681626996.0321419,
          -687616717.0466415,
          -676870616.4158472,
          -680966633.8399564,
          -687479328.8904872,
          -684903001.5914092,
          -685984789.3442671,
          -691249275.8417869,
          -671361775.7915806,
          -682269388.4344339,
          -681556935.1898842,
          -678832813.3204669,
          -627010052.7116224,
          -683689085.3444864,
          -677273958.6028621,
          -675409399.334791,
          -617133575.0046947,
          -683026957.7006623,
          -685141202.8398516,
          -677630182.4623898,
          -683553971.7773422,
          -647404355.2790974,
          -666737901.8778614,
          -627373798.2801852,
          -679827641.8752389,
          -525729875.9860304,
          -648702737.540529,
          -639909248.5827795,
          -687334996.3571377,
          -689583759.4259075,
          -689910112.5820287,
          -684186862.2869086,
          -677052666.9790471,
          -673771383.72742,
          -682296047.3872924,
          -677495980.3578273,
          -607832276.1793363,
          -676567887.041289,
          -675980708.4860042,
          -681855102.1209904,
          -632357963.4728067,
          -666680032.1055317,
          -681670398.1766742,
          -672476801.8235013,
          -687848354.0056994,
          -506567013.55649465,
          -685512157.1096845,
          -676889615.9001416,
          -683712842.2914176,
          -669102880.3193586,
          -683591953.6089174,
          -669502391.996864,
          -674414903.8797001,
          -670277097.3583442,
          -677436194.229435,
          -682380959.8554428,
          -640636107.9925183,
          -671998598.0298988,
          -633450556.6492721,
          -685911887.4343495,
          -668769459.34073,
          -652305922.148273,
          -684422349.2474637,
          -667982944.961488,
          -686786523.6802253,
          -686319255.9422853,
          -661652837.2527909,
          -375453874.4498875,
          -582104596.1545819,
          -626698270.0746932,
          -657639031.9639071,
          -691099678.9852991,
          -13103605.064274753,
          -558589520.1443523,
          -685018701.3905013,
          -532052592.6306666,
          -686888900.1007353,
          -678038186.4084188,
          -681326765.5726738,
          269834159.3859952,
          -657022795.9854472,
          -688157035.7061728,
          -682740497.1372764,
          -469458576.4959894,
          -671760966.4344281,
          183803312.82653734,
          1407161059.7925293,
          194416178.10974386,
          -591482449.9623102,
          -406557364.354335,
          -662857423.1610671,
          -605957592.9483608,
          -595504388.5983057,
          -646239608.2896675,
          -630309134.0052291,
          1698675198.8097148,
          -652165154.4455006,
          -558458523.1156772,
          -418221743.00872064,
          -669998759.4570937,
          -474830898.9326178,
          -259648401.8831237,
          -634310591.640434,
          -14315385.307555113,
          -606963762.2044222,
          1157410991.1561553,
          -408011341.3807201,
          -649470013.1391639,
          -602832423.7484523,
          -600039243.3161484,
          -638340673.7474618,
          319549923.5783708,
          -78121041.00723274,
          -585809303.4399633,
          -660059983.1951056,
          -613730632.6995144,
          -598539731.9425932,
          -667378747.6561656,
          47726080.43914128,
          -467103909.1196178,
          -581416463.5047204,
          -669886986.6404619,
          -600044115.1487687,
          -657753081.5804737,
          -321870890.2091416,
          -667732808.1497586,
          -661568060.6378131,
          -644073440.6078598,
          -677105090.7483394,
          -565309701.5715077,
          -531270725.8992736,
          -612093370.003069,
          -664378725.3010441,
          -620196880.6872159,
          -563244195.4959922,
          -642643616.9731635,
          -620877402.6395136,
          -611424691.5852604,
          -651611415.784129,
          186112749.9062637,
          -476958622.42355305,
          -315693413.55737394,
          -609738250.2300212,
          -670608708.1409539,
          -652500301.4782101,
          -611154381.6807936,
          -551365728.0274713,
          -639253643.31016,
          -617816142.5011119,
          -78150014.79759775,
          -556004957.7771966,
          -641780110.4693975,
          -641987254.9801022,
          250350160.521087,
          -645492267.4384803,
          -675478713.1066238,
          -654411168.9439434,
          -626288724.1052262,
          -539697447.8421398,
          -663551868.4095174,
          727968364.8938338,
          -668606817.115108,
          -607152949.9281714,
          -507249122.7226941,
          -602866707.6424146,
          -674115685.3962651,
          -406205193.2655585,
          205801996.62296438,
          -674848374.5119925,
          -639892118.4801532,
          403934999.3463694,
          -644749225.7355325,
          -640902016.2320514,
          -597837747.4982606,
          -673977933.9389912,
          -624442685.9802904,
          -574870425.6894149,
          -674209306.5991863,
          -539375708.1948209,
          -642380081.8037859,
          -578853288.952806,
          -674914512.4227026,
          1424749019.131155,
          -645447883.6021135,
          -150438958.83728054,
          -658133571.8636642,
          -658513325.9536144,
          -668878497.1268209,
          -672870471.0266192,
          -648011610.7998921,
          -471144379.3581522,
          -510780326.7497125,
          -498518414.58544695,
          -607449624.5211319,
          -638453086.4139849,
          -662987026.9798206,
          -652033471.478391,
          1148029598.2518406,
          -624665715.4614539,
          -633499050.3858455,
          -664703102.5433216,
          -643310596.9287715,
          -612368421.4870179,
          -640030617.861895,
          -670970689.4762689,
          -603147719.9128436,
          -646326144.8344011,
          -653282209.0580914,
          -288295362.45506895,
          -494245895.9698878,
          -624241856.2090969,
          930156938.5454078,
          323969785.67805606,
          -194015624.23814768,
          -646682581.5352575,
          -566335820.1120785,
          -611363008.934986,
          -652944813.1745324,
          -618990438.1925344,
          -625693790.3965955,
          196089108.6329353,
          -663835462.1006058,
          -641302602.335252,
          -633779454.0867966,
          -539439422.6102026,
          -271052916.582842,
          -667295847.2233206,
          -658887620.0580567,
          -637677493.8133711,
          -446714566.9649199,
          -588539122.7082703,
          -595060714.0581255,
          -658630629.8118244,
          -561681890.2445283,
          -371245908.75132316,
          -629959633.5568953,
          -659774528.3389583,
          -641999242.8070188,
          -189469412.87381834,
          -666826213.6456385,
          -654045700.8845216,
          -661561677.732381,
          -13063084.745254664,
          -669287373.2527755,
          -653416409.2104414,
          -648373157.9095701,
          -621361781.3853427,
          -647394641.478316,
          -589727969.4181595,
          -666925919.5120927,
          -664094604.3860245,
          -645732060.2235117,
          -666904473.492926,
          -548154404.0443159,
          -622343668.0602864,
          -685519126.5371113,
          -675227762.4170237,
          -668303568.0517201,
          -678470058.9106088,
          -666389806.3198537,
          -653658941.2298012,
          -619530739.2956233,
          -676371536.8199377,
          -652022716.9869666,
          -673977895.1029029,
          -671532066.9782135,
          -653762751.2550101,
          -658136017.527245,
          -669257239.2649418,
          -584315026.3970418,
          -653724039.1152875,
          -627462352.0862278,
          -582279968.3302851,
          -652220817.6044806,
          -660608943.6107746,
          365491988.1017711,
          -640147640.0558159,
          -566005964.0304682,
          -453900779.2987462,
          -598581340.0783607,
          -594443179.6480421,
          -679218783.4398141,
          -689261164.0115558,
          -650416181.3824219,
          -682403496.9789523,
          -672607458.795384,
          -610581763.2006475,
          -645135482.3282582,
          -680798161.1792985,
          -497883909.1265201,
          -684386847.1265265,
          -579717032.899397,
          -671876523.544678,
          -669007722.237724,
          -645334183.2520348,
          -377582763.25829196,
          -661475770.8788675,
          -644192941.677075,
          -677039146.8223664,
          -499178330.1434651,
          -631323002.9884328,
          -666491597.1939164,
          -683918203.0443977,
          -675064234.5614525,
          -456345099.0930044,
          -645731780.9766816,
          -682859236.5661135,
          -649216586.4753816,
          1493829475.5458155,
          -496263052.442401,
          -677207027.1936145,
          -677445637.045212,
          -680206491.4589552,
          -497785994.1801052,
          -656282939.0273067,
          -653601353.0234174,
          -675363215.7247783,
          -668626454.253994,
          234327823.62179193,
          -679530988.5372077,
          -674008347.4836224,
          -680485363.0455344,
          -672334543.4209316,
          -598399747.0837015,
          -672482950.496879,
          -651985729.550308,
          -639830616.545859,
          -518845504.7325585,
          -680723541.6151464,
          -676700675.8242376,
          -635584740.4528693,
          -666220871.7679089,
          -677500529.0273906,
          -683875568.9984859,
          -683692887.6123353,
          -675739621.2208582,
          -676805672.5936456,
          -637858804.5402137,
          -669049373.8863256,
          1055197478.0881048,
          -592988311.8571421,
          -630218513.1126618,
          -636599147.0619142,
          -592843772.7348225,
          -646377269.9558321,
          335356085.082384,
          -646988493.815489,
          -629302199.1195393,
          -639511127.4883481,
          524513342.87232906,
          -541080401.3516498,
          -291638867.79504985,
          -437630095.29740393,
          -645055934.9980208,
          -651026294.4251246,
          -660060332.7794385,
          -604751550.3211477,
          -559151953.6097854,
          -647252030.0995455,
          -573543995.283771,
          -645675997.7477505,
          -484636992.27688086,
          -679114928.8308678,
          314404931.5606563,
          458432939.4516642,
          -650618991.7232566,
          -569514250.2769248,
          -662906913.1855255,
          -595480162.5317419,
          -425838806.81834584,
          -569585201.9158926,
          -44575280.42337195,
          -614832608.724025,
          -676237130.6994244,
          -221058696.4447433,
          -194084334.54073188,
          -86252307.73605174,
          -315718998.49134105,
          -619133504.610556,
          -543964711.4159832,
          -666506261.6715248,
          -584377622.5423079,
          -400995321.96334827,
          -587037306.5814004,
          -509931267.669803,
          -593957592.2823756,
          -671345635.5131822,
          -182400606.7008182,
          288656933.5175447,
          -623668933.2936965,
          -631547472.3675557,
          -447612364.57510066,
          -609398936.2120708,
          -662986840.0852431,
          -646336716.2892343,
          -648037931.6589437,
          663463257.6698817,
          -662326520.3554914,
          -558576977.5275315,
          -650696271.3518507,
          592774030.9013069,
          -596930792.8664924,
          -442372374.55984175,
          -526673892.1231729,
          -654904366.1677562,
          -626176076.3379812,
          -605207192.1064515,
          -596134260.0428352,
          -623939171.2094091,
          -681805799.8516052,
          -615147567.0105491,
          -594396278.7461938,
          -625151250.9879242,
          -671583075.0193685,
          -530755822.9858958,
          -585105290.8916063,
          -675766858.2504269,
          -640341072.7428364,
          -598495127.2504125,
          -586573289.765908,
          -589783364.6634692,
          -678122872.0651721,
          -678765060.0013647,
          -665631399.3472437,
          -337940672.43499523,
          -500126649.30724853,
          -667491273.5502852,
          -412894693.8079373,
          -537692813.052709,
          -615999397.5749501,
          -626541540.051665,
          -562627610.1027797,
          -653896040.5993813,
          -600746139.6927994,
          84807731.92403015,
          -661169134.8593658,
          -524232436.5497285,
          -459428195.35430187,
          -581483245.8416575,
          -668085962.7234559,
          -603976774.5618559,
          -595108200.9118532,
          -348062080.5596907,
          -656541552.2675323,
          -156562416.94633982,
          -658431839.0895691,
          56662495.79212858,
          -653197235.8951906,
          -607816328.0448457,
          -552156616.9345285,
          -658041197.7835963,
          -498391626.5896117,
          -569095459.8012165,
          -583485025.6712571,
          -677010455.5817603,
          -589935031.9984425,
          -607763854.6166066,
          -648779202.9432653,
          -617238622.7147429,
          -338632205.28727794,
          15620678.993043276,
          -381844596.5620162,
          -658941746.1084894,
          -405179363.26476556,
          -585142501.9361038,
          -615417363.4709262,
          -623131343.7603223,
          -649090124.4057838,
          -593154827.0978891,
          -672550343.1539533,
          -590926495.0049413,
          -624441394.0726986,
          -585330737.2656606,
          -636904507.5655563,
          -620023382.5993465,
          -631863599.9534541,
          -638233894.269431,
          12952751.448557783,
          -497501403.4814541,
          -635155636.3957568,
          -648426462.3587446,
          -679385278.4164498,
          -616338430.6954631,
          609274967.2768201,
          -659242502.3740461,
          -465211662.05424666,
          -306771062.1057859,
          -602068113.6511899,
          466515838.4097052,
          -628238094.125148,
          -380303376.1313263,
          -608198624.2870799,
          -368955095.99380594,
          -640077624.643938,
          1815015751.2159348,
          -521549154.1478998,
          -650576933.3022658,
          -668330298.4074763,
          -650078880.3231401,
          -578484920.1846224,
          -619280711.1863532,
          -306253368.57440126,
          -637823894.3966426,
          -630309932.8074783,
          -673152378.4874457,
          -636956552.3504162,
          -662261281.2090375,
          -617245060.6539614,
          104998127.39260994,
          -591799186.9832779,
          -134427722.320813,
          -186180959.74481732,
          -464251015.3937056,
          -620839928.7849157,
          -649068553.4575508,
          -451127557.1732263,
          -668929702.6630868,
          -647680898.7510802,
          -556278059.0294247,
          -664530710.0460185,
          -561614686.1414737,
          -657898477.8323474,
          -528872124.90084034,
          -612153229.2573841,
          -613518174.1132269,
          -581535930.4914005,
          -641424078.5595825,
          -553591928.0403402,
          406110956.5388071,
          -653655838.6044102,
          -654868587.5860765,
          -347446510.1055134,
          -66156215.67813111,
          -344032552.725154,
          106000108.52474317,
          -628772573.072266,
          -672734999.6974149,
          -279151994.4904544,
          -620454791.9677705,
          -479603541.9998269,
          -616002889.9745307,
          -565061633.0402112,
          -569199512.47697,
          -565338011.4381844,
          880266534.9607457,
          -632303187.4435973,
          -665910613.1520102,
          -313343114.02160585,
          -622050883.6209232,
          -493641709.4531757,
          -547819696.4875515,
          -225143218.38501284,
          -654526416.572656,
          289463112.1107212,
          -552947980.8470308,
          80375574.04173073,
          -666378960.3946673,
          -343884283.3358454,
          -150349026.94855648,
          -460033035.3048945,
          -443314186.62766254,
          -442216834.1357578,
          -654912182.3748134,
          -654703602.278059,
          -568785682.4481579,
          -596648302.0687358,
          -472236475.3847647,
          -648289933.626904,
          -610415905.2210094,
          -594337539.4816774,
          -545341879.5294791,
          -656281586.3850635,
          -678452109.0110638,
          -664434637.4756974,
          -656352223.8028299,
          -554274560.9717594,
          -575953637.676838,
          -516372602.0766654,
          -677333067.244171,
          -487846586.3995448,
          -656154745.9741161,
          56498166.12604358,
          -563507372.7540885,
          -665956970.9602038,
          -358092215.13741565,
          -441838789.50226504,
          -660937432.7602961,
          -660209088.6801188,
          -536858974.59369653,
          -613191642.327125,
          -593576850.4856244,
          -635829926.0385728,
          -627697803.5717984,
          -625126111.421272,
          -635282730.9183043,
          -630343423.7377008,
          -657163915.8675466,
          -614287821.8610384,
          -149937259.76991788,
          -682191305.4839007,
          -608248598.6378522,
          -569837734.497627,
          -659017926.0844227,
          -674532421.3207898,
          -656231952.5461268,
          -661445333.5111178,
          -675131717.6499085,
          -682652838.4916059,
          -628706584.6695174,
          -426353147.11959904,
          -682770751.377991,
          -659374171.2023498,
          -656432485.224877,
          -657023895.5301197,
          -661247833.9148552,
          -432451908.10272163,
          -650627559.146081,
          -584709717.3435903,
          -540686684.408053,
          -581270652.4988389,
          -559861003.3185717,
          -661726615.6326818,
          -661085413.2490132,
          13659967.527849995,
          -611408708.737929,
          -630238975.4395822,
          -617700622.4297066,
          -618228963.17031,
          -681752641.0355556,
          -677702643.959154,
          -681952559.0821031,
          -615015650.2816322,
          -682826088.4618684,
          -650990830.9063863,
          -666962924.1257752,
          -673271878.4099172,
          532277735.54316735,
          -604679364.5288342,
          -683101363.5334282,
          -672042731.3311731,
          -664787468.6917852,
          -669620301.9576012,
          -651901859.0898228,
          -684062368.1453362,
          -552764575.0382613,
          -662550609.1073275,
          -687407705.3571506,
          -677548457.7462177,
          -677282134.1890627,
          -682672124.68648,
          -608898997.4762479,
          -688817476.5396423,
          -674109154.4919015,
          -662959026.338536,
          -684288718.4343954,
          -678353946.6493347,
          -657130499.6866802,
          -677681776.1051716,
          -681923442.6731095,
          -677289396.1001797,
          -687999353.5193138,
          -684862640.0097696,
          -683756451.7800919,
          -589699817.9927717,
          -336820262.7378993,
          -671305464.5968469,
          -663392622.574073,
          -679417771.3434944,
          -604412574.2987964,
          -673000839.6503935,
          -681520151.3538094,
          -686548819.0607626,
          -683667082.9657376,
          -497495714.6570759,
          -674109154.8020613,
          -545727655.2630484,
          -658056582.0845413,
          -587342844.7690264,
          -513314459.7464601,
          -554226799.0238405,
          518201268.7882902,
          -441487494.1077152,
          -430023707.0965505,
          -554690990.9218537,
          -602216378.6359462,
          -562096588.2881316,
          416281739.42584485,
          -509750098.2592176,
          -32175535.703841176,
          81579534.75783451,
          -419887841.05429196,
          -588174554.3888445,
          -478028976.4657974,
          -562355887.6146564,
          1012222590.9569091,
          1675291089.4544945,
          -487688730.26302415,
          -330031693.3189213,
          -656856542.4182229,
          -402546050.7541121,
          -14102006.365911527,
          -647225433.5214165,
          -672399094.841113,
          -658793221.92623,
          -579030461.1976768,
          -651455425.7351598,
          -599761648.5620949,
          -413680508.6083995,
          -636112680.7004918,
          -527876479.21343493,
          -659182245.9332736,
          -423517377.4654697,
          -614540936.0290594,
          57508937.184833504,
          -404391753.84649944,
          -536486154.20377135,
          -613956274.5334749,
          1063351761.6862137,
          -590614488.8098899,
          -622440543.6022413,
          -501498438.3196694,
          -656346551.8269186,
          -585850397.9752403,
          -654742465.7210987,
          -604096835.8848468,
          -366916470.081496,
          -317719261.20789737,
          -643286840.9201226,
          -395066447.7623522,
          -141382597.33247313,
          -432895869.2974743,
          -662057970.8020531,
          -459524913.68174434,
          -659536045.5320735,
          -95108301.99037287,
          1938195214.6279306,
          1062882921.6687636,
          -542122777.926251,
          -602581571.479994,
          -654215387.6560909,
          -600308741.6767932,
          -34714485.21144489,
          -655055416.9829669,
          -509599724.898222,
          -601908269.9759506,
          1074154351.8205647,
          -363815724.79707503,
          -634924081.1534485,
          -660444609.1084355,
          -400770769.04152846,
          -209049528.80918813,
          -627892269.5419133,
          -619919832.3105227,
          -611845435.361684,
          -630241648.3794026,
          -636325978.137282,
          -664666899.0893799,
          -587867820.1941873,
          -638181556.8605442,
          -663797046.2555317,
          -499619478.35361755,
          -540986949.0042094,
          -632732185.4449456,
          -662120510.5869207,
          -215055033.91818917,
          -395040045.69630796,
          -586493410.2837666,
          -572582124.2292877,
          -464083032.01189816,
          -358751860.57966775,
          -650005635.3662659,
          -629903023.1550761,
          -613072507.3215035,
          -631442799.2882297,
          -618522166.5355562,
          -571977610.239157,
          -347801630.7756913,
          -506474469.98737437,
          -517270781.35277057,
          -636539426.6310874,
          -594941168.9940932,
          -649510674.0265154,
          -650178374.372622,
          -574642147.0303357,
          -632441583.8406756,
          328058200.69881165,
          -636637947.9622979,
          -605514649.5080609,
          -525128499.16337854,
          -435325915.1810229,
          -602722517.4131392,
          -672447056.3324827,
          -549060185.1101257,
          -571277726.1685681,
          -537359382.5131836,
          -648470056.1662967,
          192823959.25310394,
          -344071720.83200073,
          -593937190.0219927,
          1450058830.8574588,
          -389831345.04518044,
          -595472811.9628751,
          -617419699.0059493,
          -490345589.91641235,
          -635156031.2961572,
          -151129399.1382183,
          -664693718.8479823,
          195746130.20155975,
          -578344873.8371239,
          518256418.67944026,
          -585487408.3611214,
          -642855950.8834045,
          -451206266.83256465,
          -615309835.1732941,
          -625909754.080997,
          -641215338.4021212,
          -617921694.6149223,
          -557401715.3790905,
          -202581975.0561655,
          -603813740.9045649,
          -469461448.36683095,
          -570027784.8635762,
          -625815820.4338884,
          -542434251.8862798,
          -662848378.3821222,
          538557640.3612903,
          -633966241.3176557,
          -650649247.183374,
          -582013906.2991574,
          -569365721.0395894,
          -635855336.8395224,
          -628966988.1940185,
          -643456421.0380621,
          -557003872.3860292,
          -595469899.6751212,
          -236470741.57487577,
          -488054972.325422,
          -561795280.4189653,
          -667488445.0777892,
          -566387389.3515781,
          -677190509.8495132,
          -616973032.9879202,
          -592688033.9156947,
          -653920831.4952048,
          -643963299.3789161,
          -612997272.1331034,
          -644760623.0199132,
          21223149.312878497,
          -683368393.4105507,
          -550522627.5203835,
          -662167548.6848356,
          -675811186.1372758,
          -681657934.7033644,
          -689264704.2606835,
          -675344485.6689583,
          -618426622.2889003,
          -668841089.8607105,
          -673126124.4027134,
          -630255238.0065322,
          -675274204.9081795,
          -538929730.7516489,
          -652567133.0178951,
          -678775782.899042,
          -673672619.8257316,
          -621586888.9640697,
          -527980898.0192517,
          -682926438.41202,
          -673537829.0053426,
          -608810241.1881359,
          -687077841.9706131,
          -667386712.4525398,
          -672504893.2563424,
          -610284681.6079762,
          -683955037.686128,
          -674509318.6129096,
          -679534514.4225932,
          -681210545.0258126,
          -678995759.1130766,
          -495411119.7986383,
          -680912595.5707277,
          -679539628.7018609,
          -676932371.8077252,
          -671207310.1815696,
          -666346676.6135093,
          -687695405.5044357,
          -684064878.308833,
          -668452664.6486063,
          -674909761.0005039,
          -633151267.3935641,
          745708119.5534729,
          -496625364.03773004,
          -624817708.3897212,
          45373722.777777255,
          -600260520.6541731,
          -145999453.7028439,
          -535951206.0337377,
          -555695495.7899351,
          -605075934.2556189,
          -579320504.5534837,
          -601423518.8515373,
          -531235230.1902799,
          -351327617.5537393,
          -648587859.8271118,
          -660609006.2764581,
          -621784025.9231762,
          -414035006.74678355,
          -648437538.1025374,
          -347610546.41389954,
          -673320952.8529146,
          -300523037.76719916,
          -585122804.6674358,
          -487255695.53714883,
          -597106913.190409,
          -625900452.9540741,
          -660978233.7554129,
          -619210691.620599,
          -659500353.1066662,
          -599940437.3166414,
          -632239144.2683054,
          -656094697.1035943,
          -540821635.370207,
          -420434761.80343544,
          -231067072.41230467,
          -659623765.8580309,
          -666934343.028206,
          -580304532.5845422,
          -540147291.9566745,
          -618775182.029919,
          -644050602.8546942,
          -620531759.3033859,
          -671337870.1936942,
          -586845669.4665285,
          -584196884.3192722,
          -552950094.7777469,
          -519043147.1053893,
          -663809549.3408895,
          -672622153.776428,
          -190831187.69120494,
          -653335160.756024,
          -455604855.34199053,
          -534979480.7744579,
          -661671984.9084868,
          -549306070.6813966,
          -625149221.9492931,
          -642929893.6893296,
          -552616422.4340975,
          -615168768.7576085,
          -675435528.2041267,
          -286152600.2255988,
          -580018935.9973465,
          -578343877.3781025,
          -590000425.2111875,
          -613465939.7899519,
          -634054006.4991351,
          30364886.726614524,
          -647254666.3432271,
          -611397339.9723941,
          -607652175.6896992,
          -670771106.9539391,
          -526926712.9693674,
          -612775084.4625686,
          -153902781.44047183,
          -128038184.59485461,
          -676494519.618776,
          -659677313.6667025,
          -632293030.2213309,
          -584212523.5212766,
          -647115733.788196,
          -566836049.0108919,
          -480173394.18124014,
          -577595165.2389535,
          -522971229.0493844,
          -646261676.7282802,
          -660951861.512903,
          -529154047.2892853,
          -649676258.5674888,
          -526145917.05540645,
          -614491215.0731846,
          -597257245.5417598,
          86188215.22183505,
          -621461449.738874,
          39339827.42605897,
          -623285463.1436816,
          -608033052.3213669,
          -192563104.4780865,
          -556914758.5212643,
          -642164422.1429503,
          -607245910.0025115,
          -648544949.2633648,
          -661786659.5420593,
          -671079432.9975749,
          -653153436.0380678,
          -655541104.9902816,
          -643617193.316025,
          -441208239.9440178,
          -534015723.86530626,
          -562726661.0398629,
          -639563426.1277528,
          -571542332.5104223,
          -660320435.123872,
          -531598513.336889,
          -558636642.3293254,
          539747552.087308,
          -116193090.03233832,
          59101174.07607233,
          120047751.42714027,
          -579243815.8901207,
          -665179370.2745564,
          -460271282.22036624,
          -590766467.2012563,
          -537426876.4619327,
          -631664571.2395487,
          -407367241.0587292,
          -577821771.1730933,
          -660080532.3135489,
          -622529129.7851274,
          -444964660.1161618,
          -563033713.6570641,
          -669994747.0086656,
          -647203019.6795267,
          -479699307.11470276,
          -520371195.52211034,
          -453380798.7909861,
          -554267342.639574,
          -317032431.3752218,
          -652239637.2547641,
          110120327.74019109,
          -598528768.715769,
          -649677863.0098426,
          -492634019.70817435,
          -643490824.2588514,
          -253839642.67824465,
          -238398631.6117725,
          -630939748.4191275,
          -651149107.4461629,
          -519048984.55027556,
          -575679630.1645141,
          -638043222.5527434,
          -489711062.6890267,
          -575622860.1243552,
          -640927473.8172123,
          -657741307.707915,
          -481077341.8771653,
          -635994526.6107591,
          11687649.041251685,
          -651381761.3646424,
          -622760627.199115,
          -599557373.8130096,
          -600130857.6695207,
          -546432710.6777385,
          -613386833.1659694,
          117785556.76562402,
          -673931672.2814454,
          -647115833.3319113,
          -605037255.4834411,
          -580487645.6474204,
          -474806577.3414605,
          -609904855.6380407,
          -501287898.2886562,
          -624862937.5043339,
          -538392402.3638967,
          -596838139.9336678,
          1749143886.7023954,
          -482063377.7933782,
          -310482920.32797456,
          -375081519.19892013,
          -536984995.725417,
          -516787314.392489,
          1114921189.1916223,
          -575728717.8756225,
          -642665389.7747867,
          -469555077.5710624,
          -642235753.2421287,
          -545699925.9942985,
          -659558714.3178166,
          -470993143.0146016,
          -418798119.690498,
          -645177001.9029356,
          -606460726.6503301,
          -553432414.0959064,
          -496405272.0000499,
          -529002668.166052,
          -559195385.4390299,
          -582712753.852245,
          -615681946.9718523,
          -502649822.62170035,
          151489223.137397,
          -656192599.8067774,
          -504049526.2589078,
          -594727575.3811933,
          -564014313.7959696,
          -595566401.9381196,
          -587573416.0706713,
          -548802425.9525872,
          -590524204.456945,
          -669807426.2089438,
          31321529.721474342,
          772576128.9682506,
          -364176875.8297332,
          -645010296.780415,
          -474731100.9749425,
          -79829142.39814444,
          -513820957.4662764,
          -657616693.438989,
          1014611319.3155544,
          -670712268.2337593,
          -640397447.299501,
          -681922645.9349257,
          -480584043.99096924,
          -512749676.88749486,
          -670839059.3216687,
          -675890166.7508031,
          -500642463.7591702,
          -633095631.6807469,
          -633235246.6249866,
          -518967795.0022653,
          -558575183.0523758,
          -486967790.07210994,
          -652199151.5019752,
          -541554801.8664064,
          -84316070.56730166,
          -632188722.3757726,
          -406343208.16424674,
          -667722335.0876733,
          44387450.78815753,
          -532953316.13562846,
          -293798890.6094531,
          -595078199.0924013,
          -621816486.0391299,
          -479404758.98924303,
          -580291717.1092077,
          -161768724.28629586,
          -622874042.6241939,
          1039487949.944726,
          -115800330.59779933,
          -667543329.4835582,
          326191553.3001672,
          -449879156.2974108,
          -642233641.3091972,
          -567939054.6552224,
          528372131.4118304,
          -647618434.7071538,
          -490707036.07665366,
          -654712448.6621222,
          -368350917.7316199,
          -649533080.0578383,
          -598129914.61237,
          -582690214.7356181,
          1428010177.634415,
          -442155625.47373396,
          -678153847.0244616,
          -656442058.9729003,
          -627540515.5292387,
          -380370789.47014624,
          -605637662.0552944,
          -626849044.4620348,
          436633915.5593642,
          470148464.86210144,
          -650494915.1990253,
          -646499913.3288977,
          -601211568.4235314,
          -348630209.2867065,
          -338292713.32030404,
          -628146321.7599554,
          -598684959.6122282,
          -309384269.5443953,
          47257488.059943184,
          -658693840.1855628,
          1252158937.8512836,
          -639568673.9577391,
          -398652977.6646579,
          -300738460.02653086,
          291386484.60475343,
          -574911074.2362545,
          -258797845.79900235,
          -639355535.6196835,
          -654684254.4291306,
          1932616277.5113068,
          426204514.2911814,
          -648264029.6145446,
          308165992.1004409,
          -518363266.8584581,
          -371064674.99906063,
          -670430901.4078674,
          -557986931.3176758,
          -395224627.36034,
          -652927691.2400312,
          -538462761.2617348,
          -413093348.5233976,
          -626012089.3763212,
          711570026.7192941,
          -295454550.62659246,
          -62352280.054547444,
          -555296379.9291558,
          -660513302.7644551,
          -624587162.9362493,
          -346532658.48042536,
          -682825576.597456,
          -391400749.09208554,
          -588312260.2512459,
          430265352.31885463,
          176567260.033204,
          -617394906.8483955,
          -636264424.9803826,
          -590007604.9588475,
          -591952816.1951327,
          -629774886.7060466,
          -145508732.4949509,
          102567564.84576376,
          -598021108.5520164,
          -576692056.3627535,
          -571397702.7759898,
          1115019976.2865527,
          -493268633.4592977,
          -677047915.7646513,
          -634568230.3354937,
          -634883637.6444163,
          -544111007.6391481,
          -549573176.387366,
          -675968171.1560724,
          -586548246.2214545,
          279332794.6761061,
          -639587275.9953601,
          -324742840.89439136,
          -666419314.9827356,
          -525832197.8216011,
          -659481963.5238777,
          -35355100.50355673,
          -655457601.5513504,
          -289737339.3042502,
          170155965.5910915,
          -608302771.1336006,
          -638560324.3590311,
          56775889.749747716,
          -90963366.44840111,
          -666333041.327781,
          -656854999.5746093,
          648717319.5039053,
          -544134280.2724983,
          -679982235.3433828,
          -581591778.3449981,
          -329907569.6840767,
          -677431277.1370302,
          -419750237.736499,
          -552825364.5565507,
          -507938418.271418,
          -595689894.0745589,
          -54197016.350216664,
          -635913347.8282185,
          -108677790.12558942,
          7763059.738810608,
          -613611905.6034476,
          -651321119.2339616,
          -547885553.3785557,
          -27239930.542564277,
          -596285676.9563681,
          783012344.6407863,
          -264394609.41861767,
          -654605694.1700743,
          -376310503.9939677,
          -485844037.39454496,
          -359786039.16956645,
          -441756233.98347455,
          -608729947.4116927,
          -659654917.7343738,
          -563842282.2026608,
          -507102312.46118575,
          -455515790.45889056,
          -566772215.8242111,
          -661620226.8604348,
          -659060301.2847002,
          89640842.98660035,
          -619908944.8586524,
          -662995703.5011902,
          899571239.1913347,
          157147297.97471264,
          -619067657.4526328,
          -558175286.2038499,
          -658093824.9170791,
          -677133169.3101121,
          1452171675.9704156,
          -675240621.8865155,
          356676611.773689,
          -614098232.6123984,
          -536132242.473915,
          -643572533.5910455,
          -432472163.72511715,
          -663154780.6339785,
          -509827333.7938506,
          1452569.972853878,
          -622087778.6489888,
          -660447136.7432134,
          -526219238.3511184,
          -562458241.2410098,
          -68649350.28438397,
          -552895387.1615674,
          437887798.36150044,
          -112736837.48637654,
          -595608212.6002575,
          -680830998.1538323,
          -508558864.4300325,
          -574778590.0911653,
          -417521058.591653,
          -506670435.1730559,
          -459696697.9572421,
          364849443.3073102,
          -644000029.0416884,
          -571206743.6459161,
          -640088459.2793306,
          -552791833.9820024,
          -635158967.6344461,
          173502777.063573,
          -410291220.65194196,
          -661995867.4000599,
          200993113.76159507,
          -599884945.3054348,
          -660460078.4831549,
          -615905528.3073623,
          1102639822.8312953,
          -491402254.5288757,
          -357172893.9606386,
          -475049311.9948704,
          -179006885.38009474,
          -521492119.0433231,
          -537214712.7302525,
          -433707469.0536951,
          -488279558.47872496,
          480337088.2143098,
          -418295031.7030339,
          -567160426.3112004,
          -612580187.44484,
          -503689873.4064292,
          -64024711.81352571,
          -577264698.238905,
          -659570718.215664,
          -69669156.35895781,
          -666026694.1638492,
          -657706791.4552588,
          -264230526.939907,
          -510855975.03139865,
          -620624085.0796849,
          -594594379.1055319,
          -576387641.5139048,
          -655063291.3752704,
          -32688567.45290688,
          -675789365.1823344,
          -296755393.3023581,
          -641076507.2204916,
          -584319048.9951273,
          -674187633.9225338,
          43479788.91527127,
          -586975558.4059165,
          758348414.3040193,
          -572921297.8480865,
          -318517265.02563554,
          -581090646.0083331,
          -463219508.7411465,
          1652822959.412096,
          -124893533.16032772,
          -176059278.93921068,
          1476843484.3281837,
          -497480817.84836584,
          23893696.241832517,
          -424991878.3440603,
          -466970445.1856228,
          878510723.5296334,
          -596729215.7421389,
          -84823660.49819148,
          1633541155.2127714,
          -644715624.9872825,
          -654201286.4214963,
          -342684180.0239421,
          -518443616.8141885,
          -587010207.884392,
          -653981437.4418392,
          -210226229.797861,
          -598218454.1018621,
          -12543882.024572654,
          -675078042.5441787,
          -434202101.7262111,
          -670155935.5988297,
          638124898.0858469,
          1614159976.380276,
          -629142718.3648503,
          893692588.6243343,
          945772494.3195267,
          -620281432.1241041,
          -601430886.885898,
          -138503036.7546271,
          -658524961.1131692,
          -394838200.52337784,
          -485622445.0188428,
          -354980558.6720508,
          -656124558.9969633,
          -668320382.7301836,
          -613373283.889173,
          -642395351.5397387,
          -355211896.9087559,
          -584005574.6599706,
          -658983180.4657202,
          -322195829.94617534,
          -378307342.68476784,
          -609864864.8239505,
          -441628659.0142921,
          -600686701.199895,
          -85262623.00314166,
          -516343104.8856634,
          -588468481.3426828,
          -583541611.401557,
          89485010.3938727,
          85932970.00729069,
          -560222540.3150015,
          -583298343.5646548,
          -267081356.56340012,
          -621999808.4557897,
          -607610125.5169443,
          -650857557.7138852,
          -621491664.134948,
          -463812399.7939657,
          -380483842.9331574,
          221096199.46033317,
          -678835592.8347332,
          1208902453.3568404,
          451758014.6919333,
          1811650764.874598,
          -679614311.9183967,
          147374232.2731412,
          -652016525.8868824,
          -286336798.5954367,
          -457776392.94858736,
          -493657272.2566912,
          -632723387.3846265,
          -627210976.5654395,
          -306217807.3016275,
          -488403567.54200584,
          -674941167.7098722,
          -649346578.0082645,
          -501009576.2911201,
          -383767537.29136306,
          1689224669.6991837,
          -593650538.8828602,
          124640017.62861039,
          -537303957.3871125,
          -685391601.7122842,
          -649018200.8955865,
          -649874904.2829589,
          -679512418.2670251,
          -669663903.746052,
          -660681292.7759509,
          -660254144.6736014,
          -672987099.3027035,
          -653169361.8190907,
          -639941469.5308948,
          -646191089.5044585,
          -676637328.4965917,
          -596736631.1285651,
          -581375373.980096,
          -644355192.5266917,
          -505102247.9333096,
          -634558019.651238,
          -661220675.0091208,
          -677492092.5945978,
          -669705342.9530914,
          -664621974.6753457,
          -653414645.3105769,
          -642708050.4280657,
          -651851115.7090907,
          -647060432.0717818,
          -434427554.6337423,
          -658561481.8811057,
          -679588706.8855585,
          -644195113.957618,
          -659997325.000474,
          -672991704.8862307,
          -668871337.1398177,
          -632386969.2219341,
          -385659393.5144783,
          -687368168.0828232,
          -670857914.8383518,
          -683170670.6058692,
          -679378134.0704705,
          -628767076.0393282,
          1282137798.3038118,
          -661304559.0696101,
          -669366830.7066611,
          -581196366.703356,
          -577065540.395231,
          -75420222.108157,
          -566596437.9131076,
          -582031919.1389885,
          -583017779.1486238,
          -393198320.0400093,
          -538682498.7695369,
          -558155586.1000378,
          -547179288.2699208,
          -644239125.7840858,
          -653637296.922528,
          -651341821.2694111,
          -674535370.1175646,
          -525626421.9652748,
          1285494086.2071912,
          -657417729.0109919,
          -601201240.8396016,
          -612474535.16423,
          -632922865.6686534,
          -663610154.9549938,
          -666279817.1894364,
          -673306455.3778124,
          -636913483.8310984,
          -554800929.4347234,
          -635551483.6230783,
          -651531184.8182042,
          -633053676.0388405,
          -661199699.4997005,
          -531623013.93173754,
          -615665143.2205118,
          -412305362.80573577,
          -680340136.3461002,
          -561188131.1902895,
          -405551046.36843073,
          -670602243.4260143,
          -680963278.1154552,
          -144695477.26609007,
          -638746198.0740116,
          -484197960.25827074,
          -639356872.6265235,
          -643772334.7434821,
          -665710043.1335385,
          -679443056.4479597,
          -666628328.8616408,
          -672601906.950778,
          -686607465.74709,
          -674361713.9913907,
          -677454083.3054231,
          -652762255.2347113,
          -658388310.2521423,
          -649433177.1797986,
          -149588702.160615,
          -682381571.3616518,
          -656509357.6658583,
          -676024175.0224873,
          -640133306.4632003,
          -675555346.4618546,
          -678707383.8051618,
          -671150150.4062424,
          -675549331.9964286,
          -681949701.958499,
          -677305070.3007053,
          -672431155.5987633,
          -557464509.1274905,
          -666638164.6907424,
          -661905701.1311057,
          -685947627.8051215,
          -588023193.5506141,
          -677659278.0326257,
          -654699671.9346068,
          -651554812.8990543,
          -661896782.2173085,
          -676984737.471499,
          -666997440.0216185,
          -652677733.0376661,
          -687420523.8723702,
          -675764507.3470048,
          -683727676.0283312,
          -656083312.26183,
          -663281631.6790867,
          -268357934.70101652,
          -524050138.85899854,
          -678112118.9837875,
          -680421898.1352113,
          -668725483.3574741,
          -669443142.2911769,
          -680686002.4514029,
          -528372631.0510083,
          -683608339.3197519,
          -671576329.6235701,
          -676026777.0445486,
          -668815180.9983803,
          -665331798.5788409,
          -649072816.1889135,
          -682942160.2696712,
          532326516.4960203,
          -424965107.8463703,
          -621239719.9323972,
          -664825854.3808534,
          -664217005.5804764,
          -649126540.919029,
          -681492563.5630087,
          -289066887.56626904,
          -661321254.231108,
          -519080586.4987441,
          -130993584.05934295,
          -638581533.8763361,
          -653975960.3656291,
          -665527196.3389566,
          -687213277.6604615,
          -644829962.8982158,
          -664625450.5511695,
          -683566344.4711044,
          -675570366.2527808,
          -552280906.8270521,
          -674534603.6121461,
          -632050195.1911336,
          -673789670.2386699,
          -682997146.6813773,
          -644172608.0294669,
          -589316689.7294897,
          -677151673.9764692,
          -538867463.4980261,
          -397311400.63481325,
          -629963934.6651473,
          -453422949.5188166,
          -541554936.1000592,
          730692955.0683674,
          -606586813.5743871,
          -301131249.7595017,
          -368295737.9751562,
          -3857424.424683131,
          -613371487.1866314,
          -487203747.59992254,
          441243792.6049614,
          -670622452.4493765,
          -602961692.7950307,
          226148929.06232873,
          -672909055.193299,
          -668855533.0923548,
          -674640506.350515,
          1023850090.8866223,
          -605925803.4106598,
          -674384627.9597545,
          -673233447.4160916,
          -616465690.4914448,
          -626139403.1542176,
          -300022193.64417875,
          -312072439.5484297,
          -634785504.9637365,
          -644989805.5489291,
          -584100650.0558308,
          -571590478.0853153,
          -558007863.4543788,
          -528249544.42220014,
          -583097787.5981423,
          -564619621.7066327,
          -267978825.79483736,
          -661455296.3091135,
          -477021031.53534734,
          -458519147.68037117,
          -229019194.43440774,
          -311230989.92126787,
          -462121130.4520041,
          -591208621.627501,
          -656587100.4204788,
          -677397856.8585598,
          -667336848.9003705,
          -490175553.6180973,
          -615716337.8792169,
          -492065514.7542785,
          -570862778.0370507,
          -603128580.3972276,
          233576968.61174366,
          -579581960.7398545,
          -645965733.2338067,
          -568605719.1486994,
          -506814644.7548069,
          -640717722.6108898,
          -675763665.3710445,
          -598223875.4377954,
          -668188191.514416,
          -639250706.1822654,
          -546779323.8317833,
          -604002639.6297498,
          -672094496.8364604,
          -403695048.2143176,
          266191880.98357865,
          -644359158.1891662,
          -619558464.3213595,
          -495720377.4367967,
          -226530884.07180786,
          -583597778.6261985,
          -471796669.1353996,
          -679122211.5511267,
          -681300734.5120362,
          -526035198.9461899,
          -127625646.96731672,
          -238866393.0694473,
          -657650353.3022418,
          -612195985.263993,
          -620958177.7541716,
          264985545.6726598,
          216765496.62087464,
          -161967674.31926486,
          -644965792.3299127,
          -669683809.2060287,
          -667024593.7240001,
          -674455622.9383862,
          -444043718.01073444,
          -459375936.6015299,
          -666217263.6556171,
          413692471.84889925,
          -522078061.4303587,
          -674654190.5760698,
          -577818106.0985957,
          -668596156.6726539,
          -156539162.1083128,
          -494120343.32763267,
          -450454779.00179493,
          933174799.4254355,
          -671943027.8070768,
          -589880872.3811157,
          -646250839.932528,
          -513637654.1459459,
          -398990786.68432844,
          -584676586.0375518,
          -636279838.2917036,
          -612840621.1562468,
          -680614760.3949672,
          -658916006.5491899,
          -546273837.0984887,
          -634727025.9265,
          -622615233.9695778,
          -627376931.2989438,
          -527098283.337099,
          -616038293.141193,
          -670184683.8664724,
          -662848336.3641175,
          27182689.359071553,
          60471047.857430644,
          -591515072.1801246,
          -219627450.61373895,
          -173112371.16942504,
          -670453867.2289791,
          -464250008.496005,
          175821587.9888689,
          -578147665.3979726,
          -654325858.4707142,
          -573449183.4533123,
          -682950085.7456657,
          -640952428.8614687,
          -526585710.7581772,
          286751755.4641199,
          -583342588.1556602,
          -644928048.7775786,
          -284745819.85046357,
          -673138248.29779,
          -581566606.8094642,
          -684550992.6617644,
          -675650115.3852513,
          567837310.7490513,
          -605402342.3374226,
          -403222715.91617805,
          -665634981.8403925,
          1603440896.6396966,
          -139944031.598758,
          -638248784.915223,
          -629843145.9738022,
          -663314638.650498,
          -669086085.5249885,
          -546124492.581071,
          199495959.27892622,
          772922178.1269965,
          1176251350.3610733,
          -682463900.0926034,
          -497097258.13551205,
          -526795960.97813725,
          -612448997.0863739,
          1137540817.3541346,
          187737929.96176895,
          25049009.61086763,
          -241026814.64268872,
          -210422967.9838348,
          -493891897.5976713,
          -535426455.7272253,
          -677838065.8407536,
          -577722731.6312042,
          -668007567.56106,
          -506813969.9850362,
          -658723976.2462181,
          -638627916.524418,
          -357832328.3972584,
          -639467419.8702276,
          -257598028.1086707,
          -658624769.8373486,
          -417744576.89704835,
          -580665810.0658371,
          485531969.1510047,
          -621556554.6716862,
          -629236661.5872244,
          -362805529.3594461,
          663155050.4845248,
          -538079565.4088553,
          -546466243.1130099,
          -578667806.4832236,
          -436849757.451452,
          -489774278.17481285,
          -631647337.0795329,
          -657389803.8448302,
          -661998860.3707035,
          -663933671.8765734,
          -476688189.1209806,
          -659239963.1075823,
          -532985175.2091424,
          -583934709.6892312,
          -221104374.3918516,
          -602827979.8953605,
          -627835027.7559887,
          -480408689.87608564,
          -524734407.87163883,
          -550092754.7041769,
          -583392916.2436035,
          -598722582.3293515,
          -426549790.26415634,
          1155084190.553028,
          97223202.31636171,
          -608226843.4965925,
          -100498354.59878244,
          -587532735.907787,
          -387177579.2038116,
          -488700136.65820664,
          -590779164.6353765,
          -506236218.45977086,
          -648512181.2826421,
          -651876924.9973279,
          -655395394.8640742,
          -165645914.33611223,
          -673054463.2454362,
          -657205130.8130829,
          -590212254.7449912,
          -622889236.5665735,
          -317464096.9513067,
          -633932318.9519966,
          -671069705.1763825,
          -290245272.8074281,
          23326777.055891044,
          -586212971.9868749,
          -660059232.4287052,
          -654199929.8541788,
          -214117605.1236999,
          -194213747.2148499,
          -666072033.7061343,
          -639036306.7165376,
          -514280633.62951773,
          -585164514.5960165,
          -560815960.9194219,
          -669984057.0984625,
          -610765119.8754674,
          -624754107.8362463,
          -652488359.681545,
          1254886258.813127,
          -639650712.5909469,
          -664105895.8107295,
          -85885216.32147518,
          -309513330.7845843,
          1025340633.7733753,
          -667917697.6908115,
          -658219952.7443124,
          -639672932.8695811,
          -489402445.0476028,
          517117952.8411228,
          820357573.3409855,
          -669344382.896094,
          -667882708.2596333,
          -655616983.653869,
          -157253946.64252153,
          -654813076.1262375,
          -463074700.78421414,
          -334283839.27166355,
          -674154563.2283484,
          -670908031.6975296,
          -413939354.9916565,
          -629732597.8569844,
          -600251425.0590827,
          -614140810.6765767,
          -615490138.4838384,
          -640996183.8467895,
          -588872368.0120472,
          -660943325.6850361,
          -648844372.6075102,
          -617009008.4996849,
          297469832.8618928,
          -165182500.04638758,
          -629399150.0108922,
          -467157957.9146821,
          -599723019.815267,
          -401883090.0031561,
          -671346836.4186716,
          243460477.00369,
          -503878776.593679,
          -589185636.8147649,
          -500422497.4335593,
          -111822711.15066774,
          -641365376.0234902,
          -599637463.9815267,
          843313280.7619507,
          -657379369.8312342,
          -589165845.8252071,
          -226014238.61730194,
          -595275042.697361,
          -413519995.8534615,
          -550728464.1982311,
          -634377364.3221256,
          -655430791.5591506,
          -642354792.0530778,
          -652223436.4236768,
          -562185112.374504,
          -660117588.1019063,
          -622661606.2898285,
          -624615139.4064916,
          -589879185.8414841,
          -621539442.3287505,
          -562058756.4495715,
          746978228.3457968,
          -609356018.9515113,
          -606820483.5703446,
          -577020402.370213,
          -592969190.3002139,
          -648570798.5273436,
          -581335971.352962,
          -373901331.95337987,
          -524758478.1008232,
          -639788741.6844676,
          -599828212.3599348,
          -71183878.19886166,
          -655435048.5387192,
          -663393649.8166479,
          -572537485.0556703,
          -523790099.0748837,
          -624458017.6130754,
          -621909626.2363065,
          -589239490.7484684,
          -666371497.940924,
          -568000760.6878157,
          -589686479.6303109,
          -652737865.4423603,
          -537001151.4130037,
          -499347778.6102951,
          -613912027.0482303,
          -644526684.0208669,
          -532668682.8774379,
          -663774642.0537571,
          -641929759.5352657,
          -638701778.332978,
          -632413166.2670562,
          -469218561.373061,
          -595707640.0422035,
          -623859944.0844668,
          -551245465.6136392,
          -257520173.56312892,
          962752.2527402109,
          -609567482.3788017,
          -535699249.89046496,
          -645193806.1851408,
          -671405407.1630638,
          -630126878.7451895,
          -663199294.1925558,
          -669856977.6739274,
          -605055224.6279925,
          -680172796.0412014,
          -670720063.3605921,
          -644721677.0342752,
          65836114.66501503,
          -672501548.0146762,
          -588191137.5792092,
          -671771740.626613,
          -600771512.139424,
          -517081137.37105864,
          -670204270.3667006,
          -537546511.8571408,
          -457213697.9267675,
          -653733080.4911077,
          -650845378.5360727,
          -625665509.6292516,
          -290916759.88084877,
          -633988054.4356415,
          -673185905.8669643,
          -177574092.1557268,
          -619123465.5482519,
          -613047529.5732064,
          -543169616.7810614,
          -400384971.6969591,
          -654246722.969448,
          -625240232.8814973,
          -494646487.6999059,
          -625897572.4497755,
          -259536935.7817012,
          -658832198.3678493,
          -499828567.31335396,
          -667795544.011842,
          -630142179.7698319,
          -640284605.5591503,
          -387439024.9768564,
          -405071208.03048986,
          -662876708.7290678,
          -653918783.1352229,
          -656154714.8846774,
          -172756630.6519332,
          -633303205.2301894,
          -650197658.4647801,
          -2742954.042205734,
          -295508546.3502456,
          -587793819.4791286,
          -659263022.3313776,
          -114655330.4331035,
          -610346146.158822,
          -635049650.2343347,
          -641621294.4155632,
          -664808493.2550943,
          -269467117.3095618,
          -559071477.426701,
          -628410758.5853336,
          -642565165.6829855,
          -673510522.2987996,
          -672625539.6685584,
          542587540.6836237,
          -459015104.9808865,
          -580555020.0985702,
          -593303953.0558915,
          -659491766.8276613,
          -611110504.562888,
          -651840721.0428396,
          -606869506.390726,
          -648293974.5163435,
          -639025578.7537048,
          32851549.61470613,
          -618383387.6286901,
          -554667084.7453861,
          -539816944.5534377,
          403593517.5075727,
          -619505747.8806641,
          -57617412.72379218,
          -519918327.0481853,
          -633240775.3627638,
          -648703657.3799675,
          460853206.32995105,
          -529579284.5997928,
          -436664794.0913418,
          -625059015.2362076,
          -648788684.442948,
          -546867908.4481169,
          -251611000.53475803,
          1552765772.2164147,
          876492592.2599708,
          -596813447.0278349,
          -666280515.5809405,
          -671288515.5912594,
          -660065828.346524,
          -641909051.4678055,
          -370137796.3198152,
          -307475263.438405,
          -515768223.18351394,
          -648802355.6872215,
          -674455777.3803575,
          -665432439.5912076,
          -580340150.3116069,
          -623405837.6640463,
          -655557389.0600944,
          -333838507.0306286,
          -643789003.325296,
          -659670742.3223653,
          -273063772.81660557,
          76455445.1757672,
          -492303551.1978392,
          -441125524.30567193,
          -265036848.39000002,
          -652448079.753603,
          -335894793.8749727,
          -480360458.0867239,
          -588677992.6727904,
          -673550614.0709057,
          -647587274.7453904,
          -664251803.0141973,
          -616481676.5478132,
          -569569150.8358687,
          -673354651.9442928,
          -651460846.0109961,
          -638509632.2482184,
          -509747837.28493196,
          -626514373.5067214,
          -425115289.831972,
          -454450087.7449217,
          -645645949.3587859,
          -662653017.9507474,
          -549449777.2548407,
          -124037135.26149221,
          504507556.0680066,
          -149805986.42229545,
          177136247.6952043,
          -624809100.5016832,
          -247349056.29702333,
          -675000330.8907415,
          789221088.6537187,
          -574421425.8692274,
          -607869961.52399,
          -608034883.479132,
          -663516978.4460871,
          -663659035.7643282,
          283841769.78481257,
          -664958568.6700193,
          -510406134.6805607,
          -603828774.0520664,
          -287205942.57257617,
          -175768819.10858697,
          -213954805.87137556,
          -638216604.6521784,
          -668110025.048293,
          -540824240.859109,
          -493684500.74119604,
          -421259933.39123046,
          -660824179.6721786,
          -672099067.3778162,
          -667707970.9231515,
          -654835450.0236714,
          -668446261.8827131,
          -637271387.7311567,
          -354303228.5804845,
          296036681.85433674,
          -373455901.6102923,
          -621116113.7622472,
          -569845325.7380095,
          275451540.53582585,
          -655347086.8531588,
          -460270193.8876945,
          -564980224.1744367,
          -144410004.12693366,
          -638773021.0375206,
          -85411862.45992485,
          -663871842.8634728,
          -155674877.8814377,
          -609312829.3970371,
          249235193.11873212,
          -632073532.3060921,
          -627456669.1163596,
          628459070.7916306,
          -587024010.0613633,
          -470416183.3625161,
          -666936037.6471604,
          -529967412.02403533,
          -258298544.0324884,
          -566398635.1627209,
          -665544585.7533772,
          -628668090.3402497,
          -638041788.5595025,
          -658065952.0041301,
          -605834006.172786,
          -151384318.97575438,
          674062382.101545,
          -596832548.2255208,
          1749789305.0979514,
          -642048699.0815128,
          -249001415.418262,
          -667438331.2910882,
          -668533760.7089567,
          -457891717.6197517,
          -607095929.4584906,
          892340598.9911464,
          -640160924.2728275,
          -448319721.60410315,
          -624018704.4979934,
          -657831566.2861722,
          1054480988.9516618,
          -548896519.9414148,
          -628400224.5228695,
          -411930699.8003092,
          204347779.87500474,
          -676285277.9618676,
          -663369761.1738056,
          -382855981.0254187,
          -247092399.0929684,
          -287756729.16606414,
          -458663191.7622195,
          -308230400.90994006,
          -620014107.3156226,
          -593602518.8440651,
          -639204588.4404958,
          -221169838.1381147,
          1413897379.7552133,
          -518709997.7439192,
          -626980655.1595229,
          -501851416.4608166,
          -668909125.4355649,
          -656971074.8300358,
          -507999515.2642928,
          -429615678.52368575,
          -224074015.96817437,
          -637810259.5577335,
          1286190742.3080792,
          -548213622.0633794,
          -499324931.85805887,
          -612037254.2941251,
          -564381113.1427373,
          -303594686.1703185,
          -606643643.0048971,
          -205050123.10254362,
          307003145.1283903,
          -3941594.316847838,
          -679618119.1790774,
          -467927937.78429943,
          -354725359.9118729,
          -628804241.2598482,
          -258447359.96837708,
          -437151293.8275114,
          -620736213.2786685,
          -630262948.0260166,
          -630880811.841669,
          -649038761.5906743,
          352480435.30565697,
          -543124251.6614815,
          -385010388.80413806,
          1961325185.9076285,
          757990811.0552756,
          -600896801.9452456,
          -579283019.3004135,
          -435215703.869355,
          -484902128.9699638,
          -301415505.48380387,
          -425075733.1545312,
          -565590656.8946412,
          -646325748.6643637,
          -661308534.8122077,
          -490349715.9477472,
          -598041798.6065445,
          -637724666.4156263,
          -663304581.4696201,
          -444326224.94293356,
          -456396786.1052438,
          -645345382.2615832,
          -642949652.4260631,
          -581102195.2018148,
          852085569.9034969,
          396922892.7870001,
          -548488612.2113199,
          -216702140.0010809,
          -604352460.9401671,
          -648167631.5945642,
          -237793017.70987162,
          -645604999.5744871,
          -268253549.9440338,
          -617965404.2578173,
          -23530189.842327904,
          496867147.90264684,
          -618379480.6836929,
          -394859591.4141147,
          -606308692.2100958,
          133252624.51923117,
          1431207960.3516603,
          1039702297.1607586,
          -581391766.2930597,
          -480604015.57934445,
          493257396.2244258,
          -551182265.6113068,
          -583529988.17407,
          -531211202.25820136,
          1284967534.1343238,
          -683574260.8227403,
          1267864900.7560096,
          -137711195.46563783,
          -204138476.83820617,
          -629485276.9582262,
          -675516742.9204929,
          -574945637.3231704,
          -669812972.7740569,
          -675810951.8776054,
          -629917380.3108715,
          -619972351.6462468,
          -376735728.71396834,
          -469675483.60171646,
          -681928122.1556046,
          -590547037.0943241,
          -578918330.2438155,
          -580427421.0677917,
          -375876180.95761734,
          1079551273.7331274,
          -603405202.6407684,
          407486361.91382736,
          -586070062.6434164,
          -593458340.0474132,
          819830123.7359949,
          -273037333.5455137,
          296622747.9949313,
          -446622628.51623327,
          1768943848.3622088,
          -646088512.1455973,
          -672718666.8949019,
          148828571.8575457,
          -72015238.87135479,
          -635536129.8391883,
          -662920043.3231846,
          -230630713.00436065,
          -654909722.9290059,
          1193638905.8547924,
          -671305685.9577639,
          -633914499.8587015,
          -582996254.6131884,
          -644401377.4245138,
          -534205873.7979041,
          -588516162.7640129,
          -577319854.9974385,
          -648552134.9741341,
          -617536711.5641434,
          735298631.8917356,
          -613929174.9089422,
          5724428.665210217,
          -589338370.1622521,
          -497478823.5655311,
          444390047.4579935,
          -428528567.50852245,
          -648433001.9004112,
          -669161007.9578719,
          -499596676.5161947,
          -380356407.04513544,
          -567214787.0275389,
          98546517.74282555,
          -646898910.2931465,
          -513615625.91266406,
          -525602407.4655106,
          -576978290.4535625,
          -675785835.0448159,
          -218293123.10803714,
          -620505814.2088948,
          -672663459.5052947,
          -562731346.7482599,
          233827758.45276695,
          -671238876.9774467,
          -475517840.6469052,
          -545198181.8209791,
          -619720701.3348854,
          -253978329.46553484,
          -517081080.6299433,
          -345215351.7943047,
          -339143197.95942336,
          -520262230.29639345,
          -630522269.169991,
          314846048.21028507,
          -50809118.79917463,
          -674815019.832581,
          -286466041.57146734,
          -412833352.61874866,
          -341581465.36550844,
          -673462555.0285956,
          -544462547.4883265,
          -509905577.25000614,
          974397657.2416264,
          -382539217.50880384,
          -647131710.3491317,
          -668412978.658465,
          -663936161.0281544,
          -598860358.6705931,
          -512658340.9168696,
          -102583837.359659,
          -267603455.03276008,
          -583106371.1130332,
          -507764197.87196213,
          -647914344.8042021,
          -661329302.0073881,
          -535541014.82724047,
          -178981600.31890944,
          -590400871.1509268,
          -605326615.6720414,
          -569194947.9154074,
          723671888.4026572,
          -376692860.6112613,
          -464826398.0987813,
          -614614730.2665073,
          -620849278.3985611,
          -29799581.9305048,
          -261606660.71286932,
          -669843419.0061504,
          -681421687.6576182,
          -373077693.33670396,
          -633091597.5988854,
          -660048257.8516061,
          -674155871.5223687,
          -665873021.5911107,
          -255592435.22623265,
          -564907580.9340351,
          -599335331.761232,
          -636124827.9386076,
          -331537463.5991401,
          -671698066.9815644,
          -666301815.9637562,
          -403007238.0019775,
          -671056079.2260503,
          -620260264.9353563,
          -462252609.033054,
          -315166242.2187175,
          -130078200.06039982,
          -544234584.9398193,
          -624099552.4496205,
          -634837006.9537883,
          283803391.4533618,
          -630940765.605737,
          -226802668.6842551,
          -620408205.6686078,
          -603289941.6557364,
          -149778633.6117596,
          -602652360.8085611,
          858461936.5562017,
          -668820740.7356172,
          -577895617.6398034,
          -618522089.6367791,
          -674574020.601969,
          -666530752.122105,
          -457074259.690949,
          -536283624.7163516,
          -600417912.263848,
          -653336974.6008036,
          -600436333.510065,
          -616592013.1284964,
          -538811833.8722354,
          -651132012.5466707,
          -671064600.6976923,
          -41822447.03655072,
          -373529484.8535719,
          -521526372.5086889,
          -579623633.445361,
          -598767756.4261092,
          -652821945.8118788,
          -416776523.6921949,
          -638200221.8452213,
          -372201658.7491341,
          -576848925.3718108,
          -540382314.3901552,
          -441811139.0346726,
          -605358454.7639625,
          -665728562.7348813,
          -570322843.8009806,
          -672049004.254003,
          -404233955.22151536,
          -632033911.7473433,
          -68842696.53246771,
          -590035277.1107801,
          -591954072.7715238,
          -664973551.5271578,
          306193855.1478893,
          -666153207.7060744,
          731650032.9463905,
          -617686839.489333,
          -603053830.5870199,
          -413385417.87884516,
          -628430911.8745718,
          -608728860.5269556,
          -600335639.4732065,
          -638382429.1172733,
          -623641850.4358894,
          -322272895.0211901,
          -373397328.43622184,
          -645163891.7796464,
          -374131663.81752336,
          -566847636.3474039,
          -654391838.1475964,
          -676342114.7895621,
          -653672108.3287222,
          -611796303.3555956,
          -230065114.98952797,
          -125007489.35113114,
          -652865171.9973729,
          -338307463.7805163,
          1968097092.5577264,
          -638329953.1444857,
          -688340875.8451072,
          -674003565.3031789,
          -650138537.7405264,
          -515417737.6554196,
          -666100848.0900385,
          -552912748.0154666,
          -646453270.1263431,
          -501623534.92982924,
          -584088249.9032465,
          -667476729.7509885,
          -670784306.3308557,
          -672189174.9861586,
          457314115.8630366,
          -348874412.7036109,
          -330234071.5396975,
          -199395215.79675806,
          -681929164.4463795,
          -581029439.943456,
          -565215923.3642389,
          -662828668.066259,
          -680639948.3738911,
          -399472480.73248976,
          -375278641.41761,
          -663164893.9552584,
          -674117170.3646328,
          -660678956.3814834,
          -676591164.698277,
          -680430815.7124754,
          -654297875.3474526,
          -660932222.4183282,
          -443226569.99219304,
          -654689265.8397819,
          366766567.11334425,
          -463536396.2195774,
          -631923099.4180305,
          -668554087.1643939,
          -672863850.7745906,
          -532787909.98623395,
          -361708949.65554166,
          241806720.04746526,
          -417676106.96673375,
          -677048284.2663047,
          -538114055.8385895,
          -640538291.1896307,
          -665362074.3736999,
          -625271474.3165368,
          -633807704.5066671,
          94681343.92838961,
          -677590490.4482971,
          -366140615.9691943,
          78762520.35021736,
          -669490108.3116379,
          -580384970.3526623,
          -678248151.5299492,
          -399179857.50908566,
          -565361917.3966639,
          -625956012.8811258,
          -548089978.5498945,
          -596042383.7073427,
          198740654.9029747,
          -377463932.29369646,
          -627423167.4135633,
          -663984475.911476,
          -687362221.3850297,
          -385707931.6215314,
          -660984472.4572835,
          -660248112.3322326,
          -651936356.696285,
          -398855142.1185023,
          -614941036.0051625,
          -334289273.7227337,
          -569394184.2284902,
          -666284457.8857875,
          -591339073.018391,
          -666047441.7564871,
          -611487999.8808888,
          -654608201.1319152,
          -627416472.9965079,
          -644110984.0154091,
          -587059024.4575295,
          -667914385.0012357,
          -626757440.1893437,
          -654538266.3056554,
          -666044502.3343278,
          -466368487.8568588,
          -629600072.5721791,
          -666991497.9880368,
          -679857141.9199872,
          450388221.7018454,
          232729712.1235369,
          -667837871.6615239,
          -601943228.7454594,
          -649429243.5004746,
          -670220383.7113593,
          -599565077.0807197,
          -662192843.9781408,
          -667534879.5568137,
          1476674202.0123427,
          -589151674.266171,
          -678923535.8666769,
          -461570368.660818,
          -604298745.9797058,
          -683149738.3131417,
          -674322347.3540355,
          -651039762.7701908,
          1501980429.6878471,
          -569486693.3597813,
          -665265436.2507333,
          -661618712.3679911,
          -623543509.7730778,
          -671857160.6353247,
          -677213410.0940934,
          -639408175.3564686,
          -510245316.6460351,
          -676377872.1601068,
          -678723497.0434719,
          197378857.241756,
          -327374385.1984686,
          -605845628.4143486,
          -667453391.1169415,
          -631220588.3664763,
          -442909134.055724,
          -651513946.3656528,
          -679199843.3520638,
          -44564279.92842103,
          -315759380.23776066,
          -321031357.49050945,
          -548768801.926834,
          -667320751.8204976,
          -672398029.887832,
          -680169065.0290424,
          -581413312.0976546,
          -622972349.7818705,
          -2850489.919936159,
          -462470073.8509913,
          -364424013.314548,
          -45650348.6928092,
          -643301614.9290667,
          -613365271.3072846,
          -622214153.3346786,
          -664431847.979974,
          392180624.3672453,
          -616950604.4428989,
          -619360594.3939177,
          -639547210.9448998,
          -635144316.0826031,
          -680956781.9756215,
          -671049979.79347,
          -442596887.5446527,
          -663874408.5560254,
          1547950852.785855,
          -625155958.952359,
          -597446915.7047741,
          -477765852.7534178,
          -609095264.1923624,
          -508800303.8800904,
          -631762554.167675,
          -654783948.5236223,
          -344804500.0489531,
          -662206180.2659655,
          -671604985.6172386,
          -401511667.4713823,
          -676247857.8475059,
          -6916809.93116042,
          -132129955.28777252,
          -509896352.55617976,
          -615886559.647107,
          -618390025.525468,
          -192559141.44551557,
          -389579661.7458782,
          -584784854.9301608,
          566275570.6747006,
          -648040644.8254187,
          -540220646.2283504,
          -650650517.7566592,
          -579433709.1061174,
          -515504918.1331278,
          -444539607.94752496,
          -638345361.2841733,
          -659818663.082017,
          -672745047.0470563,
          -616579619.3854884,
          -106908312.38380691,
          -93876819.25553213,
          -582358964.6627392,
          -616432108.5241004,
          -601272418.2164865,
          -557996332.2526358,
          -629695651.1340681,
          -497784476.3926383,
          -625285499.9557694,
          -636279485.4841988,
          -638767053.4701177,
          -587719443.8415276,
          -471457813.70004815,
          -640488961.2109156,
          -644922511.413968,
          -122495031.5508928,
          -609992278.1983495,
          -541179539.7663062,
          -569004246.2923948,
          -239744972.95570564,
          -624462921.0580956,
          -123212567.17842415,
          -626734643.8206049,
          -672656331.038666,
          -654419055.5113919,
          -635642171.6841156,
          -660665335.6165887,
          -662458752.6890485,
          -603346681.724513,
          -646823080.379299,
          -622579099.7723368,
          -668472093.9804009,
          -463083227.0127019,
          -623078482.4254456,
          -615715209.9972246,
          -622499641.1294545,
          -489246246.66581357,
          -632984793.7043685,
          5700455.146437236,
          -103776647.29710175,
          -497231181.2796649,
          -667247993.2889482,
          -613701414.7269682,
          -627843167.9928238,
          -553295131.2200911,
          -508122226.05087495,
          -647935313.0606503,
          -661797853.8432671,
          -571365837.2584301,
          -467642143.74545294,
          -590653401.924169,
          -669337411.04318,
          -602111569.632159,
          -289010622.65981233,
          -635625329.2014966,
          -539180849.4518932,
          -532169641.4292139,
          -651880706.9890962,
          -636818687.8011926,
          -576653193.096783,
          -650573871.0713567,
          -626900800.1491556,
          -510909848.5417517,
          -665498972.69032,
          -548447456.116095,
          127406381.28391619,
          -623631005.4547048,
          -191777231.76211968,
          -586214214.7216312,
          -595294316.2405946,
          1459938000.9870806,
          -577373884.10414,
          -461573183.5421706,
          -180802444.2129321,
          -645586317.4235251,
          -608116471.9963791,
          -619056660.434101,
          -479683068.9194669,
          -610921199.568123,
          -272578746.4482041,
          -484002909.00924313,
          -581926185.3600416,
          647095841.5390158,
          -569029758.5750912,
          -604803665.0334945,
          -506919939.45604384,
          -632690779.4868742,
          -441109161.53199077,
          -530176229.01787853,
          517232417.0100343,
          -440599983.0048835,
          -601657174.6435077,
          48137680.190439284,
          -505345344.8268523,
          -547307710.0520635,
          -451439427.9509602,
          -618106697.2281055,
          -368043791.92682487,
          -603379929.2436541,
          -447450988.09259033,
          -178617582.59130248,
          -590526393.4868944,
          -588005850.0999998,
          -520225106.22865546,
          -318788020.65793717,
          -639533429.503031,
          -386549445.156159,
          -464446778.13582695,
          -563367657.4488276,
          -144974661.37805125,
          -596234488.9874398,
          -552873166.2871233,
          -634231121.1936578,
          -464402993.07995915,
          -433837771.5571099,
          -223976828.97897503,
          -443756421.2699171,
          -339940346.5185818,
          -512578817.9169008,
          -633674747.0354617,
          -671285972.3614715,
          -497693879.9379642,
          -650384390.2507563,
          -434557375.2499075,
          -225225023.9406711,
          -646345498.3043627,
          -425086007.38835937,
          -666158570.7107354,
          -599547645.1970377,
          -517239122.8134602,
          -621246873.6701103,
          1860615774.2010317,
          -673233118.5890375,
          -560549234.9503223,
          -641342073.912085,
          -651065062.368464,
          -599089734.0718035,
          -529898885.6835186,
          -477738338.7838725,
          -665976958.6312348,
          -583678573.5272692,
          -370873183.37864155,
          1197008867.856369,
          -243848776.022249,
          -589380458.8597116,
          -621293383.6714709,
          -552160661.4762537,
          -644662728.0999458,
          -229780442.4503598,
          -562959284.4286933,
          -649464760.0568788,
          -648014243.5348144,
          -546518334.6130394,
          -432889545.827353,
          -604772791.9392303,
          -611808641.0850354,
          -454524866.53866327,
          -353717439.7757652,
          187140916.31995565,
          -663990639.3312126,
          -628565613.7757436,
          -551133447.8490034,
          -611146860.6445236,
          -665489222.4345714,
          -666254179.1067878,
          -629398210.6144643,
          -672086855.9190542,
          -654444507.8891943,
          -418751048.1356356,
          -678009442.2610174,
          -473376692.4576383,
          -607584221.7199619,
          -641962007.5756171,
          -620863400.6148818,
          -250453135.0591664,
          -586937156.307877,
          -618691299.89326,
          -663397265.3910663,
          -660544021.445294,
          -602405749.2188994,
          -539104780.4471555,
          -672510231.4563967,
          -666641865.303589,
          -654454322.8628793,
          -680355022.8843368,
          -535162814.19146365,
          -604333846.3744035,
          -574241719.6422776,
          -576644914.1047952,
          -650680639.8209441,
          -625755638.3912677,
          -666820827.6521916,
          -669579857.830416,
          -594329773.0555007,
          -606400565.0233094,
          -571712973.5535136,
          -339904496.2664358,
          -36987044.71506193,
          -586391223.3532851,
          -603383041.8878249,
          -636351868.6395345,
          -423352729.7387029,
          -617159971.7569597,
          -628858928.1373249,
          -637285468.6054049,
          -655887648.8408452,
          -662797816.7337426,
          -614825907.7175086,
          -646724999.1061032,
          -679181048.638043,
          -611641406.849251,
          -659237906.4086732,
          -667848829.3893722,
          -657933739.9651773,
          -662154552.3624817,
          -649302207.578415,
          -663157959.5655105,
          -664885290.1754031,
          -522869227.2191496,
          -677831109.962186,
          -609509965.459774,
          -656313740.9747024,
          -667738913.5928051,
          -614818985.5215697,
          -658299173.9262096,
          -627731328.2068806,
          -634698855.9921751,
          -585728748.7013148,
          -627512725.7797624,
          -642386519.0621673,
          -318471628.20541406,
          -659182793.6303926,
          -653498572.2136543,
          -625516416.8225698,
          -681698709.7986819,
          -669998884.0740463,
          -667649146.7202573,
          -645759858.703507,
          -665395916.3350102,
          -604334257.9989835,
          -657142180.7302685,
          -486083403.32696444,
          -628819253.1585593,
          -643052261.8279182,
          -647454572.6561517,
          -652646210.0215155,
          -369334561.10012877,
          -654552523.2355914,
          -385154779.2082175,
          234640207.12173995,
          293905486.8615319,
          -588522693.7384204,
          204742211.02716896,
          -419119036.7938836,
          -636294122.501672,
          192456111.99199653,
          -1307609.5063237257,
          -645475023.1400237,
          -426267233.4580655,
          -611470687.4551759,
          -445077569.6100026,
          -686830346.9209617,
          -657150352.2020092,
          -621503416.6514165,
          -603134834.8387113,
          -616260597.1056486,
          -556412952.191468,
          -388637074.73247266,
          -661230477.2329851,
          -612427345.6186805,
          -609353297.2469069,
          -656967555.4985689,
          -563397732.2388389,
          -511444678.37497455,
          28013657.134406514,
          -472387486.77313274,
          -656489200.7306197,
          -582695372.432984,
          -647323621.230727,
          -506286115.7845875,
          -456564055.7989796,
          -474653185.02271134,
          -268950366.9310987,
          -622727975.0496062,
          -508953283.0204719,
          -306712344.0459733,
          -641991928.4363946,
          -429073694.11114264,
          -666083156.8963803,
          -637202339.9930811,
          -669200306.7116531,
          -610495557.9273704,
          -664342173.9848561,
          -670095136.3305326,
          -630667754.7206838,
          -677724357.4726593,
          -677187324.8839904,
          -479092745.4069523,
          -671645857.7200618,
          -651478064.2327687,
          -567546281.8401209,
          -616443722.0190552,
          -671338906.8800728,
          55473315.18690574,
          -582089894.8258228,
          -681936931.6877617,
          -288995872.12553644,
          -628817280.7312026,
          280380849.1964708,
          -657839132.2872877,
          -126438368.91009003,
          -12289649.46886985,
          -341431091.999934,
          -665709795.2876883,
          -474880244.7807338,
          -577919634.1082667,
          -587916790.5144123,
          -646520011.2643301,
          -657099404.7319306,
          -539542031.3165652,
          -622316661.8546114,
          -543209230.1840913,
          -624832291.719863,
          -600888355.3458756,
          -557421285.8976693,
          -676254319.8840958,
          -614529765.6373605,
          -513969018.183588,
          -593095896.4782249,
          -650866946.8442125,
          -669287941.5534971,
          -603189509.8085487,
          -683868939.384106,
          -668659261.6384348,
          -678414657.46275,
          -655660903.5318232,
          -408031996.4904757,
          -487990403.71244055,
          265867284.84476322,
          442282638.72300917,
          -680330102.9595858,
          -630336252.4686725,
          -438588998.2339924,
          -654489253.5777333,
          -220065742.7927543,
          -577173040.3913906,
          -674285426.5833687,
          -642704100.9148867,
          -671554089.2637091,
          -594799895.8833567,
          314253445.4956816,
          -640970803.411529,
          -665542612.2642311,
          -620885941.2465521,
          -638585458.1679962,
          -665577484.7769762,
          -681391276.5523673,
          315476946.8105226,
          -606015921.61403,
          -623037592.3008444,
          -568984892.1020073,
          -527359684.6684452,
          -666614788.0286138,
          463787641.7218081,
          -647711498.6975118,
          -595013310.2525116,
          -257867419.14963692,
          -668998393.4834341,
          -415414686.2125158,
          -673578007.2174923,
          -382319930.88252836,
          -645510826.5871367,
          -605197748.7876942,
          -196692338.16420645,
          -300396897.3045755,
          -465973514.8407574,
          -552510274.2538079,
          -304462022.15578234,
          -672205369.2864672,
          -602934724.4269732,
          -415588230.120285,
          -359243404.4468608,
          -605355819.947382,
          -651683222.72685,
          -662292343.2056887,
          -680325824.4255458,
          -216456398.23740605,
          -653426550.3755965,
          -480752017.4752193,
          -419530072.6858128,
          -499286456.580835,
          -233173237.19481537,
          -558034473.9477227,
          -553450918.737176,
          -627208562.0632176,
          -658417560.3210037,
          -674819567.9769288,
          -663180936.2143439,
          -630847917.6249261,
          -660509823.8630418,
          -151654523.89827868,
          -591141970.4190861,
          -601340432.6080565,
          -643596170.782824,
          -605858245.4242767,
          -465703411.7041947,
          -584430355.9573841,
          -602493551.2476255,
          -541377112.3392749,
          54440277.480216675,
          -665653597.3168206,
          -464715300.9961669,
          -615968767.9440266,
          -600676424.0526699,
          -567693521.5148748,
          -676563710.1697068,
          -665719212.1828462,
          -253222001.38797605,
          -635541094.6427356,
          -667987715.3663388,
          -573871682.4952701,
          -643308224.6408863,
          -589580376.095792,
          -485356734.2370351,
          -646196748.1351334,
          -542871278.2224218,
          -514102721.93457335,
          -104087870.48558825,
          -629590182.5583842,
          -367116139.6533389,
          -636119431.3894886,
          -664256077.3092073,
          -677610400.1536218,
          -670158500.10023,
          -623623245.8874826,
          -611403080.6345315,
          -638521896.2855303,
          -562684696.8842168,
          -412192235.7041744,
          -646699846.3097848,
          -657819256.3159666,
          -617244597.9696716,
          -634022795.4799157,
          -629680531.6947719,
          -662914416.0181564,
          -669246001.5613239,
          -383876687.18612725,
          -591838479.5769207,
          -663334147.5443078,
          -673826141.9328585,
          -645796661.1226363,
          -557215794.2066964,
          -668261854.1519953,
          -645337516.585353,
          -652795892.6859988,
          -677029102.186153,
          -479333577.1849065,
          328927755.3400864,
          -554657295.8827821,
          -502428159.7711788,
          -388415230.1543078,
          -617652445.8268732,
          738101749.9929029,
          -682983247.3355919,
          -655267167.0477022,
          -532242720.73380786,
          -90738633.87529835,
          -666730918.3578151,
          -586410769.8887203,
          -593941006.1645181,
          -556617701.1616782,
          -662650537.2855037,
          -659875299.0670524,
          -625485059.0679252,
          -616159831.6303962,
          -568912260.6603261,
          -656968561.0208213,
          -677960779.9108746,
          -679617766.4932601,
          -642250988.4243927,
          -648931511.0006453,
          -635903359.2395002,
          -636906603.8676393,
          -641191419.3200648,
          -647342578.0115453,
          -670636371.146864,
          -673240143.5857471,
          -653521661.8408681,
          -622363597.7177129,
          -453816789.80881804,
          -607589516.1609987,
          -678048516.3597776,
          -563914821.9511844,
          -651719668.337762,
          -575088005.3977785,
          -542343797.7071773,
          -670794048.5253977,
          -672332883.1263187,
          -628387554.9922075,
          -396165903.8009741,
          -545876854.4912804,
          -655395983.065894,
          -599182098.9214894,
          -526430164.27335125,
          -654450258.8054656,
          -624926538.3104473,
          -633039086.8130327,
          -632771439.0576088,
          -660776019.0283258,
          -630384933.5074105,
          -654427991.2908206,
          -476088671.2737678,
          -648483047.6093112,
          -490444111.9245905,
          -662460588.8614597,
          -637401535.3508624,
          -662387531.4305874,
          -625098612.0104966,
          -640373002.5001888,
          -503916784.2204077,
          -670494136.8158528,
          -646917587.3668739,
          1177342084.6365218,
          -660739960.018325,
          -652460633.2152863,
          -618730292.0001494,
          -654926947.938717,
          -624333311.989906,
          -585621500.5028887,
          -652872425.4358678,
          -667845050.3419213,
          -326670889.36031646,
          -617003484.1144782,
          -641514815.922472,
          -639371254.6146342,
          -639593032.0706314,
          -535788518.2223382,
          -513124244.3473896,
          -659476202.373643,
          -653568898.8789344,
          -662075040.1671631,
          -633193353.977256,
          -563495836.8829063,
          -646404267.6718615,
          -589661151.5673529,
          -533936676.4535587,
          -614773257.9406612,
          -633176242.7374936,
          -505706316.1530966,
          -383711771.8675806,
          -622014474.0793922,
          -121977987.19252115,
          -619996236.578924,
          -625109017.0861783,
          -570300730.2184567,
          -629102463.7447509,
          -425068204.70446813,
          -632873554.8936027,
          -448294138.3945401,
          -574049669.5966059,
          -54083757.98207627,
          -656003286.3869159,
          -650304074.4867053,
          -462628016.7547636,
          -614005724.8443218,
          -615346346.7483048,
          -639284590.750965,
          -549089114.4951686,
          -516639082.96413195,
          -665566156.0373446,
          -522507287.5928368,
          1117486488.3588903,
          -670271579.6339957,
          32859348.731456008,
          -637415496.3407092,
          -615620698.7354109,
          -638804918.9810585,
          -664478591.9423656,
          -624777736.4939151,
          -596203775.0704029,
          -620235632.5240397,
          -639774127.3664768,
          -349146831.83199394,
          -606703427.5156807,
          -493203306.23440254,
          -551997862.7875811,
          -656107704.83861,
          -570615001.5381124,
          1510418638.9411306,
          -655264049.5224687,
          -555667531.4502466,
          -195331139.79842725,
          -647329398.6063758,
          -610388798.335933,
          -677738351.1598271,
          -638118646.4992163,
          -156996582.37943816,
          -602144236.0786297,
          -627334856.8431633,
          -669644443.5873545,
          -582421211.352289,
          -677999925.6878928,
          -632116236.3292246,
          -598097438.3498502,
          -681449129.8568039,
          96480432.2939712,
          -666708016.7945497,
          -331118942.0694064,
          -661030149.2739422,
          -598458056.4202505,
          -661952106.721334,
          -626555238.8204881,
          -666485320.8318391,
          -678516833.5134113,
          -506351014.96450675,
          -53591689.98487813,
          -650736137.6212974,
          -675452507.9403063,
          -633872536.1362988,
          -668502988.8637584,
          -557186130.7486923,
          1076944426.68033,
          -277934132.32263124,
          -156956191.39526924,
          -664754363.4061093,
          -586416985.9537768,
          -339350312.52504534,
          -626927434.8176302,
          -609787679.0634048,
          -670804066.2281901,
          -534666445.67216814,
          -601803491.1771188,
          -665215633.8255662,
          -326385932.6526154,
          -592734042.8265698,
          -492804873.18570244,
          -511003695.15665776,
          -650728262.8839679,
          699237442.3268032,
          -637540835.2818962,
          -409720015.1547086,
          -662151208.3608968,
          -655153066.1111087,
          -581536821.6749693,
          -347991061.7938422,
          -637232345.6272464,
          1611641862.4302962,
          -649425574.4806418,
          -604449072.8953242,
          -569084462.0513772,
          -576424707.0126171,
          -599987780.2551824,
          -636874110.4149002,
          -558761169.5850729,
          -656330884.8681877,
          -633459994.7325411,
          -669373567.4320796,
          -288624414.3814029,
          -637067016.6371698,
          -670970200.4293356,
          -404639489.5984853,
          -602343040.2129353,
          -623593160.4176911,
          -438635409.4416138,
          -663798879.8810679,
          -552919736.0689311,
          -627876441.3946936,
          -632935853.8138528,
          -554166667.9788492,
          -608697089.612985,
          -650010011.1063784,
          -665684770.2502006,
          -673636902.1992668,
          -652623368.5696262,
          -653833157.324313,
          -668922283.7754687,
          -637360890.9960855,
          -523608529.2923754,
          -593807982.767564,
          -483908937.55368644,
          -538010507.7704525,
          -633866826.9321915,
          -630446819.9848198,
          -603582222.5963265,
          -640734508.5392679,
          -660239975.2103809,
          -361104426.2039235,
          -593367107.3102803,
          3963126.399015317,
          -549118600.7056932,
          -672802962.5059654,
          -604022550.774032,
          -560837427.4349371,
          -662120703.2175897,
          -602734744.1106328,
          -604376101.0931551,
          -557842532.2373822,
          -672981679.8262932,
          -673324194.4942579,
          -612121589.8539432,
          -569729685.8863323,
          -610652632.2692994,
          -634418011.0630696,
          210533336.91037148,
          -659958910.3961252,
          -499419836.63328815,
          -681619970.9086003,
          -611745020.1122643,
          -600987478.3232884,
          -605058557.0575554,
          -669860399.2759731,
          -548110324.8057386,
          -653839115.4818299,
          -657986230.4453015,
          -433381712.3423058,
          -662001619.8533803,
          -573904141.3748822,
          -638162185.3955783,
          -583199601.3060418,
          -565590265.308843,
          -602347118.1148641,
          -642681549.0365807,
          -603225923.0539626,
          -656955269.6157392,
          -497203055.32444304,
          -553391046.5343795,
          75583351.14921433,
          -590130861.500389,
          -612313251.4357555,
          -507844037.11486554,
          -656425969.9785975,
          -513226756.4850351,
          -469750348.9133077,
          -580431213.8996768,
          -624764528.4429915,
          -670630138.0155295,
          -585558039.9889274,
          -637048239.8635056,
          -662456482.705059,
          -453760499.17684275,
          -666337636.6902626,
          -603431331.4359467,
          -656663836.6698515,
          -678024252.1082634,
          -633580809.5259881,
          -661390501.6830914,
          -674401972.9394594,
          -630030114.7560071,
          -631178737.5114799,
          -623926002.0740113,
          -408987628.198424,
          1206379053.2517104,
          -613215254.6607295,
          -501027290.372651,
          -656432735.7697424,
          -660405107.9414549,
          -679942520.4847748,
          -580829869.6125357,
          -604785481.0627556,
          -542492174.3315043,
          -629839774.4652915,
          -593468628.3987881,
          -634181241.9999657,
          -646646257.4098605,
          -662356066.7196523,
          -640095049.9803398,
          -594607748.5938969,
          -595832778.3417073,
          -661509389.70123,
          393986445.2909176,
          -661218970.3396147,
          -486769581.82005584,
          -526956002.5112966,
          -505281641.46500885,
          -561494953.0137484,
          -624841148.7979455,
          -643279058.7271341,
          -545048758.7964737,
          -616566326.883159,
          -655620719.0307808,
          127150358.86505266,
          -393782410.177655,
          -628837171.5469037,
          -481645990.64578205,
          -647336075.2120236,
          -602357908.0348693,
          -547788323.5913514,
          -627029010.0945653,
          -577793738.1155072,
          1301205361.4994102,
          -511067704.81232977,
          -553532842.5810502,
          -568941452.5737522,
          -649194150.6863852,
          -631377183.6493765,
          -540238642.775033,
          -547408736.4759554,
          -155886735.8815229,
          -351760730.59658056,
          -607195722.7085797,
          -210724538.59734994,
          -649886312.2132138,
          -607064608.056208,
          -650562287.7559052,
          -527928739.0251766,
          -654836142.3368124,
          -612663680.9680845,
          -680933233.6980878,
          -375297515.28278863,
          -592867239.6884981,
          -297189808.5569855,
          -672805149.548165,
          -606847546.494821,
          -627454089.616389,
          -660896913.6911427,
          -583647727.117907,
          -255328188.04836938,
          -640894399.2504492,
          -651853818.8165015,
          -452264281.8313281,
          -500789692.39163285,
          -658473775.2180806,
          -615077082.0271094,
          -620430066.6996621,
          -583816145.7945002,
          -262049113.62309182,
          -614408800.3948079,
          -452815042.8067269,
          -605055662.4112679,
          -665929233.4000711,
          -674995142.4548672,
          -620908155.9753373,
          -518949938.2589037,
          -652149110.3476264,
          193580623.56510675,
          -433791383.79887533,
          -592923920.7934741,
          -499472570.1961774,
          -670447520.9845616,
          -657318762.0903314,
          -574482037.1883537,
          -644173793.3460929,
          -548010101.7812122,
          -643896472.0978895,
          -225898945.94607934,
          -641271258.7316488,
          -648795544.8403416,
          -650628564.1622915,
          -174183533.47127333,
          -644285617.3985136,
          -613905721.4725727,
          -576518288.9275477,
          -545759402.8467336,
          -178230843.9575201,
          -653257471.4459502,
          -468986631.0219628,
          -654080396.4237684,
          -627806444.4896247,
          -614572355.3082451,
          -594876644.4755424,
          -651329531.4760154,
          -219769104.44631866,
          -614352080.797431,
          -667544978.6523474,
          -597401780.4369863,
          -469203592.3984566,
          -645726722.1939008,
          -645501683.9220469,
          -589772825.5123918,
          -560884201.6826701,
          -606780847.5692904,
          -601408370.0276039,
          -466781262.6991735,
          -641695550.37379,
          -635549866.2050849,
          -630017145.1083724,
          -621176480.4558885,
          -655434779.3514143,
          593378231.659301,
          -596939128.1396207,
          -593399476.4830784,
          -624536660.1911865,
          -638183992.4005146,
          -654756562.5102094,
          -674289657.0604352,
          -619711140.2133836,
          -542870003.027471,
          -667106365.4363773,
          -51972998.338953994,
          -654523071.5913005,
          -645108030.283597,
          -639912652.3034524,
          -647451586.3111213,
          -439138255.0861533,
          -640338282.2696253,
          -584494229.3491625,
          -555414803.6393119,
          -439366568.7551248,
          -642693197.5253171,
          -510772376.4388598,
          -572830364.8728694,
          -667124955.2956847,
          -608073370.3079189,
          -639792082.2860909,
          -528865311.4716329,
          -666480049.0278155,
          -477933538.690947,
          -629852266.4324859,
          -618326033.2691371,
          -604174194.447721,
          -595959601.7654456,
          -663300382.8256447,
          249733261.60454863,
          -311627274.1861705,
          -595677809.1313127,
          384351212.96797216,
          -666522743.9563876,
          -575560497.0631373,
          -561196122.6173264,
          -663854045.9330058,
          -593702168.4783124,
          -482028464.2422889,
          -638796011.5163878,
          -660450700.1391281,
          -270862288.2087441,
          -623519736.3120545,
          61196450.41825081,
          -587769330.4680111,
          -318610214.36120564,
          -617987557.4164754,
          -603638469.3997213,
          -654344619.8050337,
          -650320083.3650917,
          -594017222.6470265,
          1859483687.0367827,
          -653379914.1864,
          -640117611.7992669,
          -219800605.0130047,
          -634251797.354369,
          -630963099.1312337,
          -598197799.162125,
          -629744352.1313268,
          -626527634.2644142,
          -628581346.9199456,
          -333636696.1973967,
          288097008.6716493,
          -630286026.34542,
          -605571350.5612854,
          -662493360.6411351,
          -579364392.6060913,
          -654574068.3423159,
          450797149.82685465,
          -617599499.421435,
          -660658611.8107115,
          -489212530.3773477,
          -593714104.6773988,
          -660228188.772239,
          -576687427.6028764,
          -679474526.8448632,
          -644054653.311993,
          -670001071.2987759,
          -633326158.6903986,
          -623736747.0286372,
          -606715750.3977854,
          -622873960.7748489,
          707426148.436249,
          -671996665.1973605,
          -513472668.579248,
          -588075535.3152615,
          -318069643.9062276,
          -467857159.6879485,
          -675004418.0237763,
          -661459094.5520669,
          -646822739.4257263,
          -484604365.0885889,
          -369234634.3275988,
          -632678763.6761779,
          -661796724.4849316,
          -503557224.7684326,
          -537209149.0654584,
          -632537931.3194969,
          -658191931.0189339,
          -634706150.2318065,
          -429894269.25058925,
          -654175193.951447,
          -646538438.3330775,
          -662258900.4550484,
          -651412748.8080312,
          -617781545.9616202,
          -455818360.74181336,
          -670238193.9844043,
          -649212470.6671618,
          -593187155.3224987,
          -369615195.11654943,
          -500927152.5665792,
          -640576312.7002411,
          -603208553.3197743,
          -618543926.297176,
          -232937555.0210535,
          -615589673.179188,
          -451854535.67160964,
          -676102950.6596955,
          -611659787.6888705,
          -667894937.8605744,
          -629768437.0434856,
          -612305450.4032055,
          -663439042.2048681,
          -599185967.8536714,
          -119839656.05192429,
          70138673.11711524,
          -601128309.7165877,
          -509678319.1212549,
          -597437311.382086,
          -656244044.5274214,
          -525531874.37403667,
          -648690007.6583829,
          -522330909.77985907,
          -619942319.8583724,
          -607657929.4360775,
          -564118947.5436337,
          -640498634.1480049,
          -563407359.9998666,
          -598702659.0352095,
          -660271363.8635616,
          -652215392.5741972,
          -494904659.13193023,
          307328796.3889694,
          -598745518.6280735,
          -652098821.4058567,
          -573430917.3286275,
          -573176300.4657104,
          -649665042.9263676,
          -656121421.8541715,
          -47703085.5519231,
          -199751132.53037602,
          -675739972.1903832,
          -665759923.4706585,
          -564199411.7309428,
          -654304176.8115208,
          -679060451.857106,
          -669923601.8035833,
          -660161890.0478879,
          -647042489.9972917,
          -606262541.9391466,
          1077540156.4379845,
          -592165727.9023675,
          -632478082.637881,
          -637342558.8491592,
          -521648881.5197856,
          540698439.0469658,
          -588180247.1627128,
          -616924744.7517374,
          -443746135.6521009,
          -578411448.8681577,
          -649980072.2010016,
          -208763252.43933344,
          -599522214.4756336,
          -592169467.4483685,
          -641931093.2760286,
          -678232845.3038648,
          -527847822.05072135,
          -626709728.0845292,
          -642993818.7713045,
          -578039746.8177539,
          -614573827.4261351,
          -580786874.9773697,
          -680490408.6986248,
          -654368509.7847383,
          -638397312.4995893,
          -618456285.9217827,
          -503866045.49421084,
          -589097883.6682427,
          -655799965.6354454,
          1836729123.476827,
          -437623069.33176214,
          -646412892.6785069,
          -435729295.305611,
          -499465942.7029716,
          -656754052.6119573,
          -649908512.9841776,
          -643888149.9954667,
          -315816175.50485456,
          -632245045.8890505,
          -638654415.174817,
          -551848185.7461939,
          -658459991.2019178,
          1683650260.1033146,
          -496238113.3588125,
          -165046903.73679498,
          -569831384.0208338,
          -597630020.6855721,
          -654905228.2508951,
          -671802630.611204,
          -663410783.6669729,
          -400122366.519181,
          -338502125.9851152,
          -666176697.5153655,
          -593156270.8119712,
          -644773340.2771405,
          -549722344.213262,
          -590980789.7588438,
          -611319802.5056742,
          -662279659.0117505,
          -617739852.9442623,
          -623613510.5633547,
          -667916705.9586147,
          -615457026.5973119,
          -590970888.22575,
          -658146481.9924622,
          -662569491.2089647,
          -429257263.8207733,
          -604763148.5327023,
          -670734561.7751184,
          -674401329.2826529,
          -653816897.9598817,
          -666310094.6826882,
          -649853912.1722825,
          1489920549.090583,
          -646327400.0501517,
          -674821133.868604,
          -642936242.4377338,
          -447172531.2687448,
          -648027038.6203474,
          461756172.7482636,
          -632601856.7267133,
          314500178.36089295,
          -482714928.8988405,
          -596207862.1582687,
          -636899016.3769592,
          -664871121.8008456,
          -660346807.8116318,
          -659129453.9028991,
          -657015515.0265422,
          -630153053.9073725,
          -647057092.1520194,
          -587984335.0391146,
          -639249703.075416,
          -626336155.907859,
          -616879962.6021893,
          -590781086.1148967,
          -659622897.1219084,
          -545464028.1575266,
          -504331390.2522975,
          -587306462.0196543,
          -660408336.5404,
          -641077194.544353,
          -668048737.0786073,
          -629788390.8551353,
          -621594846.1062042,
          -636744142.76318,
          -674510962.5427127,
          -356764952.9212122,
          -671359396.2255098,
          -541621925.4728738,
          -619715056.6493514,
          -655223160.2233781,
          1183134455.6059756,
          -416874589.2864292,
          -650335685.2199322,
          -586608878.8981993,
          -652377866.9641306,
          -626480358.4758849,
          -98327014.23357445,
          -586606816.9798324,
          -552675903.031037,
          -646162507.2674388,
          -669817699.3694971,
          -595374939.7237176,
          -656695051.6583353,
          555320740.6427646,
          -521217794.833817,
          -632550490.4041343,
          -654070104.7685039,
          -666832880.6643779,
          -515642264.3152869,
          -665088790.9791344,
          -639566146.1760873,
          -644478593.1274991,
          -578478194.8745095,
          -539543181.2291702,
          -664945440.4812479,
          -535433865.2260077,
          -670228027.8835262,
          -547917645.8258606,
          -612143923.6628454,
          -657561667.9067179,
          -643031647.8090947,
          -663136199.4123963,
          -674633395.6133268,
          -611219879.75447,
          -628412932.7226721,
          -674603191.8694854,
          -596910846.8997562,
          -544531881.2321743,
          1527362884.3699436,
          -444655023.26096326,
          -674856800.4872272,
          -676153548.2334243,
          -670911447.3194109,
          -669382430.2537328,
          -675832688.7707785,
          -655189072.1782693,
          233727087.1692153,
          -670725570.3559219,
          -386519544.1696385,
          -609706215.1275917,
          -664354872.4411807,
          -686476669.1306137,
          -671189625.02973,
          -439649730.77792597,
          -649320874.7961259,
          -678982391.3300446,
          -672354205.381918,
          -671253771.0400628,
          -670343454.583213,
          -593590619.6828976,
          -668386649.0988805,
          -422519284.7940794,
          -648549785.2036504,
          -659702128.9234538,
          -684100277.951341,
          -678073440.7428318,
          -640579754.0370959,
          -677817095.310557,
          -676740665.4278905,
          -182473867.93940192,
          -676833569.62398,
          -443483514.65339094,
          -672579890.5913662,
          -564894569.966474,
          -535412626.10908717,
          -644883111.7473546,
          1034893859.5467895,
          -664633567.227434,
          -650290611.2125733,
          -613955668.560143,
          -529784420.6202982,
          -627739655.524998,
          -651044305.8840605,
          -642543527.2017125,
          -547276762.5072558,
          -633370728.680054,
          -683237789.8967212,
          -666312210.268958,
          -629030363.3294678,
          -682077950.9071281,
          -674330052.1921535,
          -653573872.1510872,
          -640864281.6014473,
          -652346699.4842167,
          -399125215.6570087,
          -132567208.49910326,
          -602814440.5946002,
          664054827.4149545,
          -652055110.7286402,
          -666990701.6481464,
          -670405502.6027825,
          -661090586.5588157,
          -615629734.8035885,
          -684899008.255942,
          -667997310.8695644,
          -638075538.2363296,
          -663792865.1329575,
          -556432851.053132,
          -265649753.86899582,
          -555477084.8577944,
          -421409794.656763,
          -449590272.04825324,
          -474340378.9280836,
          -663530911.624069,
          -669009990.9317745,
          -301826023.2095827,
          -664224914.4655795,
          -629675064.8495901,
          -631141491.0804116,
          -616074227.5354052,
          -625591344.756482,
          -643895059.3151798,
          -682115704.8005497,
          -686429035.5984199,
          364014075.2746697,
          -530463866.3736279,
          -658634419.2779006,
          -667814295.1339885,
          -660509626.9299524,
          -642078268.4511462,
          -614687905.2793285,
          -648199926.6051006,
          -683660687.0062484,
          -664161951.3863997,
          -685917103.5221747,
          -655465050.259369,
          -639352939.1672766,
          -685191812.6273142,
          -658048880.2181253,
          -578268927.5981061,
          -683459258.6555498,
          -680361076.1077597,
          -612535043.9835535,
          -624719140.6474441,
          -631805734.1540005,
          -535482416.7108996,
          -680042843.5016208,
          -682669127.9238466,
          -663803927.240338,
          -652310958.4604514,
          -679819645.8151133,
          -667701531.7498013,
          -672800151.7527866,
          -682426721.7929572,
          -688037805.9814407,
          -657026186.9529386,
          -668547693.8092184,
          -656970339.1298988,
          -672714163.1773499,
          -385503878.13619125,
          -354327777.33751476,
          -355406191.73383814,
          -680905958.2239017,
          1255440940.712536,
          -596463935.760509,
          -578681294.0844775,
          -678832454.9272925,
          -676453931.5133418,
          -607049631.3054379,
          -667802670.6206944,
          -614154410.7755046,
          -647997690.4045355,
          -449926394.3578636,
          -674596804.4830465,
          -576564730.6150979,
          -676782822.9279239,
          -595977396.0305636,
          -660362508.4996195,
          328621972.8857248,
          -177856777.75898278,
          -681193167.0047206,
          -665173139.5949943,
          -669454624.4041619,
          -676842632.7593561,
          -673942792.5980053,
          -644889626.1517117,
          -675158867.8139758,
          -645583385.3826861,
          -340616747.4098137,
          -312905573.10601836,
          -470686982.7109362,
          -613064520.5125031,
          -588587598.007081,
          -679787799.0921808,
          -657379366.680154,
          -670016904.9463181,
          -612624179.9403876,
          -379190161.8234462,
          -667618897.4834378,
          -683954598.0483035,
          -675188164.1143218,
          -517924618.6111863,
          522758832.40556294,
          -664049127.497683,
          -679841194.9083555,
          -661470697.9992958,
          -605622928.5210135,
          -667640371.594267,
          -459873454.2787399,
          -477322579.27537787,
          -681286091.401771,
          41640558.936419405,
          -549397734.2631141,
          -598127678.9409317,
          -434293468.28333765,
          -617420664.8370793,
          -489455069.68962467,
          -680135940.9220859,
          -473867517.3181155,
          -681918982.5636976,
          -174448138.09346467,
          -665636148.7062558,
          -651433792.5539482,
          -685694120.0530636,
          -675529803.292672,
          -656491768.8570721,
          -586067245.152868,
          -657716115.7407188,
          311879213.23601186,
          -525717418.80604064,
          -653419685.0260231,
          -649606815.3743297,
          -676238922.2807983,
          -424261972.0044351,
          -674958223.8061626,
          -658572966.4163184,
          -471708287.21664584,
          -589178851.5233556,
          -657588838.9251685,
          -677054582.7755604,
          -13398130.286726637,
          -678318244.3186793,
          -667893508.3423007,
          -565451387.0309935,
          -676714007.4656212,
          -675065475.1799839,
          -623927218.6037016,
          -676776507.0636265,
          -612205354.2594967,
          -622976659.8452544,
          -598248734.4592171,
          -492310180.24077064,
          -473354130.5219769,
          410730789.48463315,
          -595389077.4054669,
          -675513919.7574949,
          -605065051.4677849,
          -648603866.4685317,
          -103159327.52513619,
          -662981169.9318411,
          -455179513.2365903,
          -675196617.6587374,
          -542653030.7743539,
          -623566413.4477159,
          -667245112.2795123,
          -607808191.2058092,
          -640215720.4381934,
          -662712321.8553374,
          -560640707.7064464,
          -671958077.5497292,
          -638483899.6408533,
          -661561183.2483505,
          -580048819.2330953,
          -662370836.3887913,
          -646174836.3301812,
          -4081083.0042541,
          -632419325.6385359,
          -527685284.537845,
          -631098473.2345514,
          -310004839.30586183,
          -680149284.4607273,
          -293972112.91903496,
          -673592083.5570562,
          -660617288.22247,
          -673214201.2164146,
          -264237579.65768602,
          -672688993.6919559,
          -619338201.0388452,
          -568931501.7126846,
          -648585128.9226521,
          -666352637.2566515,
          -673495591.7300409,
          -614785751.5590637,
          -671423223.3997574,
          -583662504.059322,
          -672515742.4804379,
          -654162711.0583757,
          -667918348.4723402,
          -674379038.749755,
          -650827129.758024,
          -411779884.50123274,
          -375791831.00102943,
          -622634448.1687107,
          -667682378.0474696,
          -664732638.9721807,
          -649465551.1377492,
          -338090473.7295385,
          456484698.3684988,
          -653408868.7252411,
          -594694015.1933284,
          -157961022.50325477,
          -636580132.1805224,
          -628127105.0837686,
          -622321213.5552895,
          -642064763.9457386,
          -527139039.98254526,
          -674267643.7350947,
          -641730020.1128517,
          85796345.85592549,
          -347697134.30618155,
          -654278280.0149509,
          -547160179.6656066,
          -418915080.6914319,
          -219526362.82599744,
          -447247089.0164809,
          -625013763.0522872,
          -676213186.8432497,
          -682683683.18076,
          -686600335.2040864,
          -644806568.3685616,
          -433238199.30314744,
          1000778918.6550856,
          875842704.8534968,
          -538175222.2741376,
          -673163375.4122783,
          -659972874.6025091,
          -686622042.6857375,
          -536090673.24088526,
          -661212686.2044129,
          -672917775.2075447,
          -603157552.7026341,
          -669881378.5628744,
          -671075664.3352933,
          -300765855.6640911,
          1355524354.5617948,
          -664986156.1893576,
          -670980226.6575966,
          -387659194.6085299,
          -408249783.92820793,
          -484591923.6249824,
          -603796156.6204368,
          -657579260.6124446,
          -622263895.1779627,
          -678950819.1788038,
          -644496269.9547348,
          -682597279.4921767,
          -659334306.2208625,
          -561687829.3963358,
          -597279397.9066876,
          438413888.08864164,
          -655753838.6896738,
          -651151672.3026719,
          -658236855.7881811,
          580353315.433942,
          1291682285.9112263,
          -674320356.9274052,
          709458591.5112689,
          -684923732.3684722,
          -687958531.5283551,
          -673710133.9771801,
          -598698734.9872893,
          -669131529.9205424,
          -667918801.174474,
          -638992552.747503,
          865712097.3127939,
          -669506009.3546557,
          -417541822.5737331,
          -669118687.3866546,
          -637622741.1145194,
          -661166496.4792055,
          -599176781.8498611,
          -649354090.5624475,
          -675868498.535935,
          -686872725.9278142,
          -595586309.3541414,
          -674654845.4051883,
          -684816333.9886161,
          -667648660.5048859,
          -617370223.568722,
          107345795.72919068,
          -681528431.015473,
          -627287330.1437016,
          -670566351.5371085,
          -663754645.6832787,
          -616796839.8424921,
          -687418512.6550515,
          -625413182.2155247,
          -670520489.9967351,
          -379157638.6670596,
          -664341567.714039,
          -609277228.9745873,
          -665209159.5457258,
          -671957722.0524963,
          -519322350.5927997,
          -665237459.1668706,
          -685740039.264599,
          -678928325.6084378,
          -671189433.0240476,
          -669663504.5437535,
          -666189680.7093714,
          -680987794.0353659,
          -152988862.61947155,
          -676298901.4845724,
          -664066346.543426,
          -663709635.6235818,
          -677554359.6157975,
          -461750226.9427189,
          -521057049.148764,
          -494080259.00086933,
          -155291320.71008623,
          1939820159.3065915,
          -351371465.70997924,
          -595586851.128825,
          -603281915.5557282,
          -367285455.44633466,
          -627231074.3836815,
          -671174456.6932033,
          -278222496.5122743,
          -612785428.148891,
          -640880730.380897,
          -644761269.7606956,
          -600401864.9736329,
          -364229158.8974509,
          -606790295.4464539,
          -203754807.00053647,
          -658216756.5265199,
          -672648970.6146092,
          -579166646.2312304,
          -656973471.6068343,
          -679576544.216553,
          -619397336.6402617,
          -671944849.4411212,
          -688436820.7492427,
          -575602519.248353,
          -612375696.2918175,
          -629072032.644398,
          -646617634.3961965,
          -663387482.4347061,
          -687824014.9753723,
          -459679147.1668391,
          -684679910.012906,
          -674053446.4968898,
          -642589131.8485132,
          -558481413.312042,
          -559552301.606317,
          -615401185.4428253,
          -644360285.027057,
          -599148306.7975863,
          -668630778.7828918,
          -677218897.2596074,
          -671915261.8413415,
          -650358656.2013645,
          -666360737.3734078,
          -656500062.8774545,
          -656366318.3598106,
          -512816539.62930286,
          -678486899.8590416,
          -677181063.8312334,
          -635866564.1411983,
          -671289988.0602,
          -685684271.7345039,
          -664232669.2300773,
          -598145744.8135602,
          -640323499.468701,
          -672145845.2009054,
          -600323980.946307,
          -668136559.8786057,
          -681042756.8341429,
          -681854132.2750617,
          -688936692.136673,
          -496167996.898704,
          -677854445.7559532,
          -681953915.568125,
          -583352776.9401863,
          -612158878.4868944,
          -653458622.3907542,
          -671566088.1493871,
          -658001046.1394019,
          -662384807.7287382,
          -652813960.0947205,
          -609816082.8942903,
          -670243430.5210598,
          -400292291.14873236,
          -655918426.959813,
          -680987362.111196,
          -637994434.7024856,
          132866058.40400474,
          -684910315.54045,
          -606946189.4319714,
          -665841953.0008956,
          -658250362.1392299,
          -672947311.319583,
          -671173148.9603599,
          -672306950.5463283,
          -680646649.6485419,
          -628213250.3347923,
          -216493590.96287298,
          -663318352.5476663,
          -683891294.3335606,
          -645737692.2223638,
          -469123748.72066987,
          -680259041.2474668,
          -677474209.640641,
          -653010621.1831286,
          -669274152.0500319,
          -662737493.5871028,
          -677635828.1307073,
          -686964182.748763,
          -673148522.7101908,
          -654125007.570684,
          -608954481.9157025,
          -565857277.3479514,
          -559308534.368361,
          -680769323.0344576,
          -622959624.7894396,
          -681222445.0267141,
          -668975665.4194831,
          -683702569.8105927,
          -560660711.5313567,
          -662416149.9799725,
          -678322055.7477249,
          -393941935.62242496,
          -657684966.6573015,
          -664585786.624651,
          -615072484.2332406,
          -668322183.2612969,
          -685942181.1751381,
          -661404521.8682953,
          -629757455.4242665,
          -645747119.6990228,
          -608913710.352833,
          -645982438.2445263,
          -624385542.67248,
          -675487099.8002495,
          -533418250.9198285,
          -123290614.04935071,
          -341963889.07226115,
          -518623682.63856727,
          -537182879.2408181,
          -262597950.24221674,
          -645565664.0013453,
          -117968443.1021291,
          -682991685.335896,
          -594624893.58516,
          -68961427.72069417,
          -670863058.0920205,
          -632045681.0806373,
          -632873817.4752603,
          -641385518.1714317,
          -672081270.0687234,
          99202470.63273327,
          861656342.9829514,
          89821470.63089785,
          -603154819.4736377,
          -587187449.8490455,
          -565902294.0666932,
          -621983731.2278141,
          -620237037.627006,
          -471157588.84502554,
          -335840706.63745064,
          -131615373.25379536,
          -663539989.2917429,
          -607713083.7545362,
          -193614324.0590003,
          -673759185.5755743,
          -642423635.5449864,
          -123641870.78661859,
          -590121737.079463,
          1977659815.6346626,
          -664420234.3174205,
          -530005177.9963607,
          -632520264.0302551,
          -642291757.1602283,
          -487989604.8842304,
          -612089594.3919616,
          -225878338.89810756,
          -628373549.0432595,
          -649778946.5460311,
          807390862.4614612,
          -636300178.6622591,
          -669382001.3907989,
          -670515789.6554424,
          -550705921.681787,
          -613147263.313108,
          -607685814.5565164,
          1358442462.5798805,
          765673953.2544831,
          -629634951.5063238,
          -624912212.4869996,
          -665928696.9550542,
          -676010118.0739508,
          -447523515.4008793,
          -680520233.108984,
          -494487640.48606735,
          -673335563.813005,
          337166992.87513214,
          -38074665.79044924,
          -667828984.7402091,
          -417651572.7742607,
          -358742061.58275443,
          -619157607.0179985,
          -143474897.28689036,
          -612678332.5305625,
          -677114265.2877917,
          -675205478.1298856,
          -663978993.3040136,
          -637672731.0816454,
          -658434961.0543902,
          -599577442.4192495,
          -624520784.3390801,
          624477245.7658323,
          -681079450.4561076,
          -638571975.2044464,
          -651025416.1052212,
          1341576418.766853,
          -651343520.4406462,
          -559980139.1555973,
          -672477225.2447212,
          1419563672.9254856,
          -105640149.85945128,
          -467969023.0801521,
          -663934333.0149901,
          -557112888.1601508,
          -567244791.582654,
          -434252371.05905175,
          -587385808.3826499,
          -587260013.2588868,
          -609834197.7341822,
          -670698451.6637453,
          -656183559.031819,
          719066022.8149292,
          -662807527.9790269,
          -475115183.58367556,
          -365271605.9531334,
          -609074652.0075808,
          928253434.1018744,
          -544774150.7166669,
          -339637304.80465984,
          -655769741.8150448,
          46260555.01974172,
          -499716357.81757957,
          -368838272.6644878,
          -604681597.3179034,
          -206496716.26666436,
          -548783313.4958248,
          -585979874.3669738,
          -641150692.3688226,
          -563813759.9220752,
          -674297330.8745699,
          1586108468.324671,
          -352656935.4050842,
          -371488673.0119495,
          -573704055.7505025,
          -624856091.3382528,
          -338345547.55606997,
          -664889218.4954679,
          -627812507.6825608,
          -622394678.3341979,
          -525097999.95675516,
          -549166878.2229333,
          -548239490.009862,
          -408139267.11029774,
          -642741988.5466405,
          -631617143.7097679,
          -562969132.9125336,
          -594806598.1841038,
          -529311057.7093224,
          -578457218.0418711,
          -431197696.3580315,
          -627374195.8671982,
          -499383532.65886587,
          -389338860.05995905,
          -461276733.9161309,
          -567490067.1442116,
          -632334281.479007,
          -583132696.8071586,
          -590917834.1831307,
          -562855539.0870608,
          -403006370.66008097,
          -656757028.4239205,
          -616096916.217459,
          1021597389.8325329,
          -605872106.2403113,
          -658612560.1735363,
          -653507534.6046544,
          -593590566.2028812,
          -600451369.6552521,
          -589558859.9082128,
          -308253713.48982215,
          -301435044.98269784,
          -570297229.2302781,
          -629055024.8596059,
          -443031501.22676706,
          29460731.433180958,
          -318029525.54746145,
          -599083579.5277421,
          -664360542.4882058,
          -526077019.56231517,
          -504729069.25619215,
          -221341999.54539442,
          -438129757.4312726,
          -556247588.8929031,
          -459581994.4302373,
          193343035.58088627,
          -586737009.378132,
          -669224587.1393456,
          -583576981.3268682,
          -668826586.6076233,
          -620379095.9379715,
          -70362778.54484355,
          -304290355.3300586,
          -657690672.4440668,
          -272958280.4440269,
          -676993890.6860642,
          -577684927.0579456,
          -677710708.4165411,
          -641562509.1710684,
          -674079297.490911,
          -644929793.2124637,
          -636744720.5922309,
          526695255.002957,
          -668369833.0644155,
          -583022624.1063998,
          -433086660.6687426,
          -665971156.4904066,
          879701143.9461713,
          -677473833.0592318,
          -671151947.5492517,
          -662479810.3319552,
          -627684448.5770746,
          -429167731.92405707,
          -363286874.284849,
          -681081455.3591746,
          -634876953.3047742,
          -620623112.6640934,
          635647531.7110413,
          -591859885.633547,
          -615605219.0431837,
          -624295092.1582558,
          -539028917.9628346,
          -678899839.5054554,
          -666139349.755398,
          -580143898.8098255,
          -538166238.77998,
          -664473456.7736713,
          -609011444.0995647,
          -656253621.8130375,
          -536307253.39931387,
          -595747192.083887,
          -576926190.4691465,
          224930274.73188812,
          -673128837.403548,
          -677275373.4645355,
          -621894172.2375664,
          -593730870.3953087,
          -653324551.5637531,
          -600764672.7520337,
          -215464754.59351483,
          -674178143.5374874,
          -676548431.7877481,
          -666241724.2358966,
          -544221278.4025036,
          -619333304.5190617,
          -615645374.3738675,
          -660239465.0023801,
          -590289761.6989492,
          -496163853.0330424,
          -659296774.9390184,
          -434286178.1611967,
          -655096107.3080542,
          -676799068.7825297,
          -661645995.3080958,
          -686014454.6599033,
          1553195353.3197677,
          -454186007.5254698,
          -637642157.4375044,
          -548343985.3659322,
          -656101369.8214405,
          -628158186.1668134,
          -535802969.8248379,
          -572974441.8970734,
          -675503925.9830681,
          -502631021.06694233,
          -679527326.8787668,
          -55528920.785095274,
          -527303735.3789173,
          1873498448.0852842,
          -582840644.8829021,
          -649625170.5310133,
          174929240.63385424,
          -657940849.0284224,
          -671660911.6514075,
          -577328758.7117292,
          -565776198.3971728,
          -666744516.8234168,
          -575581915.318751,
          -663794983.4129978,
          -683777034.9740053,
          -400130673.5106237,
          318767451.6412716,
          -508712633.3619426,
          -666213022.9048334,
          -678040640.9287997,
          -671777544.0889877,
          -674565972.5126871,
          -667541912.6220738,
          -531929978.3925015,
          -496349067.50258946,
          -477089227.2789217,
          -651786975.5593228,
          -470601397.49803454,
          -598852755.9019836,
          -608173003.1007036,
          -581954382.0363352,
          -665823419.0663939,
          -683735122.7544082,
          -501314796.8413201,
          -660074492.1194632,
          -674233634.0605358,
          -209931188.34158903,
          -675002335.0681372,
          -597944243.2299659,
          -659011932.1184489,
          -622215180.2118424,
          -657641600.5309342,
          -639985697.0778761,
          -688845021.426751,
          -378355843.7794412,
          -646380653.4709276,
          -670986420.0769325,
          -674662836.0413876,
          -623650588.9250431,
          -644666136.7630385,
          -668202515.2274601,
          -675041449.5315866,
          -606628691.8125856,
          -653709733.0372814,
          -444160808.9691752,
          -629332784.4729224,
          -645918522.8603835,
          -620656194.2007858,
          -174075065.94756478,
          -679391724.329613,
          -415833911.23577315,
          -494318249.6724677,
          -534504871.7206504,
          -670001765.436056,
          -567169616.7499291,
          -493675094.3667314,
          -226073490.96327308,
          -676800887.4461643,
          -569608663.6856699,
          -667469569.3732128,
          -659993479.7118919,
          -381700162.528671,
          -549824303.7020496,
          -656310714.2056355,
          -635690126.1650593,
          -344784539.36276394,
          -528349011.97829956,
          -416351595.3796336,
          -657370879.1533276,
          162463658.5488655,
          -408082386.8314613,
          -406834685.56259006,
          -683063735.4923638,
          -597055917.3441877,
          -650881129.2650608,
          -592094718.4274764,
          -542253870.4049741,
          -672810481.6136495,
          -492367657.24271715,
          -635721440.262358,
          -638928598.7322303,
          -442694782.6153086,
          -673901120.6942374,
          -652106072.8800999,
          -677304162.6780319,
          -570294884.2389226,
          -489554108.48553455,
          -662249942.2962866,
          581363530.1720794,
          -138304147.33757412,
          -667698020.2882773,
          -679956191.4100771,
          -651618656.7918642,
          -527005519.9990633,
          -673260002.816501,
          -625287540.8248421,
          -663518376.6853992,
          -557778018.2818267,
          -647556317.1264486,
          -651355924.3471043,
          -673706031.7564114,
          -671206877.5849093,
          -628272662.2384363,
          -376968872.5245268,
          828048341.2760943,
          -432154078.75253356,
          -667625218.2788361,
          -571662925.4262881,
          -614634052.6707784,
          -623685795.3071359,
          -601721462.0289712,
          -183378533.8941944,
          -558049863.0057977,
          -580704765.5457698,
          -519307254.8762002,
          -667841758.9666388,
          -642088998.7582488,
          -651180536.7574545,
          -648531993.2576557,
          -570870635.845656,
          -444975587.83525646,
          719104556.2550944,
          -519982517.9753998,
          -566126483.5524453,
          1555343738.5214653,
          -684727134.8043116,
          117751915.00446011,
          -667932184.3886169,
          -480987905.6727327,
          -622473958.0896481,
          -373568287.77711856,
          -674117488.8596292,
          1135486920.5136547,
          -684279592.4114826,
          -658324170.706771,
          -425128702.04568124,
          -615192391.6516312,
          -643618491.100094,
          -355436441.1715462,
          -350581469.63077027,
          -461239984.1752641,
          -562377879.631956,
          -681223093.0785416,
          649448354.7884684,
          -579738609.3032987,
          -543917710.3074772,
          -602324869.6303221,
          -219416078.56273484,
          -233844363.51620555,
          -582805787.9175926,
          -594576855.7964762,
          -262124176.73225784,
          -132040574.89910644,
          -634432860.6772953,
          -569537870.6095225,
          -660221279.6222942,
          -554644273.315578,
          -653123893.7308941,
          -671135606.8286892,
          -491778616.1925294,
          -279090184.3762695,
          -390864285.5627841,
          -591798839.0128889,
          -542969863.0523155,
          -681163991.9135239,
          -619027087.1877862,
          -669913173.5523174,
          -464385773.5840324,
          -433777188.1315977,
          -662664421.8826905,
          -323555754.3884374,
          -674177372.2548281,
          425053609.443759,
          -598275625.8539532,
          -560413721.308741,
          -647825479.0551422,
          -587901289.7055725,
          -482134885.77113557,
          -675081719.4854652,
          -448630048.61875534,
          -594944046.4339385,
          -612328214.6153613,
          -450807257.967095,
          -643474054.7745404,
          340068884.67967474,
          -340418076.76153004,
          -468619754.7949703,
          353491315.9350776,
          -579121188.3755791,
          -548599588.5380543,
          -620467898.5167261,
          -627442405.1638097,
          169714282.62489578,
          -239890753.15954748,
          -553366874.8050683,
          115250146.5563711,
          -474867500.1210833,
          -425111266.1615281,
          412704235.1469576,
          -85636858.51416749,
          -496823054.18800145,
          -68995579.57729042,
          -596529690.2044315,
          -651588025.9218292,
          -431086898.5058014,
          -566178612.1481161,
          -599863613.3619736,
          -669225576.417726,
          -619576405.669103,
          -624332052.9279507,
          -649638663.6454474,
          721779403.1013726,
          -676091740.56598,
          -472288315.4139928,
          -634699777.2793823,
          -614253226.7602024,
          -476351176.200647,
          -623250066.0997447,
          -594806906.1074699,
          -384658430.70099866,
          66736871.82304313,
          -591677408.9311439,
          -558736573.6681458,
          -599433868.737929,
          -610081794.9973685,
          -624215335.6857911,
          -473644108.50098854,
          -170261764.2014308,
          -362535455.1393614,
          -423851842.73745424,
          -556799953.3156539,
          -445650597.619435,
          -487609161.05459124,
          -371619564.4024652,
          -239885559.2658142,
          -484026388.0271005,
          -164256961.2051153,
          -201553086.33781058,
          -552210415.8110424,
          -449299266.6655749,
          -581129139.0847266,
          -493763633.65586233,
          -296701545.81274426,
          -566969683.502232,
          69102186.87130919,
          -634375414.2330499,
          -598026681.1223145,
          -436183591.6599354,
          -602412815.5835268,
          -653054254.2549525,
          -383194303.3073943,
          -431842850.50762314,
          -404768287.6647853,
          -548606277.6998599,
          -473704581.19203174,
          -588072172.2992879,
          -606756859.7041621,
          -645508794.5899104,
          -501862480.6497902,
          -507989810.00669533,
          -641016173.7114116,
          -600237741.9668847,
          -573323356.1346891,
          -166191491.46425575,
          -154356021.2249575,
          1171905517.6988564,
          -359791186.3766307,
          -542281493.2327669,
          -340530910.97810936,
          -587046746.8366005,
          -673386543.3089198,
          -661315056.4578155,
          -214909408.69380993,
          -665561389.5190297,
          -650782183.6230811,
          -646524341.3321292,
          -630755621.7900466,
          -299871454.0943018,
          -638802183.6062435,
          -627061432.6974446,
          302572052.64901966,
          -513621758.2667023,
          -665696850.4131582,
          -631297906.9481883,
          -428070501.30668473,
          -674061174.4260037,
          -633319268.0762204,
          710649533.501876,
          -668730093.3632109,
          -674339239.8400036,
          -653887125.1758492,
          -581235055.2189147,
          -634218928.11297,
          -644500210.7002512,
          -640460976.3192043,
          -557678671.260445,
          -670757693.6935731,
          -333599534.26902777,
          -666610993.1473033,
          -643391733.1446285,
          -665546106.6381603,
          -597384094.3307736,
          -397249949.3971304,
          -484196904.55887854,
          -611342265.7160953,
          -185654369.6641636,
          -658155738.6219969,
          -654179943.074839,
          -613422409.7215009,
          -593637409.533986,
          -683466912.6950419,
          -663329971.6660143,
          -677195378.2783464,
          -426183359.3782718,
          -618345102.4411234,
          182930298.418184,
          -646625788.1134474,
          -643212077.2892098,
          -669359135.8542671,
          -635204794.4072975,
          -512554084.1556975,
          -665489707.8320938,
          -673942719.7325752,
          -671132559.1785403,
          -671174491.5232453,
          1190952307.987279,
          -676720920.033111,
          -680389356.9029297,
          -547882662.2242628,
          -672347677.602756,
          -666925760.8931029,
          -461815017.4607635,
          -604545962.8371025,
          -674552136.6528853,
          -667243373.0587835,
          -673885123.6480757,
          -680775543.4762731,
          -682787434.6853942,
          -670130318.3824735,
          -658667652.8569717,
          -671790880.5642627,
          74121802.84947504,
          -675360143.1736358,
          -538662821.0143281,
          -677542656.3657337,
          9447397.882486355,
          -683447266.0297991,
          -648035637.9564164,
          -383840961.3787424,
          -629290296.3171341,
          -600940582.0066702,
          1182135281.2036939,
          -613867504.352686,
          -673265475.1879705,
          109286152.6276321,
          -675725014.1166341,
          -672116464.75752,
          -680828627.6461658,
          -655481880.3387897,
          -672998950.6302872,
          -669711728.9152161,
          1009184328.3485962,
          -657512792.1079004,
          -632970254.5292025,
          -665552709.510766,
          -589841175.9535105,
          -628044817.1476327,
          -656581707.2247208,
          -83252336.96247905,
          -626487396.3362837,
          -618504369.2496741,
          88591416.97616555,
          -562358354.1965733,
          -577703687.0236677,
          -651966242.4289093,
          -120098626.8472885,
          -675256958.229149,
          -675605127.9520584,
          794810289.2122324,
          -619547385.752977,
          -653277197.5299112,
          -679953385.6690466,
          -519721058.0919091,
          -531022979.96622705,
          285828492.2665794,
          -605172398.8661959,
          -551547611.7964089,
          -607859641.1196167,
          -671048710.9495988,
          -626958801.9353476,
          -644923623.5232854,
          -671484253.1126846,
          -667432430.9903859,
          -496274484.4727289,
          -491851632.70265585,
          -547832260.1003417,
          -634547068.0937659,
          -401764889.9009227,
          -431383118.42868507,
          -602069297.8062203,
          -574735429.9170991,
          -686460199.9625412,
          -630634042.4971516,
          -472062872.48412883,
          1299884602.667402,
          -648747865.8250971,
          -584206926.481462,
          -596475692.107597,
          -668963353.9401727,
          -538067462.9128801,
          277431630.14896494,
          -179338884.1447678,
          961139546.7947856,
          -664132157.1615947,
          -357719214.99242085,
          -208583904.76382828,
          -664887477.5181112,
          -465182321.2902852,
          -658674995.6469623,
          -392213491.7337604,
          -640865793.2916188,
          -643060643.1115963,
          -599751602.4083676,
          -640706019.7276362,
          685364582.775604,
          -666444400.387024,
          988937759.3782628,
          -659080417.4032891,
          -634248037.6990836,
          -674747879.841498,
          -527962934.5421466,
          -250156220.7559284,
          -467869756.5710903,
          -681095368.5292488,
          -666633877.3922393,
          -671872746.9810728,
          -677225049.958822,
          -649493632.9919616,
          -387126575.4262841,
          -644697241.2409905,
          -672131459.8861744,
          -651459965.7140874,
          -633217986.1832917,
          -570327679.3696445,
          -659177234.9008211,
          -644823135.1274371,
          -668640904.4299589,
          -607232877.8311052,
          -668348209.9288092,
          -672692789.625741,
          -618352906.5794467,
          -683176936.0229086,
          -670405074.3487945,
          -535264096.9923642,
          -587642309.5857027,
          -587819902.1588863,
          -676710532.1894506,
          -667069221.179104,
          -662357820.1019838,
          -682172200.4772134,
          -669830158.4538149,
          -577697804.3489689,
          220988435.86287668,
          -220832381.76865435,
          -654546102.966073,
          -643933535.1960454,
          -649430332.9381019,
          -679887666.3739873,
          -677694696.995799,
          -671935165.9837481,
          -670655718.5129982,
          -670248296.9242425,
          -656376736.8010736,
          -657029779.678949,
          -585377577.289189,
          -685999226.1550165,
          -673271159.6206428,
          1224290418.0079107,
          -660391913.2480309,
          -665649035.7401196,
          -590785927.4327198,
          -116622258.76178697,
          -669072344.7769302,
          -557910843.5969774,
          -677494107.9425126,
          101891172.6976171,
          -315717581.78327006,
          -677930278.0333903,
          -647803033.5638639,
          -611268777.8218626,
          -660040856.7734113,
          -463456349.45039386,
          -661418215.6062884,
          -581871926.1706704,
          -673070865.7970508,
          -518007843.82641435,
          -548612305.5790825,
          -581074271.7696657,
          -599768952.9867382,
          -606315009.4116936,
          -647558349.485687,
          -666509669.4180294,
          -675376641.4933935,
          -657206419.7568735,
          -547551660.9670767,
          -672916475.1232897,
          -678396485.0104676,
          -538710497.9234248,
          -593114406.0795066,
          429188577.1860219,
          -656094980.4830401,
          -656744011.1291909,
          -371680531.58693916
         ],
         "xaxis": "x",
         "y": [
          -4442066.536136189,
          -4457397.105355204,
          -4551830.759977066,
          535262.96538827,
          -2594275.7334839897,
          -4450043.601338514,
          16815888.114914704,
          -4463790.444338071,
          -3623037.6037204172,
          -4496138.128094226,
          -561133.1264733158,
          -4502561.725300855,
          -4628544.957547955,
          -4457133.289278949,
          -4483205.04911091,
          -4465095.875233621,
          -4523204.802696673,
          -4466601.278975998,
          -4232554.309752562,
          -4733992.13227368,
          -4432887.422848796,
          -4493398.55246773,
          -4462042.766158789,
          -4446780.202075211,
          -4459962.657268395,
          -4377109.579020952,
          4042400.949866375,
          -4458209.585741492,
          -4477433.0862815,
          -3685822.119828461,
          -4461030.338313426,
          -4512857.412318978,
          -4600096.452506339,
          -2222330.7033123346,
          -4415423.3063143315,
          -4424725.062371794,
          -4426365.11016934,
          -4445698.220831328,
          -4395519.9949252345,
          -4468248.950112684,
          -4499666.9680155525,
          -4468093.579377161,
          -4377761.974981841,
          -4492272.632197564,
          -2547004.7949920194,
          1144263.6327183105,
          -1433715.48823195,
          -4364886.230943654,
          -3516157.9875985184,
          -4654132.283066201,
          -4458220.913746438,
          -4472098.678004265,
          -4472800.62204411,
          -4478656.00039244,
          -4472857.3074151175,
          -4485358.85772228,
          -4482646.076647106,
          1239525.1190075043,
          -4494580.261819562,
          -4483492.331510418,
          -4506317.126769785,
          -4832282.549460111,
          -4450454.994382143,
          -4295542.11138652,
          -4438706.615827568,
          -4566270.14128922,
          32678971.735382207,
          -4615075.197681232,
          -4473181.295167361,
          -4449050.141001117,
          -4290891.588714136,
          -4464833.738558238,
          -4520175.904083085,
          -3814294.896262688,
          -4464715.507900312,
          -4414670.775566037,
          -4478468.576116375,
          -3989054.382101745,
          -3604533.384212771,
          -2433276.85756033,
          -4447869.807949785,
          -3927601.4015689683,
          -4385406.71643163,
          -4458839.283618578,
          -4469730.113493003,
          -4465482.729618737,
          -4392292.043322488,
          -4490773.811857285,
          -4461477.545287291,
          -4461659.298410216,
          -4453205.372146746,
          -4465273.552562549,
          -4463905.71576025,
          -4451827.661071192,
          -488485.9960162614,
          -4473715.628346874,
          -4464276.778660392,
          -4462868.337997775,
          -4463059.181853114,
          12617982.175924836,
          -4464993.503899283,
          19220380.413194813,
          -4476182.148403469,
          -4335110.72034784,
          -4467375.0900124395,
          -4473514.094924078,
          -4466632.144333145,
          -4473020.818162925,
          -4474876.670446329,
          -4467514.929002068,
          -4414304.036658204,
          -4468952.616077395,
          -4465901.265616243,
          -4459675.552805838,
          -689577.2002759621,
          -273815.6231770539,
          -4450949.299101985,
          -4467516.29929141,
          -4467320.142548541,
          -4460517.90948736,
          -4463704.900412332,
          -4478130.500520053,
          -4443854.905490666,
          -4476843.622234249,
          -4374955.576830566,
          -4465176.118642155,
          -4153533.7598289824,
          -4448588.047477017,
          -4459074.912270925,
          -4475472.417482207,
          -4475133.329827507,
          -4451404.880018688,
          -4462422.100255304,
          -4464041.834890778,
          3258822.9914747546,
          2471851.555993224,
          -4468472.396985652,
          11946950.250184271,
          -3469473.4222176378,
          -4462490.264406358,
          -4467376.298635586,
          -4465763.854315039,
          -4351698.059003171,
          -4470869.383907853,
          -4546840.995078452,
          -4461014.107145676,
          -2399307.9363716324,
          -4454909.685482751,
          -4461546.33488412,
          -4471276.16029239,
          -4476788.405476092,
          -4445566.574012749,
          -4406284.871795166,
          -4468052.618803918,
          -4470587.180660879,
          -4435625.066349184,
          -4478246.93737942,
          -4474242.306231777,
          -4232914.169291499,
          -4462908.46424671,
          -4470925.087324052,
          -4471400.178827009,
          -4478279.643254304,
          -4415803.034895149,
          -4436319.819244168,
          -4438802.586436847,
          -4484634.724072116,
          -4473349.024245283,
          -4456128.937437478,
          -4092228.2466970026,
          -4459563.545226667,
          -4468751.191321908,
          -4476587.165233694,
          -4263941.73384744,
          -4480778.299518208,
          -4475919.617730589,
          -4484832.617101987,
          -4474390.690576143,
          -4483393.540935214,
          -4487093.207039785,
          -4474841.337703158,
          -4456860.824677189,
          -4459509.976435646,
          -4400016.770923442,
          -4384301.170770484,
          -2663052.300882831,
          -4378374.351749708,
          -4471160.56339834,
          -4482876.592344935,
          -4472044.790046264,
          -4497351.382040514,
          -4485560.376041365,
          -4471061.405247335,
          -4484066.396623836,
          -4446049.02983992,
          -4472590.802907246,
          -4486817.143431241,
          -4485970.879608767,
          -4434975.310381444,
          -4469420.302524115,
          -4467089.374727408,
          -4386372.334714505,
          -4446784.391045763,
          -4462516.123146151,
          -4481630.883637273,
          -4468185.698843301,
          -4469656.1031247275,
          -3889636.4200206827,
          -4471771.951744489,
          -4471180.101695742,
          -4464230.118231047,
          -4460871.664479122,
          -4474606.922801232,
          -4480893.679541717,
          -4472709.740329488,
          -4467828.419554095,
          -4474792.206743625,
          -4466706.630477728,
          -3843369.1770124254,
          -4475189.999641078,
          -4452261.973834909,
          -4476820.291356467,
          -4407919.419620267,
          -4482334.862941248,
          -4476448.668755126,
          -4466597.53981504,
          -1153774.2382169215,
          -4482096.401593967,
          -4477812.470065447,
          -4482164.292158279,
          -4481443.62433497,
          -4472920.529539888,
          -4482738.13184054,
          -4535195.566390494,
          -4469080.09423947,
          -4469135.279522484,
          -4485832.044798759,
          -4409610.2854675,
          -4466482.761111978,
          -4479915.234591438,
          -4467337.520464423,
          -4481226.705160046,
          -4488293.691819247,
          -4486991.83350841,
          -4486523.709612834,
          -4479481.419211418,
          -4486298.279804295,
          -4447540.139730127,
          -4477720.748054847,
          -4481668.738602395,
          -4468936.468644117,
          -4465140.453560777,
          -4451020.418844755,
          -4494655.215055024,
          -4472594.558103647,
          -4455343.719954454,
          -4449750.905669351,
          -4479154.3209295105,
          -4484943.366323301,
          -4478704.900208886,
          -4480699.641740226,
          -4476381.581291761,
          -4472330.239541844,
          -4480869.441527728,
          -4481636.02609747,
          -4478777.560718762,
          -4475907.614621687,
          -4383126.438456253,
          -4469947.953227998,
          -4476910.806781756,
          -4477649.232951607,
          -4395226.303029574,
          -4478807.285502192,
          -4483643.821485849,
          -4459695.674013057,
          -4475919.039151489,
          -4488197.624823034,
          -4471520.696754869,
          -4210970.255018496,
          -4458956.173924339,
          -3776529.04743136,
          -4477876.781443377,
          -4476621.075177455,
          -4478993.402549017,
          -4472946.951085686,
          -4477538.258541569,
          -4487476.540565154,
          -4472606.0657761535,
          -4488396.638085368,
          -4460536.104005883,
          -4481272.239184423,
          -4486428.502996186,
          -4478438.922842257,
          -4465688.940011884,
          -4461037.77353927,
          -4481819.0414718725,
          -4478468.9355061315,
          -4461097.605746623,
          -4468191.009324544,
          -4454805.258610594,
          -4500155.931285064,
          -4458685.865573377,
          -4475446.664534383,
          -4465936.74642952,
          -4481591.276329885,
          -4474677.53390754,
          -4476784.207549287,
          -4469041.102607628,
          -4466054.138470329,
          -4486918.939129192,
          -4465913.652667354,
          -4462387.5283049075,
          -4485469.289269228,
          -4454882.858761315,
          -4480423.286600639,
          -4467383.833203683,
          -4473059.796885665,
          -4479445.046634578,
          -4476459.855838304,
          -4451394.890198446,
          -4461855.79971123,
          -4486861.536204193,
          -1156429.083999632,
          -4490919.261035772,
          -4301307.325911724,
          -4482255.006885992,
          -4461899.597467692,
          -4184933.021650172,
          -4495176.543521411,
          -4479417.723011396,
          -4474561.497914956,
          -4482917.163094447,
          -4475533.156575983,
          -4477887.875333747,
          -3969368.696053436,
          -4475521.500936451,
          -4457423.468126103,
          -4445541.534451381,
          -4485389.62719972,
          -4458389.736897834,
          -2120554.823145557,
          3805382.3432972673,
          21884334.162228297,
          -3986824.4711670945,
          -4432201.213481067,
          -4458021.205224394,
          -4348112.770105433,
          -4443070.5982755525,
          -4368080.8208676735,
          -4352728.038880418,
          6492861.860065308,
          -2249486.7624923284,
          -3583411.586693227,
          -3996769.72818031,
          -4404605.186857827,
          -3035796.566081039,
          15590529.813726947,
          -4417646.284041985,
          2052537.8240039006,
          -4312238.552564597,
          5526403.620630763,
          -1582781.1059417604,
          -4372648.693234463,
          -4439072.045931319,
          -2200068.763942646,
          1034140898.6789501,
          17900149.334113695,
          7936939.809356793,
          -4368912.869132002,
          -4444850.308431624,
          -4437735.234134294,
          -4464981.995569891,
          -4440445.818895582,
          4070752.39441241,
          8665216.760359475,
          -4360581.405024747,
          -4429208.539234551,
          3672646.1521376586,
          -4439774.646189959,
          -3155862.7137180762,
          -1543257.6680822498,
          -3691661.7468004175,
          -4416516.094237881,
          -4425748.9884993015,
          -4453346.346050265,
          -4286167.909427874,
          -4384085.024319198,
          -4440760.667745362,
          -4441146.452037078,
          -4442362.216511615,
          -3896026.876173349,
          7082278.209962113,
          -4376003.90638353,
          -4439812.441446521,
          8083529.752940588,
          -4427907.0080577675,
          -4295805.139370078,
          -4471196.113171733,
          -4452694.250848195,
          -4422403.383360885,
          -4431878.839889021,
          -4397918.645473929,
          -4220134.348721928,
          -4335588.434149763,
          -4006969.2450443604,
          -4468772.940434602,
          7558622.850860186,
          -4334014.800365855,
          36484997.695468836,
          -4386034.1721476335,
          -4462662.074632603,
          -4428612.618439748,
          -4432947.154829807,
          4312352.415444505,
          -4426735.767880426,
          16169743.210093534,
          -4261855.633240886,
          -4437282.8568187095,
          -517469.1820936194,
          -4215878.63717924,
          -4453938.315997819,
          2472310.8091186085,
          -503484.5526704866,
          -4445354.011721128,
          -4457021.601007047,
          2416352.8569921562,
          -2887272.5647291522,
          -4466976.670800822,
          -4423829.275632761,
          -4461117.444076993,
          -4434340.941278386,
          -4340198.171915239,
          -4440950.915095799,
          106322870.91431244,
          -4465325.975605226,
          -4416520.168466265,
          -4456673.923769055,
          5718253.235302086,
          -4468108.909479767,
          1005067.3203959387,
          -4393203.635809204,
          -4451254.741802538,
          -4462656.454701658,
          -4447120.4067724785,
          -4451269.19239247,
          -2907375.0148977702,
          6148490.181184241,
          -3002640.607862066,
          -3990952.389985025,
          -4216914.722083158,
          -4455618.856466952,
          -4412246.765237577,
          137870449.06692395,
          -3531230.4324667365,
          -4344239.666572797,
          -4399796.3266444085,
          -4448725.949469352,
          -3450129.34663126,
          -4442988.627357622,
          -4403316.8607732095,
          -3044866.4453763664,
          -4368471.447333675,
          -4447558.746374925,
          -2315064.3403213383,
          -4393967.211250404,
          -4408304.779131939,
          -4009202.098843174,
          15653847.568445098,
          6802860.390247361,
          -4402969.824225724,
          701885.0081983544,
          -4415531.812772094,
          -4460871.699037899,
          -4435381.210999295,
          118316391.80352952,
          112467535.12721978,
          -4445867.963996611,
          -4458999.856184087,
          -4437343.824234759,
          29268962.35991927,
          2369959.9571845145,
          -4417449.952390918,
          -4459218.549845104,
          -4447900.645983844,
          -4447147.837830515,
          5592919.032388206,
          -3979771.242029965,
          -4444333.0764056165,
          -3839796.4419141468,
          -3093970.7371778176,
          -2549246.839584932,
          -4431896.125134361,
          -4404491.349997688,
          9169975.635164566,
          -4434846.751823244,
          -4460520.473006183,
          -4461994.389670168,
          -1798056.8281659475,
          -4460377.857135991,
          -4415283.131633092,
          -4446148.314856055,
          -4457324.139843317,
          -4395956.293575552,
          -4437541.811519368,
          -4427928.404393939,
          -4431188.3027604455,
          -4459314.376978958,
          -4457516.067512246,
          -4437186.049622268,
          -4456462.608606532,
          -4453792.8984178705,
          -4456656.92665301,
          -4461053.032696603,
          -4462067.192039337,
          -4468372.857406255,
          -4465385.715321764,
          -3989797.9630264444,
          -4472444.785427312,
          -4374438.400879758,
          -4465234.992985521,
          -4466723.735828549,
          -4475671.275771946,
          -4462522.60129318,
          -4457037.239243691,
          715235.6631374306,
          -4471014.173930549,
          -4462469.03633328,
          -4479529.851662982,
          -4468152.925241663,
          -4429082.697437395,
          -4472566.390410817,
          -4469282.483682258,
          -4434106.4879373005,
          -4203153.775699652,
          -4387569.474008987,
          -2727210.8733125925,
          -4442871.801542062,
          -4447156.6071478715,
          -4472899.03631153,
          -4469960.1341974465,
          -4459597.708767248,
          -3941068.362740002,
          -4467507.90818,
          -4461806.183724467,
          -3930881.534229239,
          -4465699.329991009,
          -4354742.624269708,
          -4472667.582170706,
          -4458739.537374339,
          -4472577.790812524,
          -4465202.990378383,
          -4469537.598558786,
          -4469624.292758473,
          -4431521.721242604,
          -4385341.140733921,
          -4468013.920973167,
          -4462033.705257523,
          -4448669.28096367,
          -4433986.88245301,
          -4471183.357637828,
          -4471208.853442132,
          -4445168.705603452,
          -4476006.720004285,
          -4114404.71149837,
          -4212065.668377706,
          -4455621.489825163,
          -4454343.06850221,
          -4456385.158962271,
          -4203414.29140822,
          -4470530.003910513,
          -3520092.0448205182,
          -4459648.343065765,
          -4471356.226627198,
          -2753814.1590486905,
          -4468491.08524384,
          -4436964.744715237,
          -4453826.155866935,
          1823411.8254624829,
          -4482903.181503675,
          -4440062.887390197,
          -4458972.012875969,
          -4476547.783560393,
          -4495323.000488328,
          -4460932.154101221,
          -4462886.954626012,
          -3547158.3006072957,
          -4461266.981378026,
          -4454327.948126138,
          -4464020.208217638,
          -4466675.538694265,
          -4458161.226919165,
          -4451925.8094160985,
          -4358361.136527992,
          -4431186.769949474,
          31357663.61209682,
          -4418007.727070039,
          -4462457.370573678,
          -4375199.821292834,
          7603786.422904513,
          -4400962.655104591,
          -474951.23290599324,
          -4466812.685161076,
          -4423846.928296692,
          -4439450.506523934,
          -3504450.1496881326,
          -4436926.405361319,
          -4335833.132505175,
          -4174223.274426279,
          -3403694.0081734112,
          -4432315.224598018,
          -4438920.203010718,
          -4383080.546969988,
          2699510.8356173523,
          -4428217.993085223,
          -2901973.154083613,
          -4405521.537484028,
          -3632040.215793025,
          -4453901.545523788,
          59881306.40998122,
          -4497874.411447332,
          -4471865.556595112,
          -640358.0543387944,
          -4450051.933404637,
          -4395708.560432514,
          3529614.733170065,
          -4259275.725873814,
          -4521235.1457793685,
          -4118879.7331644064,
          -4453181.942609459,
          -4540767.024384806,
          -3889049.3188161957,
          -3730683.9100191733,
          -4450429.014099376,
          -4468634.941623395,
          -3197261.228269834,
          -4401920.835109769,
          -4464313.174570638,
          -4429343.001262266,
          -4394655.302948187,
          -4470842.094807952,
          -4431427.677380358,
          -4453354.350140875,
          7655008.514200774,
          -3416753.94064267,
          -1823394.2823067002,
          -4366189.994530976,
          2776583.8602943905,
          -4299935.535484238,
          -4344707.248286316,
          -901482.0799876306,
          -4467702.764740361,
          -4236160.048711557,
          -4191126.2268975177,
          -4424842.167733528,
          -4435173.743283331,
          -1031037.8162557441,
          1832375.3834121586,
          516712.85755867476,
          -4413959.367402186,
          41500361.04517325,
          -4342035.082575484,
          -4293132.858083839,
          -4324141.56365745,
          -4282600.671620414,
          -4462568.943867229,
          -4472960.081052867,
          -4471839.959503664,
          -2446335.8302822993,
          -4448470.178951224,
          -1525772.587583444,
          -4275407.628190879,
          -4467818.565901151,
          -4462812.959597957,
          -2013242.8763889223,
          -477896.18445672456,
          -4384874.28837686,
          -4470762.287594013,
          -4483136.622696614,
          -4458853.571748822,
          -4498586.72270348,
          -4366011.950318474,
          -4443804.094327683,
          -4460318.551311577,
          -1715246.1109128315,
          -4414644.953378854,
          -4437457.090037594,
          -1302097.1379380526,
          -4444455.468156877,
          -4459911.063778834,
          2617200.0238208757,
          -4430817.750749353,
          -689202.9578518252,
          -4433771.195718865,
          -3823839.012616359,
          -4438671.71439589,
          -4460997.3109402135,
          -4431932.305412117,
          268954.63380417414,
          -4405105.422729813,
          16812258.74384736,
          -4467885.074392643,
          21485298.979310535,
          -4446448.286232167,
          -4433812.306941355,
          -4402849.608219286,
          -4433027.269473874,
          -2541881.7176417895,
          -4442579.699022534,
          -4452616.393261445,
          -4387550.250278543,
          -4464227.635411938,
          -4396524.723371764,
          -4453492.576315006,
          -4431449.867876656,
          12175893.936710108,
          16340647.45218111,
          38387302.81622837,
          -4462665.784379659,
          -865961.2945841331,
          -4450200.0614915835,
          13202747.39235064,
          -4435591.041777305,
          -4438349.798797883,
          -4438060.041010136,
          -4448390.311326837,
          -463165.0455034506,
          -4441227.054912806,
          -4392797.178176543,
          -4385995.900327563,
          -4440040.221331516,
          -2673219.37541193,
          -4425319.216828147,
          -404755.3612390629,
          -4450738.716023337,
          -4386069.60742711,
          -4441838.013906311,
          -4454763.0496749645,
          -3808264.631136358,
          -3401033.591802163,
          -4405831.501500592,
          -3511524.2992398054,
          -4122487.076049406,
          -4444842.211226742,
          1415103.259972172,
          -1215869.2513140247,
          3630853.1855279487,
          -3813371.283743822,
          -4487327.070364804,
          -4460539.2164751375,
          -259437.93636490993,
          -4468028.158223196,
          -4456809.296167463,
          -4423646.357753347,
          -4424456.458229441,
          -4434355.410970268,
          -4431365.411444141,
          350244.8877699327,
          -4461900.953600647,
          -4464565.775884302,
          -4464988.85320382,
          -4188952.953978777,
          -4450195.787057945,
          -3342367.429766935,
          73958221.72124794,
          -4479302.456357442,
          -3552033.993560237,
          16144629.032844946,
          -539924.1899386118,
          -4409483.539777434,
          -4425265.833182013,
          -4481876.017468678,
          -4448731.915997433,
          -4471814.700211783,
          -4099792.8791722218,
          -4445733.230570786,
          -4458860.740254143,
          -4469522.617601625,
          3065540.1546192924,
          -4472521.929877886,
          -1793094.631895456,
          -4467067.800257956,
          -4456805.587540811,
          -4438239.172619232,
          2766850.106499423,
          -4443354.195628693,
          -4420929.174312158,
          -4504758.293751941,
          -2058428.9947329601,
          -1120433.756554699,
          -3025691.4959467878,
          -3994601.372904954,
          -4456634.797757244,
          590845.2025941886,
          -4458927.391180893,
          -4327560.202901612,
          -4422942.650841691,
          -4431977.950290293,
          -4417881.588064864,
          -3476097.5235977047,
          -1593133.0475487341,
          -4297487.761889524,
          -4432455.815356826,
          -4360614.168340246,
          -4451641.425786272,
          -4384773.240991616,
          -4417006.958729335,
          -3329945.9696070114,
          -4467111.2917148415,
          10374892.943458011,
          -4468746.15642847,
          -3558554.9900184046,
          -4450156.310371693,
          -3219119.046120402,
          4146925.9642800214,
          -4112282.099407607,
          -4422444.662909403,
          -4426887.809581247,
          -4452119.739026902,
          -4458936.585566787,
          -4400874.080453268,
          -4384489.760142438,
          -4295805.844301912,
          -4280876.557021521,
          -4456851.744435379,
          -4419851.514815802,
          -2238650.0443160124,
          -2592873.874665219,
          -4416564.785322666,
          -4199976.987887957,
          -4443569.983047308,
          -4266505.53657997,
          6510078.650285613,
          -4158707.637515169,
          -4437376.134338226,
          39661554.30092731,
          -4362892.50364683,
          1414656.7612674027,
          -4361326.093077349,
          -4464214.859945356,
          -4489828.004434137,
          46678489.17299454,
          -4466105.590335994,
          -4470741.315734,
          -4141470.030100454,
          -3750231.72343529,
          2448663.2722609676,
          -4432438.792074498,
          -4436972.591988471,
          -4476143.175539418,
          -4474126.03758982,
          -4479996.574537936,
          -4464052.393960089,
          -4481680.854628283,
          -4537579.145312084,
          -4468565.905961788,
          -4469461.405673093,
          -4485226.09633701,
          -4467229.494907498,
          -4460693.590922687,
          -4455432.464401941,
          -4471036.384438517,
          -4445964.351593096,
          -4467923.171475181,
          -4476224.049057226,
          -4498999.851054079,
          -4459298.679052941,
          -4481503.6209685635,
          -4471761.120043456,
          -4479800.865311719,
          -4423444.324159024,
          -2451270.2216578317,
          -4453301.648898104,
          -4445369.167162907,
          -4488902.195698657,
          -4322073.059772671,
          -2032756.9094029267,
          -4408415.309242335,
          -4454975.542373476,
          -4192946.558462894,
          -4454102.008590077,
          -4395463.398170622,
          -4453985.280949556,
          -4456643.201439749,
          -4389273.019131631,
          -4461664.204146023,
          -4463816.068718196,
          -4470396.248359819,
          -4476980.118907576,
          -4482774.890761107,
          -4470441.389349903,
          -3967525.7519154605,
          -1350036.7114410151,
          -4273748.631930651,
          -4469013.596099649,
          -4462276.533555432,
          -4460888.999488369,
          -4483546.808348563,
          -4475913.382490571,
          -4472042.359895195,
          -4464945.601419544,
          -4479740.620860361,
          -4460756.10153835,
          -4472935.032032197,
          -4466406.7342183525,
          -4442998.880065946,
          -4477852.684080777,
          -4459481.383927493,
          -4454619.240636746,
          -4466701.301369139,
          -4476137.263441717,
          -4461932.1970572695,
          -4463916.521385409,
          -4475413.538642791,
          -4477265.222975657,
          -4468626.193363416,
          -4443679.0719071515,
          -4463859.591670372,
          -4473035.012832686,
          -4474612.14981181,
          -1190824.0542671606,
          -4454009.331716114,
          -4466765.951615752,
          -4475804.471066801,
          -4479096.880713671,
          -4463416.653310657,
          -4462919.679718659,
          -4473260.572341482,
          -4465170.090936548,
          -4229168.710142522,
          -4473012.631073933,
          -4475908.577930594,
          -4428635.331418523,
          -4421458.296104467,
          -4337362.291343639,
          25247697.88898002,
          -4199509.101735587,
          -3934539.0752012734,
          21791370.749656375,
          -4458686.1271522865,
          -4463618.744521784,
          -4448618.864858855,
          -3553011.5724695707,
          -4389535.81735745,
          2072603.9891882357,
          -3769747.5366747254,
          7161263.386925926,
          -4461345.591163696,
          -4438076.967709165,
          -4477875.905031369,
          378985.9567902859,
          -3987328.4704786283,
          -1314221.6904201447,
          15412336.057777332,
          -4438144.775841632,
          -2420000.511221275,
          -3003101.5622464884,
          -3448845.577782043,
          -4457355.900723206,
          -4462596.930327731,
          -3691895.0455276184,
          -4420462.575235806,
          -4385380.7088836,
          -4412586.677699107,
          -4422503.924571638,
          -4483538.845155851,
          -4453408.450454533,
          -4118474.404466207,
          13365266.294320393,
          21075259.109207846,
          -4366844.940575215,
          1981006.3654037702,
          -4447862.780701397,
          1317695.5096629967,
          -4408905.506855695,
          -4412830.716269842,
          17691437.694467142,
          -4459519.243151215,
          12742030.51085932,
          -4408509.614259186,
          -4468583.720001842,
          -4414658.773120957,
          7483456.330455293,
          -4428228.49596469,
          1523749.1269334655,
          -3605174.328182636,
          -4115076.3618994467,
          -4428356.178799201,
          -3727386.687511064,
          -4432631.740007478,
          8158178.133907387,
          4669483.611428656,
          1202316.9615337073,
          -1117042.4034483812,
          -4386560.807303718,
          -4430182.439101675,
          -4438294.552445177,
          -2555090.498705685,
          -4439917.474914315,
          -4457985.589190327,
          515467.2956194662,
          10150462.09184004,
          -3412472.985900334,
          -4176545.9203582695,
          -4457279.889705786,
          -3962238.8961592643,
          74502024.56673557,
          -4356094.3238675175,
          -4431889.097609744,
          -4457789.814643138,
          -4298685.191196932,
          -4452904.334065668,
          -4453129.244956943,
          -4144663.586788985,
          -4465537.365588167,
          -4420925.8651580615,
          -4473742.57401288,
          -3337411.0321272286,
          -4340583.1631894745,
          -4466999.030246898,
          -4441548.962307905,
          -4515121.562650233,
          -4461575.925488328,
          -4478855.931317547,
          -4091611.778930212,
          -4506024.448994494,
          -4467274.95326529,
          -4461524.146730561,
          -4443971.975056079,
          -4495533.532766902,
          -4449443.387063643,
          -4477843.598604542,
          -4513004.704760481,
          -4500431.871868381,
          -3397570.730433253,
          -4485148.334881878,
          -4491462.818833918,
          -4482542.012941595,
          -4473505.996725033,
          -4487013.691681474,
          -4479702.65930367,
          -4034592.3448686856,
          -4431174.307457468,
          -4448762.383043226,
          498249.4764049848,
          -4488312.794964858,
          -4483441.529523024,
          -4475314.983464074,
          -4467454.30314335,
          4956962.776609982,
          -4475767.994094087,
          -4483923.503213612,
          -4447961.208044822,
          -4501122.373185721,
          -4476210.081250933,
          -3922215.476010787,
          -4499502.435186858,
          -4470213.497321415,
          -4474969.926196928,
          26548502.53617555,
          -4481194.4354456905,
          -4540731.868411134,
          -4459861.881203423,
          2689871.6880036746,
          -4494811.593345244,
          -4635101.535056102,
          -4474533.883534114,
          -4484194.901985609,
          -4485176.727786927,
          -4484621.191863129,
          -4459272.893345118,
          -4404372.145729432,
          -4486110.17840584,
          -4490196.353183397,
          -4468016.261317784,
          -4482932.343208792,
          -4444513.781202603,
          -4486486.532929759,
          -4483491.524404041,
          -4472641.741535736,
          -4473575.712177512,
          614673.312258118,
          -4487086.620286907,
          -4487535.316813552,
          -4439631.193373409,
          -4478812.806735018,
          -4477393.966528608,
          -4487332.9454196645,
          -4446590.840673988,
          -4433697.884958335,
          -4479178.5509402435,
          3020238.0004433678,
          -4479841.614552915,
          -4487681.445676553,
          -4448099.842297667,
          -4489733.528656521,
          -4473059.261461873,
          -4478497.423975865,
          -4472989.276489477,
          -4480345.593487918,
          -4486558.36482536,
          -4478656.771725016,
          -4479387.966133012,
          -4377769.025602612,
          -4464920.814105413,
          -4363680.105579152,
          -4470504.264148141,
          -4446197.100866686,
          -4450030.681535778,
          -4475187.920750966,
          -4465326.330077928,
          -4271651.787726954,
          -4481385.9982787315,
          -4474099.924684335,
          -4483611.828717357,
          -4456929.349275155,
          -4117100.6024306193,
          -4486021.996791642,
          -4466569.109749331,
          -4467999.162768022,
          -4477659.7369910125,
          -4503743.498432075,
          -4479239.313447675,
          -4439045.685272715,
          -4489205.374189105,
          -4481097.929904015,
          -4481982.502865969,
          -4476988.072283835,
          -4475439.906168132,
          -4480907.173418737,
          -4483106.846488336,
          -4474149.615488063,
          -4485573.472760563,
          -4473484.310890308,
          -4471267.882180906,
          -4473402.567044926,
          -4485689.930899775,
          -4484481.620551735,
          -4470866.812233993,
          -4486803.932286838,
          -4475606.939060502,
          -4471570.2863649605,
          -4470482.97191682,
          -4484378.510406395,
          -4456553.83507884,
          -2643455.443636949,
          -4482744.010279343,
          -4479084.46194139,
          -4559911.654851365,
          -4462915.985803568,
          -4484068.41471133,
          -4495362.370008536,
          -4493009.975343028,
          -4465300.196138415,
          -4471030.40836714,
          -4489066.181802834,
          -4500858.175535204,
          -4515479.155618228,
          -4454166.1459432,
          -4478501.225125951,
          -4478116.500320419,
          -4502991.362947686,
          -4466858.324952474,
          6283578.609729034,
          -4473170.304989742,
          -4522059.18447577,
          -4490679.254321453,
          -726202.140710488,
          -4486531.72366531,
          -4424442.432445234,
          -4471286.486552598,
          -4479565.81399382,
          -4475701.86407858,
          -4488493.164762064,
          -4484528.050607401,
          -4485442.621690539,
          -4442884.975333929,
          -4506375.703443656,
          -134614.09795402316,
          -4469301.189297622,
          -4473235.275800384,
          -4495979.458019055,
          -3795696.1569758914,
          -4490207.056974324,
          -4477125.001993263,
          -4458633.331337103,
          -4430971.385237195,
          23244442.682416882,
          -4472399.134265748,
          200058654.75022936,
          -4017320.6322113536,
          -4404468.692390271,
          -4438494.354351722,
          -3823961.09459874,
          -4444650.440928753,
          10663274.028336339,
          -1740736.0406455626,
          -4447843.346407633,
          -1790561.0374013619,
          -4466103.656907603,
          -4428727.247152515,
          -1004268.6508506105,
          -4460307.538031861,
          -4417763.094647656,
          -3577027.5606001243,
          -4398599.895968308,
          79784286.293363,
          -4416724.301545785,
          -4462363.0024313,
          -4435281.718264806,
          -2578327.482031143,
          -4467093.78828628,
          22832495.207069952,
          -4447323.821647495,
          -4434924.494071767,
          110713735.49081469,
          -4435479.491173593,
          -1032313.4624090672,
          -2550555.9407271286,
          -4447976.37282394,
          -4444066.951973373,
          -4451362.08752165,
          -4453501.912561765,
          -4467917.603932821,
          -4377603.218026899,
          -4208616.712958907,
          -4455643.690609327,
          31278440.279831614,
          -4413954.50212851,
          -4441486.311554269,
          -4465092.2096022675,
          -4425805.67495799,
          -3996393.946709017,
          -4418445.253912777,
          -4470676.920668293,
          3272174.839869966,
          3179485.4745202623,
          33141760.085190203,
          -4448877.73497377,
          -778212.9672713456,
          -2108210.9196536555,
          -4437126.183514433,
          -4438231.718700929,
          -4001604.864964877,
          2418512.2593905157,
          -4453880.39953584,
          -4440586.786812298,
          -4451075.913250406,
          -4437561.125551776,
          5854472.567493416,
          -3182382.8257350423,
          -724814.5558992309,
          -4371487.318458844,
          -4409415.503011391,
          -4406110.495827171,
          -4465295.10424144,
          6448517.522585961,
          -4452665.633320729,
          31587012.23085085,
          1455254.0417599943,
          -3445882.4110542033,
          -3906246.781407219,
          -4479662.246205805,
          -4441192.307970963,
          5584025.895852146,
          -4470477.786813561,
          -4425093.653550018,
          -4445234.458717207,
          -4464147.812917613,
          -4431600.010323118,
          -4443229.493743544,
          -4477977.259999539,
          8959496.55781331,
          -4369520.311496993,
          -4476125.381423985,
          -4465620.170968636,
          -4480607.7100086,
          -3556385.7697651917,
          -4505112.488647178,
          -4497189.52447163,
          -4494824.458290882,
          -4472533.882732765,
          1695917.9220485655,
          4207269.554831954,
          -4471682.796115509,
          -4474243.59176851,
          -4468917.821561117,
          -4525733.195505387,
          -4515711.781027253,
          -4473506.4422260085,
          -4473937.87346109,
          -4508979.500662539,
          -4474863.990608652,
          -4471147.4351154575,
          -4485386.947272629,
          -4473684.770020716,
          -4463409.215947464,
          -4479801.410238166,
          -4472849.957574574,
          -4473824.3730441695,
          -3697288.691681527,
          -4472741.087026164,
          -4483314.322163471,
          -4488765.682331153,
          -4486385.262613592,
          53916705.25885562,
          -4470075.557804377,
          -4531306.739000138,
          -4467050.661428308,
          -4484814.436356653,
          -4493441.617026649,
          -4473701.543072932,
          -4503317.438020748,
          -4488084.602467976,
          -4476049.776892862,
          -4477366.068018416,
          -4456136.852932055,
          -4451582.041296504,
          -1696898.8477410981,
          -4245370.585985097,
          -4416531.091471332,
          -4404850.171396783,
          -4466306.716254939,
          -4388948.724743746,
          49188627.89378958,
          -3565276.6728628464,
          -4458434.563182983,
          -603611.7753622757,
          -4286681.1542300405,
          -4165226.3631195873,
          -4433072.150922922,
          -3434509.7143797236,
          4841032.975717054,
          1956929.3242446803,
          -4446936.34816843,
          -4423779.958398492,
          -4432636.6992565105,
          -4500163.995524383,
          -4466048.671821298,
          -4476120.228657881,
          -4479821.575501793,
          -4496865.227621013,
          -4367637.30275081,
          -4464116.974976941,
          -4455235.798739187,
          -4412874.892276809,
          373235.3684383579,
          -4450649.2944501545,
          -4437310.648599908,
          16804339.23260837,
          -4462099.045636619,
          -4439215.71462128,
          -1272444.0445305693,
          1712240.1281061904,
          2037894.3737513602,
          5077446.818300729,
          -4498461.418767497,
          17615399.974838287,
          -4225995.200050194,
          -4455678.433103187,
          -4606464.225213268,
          -4459572.141734133,
          -4375444.138403745,
          -4451784.450207935,
          -4471572.324789378,
          -4411835.34934412,
          -4352037.254656891,
          -4440758.399974554,
          -4333592.298979525,
          -4445219.232097919,
          -4410434.157562929,
          -4423378.965107145,
          -4432562.53630752,
          -4444316.8794294195,
          -4460082.841030639,
          -4273141.745420577,
          -4508923.182474708,
          -4335348.310607893,
          -4272480.322475292,
          -4438936.251685011,
          -4511953.045855311,
          -4458113.420545755,
          -4438903.605892821,
          -4458242.246844976,
          -4475868.290627407,
          -4423286.174351766,
          -4459687.201465909,
          -4175402.8474430386,
          -4441837.106142932,
          -4707861.271226869,
          -4487563.378466994,
          -4422121.68711845,
          -4519788.012396848,
          -4271951.896716161,
          -4451419.823493826,
          -4298675.639463772,
          -4571375.810787298,
          -4430787.2148679895,
          -4460765.341713685,
          -4444345.9905084465,
          -4386877.162322219,
          -4328787.348363608,
          -4354954.235235693,
          -4373595.449450183,
          -4707789.258800933,
          -4476759.679592211,
          -4446218.20280803,
          -4438534.92926554,
          -4345897.31991562,
          -4402910.608200803,
          -4360200.423133473,
          -4469532.852664082,
          -4615312.144585016,
          -4517295.58852429,
          -4410080.805220362,
          -4430185.942266962,
          -4439719.6486617485,
          -4424185.975977447,
          -4448788.793434353,
          -4367570.749096504,
          -4471616.3489784645,
          -4419705.83548249,
          -4463723.838340207,
          -4447947.950340234,
          -4590816.348721244,
          -4422627.113829451,
          -4461437.933575295,
          -4465845.188127349,
          -4557595.499278042,
          -4427016.944438818,
          -4506236.236198779,
          -4337101.9014825225,
          -4402103.511185724,
          -4782560.195887954,
          -4591276.985773137,
          -4436885.118443719,
          -4567678.415443892,
          -4459909.418605851,
          -4476128.646353759,
          -4440934.891575563,
          -4380428.457694526,
          -4444765.873474365,
          -4434732.627349732,
          -4077589.3911978947,
          -4396792.187463604,
          -4367699.6113085635,
          -4488958.517523543,
          -4500332.493008117,
          -4504480.760270966,
          -4458726.973753463,
          -4451380.509136358,
          -4409814.0863126535,
          -4434343.048488777,
          -4426985.138169989,
          -4441811.875365148,
          -4485238.5945164375,
          -4570103.144819404,
          -4552063.092361538,
          -4447457.086913816,
          -4420360.783942741,
          -4448816.512499119,
          -4240824.158530466,
          -4433853.612031359,
          -4474449.024968419,
          -4474976.585784375,
          -4456300.935752208,
          -4443903.49252378,
          -4293597.2653309265,
          -4724089.308755846,
          -4340349.992648691,
          -4444552.8211213965,
          -4419148.169692407,
          -4427802.369043607,
          -4462814.818027975,
          -4448561.942415335,
          -4452373.578744968,
          -4409088.69788006,
          -4552212.182314811,
          -4451141.814892753,
          -4441719.585956678,
          -4432289.977851834,
          -4405576.63443261,
          -4451987.716166114,
          -4511595.333290939,
          -4433335.627940116,
          -4467357.167661074,
          -4568437.749650985,
          -4449196.66237151,
          -4383184.918039374,
          -4537396.496592312,
          -4361756.977024369,
          -4426791.000364114,
          -4466144.758292095,
          -4534793.849459043,
          -4412956.259207053,
          -4438117.9418438,
          -4389516.778488523,
          -4382036.313438467,
          -4447541.743896304,
          -4446502.1926174285,
          -4363802.448962182,
          -4424842.893249796,
          -4443872.467060968,
          -4542742.023090393,
          -4435711.631958484,
          -4536627.4697771035,
          -4400147.2378616985,
          -4429141.794422625,
          -4400857.43499595,
          -4280891.651503813,
          -4493577.66347009,
          -4470514.46873662,
          -4639382.615617738,
          -4466044.613181493,
          -4399685.322657104,
          -4405076.230011419,
          -4476078.491590682,
          -4489541.571653464,
          -4486234.968180203,
          -4467547.782439869,
          -4423623.066529433,
          -4465384.765000337,
          -4455879.733091388,
          -4477356.262875375,
          -4454392.319668979,
          -4455801.686873923,
          -4459902.953567971,
          -4145851.5222287443,
          -4441324.715060523,
          -4435425.323154419,
          -4706514.164758585,
          -4619821.225940389,
          -4268787.229757328,
          -4445864.813173989,
          -4423415.594255126,
          -4408999.406008486,
          -4807577.717187491,
          -4414198.13102621,
          -4596778.284632691,
          -4428497.380145435,
          -4465740.696144833,
          -4474163.501040574,
          -4356555.266724139,
          -4411009.097263914,
          -4408308.355590222,
          -4523323.721603554,
          -4396416.093215935,
          -4457070.173975109,
          -4433152.183586118,
          -4387605.386586639,
          -4493212.119219202,
          -4458714.642589006,
          -4399169.590738319,
          -4485170.76334767,
          -4411170.982356693,
          -4440713.150208928,
          -4414574.688153369,
          -4429251.366289004,
          -4449664.275713202,
          -4452991.395432055,
          -4464848.418765377,
          -4506985.811892149,
          -4444129.667185366,
          -4448984.630300722,
          -4432401.517587537,
          -4421590.854932616,
          -4424337.754681305,
          -4534914.111572357,
          -4442905.030261531,
          -4433267.259555249,
          -4557667.52547646,
          -4363015.352753782,
          -4451243.195190254,
          -4428011.8367377985,
          -4279904.233629922,
          -4452922.87361448,
          -4475595.72665715,
          -4292532.137289823,
          -4400799.57347696,
          -4379677.613199651,
          -4432654.899262174,
          -4434581.581143555,
          -4457966.968493924,
          -4546650.956085423,
          -4443302.861745864,
          -4423839.768066053,
          -4439494.592772347,
          -4361298.5579595305,
          -4494806.942184805,
          -4426623.871675978,
          -4398859.020744416,
          -4546980.609223502,
          -4429592.4436471155,
          -4429478.858304973,
          -4400804.781186822,
          -4436216.891726452,
          -4434491.395978519,
          -4442381.005677952,
          -4462843.746689241,
          -4450390.101755683,
          -4527427.149873542,
          -4439883.105358877,
          -4469572.320955227,
          -4466387.3089072155,
          -4465733.283762831,
          -4413261.949318719,
          -4483105.409965329,
          -4491281.271452803,
          -4632071.8337535495,
          -4436259.842118836,
          -4511515.589356008,
          -4423582.223794063,
          -4406542.589703591,
          -4830107.262087615,
          -4460054.7746309815,
          -4498080.168584143,
          -4774234.674979291,
          -4298859.536670405,
          -4541843.5905307755,
          -4432280.459763493,
          -4292303.230062274,
          -4649474.527987707,
          -4412770.553360273,
          -4512245.116482172,
          -4613961.072783875,
          -4469042.171518225,
          -4459115.457065867,
          -4399435.890054881,
          -4467852.632558863,
          -4464708.741222086,
          -4417590.402404002,
          -4514529.493396188,
          -4470832.5925998585,
          -4504848.419630414,
          -4445332.773352582,
          -4457709.684469521,
          -4425149.823724451,
          -4627740.514753812,
          -4717365.855767069,
          -4456535.645526286,
          -4628520.061837415,
          -4691506.500422703,
          -4404426.456640268,
          -4388758.878469167,
          -4475734.210054994,
          -4455342.924914993,
          -4484349.792636673,
          -4453093.942843891,
          -4448963.82390355,
          -4427207.203345219,
          -4460277.271166239,
          -4380398.280485154,
          -4416223.291449976,
          -4381825.156071883,
          -4469060.842964735,
          -4457171.333146432,
          -4495245.998098333,
          -4481511.337486986,
          -4438496.24093745,
          -4482351.623361394,
          -4451648.85992234,
          -4467915.404489111,
          -4486536.0755792875,
          -4415104.405188597,
          -4421663.958272437,
          -4579469.043076993,
          -4565150.270670151,
          -4376076.528999393,
          -4460537.429812264,
          -4481124.418457198,
          -4395216.370549622,
          -4427854.50882374,
          -4425115.118137417,
          -4376871.707883053,
          -4421889.719287701,
          -4474503.177991518,
          -4534797.673251459,
          -4463089.236655492,
          -4677335.712603751,
          -4616213.852641092,
          -4840595.7818317935,
          -4466976.710701283,
          -4586228.332859701,
          -4422730.572319729,
          -4378569.785475751,
          -4446343.629266194,
          -4458096.967623127,
          -4445143.130751803,
          -4458124.446369734,
          -4439440.796767877,
          -4435771.689799139,
          -4472221.721967155,
          -4434651.339361729,
          -4338345.7608482465,
          -4463837.9334740555,
          -4809685.703462372,
          -4451554.135400317,
          -4330219.089518245,
          105433321.65265515,
          -4453911.939218197,
          -4459190.631717393,
          -4433591.875456545,
          -4430763.188830377,
          -4453789.548609266,
          -4443399.553691602,
          -4447979.261742729,
          -4445012.288829401,
          -4340568.1677363925,
          -4213626.37943176,
          -4464563.775379989,
          -4458713.414832736,
          -4471735.60734453,
          -4428101.902243575,
          -4452900.725348705,
          -4483485.993293287,
          -4383476.829472516,
          -4453690.2061183285,
          -4430159.901069443,
          -4460171.865336191,
          -4432420.489625065,
          -4447295.600376676,
          -4417817.517094436,
          -4451164.965928798,
          -4449899.336641981,
          -4446801.938783475,
          -4446677.545697485,
          -4406061.425867262,
          -4451473.773236853,
          -4443652.265632879,
          -4456154.041915249,
          -4461558.681350762,
          -4459914.469570034,
          -4393186.758444889,
          -4446377.160910528,
          -4414375.106207845,
          -4434323.360587194,
          -4458008.30938703,
          -4427946.959295492,
          -595992.364569696,
          -4465108.810788596,
          -4421387.848357132,
          -4437683.029347009,
          -4478132.594756882,
          4453745.006786863,
          -4472170.8395350035,
          -4198818.840386165,
          -4471857.639279313,
          -3873680.0898240902,
          -4483866.518492127,
          -4480086.776570019,
          -4485604.921035317,
          -4462762.650960161,
          -4456084.285497474,
          -4472646.071272565,
          -4447469.747074412,
          -4394332.639721099,
          -4512194.915062322,
          -4464610.054151427,
          -4435425.568478903,
          -4437144.686424838,
          -2684051.469237458,
          -4469195.792940863,
          -4444953.404222284,
          -4441572.166291536,
          -4462923.538042995,
          -4416350.801868928,
          -4442520.333426617,
          -4438173.475605991,
          -4353734.6148521155,
          -4399314.453504764,
          -4475712.020404625,
          -4468516.68896742,
          -4514829.525800816,
          -4439783.715577315,
          -4343431.914917612,
          -4065468.7647467805,
          -4457997.613419762,
          -4463448.2272334965,
          -4532795.290789162,
          -4445660.213729492,
          -4450618.981104942,
          58502487.01067552,
          -4438329.19815867,
          -4440453.213526379,
          -4460490.6677905945,
          -4461806.928308666,
          -4428923.244291952,
          -4432098.561640021,
          -4408759.43805675,
          -4426041.902150742,
          -4357361.306963932,
          50072520.53101912,
          -4443319.012041259,
          2700014.248666379,
          -4457648.49383197,
          -4386856.504504098,
          -4443204.174864513,
          -4452444.289866301,
          -4442939.803265739,
          -4453407.693963624,
          -4455061.494734253,
          -4413079.281094604,
          -4458626.279763855,
          -4439123.839909818,
          -4366723.102989636,
          -4477389.365509874,
          -4454889.334807321,
          -4427433.611302383,
          -4440781.438040874,
          -4451113.958970703,
          -4417286.102996264,
          -4464493.641287994,
          -4438205.984708369,
          -4434908.632204224,
          -4429637.563414754,
          -4381564.270096269,
          -4472313.428806504,
          -4389357.325958766,
          -4465053.7342512235,
          -4453242.133816879,
          -4430237.541709866,
          -4455996.390614206,
          -3648132.3715383117,
          43479505.18609997,
          -4440521.13058161,
          -4448765.123401254,
          -4383147.433338424,
          -4430226.991101466,
          -4460275.677208707,
          -4405868.926932538,
          -4451717.801045526,
          -4453390.187738892,
          -4444321.39433173,
          -4459194.541366959,
          -4447071.540039529,
          -4440532.623539757,
          -4422777.971990239,
          -643663.7440920166,
          10365603.98624513,
          -4454306.961047017,
          -4457269.079210467,
          -4456907.8379503125,
          -4324594.292680119,
          -4444834.72057909,
          -4408261.27417772,
          -4450947.653874935,
          -4345695.273933477,
          -4467769.9400172485,
          -4456936.348031862,
          -4444327.796356358,
          -4454849.795922007,
          -4400075.450209287,
          -4338040.658478929,
          -4464246.224041228,
          -4455794.212913588,
          -4448520.765000345,
          -4280310.054465504,
          -4455169.630400837,
          -4449719.759448057,
          -4413532.712611824,
          -4440646.4077920085,
          -4436718.218395442,
          -4110462.844795144,
          -4460610.769801487,
          -4477379.353173171,
          -4493150.306809386,
          -4435758.425156801,
          -4436029.356484593,
          -4449762.842368451,
          -4647433.046830828,
          -4432625.209038667,
          -4496501.703967012,
          -4489736.708357465,
          -4510059.015849138,
          -4464297.469248618,
          -4438282.453275513,
          -4567267.45079079,
          -4460858.465496336,
          -4441921.081501468,
          -4539399.169669507,
          -4430139.147996804,
          -4394355.493349656,
          -4444164.232346008,
          -4688425.548410215,
          -4445189.785163924,
          -4454229.501957116,
          -4462094.322461258,
          -4465663.141941564,
          -4450689.454353578,
          -4478300.4147436945,
          -4461376.809807766,
          -4443378.751925193,
          -4453359.7794833705,
          -4466368.02919176,
          -4366029.676779624,
          -4473943.040141897,
          -4443097.3674025955,
          -4271590.300616234,
          -4407990.619824443,
          -4515897.538163884,
          -4465779.5645708265,
          -4451380.43593729,
          -4402234.441954741,
          -4513826.972707092,
          -4492514.735929157,
          -4082167.0357406572,
          -4458081.680742709,
          -4443890.854111006,
          -4448538.682212832,
          -4407026.0404437175,
          -4436645.588234718,
          -4419842.764920649,
          -4450632.056442393,
          -4304650.786821302,
          -4437120.060880443,
          -4499858.5613958305,
          -4429919.821079435,
          -4434792.071034098,
          -4471978.470920278,
          -4426443.081325172,
          -4445581.576442077,
          -4434310.1200959515,
          -4391840.189558451,
          -4435688.946173581,
          -4359068.497281086,
          -4423650.549903242,
          -4379568.077961076,
          -4411867.00926837,
          -4491783.082020755,
          -4541670.606505963,
          -4462943.6979062995,
          -4436511.297621066,
          -4376333.702232588,
          -4446632.584652656,
          -4412092.143953367,
          -4464635.2318796115,
          -4437242.531413872,
          -4448793.92803941,
          -4438104.631024331,
          -4433309.032992603,
          -4474771.3243263485,
          -4403226.367951752,
          -4406433.053254164,
          -4450778.285729372,
          -4541176.802377343,
          -4396576.664174698,
          -4488623.690261443,
          -4448114.236379991,
          -4440943.146447692,
          -4469054.882174572,
          -4450221.779139501,
          -4474438.783048726,
          7490813.335586708,
          -4445245.6201139195,
          2182433.7001073007,
          -4155598.481458804,
          -4461377.578480536,
          -4463001.996469832,
          -4462492.084412967,
          -4197890.863179559,
          -4457525.242457817,
          -4467216.585214242,
          -4214358.13877401,
          -4461403.838515275,
          -4478176.559328931,
          -4452254.452330083,
          -4480923.071875802,
          -3891920.9183355835,
          -4470904.965222399,
          -4462177.092273065,
          -4458689.853172932,
          -4446591.38896599,
          -4451595.436802709,
          -4310145.97979112,
          -4437139.701604227,
          -4468907.498330987,
          -4477915.665009185,
          -3502820.633545412,
          -4471806.683629403,
          -4428731.875892227,
          -4470134.0511116255,
          -39444.862492167944,
          -4572084.681134473,
          -4450417.3309015995,
          -4351339.28722598,
          -4278693.047506391,
          -4461344.116668583,
          -4499977.185206099,
          -4591152.301465868,
          -4462535.105226638,
          -4443188.444317712,
          -4471396.374424394,
          -4453210.563617595,
          -4346642.474912391,
          -4456133.143557922,
          -4580474.233245612,
          -4403896.628232207,
          -4448372.936506071,
          -4505173.547332107,
          -4389756.931018206,
          -4455826.559785292,
          -4455165.535820953,
          -4453685.081566422,
          -4525928.25230792,
          -4451487.228641124,
          -4466530.800660909,
          -4468199.1797895115,
          -4775118.944636831,
          -4276654.209272165,
          -4449606.99615114,
          -4408380.190497146,
          -4393911.970763923,
          -4418460.355058092,
          -4323989.268870514,
          -4595547.596419893,
          -4668904.295520509,
          -4726445.322607383,
          -4451206.386341599,
          -4376485.8686715495,
          -4471062.2832013015,
          -4467815.726144343,
          -4722665.640689047,
          -4527743.087235703,
          -4550477.225464806,
          -4514181.0421985155,
          -4424320.132320046,
          -4431406.359492568,
          -4459706.353525237,
          -4383002.782597825,
          -4436459.545071879,
          -4386798.693239785,
          -4406644.816549167,
          -4454808.705063368,
          -4472110.975411178,
          -4426690.740162875,
          -4385023.836942335,
          -4464236.080163186,
          -4437512.88039401,
          -4448664.763714132,
          -4457886.430815881,
          -4620273.995037078,
          -4432954.583896907,
          -4437865.832293089,
          -4403545.3707933,
          -2867768.9504242595,
          -4462554.180210186,
          -4436206.200199536,
          -4460742.163722705,
          -4306514.295546074,
          -4436253.710033868,
          138935275.6934839,
          -4450241.689259043,
          -4445193.462475605,
          -4410428.696990323,
          7137629.635491755,
          -4442669.937923553,
          -3363452.128577487,
          -3368099.7161850375,
          -3989821.4769218387,
          -4455115.861627743,
          -4459838.724724789,
          -4475005.785111697,
          -4479928.876539682,
          -4094831.673259746,
          -4458649.623598784,
          -4452649.4770577755,
          -3969032.1004441525,
          -2862305.324142105,
          10563367.683008363,
          -4200934.574434218,
          -3165745.3441920523,
          -4446353.563738935,
          -3743176.450742952,
          -4175311.3085847716,
          -4466745.751324083,
          -1610626.4396805342,
          -4434386.651047497,
          -4413160.57022731,
          -4418142.714076085,
          8826611.140314078,
          -4433549.484259711,
          -4463354.632561216,
          7647990.014889906,
          -4438356.947680511,
          -4480526.271171556,
          -4430984.856228875,
          -4450936.693475681,
          361626.6340772646,
          7393497.759886598,
          -4462546.373692635,
          -4454660.951496346,
          -4422325.559043669,
          -4500698.6535354685,
          -4484781.640217546,
          -4463468.27221158,
          -4466425.295251373,
          46319299.920942195,
          -2291682.2281142436,
          3959429.442816149,
          -4457894.881304154,
          2865251.694378888,
          -4396618.545314344,
          -4453460.186378729,
          -4557865.020325188,
          -4458266.292282398,
          -4437676.718481035,
          20390051.327853937,
          33832343.156004764,
          108860905.21533689,
          -4431270.265900567,
          -4434678.59329491,
          -4443179.116450122,
          -4443237.10376203,
          2531323.537480545,
          -3626299.8667988284,
          -4420341.761040132,
          -4421351.450477839,
          -4434505.581683519,
          2840442.606641438,
          -4373448.458061619,
          -4467833.298816852,
          -1808821.4806796554,
          -4442460.062848839,
          -4455812.031387206,
          11056705.76935013,
          -4460720.498417422,
          -2322467.6749851312,
          -4457035.443693707,
          -4442979.747749245,
          -4427998.835645527,
          -3480473.714761749,
          -4437010.491049346,
          -4440752.689281819,
          -4464383.285738432,
          7079924.157706458,
          1687102.843283083,
          -4442596.810627957,
          1383812.4641473955,
          -4414569.856142631,
          -4332690.725669612,
          -4457281.290812499,
          -2948553.0266238907,
          -4373510.506348531,
          -3954739.211340516,
          15347710.551611083,
          -4327631.394092251,
          -4398453.662569058,
          -4444265.996179013,
          15198110.618787825,
          -4421779.69117703,
          6495100.584148331,
          -63656.83223920451,
          6322036.312944099,
          -4367844.8760605045,
          -3394891.6591702085,
          -4379312.423422563,
          -4404883.661521931,
          -4423350.027642166,
          -4415036.376561294,
          12644544.415181387,
          -4449919.274529459,
          -4466728.62026623,
          -4441946.243718091,
          -4433405.340777144,
          -4350890.948254556,
          -4453364.508042131,
          8038164.423040203,
          -4426127.119353617,
          -4454237.805043577,
          -4463236.879411432,
          -4458168.8276202865,
          -4448740.709367004,
          -4463041.2276618015,
          -2967631.7846688377,
          -4465204.783015967,
          -4445222.54154913,
          -4446766.671416594,
          -4084209.9737888654,
          -4403177.378796541,
          -4429860.96133023,
          -2892207.7009407883,
          -2193797.2814012533,
          -4445548.01596913,
          -4437242.759894369,
          -480128.1577032894,
          -875540.4687751901,
          -3915646.7211795673,
          -796740.6199325883,
          -3544668.233289682,
          -4381783.903769213,
          -4371822.848841274,
          -231251.63664945384,
          -4194972.681103209,
          9777462.67153869,
          -4409435.421709594,
          -4452774.312459768,
          -4420753.760781981,
          -4444545.899150545,
          -4427232.077926286,
          -4268915.746103053,
          -4394727.980509768,
          -3703142.2285838895,
          -3490276.2995047164,
          31588923.550759397,
          -4462200.854463803,
          -4456356.940819579,
          -4394835.374785319,
          -4431514.11344271,
          -4465678.35287777,
          -4103651.6483973064,
          -4435480.243390579,
          10300168.304314692,
          -4452138.009090138,
          -4454508.838995541,
          -4462207.880707897,
          38565610.94949759,
          -4436359.699097156,
          -4360610.614733408,
          -4443663.416639761,
          -4471124.379405011,
          -4458235.881047478,
          -4456310.290787196,
          -4444793.211515959,
          -3305091.867824887,
          -4460350.644338284,
          -4352729.27021485,
          -4420250.059349934,
          -3055181.194443183,
          -4398798.1299826065,
          -4452102.166417292,
          -4201002.38374794,
          -4011098.90949038,
          -4442877.038632586,
          -4417340.693669336,
          79398.21867843438,
          -4432058.783004252,
          -4449513.816696345,
          39179582.70440371,
          -3767610.6284782635,
          -4496234.040100793,
          -4442330.645683017,
          916141.8055989208,
          -4438303.511936076,
          -4459494.971348427,
          -4394949.203207719,
          -4153236.484819442,
          -3307642.225589231,
          -4432047.3680222295,
          -4457261.761065346,
          -4459016.169319249,
          403369.1487447707,
          1641566.3194284155,
          -4409702.111854258,
          39387289.444975264,
          -3409775.2402910036,
          -3945572.4276102763,
          -3712304.9107850827,
          2804549.682212787,
          62675065.39756866,
          -3441107.10620372,
          -4427076.055992558,
          -4422448.725553348,
          23708858.137541287,
          50921729.525401905,
          -2854333.537756936,
          -4440164.284816175,
          -4455701.327137287,
          -4444106.796621767,
          26648507.646450922,
          21011355.05186808,
          -4349691.481322739,
          -4409568.734723273,
          -4408322.412861591,
          -3854656.176940706,
          -3971903.615864344,
          -3002837.961770317,
          -4464715.164557749,
          -4398118.1860490125,
          59755.508036051055,
          -4465922.759780057,
          -2560660.4553563157,
          -4366823.353726579,
          10523558.543031346,
          -4461317.659946457,
          -4489098.988237565,
          -3438436.5001687687,
          -4447264.1262779245,
          -4008789.6863612374,
          4612623.11981505,
          21192951.88135188,
          28039514.44467318,
          -4462284.724747332,
          -4420179.3144650245,
          -4455864.927075899,
          -3736425.049471257,
          -1268159.4415064643,
          17674561.266065106,
          -4439688.142075648,
          -3195135.916995418,
          -4449993.7206856925,
          977389.5356437259,
          -3455598.266499362,
          -4434058.864902464,
          20552257.454640467,
          -4467352.567070179,
          -4417469.031967972,
          -4429978.880277874,
          -3984358.744453058,
          -4410170.470460977,
          -4461659.260854825,
          -4430753.352118167,
          -811800.0105930329,
          4921912.415010082,
          -4451254.800979433,
          17872830.541370507,
          -2945327.408482336,
          -3992386.058084785,
          -4373523.869184604,
          3241557.9467027737,
          -4444214.116580017,
          11021254.057349116,
          -4102096.2079900964,
          -4469342.397365522,
          -4157021.5755092,
          -4453566.540034117,
          -4416719.579384545,
          -1925713.328491361,
          -4407773.048190077,
          -4461215.4655834455,
          -4459337.3919076715,
          -4455996.602560562,
          -4385234.585042149,
          -4351757.3836378455,
          -4364601.212475177,
          -4445977.485486556,
          -4350672.447759991,
          -4436868.481694784,
          -4453613.5120085925,
          -4021989.191462361,
          1169592.3048019689,
          -4532019.8625614345,
          -2157792.624172327,
          -4447133.881327356,
          -4473911.851589968,
          2006785.8686795167,
          16899869.458769176,
          -4397788.923667048,
          -4234315.739672384,
          10812629.293601278,
          -4402859.997074704,
          -4437733.971878188,
          -2816766.279961809,
          -4452827.253175281,
          -4472575.493531408,
          -4433344.627634166,
          3757833.182584634,
          3342357.6977930972,
          -4421799.675545023,
          -4387967.418173681,
          -4439976.3644596245,
          -4409276.353584396,
          373190.5075195508,
          -4359095.898581532,
          -4431332.995591301,
          -4415591.488415983,
          -4445672.858012901,
          -4438251.004066543,
          -4447229.512261039,
          -4451346.312574881,
          -2907565.9025212512,
          8472431.688560763,
          -4057852.6691468777,
          29695770.87113708,
          -4443578.828694003,
          12416580.969638638,
          8150435.483832874,
          -4460149.2689938005,
          -4413886.332116169,
          -4488131.264356416,
          -4401749.855159479,
          -4499535.352569754,
          -4453123.6144635,
          39328025.34567349,
          -4427461.624272566,
          -2872848.879745947,
          -4422956.926494237,
          -4442434.687144972,
          3496251.747219241,
          -1399802.3482668505,
          44616747.657846905,
          -2419161.6443927353,
          -292150.46150587004,
          -1555081.5441340613,
          -4365249.260502875,
          -4419201.320039058,
          -4345031.019728799,
          -4424380.632726795,
          -4438842.625632838,
          -4401210.71222954,
          -4438347.029752153,
          -4590184.8738304395,
          -4374305.496319728,
          -4730862.553074439,
          -4450178.083948117,
          -4499539.807093589,
          -4434553.804734171,
          -4444302.046428284,
          -4480981.286266423,
          -4357322.963120529,
          -4075532.961501718,
          -4423843.971240506,
          -4448344.958544952,
          -4381202.191565437,
          -4437907.132708672,
          -4482346.110713443,
          -4448401.061123749,
          -4375904.875254915,
          -4214803.626859191,
          -2186222.292054643,
          -4456169.310152478,
          -4461353.852244176,
          2052744.2449498102,
          -2958923.1941246623,
          -4284178.7819245765,
          -4105623.9707024056,
          -4284972.289791871,
          -4456359.574684219,
          -4449195.011131098,
          -4307990.512314416,
          -703227.4083558935,
          118298123.35706235,
          -4429515.60179322,
          -3280764.4869133704,
          -1463541.985025101,
          -4465107.858902262,
          -4412606.219649619,
          9715124.70931329,
          -3291561.2011661725,
          64092201.34160729,
          -4455705.878509198,
          -1720924.4062600893,
          40672909.86386387,
          -4351178.55945637,
          -4430311.343030919,
          -4273382.629328232,
          13163020.407113435,
          8789844.332761157,
          -4509130.110454516,
          7497415.044020586,
          6432297.264221684,
          -4452878.380753612,
          -4206686.873849826,
          -2231405.7753269854,
          -4394459.06625836,
          630526.7156836822,
          -2642261.708176206,
          -4328056.957827284,
          -4441337.9217770295,
          -4381918.818425432,
          -4429914.703526335,
          -4276993.61531173,
          -4478929.190652577,
          -4483927.626494582,
          -4762162.178297304,
          -4542278.644810226,
          -4367766.398845312,
          -4335801.261086924,
          -4440482.795777065,
          -4446351.255946926,
          -4459730.090128565,
          -4477163.176437963,
          -4195646.5965260705,
          -4448064.217401898,
          -4396627.383188752,
          -4456157.109467396,
          -4375454.016701333,
          -4052209.1657731785,
          -4431954.673123294,
          -4444111.765455793,
          -4460970.562762492,
          -4414989.3520409325,
          -4418919.373916263,
          -4453891.653250536,
          -4682770.4029626185,
          -4561841.386939058,
          -4473763.852349396,
          -4516931.249163643,
          -4359778.466713781,
          -4394764.137184352,
          -4475372.234161324,
          -4420249.204965771,
          -4317572.823811306,
          -4384383.29093159,
          -4541798.624860982,
          -4616170.928077338,
          -4405053.09079217,
          -4474528.82483397,
          -4463796.125735192,
          -4405273.2649213,
          -4731971.836776434,
          -4591436.142510516,
          -4446465.305723197,
          -4427967.397107133,
          -4629162.208516283,
          -4421663.414036968,
          -4349243.10990365,
          -4466439.272292305,
          -4731228.482311945,
          -4453140.522740315,
          -4678719.307045856,
          -4530042.598658671,
          -4218570.240252232,
          -4473942.43451241,
          -4460287.166076982,
          -4428777.140928368,
          -4409943.607772298,
          -4436867.777846699,
          -4441571.209748073,
          -4413287.180388315,
          -4482966.327304393,
          -4454930.870747377,
          -4454776.803713844,
          -4444200.715919228,
          -4444592.238728989,
          -4468752.15884683,
          -4485543.849038775,
          -4735367.734616292,
          -4445150.124656302,
          -4556162.102420322,
          -4454987.776789943,
          -4251864.734289728,
          -4653072.41254213,
          -4448722.324851334,
          -4572644.325681508,
          -4491453.794971233,
          -4817191.157904087,
          -4456954.211586646,
          -4472151.038272365,
          -4510814.813899546,
          -4492910.789914073,
          -4441491.230386424,
          -4437618.953555419,
          -4439631.772963912,
          -4356811.26423148,
          15771171.299517533,
          -4403528.603769342,
          -4319958.247569073,
          -4455475.431957789,
          -4453364.038937069,
          88556972.27195969,
          -4393135.110244236,
          -4298755.508293889,
          -4460373.630772309,
          -4314833.340231511,
          3173607.785494589,
          -4436663.041792758,
          9761267.51452812,
          -4433603.5988268955,
          13111485.728084356,
          -467937.93300483155,
          -1203476.6986355516,
          -4425625.933641709,
          -4428934.288846501,
          -4427535.41816585,
          -3941877.701394779,
          34474578.984999605,
          -3624477.152104844,
          -4426110.654466829,
          -4428240.3580688,
          -4452153.399012929,
          -4383861.039238966,
          -4419314.608571417,
          -4469683.778065936,
          -4330407.398704844,
          -4433772.806659181,
          -4312894.104223294,
          17231137.514142383,
          -4429157.765063252,
          -2981100.641265542,
          -4130342.581993236,
          -4416549.523380185,
          6653899.518284938,
          2361082.162997271,
          84384840.53450845,
          491362.43067041546,
          89255577.77781606,
          6082248.0727970805,
          -974648.3653641175,
          2474067.390209179,
          -4454070.019586807,
          -3874436.5314402585,
          -4099806.760922079,
          11684340.846491264,
          -4444748.959611358,
          -3101786.268070957,
          -3618662.1018404597,
          -3299568.1231557745,
          14808866.174395295,
          -4421542.25146306,
          -4459069.818816849,
          -4431583.541128684,
          -4411764.586857161,
          -3152042.6102682184,
          -4092920.673400308,
          -3542979.8038929426,
          -4462553.832661223,
          5038740.251441896,
          -4450129.060522582,
          -4450802.932368683,
          -4430407.784177513,
          4225894.876453734,
          -4113114.0058251587,
          -3593835.459047179,
          -4451156.766343714,
          4528014.166638019,
          13395555.214545818,
          -3407954.5561226946,
          26351125.81563134,
          -4380542.498684952,
          5184034.450160156,
          40979019.97586527,
          -4445354.5903664855,
          -4458530.286130992,
          -3749750.2342897234,
          -4418979.239915569,
          -4303151.835602524,
          -4456299.181857322,
          -4408441.408825643,
          -4330891.1381715685,
          -3799481.53064157,
          -4049599.735608854,
          -4397598.807356915,
          -4385081.479556307,
          -3774048.4253829196,
          -4443084.125989126,
          30796499.575866755,
          -4440708.353620255,
          -4454967.585079352,
          1989337.4192581575,
          -3789349.571144952,
          -85153.63627362097,
          -3961765.2664465527,
          -3641209.7117001177,
          -4412634.028122317,
          34251411.37966932,
          -4387463.066372806,
          -4050482.5256401547,
          -4329997.200465727,
          -4433216.849861564,
          -1391796.0706259448,
          -4444222.960900848,
          19871022.18271922,
          -4457895.945874425,
          -4439848.392061726,
          -4460949.457323694,
          -4459103.007027113,
          -4453377.396042932,
          22084380.99370129,
          -3927013.987077225,
          -4142035.832462136,
          -4452507.39839218,
          12151554.890881311,
          -4439745.561491421,
          277511.7101620734,
          -4460859.992043418,
          -4441555.01299683,
          6617595.102053898,
          -4228891.598617554,
          6191241.452730493,
          -4434865.945922082,
          -4400695.532806482,
          -4440752.326611238,
          -1633458.2159770941,
          153482867.7703057,
          973092.2354351822,
          -4423938.03555499,
          -4396606.577613755,
          -1885877.6020173058,
          -4218507.756155009,
          -2726329.086687936,
          -4275510.184581895,
          -4450244.212588591,
          -3781591.666293846,
          -4349801.167532358,
          -3298540.854569779,
          -4408980.8211840205,
          -4427837.297483577,
          -4454455.779119867,
          4834333.758460982,
          -4399717.003082533,
          7684575.607923254,
          -2590559.3020345327,
          -1567686.825564772,
          -3762337.0298448657,
          -4411150.231605029,
          -4422206.299006571,
          110514.16920711717,
          -2270858.809789849,
          -4423335.908291577,
          9610112.979197808,
          21562663.04173908,
          24729957.01150621,
          1663728.6856412392,
          1780254.645951208,
          -4392876.178315027,
          -4445249.687172386,
          -4341896.831954392,
          -4460062.722958936,
          41916164.6324594,
          -4145154.2379481606,
          -4441984.915687463,
          64541559.893643916,
          -1926100.5214135535,
          -4483957.939602486,
          -4474534.32717341,
          -4460764.908206663,
          -4422973.363301294,
          -4400433.40548575,
          -4456887.283205277,
          -4468362.886257514,
          -4457996.785272965,
          -4332915.927058265,
          -4452635.212803338,
          -4446198.169074225,
          -4445960.552543639,
          -4455195.939043091,
          -4613958.865272255,
          -4430648.638184404,
          -4403522.320732196,
          -4166439.8627016186,
          -4426461.030370718,
          -4465685.653907626,
          -4388350.293538646,
          -4460838.930049404,
          -4462511.531841353,
          -4233051.691362715,
          -4246634.866742258,
          -4441379.840079883,
          -4452225.136573622,
          -4413553.584173516,
          -4457687.176010258,
          -4473548.912941913,
          -4407238.682092724,
          -4430622.520819196,
          -4431230.653293655,
          -4408589.837354433,
          -4541703.652344249,
          -4356098.198777053,
          -4472647.580124078,
          -4441113.403360739,
          -4450412.6384868575,
          -4459240.634097005,
          -4525193.0280633075,
          -3886628.059490183,
          -4472625.851777679,
          -4452809.219454832,
          -4422845.58787725,
          -4441391.8362664925,
          -4432116.739608801,
          -4454913.873951445,
          -4459238.978724279,
          -3461076.325365534,
          -4442571.812334513,
          -4461537.721411515,
          -4612039.873276431,
          -4410874.917841864,
          -4362399.495687302,
          -4453322.640592706,
          -4461283.7357263295,
          -4471537.130956195,
          -4451685.648912957,
          -4468275.749712436,
          3995100.9082128936,
          8578967.444545379,
          495528.01826007734,
          -4430098.074838027,
          -4446883.124067241,
          -4442562.697116022,
          -4451123.95804935,
          -4431768.604981038,
          -4434103.103101182,
          -4472199.7175676795,
          -4454864.7302229265,
          -4443983.71129283,
          -4477071.214581358,
          -4435941.748568848,
          -4445340.58671412,
          -4437192.656351622,
          -4379292.046987525,
          -4446762.612845036,
          -4442341.853084582,
          -4453787.887859599,
          -4473157.574180667,
          -4483277.652516993,
          -4447974.83177334,
          -4394214.778497178,
          -4377012.790740497,
          -4446773.317373343,
          1905948.8187681509,
          -4403050.461765356,
          -4450961.748523391,
          -4430502.177361001,
          -4579599.774099508,
          -4440690.7257662425,
          -4414210.507089172,
          -4464872.624018188,
          -4440037.72393546,
          -4413823.687945651,
          -4460902.982559673,
          -4463207.224949673,
          -4416473.348810766,
          -4812974.348280714,
          -4429171.802000093,
          -4409003.822052858,
          -4468365.121481376,
          -4440072.046362711,
          -4458051.194274183,
          -4453899.134555646,
          -4459880.807729813,
          -4750125.028035958,
          -4434282.096623814,
          -4420695.630651466,
          -4445268.54646936,
          -4461725.655811882,
          -4451641.587395916,
          -4462928.096095032,
          -4459930.829254191,
          -4425819.592348104,
          -4441476.586488217,
          -4450685.943818326,
          -4511582.680515567,
          -4473394.688047951,
          -4441205.457898291,
          -4450395.734810738,
          -4450489.617578387,
          -4424457.127429019,
          -4439045.775275431,
          -4457608.904693974,
          -4525649.607825639,
          -4349450.530467351,
          -4518152.967190056,
          -4372108.593720982,
          -4426904.845564562,
          -4452274.452049223,
          -4453846.879598182,
          -4470313.281183332,
          -4416264.545164708,
          -4497337.311028562,
          -4482629.149407257,
          -4501439.74660216,
          -4555764.927983266,
          -4440768.789294782,
          -4464371.991317235,
          -4377426.291310423,
          -4455968.557891015,
          -4632625.226353941,
          -4453050.142094777,
          -4469670.742816697,
          -4450536.341926885,
          -4456495.256020539,
          -4454249.935314543,
          -4454715.260016663,
          -4457278.8555157585,
          -4449550.8051784905,
          -4763089.953232088,
          -4466679.5435234,
          -4428553.219360378,
          -4490799.1755701555,
          -4442801.040603871,
          -4468969.821770289,
          -4433194.76038614,
          -4460204.958401567,
          -4380819.139801215,
          -4465607.45019855,
          -4445406.882255145,
          -4498583.690888852,
          -4460676.572397915,
          -4432809.403322535,
          -4535511.535842856,
          -4441785.263505864,
          -4418544.237929106,
          -4464805.824478572,
          -4508043.8134836815,
          -1614477.9101625523,
          -4464479.696216633,
          -4154674.8409329862,
          -4468396.616843169,
          -4494904.120204633,
          -4466254.908439331,
          -4491975.866006958,
          869262.2954982315,
          -4473856.534293364,
          -4458987.13480487,
          -4425156.567064969,
          -4474521.248429259,
          -4454185.528843569,
          -4304512.68670954,
          -4020476.780624441,
          -4481967.050844408,
          -4405899.857500783,
          -4486552.584132071,
          -4495135.409285126,
          -4477477.984200011,
          -4487331.342075894,
          -4460447.171536203,
          -4475832.87733959,
          -4477280.345286651,
          -4485273.698134466,
          -3957128.291884428,
          -4485944.949108351,
          -4486446.695321915,
          -4440512.7201630315,
          -4473554.626857071,
          -4483997.405191574,
          -3094569.330910658,
          863212.8344403324,
          -4481751.204779477,
          -4367231.774743661,
          -4487563.557364577,
          -4476809.332852857,
          -4473421.154492806,
          -4479067.259045849,
          -4479271.556759255,
          -4470445.756002852,
          -4481231.937625197,
          -4477543.879319583,
          -4483704.329557553,
          -4476950.224905959,
          -4276707.676541774,
          -4459936.161223265,
          -4474716.438793238,
          -4473085.245717348,
          3348633.4191331826,
          -4480723.772031286,
          -3724084.5311276056,
          12186281.706978971,
          -4335901.175422389,
          -4479028.511702018,
          -4468717.719924427,
          -4475997.83570384,
          -4495456.759697322,
          -4497969.412712033,
          -4473156.970563142,
          -4471232.037484725,
          -4484242.76358393,
          -3401481.4711306603,
          -4488183.955107147,
          -4483090.1362945605,
          -4481163.560306918,
          -4392740.623852972,
          -4482237.141433286,
          -4501477.074537571,
          -4497978.053641183,
          -4464493.4329292895,
          -4465248.102629403,
          -4443890.358242201,
          -4485257.383911986,
          -4480853.145918987,
          -4501248.812443645,
          -4480169.868592874,
          -4323670.12426832,
          -3686650.9857550496,
          -4470787.938339809,
          -2535637.641418801,
          -4487183.8233933,
          -4337104.775621878,
          -4439017.523755347,
          -4496369.479858547,
          -4479492.39550079,
          13516107.514864735,
          -4457769.74674434,
          -4470252.624215141,
          -4475422.997133043,
          16297637.38703193,
          -4460386.44059256,
          -4469787.324062908,
          -4440771.900799154,
          -4470894.634382642,
          -249946.5491027307,
          -4476107.687155056,
          -4475928.948988122,
          -4451198.3440591255,
          -4470258.53599415,
          15169198.605077248,
          -4484582.709178695,
          -4635475.9312762385,
          -4489329.29095838,
          -4465988.860076411,
          -4457282.608445001,
          7005339.001957,
          -4452154.122922521,
          4922962.87356177,
          -4464651.744635696,
          -4500999.213054978,
          38453616.13895081,
          -4486413.859319311,
          -4449489.969113544,
          -4464385.395770567,
          9514634.615328565,
          -4477446.524419761,
          -4422093.390599036,
          -4436074.021342488,
          -4474665.346527973,
          -4473334.49483899,
          -4483372.497298077,
          1110994.257988006,
          -4342675.435660434,
          -4478760.046085522,
          -4429953.423025835,
          -4458996.7523809,
          -4451961.286238872,
          -4553418.795523983,
          5188499.682467451,
          -4513083.163952282,
          15812420.385015052,
          -4477947.746745332,
          -4461886.971171098,
          1170605.578608688,
          -4475731.409088283,
          -4505398.784065689,
          -3799093.018845659,
          -4480291.919075459,
          -4515385.9667481175,
          -4476634.804021842,
          -4483960.665815984,
          -4473037.751846884,
          -4482687.261477182,
          4804151.576566102,
          -4482156.352812455,
          -3820079.4455545824,
          -4472494.33457265,
          -4477933.939709956,
          -4470759.553484255,
          -4496297.509578294,
          -4512894.8100359915,
          -4466310.495425967,
          -4468427.447353236,
          -4474119.559210064,
          17679157.109829642,
          817584.3358731802,
          -4187003.925825858,
          -4458657.099659401,
          -3556418.6924975775,
          -4457150.568767145,
          7872109.561998268,
          16966165.3313584,
          -4467703.30099855,
          -4460824.124662779,
          -4470856.930270392,
          -4496847.1816740325,
          -2376690.344375789,
          -4465664.197297166,
          -3859412.468582428,
          -2630863.7558358125,
          -4538764.539295302,
          -4442006.061077886,
          -4397088.891273844,
          6728864.252516806,
          -4490787.205103082,
          -4482360.993674925,
          -4481424.359597521,
          -4481827.403321293,
          -4462618.738430451,
          -4459995.862947745,
          -4507607.126931505,
          -4480004.318777475,
          38596875.74637726,
          -4482801.284169632,
          -4477965.517867057,
          -4486773.161737724,
          -4540723.535323174,
          -1224550.4222353175,
          -4448034.776947106,
          -4438986.483780437,
          -4450675.454668803,
          -4497277.652007156,
          -4498596.257710502,
          -4457742.569219137,
          -4488316.310201823,
          -4468493.46617295,
          -4464009.128774904,
          -4491062.7853293,
          32116010.27484954,
          -4480569.816923816,
          -4499988.5156548405,
          -4476628.566907888,
          -4470901.17327159,
          -4490787.647804944,
          -4451698.6703891745,
          -4493978.526840536,
          -4491858.565681972,
          -4484308.09327804,
          -4526120.178161032,
          -4552972.186932315,
          -4501291.254824056,
          13924679.55354327,
          -4493262.114378612,
          -4498555.106973574,
          -4480057.27748934,
          -4489686.408628995,
          -4456557.9941300405,
          -4483089.502412148,
          -4449896.876028998,
          -4475869.9478570605,
          -4485991.27440849,
          -4477752.370526615,
          -4432554.308490164,
          -4485645.231529522,
          -4465323.667314959,
          -4475360.659027715,
          -4483976.904415131,
          -4488062.506542432,
          -4474201.472719736,
          -4159381.052808561,
          -4500756.503030114,
          -4466179.969873475,
          -4491605.18637073,
          -4476261.571856155,
          -4474578.287957173,
          -4465535.642570025,
          -4490133.353357133,
          -4485308.364224812,
          -4477165.476629754,
          -4490724.515026893,
          -4483997.054874018,
          -4491273.771607152,
          -4546138.216182619,
          -4478411.63034501,
          -4483229.297637089,
          -4481490.1118886685,
          -4476815.307313332,
          -4434592.835026263,
          -4478716.195590819,
          -4488207.027582901,
          -4472007.184375811,
          -4495073.380110278,
          -4489639.6392667135,
          -4435512.550295362,
          -4483404.837023877,
          -4479028.244705242,
          -4475292.747041099,
          -4488911.504601974,
          14141374.483729681,
          -4445847.557521538,
          275728098.7882433,
          19613424.655572537,
          136088719.34284493,
          -4445009.585301058,
          -3596208.7684772173,
          31528000.898442138,
          -4437169.153173085,
          23490295.562590595,
          -4479150.022685605,
          -4445106.260682093,
          9373900.93390951,
          -4464772.410033513,
          49916227.038131654,
          -4429873.979192968,
          -4418621.604389955,
          -4472858.841686807,
          -4454436.177321289,
          -4453485.595501409,
          -4447269.778485084,
          -4495346.16667508,
          -4425339.467823585,
          4693719.647502134,
          1174376.1857190537,
          -4436467.561221664,
          -3334245.3904521423,
          -4362820.558128264,
          68654036.97044206,
          -4356049.819491305,
          -4448645.383616849,
          -822088.8483845122,
          -4411780.527163538,
          -4480827.155541196,
          11340884.731568512,
          1608310.2414629208,
          -448920.11045980576,
          -4426139.106743708,
          -4461619.209275981,
          77165668.52170621,
          -4460129.304190984,
          42415124.481403425,
          -4479052.325984173,
          -4479005.507986789,
          -4471596.72760546,
          -4473295.209411516,
          -4479963.828381318,
          -4487172.801550513,
          -4481728.411984972,
          -4467087.937225323,
          -4472534.650088771,
          -4433917.627583934,
          -4453448.0888687605,
          -4474359.951055633,
          -4496815.633759181,
          -4479191.71937576,
          -4475826.835618376,
          -4573480.785867824,
          -4492401.325862564,
          -4471023.616197222,
          48713877.560963474,
          -4490128.395718437,
          -4631628.327526504,
          -4448169.1429450475,
          301538659.74866766,
          -483259.6881826941,
          18075346.737603165,
          -2783799.9955041795,
          -4505329.98697267,
          -4495083.686954983,
          -4491332.152681431,
          -4472358.045839804,
          -4482777.1813472975,
          -4491200.825653299,
          -4484995.688297939,
          -4508198.906603492,
          -4492423.035718316,
          -4487163.808420628,
          -4500843.633047556,
          -4468704.555745506,
          -4481557.702410029,
          -4510846.34647611,
          -4457256.364435343,
          -4482829.362058303,
          -4476573.745280395,
          -4419673.876755055,
          -4470497.18863531,
          -4464136.379882449,
          -4456675.095342679,
          -4457232.797992417,
          -4466004.8249661345,
          -4356186.045542941,
          -4608323.979073651,
          -4276688.331663408,
          -4442395.283751741,
          -4391487.9158435855,
          -4466394.692621189,
          -4449463.930302688,
          -4490391.610465785,
          -4452939.29590173,
          -4403380.722647122,
          -4455667.869811782,
          -4450902.679870632,
          -4422355.519528573,
          -4625603.873331732,
          -4423227.856229087,
          -4471966.839882654,
          -4484883.487517677,
          -4489183.859841338,
          -4472261.949795247,
          -4453421.921160207,
          13352696.209530614,
          -4380372.623320131,
          -4385823.701688377,
          -4415436.750293887,
          -4450236.322575862,
          -4456743.546457824,
          -4658209.5051098205,
          -4405717.496133854,
          -4471496.239060917,
          -4509296.264895535,
          -4435534.985085404,
          -4119590.6122395913,
          -4459644.540194407,
          -4524773.456183572,
          -4442465.375562584,
          -4354997.5575520275,
          -4551709.6799366055,
          -4487222.900345085,
          -4482569.153423257,
          -4444559.523352385,
          -4471010.466059699,
          -4438287.441304312,
          -4459950.831824902,
          -3905568.1579075204,
          -4355822.874848494,
          -4454696.30151029,
          -4395947.9461700665,
          -4444493.438511176,
          -4456889.673625441,
          -4472378.199407903,
          -4411391.9385358365,
          -4483900.261902783,
          -4206790.274276837,
          -4466415.6316387495,
          -4510197.130250126,
          -4256713.296320746,
          -4264778.039603959,
          -4468127.742824076,
          -4420761.580508548,
          -4449615.9058184605,
          -4428979.910121851,
          -4451275.995856771,
          -4436069.7146124225,
          -4509594.871090207,
          -4387908.884195925,
          -4476475.051048791,
          -4415569.691258966,
          -4441773.043977998,
          -4460285.83124314,
          -4335287.228594894,
          -4379617.0544963665,
          -4431699.679603336,
          -4534907.067893156,
          -4437151.988880227,
          -4488692.881437115,
          -4423251.3723639585,
          -4480930.780581264,
          135192.75560862783,
          -4476793.292032464,
          -4472983.978724628,
          -4484871.611411283,
          -4485371.972346673,
          -4473309.724645667,
          -4464153.229896876,
          -4462171.775251841,
          -4496517.299522282,
          -4509113.76718785,
          -4484344.769992117,
          -4498951.367157568,
          -4496987.841054402,
          -4537426.034990184,
          -4474884.240646347,
          -4518852.807610436,
          -4414316.735774213,
          -4481907.018133617,
          -4486869.032407369,
          -4479023.531711453,
          -4471030.009378348,
          -4447268.713420965,
          -4476641.741624302,
          -4483223.954591489,
          -4511033.454838712,
          -4476390.962008645,
          -4486964.652315145,
          -4037738.377256861,
          -4483932.347822947,
          -4482537.957485723,
          -4485944.3108784,
          -4486854.930629728,
          -4517831.789175768,
          -4486627.365999524,
          -4481050.673477633,
          -4477138.150156733,
          -4484995.504678767,
          -2964893.5128609976,
          -4482805.021005326,
          -4482514.505786789,
          10337822.864002438,
          -4471027.329089113,
          -4461010.789220683,
          -4503060.337581472,
          -2857917.6055330774,
          -4506969.394212919,
          -4525891.073820075,
          -4476562.211132514,
          22349073.625966154,
          -4466103.254716568,
          -4491319.165880321,
          13613690.554757114,
          -4565310.232532037,
          -4485476.326026204,
          -4488911.051846988,
          -4485558.961645534,
          -4491516.155578499,
          -4479910.848864491,
          -4490517.38319668,
          3894151.72561168,
          -4491613.2273975685,
          -4498168.722502283,
          -4480702.0008895425,
          -4469582.348750563,
          -4473027.3811629,
          -4487545.060056041,
          -4462692.609266173,
          -4476577.268968225,
          -4488112.589074563,
          -4477887.317273214,
          -4480725.6323917415,
          -4485247.467803722,
          -4473642.370464856,
          -4486347.705141873,
          -4489417.616031567,
          -4509745.782250376,
          -4486576.960618945,
          -4449329.419575081,
          -4472370.9499591,
          -4476694.763654648,
          -4474632.943181676,
          -4494200.819759514,
          -4468896.541008854,
          -4473497.8744514985,
          -4486854.772819354,
          -4516143.034385676,
          36280362.31381878,
          -4470742.744270512,
          -4491760.521796241,
          -4505354.172983195,
          -4482139.930447339,
          -4464737.801141191,
          -4472166.020685081,
          -4472347.395134494,
          -4481138.680833689,
          -4460444.360174308,
          -4466461.814431851,
          -4511122.878692449,
          -4490470.406240598,
          -4371882.085918632,
          -4470499.328109881,
          -4489996.083108928,
          -4485682.996754109,
          -4478716.383327444,
          -4482167.16507074,
          -4497555.761804611,
          -4483939.983062947,
          -4481498.468911156,
          13935557.10232236,
          -4481741.604328569,
          -4467906.437085172,
          -4466183.819246562,
          -4487245.594952485,
          -4163483.0003082207,
          -3468920.8234335734,
          -4483932.697093347,
          -4480707.268039692,
          -4524278.262413157,
          -4475705.255067062,
          -4480022.7337505715,
          -4484646.758787716,
          -4487732.706135934,
          -4468031.742410363,
          48154200.95715911,
          -4453647.322670857,
          -4491461.16308053,
          -4458774.6513292445,
          -4478496.228859468,
          -4285384.682024582,
          -4477208.648282133,
          -4496186.345733059,
          -4485803.47691743,
          -4479500.059543581,
          -4472165.688300276,
          -4476592.7464211425,
          1742857.8246422457,
          -4478247.488312387,
          -4535342.1882309485,
          -4450370.088041189,
          -4472549.506550861,
          -4471791.550474854,
          -4475714.976412284,
          -4509261.373454943,
          -4470025.406456472,
          -4503905.832490594,
          -4474832.084356045,
          -4548695.36069536,
          -4481621.044198228,
          -4457580.966168239,
          -4505068.669422742,
          -4485751.575248794,
          -4488978.815115138,
          -4475654.116707639,
          -4415232.760609824,
          -867471.8800963805,
          -4451278.688903149,
          -3964378.2243016083,
          -1335747.7712427396,
          -4460462.065663582,
          -2639819.4861649596,
          -4485975.537508804,
          -4470549.616060347,
          -4482709.290805823,
          -4478748.392342881,
          -4481421.188337638,
          -4467259.590271837,
          -4468466.690790374,
          -4480489.60938171,
          -4436840.065990279,
          -4467978.20001564,
          -4496025.939831156,
          -4447337.09451408,
          -4483008.148232542,
          -4445620.9206436565,
          119583664.12332895,
          -4479009.744638745,
          -4326159.527254183,
          -1218859.7302192997,
          -4476434.27281012,
          -4491779.089148062,
          -4478271.429091649,
          -4477947.118949797,
          36875318.49182416,
          -4478196.583791591,
          -4472024.583722687,
          -4478802.921271688,
          -4026372.8763022344,
          -4473969.752558861,
          -4482338.677112208,
          -4480283.749717857,
          -4473466.439907799,
          2365496.322139598,
          -4484537.641282813,
          -4480323.756894966,
          -4486952.259509372,
          -4477289.535269869,
          -4469383.215900458,
          -4475569.74104026,
          -4475534.3427110985,
          -4478331.940835551,
          -4473694.317621815,
          17584486.68149654,
          -4461599.067561711,
          -4473420.4417210445,
          -4479649.966821127,
          -4463762.67731175,
          -4471451.528099009,
          38369322.65729648,
          -4520495.412332253,
          -4424292.775918546,
          -4481027.977080115,
          -4484321.369242852,
          529534.3087498492,
          -4472483.854168255,
          -4482146.129695592,
          -4488083.365502159,
          -4490829.596035066,
          -4496055.028924518,
          -4477435.03435957,
          -4309081.039533757,
          -4488359.6390545415,
          -4495457.594495384,
          -4477483.60417056,
          -4485104.252258734,
          -4072590.638434499,
          -4485375.531388169,
          -4508403.705681916,
          -4479465.405776362,
          -4477050.453291584,
          -4491795.649435822,
          20041820.519962728,
          -4493588.484588905,
          24233356.584862538,
          -4487382.556736177,
          -4494371.60779301,
          -4498849.519344954,
          -4463783.487778131,
          -4474174.504032219,
          -4487247.391708441,
          -4498052.026914065,
          -4476148.765293121,
          -4483478.607909231,
          -4483321.624903197,
          -3409853.2465350754,
          -4488538.030534389,
          -4414112.68380061,
          5306797.285963246,
          -4494347.25778128,
          -4426822.344811236,
          -4445439.096761842,
          -4481133.899521019,
          -4493549.887426695,
          -4472202.538270618,
          -4483022.276030574,
          -1902852.1634278845,
          -4475697.460149349,
          -4476226.8254747,
          -4465051.2131446395,
          -4470466.900743409,
          -4319459.79185659,
          -4427470.5457724435,
          -4460786.678333912,
          -4482982.0112815555,
          -4458225.854148883,
          -4490378.858750732,
          -4323913.538639206,
          -4498356.022125842,
          -4458418.504981277,
          -4368446.243104159,
          -4488557.570369426,
          -4492374.595221482,
          -4483647.880334634,
          -4500352.570289885,
          -4487727.831837102,
          15974542.272806339,
          -4385101.42296062,
          -4460542.196277593,
          -4474949.754061622,
          -4480423.139902226,
          -4476467.093228668,
          -4484997.567126501,
          -4432802.820314707,
          -4262287.258451673,
          -4473801.686216818,
          -4469545.655018975,
          -4450182.438271889,
          -4380244.482360568,
          -4492912.501778884,
          -4469797.003269243,
          -3743831.5219042185,
          -4483224.665423109,
          -4405096.820421479,
          -4467205.563485763,
          -4481162.715728037,
          -4488930.768761596,
          -3625083.54093926,
          -4437565.935954075,
          -4446898.5498295985,
          -4480340.684675901,
          -4453953.231382898,
          -4459465.570676681,
          -4415346.158218036,
          -4438191.240220522,
          -4459040.060559595,
          -4443403.857667822,
          -4450991.111444001,
          -4461077.729328031,
          -4453495.504785673,
          -4459199.341994225,
          -4433168.068364015,
          -4479952.789443967,
          -2316486.7658211524,
          -4553719.161427545,
          -4343310.579127372,
          -4435006.7672371995,
          -2389114.2230995945,
          -4444835.070994785,
          -4461762.476341149,
          -4483307.420366084,
          -4469264.605699469,
          -4490521.649196503,
          -4484572.403598069,
          -4451390.153800512,
          -4485791.907274758,
          -4476127.997505662,
          -4471613.96400456,
          -4452661.932067744,
          -4459462.221178795,
          -4471421.353140442,
          -4475348.244846684,
          -4450813.054224347,
          -4457489.948099748,
          -4471881.461241355,
          -4481802.947643416,
          -4448890.9169576205,
          -4459652.594368912,
          -4475169.071351992,
          -4683083.105501463,
          -4459580.255422293,
          -4458173.397807084,
          -4480065.918273538,
          -4481759.549449247,
          -4467273.376130109,
          -4482865.803080026,
          -4471614.388356883,
          -4489877.976625531,
          -4474811.936957409,
          -4479872.259338007,
          -4482927.938259385,
          -4471272.52982757,
          -4457953.15333482,
          -4463672.440136976,
          -4429637.744398872,
          -4441802.8562916685,
          -4071185.1575938133,
          1320149.6390323935,
          -4412326.397177788,
          -4435112.04521189,
          243132459.90367657,
          -4465948.896409332,
          -4492735.809849694,
          -4470168.615781887,
          -4479497.173596185,
          -4485130.1179518,
          -4427136.758537483,
          -4434223.281249277,
          -3513536.148380334,
          -3777106.91277516,
          -4482532.977844344,
          -4496054.425906806,
          -4465411.910652538,
          -4482780.536685658,
          5381237.681934927,
          -4468272.26568697,
          -4476774.218650691,
          -3684049.5237326585,
          -4464646.966259337,
          -4476766.689857392,
          -4484274.950464718,
          -4480706.889505552,
          -4454677.284250198,
          -4492828.904992957,
          -4490237.45911516,
          -4556664.013803154,
          -4493035.798946297,
          -4385355.680700443,
          -831059.1738123948,
          -4470060.315453341,
          -4470556.106932054,
          -4462810.545355743,
          -4467618.13658163,
          -4481842.094887083,
          -4488388.048735772,
          -4449553.920158601,
          -4354224.508288272,
          -4454525.589561146,
          -4512216.618296262,
          -4474818.390706734,
          -4444602.7532359045,
          -4463297.939384781,
          -4480385.473796712,
          -4478632.570438025,
          -4522714.563223894,
          -4400421.208651093,
          -710244.095639635,
          -4502881.155730235,
          -4358999.033921336,
          -4429237.833499017,
          -4442843.208479067,
          -4428646.831149423,
          -4466498.323367415,
          -1507064.9508504441,
          -4487806.223124418,
          -4480519.4393492825,
          -4483614.193379708,
          -4418962.618483164,
          -4476078.782235873,
          -4461253.425156127,
          -4487013.4662088,
          -4450340.559552708,
          7113155.534808707,
          10427715.565283328,
          -4496312.823367612,
          8478113.130157074,
          -4464647.607266806,
          -4488093.0227003535,
          -4479065.449679267,
          -4487631.604879047,
          -4474864.670834075,
          -4489285.799724128,
          -4390931.249512437,
          -4479801.349519197,
          -4463781.9794805255,
          -4485845.602529104,
          -1866419.102500526,
          -4485401.742625565,
          -4479280.387022961,
          -4485547.674967179,
          -4496515.717493476,
          -4542102.6673423685,
          -4480408.969443814,
          -4507477.6433298,
          -4369503.142594772,
          -4469418.9487041915,
          -2707660.886471966,
          -3230617.0218601874,
          -4476218.6223870795,
          -2895034.3145315005,
          -4487952.035309488,
          -4474073.944493885,
          -4424181.159696956,
          -4430407.6208947785,
          -4478804.940517388,
          -4482050.174230894,
          -4483516.82231284,
          -4474814.513723773,
          -4488540.0862701405,
          -4467743.857269367,
          -4512390.486091919,
          -4484146.052742137,
          -3530334.196242357,
          -4480829.538382934,
          -4491173.520238373,
          -4457188.942977571,
          -4356616.120646504,
          -4462490.681344065,
          -4417626.395976383,
          -4488087.801469671,
          -4478968.446504216,
          -4479617.790212074,
          -4466295.98147176,
          -4479781.155211181,
          -3750087.9623903134,
          -4470039.915924766,
          -4496108.312102399,
          -4480299.280805967,
          -4485755.642564302,
          -4442784.221857802,
          -4467071.962531167,
          -4508144.454685755,
          -3570317.936774105,
          -4495786.482474642,
          -4369146.0691883955,
          11334357.904283945,
          1583692.3966766626,
          -4501131.123763477,
          -4479179.603088849,
          -4487052.053860363,
          -4480761.957773626,
          -4488941.008781031,
          -4475203.450502078,
          -4453967.812942824,
          -2420698.256918669,
          -4486219.623816223,
          -4362752.517236313,
          -4436356.206976104,
          -4487086.183722151,
          -4472793.821848258,
          24844919.04045376,
          -1846606.5285247657,
          -4477275.260619266,
          -4443054.068632271,
          -4485243.200555197,
          -4390711.416866519,
          -1377613.3976723813,
          -4477733.019187722,
          -4491383.232803939,
          -4501378.211865791,
          -4478405.195003829,
          -4479579.233997557,
          -4517571.630536609,
          -4486089.002860871,
          -3912453.602800768,
          -4321219.1344159795,
          -4524094.765020759,
          -4485441.97211149,
          -4478725.553225233,
          -4469089.873040243,
          -4476348.363214165,
          -4485712.986234382,
          -1316172.5148317125,
          -4466012.730941874,
          -4485251.257407766,
          19694892.80942953,
          -4484831.413709298,
          -4481877.928852243,
          -4494426.812921694,
          -4480376.557946852,
          -4477611.756251703,
          -4473039.624751096,
          -4503933.706067569,
          -3948611.091163966,
          -4472421.734407912,
          -4492766.990919585,
          -4479497.540083585,
          -4489310.691460755,
          -4478460.221178802,
          5574117.758109168,
          -4479779.962910188,
          -4431471.560399307,
          -4501338.236553246,
          -4399322.232182592,
          -4484526.9996752255,
          -4491514.305116809,
          -4476653.344160183,
          -4469458.263078608,
          -4466032.972847054,
          -4474312.422141016,
          -4463655.696042063,
          -4487916.584954306,
          -4481922.851716176,
          -265157.5106907243,
          -4475884.871445427,
          -4503242.271310196,
          -4491694.891702676,
          -3659453.4597010496,
          -4508222.118308599,
          -4470154.269538393,
          -4480786.885517638,
          -4488411.25063479,
          -4508421.115882381,
          -3832586.5932911183,
          -4475018.478210422,
          -4477273.5462750755,
          -4502644.573648427,
          -4480795.568810111,
          -4472519.450898357,
          -4477028.715054693,
          -4432756.212868057,
          -4452788.055930246,
          -4479382.506637686,
          -4483237.100624577,
          -4479423.403104942,
          -4488377.7197119435,
          -4478871.45096437,
          -4492462.481684545,
          -4472083.450755778,
          -4480710.936294131,
          -4497713.77044213,
          -4319654.287704483,
          -4489138.787108006,
          -4471969.7404125845,
          -4476518.769621038,
          -4476708.000973798,
          -3844088.433694321,
          -3042349.1502387454,
          -4501723.768276603,
          -4478280.773640706,
          -4485543.682170195,
          -4476973.77704291,
          -4469407.932457184,
          -4480125.538804963,
          -4475696.708519043,
          -4490083.367914697,
          -1180217.334261493,
          451428.7470065926,
          -4483972.218913457,
          -4441008.93573248,
          -4490096.207224267,
          -4485116.864599334,
          -833538.7889106713,
          -4476765.038017236,
          -4327543.594562021,
          -4486436.046352075,
          -4484904.087207298,
          -4498320.214766711,
          -4477326.696199634,
          -4450575.814359837,
          -4478212.279180416,
          -4468031.624595018,
          -4465295.117015131,
          -4491602.456207495,
          -3163493.315795646,
          -4425508.150967637,
          -4470351.764874644,
          -4474753.167129639,
          -4478849.2232901035,
          -4489877.326709441,
          -4458490.791397822,
          13567027.9413524,
          -3834530.997762378,
          -4456423.66482144,
          -4405412.917077649,
          -4489093.775655692,
          -4490165.1217897395,
          -4470459.943019132,
          -4485702.527089404,
          -4451070.053188027,
          -4485266.3095161915,
          -4423834.057730835,
          -1525812.5092054547,
          -4486711.120643594,
          -4472165.842482243,
          -4487387.532985377,
          -4504424.2213145085,
          -4335909.373636049,
          -3240178.0470645395,
          -4487436.068429069,
          -4512274.446840244,
          -4485056.2871461855,
          -4465429.45097418,
          -4342622.348363487,
          -4489246.223575467,
          -4465828.421392315,
          -4483452.833218879,
          -4479410.154756022,
          -4482997.64966716,
          -4485409.238679772,
          -4479575.737924994,
          -4188976.2505540773,
          -4439158.380416004,
          -4481292.712053481,
          -4472985.666678324,
          -4481607.928366398,
          -4485915.1661075195,
          -4476450.181785929,
          -4417705.2965167565,
          -4480298.593416508,
          -4485767.804621343,
          14176693.90054414,
          -4498123.830281876,
          -4486903.704272823,
          -4497591.359343645,
          -2802669.6056259265,
          -4462223.566199678,
          -4488724.8765948145,
          -4444718.190427982,
          73134.87559216829,
          -4467214.220082981,
          -4475985.482063746,
          -4485482.072901487,
          -4472524.720447941,
          -2752453.663878519,
          -4481207.812571194,
          -4541819.05516721,
          -4499760.993274418,
          -4483951.539891514,
          -4480611.652392769,
          -4479000.64463993,
          -4476512.792077209,
          -4090837.103707932,
          -4524862.08382329,
          -4485062.989891245,
          -4490518.412764785,
          -4468743.899068032,
          -4485089.9797066655,
          -4490348.8620321965,
          -4489455.596904995,
          -4478596.236507349,
          -4489746.793254137,
          -4408137.683360916,
          -4486138.087983363,
          -4420057.419568956,
          -4482581.1976327,
          -4487922.504208945,
          -4480969.531383788,
          -4067277.525548245,
          -4223736.952541536,
          -4479859.556408492,
          -4470980.739822466,
          -4463480.976520056,
          -4478846.746819838,
          -4470031.359073423,
          -4688583.329747486,
          -4486535.915045916,
          -4481475.065337988,
          -4477092.896871376,
          -4481534.658895891,
          -4471719.011246682,
          -4598374.194911728,
          -4480190.084030773,
          26531943.498205204,
          -4501707.030795079,
          -4489610.070918734,
          -4486097.808717868,
          -4484298.240235235,
          -4481721.525853937,
          -4480797.890912806,
          -4481805.770352491,
          -4488172.421848203,
          -4491050.348580311,
          -4491636.702008662,
          -4487251.630723869,
          -4483083.354413813,
          -4488583.9035056345,
          -3053372.422480432,
          -4480842.839739852,
          -4488053.510574098,
          -4505308.129256155,
          -4491048.333655216,
          -4479847.934703571,
          -4482032.514590059,
          -4481065.1294597825,
          -4479606.025030098,
          -4489727.698723941,
          -3716531.857798058,
          -4486465.749833693,
          3146031.4241600865,
          -4481147.854095187,
          -4478214.5008766,
          -4482359.955560849,
          -4473702.770486684,
          75627981.8078758,
          -4154550.2472489253,
          -4474515.45666818,
          -4477926.514742477,
          -4464356.457385302,
          -4461725.180170228,
          -4143129.8284243075,
          -4488251.898149056,
          -4488481.055356152,
          -4465585.369286299,
          -4478636.487248239,
          -4488363.230148375,
          -4486802.561715085,
          246146430.90242326,
          -4404691.708259285,
          -4473569.934028593,
          -4490159.332342061,
          -4471930.655474466,
          -4509542.422080329,
          -4406099.795554111,
          -4484388.772516153,
          -4469206.5713763805,
          -4487854.04558168,
          -4471375.398023431,
          -4483570.683319031,
          -4497320.63283552,
          -4409373.516254471,
          -4479591.205489392,
          -4407805.550275578,
          -4459385.204354853,
          -4448162.636293452,
          -4464970.753071052,
          -4454002.630574888,
          -4314329.6399340555,
          -4478602.958533299,
          -4478075.181876427,
          -4444183.0651527,
          -4449946.853832357,
          2133340.976287031,
          17374179.897595175,
          -4471568.4161181,
          -4468894.953707446,
          -4452209.546758162,
          -4463247.978461408,
          -4473813.706771051,
          -4473630.564168563,
          5931275.218806683,
          -4460774.482962572,
          20534927.44449086,
          -4446633.586184525,
          -4422082.945319146,
          -4454528.315832525,
          -4465688.547425181,
          -4143052.6831022394,
          -4483008.299311768,
          -4470178.039565026,
          16194690.331267804,
          -4456526.998821066,
          -4462127.270655772,
          -1469749.8723469963,
          -4452505.024011523,
          -4246540.240797437,
          -4475356.585937729,
          -4452755.130450922,
          -4458820.301805667,
          -4465442.204167532,
          -4463524.732901411,
          -4464667.329872995,
          -4470610.090139413,
          27564629.50237533,
          -4432002.460767794,
          -4280281.404399362,
          -4464037.288775583,
          -2943881.862646347,
          20695258.14892397,
          -4411358.465538186,
          -4630058.549562035,
          -4482884.213007349,
          -4464815.964271901,
          -4389792.628896918,
          -4449865.831301735,
          -4480256.741585376,
          -4423270.208358133,
          -4468439.297874292,
          -4486752.537205991,
          -4484574.875699765,
          -4441293.300793606,
          -4434169.036824246,
          -4463975.435320124,
          -4456867.405915403,
          -4476041.455483212,
          -4462472.191981236,
          -4465514.8052104935,
          264430.6537155554,
          -4307075.820540019,
          -4441073.380120966,
          -4480634.1518561365,
          -3831854.8341770847,
          -4475647.901690373,
          -4471319.395279363,
          -4464398.915739761,
          -4478529.6199182505,
          -4363458.025383728,
          -4470234.404814363,
          -4458143.831873624,
          -4480083.487534843,
          -4459015.18387373,
          -4468287.751369573,
          27652319.554607436,
          -4495879.427669086,
          -4410861.291266374,
          -2288805.8512265515,
          -4433104.662356076,
          -4047741.5568481544,
          -4460290.43692696,
          -4257476.175683646,
          -4464256.737836511,
          -4254389.029326422,
          -4423261.577246286,
          -4417025.419977414,
          -4030078.929570564,
          -2848887.390470081,
          -4447691.798105711,
          -4455368.69056452,
          5709939.916139765,
          -4352717.04296691,
          -4479403.574313496,
          -4470855.1238246495,
          -4417319.633471118,
          -4436334.582486748,
          -4447000.447484408,
          -4478515.779229495,
          -4475434.909692083,
          -4469336.672982996,
          -4461676.578403086,
          -4461104.430920095,
          -4175940.7325280807,
          -4459018.324984096,
          -4480042.311853958,
          -4484327.916474854,
          -4447378.882956466,
          -4479492.5985798035,
          -4439815.609578135,
          -4447235.814417779,
          -4453712.415653083,
          -4323613.188629529,
          -4462131.360271652,
          -4448231.811984962,
          -4478446.749520004,
          -4484558.568762642,
          -4468025.273564541,
          -4464396.36068887,
          -4471477.860490412,
          -4459009.366721853,
          -4423440.157841435,
          -4383016.430654028,
          -4462008.544829074,
          -3508719.749048461,
          -4472304.207431993,
          -4256670.590418767,
          -4282457.529181079,
          -4463362.933934163,
          -4468066.287005543,
          169244965.3656667,
          106070.57103979304,
          -4383036.391350255,
          -4461998.730537501,
          -4468440.694408724,
          -4454395.644224058,
          -4469417.89202476,
          -4416068.392530594,
          -4464722.6818836285,
          -4512818.140345177,
          -4449949.371910164,
          -4477174.4214442335,
          -4457784.840246942,
          -4493005.272009735,
          -4479822.224157947,
          3005599.7175115086,
          -4510565.302583506,
          -4451386.348347336,
          -4470441.797715822,
          -4470158.763768151,
          -4462247.573413291,
          -4468341.234949121,
          -4433212.580726974,
          -4351170.730694042,
          -4455427.068129732,
          -3389295.6399365314,
          -4240491.371826418,
          -4450749.451876499,
          -4474288.7661271915,
          -3968410.8442176953,
          -4474455.637140133,
          -4470130.721033669,
          -4463537.026396989,
          -4467127.162543629,
          -4227982.1436131885,
          -4402765.554643879,
          -4456636.008467026,
          -4476980.842018874,
          -4491853.382422921,
          -4608980.76735732,
          -4458207.168600005,
          -4465228.469667803,
          -4391591.587794039,
          -4358409.054747416,
          -4483689.5484963395,
          -4340420.134142183,
          -4476304.026666424,
          -4470972.506684989,
          4364452.532992402,
          23406210.36493671,
          -4489689.913783747,
          -4461421.95230995,
          -4473735.706741073,
          -4297856.548328692,
          -4444688.667460462,
          -4359207.110255578,
          -4461830.150153609,
          1922345.3476798097,
          -4467578.1373861525,
          -4458515.033326923,
          -4455758.103550143,
          -4474170.849702765,
          -4478386.194637461,
          -4495415.782315132,
          -4203238.833816317,
          -2576058.0394757655,
          -3488302.1441873885,
          -4167886.895592477,
          -4469566.544092506,
          -4457525.971085671,
          35991704.351427,
          -4459748.800759875,
          -4472083.254212514,
          -3473782.8474616096,
          10694499.90389092,
          -4461081.537580561,
          -4464487.912148891,
          -2742849.70363448,
          -4450346.8959375145,
          -4461271.668891985,
          -4452635.122066746,
          -4462674.090360756,
          -4447980.91711111,
          -4478141.663025819,
          -4456748.781041651,
          -4467669.160478499,
          5560970.934960895,
          -4471030.707579334,
          -4483495.53962942,
          11031103.330866927,
          8173598.301080337,
          -4475597.250154936,
          -4480147.889437923,
          -4481933.200246456,
          -4435046.9712090865,
          48416540.54844924,
          -4468737.383492063,
          -4409767.682124897,
          -4443682.431762626,
          -2480027.6187143577,
          -2297770.903292366,
          -4477326.534307012,
          -4456150.745619416,
          -4480961.182441954,
          -4439106.624464388,
          -4498923.707826017,
          -4476079.9968245225,
          -4471657.54857911,
          -4435855.415987829,
          -1012592.3232538238,
          -4440617.324434402,
          -4422842.875102399,
          10078983.847633548,
          -4482966.680165009,
          11510472.254725976,
          -4457886.954573019,
          -3025567.634807606,
          -4443301.871051368,
          -4058629.3231631336,
          -4451888.177441758,
          -4438532.913844154,
          -4461988.878349398,
          -4471721.469607708,
          -4452094.762372584,
          -4478095.4906081045,
          179103459.50516978,
          -4456951.188370478,
          -4471196.84812278,
          -4459965.126417724,
          -4459683.3293774715,
          -4471512.112002686,
          -4351427.382141704,
          -4456001.885926235,
          -4468606.234882285,
          -3638616.4980021953,
          -4451287.831483383,
          -4445676.603608667,
          -4456284.893368633,
          -4046006.6576778577,
          -4471286.862358876,
          -4462268.15615032,
          -4466727.610786698,
          -4400508.06587134,
          -4122213.362846069,
          34576666.50710188,
          -4419557.347148848,
          -4440148.396329175,
          -4473425.6677093245,
          -4447722.130061623,
          -4440041.929375598,
          -4480133.618684697,
          -4475773.202486105,
          -4502613.70132092,
          -1813997.1206180432,
          -4437818.5309258895,
          -4455406.701710768,
          -4069896.269875312,
          -4475986.531612319,
          -3355196.240624538,
          -4379928.819287564,
          56900618.75842827,
          -1855583.5595735065,
          -4471242.442262612,
          -4470369.817845417,
          -4447242.602030416,
          -4452842.187694981,
          -4411719.837251398,
          -4176056.629920462,
          65195773.48023543,
          -1141625.148712912,
          30909395.566616945,
          -4486050.876014551,
          -4462796.61806336,
          -4453677.780793875,
          -3160920.2081690957,
          -4460054.188369546,
          -4466617.393867912,
          -4471582.606895398,
          -4473593.140276612,
          -4463022.937701326,
          25663573.998044156,
          302664058.5959367,
          -4460582.21932835,
          -4462060.323655471,
          -1257939.1826857873,
          -3202723.4058410004,
          -4433466.860364346,
          -4033462.7405645694,
          -4475785.521041582,
          -4471897.80178313,
          -4442758.091130354,
          -1599115.9071445637,
          -4473055.753074262,
          -4476345.30142609,
          -1502671.8424970978,
          -4480070.526755578,
          -3573113.369190979,
          -1588636.584438276,
          -4474411.633344184,
          -4459196.309540673,
          6258031.221812908,
          -4101914.7548143617,
          -4463937.867500028,
          655534.7937040558,
          -4465173.226148274,
          -4464742.5471596895,
          -4473731.749286051,
          -4489562.595385253,
          -4467665.71673828,
          -4365918.252811178,
          -4460809.74023992,
          1497072.387285824,
          -4462716.228745712,
          -2089439.7693611162,
          -4452577.7729157135,
          -4341878.807409577,
          -4443158.535592355,
          -4484261.69952993,
          -4476026.835357086,
          -4467994.063371321,
          -4464596.1979352245,
          -3948807.5211618827,
          -4477809.4681300325,
          -4458164.13689865,
          -4465995.252560272,
          -4473041.126141138,
          -3356335.5105452253,
          -4467280.151508282,
          -4481915.973607541,
          -4474046.50009166,
          -4473020.078355448,
          -4468731.08707362,
          -4468320.140712003,
          -4479973.97543938,
          -4459490.092003659,
          -3057057.5913722515,
          -4462686.215602282,
          -4477515.774467815,
          -4454446.471733997,
          -4472945.490263386,
          -4484811.692970759,
          -3869088.6608993774,
          -4446205.43739078,
          -4470341.322349748,
          -4446320.95288798,
          -4474755.68375287,
          -4453820.64446514,
          -4431533.153578771,
          -4466628.438965769,
          -4459354.145895596,
          -4468899.248173675,
          -4474146.288667267,
          -4442138.420613798,
          -4497523.201273799,
          -4216832.682629698,
          -3591419.1374209863,
          -4465010.031317457,
          -4741235.643490692,
          -3510473.4849733682,
          -3923806.4647326083,
          -4491520.736229492,
          -3658007.767245032,
          -4482061.499162002,
          -4483755.71136446,
          -3830875.2908914723,
          -4485620.069273867,
          -4155071.1521784356,
          -4437577.2602179125,
          -4481370.045897008,
          -4349949.569962408,
          -4465611.555964253,
          2821437.921076359,
          -4473339.155690542,
          -4473146.674559078,
          -4474310.918671709,
          -4473006.332101231,
          -4466020.210448098,
          -4482440.9517785255,
          -4482854.321045095,
          -4461375.774182503,
          -4484629.335011465,
          -4483434.040680319,
          -4476166.6939712055,
          -4480979.271266056,
          -4464413.362792431,
          -4471283.193476586,
          367380.0465959167,
          -4453069.732395846,
          -4470559.7872961005,
          -4480230.269660487,
          -4472722.519995143,
          -4486499.541652597,
          -4474444.860450666,
          -4476038.8940817155,
          -4487128.9926235,
          -4470533.968834568,
          -4474992.455951253,
          -4463736.436082783,
          -4476784.972701616,
          -4459883.607528128,
          -4477262.0847681975,
          -4467870.635340137,
          -4493368.468867315,
          -4469431.028863387,
          -4481023.64372423,
          -4467870.882602767,
          -4473068.90712511,
          -4460141.191259819,
          -4447603.105582099,
          550343.4073131526,
          -4475837.753940562,
          -4463336.140193526,
          -4479066.123524815,
          -4465553.1121544875,
          -4444503.8025500355,
          -4463380.16761021,
          -4448415.276468652,
          -4487842.351670366,
          -4466059.453213163,
          -4464681.548517079,
          -4470509.771528734,
          -4477862.629592868,
          -4470672.080052151,
          -4469646.876063885,
          -4465152.655105249,
          -4474424.178384375,
          -4474041.078607559,
          -4471644.140730065,
          -4456438.396793726,
          -3177573.7929710224,
          -4472808.554054072,
          -4438414.543653487,
          -4478055.907414411,
          -4589838.157990165,
          -4440242.852355233,
          -4152317.0455108583,
          -4452917.86972701,
          -4478822.671015645,
          -4464394.582494186,
          -4471328.528352993,
          -4456105.391132378,
          -4471198.159147311,
          -4472718.585135334,
          -4502428.7548122555,
          -4463363.438606785,
          -4470462.663162004,
          -4477597.782503371,
          -4461391.440779935,
          -4458522.00575762,
          -4456949.754417623,
          -4474615.983854465,
          -4465452.827342119,
          -4475425.904597699,
          -4478839.45543992,
          -4466755.69366247,
          -4462870.346450537,
          -4480348.447964794,
          -4480378.232517133,
          -4485215.736720183,
          -4482340.107204008,
          -4471978.887151459,
          -4342687.256047532,
          -4473034.170754259,
          -4481082.372006875,
          -4444025.534263706,
          -4491915.959903574,
          -4466592.869165235,
          -4456882.197446084,
          -1597929.5812806329,
          -4465544.473669203,
          -4466577.159961193,
          -4485184.690231303,
          -4477694.781366962,
          -4463191.953174526,
          -4455324.24222855,
          -4475352.775341211,
          -4343645.322921663,
          -4473788.63001569,
          -4449104.374376981,
          -4480113.232521087,
          -4473333.164971734,
          -4480270.600777476,
          83512232.28478344,
          -4507685.273584643,
          -2301983.5442519453,
          -4482232.920348557,
          -4435768.8513821475,
          -4445567.884527078,
          12297787.397968765,
          -4458663.887752768,
          -4294375.5720364265,
          2205331.8812529575,
          -4473155.35837139,
          -4466750.011739547,
          -4462250.638078174,
          -4481545.522296607,
          -4452422.886265149,
          -4324056.018303375,
          -943790.1347425738,
          -4445021.760056371,
          -4482354.847180868,
          -4454973.677756803,
          -4494967.913153006,
          -4488133.190767794,
          -4480600.749497899,
          -4469213.1915370785,
          -3592339.6240347447,
          12370780.412741775,
          -4470558.171497769,
          -4467941.178847123,
          -4108907.9574891073,
          -4471215.233578206,
          -4425348.819007401,
          -3391213.275896945,
          -4455770.936580553,
          249616418.8894475,
          -4429969.734121858,
          -4498706.92002691,
          -4489032.1732748505,
          -4483336.404605834,
          -4448174.852696731,
          -4475517.319666831,
          -4537429.649177317,
          -4168127.8083036183,
          -4459978.474828806,
          14373039.66639829,
          -4466907.968965272,
          -3476900.2607075097,
          -4474077.0201313,
          -4026579.292859359,
          -3643560.8927317862,
          -4442096.385741802,
          28039255.374331612,
          -2707848.787175602,
          -4470827.38122977,
          -4474511.0977796465,
          -4456251.758843677,
          -4433522.367866539,
          -4095171.978207033,
          -4464084.877492134,
          -4477429.364319784,
          -4463447.77489395,
          20879469.43512064,
          -3887338.4082776867,
          -4472912.84999465,
          -4478260.991504678,
          -4225369.76205502,
          -4486110.810949753,
          18835491.26684021,
          -4426425.982188956,
          -4301342.516676325,
          -4443936.3242243305,
          -4461375.000826844,
          -4476078.771264347,
          -4468990.422636052,
          -4450278.5339940395,
          -4399241.744322976,
          47444.1157059682,
          -4452233.183239887,
          -4478247.494514873,
          -4481186.517881357,
          -3932602.6005865303,
          -4456180.202965616,
          -4442830.910528043,
          -4441638.775614001,
          253143259.26742578,
          -4307429.449951152,
          -4512394.895853567,
          -4481757.848815413,
          -2188713.122802466,
          -3709016.60229156,
          -3040161.497238642,
          -4483295.873330117,
          -4486059.497114705,
          -4455005.33187402,
          -685363.8642242177,
          -4443197.725586553,
          -2832352.162723609,
          -4465387.468553339,
          -3018321.3119316944,
          -4163218.58815558,
          -4467863.348559783,
          23174788.23421336,
          -4485094.886621704,
          -4349827.269428301,
          -4481360.733534361,
          -3879616.296563326,
          -1769902.626009622,
          -4389070.359363842,
          -4464785.136780175,
          -4546814.450687529,
          -4490564.993707817,
          -4484621.135510147,
          -4485372.199169309,
          -4487059.950502122,
          -4462782.005475235,
          -2087572.9766729556,
          -4518722.274062702,
          -1136758.717276016,
          -4457823.281756026,
          -4478497.051663543,
          -3866767.3580491976,
          -4466474.485777218,
          -3034820.139093608,
          -4485183.654257461,
          -4502941.007200337,
          -4497897.033217574,
          -4481741.161813875,
          -3330364.0810638596,
          -4480600.28749856,
          -4479759.843533551,
          -4492908.87542324,
          -4489936.496651111,
          -4484907.087510513,
          -4490300.602044373,
          23597080.89033266,
          -4428129.022995237,
          -4487156.318902189,
          -2179617.0680318563,
          -4512964.455384297,
          -4488383.850537665,
          -4494512.704945311,
          -4461387.747151044,
          -4447069.323696274,
          -4489054.294230849,
          -4507187.536700661,
          -4478110.167257802,
          -4280909.625329804,
          84926.65896225665,
          -4453686.513953896,
          -840372.6457193721,
          -4470780.4572609,
          -4499289.109606246,
          -4477155.538822945,
          -4494163.147255284,
          -4513708.91831465,
          -4504305.357539755,
          -4488978.002857037,
          -4485559.938274849,
          -3581853.5404771604,
          -2740693.16227249,
          -4320206.155142496,
          -4492207.369235875,
          -4466560.624815826,
          -4481925.040366072,
          -4477373.857289151,
          -4482006.08935599,
          -4507430.340384861,
          -4436366.393503354,
          -4500370.352575229,
          -1794045.6908477086,
          -4488568.677564662,
          -4466076.973110392,
          -4241338.101146472,
          -4482940.702526609,
          -4427060.089619382,
          -3840624.9204898947,
          1619766.8887504388,
          -4461933.555347725,
          -4471309.995413064,
          -4447368.936276337,
          -4456697.030711221,
          -4474420.222118645,
          -4428665.034378602,
          -4466558.263002478,
          -4478311.9969387725,
          -4451969.718624851,
          293095058.03140527,
          -4445651.360953286,
          -4268270.930956165,
          -3951005.579239517,
          -4462843.288940777,
          3538294.3552454,
          -4468008.326025384,
          -4463695.224509061,
          -4466751.672555251,
          -4476306.2717815,
          -4474617.016117817,
          1551446.688027926,
          -4467558.434009542,
          -4470941.615846303,
          -4477564.459337303,
          48232489.65490273,
          -4307590.24272498,
          -4379551.041376985,
          -4474445.04320993,
          -4494790.596655799,
          -4470298.924801518,
          -4469230.318974955,
          -4476637.979401864,
          -4467054.745425533,
          -4479245.122276878,
          -4299289.1502370145,
          -4465260.986610692,
          -4467406.597778256,
          1661808.129402549,
          -4388108.942058268,
          28802261.248967268,
          -4466677.819633608,
          -4417027.003219919,
          -2247714.827213884,
          -4448996.539222556,
          -4475878.769282634,
          25478972.977935497,
          -2094082.8218246498,
          -4471127.833496221,
          -4446948.651919544,
          -4407975.083272982,
          -4317580.8548920285,
          -4468619.1441998,
          -4458864.419374976,
          -4470924.8105307035,
          -4238201.957396008,
          -4469502.330005277,
          -4463113.668608942,
          -4501477.631753647,
          -4412258.885648065,
          -4461139.785784511,
          -4471997.821082052,
          -4448653.889282552,
          29487932.50580864,
          -4079385.9325618413,
          -4220072.579488609,
          4623055.03010357,
          -4449333.274021603,
          -4441049.630170806,
          -4290567.443669271,
          -4472833.120415269,
          -4474565.204323618,
          -4091070.240815549,
          -4461843.642748394,
          -4143489.835333723,
          -2292581.6261439114,
          157673703.9032403,
          -4432015.2709678,
          -1030220.5358790861,
          -3606357.6427575597,
          -4480478.5578957535,
          -4423796.541705387,
          -1659572.8504106994,
          -4472005.148770747,
          -4451026.65571791,
          -3667568.843941722,
          -4458059.7372130165,
          -4474268.536489931,
          -4096767.906691733,
          281312.09953863604,
          -4463535.8431773195,
          -4437431.796292294,
          -4430255.129739272,
          -4466153.045281289,
          -4472755.481944271,
          168997.16177720128,
          64018640.92404958,
          -4432802.323867438,
          -4460202.369037241,
          -4467006.365026385,
          -4432781.122440012,
          -2797448.412138278,
          -1729361.4288981396,
          -4454294.054903462,
          -4452921.652747525,
          -4461049.555831696,
          -3987295.8195871334,
          -4459094.859684608,
          -4444071.40101894,
          13866777.035730006,
          -4465013.927540714,
          -4460112.869888878,
          -4434567.203828129,
          -4374506.620160518,
          -4480259.887911268,
          -4453962.529661508,
          -4450870.863349806,
          -2607573.6081811152,
          -4217674.76124066,
          -4479966.125673714,
          -4448539.447788849,
          -4470370.382964538,
          -4480422.204806115,
          -4475391.732711247,
          -4441358.040012612,
          -4454420.3591468595,
          -4474370.778841999,
          -4439658.715848202,
          -4439490.522770987,
          -4474481.107149667,
          -4473891.321868875,
          -3629902.249954066,
          -4470669.865416671,
          -4112437.6400759798,
          -4486143.4511550125,
          -4087345.8481456176,
          -4439898.425453031,
          -4459434.463236717,
          158082109.033524,
          -1017791.8437298699,
          -4460358.961358999,
          3630455.230032807,
          -4452817.378078595,
          -4461124.734624167,
          471625.5476244957,
          -4256002.339046629,
          -4385055.112533852,
          -3826219.11781943,
          -2187836.960512604,
          -4434936.443971633,
          -4489253.792708699,
          -4461262.799448697,
          -3756786.1681848625,
          -4494748.715063172,
          -4420618.885475505,
          -4468423.797307127,
          -4484419.360661417,
          -4475001.672727881,
          -4307953.76690556,
          28945705.3428383,
          -4466850.662866032,
          -4449736.947259987,
          -4465631.799930778,
          -4459635.74789304,
          -4458878.39449559,
          -4471828.172622971,
          -1912655.9227869392,
          -4467817.587295189,
          -4280598.907933339,
          -4424691.245869072,
          -4459929.615121779,
          22594958.417964112,
          -4481869.7312998725,
          -4452143.77115531,
          -4463207.860944967,
          -4458652.151813894,
          125231359.75414512,
          -4426448.652310777,
          -708396.9643316747,
          -4442856.421212693,
          -1570694.0388124695,
          -4071613.318772172,
          -4449303.743274844,
          -4446267.80147284,
          -4429515.740596237,
          -4333659.253798799,
          73252516.29435328,
          53531419.60485597,
          -2691352.203115003,
          -4418026.716839551,
          31786327.038759068,
          -4412509.0749363545,
          -4464890.95313071,
          -4442001.146484368,
          1408941.0154385918,
          49199106.364544995,
          12285035.937456677,
          -4416416.548694974,
          -4429750.531347075,
          -4413546.9211809775,
          -4417691.855848152,
          -4382005.540378702,
          -4465096.675587287,
          11602938.178901797,
          1414951.290824912,
          -4441513.484003265,
          -4442959.674328611,
          4123526.0768029583,
          -4433014.601509585,
          298824646.7106748,
          -4453318.095700413,
          13519697.879608959,
          -4407426.703574928,
          9655912.133863976,
          -4449110.383618212,
          46401747.076229095,
          -4445390.115040856,
          -4463120.021168293,
          -4477874.953514556,
          -4459719.714820139,
          -4002365.880407065,
          -4061094.9134875597,
          -4475375.577556975,
          12266741.152493972,
          -4455054.916020233,
          -4438901.158887897,
          50122084.083558604,
          -4448492.05118816,
          -4316247.378986457,
          -542274.7915301727,
          -3096887.573273008,
          -3215581.6629540487,
          -4422129.464444705,
          -4163808.501694047,
          -3543870.9732873193,
          57538153.442005776,
          -4357057.954473382,
          -4448692.718272291,
          -4418588.474396141,
          -4452778.716459537,
          -4452064.321203651,
          -4423416.466573031,
          -3393127.987421742,
          32248144.51923194,
          -523866.6031640967,
          -150033.2298311317,
          -4348701.769577304,
          -4441658.5334457485,
          -4449633.795310744,
          -4463877.219941921,
          2452568.2862114473,
          13088221.452262787,
          -4441400.432669008,
          7763546.668174315,
          -4430541.957361659,
          147872674.69865435,
          -4445593.15867377,
          6394285.871294049,
          -4405898.8262020955,
          51026046.67552094,
          19497672.812025424,
          -4475486.377883736,
          -4470578.339713933,
          -4384991.151050738,
          -4409448.425359623,
          -4466384.987145671,
          -4438372.694670412,
          -4474574.137859198,
          -4459496.693414258,
          -4427358.021463946,
          -4605465.053084685,
          -4422978.786700779,
          -4391846.172429108,
          -4446810.588127464,
          -4428806.279722371,
          -4542546.367642884,
          -4406224.272005874,
          -4458431.384503767,
          -4537874.797226353,
          -4454382.2973608775,
          -4466426.1098526325,
          -4510677.138040855,
          -4520108.301940112,
          -4315112.710804543,
          -4450444.51792964,
          -4450683.263817219,
          -4466107.280469086,
          -4474694.711531512,
          -4434230.325586543,
          -4483891.4618570665,
          -4462215.654849739,
          -4284741.633367828,
          -4483979.018675929,
          -4474311.070330652,
          -3051773.0069681588,
          -4435510.825579856,
          -4403882.783671627,
          -4454971.665200734,
          -4420596.588502266,
          -4442797.437512956,
          -4377689.0396594545,
          -4423604.486044598,
          -4416560.353145589,
          -4526550.94302616,
          -4469029.163347965,
          -4468329.804015281,
          -4374179.907393165,
          -4357692.410823454,
          -4421694.853299552,
          -4436547.897394758,
          -4456368.371740865,
          -4384118.325109881,
          -4466874.217951011,
          -4406833.919091497,
          -4473960.330493748,
          -4404858.900614973,
          -4463082.965579039,
          -4437061.061097793,
          -4384392.647381661,
          -4510614.307845021,
          -4447648.928033776,
          -4397660.181824548,
          -4371308.819130798,
          -4421910.5554150315,
          -4481727.49430171,
          -4492787.285202913,
          -4392670.141367239,
          -4415635.856937485,
          -4425956.998485722,
          -4458968.851274843,
          -4476751.610657199,
          -4434466.393423181,
          -4445591.052504019,
          -4471887.634643147,
          -4447161.40616487,
          -4450187.2080898015,
          -4401614.941217676,
          -4432399.795583318,
          -4439654.466569289,
          -4458884.045427292,
          -4394649.73551175,
          -4470598.087476648,
          -4424698.994926489,
          -4438191.706432128,
          -4438531.582015373,
          -4455754.160606325,
          -4493152.594943703,
          -4432255.803640598,
          -4712366.444062647,
          -4413776.867420546,
          -526267.167788583,
          14409688.320717838,
          -4457561.4025569325,
          -4466598.728254512,
          -4472747.614503251,
          -4280920.521262415,
          -4458929.957994916,
          -4471828.371676059,
          -4452979.146958252,
          -4446822.123459573,
          -4188797.8313572994,
          -4467006.03929089,
          -4418606.167199183,
          86903236.15896967,
          -4348709.292980789,
          -4449157.649137076,
          -4462554.733618291,
          -2424244.713391888,
          -4472786.018545876,
          -4452255.5955708055,
          -4512431.093831724,
          -4457138.242867868,
          -4441654.283239754,
          -4433399.711981637,
          -4479011.302782917,
          -4484130.4528127,
          -3883980.1733819107,
          -4055419.5154990307,
          -4487692.41306456,
          -4438763.52206443,
          -4158699.062916019,
          -4479057.084689765,
          -3699833.558502529,
          -4470969.455736103,
          -4466549.909521021,
          -1414239.339544039,
          6893781.652357691,
          -4316057.48779545,
          26634129.362017922,
          -4485940.393361076,
          -4484590.135566062,
          -4465717.122417952,
          -4364413.666054712,
          -4437149.643271155,
          -4487920.608172528,
          -4458482.760252192,
          458532342.20813197,
          -4444786.47569988,
          -4059348.6729574357,
          -4464521.320890955,
          -4469514.253569062,
          -4467574.332280079,
          -4469246.241893613,
          -2062712.6929808955,
          -4470527.879734686,
          -4473556.532516358,
          -4454348.299823314,
          -4439729.173536313,
          14982938.252876865,
          -4460715.930545074,
          -4459437.123899675,
          -4484229.861409107,
          -4473764.064970413,
          -4466319.90330487,
          -4427751.917584283,
          -4447485.507540657,
          -4468298.876541273,
          -4464058.29309212,
          -4462116.180219746,
          -4455146.358177229,
          -4466300.014732825,
          -4467747.787194986,
          -4462032.765684417,
          -4354880.451060246,
          3462069.5627997667,
          -4478698.491930826,
          145382302.9726742,
          -4463055.465140719,
          -4298993.1209670855,
          -4460131.085101402,
          -4466775.086029078,
          -4491301.82609721,
          -4471334.474419489,
          -4429270.934074647,
          66215524.37655112,
          -4433847.589359205,
          -4468794.21766744,
          912951.0150540431,
          -4467773.118950703,
          -4465335.5411100155,
          -4482566.182177494,
          -4480538.768125636,
          -4457169.06571215,
          -4459006.240670448,
          21540183.6931022,
          -4448125.174207854,
          -4481138.8738024905,
          -4464611.945862545,
          -4491711.309660176,
          -4430973.5702444045,
          -4472854.511380255,
          8223092.088096189,
          -4478751.335580151,
          -4440829.430282483,
          9189057.078538971,
          -4388165.323340644,
          -4474918.882273372,
          -4448113.231336484,
          -4500558.120440275,
          -4470196.582838071,
          -4464264.844031903,
          802695.9097456785,
          -4432785.738670628,
          -4463325.317083922,
          -4469056.709767911,
          -4389449.388798108,
          -2519327.632780285,
          6564809.469622455,
          -4447278.682184235,
          -4477552.019798979,
          -4466364.418879804,
          -4465624.379913087,
          -4472688.346047441,
          -4472774.954976032,
          -4479342.570679989,
          -4484532.412357194,
          1250046.1717309738,
          3501155.958841966,
          -4473867.497371791,
          -4470333.453805998,
          4405236.222271803,
          1130677.7450624323,
          -4463160.070188912,
          -3879946.6257894607,
          -4462976.963438231,
          -4413077.61769442,
          -4498541.894032062,
          16427874.925223107,
          -4484830.374175704,
          -4464028.454287587,
          -4458501.789462599,
          -4462003.097336422,
          -4477158.803031865,
          131782174.48151611,
          -1920135.319250325,
          5167165.879520472,
          -3927143.3633878883,
          -4522233.984799072,
          -4535264.258640401,
          -4454493.721819271,
          -4179690.72949512,
          -4411215.524936357,
          -3440992.4088098076,
          -4467595.401785501,
          -4475156.20592576,
          -4482208.558706043,
          -4405232.813174514,
          36821967.13497292,
          -4463841.7954722075,
          8303679.817715135,
          -4459979.954363546,
          -4234166.812360509,
          -4481456.131216528,
          24597247.281277955,
          -3368035.1247656564,
          -3538713.0816862173,
          -4457957.617582342,
          -4443858.193677945,
          -4430191.009018029,
          -4445785.803403007,
          -4472781.991549151,
          -2361757.0538546275,
          -4471483.210825884,
          -4447766.766312747,
          -4459177.865398591,
          -4455815.907794971,
          -4494731.320425591,
          -4469938.655713087,
          -3166944.6152068265,
          -4468042.7199212015,
          -4473687.747618663,
          -4478063.477572941,
          -4463464.047448219,
          -4460810.913308662,
          -4434541.9031963395,
          -4463140.629862297,
          -4148869.821151885,
          -4394873.380473629,
          -2108625.3464318644,
          -4456243.183468179,
          3720109.9814811223,
          -4474614.1172800865,
          -4441963.791524812,
          -4437088.60835474,
          -4468810.02129108,
          -4568786.9511837615,
          -2268534.3909219066,
          -4422916.099255752,
          -4472751.271649895,
          -4410635.611863398,
          -4474024.2488298165,
          -4466798.105716406,
          -4463790.915914834,
          -4471147.103625821,
          -4458912.638373724,
          -4476076.956528798,
          -4450232.859743684,
          -4484050.845156508,
          -4458604.918867237,
          -4464504.272280383,
          -3740562.399238367,
          -4117270.8895525862,
          -4470409.722011757,
          5551137.239779841,
          -1331388.8636895,
          -4478424.316939331,
          -4458051.547258451,
          -4452586.196337226,
          -4186292.456341856,
          -3149036.3667571126,
          -4468463.665728815,
          -4471127.964401464,
          -4434239.577578949,
          -4466303.164494674,
          265910336.98259452,
          -4456267.249117328,
          -4418579.217024481,
          -4473742.5828019,
          -4405050.27945508,
          -4480405.924273778,
          -4338766.67270113,
          -4466001.11708003,
          -4087065.7760788817,
          -4402784.316573537,
          -4466671.576775655,
          -4458354.719552104,
          -4441127.513499881,
          -4478911.706264663,
          -4460860.539344925,
          -4458712.474669528,
          -4474200.378713267,
          -3129174.5183694833,
          -3371685.3936045184,
          -4478221.813587585,
          -4475058.890995692,
          -4516935.648451493
         ],
         "yaxis": "y"
        },
        {
         "customdata": [
          [
           "São Paulo"
          ]
         ],
         "hovertemplate": "Cluster=Cluster 1<br>PCA1=%{x}<br>PCA2=%{y}<br>Feature=%{customdata[0]}<extra></extra>",
         "legendgroup": "Cluster 1",
         "marker": {
          "color": "#EF553B",
          "opacity": 0.5,
          "symbol": "circle"
         },
         "mode": "markers",
         "name": "Cluster 1",
         "showlegend": true,
         "textposition": "top center",
         "type": "scattergl",
         "x": [
          446623411825.47675
         ],
         "xaxis": "x",
         "y": [
          -86198652.30453043
         ],
         "yaxis": "y"
        },
        {
         "customdata": [
          [
           "Rio de Janeiro"
          ],
          [
           "Brasília"
          ]
         ],
         "hovertemplate": "Cluster=Cluster 2<br>PCA1=%{x}<br>PCA2=%{y}<br>Feature=%{customdata[0]}<extra></extra>",
         "legendgroup": "Cluster 2",
         "marker": {
          "color": "#00cc96",
          "opacity": 0.5,
          "symbol": "circle"
         },
         "mode": "markers",
         "name": "Cluster 2",
         "showlegend": true,
         "textposition": "top center",
         "type": "scattergl",
         "x": [
          207104576491.44388,
          143874738452.51712
         ],
         "xaxis": "x",
         "y": [
          -34785900.0670968,
          -30631121.765143037
         ],
         "yaxis": "y"
        },
        {
         "customdata": [
          [
           "Manaus"
          ],
          [
           "Goiânia"
          ],
          [
           "Guarulhos"
          ],
          [
           "Fortaleza"
          ],
          [
           "Campinas"
          ],
          [
           "Curitiba"
          ],
          [
           "Recife"
          ],
          [
           "Osasco"
          ],
          [
           "Porto Alegre"
          ],
          [
           "Barueri"
          ],
          [
           "Campos dos Goytacazes"
          ],
          [
           "Belo Horizonte"
          ],
          [
           "São Bernardo do Campo"
          ],
          [
           "Salvador"
          ]
         ],
         "hovertemplate": "Cluster=Cluster 3<br>PCA1=%{x}<br>PCA2=%{y}<br>Feature=%{customdata[0]}<extra></extra>",
         "legendgroup": "Cluster 3",
         "marker": {
          "color": "#ab63fa",
          "opacity": 0.5,
          "symbol": "circle"
         },
         "mode": "markers",
         "name": "Cluster 3",
         "showlegend": true,
         "textposition": "top center",
         "type": "scattergl",
         "x": [
          49509208802.74949,
          28599382427.36931,
          36086583668.45508,
          36585718539.75899,
          35887886723.23533,
          57495547784.246765,
          32513821630.063103,
          44460155484.50826,
          41985227539.50186,
          31207622284.63591,
          37989537100.74504,
          58523845157.14963,
          41875722736.97733,
          39530222024.476265
         ],
         "xaxis": "x",
         "y": [
          5461540.079207625,
          -9739622.567245232,
          -11035447.962745659,
          -9532276.580149425,
          -10990995.820004575,
          -2107652.0456561963,
          -9050266.02776042,
          -12320760.506522473,
          -545445.5906301741,
          -9447500.810435118,
          -9871216.96669698,
          -12523069.5124963,
          -11943345.35003104,
          -10947585.821843982
         ],
         "yaxis": "y"
        },
        {
         "customdata": [
          [
           "Maceió"
          ],
          [
           "Teresina"
          ],
          [
           "Florianópolis"
          ],
          [
           "São José dos Pinhais"
          ],
          [
           "Contagem"
          ],
          [
           "Anápolis"
          ],
          [
           "Duque de Caxias"
          ],
          [
           "Taubaté"
          ],
          [
           "Cuiabá"
          ],
          [
           "Uberlândia"
          ],
          [
           "São Luís"
          ],
          [
           "Campo Grande"
          ],
          [
           "Caxias do Sul"
          ],
          [
           "Camaçari"
          ],
          [
           "São Gonçalo"
          ],
          [
           "Betim"
          ],
          [
           "Paulínia"
          ],
          [
           "Natal"
          ],
          [
           "Ribeirão Preto"
          ],
          [
           "Diadema"
          ],
          [
           "Londrina"
          ],
          [
           "Sorocaba"
          ],
          [
           "Jundiaí"
          ],
          [
           "São José dos Campos"
          ],
          [
           "Santo André"
          ],
          [
           "São Caetano do Sul"
          ],
          [
           "Parauapebas"
          ],
          [
           "João Pessoa"
          ],
          [
           "Serra"
          ],
          [
           "Santos"
          ],
          [
           "Niterói"
          ],
          [
           "Canoas"
          ],
          [
           "Vitória"
          ],
          [
           "Joinville"
          ],
          [
           "Piracicaba"
          ],
          [
           "Belém"
          ],
          [
           "Macaé"
          ]
         ],
         "hovertemplate": "Cluster=Cluster 4<br>PCA1=%{x}<br>PCA2=%{y}<br>Feature=%{customdata[0]}<extra></extra>",
         "legendgroup": "Cluster 4",
         "marker": {
          "color": "#FFA15A",
          "opacity": 0.5,
          "symbol": "circle"
         },
         "mode": "markers",
         "name": "Cluster 4",
         "showlegend": true,
         "textposition": "top center",
         "type": "scattergl",
         "x": [
          11563428763.046474,
          9932654626.31212,
          10592488117.724197,
          16661613357.685846,
          18473196933.038578,
          10429111228.661425,
          22764495284.5106,
          11125544991.05876,
          11938012808.995487,
          18382214847.804253,
          17586466268.710262,
          14430345911.559332,
          15823732245.109661,
          12291917409.84162,
          9759386652.20379,
          22772890092.655193,
          13986015639.235546,
          13430385550.671295,
          16833628891.422112,
          10234666889.067898,
          10170615866.491972,
          17981721353.74294,
          23148862418.275623,
          25195981505.75611,
          17869171404.689156,
          10964719989.471731,
          14344527602.28045,
          10176973089.222445,
          12234712613.25581,
          12602206075.551252,
          11844654657.170618,
          12042835674.472555,
          20806725289.127674,
          17587541461.247982,
          11542967196.902607,
          17899148470.75263,
          12911026844.000942
         ],
         "xaxis": "x",
         "y": [
          -337881.9619525136,
          -5795209.9314137185,
          -1110623.694069193,
          92965271.04935534,
          2105888.037846995,
          -6320233.485595059,
          9626949.90157177,
          -6381974.58355415,
          -2507932.5829987964,
          -2933862.782672937,
          13961384.472695127,
          -7157159.762772723,
          15316132.818851542,
          113225871.37327223,
          -5317783.297624224,
          37584661.699594304,
          -6069423.696407764,
          -6438336.9767877245,
          -7543116.388262455,
          -6317236.352166875,
          4144669.8470472684,
          -7712000.438875275,
          -8474510.985638317,
          -8982142.037950624,
          -7728954.0587998,
          -6157779.511963675,
          499462975.0743685,
          -4763399.159170132,
          46143338.70250308,
          -6728629.3402949395,
          16849950.190023474,
          40964371.51139205,
          146855256.07523668,
          30694413.253756262,
          -6528412.919866013,
          -4474477.086642241,
          169228366.4789392
         ],
         "yaxis": "y"
        },
        {
         "customdata": [
          [
           "Balneário Camboriú"
          ],
          [
           "Brusque"
          ],
          [
           "Volta Redonda"
          ],
          [
           "Americana"
          ],
          [
           "Lauro de Freitas"
          ],
          [
           "Poá"
          ],
          [
           "São João da Barra"
          ],
          [
           "Araucária"
          ],
          [
           "Guaíba"
          ],
          [
           "Cajamar"
          ],
          [
           "Cotia"
          ],
          [
           "Gravataí"
          ],
          [
           "Nova Lima"
          ],
          [
           "Várzea Grande"
          ],
          [
           "Rio Verde"
          ],
          [
           "Criciúma"
          ],
          [
           "Ponta Grossa"
          ],
          [
           "São João de Meriti"
          ],
          [
           "Rondonópolis"
          ],
          [
           "Pelotas"
          ],
          [
           "Praia Grande"
          ],
          [
           "Carapicuíba"
          ],
          [
           "Teresópolis"
          ],
          [
           "Chapecó"
          ],
          [
           "Araras"
          ],
          [
           "Araraquara"
          ],
          [
           "Botucatu"
          ],
          [
           "Novo Hamburgo"
          ],
          [
           "Palmas"
          ],
          [
           "Montes Claros"
          ],
          [
           "Presidente Prudente"
          ],
          [
           "Sete Lagoas"
          ],
          [
           "Mariana"
          ],
          [
           "Pindamonhangaba"
          ],
          [
           "Atibaia"
          ],
          [
           "Passo Fundo"
          ],
          [
           "Rio Branco"
          ],
          [
           "Maracanaú"
          ],
          [
           "Juiz de Fora"
          ],
          [
           "Bragança Paulista"
          ],
          [
           "Bauru"
          ],
          [
           "Araçatuba"
          ],
          [
           "Blumenau"
          ],
          [
           "Mogi Guaçu"
          ],
          [
           "Rio das Ostras"
          ],
          [
           "São Francisco do Conde"
          ],
          [
           "São José do Rio Preto"
          ],
          [
           "Valinhos"
          ],
          [
           "Itaguaí"
          ],
          [
           "Jaboatão dos Guararapes"
          ],
          [
           "Louveira"
          ],
          [
           "Vinhedo"
          ],
          [
           "Vila Velha"
          ],
          [
           "São Carlos"
          ],
          [
           "Aracaju"
          ],
          [
           "Indaiatuba"
          ],
          [
           "Bento Gonçalves"
          ],
          [
           "Simões Filho"
          ],
          [
           "Cabo de Santo Agostinho"
          ],
          [
           "Ananindeua"
          ],
          [
           "Governador Valadares"
          ],
          [
           "Imperatriz"
          ],
          [
           "Lages"
          ],
          [
           "Foz do Iguaçu"
          ],
          [
           "Catalão"
          ],
          [
           "Três Lagoas"
          ],
          [
           "Itapecerica da Serra"
          ],
          [
           "Olinda"
          ],
          [
           "Ipojuca"
          ],
          [
           "Itapevi"
          ],
          [
           "Sertãozinho"
          ],
          [
           "Sumaré"
          ],
          [
           "Suzano"
          ],
          [
           "Taboão da Serra"
          ],
          [
           "Cabo Frio"
          ],
          [
           "Belford Roxo"
          ],
          [
           "Barra Mansa"
          ],
          [
           "Jaguariúna"
          ],
          [
           "Jacareí"
          ],
          [
           "São Vicente"
          ],
          [
           "Caruaru"
          ],
          [
           "Itu"
          ],
          [
           "São Sebastião"
          ],
          [
           "Angra dos Reis"
          ],
          [
           "Triunfo"
          ],
          [
           "Aparecida de Goiânia"
          ],
          [
           "Itatiba"
          ],
          [
           "Itaquaquecetuba"
          ],
          [
           "Marabá"
          ],
          [
           "Limeira"
          ],
          [
           "Pouso Alegre"
          ],
          [
           "Maringá"
          ],
          [
           "Presidente Kennedy"
          ],
          [
           "Cachoeirinha"
          ],
          [
           "Hortolândia"
          ],
          [
           "Dourados"
          ],
          [
           "Porto Real"
          ],
          [
           "Feira de Santana"
          ],
          [
           "Ipatinga"
          ],
          [
           "Macapá"
          ],
          [
           "Quissamã"
          ],
          [
           "Itabira"
          ],
          [
           "Uberaba"
          ],
          [
           "Ouro Preto"
          ],
          [
           "Embu das Artes"
          ],
          [
           "Cariacica"
          ],
          [
           "Cachoeiro de Itapemirim"
          ],
          [
           "Resende"
          ],
          [
           "Rio Grande"
          ],
          [
           "Rio Claro"
          ],
          [
           "Pinhais"
          ],
          [
           "Aracruz"
          ],
          [
           "Anchieta"
          ],
          [
           "Boa Vista"
          ],
          [
           "Mossoró"
          ],
          [
           "Campina Grande"
          ],
          [
           "Paranaguá"
          ],
          [
           "Santa Cruz do Sul"
          ],
          [
           "Mogi das Cruzes"
          ],
          [
           "Cascavel"
          ],
          [
           "Santana de Parnaíba"
          ],
          [
           "Guarujá"
          ],
          [
           "São Leopoldo"
          ],
          [
           "Jaraguá do Sul"
          ],
          [
           "Guaratinguetá"
          ],
          [
           "Marília"
          ],
          [
           "Mauá"
          ],
          [
           "Petrolina"
          ],
          [
           "Nova Friburgo"
          ],
          [
           "Itajaí"
          ],
          [
           "Cubatão"
          ],
          [
           "Linhares"
          ],
          [
           "Porto Velho"
          ],
          [
           "Santa Bárbara d'Oeste"
          ],
          [
           "Vitória da Conquista"
          ],
          [
           "Divinópolis"
          ],
          [
           "Petrópolis"
          ],
          [
           "Varginha"
          ],
          [
           "Franca"
          ],
          [
           "Salto"
          ],
          [
           "São José"
          ],
          [
           "Santa Maria"
          ],
          [
           "Nova Iguaçu"
          ],
          [
           "Poços de Caldas"
          ]
         ],
         "hovertemplate": "Cluster=Cluster 5<br>PCA1=%{x}<br>PCA2=%{y}<br>Feature=%{customdata[0]}<extra></extra>",
         "legendgroup": "Cluster 5",
         "marker": {
          "color": "#19d3f3",
          "opacity": 0.5,
          "symbol": "circle"
         },
         "mode": "markers",
         "name": "Cluster 5",
         "showlegend": true,
         "textposition": "top center",
         "type": "scattergl",
         "x": [
          2052699873.0104625,
          2637495443.9896336,
          8973773903.588085,
          6397272048.397037,
          2928193336.685527,
          3299916455.422784,
          5400740250.571766,
          8328763284.215193,
          2218621911.773878,
          5330081118.11904,
          6316761625.880504,
          6612397837.03453,
          4686561184.25367,
          3244558728.6348233,
          3653283288.112809,
          3199902510.732587,
          6019493368.842328,
          4346265280.264215,
          4157958218.796175,
          3548383613.544631,
          2559633795.9885426,
          2341949268.5015426,
          2214920686.1512203,
          3860402760.257668,
          2542880796.149664,
          4728030161.6833105,
          2271870717.768201,
          4852064623.970628,
          3397594002.8846135,
          4138348300.2829695,
          3596740535.497289,
          5130556215.389846,
          3001710617.519372,
          3120380438.577471,
          2910067484.4645624,
          3209028647.202622,
          4426901456.583557,
          3787165074.0294733,
          9296842354.839432,
          2459435737.754662,
          7220778367.028828,
          3213196999.1493764,
          9193689655.227072,
          2869223950.572663,
          8262857732.6918745,
          4962939270.780448,
          8665103182.415596,
          3213577552.6554503,
          3958691290.6854315,
          6900877256.9723625,
          6733460039.254944,
          4523768332.884072,
          7322769048.212122,
          6014444520.635942,
          8961536962.148756,
          6917766676.887746,
          2826460062.172583,
          2604681862.450702,
          3692766488.810121,
          3357724296.187305,
          2763954282.0357795,
          2242767755.1568894,
          2091145026.1770506,
          5805178605.702348,
          4485754167.439067,
          3207078274.7937665,
          2153679568.4428625,
          2780096349.360323,
          4908785259.408662,
          5017131041.991103,
          3100143190.308386,
          8528063516.937727,
          5879654368.716661,
          4904834999.566269,
          8619375884.849266,
          3761515452.3057294,
          2772854778.6978617,
          4073567054.3982363,
          5945138201.244442,
          2516065890.587664,
          2700937841.1928625,
          3715168776.663443,
          3099447800.1271634,
          4988357479.850065,
          4985411152.856952,
          5337391932.811328,
          2683464768.0956287,
          2602322544.5612764,
          2708025659.012843,
          6732881843.825254,
          2420786108.9115644,
          7865531007.378772,
          2385226262.9528713,
          3554175672.9160404,
          8230328456.461555,
          3078350260.861514,
          4482635936.160392,
          6398624648.319341,
          6849350110.882139,
          4777054211.975881,
          3093709454.710558,
          3456803291.1718707,
          6608460600.875841,
          3028172645.752176,
          4199687098.303154,
          4562236376.100311,
          2340331076.9423437,
          5068055776.439801,
          4444396037.691437,
          4911965688.41706,
          3141275601.4790154,
          3572164371.5366087,
          3742619963.934664,
          4424137680.848197,
          3830477939.202738,
          4267611831.3601665,
          3377875216.920971,
          3483203694.2631,
          8768677773.814518,
          4645458724.239267,
          3997980863.332131,
          3790085007.050843,
          3767663856.0199203,
          4820847507.741156,
          2178363684.4641075,
          3702161330.3527126,
          8787834743.788628,
          2687319095.8844275,
          2226839111.613392,
          9360413785.795202,
          8055215678.523676,
          2561214406.7239194,
          8399597362.172361,
          2812979635.3875175,
          2782009103.5054836,
          2734457238.4260836,
          6534364787.717071,
          2534794618.646118,
          4348298599.523435,
          2637399107.6416864,
          4415959928.290455,
          3309032408.8795195,
          9540360022.207672,
          3042566484.1306167
         ],
         "xaxis": "x",
         "y": [
          -3121433.3838744694,
          5460728.1599399615,
          3198878.206780131,
          -5602283.470709568,
          -2820408.5486512976,
          -4969097.277141439,
          -3553346.5780458674,
          101604142.94450662,
          42270226.6028696,
          -4918929.306652116,
          -5564837.874249423,
          13308528.97139064,
          195091164.41440168,
          -3898687.9837750355,
          -5148311.955095712,
          -1334630.566663506,
          24768708.13400534,
          -3621865.981332925,
          57740036.58466612,
          -3584218.5207184358,
          -5011264.609399519,
          -5002834.382245325,
          -4816513.921318536,
          -3514815.108286534,
          -4919616.828468474,
          -5335475.912107244,
          -4890887.439208562,
          3635926.940458302,
          -3465635.5695814393,
          4470605.592669715,
          -5157712.435753958,
          19773656.350629855,
          12068933.288729344,
          -5021556.5469432855,
          -4982087.7056107875,
          6032560.272788697,
          -4943859.306051308,
          4776319.278266342,
          7726946.193509699,
          -4943611.067706991,
          -5809073.819594394,
          -5083085.222065346,
          13005606.075138109,
          -4983198.626955886,
          1942644.3671199363,
          455033556.16798055,
          -6083669.020736587,
          -5003773.016787778,
          134576862.12225717,
          -4533256.95526893,
          -4733561.766831931,
          -4973477.5583183775,
          25058285.557440937,
          -5541681.858937421,
          -5911291.661904331,
          -5670007.172248817,
          6042419.857791751,
          7062708.167930742,
          8794871.547342988,
          1464870.0106864807,
          -4380604.353050605,
          -4943563.179511551,
          1432394.0194771776,
          2224867.8829964744,
          -5088802.660684136,
          -4974071.487909751,
          -4896943.0993650295,
          -4651138.054274383,
          55045407.04967837,
          -5338906.256305512,
          -4981294.05728124,
          -5940249.320618416,
          -5523864.130907673,
          -5381001.087384125,
          -5650104.435967433,
          -1719307.4289817673,
          -361924.67017189093,
          -4713600.139137549,
          -5502055.800273223,
          -5023934.820891539,
          -4597125.532411017,
          -5130872.012562811,
          -4888557.1353931725,
          587623153.9384545,
          718468269.8359231,
          -5527772.616155316,
          -4922843.594212691,
          -5030485.47979533,
          17188757.348637242,
          -5694894.601209258,
          -1690078.4255515581,
          48671664.27676568,
          -2709361.0091223144,
          483691.16177737655,
          -5827638.031684339,
          -5070784.809938424,
          392467610.5229199,
          -3173379.9085731735,
          19144793.641993556,
          -5145447.975588119,
          -3781552.3267309265,
          532054796.83042645,
          3899844.9486336242,
          548865959.2708627,
          -5259288.15686542,
          -2633886.0903377547,
          4977661.67980446,
          29883249.403367452,
          100639293.42814669,
          -5344406.322120091,
          9453478.86383472,
          123091541.00956707,
          1313177171.7840157,
          -5167575.582844563,
          -1895234.856682798,
          -2538864.831659194,
          300873987.15222424,
          70858281.52647926,
          -6064925.839231125,
          7638417.270774038,
          -5074415.501583767,
          -5214933.024280951,
          12690228.873013305,
          43182563.49029375,
          -4852713.517482685,
          -5178727.13613194,
          -6081145.576883201,
          74766.71337438199,
          -4436188.762389823,
          212162115.60200194,
          -5547459.581773023,
          -214288.44212167352,
          -2684951.476057194,
          -5026149.268900197,
          -2582816.424234684,
          605333.5180344981,
          1645394.7844507068,
          121239335.29015805,
          -5332902.901600668,
          -4913038.80459387,
          2703907.9385516443,
          -3926045.3267975003,
          -6007613.716527433,
          26522922.404033337
         ],
         "yaxis": "y"
        }
       ],
       "layout": {
        "height": 600,
        "legend": {
         "title": {
          "text": "Cluster"
         },
         "tracegroupgap": 0
        },
        "margin": {
         "t": 60
        },
        "plot_bgcolor": "rgb(240,240,240)",
        "template": {
         "data": {
          "bar": [
           {
            "error_x": {
             "color": "#2a3f5f"
            },
            "error_y": {
             "color": "#2a3f5f"
            },
            "marker": {
             "line": {
              "color": "#E5ECF6",
              "width": 0.5
             },
             "pattern": {
              "fillmode": "overlay",
              "size": 10,
              "solidity": 0.2
             }
            },
            "type": "bar"
           }
          ],
          "barpolar": [
           {
            "marker": {
             "line": {
              "color": "#E5ECF6",
              "width": 0.5
             },
             "pattern": {
              "fillmode": "overlay",
              "size": 10,
              "solidity": 0.2
             }
            },
            "type": "barpolar"
           }
          ],
          "carpet": [
           {
            "aaxis": {
             "endlinecolor": "#2a3f5f",
             "gridcolor": "white",
             "linecolor": "white",
             "minorgridcolor": "white",
             "startlinecolor": "#2a3f5f"
            },
            "baxis": {
             "endlinecolor": "#2a3f5f",
             "gridcolor": "white",
             "linecolor": "white",
             "minorgridcolor": "white",
             "startlinecolor": "#2a3f5f"
            },
            "type": "carpet"
           }
          ],
          "choropleth": [
           {
            "colorbar": {
             "outlinewidth": 0,
             "ticks": ""
            },
            "type": "choropleth"
           }
          ],
          "contour": [
           {
            "colorbar": {
             "outlinewidth": 0,
             "ticks": ""
            },
            "colorscale": [
             [
              0,
              "#0d0887"
             ],
             [
              0.1111111111111111,
              "#46039f"
             ],
             [
              0.2222222222222222,
              "#7201a8"
             ],
             [
              0.3333333333333333,
              "#9c179e"
             ],
             [
              0.4444444444444444,
              "#bd3786"
             ],
             [
              0.5555555555555556,
              "#d8576b"
             ],
             [
              0.6666666666666666,
              "#ed7953"
             ],
             [
              0.7777777777777778,
              "#fb9f3a"
             ],
             [
              0.8888888888888888,
              "#fdca26"
             ],
             [
              1,
              "#f0f921"
             ]
            ],
            "type": "contour"
           }
          ],
          "contourcarpet": [
           {
            "colorbar": {
             "outlinewidth": 0,
             "ticks": ""
            },
            "type": "contourcarpet"
           }
          ],
          "heatmap": [
           {
            "colorbar": {
             "outlinewidth": 0,
             "ticks": ""
            },
            "colorscale": [
             [
              0,
              "#0d0887"
             ],
             [
              0.1111111111111111,
              "#46039f"
             ],
             [
              0.2222222222222222,
              "#7201a8"
             ],
             [
              0.3333333333333333,
              "#9c179e"
             ],
             [
              0.4444444444444444,
              "#bd3786"
             ],
             [
              0.5555555555555556,
              "#d8576b"
             ],
             [
              0.6666666666666666,
              "#ed7953"
             ],
             [
              0.7777777777777778,
              "#fb9f3a"
             ],
             [
              0.8888888888888888,
              "#fdca26"
             ],
             [
              1,
              "#f0f921"
             ]
            ],
            "type": "heatmap"
           }
          ],
          "heatmapgl": [
           {
            "colorbar": {
             "outlinewidth": 0,
             "ticks": ""
            },
            "colorscale": [
             [
              0,
              "#0d0887"
             ],
             [
              0.1111111111111111,
              "#46039f"
             ],
             [
              0.2222222222222222,
              "#7201a8"
             ],
             [
              0.3333333333333333,
              "#9c179e"
             ],
             [
              0.4444444444444444,
              "#bd3786"
             ],
             [
              0.5555555555555556,
              "#d8576b"
             ],
             [
              0.6666666666666666,
              "#ed7953"
             ],
             [
              0.7777777777777778,
              "#fb9f3a"
             ],
             [
              0.8888888888888888,
              "#fdca26"
             ],
             [
              1,
              "#f0f921"
             ]
            ],
            "type": "heatmapgl"
           }
          ],
          "histogram": [
           {
            "marker": {
             "pattern": {
              "fillmode": "overlay",
              "size": 10,
              "solidity": 0.2
             }
            },
            "type": "histogram"
           }
          ],
          "histogram2d": [
           {
            "colorbar": {
             "outlinewidth": 0,
             "ticks": ""
            },
            "colorscale": [
             [
              0,
              "#0d0887"
             ],
             [
              0.1111111111111111,
              "#46039f"
             ],
             [
              0.2222222222222222,
              "#7201a8"
             ],
             [
              0.3333333333333333,
              "#9c179e"
             ],
             [
              0.4444444444444444,
              "#bd3786"
             ],
             [
              0.5555555555555556,
              "#d8576b"
             ],
             [
              0.6666666666666666,
              "#ed7953"
             ],
             [
              0.7777777777777778,
              "#fb9f3a"
             ],
             [
              0.8888888888888888,
              "#fdca26"
             ],
             [
              1,
              "#f0f921"
             ]
            ],
            "type": "histogram2d"
           }
          ],
          "histogram2dcontour": [
           {
            "colorbar": {
             "outlinewidth": 0,
             "ticks": ""
            },
            "colorscale": [
             [
              0,
              "#0d0887"
             ],
             [
              0.1111111111111111,
              "#46039f"
             ],
             [
              0.2222222222222222,
              "#7201a8"
             ],
             [
              0.3333333333333333,
              "#9c179e"
             ],
             [
              0.4444444444444444,
              "#bd3786"
             ],
             [
              0.5555555555555556,
              "#d8576b"
             ],
             [
              0.6666666666666666,
              "#ed7953"
             ],
             [
              0.7777777777777778,
              "#fb9f3a"
             ],
             [
              0.8888888888888888,
              "#fdca26"
             ],
             [
              1,
              "#f0f921"
             ]
            ],
            "type": "histogram2dcontour"
           }
          ],
          "mesh3d": [
           {
            "colorbar": {
             "outlinewidth": 0,
             "ticks": ""
            },
            "type": "mesh3d"
           }
          ],
          "parcoords": [
           {
            "line": {
             "colorbar": {
              "outlinewidth": 0,
              "ticks": ""
             }
            },
            "type": "parcoords"
           }
          ],
          "pie": [
           {
            "automargin": true,
            "type": "pie"
           }
          ],
          "scatter": [
           {
            "fillpattern": {
             "fillmode": "overlay",
             "size": 10,
             "solidity": 0.2
            },
            "type": "scatter"
           }
          ],
          "scatter3d": [
           {
            "line": {
             "colorbar": {
              "outlinewidth": 0,
              "ticks": ""
             }
            },
            "marker": {
             "colorbar": {
              "outlinewidth": 0,
              "ticks": ""
             }
            },
            "type": "scatter3d"
           }
          ],
          "scattercarpet": [
           {
            "marker": {
             "colorbar": {
              "outlinewidth": 0,
              "ticks": ""
             }
            },
            "type": "scattercarpet"
           }
          ],
          "scattergeo": [
           {
            "marker": {
             "colorbar": {
              "outlinewidth": 0,
              "ticks": ""
             }
            },
            "type": "scattergeo"
           }
          ],
          "scattergl": [
           {
            "marker": {
             "colorbar": {
              "outlinewidth": 0,
              "ticks": ""
             }
            },
            "type": "scattergl"
           }
          ],
          "scattermapbox": [
           {
            "marker": {
             "colorbar": {
              "outlinewidth": 0,
              "ticks": ""
             }
            },
            "type": "scattermapbox"
           }
          ],
          "scatterpolar": [
           {
            "marker": {
             "colorbar": {
              "outlinewidth": 0,
              "ticks": ""
             }
            },
            "type": "scatterpolar"
           }
          ],
          "scatterpolargl": [
           {
            "marker": {
             "colorbar": {
              "outlinewidth": 0,
              "ticks": ""
             }
            },
            "type": "scatterpolargl"
           }
          ],
          "scatterternary": [
           {
            "marker": {
             "colorbar": {
              "outlinewidth": 0,
              "ticks": ""
             }
            },
            "type": "scatterternary"
           }
          ],
          "surface": [
           {
            "colorbar": {
             "outlinewidth": 0,
             "ticks": ""
            },
            "colorscale": [
             [
              0,
              "#0d0887"
             ],
             [
              0.1111111111111111,
              "#46039f"
             ],
             [
              0.2222222222222222,
              "#7201a8"
             ],
             [
              0.3333333333333333,
              "#9c179e"
             ],
             [
              0.4444444444444444,
              "#bd3786"
             ],
             [
              0.5555555555555556,
              "#d8576b"
             ],
             [
              0.6666666666666666,
              "#ed7953"
             ],
             [
              0.7777777777777778,
              "#fb9f3a"
             ],
             [
              0.8888888888888888,
              "#fdca26"
             ],
             [
              1,
              "#f0f921"
             ]
            ],
            "type": "surface"
           }
          ],
          "table": [
           {
            "cells": {
             "fill": {
              "color": "#EBF0F8"
             },
             "line": {
              "color": "white"
             }
            },
            "header": {
             "fill": {
              "color": "#C8D4E3"
             },
             "line": {
              "color": "white"
             }
            },
            "type": "table"
           }
          ]
         },
         "layout": {
          "annotationdefaults": {
           "arrowcolor": "#2a3f5f",
           "arrowhead": 0,
           "arrowwidth": 1
          },
          "autotypenumbers": "strict",
          "coloraxis": {
           "colorbar": {
            "outlinewidth": 0,
            "ticks": ""
           }
          },
          "colorscale": {
           "diverging": [
            [
             0,
             "#8e0152"
            ],
            [
             0.1,
             "#c51b7d"
            ],
            [
             0.2,
             "#de77ae"
            ],
            [
             0.3,
             "#f1b6da"
            ],
            [
             0.4,
             "#fde0ef"
            ],
            [
             0.5,
             "#f7f7f7"
            ],
            [
             0.6,
             "#e6f5d0"
            ],
            [
             0.7,
             "#b8e186"
            ],
            [
             0.8,
             "#7fbc41"
            ],
            [
             0.9,
             "#4d9221"
            ],
            [
             1,
             "#276419"
            ]
           ],
           "sequential": [
            [
             0,
             "#0d0887"
            ],
            [
             0.1111111111111111,
             "#46039f"
            ],
            [
             0.2222222222222222,
             "#7201a8"
            ],
            [
             0.3333333333333333,
             "#9c179e"
            ],
            [
             0.4444444444444444,
             "#bd3786"
            ],
            [
             0.5555555555555556,
             "#d8576b"
            ],
            [
             0.6666666666666666,
             "#ed7953"
            ],
            [
             0.7777777777777778,
             "#fb9f3a"
            ],
            [
             0.8888888888888888,
             "#fdca26"
            ],
            [
             1,
             "#f0f921"
            ]
           ],
           "sequentialminus": [
            [
             0,
             "#0d0887"
            ],
            [
             0.1111111111111111,
             "#46039f"
            ],
            [
             0.2222222222222222,
             "#7201a8"
            ],
            [
             0.3333333333333333,
             "#9c179e"
            ],
            [
             0.4444444444444444,
             "#bd3786"
            ],
            [
             0.5555555555555556,
             "#d8576b"
            ],
            [
             0.6666666666666666,
             "#ed7953"
            ],
            [
             0.7777777777777778,
             "#fb9f3a"
            ],
            [
             0.8888888888888888,
             "#fdca26"
            ],
            [
             1,
             "#f0f921"
            ]
           ]
          },
          "colorway": [
           "#636efa",
           "#EF553B",
           "#00cc96",
           "#ab63fa",
           "#FFA15A",
           "#19d3f3",
           "#FF6692",
           "#B6E880",
           "#FF97FF",
           "#FECB52"
          ],
          "font": {
           "color": "#2a3f5f"
          },
          "geo": {
           "bgcolor": "white",
           "lakecolor": "white",
           "landcolor": "#E5ECF6",
           "showlakes": true,
           "showland": true,
           "subunitcolor": "white"
          },
          "hoverlabel": {
           "align": "left"
          },
          "hovermode": "closest",
          "mapbox": {
           "style": "light"
          },
          "paper_bgcolor": "white",
          "plot_bgcolor": "#E5ECF6",
          "polar": {
           "angularaxis": {
            "gridcolor": "white",
            "linecolor": "white",
            "ticks": ""
           },
           "bgcolor": "#E5ECF6",
           "radialaxis": {
            "gridcolor": "white",
            "linecolor": "white",
            "ticks": ""
           }
          },
          "scene": {
           "xaxis": {
            "backgroundcolor": "#E5ECF6",
            "gridcolor": "white",
            "gridwidth": 2,
            "linecolor": "white",
            "showbackground": true,
            "ticks": "",
            "zerolinecolor": "white"
           },
           "yaxis": {
            "backgroundcolor": "#E5ECF6",
            "gridcolor": "white",
            "gridwidth": 2,
            "linecolor": "white",
            "showbackground": true,
            "ticks": "",
            "zerolinecolor": "white"
           },
           "zaxis": {
            "backgroundcolor": "#E5ECF6",
            "gridcolor": "white",
            "gridwidth": 2,
            "linecolor": "white",
            "showbackground": true,
            "ticks": "",
            "zerolinecolor": "white"
           }
          },
          "shapedefaults": {
           "line": {
            "color": "#2a3f5f"
           }
          },
          "ternary": {
           "aaxis": {
            "gridcolor": "white",
            "linecolor": "white",
            "ticks": ""
           },
           "baxis": {
            "gridcolor": "white",
            "linecolor": "white",
            "ticks": ""
           },
           "bgcolor": "#E5ECF6",
           "caxis": {
            "gridcolor": "white",
            "linecolor": "white",
            "ticks": ""
           }
          },
          "title": {
           "x": 0.05
          },
          "xaxis": {
           "automargin": true,
           "gridcolor": "white",
           "linecolor": "white",
           "ticks": "",
           "title": {
            "standoff": 15
           },
           "zerolinecolor": "white",
           "zerolinewidth": 2
          },
          "yaxis": {
           "automargin": true,
           "gridcolor": "white",
           "linecolor": "white",
           "ticks": "",
           "title": {
            "standoff": 15
           },
           "zerolinecolor": "white",
           "zerolinewidth": 2
          }
         }
        },
        "title": {
         "text": "2D Cluster PCA Plot"
        },
        "xaxis": {
         "anchor": "y",
         "domain": [
          0,
          1
         ],
         "title": {
          "text": "PCA1"
         }
        },
        "yaxis": {
         "anchor": "x",
         "domain": [
          0,
          1
         ],
         "title": {
          "text": "PCA2"
         }
        }
       }
      }
     },
     "metadata": {},
     "output_type": "display_data"
    }
   ],
   "source": [
    "# plot pca cluster plot \n",
    "plot_model(kmeans, plot = 'cluster')"
   ]
  },
  {
   "cell_type": "code",
   "execution_count": 14,
   "metadata": {},
   "outputs": [
    {
     "data": {
      "text/html": [],
      "text/plain": [
       "<IPython.core.display.HTML object>"
      ]
     },
     "metadata": {},
     "output_type": "display_data"
    },
    {
     "data": {
      "image/png": "[encoded data removed]",
      "text/plain": [
       "<Figure size 432x288 with 1 Axes>"
      ]
     },
     "metadata": {
      "needs_background": "light"
     },
     "output_type": "display_data"
    }
   ],
   "source": [
    "# plot elbow\n",
    "plot_model(kmeans, plot = 'elbow')"
   ]
  },
  {
   "cell_type": "code",
   "execution_count": 15,
   "metadata": {},
   "outputs": [
    {
     "data": {
      "text/html": [],
      "text/plain": [
       "<IPython.core.display.HTML object>"
      ]
     },
     "metadata": {},
     "output_type": "display_data"
    },
    {
     "data": {
      "image/png": "[encoded data removed]",
      "text/plain": [
       "<Figure size 432x288 with 1 Axes>"
      ]
     },
     "metadata": {
      "needs_background": "light"
     },
     "output_type": "display_data"
    }
   ],
   "source": [
    "# plot silhouette\n",
    "plot_model(kmeans, plot = 'silhouette')"
   ]
  },
  {
   "cell_type": "code",
   "execution_count": null,
   "metadata": {},
   "outputs": [],
   "source": []
  }
 ],
 "metadata": {
  "kernelspec": {
   "display_name": "Python 3",
   "language": "python",
   "name": "python3"
  },
  "language_info": {
   "codemirror_mode": {
    "name": "ipython",
    "version": 3
   },
   "file_extension": ".py",
   "mimetype": "text/x-python",
   "name": "python",
   "nbconvert_exporter": "python",
   "pygments_lexer": "ipython3",
   "version": "3.7.13"
  },
  "orig_nbformat": 4
 },
 "nbformat": 4,
 "nbformat_minor": 2
}
