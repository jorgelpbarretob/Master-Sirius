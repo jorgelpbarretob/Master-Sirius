{
  "nbformat": 4,
  "nbformat_minor": 0,
  "metadata": {
    "colab": {
      "name": "exercicio_regressao_gabarito.ipynb",
      "provenance": []
    },
    "kernelspec": {
      "name": "python3",
      "display_name": "Python 3"
    },
    "language_info": {
      "name": "python"
    }
  },
  "cells": [
    {
      "cell_type": "markdown",
      "source": [
        "O governo do canadá pediu a ajuda para nossa consultoria Sirius contruir uma IA que consiga fazer a predição da emissão de CO2 na atmosfera considerando algumas características dos carros. Portanto, com a construção dessa IA o governo conseguirá focar em questões relacionadas a melhoria da qualidade do ar.\n",
        "Para a resolução deste exercício você precisará responder várias questões.\n",
        "\n"
      ],
      "metadata": {
        "id": "b6Ys2uQDPZyF"
      }
    },
    {
      "cell_type": "markdown",
      "source": [
        "Aqui uma breve descrição de todas as variáveis disponíveis no dataset:\n",
        "\n",
        "**Variáveis**\n",
        "Tota de variáveis: 12\n",
        "\n",
        "Lingua: Inglês\n",
        "\n",
        "`Make:`\t        Empresa que fez o veículo\n",
        "\n",
        "`Model:`\t        Modelo do carro. (4WD/4X4 = Tração nas quatro rodas, AWD = Tração nas quatro rodas, FFV = Veículo de combustível flexível, SWB = Distância entre eixos curta, LWB = Distância entre eixos longa, EWB = Distância entre eixos estendida)\n",
        "\n",
        "`Vehicle Class: `  Classe do veiculo, dependendo da utilidade, capacidade e peso\n",
        "\n",
        "`Engine Size(L):`  Tamanho do motor usado em litros.\n",
        "\n",
        "`Cylinders:`      Número de cilindros\n",
        "\n",
        "`Transmission:`   Tipo de transmissão com número de engrenagens. (A = Automático, AM = Manual automatizado, AS = Automático com mudança de seleção, AV = Variável continuamente, M = Manual e valores de 3 - 10 = Número das engrenagens.)\n",
        "\n",
        "`Fuel Type:`           Tipo de combustível usado. (X = Gasolina normal, Z = Gasolina premium, D = Diesel, E = Etanol (E85), N = Gás natural)\n",
        "\n",
        "`Fuel Consumption City (L/100 km):`           Consumo de combustível nas estradas da cidade (L / 100 km)\n",
        "\n",
        "`Fuel Consumption Hwy (L/100 km):`            Consumo de combustível em rodovias (L / 100 km)\n",
        "\n",
        "`Fuel Consumption Comb (L/100 km):`         O consumo de combustível combinado (55% cidade, 45% rodovia) é mostrado em L / 100 km\n",
        "\n",
        "`Fuel Consumption Comb (mpg):`       O consumo de combustível combinado na cidade e na rodovia é mostrado em milhas por galão (mpg)\n",
        "\n",
        "`CO2 Emissions(g/km): `    As emissões de dióxido de carbono do tubo de escape (em gramas por quilômetro) para condução combinada em cidade e rodovia\n"
      ],
      "metadata": {
        "id": "o_ziaISVPxRE"
      }
    },
    {
      "cell_type": "markdown",
      "source": [
        "Ao longo desse exercícios vamos tentar responder a perguntas como:\n",
        "\n",
        "1.   Quais variáveis mais impactam na emissão de CO2?\n",
        "2.   Considerando os principais algoritmos de regressão, quais apresentam melhor resultado das métricas R2 e MSE?\n",
        "O que você poderia fazer para melhorar os valores das métricas do melhor \n",
        "1.   O que você poderia fazer para melhorar os valores das métricas do melhor algoritmo?"
      ],
      "metadata": {
        "id": "HD3SR31_QotX"
      }
    },
    {
      "cell_type": "code",
      "execution_count": null,
      "metadata": {
        "id": "Vr0NhAVPPT-v"
      },
      "outputs": [],
      "source": [
        "#Questão 1\n",
        "#Faça as importações necessárias\n"
      ]
    },
    {
      "cell_type": "code",
      "source": [
        "#gabarito questão 1\n",
        "# Importando as primeiras bibliotecas\n",
        "import numpy as np\n",
        "import pandas as pd\n",
        "import seaborn as sns\n",
        "import matplotlib.pyplot as plt\n",
        "from xgboost import XGBRegressor\n",
        "from sklearn.linear_model import LinearRegression\n",
        "from sklearn.neighbors import KNeighborsRegressor\n",
        "from sklearn.ensemble import RandomForestRegressor\n",
        "from sklearn.tree import DecisionTreeRegressor\n",
        "from sklearn import metrics\n",
        "from sklearn.model_selection import train_test_split"
      ],
      "metadata": {
        "id": "tYnIKXBlRX7r"
      },
      "execution_count": null,
      "outputs": []
    },
    {
      "cell_type": "code",
      "source": [
        "#Questão 2\n",
        "#carregue os dados do arquivo csv\n"
      ],
      "metadata": {
        "id": "weiacRSTRaTF"
      },
      "execution_count": null,
      "outputs": []
    },
    {
      "cell_type": "code",
      "source": [
        "#gabarito questão 2\n",
        "df = pd.read_csv('CO2 Emissions_Canada.csv')"
      ],
      "metadata": {
        "id": "VjBfquU1Rger"
      },
      "execution_count": null,
      "outputs": []
    },
    {
      "cell_type": "code",
      "source": [
        "#Questão 3\n",
        "#verifique as informações (info) do dataset e o seu formato (shape) e a sua descrição"
      ],
      "metadata": {
        "id": "G2Y0RQf-R3Fz"
      },
      "execution_count": null,
      "outputs": []
    },
    {
      "cell_type": "code",
      "source": [
        "#gabarito questão 3\n",
        "df.shape\n",
        "df.info()\n",
        "df.describe()"
      ],
      "metadata": {
        "id": "au8h3hwRR66Q"
      },
      "execution_count": null,
      "outputs": []
    },
    {
      "cell_type": "code",
      "source": [
        "#Questão 4\n",
        "# Visualizando a disperção das variáveis em relação a emissão de CO2\n",
        "#dica: use o pairplot para plotar todas de uma vez\n",
        "#ax = sns.pairplot\n",
        "#ax.fig.suptitle('Disperção entre as variaveis',y=1.05)\n"
      ],
      "metadata": {
        "id": "0Hen3olmSRhx"
      },
      "execution_count": null,
      "outputs": []
    },
    {
      "cell_type": "code",
      "source": [
        "#gabarito questão 4\n",
        "ax = sns.pairplot(df,y_vars='CO2 Emissions(g/km)',\n",
        "                  x_vars=['Engine Size(L)', 'Cylinders', 'Fuel Consumption City (L/100 km)',\n",
        "       'Fuel Consumption Hwy (L/100 km)', 'Fuel Consumption Comb (L/100 km)',\n",
        "       'Fuel Consumption Comb (mpg)'])\n",
        "ax.fig.suptitle('Disperção entre as variaveis',y=1.05)\n"
      ],
      "metadata": {
        "id": "jEZ4nHOHSqiJ"
      },
      "execution_count": null,
      "outputs": []
    },
    {
      "cell_type": "code",
      "source": [
        "#Questão 5\n",
        "#Visualizando a distribuição da emissão de CO2\n",
        "#dica: que tal usar um boxplot aqui?\n"
      ],
      "metadata": {
        "id": "0SUFEMmbStmn"
      },
      "execution_count": null,
      "outputs": []
    },
    {
      "cell_type": "code",
      "source": [
        "#gabarito questão 5\n",
        "ax = sns.boxplot(df['CO2 Emissions(g/km)'],orient='v',width=0.2)\n",
        "ax.set_title('Emissão de C02')\n",
        "ax.set_ylabel('g/km')"
      ],
      "metadata": {
        "id": "JtpTF1bzTyXZ"
      },
      "execution_count": null,
      "outputs": []
    },
    {
      "cell_type": "code",
      "source": [
        "#Questão 6\n",
        "#visualize a correlação entre as variáveis\n",
        "#dica: será que um heatmap pode ajudar a gente aqui?\n"
      ],
      "metadata": {
        "id": "TWrkuUN7T1MB"
      },
      "execution_count": null,
      "outputs": []
    },
    {
      "cell_type": "code",
      "source": [
        "#gabarito questão 6\n",
        "plt.figure(figsize=(10, 8))\n",
        "\n",
        "sns.heatmap(df.corr(),vmin = -1, vmax = +1, annot = True)"
      ],
      "metadata": {
        "id": "axvfnarDUJHS"
      },
      "execution_count": null,
      "outputs": []
    },
    {
      "cell_type": "code",
      "source": [
        "#Questão 7\n",
        "#Transforme as variáveis categóricas em númericas usando o Pandas ou sckitlearn\n",
        "#após a transformação, garanta que os novos valores estão no dataset (talvez você precise usar `copy` `concat` )\n",
        "#não se esqueça de apagar as variáveis antigas `drop`\n",
        "#você aqui pode querer rodar tudo duas vezes! Uma vez SEM as variáveis categóricas (apenas as remova do dataset) e a segunda vez transformando as variáveis categóricas\n",
        "#qual versão irá se sair melhor? Porque você acha isso?"
      ],
      "metadata": {
        "id": "wPpVNctpUL2a"
      },
      "execution_count": null,
      "outputs": []
    },
    {
      "cell_type": "code",
      "source": [
        "#Gabarito questão 7\n",
        "make_dummies = pd.get_dummies(df.Make, drop_first=True, prefix='Make') #transformando a coluna Make\n",
        "model_dummies = pd.get_dummies(df.Model, drop_first=True, prefix='Model') #transformando a coluna Model\n",
        "vehicle_class_dummies = pd.get_dummies(df['Vehicle Class'], drop_first=True, prefix='Vehicle_class') #transformando a coluna Vehicle Class\n",
        "transmission_dummies = pd.get_dummies(df.Transmission, drop_first=True, prefix='Transmission') #transformando a coluna transmission\n",
        "fuel_type_dummies = pd.get_dummies(df['Fuel Type'], drop_first=True, prefix='Fuel_type') #transformando a coluna fuel type\n",
        "\n",
        "df_copia = df.copy()\n",
        "df_copia = pd.concat([df_copia, make_dummies], axis=1)\n",
        "df_copia = pd.concat([df_copia, model_dummies], axis=1)\n",
        "df_copia = pd.concat([df_copia, vehicle_class_dummies], axis=1)\n",
        "df_copia = pd.concat([df_copia, transmission_dummies], axis=1)\n",
        "df_copia = pd.concat([df_copia, fuel_type_dummies], axis=1)\n",
        "\n",
        "df_copia.drop(columns=['Make','Model','Vehicle Class','Transmission','Fuel Type'],inplace=True)"
      ],
      "metadata": {
        "id": "qlbnzenMU7wJ"
      },
      "execution_count": null,
      "outputs": []
    },
    {
      "cell_type": "code",
      "source": [
        "#Questão 8\n",
        "#Defina X e y e separa 20% dos dados para test"
      ],
      "metadata": {
        "id": "BszhGKyMU9zz"
      },
      "execution_count": null,
      "outputs": []
    },
    {
      "cell_type": "code",
      "source": [
        "#gabarito questão 8\n",
        "X = df_copia.drop(columns=['CO2 Emissions(g/km)'])\n",
        "y= df_copia['CO2 Emissions(g/km)']\n",
        "X_train,X_test,y_train,y_test = train_test_split(X, y,test_size=0.2, random_state=2811)"
      ],
      "metadata": {
        "id": "U5Pf-VGvV5UE"
      },
      "execution_count": null,
      "outputs": []
    },
    {
      "cell_type": "code",
      "source": [
        "#Questão 9\n",
        "#Antes de começarmos a treinar nossos modelos, que tal criar uma funcão que recebe 2 parâmetros: o valor previsto pelo modelo e o resultado real.\n",
        "#Com base nesse 2 valores, a funcão calcula e imprime o R2, MSE e MAE"
      ],
      "metadata": {
        "id": "7KWgjOFDWEeL"
      },
      "execution_count": null,
      "outputs": []
    },
    {
      "cell_type": "code",
      "source": [
        "#gabarito questão 9\n",
        "def calculando_metricas(predicao, real):\n",
        "    print(\"R2 do modelo = {}\".format(metrics.r2_score(real,predicao).round(4)))\n",
        "    print(\"MAE do modelo = {}\".format(metrics.mean_absolute_error(real,predicao).round(4)))\n",
        "    print(\"MSE do modelo = {}\".format(metrics.mean_squared_error(real,predicao).round(4)))\n"
      ],
      "metadata": {
        "id": "bRCuWhzIWgxO"
      },
      "execution_count": null,
      "outputs": []
    },
    {
      "cell_type": "code",
      "source": [
        "#Quais variáveis tem mais importância pro nosso modelo?\n",
        "#vamos usar o código abaixo para criar uma função que exiba as 10 variáveis que tem mais peso na predição do modelo\n",
        "#Você consegue entender o que essa função está fazendo?\n",
        "def feature_importance(modelo):\n",
        "    importances = pd.Series(data=modelo.feature_importances_, index=df_copia.drop(columns=['CO2 Emissions(g/km)']).columns)\n",
        "    importances.sort_values(ascending=False, inplace=True) #ordenando as variáveis\n",
        "    sns.barplot(x=importances[:10], y=importances.index[:10], orient='h').set_title('Importância de cada feature')\n"
      ],
      "metadata": {
        "id": "tubr9SrPXW-L"
      },
      "execution_count": null,
      "outputs": []
    },
    {
      "cell_type": "code",
      "source": [
        "#Escolha um modelo de regressão de sua preferência mais o Decision Tree, Random Forest e o XGBoost para treinar e testar. \n",
        "#Para os 3 últimos (DT, RF e  XGB) calcule quais as features mais importantes usando a função que acabamos de criar\n",
        "#Para cada um deles responda:\n",
        "#1- Como foram as métricas de avaliação do modelo?\n",
        "#2- Para os 3 últimos, responda: Quais features foram as mais importantes para o modelo? "
      ],
      "metadata": {
        "id": "BK5cDCaJXa8n"
      },
      "execution_count": null,
      "outputs": []
    },
    {
      "cell_type": "code",
      "source": [
        "#Questão 10 - Modelo 1 - a sua escolha"
      ],
      "metadata": {
        "id": "Y645mWSZYYc0"
      },
      "execution_count": null,
      "outputs": []
    },
    {
      "cell_type": "code",
      "source": [
        "#gabarito questão 10\n",
        "from sklearn.neighbors import KNeighborsRegressor\n",
        "modeloLR = KNeighborsRegressor()\n",
        "modeloLR.fit(X_train,y_train)\n",
        "predicaoLR = modeloLR.predict(X_test)\n",
        "calculando_metricas(predicaoLR, y_test)\n",
        "#feature_importance(modeloLR)"
      ],
      "metadata": {
        "id": "tjL1cVTSYcX8"
      },
      "execution_count": null,
      "outputs": []
    },
    {
      "cell_type": "code",
      "source": [
        "#Questão 11 - Modelo 2 - Decision Tree"
      ],
      "metadata": {
        "id": "SFjjf98jYd9M"
      },
      "execution_count": null,
      "outputs": []
    },
    {
      "cell_type": "code",
      "source": [
        "#gabarito questão 11\n",
        "modeloDT = DecisionTreeRegressor()\n",
        "modeloDT.fit(X_train,y_train)\n",
        "predicaoDT = modeloDT.predict(X_test)\n",
        "calculando_metricas(predicaoDT, y_test)\n",
        "feature_importance(modeloDT)"
      ],
      "metadata": {
        "id": "303JT38jYgvn"
      },
      "execution_count": null,
      "outputs": []
    },
    {
      "cell_type": "code",
      "source": [
        "#Questão 12 - Modelo 3 - Random Forest"
      ],
      "metadata": {
        "id": "fgKiRWiPYi8O"
      },
      "execution_count": null,
      "outputs": []
    },
    {
      "cell_type": "code",
      "source": [
        "#Gabarito questão 12\n",
        "modeloRF = RandomForestRegressor()\n",
        "modeloRF.fit(X_train,y_train)\n",
        "predicaoRF = modeloRF.predict(X_test)\n",
        "calculando_metricas(predicaoRF, y_test)\n",
        "feature_importance(modeloRF)"
      ],
      "metadata": {
        "id": "nO4dPZT2YlUm"
      },
      "execution_count": null,
      "outputs": []
    },
    {
      "cell_type": "code",
      "source": [
        "#Questão 13 - XGBoost"
      ],
      "metadata": {
        "id": "vYX1dFNUYnJi"
      },
      "execution_count": null,
      "outputs": []
    },
    {
      "cell_type": "code",
      "source": [
        "#gabarito questão 13\n",
        "modeloXGB = XGBRegressor()\n",
        "modeloXGB.fit(X_train,y_train)\n",
        "predicaoXGB = modeloXGB.predict(X_test)\n",
        "calculando_metricas(predicaoXGB, y_test)\n",
        "feature_importance(modeloXGB)"
      ],
      "metadata": {
        "id": "_UBThPUPYqXX"
      },
      "execution_count": null,
      "outputs": []
    },
    {
      "cell_type": "code",
      "source": [
        "#Questão 14\n",
        "#Você consegue alterar os parâmetros do XGBoost para que ele alcance um resultado melhor?"
      ],
      "metadata": {
        "id": "OQ3cY-Jec-uu"
      },
      "execution_count": null,
      "outputs": []
    }
  ]
}