{
  "cells": [
    {
      "cell_type": "markdown",
      "metadata": {
        "id": "bPYgc7UHk8Wt"
      },
      "source": [
        "# Regressão Logística Multinomial\n",
        "\n",
        "Já vimos a regressão logística binomial, em que a variável $y$ só assume dois valores, agora iremos tratar de problemas em que a variável $y$ assume mais de dois valores, essa é chamada regressão logística multinomial.\n",
        "\n",
        "A função que usaremos para implementar a regressão logística multinomial é dada por $$p(x) = \\frac{1}{1 + e^{-(b_0 + b_1 x_1 + \\cdots + b_n x_n)}}$$\n",
        "\n",
        "em que $x_1, \\ldots, x_n$ são as variáveis utilizadas para prever $y$ e $b_0, b_1, \\ldots, b_n$ são os coeficientes do modelos a serem estimados. Esses coeficientes devem ser tais que a função $p(x)$ obtenha a melhor taxa possível de classificação de $y$, dado $x$; isto, em geral, é feito maximizando a função de [log verossimilhança](https://pt.wikipedia.org/wiki/Fun%C3%A7%C3%A3o_de_verossimilhan%C3%A7a).\n",
        "\n",
        "A função $p(x)$ é normalmente interpretada como a probabilidade de que $y$ seja 1, dado $x$. Consequentemente, $1-p(x)$ é a probabilidade de que $y$ seja 0, dado $x$.\n",
        "\n",
        "\n",
        "Você deve estar se perguntando \"Como vamos adaptar a regressão logística que só servia para duas classes para o caso de mais classes?\". Existe mais de uma forma de fazer isso, podemos, por exemplo, considerar classe 0 e não 0 e ajustar 1 modelo de regressão logística; após isso a classe não 0 é dividida em 1 e não 1, e ajusta-se outro modelo de regressão logística e assim sucessivamente até dividir todas as classes."
      ]
    },
    {
      "cell_type": "markdown",
      "metadata": {
        "id": "ynczv8RdtupL"
      },
      "source": [
        "Vejamos isso na prática!\n",
        "\n",
        "Será que podemos estimar o `% de pobres` com base na `Porcentagem de Ativos`  e no `IDH` para o estado de Minas Gerais? Será que podemos obter alguma interpretação de tal modelo?\n",
        "\n",
        "A variável `Porcentagem de Ativos` é a porcentagem da população em idade economicamente ativa (entre 25 e 64 anos).\n",
        "\n",
        "Nós já lidamos com esse problema na parte de regressão linear, vejamos outra abordagem possível."
      ]
    },
    {
      "cell_type": "code",
      "execution_count": 16,
      "metadata": {
        "id": "y4uD071Xj9_V"
      },
      "outputs": [],
      "source": [
        "import pandas as pd"
      ]
    },
    {
      "cell_type": "code",
      "execution_count": 17,
      "metadata": {
        "colab": {
          "base_uri": "https://localhost:8080/",
          "height": 403
        },
        "id": "OGGvBh-Wj96l",
        "outputId": "8ff44854-4319-4e40-c580-fc4e54211555"
      },
      "outputs": [
        {
          "data": {
            "text/html": [
              "<div>\n",
              "<style scoped>\n",
              "    .dataframe tbody tr th:only-of-type {\n",
              "        vertical-align: middle;\n",
              "    }\n",
              "\n",
              "    .dataframe tbody tr th {\n",
              "        vertical-align: top;\n",
              "    }\n",
              "\n",
              "    .dataframe thead th {\n",
              "        text-align: right;\n",
              "    }\n",
              "</style>\n",
              "<table border=\"1\" class=\"dataframe\">\n",
              "  <thead>\n",
              "    <tr style=\"text-align: right;\">\n",
              "      <th></th>\n",
              "      <th>nomeLocalidade</th>\n",
              "      <th>estado</th>\n",
              "      <th>População residente</th>\n",
              "      <th>Densidade demográfica</th>\n",
              "      <th>Porcentagem de Jovens</th>\n",
              "      <th>Porcentagem de Ativos</th>\n",
              "      <th>Porcentagem de Idosos</th>\n",
              "      <th>Taxa de Urbanização</th>\n",
              "      <th>Taxa de Saneamento Básico</th>\n",
              "      <th>Ativos com Baixo Nível Educacional</th>\n",
              "      <th>...</th>\n",
              "      <th>Percentual de empresas do setor terciário em relação ao total</th>\n",
              "      <th>Percentual de trabalhadores do setor primário em relação ao total</th>\n",
              "      <th>Percentual de trabalhadores do setor secundário em relação ao total</th>\n",
              "      <th>Percentual de trabalhadores do setor terciário em relação ao total</th>\n",
              "      <th>Média Salarial</th>\n",
              "      <th>Produtividade</th>\n",
              "      <th>Taxa de desemprego dos jovens</th>\n",
              "      <th>Taxa de desemprego</th>\n",
              "      <th>Número de trabalhadores(Comerciais, hotéis e restaurantes) por 1,000 habitantes</th>\n",
              "      <th>Número de ativos culturais e de lazer por 10,000 habitantes</th>\n",
              "    </tr>\n",
              "  </thead>\n",
              "  <tbody>\n",
              "    <tr>\n",
              "      <th>0</th>\n",
              "      <td>Acrelândia</td>\n",
              "      <td>Acre</td>\n",
              "      <td>12538</td>\n",
              "      <td>6.93</td>\n",
              "      <td>52.92</td>\n",
              "      <td>43.04</td>\n",
              "      <td>4.04</td>\n",
              "      <td>48.34</td>\n",
              "      <td>0.00</td>\n",
              "      <td>75.34</td>\n",
              "      <td>...</td>\n",
              "      <td>75.41</td>\n",
              "      <td>8.86</td>\n",
              "      <td>21.53</td>\n",
              "      <td>34.07</td>\n",
              "      <td>994.67</td>\n",
              "      <td>2654247.23</td>\n",
              "      <td>19.17</td>\n",
              "      <td>9.62</td>\n",
              "      <td>12.12</td>\n",
              "      <td>0.0</td>\n",
              "    </tr>\n",
              "    <tr>\n",
              "      <th>1</th>\n",
              "      <td>Assis Brasil</td>\n",
              "      <td>Acre</td>\n",
              "      <td>6072</td>\n",
              "      <td>1.22</td>\n",
              "      <td>55.58</td>\n",
              "      <td>40.07</td>\n",
              "      <td>4.35</td>\n",
              "      <td>65.30</td>\n",
              "      <td>2.39</td>\n",
              "      <td>66.83</td>\n",
              "      <td>...</td>\n",
              "      <td>100.00</td>\n",
              "      <td>0.60</td>\n",
              "      <td>0.00</td>\n",
              "      <td>36.25</td>\n",
              "      <td>1163.49</td>\n",
              "      <td>2113108.99</td>\n",
              "      <td>10.57</td>\n",
              "      <td>7.44</td>\n",
              "      <td>17.79</td>\n",
              "      <td>0.0</td>\n",
              "    </tr>\n",
              "    <tr>\n",
              "      <th>2</th>\n",
              "      <td>Brasiléia</td>\n",
              "      <td>Acre</td>\n",
              "      <td>21398</td>\n",
              "      <td>5.46</td>\n",
              "      <td>51.88</td>\n",
              "      <td>42.76</td>\n",
              "      <td>5.37</td>\n",
              "      <td>70.02</td>\n",
              "      <td>21.27</td>\n",
              "      <td>70.67</td>\n",
              "      <td>...</td>\n",
              "      <td>83.85</td>\n",
              "      <td>2.53</td>\n",
              "      <td>17.70</td>\n",
              "      <td>33.83</td>\n",
              "      <td>818.65</td>\n",
              "      <td>2376384.22</td>\n",
              "      <td>11.13</td>\n",
              "      <td>5.96</td>\n",
              "      <td>14.58</td>\n",
              "      <td>0.0</td>\n",
              "    </tr>\n",
              "    <tr>\n",
              "      <th>3</th>\n",
              "      <td>Bujari</td>\n",
              "      <td>Acre</td>\n",
              "      <td>8471</td>\n",
              "      <td>2.79</td>\n",
              "      <td>52.71</td>\n",
              "      <td>42.60</td>\n",
              "      <td>4.69</td>\n",
              "      <td>44.07</td>\n",
              "      <td>0.16</td>\n",
              "      <td>71.05</td>\n",
              "      <td>...</td>\n",
              "      <td>53.33</td>\n",
              "      <td>31.34</td>\n",
              "      <td>1.04</td>\n",
              "      <td>29.40</td>\n",
              "      <td>897.30</td>\n",
              "      <td>2668575.85</td>\n",
              "      <td>9.76</td>\n",
              "      <td>3.41</td>\n",
              "      <td>5.78</td>\n",
              "      <td>0.0</td>\n",
              "    </tr>\n",
              "    <tr>\n",
              "      <th>4</th>\n",
              "      <td>Capixaba</td>\n",
              "      <td>Acre</td>\n",
              "      <td>8798</td>\n",
              "      <td>5.17</td>\n",
              "      <td>53.92</td>\n",
              "      <td>41.92</td>\n",
              "      <td>4.16</td>\n",
              "      <td>44.60</td>\n",
              "      <td>0.82</td>\n",
              "      <td>77.90</td>\n",
              "      <td>...</td>\n",
              "      <td>62.50</td>\n",
              "      <td>4.30</td>\n",
              "      <td>30.37</td>\n",
              "      <td>10.32</td>\n",
              "      <td>843.49</td>\n",
              "      <td>2803488.37</td>\n",
              "      <td>6.35</td>\n",
              "      <td>4.14</td>\n",
              "      <td>7.73</td>\n",
              "      <td>0.0</td>\n",
              "    </tr>\n",
              "  </tbody>\n",
              "</table>\n",
              "<p>5 rows × 40 columns</p>\n",
              "</div>"
            ],
            "text/plain": [
              "  nomeLocalidade estado  População residente  Densidade demográfica  \\\n",
              "0     Acrelândia   Acre                12538                   6.93   \n",
              "1   Assis Brasil   Acre                 6072                   1.22   \n",
              "2      Brasiléia   Acre                21398                   5.46   \n",
              "3         Bujari   Acre                 8471                   2.79   \n",
              "4       Capixaba   Acre                 8798                   5.17   \n",
              "\n",
              "   Porcentagem de Jovens  Porcentagem de Ativos  Porcentagem de Idosos  \\\n",
              "0                  52.92                  43.04                   4.04   \n",
              "1                  55.58                  40.07                   4.35   \n",
              "2                  51.88                  42.76                   5.37   \n",
              "3                  52.71                  42.60                   4.69   \n",
              "4                  53.92                  41.92                   4.16   \n",
              "\n",
              "   Taxa de Urbanização  Taxa de Saneamento Básico  \\\n",
              "0                48.34                       0.00   \n",
              "1                65.30                       2.39   \n",
              "2                70.02                      21.27   \n",
              "3                44.07                       0.16   \n",
              "4                44.60                       0.82   \n",
              "\n",
              "   Ativos com Baixo Nível Educacional  ...  \\\n",
              "0                               75.34  ...   \n",
              "1                               66.83  ...   \n",
              "2                               70.67  ...   \n",
              "3                               71.05  ...   \n",
              "4                               77.90  ...   \n",
              "\n",
              "   Percentual de empresas do setor terciário em relação ao total  \\\n",
              "0                                              75.41               \n",
              "1                                             100.00               \n",
              "2                                              83.85               \n",
              "3                                              53.33               \n",
              "4                                              62.50               \n",
              "\n",
              "   Percentual de trabalhadores do setor primário em relação ao total  \\\n",
              "0                                               8.86                   \n",
              "1                                               0.60                   \n",
              "2                                               2.53                   \n",
              "3                                              31.34                   \n",
              "4                                               4.30                   \n",
              "\n",
              "   Percentual de trabalhadores do setor secundário em relação ao total  \\\n",
              "0                                              21.53                     \n",
              "1                                               0.00                     \n",
              "2                                              17.70                     \n",
              "3                                               1.04                     \n",
              "4                                              30.37                     \n",
              "\n",
              "   Percentual de trabalhadores do setor terciário em relação ao total  \\\n",
              "0                                              34.07                    \n",
              "1                                              36.25                    \n",
              "2                                              33.83                    \n",
              "3                                              29.40                    \n",
              "4                                              10.32                    \n",
              "\n",
              "   Média Salarial  Produtividade  Taxa de desemprego dos jovens  \\\n",
              "0          994.67     2654247.23                          19.17   \n",
              "1         1163.49     2113108.99                          10.57   \n",
              "2          818.65     2376384.22                          11.13   \n",
              "3          897.30     2668575.85                           9.76   \n",
              "4          843.49     2803488.37                           6.35   \n",
              "\n",
              "   Taxa de desemprego  \\\n",
              "0                9.62   \n",
              "1                7.44   \n",
              "2                5.96   \n",
              "3                3.41   \n",
              "4                4.14   \n",
              "\n",
              "   Número de trabalhadores(Comerciais, hotéis e restaurantes) por 1,000 habitantes  \\\n",
              "0                                              12.12                                 \n",
              "1                                              17.79                                 \n",
              "2                                              14.58                                 \n",
              "3                                               5.78                                 \n",
              "4                                               7.73                                 \n",
              "\n",
              "   Número de ativos culturais e de lazer por 10,000 habitantes  \n",
              "0                                                0.0            \n",
              "1                                                0.0            \n",
              "2                                                0.0            \n",
              "3                                                0.0            \n",
              "4                                                0.0            \n",
              "\n",
              "[5 rows x 40 columns]"
            ]
          },
          "execution_count": 17,
          "metadata": {},
          "output_type": "execute_result"
        }
      ],
      "source": [
        "df = pd.read_csv('Fonte dos Dados.csv')\n",
        "df.head()"
      ]
    },
    {
      "cell_type": "markdown",
      "metadata": {
        "id": "r5ygMFXrDMjB"
      },
      "source": [
        "Vamos selecionar apenas as variáveis `Taxa de Urbanização`, `IDH` e `% de pobres` para o estado de Minas Gerais."
      ]
    },
    {
      "cell_type": "code",
      "execution_count": 18,
      "metadata": {
        "id": "r3rpdaaxuyIo"
      },
      "outputs": [],
      "source": [
        "# separando os dados apenas para o estado de Minas Gerais\n",
        "df = df[df['estado'] == 'Minas Gerais'].reset_index()"
      ]
    },
    {
      "cell_type": "code",
      "execution_count": 19,
      "metadata": {
        "colab": {
          "base_uri": "https://localhost:8080/",
          "height": 206
        },
        "id": "7GBhchiFuzEW",
        "outputId": "0b43dc7d-c289-4ce2-a875-61cef3c7f1d4"
      },
      "outputs": [
        {
          "data": {
            "text/html": [
              "<div>\n",
              "<style scoped>\n",
              "    .dataframe tbody tr th:only-of-type {\n",
              "        vertical-align: middle;\n",
              "    }\n",
              "\n",
              "    .dataframe tbody tr th {\n",
              "        vertical-align: top;\n",
              "    }\n",
              "\n",
              "    .dataframe thead th {\n",
              "        text-align: right;\n",
              "    }\n",
              "</style>\n",
              "<table border=\"1\" class=\"dataframe\">\n",
              "  <thead>\n",
              "    <tr style=\"text-align: right;\">\n",
              "      <th></th>\n",
              "      <th>Porcentagem de Ativos</th>\n",
              "      <th>IDH</th>\n",
              "      <th>% de pobres</th>\n",
              "    </tr>\n",
              "  </thead>\n",
              "  <tbody>\n",
              "    <tr>\n",
              "      <th>0</th>\n",
              "      <td>55.83</td>\n",
              "      <td>0.84</td>\n",
              "      <td>7.94</td>\n",
              "    </tr>\n",
              "    <tr>\n",
              "      <th>1</th>\n",
              "      <td>52.61</td>\n",
              "      <td>0.85</td>\n",
              "      <td>6.69</td>\n",
              "    </tr>\n",
              "    <tr>\n",
              "      <th>2</th>\n",
              "      <td>50.31</td>\n",
              "      <td>0.82</td>\n",
              "      <td>23.33</td>\n",
              "    </tr>\n",
              "    <tr>\n",
              "      <th>3</th>\n",
              "      <td>48.35</td>\n",
              "      <td>0.82</td>\n",
              "      <td>26.53</td>\n",
              "    </tr>\n",
              "    <tr>\n",
              "      <th>4</th>\n",
              "      <td>45.88</td>\n",
              "      <td>0.84</td>\n",
              "      <td>30.70</td>\n",
              "    </tr>\n",
              "  </tbody>\n",
              "</table>\n",
              "</div>"
            ],
            "text/plain": [
              "   Porcentagem de Ativos   IDH  % de pobres\n",
              "0                  55.83  0.84         7.94\n",
              "1                  52.61  0.85         6.69\n",
              "2                  50.31  0.82        23.33\n",
              "3                  48.35  0.82        26.53\n",
              "4                  45.88  0.84        30.70"
            ]
          },
          "execution_count": 19,
          "metadata": {},
          "output_type": "execute_result"
        }
      ],
      "source": [
        "# selecionando apenas as variáveis de interesse\n",
        "df = df[['Porcentagem de Ativos', 'IDH', '% de pobres']]\n",
        "df.head()"
      ]
    },
    {
      "cell_type": "code",
      "execution_count": 20,
      "metadata": {
        "colab": {
          "base_uri": "https://localhost:8080/",
          "height": 143
        },
        "id": "LQUYPMN0bQlk",
        "outputId": "658712c3-bf50-4619-85ea-a231c3a22449"
      },
      "outputs": [
        {
          "data": {
            "text/html": [
              "<div>\n",
              "<style scoped>\n",
              "    .dataframe tbody tr th:only-of-type {\n",
              "        vertical-align: middle;\n",
              "    }\n",
              "\n",
              "    .dataframe tbody tr th {\n",
              "        vertical-align: top;\n",
              "    }\n",
              "\n",
              "    .dataframe thead th {\n",
              "        text-align: right;\n",
              "    }\n",
              "</style>\n",
              "<table border=\"1\" class=\"dataframe\">\n",
              "  <thead>\n",
              "    <tr style=\"text-align: right;\">\n",
              "      <th></th>\n",
              "      <th>Porcentagem de Ativos</th>\n",
              "      <th>IDH</th>\n",
              "      <th>% de pobres</th>\n",
              "    </tr>\n",
              "  </thead>\n",
              "  <tbody>\n",
              "    <tr>\n",
              "      <th>Porcentagem de Ativos</th>\n",
              "      <td>1.000000</td>\n",
              "      <td>0.650718</td>\n",
              "      <td>-0.831380</td>\n",
              "    </tr>\n",
              "    <tr>\n",
              "      <th>IDH</th>\n",
              "      <td>0.650718</td>\n",
              "      <td>1.000000</td>\n",
              "      <td>-0.721518</td>\n",
              "    </tr>\n",
              "    <tr>\n",
              "      <th>% de pobres</th>\n",
              "      <td>-0.831380</td>\n",
              "      <td>-0.721518</td>\n",
              "      <td>1.000000</td>\n",
              "    </tr>\n",
              "  </tbody>\n",
              "</table>\n",
              "</div>"
            ],
            "text/plain": [
              "                       Porcentagem de Ativos       IDH  % de pobres\n",
              "Porcentagem de Ativos               1.000000  0.650718    -0.831380\n",
              "IDH                                 0.650718  1.000000    -0.721518\n",
              "% de pobres                        -0.831380 -0.721518     1.000000"
            ]
          },
          "execution_count": 20,
          "metadata": {},
          "output_type": "execute_result"
        }
      ],
      "source": [
        "# verificando a correlação linear\n",
        "df.corr()"
      ]
    },
    {
      "cell_type": "markdown",
      "metadata": {
        "id": "hrpIdH6w2cmi"
      },
      "source": [
        "Agora precisamos criar uma variável categórica para a variável `% de pobres`. Para isso vamos obter os quartis para a variável `% de pobres`."
      ]
    },
    {
      "cell_type": "code",
      "execution_count": 21,
      "metadata": {
        "colab": {
          "base_uri": "https://localhost:8080/",
          "height": 279
        },
        "id": "YQvmc-uMf6YF",
        "outputId": "929be450-4323-433f-93f3-674b20252a73"
      },
      "outputs": [
        {
          "data": {
            "image/png": "[encoded data removed]",
            "text/plain": [
              "<Figure size 640x480 with 1 Axes>"
            ]
          },
          "metadata": {},
          "output_type": "display_data"
        }
      ],
      "source": [
        "import seaborn as sns\n",
        "sns.histplot(df['% de pobres']);"
      ]
    },
    {
      "cell_type": "code",
      "execution_count": 22,
      "metadata": {
        "colab": {
          "base_uri": "https://localhost:8080/"
        },
        "id": "xL7lEBDtfQdM",
        "outputId": "c349b6be-5abf-4f89-9040-edd477203959"
      },
      "outputs": [
        {
          "data": {
            "text/plain": [
              "0.00     1.18\n",
              "0.25     7.90\n",
              "0.50    14.09\n",
              "0.75    24.83\n",
              "1.00    57.66\n",
              "Name: % de pobres, dtype: float64"
            ]
          },
          "execution_count": 22,
          "metadata": {},
          "output_type": "execute_result"
        }
      ],
      "source": [
        "df['% de pobres'].quantile(q=[0, 0.25, 0.5, 0.75, 1])"
      ]
    },
    {
      "cell_type": "markdown",
      "metadata": {
        "id": "j_6iE5lcfRAe"
      },
      "source": [
        "Faremos isso da seguinte forma: se o valor da variável `% de pobres` for menor que a 7.9, iremos atribuir o valor 0; se estiver entre 7.9 e 14.09, iremos atribuis o valor 1; se estiver entre 14.09 e 24.83, iremos atribuir o valor 2; caso contrário iremos atribuir 3.\n",
        "\n",
        "Ao fazer isso estamos considerando que 0 indica baixa porcentagem de pobres; 1 indica valor moderado de porcentagem de pobres; 2 indica valor alto, e 3 indica valor muito alto.\n",
        "\n",
        "Vamos criar condições e valores para serem usados na criação da coluna categórica."
      ]
    },
    {
      "cell_type": "code",
      "execution_count": 23,
      "metadata": {
        "id": "gfI634deLjM2"
      },
      "outputs": [],
      "source": [
        "# criando lista de condições\n",
        "condicoes = [\n",
        "    (df['% de pobres'] <= 7.9),\n",
        "    (df['% de pobres'] > 7.9) & (df['% de pobres'] <= 14.09),\n",
        "    (df['% de pobres'] > 14.09) & (df['% de pobres'] <= 24.83),\n",
        "    (df['% de pobres'] > 24.83)\n",
        "    ]\n",
        "\n",
        "# criando lista de valores para cada condição\n",
        "valores = [0, 1, 2, 3]\n",
        "\n",
        "\n",
        "import numpy as np\n",
        "# criando uma coluna categórica usando os valores e as condições\n",
        "df['% de pobres categórica'] = np.select(condicoes, valores)"
      ]
    },
    {
      "cell_type": "markdown",
      "metadata": {
        "id": "Bd4cdOenUBp4"
      },
      "source": [
        "Poderíamos fazer a classificação dos grupos usando outras técnicas, como agrupamento."
      ]
    },
    {
      "cell_type": "markdown",
      "metadata": {
        "id": "5BCOirYS1Pwb"
      },
      "source": [
        "Vamos observar se as classes estão balanceadas."
      ]
    },
    {
      "cell_type": "code",
      "execution_count": 24,
      "metadata": {
        "colab": {
          "base_uri": "https://localhost:8080/",
          "height": 280
        },
        "id": "SrJ6EcNN1TnE",
        "outputId": "d2b060bc-78cc-4d17-a150-05d04528ed96"
      },
      "outputs": [
        {
          "data": {
            "image/png": "[encoded data removed]",
            "text/plain": [
              "<Figure size 640x480 with 1 Axes>"
            ]
          },
          "metadata": {},
          "output_type": "display_data"
        }
      ],
      "source": [
        "sns.countplot(x=df['% de pobres categórica']);"
      ]
    },
    {
      "cell_type": "code",
      "execution_count": 25,
      "metadata": {
        "id": "inqE0_kvj94z"
      },
      "outputs": [],
      "source": [
        "# separando as variáveis dependente e independente\n",
        "X = df[['Porcentagem de Ativos', 'IDH']]\n",
        "y = df['% de pobres categórica']"
      ]
    },
    {
      "cell_type": "markdown",
      "metadata": {
        "id": "BMZMuH5L4DEt"
      },
      "source": [
        "Vamos usar a biblioteca `statsmodels` para criar o modelo de regressão logística, embora isso também pudesse ser feito com o `scikit-learn`."
      ]
    },
    {
      "cell_type": "code",
      "execution_count": 26,
      "metadata": {
        "id": "WOqAN-cRk7W3"
      },
      "outputs": [],
      "source": [
        "# importando o statsmodels para criar o modelo de regressão logística\n",
        "import statsmodels.api as sm\n",
        "from statsmodels.discrete.discrete_model import MNLogit"
      ]
    },
    {
      "cell_type": "markdown",
      "metadata": {
        "id": "nEY_R7dg4MVj"
      },
      "source": [
        "Assim como na regressão linear, temos que adicionar uma constante à variável X."
      ]
    },
    {
      "cell_type": "code",
      "execution_count": 27,
      "metadata": {
        "colab": {
          "base_uri": "https://localhost:8080/"
        },
        "id": "U0LWAEIGN9WB",
        "outputId": "7e4f7fb4-0d84-4a7a-be43-afa0b5d0d19b"
      },
      "outputs": [],
      "source": [
        "X = sm.add_constant(X)"
      ]
    },
    {
      "cell_type": "code",
      "execution_count": 28,
      "metadata": {
        "colab": {
          "base_uri": "https://localhost:8080/"
        },
        "id": "dZhHXu3lBhEO",
        "outputId": "e49e00a3-6942-405f-fd4c-079631cbcddf"
      },
      "outputs": [
        {
          "name": "stdout",
          "output_type": "stream",
          "text": [
            "Optimization terminated successfully.\n",
            "         Current function value: 0.846556\n",
            "         Iterations 8\n"
          ]
        }
      ],
      "source": [
        "# criando modelo de regressão logística\n",
        "modelo = MNLogit(y, X).fit()"
      ]
    },
    {
      "cell_type": "markdown",
      "metadata": {
        "id": "xNYNGhFd4aeV"
      },
      "source": [
        "Também conseguimos fazer previsões. Para o modelo de regressão logística do `statsmodels` a previsão retornará apenas a probabilidade de se estar em cada categoria. Precisamos fazer um pequeno tratamento para obtermos apenas 0, 1, 2 ou 3."
      ]
    },
    {
      "cell_type": "code",
      "execution_count": 29,
      "metadata": {
        "colab": {
          "base_uri": "https://localhost:8080/",
          "height": 423
        },
        "id": "x3QqabTtPY1O",
        "outputId": "eab20a7f-03aa-449b-8bf8-5d5071366ce0"
      },
      "outputs": [
        {
          "data": {
            "text/html": [
              "<div>\n",
              "<style scoped>\n",
              "    .dataframe tbody tr th:only-of-type {\n",
              "        vertical-align: middle;\n",
              "    }\n",
              "\n",
              "    .dataframe tbody tr th {\n",
              "        vertical-align: top;\n",
              "    }\n",
              "\n",
              "    .dataframe thead th {\n",
              "        text-align: right;\n",
              "    }\n",
              "</style>\n",
              "<table border=\"1\" class=\"dataframe\">\n",
              "  <thead>\n",
              "    <tr style=\"text-align: right;\">\n",
              "      <th></th>\n",
              "      <th>0</th>\n",
              "      <th>1</th>\n",
              "      <th>2</th>\n",
              "      <th>3</th>\n",
              "    </tr>\n",
              "  </thead>\n",
              "  <tbody>\n",
              "    <tr>\n",
              "      <th>0</th>\n",
              "      <td>0.635116</td>\n",
              "      <td>0.327047</td>\n",
              "      <td>0.037729</td>\n",
              "      <td>0.000108</td>\n",
              "    </tr>\n",
              "    <tr>\n",
              "      <th>1</th>\n",
              "      <td>0.519040</td>\n",
              "      <td>0.378361</td>\n",
              "      <td>0.101138</td>\n",
              "      <td>0.001461</td>\n",
              "    </tr>\n",
              "    <tr>\n",
              "      <th>2</th>\n",
              "      <td>0.095662</td>\n",
              "      <td>0.347584</td>\n",
              "      <td>0.492148</td>\n",
              "      <td>0.064606</td>\n",
              "    </tr>\n",
              "    <tr>\n",
              "      <th>3</th>\n",
              "      <td>0.034516</td>\n",
              "      <td>0.193585</td>\n",
              "      <td>0.544478</td>\n",
              "      <td>0.227422</td>\n",
              "    </tr>\n",
              "    <tr>\n",
              "      <th>4</th>\n",
              "      <td>0.024330</td>\n",
              "      <td>0.113506</td>\n",
              "      <td>0.426838</td>\n",
              "      <td>0.435326</td>\n",
              "    </tr>\n",
              "    <tr>\n",
              "      <th>...</th>\n",
              "      <td>...</td>\n",
              "      <td>...</td>\n",
              "      <td>...</td>\n",
              "      <td>...</td>\n",
              "    </tr>\n",
              "    <tr>\n",
              "      <th>848</th>\n",
              "      <td>0.019569</td>\n",
              "      <td>0.113695</td>\n",
              "      <td>0.452231</td>\n",
              "      <td>0.414506</td>\n",
              "    </tr>\n",
              "    <tr>\n",
              "      <th>849</th>\n",
              "      <td>0.000250</td>\n",
              "      <td>0.006734</td>\n",
              "      <td>0.126403</td>\n",
              "      <td>0.866613</td>\n",
              "    </tr>\n",
              "    <tr>\n",
              "      <th>850</th>\n",
              "      <td>0.509316</td>\n",
              "      <td>0.382118</td>\n",
              "      <td>0.106899</td>\n",
              "      <td>0.001667</td>\n",
              "    </tr>\n",
              "    <tr>\n",
              "      <th>851</th>\n",
              "      <td>0.177445</td>\n",
              "      <td>0.373769</td>\n",
              "      <td>0.399840</td>\n",
              "      <td>0.048946</td>\n",
              "    </tr>\n",
              "    <tr>\n",
              "      <th>852</th>\n",
              "      <td>0.434866</td>\n",
              "      <td>0.426611</td>\n",
              "      <td>0.136347</td>\n",
              "      <td>0.002176</td>\n",
              "    </tr>\n",
              "  </tbody>\n",
              "</table>\n",
              "<p>853 rows × 4 columns</p>\n",
              "</div>"
            ],
            "text/plain": [
              "            0         1         2         3\n",
              "0    0.635116  0.327047  0.037729  0.000108\n",
              "1    0.519040  0.378361  0.101138  0.001461\n",
              "2    0.095662  0.347584  0.492148  0.064606\n",
              "3    0.034516  0.193585  0.544478  0.227422\n",
              "4    0.024330  0.113506  0.426838  0.435326\n",
              "..        ...       ...       ...       ...\n",
              "848  0.019569  0.113695  0.452231  0.414506\n",
              "849  0.000250  0.006734  0.126403  0.866613\n",
              "850  0.509316  0.382118  0.106899  0.001667\n",
              "851  0.177445  0.373769  0.399840  0.048946\n",
              "852  0.434866  0.426611  0.136347  0.002176\n",
              "\n",
              "[853 rows x 4 columns]"
            ]
          },
          "execution_count": 29,
          "metadata": {},
          "output_type": "execute_result"
        }
      ],
      "source": [
        "modelo.predict(X)"
      ]
    },
    {
      "cell_type": "code",
      "execution_count": 30,
      "metadata": {
        "id": "n8QwhzkTPiDs"
      },
      "outputs": [],
      "source": [
        "y_pred = modelo.predict(X).idxmax(axis=1)"
      ]
    },
    {
      "cell_type": "markdown",
      "metadata": {
        "id": "7A4SQcyd4yom"
      },
      "source": [
        "Podemos também obter algumas informações do modelos com o método `summary()`."
      ]
    },
    {
      "cell_type": "code",
      "execution_count": 31,
      "metadata": {
        "colab": {
          "base_uri": "https://localhost:8080/"
        },
        "id": "hv7AEF01Pt0y",
        "outputId": "a2d1aeb9-391f-4e44-a949-d9f75e9abd3f"
      },
      "outputs": [
        {
          "name": "stdout",
          "output_type": "stream",
          "text": [
            "                            MNLogit Regression Results                            \n",
            "==================================================================================\n",
            "Dep. Variable:     % de pobres categórica   No. Observations:                  853\n",
            "Model:                            MNLogit   Df Residuals:                      844\n",
            "Method:                               MLE   Df Model:                            6\n",
            "Date:                    Sat, 05 Aug 2023   Pseudo R-squ.:                  0.3893\n",
            "Time:                            20:36:11   Log-Likelihood:                -722.11\n",
            "converged:                           True   LL-Null:                       -1182.5\n",
            "Covariance Type:                nonrobust   LLR p-value:                1.203e-195\n",
            "============================================================================================\n",
            "% de pobres categórica=1       coef    std err          z      P>|z|      [0.025      0.975]\n",
            "--------------------------------------------------------------------------------------------\n",
            "const                       42.4150      5.234      8.104      0.000      32.156      52.674\n",
            "Porcentagem de Ativos       -0.2215      0.062     -3.584      0.000      -0.343      -0.100\n",
            "IDH                        -36.5629      5.451     -6.708      0.000     -47.247     -25.879\n",
            "--------------------------------------------------------------------------------------------\n",
            "% de pobres categórica=2       coef    std err          z      P>|z|      [0.025      0.975]\n",
            "--------------------------------------------------------------------------------------------\n",
            "const                       83.9341      6.458     12.997      0.000      71.276      96.592\n",
            "Porcentagem de Ativos       -0.5717      0.071     -8.011      0.000      -0.712      -0.432\n",
            "IDH                        -65.2875      6.701     -9.742      0.000     -78.422     -52.153\n",
            "--------------------------------------------------------------------------------------------\n",
            "% de pobres categórica=3       coef    std err          z      P>|z|      [0.025      0.975]\n",
            "--------------------------------------------------------------------------------------------\n",
            "const                      134.8160      8.776     15.362      0.000     117.616     152.016\n",
            "Porcentagem de Ativos       -1.1622      0.092    -12.605      0.000      -1.343      -0.981\n",
            "IDH                        -93.5832      9.282    -10.083      0.000    -111.775     -75.392\n",
            "============================================================================================\n"
          ]
        }
      ],
      "source": [
        "print(modelo.summary())"
      ]
    },
    {
      "cell_type": "markdown",
      "metadata": {
        "id": "ef4FIp9eRt1u"
      },
      "source": [
        "## Medindo a Performance"
      ]
    },
    {
      "cell_type": "code",
      "execution_count": 32,
      "metadata": {
        "colab": {
          "base_uri": "https://localhost:8080/"
        },
        "id": "UpCr12avAR5f",
        "outputId": "0bc9e1ea-85ce-4056-9049-8976cc4b9c61"
      },
      "outputs": [
        {
          "data": {
            "text/plain": [
              "array([[152,  52,  10,   0],\n",
              "       [ 73,  79,  58,   3],\n",
              "       [ 15,  49, 113,  36],\n",
              "       [  0,   0,  42, 171]])"
            ]
          },
          "execution_count": 32,
          "metadata": {},
          "output_type": "execute_result"
        }
      ],
      "source": [
        "from sklearn.metrics import confusion_matrix\n",
        "\n",
        "matriz_confusao = confusion_matrix(y, y_pred)\n",
        "matriz_confusao"
      ]
    },
    {
      "cell_type": "code",
      "execution_count": 33,
      "metadata": {
        "colab": {
          "base_uri": "https://localhost:8080/",
          "height": 295
        },
        "id": "9uen0B9OQr6H",
        "outputId": "fcbb04b3-2669-476e-d19c-154fe0e34813"
      },
      "outputs": [
        {
          "data": {
            "image/png": "[encoded data removed]",
            "text/plain": [
              "<Figure size 640x480 with 2 Axes>"
            ]
          },
          "metadata": {},
          "output_type": "display_data"
        }
      ],
      "source": [
        "# criando mapa de calor\n",
        "import seaborn as sns\n",
        "import matplotlib.pyplot as plt\n",
        "\n",
        "sns.heatmap(matriz_confusao, annot=True, fmt='d', cmap='Blues')\n",
        "plt.title('Matriz de Confusão', y=1.1)\n",
        "plt.ylabel('Valores Observados')\n",
        "plt.xlabel('Valores Preditos');"
      ]
    },
    {
      "cell_type": "markdown",
      "metadata": {
        "id": "Chj3StWN9eQ8"
      },
      "source": [
        "Também podemos obter o mapa de calor observando os valores percentuais."
      ]
    },
    {
      "cell_type": "code",
      "execution_count": 34,
      "metadata": {
        "colab": {
          "base_uri": "https://localhost:8080/",
          "height": 295
        },
        "id": "nscwn8QmRCK4",
        "outputId": "ee7eb3f8-f10d-48fc-eb63-83ab825fc7f8"
      },
      "outputs": [
        {
          "data": {
            "image/png": "[encoded data removed]",
            "text/plain": [
              "<Figure size 640x480 with 2 Axes>"
            ]
          },
          "metadata": {},
          "output_type": "display_data"
        }
      ],
      "source": [
        "import numpy as np\n",
        "\n",
        "sns.heatmap(matriz_confusao/np.sum(matriz_confusao),\n",
        "            annot=True, fmt='.2%', cmap='Blues')\n",
        "plt.title('Matriz de Confusão', y=1.1)\n",
        "plt.ylabel('Valores Observados')\n",
        "plt.xlabel('Valores Preditos');"
      ]
    },
    {
      "cell_type": "markdown",
      "metadata": {
        "id": "3Wk5rVVF9qLq"
      },
      "source": [
        "Para observar as outras métricas, podemos usar a função `classification_report` do módulo `metrics` do `scikit-learn`."
      ]
    },
    {
      "cell_type": "code",
      "execution_count": 35,
      "metadata": {
        "colab": {
          "base_uri": "https://localhost:8080/"
        },
        "id": "iEk4M4vLBhqU",
        "outputId": "8b153f44-c71c-4cf6-d247-9acba6b06064"
      },
      "outputs": [
        {
          "name": "stdout",
          "output_type": "stream",
          "text": [
            "              precision    recall  f1-score   support\n",
            "\n",
            "           0       0.63      0.71      0.67       214\n",
            "           1       0.44      0.37      0.40       213\n",
            "           2       0.51      0.53      0.52       213\n",
            "           3       0.81      0.80      0.81       213\n",
            "\n",
            "    accuracy                           0.60       853\n",
            "   macro avg       0.60      0.60      0.60       853\n",
            "weighted avg       0.60      0.60      0.60       853\n",
            "\n"
          ]
        }
      ],
      "source": [
        "from sklearn.metrics import classification_report\n",
        "\n",
        "print(classification_report(y, y_pred))"
      ]
    },
    {
      "cell_type": "markdown",
      "metadata": {
        "id": "SjYgmLy0Xm9z"
      },
      "source": [
        "Podemos ver que a acurária é de 60%, indicando que o modelo acerta 60% da previsões. Note também que ele se sai razoavelmente bem na classe 3, mas se sai mal na classe 1. Isto indica que o modelo não está muito bom.\n",
        "\n",
        "Outra métrica é área sob a curva ROC. Podemos obter essa métrica e criar um gráfico da curva ROC com as funções `roc_curve` e `roc_auc_score` do módulo `metrics` do `scikit-learn`."
      ]
    },
    {
      "cell_type": "code",
      "execution_count": 36,
      "metadata": {
        "id": "OVxjXURJyM9s"
      },
      "outputs": [],
      "source": [
        "from sklearn.preprocessing import label_binarize\n",
        "from sklearn.metrics import roc_curve, roc_auc_score, auc"
      ]
    },
    {
      "cell_type": "code",
      "execution_count": 37,
      "metadata": {
        "colab": {
          "base_uri": "https://localhost:8080/",
          "height": 295
        },
        "id": "8RAgfG5wfy76",
        "outputId": "88d826f6-2692-40f2-a36d-a421aacbf0df"
      },
      "outputs": [
        {
          "data": {
            "image/png": "[encoded data removed]",
            "text/plain": [
              "<Figure size 640x480 with 1 Axes>"
            ]
          },
          "metadata": {},
          "output_type": "display_data"
        }
      ],
      "source": [
        "y_cat = label_binarize(y, classes=[0, 1, 2, 3])\n",
        "\n",
        "fpr = dict()\n",
        "tpr = dict()\n",
        "roc_auc = dict()\n",
        "n_classes = 4\n",
        "colors = ['blue','black','green','yellow']\n",
        "\n",
        "for i in range(n_classes):\n",
        "    fpr[i], tpr[i], _ = roc_curve(y_cat[:, i], modelo.predict(X).iloc[:,i])\n",
        "    roc_auc[i] = auc(fpr[i], tpr[i])\n",
        "\n",
        "for i, color in zip(range(n_classes), colors):\n",
        "    plt.plot(fpr[i], tpr[i], color=color, lw=2,\n",
        "             label=f'Curva ROC para a classe {i} (area = {round(roc_auc[i], 2)})')\n",
        "\n",
        "plt.plot([0, 1], [0, 1], 'r--')\n",
        "plt.xlabel('Taxa de Falso Positivo')\n",
        "plt.ylabel('Taxa de Verdadeiro Positivo')\n",
        "plt.title('Curva ROC para muitas classes')\n",
        "plt.legend(loc=\"lower right\");"
      ]
    },
    {
      "cell_type": "markdown",
      "metadata": {
        "id": "LFuKpEXM-ose"
      },
      "source": [
        "Podemos ver que cada classe possui sua curva ROC e a área sob as curvas muda de classe para classe, indicando que o modelo está melhor em algumas classes do que outras."
      ]
    }
  ],
  "metadata": {
    "colab": {
      "provenance": []
    },
    "kernelspec": {
      "display_name": "Python 3",
      "name": "python3"
    },
    "language_info": {
      "codemirror_mode": {
        "name": "ipython",
        "version": 3
      },
      "file_extension": ".py",
      "mimetype": "text/x-python",
      "name": "python",
      "nbconvert_exporter": "python",
      "pygments_lexer": "ipython3",
      "version": "3.9.16"
    }
  },
  "nbformat": 4,
  "nbformat_minor": 0
}
