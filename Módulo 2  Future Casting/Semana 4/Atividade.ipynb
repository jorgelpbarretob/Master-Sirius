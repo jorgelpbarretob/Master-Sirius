{
  "cells": [
    {
      "attachments": {},
      "cell_type": "markdown",
      "metadata": {
        "id": "bPYgc7UHk8Wt"
      },
      "source": [
        "# Regressão Logística Multinomial\n",
        "\n",
        "Para esta atividade usaremos um conjunto de dados sobre métricas do coração de pacientes, com o objetivo de determinar se o paciente é normal, suspeito ou com doença patológica. O conjunto de dado pode ser encontrado no [GitHub](https://raw.githubusercontent.com/bkrai/R-files-from-YouTube/main/Cardiotocographic.csv) de alguns usuários.\n",
        "\n",
        "Abaixo encontra-se o dicionário de dados:\n",
        "\n",
        "* LB: baseline value (SisPorto)\n",
        "* AC: accelerations (SisPorto)\n",
        "* FM: foetal movement (SisPorto)\n",
        "* UC: uterine contractions (SisPorto)\n",
        "* DL: light decelerations\n",
        "* DS: severe decelerations\n",
        "* DP: prolongued decelerations\n",
        "* ASTV: percentage of time with abnormal short term variability (SisPorto)\n",
        "* mSTV: mean value of short term variability (SisPorto)\n",
        "* ALTV: percentage of time with abnormal long term variability (SisPorto)\n",
        "* mLTV: mean value of long term variability (SisPorto)\n",
        "* Width: histogram width\n",
        "* Min: low freq. of the histogram\n",
        "* Max: high freq. of the histogram\n",
        "* Nmax: number of histogram peaks\n",
        "* Nzeros: number of histogram zeros\n",
        "* Mode: histogram mode\n",
        "* Mean: histogram mean\n",
        "* Median: histogram median\n",
        "* Variance: histogram variance\n",
        "* Tendency: histogram tendency: -1=left assymetric; 0=symmetric; 1=right assymetric\n",
        "* NSP: Normal=0; Suspect=1; Pathologic=2\n",
        "\n",
        "\n",
        "O objetivo é entender/prever a variável `NSP` em função das demais.\n",
        "\n",
        "Obs: Não se preocupe se não entender o significado de cada variável, estamos lidando com um problema técnico e provavelmente você não terá um especialista na área e nem tempo suficiente para entender sobre a área de negócio para este exercício. Foque na construção do modelo de regressão logística."
      ]
    },
    {
      "attachments": {},
      "cell_type": "markdown",
      "metadata": {
        "id": "YVgM5i4toExb"
      },
      "source": [
        "## Atividade 1: Importe o conjunto de dados, verifique se há dados faltantes e a correlação entre as variáveis."
      ]
    },
    {
      "cell_type": "code",
      "execution_count": 26,
      "metadata": {
        "id": "y4uD071Xj9_V"
      },
      "outputs": [],
      "source": [
        "import pandas as pd\n",
        "import numpy as np\n",
        "import matplotlib.pyplot as plt\n",
        "import seaborn as sns\n",
        "\n",
        "import warnings \n",
        "warnings.filterwarnings('ignore')"
      ]
    },
    {
      "cell_type": "code",
      "execution_count": 27,
      "metadata": {
        "id": "OGGvBh-Wj96l"
      },
      "outputs": [
        {
          "data": {
            "text/html": [
              "<div>\n",
              "<style scoped>\n",
              "    .dataframe tbody tr th:only-of-type {\n",
              "        vertical-align: middle;\n",
              "    }\n",
              "\n",
              "    .dataframe tbody tr th {\n",
              "        vertical-align: top;\n",
              "    }\n",
              "\n",
              "    .dataframe thead th {\n",
              "        text-align: right;\n",
              "    }\n",
              "</style>\n",
              "<table border=\"1\" class=\"dataframe\">\n",
              "  <thead>\n",
              "    <tr style=\"text-align: right;\">\n",
              "      <th></th>\n",
              "      <th>LB</th>\n",
              "      <th>AC</th>\n",
              "      <th>FM</th>\n",
              "      <th>UC</th>\n",
              "      <th>DL</th>\n",
              "      <th>DS</th>\n",
              "      <th>DP</th>\n",
              "      <th>ASTV</th>\n",
              "      <th>MSTV</th>\n",
              "      <th>ALTV</th>\n",
              "      <th>...</th>\n",
              "      <th>Min</th>\n",
              "      <th>Max</th>\n",
              "      <th>Nmax</th>\n",
              "      <th>Nzeros</th>\n",
              "      <th>Mode</th>\n",
              "      <th>Mean</th>\n",
              "      <th>Median</th>\n",
              "      <th>Variance</th>\n",
              "      <th>Tendency</th>\n",
              "      <th>NSP</th>\n",
              "    </tr>\n",
              "  </thead>\n",
              "  <tbody>\n",
              "    <tr>\n",
              "      <th>0</th>\n",
              "      <td>120</td>\n",
              "      <td>0.000000</td>\n",
              "      <td>0.0</td>\n",
              "      <td>0.000000</td>\n",
              "      <td>0.000000</td>\n",
              "      <td>0.0</td>\n",
              "      <td>0.0</td>\n",
              "      <td>73</td>\n",
              "      <td>0.5</td>\n",
              "      <td>43</td>\n",
              "      <td>...</td>\n",
              "      <td>62</td>\n",
              "      <td>126</td>\n",
              "      <td>2</td>\n",
              "      <td>0</td>\n",
              "      <td>120</td>\n",
              "      <td>137</td>\n",
              "      <td>121</td>\n",
              "      <td>73</td>\n",
              "      <td>1</td>\n",
              "      <td>1</td>\n",
              "    </tr>\n",
              "    <tr>\n",
              "      <th>1</th>\n",
              "      <td>132</td>\n",
              "      <td>0.006380</td>\n",
              "      <td>0.0</td>\n",
              "      <td>0.006380</td>\n",
              "      <td>0.003190</td>\n",
              "      <td>0.0</td>\n",
              "      <td>0.0</td>\n",
              "      <td>17</td>\n",
              "      <td>2.1</td>\n",
              "      <td>0</td>\n",
              "      <td>...</td>\n",
              "      <td>68</td>\n",
              "      <td>198</td>\n",
              "      <td>6</td>\n",
              "      <td>1</td>\n",
              "      <td>141</td>\n",
              "      <td>136</td>\n",
              "      <td>140</td>\n",
              "      <td>12</td>\n",
              "      <td>0</td>\n",
              "      <td>0</td>\n",
              "    </tr>\n",
              "    <tr>\n",
              "      <th>2</th>\n",
              "      <td>133</td>\n",
              "      <td>0.003322</td>\n",
              "      <td>0.0</td>\n",
              "      <td>0.008306</td>\n",
              "      <td>0.003322</td>\n",
              "      <td>0.0</td>\n",
              "      <td>0.0</td>\n",
              "      <td>16</td>\n",
              "      <td>2.1</td>\n",
              "      <td>0</td>\n",
              "      <td>...</td>\n",
              "      <td>68</td>\n",
              "      <td>198</td>\n",
              "      <td>5</td>\n",
              "      <td>1</td>\n",
              "      <td>141</td>\n",
              "      <td>135</td>\n",
              "      <td>138</td>\n",
              "      <td>13</td>\n",
              "      <td>0</td>\n",
              "      <td>0</td>\n",
              "    </tr>\n",
              "    <tr>\n",
              "      <th>3</th>\n",
              "      <td>134</td>\n",
              "      <td>0.002561</td>\n",
              "      <td>0.0</td>\n",
              "      <td>0.007682</td>\n",
              "      <td>0.002561</td>\n",
              "      <td>0.0</td>\n",
              "      <td>0.0</td>\n",
              "      <td>16</td>\n",
              "      <td>2.4</td>\n",
              "      <td>0</td>\n",
              "      <td>...</td>\n",
              "      <td>53</td>\n",
              "      <td>170</td>\n",
              "      <td>11</td>\n",
              "      <td>0</td>\n",
              "      <td>137</td>\n",
              "      <td>134</td>\n",
              "      <td>137</td>\n",
              "      <td>13</td>\n",
              "      <td>1</td>\n",
              "      <td>0</td>\n",
              "    </tr>\n",
              "    <tr>\n",
              "      <th>4</th>\n",
              "      <td>132</td>\n",
              "      <td>0.006515</td>\n",
              "      <td>0.0</td>\n",
              "      <td>0.008143</td>\n",
              "      <td>0.000000</td>\n",
              "      <td>0.0</td>\n",
              "      <td>0.0</td>\n",
              "      <td>16</td>\n",
              "      <td>2.4</td>\n",
              "      <td>0</td>\n",
              "      <td>...</td>\n",
              "      <td>53</td>\n",
              "      <td>170</td>\n",
              "      <td>9</td>\n",
              "      <td>0</td>\n",
              "      <td>137</td>\n",
              "      <td>136</td>\n",
              "      <td>138</td>\n",
              "      <td>11</td>\n",
              "      <td>1</td>\n",
              "      <td>0</td>\n",
              "    </tr>\n",
              "  </tbody>\n",
              "</table>\n",
              "<p>5 rows × 22 columns</p>\n",
              "</div>"
            ],
            "text/plain": [
              "    LB        AC   FM        UC        DL   DS   DP  ASTV  MSTV  ALTV  ...  \\\n",
              "0  120  0.000000  0.0  0.000000  0.000000  0.0  0.0    73   0.5    43  ...   \n",
              "1  132  0.006380  0.0  0.006380  0.003190  0.0  0.0    17   2.1     0  ...   \n",
              "2  133  0.003322  0.0  0.008306  0.003322  0.0  0.0    16   2.1     0  ...   \n",
              "3  134  0.002561  0.0  0.007682  0.002561  0.0  0.0    16   2.4     0  ...   \n",
              "4  132  0.006515  0.0  0.008143  0.000000  0.0  0.0    16   2.4     0  ...   \n",
              "\n",
              "   Min  Max  Nmax  Nzeros  Mode  Mean  Median  Variance  Tendency  NSP  \n",
              "0   62  126     2       0   120   137     121        73         1    1  \n",
              "1   68  198     6       1   141   136     140        12         0    0  \n",
              "2   68  198     5       1   141   135     138        13         0    0  \n",
              "3   53  170    11       0   137   134     137        13         1    0  \n",
              "4   53  170     9       0   137   136     138        11         1    0  \n",
              "\n",
              "[5 rows x 22 columns]"
            ]
          },
          "execution_count": 27,
          "metadata": {},
          "output_type": "execute_result"
        }
      ],
      "source": [
        "# Carregando os dados novamente\n",
        "df = pd.read_excel('cardio.xlsx')\n",
        "\n",
        "df.head()"
      ]
    },
    {
      "cell_type": "code",
      "execution_count": 47,
      "metadata": {},
      "outputs": [
        {
          "name": "stdout",
          "output_type": "stream",
          "text": [
            "<class 'pandas.core.frame.DataFrame'>\n",
            "RangeIndex: 2126 entries, 0 to 2125\n",
            "Data columns (total 22 columns):\n",
            " #   Column    Non-Null Count  Dtype  \n",
            "---  ------    --------------  -----  \n",
            " 0   LB        2126 non-null   int64  \n",
            " 1   AC        2126 non-null   float64\n",
            " 2   FM        2126 non-null   float64\n",
            " 3   UC        2126 non-null   float64\n",
            " 4   DL        2126 non-null   float64\n",
            " 5   DS        2126 non-null   float64\n",
            " 6   DP        2126 non-null   float64\n",
            " 7   ASTV      2126 non-null   int64  \n",
            " 8   MSTV      2126 non-null   float64\n",
            " 9   ALTV      2126 non-null   int64  \n",
            " 10  MLTV      2126 non-null   float64\n",
            " 11  Width     2126 non-null   int64  \n",
            " 12  Min       2126 non-null   int64  \n",
            " 13  Max       2126 non-null   int64  \n",
            " 14  Nmax      2126 non-null   int64  \n",
            " 15  Nzeros    2126 non-null   int64  \n",
            " 16  Mode      2126 non-null   int64  \n",
            " 17  Mean      2126 non-null   int64  \n",
            " 18  Median    2126 non-null   int64  \n",
            " 19  Variance  2126 non-null   int64  \n",
            " 20  Tendency  2126 non-null   int64  \n",
            " 21  NSP       2126 non-null   int64  \n",
            "dtypes: float64(8), int64(14)\n",
            "memory usage: 365.5 KB\n"
          ]
        }
      ],
      "source": [
        "df.info()"
      ]
    },
    {
      "cell_type": "code",
      "execution_count": 28,
      "metadata": {
        "id": "LQUYPMN0bQlk"
      },
      "outputs": [
        {
          "data": {
            "text/plain": [
              "LB          0\n",
              "AC          0\n",
              "FM          0\n",
              "UC          0\n",
              "DL          0\n",
              "DS          0\n",
              "DP          0\n",
              "ASTV        0\n",
              "MSTV        0\n",
              "ALTV        0\n",
              "MLTV        0\n",
              "Width       0\n",
              "Min         0\n",
              "Max         0\n",
              "Nmax        0\n",
              "Nzeros      0\n",
              "Mode        0\n",
              "Mean        0\n",
              "Median      0\n",
              "Variance    0\n",
              "Tendency    0\n",
              "NSP         0\n",
              "dtype: int64"
            ]
          },
          "execution_count": 28,
          "metadata": {},
          "output_type": "execute_result"
        }
      ],
      "source": [
        "# Verificando a presença de valores ausentes\n",
        "missing_values = df.isnull().sum()\n",
        "\n",
        "missing_values"
      ]
    },
    {
      "attachments": {},
      "cell_type": "markdown",
      "metadata": {
        "id": "KTmGalb8ox5h"
      },
      "source": [
        "## Atividade 2: Verifique se a variável está balanceada."
      ]
    },
    {
      "cell_type": "code",
      "execution_count": 29,
      "metadata": {
        "id": "SrJ6EcNN1TnE"
      },
      "outputs": [
        {
          "data": {
            "text/plain": [
              "0    1655\n",
              "1     295\n",
              "2     176\n",
              "Name: NSP, dtype: int64"
            ]
          },
          "execution_count": 29,
          "metadata": {},
          "output_type": "execute_result"
        }
      ],
      "source": [
        "# Verificando o balanceamento da variável 'fraude'\n",
        "class_balance = df['NSP'].value_counts()\n",
        "\n",
        "class_balance"
      ]
    },
    {
      "attachments": {},
      "cell_type": "markdown",
      "metadata": {
        "id": "B8vkJbh1o8F5"
      },
      "source": [
        "## Atividade 3: Use as variáveis que achar relevante e separe as variáveis em $X$ e $y$, a seguir crie um modelo de regressão logística."
      ]
    },
    {
      "cell_type": "code",
      "execution_count": 30,
      "metadata": {},
      "outputs": [],
      "source": [
        "# separando as variáveis dependente e independente\n",
        "X = df.drop('NSP', axis=1)\n",
        "y = df['NSP']"
      ]
    },
    {
      "cell_type": "code",
      "execution_count": 31,
      "metadata": {},
      "outputs": [],
      "source": [
        "# balanceando as classes com smote\n",
        "from imblearn.over_sampling import SMOTE\n",
        "\n",
        "sm = SMOTE(sampling_strategy='all', k_neighbors=3, random_state=42)\n",
        "X, y = sm.fit_resample(X, y)"
      ]
    },
    {
      "cell_type": "code",
      "execution_count": 32,
      "metadata": {},
      "outputs": [
        {
          "data": {
            "text/plain": [
              "1    1655\n",
              "0    1655\n",
              "2    1655\n",
              "Name: NSP, dtype: int64"
            ]
          },
          "execution_count": 32,
          "metadata": {},
          "output_type": "execute_result"
        }
      ],
      "source": [
        "class_balance = y.value_counts()\n",
        "\n",
        "class_balance"
      ]
    },
    {
      "cell_type": "code",
      "execution_count": 33,
      "metadata": {
        "id": "ah8kCxBhvLhi"
      },
      "outputs": [],
      "source": [
        "# importando o statsmodels para criar o modelo de regressão logística\n",
        "import statsmodels.api as sm\n",
        "from statsmodels.discrete.discrete_model import MNLogit"
      ]
    },
    {
      "cell_type": "code",
      "execution_count": 34,
      "metadata": {},
      "outputs": [],
      "source": [
        "# Assim como na regressão linear, temos que adicionar uma constante à variável X.\n",
        "X = sm.add_constant(X)"
      ]
    },
    {
      "cell_type": "code",
      "execution_count": 35,
      "metadata": {
        "id": "inqE0_kvj94z"
      },
      "outputs": [
        {
          "name": "stdout",
          "output_type": "stream",
          "text": [
            "Warning: Maximum number of iterations has been exceeded.\n",
            "         Current function value: 0.267000\n",
            "         Iterations: 35\n"
          ]
        }
      ],
      "source": [
        "# criando modelo de regressão logística\n",
        "modelo = MNLogit(y, X).fit()"
      ]
    },
    {
      "cell_type": "code",
      "execution_count": 36,
      "metadata": {
        "id": "KCCQCtD8xMAZ"
      },
      "outputs": [
        {
          "data": {
            "text/html": [
              "<div>\n",
              "<style scoped>\n",
              "    .dataframe tbody tr th:only-of-type {\n",
              "        vertical-align: middle;\n",
              "    }\n",
              "\n",
              "    .dataframe tbody tr th {\n",
              "        vertical-align: top;\n",
              "    }\n",
              "\n",
              "    .dataframe thead th {\n",
              "        text-align: right;\n",
              "    }\n",
              "</style>\n",
              "<table border=\"1\" class=\"dataframe\">\n",
              "  <thead>\n",
              "    <tr style=\"text-align: right;\">\n",
              "      <th></th>\n",
              "      <th>0</th>\n",
              "      <th>1</th>\n",
              "      <th>2</th>\n",
              "    </tr>\n",
              "  </thead>\n",
              "  <tbody>\n",
              "    <tr>\n",
              "      <th>0</th>\n",
              "      <td>1.600518e-04</td>\n",
              "      <td>0.953252</td>\n",
              "      <td>4.658791e-02</td>\n",
              "    </tr>\n",
              "    <tr>\n",
              "      <th>1</th>\n",
              "      <td>9.999774e-01</td>\n",
              "      <td>0.000023</td>\n",
              "      <td>4.937033e-12</td>\n",
              "    </tr>\n",
              "    <tr>\n",
              "      <th>2</th>\n",
              "      <td>9.997617e-01</td>\n",
              "      <td>0.000238</td>\n",
              "      <td>3.562156e-10</td>\n",
              "    </tr>\n",
              "    <tr>\n",
              "      <th>3</th>\n",
              "      <td>9.995703e-01</td>\n",
              "      <td>0.000430</td>\n",
              "      <td>2.226813e-12</td>\n",
              "    </tr>\n",
              "    <tr>\n",
              "      <th>4</th>\n",
              "      <td>9.999937e-01</td>\n",
              "      <td>0.000006</td>\n",
              "      <td>1.646217e-14</td>\n",
              "    </tr>\n",
              "    <tr>\n",
              "      <th>...</th>\n",
              "      <td>...</td>\n",
              "      <td>...</td>\n",
              "      <td>...</td>\n",
              "    </tr>\n",
              "    <tr>\n",
              "      <th>4960</th>\n",
              "      <td>7.969141e-16</td>\n",
              "      <td>0.310931</td>\n",
              "      <td>6.890689e-01</td>\n",
              "    </tr>\n",
              "    <tr>\n",
              "      <th>4961</th>\n",
              "      <td>2.669536e-04</td>\n",
              "      <td>0.000012</td>\n",
              "      <td>9.997212e-01</td>\n",
              "    </tr>\n",
              "    <tr>\n",
              "      <th>4962</th>\n",
              "      <td>1.395313e-05</td>\n",
              "      <td>0.000038</td>\n",
              "      <td>9.999479e-01</td>\n",
              "    </tr>\n",
              "    <tr>\n",
              "      <th>4963</th>\n",
              "      <td>1.087521e-09</td>\n",
              "      <td>0.000002</td>\n",
              "      <td>9.999979e-01</td>\n",
              "    </tr>\n",
              "    <tr>\n",
              "      <th>4964</th>\n",
              "      <td>3.694480e-05</td>\n",
              "      <td>0.000033</td>\n",
              "      <td>9.999299e-01</td>\n",
              "    </tr>\n",
              "  </tbody>\n",
              "</table>\n",
              "<p>4965 rows × 3 columns</p>\n",
              "</div>"
            ],
            "text/plain": [
              "                 0         1             2\n",
              "0     1.600518e-04  0.953252  4.658791e-02\n",
              "1     9.999774e-01  0.000023  4.937033e-12\n",
              "2     9.997617e-01  0.000238  3.562156e-10\n",
              "3     9.995703e-01  0.000430  2.226813e-12\n",
              "4     9.999937e-01  0.000006  1.646217e-14\n",
              "...            ...       ...           ...\n",
              "4960  7.969141e-16  0.310931  6.890689e-01\n",
              "4961  2.669536e-04  0.000012  9.997212e-01\n",
              "4962  1.395313e-05  0.000038  9.999479e-01\n",
              "4963  1.087521e-09  0.000002  9.999979e-01\n",
              "4964  3.694480e-05  0.000033  9.999299e-01\n",
              "\n",
              "[4965 rows x 3 columns]"
            ]
          },
          "execution_count": 36,
          "metadata": {},
          "output_type": "execute_result"
        }
      ],
      "source": [
        "modelo.predict(X)"
      ]
    },
    {
      "cell_type": "code",
      "execution_count": 37,
      "metadata": {
        "id": "U0LWAEIGN9WB"
      },
      "outputs": [],
      "source": [
        "y_pred = modelo.predict(X).idxmax(axis=1)"
      ]
    },
    {
      "cell_type": "code",
      "execution_count": 38,
      "metadata": {
        "id": "WOqAN-cRk7W3"
      },
      "outputs": [
        {
          "name": "stdout",
          "output_type": "stream",
          "text": [
            "                          MNLogit Regression Results                          \n",
            "==============================================================================\n",
            "Dep. Variable:                    NSP   No. Observations:                 4965\n",
            "Model:                        MNLogit   Df Residuals:                     4921\n",
            "Method:                           MLE   Df Model:                           42\n",
            "Date:                Thu, 10 Aug 2023   Pseudo R-squ.:                  0.7570\n",
            "Time:                        19:21:17   Log-Likelihood:                -1325.7\n",
            "converged:                      False   LL-Null:                       -5454.6\n",
            "Covariance Type:            nonrobust   LLR p-value:                     0.000\n",
            "==============================================================================\n",
            "     NSP=1       coef    std err          z      P>|z|      [0.025      0.975]\n",
            "------------------------------------------------------------------------------\n",
            "const        -17.0902      1.371    -12.464      0.000     -19.778     -14.403\n",
            "LB            -0.1317      0.025     -5.223      0.000      -0.181      -0.082\n",
            "AC         -1095.0500     82.119    -13.335      0.000   -1256.001    -934.099\n",
            "FM             9.9152      1.905      5.206      0.000       6.182      13.648\n",
            "UC          -275.5094     32.041     -8.599      0.000    -338.308    -212.711\n",
            "DL           104.1895     68.267      1.526      0.127     -29.611     237.990\n",
            "DS          1.058e+04   1.54e+05      0.069      0.945   -2.91e+05    3.12e+05\n",
            "DP          3076.4249    317.604      9.686      0.000    2453.933    3698.916\n",
            "ASTV           0.0872      0.008     10.974      0.000       0.072       0.103\n",
            "MSTV          -0.5636      0.216     -2.607      0.009      -0.987      -0.140\n",
            "ALTV           0.0274      0.005      5.584      0.000       0.018       0.037\n",
            "MLTV           0.0058      0.026      0.218      0.827      -0.046       0.057\n",
            "Width        -31.4862        nan        nan        nan         nan         nan\n",
            "Min          -31.4809        nan        nan        nan         nan         nan\n",
            "Max           31.5139        nan        nan        nan         nan         nan\n",
            "Nmax           0.1077      0.042      2.564      0.010       0.025       0.190\n",
            "Nzeros        -0.2920      0.115     -2.549      0.011      -0.516      -0.067\n",
            "Mode          -0.0602      0.021     -2.919      0.004      -0.101      -0.020\n",
            "Mean           0.2939      0.043      6.761      0.000       0.209       0.379\n",
            "Median        -0.0452      0.047     -0.966      0.334      -0.137       0.047\n",
            "Variance       0.0394      0.006      6.279      0.000       0.027       0.052\n",
            "Tendency      -0.1671      0.210     -0.795      0.427      -0.579       0.245\n",
            "------------------------------------------------------------------------------\n",
            "     NSP=2       coef    std err          z      P>|z|      [0.025      0.975]\n",
            "------------------------------------------------------------------------------\n",
            "const        -30.7977      2.038    -15.114      0.000     -34.791     -26.804\n",
            "LB             0.2218      0.037      5.930      0.000       0.149       0.295\n",
            "AC         -1111.7714    215.333     -5.163      0.000   -1533.817    -689.726\n",
            "FM            23.2778      2.940      7.917      0.000      17.515      29.040\n",
            "UC          -278.8750     47.691     -5.848      0.000    -372.347    -185.403\n",
            "DL           337.5466     77.347      4.364      0.000     185.949     489.145\n",
            "DS          5.939e+04   1.98e+04      3.001      0.003    2.06e+04    9.82e+04\n",
            "DP          4580.1216    359.641     12.735      0.000    3875.238    5285.005\n",
            "ASTV           0.2516      0.013     18.893      0.000       0.225       0.278\n",
            "MSTV          -1.4380      0.279     -5.146      0.000      -1.986      -0.890\n",
            "ALTV           0.1040      0.007     15.206      0.000       0.091       0.117\n",
            "MLTV           0.0736      0.044      1.685      0.092      -0.012       0.159\n",
            "Width        -31.8883        nan        nan        nan         nan         nan\n",
            "Min          -31.8999        nan        nan        nan         nan         nan\n",
            "Max           31.9559        nan        nan        nan         nan         nan\n",
            "Nmax          -0.7705      0.079     -9.737      0.000      -0.926      -0.615\n",
            "Nzeros         0.0419      0.242      0.173      0.862      -0.432       0.516\n",
            "Mode          -0.0180      0.026     -0.699      0.485      -0.069       0.033\n",
            "Mean          -0.0369      0.030     -1.220      0.222      -0.096       0.022\n",
            "Median        -0.1445      0.047     -3.047      0.002      -0.237      -0.052\n",
            "Variance       0.0849      0.008     11.258      0.000       0.070       0.100\n",
            "Tendency      -0.2043      0.272     -0.751      0.452      -0.737       0.329\n",
            "==============================================================================\n"
          ]
        }
      ],
      "source": [
        "print(modelo.summary())"
      ]
    },
    {
      "attachments": {},
      "cell_type": "markdown",
      "metadata": {
        "id": "9VHtr2fppc4h"
      },
      "source": [
        "## Atividade 4: Faça previsões e avalie o modelo."
      ]
    },
    {
      "cell_type": "code",
      "execution_count": 39,
      "metadata": {
        "id": "x3QqabTtPY1O"
      },
      "outputs": [
        {
          "data": {
            "text/plain": [
              "array([[1495,  132,   28],\n",
              "       [  69, 1420,  166],\n",
              "       [   9,  126, 1520]], dtype=int64)"
            ]
          },
          "execution_count": 39,
          "metadata": {},
          "output_type": "execute_result"
        }
      ],
      "source": [
        "from sklearn.metrics import confusion_matrix\n",
        "\n",
        "matriz_confusao = confusion_matrix(y, y_pred)\n",
        "matriz_confusao"
      ]
    },
    {
      "cell_type": "code",
      "execution_count": 40,
      "metadata": {
        "id": "n8QwhzkTPiDs"
      },
      "outputs": [
        {
          "data": {
            "image/png": "[encoded data removed]",
            "text/plain": [
              "<Figure size 640x480 with 2 Axes>"
            ]
          },
          "metadata": {},
          "output_type": "display_data"
        }
      ],
      "source": [
        "# criando mapa de calor\n",
        "import seaborn as sns\n",
        "import matplotlib.pyplot as plt\n",
        "\n",
        "sns.heatmap(matriz_confusao, annot=True, fmt='d', cmap='Blues')\n",
        "plt.title('Matriz de Confusão', y=1.1)\n",
        "plt.ylabel('Valores Observados')\n",
        "plt.xlabel('Valores Preditos');"
      ]
    },
    {
      "cell_type": "code",
      "execution_count": 41,
      "metadata": {
        "id": "hv7AEF01Pt0y"
      },
      "outputs": [
        {
          "data": {
            "image/png": "[encoded data removed]",
            "text/plain": [
              "<Figure size 640x480 with 2 Axes>"
            ]
          },
          "metadata": {},
          "output_type": "display_data"
        }
      ],
      "source": [
        "import numpy as np\n",
        "\n",
        "sns.heatmap(matriz_confusao/np.sum(matriz_confusao),\n",
        "            annot=True, fmt='.2%', cmap='Blues')\n",
        "plt.title('Matriz de Confusão', y=1.1)\n",
        "plt.ylabel('Valores Observados')\n",
        "plt.xlabel('Valores Preditos');"
      ]
    },
    {
      "cell_type": "code",
      "execution_count": 42,
      "metadata": {
        "id": "UpCr12avAR5f"
      },
      "outputs": [
        {
          "name": "stdout",
          "output_type": "stream",
          "text": [
            "              precision    recall  f1-score   support\n",
            "\n",
            "           0       0.95      0.90      0.93      1655\n",
            "           1       0.85      0.86      0.85      1655\n",
            "           2       0.89      0.92      0.90      1655\n",
            "\n",
            "    accuracy                           0.89      4965\n",
            "   macro avg       0.89      0.89      0.89      4965\n",
            "weighted avg       0.89      0.89      0.89      4965\n",
            "\n"
          ]
        }
      ],
      "source": [
        "from sklearn.metrics import classification_report\n",
        "\n",
        "print(classification_report(y, y_pred))"
      ]
    },
    {
      "cell_type": "code",
      "execution_count": 43,
      "metadata": {
        "id": "9uen0B9OQr6H"
      },
      "outputs": [
        {
          "data": {
            "image/png": "[encoded data removed]",
            "text/plain": [
              "<Figure size 640x480 with 1 Axes>"
            ]
          },
          "metadata": {},
          "output_type": "display_data"
        }
      ],
      "source": [
        "from sklearn.preprocessing import label_binarize\n",
        "from sklearn.metrics import roc_curve, roc_auc_score, auc\n",
        "\n",
        "y_cat = label_binarize(y, classes=[0, 1, 2])\n",
        "\n",
        "fpr = dict()\n",
        "tpr = dict()\n",
        "roc_auc = dict()\n",
        "n_classes = 3\n",
        "colors = ['blue','black','green','yellow']\n",
        "\n",
        "for i in range(n_classes):\n",
        "    fpr[i], tpr[i], _ = roc_curve(y_cat[:, i], modelo.predict(X).iloc[:,i])\n",
        "    roc_auc[i] = auc(fpr[i], tpr[i])\n",
        "\n",
        "for i, color in zip(range(n_classes), colors):\n",
        "    plt.plot(fpr[i], tpr[i], color=color, lw=2,\n",
        "             label=f'Curva ROC para a classe {i} (area = {round(roc_auc[i], 2)})')\n",
        "\n",
        "plt.plot([0, 1], [0, 1], 'r--')\n",
        "plt.xlabel('Taxa de Falso Positivo')\n",
        "plt.ylabel('Taxa de Verdadeiro Positivo')\n",
        "plt.title('Curva ROC para muitas classes')\n",
        "plt.legend(loc=\"lower right\");"
      ]
    },
    {
      "attachments": {},
      "cell_type": "markdown",
      "metadata": {
        "id": "U2QDyKPU1asW"
      },
      "source": [
        "## Atividade 5: Faça a previsão para um paciente que apresenta as seguintes características:\n",
        "\n",
        "* `LB` = 121\n",
        "* `AC` = 0.004176\n",
        "* `FM` = 0.0\n",
        "* `UC` = 0.007541\n",
        "* `DL` = 0.003176\n",
        "* `DS` = 0.0\n",
        "* `DP` = 0.0\n",
        "* `ASTV` = 20\n",
        "* `mSTV` = 2.3\n",
        "* `ALTV` = 0\n",
        "* `mLTV` = 11.5\n",
        "* `Width` = 129\n",
        "* `Min` = 54\n",
        "* `Max` = 171\n",
        "* `Nmax` = 5\n",
        "* `Nzeros` = 0\n",
        "* `Mode` = 140\n",
        "* `Mean` = 136\n",
        "* `Median` = 123\n",
        "* `Variance` = 14\n",
        "* `Tendency` = 1"
      ]
    },
    {
      "cell_type": "code",
      "execution_count": 44,
      "metadata": {
        "id": "Ir5gqOy72BLQ"
      },
      "outputs": [
        {
          "data": {
            "text/html": [
              "<div>\n",
              "<style scoped>\n",
              "    .dataframe tbody tr th:only-of-type {\n",
              "        vertical-align: middle;\n",
              "    }\n",
              "\n",
              "    .dataframe tbody tr th {\n",
              "        vertical-align: top;\n",
              "    }\n",
              "\n",
              "    .dataframe thead th {\n",
              "        text-align: right;\n",
              "    }\n",
              "</style>\n",
              "<table border=\"1\" class=\"dataframe\">\n",
              "  <thead>\n",
              "    <tr style=\"text-align: right;\">\n",
              "      <th></th>\n",
              "      <th>const</th>\n",
              "      <th>LB</th>\n",
              "      <th>AC</th>\n",
              "      <th>FM</th>\n",
              "      <th>UC</th>\n",
              "      <th>DL</th>\n",
              "      <th>DS</th>\n",
              "      <th>DP</th>\n",
              "      <th>ASTV</th>\n",
              "      <th>mSTV</th>\n",
              "      <th>...</th>\n",
              "      <th>Width</th>\n",
              "      <th>Min</th>\n",
              "      <th>Max</th>\n",
              "      <th>Nmax</th>\n",
              "      <th>Nzeros</th>\n",
              "      <th>Mode</th>\n",
              "      <th>Mean</th>\n",
              "      <th>Median</th>\n",
              "      <th>Variance</th>\n",
              "      <th>Tendency</th>\n",
              "    </tr>\n",
              "  </thead>\n",
              "  <tbody>\n",
              "    <tr>\n",
              "      <th>0</th>\n",
              "      <td>1</td>\n",
              "      <td>121</td>\n",
              "      <td>0.004176</td>\n",
              "      <td>0.0</td>\n",
              "      <td>0.007541</td>\n",
              "      <td>0.003176</td>\n",
              "      <td>0.0</td>\n",
              "      <td>0.0</td>\n",
              "      <td>20</td>\n",
              "      <td>2.3</td>\n",
              "      <td>...</td>\n",
              "      <td>129</td>\n",
              "      <td>54</td>\n",
              "      <td>171</td>\n",
              "      <td>5</td>\n",
              "      <td>0</td>\n",
              "      <td>140</td>\n",
              "      <td>136</td>\n",
              "      <td>123</td>\n",
              "      <td>14</td>\n",
              "      <td>1</td>\n",
              "    </tr>\n",
              "  </tbody>\n",
              "</table>\n",
              "<p>1 rows × 22 columns</p>\n",
              "</div>"
            ],
            "text/plain": [
              "   const   LB        AC   FM        UC        DL   DS   DP  ASTV  mSTV  ...  \\\n",
              "0      1  121  0.004176  0.0  0.007541  0.003176  0.0  0.0    20   2.3  ...   \n",
              "\n",
              "   Width  Min  Max  Nmax  Nzeros  Mode  Mean  Median  Variance  Tendency  \n",
              "0    129   54  171     5       0   140   136     123        14         1  \n",
              "\n",
              "[1 rows x 22 columns]"
            ]
          },
          "execution_count": 44,
          "metadata": {},
          "output_type": "execute_result"
        }
      ],
      "source": [
        "new_patient = pd.DataFrame({\n",
        "    'const': [1],\n",
        "    'LB': [121],\n",
        "    'AC': [0.004176],\n",
        "    'FM': [0.0],\n",
        "    'UC': [0.007541],\n",
        "    'DL': [0.003176],\n",
        "    'DS': [0.0],\n",
        "    'DP': [0.0],\n",
        "    'ASTV': [20],\n",
        "    'mSTV': [2.3],\n",
        "    'ALTV': [0],\n",
        "    'mLTV': [11.5],\n",
        "    'Width': [129],\n",
        "    'Min': [54],\n",
        "    'Max': [171],\n",
        "    'Nmax': [5],\n",
        "    'Nzeros': [0],\n",
        "    'Mode': [140],\n",
        "    'Mean': [136],\n",
        "    'Median': [123],\n",
        "    'Variance': [14],\n",
        "    'Tendency': [1]\n",
        "})\n",
        "\n",
        "new_patient"
      ]
    },
    {
      "cell_type": "code",
      "execution_count": 45,
      "metadata": {
        "id": "sJByYbo_2Hle"
      },
      "outputs": [
        {
          "name": "stdout",
          "output_type": "stream",
          "text": [
            "A classe prevista para o paciente é:  0\n"
          ]
        }
      ],
      "source": [
        "prediction = modelo.predict(new_patient)\n",
        "\n",
        "predicted_class = prediction.idxmax(axis=1)\n",
        "\n",
        "print(\"A classe prevista para o paciente é: \", predicted_class[0])"
      ]
    }
  ],
  "metadata": {
    "colab": {
      "provenance": []
    },
    "kernelspec": {
      "display_name": "Python 3",
      "name": "python3"
    },
    "language_info": {
      "codemirror_mode": {
        "name": "ipython",
        "version": 3
      },
      "file_extension": ".py",
      "mimetype": "text/x-python",
      "name": "python",
      "nbconvert_exporter": "python",
      "pygments_lexer": "ipython3",
      "version": "3.9.16"
    }
  },
  "nbformat": 4,
  "nbformat_minor": 0
}
