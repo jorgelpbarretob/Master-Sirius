{
  "nbformat": 4,
  "nbformat_minor": 0,
  "metadata": {
    "colab": {
      "provenance": []
    },
    "kernelspec": {
      "name": "python3",
      "display_name": "Python 3"
    },
    "language_info": {
      "name": "python"
    }
  },
  "cells": [
    {
      "cell_type": "markdown",
      "source": [
        "# Regressão Logística Multinomial\n",
        "\n",
        "Para esta atividade usaremos um conjunto de dados sobre métricas do coração de pacientes, com o objetivo de determinar se o paciente é normal, suspeito ou com doença patológica. O conjunto de dado pode ser encontrado no [GitHub](https://raw.githubusercontent.com/bkrai/R-files-from-YouTube/main/Cardiotocographic.csv) de alguns usuários.\n",
        "\n",
        "Abaixo encontra-se o dicionário de dados:\n",
        "\n",
        "* LB: baseline value (SisPorto)\n",
        "* AC: accelerations (SisPorto)\n",
        "* FM: foetal movement (SisPorto)\n",
        "* UC: uterine contractions (SisPorto)\n",
        "* DL: light decelerations\n",
        "* DS: severe decelerations\n",
        "* DP: prolongued decelerations\n",
        "* ASTV: percentage of time with abnormal short term variability (SisPorto)\n",
        "* mSTV: mean value of short term variability (SisPorto)\n",
        "* ALTV: percentage of time with abnormal long term variability (SisPorto)\n",
        "* mLTV: mean value of long term variability (SisPorto)\n",
        "* Width: histogram width\n",
        "* Min: low freq. of the histogram\n",
        "* Max: high freq. of the histogram\n",
        "* Nmax: number of histogram peaks\n",
        "* Nzeros: number of histogram zeros\n",
        "* Mode: histogram mode\n",
        "* Mean: histogram mean\n",
        "* Median: histogram median\n",
        "* Variance: histogram variance\n",
        "* Tendency: histogram tendency: -1=left assymetric; 0=symmetric; 1=right assymetric\n",
        "* NSP: Normal=0; Suspect=1; Pathologic=2\n",
        "\n",
        "\n",
        "O objetivo é entender/prever a variável `NSP` em função das demais.\n",
        "\n",
        "Obs: Não se preocupe se não entender o significado de cada variável, estamos lidando com um problema técnico e provavelmente você não terá um especialista na área e nem tempo suficiente para entender sobre a área de negócio para este exercício. Foque na construção do modelo de regressão logística."
      ],
      "metadata": {
        "id": "bPYgc7UHk8Wt"
      }
    },
    {
      "cell_type": "markdown",
      "source": [
        "## Atividade 1: Importe o conjunto de dados, verifique se há dados faltantes e a correlação entre as variáveis."
      ],
      "metadata": {
        "id": "YVgM5i4toExb"
      }
    },
    {
      "cell_type": "code",
      "source": [
        "# seu código"
      ],
      "metadata": {
        "id": "y4uD071Xj9_V"
      },
      "execution_count": null,
      "outputs": []
    },
    {
      "cell_type": "code",
      "source": [
        "# seu código"
      ],
      "metadata": {
        "id": "OGGvBh-Wj96l"
      },
      "execution_count": null,
      "outputs": []
    },
    {
      "cell_type": "code",
      "source": [
        "# seu código"
      ],
      "metadata": {
        "id": "LQUYPMN0bQlk"
      },
      "execution_count": null,
      "outputs": []
    },
    {
      "cell_type": "markdown",
      "source": [
        "## Atividade 2: Verifique se a variável está balanceada."
      ],
      "metadata": {
        "id": "KTmGalb8ox5h"
      }
    },
    {
      "cell_type": "code",
      "source": [
        "# seu código"
      ],
      "metadata": {
        "id": "SrJ6EcNN1TnE"
      },
      "execution_count": null,
      "outputs": []
    },
    {
      "cell_type": "markdown",
      "source": [
        "## Atividade 3: Use as variáveis que achar relevante e separe as variáveis em $X$ e $y$, a seguir crie um modelo de regressão logística."
      ],
      "metadata": {
        "id": "B8vkJbh1o8F5"
      }
    },
    {
      "cell_type": "code",
      "source": [
        "# seu código"
      ],
      "metadata": {
        "id": "ah8kCxBhvLhi"
      },
      "execution_count": null,
      "outputs": []
    },
    {
      "cell_type": "code",
      "source": [
        "# seu código"
      ],
      "metadata": {
        "id": "inqE0_kvj94z"
      },
      "execution_count": null,
      "outputs": []
    },
    {
      "cell_type": "code",
      "source": [
        "# seu código"
      ],
      "metadata": {
        "id": "KCCQCtD8xMAZ"
      },
      "execution_count": null,
      "outputs": []
    },
    {
      "cell_type": "code",
      "source": [
        "# seu código"
      ],
      "metadata": {
        "id": "U0LWAEIGN9WB"
      },
      "execution_count": null,
      "outputs": []
    },
    {
      "cell_type": "code",
      "source": [
        "# seu código"
      ],
      "metadata": {
        "id": "WOqAN-cRk7W3"
      },
      "execution_count": null,
      "outputs": []
    },
    {
      "cell_type": "code",
      "source": [
        "# seu código"
      ],
      "metadata": {
        "id": "dZhHXu3lBhEO"
      },
      "execution_count": null,
      "outputs": []
    },
    {
      "cell_type": "markdown",
      "source": [
        "## Atividade 4: Faça previsões e avalie o modelo."
      ],
      "metadata": {
        "id": "9VHtr2fppc4h"
      }
    },
    {
      "cell_type": "code",
      "source": [
        "# seu código"
      ],
      "metadata": {
        "id": "x3QqabTtPY1O"
      },
      "execution_count": null,
      "outputs": []
    },
    {
      "cell_type": "code",
      "source": [
        "# seu código"
      ],
      "metadata": {
        "id": "n8QwhzkTPiDs"
      },
      "execution_count": null,
      "outputs": []
    },
    {
      "cell_type": "code",
      "source": [
        "# seu código"
      ],
      "metadata": {
        "id": "hv7AEF01Pt0y"
      },
      "execution_count": null,
      "outputs": []
    },
    {
      "cell_type": "code",
      "source": [
        "# seu código"
      ],
      "metadata": {
        "id": "UpCr12avAR5f"
      },
      "execution_count": null,
      "outputs": []
    },
    {
      "cell_type": "code",
      "source": [
        "# seu código"
      ],
      "metadata": {
        "id": "9uen0B9OQr6H"
      },
      "execution_count": null,
      "outputs": []
    },
    {
      "cell_type": "code",
      "source": [
        "# seu código"
      ],
      "metadata": {
        "id": "nscwn8QmRCK4"
      },
      "execution_count": null,
      "outputs": []
    },
    {
      "cell_type": "code",
      "source": [
        "# seu código"
      ],
      "metadata": {
        "id": "iEk4M4vLBhqU"
      },
      "execution_count": null,
      "outputs": []
    },
    {
      "cell_type": "code",
      "source": [
        "# seu código"
      ],
      "metadata": {
        "id": "OVxjXURJyM9s"
      },
      "execution_count": null,
      "outputs": []
    },
    {
      "cell_type": "code",
      "source": [
        "# seu código"
      ],
      "metadata": {
        "id": "8RAgfG5wfy76"
      },
      "execution_count": null,
      "outputs": []
    },
    {
      "cell_type": "markdown",
      "source": [
        "## Atividade 5: Faça a previsão para um paciente que apresenta as seguintes características:\n",
        "\n",
        "* `LB` = 121\n",
        "* `AC` = 0.004176\n",
        "* `FM` = 0.0\n",
        "* `UC` = 0.007541\n",
        "* `DL` = 0.003176\n",
        "* `DS` = 0.0\n",
        "* `DP` = 0.0\n",
        "* `ASTV` = 20\n",
        "* `mSTV` = 2.3\n",
        "* `ALTV` = 0\n",
        "* `mLTV` = 11.5\n",
        "* `Width` = 129\n",
        "* `Min` = 54\n",
        "* `Max` = 171\n",
        "* `Nmax` = 5\n",
        "* `Nzeros` = 0\n",
        "* `Mode` = 140\n",
        "* `Mean` = 136\n",
        "* `Median` = 123\n",
        "* `Variance` = 14\n",
        "* `Tendency` = 1"
      ],
      "metadata": {
        "id": "U2QDyKPU1asW"
      }
    },
    {
      "cell_type": "code",
      "source": [
        "# seu código"
      ],
      "metadata": {
        "id": "Ir5gqOy72BLQ"
      },
      "execution_count": null,
      "outputs": []
    },
    {
      "cell_type": "code",
      "source": [
        "# seu código"
      ],
      "metadata": {
        "id": "sJByYbo_2Hle"
      },
      "execution_count": null,
      "outputs": []
    }
  ]
}