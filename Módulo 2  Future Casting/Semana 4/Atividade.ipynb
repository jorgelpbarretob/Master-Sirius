{
  "cells": [
    {
      "attachments": {},
      "cell_type": "markdown",
      "metadata": {
        "id": "bPYgc7UHk8Wt"
      },
      "source": [
        "# Regressão Logística Multinomial\n",
        "\n",
        "Para esta atividade usaremos um conjunto de dados sobre métricas do coração de pacientes, com o objetivo de determinar se o paciente é normal, suspeito ou com doença patológica. O conjunto de dado pode ser encontrado no [GitHub](https://raw.githubusercontent.com/bkrai/R-files-from-YouTube/main/Cardiotocographic.csv) de alguns usuários.\n",
        "\n",
        "Abaixo encontra-se o dicionário de dados:\n",
        "\n",
        "* LB: baseline value (SisPorto)\n",
        "* AC: accelerations (SisPorto)\n",
        "* FM: foetal movement (SisPorto)\n",
        "* UC: uterine contractions (SisPorto)\n",
        "* DL: light decelerations\n",
        "* DS: severe decelerations\n",
        "* DP: prolongued decelerations\n",
        "* ASTV: percentage of time with abnormal short term variability (SisPorto)\n",
        "* mSTV: mean value of short term variability (SisPorto)\n",
        "* ALTV: percentage of time with abnormal long term variability (SisPorto)\n",
        "* mLTV: mean value of long term variability (SisPorto)\n",
        "* Width: histogram width\n",
        "* Min: low freq. of the histogram\n",
        "* Max: high freq. of the histogram\n",
        "* Nmax: number of histogram peaks\n",
        "* Nzeros: number of histogram zeros\n",
        "* Mode: histogram mode\n",
        "* Mean: histogram mean\n",
        "* Median: histogram median\n",
        "* Variance: histogram variance\n",
        "* Tendency: histogram tendency: -1=left assymetric; 0=symmetric; 1=right assymetric\n",
        "* NSP: Normal=0; Suspect=1; Pathologic=2\n",
        "\n",
        "\n",
        "O objetivo é entender/prever a variável `NSP` em função das demais.\n",
        "\n",
        "Obs: Não se preocupe se não entender o significado de cada variável, estamos lidando com um problema técnico e provavelmente você não terá um especialista na área e nem tempo suficiente para entender sobre a área de negócio para este exercício. Foque na construção do modelo de regressão logística."
      ]
    },
    {
      "attachments": {},
      "cell_type": "markdown",
      "metadata": {
        "id": "YVgM5i4toExb"
      },
      "source": [
        "## Atividade 1: Importe o conjunto de dados, verifique se há dados faltantes e a correlação entre as variáveis."
      ]
    },
    {
      "cell_type": "code",
      "execution_count": 40,
      "metadata": {
        "id": "y4uD071Xj9_V"
      },
      "outputs": [],
      "source": [
        "# Importando as bibliotecas necessárias:\n",
        "\n",
        "# pandas: biblioteca de manipulação e análise de dados.\n",
        "import pandas as pd\n",
        "\n",
        "# numpy: biblioteca para suporte a arrays e matrizes multidimensionais, além de funções matemáticas de alto nível.\n",
        "import numpy as np\n",
        "\n",
        "# matplotlib.pyplot: biblioteca para criação de gráficos e visualizações de dados em geral.\n",
        "import matplotlib.pyplot as plt\n",
        "\n",
        "# seaborn: biblioteca de visualização de dados baseada em matplotlib que oferece uma interface de alto nível para gráficos estatísticos.\n",
        "import seaborn as sns\n",
        "\n",
        "# warnings: biblioteca para lidar com avisos.\n",
        "import warnings \n",
        "\n",
        "# Desabilitando os avisos para tornar a saída mais limpa. \n",
        "# Isso pode ser útil para evitar distrações, especialmente quando se sabe que determinado aviso pode ser ignorado.\n",
        "warnings.filterwarnings('ignore')"
      ]
    },
    {
      "cell_type": "code",
      "execution_count": 41,
      "metadata": {
        "id": "OGGvBh-Wj96l"
      },
      "outputs": [
        {
          "data": {
            "text/html": [
              "<div>\n",
              "<style scoped>\n",
              "    .dataframe tbody tr th:only-of-type {\n",
              "        vertical-align: middle;\n",
              "    }\n",
              "\n",
              "    .dataframe tbody tr th {\n",
              "        vertical-align: top;\n",
              "    }\n",
              "\n",
              "    .dataframe thead th {\n",
              "        text-align: right;\n",
              "    }\n",
              "</style>\n",
              "<table border=\"1\" class=\"dataframe\">\n",
              "  <thead>\n",
              "    <tr style=\"text-align: right;\">\n",
              "      <th></th>\n",
              "      <th>LB</th>\n",
              "      <th>AC</th>\n",
              "      <th>FM</th>\n",
              "      <th>UC</th>\n",
              "      <th>DL</th>\n",
              "      <th>DS</th>\n",
              "      <th>DP</th>\n",
              "      <th>ASTV</th>\n",
              "      <th>MSTV</th>\n",
              "      <th>ALTV</th>\n",
              "      <th>...</th>\n",
              "      <th>Min</th>\n",
              "      <th>Max</th>\n",
              "      <th>Nmax</th>\n",
              "      <th>Nzeros</th>\n",
              "      <th>Mode</th>\n",
              "      <th>Mean</th>\n",
              "      <th>Median</th>\n",
              "      <th>Variance</th>\n",
              "      <th>Tendency</th>\n",
              "      <th>NSP</th>\n",
              "    </tr>\n",
              "  </thead>\n",
              "  <tbody>\n",
              "    <tr>\n",
              "      <th>0</th>\n",
              "      <td>120</td>\n",
              "      <td>0.000000</td>\n",
              "      <td>0.0</td>\n",
              "      <td>0.000000</td>\n",
              "      <td>0.000000</td>\n",
              "      <td>0.0</td>\n",
              "      <td>0.0</td>\n",
              "      <td>73</td>\n",
              "      <td>0.5</td>\n",
              "      <td>43</td>\n",
              "      <td>...</td>\n",
              "      <td>62</td>\n",
              "      <td>126</td>\n",
              "      <td>2</td>\n",
              "      <td>0</td>\n",
              "      <td>120</td>\n",
              "      <td>137</td>\n",
              "      <td>121</td>\n",
              "      <td>73</td>\n",
              "      <td>1</td>\n",
              "      <td>1</td>\n",
              "    </tr>\n",
              "    <tr>\n",
              "      <th>1</th>\n",
              "      <td>132</td>\n",
              "      <td>0.006380</td>\n",
              "      <td>0.0</td>\n",
              "      <td>0.006380</td>\n",
              "      <td>0.003190</td>\n",
              "      <td>0.0</td>\n",
              "      <td>0.0</td>\n",
              "      <td>17</td>\n",
              "      <td>2.1</td>\n",
              "      <td>0</td>\n",
              "      <td>...</td>\n",
              "      <td>68</td>\n",
              "      <td>198</td>\n",
              "      <td>6</td>\n",
              "      <td>1</td>\n",
              "      <td>141</td>\n",
              "      <td>136</td>\n",
              "      <td>140</td>\n",
              "      <td>12</td>\n",
              "      <td>0</td>\n",
              "      <td>0</td>\n",
              "    </tr>\n",
              "    <tr>\n",
              "      <th>2</th>\n",
              "      <td>133</td>\n",
              "      <td>0.003322</td>\n",
              "      <td>0.0</td>\n",
              "      <td>0.008306</td>\n",
              "      <td>0.003322</td>\n",
              "      <td>0.0</td>\n",
              "      <td>0.0</td>\n",
              "      <td>16</td>\n",
              "      <td>2.1</td>\n",
              "      <td>0</td>\n",
              "      <td>...</td>\n",
              "      <td>68</td>\n",
              "      <td>198</td>\n",
              "      <td>5</td>\n",
              "      <td>1</td>\n",
              "      <td>141</td>\n",
              "      <td>135</td>\n",
              "      <td>138</td>\n",
              "      <td>13</td>\n",
              "      <td>0</td>\n",
              "      <td>0</td>\n",
              "    </tr>\n",
              "    <tr>\n",
              "      <th>3</th>\n",
              "      <td>134</td>\n",
              "      <td>0.002561</td>\n",
              "      <td>0.0</td>\n",
              "      <td>0.007682</td>\n",
              "      <td>0.002561</td>\n",
              "      <td>0.0</td>\n",
              "      <td>0.0</td>\n",
              "      <td>16</td>\n",
              "      <td>2.4</td>\n",
              "      <td>0</td>\n",
              "      <td>...</td>\n",
              "      <td>53</td>\n",
              "      <td>170</td>\n",
              "      <td>11</td>\n",
              "      <td>0</td>\n",
              "      <td>137</td>\n",
              "      <td>134</td>\n",
              "      <td>137</td>\n",
              "      <td>13</td>\n",
              "      <td>1</td>\n",
              "      <td>0</td>\n",
              "    </tr>\n",
              "    <tr>\n",
              "      <th>4</th>\n",
              "      <td>132</td>\n",
              "      <td>0.006515</td>\n",
              "      <td>0.0</td>\n",
              "      <td>0.008143</td>\n",
              "      <td>0.000000</td>\n",
              "      <td>0.0</td>\n",
              "      <td>0.0</td>\n",
              "      <td>16</td>\n",
              "      <td>2.4</td>\n",
              "      <td>0</td>\n",
              "      <td>...</td>\n",
              "      <td>53</td>\n",
              "      <td>170</td>\n",
              "      <td>9</td>\n",
              "      <td>0</td>\n",
              "      <td>137</td>\n",
              "      <td>136</td>\n",
              "      <td>138</td>\n",
              "      <td>11</td>\n",
              "      <td>1</td>\n",
              "      <td>0</td>\n",
              "    </tr>\n",
              "  </tbody>\n",
              "</table>\n",
              "<p>5 rows × 22 columns</p>\n",
              "</div>"
            ],
            "text/plain": [
              "    LB        AC   FM        UC        DL   DS   DP  ASTV  MSTV  ALTV  ...  \\\n",
              "0  120  0.000000  0.0  0.000000  0.000000  0.0  0.0    73   0.5    43  ...   \n",
              "1  132  0.006380  0.0  0.006380  0.003190  0.0  0.0    17   2.1     0  ...   \n",
              "2  133  0.003322  0.0  0.008306  0.003322  0.0  0.0    16   2.1     0  ...   \n",
              "3  134  0.002561  0.0  0.007682  0.002561  0.0  0.0    16   2.4     0  ...   \n",
              "4  132  0.006515  0.0  0.008143  0.000000  0.0  0.0    16   2.4     0  ...   \n",
              "\n",
              "   Min  Max  Nmax  Nzeros  Mode  Mean  Median  Variance  Tendency  NSP  \n",
              "0   62  126     2       0   120   137     121        73         1    1  \n",
              "1   68  198     6       1   141   136     140        12         0    0  \n",
              "2   68  198     5       1   141   135     138        13         0    0  \n",
              "3   53  170    11       0   137   134     137        13         1    0  \n",
              "4   53  170     9       0   137   136     138        11         1    0  \n",
              "\n",
              "[5 rows x 22 columns]"
            ]
          },
          "execution_count": 41,
          "metadata": {},
          "output_type": "execute_result"
        }
      ],
      "source": [
        "# Carregando os dados novamente\n",
        "df = pd.read_excel('cardio.xlsx')\n",
        "\n",
        "df.head()"
      ]
    },
    {
      "cell_type": "code",
      "execution_count": 42,
      "metadata": {},
      "outputs": [
        {
          "name": "stdout",
          "output_type": "stream",
          "text": [
            "<class 'pandas.core.frame.DataFrame'>\n",
            "RangeIndex: 2126 entries, 0 to 2125\n",
            "Data columns (total 22 columns):\n",
            " #   Column    Non-Null Count  Dtype  \n",
            "---  ------    --------------  -----  \n",
            " 0   LB        2126 non-null   int64  \n",
            " 1   AC        2126 non-null   float64\n",
            " 2   FM        2126 non-null   float64\n",
            " 3   UC        2126 non-null   float64\n",
            " 4   DL        2126 non-null   float64\n",
            " 5   DS        2126 non-null   float64\n",
            " 6   DP        2126 non-null   float64\n",
            " 7   ASTV      2126 non-null   int64  \n",
            " 8   MSTV      2126 non-null   float64\n",
            " 9   ALTV      2126 non-null   int64  \n",
            " 10  MLTV      2126 non-null   float64\n",
            " 11  Width     2126 non-null   int64  \n",
            " 12  Min       2126 non-null   int64  \n",
            " 13  Max       2126 non-null   int64  \n",
            " 14  Nmax      2126 non-null   int64  \n",
            " 15  Nzeros    2126 non-null   int64  \n",
            " 16  Mode      2126 non-null   int64  \n",
            " 17  Mean      2126 non-null   int64  \n",
            " 18  Median    2126 non-null   int64  \n",
            " 19  Variance  2126 non-null   int64  \n",
            " 20  Tendency  2126 non-null   int64  \n",
            " 21  NSP       2126 non-null   int64  \n",
            "dtypes: float64(8), int64(14)\n",
            "memory usage: 365.5 KB\n"
          ]
        }
      ],
      "source": [
        "# Mostra um resumo conciso do DataFrame, incluindo a quantidade de valores não nulos em cada coluna, \n",
        "# o tipo de dado, e o uso de memória.\n",
        "df.info()"
      ]
    },
    {
      "cell_type": "code",
      "execution_count": 43,
      "metadata": {
        "id": "LQUYPMN0bQlk"
      },
      "outputs": [
        {
          "data": {
            "text/plain": [
              "LB          0\n",
              "AC          0\n",
              "FM          0\n",
              "UC          0\n",
              "DL          0\n",
              "DS          0\n",
              "DP          0\n",
              "ASTV        0\n",
              "MSTV        0\n",
              "ALTV        0\n",
              "MLTV        0\n",
              "Width       0\n",
              "Min         0\n",
              "Max         0\n",
              "Nmax        0\n",
              "Nzeros      0\n",
              "Mode        0\n",
              "Mean        0\n",
              "Median      0\n",
              "Variance    0\n",
              "Tendency    0\n",
              "NSP         0\n",
              "dtype: int64"
            ]
          },
          "execution_count": 43,
          "metadata": {},
          "output_type": "execute_result"
        }
      ],
      "source": [
        "# Verificando a presença de valores ausentes\n",
        "missing_values = df.isnull().sum()\n",
        "\n",
        "missing_values"
      ]
    },
    {
      "attachments": {},
      "cell_type": "markdown",
      "metadata": {
        "id": "KTmGalb8ox5h"
      },
      "source": [
        "## Atividade 2: Verifique se a variável está balanceada. Utilize o método SMOTE para fazer o balanceamento, se for necessário."
      ]
    },
    {
      "cell_type": "code",
      "execution_count": 44,
      "metadata": {
        "id": "SrJ6EcNN1TnE"
      },
      "outputs": [
        {
          "data": {
            "text/plain": [
              "0    1655\n",
              "1     295\n",
              "2     176\n",
              "Name: NSP, dtype: int64"
            ]
          },
          "execution_count": 44,
          "metadata": {},
          "output_type": "execute_result"
        }
      ],
      "source": [
        "# Verificando o balanceamento da variável 'fraude'\n",
        "class_balance = df['NSP'].value_counts()\n",
        "\n",
        "class_balance"
      ]
    },
    {
      "cell_type": "code",
      "execution_count": 45,
      "metadata": {},
      "outputs": [],
      "source": [
        "# separando as variáveis dependente e independente\n",
        "X = df.drop('NSP', axis=1)\n",
        "y = df['NSP']"
      ]
    },
    {
      "cell_type": "code",
      "execution_count": 46,
      "metadata": {},
      "outputs": [],
      "source": [
        "# Importando o método SMOTE (Synthetic Minority Over-sampling Technique) da biblioteca imblearn.\n",
        "# Este método é usado para tratar conjuntos de dados desequilibrados, gerando exemplos sintéticos da classe minoritária.\n",
        "from imblearn.over_sampling import SMOTE\n",
        "\n",
        "# Instanciando o objeto SMOTE:\n",
        "# - sampling_strategy='all': irá reamostrar todas as classes para ter o mesmo número da classe majoritária.\n",
        "# - k_neighbors=3: o número de vizinhos para serem usados ao criar os exemplos sintéticos.\n",
        "# - random_state=42: define a semente para a geração aleatória, garantindo que a reamostragem seja reproduzível.\n",
        "sm = SMOTE(sampling_strategy='all', k_neighbors=3, random_state=42)\n",
        "\n",
        "# Aplicando a reamostragem SMOTE aos dados.\n",
        "# Isso retornará conjuntos de dados com classes balanceadas.\n",
        "X, y = sm.fit_resample(X, y)"
      ]
    },
    {
      "cell_type": "code",
      "execution_count": 47,
      "metadata": {},
      "outputs": [
        {
          "data": {
            "text/plain": [
              "1    1655\n",
              "0    1655\n",
              "2    1655\n",
              "Name: NSP, dtype: int64"
            ]
          },
          "execution_count": 47,
          "metadata": {},
          "output_type": "execute_result"
        }
      ],
      "source": [
        "# Usando o método value_counts() para obter a contagem de cada classe única presente em 'y'.\n",
        "# Isso ajudará a entender a distribuição ou equilíbrio entre as classes.\n",
        "class_balance = y.value_counts()\n",
        "\n",
        "# Exibindo a contagem de cada classe.\n",
        "# Isso pode ser usado para confirmar se as classes foram balanceadas corretamente após a reamostragem.\n",
        "class_balance\n"
      ]
    },
    {
      "attachments": {},
      "cell_type": "markdown",
      "metadata": {},
      "source": [
        "## Atividade 3: Use as variáveis que achar relevante e separe as variáveis em $X$ e $y$, a seguir crie um modelo de regressão logística."
      ]
    },
    {
      "cell_type": "code",
      "execution_count": 48,
      "metadata": {
        "id": "ah8kCxBhvLhi"
      },
      "outputs": [],
      "source": [
        "# Importando a API do statsmodels, uma biblioteca que fornece classes e funções para a estimação \n",
        "# de modelos estatísticos, bem como para a realização de testes estatísticos e exploração de dados estatísticos.\n",
        "import statsmodels.api as sm\n",
        "\n",
        "# Importando MNLogit de statsmodels.discrete.discrete_model.\n",
        "# MNLogit (Multinomial Logistic Regression) é usado quando a variável de resposta é categórica e \n",
        "# tem mais de duas categorias. É uma extensão da regressão logística.\n",
        "from statsmodels.discrete.discrete_model import MNLogit"
      ]
    },
    {
      "cell_type": "code",
      "execution_count": 49,
      "metadata": {},
      "outputs": [],
      "source": [
        "# Adicionando uma coluna constante ao DataFrame 'X'. \n",
        "# Isso é feito para incluir um intercepto no modelo de regressão. \n",
        "# Sem esse passo, a regressão seria forçada a passar pela origem, o que nem sempre é desejável.\n",
        "X = sm.add_constant(X)"
      ]
    },
    {
      "cell_type": "code",
      "execution_count": 50,
      "metadata": {
        "id": "inqE0_kvj94z"
      },
      "outputs": [
        {
          "name": "stdout",
          "output_type": "stream",
          "text": [
            "Warning: Maximum number of iterations has been exceeded.\n",
            "         Current function value: 0.267000\n",
            "         Iterations: 35\n"
          ]
        }
      ],
      "source": [
        "# Criando um modelo de regressão logística multinomial usando MNLogit do statsmodels.\n",
        "# O método fit() é chamado para treinar o modelo usando os dados fornecidos (X como variáveis independentes e y como variável dependente).\n",
        "modelo = MNLogit(y, X).fit()"
      ]
    },
    {
      "cell_type": "code",
      "execution_count": 51,
      "metadata": {
        "id": "U0LWAEIGN9WB"
      },
      "outputs": [],
      "source": [
        "# Usando o método 'predict' para obter as probabilidades previstas para cada classe.\n",
        "# A função 'idxmax' é então usada para selecionar a classe (ou coluna) com a maior probabilidade prevista para cada observação.\n",
        "# O argumento 'axis=1' garante que a operação 'idxmax' seja aplicada horizontalmente ao longo das colunas.\n",
        "y_pred = modelo.predict(X).idxmax(axis=1)"
      ]
    },
    {
      "cell_type": "code",
      "execution_count": 52,
      "metadata": {
        "id": "WOqAN-cRk7W3"
      },
      "outputs": [
        {
          "name": "stdout",
          "output_type": "stream",
          "text": [
            "                          MNLogit Regression Results                          \n",
            "==============================================================================\n",
            "Dep. Variable:                    NSP   No. Observations:                 4965\n",
            "Model:                        MNLogit   Df Residuals:                     4921\n",
            "Method:                           MLE   Df Model:                           42\n",
            "Date:                Sun, 13 Aug 2023   Pseudo R-squ.:                  0.7570\n",
            "Time:                        16:52:17   Log-Likelihood:                -1325.7\n",
            "converged:                      False   LL-Null:                       -5454.6\n",
            "Covariance Type:            nonrobust   LLR p-value:                     0.000\n",
            "==============================================================================\n",
            "     NSP=1       coef    std err          z      P>|z|      [0.025      0.975]\n",
            "------------------------------------------------------------------------------\n",
            "const        -17.0902      1.371    -12.464      0.000     -19.778     -14.403\n",
            "LB            -0.1317      0.025     -5.223      0.000      -0.181      -0.082\n",
            "AC         -1095.0500     82.119    -13.335      0.000   -1256.001    -934.099\n",
            "FM             9.9152      1.905      5.206      0.000       6.182      13.648\n",
            "UC          -275.5094     32.041     -8.599      0.000    -338.308    -212.711\n",
            "DL           104.1895     68.267      1.526      0.127     -29.611     237.990\n",
            "DS          1.058e+04   1.54e+05      0.069      0.945   -2.91e+05    3.12e+05\n",
            "DP          3076.4249    317.604      9.686      0.000    2453.933    3698.916\n",
            "ASTV           0.0872      0.008     10.974      0.000       0.072       0.103\n",
            "MSTV          -0.5636      0.216     -2.607      0.009      -0.987      -0.140\n",
            "ALTV           0.0274      0.005      5.584      0.000       0.018       0.037\n",
            "MLTV           0.0058      0.026      0.218      0.827      -0.046       0.057\n",
            "Width        -31.4862        nan        nan        nan         nan         nan\n",
            "Min          -31.4809        nan        nan        nan         nan         nan\n",
            "Max           31.5139        nan        nan        nan         nan         nan\n",
            "Nmax           0.1077      0.042      2.564      0.010       0.025       0.190\n",
            "Nzeros        -0.2920      0.115     -2.549      0.011      -0.516      -0.067\n",
            "Mode          -0.0602      0.021     -2.919      0.004      -0.101      -0.020\n",
            "Mean           0.2939      0.043      6.761      0.000       0.209       0.379\n",
            "Median        -0.0452      0.047     -0.966      0.334      -0.137       0.047\n",
            "Variance       0.0394      0.006      6.279      0.000       0.027       0.052\n",
            "Tendency      -0.1671      0.210     -0.795      0.427      -0.579       0.245\n",
            "------------------------------------------------------------------------------\n",
            "     NSP=2       coef    std err          z      P>|z|      [0.025      0.975]\n",
            "------------------------------------------------------------------------------\n",
            "const        -30.7977      2.038    -15.114      0.000     -34.791     -26.804\n",
            "LB             0.2218      0.037      5.930      0.000       0.149       0.295\n",
            "AC         -1111.7714    215.333     -5.163      0.000   -1533.817    -689.726\n",
            "FM            23.2778      2.940      7.917      0.000      17.515      29.040\n",
            "UC          -278.8750     47.691     -5.848      0.000    -372.347    -185.403\n",
            "DL           337.5466     77.347      4.364      0.000     185.949     489.145\n",
            "DS          5.939e+04   1.98e+04      3.001      0.003    2.06e+04    9.82e+04\n",
            "DP          4580.1216    359.641     12.735      0.000    3875.238    5285.005\n",
            "ASTV           0.2516      0.013     18.893      0.000       0.225       0.278\n",
            "MSTV          -1.4380      0.279     -5.146      0.000      -1.986      -0.890\n",
            "ALTV           0.1040      0.007     15.206      0.000       0.091       0.117\n",
            "MLTV           0.0736      0.044      1.685      0.092      -0.012       0.159\n",
            "Width        -31.8883        nan        nan        nan         nan         nan\n",
            "Min          -31.8999        nan        nan        nan         nan         nan\n",
            "Max           31.9559        nan        nan        nan         nan         nan\n",
            "Nmax          -0.7705      0.079     -9.737      0.000      -0.926      -0.615\n",
            "Nzeros         0.0419      0.242      0.173      0.862      -0.432       0.516\n",
            "Mode          -0.0180      0.026     -0.699      0.485      -0.069       0.033\n",
            "Mean          -0.0369      0.030     -1.220      0.222      -0.096       0.022\n",
            "Median        -0.1445      0.047     -3.047      0.002      -0.237      -0.052\n",
            "Variance       0.0849      0.008     11.258      0.000       0.070       0.100\n",
            "Tendency      -0.2043      0.272     -0.751      0.452      -0.737       0.329\n",
            "==============================================================================\n"
          ]
        }
      ],
      "source": [
        "# Exibindo o resumo estatístico do modelo de regressão logística multinomial.\n",
        "# O resumo incluirá detalhes como coeficientes para cada variável, estatísticas de teste, \n",
        "# valores-p, entre outras informações úteis para avaliar a qualidade e significância do modelo.\n",
        "print(modelo.summary())"
      ]
    },
    {
      "attachments": {},
      "cell_type": "markdown",
      "metadata": {
        "id": "9VHtr2fppc4h"
      },
      "source": [
        "## Atividade 4: Faça previsões e avalie o modelo."
      ]
    },
    {
      "cell_type": "code",
      "execution_count": 53,
      "metadata": {
        "id": "x3QqabTtPY1O"
      },
      "outputs": [
        {
          "data": {
            "text/plain": [
              "array([[1495,  132,   28],\n",
              "       [  69, 1420,  166],\n",
              "       [   9,  126, 1520]], dtype=int64)"
            ]
          },
          "execution_count": 53,
          "metadata": {},
          "output_type": "execute_result"
        }
      ],
      "source": [
        "# Importando a função 'confusion_matrix' da biblioteca Scikit-Learn.\n",
        "# Esta função é usada para calcular a matriz de confusão, que é uma representação \n",
        "# tabular do desempenho de um modelo de classificação.\n",
        "from sklearn.metrics import confusion_matrix\n",
        "\n",
        "# Calculando a matriz de confusão usando os valores verdadeiros 'y' e as previsões 'y_pred'.\n",
        "matriz_confusao = confusion_matrix(y, y_pred)\n",
        "\n",
        "# Exibindo a matriz de confusão.\n",
        "matriz_confusao"
      ]
    },
    {
      "cell_type": "code",
      "execution_count": 54,
      "metadata": {
        "id": "n8QwhzkTPiDs"
      },
      "outputs": [
        {
          "data": {
            "image/png": "[encoded data removed]",
            "text/plain": [
              "<Figure size 800x550 with 2 Axes>"
            ]
          },
          "metadata": {},
          "output_type": "display_data"
        }
      ],
      "source": [
        "# Importando as bibliotecas necessárias para a visualização.\n",
        "# Seaborn é uma biblioteca de visualização baseada em Matplotlib que fornece uma interface de alto nível para gráficos estatísticos.\n",
        "# Matplotlib é uma biblioteca de plotting e visualização de dados para Python.\n",
        "import seaborn as sns\n",
        "import matplotlib.pyplot as plt\n",
        "\n",
        "# Criando um mapa de calor da matriz de confusão usando Seaborn.\n",
        "# - 'annot=True' adiciona anotações à célula, ou seja, os valores numéricos da matriz.\n",
        "# - 'fmt='d'' formata os números como inteiros (decimais).\n",
        "# - 'cmap='Blues'' utiliza uma paleta de cores azuis.\n",
        "sns.heatmap(matriz_confusao, annot=True, fmt='d', cmap='Blues')\n",
        "\n",
        "# Adicionando um título ao gráfico.\n",
        "plt.title('Matriz de Confusão', y=1.1)\n",
        "\n",
        "# Rotulando os eixos y e x.\n",
        "plt.ylabel('Valores Observados')\n",
        "plt.xlabel('Valores Preditos');"
      ]
    },
    {
      "cell_type": "markdown",
      "metadata": {},
      "source": [
        "Primeira linha (Classe 0 Observada):\n",
        "1495 instâncias foram corretamente classificadas como classe 0 (verdadeiros positivos para classe 0).\n",
        "132 instâncias da classe 0 foram incorretamente previstas como classe 1 (falsos negativos para classe 0 em relação à classe 1).\n",
        "28 instâncias da classe 0 foram incorretamente previstas como classe 2 (falsos negativos para classe 0 em relação à classe 2).\n",
        "\n",
        "Segunda linha (Classe 1 Observada):\n",
        "69 instâncias da classe 1 foram incorretamente previstas como classe 0 (falsos negativos para classe 1 em relação à classe 0).\n",
        "1420 instâncias foram corretamente classificadas como classe 1 (verdadeiros positivos para classe 1).\n",
        "166 instâncias da classe 1 foram incorretamente previstas como classe 2 (falsos negativos para classe 1 em relação à classe 2).\n",
        "\n",
        "Terceira linha (Classe 2 Observada):\n",
        "9 instâncias da classe 2 foram incorretamente previstas como classe 0 (falsos negativos para classe 2 em relação à classe 0).\n",
        "126 instâncias da classe 2 foram incorretamente previstas como classe 1 (falsos negativos para classe 2 em relação à classe 1).\n",
        "1520 instâncias foram corretamente classificadas como classe 2 (verdadeiros positivos para classe 2)."
      ]
    },
    {
      "cell_type": "code",
      "execution_count": 55,
      "metadata": {
        "id": "hv7AEF01Pt0y"
      },
      "outputs": [
        {
          "data": {
            "image/png": "[encoded data removed]",
            "text/plain": [
              "<Figure size 800x550 with 2 Axes>"
            ]
          },
          "metadata": {},
          "output_type": "display_data"
        }
      ],
      "source": [
        "# Importando a biblioteca numpy para operações matemáticas.\n",
        "import numpy as np\n",
        "\n",
        "# Criando um mapa de calor da matriz de confusão usando Seaborn.\n",
        "# Neste caso, a matriz de confusão é normalizada pela sua soma total, de modo que \n",
        "# os valores representem proporções em relação ao número total de previsões.\n",
        "# - 'annot=True' adiciona anotações à célula, mostrando os valores numéricos da matriz.\n",
        "# - 'fmt='.2%'' formata os números como porcentagens com duas casas decimais.\n",
        "# - 'cmap='Blues'' utiliza uma paleta de cores azuis.\n",
        "sns.heatmap(matriz_confusao/np.sum(matriz_confusao),\n",
        "            annot=True, fmt='.2%', cmap='Blues')\n",
        "\n",
        "# Adicionando um título ao gráfico.\n",
        "plt.title('Matriz de Confusão', y=1.1)\n",
        "\n",
        "# Rotulando os eixos y e x.\n",
        "plt.ylabel('Valores Observados')\n",
        "plt.xlabel('Valores Preditos');"
      ]
    },
    {
      "cell_type": "code",
      "execution_count": 56,
      "metadata": {
        "id": "UpCr12avAR5f"
      },
      "outputs": [
        {
          "name": "stdout",
          "output_type": "stream",
          "text": [
            "              precision    recall  f1-score   support\n",
            "\n",
            "           0       0.95      0.90      0.93      1655\n",
            "           1       0.85      0.86      0.85      1655\n",
            "           2       0.89      0.92      0.90      1655\n",
            "\n",
            "    accuracy                           0.89      4965\n",
            "   macro avg       0.89      0.89      0.89      4965\n",
            "weighted avg       0.89      0.89      0.89      4965\n",
            "\n"
          ]
        }
      ],
      "source": [
        "# Importando a função 'classification_report' da biblioteca Scikit-Learn.\n",
        "# Esta função gera um relatório de classificação que exibe a precisão, \n",
        "# recall e pontuação F1 para cada classe do modelo.\n",
        "from sklearn.metrics import classification_report\n",
        "\n",
        "# Calculando e imprimindo o relatório de classificação usando os valores verdadeiros 'y' e as previsões 'y_pred'.\n",
        "print(classification_report(y, y_pred))"
      ]
    },
    {
      "cell_type": "markdown",
      "metadata": {},
      "source": [
        "Classe 0:\n",
        "\n",
        "Precision: De todas as instâncias que o modelo previu como classe 0, 95% delas eram realmente da classe 0.\n",
        "Recall: De todas as instâncias verdadeiras da classe 0, o modelo identificou corretamente 90% delas.\n",
        "F1-score: Esta é uma média harmônica de precisão e recall e indica uma boa combinação de ambos para a classe 0, sendo 93%.\n",
        "Support: Há 1655 instâncias verdadeiras da classe 0 no conjunto de dados.\n",
        "\n",
        "Classe 1:\n",
        "\n",
        "Precision: De todas as instâncias que o modelo previu como classe 1, 85% eram realmente da classe 1.\n",
        "Recall: De todas as instâncias verdadeiras da classe 1, o modelo identificou corretamente 86% delas.\n",
        "F1-score: O F1-score para a classe 1 é de 85%, o que indica uma combinação razoável de precisão e recall.\n",
        "Support: Há 1655 instâncias verdadeiras da classe 1 no conjunto de dados.\n",
        "\n",
        "Classe 2:\n",
        "\n",
        "Precision: De todas as instâncias que o modelo previu como classe 2, 89% eram realmente da classe 2.\n",
        "Recall: De todas as instâncias verdadeiras da classe 2, o modelo identificou corretamente 92% delas.\n",
        "F1-score: O F1-score para a classe 2 é de 90%, indicando uma boa combinação de precisão e recall.\n",
        "Support: Há 1655 instâncias verdadeiras da classe 2 no conjunto de dados.\n",
        "\n",
        "Médias:\n",
        "\n",
        "Accuracy: Das todas as previsões feitas pelo modelo, 89% estavam corretas.\n",
        "Macro avg: Calcula a média das métricas para cada rótulo, sem levar em conta o desequilíbrio de classes. Neste caso, tanto a precisão, recall quanto o F1-score são, em média, 89%.\n",
        "Weighted avg: Calcula a média das métricas para cada rótulo, ponderando cada métrica pelo número de verdadeiras instâncias de cada classe (support). A precisão, recall e F1-score ponderados são todos 89%."
      ]
    },
    {
      "cell_type": "code",
      "execution_count": 57,
      "metadata": {
        "id": "9uen0B9OQr6H"
      },
      "outputs": [
        {
          "data": {
            "text/plain": [
              "<matplotlib.legend.Legend at 0x22a6c5c76a0>"
            ]
          },
          "execution_count": 57,
          "metadata": {},
          "output_type": "execute_result"
        },
        {
          "data": {
            "image/png": "[encoded data removed]",
            "text/plain": [
              "<Figure size 800x550 with 1 Axes>"
            ]
          },
          "metadata": {},
          "output_type": "display_data"
        }
      ],
      "source": [
        "# Importando as bibliotecas necessárias\n",
        "from sklearn.preprocessing import label_binarize\n",
        "from sklearn.metrics import roc_curve, roc_auc_score, auc\n",
        "\n",
        "# Binarizando os rótulos para criar uma representação one-hot\n",
        "# Isto transforma a saída 'y' (que tem 3 classes) em 3 colunas binárias.\n",
        "y_cat = label_binarize(y, classes=[0, 1, 2])\n",
        "\n",
        "# Inicializando dicionários para armazenar a taxa de falso positivo (FPR), taxa de verdadeiro positivo (TPR) e AUC para cada classe.\n",
        "fpr = dict()\n",
        "tpr = dict()\n",
        "roc_auc = dict()\n",
        "n_classes = 3\n",
        "colors = ['blue','black','green','yellow']\n",
        "\n",
        "# Loop para calcular FPR, TPR e AUC para cada classe\n",
        "for i in range(n_classes):\n",
        "    # Calculando a Curva ROC para a classe i\n",
        "    fpr[i], tpr[i], _ = roc_curve(y_cat[:, i], modelo.predict(X).iloc[:,i])\n",
        "    # Calculando a área sob a Curva ROC (AUC) para a classe i\n",
        "    roc_auc[i] = auc(fpr[i], tpr[i])\n",
        "\n",
        "# Loop para plotar a Curva ROC para cada classe\n",
        "for i, color in zip(range(n_classes), colors):\n",
        "    plt.plot(fpr[i], tpr[i], color=color, lw=2,\n",
        "             label=f'Curva ROC para a classe {i} (area = {round(roc_auc[i], 2)})')\n",
        "\n",
        "# Adicionando a linha diagonal, representando um modelo de desempenho aleatório\n",
        "plt.plot([0, 1], [0, 1], 'r--')\n",
        "# Definindo o rótulo do eixo x\n",
        "plt.xlabel('Taxa de Falso Positivo')\n",
        "# Definindo o rótulo do eixo y\n",
        "plt.ylabel('Taxa de Verdadeiro Positivo')\n",
        "# Definindo o título do gráfico\n",
        "plt.title('Curva ROC para muitas classes')\n",
        "# Adicionando a legenda no canto inferior direito\n",
        "plt.legend(loc=\"lower right\")"
      ]
    },
    {
      "attachments": {},
      "cell_type": "markdown",
      "metadata": {
        "id": "U2QDyKPU1asW"
      },
      "source": [
        "## Atividade 5: Faça a previsão para um paciente que apresenta as seguintes características:\n",
        "\n",
        "* `LB` = 121\n",
        "* `AC` = 0.004176\n",
        "* `FM` = 0.0\n",
        "* `UC` = 0.007541\n",
        "* `DL` = 0.003176\n",
        "* `DS` = 0.0\n",
        "* `DP` = 0.0\n",
        "* `ASTV` = 20\n",
        "* `mSTV` = 2.3\n",
        "* `ALTV` = 0\n",
        "* `mLTV` = 11.5\n",
        "* `Width` = 129\n",
        "* `Min` = 54\n",
        "* `Max` = 171\n",
        "* `Nmax` = 5\n",
        "* `Nzeros` = 0\n",
        "* `Mode` = 140\n",
        "* `Mean` = 136\n",
        "* `Median` = 123\n",
        "* `Variance` = 14\n",
        "* `Tendency` = 1"
      ]
    },
    {
      "cell_type": "code",
      "execution_count": 58,
      "metadata": {
        "id": "Ir5gqOy72BLQ"
      },
      "outputs": [
        {
          "data": {
            "text/html": [
              "<div>\n",
              "<style scoped>\n",
              "    .dataframe tbody tr th:only-of-type {\n",
              "        vertical-align: middle;\n",
              "    }\n",
              "\n",
              "    .dataframe tbody tr th {\n",
              "        vertical-align: top;\n",
              "    }\n",
              "\n",
              "    .dataframe thead th {\n",
              "        text-align: right;\n",
              "    }\n",
              "</style>\n",
              "<table border=\"1\" class=\"dataframe\">\n",
              "  <thead>\n",
              "    <tr style=\"text-align: right;\">\n",
              "      <th></th>\n",
              "      <th>const</th>\n",
              "      <th>LB</th>\n",
              "      <th>AC</th>\n",
              "      <th>FM</th>\n",
              "      <th>UC</th>\n",
              "      <th>DL</th>\n",
              "      <th>DS</th>\n",
              "      <th>DP</th>\n",
              "      <th>ASTV</th>\n",
              "      <th>mSTV</th>\n",
              "      <th>...</th>\n",
              "      <th>Width</th>\n",
              "      <th>Min</th>\n",
              "      <th>Max</th>\n",
              "      <th>Nmax</th>\n",
              "      <th>Nzeros</th>\n",
              "      <th>Mode</th>\n",
              "      <th>Mean</th>\n",
              "      <th>Median</th>\n",
              "      <th>Variance</th>\n",
              "      <th>Tendency</th>\n",
              "    </tr>\n",
              "  </thead>\n",
              "  <tbody>\n",
              "    <tr>\n",
              "      <th>0</th>\n",
              "      <td>1</td>\n",
              "      <td>121</td>\n",
              "      <td>0.004176</td>\n",
              "      <td>0.0</td>\n",
              "      <td>0.007541</td>\n",
              "      <td>0.003176</td>\n",
              "      <td>0.0</td>\n",
              "      <td>0.0</td>\n",
              "      <td>20</td>\n",
              "      <td>2.3</td>\n",
              "      <td>...</td>\n",
              "      <td>129</td>\n",
              "      <td>54</td>\n",
              "      <td>171</td>\n",
              "      <td>5</td>\n",
              "      <td>0</td>\n",
              "      <td>140</td>\n",
              "      <td>136</td>\n",
              "      <td>123</td>\n",
              "      <td>14</td>\n",
              "      <td>1</td>\n",
              "    </tr>\n",
              "  </tbody>\n",
              "</table>\n",
              "<p>1 rows × 22 columns</p>\n",
              "</div>"
            ],
            "text/plain": [
              "   const   LB        AC   FM        UC        DL   DS   DP  ASTV  mSTV  ...  \\\n",
              "0      1  121  0.004176  0.0  0.007541  0.003176  0.0  0.0    20   2.3  ...   \n",
              "\n",
              "   Width  Min  Max  Nmax  Nzeros  Mode  Mean  Median  Variance  Tendency  \n",
              "0    129   54  171     5       0   140   136     123        14         1  \n",
              "\n",
              "[1 rows x 22 columns]"
            ]
          },
          "execution_count": 58,
          "metadata": {},
          "output_type": "execute_result"
        }
      ],
      "source": [
        "new_patient = pd.DataFrame({\n",
        "    'const': [1],\n",
        "    'LB': [121],\n",
        "    'AC': [0.004176],\n",
        "    'FM': [0.0],\n",
        "    'UC': [0.007541],\n",
        "    'DL': [0.003176],\n",
        "    'DS': [0.0],\n",
        "    'DP': [0.0],\n",
        "    'ASTV': [20],\n",
        "    'mSTV': [2.3],\n",
        "    'ALTV': [0],\n",
        "    'mLTV': [11.5],\n",
        "    'Width': [129],\n",
        "    'Min': [54],\n",
        "    'Max': [171],\n",
        "    'Nmax': [5],\n",
        "    'Nzeros': [0],\n",
        "    'Mode': [140],\n",
        "    'Mean': [136],\n",
        "    'Median': [123],\n",
        "    'Variance': [14],\n",
        "    'Tendency': [1]\n",
        "})\n",
        "\n",
        "new_patient"
      ]
    },
    {
      "cell_type": "code",
      "execution_count": 59,
      "metadata": {
        "id": "sJByYbo_2Hle"
      },
      "outputs": [
        {
          "name": "stdout",
          "output_type": "stream",
          "text": [
            "A classe prevista para o paciente é:  0\n"
          ]
        }
      ],
      "source": [
        "prediction = modelo.predict(new_patient)\n",
        "\n",
        "predicted_class = prediction.idxmax(axis=1)\n",
        "\n",
        "print(\"A classe prevista para o paciente é: \", predicted_class[0])"
      ]
    }
  ],
  "metadata": {
    "colab": {
      "provenance": []
    },
    "kernelspec": {
      "display_name": "Python 3",
      "name": "python3"
    },
    "language_info": {
      "codemirror_mode": {
        "name": "ipython",
        "version": 3
      },
      "file_extension": ".py",
      "mimetype": "text/x-python",
      "name": "python",
      "nbconvert_exporter": "python",
      "pygments_lexer": "ipython3",
      "version": "3.9.16"
    }
  },
  "nbformat": 4,
  "nbformat_minor": 0
}
