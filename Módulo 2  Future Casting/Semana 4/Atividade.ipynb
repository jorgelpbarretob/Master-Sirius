{
  "cells": [
    {
      "cell_type": "markdown",
      "metadata": {
        "id": "bPYgc7UHk8Wt"
      },
      "source": [
        "# Regressão Logística Multinomial\n",
        "\n",
        "Para esta atividade usaremos um conjunto de dados sobre métricas do coração de pacientes, com o objetivo de determinar se o paciente é normal, suspeito ou com doença patológica. O conjunto de dado pode ser encontrado no [GitHub](https://raw.githubusercontent.com/bkrai/R-files-from-YouTube/main/Cardiotocographic.csv) de alguns usuários.\n",
        "\n",
        "Abaixo encontra-se o dicionário de dados:\n",
        "\n",
        "* LB: baseline value (SisPorto)\n",
        "* AC: accelerations (SisPorto)\n",
        "* FM: foetal movement (SisPorto)\n",
        "* UC: uterine contractions (SisPorto)\n",
        "* DL: light decelerations\n",
        "* DS: severe decelerations\n",
        "* DP: prolongued decelerations\n",
        "* ASTV: percentage of time with abnormal short term variability (SisPorto)\n",
        "* mSTV: mean value of short term variability (SisPorto)\n",
        "* ALTV: percentage of time with abnormal long term variability (SisPorto)\n",
        "* mLTV: mean value of long term variability (SisPorto)\n",
        "* Width: histogram width\n",
        "* Min: low freq. of the histogram\n",
        "* Max: high freq. of the histogram\n",
        "* Nmax: number of histogram peaks\n",
        "* Nzeros: number of histogram zeros\n",
        "* Mode: histogram mode\n",
        "* Mean: histogram mean\n",
        "* Median: histogram median\n",
        "* Variance: histogram variance\n",
        "* Tendency: histogram tendency: -1=left assymetric; 0=symmetric; 1=right assymetric\n",
        "* NSP: Normal=0; Suspect=1; Pathologic=2\n",
        "\n",
        "\n",
        "O objetivo é entender/prever a variável `NSP` em função das demais.\n",
        "\n",
        "Obs: Não se preocupe se não entender o significado de cada variável, estamos lidando com um problema técnico e provavelmente você não terá um especialista na área e nem tempo suficiente para entender sobre a área de negócio para este exercício. Foque na construção do modelo de regressão logística."
      ]
    },
    {
      "cell_type": "markdown",
      "metadata": {
        "id": "YVgM5i4toExb"
      },
      "source": [
        "## Atividade 1: Importe o conjunto de dados, verifique se há dados faltantes e a correlação entre as variáveis."
      ]
    },
    {
      "cell_type": "code",
      "execution_count": 71,
      "metadata": {
        "id": "y4uD071Xj9_V"
      },
      "outputs": [],
      "source": [
        "import pandas as pd\n",
        "import numpy as np\n",
        "import matplotlib.pyplot as plt\n",
        "import seaborn as sns\n",
        "\n",
        "import warnings \n",
        "warnings.filterwarnings('ignore')"
      ]
    },
    {
      "cell_type": "code",
      "execution_count": 72,
      "metadata": {
        "id": "OGGvBh-Wj96l"
      },
      "outputs": [
        {
          "data": {
            "text/html": [
              "<div>\n",
              "<style scoped>\n",
              "    .dataframe tbody tr th:only-of-type {\n",
              "        vertical-align: middle;\n",
              "    }\n",
              "\n",
              "    .dataframe tbody tr th {\n",
              "        vertical-align: top;\n",
              "    }\n",
              "\n",
              "    .dataframe thead th {\n",
              "        text-align: right;\n",
              "    }\n",
              "</style>\n",
              "<table border=\"1\" class=\"dataframe\">\n",
              "  <thead>\n",
              "    <tr style=\"text-align: right;\">\n",
              "      <th></th>\n",
              "      <th>LB</th>\n",
              "      <th>AC</th>\n",
              "      <th>FM</th>\n",
              "      <th>UC</th>\n",
              "      <th>DL</th>\n",
              "      <th>DS</th>\n",
              "      <th>DP</th>\n",
              "      <th>ASTV</th>\n",
              "      <th>MSTV</th>\n",
              "      <th>ALTV</th>\n",
              "      <th>...</th>\n",
              "      <th>Min</th>\n",
              "      <th>Max</th>\n",
              "      <th>Nmax</th>\n",
              "      <th>Nzeros</th>\n",
              "      <th>Mode</th>\n",
              "      <th>Mean</th>\n",
              "      <th>Median</th>\n",
              "      <th>Variance</th>\n",
              "      <th>Tendency</th>\n",
              "      <th>NSP</th>\n",
              "    </tr>\n",
              "  </thead>\n",
              "  <tbody>\n",
              "    <tr>\n",
              "      <th>0</th>\n",
              "      <td>120</td>\n",
              "      <td>0.000000</td>\n",
              "      <td>0.0</td>\n",
              "      <td>0.000000</td>\n",
              "      <td>0.000000</td>\n",
              "      <td>0.0</td>\n",
              "      <td>0.0</td>\n",
              "      <td>73</td>\n",
              "      <td>0.5</td>\n",
              "      <td>43</td>\n",
              "      <td>...</td>\n",
              "      <td>62</td>\n",
              "      <td>126</td>\n",
              "      <td>2</td>\n",
              "      <td>0</td>\n",
              "      <td>120</td>\n",
              "      <td>137</td>\n",
              "      <td>121</td>\n",
              "      <td>73</td>\n",
              "      <td>1</td>\n",
              "      <td>1</td>\n",
              "    </tr>\n",
              "    <tr>\n",
              "      <th>1</th>\n",
              "      <td>132</td>\n",
              "      <td>0.006380</td>\n",
              "      <td>0.0</td>\n",
              "      <td>0.006380</td>\n",
              "      <td>0.003190</td>\n",
              "      <td>0.0</td>\n",
              "      <td>0.0</td>\n",
              "      <td>17</td>\n",
              "      <td>2.1</td>\n",
              "      <td>0</td>\n",
              "      <td>...</td>\n",
              "      <td>68</td>\n",
              "      <td>198</td>\n",
              "      <td>6</td>\n",
              "      <td>1</td>\n",
              "      <td>141</td>\n",
              "      <td>136</td>\n",
              "      <td>140</td>\n",
              "      <td>12</td>\n",
              "      <td>0</td>\n",
              "      <td>0</td>\n",
              "    </tr>\n",
              "    <tr>\n",
              "      <th>2</th>\n",
              "      <td>133</td>\n",
              "      <td>0.003322</td>\n",
              "      <td>0.0</td>\n",
              "      <td>0.008306</td>\n",
              "      <td>0.003322</td>\n",
              "      <td>0.0</td>\n",
              "      <td>0.0</td>\n",
              "      <td>16</td>\n",
              "      <td>2.1</td>\n",
              "      <td>0</td>\n",
              "      <td>...</td>\n",
              "      <td>68</td>\n",
              "      <td>198</td>\n",
              "      <td>5</td>\n",
              "      <td>1</td>\n",
              "      <td>141</td>\n",
              "      <td>135</td>\n",
              "      <td>138</td>\n",
              "      <td>13</td>\n",
              "      <td>0</td>\n",
              "      <td>0</td>\n",
              "    </tr>\n",
              "    <tr>\n",
              "      <th>3</th>\n",
              "      <td>134</td>\n",
              "      <td>0.002561</td>\n",
              "      <td>0.0</td>\n",
              "      <td>0.007682</td>\n",
              "      <td>0.002561</td>\n",
              "      <td>0.0</td>\n",
              "      <td>0.0</td>\n",
              "      <td>16</td>\n",
              "      <td>2.4</td>\n",
              "      <td>0</td>\n",
              "      <td>...</td>\n",
              "      <td>53</td>\n",
              "      <td>170</td>\n",
              "      <td>11</td>\n",
              "      <td>0</td>\n",
              "      <td>137</td>\n",
              "      <td>134</td>\n",
              "      <td>137</td>\n",
              "      <td>13</td>\n",
              "      <td>1</td>\n",
              "      <td>0</td>\n",
              "    </tr>\n",
              "    <tr>\n",
              "      <th>4</th>\n",
              "      <td>132</td>\n",
              "      <td>0.006515</td>\n",
              "      <td>0.0</td>\n",
              "      <td>0.008143</td>\n",
              "      <td>0.000000</td>\n",
              "      <td>0.0</td>\n",
              "      <td>0.0</td>\n",
              "      <td>16</td>\n",
              "      <td>2.4</td>\n",
              "      <td>0</td>\n",
              "      <td>...</td>\n",
              "      <td>53</td>\n",
              "      <td>170</td>\n",
              "      <td>9</td>\n",
              "      <td>0</td>\n",
              "      <td>137</td>\n",
              "      <td>136</td>\n",
              "      <td>138</td>\n",
              "      <td>11</td>\n",
              "      <td>1</td>\n",
              "      <td>0</td>\n",
              "    </tr>\n",
              "  </tbody>\n",
              "</table>\n",
              "<p>5 rows × 22 columns</p>\n",
              "</div>"
            ],
            "text/plain": [
              "    LB        AC   FM        UC        DL   DS   DP  ASTV  MSTV  ALTV  ...  \\\n",
              "0  120  0.000000  0.0  0.000000  0.000000  0.0  0.0    73   0.5    43  ...   \n",
              "1  132  0.006380  0.0  0.006380  0.003190  0.0  0.0    17   2.1     0  ...   \n",
              "2  133  0.003322  0.0  0.008306  0.003322  0.0  0.0    16   2.1     0  ...   \n",
              "3  134  0.002561  0.0  0.007682  0.002561  0.0  0.0    16   2.4     0  ...   \n",
              "4  132  0.006515  0.0  0.008143  0.000000  0.0  0.0    16   2.4     0  ...   \n",
              "\n",
              "   Min  Max  Nmax  Nzeros  Mode  Mean  Median  Variance  Tendency  NSP  \n",
              "0   62  126     2       0   120   137     121        73         1    1  \n",
              "1   68  198     6       1   141   136     140        12         0    0  \n",
              "2   68  198     5       1   141   135     138        13         0    0  \n",
              "3   53  170    11       0   137   134     137        13         1    0  \n",
              "4   53  170     9       0   137   136     138        11         1    0  \n",
              "\n",
              "[5 rows x 22 columns]"
            ]
          },
          "execution_count": 72,
          "metadata": {},
          "output_type": "execute_result"
        }
      ],
      "source": [
        "# Carregando os dados novamente\n",
        "df = pd.read_excel('cardio.xlsx')\n",
        "\n",
        "df.head()"
      ]
    },
    {
      "cell_type": "code",
      "execution_count": 73,
      "metadata": {
        "id": "LQUYPMN0bQlk"
      },
      "outputs": [
        {
          "data": {
            "text/plain": [
              "LB          0\n",
              "AC          0\n",
              "FM          0\n",
              "UC          0\n",
              "DL          0\n",
              "DS          0\n",
              "DP          0\n",
              "ASTV        0\n",
              "MSTV        0\n",
              "ALTV        0\n",
              "MLTV        0\n",
              "Width       0\n",
              "Min         0\n",
              "Max         0\n",
              "Nmax        0\n",
              "Nzeros      0\n",
              "Mode        0\n",
              "Mean        0\n",
              "Median      0\n",
              "Variance    0\n",
              "Tendency    0\n",
              "NSP         0\n",
              "dtype: int64"
            ]
          },
          "execution_count": 73,
          "metadata": {},
          "output_type": "execute_result"
        }
      ],
      "source": [
        "# Verificando a presença de valores ausentes\n",
        "missing_values = df.isnull().sum()\n",
        "\n",
        "missing_values"
      ]
    },
    {
      "cell_type": "markdown",
      "metadata": {
        "id": "KTmGalb8ox5h"
      },
      "source": [
        "## Atividade 2: Verifique se a variável está balanceada."
      ]
    },
    {
      "cell_type": "code",
      "execution_count": 74,
      "metadata": {
        "id": "SrJ6EcNN1TnE"
      },
      "outputs": [
        {
          "data": {
            "text/plain": [
              "0    1655\n",
              "1     295\n",
              "2     176\n",
              "Name: NSP, dtype: int64"
            ]
          },
          "execution_count": 74,
          "metadata": {},
          "output_type": "execute_result"
        }
      ],
      "source": [
        "# Verificando o balanceamento da variável 'fraude'\n",
        "class_balance = df['NSP'].value_counts()\n",
        "\n",
        "class_balance"
      ]
    },
    {
      "cell_type": "markdown",
      "metadata": {
        "id": "B8vkJbh1o8F5"
      },
      "source": [
        "## Atividade 3: Use as variáveis que achar relevante e separe as variáveis em $X$ e $y$, a seguir crie um modelo de regressão logística."
      ]
    },
    {
      "cell_type": "code",
      "execution_count": 75,
      "metadata": {},
      "outputs": [],
      "source": [
        "# separando as variáveis dependente e independente\n",
        "X = df.drop('NSP', axis=1)\n",
        "y = df['NSP']"
      ]
    },
    {
      "cell_type": "code",
      "execution_count": 76,
      "metadata": {},
      "outputs": [],
      "source": [
        "# balanceando as classes com undersampling\n",
        "from imblearn.under_sampling import RandomUnderSampler\n",
        "\n",
        "undersample = RandomUnderSampler(sampling_strategy='auto')\n",
        "X, y = undersample.fit_resample(X, y)"
      ]
    },
    {
      "cell_type": "code",
      "execution_count": 77,
      "metadata": {},
      "outputs": [
        {
          "data": {
            "text/plain": [
              "0    176\n",
              "1    176\n",
              "2    176\n",
              "Name: NSP, dtype: int64"
            ]
          },
          "execution_count": 77,
          "metadata": {},
          "output_type": "execute_result"
        }
      ],
      "source": [
        "class_balance = y.value_counts()\n",
        "\n",
        "class_balance"
      ]
    },
    {
      "cell_type": "code",
      "execution_count": 78,
      "metadata": {
        "id": "ah8kCxBhvLhi"
      },
      "outputs": [],
      "source": [
        "# importando o statsmodels para criar o modelo de regressão logística\n",
        "import statsmodels.api as sm\n",
        "from statsmodels.discrete.discrete_model import MNLogit"
      ]
    },
    {
      "cell_type": "code",
      "execution_count": 79,
      "metadata": {},
      "outputs": [],
      "source": [
        "# Assim como na regressão linear, temos que adicionar uma constante à variável X.\n",
        "X = sm.add_constant(X)"
      ]
    },
    {
      "cell_type": "code",
      "execution_count": 80,
      "metadata": {
        "id": "inqE0_kvj94z"
      },
      "outputs": [
        {
          "name": "stdout",
          "output_type": "stream",
          "text": [
            "Warning: Maximum number of iterations has been exceeded.\n",
            "         Current function value: 0.276588\n",
            "         Iterations: 35\n"
          ]
        }
      ],
      "source": [
        "# criando modelo de regressão logística\n",
        "modelo = MNLogit(y, X).fit()"
      ]
    },
    {
      "cell_type": "code",
      "execution_count": 81,
      "metadata": {
        "id": "KCCQCtD8xMAZ"
      },
      "outputs": [
        {
          "data": {
            "text/html": [
              "<div>\n",
              "<style scoped>\n",
              "    .dataframe tbody tr th:only-of-type {\n",
              "        vertical-align: middle;\n",
              "    }\n",
              "\n",
              "    .dataframe tbody tr th {\n",
              "        vertical-align: top;\n",
              "    }\n",
              "\n",
              "    .dataframe thead th {\n",
              "        text-align: right;\n",
              "    }\n",
              "</style>\n",
              "<table border=\"1\" class=\"dataframe\">\n",
              "  <thead>\n",
              "    <tr style=\"text-align: right;\">\n",
              "      <th></th>\n",
              "      <th>0</th>\n",
              "      <th>1</th>\n",
              "      <th>2</th>\n",
              "    </tr>\n",
              "  </thead>\n",
              "  <tbody>\n",
              "    <tr>\n",
              "      <th>0</th>\n",
              "      <td>9.999262e-01</td>\n",
              "      <td>7.130416e-05</td>\n",
              "      <td>2.518373e-06</td>\n",
              "    </tr>\n",
              "    <tr>\n",
              "      <th>1</th>\n",
              "      <td>9.655601e-01</td>\n",
              "      <td>3.422709e-02</td>\n",
              "      <td>2.128069e-04</td>\n",
              "    </tr>\n",
              "    <tr>\n",
              "      <th>2</th>\n",
              "      <td>9.999990e-01</td>\n",
              "      <td>9.624295e-07</td>\n",
              "      <td>7.522673e-10</td>\n",
              "    </tr>\n",
              "    <tr>\n",
              "      <th>3</th>\n",
              "      <td>9.999986e-01</td>\n",
              "      <td>1.427418e-06</td>\n",
              "      <td>1.284270e-10</td>\n",
              "    </tr>\n",
              "    <tr>\n",
              "      <th>4</th>\n",
              "      <td>9.974783e-01</td>\n",
              "      <td>2.521640e-03</td>\n",
              "      <td>3.922331e-08</td>\n",
              "    </tr>\n",
              "    <tr>\n",
              "      <th>...</th>\n",
              "      <td>...</td>\n",
              "      <td>...</td>\n",
              "      <td>...</td>\n",
              "    </tr>\n",
              "    <tr>\n",
              "      <th>523</th>\n",
              "      <td>9.269558e-06</td>\n",
              "      <td>4.508822e-07</td>\n",
              "      <td>9.999903e-01</td>\n",
              "    </tr>\n",
              "    <tr>\n",
              "      <th>524</th>\n",
              "      <td>9.614145e-07</td>\n",
              "      <td>3.526935e-08</td>\n",
              "      <td>9.999990e-01</td>\n",
              "    </tr>\n",
              "    <tr>\n",
              "      <th>525</th>\n",
              "      <td>2.268644e-05</td>\n",
              "      <td>1.036947e-06</td>\n",
              "      <td>9.999763e-01</td>\n",
              "    </tr>\n",
              "    <tr>\n",
              "      <th>526</th>\n",
              "      <td>1.178664e-04</td>\n",
              "      <td>2.989207e-06</td>\n",
              "      <td>9.998791e-01</td>\n",
              "    </tr>\n",
              "    <tr>\n",
              "      <th>527</th>\n",
              "      <td>3.683306e-02</td>\n",
              "      <td>7.660590e-12</td>\n",
              "      <td>9.631669e-01</td>\n",
              "    </tr>\n",
              "  </tbody>\n",
              "</table>\n",
              "<p>528 rows × 3 columns</p>\n",
              "</div>"
            ],
            "text/plain": [
              "                0             1             2\n",
              "0    9.999262e-01  7.130416e-05  2.518373e-06\n",
              "1    9.655601e-01  3.422709e-02  2.128069e-04\n",
              "2    9.999990e-01  9.624295e-07  7.522673e-10\n",
              "3    9.999986e-01  1.427418e-06  1.284270e-10\n",
              "4    9.974783e-01  2.521640e-03  3.922331e-08\n",
              "..            ...           ...           ...\n",
              "523  9.269558e-06  4.508822e-07  9.999903e-01\n",
              "524  9.614145e-07  3.526935e-08  9.999990e-01\n",
              "525  2.268644e-05  1.036947e-06  9.999763e-01\n",
              "526  1.178664e-04  2.989207e-06  9.998791e-01\n",
              "527  3.683306e-02  7.660590e-12  9.631669e-01\n",
              "\n",
              "[528 rows x 3 columns]"
            ]
          },
          "execution_count": 81,
          "metadata": {},
          "output_type": "execute_result"
        }
      ],
      "source": [
        "modelo.predict(X)"
      ]
    },
    {
      "cell_type": "code",
      "execution_count": 82,
      "metadata": {
        "id": "U0LWAEIGN9WB"
      },
      "outputs": [],
      "source": [
        "y_pred = modelo.predict(X).idxmax(axis=1)"
      ]
    },
    {
      "cell_type": "code",
      "execution_count": 83,
      "metadata": {
        "id": "WOqAN-cRk7W3"
      },
      "outputs": [
        {
          "name": "stdout",
          "output_type": "stream",
          "text": [
            "                          MNLogit Regression Results                          \n",
            "==============================================================================\n",
            "Dep. Variable:                    NSP   No. Observations:                  528\n",
            "Model:                        MNLogit   Df Residuals:                      484\n",
            "Method:                           MLE   Df Model:                           42\n",
            "Date:                Sat, 05 Aug 2023   Pseudo R-squ.:                  0.7482\n",
            "Time:                        21:21:04   Log-Likelihood:                -146.04\n",
            "converged:                      False   LL-Null:                       -580.07\n",
            "Covariance Type:            nonrobust   LLR p-value:                7.732e-155\n",
            "==============================================================================\n",
            "     NSP=1       coef    std err          z      P>|z|      [0.025      0.975]\n",
            "------------------------------------------------------------------------------\n",
            "const        -26.3668      5.241     -5.031      0.000     -36.638     -16.095\n",
            "LB            -0.0505      0.083     -0.608      0.543      -0.213       0.112\n",
            "AC         -1516.8934    290.466     -5.222      0.000   -2086.197    -947.590\n",
            "FM            27.0561      8.066      3.354      0.001      11.247      42.865\n",
            "UC          -244.4200    102.354     -2.388      0.017    -445.029     -43.811\n",
            "DL            85.6492    213.185      0.402      0.688    -332.186     503.484\n",
            "DS         -1.028e+04   2.52e+06     -0.004      0.997   -4.94e+06    4.92e+06\n",
            "DP          5370.9787   1152.655      4.660      0.000    3111.817    7630.140\n",
            "ASTV           0.1094      0.027      4.009      0.000       0.056       0.163\n",
            "MSTV          -2.2123      0.715     -3.092      0.002      -3.615      -0.810\n",
            "ALTV           0.0033      0.015      0.213      0.831      -0.027       0.033\n",
            "MLTV           0.1439      0.118      1.215      0.224      -0.088       0.376\n",
            "Width          0.0097   1.19e+04   8.12e-07      1.000   -2.33e+04    2.33e+04\n",
            "Min            0.0500    1.2e+04   4.17e-06      1.000   -2.35e+04    2.35e+04\n",
            "Max            0.0605   1.28e+04   4.73e-06      1.000   -2.51e+04    2.51e+04\n",
            "Nmax           0.1248      0.142      0.879      0.380      -0.154       0.403\n",
            "Nzeros         1.3810      0.536      2.578      0.010       0.331       2.431\n",
            "Mode          -0.0754      0.068     -1.102      0.271      -0.210       0.059\n",
            "Mean           0.5443      0.151      3.603      0.000       0.248       0.840\n",
            "Median        -0.3698      0.157     -2.351      0.019      -0.678      -0.061\n",
            "Variance       0.0696      0.024      2.892      0.004       0.022       0.117\n",
            "Tendency       0.9905      0.623      1.590      0.112      -0.231       2.211\n",
            "------------------------------------------------------------------------------\n",
            "     NSP=2       coef    std err          z      P>|z|      [0.025      0.975]\n",
            "------------------------------------------------------------------------------\n",
            "const        -32.6647      6.342     -5.150      0.000     -45.095     -20.234\n",
            "LB             0.2643      0.102      2.603      0.009       0.065       0.463\n",
            "AC         -1457.7480    477.501     -3.053      0.002   -2393.633    -521.863\n",
            "FM            37.3529      8.945      4.176      0.000      19.820      54.886\n",
            "UC          -223.2236    125.976     -1.772      0.076    -470.131      23.684\n",
            "DL           223.6697    201.466      1.110      0.267    -171.196     618.536\n",
            "DS          1725.2451   6.35e+04      0.027      0.978   -1.23e+05    1.26e+05\n",
            "DP          5604.7442   1209.686      4.633      0.000    3233.803    7975.686\n",
            "ASTV           0.2257      0.035      6.382      0.000       0.156       0.295\n",
            "MSTV          -2.6994      0.793     -3.406      0.001      -4.253      -1.146\n",
            "ALTV           0.0622      0.018      3.445      0.001       0.027       0.098\n",
            "MLTV           0.1568      0.137      1.142      0.254      -0.112       0.426\n",
            "Width          0.0312   4.14e+04   7.52e-07      1.000   -8.12e+04    8.12e+04\n",
            "Min            0.0586   4.14e+04   1.42e-06      1.000   -8.12e+04    8.12e+04\n",
            "Max            0.0909   4.14e+04   2.19e-06      1.000   -8.12e+04    8.12e+04\n",
            "Nmax          -0.5547      0.206     -2.689      0.007      -0.959      -0.150\n",
            "Nzeros         1.1702      0.628      1.863      0.063      -0.061       2.402\n",
            "Mode          -0.1016      0.066     -1.540      0.124      -0.231       0.028\n",
            "Mean           0.0138      0.100      0.137      0.891      -0.183       0.210\n",
            "Median        -0.2027      0.118     -1.713      0.087      -0.435       0.029\n",
            "Variance       0.0829      0.024      3.490      0.000       0.036       0.129\n",
            "Tendency       1.0682      0.713      1.498      0.134      -0.330       2.466\n",
            "==============================================================================\n"
          ]
        }
      ],
      "source": [
        "print(modelo.summary())"
      ]
    },
    {
      "cell_type": "markdown",
      "metadata": {
        "id": "9VHtr2fppc4h"
      },
      "source": [
        "## Atividade 4: Faça previsões e avalie o modelo."
      ]
    },
    {
      "cell_type": "code",
      "execution_count": 84,
      "metadata": {
        "id": "x3QqabTtPY1O"
      },
      "outputs": [
        {
          "data": {
            "text/plain": [
              "array([[164,   9,   3],\n",
              "       [  8, 147,  21],\n",
              "       [  1,  20, 155]])"
            ]
          },
          "execution_count": 84,
          "metadata": {},
          "output_type": "execute_result"
        }
      ],
      "source": [
        "from sklearn.metrics import confusion_matrix\n",
        "\n",
        "matriz_confusao = confusion_matrix(y, y_pred)\n",
        "matriz_confusao"
      ]
    },
    {
      "cell_type": "code",
      "execution_count": 85,
      "metadata": {
        "id": "n8QwhzkTPiDs"
      },
      "outputs": [
        {
          "data": {
            "image/png": "[encoded data removed]",
            "text/plain": [
              "<Figure size 640x480 with 2 Axes>"
            ]
          },
          "metadata": {},
          "output_type": "display_data"
        }
      ],
      "source": [
        "# criando mapa de calor\n",
        "import seaborn as sns\n",
        "import matplotlib.pyplot as plt\n",
        "\n",
        "sns.heatmap(matriz_confusao, annot=True, fmt='d', cmap='Blues')\n",
        "plt.title('Matriz de Confusão', y=1.1)\n",
        "plt.ylabel('Valores Observados')\n",
        "plt.xlabel('Valores Preditos');"
      ]
    },
    {
      "cell_type": "code",
      "execution_count": 86,
      "metadata": {
        "id": "hv7AEF01Pt0y"
      },
      "outputs": [
        {
          "data": {
            "image/png": "[encoded data removed]",
            "text/plain": [
              "<Figure size 640x480 with 2 Axes>"
            ]
          },
          "metadata": {},
          "output_type": "display_data"
        }
      ],
      "source": [
        "import numpy as np\n",
        "\n",
        "sns.heatmap(matriz_confusao/np.sum(matriz_confusao),\n",
        "            annot=True, fmt='.2%', cmap='Blues')\n",
        "plt.title('Matriz de Confusão', y=1.1)\n",
        "plt.ylabel('Valores Observados')\n",
        "plt.xlabel('Valores Preditos');"
      ]
    },
    {
      "cell_type": "code",
      "execution_count": 87,
      "metadata": {
        "id": "UpCr12avAR5f"
      },
      "outputs": [
        {
          "name": "stdout",
          "output_type": "stream",
          "text": [
            "              precision    recall  f1-score   support\n",
            "\n",
            "           0       0.95      0.93      0.94       176\n",
            "           1       0.84      0.84      0.84       176\n",
            "           2       0.87      0.88      0.87       176\n",
            "\n",
            "    accuracy                           0.88       528\n",
            "   macro avg       0.88      0.88      0.88       528\n",
            "weighted avg       0.88      0.88      0.88       528\n",
            "\n"
          ]
        }
      ],
      "source": [
        "from sklearn.metrics import classification_report\n",
        "\n",
        "print(classification_report(y, y_pred))"
      ]
    },
    {
      "cell_type": "code",
      "execution_count": 88,
      "metadata": {
        "id": "9uen0B9OQr6H"
      },
      "outputs": [
        {
          "data": {
            "image/png": "[encoded data removed]",
            "text/plain": [
              "<Figure size 640x480 with 1 Axes>"
            ]
          },
          "metadata": {},
          "output_type": "display_data"
        }
      ],
      "source": [
        "from sklearn.preprocessing import label_binarize\n",
        "from sklearn.metrics import roc_curve, roc_auc_score, auc\n",
        "\n",
        "y_cat = label_binarize(y, classes=[0, 1, 2])\n",
        "\n",
        "fpr = dict()\n",
        "tpr = dict()\n",
        "roc_auc = dict()\n",
        "n_classes = 3\n",
        "colors = ['blue','black','green','yellow']\n",
        "\n",
        "for i in range(n_classes):\n",
        "    fpr[i], tpr[i], _ = roc_curve(y_cat[:, i], modelo.predict(X).iloc[:,i])\n",
        "    roc_auc[i] = auc(fpr[i], tpr[i])\n",
        "\n",
        "for i, color in zip(range(n_classes), colors):\n",
        "    plt.plot(fpr[i], tpr[i], color=color, lw=2,\n",
        "             label=f'Curva ROC para a classe {i} (area = {round(roc_auc[i], 2)})')\n",
        "\n",
        "plt.plot([0, 1], [0, 1], 'r--')\n",
        "plt.xlabel('Taxa de Falso Positivo')\n",
        "plt.ylabel('Taxa de Verdadeiro Positivo')\n",
        "plt.title('Curva ROC para muitas classes')\n",
        "plt.legend(loc=\"lower right\");"
      ]
    },
    {
      "cell_type": "markdown",
      "metadata": {
        "id": "U2QDyKPU1asW"
      },
      "source": [
        "## Atividade 5: Faça a previsão para um paciente que apresenta as seguintes características:\n",
        "\n",
        "* `LB` = 121\n",
        "* `AC` = 0.004176\n",
        "* `FM` = 0.0\n",
        "* `UC` = 0.007541\n",
        "* `DL` = 0.003176\n",
        "* `DS` = 0.0\n",
        "* `DP` = 0.0\n",
        "* `ASTV` = 20\n",
        "* `mSTV` = 2.3\n",
        "* `ALTV` = 0\n",
        "* `mLTV` = 11.5\n",
        "* `Width` = 129\n",
        "* `Min` = 54\n",
        "* `Max` = 171\n",
        "* `Nmax` = 5\n",
        "* `Nzeros` = 0\n",
        "* `Mode` = 140\n",
        "* `Mean` = 136\n",
        "* `Median` = 123\n",
        "* `Variance` = 14\n",
        "* `Tendency` = 1"
      ]
    },
    {
      "cell_type": "code",
      "execution_count": 89,
      "metadata": {
        "id": "Ir5gqOy72BLQ"
      },
      "outputs": [
        {
          "data": {
            "text/html": [
              "<div>\n",
              "<style scoped>\n",
              "    .dataframe tbody tr th:only-of-type {\n",
              "        vertical-align: middle;\n",
              "    }\n",
              "\n",
              "    .dataframe tbody tr th {\n",
              "        vertical-align: top;\n",
              "    }\n",
              "\n",
              "    .dataframe thead th {\n",
              "        text-align: right;\n",
              "    }\n",
              "</style>\n",
              "<table border=\"1\" class=\"dataframe\">\n",
              "  <thead>\n",
              "    <tr style=\"text-align: right;\">\n",
              "      <th></th>\n",
              "      <th>const</th>\n",
              "      <th>LB</th>\n",
              "      <th>AC</th>\n",
              "      <th>FM</th>\n",
              "      <th>UC</th>\n",
              "      <th>DL</th>\n",
              "      <th>DS</th>\n",
              "      <th>DP</th>\n",
              "      <th>ASTV</th>\n",
              "      <th>mSTV</th>\n",
              "      <th>...</th>\n",
              "      <th>Width</th>\n",
              "      <th>Min</th>\n",
              "      <th>Max</th>\n",
              "      <th>Nmax</th>\n",
              "      <th>Nzeros</th>\n",
              "      <th>Mode</th>\n",
              "      <th>Mean</th>\n",
              "      <th>Median</th>\n",
              "      <th>Variance</th>\n",
              "      <th>Tendency</th>\n",
              "    </tr>\n",
              "  </thead>\n",
              "  <tbody>\n",
              "    <tr>\n",
              "      <th>0</th>\n",
              "      <td>1</td>\n",
              "      <td>121</td>\n",
              "      <td>0.004176</td>\n",
              "      <td>0.0</td>\n",
              "      <td>0.007541</td>\n",
              "      <td>0.003176</td>\n",
              "      <td>0.0</td>\n",
              "      <td>0.0</td>\n",
              "      <td>20</td>\n",
              "      <td>2.3</td>\n",
              "      <td>...</td>\n",
              "      <td>129</td>\n",
              "      <td>54</td>\n",
              "      <td>171</td>\n",
              "      <td>5</td>\n",
              "      <td>0</td>\n",
              "      <td>140</td>\n",
              "      <td>136</td>\n",
              "      <td>123</td>\n",
              "      <td>14</td>\n",
              "      <td>1</td>\n",
              "    </tr>\n",
              "  </tbody>\n",
              "</table>\n",
              "<p>1 rows × 22 columns</p>\n",
              "</div>"
            ],
            "text/plain": [
              "   const   LB        AC   FM        UC        DL   DS   DP  ASTV  mSTV  ...  \\\n",
              "0      1  121  0.004176  0.0  0.007541  0.003176  0.0  0.0    20   2.3  ...   \n",
              "\n",
              "   Width  Min  Max  Nmax  Nzeros  Mode  Mean  Median  Variance  Tendency  \n",
              "0    129   54  171     5       0   140   136     123        14         1  \n",
              "\n",
              "[1 rows x 22 columns]"
            ]
          },
          "execution_count": 89,
          "metadata": {},
          "output_type": "execute_result"
        }
      ],
      "source": [
        "new_patient = pd.DataFrame({\n",
        "    'const': [1],\n",
        "    'LB': [121],\n",
        "    'AC': [0.004176],\n",
        "    'FM': [0.0],\n",
        "    'UC': [0.007541],\n",
        "    'DL': [0.003176],\n",
        "    'DS': [0.0],\n",
        "    'DP': [0.0],\n",
        "    'ASTV': [20],\n",
        "    'mSTV': [2.3],\n",
        "    'ALTV': [0],\n",
        "    'mLTV': [11.5],\n",
        "    'Width': [129],\n",
        "    'Min': [54],\n",
        "    'Max': [171],\n",
        "    'Nmax': [5],\n",
        "    'Nzeros': [0],\n",
        "    'Mode': [140],\n",
        "    'Mean': [136],\n",
        "    'Median': [123],\n",
        "    'Variance': [14],\n",
        "    'Tendency': [1]\n",
        "})\n",
        "\n",
        "new_patient"
      ]
    },
    {
      "cell_type": "code",
      "execution_count": 90,
      "metadata": {
        "id": "sJByYbo_2Hle"
      },
      "outputs": [
        {
          "name": "stdout",
          "output_type": "stream",
          "text": [
            "A classe prevista para o paciente é:  0\n"
          ]
        }
      ],
      "source": [
        "prediction = modelo.predict(new_patient)\n",
        "\n",
        "predicted_class = prediction.idxmax(axis=1)\n",
        "\n",
        "print(\"A classe prevista para o paciente é: \", predicted_class[0])"
      ]
    }
  ],
  "metadata": {
    "colab": {
      "provenance": []
    },
    "kernelspec": {
      "display_name": "Python 3",
      "name": "python3"
    },
    "language_info": {
      "codemirror_mode": {
        "name": "ipython",
        "version": 3
      },
      "file_extension": ".py",
      "mimetype": "text/x-python",
      "name": "python",
      "nbconvert_exporter": "python",
      "pygments_lexer": "ipython3",
      "version": "3.9.16"
    }
  },
  "nbformat": 4,
  "nbformat_minor": 0
}
