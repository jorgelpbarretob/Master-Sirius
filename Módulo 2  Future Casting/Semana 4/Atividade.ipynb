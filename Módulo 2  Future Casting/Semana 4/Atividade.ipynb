{
  "cells": [
    {
      "cell_type": "markdown",
      "metadata": {
        "id": "bPYgc7UHk8Wt"
      },
      "source": [
        "# Regressão Logística Multinomial\n",
        "\n",
        "Para esta atividade usaremos um conjunto de dados sobre métricas do coração de pacientes, com o objetivo de determinar se o paciente é normal, suspeito ou com doença patológica. O conjunto de dado pode ser encontrado no [GitHub](https://raw.githubusercontent.com/bkrai/R-files-from-YouTube/main/Cardiotocographic.csv) de alguns usuários.\n",
        "\n",
        "Abaixo encontra-se o dicionário de dados:\n",
        "\n",
        "* LB: baseline value (SisPorto)\n",
        "* AC: accelerations (SisPorto)\n",
        "* FM: foetal movement (SisPorto)\n",
        "* UC: uterine contractions (SisPorto)\n",
        "* DL: light decelerations\n",
        "* DS: severe decelerations\n",
        "* DP: prolongued decelerations\n",
        "* ASTV: percentage of time with abnormal short term variability (SisPorto)\n",
        "* mSTV: mean value of short term variability (SisPorto)\n",
        "* ALTV: percentage of time with abnormal long term variability (SisPorto)\n",
        "* mLTV: mean value of long term variability (SisPorto)\n",
        "* Width: histogram width\n",
        "* Min: low freq. of the histogram\n",
        "* Max: high freq. of the histogram\n",
        "* Nmax: number of histogram peaks\n",
        "* Nzeros: number of histogram zeros\n",
        "* Mode: histogram mode\n",
        "* Mean: histogram mean\n",
        "* Median: histogram median\n",
        "* Variance: histogram variance\n",
        "* Tendency: histogram tendency: -1=left assymetric; 0=symmetric; 1=right assymetric\n",
        "* NSP: Normal=0; Suspect=1; Pathologic=2\n",
        "\n",
        "\n",
        "O objetivo é entender/prever a variável `NSP` em função das demais.\n",
        "\n",
        "Obs: Não se preocupe se não entender o significado de cada variável, estamos lidando com um problema técnico e provavelmente você não terá um especialista na área e nem tempo suficiente para entender sobre a área de negócio para este exercício. Foque na construção do modelo de regressão logística."
      ]
    },
    {
      "cell_type": "markdown",
      "metadata": {
        "id": "YVgM5i4toExb"
      },
      "source": [
        "## Atividade 1: Importe o conjunto de dados, verifique se há dados faltantes e a correlação entre as variáveis."
      ]
    },
    {
      "cell_type": "code",
      "execution_count": 31,
      "metadata": {
        "id": "y4uD071Xj9_V"
      },
      "outputs": [],
      "source": [
        "import pandas as pd\n",
        "import numpy as np\n",
        "import matplotlib.pyplot as plt\n",
        "import seaborn as sns\n",
        "\n",
        "import warnings \n",
        "warnings.filterwarnings('ignore')"
      ]
    },
    {
      "cell_type": "code",
      "execution_count": 32,
      "metadata": {
        "id": "OGGvBh-Wj96l"
      },
      "outputs": [
        {
          "data": {
            "text/html": [
              "<div>\n",
              "<style scoped>\n",
              "    .dataframe tbody tr th:only-of-type {\n",
              "        vertical-align: middle;\n",
              "    }\n",
              "\n",
              "    .dataframe tbody tr th {\n",
              "        vertical-align: top;\n",
              "    }\n",
              "\n",
              "    .dataframe thead th {\n",
              "        text-align: right;\n",
              "    }\n",
              "</style>\n",
              "<table border=\"1\" class=\"dataframe\">\n",
              "  <thead>\n",
              "    <tr style=\"text-align: right;\">\n",
              "      <th></th>\n",
              "      <th>LB</th>\n",
              "      <th>AC</th>\n",
              "      <th>FM</th>\n",
              "      <th>UC</th>\n",
              "      <th>DL</th>\n",
              "      <th>DS</th>\n",
              "      <th>DP</th>\n",
              "      <th>ASTV</th>\n",
              "      <th>MSTV</th>\n",
              "      <th>ALTV</th>\n",
              "      <th>...</th>\n",
              "      <th>Min</th>\n",
              "      <th>Max</th>\n",
              "      <th>Nmax</th>\n",
              "      <th>Nzeros</th>\n",
              "      <th>Mode</th>\n",
              "      <th>Mean</th>\n",
              "      <th>Median</th>\n",
              "      <th>Variance</th>\n",
              "      <th>Tendency</th>\n",
              "      <th>NSP</th>\n",
              "    </tr>\n",
              "  </thead>\n",
              "  <tbody>\n",
              "    <tr>\n",
              "      <th>0</th>\n",
              "      <td>120</td>\n",
              "      <td>0.000000</td>\n",
              "      <td>0.0</td>\n",
              "      <td>0.000000</td>\n",
              "      <td>0.000000</td>\n",
              "      <td>0.0</td>\n",
              "      <td>0.0</td>\n",
              "      <td>73</td>\n",
              "      <td>0.5</td>\n",
              "      <td>43</td>\n",
              "      <td>...</td>\n",
              "      <td>62</td>\n",
              "      <td>126</td>\n",
              "      <td>2</td>\n",
              "      <td>0</td>\n",
              "      <td>120</td>\n",
              "      <td>137</td>\n",
              "      <td>121</td>\n",
              "      <td>73</td>\n",
              "      <td>1</td>\n",
              "      <td>1</td>\n",
              "    </tr>\n",
              "    <tr>\n",
              "      <th>1</th>\n",
              "      <td>132</td>\n",
              "      <td>0.006380</td>\n",
              "      <td>0.0</td>\n",
              "      <td>0.006380</td>\n",
              "      <td>0.003190</td>\n",
              "      <td>0.0</td>\n",
              "      <td>0.0</td>\n",
              "      <td>17</td>\n",
              "      <td>2.1</td>\n",
              "      <td>0</td>\n",
              "      <td>...</td>\n",
              "      <td>68</td>\n",
              "      <td>198</td>\n",
              "      <td>6</td>\n",
              "      <td>1</td>\n",
              "      <td>141</td>\n",
              "      <td>136</td>\n",
              "      <td>140</td>\n",
              "      <td>12</td>\n",
              "      <td>0</td>\n",
              "      <td>0</td>\n",
              "    </tr>\n",
              "    <tr>\n",
              "      <th>2</th>\n",
              "      <td>133</td>\n",
              "      <td>0.003322</td>\n",
              "      <td>0.0</td>\n",
              "      <td>0.008306</td>\n",
              "      <td>0.003322</td>\n",
              "      <td>0.0</td>\n",
              "      <td>0.0</td>\n",
              "      <td>16</td>\n",
              "      <td>2.1</td>\n",
              "      <td>0</td>\n",
              "      <td>...</td>\n",
              "      <td>68</td>\n",
              "      <td>198</td>\n",
              "      <td>5</td>\n",
              "      <td>1</td>\n",
              "      <td>141</td>\n",
              "      <td>135</td>\n",
              "      <td>138</td>\n",
              "      <td>13</td>\n",
              "      <td>0</td>\n",
              "      <td>0</td>\n",
              "    </tr>\n",
              "    <tr>\n",
              "      <th>3</th>\n",
              "      <td>134</td>\n",
              "      <td>0.002561</td>\n",
              "      <td>0.0</td>\n",
              "      <td>0.007682</td>\n",
              "      <td>0.002561</td>\n",
              "      <td>0.0</td>\n",
              "      <td>0.0</td>\n",
              "      <td>16</td>\n",
              "      <td>2.4</td>\n",
              "      <td>0</td>\n",
              "      <td>...</td>\n",
              "      <td>53</td>\n",
              "      <td>170</td>\n",
              "      <td>11</td>\n",
              "      <td>0</td>\n",
              "      <td>137</td>\n",
              "      <td>134</td>\n",
              "      <td>137</td>\n",
              "      <td>13</td>\n",
              "      <td>1</td>\n",
              "      <td>0</td>\n",
              "    </tr>\n",
              "    <tr>\n",
              "      <th>4</th>\n",
              "      <td>132</td>\n",
              "      <td>0.006515</td>\n",
              "      <td>0.0</td>\n",
              "      <td>0.008143</td>\n",
              "      <td>0.000000</td>\n",
              "      <td>0.0</td>\n",
              "      <td>0.0</td>\n",
              "      <td>16</td>\n",
              "      <td>2.4</td>\n",
              "      <td>0</td>\n",
              "      <td>...</td>\n",
              "      <td>53</td>\n",
              "      <td>170</td>\n",
              "      <td>9</td>\n",
              "      <td>0</td>\n",
              "      <td>137</td>\n",
              "      <td>136</td>\n",
              "      <td>138</td>\n",
              "      <td>11</td>\n",
              "      <td>1</td>\n",
              "      <td>0</td>\n",
              "    </tr>\n",
              "  </tbody>\n",
              "</table>\n",
              "<p>5 rows × 22 columns</p>\n",
              "</div>"
            ],
            "text/plain": [
              "    LB        AC   FM        UC        DL   DS   DP  ASTV  MSTV  ALTV  ...  \\\n",
              "0  120  0.000000  0.0  0.000000  0.000000  0.0  0.0    73   0.5    43  ...   \n",
              "1  132  0.006380  0.0  0.006380  0.003190  0.0  0.0    17   2.1     0  ...   \n",
              "2  133  0.003322  0.0  0.008306  0.003322  0.0  0.0    16   2.1     0  ...   \n",
              "3  134  0.002561  0.0  0.007682  0.002561  0.0  0.0    16   2.4     0  ...   \n",
              "4  132  0.006515  0.0  0.008143  0.000000  0.0  0.0    16   2.4     0  ...   \n",
              "\n",
              "   Min  Max  Nmax  Nzeros  Mode  Mean  Median  Variance  Tendency  NSP  \n",
              "0   62  126     2       0   120   137     121        73         1    1  \n",
              "1   68  198     6       1   141   136     140        12         0    0  \n",
              "2   68  198     5       1   141   135     138        13         0    0  \n",
              "3   53  170    11       0   137   134     137        13         1    0  \n",
              "4   53  170     9       0   137   136     138        11         1    0  \n",
              "\n",
              "[5 rows x 22 columns]"
            ]
          },
          "execution_count": 32,
          "metadata": {},
          "output_type": "execute_result"
        }
      ],
      "source": [
        "# Carregando os dados novamente\n",
        "df = pd.read_excel('cardio.xlsx')\n",
        "\n",
        "df.head()"
      ]
    },
    {
      "cell_type": "code",
      "execution_count": 33,
      "metadata": {
        "id": "LQUYPMN0bQlk"
      },
      "outputs": [
        {
          "data": {
            "text/plain": [
              "LB          0\n",
              "AC          0\n",
              "FM          0\n",
              "UC          0\n",
              "DL          0\n",
              "DS          0\n",
              "DP          0\n",
              "ASTV        0\n",
              "MSTV        0\n",
              "ALTV        0\n",
              "MLTV        0\n",
              "Width       0\n",
              "Min         0\n",
              "Max         0\n",
              "Nmax        0\n",
              "Nzeros      0\n",
              "Mode        0\n",
              "Mean        0\n",
              "Median      0\n",
              "Variance    0\n",
              "Tendency    0\n",
              "NSP         0\n",
              "dtype: int64"
            ]
          },
          "execution_count": 33,
          "metadata": {},
          "output_type": "execute_result"
        }
      ],
      "source": [
        "# Verificando a presença de valores ausentes\n",
        "missing_values = df.isnull().sum()\n",
        "\n",
        "missing_values"
      ]
    },
    {
      "cell_type": "markdown",
      "metadata": {
        "id": "KTmGalb8ox5h"
      },
      "source": [
        "## Atividade 2: Verifique se a variável está balanceada."
      ]
    },
    {
      "cell_type": "code",
      "execution_count": 34,
      "metadata": {
        "id": "SrJ6EcNN1TnE"
      },
      "outputs": [
        {
          "data": {
            "text/plain": [
              "0    1655\n",
              "1     295\n",
              "2     176\n",
              "Name: NSP, dtype: int64"
            ]
          },
          "execution_count": 34,
          "metadata": {},
          "output_type": "execute_result"
        }
      ],
      "source": [
        "# Verificando o balanceamento da variável 'fraude'\n",
        "class_balance = df['NSP'].value_counts()\n",
        "\n",
        "class_balance"
      ]
    },
    {
      "cell_type": "markdown",
      "metadata": {
        "id": "B8vkJbh1o8F5"
      },
      "source": [
        "## Atividade 3: Use as variáveis que achar relevante e separe as variáveis em $X$ e $y$, a seguir crie um modelo de regressão logística."
      ]
    },
    {
      "cell_type": "code",
      "execution_count": 35,
      "metadata": {},
      "outputs": [],
      "source": [
        "# separando as variáveis dependente e independente\n",
        "X = df.drop('NSP', axis=1)\n",
        "y = df['NSP']"
      ]
    },
    {
      "cell_type": "code",
      "execution_count": 38,
      "metadata": {},
      "outputs": [],
      "source": [
        "# balanceando as classes com undersampling\n",
        "from imblearn.under_sampling import RandomUnderSampler\n",
        "undersample = RandomUnderSampler(sampling_strategy='majority')\n",
        "X, y = undersample.fit_resample(X, y)"
      ]
    },
    {
      "cell_type": "code",
      "execution_count": 39,
      "metadata": {},
      "outputs": [
        {
          "data": {
            "text/plain": [
              "1    295\n",
              "0    176\n",
              "2    176\n",
              "Name: NSP, dtype: int64"
            ]
          },
          "execution_count": 39,
          "metadata": {},
          "output_type": "execute_result"
        }
      ],
      "source": [
        "class_balance = y.value_counts()\n",
        "\n",
        "class_balance"
      ]
    },
    {
      "cell_type": "code",
      "execution_count": 40,
      "metadata": {
        "id": "ah8kCxBhvLhi"
      },
      "outputs": [],
      "source": [
        "# importando o statsmodels para criar o modelo de regressão logística\n",
        "import statsmodels.api as sm\n",
        "from statsmodels.discrete.discrete_model import MNLogit"
      ]
    },
    {
      "cell_type": "code",
      "execution_count": 41,
      "metadata": {},
      "outputs": [],
      "source": [
        "# Assim como na regressão linear, temos que adicionar uma constante à variável X.\n",
        "X = sm.add_constant(X)"
      ]
    },
    {
      "cell_type": "code",
      "execution_count": 42,
      "metadata": {
        "id": "inqE0_kvj94z"
      },
      "outputs": [
        {
          "name": "stdout",
          "output_type": "stream",
          "text": [
            "Warning: Maximum number of iterations has been exceeded.\n",
            "         Current function value: 0.330210\n",
            "         Iterations: 35\n"
          ]
        }
      ],
      "source": [
        "# criando modelo de regressão logística\n",
        "modelo = MNLogit(y, X).fit()"
      ]
    },
    {
      "cell_type": "code",
      "execution_count": 43,
      "metadata": {
        "id": "KCCQCtD8xMAZ"
      },
      "outputs": [
        {
          "data": {
            "text/html": [
              "<div>\n",
              "<style scoped>\n",
              "    .dataframe tbody tr th:only-of-type {\n",
              "        vertical-align: middle;\n",
              "    }\n",
              "\n",
              "    .dataframe tbody tr th {\n",
              "        vertical-align: top;\n",
              "    }\n",
              "\n",
              "    .dataframe thead th {\n",
              "        text-align: right;\n",
              "    }\n",
              "</style>\n",
              "<table border=\"1\" class=\"dataframe\">\n",
              "  <thead>\n",
              "    <tr style=\"text-align: right;\">\n",
              "      <th></th>\n",
              "      <th>0</th>\n",
              "      <th>1</th>\n",
              "      <th>2</th>\n",
              "    </tr>\n",
              "  </thead>\n",
              "  <tbody>\n",
              "    <tr>\n",
              "      <th>0</th>\n",
              "      <td>9.811417e-01</td>\n",
              "      <td>1.885455e-02</td>\n",
              "      <td>3.725493e-06</td>\n",
              "    </tr>\n",
              "    <tr>\n",
              "      <th>1</th>\n",
              "      <td>9.960094e-01</td>\n",
              "      <td>3.990261e-03</td>\n",
              "      <td>3.222588e-07</td>\n",
              "    </tr>\n",
              "    <tr>\n",
              "      <th>2</th>\n",
              "      <td>9.999725e-01</td>\n",
              "      <td>2.746350e-05</td>\n",
              "      <td>1.193099e-08</td>\n",
              "    </tr>\n",
              "    <tr>\n",
              "      <th>3</th>\n",
              "      <td>5.560369e-01</td>\n",
              "      <td>4.429378e-01</td>\n",
              "      <td>1.025273e-03</td>\n",
              "    </tr>\n",
              "    <tr>\n",
              "      <th>4</th>\n",
              "      <td>5.287144e-01</td>\n",
              "      <td>4.712510e-01</td>\n",
              "      <td>3.459700e-05</td>\n",
              "    </tr>\n",
              "    <tr>\n",
              "      <th>...</th>\n",
              "      <td>...</td>\n",
              "      <td>...</td>\n",
              "      <td>...</td>\n",
              "    </tr>\n",
              "    <tr>\n",
              "      <th>642</th>\n",
              "      <td>3.515210e-05</td>\n",
              "      <td>5.250005e-06</td>\n",
              "      <td>9.999596e-01</td>\n",
              "    </tr>\n",
              "    <tr>\n",
              "      <th>643</th>\n",
              "      <td>8.115940e-06</td>\n",
              "      <td>3.819505e-07</td>\n",
              "      <td>9.999915e-01</td>\n",
              "    </tr>\n",
              "    <tr>\n",
              "      <th>644</th>\n",
              "      <td>7.810381e-05</td>\n",
              "      <td>1.133476e-05</td>\n",
              "      <td>9.999106e-01</td>\n",
              "    </tr>\n",
              "    <tr>\n",
              "      <th>645</th>\n",
              "      <td>3.299058e-04</td>\n",
              "      <td>2.344397e-05</td>\n",
              "      <td>9.996467e-01</td>\n",
              "    </tr>\n",
              "    <tr>\n",
              "      <th>646</th>\n",
              "      <td>1.250564e-07</td>\n",
              "      <td>4.129611e-10</td>\n",
              "      <td>9.999999e-01</td>\n",
              "    </tr>\n",
              "  </tbody>\n",
              "</table>\n",
              "<p>647 rows × 3 columns</p>\n",
              "</div>"
            ],
            "text/plain": [
              "                0             1             2\n",
              "0    9.811417e-01  1.885455e-02  3.725493e-06\n",
              "1    9.960094e-01  3.990261e-03  3.222588e-07\n",
              "2    9.999725e-01  2.746350e-05  1.193099e-08\n",
              "3    5.560369e-01  4.429378e-01  1.025273e-03\n",
              "4    5.287144e-01  4.712510e-01  3.459700e-05\n",
              "..            ...           ...           ...\n",
              "642  3.515210e-05  5.250005e-06  9.999596e-01\n",
              "643  8.115940e-06  3.819505e-07  9.999915e-01\n",
              "644  7.810381e-05  1.133476e-05  9.999106e-01\n",
              "645  3.299058e-04  2.344397e-05  9.996467e-01\n",
              "646  1.250564e-07  4.129611e-10  9.999999e-01\n",
              "\n",
              "[647 rows x 3 columns]"
            ]
          },
          "execution_count": 43,
          "metadata": {},
          "output_type": "execute_result"
        }
      ],
      "source": [
        "modelo.predict(X)"
      ]
    },
    {
      "cell_type": "code",
      "execution_count": 44,
      "metadata": {
        "id": "U0LWAEIGN9WB"
      },
      "outputs": [],
      "source": [
        "y_pred = modelo.predict(X).idxmax(axis=1)"
      ]
    },
    {
      "cell_type": "code",
      "execution_count": 45,
      "metadata": {
        "id": "WOqAN-cRk7W3"
      },
      "outputs": [
        {
          "name": "stdout",
          "output_type": "stream",
          "text": [
            "                          MNLogit Regression Results                          \n",
            "==============================================================================\n",
            "Dep. Variable:                    NSP   No. Observations:                  647\n",
            "Model:                        MNLogit   Df Residuals:                      603\n",
            "Method:                           MLE   Df Model:                           42\n",
            "Date:                Sat, 05 Aug 2023   Pseudo R-squ.:                  0.6903\n",
            "Time:                        21:07:20   Log-Likelihood:                -213.65\n",
            "converged:                      False   LL-Null:                       -689.94\n",
            "Covariance Type:            nonrobust   LLR p-value:                2.178e-172\n",
            "==============================================================================\n",
            "     NSP=1       coef    std err          z      P>|z|      [0.025      0.975]\n",
            "------------------------------------------------------------------------------\n",
            "const        -16.7837      3.027     -5.545      0.000     -22.716     -10.851\n",
            "LB            -0.0948      0.054     -1.744      0.081      -0.201       0.012\n",
            "AC         -1026.0427    171.079     -5.997      0.000   -1361.351    -690.735\n",
            "FM            30.3263     21.989      1.379      0.168     -12.772      73.425\n",
            "UC          -281.0097     78.253     -3.591      0.000    -434.383    -127.636\n",
            "DL          -193.3301    167.353     -1.155      0.248    -521.336     134.675\n",
            "DS          4.999e+04   9.27e+10   5.39e-07      1.000   -1.82e+11    1.82e+11\n",
            "DP          1995.4854    723.906      2.757      0.006     576.655    3414.316\n",
            "ASTV           0.0827      0.018      4.568      0.000       0.047       0.118\n",
            "MSTV          -0.8462      0.502     -1.687      0.092      -1.829       0.137\n",
            "ALTV           0.0084      0.012      0.723      0.470      -0.014       0.031\n",
            "MLTV          -0.0635      0.065     -0.978      0.328      -0.191       0.064\n",
            "Width          0.0069   7.64e+04   9.04e-08      1.000    -1.5e+05     1.5e+05\n",
            "Min            0.0406   7.65e+04   5.32e-07      1.000    -1.5e+05     1.5e+05\n",
            "Max            0.0477   7.64e+04   6.25e-07      1.000    -1.5e+05     1.5e+05\n",
            "Nmax           0.1910      0.103      1.855      0.064      -0.011       0.393\n",
            "Nzeros         0.0205      0.299      0.069      0.945      -0.565       0.606\n",
            "Mode          -0.0892      0.067     -1.331      0.183      -0.221       0.042\n",
            "Mean           0.3083      0.114      2.694      0.007       0.084       0.532\n",
            "Median        -0.1102      0.130     -0.848      0.397      -0.365       0.145\n",
            "Variance       0.0835      0.022      3.730      0.000       0.040       0.127\n",
            "Tendency       1.0897      0.516      2.110      0.035       0.078       2.102\n",
            "------------------------------------------------------------------------------\n",
            "     NSP=2       coef    std err          z      P>|z|      [0.025      0.975]\n",
            "------------------------------------------------------------------------------\n",
            "const        -20.8961      4.418     -4.729      0.000     -29.556     -12.236\n",
            "LB             0.1758      0.074      2.369      0.018       0.030       0.321\n",
            "AC         -1246.7922    508.370     -2.453      0.014   -2243.180    -250.404\n",
            "FM            42.6013     22.313      1.909      0.056      -1.131      86.334\n",
            "UC          -277.4179    106.692     -2.600      0.009    -486.531     -68.305\n",
            "DL           -52.8611    163.831     -0.323      0.747    -373.963     268.241\n",
            "DS          5.547e+04   9.27e+10   5.98e-07      1.000   -1.82e+11    1.82e+11\n",
            "DP          2474.4068    762.415      3.245      0.001     980.101    3968.713\n",
            "ASTV           0.1922      0.028      6.768      0.000       0.137       0.248\n",
            "MSTV          -1.6058      0.628     -2.559      0.011      -2.836      -0.376\n",
            "ALTV           0.0678      0.015      4.459      0.000       0.038       0.098\n",
            "MLTV          -0.0486      0.100     -0.486      0.627      -0.244       0.147\n",
            "Width          0.0273   6.47e+04   4.22e-07      1.000   -1.27e+05    1.27e+05\n",
            "Min            0.0524   6.47e+04   8.09e-07      1.000   -1.27e+05    1.27e+05\n",
            "Max            0.0797   6.47e+04   1.23e-06      1.000   -1.27e+05    1.27e+05\n",
            "Nmax          -0.5627      0.195     -2.883      0.004      -0.945      -0.180\n",
            "Nzeros         0.3215      0.470      0.684      0.494      -0.600       1.243\n",
            "Mode          -0.0941      0.064     -1.462      0.144      -0.220       0.032\n",
            "Mean          -0.1668      0.095     -1.764      0.078      -0.352       0.019\n",
            "Median         0.0061      0.115      0.053      0.958      -0.220       0.232\n",
            "Variance       0.1102      0.023      4.779      0.000       0.065       0.155\n",
            "Tendency       1.1636      0.635      1.834      0.067      -0.080       2.407\n",
            "==============================================================================\n"
          ]
        }
      ],
      "source": [
        "print(modelo.summary())"
      ]
    },
    {
      "cell_type": "markdown",
      "metadata": {
        "id": "9VHtr2fppc4h"
      },
      "source": [
        "## Atividade 4: Faça previsões e avalie o modelo."
      ]
    },
    {
      "cell_type": "code",
      "execution_count": 46,
      "metadata": {
        "id": "x3QqabTtPY1O"
      },
      "outputs": [
        {
          "data": {
            "text/plain": [
              "array([[152,  22,   2],\n",
              "       [  8, 269,  18],\n",
              "       [  3,  24, 149]])"
            ]
          },
          "execution_count": 46,
          "metadata": {},
          "output_type": "execute_result"
        }
      ],
      "source": [
        "from sklearn.metrics import confusion_matrix\n",
        "\n",
        "matriz_confusao = confusion_matrix(y, y_pred)\n",
        "matriz_confusao"
      ]
    },
    {
      "cell_type": "code",
      "execution_count": 47,
      "metadata": {
        "id": "n8QwhzkTPiDs"
      },
      "outputs": [
        {
          "data": {
            "image/png": "[encoded data removed]",
            "text/plain": [
              "<Figure size 640x480 with 2 Axes>"
            ]
          },
          "metadata": {},
          "output_type": "display_data"
        }
      ],
      "source": [
        "# criando mapa de calor\n",
        "import seaborn as sns\n",
        "import matplotlib.pyplot as plt\n",
        "\n",
        "sns.heatmap(matriz_confusao, annot=True, fmt='d', cmap='Blues')\n",
        "plt.title('Matriz de Confusão', y=1.1)\n",
        "plt.ylabel('Valores Observados')\n",
        "plt.xlabel('Valores Preditos');"
      ]
    },
    {
      "cell_type": "code",
      "execution_count": 48,
      "metadata": {
        "id": "hv7AEF01Pt0y"
      },
      "outputs": [
        {
          "data": {
            "image/png": "[encoded data removed]",
            "text/plain": [
              "<Figure size 640x480 with 2 Axes>"
            ]
          },
          "metadata": {},
          "output_type": "display_data"
        }
      ],
      "source": [
        "import numpy as np\n",
        "\n",
        "sns.heatmap(matriz_confusao/np.sum(matriz_confusao),\n",
        "            annot=True, fmt='.2%', cmap='Blues')\n",
        "plt.title('Matriz de Confusão', y=1.1)\n",
        "plt.ylabel('Valores Observados')\n",
        "plt.xlabel('Valores Preditos');"
      ]
    },
    {
      "cell_type": "code",
      "execution_count": 49,
      "metadata": {
        "id": "UpCr12avAR5f"
      },
      "outputs": [
        {
          "name": "stdout",
          "output_type": "stream",
          "text": [
            "              precision    recall  f1-score   support\n",
            "\n",
            "           0       0.93      0.86      0.90       176\n",
            "           1       0.85      0.91      0.88       295\n",
            "           2       0.88      0.85      0.86       176\n",
            "\n",
            "    accuracy                           0.88       647\n",
            "   macro avg       0.89      0.87      0.88       647\n",
            "weighted avg       0.88      0.88      0.88       647\n",
            "\n"
          ]
        }
      ],
      "source": [
        "from sklearn.metrics import classification_report\n",
        "\n",
        "print(classification_report(y, y_pred))"
      ]
    },
    {
      "cell_type": "code",
      "execution_count": 50,
      "metadata": {
        "id": "9uen0B9OQr6H"
      },
      "outputs": [
        {
          "data": {
            "image/png": "[encoded data removed]",
            "text/plain": [
              "<Figure size 640x480 with 1 Axes>"
            ]
          },
          "metadata": {},
          "output_type": "display_data"
        }
      ],
      "source": [
        "from sklearn.preprocessing import label_binarize\n",
        "from sklearn.metrics import roc_curve, roc_auc_score, auc\n",
        "\n",
        "y_cat = label_binarize(y, classes=[0, 1, 2])\n",
        "\n",
        "fpr = dict()\n",
        "tpr = dict()\n",
        "roc_auc = dict()\n",
        "n_classes = 3\n",
        "colors = ['blue','black','green','yellow']\n",
        "\n",
        "for i in range(n_classes):\n",
        "    fpr[i], tpr[i], _ = roc_curve(y_cat[:, i], modelo.predict(X).iloc[:,i])\n",
        "    roc_auc[i] = auc(fpr[i], tpr[i])\n",
        "\n",
        "for i, color in zip(range(n_classes), colors):\n",
        "    plt.plot(fpr[i], tpr[i], color=color, lw=2,\n",
        "             label=f'Curva ROC para a classe {i} (area = {round(roc_auc[i], 2)})')\n",
        "\n",
        "plt.plot([0, 1], [0, 1], 'r--')\n",
        "plt.xlabel('Taxa de Falso Positivo')\n",
        "plt.ylabel('Taxa de Verdadeiro Positivo')\n",
        "plt.title('Curva ROC para muitas classes')\n",
        "plt.legend(loc=\"lower right\");"
      ]
    },
    {
      "cell_type": "markdown",
      "metadata": {
        "id": "U2QDyKPU1asW"
      },
      "source": [
        "## Atividade 5: Faça a previsão para um paciente que apresenta as seguintes características:\n",
        "\n",
        "* `LB` = 121\n",
        "* `AC` = 0.004176\n",
        "* `FM` = 0.0\n",
        "* `UC` = 0.007541\n",
        "* `DL` = 0.003176\n",
        "* `DS` = 0.0\n",
        "* `DP` = 0.0\n",
        "* `ASTV` = 20\n",
        "* `mSTV` = 2.3\n",
        "* `ALTV` = 0\n",
        "* `mLTV` = 11.5\n",
        "* `Width` = 129\n",
        "* `Min` = 54\n",
        "* `Max` = 171\n",
        "* `Nmax` = 5\n",
        "* `Nzeros` = 0\n",
        "* `Mode` = 140\n",
        "* `Mean` = 136\n",
        "* `Median` = 123\n",
        "* `Variance` = 14\n",
        "* `Tendency` = 1"
      ]
    },
    {
      "cell_type": "code",
      "execution_count": 51,
      "metadata": {
        "id": "Ir5gqOy72BLQ"
      },
      "outputs": [
        {
          "data": {
            "text/html": [
              "<div>\n",
              "<style scoped>\n",
              "    .dataframe tbody tr th:only-of-type {\n",
              "        vertical-align: middle;\n",
              "    }\n",
              "\n",
              "    .dataframe tbody tr th {\n",
              "        vertical-align: top;\n",
              "    }\n",
              "\n",
              "    .dataframe thead th {\n",
              "        text-align: right;\n",
              "    }\n",
              "</style>\n",
              "<table border=\"1\" class=\"dataframe\">\n",
              "  <thead>\n",
              "    <tr style=\"text-align: right;\">\n",
              "      <th></th>\n",
              "      <th>const</th>\n",
              "      <th>LB</th>\n",
              "      <th>AC</th>\n",
              "      <th>FM</th>\n",
              "      <th>UC</th>\n",
              "      <th>DL</th>\n",
              "      <th>DS</th>\n",
              "      <th>DP</th>\n",
              "      <th>ASTV</th>\n",
              "      <th>mSTV</th>\n",
              "      <th>...</th>\n",
              "      <th>Width</th>\n",
              "      <th>Min</th>\n",
              "      <th>Max</th>\n",
              "      <th>Nmax</th>\n",
              "      <th>Nzeros</th>\n",
              "      <th>Mode</th>\n",
              "      <th>Mean</th>\n",
              "      <th>Median</th>\n",
              "      <th>Variance</th>\n",
              "      <th>Tendency</th>\n",
              "    </tr>\n",
              "  </thead>\n",
              "  <tbody>\n",
              "    <tr>\n",
              "      <th>0</th>\n",
              "      <td>1</td>\n",
              "      <td>121</td>\n",
              "      <td>0.004176</td>\n",
              "      <td>0.0</td>\n",
              "      <td>0.007541</td>\n",
              "      <td>0.003176</td>\n",
              "      <td>0.0</td>\n",
              "      <td>0.0</td>\n",
              "      <td>20</td>\n",
              "      <td>2.3</td>\n",
              "      <td>...</td>\n",
              "      <td>129</td>\n",
              "      <td>54</td>\n",
              "      <td>171</td>\n",
              "      <td>5</td>\n",
              "      <td>0</td>\n",
              "      <td>140</td>\n",
              "      <td>136</td>\n",
              "      <td>123</td>\n",
              "      <td>14</td>\n",
              "      <td>1</td>\n",
              "    </tr>\n",
              "  </tbody>\n",
              "</table>\n",
              "<p>1 rows × 22 columns</p>\n",
              "</div>"
            ],
            "text/plain": [
              "   const   LB        AC   FM        UC        DL   DS   DP  ASTV  mSTV  ...  \\\n",
              "0      1  121  0.004176  0.0  0.007541  0.003176  0.0  0.0    20   2.3  ...   \n",
              "\n",
              "   Width  Min  Max  Nmax  Nzeros  Mode  Mean  Median  Variance  Tendency  \n",
              "0    129   54  171     5       0   140   136     123        14         1  \n",
              "\n",
              "[1 rows x 22 columns]"
            ]
          },
          "execution_count": 51,
          "metadata": {},
          "output_type": "execute_result"
        }
      ],
      "source": [
        "new_patient = pd.DataFrame({\n",
        "    'const': [1],\n",
        "    'LB': [121],\n",
        "    'AC': [0.004176],\n",
        "    'FM': [0.0],\n",
        "    'UC': [0.007541],\n",
        "    'DL': [0.003176],\n",
        "    'DS': [0.0],\n",
        "    'DP': [0.0],\n",
        "    'ASTV': [20],\n",
        "    'mSTV': [2.3],\n",
        "    'ALTV': [0],\n",
        "    'mLTV': [11.5],\n",
        "    'Width': [129],\n",
        "    'Min': [54],\n",
        "    'Max': [171],\n",
        "    'Nmax': [5],\n",
        "    'Nzeros': [0],\n",
        "    'Mode': [140],\n",
        "    'Mean': [136],\n",
        "    'Median': [123],\n",
        "    'Variance': [14],\n",
        "    'Tendency': [1]\n",
        "})\n",
        "\n",
        "new_patient"
      ]
    },
    {
      "cell_type": "code",
      "execution_count": 54,
      "metadata": {
        "id": "sJByYbo_2Hle"
      },
      "outputs": [
        {
          "name": "stdout",
          "output_type": "stream",
          "text": [
            "A classe prevista para o paciente é:  0\n"
          ]
        }
      ],
      "source": [
        "prediction = modelo.predict(new_patient)\n",
        "\n",
        "predicted_class = prediction.idxmax(axis=1)\n",
        "\n",
        "print(\"A classe prevista para o paciente é: \", predicted_class[0])"
      ]
    }
  ],
  "metadata": {
    "colab": {
      "provenance": []
    },
    "kernelspec": {
      "display_name": "Python 3",
      "name": "python3"
    },
    "language_info": {
      "codemirror_mode": {
        "name": "ipython",
        "version": 3
      },
      "file_extension": ".py",
      "mimetype": "text/x-python",
      "name": "python",
      "nbconvert_exporter": "python",
      "pygments_lexer": "ipython3",
      "version": "3.9.16"
    }
  },
  "nbformat": 4,
  "nbformat_minor": 0
}
