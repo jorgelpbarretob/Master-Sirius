{
  "cells": [
    {
      "cell_type": "markdown",
      "metadata": {
        "cell_id": "00008-f574aa0d-ee2b-4876-822e-057ae103de00",
        "deepnote_cell_height": 472.78125,
        "deepnote_cell_type": "markdown",
        "id": "QHjt9VB3QmvE",
        "tags": []
      },
      "source": [
        "## Um problema maior, do tamanho de um Návio!\n",
        "\n",
        "Que tal pegarmos uma base de dados da vida real e trabalhar um pouco mais com algoritmos de classificação?\n",
        "\n",
        "Dessa vez, vamos usar um base classicamente usada para aprender aprendizado de maquina: A `Titanic`. Essa base descreve, para cada passageiro no histórico návio, se ele sobreviveu ou não aquela tragédia. Dentro das nossas `features` temos informações numéricas como idade e número de parentes a bordo, catégoricas como sexo e portão de embarque e até colunas que descrevem em qual cabine aquele passageiro estava dormindo!\n",
        "\n",
        "### Questão 1\n",
        "\n",
        "Nossa missão aqui é predizer quando um determinado passageiro sobreviveu ou não, sendo `1` sobreviveu e `0` não sobreviveu. Mas antes vamos tomar um tempo para estudar a base! Vamos usa-la bastante nesse exercício então precisamos nos familiarizar.\n",
        "\n",
        "Carregue a base `dataset/titanic_test.csv` e `dataset/titanic_train.csv`. Repare que como nossos dados estão separados em arquivos não iremos precisar usar o train_test_split!\n",
        "\n",
        "Através do arquivo de treino (`dataset/titanic_train.csv`) Visualize graficamente cada coluna, suas distribuições, sua cardinalidade, etc...\n",
        "\n",
        "Talvez você irá precisar de um catálogo explicando o que cada coluna que pode ser [encontrado aqui](https://www.kaggle.com/c/titanic/data)."
      ]
    },
    {
      "cell_type": "code",
      "execution_count": 1,
      "metadata": {},
      "outputs": [],
      "source": [
        "import warnings\n",
        "warnings.filterwarnings('ignore')"
      ]
    },
    {
      "cell_type": "code",
      "execution_count": 2,
      "metadata": {
        "cell_id": "00001-5923ce1f-5d34-4ce9-98c1-ebdc3ee7cba9",
        "deepnote_cell_height": 166,
        "deepnote_cell_type": "code",
        "deepnote_to_be_reexecuted": false,
        "execution_millis": 1,
        "execution_start": 1660611154722,
        "id": "OB91ZgDWQmvK",
        "source_hash": "cd1615fd",
        "tags": []
      },
      "outputs": [],
      "source": [
        "import numpy as np\n",
        "import pandas as pd\n",
        "import matplotlib.pyplot as plt\n",
        "import seaborn as sns"
      ]
    },
    {
      "cell_type": "code",
      "execution_count": 3,
      "metadata": {
        "cell_id": "e20c77be71174b82803c8507a244100d",
        "deepnote_cell_height": 120,
        "deepnote_cell_type": "code",
        "id": "XavmQWabQmvM",
        "tags": []
      },
      "outputs": [],
      "source": [
        "#Questão 1\n",
        "#Escreva aqui o comando para importar os dados do arquivo titanic_train.csv para o seu dataframe usando pandas\n",
        "#lembra como ler(read em inglês) o arquivo?\n"
      ]
    },
    {
      "cell_type": "code",
      "execution_count": 4,
      "metadata": {
        "cell_id": "ab600bdaaec04cb292d9a24542464e40",
        "deepnote_cell_height": 94,
        "deepnote_cell_type": "code",
        "deepnote_to_be_reexecuted": false,
        "execution_millis": 9,
        "execution_start": 1660611158850,
        "id": "p-WJolbEQmvM",
        "source_hash": "f63fd299",
        "tags": []
      },
      "outputs": [],
      "source": [
        "# Carregar o dataset de treino\n",
        "train_data = pd.read_csv('titanic_train.csv')"
      ]
    },
    {
      "cell_type": "code",
      "execution_count": 5,
      "metadata": {
        "cell_id": "00002-e11e2635-8e4f-41b9-8d02-5e295359db62",
        "deepnote_cell_height": 117,
        "deepnote_cell_type": "code",
        "deepnote_to_be_reexecuted": false,
        "execution_millis": 1,
        "execution_start": 1660611206069,
        "id": "0DxuqyklQmvN",
        "source_hash": "b9583d9b",
        "tags": []
      },
      "outputs": [],
      "source": [
        "# Questão 2\n",
        "# Agora de uma olhada nos dados para se familizarizar com as colunas númericas. Dica: descreva os dados? (describe)\n"
      ]
    },
    {
      "cell_type": "code",
      "execution_count": 6,
      "metadata": {
        "cell_id": "3f5f0993d21e4e11813bf17dcabc4e01",
        "deepnote_cell_height": 531,
        "deepnote_cell_type": "code",
        "deepnote_to_be_reexecuted": false,
        "execution_millis": 44,
        "execution_start": 1660611221870,
        "id": "ofoj59TGQmvN",
        "outputId": "2babfd4f-ff76-4589-981a-eebe01341fa6",
        "source_hash": "422b964a",
        "tags": []
      },
      "outputs": [
        {
          "data": {
            "text/html": [
              "<div>\n",
              "<style scoped>\n",
              "    .dataframe tbody tr th:only-of-type {\n",
              "        vertical-align: middle;\n",
              "    }\n",
              "\n",
              "    .dataframe tbody tr th {\n",
              "        vertical-align: top;\n",
              "    }\n",
              "\n",
              "    .dataframe thead th {\n",
              "        text-align: right;\n",
              "    }\n",
              "</style>\n",
              "<table border=\"1\" class=\"dataframe\">\n",
              "  <thead>\n",
              "    <tr style=\"text-align: right;\">\n",
              "      <th></th>\n",
              "      <th>PassengerId</th>\n",
              "      <th>Survived</th>\n",
              "      <th>Pclass</th>\n",
              "      <th>Age</th>\n",
              "      <th>SibSp</th>\n",
              "      <th>Parch</th>\n",
              "      <th>Fare</th>\n",
              "    </tr>\n",
              "  </thead>\n",
              "  <tbody>\n",
              "    <tr>\n",
              "      <th>count</th>\n",
              "      <td>891.000000</td>\n",
              "      <td>891.000000</td>\n",
              "      <td>891.000000</td>\n",
              "      <td>714.000000</td>\n",
              "      <td>891.000000</td>\n",
              "      <td>891.000000</td>\n",
              "      <td>891.000000</td>\n",
              "    </tr>\n",
              "    <tr>\n",
              "      <th>mean</th>\n",
              "      <td>446.000000</td>\n",
              "      <td>0.383838</td>\n",
              "      <td>2.308642</td>\n",
              "      <td>29.699118</td>\n",
              "      <td>0.523008</td>\n",
              "      <td>0.381594</td>\n",
              "      <td>32.204208</td>\n",
              "    </tr>\n",
              "    <tr>\n",
              "      <th>std</th>\n",
              "      <td>257.353842</td>\n",
              "      <td>0.486592</td>\n",
              "      <td>0.836071</td>\n",
              "      <td>14.526497</td>\n",
              "      <td>1.102743</td>\n",
              "      <td>0.806057</td>\n",
              "      <td>49.693429</td>\n",
              "    </tr>\n",
              "    <tr>\n",
              "      <th>min</th>\n",
              "      <td>1.000000</td>\n",
              "      <td>0.000000</td>\n",
              "      <td>1.000000</td>\n",
              "      <td>0.420000</td>\n",
              "      <td>0.000000</td>\n",
              "      <td>0.000000</td>\n",
              "      <td>0.000000</td>\n",
              "    </tr>\n",
              "    <tr>\n",
              "      <th>25%</th>\n",
              "      <td>223.500000</td>\n",
              "      <td>0.000000</td>\n",
              "      <td>2.000000</td>\n",
              "      <td>20.125000</td>\n",
              "      <td>0.000000</td>\n",
              "      <td>0.000000</td>\n",
              "      <td>7.910400</td>\n",
              "    </tr>\n",
              "    <tr>\n",
              "      <th>50%</th>\n",
              "      <td>446.000000</td>\n",
              "      <td>0.000000</td>\n",
              "      <td>3.000000</td>\n",
              "      <td>28.000000</td>\n",
              "      <td>0.000000</td>\n",
              "      <td>0.000000</td>\n",
              "      <td>14.454200</td>\n",
              "    </tr>\n",
              "    <tr>\n",
              "      <th>75%</th>\n",
              "      <td>668.500000</td>\n",
              "      <td>1.000000</td>\n",
              "      <td>3.000000</td>\n",
              "      <td>38.000000</td>\n",
              "      <td>1.000000</td>\n",
              "      <td>0.000000</td>\n",
              "      <td>31.000000</td>\n",
              "    </tr>\n",
              "    <tr>\n",
              "      <th>max</th>\n",
              "      <td>891.000000</td>\n",
              "      <td>1.000000</td>\n",
              "      <td>3.000000</td>\n",
              "      <td>80.000000</td>\n",
              "      <td>8.000000</td>\n",
              "      <td>6.000000</td>\n",
              "      <td>512.329200</td>\n",
              "    </tr>\n",
              "  </tbody>\n",
              "</table>\n",
              "</div>"
            ],
            "text/plain": [
              "       PassengerId    Survived      Pclass         Age       SibSp  \\\n",
              "count   891.000000  891.000000  891.000000  714.000000  891.000000   \n",
              "mean    446.000000    0.383838    2.308642   29.699118    0.523008   \n",
              "std     257.353842    0.486592    0.836071   14.526497    1.102743   \n",
              "min       1.000000    0.000000    1.000000    0.420000    0.000000   \n",
              "25%     223.500000    0.000000    2.000000   20.125000    0.000000   \n",
              "50%     446.000000    0.000000    3.000000   28.000000    0.000000   \n",
              "75%     668.500000    1.000000    3.000000   38.000000    1.000000   \n",
              "max     891.000000    1.000000    3.000000   80.000000    8.000000   \n",
              "\n",
              "            Parch        Fare  \n",
              "count  891.000000  891.000000  \n",
              "mean     0.381594   32.204208  \n",
              "std      0.806057   49.693429  \n",
              "min      0.000000    0.000000  \n",
              "25%      0.000000    7.910400  \n",
              "50%      0.000000   14.454200  \n",
              "75%      0.000000   31.000000  \n",
              "max      6.000000  512.329200  "
            ]
          },
          "execution_count": 6,
          "metadata": {},
          "output_type": "execute_result"
        }
      ],
      "source": [
        "# Descrever estatísticas das colunas numéricas\n",
        "train_data.describe()"
      ]
    },
    {
      "cell_type": "code",
      "execution_count": 7,
      "metadata": {
        "cell_id": "00003-a454844b-a9ec-49e0-bcca-6c4c93cb8479",
        "deepnote_cell_height": 112,
        "deepnote_cell_type": "code",
        "deepnote_to_be_reexecuted": false,
        "execution_millis": 2,
        "execution_start": 1660611292617,
        "id": "ZJFbyJfMQmvO",
        "source_hash": "f4f9f7ac",
        "tags": []
      },
      "outputs": [],
      "source": [
        "## Questão 3\n",
        "#sera que temos dados nulos? se sim, quantos? (isnull com um sum)\n"
      ]
    },
    {
      "cell_type": "code",
      "execution_count": 7,
      "metadata": {
        "allow_embed": false,
        "cell_id": "15566944788947919ecd312d2c3bec59",
        "deepnote_cell_height": 79,
        "deepnote_cell_type": "code",
        "deepnote_to_be_reexecuted": false,
        "id": "JKAby2UtQmvP",
        "source_hash": "874b7df8",
        "tags": []
      },
      "outputs": [
        {
          "name": "stdout",
          "output_type": "stream",
          "text": [
            "PassengerId      0\n",
            "Survived         0\n",
            "Pclass           0\n",
            "Name             0\n",
            "Sex              0\n",
            "Age            177\n",
            "SibSp            0\n",
            "Parch            0\n",
            "Ticket           0\n",
            "Fare             0\n",
            "Cabin          687\n",
            "Embarked         2\n",
            "dtype: int64\n"
          ]
        }
      ],
      "source": [
        "# Contar o número de valores nulos em cada coluna\n",
        "null_counts = train_data.isnull().sum()\n",
        "print(null_counts)"
      ]
    },
    {
      "cell_type": "code",
      "execution_count": 9,
      "metadata": {
        "cell_id": "00004-0ffcb16c-8ff7-4753-944a-4737d230549a",
        "deepnote_cell_height": 135,
        "deepnote_cell_type": "code",
        "deepnote_output_heights": [
          21.1875,
          373
        ],
        "deepnote_to_be_reexecuted": false,
        "execution_millis": 1,
        "execution_start": 1660611471895,
        "id": "c5fvFh_5QmvQ",
        "source_hash": "be2a2917",
        "tags": []
      },
      "outputs": [],
      "source": [
        "#Questão 4\n",
        "#plot um gráfico contando (count) a quantidade de pessoas que sobreviveram. Essa informação está na coluna `Survived`\n",
        "#dica1 plt.figure(figsize=(8,6))\n"
      ]
    },
    {
      "cell_type": "code",
      "execution_count": 8,
      "metadata": {
        "allow_embed": false,
        "cell_id": "3b75d96c838c49e58c81f4332f6e057d",
        "deepnote_cell_height": 553.1875,
        "deepnote_cell_type": "code",
        "deepnote_output_heights": [
          21.1875,
          373
        ],
        "deepnote_to_be_reexecuted": false,
        "execution_millis": 218,
        "execution_start": 1660611487674,
        "id": "dAhNdfU-QmvR",
        "outputId": "2fb4bc69-952c-4aeb-9ad1-bce74ffbcf3e",
        "source_hash": "f888d1bd",
        "tags": []
      },
      "outputs": [
        {
          "data": {
            "image/png": "[encoded data removed]",
            "text/plain": [
              "<Figure size 800x600 with 1 Axes>"
            ]
          },
          "metadata": {},
          "output_type": "display_data"
        }
      ],
      "source": [
        "# Ajustar o tamanho da figura\n",
        "plt.figure(figsize=(8,6))\n",
        "\n",
        "# Plotar gráfico de contagem para a coluna 'Survived'\n",
        "sns.countplot(x='Survived', data=train_data)\n",
        "\n",
        "# Definir título e mostrar o gráfico\n",
        "plt.title('Distribuição de Sobrevivência')\n",
        "plt.show()"
      ]
    },
    {
      "cell_type": "code",
      "execution_count": 10,
      "metadata": {},
      "outputs": [],
      "source": [
        "#Questão 5\n",
        "#plot um gráfico contando (count) a quantidade de pessoas por gênero. Essa informação está na coluna `Sex`\n",
        "#dica1 plt.figure(figsize=(8,6))"
      ]
    },
    {
      "cell_type": "code",
      "execution_count": 9,
      "metadata": {
        "cell_id": "00005-994c7ee6-7475-4f9a-ab5b-0b1afa240c8b",
        "deepnote_cell_height": 487.1875,
        "deepnote_cell_type": "code",
        "deepnote_output_heights": [
          21.1875,
          266
        ],
        "deepnote_to_be_reexecuted": false,
        "execution_millis": 209,
        "execution_start": 1660611528149,
        "id": "14XP7rFJQmvR",
        "outputId": "0646f16d-35eb-4d2f-c680-d87672d6bb91",
        "source_hash": "ef09f368",
        "tags": []
      },
      "outputs": [
        {
          "data": {
            "image/png": "[encoded data removed]",
            "text/plain": [
              "<Figure size 800x600 with 1 Axes>"
            ]
          },
          "metadata": {},
          "output_type": "display_data"
        }
      ],
      "source": [
        "# Ajustar o tamanho da figura\n",
        "plt.figure(figsize=(8,6))\n",
        "\n",
        "# Plotar gráfico de contagem para a coluna 'Sex'\n",
        "sns.countplot(x='Sex', data=train_data)\n",
        "\n",
        "# Definir título e mostrar o gráfico\n",
        "plt.title('Distribuição de Passageiros por Gênero')\n",
        "plt.show()"
      ]
    },
    {
      "cell_type": "code",
      "execution_count": 16,
      "metadata": {
        "cell_id": "00006-9f32ec2a-0b88-439a-af6b-044ca2293be3",
        "deepnote_cell_height": 153,
        "deepnote_cell_type": "code",
        "deepnote_output_heights": [
          21.1875,
          373
        ],
        "deepnote_to_be_reexecuted": false,
        "execution_millis": 0,
        "execution_start": 1660611657642,
        "id": "vgGOXp2EQmvS",
        "source_hash": "9b283d9a",
        "tags": []
      },
      "outputs": [],
      "source": [
        "#Questão 6\n",
        "#plot um gráfico contando (count) a quantidade de pessoas que sobreviveram por sexo. Essas informações estão nas colunas `Survived` e `Sex`\n",
        "#dica1 plt.figure(figsize=(8,6))\n",
        "#dica 2 x='Survived', hue='Sex'\n"
      ]
    },
    {
      "cell_type": "code",
      "execution_count": 11,
      "metadata": {
        "allow_embed": false,
        "cell_id": "ec36063ae3d54dec9c82c601cbf2668c",
        "deepnote_cell_height": 553.1875,
        "deepnote_cell_type": "code",
        "deepnote_output_heights": [
          21.1875,
          373
        ],
        "deepnote_to_be_reexecuted": false,
        "execution_millis": 262,
        "execution_start": 1660611668454,
        "id": "Hhsf0OJ1QmvT",
        "outputId": "230c7928-5fd1-4eec-f878-4d673e491949",
        "source_hash": "8413cbdd",
        "tags": []
      },
      "outputs": [
        {
          "data": {
            "image/png": "[encoded data removed]",
            "text/plain": [
              "<Figure size 800x600 with 1 Axes>"
            ]
          },
          "metadata": {},
          "output_type": "display_data"
        }
      ],
      "source": [
        "# Ajustar o tamanho da figura\n",
        "plt.figure(figsize=(8,6))\n",
        "\n",
        "# Plotar gráfico de contagem para a coluna 'Survived' diferenciado por 'Sex'\n",
        "sns.countplot(x='Survived', hue='Sex', data=train_data)\n",
        "\n",
        "# Definir título e mostrar o gráfico\n",
        "plt.title('Distribuição de Sobrevivência por Gênero')\n",
        "plt.legend(title='Sexo')\n",
        "plt.show()"
      ]
    },
    {
      "cell_type": "code",
      "execution_count": 18,
      "metadata": {
        "cell_id": "00007-204fa783-7889-40f2-b160-8b8815d11f7b",
        "deepnote_cell_height": 117,
        "deepnote_cell_type": "code",
        "deepnote_output_heights": [
          21.1875,
          373
        ],
        "deepnote_to_be_reexecuted": false,
        "execution_millis": 0,
        "execution_start": 1660611772846,
        "id": "pFe54KbAQmvT",
        "source_hash": "43d01109",
        "tags": []
      },
      "outputs": [],
      "source": [
        "#Questão 7\n",
        "#agora veja como são os sobreviventes de acordo com as suas classes. Essa informação está na coluna `Pclass`\n",
        "#dica1 plt.figure(figsize=(8,6))"
      ]
    },
    {
      "cell_type": "code",
      "execution_count": 19,
      "metadata": {
        "allow_embed": false,
        "cell_id": "dcd0b5960f84442f947d3890abcb0463",
        "deepnote_cell_height": 553.1875,
        "deepnote_cell_type": "code",
        "deepnote_output_heights": [
          21.1875,
          373
        ],
        "deepnote_to_be_reexecuted": false,
        "execution_millis": 218,
        "execution_start": 1660611774612,
        "id": "yR83QFm9QmvT",
        "outputId": "a47e5058-9ecf-4e64-f361-6a70b9e7ab65",
        "source_hash": "4679e4d9",
        "tags": []
      },
      "outputs": [
        {
          "data": {
            "image/png": "[encoded data removed]",
            "text/plain": [
              "<Figure size 800x600 with 1 Axes>"
            ]
          },
          "metadata": {},
          "output_type": "display_data"
        }
      ],
      "source": [
        "#gabarito Questão 7\n",
        "plt.figure(figsize=(8,6))\n",
        "sns.countplot(x='Survived', hue='Pclass', data= train_df);"
      ]
    },
    {
      "cell_type": "code",
      "execution_count": 20,
      "metadata": {
        "cell_id": "00008-2803dae2-2caa-4439-afab-03208f7fe2e9",
        "deepnote_cell_height": 135,
        "deepnote_cell_type": "code",
        "deepnote_output_heights": [
          21.1875,
          373
        ],
        "deepnote_to_be_reexecuted": false,
        "execution_millis": 1,
        "execution_start": 1660611845122,
        "id": "1-cDU0UtQmvU",
        "source_hash": "ddb04df3",
        "tags": []
      },
      "outputs": [],
      "source": [
        "#Questão 8\n",
        "#Que tal agora fazemos um boxplot para juntarmos em um mesmo gráfico quem sobreviveu, seu gênero e sua idade?\n",
        "#dica1 plt.figure(figsize=(8,6))\n",
        "#dica 2 x='Survived', y= 'Age', hue='Sex'"
      ]
    },
    {
      "cell_type": "code",
      "execution_count": 21,
      "metadata": {
        "allow_embed": false,
        "cell_id": "9f5746b670504090837b4017a1b2a8c6",
        "deepnote_cell_height": 553.1875,
        "deepnote_cell_type": "code",
        "deepnote_output_heights": [
          21.1875,
          373
        ],
        "deepnote_to_be_reexecuted": false,
        "execution_millis": 266,
        "execution_start": 1660611854320,
        "id": "YJOTlM0EQmvU",
        "outputId": "53a9acd7-05eb-4432-c851-86b475582eb7",
        "source_hash": "8e5d791f",
        "tags": []
      },
      "outputs": [
        {
          "data": {
            "image/png": "[encoded data removed]",
            "text/plain": [
              "<Figure size 800x600 with 1 Axes>"
            ]
          },
          "metadata": {},
          "output_type": "display_data"
        }
      ],
      "source": [
        "#gabarito questão 8\n",
        "plt.figure(figsize=(8,6))\n",
        "sns.boxplot(x='Survived', y= 'Age', hue='Sex', data= train_df);"
      ]
    },
    {
      "cell_type": "code",
      "execution_count": 22,
      "metadata": {
        "cell_id": "00009-a2ce1240-2070-4567-bbb2-900a510dcd18",
        "deepnote_cell_height": 112,
        "deepnote_cell_type": "code",
        "deepnote_output_heights": [
          21.1875,
          373
        ],
        "deepnote_to_be_reexecuted": false,
        "execution_millis": 1,
        "execution_start": 1660611921338,
        "id": "i8jMaEyEQmvU",
        "source_hash": "d7178b61",
        "tags": []
      },
      "outputs": [],
      "source": [
        "#Questão 9\n",
        "#Como seria um boxplot da classe `Pclass` pela tarifa `Fare`?\n",
        "#dica1 plt.figure(figsize=(8,6))"
      ]
    },
    {
      "cell_type": "code",
      "execution_count": 23,
      "metadata": {
        "allow_embed": false,
        "cell_id": "0033ce3f2e1942d88d9b7e0aca5d996b",
        "deepnote_cell_height": 553.1875,
        "deepnote_cell_type": "code",
        "deepnote_output_heights": [
          21.1875,
          373
        ],
        "deepnote_to_be_reexecuted": false,
        "execution_millis": 206,
        "execution_start": 1660611940427,
        "id": "VK_6teUmQmvV",
        "outputId": "bd5c75c8-800b-4f43-b21e-ce2382dc946a",
        "source_hash": "f1a83186",
        "tags": []
      },
      "outputs": [
        {
          "data": {
            "image/png": "[encoded data removed]",
            "text/plain": [
              "<Figure size 800x600 with 1 Axes>"
            ]
          },
          "metadata": {},
          "output_type": "display_data"
        }
      ],
      "source": [
        "#gabarito questão 9\n",
        "plt.figure(figsize=(8,6))\n",
        "sns.boxplot(x='Pclass', y= 'Fare', data= train_df);"
      ]
    },
    {
      "cell_type": "markdown",
      "metadata": {
        "cell_id": "00010-06952b29-b7e8-410c-ab33-51c05c5f528f",
        "deepnote_cell_height": 436.375,
        "deepnote_cell_type": "markdown",
        "id": "4XT-Xjl7QmvV",
        "tags": []
      },
      "source": [
        "## Usando Regressão Logística em problemas reais\n",
        "\n",
        "A regressão logística é um algoritmo de classificação binária, porém ele usa os mesmos princípios da regressão linear para resolver seus problemas.\n",
        "\n",
        "Logo, nossa entrada `X` precisa ser uma sequência de colunas numéricas e `y` uma coluna única binária.\n",
        "\n",
        "Olhando para a base do Titanic, é notavel que nosso `y` esta num formato adequado, porém, muitas colunas promissoras para nosso modelo não estão, como `gender`, `Pclass` e `Embarked`.\n",
        "\n",
        "Para torna-las númericas, precisamos **transforma-las em mais colunas e torna-las boolenas**. Isso porque não sabemos se elas tem alguma correlação, logo seria errado colocar por exemplo `Male = 1` e `Female = 0`. Para esse processo usamos um método de pré-processamento chamada **one-hot enconding**. Ainda vamos aprofundar nesse conceito na próxima aula. Por enquanto será suficiente apenas executar os comandos abaixo.\n",
        "\n",
        "### OneHotEnconding\n",
        "\n",
        "Rode o comando do scikit learn de OneHotEnconding nas colunas `gender`, `Pclass` e `Embarked`. Se quiser entender melhor o que está acontecendo, você acha a [documentação oficial](https://scikit-learn.org/stable/modules/generated/sklearn.preprocessing.OneHotEncoder.html) mas sinta-se livre para encontrar suas próprias fontes."
      ]
    },
    {
      "cell_type": "code",
      "execution_count": 28,
      "metadata": {
        "cell_id": "00011-ccc397bc-1512-4e6a-884b-33c1daa2ff4f",
        "deepnote_cell_height": 867.890625,
        "deepnote_cell_type": "code",
        "deepnote_to_be_reexecuted": false,
        "execution_millis": 238,
        "execution_start": 1660612053384,
        "id": "O4FWtmcyQmvW",
        "outputId": "bd44a66f-3283-4a62-f5f9-bab1846fa5ab",
        "source_hash": "624c923d",
        "tags": []
      },
      "outputs": [
        {
          "data": {
            "text/html": [
              "<div>\n",
              "<style scoped>\n",
              "    .dataframe tbody tr th:only-of-type {\n",
              "        vertical-align: middle;\n",
              "    }\n",
              "\n",
              "    .dataframe tbody tr th {\n",
              "        vertical-align: top;\n",
              "    }\n",
              "\n",
              "    .dataframe thead th {\n",
              "        text-align: right;\n",
              "    }\n",
              "</style>\n",
              "<table border=\"1\" class=\"dataframe\">\n",
              "  <thead>\n",
              "    <tr style=\"text-align: right;\">\n",
              "      <th></th>\n",
              "      <th>PassengerId</th>\n",
              "      <th>Survived</th>\n",
              "      <th>Name</th>\n",
              "      <th>Age</th>\n",
              "      <th>SibSp</th>\n",
              "      <th>Parch</th>\n",
              "      <th>Ticket</th>\n",
              "      <th>Fare</th>\n",
              "      <th>Cabin</th>\n",
              "      <th>Sex_female</th>\n",
              "      <th>Sex_male</th>\n",
              "      <th>Pclass_1</th>\n",
              "      <th>Pclass_2</th>\n",
              "      <th>Pclass_3</th>\n",
              "      <th>Embarked_C</th>\n",
              "      <th>Embarked_Q</th>\n",
              "      <th>Embarked_S</th>\n",
              "      <th>Embarked_nan</th>\n",
              "    </tr>\n",
              "  </thead>\n",
              "  <tbody>\n",
              "    <tr>\n",
              "      <th>0</th>\n",
              "      <td>1</td>\n",
              "      <td>0</td>\n",
              "      <td>Braund, Mr. Owen Harris</td>\n",
              "      <td>22.0</td>\n",
              "      <td>1</td>\n",
              "      <td>0</td>\n",
              "      <td>A/5 21171</td>\n",
              "      <td>7.2500</td>\n",
              "      <td>NaN</td>\n",
              "      <td>0.0</td>\n",
              "      <td>1.0</td>\n",
              "      <td>0.0</td>\n",
              "      <td>0.0</td>\n",
              "      <td>1.0</td>\n",
              "      <td>0.0</td>\n",
              "      <td>0.0</td>\n",
              "      <td>1.0</td>\n",
              "      <td>0.0</td>\n",
              "    </tr>\n",
              "    <tr>\n",
              "      <th>1</th>\n",
              "      <td>2</td>\n",
              "      <td>1</td>\n",
              "      <td>Cumings, Mrs. John Bradley (Florence Briggs Th...</td>\n",
              "      <td>38.0</td>\n",
              "      <td>1</td>\n",
              "      <td>0</td>\n",
              "      <td>PC 17599</td>\n",
              "      <td>71.2833</td>\n",
              "      <td>C85</td>\n",
              "      <td>1.0</td>\n",
              "      <td>0.0</td>\n",
              "      <td>1.0</td>\n",
              "      <td>0.0</td>\n",
              "      <td>0.0</td>\n",
              "      <td>1.0</td>\n",
              "      <td>0.0</td>\n",
              "      <td>0.0</td>\n",
              "      <td>0.0</td>\n",
              "    </tr>\n",
              "    <tr>\n",
              "      <th>2</th>\n",
              "      <td>3</td>\n",
              "      <td>1</td>\n",
              "      <td>Heikkinen, Miss. Laina</td>\n",
              "      <td>26.0</td>\n",
              "      <td>0</td>\n",
              "      <td>0</td>\n",
              "      <td>STON/O2. 3101282</td>\n",
              "      <td>7.9250</td>\n",
              "      <td>NaN</td>\n",
              "      <td>1.0</td>\n",
              "      <td>0.0</td>\n",
              "      <td>0.0</td>\n",
              "      <td>0.0</td>\n",
              "      <td>1.0</td>\n",
              "      <td>0.0</td>\n",
              "      <td>0.0</td>\n",
              "      <td>1.0</td>\n",
              "      <td>0.0</td>\n",
              "    </tr>\n",
              "    <tr>\n",
              "      <th>3</th>\n",
              "      <td>4</td>\n",
              "      <td>1</td>\n",
              "      <td>Futrelle, Mrs. Jacques Heath (Lily May Peel)</td>\n",
              "      <td>35.0</td>\n",
              "      <td>1</td>\n",
              "      <td>0</td>\n",
              "      <td>113803</td>\n",
              "      <td>53.1000</td>\n",
              "      <td>C123</td>\n",
              "      <td>1.0</td>\n",
              "      <td>0.0</td>\n",
              "      <td>1.0</td>\n",
              "      <td>0.0</td>\n",
              "      <td>0.0</td>\n",
              "      <td>0.0</td>\n",
              "      <td>0.0</td>\n",
              "      <td>1.0</td>\n",
              "      <td>0.0</td>\n",
              "    </tr>\n",
              "    <tr>\n",
              "      <th>4</th>\n",
              "      <td>5</td>\n",
              "      <td>0</td>\n",
              "      <td>Allen, Mr. William Henry</td>\n",
              "      <td>35.0</td>\n",
              "      <td>0</td>\n",
              "      <td>0</td>\n",
              "      <td>373450</td>\n",
              "      <td>8.0500</td>\n",
              "      <td>NaN</td>\n",
              "      <td>0.0</td>\n",
              "      <td>1.0</td>\n",
              "      <td>0.0</td>\n",
              "      <td>0.0</td>\n",
              "      <td>1.0</td>\n",
              "      <td>0.0</td>\n",
              "      <td>0.0</td>\n",
              "      <td>1.0</td>\n",
              "      <td>0.0</td>\n",
              "    </tr>\n",
              "    <tr>\n",
              "      <th>...</th>\n",
              "      <td>...</td>\n",
              "      <td>...</td>\n",
              "      <td>...</td>\n",
              "      <td>...</td>\n",
              "      <td>...</td>\n",
              "      <td>...</td>\n",
              "      <td>...</td>\n",
              "      <td>...</td>\n",
              "      <td>...</td>\n",
              "      <td>...</td>\n",
              "      <td>...</td>\n",
              "      <td>...</td>\n",
              "      <td>...</td>\n",
              "      <td>...</td>\n",
              "      <td>...</td>\n",
              "      <td>...</td>\n",
              "      <td>...</td>\n",
              "      <td>...</td>\n",
              "    </tr>\n",
              "    <tr>\n",
              "      <th>886</th>\n",
              "      <td>887</td>\n",
              "      <td>0</td>\n",
              "      <td>Montvila, Rev. Juozas</td>\n",
              "      <td>27.0</td>\n",
              "      <td>0</td>\n",
              "      <td>0</td>\n",
              "      <td>211536</td>\n",
              "      <td>13.0000</td>\n",
              "      <td>NaN</td>\n",
              "      <td>0.0</td>\n",
              "      <td>1.0</td>\n",
              "      <td>0.0</td>\n",
              "      <td>1.0</td>\n",
              "      <td>0.0</td>\n",
              "      <td>0.0</td>\n",
              "      <td>0.0</td>\n",
              "      <td>1.0</td>\n",
              "      <td>0.0</td>\n",
              "    </tr>\n",
              "    <tr>\n",
              "      <th>887</th>\n",
              "      <td>888</td>\n",
              "      <td>1</td>\n",
              "      <td>Graham, Miss. Margaret Edith</td>\n",
              "      <td>19.0</td>\n",
              "      <td>0</td>\n",
              "      <td>0</td>\n",
              "      <td>112053</td>\n",
              "      <td>30.0000</td>\n",
              "      <td>B42</td>\n",
              "      <td>1.0</td>\n",
              "      <td>0.0</td>\n",
              "      <td>1.0</td>\n",
              "      <td>0.0</td>\n",
              "      <td>0.0</td>\n",
              "      <td>0.0</td>\n",
              "      <td>0.0</td>\n",
              "      <td>1.0</td>\n",
              "      <td>0.0</td>\n",
              "    </tr>\n",
              "    <tr>\n",
              "      <th>888</th>\n",
              "      <td>889</td>\n",
              "      <td>0</td>\n",
              "      <td>Johnston, Miss. Catherine Helen \"Carrie\"</td>\n",
              "      <td>NaN</td>\n",
              "      <td>1</td>\n",
              "      <td>2</td>\n",
              "      <td>W./C. 6607</td>\n",
              "      <td>23.4500</td>\n",
              "      <td>NaN</td>\n",
              "      <td>1.0</td>\n",
              "      <td>0.0</td>\n",
              "      <td>0.0</td>\n",
              "      <td>0.0</td>\n",
              "      <td>1.0</td>\n",
              "      <td>0.0</td>\n",
              "      <td>0.0</td>\n",
              "      <td>1.0</td>\n",
              "      <td>0.0</td>\n",
              "    </tr>\n",
              "    <tr>\n",
              "      <th>889</th>\n",
              "      <td>890</td>\n",
              "      <td>1</td>\n",
              "      <td>Behr, Mr. Karl Howell</td>\n",
              "      <td>26.0</td>\n",
              "      <td>0</td>\n",
              "      <td>0</td>\n",
              "      <td>111369</td>\n",
              "      <td>30.0000</td>\n",
              "      <td>C148</td>\n",
              "      <td>0.0</td>\n",
              "      <td>1.0</td>\n",
              "      <td>1.0</td>\n",
              "      <td>0.0</td>\n",
              "      <td>0.0</td>\n",
              "      <td>1.0</td>\n",
              "      <td>0.0</td>\n",
              "      <td>0.0</td>\n",
              "      <td>0.0</td>\n",
              "    </tr>\n",
              "    <tr>\n",
              "      <th>890</th>\n",
              "      <td>891</td>\n",
              "      <td>0</td>\n",
              "      <td>Dooley, Mr. Patrick</td>\n",
              "      <td>32.0</td>\n",
              "      <td>0</td>\n",
              "      <td>0</td>\n",
              "      <td>370376</td>\n",
              "      <td>7.7500</td>\n",
              "      <td>NaN</td>\n",
              "      <td>0.0</td>\n",
              "      <td>1.0</td>\n",
              "      <td>0.0</td>\n",
              "      <td>0.0</td>\n",
              "      <td>1.0</td>\n",
              "      <td>0.0</td>\n",
              "      <td>1.0</td>\n",
              "      <td>0.0</td>\n",
              "      <td>0.0</td>\n",
              "    </tr>\n",
              "  </tbody>\n",
              "</table>\n",
              "<p>891 rows × 18 columns</p>\n",
              "</div>"
            ],
            "text/plain": [
              "     PassengerId  Survived                                               Name  \\\n",
              "0              1         0                            Braund, Mr. Owen Harris   \n",
              "1              2         1  Cumings, Mrs. John Bradley (Florence Briggs Th...   \n",
              "2              3         1                             Heikkinen, Miss. Laina   \n",
              "3              4         1       Futrelle, Mrs. Jacques Heath (Lily May Peel)   \n",
              "4              5         0                           Allen, Mr. William Henry   \n",
              "..           ...       ...                                                ...   \n",
              "886          887         0                              Montvila, Rev. Juozas   \n",
              "887          888         1                       Graham, Miss. Margaret Edith   \n",
              "888          889         0           Johnston, Miss. Catherine Helen \"Carrie\"   \n",
              "889          890         1                              Behr, Mr. Karl Howell   \n",
              "890          891         0                                Dooley, Mr. Patrick   \n",
              "\n",
              "      Age  SibSp  Parch            Ticket     Fare Cabin  Sex_female  \\\n",
              "0    22.0      1      0         A/5 21171   7.2500   NaN         0.0   \n",
              "1    38.0      1      0          PC 17599  71.2833   C85         1.0   \n",
              "2    26.0      0      0  STON/O2. 3101282   7.9250   NaN         1.0   \n",
              "3    35.0      1      0            113803  53.1000  C123         1.0   \n",
              "4    35.0      0      0            373450   8.0500   NaN         0.0   \n",
              "..    ...    ...    ...               ...      ...   ...         ...   \n",
              "886  27.0      0      0            211536  13.0000   NaN         0.0   \n",
              "887  19.0      0      0            112053  30.0000   B42         1.0   \n",
              "888   NaN      1      2        W./C. 6607  23.4500   NaN         1.0   \n",
              "889  26.0      0      0            111369  30.0000  C148         0.0   \n",
              "890  32.0      0      0            370376   7.7500   NaN         0.0   \n",
              "\n",
              "     Sex_male  Pclass_1  Pclass_2  Pclass_3  Embarked_C  Embarked_Q  \\\n",
              "0         1.0       0.0       0.0       1.0         0.0         0.0   \n",
              "1         0.0       1.0       0.0       0.0         1.0         0.0   \n",
              "2         0.0       0.0       0.0       1.0         0.0         0.0   \n",
              "3         0.0       1.0       0.0       0.0         0.0         0.0   \n",
              "4         1.0       0.0       0.0       1.0         0.0         0.0   \n",
              "..        ...       ...       ...       ...         ...         ...   \n",
              "886       1.0       0.0       1.0       0.0         0.0         0.0   \n",
              "887       0.0       1.0       0.0       0.0         0.0         0.0   \n",
              "888       0.0       0.0       0.0       1.0         0.0         0.0   \n",
              "889       1.0       1.0       0.0       0.0         1.0         0.0   \n",
              "890       1.0       0.0       0.0       1.0         0.0         1.0   \n",
              "\n",
              "     Embarked_S  Embarked_nan  \n",
              "0           1.0           0.0  \n",
              "1           0.0           0.0  \n",
              "2           1.0           0.0  \n",
              "3           1.0           0.0  \n",
              "4           1.0           0.0  \n",
              "..          ...           ...  \n",
              "886         1.0           0.0  \n",
              "887         1.0           0.0  \n",
              "888         1.0           0.0  \n",
              "889         0.0           0.0  \n",
              "890         0.0           0.0  \n",
              "\n",
              "[891 rows x 18 columns]"
            ]
          },
          "execution_count": 28,
          "metadata": {},
          "output_type": "execute_result"
        }
      ],
      "source": [
        "from sklearn.preprocessing import OneHotEncoder\n",
        "\n",
        "train_df = pd.read_csv('titanic_train.csv') #aqui estamos carregando os dados de train para o dataframe\n",
        "\n",
        "encoder = OneHotEncoder(sparse=False)\n",
        "\n",
        "train_X_encoded = pd.DataFrame(encoder.fit_transform(train_df[['Sex', 'Pclass', 'Embarked']]))\n",
        "train_X_encoded.columns = encoder.get_feature_names_out(['Sex', 'Pclass', 'Embarked'])\n",
        "train_df.drop(['Sex', 'Pclass', 'Embarked'] ,axis=1, inplace=True)\n",
        "train_df = pd.concat([train_df, train_X_encoded ], axis=1)\n",
        "\n",
        "train_df #novo dataframe após rodarmos o OneHotEncoder. Você consegue ver o que mudou?"
      ]
    },
    {
      "cell_type": "markdown",
      "metadata": {
        "cell_id": "00012-1369d091-6d52-4c71-9412-a6637b45e72e",
        "deepnote_cell_height": 394.375,
        "deepnote_cell_type": "markdown",
        "id": "0rOfYPQhQmvW",
        "tags": []
      },
      "source": [
        "### Normalizando\n",
        "\n",
        "Note que agora, todas as nossas colunas categóricas relevantes tem suas contrapartes categóricas (inclusive mais de uma).\n",
        "\n",
        "Esse processo que estamos fazendo se chama _pré-processamento_ e está centrado em tornar nossas bases adequadas para o algoritmo que pretendemos usar.\n",
        "\n",
        "Vamos então entender um novo processo de pré-processamento, agora para variáveis númericas. Uma boa prática que facilita o trabalho do nosso modelo é **normalizarmos variáveis numéricas**. Isto é, deixa-las todas com um `range` semelhante.\n",
        "\n",
        "Para isso podemos usar o `StandardScaler`, da biblioteca sklearn, para aplicarmos essas operações em nossa base, vamos aplica-las nas colunas `Age`, `SibSp` e `Fare`.\n",
        "\n",
        "Lembrando que para entender como usa você deve pesquisar por referência e exemplos na internet, e nunca se esqueça de olhar a [documentação oficial](https://scikit-learn.org/stable/modules/generated/sklearn.preprocessing.StandardScaler.html).\n",
        "\n",
        "Novamente, não se preocupe tanto com esse passo. Os comandos a serem executados estão logo abaixo. Substitua as colunas originais pelo resultado alcançado. Mas tente entender o que está acontecendo"
      ]
    },
    {
      "cell_type": "code",
      "execution_count": 29,
      "metadata": {
        "cell_id": "00013-afd44c09-268c-4e87-b5c4-a36848e7a35c",
        "deepnote_cell_height": 775,
        "deepnote_cell_type": "code",
        "deepnote_to_be_reexecuted": false,
        "execution_millis": 130,
        "execution_start": 1660612106419,
        "id": "RYhS8tFvQmvX",
        "outputId": "1c8577f5-fbb7-4a3b-9aa7-e7870c41dee3",
        "source_hash": "54b69399",
        "tags": []
      },
      "outputs": [
        {
          "data": {
            "text/html": [
              "<div>\n",
              "<style scoped>\n",
              "    .dataframe tbody tr th:only-of-type {\n",
              "        vertical-align: middle;\n",
              "    }\n",
              "\n",
              "    .dataframe tbody tr th {\n",
              "        vertical-align: top;\n",
              "    }\n",
              "\n",
              "    .dataframe thead th {\n",
              "        text-align: right;\n",
              "    }\n",
              "</style>\n",
              "<table border=\"1\" class=\"dataframe\">\n",
              "  <thead>\n",
              "    <tr style=\"text-align: right;\">\n",
              "      <th></th>\n",
              "      <th>PassengerId</th>\n",
              "      <th>Survived</th>\n",
              "      <th>Name</th>\n",
              "      <th>Age</th>\n",
              "      <th>SibSp</th>\n",
              "      <th>Parch</th>\n",
              "      <th>Ticket</th>\n",
              "      <th>Fare</th>\n",
              "      <th>Cabin</th>\n",
              "      <th>Sex_female</th>\n",
              "      <th>Sex_male</th>\n",
              "      <th>Pclass_1</th>\n",
              "      <th>Pclass_2</th>\n",
              "      <th>Pclass_3</th>\n",
              "      <th>Embarked_C</th>\n",
              "      <th>Embarked_Q</th>\n",
              "      <th>Embarked_S</th>\n",
              "      <th>Embarked_nan</th>\n",
              "    </tr>\n",
              "  </thead>\n",
              "  <tbody>\n",
              "    <tr>\n",
              "      <th>0</th>\n",
              "      <td>1</td>\n",
              "      <td>0</td>\n",
              "      <td>Braund, Mr. Owen Harris</td>\n",
              "      <td>-0.530377</td>\n",
              "      <td>0.432793</td>\n",
              "      <td>0</td>\n",
              "      <td>A/5 21171</td>\n",
              "      <td>-0.502445</td>\n",
              "      <td>NaN</td>\n",
              "      <td>0.0</td>\n",
              "      <td>1.0</td>\n",
              "      <td>0.0</td>\n",
              "      <td>0.0</td>\n",
              "      <td>1.0</td>\n",
              "      <td>0.0</td>\n",
              "      <td>0.0</td>\n",
              "      <td>1.0</td>\n",
              "      <td>0.0</td>\n",
              "    </tr>\n",
              "    <tr>\n",
              "      <th>1</th>\n",
              "      <td>2</td>\n",
              "      <td>1</td>\n",
              "      <td>Cumings, Mrs. John Bradley (Florence Briggs Th...</td>\n",
              "      <td>0.571831</td>\n",
              "      <td>0.432793</td>\n",
              "      <td>0</td>\n",
              "      <td>PC 17599</td>\n",
              "      <td>0.786845</td>\n",
              "      <td>C85</td>\n",
              "      <td>1.0</td>\n",
              "      <td>0.0</td>\n",
              "      <td>1.0</td>\n",
              "      <td>0.0</td>\n",
              "      <td>0.0</td>\n",
              "      <td>1.0</td>\n",
              "      <td>0.0</td>\n",
              "      <td>0.0</td>\n",
              "      <td>0.0</td>\n",
              "    </tr>\n",
              "    <tr>\n",
              "      <th>2</th>\n",
              "      <td>3</td>\n",
              "      <td>1</td>\n",
              "      <td>Heikkinen, Miss. Laina</td>\n",
              "      <td>-0.254825</td>\n",
              "      <td>-0.474545</td>\n",
              "      <td>0</td>\n",
              "      <td>STON/O2. 3101282</td>\n",
              "      <td>-0.488854</td>\n",
              "      <td>NaN</td>\n",
              "      <td>1.0</td>\n",
              "      <td>0.0</td>\n",
              "      <td>0.0</td>\n",
              "      <td>0.0</td>\n",
              "      <td>1.0</td>\n",
              "      <td>0.0</td>\n",
              "      <td>0.0</td>\n",
              "      <td>1.0</td>\n",
              "      <td>0.0</td>\n",
              "    </tr>\n",
              "    <tr>\n",
              "      <th>3</th>\n",
              "      <td>4</td>\n",
              "      <td>1</td>\n",
              "      <td>Futrelle, Mrs. Jacques Heath (Lily May Peel)</td>\n",
              "      <td>0.365167</td>\n",
              "      <td>0.432793</td>\n",
              "      <td>0</td>\n",
              "      <td>113803</td>\n",
              "      <td>0.420730</td>\n",
              "      <td>C123</td>\n",
              "      <td>1.0</td>\n",
              "      <td>0.0</td>\n",
              "      <td>1.0</td>\n",
              "      <td>0.0</td>\n",
              "      <td>0.0</td>\n",
              "      <td>0.0</td>\n",
              "      <td>0.0</td>\n",
              "      <td>1.0</td>\n",
              "      <td>0.0</td>\n",
              "    </tr>\n",
              "    <tr>\n",
              "      <th>4</th>\n",
              "      <td>5</td>\n",
              "      <td>0</td>\n",
              "      <td>Allen, Mr. William Henry</td>\n",
              "      <td>0.365167</td>\n",
              "      <td>-0.474545</td>\n",
              "      <td>0</td>\n",
              "      <td>373450</td>\n",
              "      <td>-0.486337</td>\n",
              "      <td>NaN</td>\n",
              "      <td>0.0</td>\n",
              "      <td>1.0</td>\n",
              "      <td>0.0</td>\n",
              "      <td>0.0</td>\n",
              "      <td>1.0</td>\n",
              "      <td>0.0</td>\n",
              "      <td>0.0</td>\n",
              "      <td>1.0</td>\n",
              "      <td>0.0</td>\n",
              "    </tr>\n",
              "    <tr>\n",
              "      <th>...</th>\n",
              "      <td>...</td>\n",
              "      <td>...</td>\n",
              "      <td>...</td>\n",
              "      <td>...</td>\n",
              "      <td>...</td>\n",
              "      <td>...</td>\n",
              "      <td>...</td>\n",
              "      <td>...</td>\n",
              "      <td>...</td>\n",
              "      <td>...</td>\n",
              "      <td>...</td>\n",
              "      <td>...</td>\n",
              "      <td>...</td>\n",
              "      <td>...</td>\n",
              "      <td>...</td>\n",
              "      <td>...</td>\n",
              "      <td>...</td>\n",
              "      <td>...</td>\n",
              "    </tr>\n",
              "    <tr>\n",
              "      <th>886</th>\n",
              "      <td>887</td>\n",
              "      <td>0</td>\n",
              "      <td>Montvila, Rev. Juozas</td>\n",
              "      <td>-0.185937</td>\n",
              "      <td>-0.474545</td>\n",
              "      <td>0</td>\n",
              "      <td>211536</td>\n",
              "      <td>-0.386671</td>\n",
              "      <td>NaN</td>\n",
              "      <td>0.0</td>\n",
              "      <td>1.0</td>\n",
              "      <td>0.0</td>\n",
              "      <td>1.0</td>\n",
              "      <td>0.0</td>\n",
              "      <td>0.0</td>\n",
              "      <td>0.0</td>\n",
              "      <td>1.0</td>\n",
              "      <td>0.0</td>\n",
              "    </tr>\n",
              "    <tr>\n",
              "      <th>887</th>\n",
              "      <td>888</td>\n",
              "      <td>1</td>\n",
              "      <td>Graham, Miss. Margaret Edith</td>\n",
              "      <td>-0.737041</td>\n",
              "      <td>-0.474545</td>\n",
              "      <td>0</td>\n",
              "      <td>112053</td>\n",
              "      <td>-0.044381</td>\n",
              "      <td>B42</td>\n",
              "      <td>1.0</td>\n",
              "      <td>0.0</td>\n",
              "      <td>1.0</td>\n",
              "      <td>0.0</td>\n",
              "      <td>0.0</td>\n",
              "      <td>0.0</td>\n",
              "      <td>0.0</td>\n",
              "      <td>1.0</td>\n",
              "      <td>0.0</td>\n",
              "    </tr>\n",
              "    <tr>\n",
              "      <th>888</th>\n",
              "      <td>889</td>\n",
              "      <td>0</td>\n",
              "      <td>Johnston, Miss. Catherine Helen \"Carrie\"</td>\n",
              "      <td>NaN</td>\n",
              "      <td>0.432793</td>\n",
              "      <td>2</td>\n",
              "      <td>W./C. 6607</td>\n",
              "      <td>-0.176263</td>\n",
              "      <td>NaN</td>\n",
              "      <td>1.0</td>\n",
              "      <td>0.0</td>\n",
              "      <td>0.0</td>\n",
              "      <td>0.0</td>\n",
              "      <td>1.0</td>\n",
              "      <td>0.0</td>\n",
              "      <td>0.0</td>\n",
              "      <td>1.0</td>\n",
              "      <td>0.0</td>\n",
              "    </tr>\n",
              "    <tr>\n",
              "      <th>889</th>\n",
              "      <td>890</td>\n",
              "      <td>1</td>\n",
              "      <td>Behr, Mr. Karl Howell</td>\n",
              "      <td>-0.254825</td>\n",
              "      <td>-0.474545</td>\n",
              "      <td>0</td>\n",
              "      <td>111369</td>\n",
              "      <td>-0.044381</td>\n",
              "      <td>C148</td>\n",
              "      <td>0.0</td>\n",
              "      <td>1.0</td>\n",
              "      <td>1.0</td>\n",
              "      <td>0.0</td>\n",
              "      <td>0.0</td>\n",
              "      <td>1.0</td>\n",
              "      <td>0.0</td>\n",
              "      <td>0.0</td>\n",
              "      <td>0.0</td>\n",
              "    </tr>\n",
              "    <tr>\n",
              "      <th>890</th>\n",
              "      <td>891</td>\n",
              "      <td>0</td>\n",
              "      <td>Dooley, Mr. Patrick</td>\n",
              "      <td>0.158503</td>\n",
              "      <td>-0.474545</td>\n",
              "      <td>0</td>\n",
              "      <td>370376</td>\n",
              "      <td>-0.492378</td>\n",
              "      <td>NaN</td>\n",
              "      <td>0.0</td>\n",
              "      <td>1.0</td>\n",
              "      <td>0.0</td>\n",
              "      <td>0.0</td>\n",
              "      <td>1.0</td>\n",
              "      <td>0.0</td>\n",
              "      <td>1.0</td>\n",
              "      <td>0.0</td>\n",
              "      <td>0.0</td>\n",
              "    </tr>\n",
              "  </tbody>\n",
              "</table>\n",
              "<p>891 rows × 18 columns</p>\n",
              "</div>"
            ],
            "text/plain": [
              "     PassengerId  Survived                                               Name  \\\n",
              "0              1         0                            Braund, Mr. Owen Harris   \n",
              "1              2         1  Cumings, Mrs. John Bradley (Florence Briggs Th...   \n",
              "2              3         1                             Heikkinen, Miss. Laina   \n",
              "3              4         1       Futrelle, Mrs. Jacques Heath (Lily May Peel)   \n",
              "4              5         0                           Allen, Mr. William Henry   \n",
              "..           ...       ...                                                ...   \n",
              "886          887         0                              Montvila, Rev. Juozas   \n",
              "887          888         1                       Graham, Miss. Margaret Edith   \n",
              "888          889         0           Johnston, Miss. Catherine Helen \"Carrie\"   \n",
              "889          890         1                              Behr, Mr. Karl Howell   \n",
              "890          891         0                                Dooley, Mr. Patrick   \n",
              "\n",
              "          Age     SibSp  Parch            Ticket      Fare Cabin  Sex_female  \\\n",
              "0   -0.530377  0.432793      0         A/5 21171 -0.502445   NaN         0.0   \n",
              "1    0.571831  0.432793      0          PC 17599  0.786845   C85         1.0   \n",
              "2   -0.254825 -0.474545      0  STON/O2. 3101282 -0.488854   NaN         1.0   \n",
              "3    0.365167  0.432793      0            113803  0.420730  C123         1.0   \n",
              "4    0.365167 -0.474545      0            373450 -0.486337   NaN         0.0   \n",
              "..        ...       ...    ...               ...       ...   ...         ...   \n",
              "886 -0.185937 -0.474545      0            211536 -0.386671   NaN         0.0   \n",
              "887 -0.737041 -0.474545      0            112053 -0.044381   B42         1.0   \n",
              "888       NaN  0.432793      2        W./C. 6607 -0.176263   NaN         1.0   \n",
              "889 -0.254825 -0.474545      0            111369 -0.044381  C148         0.0   \n",
              "890  0.158503 -0.474545      0            370376 -0.492378   NaN         0.0   \n",
              "\n",
              "     Sex_male  Pclass_1  Pclass_2  Pclass_3  Embarked_C  Embarked_Q  \\\n",
              "0         1.0       0.0       0.0       1.0         0.0         0.0   \n",
              "1         0.0       1.0       0.0       0.0         1.0         0.0   \n",
              "2         0.0       0.0       0.0       1.0         0.0         0.0   \n",
              "3         0.0       1.0       0.0       0.0         0.0         0.0   \n",
              "4         1.0       0.0       0.0       1.0         0.0         0.0   \n",
              "..        ...       ...       ...       ...         ...         ...   \n",
              "886       1.0       0.0       1.0       0.0         0.0         0.0   \n",
              "887       0.0       1.0       0.0       0.0         0.0         0.0   \n",
              "888       0.0       0.0       0.0       1.0         0.0         0.0   \n",
              "889       1.0       1.0       0.0       0.0         1.0         0.0   \n",
              "890       1.0       0.0       0.0       1.0         0.0         1.0   \n",
              "\n",
              "     Embarked_S  Embarked_nan  \n",
              "0           1.0           0.0  \n",
              "1           0.0           0.0  \n",
              "2           1.0           0.0  \n",
              "3           1.0           0.0  \n",
              "4           1.0           0.0  \n",
              "..          ...           ...  \n",
              "886         1.0           0.0  \n",
              "887         1.0           0.0  \n",
              "888         1.0           0.0  \n",
              "889         0.0           0.0  \n",
              "890         0.0           0.0  \n",
              "\n",
              "[891 rows x 18 columns]"
            ]
          },
          "execution_count": 29,
          "metadata": {},
          "output_type": "execute_result"
        }
      ],
      "source": [
        "from sklearn.preprocessing import StandardScaler\n",
        "\n",
        "features = ['Age', 'SibSp', 'Fare']\n",
        "\n",
        "ss = StandardScaler()\n",
        "\n",
        "ss.fit(train_df[features])\n",
        "\n",
        "train_df[features] = ss.transform(train_df[features])\n",
        "\n",
        "train_df"
      ]
    },
    {
      "cell_type": "markdown",
      "metadata": {
        "cell_id": "00014-dc833474-ab12-4b73-8c92-ebaad54ceb6f",
        "deepnote_cell_height": 231.984375,
        "deepnote_cell_type": "markdown",
        "id": "akOszIesQmvX",
        "tags": []
      },
      "source": [
        "### Eliminando valores nulos\n",
        "\n",
        "Agora antes de irmos adiante existe uma coisa sobre regressão logística e valores numéricos que precisamos saber: _Regressões odeiam valores nulos!_ (você consegue entender o porque disso?)\n",
        "\n",
        "Analise as três colunas geradas e verifique se temos valores nulos nelas\n",
        "\n",
        "Substitua esses valores nulos pela mediana, essa é uma tecnica comum para evitar problemas de valores nulos.\n",
        "\n",
        "Uso métodos do pandas para isso. Essa aqui eu deixo com vocês escrever o código para fazer isso."
      ]
    },
    {
      "cell_type": "code",
      "execution_count": 30,
      "metadata": {
        "cell_id": "00015-9216a8b7-6021-428f-a990-64725678a169",
        "deepnote_cell_height": 94,
        "deepnote_cell_type": "code",
        "deepnote_to_be_reexecuted": false,
        "execution_millis": 3,
        "execution_start": 1660608501639,
        "id": "jlFzn88BQmvX",
        "source_hash": "3c12190d",
        "tags": []
      },
      "outputs": [],
      "source": [
        "#Questão 10\n",
        "#preencha os valores vazios da cooluna `Age` com a média da idade dos passageiros"
      ]
    },
    {
      "cell_type": "code",
      "execution_count": 31,
      "metadata": {
        "allow_embed": false,
        "cell_id": "33f0cd1a060440afb98283d4eb375350",
        "deepnote_cell_height": 94,
        "deepnote_cell_type": "code",
        "deepnote_to_be_reexecuted": false,
        "execution_millis": 0,
        "execution_start": 1660612208018,
        "id": "7IdFLZhOQmvX",
        "source_hash": "ffe10ae8",
        "tags": []
      },
      "outputs": [],
      "source": [
        "#gabarito questão 10\n",
        "train_df['Age'].fillna(train_df['Age'].median(), inplace=True)"
      ]
    },
    {
      "cell_type": "markdown",
      "metadata": {
        "cell_id": "8094c522ab544fde9a06d38465495549",
        "deepnote_cell_height": 159.1875,
        "deepnote_cell_type": "markdown",
        "id": "cd6EnDEWQmvY",
        "tags": []
      },
      "source": [
        "### Ajustando o arquivo de teste\n",
        "\n",
        "Como voce percebeu, fizemos diversas alterações nos dados que carregamos do arquivo 'titanic_train.csv'\n",
        "Precisamos repetir os mesmos passos para os dados de teste! Os comandos são os mesmos.\n",
        "\n",
        "Carregue a base de teste e faça as mesmas transformações (`OneHotEnconding` e `StandardScalar`)."
      ]
    },
    {
      "cell_type": "code",
      "execution_count": null,
      "metadata": {
        "cell_id": "7b5e6f297aae42d9898d030fc0d59448",
        "deepnote_cell_height": 364.890625,
        "deepnote_cell_type": "code",
        "deepnote_to_be_reexecuted": false,
        "execution_millis": 34,
        "execution_start": 1660612247028,
        "id": "rg-uPc__QmvY",
        "outputId": "801f8edd-72f9-4f70-9cb4-c38d507b3233",
        "source_hash": "56ff99e",
        "tags": []
      },
      "outputs": [
        {
          "name": "stderr",
          "output_type": "stream",
          "text": [
            "/shared-libs/python3.7/py/lib/python3.7/site-packages/sklearn/utils/deprecation.py:87: FutureWarning: Function get_feature_names is deprecated; get_feature_names is deprecated in 1.0 and will be removed in 1.2. Please use get_feature_names_out instead.\n",
            "  warnings.warn(msg, category=FutureWarning)\n"
          ]
        }
      ],
      "source": [
        "test_df = pd.read_csv('dataset/titanic_test.csv')\n",
        "\n",
        "test_df['Age'].fillna(test_df['Age'].median(), inplace=True)\n",
        "test_df['Fare'].fillna(test_df['Fare'].median(), inplace=True)\n",
        "\n",
        "features = ['Age', 'SibSp', 'Fare']\n",
        "test_df[features] = ss.transform(test_df[features])\n",
        "\n",
        "encoder = OneHotEncoder(sparse=False)\n",
        "\n",
        "test_X_encoded = pd.DataFrame(encoder.transform(test_df[['Sex', 'Pclass', 'Embarked']]))\n",
        "test_X_encoded.columns = encoder.get_feature_names(['Sex', 'Pclass', 'Embarked'])\n",
        "test_df.drop(['Sex', 'Pclass', 'Embarked'] ,axis=1, inplace=True)\n",
        "test_df = pd.concat([test_df, test_X_encoded ], axis=1)"
      ]
    },
    {
      "cell_type": "markdown",
      "metadata": {
        "cell_id": "ef5d53d0ac9a4ffab51f36d4c90bfc2b",
        "deepnote_cell_height": 119.59375,
        "deepnote_cell_type": "markdown",
        "id": "r3HtBr8iQmvY",
        "tags": []
      },
      "source": [
        "Perceba que a coluna `Survived` não esta no arquivo `titanic_test.csv`,ao invés disso está no arquivo `titanic_test_results.csv`.\n",
        "Vamos aproveitar e já deixar tudo preparado. Apenas execute os comandos abaixo mas sempre entendendo o que está acontecendo!"
      ]
    },
    {
      "cell_type": "code",
      "execution_count": 33,
      "metadata": {
        "cell_id": "714ae435763a4d6383be7ccd16b99a92",
        "deepnote_cell_height": 171,
        "deepnote_cell_type": "code",
        "deepnote_to_be_reexecuted": false,
        "execution_millis": 1,
        "execution_start": 1660612375470,
        "id": "5m9FKicJQmvY",
        "source_hash": "f403b330",
        "tags": []
      },
      "outputs": [],
      "source": [
        "features = ['Age', 'SibSp', 'Fare', 'Embarked_C', 'Embarked_Q', 'Embarked_S', 'Embarked_nan', 'Sex_female', 'Sex_male', 'Pclass_1', 'Pclass_2',\n",
        "       'Pclass_3'] #estamos escolhendo as colunas/features/variáveis que usaremos no nosso modelo\n",
        "\n",
        "train_df_X = train_df[features] #carregamos apenas elas para o nosso X\n",
        "\n",
        "train_df_y = train_df[['Survived']] #aqui carregamos o nosso Y"
      ]
    },
    {
      "cell_type": "markdown",
      "metadata": {
        "cell_id": "00014-aaa19fa7-a6c4-49a0-801f-cfc7d58c7379",
        "deepnote_cell_height": 217.984375,
        "deepnote_cell_type": "markdown",
        "id": "kskP48ZJQmvY",
        "tags": []
      },
      "source": [
        "### Fazendo a previsão\n",
        "\n",
        "Agora vamos aplicar a regressão logística!\n",
        "\n",
        "Lembre-se de usar apenas as colunas numéricas que geramos nos últimos dois exercícios. Para o arquivo de testes nos já retiramos mas garanta passando apenas as colunas que quer usar\n",
        "\n",
        "\n",
        "\n",
        "Apresente na tela a `accuracy_score`. Para fins do exercício usaremos a acurácia para ver quão bom são nossos modelos. Lembre-se que quanto maior a nossa acurácia, melhor o modelo! (será que isso é sempre verdade?)"
      ]
    },
    {
      "cell_type": "code",
      "execution_count": null,
      "metadata": {
        "cell_id": "00015-8534ff5a-0d2c-4a50-8f1f-9584025a7ed1",
        "deepnote_cell_height": 130,
        "deepnote_cell_type": "code",
        "deepnote_output_heights": [
          null,
          21.1875
        ],
        "deepnote_to_be_reexecuted": false,
        "execution_millis": 0,
        "execution_start": 1660612529855,
        "id": "lmNiw1xWQmvZ",
        "source_hash": "d222805",
        "tags": []
      },
      "outputs": [],
      "source": [
        "#Questão 11\n",
        "#rode um modelo (modeloLR) de regressão logiística (LogisticRegression no scikit learn)\n",
        "#importe o modelo, inicie o modelo e depois treine o modelo (fit)\n"
      ]
    },
    {
      "cell_type": "code",
      "execution_count": 34,
      "metadata": {
        "allow_embed": false,
        "cell_id": "a535ce58197c46118ebfa5d0fc20e2a5",
        "deepnote_cell_height": 273.078125,
        "deepnote_cell_type": "code",
        "deepnote_output_heights": [
          null,
          21.1875
        ],
        "deepnote_to_be_reexecuted": false,
        "execution_millis": 37,
        "execution_start": 1660612538148,
        "id": "3kbVzZDBQmvZ",
        "outputId": "d9d78fb2-65e7-463d-c0d9-643eded8dac9",
        "source_hash": "326d36a5",
        "tags": []
      },
      "outputs": [
        {
          "data": {
            "text/html": [
              "<style>#sk-container-id-1 {color: black;background-color: white;}#sk-container-id-1 pre{padding: 0;}#sk-container-id-1 div.sk-toggleable {background-color: white;}#sk-container-id-1 label.sk-toggleable__label {cursor: pointer;display: block;width: 100%;margin-bottom: 0;padding: 0.3em;box-sizing: border-box;text-align: center;}#sk-container-id-1 label.sk-toggleable__label-arrow:before {content: \"▸\";float: left;margin-right: 0.25em;color: #696969;}#sk-container-id-1 label.sk-toggleable__label-arrow:hover:before {color: black;}#sk-container-id-1 div.sk-estimator:hover label.sk-toggleable__label-arrow:before {color: black;}#sk-container-id-1 div.sk-toggleable__content {max-height: 0;max-width: 0;overflow: hidden;text-align: left;background-color: #f0f8ff;}#sk-container-id-1 div.sk-toggleable__content pre {margin: 0.2em;color: black;border-radius: 0.25em;background-color: #f0f8ff;}#sk-container-id-1 input.sk-toggleable__control:checked~div.sk-toggleable__content {max-height: 200px;max-width: 100%;overflow: auto;}#sk-container-id-1 input.sk-toggleable__control:checked~label.sk-toggleable__label-arrow:before {content: \"▾\";}#sk-container-id-1 div.sk-estimator input.sk-toggleable__control:checked~label.sk-toggleable__label {background-color: #d4ebff;}#sk-container-id-1 div.sk-label input.sk-toggleable__control:checked~label.sk-toggleable__label {background-color: #d4ebff;}#sk-container-id-1 input.sk-hidden--visually {border: 0;clip: rect(1px 1px 1px 1px);clip: rect(1px, 1px, 1px, 1px);height: 1px;margin: -1px;overflow: hidden;padding: 0;position: absolute;width: 1px;}#sk-container-id-1 div.sk-estimator {font-family: monospace;background-color: #f0f8ff;border: 1px dotted black;border-radius: 0.25em;box-sizing: border-box;margin-bottom: 0.5em;}#sk-container-id-1 div.sk-estimator:hover {background-color: #d4ebff;}#sk-container-id-1 div.sk-parallel-item::after {content: \"\";width: 100%;border-bottom: 1px solid gray;flex-grow: 1;}#sk-container-id-1 div.sk-label:hover label.sk-toggleable__label {background-color: #d4ebff;}#sk-container-id-1 div.sk-serial::before {content: \"\";position: absolute;border-left: 1px solid gray;box-sizing: border-box;top: 0;bottom: 0;left: 50%;z-index: 0;}#sk-container-id-1 div.sk-serial {display: flex;flex-direction: column;align-items: center;background-color: white;padding-right: 0.2em;padding-left: 0.2em;position: relative;}#sk-container-id-1 div.sk-item {position: relative;z-index: 1;}#sk-container-id-1 div.sk-parallel {display: flex;align-items: stretch;justify-content: center;background-color: white;position: relative;}#sk-container-id-1 div.sk-item::before, #sk-container-id-1 div.sk-parallel-item::before {content: \"\";position: absolute;border-left: 1px solid gray;box-sizing: border-box;top: 0;bottom: 0;left: 50%;z-index: -1;}#sk-container-id-1 div.sk-parallel-item {display: flex;flex-direction: column;z-index: 1;position: relative;background-color: white;}#sk-container-id-1 div.sk-parallel-item:first-child::after {align-self: flex-end;width: 50%;}#sk-container-id-1 div.sk-parallel-item:last-child::after {align-self: flex-start;width: 50%;}#sk-container-id-1 div.sk-parallel-item:only-child::after {width: 0;}#sk-container-id-1 div.sk-dashed-wrapped {border: 1px dashed gray;margin: 0 0.4em 0.5em 0.4em;box-sizing: border-box;padding-bottom: 0.4em;background-color: white;}#sk-container-id-1 div.sk-label label {font-family: monospace;font-weight: bold;display: inline-block;line-height: 1.2em;}#sk-container-id-1 div.sk-label-container {text-align: center;}#sk-container-id-1 div.sk-container {/* jupyter's `normalize.less` sets `[hidden] { display: none; }` but bootstrap.min.css set `[hidden] { display: none !important; }` so we also need the `!important` here to be able to override the default hidden behavior on the sphinx rendered scikit-learn.org. See: https://github.com/scikit-learn/scikit-learn/issues/21755 */display: inline-block !important;position: relative;}#sk-container-id-1 div.sk-text-repr-fallback {display: none;}</style><div id=\"sk-container-id-1\" class=\"sk-top-container\"><div class=\"sk-text-repr-fallback\"><pre>LogisticRegression()</pre><b>In a Jupyter environment, please rerun this cell to show the HTML representation or trust the notebook. <br />On GitHub, the HTML representation is unable to render, please try loading this page with nbviewer.org.</b></div><div class=\"sk-container\" hidden><div class=\"sk-item\"><div class=\"sk-estimator sk-toggleable\"><input class=\"sk-toggleable__control sk-hidden--visually\" id=\"sk-estimator-id-1\" type=\"checkbox\" checked><label for=\"sk-estimator-id-1\" class=\"sk-toggleable__label sk-toggleable__label-arrow\">LogisticRegression</label><div class=\"sk-toggleable__content\"><pre>LogisticRegression()</pre></div></div></div></div></div>"
            ],
            "text/plain": [
              "LogisticRegression()"
            ]
          },
          "execution_count": 34,
          "metadata": {},
          "output_type": "execute_result"
        }
      ],
      "source": [
        "#gabarito questão 11\n",
        "from sklearn.linear_model import LogisticRegression\n",
        "\n",
        "modeloLR = LogisticRegression()\n",
        "\n",
        "modeloLR.fit(train_df_X, train_df_y)"
      ]
    },
    {
      "cell_type": "markdown",
      "metadata": {
        "cell_id": "eb991b09187d4c5f92cc834dabe4aee3",
        "deepnote_cell_height": 248.78125,
        "deepnote_cell_type": "markdown",
        "id": "bc9LZjMlQmvZ",
        "tags": []
      },
      "source": [
        "### Verificando a performance nos dados de testes\n",
        "Como nossos dados estão em 2 arquivos diferentes, agora que temos o modelo treinado (.fit()) precisamos ver como ele se sai com dados q nunca viu. Os dados do arquivo \"titanic_test.csv\" nunca foram vistos pelo modelo. Vamos carrega-lo e colocar as colunas preditoras ou variáveis independentes para ser o nosso X.\n",
        "O valor correto, variável dependente (a resposta final) está também em um terceiro arquivo \"titanic_test_results.csv\". Dessa forma esses são os dados que vamos levar para o nosso Y\n",
        "\n",
        "Após carregar esses dois arquivos em dataframes, precisamos pegar o modelo treinado e ver como ele de fato se sai com esses dados. Apenas execute os comandos abaixo mas procure entender o que está acontecendo!"
      ]
    },
    {
      "cell_type": "code",
      "execution_count": null,
      "metadata": {
        "cell_id": "33a08d3a9edf4b3294754c2d46b1bae2",
        "deepnote_cell_height": 225,
        "deepnote_cell_type": "code",
        "deepnote_to_be_reexecuted": false,
        "execution_millis": 1,
        "execution_start": 1660612653362,
        "id": "qhqiwZZuQmvZ",
        "source_hash": "51d4051f",
        "tags": []
      },
      "outputs": [],
      "source": [
        "features = ['Age', 'SibSp', 'Fare', 'Embarked_C', 'Embarked_Q', 'Embarked_S', 'Embarked_nan', 'Sex_female', 'Sex_male', 'Pclass_1', 'Pclass_2',\n",
        "       'Pclass_3'] #escolhendo quais features iremos usar\n",
        "\n",
        "test_df['Embarked_nan'] = 0\n",
        "\n",
        "test_df_X = test_df[features] #carregando as variáveis independentes\n",
        "\n",
        "test_df_y = pd.read_csv('dataset/titanic_test_results.csv')[['Survived']] #carregando a variável dependente\n"
      ]
    },
    {
      "cell_type": "markdown",
      "metadata": {
        "cell_id": "23670298814847c7a360a0d8263252b7",
        "deepnote_cell_height": 145.1875,
        "deepnote_cell_type": "markdown",
        "id": "jGTVnFD9QmvZ",
        "tags": []
      },
      "source": [
        "### Calculando como o modelo se saiu com os dados de teste\n",
        "Agora que todos os dados já foram é a hora de pedir para o modelo prever o resultado com base nos dados do arquivo teste e após isso, vamos calcular a acurácia do modelo usado \"accuracy_score\". Não se preocupe, essa última parte do código já está escrita para você."
      ]
    },
    {
      "cell_type": "code",
      "execution_count": 35,
      "metadata": {
        "cell_id": "1fb90cc19d0d46378bf9e0d08e50e15b",
        "deepnote_cell_height": 112,
        "deepnote_cell_type": "code",
        "deepnote_to_be_reexecuted": false,
        "execution_millis": 0,
        "execution_start": 1660612723466,
        "id": "TTMhzlLXQmvZ",
        "source_hash": "22150255",
        "tags": []
      },
      "outputs": [],
      "source": [
        "#Questão 12\n",
        "#Agora é a hora da verdade!\n",
        "#Rode um predict no seu modelo salvando o resultado em y_predRL"
      ]
    },
    {
      "cell_type": "code",
      "execution_count": 36,
      "metadata": {
        "cell_id": "b4acd2ee59e44110b54b2ec0b242ceab",
        "deepnote_cell_height": 112,
        "deepnote_cell_type": "code",
        "deepnote_to_be_reexecuted": false,
        "execution_millis": 1,
        "execution_start": 1660612732456,
        "id": "wsYJOLKkQmva",
        "source_hash": "dde284da",
        "tags": []
      },
      "outputs": [
        {
          "ename": "NameError",
          "evalue": "name 'test_df_X' is not defined",
          "output_type": "error",
          "traceback": [
            "\u001b[1;31m---------------------------------------------------------------------------\u001b[0m",
            "\u001b[1;31mNameError\u001b[0m                                 Traceback (most recent call last)",
            "Cell \u001b[1;32mIn[36], line 2\u001b[0m\n\u001b[0;32m      1\u001b[0m \u001b[39m#gabarito questão 12\u001b[39;00m\n\u001b[1;32m----> 2\u001b[0m y_predRL \u001b[39m=\u001b[39m modeloLR\u001b[39m.\u001b[39mpredict(test_df_X)\n",
            "\u001b[1;31mNameError\u001b[0m: name 'test_df_X' is not defined"
          ]
        }
      ],
      "source": [
        "#gabarito questão 12\n",
        "y_predRL = modeloLR.predict(test_df_X)\n"
      ]
    },
    {
      "cell_type": "markdown",
      "metadata": {
        "cell_id": "43d976c95ccb4e02989eaeaea2439779",
        "deepnote_cell_height": 122.796875,
        "deepnote_cell_type": "markdown",
        "id": "0leKT60JQmvn",
        "tags": []
      },
      "source": [
        "### Verificando o resultado Final\n",
        "Execute os comandos abaixo para sabermos a acurácia do nosso modelo! E ae, o que achou do resultado final? Bom? Ruim? Suficiente?"
      ]
    },
    {
      "cell_type": "code",
      "execution_count": null,
      "metadata": {
        "cell_id": "9eed3d9b88824dfeae0c592bf563b4d3",
        "deepnote_cell_height": 147.6875,
        "deepnote_cell_type": "code",
        "deepnote_to_be_reexecuted": false,
        "execution_millis": 9,
        "execution_start": 1660612830034,
        "id": "72DpDmXrQmvo",
        "outputId": "7019ebcb-f848-4965-c268-aec735041488",
        "source_hash": "4ad4f75f",
        "tags": []
      },
      "outputs": [
        {
          "name": "stdout",
          "output_type": "stream",
          "text": [
            "Acurácia do modelo de Regressão Logística: 0.8708134\n"
          ]
        }
      ],
      "source": [
        "from sklearn import metrics\n",
        "#por fim, comparamos o valor que o modelo previu (y_predRL) com o valor que ele deveria ter previsto (test_df_y)\n",
        "print(\"Acurácia do modelo de Regressão Logística: {}\".format(metrics.accuracy_score(test_df_y, y_predRL).round(8)))"
      ]
    },
    {
      "cell_type": "markdown",
      "metadata": {
        "cell_id": "cea38dc34b34414a8447ec7bf598fb63",
        "deepnote_cell_height": 329.578125,
        "deepnote_cell_type": "markdown",
        "id": "BiDsfJ0aQmvo",
        "tags": []
      },
      "source": [
        "## Ampliando a Caixa de Ferramentas\n",
        "\n",
        "Muito bem, nos últimos preparamos dados reais para aplicar em um algoritmo de regressão logistica e obter um resultado satisfatório, mas e agora?\n",
        "\n",
        "Se você acessar a [documentação do Sklearn](https://scikit-learn.org/stable/auto_examples/classification/plot_classifier_comparison.html) verá que existem diversos algoritmos de classificação, como vamos saber se, dentre todas as alternativas a nossa regressão logistica é a melhor?\n",
        "\n",
        "Uma atividade comum entre ciêntistas de dados é treinar inúmeros modelos para um mesmo problema e compará-los através de alguma ferramenta estatística. Muitas vezes um modelo especifico pode performar melhor diante de um problema por algum detalhe que muitas vezes o ciêntista de dados desconhece no momento.\n",
        "\n",
        "Então, para essa última etapa, vamos apresentar para vocês outros algoritmos de classificação. Repita os últimos passos de treino, predição e acurácia para vermos como eles se saem."
      ]
    },
    {
      "cell_type": "markdown",
      "metadata": {
        "cell_id": "bdbdcf8b510e4e358682696f248f2fba",
        "deepnote_cell_height": 181.59375,
        "deepnote_cell_type": "markdown",
        "id": "--XP1sJZQmvo",
        "tags": []
      },
      "source": [
        "### DecisionTree\n",
        "\n",
        "A arvore de decisão é uma das estruturas mais intuitivas de classificação, ela basicamente pega as colunas que temos e cria regras de separação até que tenhamos uma sequencia de regras que atribui com alguma acurácia entre nossas classes.\n",
        "\n",
        "A melhor forma de entender esse modelo é usá-lo e visualizar sua árvore, por isso vamos trabalhar com a base do Titanic novamente."
      ]
    },
    {
      "cell_type": "code",
      "execution_count": null,
      "metadata": {
        "cell_id": "1ee42fdb9abd4e8ab622b0e8a371a59a",
        "deepnote_cell_height": 117,
        "deepnote_cell_type": "code",
        "deepnote_to_be_reexecuted": false,
        "execution_millis": 0,
        "execution_start": 1660613020839,
        "id": "XnI1-XxTQmvo",
        "source_hash": "2ed3e98f",
        "tags": []
      },
      "outputs": [],
      "source": [
        "#Questão 13\n",
        "#Use uma árvore de decisão para criar um novo modelo (modeloDT). Passe como parâmetro para a árvore a profundidade máxima de 3 (max_depth=3)\n"
      ]
    },
    {
      "cell_type": "code",
      "execution_count": 37,
      "metadata": {
        "allow_embed": false,
        "cell_id": "2ea96b223cc5446982b47c5075674060",
        "deepnote_cell_height": 304.6875,
        "deepnote_cell_type": "code",
        "deepnote_to_be_reexecuted": false,
        "execution_millis": 9,
        "execution_start": 1660613128858,
        "id": "DdmbVnWdQmvo",
        "outputId": "323d54e6-f471-4fd0-8bc8-5aec1e3374b7",
        "source_hash": "47f34ac",
        "tags": []
      },
      "outputs": [
        {
          "ename": "NameError",
          "evalue": "name 'test_df_X' is not defined",
          "output_type": "error",
          "traceback": [
            "\u001b[1;31m---------------------------------------------------------------------------\u001b[0m",
            "\u001b[1;31mNameError\u001b[0m                                 Traceback (most recent call last)",
            "Cell \u001b[1;32mIn[37], line 8\u001b[0m\n\u001b[0;32m      4\u001b[0m modeloDT \u001b[39m=\u001b[39m DecisionTreeClassifier(max_depth\u001b[39m=\u001b[39m\u001b[39m3\u001b[39m)\n\u001b[0;32m      6\u001b[0m modeloDT\u001b[39m.\u001b[39mfit(train_df_X, train_df_y)\n\u001b[1;32m----> 8\u001b[0m y_predDT \u001b[39m=\u001b[39m modeloDT\u001b[39m.\u001b[39mpredict(test_df_X)\n\u001b[0;32m     10\u001b[0m \u001b[39mfrom\u001b[39;00m \u001b[39msklearn\u001b[39;00m \u001b[39mimport\u001b[39;00m metrics\n\u001b[0;32m     12\u001b[0m \u001b[39mprint\u001b[39m(\u001b[39m\"\u001b[39m\u001b[39maccuracy score: \u001b[39m\u001b[39m{}\u001b[39;00m\u001b[39m\"\u001b[39m\u001b[39m.\u001b[39mformat(metrics\u001b[39m.\u001b[39maccuracy_score(test_df_y, y_predDT)\u001b[39m.\u001b[39mround(\u001b[39m8\u001b[39m)))\n",
            "\u001b[1;31mNameError\u001b[0m: name 'test_df_X' is not defined"
          ]
        }
      ],
      "source": [
        "#gabarito questão 13\n",
        "from sklearn.tree import DecisionTreeClassifier\n",
        "\n",
        "modeloDT = DecisionTreeClassifier(max_depth=3)\n",
        "\n",
        "modeloDT.fit(train_df_X, train_df_y)\n",
        "\n",
        "y_predDT = modeloDT.predict(test_df_X)\n",
        "\n",
        "from sklearn import metrics\n",
        "\n",
        "print(\"accuracy score: {}\".format(metrics.accuracy_score(test_df_y, y_predDT).round(8)))"
      ]
    },
    {
      "cell_type": "markdown",
      "metadata": {
        "cell_id": "02757b465f2a4a728b9df27c3bcd1754",
        "deepnote_cell_height": 181.59375,
        "deepnote_cell_type": "markdown",
        "id": "Tjs05x3YQmvp",
        "tags": []
      },
      "source": [
        "### Visualizando a árvore de decisão\n",
        "\n",
        "Uma das vantagens das árvores de decisão é que podemos visualizar o seu resultado. Execute o código abaixo para plotarmos o resultado final e tente entender passo a passo o que está acontecendo.\n",
        "\n",
        "O método `plot_tree` presente na biblioteca do sklearn apresenta na tela o modelo que acabamos de construir. Execute os comandos abaixo e interprete o resultado"
      ]
    },
    {
      "cell_type": "code",
      "execution_count": null,
      "metadata": {
        "cell_id": "7546c7bcb6464c1d81467fe0791da1a9",
        "deepnote_cell_height": 170.78125,
        "deepnote_cell_type": "code",
        "deepnote_output_heights": [
          78.78125
        ],
        "deepnote_to_be_reexecuted": false,
        "execution_millis": 2,
        "execution_start": 1660613184746,
        "id": "6AFs5-a-Qmvp",
        "outputId": "2731ec7e-0ec1-4264-bad4-4357b5a5a73a",
        "source_hash": "dcf2aa03",
        "tags": []
      },
      "outputs": [
        {
          "data": {
            "text/plain": [
              "Index(['Age', 'SibSp', 'Fare', 'Embarked_C', 'Embarked_Q', 'Embarked_S',\n",
              "       'Embarked_nan', 'Sex_female', 'Sex_male', 'Pclass_1', 'Pclass_2',\n",
              "       'Pclass_3'],\n",
              "      dtype='object')"
            ]
          },
          "execution_count": 66,
          "metadata": {},
          "output_type": "execute_result"
        }
      ],
      "source": [
        "test_df_X.columns #visualizando as colunas usadas no teste"
      ]
    },
    {
      "cell_type": "code",
      "execution_count": 38,
      "metadata": {
        "cell_id": "a2a2856932c142d486383bb6a823fa5d",
        "deepnote_cell_height": 793,
        "deepnote_cell_type": "code",
        "deepnote_output_heights": [
          611,
          21.1875
        ],
        "deepnote_to_be_reexecuted": false,
        "execution_millis": 1106,
        "execution_start": 1660613188576,
        "id": "XPx3vc_1Qmvp",
        "outputId": "811846e4-b74d-4fb0-e282-5cb89c927840",
        "source_hash": "91580810",
        "tags": []
      },
      "outputs": [
        {
          "data": {
            "image/png": "[encoded data removed]",
            "text/plain": [
              "<Figure size 1200x1200 with 1 Axes>"
            ]
          },
          "metadata": {},
          "output_type": "display_data"
        }
      ],
      "source": [
        "from sklearn import tree\n",
        "import matplotlib.pyplot as plt\n",
        "\n",
        "plt.figure(figsize=(12,12))  # set plot size (denoted in inches)\n",
        "tree.plot_tree(modeloDT, fontsize=10)\n",
        "plt.show()"
      ]
    },
    {
      "cell_type": "markdown",
      "metadata": {
        "cell_id": "eb94d03449e140599253c6d36c7f31f8",
        "deepnote_cell_height": 234.390625,
        "deepnote_cell_type": "markdown",
        "id": "4Ys-oySMQmvp",
        "tags": []
      },
      "source": [
        "## Support Vector Machine\n",
        "\n",
        "Suppoer Vector Machine, Máquina de vetores de suporte ou simplesmente SVM é a abordagem popular de classificação baseado em um conjunto de separadores lineares, a matemática por trás é bem interessante e você pode [conhecer mais por aqui](https://towardsdatascience.com/https-medium-com-pupalerushikesh-svm-f4b42800e989). Porém, hoje, focaremos apenas na implementação.\n",
        "\n",
        "Procure pela implementação `SVC` do skelearn, que é a implementação de SVM aplicada a problemas de classificação e aplique a nossa base `Titanic`. Procure também entender os parametros `C` e `kernel` do modelo, brinque um pouco com eles e teste diferentes valores, o que você percebe no resultado?\n"
      ]
    },
    {
      "cell_type": "code",
      "execution_count": null,
      "metadata": {
        "cell_id": "ec7aefff78484c408f1ab3bd1ee9562e",
        "deepnote_cell_height": 112,
        "deepnote_cell_type": "code",
        "deepnote_to_be_reexecuted": false,
        "execution_millis": 3,
        "execution_start": 1660613364470,
        "id": "QYgt9qFhQmvq",
        "source_hash": "1f6bb0e8",
        "tags": []
      },
      "outputs": [],
      "source": [
        "#Questão 14\n",
        "#Use o SVM (SVC - modeloSVC). Para prever os valores. Troque o `Kernel` do modelo e o hiperparâmetro C.\n",
        "#Será que você consegue obter valores melhores do que os já alcançados até agora?"
      ]
    },
    {
      "cell_type": "code",
      "execution_count": null,
      "metadata": {
        "allow_embed": false,
        "cell_id": "56f70b3d1fe94b98987f96b7cc29ce21",
        "deepnote_cell_height": 348.578125,
        "deepnote_cell_type": "code",
        "deepnote_to_be_reexecuted": false,
        "execution_millis": 57,
        "execution_start": 1660614022144,
        "id": "d36Dc2jSQmvq",
        "outputId": "01c53b4f-c44a-4921-9597-8321fde4203a",
        "source_hash": "c903a16c",
        "tags": []
      },
      "outputs": [
        {
          "name": "stdout",
          "output_type": "stream",
          "text": [
            "accuracy score: 0.85167464\n",
            "/shared-libs/python3.7/py/lib/python3.7/site-packages/sklearn/utils/validation.py:993: DataConversionWarning: A column-vector y was passed when a 1d array was expected. Please change the shape of y to (n_samples, ), for example using ravel().\n",
            "  y = column_or_1d(y, warn=True)\n"
          ]
        }
      ],
      "source": [
        "#gabarito questão 14\n",
        "from sklearn.svm import SVC\n",
        "\n",
        "modeloSVC = SVC(kernel=\"rbf\", C=0.1)\n",
        "\n",
        "modeloSVC.fit(train_df_X, train_df_y)\n",
        "\n",
        "y_predSVC = modeloSVC.predict(test_df_X)\n",
        "\n",
        "from sklearn import metrics\n",
        "\n",
        "print(\"accuracy score: {}\".format(metrics.accuracy_score(test_df_y, y_predSVC).round(8)))"
      ]
    },
    {
      "cell_type": "code",
      "execution_count": null,
      "metadata": {
        "cell_id": "9313254961e649b4b36ad80add0d254e",
        "deepnote_cell_height": 97,
        "deepnote_cell_type": "code",
        "id": "cHUy94cIQmvq",
        "tags": []
      },
      "outputs": [],
      "source": [
        "#Questão 15\n",
        "#Use o Naive Bayes (modeloNB).\n",
        "#Será que você consegue obter valores melhores do que os já alcançados até agora?"
      ]
    },
    {
      "cell_type": "code",
      "execution_count": null,
      "metadata": {
        "cell_id": "d35200e35189453ab1077c20916044ab",
        "deepnote_cell_height": 348.578125,
        "deepnote_cell_type": "code",
        "deepnote_to_be_reexecuted": false,
        "execution_millis": 3,
        "execution_start": 1660614106957,
        "id": "RyAn3RuuQmvq",
        "outputId": "5e755852-5057-409f-8218-01b172d91b9c",
        "source_hash": "a7bc71a0",
        "tags": []
      },
      "outputs": [
        {
          "name": "stdout",
          "output_type": "stream",
          "text": [
            "accuracy score: 0.74880383\n",
            "/shared-libs/python3.7/py/lib/python3.7/site-packages/sklearn/utils/validation.py:993: DataConversionWarning: A column-vector y was passed when a 1d array was expected. Please change the shape of y to (n_samples, ), for example using ravel().\n",
            "  y = column_or_1d(y, warn=True)\n"
          ]
        }
      ],
      "source": [
        "#gabarito questão 15\n",
        "from sklearn.naive_bayes import GaussianNB\n",
        "\n",
        "modeloNB = GaussianNB()\n",
        "\n",
        "modeloNB.fit(train_df_X, train_df_y)\n",
        "\n",
        "y_predNB = modeloNB.predict(test_df_X)\n",
        "\n",
        "from sklearn import metrics\n",
        "\n",
        "print(\"accuracy score: {}\".format(metrics.accuracy_score(test_df_y, y_predNB).round(8)))"
      ]
    },
    {
      "cell_type": "code",
      "execution_count": null,
      "metadata": {
        "cell_id": "e1e8d845426744448957095b29e1142b",
        "deepnote_cell_height": 115,
        "deepnote_cell_type": "code",
        "id": "-ALaH6tLQmvq",
        "tags": []
      },
      "outputs": [],
      "source": [
        "#Questão 16\n",
        "#O bom e conhecido KNN! Use o KNN (modeloSVC). Para prever os valores.\n",
        "#Será que você consegue obter valores melhores do que os já alcançados até agora?\n",
        "#se você usar n_neighbors=2, o resultado melhora ou piora? E se for n_neighbors=10?"
      ]
    },
    {
      "cell_type": "code",
      "execution_count": null,
      "metadata": {
        "cell_id": "08d4defe49264c1ca6cde79dd26dfba1",
        "deepnote_cell_height": 348.578125,
        "deepnote_cell_type": "code",
        "deepnote_to_be_reexecuted": false,
        "execution_millis": 759,
        "execution_start": 1660614176830,
        "id": "w0q8wNl5Qmvr",
        "outputId": "7ad8403e-720c-4936-e313-6bb700dc8030",
        "source_hash": "aceec0b0",
        "tags": []
      },
      "outputs": [
        {
          "name": "stdout",
          "output_type": "stream",
          "text": [
            "accuracy score: 0.92822967\n",
            "/shared-libs/python3.7/py/lib/python3.7/site-packages/sklearn/neighbors/_classification.py:198: DataConversionWarning: A column-vector y was passed when a 1d array was expected. Please change the shape of y to (n_samples,), for example using ravel().\n",
            "  return self._fit(X, y)\n"
          ]
        }
      ],
      "source": [
        "#gabarito questão 16\n",
        "from sklearn.neighbors import KNeighborsClassifier\n",
        "\n",
        "modeloKNN = KNeighborsClassifier(n_neighbors=10)\n",
        "\n",
        "modeloKNN.fit(train_df_X, train_df_y)\n",
        "\n",
        "y_predKNN = modeloKNN.predict(test_df_X)\n",
        "\n",
        "from sklearn import metrics\n",
        "\n",
        "print(\"accuracy score: {}\".format(metrics.accuracy_score(test_df_y, y_predKNN).round(8)))"
      ]
    },
    {
      "cell_type": "code",
      "execution_count": null,
      "metadata": {
        "cell_id": "ab38f67e5ffd4327ac083c3c5fe2037a",
        "deepnote_cell_height": 115,
        "deepnote_cell_type": "code",
        "id": "hAFxVxhEQmvr",
        "tags": []
      },
      "outputs": [],
      "source": [
        "#Questão 17\n",
        "#Rode o otimizador SGD\n",
        "#se você rodar o modelo mais de uma vez, sem alterar nada, o resultado final muda?\n",
        "#Como saber qual o melhor resultado podemos obter com esse modelo?"
      ]
    },
    {
      "cell_type": "code",
      "execution_count": null,
      "metadata": {
        "cell_id": "dab27da77bcb4bb39fef4f0c62fc458f",
        "deepnote_cell_height": 348.578125,
        "deepnote_cell_type": "code",
        "deepnote_to_be_reexecuted": false,
        "execution_millis": 534,
        "execution_start": 1660613846358,
        "id": "JqnWSrFDQmvr",
        "outputId": "2be9982d-f33d-4cd0-ea0f-91971f8891dc",
        "source_hash": "310eef85",
        "tags": []
      },
      "outputs": [
        {
          "name": "stdout",
          "output_type": "stream",
          "text": [
            "accuracy score: 0.84210526\n",
            "/shared-libs/python3.7/py/lib/python3.7/site-packages/sklearn/utils/validation.py:993: DataConversionWarning: A column-vector y was passed when a 1d array was expected. Please change the shape of y to (n_samples, ), for example using ravel().\n",
            "  y = column_or_1d(y, warn=True)\n"
          ]
        }
      ],
      "source": [
        "#gabarito questão 17\n",
        "from sklearn.linear_model import SGDClassifier\n",
        "\n",
        "modeloSGD = SGDClassifier()\n",
        "\n",
        "modeloSGD.fit(train_df_X,train_df_y)\n",
        "\n",
        "y_predSGD = modeloSGD.predict(test_df_X)\n",
        "\n",
        "from sklearn import metrics\n",
        "\n",
        "print(\"accuracy score: {}\".format(metrics.accuracy_score(test_df_y, y_predSGD).round(8)))"
      ]
    },
    {
      "cell_type": "code",
      "execution_count": null,
      "metadata": {
        "cell_id": "e8d6a9a46af04e308a99118bc3f4bd62",
        "deepnote_cell_height": 133,
        "deepnote_cell_type": "code",
        "id": "PWG489v8Qmvr",
        "tags": []
      },
      "outputs": [],
      "source": [
        "#Questão 18\n",
        "#Rode o otimizador RandomForest\n",
        "#se você rodar o modelo mais de uma vez, sem alterar nada, o resultado final muda?\n",
        "#Como saber qual o melhor resultado podemos obter com esse modelo?\n",
        "#se alterarmos o valor de n_estimators e min_samples_leaf, os resultados mudam?"
      ]
    },
    {
      "cell_type": "code",
      "execution_count": null,
      "metadata": {
        "cell_id": "0ed48fa7a6eb43bc958b930ab28245b1",
        "deepnote_cell_height": 348.578125,
        "deepnote_cell_type": "code",
        "deepnote_to_be_reexecuted": false,
        "execution_millis": 1000,
        "execution_start": 1660614305797,
        "id": "jrDkfyl6Qmvr",
        "outputId": "d8b1c077-e6e1-4790-ffa3-622c7d9dc00e",
        "source_hash": "110861ca",
        "tags": []
      },
      "outputs": [
        {
          "name": "stderr",
          "output_type": "stream",
          "text": [
            "/shared-libs/python3.7/py-core/lib/python3.7/site-packages/ipykernel_launcher.py:5: DataConversionWarning: A column-vector y was passed when a 1d array was expected. Please change the shape of y to (n_samples,), for example using ravel().\n",
            "  \"\"\"\n",
            "accuracy score: 0.92105263\n"
          ]
        }
      ],
      "source": [
        "#gabarito questão 18\n",
        "from sklearn.ensemble import RandomForestClassifier\n",
        "\n",
        "modeloRF = RandomForestClassifier(n_estimators=100, min_samples_leaf=2)\n",
        "\n",
        "modeloRF.fit(train_df_X,train_df_y)\n",
        "\n",
        "y_predRF = modeloRF.predict(test_df_X)\n",
        "\n",
        "from sklearn import metrics\n",
        "\n",
        "print(\"accuracy score: {}\".format(metrics.accuracy_score(test_df_y, y_predRF).round(8)))"
      ]
    },
    {
      "cell_type": "code",
      "execution_count": null,
      "metadata": {
        "cell_id": "3ed997739184455c9f4fddee7408219a",
        "deepnote_cell_height": 79,
        "deepnote_cell_type": "code",
        "deepnote_to_be_reexecuted": false,
        "execution_millis": 1,
        "execution_start": 1660614386834,
        "id": "cBIx6Jr2Qmvs",
        "source_hash": "36f5f8e",
        "tags": []
      },
      "outputs": [],
      "source": [
        "#Questão 19\n",
        "#Qual modelo entregou a maior acurácia?"
      ]
    },
    {
      "cell_type": "markdown",
      "metadata": {
        "created_in_deepnote_cell": true,
        "deepnote_cell_type": "markdown",
        "id": "h3BawM2gQmvs",
        "tags": []
      },
      "source": [
        "<a style='text-decoration:none;line-height:16px;display:flex;color:#5B5B62;padding:10px;justify-content:end;' href='https://deepnote.com?utm_source=created-in-deepnote-cell&projectId=147d331f-4ce3-433e-88ff-abf8178bfd2f' target=\"_blank\">\n",
        "<img alt='Created in deepnote.com' style='display:inline;max-height:16px;margin:0px;margin-right:7.5px;' src='data:image/svg+xml;base64,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' > </img>\n",
        "Created in <span style='font-weight:600;margin-left:4px;'>Deepnote</span></a>"
      ]
    }
  ],
  "metadata": {
    "colab": {
      "provenance": []
    },
    "deepnote": {
      "is_reactive": false
    },
    "deepnote_execution_queue": [],
    "deepnote_notebook_id": "8f2052cf-165b-464f-84eb-681c6be3a2dd",
    "kernelspec": {
      "display_name": "Python 3",
      "language": "python",
      "name": "python3"
    },
    "language_info": {
      "codemirror_mode": {
        "name": "ipython",
        "version": 3
      },
      "file_extension": ".py",
      "mimetype": "text/x-python",
      "name": "python",
      "nbconvert_exporter": "python",
      "pygments_lexer": "ipython3",
      "version": "3.8.17"
    },
    "orig_nbformat": 2
  },
  "nbformat": 4,
  "nbformat_minor": 0
}
