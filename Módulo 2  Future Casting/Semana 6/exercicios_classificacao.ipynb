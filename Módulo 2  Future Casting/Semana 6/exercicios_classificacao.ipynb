{
  "cells": [
    {
      "cell_type": "markdown",
      "source": [
        "## Um problema maior, do tamanho de um Návio!\n",
        "\n",
        "Que tal pegarmos uma base de dados da vida real e trabalhar um pouco mais com algoritmos de classificação?\n",
        "\n",
        "Dessa vez, vamos usar um base classicamente usada para aprender aprendizado de maquina: A `Titanic`. Essa base descreve, para cada passageiro no histórico návio, se ele sobreviveu ou não aquela tragédia. Dentro das nossas `features` temos informações numéricas como idade e número de parentes a bordo, catégoricas como sexo e portão de embarque e até colunas que descrevem em qual cabine aquele passageiro estava dormindo!\n",
        "\n",
        "### Questão 1\n",
        "\n",
        "Nossa missão aqui é predizer quando um determinado passageiro sobreviveu ou não, sendo `1` sobreviveu e `0` não sobreviveu. Mas antes vamos tomar um tempo para estudar a base! Vamos usa-la bastante nesse exercício então precisamos nos familiarizar.\n",
        "\n",
        "Carregue a base `dataset/titanic_test.csv` e `dataset/titanic_train.csv`. Repare que como nossos dados estão separados em arquivos não iremos precisar usar o train_test_split!\n",
        "\n",
        "Através do arquivo de treino (`dataset/titanic_train.csv`) Visualize graficamente cada coluna, suas distribuições, sua cardinalidade, etc...\n",
        "\n",
        "Talvez você irá precisar de um catálogo explicando o que cada coluna que pode ser [encontrado aqui](https://www.kaggle.com/c/titanic/data)."
      ],
      "metadata": {
        "tags": [],
        "cell_id": "00008-f574aa0d-ee2b-4876-822e-057ae103de00",
        "deepnote_cell_type": "markdown",
        "deepnote_cell_height": 472.78125,
        "id": "QHjt9VB3QmvE"
      }
    },
    {
      "cell_type": "code",
      "source": [
        "import numpy as np\n",
        "import pandas as pd\n",
        "import matplotlib.pyplot as plt\n",
        "import seaborn as sns\n",
        "\n"
      ],
      "metadata": {
        "tags": [],
        "cell_id": "00001-5923ce1f-5d34-4ce9-98c1-ebdc3ee7cba9",
        "deepnote_to_be_reexecuted": false,
        "source_hash": "cd1615fd",
        "execution_start": 1660611154722,
        "execution_millis": 1,
        "deepnote_cell_type": "code",
        "deepnote_cell_height": 166,
        "id": "OB91ZgDWQmvK"
      },
      "execution_count": null,
      "outputs": []
    },
    {
      "cell_type": "code",
      "source": [
        "#Questão 1\n",
        "#Escreva aqui o comando para importar os dados do arquivo titanic_train.csv para o seu dataframe usando pandas\n",
        "#lembra como ler(read em inglês) o arquivo?\n"
      ],
      "metadata": {
        "cell_id": "e20c77be71174b82803c8507a244100d",
        "tags": [],
        "deepnote_cell_type": "code",
        "deepnote_cell_height": 120,
        "id": "XavmQWabQmvM"
      },
      "outputs": [],
      "execution_count": null
    },
    {
      "cell_type": "code",
      "source": [
        "#gabarito questão 1\n",
        "train_df = pd.read_csv('dataset/titanic_train.csv')"
      ],
      "metadata": {
        "cell_id": "ab600bdaaec04cb292d9a24542464e40",
        "tags": [],
        "deepnote_to_be_reexecuted": false,
        "source_hash": "f63fd299",
        "execution_start": 1660611158850,
        "execution_millis": 9,
        "deepnote_cell_type": "code",
        "deepnote_cell_height": 94,
        "id": "p-WJolbEQmvM"
      },
      "outputs": [],
      "execution_count": null
    },
    {
      "cell_type": "code",
      "source": [
        "# Questão 2\n",
        "# Agora de uma olhada nos dados para se familizarizar com as colunas númericas. Dica: descreva os dados? (describe)\n"
      ],
      "metadata": {
        "tags": [],
        "cell_id": "00002-e11e2635-8e4f-41b9-8d02-5e295359db62",
        "deepnote_to_be_reexecuted": false,
        "source_hash": "b9583d9b",
        "execution_start": 1660611206069,
        "execution_millis": 1,
        "deepnote_cell_type": "code",
        "deepnote_cell_height": 117,
        "id": "0DxuqyklQmvN"
      },
      "execution_count": null,
      "outputs": []
    },
    {
      "cell_type": "code",
      "source": [
        "# gabarito questão 2\n",
        "train_df.describe()"
      ],
      "metadata": {
        "cell_id": "3f5f0993d21e4e11813bf17dcabc4e01",
        "tags": [],
        "deepnote_to_be_reexecuted": false,
        "source_hash": "422b964a",
        "execution_start": 1660611221870,
        "execution_millis": 44,
        "deepnote_cell_type": "code",
        "deepnote_cell_height": 531,
        "id": "ofoj59TGQmvN",
        "outputId": "2babfd4f-ff76-4589-981a-eebe01341fa6"
      },
      "outputs": [
        {
          "output_type": "execute_result",
          "execution_count": 37,
          "data": {
            "application/vnd.deepnote.dataframe.v3+json": {
              "column_count": 7,
              "row_count": 8,
              "columns": [
                {
                  "name": "PassengerId",
                  "dtype": "float64",
                  "stats": {
                    "unique_count": 6,
                    "nan_count": 0,
                    "min": "1.0",
                    "max": "891.0",
                    "histogram": [
                      {
                        "bin_start": 1,
                        "bin_end": 90,
                        "count": 1
                      },
                      {
                        "bin_start": 90,
                        "bin_end": 179,
                        "count": 0
                      },
                      {
                        "bin_start": 179,
                        "bin_end": 268,
                        "count": 2
                      },
                      {
                        "bin_start": 268,
                        "bin_end": 357,
                        "count": 0
                      },
                      {
                        "bin_start": 357,
                        "bin_end": 446,
                        "count": 0
                      },
                      {
                        "bin_start": 446,
                        "bin_end": 535,
                        "count": 2
                      },
                      {
                        "bin_start": 535,
                        "bin_end": 624,
                        "count": 0
                      },
                      {
                        "bin_start": 624,
                        "bin_end": 713,
                        "count": 1
                      },
                      {
                        "bin_start": 713,
                        "bin_end": 802,
                        "count": 0
                      },
                      {
                        "bin_start": 802,
                        "bin_end": 891,
                        "count": 2
                      }
                    ]
                  }
                },
                {
                  "name": "Survived",
                  "dtype": "float64",
                  "stats": {
                    "unique_count": 5,
                    "nan_count": 0,
                    "min": "0.0",
                    "max": "891.0",
                    "histogram": [
                      {
                        "bin_start": 0,
                        "bin_end": 89.1,
                        "count": 7
                      },
                      {
                        "bin_start": 89.1,
                        "bin_end": 178.2,
                        "count": 0
                      },
                      {
                        "bin_start": 178.2,
                        "bin_end": 267.29999999999995,
                        "count": 0
                      },
                      {
                        "bin_start": 267.29999999999995,
                        "bin_end": 356.4,
                        "count": 0
                      },
                      {
                        "bin_start": 356.4,
                        "bin_end": 445.5,
                        "count": 0
                      },
                      {
                        "bin_start": 445.5,
                        "bin_end": 534.5999999999999,
                        "count": 0
                      },
                      {
                        "bin_start": 534.5999999999999,
                        "bin_end": 623.6999999999999,
                        "count": 0
                      },
                      {
                        "bin_start": 623.6999999999999,
                        "bin_end": 712.8,
                        "count": 0
                      },
                      {
                        "bin_start": 712.8,
                        "bin_end": 801.9,
                        "count": 0
                      },
                      {
                        "bin_start": 801.9,
                        "bin_end": 891,
                        "count": 1
                      }
                    ]
                  }
                },
                {
                  "name": "Pclass",
                  "dtype": "float64",
                  "stats": {
                    "unique_count": 6,
                    "nan_count": 0,
                    "min": "0.836071240977049",
                    "max": "891.0",
                    "histogram": [
                      {
                        "bin_start": 0.836071240977049,
                        "bin_end": 89.85246411687935,
                        "count": 7
                      },
                      {
                        "bin_start": 89.85246411687935,
                        "bin_end": 178.86885699278164,
                        "count": 0
                      },
                      {
                        "bin_start": 178.86885699278164,
                        "bin_end": 267.88524986868396,
                        "count": 0
                      },
                      {
                        "bin_start": 267.88524986868396,
                        "bin_end": 356.90164274458624,
                        "count": 0
                      },
                      {
                        "bin_start": 356.90164274458624,
                        "bin_end": 445.9180356204885,
                        "count": 0
                      },
                      {
                        "bin_start": 445.9180356204885,
                        "bin_end": 534.9344284963909,
                        "count": 0
                      },
                      {
                        "bin_start": 534.9344284963909,
                        "bin_end": 623.9508213722931,
                        "count": 0
                      },
                      {
                        "bin_start": 623.9508213722931,
                        "bin_end": 712.9672142481954,
                        "count": 0
                      },
                      {
                        "bin_start": 712.9672142481954,
                        "bin_end": 801.9836071240977,
                        "count": 0
                      },
                      {
                        "bin_start": 801.9836071240977,
                        "bin_end": 891,
                        "count": 1
                      }
                    ]
                  }
                },
                {
                  "name": "Age",
                  "dtype": "float64",
                  "stats": {
                    "unique_count": 8,
                    "nan_count": 0,
                    "min": "0.42",
                    "max": "714.0",
                    "histogram": [
                      {
                        "bin_start": 0.42,
                        "bin_end": 71.778,
                        "count": 6
                      },
                      {
                        "bin_start": 71.778,
                        "bin_end": 143.136,
                        "count": 1
                      },
                      {
                        "bin_start": 143.136,
                        "bin_end": 214.494,
                        "count": 0
                      },
                      {
                        "bin_start": 214.494,
                        "bin_end": 285.85200000000003,
                        "count": 0
                      },
                      {
                        "bin_start": 285.85200000000003,
                        "bin_end": 357.21000000000004,
                        "count": 0
                      },
                      {
                        "bin_start": 357.21000000000004,
                        "bin_end": 428.56800000000004,
                        "count": 0
                      },
                      {
                        "bin_start": 428.56800000000004,
                        "bin_end": 499.92600000000004,
                        "count": 0
                      },
                      {
                        "bin_start": 499.92600000000004,
                        "bin_end": 571.284,
                        "count": 0
                      },
                      {
                        "bin_start": 571.284,
                        "bin_end": 642.6419999999999,
                        "count": 0
                      },
                      {
                        "bin_start": 642.6419999999999,
                        "bin_end": 714,
                        "count": 1
                      }
                    ]
                  }
                },
                {
                  "name": "SibSp",
                  "dtype": "float64",
                  "stats": {
                    "unique_count": 6,
                    "nan_count": 0,
                    "min": "0.0",
                    "max": "891.0",
                    "histogram": [
                      {
                        "bin_start": 0,
                        "bin_end": 89.1,
                        "count": 7
                      },
                      {
                        "bin_start": 89.1,
                        "bin_end": 178.2,
                        "count": 0
                      },
                      {
                        "bin_start": 178.2,
                        "bin_end": 267.29999999999995,
                        "count": 0
                      },
                      {
                        "bin_start": 267.29999999999995,
                        "bin_end": 356.4,
                        "count": 0
                      },
                      {
                        "bin_start": 356.4,
                        "bin_end": 445.5,
                        "count": 0
                      },
                      {
                        "bin_start": 445.5,
                        "bin_end": 534.5999999999999,
                        "count": 0
                      },
                      {
                        "bin_start": 534.5999999999999,
                        "bin_end": 623.6999999999999,
                        "count": 0
                      },
                      {
                        "bin_start": 623.6999999999999,
                        "bin_end": 712.8,
                        "count": 0
                      },
                      {
                        "bin_start": 712.8,
                        "bin_end": 801.9,
                        "count": 0
                      },
                      {
                        "bin_start": 801.9,
                        "bin_end": 891,
                        "count": 1
                      }
                    ]
                  }
                },
                {
                  "name": "Parch",
                  "dtype": "float64",
                  "stats": {
                    "unique_count": 5,
                    "nan_count": 0,
                    "min": "0.0",
                    "max": "891.0",
                    "histogram": [
                      {
                        "bin_start": 0,
                        "bin_end": 89.1,
                        "count": 7
                      },
                      {
                        "bin_start": 89.1,
                        "bin_end": 178.2,
                        "count": 0
                      },
                      {
                        "bin_start": 178.2,
                        "bin_end": 267.29999999999995,
                        "count": 0
                      },
                      {
                        "bin_start": 267.29999999999995,
                        "bin_end": 356.4,
                        "count": 0
                      },
                      {
                        "bin_start": 356.4,
                        "bin_end": 445.5,
                        "count": 0
                      },
                      {
                        "bin_start": 445.5,
                        "bin_end": 534.5999999999999,
                        "count": 0
                      },
                      {
                        "bin_start": 534.5999999999999,
                        "bin_end": 623.6999999999999,
                        "count": 0
                      },
                      {
                        "bin_start": 623.6999999999999,
                        "bin_end": 712.8,
                        "count": 0
                      },
                      {
                        "bin_start": 712.8,
                        "bin_end": 801.9,
                        "count": 0
                      },
                      {
                        "bin_start": 801.9,
                        "bin_end": 891,
                        "count": 1
                      }
                    ]
                  }
                },
                {
                  "name": "Fare",
                  "dtype": "float64",
                  "stats": {
                    "unique_count": 8,
                    "nan_count": 0,
                    "min": "0.0",
                    "max": "891.0",
                    "histogram": [
                      {
                        "bin_start": 0,
                        "bin_end": 89.1,
                        "count": 6
                      },
                      {
                        "bin_start": 89.1,
                        "bin_end": 178.2,
                        "count": 0
                      },
                      {
                        "bin_start": 178.2,
                        "bin_end": 267.29999999999995,
                        "count": 0
                      },
                      {
                        "bin_start": 267.29999999999995,
                        "bin_end": 356.4,
                        "count": 0
                      },
                      {
                        "bin_start": 356.4,
                        "bin_end": 445.5,
                        "count": 0
                      },
                      {
                        "bin_start": 445.5,
                        "bin_end": 534.5999999999999,
                        "count": 1
                      },
                      {
                        "bin_start": 534.5999999999999,
                        "bin_end": 623.6999999999999,
                        "count": 0
                      },
                      {
                        "bin_start": 623.6999999999999,
                        "bin_end": 712.8,
                        "count": 0
                      },
                      {
                        "bin_start": 712.8,
                        "bin_end": 801.9,
                        "count": 0
                      },
                      {
                        "bin_start": 801.9,
                        "bin_end": 891,
                        "count": 1
                      }
                    ]
                  }
                },
                {
                  "name": "_deepnote_index_column",
                  "dtype": "object"
                }
              ],
              "rows": [
                {
                  "PassengerId": 891,
                  "Survived": 891,
                  "Pclass": 891,
                  "Age": 714,
                  "SibSp": 891,
                  "Parch": 891,
                  "Fare": 891,
                  "_deepnote_index_column": "count"
                },
                {
                  "PassengerId": 446,
                  "Survived": 0.3838383838383838,
                  "Pclass": 2.308641975308642,
                  "Age": 29.69911764705882,
                  "SibSp": 0.5230078563411896,
                  "Parch": 0.38159371492704824,
                  "Fare": 32.204207968574636,
                  "_deepnote_index_column": "mean"
                },
                {
                  "PassengerId": 257.3538420152301,
                  "Survived": 0.4865924542648575,
                  "Pclass": 0.836071240977049,
                  "Age": 14.526497332334042,
                  "SibSp": 1.1027434322934317,
                  "Parch": 0.8060572211299483,
                  "Fare": 49.6934285971809,
                  "_deepnote_index_column": "std"
                },
                {
                  "PassengerId": 1,
                  "Survived": 0,
                  "Pclass": 1,
                  "Age": 0.42,
                  "SibSp": 0,
                  "Parch": 0,
                  "Fare": 0,
                  "_deepnote_index_column": "min"
                },
                {
                  "PassengerId": 223.5,
                  "Survived": 0,
                  "Pclass": 2,
                  "Age": 20.125,
                  "SibSp": 0,
                  "Parch": 0,
                  "Fare": 7.9104,
                  "_deepnote_index_column": "25%"
                },
                {
                  "PassengerId": 446,
                  "Survived": 0,
                  "Pclass": 3,
                  "Age": 28,
                  "SibSp": 0,
                  "Parch": 0,
                  "Fare": 14.4542,
                  "_deepnote_index_column": "50%"
                },
                {
                  "PassengerId": 668.5,
                  "Survived": 1,
                  "Pclass": 3,
                  "Age": 38,
                  "SibSp": 1,
                  "Parch": 0,
                  "Fare": 31,
                  "_deepnote_index_column": "75%"
                },
                {
                  "PassengerId": 891,
                  "Survived": 1,
                  "Pclass": 3,
                  "Age": 80,
                  "SibSp": 8,
                  "Parch": 6,
                  "Fare": 512.3292,
                  "_deepnote_index_column": "max"
                }
              ]
            },
            "text/plain": "       PassengerId    Survived      Pclass         Age       SibSp  \\\ncount   891.000000  891.000000  891.000000  714.000000  891.000000   \nmean    446.000000    0.383838    2.308642   29.699118    0.523008   \nstd     257.353842    0.486592    0.836071   14.526497    1.102743   \nmin       1.000000    0.000000    1.000000    0.420000    0.000000   \n25%     223.500000    0.000000    2.000000   20.125000    0.000000   \n50%     446.000000    0.000000    3.000000   28.000000    0.000000   \n75%     668.500000    1.000000    3.000000   38.000000    1.000000   \nmax     891.000000    1.000000    3.000000   80.000000    8.000000   \n\n            Parch        Fare  \ncount  891.000000  891.000000  \nmean     0.381594   32.204208  \nstd      0.806057   49.693429  \nmin      0.000000    0.000000  \n25%      0.000000    7.910400  \n50%      0.000000   14.454200  \n75%      0.000000   31.000000  \nmax      6.000000  512.329200  ",
            "text/html": "<div>\n<style scoped>\n    .dataframe tbody tr th:only-of-type {\n        vertical-align: middle;\n    }\n\n    .dataframe tbody tr th {\n        vertical-align: top;\n    }\n\n    .dataframe thead th {\n        text-align: right;\n    }\n</style>\n<table border=\"1\" class=\"dataframe\">\n  <thead>\n    <tr style=\"text-align: right;\">\n      <th></th>\n      <th>PassengerId</th>\n      <th>Survived</th>\n      <th>Pclass</th>\n      <th>Age</th>\n      <th>SibSp</th>\n      <th>Parch</th>\n      <th>Fare</th>\n    </tr>\n  </thead>\n  <tbody>\n    <tr>\n      <th>count</th>\n      <td>891.000000</td>\n      <td>891.000000</td>\n      <td>891.000000</td>\n      <td>714.000000</td>\n      <td>891.000000</td>\n      <td>891.000000</td>\n      <td>891.000000</td>\n    </tr>\n    <tr>\n      <th>mean</th>\n      <td>446.000000</td>\n      <td>0.383838</td>\n      <td>2.308642</td>\n      <td>29.699118</td>\n      <td>0.523008</td>\n      <td>0.381594</td>\n      <td>32.204208</td>\n    </tr>\n    <tr>\n      <th>std</th>\n      <td>257.353842</td>\n      <td>0.486592</td>\n      <td>0.836071</td>\n      <td>14.526497</td>\n      <td>1.102743</td>\n      <td>0.806057</td>\n      <td>49.693429</td>\n    </tr>\n    <tr>\n      <th>min</th>\n      <td>1.000000</td>\n      <td>0.000000</td>\n      <td>1.000000</td>\n      <td>0.420000</td>\n      <td>0.000000</td>\n      <td>0.000000</td>\n      <td>0.000000</td>\n    </tr>\n    <tr>\n      <th>25%</th>\n      <td>223.500000</td>\n      <td>0.000000</td>\n      <td>2.000000</td>\n      <td>20.125000</td>\n      <td>0.000000</td>\n      <td>0.000000</td>\n      <td>7.910400</td>\n    </tr>\n    <tr>\n      <th>50%</th>\n      <td>446.000000</td>\n      <td>0.000000</td>\n      <td>3.000000</td>\n      <td>28.000000</td>\n      <td>0.000000</td>\n      <td>0.000000</td>\n      <td>14.454200</td>\n    </tr>\n    <tr>\n      <th>75%</th>\n      <td>668.500000</td>\n      <td>1.000000</td>\n      <td>3.000000</td>\n      <td>38.000000</td>\n      <td>1.000000</td>\n      <td>0.000000</td>\n      <td>31.000000</td>\n    </tr>\n    <tr>\n      <th>max</th>\n      <td>891.000000</td>\n      <td>1.000000</td>\n      <td>3.000000</td>\n      <td>80.000000</td>\n      <td>8.000000</td>\n      <td>6.000000</td>\n      <td>512.329200</td>\n    </tr>\n  </tbody>\n</table>\n</div>"
          },
          "metadata": {}
        }
      ],
      "execution_count": null
    },
    {
      "cell_type": "code",
      "source": [
        "## Questão 3\n",
        "#sera que temos dados nulos? se sim, quantos? (isnull com um sum)\n"
      ],
      "metadata": {
        "tags": [],
        "cell_id": "00003-a454844b-a9ec-49e0-bcca-6c4c93cb8479",
        "deepnote_to_be_reexecuted": false,
        "source_hash": "f4f9f7ac",
        "execution_start": 1660611292617,
        "execution_millis": 2,
        "deepnote_cell_type": "code",
        "deepnote_cell_height": 112,
        "id": "ZJFbyJfMQmvO"
      },
      "execution_count": null,
      "outputs": []
    },
    {
      "cell_type": "code",
      "source": [
        "# gabarito questão 3\n",
        "print(train_df.isnull().sum())"
      ],
      "metadata": {
        "tags": [],
        "cell_id": "15566944788947919ecd312d2c3bec59",
        "deepnote_to_be_reexecuted": false,
        "source_hash": "874b7df8",
        "allow_embed": false,
        "deepnote_cell_type": "code",
        "deepnote_cell_height": 79,
        "id": "JKAby2UtQmvP"
      },
      "outputs": [],
      "execution_count": null
    },
    {
      "cell_type": "code",
      "source": [
        "#Questão 4\n",
        "#plot um gráfico contando (count) a quantidade de pessoas que sobreviveram. Essa informação está na coluna `Survived`\n",
        "#dica1 plt.figure(figsize=(8,6))\n"
      ],
      "metadata": {
        "tags": [],
        "cell_id": "00004-0ffcb16c-8ff7-4753-944a-4737d230549a",
        "deepnote_to_be_reexecuted": false,
        "source_hash": "be2a2917",
        "execution_start": 1660611471895,
        "execution_millis": 1,
        "deepnote_cell_type": "code",
        "deepnote_cell_height": 135,
        "deepnote_output_heights": [
          21.1875,
          373
        ],
        "id": "c5fvFh_5QmvQ"
      },
      "execution_count": null,
      "outputs": []
    },
    {
      "cell_type": "code",
      "source": [
        "#gabarito questão 4\n",
        "plt.figure(figsize=(8,6))\n",
        "sns.countplot(x='Survived', data= train_df)"
      ],
      "metadata": {
        "tags": [],
        "cell_id": "3b75d96c838c49e58c81f4332f6e057d",
        "deepnote_to_be_reexecuted": false,
        "source_hash": "f888d1bd",
        "allow_embed": false,
        "execution_start": 1660611487674,
        "execution_millis": 218,
        "deepnote_cell_type": "code",
        "deepnote_cell_height": 553.1875,
        "deepnote_output_heights": [
          21.1875,
          373
        ],
        "id": "dAhNdfU-QmvR",
        "outputId": "2fb4bc69-952c-4aeb-9ad1-bce74ffbcf3e"
      },
      "outputs": [
        {
          "output_type": "execute_result",
          "execution_count": 41,
          "data": {
            "text/plain": "<AxesSubplot:xlabel='Survived', ylabel='count'>"
          },
          "metadata": {}
        },
        {
          "data": {
            "text/plain": "<Figure size 576x432 with 1 Axes>",
            "image/png": "[encoded data removed]"
          },
          "metadata": {
            "needs_background": "light",
            "image/png": {
              "width": 500,
              "height": 371
            }
          },
          "output_type": "display_data"
        }
      ],
      "execution_count": null
    },
    {
      "cell_type": "code",
      "source": [
        "#Questão 4\n",
        "#plot um gráfico contando (count) a quantidade de pessoas por gênero. Essa informação está na coluna `Sex`\n",
        "#dica1 plt.figure(figsize=(8,6))\n",
        "\n",
        "sns.countplot(x='Sex', data= train_df)"
      ],
      "metadata": {
        "tags": [],
        "cell_id": "00005-994c7ee6-7475-4f9a-ab5b-0b1afa240c8b",
        "deepnote_to_be_reexecuted": false,
        "source_hash": "ef09f368",
        "execution_start": 1660611528149,
        "execution_millis": 209,
        "deepnote_cell_type": "code",
        "deepnote_cell_height": 487.1875,
        "deepnote_output_heights": [
          21.1875,
          266
        ],
        "id": "14XP7rFJQmvR",
        "outputId": "0646f16d-35eb-4d2f-c680-d87672d6bb91"
      },
      "execution_count": null,
      "outputs": [
        {
          "output_type": "execute_result",
          "execution_count": 42,
          "data": {
            "text/plain": "<AxesSubplot:xlabel='Sex', ylabel='count'>"
          },
          "metadata": {}
        },
        {
          "data": {
            "text/plain": "<Figure size 432x288 with 1 Axes>",
            "image/png": "[encoded data removed]"
          },
          "metadata": {
            "needs_background": "light",
            "image/png": {
              "width": 389,
              "height": 264
            }
          },
          "output_type": "display_data"
        }
      ]
    },
    {
      "cell_type": "code",
      "source": [
        "# gabarito questão 5\n",
        "plt.figure(figsize=(8,6))\n",
        "sns.countplot(x='Sex', data= train_df)"
      ],
      "metadata": {
        "tags": [],
        "cell_id": "9cfd7c715bb245c4b9a598a977cd5be2",
        "deepnote_to_be_reexecuted": false,
        "source_hash": "b9570507",
        "allow_embed": false,
        "deepnote_cell_type": "code",
        "deepnote_cell_height": 97,
        "id": "AZrKlf5vQmvS"
      },
      "outputs": [],
      "execution_count": null
    },
    {
      "cell_type": "code",
      "source": [
        "#Questão 6\n",
        "#plot um gráfico contando (count) a quantidade de pessoas que sobreviveram por sexo. Essas informações estão nas colunas `Survived` e `Sex`\n",
        "#dica1 plt.figure(figsize=(8,6))\n",
        "#dica 2 x='Survived', hue='Sex'\n"
      ],
      "metadata": {
        "tags": [],
        "cell_id": "00006-9f32ec2a-0b88-439a-af6b-044ca2293be3",
        "deepnote_to_be_reexecuted": false,
        "source_hash": "9b283d9a",
        "execution_start": 1660611657642,
        "execution_millis": 0,
        "deepnote_cell_type": "code",
        "deepnote_cell_height": 153,
        "deepnote_output_heights": [
          21.1875,
          373
        ],
        "id": "vgGOXp2EQmvS"
      },
      "execution_count": null,
      "outputs": []
    },
    {
      "cell_type": "code",
      "source": [
        "#gabarito questão 6\n",
        "plt.figure(figsize=(8,6))\n",
        "sns.countplot(x='Survived', hue='Sex', data= train_df)"
      ],
      "metadata": {
        "tags": [],
        "cell_id": "ec36063ae3d54dec9c82c601cbf2668c",
        "deepnote_to_be_reexecuted": false,
        "source_hash": "8413cbdd",
        "allow_embed": false,
        "execution_start": 1660611668454,
        "execution_millis": 262,
        "deepnote_cell_type": "code",
        "deepnote_cell_height": 553.1875,
        "deepnote_output_heights": [
          21.1875,
          373
        ],
        "id": "Hhsf0OJ1QmvT",
        "outputId": "230c7928-5fd1-4eec-f878-4d673e491949"
      },
      "outputs": [
        {
          "output_type": "execute_result",
          "execution_count": 44,
          "data": {
            "text/plain": "<AxesSubplot:xlabel='Survived', ylabel='count'>"
          },
          "metadata": {}
        },
        {
          "data": {
            "text/plain": "<Figure size 576x432 with 1 Axes>",
            "image/png": "[encoded data removed]"
          },
          "metadata": {
            "needs_background": "light",
            "image/png": {
              "width": 500,
              "height": 371
            }
          },
          "output_type": "display_data"
        }
      ],
      "execution_count": null
    },
    {
      "cell_type": "code",
      "source": [
        "#Questão 7\n",
        "#agora veja como são os sobreviventes de acordo com as suas classes. Essa informação está na coluna `Pclass`\n",
        "#dica1 plt.figure(figsize=(8,6))"
      ],
      "metadata": {
        "tags": [],
        "cell_id": "00007-204fa783-7889-40f2-b160-8b8815d11f7b",
        "deepnote_to_be_reexecuted": false,
        "source_hash": "43d01109",
        "execution_start": 1660611772846,
        "execution_millis": 0,
        "deepnote_cell_type": "code",
        "deepnote_cell_height": 117,
        "deepnote_output_heights": [
          21.1875,
          373
        ],
        "id": "pFe54KbAQmvT"
      },
      "execution_count": null,
      "outputs": []
    },
    {
      "cell_type": "code",
      "source": [
        "#gabarito Questão 7\n",
        "plt.figure(figsize=(8,6))\n",
        "sns.countplot(x='Survived', hue='Pclass', data= train_df)"
      ],
      "metadata": {
        "tags": [],
        "cell_id": "dcd0b5960f84442f947d3890abcb0463",
        "deepnote_to_be_reexecuted": false,
        "source_hash": "4679e4d9",
        "allow_embed": false,
        "execution_start": 1660611774612,
        "execution_millis": 218,
        "deepnote_cell_type": "code",
        "deepnote_cell_height": 553.1875,
        "deepnote_output_heights": [
          21.1875,
          373
        ],
        "id": "yR83QFm9QmvT",
        "outputId": "a47e5058-9ecf-4e64-f361-6a70b9e7ab65"
      },
      "outputs": [
        {
          "output_type": "execute_result",
          "execution_count": 47,
          "data": {
            "text/plain": "<AxesSubplot:xlabel='Survived', ylabel='count'>"
          },
          "metadata": {}
        },
        {
          "data": {
            "text/plain": "<Figure size 576x432 with 1 Axes>",
            "image/png": "[encoded data removed]"
          },
          "metadata": {
            "needs_background": "light",
            "image/png": {
              "width": 500,
              "height": 371
            }
          },
          "output_type": "display_data"
        }
      ],
      "execution_count": null
    },
    {
      "cell_type": "code",
      "source": [
        "#Questão 8\n",
        "#Que tal agora fazemos um boxplot para juntarmos em um mesmo gráfico quem sobreviveu, seu gênero e sua idade?\n",
        "#dica1 plt.figure(figsize=(8,6))\n",
        "#dica 2 x='Survived', y= 'Age', hue='Sex'"
      ],
      "metadata": {
        "tags": [],
        "cell_id": "00008-2803dae2-2caa-4439-afab-03208f7fe2e9",
        "deepnote_to_be_reexecuted": false,
        "source_hash": "ddb04df3",
        "execution_start": 1660611845122,
        "execution_millis": 1,
        "deepnote_cell_type": "code",
        "deepnote_cell_height": 135,
        "deepnote_output_heights": [
          21.1875,
          373
        ],
        "id": "1-cDU0UtQmvU"
      },
      "execution_count": null,
      "outputs": []
    },
    {
      "cell_type": "code",
      "source": [
        "#gabarito questão 8\n",
        "plt.figure(figsize=(8,6))\n",
        "sns.boxplot(x='Survived', y= 'Age', hue='Sex', data= train_df)"
      ],
      "metadata": {
        "tags": [],
        "cell_id": "9f5746b670504090837b4017a1b2a8c6",
        "deepnote_to_be_reexecuted": false,
        "source_hash": "8e5d791f",
        "allow_embed": false,
        "execution_start": 1660611854320,
        "execution_millis": 266,
        "deepnote_cell_type": "code",
        "deepnote_cell_height": 553.1875,
        "deepnote_output_heights": [
          21.1875,
          373
        ],
        "id": "YJOTlM0EQmvU",
        "outputId": "53a9acd7-05eb-4432-c851-86b475582eb7"
      },
      "outputs": [
        {
          "output_type": "execute_result",
          "execution_count": 49,
          "data": {
            "text/plain": "<AxesSubplot:xlabel='Survived', ylabel='Age'>"
          },
          "metadata": {}
        },
        {
          "data": {
            "text/plain": "<Figure size 576x432 with 1 Axes>",
            "image/png": "[encoded data removed]"
          },
          "metadata": {
            "needs_background": "light",
            "image/png": {
              "width": 494,
              "height": 371
            }
          },
          "output_type": "display_data"
        }
      ],
      "execution_count": null
    },
    {
      "cell_type": "code",
      "source": [
        "#Questão 9\n",
        "#Como seria um boxplot da classe `Pclass` pela tarifa `Fare`?\n",
        "#dica1 plt.figure(figsize=(8,6))"
      ],
      "metadata": {
        "tags": [],
        "cell_id": "00009-a2ce1240-2070-4567-bbb2-900a510dcd18",
        "deepnote_to_be_reexecuted": false,
        "source_hash": "d7178b61",
        "execution_start": 1660611921338,
        "execution_millis": 1,
        "deepnote_cell_type": "code",
        "deepnote_cell_height": 112,
        "deepnote_output_heights": [
          21.1875,
          373
        ],
        "id": "i8jMaEyEQmvU"
      },
      "execution_count": null,
      "outputs": []
    },
    {
      "cell_type": "code",
      "source": [
        "#gabarito questão 9\n",
        "plt.figure(figsize=(8,6))\n",
        "sns.boxplot(x='Pclass', y= 'Fare', data= train_df)"
      ],
      "metadata": {
        "tags": [],
        "cell_id": "0033ce3f2e1942d88d9b7e0aca5d996b",
        "deepnote_to_be_reexecuted": false,
        "source_hash": "f1a83186",
        "allow_embed": false,
        "execution_start": 1660611940427,
        "execution_millis": 206,
        "deepnote_cell_type": "code",
        "deepnote_cell_height": 553.1875,
        "deepnote_output_heights": [
          21.1875,
          373
        ],
        "id": "VK_6teUmQmvV",
        "outputId": "bd5c75c8-800b-4f43-b21e-ce2382dc946a"
      },
      "outputs": [
        {
          "output_type": "execute_result",
          "execution_count": 51,
          "data": {
            "text/plain": "<AxesSubplot:xlabel='Pclass', ylabel='Fare'>"
          },
          "metadata": {}
        },
        {
          "data": {
            "text/plain": "<Figure size 576x432 with 1 Axes>",
            "image/png": "[encoded data removed]"
          },
          "metadata": {
            "needs_background": "light",
            "image/png": {
              "width": 500,
              "height": 371
            }
          },
          "output_type": "display_data"
        }
      ],
      "execution_count": null
    },
    {
      "cell_type": "markdown",
      "source": [
        "## Usando Regressão Logística em problemas reais\n",
        "\n",
        "A regressão logística é um algoritmo de classificação binária, porém ele usa os mesmos princípios da regressão linear para resolver seus problemas.\n",
        "\n",
        "Logo, nossa entrada `X` precisa ser uma sequência de colunas numéricas e `y` uma coluna única binária.\n",
        "\n",
        "Olhando para a base do Titanic, é notavel que nosso `y` esta num formato adequado, porém, muitas colunas promissoras para nosso modelo não estão, como `gender`, `Pclass` e `Embarked`.\n",
        "\n",
        "Para torna-las númericas, precisamos **transforma-las em mais colunas e torna-las boolenas**. Isso porque não sabemos se elas tem alguma correlação, logo seria errado colocar por exemplo `Male = 1` e `Female = 0`. Para esse processo usamos um método de pré-processamento chamada **one-hot enconding**. Ainda vamos aprofundar nesse conceito na próxima aula. Por enquanto será suficiente apenas executar os comandos abaixo.\n",
        "\n",
        "### OneHotEnconding\n",
        "\n",
        "Rode o comando do scikit learn de OneHotEnconding nas colunas `gender`, `Pclass` e `Embarked`. Se quiser entender melhor o que está acontecendo, você acha a [documentação oficial](https://scikit-learn.org/stable/modules/generated/sklearn.preprocessing.OneHotEncoder.html) mas sinta-se livre para encontrar suas próprias fontes."
      ],
      "metadata": {
        "tags": [],
        "cell_id": "00010-06952b29-b7e8-410c-ab33-51c05c5f528f",
        "deepnote_cell_type": "markdown",
        "deepnote_cell_height": 436.375,
        "id": "4XT-Xjl7QmvV"
      }
    },
    {
      "cell_type": "code",
      "source": [
        "from sklearn.preprocessing import OneHotEncoder\n",
        "\n",
        "train_df = pd.read_csv('dataset/titanic_train.csv') #aqui estamos carregando os dados de train para o dataframe\n",
        "\n",
        "encoder = OneHotEncoder(sparse=False)\n",
        "\n",
        "train_X_encoded = pd.DataFrame(encoder.fit_transform(train_df[['Sex', 'Pclass', 'Embarked']]))\n",
        "train_X_encoded.columns = encoder.get_feature_names(['Sex', 'Pclass', 'Embarked'])\n",
        "train_df.drop(['Sex', 'Pclass', 'Embarked'] ,axis=1, inplace=True)\n",
        "train_df = pd.concat([train_df, train_X_encoded ], axis=1)\n",
        "\n",
        "train_df #novo dataframe após rodarmos o OneHotEncoder. Você consegue ver o que mudou?"
      ],
      "metadata": {
        "tags": [],
        "cell_id": "00011-ccc397bc-1512-4e6a-884b-33c1daa2ff4f",
        "deepnote_to_be_reexecuted": false,
        "source_hash": "624c923d",
        "execution_start": 1660612053384,
        "execution_millis": 238,
        "deepnote_cell_type": "code",
        "deepnote_cell_height": 867.890625,
        "id": "O4FWtmcyQmvW",
        "outputId": "bd44a66f-3283-4a62-f5f9-bab1846fa5ab"
      },
      "execution_count": null,
      "outputs": [
        {
          "name": "stderr",
          "text": "/shared-libs/python3.7/py/lib/python3.7/site-packages/sklearn/utils/deprecation.py:87: FutureWarning: Function get_feature_names is deprecated; get_feature_names is deprecated in 1.0 and will be removed in 1.2. Please use get_feature_names_out instead.\n  warnings.warn(msg, category=FutureWarning)\n",
          "output_type": "stream"
        },
        {
          "output_type": "execute_result",
          "execution_count": 52,
          "data": {
            "application/vnd.deepnote.dataframe.v3+json": {
              "column_count": 18,
              "row_count": 891,
              "columns": [
                {
                  "name": "PassengerId",
                  "dtype": "int64",
                  "stats": {
                    "unique_count": 891,
                    "nan_count": 0,
                    "min": "1",
                    "max": "891",
                    "histogram": [
                      {
                        "bin_start": 1,
                        "bin_end": 90,
                        "count": 89
                      },
                      {
                        "bin_start": 90,
                        "bin_end": 179,
                        "count": 89
                      },
                      {
                        "bin_start": 179,
                        "bin_end": 268,
                        "count": 89
                      },
                      {
                        "bin_start": 268,
                        "bin_end": 357,
                        "count": 89
                      },
                      {
                        "bin_start": 357,
                        "bin_end": 446,
                        "count": 89
                      },
                      {
                        "bin_start": 446,
                        "bin_end": 535,
                        "count": 89
                      },
                      {
                        "bin_start": 535,
                        "bin_end": 624,
                        "count": 89
                      },
                      {
                        "bin_start": 624,
                        "bin_end": 713,
                        "count": 89
                      },
                      {
                        "bin_start": 713,
                        "bin_end": 802,
                        "count": 89
                      },
                      {
                        "bin_start": 802,
                        "bin_end": 891,
                        "count": 90
                      }
                    ]
                  }
                },
                {
                  "name": "Survived",
                  "dtype": "int64",
                  "stats": {
                    "unique_count": 2,
                    "nan_count": 0,
                    "min": "0",
                    "max": "1",
                    "histogram": [
                      {
                        "bin_start": 0,
                        "bin_end": 0.1,
                        "count": 549
                      },
                      {
                        "bin_start": 0.1,
                        "bin_end": 0.2,
                        "count": 0
                      },
                      {
                        "bin_start": 0.2,
                        "bin_end": 0.30000000000000004,
                        "count": 0
                      },
                      {
                        "bin_start": 0.30000000000000004,
                        "bin_end": 0.4,
                        "count": 0
                      },
                      {
                        "bin_start": 0.4,
                        "bin_end": 0.5,
                        "count": 0
                      },
                      {
                        "bin_start": 0.5,
                        "bin_end": 0.6000000000000001,
                        "count": 0
                      },
                      {
                        "bin_start": 0.6000000000000001,
                        "bin_end": 0.7000000000000001,
                        "count": 0
                      },
                      {
                        "bin_start": 0.7000000000000001,
                        "bin_end": 0.8,
                        "count": 0
                      },
                      {
                        "bin_start": 0.8,
                        "bin_end": 0.9,
                        "count": 0
                      },
                      {
                        "bin_start": 0.9,
                        "bin_end": 1,
                        "count": 342
                      }
                    ]
                  }
                },
                {
                  "name": "Name",
                  "dtype": "object",
                  "stats": {
                    "unique_count": 891,
                    "nan_count": 0,
                    "categories": [
                      {
                        "name": "Braund, Mr. Owen Harris",
                        "count": 1
                      },
                      {
                        "name": "Cumings, Mrs. John Bradley (Florence Briggs Thayer)",
                        "count": 1
                      },
                      {
                        "name": "889 others",
                        "count": 889
                      }
                    ]
                  }
                },
                {
                  "name": "Age",
                  "dtype": "float64",
                  "stats": {
                    "unique_count": 88,
                    "nan_count": 177,
                    "min": "0.42",
                    "max": "80.0",
                    "histogram": [
                      {
                        "bin_start": 0.42,
                        "bin_end": 8.378,
                        "count": 54
                      },
                      {
                        "bin_start": 8.378,
                        "bin_end": 16.336000000000002,
                        "count": 46
                      },
                      {
                        "bin_start": 16.336000000000002,
                        "bin_end": 24.294000000000004,
                        "count": 177
                      },
                      {
                        "bin_start": 24.294000000000004,
                        "bin_end": 32.252,
                        "count": 169
                      },
                      {
                        "bin_start": 32.252,
                        "bin_end": 40.21,
                        "count": 118
                      },
                      {
                        "bin_start": 40.21,
                        "bin_end": 48.168000000000006,
                        "count": 70
                      },
                      {
                        "bin_start": 48.168000000000006,
                        "bin_end": 56.126000000000005,
                        "count": 45
                      },
                      {
                        "bin_start": 56.126000000000005,
                        "bin_end": 64.084,
                        "count": 24
                      },
                      {
                        "bin_start": 64.084,
                        "bin_end": 72.042,
                        "count": 9
                      },
                      {
                        "bin_start": 72.042,
                        "bin_end": 80,
                        "count": 2
                      }
                    ]
                  }
                },
                {
                  "name": "SibSp",
                  "dtype": "int64",
                  "stats": {
                    "unique_count": 7,
                    "nan_count": 0,
                    "min": "0",
                    "max": "8",
                    "histogram": [
                      {
                        "bin_start": 0,
                        "bin_end": 0.8,
                        "count": 608
                      },
                      {
                        "bin_start": 0.8,
                        "bin_end": 1.6,
                        "count": 209
                      },
                      {
                        "bin_start": 1.6,
                        "bin_end": 2.4000000000000004,
                        "count": 28
                      },
                      {
                        "bin_start": 2.4000000000000004,
                        "bin_end": 3.2,
                        "count": 16
                      },
                      {
                        "bin_start": 3.2,
                        "bin_end": 4,
                        "count": 0
                      },
                      {
                        "bin_start": 4,
                        "bin_end": 4.800000000000001,
                        "count": 18
                      },
                      {
                        "bin_start": 4.800000000000001,
                        "bin_end": 5.6000000000000005,
                        "count": 5
                      },
                      {
                        "bin_start": 5.6000000000000005,
                        "bin_end": 6.4,
                        "count": 0
                      },
                      {
                        "bin_start": 6.4,
                        "bin_end": 7.2,
                        "count": 0
                      },
                      {
                        "bin_start": 7.2,
                        "bin_end": 8,
                        "count": 7
                      }
                    ]
                  }
                },
                {
                  "name": "Parch",
                  "dtype": "int64",
                  "stats": {
                    "unique_count": 7,
                    "nan_count": 0,
                    "min": "0",
                    "max": "6",
                    "histogram": [
                      {
                        "bin_start": 0,
                        "bin_end": 0.6,
                        "count": 678
                      },
                      {
                        "bin_start": 0.6,
                        "bin_end": 1.2,
                        "count": 118
                      },
                      {
                        "bin_start": 1.2,
                        "bin_end": 1.7999999999999998,
                        "count": 0
                      },
                      {
                        "bin_start": 1.7999999999999998,
                        "bin_end": 2.4,
                        "count": 80
                      },
                      {
                        "bin_start": 2.4,
                        "bin_end": 3,
                        "count": 0
                      },
                      {
                        "bin_start": 3,
                        "bin_end": 3.5999999999999996,
                        "count": 5
                      },
                      {
                        "bin_start": 3.5999999999999996,
                        "bin_end": 4.2,
                        "count": 4
                      },
                      {
                        "bin_start": 4.2,
                        "bin_end": 4.8,
                        "count": 0
                      },
                      {
                        "bin_start": 4.8,
                        "bin_end": 5.3999999999999995,
                        "count": 5
                      },
                      {
                        "bin_start": 5.3999999999999995,
                        "bin_end": 6,
                        "count": 1
                      }
                    ]
                  }
                },
                {
                  "name": "Ticket",
                  "dtype": "object",
                  "stats": {
                    "unique_count": 681,
                    "nan_count": 0,
                    "categories": [
                      {
                        "name": "347082",
                        "count": 7
                      },
                      {
                        "name": "1601",
                        "count": 7
                      },
                      {
                        "name": "679 others",
                        "count": 877
                      }
                    ]
                  }
                },
                {
                  "name": "Fare",
                  "dtype": "float64",
                  "stats": {
                    "unique_count": 248,
                    "nan_count": 0,
                    "min": "0.0",
                    "max": "512.3292",
                    "histogram": [
                      {
                        "bin_start": 0,
                        "bin_end": 51.23292,
                        "count": 732
                      },
                      {
                        "bin_start": 51.23292,
                        "bin_end": 102.46584,
                        "count": 106
                      },
                      {
                        "bin_start": 102.46584,
                        "bin_end": 153.69876,
                        "count": 31
                      },
                      {
                        "bin_start": 153.69876,
                        "bin_end": 204.93168,
                        "count": 2
                      },
                      {
                        "bin_start": 204.93168,
                        "bin_end": 256.1646,
                        "count": 11
                      },
                      {
                        "bin_start": 256.1646,
                        "bin_end": 307.39752,
                        "count": 6
                      },
                      {
                        "bin_start": 307.39752,
                        "bin_end": 358.63044,
                        "count": 0
                      },
                      {
                        "bin_start": 358.63044,
                        "bin_end": 409.86336,
                        "count": 0
                      },
                      {
                        "bin_start": 409.86336,
                        "bin_end": 461.09628,
                        "count": 0
                      },
                      {
                        "bin_start": 461.09628,
                        "bin_end": 512.3292,
                        "count": 3
                      }
                    ]
                  }
                },
                {
                  "name": "Cabin",
                  "dtype": "object",
                  "stats": {
                    "unique_count": 147,
                    "nan_count": 687,
                    "categories": [
                      {
                        "name": "G6",
                        "count": 4
                      },
                      {
                        "name": "146 others",
                        "count": 200
                      },
                      {
                        "name": "Missing",
                        "count": 687
                      }
                    ]
                  }
                },
                {
                  "name": "Sex_female",
                  "dtype": "float64",
                  "stats": {
                    "unique_count": 2,
                    "nan_count": 0,
                    "min": "0.0",
                    "max": "1.0",
                    "histogram": [
                      {
                        "bin_start": 0,
                        "bin_end": 0.1,
                        "count": 577
                      },
                      {
                        "bin_start": 0.1,
                        "bin_end": 0.2,
                        "count": 0
                      },
                      {
                        "bin_start": 0.2,
                        "bin_end": 0.30000000000000004,
                        "count": 0
                      },
                      {
                        "bin_start": 0.30000000000000004,
                        "bin_end": 0.4,
                        "count": 0
                      },
                      {
                        "bin_start": 0.4,
                        "bin_end": 0.5,
                        "count": 0
                      },
                      {
                        "bin_start": 0.5,
                        "bin_end": 0.6000000000000001,
                        "count": 0
                      },
                      {
                        "bin_start": 0.6000000000000001,
                        "bin_end": 0.7000000000000001,
                        "count": 0
                      },
                      {
                        "bin_start": 0.7000000000000001,
                        "bin_end": 0.8,
                        "count": 0
                      },
                      {
                        "bin_start": 0.8,
                        "bin_end": 0.9,
                        "count": 0
                      },
                      {
                        "bin_start": 0.9,
                        "bin_end": 1,
                        "count": 314
                      }
                    ]
                  }
                },
                {
                  "name": "Sex_male",
                  "dtype": "float64",
                  "stats": {
                    "unique_count": 2,
                    "nan_count": 0,
                    "min": "0.0",
                    "max": "1.0",
                    "histogram": [
                      {
                        "bin_start": 0,
                        "bin_end": 0.1,
                        "count": 314
                      },
                      {
                        "bin_start": 0.1,
                        "bin_end": 0.2,
                        "count": 0
                      },
                      {
                        "bin_start": 0.2,
                        "bin_end": 0.30000000000000004,
                        "count": 0
                      },
                      {
                        "bin_start": 0.30000000000000004,
                        "bin_end": 0.4,
                        "count": 0
                      },
                      {
                        "bin_start": 0.4,
                        "bin_end": 0.5,
                        "count": 0
                      },
                      {
                        "bin_start": 0.5,
                        "bin_end": 0.6000000000000001,
                        "count": 0
                      },
                      {
                        "bin_start": 0.6000000000000001,
                        "bin_end": 0.7000000000000001,
                        "count": 0
                      },
                      {
                        "bin_start": 0.7000000000000001,
                        "bin_end": 0.8,
                        "count": 0
                      },
                      {
                        "bin_start": 0.8,
                        "bin_end": 0.9,
                        "count": 0
                      },
                      {
                        "bin_start": 0.9,
                        "bin_end": 1,
                        "count": 577
                      }
                    ]
                  }
                },
                {
                  "name": "Pclass_1",
                  "dtype": "float64",
                  "stats": {
                    "unique_count": 2,
                    "nan_count": 0,
                    "min": "0.0",
                    "max": "1.0",
                    "histogram": [
                      {
                        "bin_start": 0,
                        "bin_end": 0.1,
                        "count": 675
                      },
                      {
                        "bin_start": 0.1,
                        "bin_end": 0.2,
                        "count": 0
                      },
                      {
                        "bin_start": 0.2,
                        "bin_end": 0.30000000000000004,
                        "count": 0
                      },
                      {
                        "bin_start": 0.30000000000000004,
                        "bin_end": 0.4,
                        "count": 0
                      },
                      {
                        "bin_start": 0.4,
                        "bin_end": 0.5,
                        "count": 0
                      },
                      {
                        "bin_start": 0.5,
                        "bin_end": 0.6000000000000001,
                        "count": 0
                      },
                      {
                        "bin_start": 0.6000000000000001,
                        "bin_end": 0.7000000000000001,
                        "count": 0
                      },
                      {
                        "bin_start": 0.7000000000000001,
                        "bin_end": 0.8,
                        "count": 0
                      },
                      {
                        "bin_start": 0.8,
                        "bin_end": 0.9,
                        "count": 0
                      },
                      {
                        "bin_start": 0.9,
                        "bin_end": 1,
                        "count": 216
                      }
                    ]
                  }
                },
                {
                  "name": "Pclass_2",
                  "dtype": "float64",
                  "stats": {
                    "unique_count": 2,
                    "nan_count": 0,
                    "min": "0.0",
                    "max": "1.0",
                    "histogram": [
                      {
                        "bin_start": 0,
                        "bin_end": 0.1,
                        "count": 707
                      },
                      {
                        "bin_start": 0.1,
                        "bin_end": 0.2,
                        "count": 0
                      },
                      {
                        "bin_start": 0.2,
                        "bin_end": 0.30000000000000004,
                        "count": 0
                      },
                      {
                        "bin_start": 0.30000000000000004,
                        "bin_end": 0.4,
                        "count": 0
                      },
                      {
                        "bin_start": 0.4,
                        "bin_end": 0.5,
                        "count": 0
                      },
                      {
                        "bin_start": 0.5,
                        "bin_end": 0.6000000000000001,
                        "count": 0
                      },
                      {
                        "bin_start": 0.6000000000000001,
                        "bin_end": 0.7000000000000001,
                        "count": 0
                      },
                      {
                        "bin_start": 0.7000000000000001,
                        "bin_end": 0.8,
                        "count": 0
                      },
                      {
                        "bin_start": 0.8,
                        "bin_end": 0.9,
                        "count": 0
                      },
                      {
                        "bin_start": 0.9,
                        "bin_end": 1,
                        "count": 184
                      }
                    ]
                  }
                },
                {
                  "name": "Pclass_3",
                  "dtype": "float64",
                  "stats": {
                    "unique_count": 2,
                    "nan_count": 0,
                    "min": "0.0",
                    "max": "1.0",
                    "histogram": [
                      {
                        "bin_start": 0,
                        "bin_end": 0.1,
                        "count": 400
                      },
                      {
                        "bin_start": 0.1,
                        "bin_end": 0.2,
                        "count": 0
                      },
                      {
                        "bin_start": 0.2,
                        "bin_end": 0.30000000000000004,
                        "count": 0
                      },
                      {
                        "bin_start": 0.30000000000000004,
                        "bin_end": 0.4,
                        "count": 0
                      },
                      {
                        "bin_start": 0.4,
                        "bin_end": 0.5,
                        "count": 0
                      },
                      {
                        "bin_start": 0.5,
                        "bin_end": 0.6000000000000001,
                        "count": 0
                      },
                      {
                        "bin_start": 0.6000000000000001,
                        "bin_end": 0.7000000000000001,
                        "count": 0
                      },
                      {
                        "bin_start": 0.7000000000000001,
                        "bin_end": 0.8,
                        "count": 0
                      },
                      {
                        "bin_start": 0.8,
                        "bin_end": 0.9,
                        "count": 0
                      },
                      {
                        "bin_start": 0.9,
                        "bin_end": 1,
                        "count": 491
                      }
                    ]
                  }
                },
                {
                  "name": "Embarked_C",
                  "dtype": "float64",
                  "stats": {
                    "unique_count": 2,
                    "nan_count": 0,
                    "min": "0.0",
                    "max": "1.0",
                    "histogram": [
                      {
                        "bin_start": 0,
                        "bin_end": 0.1,
                        "count": 723
                      },
                      {
                        "bin_start": 0.1,
                        "bin_end": 0.2,
                        "count": 0
                      },
                      {
                        "bin_start": 0.2,
                        "bin_end": 0.30000000000000004,
                        "count": 0
                      },
                      {
                        "bin_start": 0.30000000000000004,
                        "bin_end": 0.4,
                        "count": 0
                      },
                      {
                        "bin_start": 0.4,
                        "bin_end": 0.5,
                        "count": 0
                      },
                      {
                        "bin_start": 0.5,
                        "bin_end": 0.6000000000000001,
                        "count": 0
                      },
                      {
                        "bin_start": 0.6000000000000001,
                        "bin_end": 0.7000000000000001,
                        "count": 0
                      },
                      {
                        "bin_start": 0.7000000000000001,
                        "bin_end": 0.8,
                        "count": 0
                      },
                      {
                        "bin_start": 0.8,
                        "bin_end": 0.9,
                        "count": 0
                      },
                      {
                        "bin_start": 0.9,
                        "bin_end": 1,
                        "count": 168
                      }
                    ]
                  }
                },
                {
                  "name": "Embarked_Q",
                  "dtype": "float64",
                  "stats": {
                    "unique_count": 2,
                    "nan_count": 0,
                    "min": "0.0",
                    "max": "1.0",
                    "histogram": [
                      {
                        "bin_start": 0,
                        "bin_end": 0.1,
                        "count": 814
                      },
                      {
                        "bin_start": 0.1,
                        "bin_end": 0.2,
                        "count": 0
                      },
                      {
                        "bin_start": 0.2,
                        "bin_end": 0.30000000000000004,
                        "count": 0
                      },
                      {
                        "bin_start": 0.30000000000000004,
                        "bin_end": 0.4,
                        "count": 0
                      },
                      {
                        "bin_start": 0.4,
                        "bin_end": 0.5,
                        "count": 0
                      },
                      {
                        "bin_start": 0.5,
                        "bin_end": 0.6000000000000001,
                        "count": 0
                      },
                      {
                        "bin_start": 0.6000000000000001,
                        "bin_end": 0.7000000000000001,
                        "count": 0
                      },
                      {
                        "bin_start": 0.7000000000000001,
                        "bin_end": 0.8,
                        "count": 0
                      },
                      {
                        "bin_start": 0.8,
                        "bin_end": 0.9,
                        "count": 0
                      },
                      {
                        "bin_start": 0.9,
                        "bin_end": 1,
                        "count": 77
                      }
                    ]
                  }
                },
                {
                  "name": "Embarked_S",
                  "dtype": "float64",
                  "stats": {
                    "unique_count": 2,
                    "nan_count": 0,
                    "min": "0.0",
                    "max": "1.0",
                    "histogram": [
                      {
                        "bin_start": 0,
                        "bin_end": 0.1,
                        "count": 247
                      },
                      {
                        "bin_start": 0.1,
                        "bin_end": 0.2,
                        "count": 0
                      },
                      {
                        "bin_start": 0.2,
                        "bin_end": 0.30000000000000004,
                        "count": 0
                      },
                      {
                        "bin_start": 0.30000000000000004,
                        "bin_end": 0.4,
                        "count": 0
                      },
                      {
                        "bin_start": 0.4,
                        "bin_end": 0.5,
                        "count": 0
                      },
                      {
                        "bin_start": 0.5,
                        "bin_end": 0.6000000000000001,
                        "count": 0
                      },
                      {
                        "bin_start": 0.6000000000000001,
                        "bin_end": 0.7000000000000001,
                        "count": 0
                      },
                      {
                        "bin_start": 0.7000000000000001,
                        "bin_end": 0.8,
                        "count": 0
                      },
                      {
                        "bin_start": 0.8,
                        "bin_end": 0.9,
                        "count": 0
                      },
                      {
                        "bin_start": 0.9,
                        "bin_end": 1,
                        "count": 644
                      }
                    ]
                  }
                },
                {
                  "name": "Embarked_nan",
                  "dtype": "float64",
                  "stats": {
                    "unique_count": 2,
                    "nan_count": 0,
                    "min": "0.0",
                    "max": "1.0",
                    "histogram": [
                      {
                        "bin_start": 0,
                        "bin_end": 0.1,
                        "count": 889
                      },
                      {
                        "bin_start": 0.1,
                        "bin_end": 0.2,
                        "count": 0
                      },
                      {
                        "bin_start": 0.2,
                        "bin_end": 0.30000000000000004,
                        "count": 0
                      },
                      {
                        "bin_start": 0.30000000000000004,
                        "bin_end": 0.4,
                        "count": 0
                      },
                      {
                        "bin_start": 0.4,
                        "bin_end": 0.5,
                        "count": 0
                      },
                      {
                        "bin_start": 0.5,
                        "bin_end": 0.6000000000000001,
                        "count": 0
                      },
                      {
                        "bin_start": 0.6000000000000001,
                        "bin_end": 0.7000000000000001,
                        "count": 0
                      },
                      {
                        "bin_start": 0.7000000000000001,
                        "bin_end": 0.8,
                        "count": 0
                      },
                      {
                        "bin_start": 0.8,
                        "bin_end": 0.9,
                        "count": 0
                      },
                      {
                        "bin_start": 0.9,
                        "bin_end": 1,
                        "count": 2
                      }
                    ]
                  }
                },
                {
                  "name": "_deepnote_index_column",
                  "dtype": "int64"
                }
              ],
              "rows": [
                {
                  "PassengerId": 1,
                  "Survived": 0,
                  "Name": "Braund, Mr. Owen Harris",
                  "Age": 22,
                  "SibSp": 1,
                  "Parch": 0,
                  "Ticket": "A/5 21171",
                  "Fare": 7.25,
                  "Cabin": "nan",
                  "Sex_female": 0,
                  "Sex_male": 1,
                  "Pclass_1": 0,
                  "Pclass_2": 0,
                  "Pclass_3": 1,
                  "Embarked_C": 0,
                  "Embarked_Q": 0,
                  "Embarked_S": 1,
                  "Embarked_nan": 0,
                  "_deepnote_index_column": 0
                },
                {
                  "PassengerId": 2,
                  "Survived": 1,
                  "Name": "Cumings, Mrs. John Bradley (Florence Briggs Thayer)",
                  "Age": 38,
                  "SibSp": 1,
                  "Parch": 0,
                  "Ticket": "PC 17599",
                  "Fare": 71.2833,
                  "Cabin": "C85",
                  "Sex_female": 1,
                  "Sex_male": 0,
                  "Pclass_1": 1,
                  "Pclass_2": 0,
                  "Pclass_3": 0,
                  "Embarked_C": 1,
                  "Embarked_Q": 0,
                  "Embarked_S": 0,
                  "Embarked_nan": 0,
                  "_deepnote_index_column": 1
                },
                {
                  "PassengerId": 3,
                  "Survived": 1,
                  "Name": "Heikkinen, Miss. Laina",
                  "Age": 26,
                  "SibSp": 0,
                  "Parch": 0,
                  "Ticket": "STON/O2. 3101282",
                  "Fare": 7.925,
                  "Cabin": "nan",
                  "Sex_female": 1,
                  "Sex_male": 0,
                  "Pclass_1": 0,
                  "Pclass_2": 0,
                  "Pclass_3": 1,
                  "Embarked_C": 0,
                  "Embarked_Q": 0,
                  "Embarked_S": 1,
                  "Embarked_nan": 0,
                  "_deepnote_index_column": 2
                },
                {
                  "PassengerId": 4,
                  "Survived": 1,
                  "Name": "Futrelle, Mrs. Jacques Heath (Lily May Peel)",
                  "Age": 35,
                  "SibSp": 1,
                  "Parch": 0,
                  "Ticket": "113803",
                  "Fare": 53.1,
                  "Cabin": "C123",
                  "Sex_female": 1,
                  "Sex_male": 0,
                  "Pclass_1": 1,
                  "Pclass_2": 0,
                  "Pclass_3": 0,
                  "Embarked_C": 0,
                  "Embarked_Q": 0,
                  "Embarked_S": 1,
                  "Embarked_nan": 0,
                  "_deepnote_index_column": 3
                },
                {
                  "PassengerId": 5,
                  "Survived": 0,
                  "Name": "Allen, Mr. William Henry",
                  "Age": 35,
                  "SibSp": 0,
                  "Parch": 0,
                  "Ticket": "373450",
                  "Fare": 8.05,
                  "Cabin": "nan",
                  "Sex_female": 0,
                  "Sex_male": 1,
                  "Pclass_1": 0,
                  "Pclass_2": 0,
                  "Pclass_3": 1,
                  "Embarked_C": 0,
                  "Embarked_Q": 0,
                  "Embarked_S": 1,
                  "Embarked_nan": 0,
                  "_deepnote_index_column": 4
                },
                {
                  "PassengerId": 6,
                  "Survived": 0,
                  "Name": "Moran, Mr. James",
                  "Age": "nan",
                  "SibSp": 0,
                  "Parch": 0,
                  "Ticket": "330877",
                  "Fare": 8.4583,
                  "Cabin": "nan",
                  "Sex_female": 0,
                  "Sex_male": 1,
                  "Pclass_1": 0,
                  "Pclass_2": 0,
                  "Pclass_3": 1,
                  "Embarked_C": 0,
                  "Embarked_Q": 1,
                  "Embarked_S": 0,
                  "Embarked_nan": 0,
                  "_deepnote_index_column": 5
                },
                {
                  "PassengerId": 7,
                  "Survived": 0,
                  "Name": "McCarthy, Mr. Timothy J",
                  "Age": 54,
                  "SibSp": 0,
                  "Parch": 0,
                  "Ticket": "17463",
                  "Fare": 51.8625,
                  "Cabin": "E46",
                  "Sex_female": 0,
                  "Sex_male": 1,
                  "Pclass_1": 1,
                  "Pclass_2": 0,
                  "Pclass_3": 0,
                  "Embarked_C": 0,
                  "Embarked_Q": 0,
                  "Embarked_S": 1,
                  "Embarked_nan": 0,
                  "_deepnote_index_column": 6
                },
                {
                  "PassengerId": 8,
                  "Survived": 0,
                  "Name": "Palsson, Master. Gosta Leonard",
                  "Age": 2,
                  "SibSp": 3,
                  "Parch": 1,
                  "Ticket": "349909",
                  "Fare": 21.075,
                  "Cabin": "nan",
                  "Sex_female": 0,
                  "Sex_male": 1,
                  "Pclass_1": 0,
                  "Pclass_2": 0,
                  "Pclass_3": 1,
                  "Embarked_C": 0,
                  "Embarked_Q": 0,
                  "Embarked_S": 1,
                  "Embarked_nan": 0,
                  "_deepnote_index_column": 7
                },
                {
                  "PassengerId": 9,
                  "Survived": 1,
                  "Name": "Johnson, Mrs. Oscar W (Elisabeth Vilhelmina Berg)",
                  "Age": 27,
                  "SibSp": 0,
                  "Parch": 2,
                  "Ticket": "347742",
                  "Fare": 11.1333,
                  "Cabin": "nan",
                  "Sex_female": 1,
                  "Sex_male": 0,
                  "Pclass_1": 0,
                  "Pclass_2": 0,
                  "Pclass_3": 1,
                  "Embarked_C": 0,
                  "Embarked_Q": 0,
                  "Embarked_S": 1,
                  "Embarked_nan": 0,
                  "_deepnote_index_column": 8
                },
                {
                  "PassengerId": 10,
                  "Survived": 1,
                  "Name": "Nasser, Mrs. Nicholas (Adele Achem)",
                  "Age": 14,
                  "SibSp": 1,
                  "Parch": 0,
                  "Ticket": "237736",
                  "Fare": 30.0708,
                  "Cabin": "nan",
                  "Sex_female": 1,
                  "Sex_male": 0,
                  "Pclass_1": 0,
                  "Pclass_2": 1,
                  "Pclass_3": 0,
                  "Embarked_C": 1,
                  "Embarked_Q": 0,
                  "Embarked_S": 0,
                  "Embarked_nan": 0,
                  "_deepnote_index_column": 9
                }
              ]
            },
            "text/plain": "     PassengerId  Survived                                               Name  \\\n0              1         0                            Braund, Mr. Owen Harris   \n1              2         1  Cumings, Mrs. John Bradley (Florence Briggs Th...   \n2              3         1                             Heikkinen, Miss. Laina   \n3              4         1       Futrelle, Mrs. Jacques Heath (Lily May Peel)   \n4              5         0                           Allen, Mr. William Henry   \n..           ...       ...                                                ...   \n886          887         0                              Montvila, Rev. Juozas   \n887          888         1                       Graham, Miss. Margaret Edith   \n888          889         0           Johnston, Miss. Catherine Helen \"Carrie\"   \n889          890         1                              Behr, Mr. Karl Howell   \n890          891         0                                Dooley, Mr. Patrick   \n\n      Age  SibSp  Parch            Ticket     Fare Cabin  Sex_female  \\\n0    22.0      1      0         A/5 21171   7.2500   NaN         0.0   \n1    38.0      1      0          PC 17599  71.2833   C85         1.0   \n2    26.0      0      0  STON/O2. 3101282   7.9250   NaN         1.0   \n3    35.0      1      0            113803  53.1000  C123         1.0   \n4    35.0      0      0            373450   8.0500   NaN         0.0   \n..    ...    ...    ...               ...      ...   ...         ...   \n886  27.0      0      0            211536  13.0000   NaN         0.0   \n887  19.0      0      0            112053  30.0000   B42         1.0   \n888   NaN      1      2        W./C. 6607  23.4500   NaN         1.0   \n889  26.0      0      0            111369  30.0000  C148         0.0   \n890  32.0      0      0            370376   7.7500   NaN         0.0   \n\n     Sex_male  Pclass_1  Pclass_2  Pclass_3  Embarked_C  Embarked_Q  \\\n0         1.0       0.0       0.0       1.0         0.0         0.0   \n1         0.0       1.0       0.0       0.0         1.0         0.0   \n2         0.0       0.0       0.0       1.0         0.0         0.0   \n3         0.0       1.0       0.0       0.0         0.0         0.0   \n4         1.0       0.0       0.0       1.0         0.0         0.0   \n..        ...       ...       ...       ...         ...         ...   \n886       1.0       0.0       1.0       0.0         0.0         0.0   \n887       0.0       1.0       0.0       0.0         0.0         0.0   \n888       0.0       0.0       0.0       1.0         0.0         0.0   \n889       1.0       1.0       0.0       0.0         1.0         0.0   \n890       1.0       0.0       0.0       1.0         0.0         1.0   \n\n     Embarked_S  Embarked_nan  \n0           1.0           0.0  \n1           0.0           0.0  \n2           1.0           0.0  \n3           1.0           0.0  \n4           1.0           0.0  \n..          ...           ...  \n886         1.0           0.0  \n887         1.0           0.0  \n888         1.0           0.0  \n889         0.0           0.0  \n890         0.0           0.0  \n\n[891 rows x 18 columns]",
            "text/html": "<div>\n<style scoped>\n    .dataframe tbody tr th:only-of-type {\n        vertical-align: middle;\n    }\n\n    .dataframe tbody tr th {\n        vertical-align: top;\n    }\n\n    .dataframe thead th {\n        text-align: right;\n    }\n</style>\n<table border=\"1\" class=\"dataframe\">\n  <thead>\n    <tr style=\"text-align: right;\">\n      <th></th>\n      <th>PassengerId</th>\n      <th>Survived</th>\n      <th>Name</th>\n      <th>Age</th>\n      <th>SibSp</th>\n      <th>Parch</th>\n      <th>Ticket</th>\n      <th>Fare</th>\n      <th>Cabin</th>\n      <th>Sex_female</th>\n      <th>Sex_male</th>\n      <th>Pclass_1</th>\n      <th>Pclass_2</th>\n      <th>Pclass_3</th>\n      <th>Embarked_C</th>\n      <th>Embarked_Q</th>\n      <th>Embarked_S</th>\n      <th>Embarked_nan</th>\n    </tr>\n  </thead>\n  <tbody>\n    <tr>\n      <th>0</th>\n      <td>1</td>\n      <td>0</td>\n      <td>Braund, Mr. Owen Harris</td>\n      <td>22.0</td>\n      <td>1</td>\n      <td>0</td>\n      <td>A/5 21171</td>\n      <td>7.2500</td>\n      <td>NaN</td>\n      <td>0.0</td>\n      <td>1.0</td>\n      <td>0.0</td>\n      <td>0.0</td>\n      <td>1.0</td>\n      <td>0.0</td>\n      <td>0.0</td>\n      <td>1.0</td>\n      <td>0.0</td>\n    </tr>\n    <tr>\n      <th>1</th>\n      <td>2</td>\n      <td>1</td>\n      <td>Cumings, Mrs. John Bradley (Florence Briggs Th...</td>\n      <td>38.0</td>\n      <td>1</td>\n      <td>0</td>\n      <td>PC 17599</td>\n      <td>71.2833</td>\n      <td>C85</td>\n      <td>1.0</td>\n      <td>0.0</td>\n      <td>1.0</td>\n      <td>0.0</td>\n      <td>0.0</td>\n      <td>1.0</td>\n      <td>0.0</td>\n      <td>0.0</td>\n      <td>0.0</td>\n    </tr>\n    <tr>\n      <th>2</th>\n      <td>3</td>\n      <td>1</td>\n      <td>Heikkinen, Miss. Laina</td>\n      <td>26.0</td>\n      <td>0</td>\n      <td>0</td>\n      <td>STON/O2. 3101282</td>\n      <td>7.9250</td>\n      <td>NaN</td>\n      <td>1.0</td>\n      <td>0.0</td>\n      <td>0.0</td>\n      <td>0.0</td>\n      <td>1.0</td>\n      <td>0.0</td>\n      <td>0.0</td>\n      <td>1.0</td>\n      <td>0.0</td>\n    </tr>\n    <tr>\n      <th>3</th>\n      <td>4</td>\n      <td>1</td>\n      <td>Futrelle, Mrs. Jacques Heath (Lily May Peel)</td>\n      <td>35.0</td>\n      <td>1</td>\n      <td>0</td>\n      <td>113803</td>\n      <td>53.1000</td>\n      <td>C123</td>\n      <td>1.0</td>\n      <td>0.0</td>\n      <td>1.0</td>\n      <td>0.0</td>\n      <td>0.0</td>\n      <td>0.0</td>\n      <td>0.0</td>\n      <td>1.0</td>\n      <td>0.0</td>\n    </tr>\n    <tr>\n      <th>4</th>\n      <td>5</td>\n      <td>0</td>\n      <td>Allen, Mr. William Henry</td>\n      <td>35.0</td>\n      <td>0</td>\n      <td>0</td>\n      <td>373450</td>\n      <td>8.0500</td>\n      <td>NaN</td>\n      <td>0.0</td>\n      <td>1.0</td>\n      <td>0.0</td>\n      <td>0.0</td>\n      <td>1.0</td>\n      <td>0.0</td>\n      <td>0.0</td>\n      <td>1.0</td>\n      <td>0.0</td>\n    </tr>\n    <tr>\n      <th>...</th>\n      <td>...</td>\n      <td>...</td>\n      <td>...</td>\n      <td>...</td>\n      <td>...</td>\n      <td>...</td>\n      <td>...</td>\n      <td>...</td>\n      <td>...</td>\n      <td>...</td>\n      <td>...</td>\n      <td>...</td>\n      <td>...</td>\n      <td>...</td>\n      <td>...</td>\n      <td>...</td>\n      <td>...</td>\n      <td>...</td>\n    </tr>\n    <tr>\n      <th>886</th>\n      <td>887</td>\n      <td>0</td>\n      <td>Montvila, Rev. Juozas</td>\n      <td>27.0</td>\n      <td>0</td>\n      <td>0</td>\n      <td>211536</td>\n      <td>13.0000</td>\n      <td>NaN</td>\n      <td>0.0</td>\n      <td>1.0</td>\n      <td>0.0</td>\n      <td>1.0</td>\n      <td>0.0</td>\n      <td>0.0</td>\n      <td>0.0</td>\n      <td>1.0</td>\n      <td>0.0</td>\n    </tr>\n    <tr>\n      <th>887</th>\n      <td>888</td>\n      <td>1</td>\n      <td>Graham, Miss. Margaret Edith</td>\n      <td>19.0</td>\n      <td>0</td>\n      <td>0</td>\n      <td>112053</td>\n      <td>30.0000</td>\n      <td>B42</td>\n      <td>1.0</td>\n      <td>0.0</td>\n      <td>1.0</td>\n      <td>0.0</td>\n      <td>0.0</td>\n      <td>0.0</td>\n      <td>0.0</td>\n      <td>1.0</td>\n      <td>0.0</td>\n    </tr>\n    <tr>\n      <th>888</th>\n      <td>889</td>\n      <td>0</td>\n      <td>Johnston, Miss. Catherine Helen \"Carrie\"</td>\n      <td>NaN</td>\n      <td>1</td>\n      <td>2</td>\n      <td>W./C. 6607</td>\n      <td>23.4500</td>\n      <td>NaN</td>\n      <td>1.0</td>\n      <td>0.0</td>\n      <td>0.0</td>\n      <td>0.0</td>\n      <td>1.0</td>\n      <td>0.0</td>\n      <td>0.0</td>\n      <td>1.0</td>\n      <td>0.0</td>\n    </tr>\n    <tr>\n      <th>889</th>\n      <td>890</td>\n      <td>1</td>\n      <td>Behr, Mr. Karl Howell</td>\n      <td>26.0</td>\n      <td>0</td>\n      <td>0</td>\n      <td>111369</td>\n      <td>30.0000</td>\n      <td>C148</td>\n      <td>0.0</td>\n      <td>1.0</td>\n      <td>1.0</td>\n      <td>0.0</td>\n      <td>0.0</td>\n      <td>1.0</td>\n      <td>0.0</td>\n      <td>0.0</td>\n      <td>0.0</td>\n    </tr>\n    <tr>\n      <th>890</th>\n      <td>891</td>\n      <td>0</td>\n      <td>Dooley, Mr. Patrick</td>\n      <td>32.0</td>\n      <td>0</td>\n      <td>0</td>\n      <td>370376</td>\n      <td>7.7500</td>\n      <td>NaN</td>\n      <td>0.0</td>\n      <td>1.0</td>\n      <td>0.0</td>\n      <td>0.0</td>\n      <td>1.0</td>\n      <td>0.0</td>\n      <td>1.0</td>\n      <td>0.0</td>\n      <td>0.0</td>\n    </tr>\n  </tbody>\n</table>\n<p>891 rows × 18 columns</p>\n</div>"
          },
          "metadata": {}
        }
      ]
    },
    {
      "cell_type": "markdown",
      "source": [
        "### Normalizando\n",
        "\n",
        "Note que agora, todas as nossas colunas categóricas relevantes tem suas contrapartes categóricas (inclusive mais de uma).\n",
        "\n",
        "Esse processo que estamos fazendo se chama _pré-processamento_ e está centrado em tornar nossas bases adequadas para o algoritmo que pretendemos usar.\n",
        "\n",
        "Vamos então entender um novo processo de pré-processamento, agora para variáveis númericas. Uma boa prática que facilita o trabalho do nosso modelo é **normalizarmos variáveis numéricas**. Isto é, deixa-las todas com um `range` semelhante.\n",
        "\n",
        "Para isso podemos usar o `StandardScaler`, da biblioteca sklearn, para aplicarmos essas operações em nossa base, vamos aplica-las nas colunas `Age`, `SibSp` e `Fare`.\n",
        "\n",
        "Lembrando que para entender como usa você deve pesquisar por referência e exemplos na internet, e nunca se esqueça de olhar a [documentação oficial](https://scikit-learn.org/stable/modules/generated/sklearn.preprocessing.StandardScaler.html).\n",
        "\n",
        "Novamente, não se preocupe tanto com esse passo. Os comandos a serem executados estão logo abaixo. Substitua as colunas originais pelo resultado alcançado. Mas tente entender o que está acontecendo"
      ],
      "metadata": {
        "tags": [],
        "cell_id": "00012-1369d091-6d52-4c71-9412-a6637b45e72e",
        "deepnote_cell_type": "markdown",
        "deepnote_cell_height": 394.375,
        "id": "0rOfYPQhQmvW"
      }
    },
    {
      "cell_type": "code",
      "metadata": {
        "tags": [],
        "cell_id": "00013-afd44c09-268c-4e87-b5c4-a36848e7a35c",
        "deepnote_to_be_reexecuted": false,
        "source_hash": "54b69399",
        "execution_start": 1660612106419,
        "execution_millis": 130,
        "deepnote_cell_type": "code",
        "deepnote_cell_height": 775,
        "id": "RYhS8tFvQmvX",
        "outputId": "1c8577f5-fbb7-4a3b-9aa7-e7870c41dee3"
      },
      "source": [
        "from sklearn.preprocessing import StandardScaler\n",
        "\n",
        "features = ['Age', 'SibSp', 'Fare']\n",
        "\n",
        "ss = StandardScaler()\n",
        "\n",
        "ss.fit(train_df[features])\n",
        "\n",
        "train_df[features] = ss.transform(train_df[features])\n",
        "\n",
        "train_df"
      ],
      "execution_count": null,
      "outputs": [
        {
          "output_type": "execute_result",
          "execution_count": 53,
          "data": {
            "application/vnd.deepnote.dataframe.v3+json": {
              "column_count": 18,
              "row_count": 891,
              "columns": [
                {
                  "name": "PassengerId",
                  "dtype": "int64",
                  "stats": {
                    "unique_count": 891,
                    "nan_count": 0,
                    "min": "1",
                    "max": "891",
                    "histogram": [
                      {
                        "bin_start": 1,
                        "bin_end": 90,
                        "count": 89
                      },
                      {
                        "bin_start": 90,
                        "bin_end": 179,
                        "count": 89
                      },
                      {
                        "bin_start": 179,
                        "bin_end": 268,
                        "count": 89
                      },
                      {
                        "bin_start": 268,
                        "bin_end": 357,
                        "count": 89
                      },
                      {
                        "bin_start": 357,
                        "bin_end": 446,
                        "count": 89
                      },
                      {
                        "bin_start": 446,
                        "bin_end": 535,
                        "count": 89
                      },
                      {
                        "bin_start": 535,
                        "bin_end": 624,
                        "count": 89
                      },
                      {
                        "bin_start": 624,
                        "bin_end": 713,
                        "count": 89
                      },
                      {
                        "bin_start": 713,
                        "bin_end": 802,
                        "count": 89
                      },
                      {
                        "bin_start": 802,
                        "bin_end": 891,
                        "count": 90
                      }
                    ]
                  }
                },
                {
                  "name": "Survived",
                  "dtype": "int64",
                  "stats": {
                    "unique_count": 2,
                    "nan_count": 0,
                    "min": "0",
                    "max": "1",
                    "histogram": [
                      {
                        "bin_start": 0,
                        "bin_end": 0.1,
                        "count": 549
                      },
                      {
                        "bin_start": 0.1,
                        "bin_end": 0.2,
                        "count": 0
                      },
                      {
                        "bin_start": 0.2,
                        "bin_end": 0.30000000000000004,
                        "count": 0
                      },
                      {
                        "bin_start": 0.30000000000000004,
                        "bin_end": 0.4,
                        "count": 0
                      },
                      {
                        "bin_start": 0.4,
                        "bin_end": 0.5,
                        "count": 0
                      },
                      {
                        "bin_start": 0.5,
                        "bin_end": 0.6000000000000001,
                        "count": 0
                      },
                      {
                        "bin_start": 0.6000000000000001,
                        "bin_end": 0.7000000000000001,
                        "count": 0
                      },
                      {
                        "bin_start": 0.7000000000000001,
                        "bin_end": 0.8,
                        "count": 0
                      },
                      {
                        "bin_start": 0.8,
                        "bin_end": 0.9,
                        "count": 0
                      },
                      {
                        "bin_start": 0.9,
                        "bin_end": 1,
                        "count": 342
                      }
                    ]
                  }
                },
                {
                  "name": "Name",
                  "dtype": "object",
                  "stats": {
                    "unique_count": 891,
                    "nan_count": 0,
                    "categories": [
                      {
                        "name": "Braund, Mr. Owen Harris",
                        "count": 1
                      },
                      {
                        "name": "Cumings, Mrs. John Bradley (Florence Briggs Thayer)",
                        "count": 1
                      },
                      {
                        "name": "889 others",
                        "count": 889
                      }
                    ]
                  }
                },
                {
                  "name": "Age",
                  "dtype": "float64",
                  "stats": {
                    "unique_count": 88,
                    "nan_count": 177,
                    "min": "-2.0169791879680417",
                    "max": "3.4651260350566906",
                    "histogram": [
                      {
                        "bin_start": -2.0169791879680417,
                        "bin_end": -1.4687686656655685,
                        "count": 54
                      },
                      {
                        "bin_start": -1.4687686656655685,
                        "bin_end": -0.9205581433630954,
                        "count": 46
                      },
                      {
                        "bin_start": -0.9205581433630954,
                        "bin_end": -0.37234762106062225,
                        "count": 177
                      },
                      {
                        "bin_start": -0.37234762106062225,
                        "bin_end": 0.1758629012418509,
                        "count": 169
                      },
                      {
                        "bin_start": 0.1758629012418509,
                        "bin_end": 0.7240734235443242,
                        "count": 118
                      },
                      {
                        "bin_start": 0.7240734235443242,
                        "bin_end": 1.2722839458467972,
                        "count": 70
                      },
                      {
                        "bin_start": 1.2722839458467972,
                        "bin_end": 1.82049446814927,
                        "count": 45
                      },
                      {
                        "bin_start": 1.82049446814927,
                        "bin_end": 2.3687049904517434,
                        "count": 24
                      },
                      {
                        "bin_start": 2.3687049904517434,
                        "bin_end": 2.916915512754217,
                        "count": 9
                      },
                      {
                        "bin_start": 2.916915512754217,
                        "bin_end": 3.4651260350566906,
                        "count": 2
                      }
                    ]
                  }
                },
                {
                  "name": "SibSp",
                  "dtype": "float64",
                  "stats": {
                    "unique_count": 7,
                    "nan_count": 0,
                    "min": "-0.47454519624983954",
                    "max": "6.784163299176891",
                    "histogram": [
                      {
                        "bin_start": -0.47454519624983954,
                        "bin_end": 0.25132565329283346,
                        "count": 608
                      },
                      {
                        "bin_start": 0.25132565329283346,
                        "bin_end": 0.9771965028355065,
                        "count": 209
                      },
                      {
                        "bin_start": 0.9771965028355065,
                        "bin_end": 1.7030673523781794,
                        "count": 28
                      },
                      {
                        "bin_start": 1.7030673523781794,
                        "bin_end": 2.4289382019208525,
                        "count": 16
                      },
                      {
                        "bin_start": 2.4289382019208525,
                        "bin_end": 3.1548090514635256,
                        "count": 0
                      },
                      {
                        "bin_start": 3.1548090514635256,
                        "bin_end": 3.8806799010061983,
                        "count": 18
                      },
                      {
                        "bin_start": 3.8806799010061983,
                        "bin_end": 4.606550750548871,
                        "count": 5
                      },
                      {
                        "bin_start": 4.606550750548871,
                        "bin_end": 5.3324216000915445,
                        "count": 0
                      },
                      {
                        "bin_start": 5.3324216000915445,
                        "bin_end": 6.058292449634218,
                        "count": 0
                      },
                      {
                        "bin_start": 6.058292449634218,
                        "bin_end": 6.784163299176891,
                        "count": 7
                      }
                    ]
                  }
                },
                {
                  "name": "Parch",
                  "dtype": "int64",
                  "stats": {
                    "unique_count": 7,
                    "nan_count": 0,
                    "min": "0",
                    "max": "6",
                    "histogram": [
                      {
                        "bin_start": 0,
                        "bin_end": 0.6,
                        "count": 678
                      },
                      {
                        "bin_start": 0.6,
                        "bin_end": 1.2,
                        "count": 118
                      },
                      {
                        "bin_start": 1.2,
                        "bin_end": 1.7999999999999998,
                        "count": 0
                      },
                      {
                        "bin_start": 1.7999999999999998,
                        "bin_end": 2.4,
                        "count": 80
                      },
                      {
                        "bin_start": 2.4,
                        "bin_end": 3,
                        "count": 0
                      },
                      {
                        "bin_start": 3,
                        "bin_end": 3.5999999999999996,
                        "count": 5
                      },
                      {
                        "bin_start": 3.5999999999999996,
                        "bin_end": 4.2,
                        "count": 4
                      },
                      {
                        "bin_start": 4.2,
                        "bin_end": 4.8,
                        "count": 0
                      },
                      {
                        "bin_start": 4.8,
                        "bin_end": 5.3999999999999995,
                        "count": 5
                      },
                      {
                        "bin_start": 5.3999999999999995,
                        "bin_end": 6,
                        "count": 1
                      }
                    ]
                  }
                },
                {
                  "name": "Ticket",
                  "dtype": "object",
                  "stats": {
                    "unique_count": 681,
                    "nan_count": 0,
                    "categories": [
                      {
                        "name": "347082",
                        "count": 7
                      },
                      {
                        "name": "1601",
                        "count": 7
                      },
                      {
                        "name": "679 others",
                        "count": 877
                      }
                    ]
                  }
                },
                {
                  "name": "Fare",
                  "dtype": "float64",
                  "stats": {
                    "unique_count": 248,
                    "nan_count": 0,
                    "min": "-0.6484216535389205",
                    "max": "9.667166525013505",
                    "histogram": [
                      {
                        "bin_start": -0.6484216535389205,
                        "bin_end": 0.38313716431632194,
                        "count": 732
                      },
                      {
                        "bin_start": 0.38313716431632194,
                        "bin_end": 1.4146959821715643,
                        "count": 106
                      },
                      {
                        "bin_start": 1.4146959821715643,
                        "bin_end": 2.4462548000268063,
                        "count": 31
                      },
                      {
                        "bin_start": 2.4462548000268063,
                        "bin_end": 3.477813617882049,
                        "count": 2
                      },
                      {
                        "bin_start": 3.477813617882049,
                        "bin_end": 4.5093724357372915,
                        "count": 11
                      },
                      {
                        "bin_start": 4.5093724357372915,
                        "bin_end": 5.540931253592533,
                        "count": 6
                      },
                      {
                        "bin_start": 5.540931253592533,
                        "bin_end": 6.572490071447776,
                        "count": 0
                      },
                      {
                        "bin_start": 6.572490071447776,
                        "bin_end": 7.6040488893030185,
                        "count": 0
                      },
                      {
                        "bin_start": 7.6040488893030185,
                        "bin_end": 8.635607707158261,
                        "count": 0
                      },
                      {
                        "bin_start": 8.635607707158261,
                        "bin_end": 9.667166525013505,
                        "count": 3
                      }
                    ]
                  }
                },
                {
                  "name": "Cabin",
                  "dtype": "object",
                  "stats": {
                    "unique_count": 147,
                    "nan_count": 687,
                    "categories": [
                      {
                        "name": "G6",
                        "count": 4
                      },
                      {
                        "name": "146 others",
                        "count": 200
                      },
                      {
                        "name": "Missing",
                        "count": 687
                      }
                    ]
                  }
                },
                {
                  "name": "Sex_female",
                  "dtype": "float64",
                  "stats": {
                    "unique_count": 2,
                    "nan_count": 0,
                    "min": "0.0",
                    "max": "1.0",
                    "histogram": [
                      {
                        "bin_start": 0,
                        "bin_end": 0.1,
                        "count": 577
                      },
                      {
                        "bin_start": 0.1,
                        "bin_end": 0.2,
                        "count": 0
                      },
                      {
                        "bin_start": 0.2,
                        "bin_end": 0.30000000000000004,
                        "count": 0
                      },
                      {
                        "bin_start": 0.30000000000000004,
                        "bin_end": 0.4,
                        "count": 0
                      },
                      {
                        "bin_start": 0.4,
                        "bin_end": 0.5,
                        "count": 0
                      },
                      {
                        "bin_start": 0.5,
                        "bin_end": 0.6000000000000001,
                        "count": 0
                      },
                      {
                        "bin_start": 0.6000000000000001,
                        "bin_end": 0.7000000000000001,
                        "count": 0
                      },
                      {
                        "bin_start": 0.7000000000000001,
                        "bin_end": 0.8,
                        "count": 0
                      },
                      {
                        "bin_start": 0.8,
                        "bin_end": 0.9,
                        "count": 0
                      },
                      {
                        "bin_start": 0.9,
                        "bin_end": 1,
                        "count": 314
                      }
                    ]
                  }
                },
                {
                  "name": "Sex_male",
                  "dtype": "float64",
                  "stats": {
                    "unique_count": 2,
                    "nan_count": 0,
                    "min": "0.0",
                    "max": "1.0",
                    "histogram": [
                      {
                        "bin_start": 0,
                        "bin_end": 0.1,
                        "count": 314
                      },
                      {
                        "bin_start": 0.1,
                        "bin_end": 0.2,
                        "count": 0
                      },
                      {
                        "bin_start": 0.2,
                        "bin_end": 0.30000000000000004,
                        "count": 0
                      },
                      {
                        "bin_start": 0.30000000000000004,
                        "bin_end": 0.4,
                        "count": 0
                      },
                      {
                        "bin_start": 0.4,
                        "bin_end": 0.5,
                        "count": 0
                      },
                      {
                        "bin_start": 0.5,
                        "bin_end": 0.6000000000000001,
                        "count": 0
                      },
                      {
                        "bin_start": 0.6000000000000001,
                        "bin_end": 0.7000000000000001,
                        "count": 0
                      },
                      {
                        "bin_start": 0.7000000000000001,
                        "bin_end": 0.8,
                        "count": 0
                      },
                      {
                        "bin_start": 0.8,
                        "bin_end": 0.9,
                        "count": 0
                      },
                      {
                        "bin_start": 0.9,
                        "bin_end": 1,
                        "count": 577
                      }
                    ]
                  }
                },
                {
                  "name": "Pclass_1",
                  "dtype": "float64",
                  "stats": {
                    "unique_count": 2,
                    "nan_count": 0,
                    "min": "0.0",
                    "max": "1.0",
                    "histogram": [
                      {
                        "bin_start": 0,
                        "bin_end": 0.1,
                        "count": 675
                      },
                      {
                        "bin_start": 0.1,
                        "bin_end": 0.2,
                        "count": 0
                      },
                      {
                        "bin_start": 0.2,
                        "bin_end": 0.30000000000000004,
                        "count": 0
                      },
                      {
                        "bin_start": 0.30000000000000004,
                        "bin_end": 0.4,
                        "count": 0
                      },
                      {
                        "bin_start": 0.4,
                        "bin_end": 0.5,
                        "count": 0
                      },
                      {
                        "bin_start": 0.5,
                        "bin_end": 0.6000000000000001,
                        "count": 0
                      },
                      {
                        "bin_start": 0.6000000000000001,
                        "bin_end": 0.7000000000000001,
                        "count": 0
                      },
                      {
                        "bin_start": 0.7000000000000001,
                        "bin_end": 0.8,
                        "count": 0
                      },
                      {
                        "bin_start": 0.8,
                        "bin_end": 0.9,
                        "count": 0
                      },
                      {
                        "bin_start": 0.9,
                        "bin_end": 1,
                        "count": 216
                      }
                    ]
                  }
                },
                {
                  "name": "Pclass_2",
                  "dtype": "float64",
                  "stats": {
                    "unique_count": 2,
                    "nan_count": 0,
                    "min": "0.0",
                    "max": "1.0",
                    "histogram": [
                      {
                        "bin_start": 0,
                        "bin_end": 0.1,
                        "count": 707
                      },
                      {
                        "bin_start": 0.1,
                        "bin_end": 0.2,
                        "count": 0
                      },
                      {
                        "bin_start": 0.2,
                        "bin_end": 0.30000000000000004,
                        "count": 0
                      },
                      {
                        "bin_start": 0.30000000000000004,
                        "bin_end": 0.4,
                        "count": 0
                      },
                      {
                        "bin_start": 0.4,
                        "bin_end": 0.5,
                        "count": 0
                      },
                      {
                        "bin_start": 0.5,
                        "bin_end": 0.6000000000000001,
                        "count": 0
                      },
                      {
                        "bin_start": 0.6000000000000001,
                        "bin_end": 0.7000000000000001,
                        "count": 0
                      },
                      {
                        "bin_start": 0.7000000000000001,
                        "bin_end": 0.8,
                        "count": 0
                      },
                      {
                        "bin_start": 0.8,
                        "bin_end": 0.9,
                        "count": 0
                      },
                      {
                        "bin_start": 0.9,
                        "bin_end": 1,
                        "count": 184
                      }
                    ]
                  }
                },
                {
                  "name": "Pclass_3",
                  "dtype": "float64",
                  "stats": {
                    "unique_count": 2,
                    "nan_count": 0,
                    "min": "0.0",
                    "max": "1.0",
                    "histogram": [
                      {
                        "bin_start": 0,
                        "bin_end": 0.1,
                        "count": 400
                      },
                      {
                        "bin_start": 0.1,
                        "bin_end": 0.2,
                        "count": 0
                      },
                      {
                        "bin_start": 0.2,
                        "bin_end": 0.30000000000000004,
                        "count": 0
                      },
                      {
                        "bin_start": 0.30000000000000004,
                        "bin_end": 0.4,
                        "count": 0
                      },
                      {
                        "bin_start": 0.4,
                        "bin_end": 0.5,
                        "count": 0
                      },
                      {
                        "bin_start": 0.5,
                        "bin_end": 0.6000000000000001,
                        "count": 0
                      },
                      {
                        "bin_start": 0.6000000000000001,
                        "bin_end": 0.7000000000000001,
                        "count": 0
                      },
                      {
                        "bin_start": 0.7000000000000001,
                        "bin_end": 0.8,
                        "count": 0
                      },
                      {
                        "bin_start": 0.8,
                        "bin_end": 0.9,
                        "count": 0
                      },
                      {
                        "bin_start": 0.9,
                        "bin_end": 1,
                        "count": 491
                      }
                    ]
                  }
                },
                {
                  "name": "Embarked_C",
                  "dtype": "float64",
                  "stats": {
                    "unique_count": 2,
                    "nan_count": 0,
                    "min": "0.0",
                    "max": "1.0",
                    "histogram": [
                      {
                        "bin_start": 0,
                        "bin_end": 0.1,
                        "count": 723
                      },
                      {
                        "bin_start": 0.1,
                        "bin_end": 0.2,
                        "count": 0
                      },
                      {
                        "bin_start": 0.2,
                        "bin_end": 0.30000000000000004,
                        "count": 0
                      },
                      {
                        "bin_start": 0.30000000000000004,
                        "bin_end": 0.4,
                        "count": 0
                      },
                      {
                        "bin_start": 0.4,
                        "bin_end": 0.5,
                        "count": 0
                      },
                      {
                        "bin_start": 0.5,
                        "bin_end": 0.6000000000000001,
                        "count": 0
                      },
                      {
                        "bin_start": 0.6000000000000001,
                        "bin_end": 0.7000000000000001,
                        "count": 0
                      },
                      {
                        "bin_start": 0.7000000000000001,
                        "bin_end": 0.8,
                        "count": 0
                      },
                      {
                        "bin_start": 0.8,
                        "bin_end": 0.9,
                        "count": 0
                      },
                      {
                        "bin_start": 0.9,
                        "bin_end": 1,
                        "count": 168
                      }
                    ]
                  }
                },
                {
                  "name": "Embarked_Q",
                  "dtype": "float64",
                  "stats": {
                    "unique_count": 2,
                    "nan_count": 0,
                    "min": "0.0",
                    "max": "1.0",
                    "histogram": [
                      {
                        "bin_start": 0,
                        "bin_end": 0.1,
                        "count": 814
                      },
                      {
                        "bin_start": 0.1,
                        "bin_end": 0.2,
                        "count": 0
                      },
                      {
                        "bin_start": 0.2,
                        "bin_end": 0.30000000000000004,
                        "count": 0
                      },
                      {
                        "bin_start": 0.30000000000000004,
                        "bin_end": 0.4,
                        "count": 0
                      },
                      {
                        "bin_start": 0.4,
                        "bin_end": 0.5,
                        "count": 0
                      },
                      {
                        "bin_start": 0.5,
                        "bin_end": 0.6000000000000001,
                        "count": 0
                      },
                      {
                        "bin_start": 0.6000000000000001,
                        "bin_end": 0.7000000000000001,
                        "count": 0
                      },
                      {
                        "bin_start": 0.7000000000000001,
                        "bin_end": 0.8,
                        "count": 0
                      },
                      {
                        "bin_start": 0.8,
                        "bin_end": 0.9,
                        "count": 0
                      },
                      {
                        "bin_start": 0.9,
                        "bin_end": 1,
                        "count": 77
                      }
                    ]
                  }
                },
                {
                  "name": "Embarked_S",
                  "dtype": "float64",
                  "stats": {
                    "unique_count": 2,
                    "nan_count": 0,
                    "min": "0.0",
                    "max": "1.0",
                    "histogram": [
                      {
                        "bin_start": 0,
                        "bin_end": 0.1,
                        "count": 247
                      },
                      {
                        "bin_start": 0.1,
                        "bin_end": 0.2,
                        "count": 0
                      },
                      {
                        "bin_start": 0.2,
                        "bin_end": 0.30000000000000004,
                        "count": 0
                      },
                      {
                        "bin_start": 0.30000000000000004,
                        "bin_end": 0.4,
                        "count": 0
                      },
                      {
                        "bin_start": 0.4,
                        "bin_end": 0.5,
                        "count": 0
                      },
                      {
                        "bin_start": 0.5,
                        "bin_end": 0.6000000000000001,
                        "count": 0
                      },
                      {
                        "bin_start": 0.6000000000000001,
                        "bin_end": 0.7000000000000001,
                        "count": 0
                      },
                      {
                        "bin_start": 0.7000000000000001,
                        "bin_end": 0.8,
                        "count": 0
                      },
                      {
                        "bin_start": 0.8,
                        "bin_end": 0.9,
                        "count": 0
                      },
                      {
                        "bin_start": 0.9,
                        "bin_end": 1,
                        "count": 644
                      }
                    ]
                  }
                },
                {
                  "name": "Embarked_nan",
                  "dtype": "float64",
                  "stats": {
                    "unique_count": 2,
                    "nan_count": 0,
                    "min": "0.0",
                    "max": "1.0",
                    "histogram": [
                      {
                        "bin_start": 0,
                        "bin_end": 0.1,
                        "count": 889
                      },
                      {
                        "bin_start": 0.1,
                        "bin_end": 0.2,
                        "count": 0
                      },
                      {
                        "bin_start": 0.2,
                        "bin_end": 0.30000000000000004,
                        "count": 0
                      },
                      {
                        "bin_start": 0.30000000000000004,
                        "bin_end": 0.4,
                        "count": 0
                      },
                      {
                        "bin_start": 0.4,
                        "bin_end": 0.5,
                        "count": 0
                      },
                      {
                        "bin_start": 0.5,
                        "bin_end": 0.6000000000000001,
                        "count": 0
                      },
                      {
                        "bin_start": 0.6000000000000001,
                        "bin_end": 0.7000000000000001,
                        "count": 0
                      },
                      {
                        "bin_start": 0.7000000000000001,
                        "bin_end": 0.8,
                        "count": 0
                      },
                      {
                        "bin_start": 0.8,
                        "bin_end": 0.9,
                        "count": 0
                      },
                      {
                        "bin_start": 0.9,
                        "bin_end": 1,
                        "count": 2
                      }
                    ]
                  }
                },
                {
                  "name": "_deepnote_index_column",
                  "dtype": "int64"
                }
              ],
              "rows": [
                {
                  "PassengerId": 1,
                  "Survived": 0,
                  "Name": "Braund, Mr. Owen Harris",
                  "Age": -0.5303766406838785,
                  "SibSp": 0.4327933656785018,
                  "Parch": 0,
                  "Ticket": "A/5 21171",
                  "Fare": -0.5024451714361923,
                  "Cabin": "nan",
                  "Sex_female": 0,
                  "Sex_male": 1,
                  "Pclass_1": 0,
                  "Pclass_2": 0,
                  "Pclass_3": 1,
                  "Embarked_C": 0,
                  "Embarked_Q": 0,
                  "Embarked_S": 1,
                  "Embarked_nan": 0,
                  "_deepnote_index_column": 0
                },
                {
                  "PassengerId": 2,
                  "Survived": 1,
                  "Name": "Cumings, Mrs. John Bradley (Florence Briggs Thayer)",
                  "Age": 0.571830994003175,
                  "SibSp": 0.4327933656785018,
                  "Parch": 0,
                  "Ticket": "PC 17599",
                  "Fare": 0.7868452935884461,
                  "Cabin": "C85",
                  "Sex_female": 1,
                  "Sex_male": 0,
                  "Pclass_1": 1,
                  "Pclass_2": 0,
                  "Pclass_3": 0,
                  "Embarked_C": 1,
                  "Embarked_Q": 0,
                  "Embarked_S": 0,
                  "Embarked_nan": 0,
                  "_deepnote_index_column": 1
                },
                {
                  "PassengerId": 3,
                  "Survived": 1,
                  "Name": "Heikkinen, Miss. Laina",
                  "Age": -0.25482473201211503,
                  "SibSp": -0.47454519624983954,
                  "Parch": 0,
                  "Ticket": "STON/O2. 3101282",
                  "Fare": -0.4888542575852486,
                  "Cabin": "nan",
                  "Sex_female": 1,
                  "Sex_male": 0,
                  "Pclass_1": 0,
                  "Pclass_2": 0,
                  "Pclass_3": 1,
                  "Embarked_C": 0,
                  "Embarked_Q": 0,
                  "Embarked_S": 1,
                  "Embarked_nan": 0,
                  "_deepnote_index_column": 2
                },
                {
                  "PassengerId": 4,
                  "Survived": 1,
                  "Name": "Futrelle, Mrs. Jacques Heath (Lily May Peel)",
                  "Age": 0.36516706249935255,
                  "SibSp": 0.4327933656785018,
                  "Parch": 0,
                  "Ticket": "113803",
                  "Fare": 0.4207302360686478,
                  "Cabin": "C123",
                  "Sex_female": 1,
                  "Sex_male": 0,
                  "Pclass_1": 1,
                  "Pclass_2": 0,
                  "Pclass_3": 0,
                  "Embarked_C": 0,
                  "Embarked_Q": 0,
                  "Embarked_S": 1,
                  "Embarked_nan": 0,
                  "_deepnote_index_column": 3
                },
                {
                  "PassengerId": 5,
                  "Survived": 0,
                  "Name": "Allen, Mr. William Henry",
                  "Age": 0.36516706249935255,
                  "SibSp": -0.47454519624983954,
                  "Parch": 0,
                  "Ticket": "373450",
                  "Fare": -0.4863374216869257,
                  "Cabin": "nan",
                  "Sex_female": 0,
                  "Sex_male": 1,
                  "Pclass_1": 0,
                  "Pclass_2": 0,
                  "Pclass_3": 1,
                  "Embarked_C": 0,
                  "Embarked_Q": 0,
                  "Embarked_S": 1,
                  "Embarked_nan": 0,
                  "_deepnote_index_column": 4
                },
                {
                  "PassengerId": 6,
                  "Survived": 0,
                  "Name": "Moran, Mr. James",
                  "Age": "nan",
                  "SibSp": -0.47454519624983954,
                  "Parch": 0,
                  "Ticket": "330877",
                  "Fare": -0.47811642890864375,
                  "Cabin": "nan",
                  "Sex_female": 0,
                  "Sex_male": 1,
                  "Pclass_1": 0,
                  "Pclass_2": 0,
                  "Pclass_3": 1,
                  "Embarked_C": 0,
                  "Embarked_Q": 1,
                  "Embarked_S": 0,
                  "Embarked_nan": 0,
                  "_deepnote_index_column": 5
                },
                {
                  "PassengerId": 7,
                  "Survived": 0,
                  "Name": "McCarthy, Mr. Timothy J",
                  "Age": 1.6740386286902287,
                  "SibSp": -0.47454519624983954,
                  "Parch": 0,
                  "Ticket": "17463",
                  "Fare": 0.395813560675251,
                  "Cabin": "E46",
                  "Sex_female": 0,
                  "Sex_male": 1,
                  "Pclass_1": 1,
                  "Pclass_2": 0,
                  "Pclass_3": 0,
                  "Embarked_C": 0,
                  "Embarked_Q": 0,
                  "Embarked_S": 1,
                  "Embarked_nan": 0,
                  "_deepnote_index_column": 6
                },
                {
                  "PassengerId": 8,
                  "Survived": 0,
                  "Name": "Palsson, Master. Gosta Leonard",
                  "Age": -1.9081361840426954,
                  "SibSp": 2.2474704895351842,
                  "Parch": 1,
                  "Ticket": "349909",
                  "Fare": -0.22408312108167944,
                  "Cabin": "nan",
                  "Sex_female": 0,
                  "Sex_male": 1,
                  "Pclass_1": 0,
                  "Pclass_2": 0,
                  "Pclass_3": 1,
                  "Embarked_C": 0,
                  "Embarked_Q": 0,
                  "Embarked_S": 1,
                  "Embarked_nan": 0,
                  "_deepnote_index_column": 7
                },
                {
                  "PassengerId": 9,
                  "Survived": 1,
                  "Name": "Johnson, Mrs. Oscar W (Elisabeth Vilhelmina Berg)",
                  "Age": -0.1859367548441742,
                  "SibSp": -0.47454519624983954,
                  "Parch": 2,
                  "Ticket": "347742",
                  "Fare": -0.4242561406845337,
                  "Cabin": "nan",
                  "Sex_female": 1,
                  "Sex_male": 0,
                  "Pclass_1": 0,
                  "Pclass_2": 0,
                  "Pclass_3": 1,
                  "Embarked_C": 0,
                  "Embarked_Q": 0,
                  "Embarked_S": 1,
                  "Embarked_nan": 0,
                  "_deepnote_index_column": 8
                },
                {
                  "PassengerId": 10,
                  "Survived": 1,
                  "Name": "Nasser, Mrs. Nicholas (Adele Achem)",
                  "Age": -1.0814804580274051,
                  "SibSp": 0.4327933656785018,
                  "Parch": 0,
                  "Ticket": "237736",
                  "Fare": -0.04295550208861426,
                  "Cabin": "nan",
                  "Sex_female": 1,
                  "Sex_male": 0,
                  "Pclass_1": 0,
                  "Pclass_2": 1,
                  "Pclass_3": 0,
                  "Embarked_C": 1,
                  "Embarked_Q": 0,
                  "Embarked_S": 0,
                  "Embarked_nan": 0,
                  "_deepnote_index_column": 9
                }
              ]
            },
            "text/plain": "     PassengerId  Survived                                               Name  \\\n0              1         0                            Braund, Mr. Owen Harris   \n1              2         1  Cumings, Mrs. John Bradley (Florence Briggs Th...   \n2              3         1                             Heikkinen, Miss. Laina   \n3              4         1       Futrelle, Mrs. Jacques Heath (Lily May Peel)   \n4              5         0                           Allen, Mr. William Henry   \n..           ...       ...                                                ...   \n886          887         0                              Montvila, Rev. Juozas   \n887          888         1                       Graham, Miss. Margaret Edith   \n888          889         0           Johnston, Miss. Catherine Helen \"Carrie\"   \n889          890         1                              Behr, Mr. Karl Howell   \n890          891         0                                Dooley, Mr. Patrick   \n\n          Age     SibSp  Parch            Ticket      Fare Cabin  Sex_female  \\\n0   -0.530377  0.432793      0         A/5 21171 -0.502445   NaN         0.0   \n1    0.571831  0.432793      0          PC 17599  0.786845   C85         1.0   \n2   -0.254825 -0.474545      0  STON/O2. 3101282 -0.488854   NaN         1.0   \n3    0.365167  0.432793      0            113803  0.420730  C123         1.0   \n4    0.365167 -0.474545      0            373450 -0.486337   NaN         0.0   \n..        ...       ...    ...               ...       ...   ...         ...   \n886 -0.185937 -0.474545      0            211536 -0.386671   NaN         0.0   \n887 -0.737041 -0.474545      0            112053 -0.044381   B42         1.0   \n888       NaN  0.432793      2        W./C. 6607 -0.176263   NaN         1.0   \n889 -0.254825 -0.474545      0            111369 -0.044381  C148         0.0   \n890  0.158503 -0.474545      0            370376 -0.492378   NaN         0.0   \n\n     Sex_male  Pclass_1  Pclass_2  Pclass_3  Embarked_C  Embarked_Q  \\\n0         1.0       0.0       0.0       1.0         0.0         0.0   \n1         0.0       1.0       0.0       0.0         1.0         0.0   \n2         0.0       0.0       0.0       1.0         0.0         0.0   \n3         0.0       1.0       0.0       0.0         0.0         0.0   \n4         1.0       0.0       0.0       1.0         0.0         0.0   \n..        ...       ...       ...       ...         ...         ...   \n886       1.0       0.0       1.0       0.0         0.0         0.0   \n887       0.0       1.0       0.0       0.0         0.0         0.0   \n888       0.0       0.0       0.0       1.0         0.0         0.0   \n889       1.0       1.0       0.0       0.0         1.0         0.0   \n890       1.0       0.0       0.0       1.0         0.0         1.0   \n\n     Embarked_S  Embarked_nan  \n0           1.0           0.0  \n1           0.0           0.0  \n2           1.0           0.0  \n3           1.0           0.0  \n4           1.0           0.0  \n..          ...           ...  \n886         1.0           0.0  \n887         1.0           0.0  \n888         1.0           0.0  \n889         0.0           0.0  \n890         0.0           0.0  \n\n[891 rows x 18 columns]",
            "text/html": "<div>\n<style scoped>\n    .dataframe tbody tr th:only-of-type {\n        vertical-align: middle;\n    }\n\n    .dataframe tbody tr th {\n        vertical-align: top;\n    }\n\n    .dataframe thead th {\n        text-align: right;\n    }\n</style>\n<table border=\"1\" class=\"dataframe\">\n  <thead>\n    <tr style=\"text-align: right;\">\n      <th></th>\n      <th>PassengerId</th>\n      <th>Survived</th>\n      <th>Name</th>\n      <th>Age</th>\n      <th>SibSp</th>\n      <th>Parch</th>\n      <th>Ticket</th>\n      <th>Fare</th>\n      <th>Cabin</th>\n      <th>Sex_female</th>\n      <th>Sex_male</th>\n      <th>Pclass_1</th>\n      <th>Pclass_2</th>\n      <th>Pclass_3</th>\n      <th>Embarked_C</th>\n      <th>Embarked_Q</th>\n      <th>Embarked_S</th>\n      <th>Embarked_nan</th>\n    </tr>\n  </thead>\n  <tbody>\n    <tr>\n      <th>0</th>\n      <td>1</td>\n      <td>0</td>\n      <td>Braund, Mr. Owen Harris</td>\n      <td>-0.530377</td>\n      <td>0.432793</td>\n      <td>0</td>\n      <td>A/5 21171</td>\n      <td>-0.502445</td>\n      <td>NaN</td>\n      <td>0.0</td>\n      <td>1.0</td>\n      <td>0.0</td>\n      <td>0.0</td>\n      <td>1.0</td>\n      <td>0.0</td>\n      <td>0.0</td>\n      <td>1.0</td>\n      <td>0.0</td>\n    </tr>\n    <tr>\n      <th>1</th>\n      <td>2</td>\n      <td>1</td>\n      <td>Cumings, Mrs. John Bradley (Florence Briggs Th...</td>\n      <td>0.571831</td>\n      <td>0.432793</td>\n      <td>0</td>\n      <td>PC 17599</td>\n      <td>0.786845</td>\n      <td>C85</td>\n      <td>1.0</td>\n      <td>0.0</td>\n      <td>1.0</td>\n      <td>0.0</td>\n      <td>0.0</td>\n      <td>1.0</td>\n      <td>0.0</td>\n      <td>0.0</td>\n      <td>0.0</td>\n    </tr>\n    <tr>\n      <th>2</th>\n      <td>3</td>\n      <td>1</td>\n      <td>Heikkinen, Miss. Laina</td>\n      <td>-0.254825</td>\n      <td>-0.474545</td>\n      <td>0</td>\n      <td>STON/O2. 3101282</td>\n      <td>-0.488854</td>\n      <td>NaN</td>\n      <td>1.0</td>\n      <td>0.0</td>\n      <td>0.0</td>\n      <td>0.0</td>\n      <td>1.0</td>\n      <td>0.0</td>\n      <td>0.0</td>\n      <td>1.0</td>\n      <td>0.0</td>\n    </tr>\n    <tr>\n      <th>3</th>\n      <td>4</td>\n      <td>1</td>\n      <td>Futrelle, Mrs. Jacques Heath (Lily May Peel)</td>\n      <td>0.365167</td>\n      <td>0.432793</td>\n      <td>0</td>\n      <td>113803</td>\n      <td>0.420730</td>\n      <td>C123</td>\n      <td>1.0</td>\n      <td>0.0</td>\n      <td>1.0</td>\n      <td>0.0</td>\n      <td>0.0</td>\n      <td>0.0</td>\n      <td>0.0</td>\n      <td>1.0</td>\n      <td>0.0</td>\n    </tr>\n    <tr>\n      <th>4</th>\n      <td>5</td>\n      <td>0</td>\n      <td>Allen, Mr. William Henry</td>\n      <td>0.365167</td>\n      <td>-0.474545</td>\n      <td>0</td>\n      <td>373450</td>\n      <td>-0.486337</td>\n      <td>NaN</td>\n      <td>0.0</td>\n      <td>1.0</td>\n      <td>0.0</td>\n      <td>0.0</td>\n      <td>1.0</td>\n      <td>0.0</td>\n      <td>0.0</td>\n      <td>1.0</td>\n      <td>0.0</td>\n    </tr>\n    <tr>\n      <th>...</th>\n      <td>...</td>\n      <td>...</td>\n      <td>...</td>\n      <td>...</td>\n      <td>...</td>\n      <td>...</td>\n      <td>...</td>\n      <td>...</td>\n      <td>...</td>\n      <td>...</td>\n      <td>...</td>\n      <td>...</td>\n      <td>...</td>\n      <td>...</td>\n      <td>...</td>\n      <td>...</td>\n      <td>...</td>\n      <td>...</td>\n    </tr>\n    <tr>\n      <th>886</th>\n      <td>887</td>\n      <td>0</td>\n      <td>Montvila, Rev. Juozas</td>\n      <td>-0.185937</td>\n      <td>-0.474545</td>\n      <td>0</td>\n      <td>211536</td>\n      <td>-0.386671</td>\n      <td>NaN</td>\n      <td>0.0</td>\n      <td>1.0</td>\n      <td>0.0</td>\n      <td>1.0</td>\n      <td>0.0</td>\n      <td>0.0</td>\n      <td>0.0</td>\n      <td>1.0</td>\n      <td>0.0</td>\n    </tr>\n    <tr>\n      <th>887</th>\n      <td>888</td>\n      <td>1</td>\n      <td>Graham, Miss. Margaret Edith</td>\n      <td>-0.737041</td>\n      <td>-0.474545</td>\n      <td>0</td>\n      <td>112053</td>\n      <td>-0.044381</td>\n      <td>B42</td>\n      <td>1.0</td>\n      <td>0.0</td>\n      <td>1.0</td>\n      <td>0.0</td>\n      <td>0.0</td>\n      <td>0.0</td>\n      <td>0.0</td>\n      <td>1.0</td>\n      <td>0.0</td>\n    </tr>\n    <tr>\n      <th>888</th>\n      <td>889</td>\n      <td>0</td>\n      <td>Johnston, Miss. Catherine Helen \"Carrie\"</td>\n      <td>NaN</td>\n      <td>0.432793</td>\n      <td>2</td>\n      <td>W./C. 6607</td>\n      <td>-0.176263</td>\n      <td>NaN</td>\n      <td>1.0</td>\n      <td>0.0</td>\n      <td>0.0</td>\n      <td>0.0</td>\n      <td>1.0</td>\n      <td>0.0</td>\n      <td>0.0</td>\n      <td>1.0</td>\n      <td>0.0</td>\n    </tr>\n    <tr>\n      <th>889</th>\n      <td>890</td>\n      <td>1</td>\n      <td>Behr, Mr. Karl Howell</td>\n      <td>-0.254825</td>\n      <td>-0.474545</td>\n      <td>0</td>\n      <td>111369</td>\n      <td>-0.044381</td>\n      <td>C148</td>\n      <td>0.0</td>\n      <td>1.0</td>\n      <td>1.0</td>\n      <td>0.0</td>\n      <td>0.0</td>\n      <td>1.0</td>\n      <td>0.0</td>\n      <td>0.0</td>\n      <td>0.0</td>\n    </tr>\n    <tr>\n      <th>890</th>\n      <td>891</td>\n      <td>0</td>\n      <td>Dooley, Mr. Patrick</td>\n      <td>0.158503</td>\n      <td>-0.474545</td>\n      <td>0</td>\n      <td>370376</td>\n      <td>-0.492378</td>\n      <td>NaN</td>\n      <td>0.0</td>\n      <td>1.0</td>\n      <td>0.0</td>\n      <td>0.0</td>\n      <td>1.0</td>\n      <td>0.0</td>\n      <td>1.0</td>\n      <td>0.0</td>\n      <td>0.0</td>\n    </tr>\n  </tbody>\n</table>\n<p>891 rows × 18 columns</p>\n</div>"
          },
          "metadata": {}
        }
      ]
    },
    {
      "cell_type": "markdown",
      "source": [
        "### Eliminando valores nulos\n",
        "\n",
        "Agora antes de irmos adiante existe uma coisa sobre regressão logística e valores numéricos que precisamos saber: _Regressões odeiam valores nulos!_ (você consegue entender o porque disso?)\n",
        "\n",
        "Analise as três colunas geradas e verifique se temos valores nulos nelas\n",
        "\n",
        "Substitua esses valores nulos pela mediana, essa é uma tecnica comum para evitar problemas de valores nulos.\n",
        "\n",
        "Uso métodos do pandas para isso. Essa aqui eu deixo com vocês escrever o código para fazer isso."
      ],
      "metadata": {
        "tags": [],
        "cell_id": "00014-dc833474-ab12-4b73-8c92-ebaad54ceb6f",
        "deepnote_cell_type": "markdown",
        "deepnote_cell_height": 231.984375,
        "id": "akOszIesQmvX"
      }
    },
    {
      "cell_type": "code",
      "source": [
        "#Questão 10\n",
        "#preencha os valores vazios da cooluna `Age` com a média da idade dos passageiros"
      ],
      "metadata": {
        "tags": [],
        "cell_id": "00015-9216a8b7-6021-428f-a990-64725678a169",
        "deepnote_to_be_reexecuted": false,
        "source_hash": "3c12190d",
        "execution_start": 1660608501639,
        "execution_millis": 3,
        "deepnote_cell_type": "code",
        "deepnote_cell_height": 94,
        "id": "jlFzn88BQmvX"
      },
      "execution_count": null,
      "outputs": []
    },
    {
      "cell_type": "code",
      "source": [
        "#gabarito questão 10\n",
        "train_df['Age'].fillna(train_df['Age'].median(), inplace=True)"
      ],
      "metadata": {
        "tags": [],
        "cell_id": "33f0cd1a060440afb98283d4eb375350",
        "deepnote_to_be_reexecuted": false,
        "source_hash": "ffe10ae8",
        "allow_embed": false,
        "execution_start": 1660612208018,
        "execution_millis": 0,
        "deepnote_cell_type": "code",
        "deepnote_cell_height": 94,
        "id": "7IdFLZhOQmvX"
      },
      "outputs": [],
      "execution_count": null
    },
    {
      "cell_type": "markdown",
      "source": [
        "### Ajustando o arquivo de teste\n",
        "\n",
        "Como voce percebeu, fizemos diversas alterações nos dados que carregamos do arquivo 'titanic_train.csv'\n",
        "Precisamos repetir os mesmos passos para os dados de teste! Os comandos são os mesmos.\n",
        "\n",
        "Carregue a base de teste e faça as mesmas transformações (`OneHotEnconding` e `StandardScalar`)."
      ],
      "metadata": {
        "cell_id": "8094c522ab544fde9a06d38465495549",
        "tags": [],
        "deepnote_cell_type": "markdown",
        "deepnote_cell_height": 159.1875,
        "id": "cd6EnDEWQmvY"
      }
    },
    {
      "cell_type": "code",
      "source": [
        "test_df = pd.read_csv('dataset/titanic_test.csv')\n",
        "\n",
        "test_df['Age'].fillna(test_df['Age'].median(), inplace=True)\n",
        "test_df['Fare'].fillna(test_df['Fare'].median(), inplace=True)\n",
        "\n",
        "features = ['Age', 'SibSp', 'Fare']\n",
        "test_df[features] = ss.transform(test_df[features])\n",
        "\n",
        "encoder = OneHotEncoder(sparse=False)\n",
        "\n",
        "test_X_encoded = pd.DataFrame(encoder.fit_transform(test_df[['Sex', 'Pclass', 'Embarked']]))\n",
        "test_X_encoded.columns = encoder.get_feature_names(['Sex', 'Pclass', 'Embarked'])\n",
        "test_df.drop(['Sex', 'Pclass', 'Embarked'] ,axis=1, inplace=True)\n",
        "test_df = pd.concat([test_df, test_X_encoded ], axis=1)"
      ],
      "metadata": {
        "cell_id": "7b5e6f297aae42d9898d030fc0d59448",
        "tags": [],
        "deepnote_to_be_reexecuted": false,
        "source_hash": "56ff99e",
        "execution_start": 1660612247028,
        "execution_millis": 34,
        "deepnote_cell_type": "code",
        "deepnote_cell_height": 364.890625,
        "id": "rg-uPc__QmvY",
        "outputId": "801f8edd-72f9-4f70-9cb4-c38d507b3233"
      },
      "outputs": [
        {
          "name": "stderr",
          "text": "/shared-libs/python3.7/py/lib/python3.7/site-packages/sklearn/utils/deprecation.py:87: FutureWarning: Function get_feature_names is deprecated; get_feature_names is deprecated in 1.0 and will be removed in 1.2. Please use get_feature_names_out instead.\n  warnings.warn(msg, category=FutureWarning)\n",
          "output_type": "stream"
        }
      ],
      "execution_count": null
    },
    {
      "cell_type": "markdown",
      "source": [
        "Perceba que a coluna `Survived` não esta no arquivo `titanic_test.csv`,ao invés disso está no arquivo `titanic_test_results.csv`.\n",
        "Vamos aproveitar e já deixar tudo preparado. Apenas execute os comandos abaixo mas sempre entendendo o que está acontecendo!"
      ],
      "metadata": {
        "cell_id": "ef5d53d0ac9a4ffab51f36d4c90bfc2b",
        "tags": [],
        "deepnote_cell_type": "markdown",
        "deepnote_cell_height": 119.59375,
        "id": "r3HtBr8iQmvY"
      }
    },
    {
      "cell_type": "code",
      "source": [
        "features = ['Age', 'SibSp', 'Fare', 'Embarked_C', 'Embarked_Q', 'Embarked_S', 'Embarked_nan', 'Sex_female', 'Sex_male', 'Pclass_1', 'Pclass_2',\n",
        "       'Pclass_3'] #estamos escolhendo as colunas/features/variáveis que usaremos no nosso modelo\n",
        "\n",
        "train_df_X = train_df[features] #carregamos apenas elas para o nosso X\n",
        "\n",
        "train_df_y = train_df[['Survived']] #aqui carregamos o nosso Y"
      ],
      "metadata": {
        "cell_id": "714ae435763a4d6383be7ccd16b99a92",
        "tags": [],
        "deepnote_to_be_reexecuted": false,
        "source_hash": "f403b330",
        "execution_start": 1660612375470,
        "execution_millis": 1,
        "deepnote_cell_type": "code",
        "deepnote_cell_height": 171,
        "id": "5m9FKicJQmvY"
      },
      "outputs": [],
      "execution_count": null
    },
    {
      "cell_type": "markdown",
      "source": [
        "### Fazendo a previsão\n",
        "\n",
        "Agora vamos aplicar a regressão logística!\n",
        "\n",
        "Lembre-se de usar apenas as colunas numéricas que geramos nos últimos dois exercícios. Para o arquivo de testes nos já retiramos mas garanta passando apenas as colunas que quer usar\n",
        "\n",
        "\n",
        "\n",
        "Apresente na tela a `accuracy_score`. Para fins do exercício usaremos a acurácia para ver quão bom são nossos modelos. Lembre-se que quanto maior a nossa acurácia, melhor o modelo! (será que isso é sempre verdade?)"
      ],
      "metadata": {
        "tags": [],
        "cell_id": "00014-aaa19fa7-a6c4-49a0-801f-cfc7d58c7379",
        "deepnote_cell_type": "markdown",
        "deepnote_cell_height": 217.984375,
        "id": "kskP48ZJQmvY"
      }
    },
    {
      "cell_type": "code",
      "source": [
        "#Questão 11\n",
        "#rode um modelo (modeloLR) de regressão logiística (LogisticRegression no scikit learn)\n",
        "#importe o modelo, inicie o modelo e depois treine o modelo (fit)\n"
      ],
      "metadata": {
        "tags": [],
        "cell_id": "00015-8534ff5a-0d2c-4a50-8f1f-9584025a7ed1",
        "deepnote_to_be_reexecuted": false,
        "source_hash": "d222805",
        "execution_start": 1660612529855,
        "execution_millis": 0,
        "deepnote_cell_type": "code",
        "deepnote_cell_height": 130,
        "deepnote_output_heights": [
          null,
          21.1875
        ],
        "id": "lmNiw1xWQmvZ"
      },
      "execution_count": null,
      "outputs": []
    },
    {
      "cell_type": "code",
      "source": [
        "#gabarito questão 11\n",
        "from sklearn.linear_model import LogisticRegression\n",
        "\n",
        "modeloLR = LogisticRegression()\n",
        "\n",
        "modeloLR.fit(train_df_X, train_df_y)"
      ],
      "metadata": {
        "tags": [],
        "cell_id": "a535ce58197c46118ebfa5d0fc20e2a5",
        "deepnote_to_be_reexecuted": false,
        "source_hash": "326d36a5",
        "allow_embed": false,
        "execution_start": 1660612538148,
        "execution_millis": 37,
        "deepnote_cell_type": "code",
        "deepnote_cell_height": 273.078125,
        "deepnote_output_heights": [
          null,
          21.1875
        ],
        "id": "3kbVzZDBQmvZ",
        "outputId": "d9d78fb2-65e7-463d-c0d9-643eded8dac9"
      },
      "outputs": [
        {
          "name": "stderr",
          "text": "/shared-libs/python3.7/py/lib/python3.7/site-packages/sklearn/utils/validation.py:993: DataConversionWarning: A column-vector y was passed when a 1d array was expected. Please change the shape of y to (n_samples, ), for example using ravel().\n  y = column_or_1d(y, warn=True)\n",
          "output_type": "stream"
        },
        {
          "output_type": "execute_result",
          "execution_count": 58,
          "data": {
            "text/plain": "LogisticRegression()"
          },
          "metadata": {}
        }
      ],
      "execution_count": null
    },
    {
      "cell_type": "markdown",
      "source": [
        "### Verificando a performance nos dados de testes\n",
        "Como nossos dados estão em 2 arquivos diferentes, agora que temos o modelo treinado (.fit()) precisamos ver como ele se sai com dados q nunca viu. Os dados do arquivo \"titanic_test.csv\" nunca foram vistos pelo modelo. Vamos carrega-lo e colocar as colunas preditoras ou variáveis independentes para ser o nosso X.\n",
        "O valor correto, variável dependente (a resposta final) está também em um terceiro arquivo \"titanic_test_results.csv\". Dessa forma esses são os dados que vamos levar para o nosso Y\n",
        "\n",
        "Após carregar esses dois arquivos em dataframes, precisamos pegar o modelo treinado e ver como ele de fato se sai com esses dados. Apenas execute os comandos abaixo mas procure entender o que está acontecendo!"
      ],
      "metadata": {
        "cell_id": "eb991b09187d4c5f92cc834dabe4aee3",
        "tags": [],
        "deepnote_cell_type": "markdown",
        "deepnote_cell_height": 248.78125,
        "id": "bc9LZjMlQmvZ"
      }
    },
    {
      "cell_type": "code",
      "source": [
        "features = ['Age', 'SibSp', 'Fare', 'Embarked_C', 'Embarked_Q', 'Embarked_S', 'Embarked_nan', 'Sex_female', 'Sex_male', 'Pclass_1', 'Pclass_2',\n",
        "       'Pclass_3'] #escolhendo quais features iremos usar\n",
        "\n",
        "test_df['Embarked_nan'] = 0\n",
        "\n",
        "test_df_X = test_df[features] #carregando as variáveis independentes\n",
        "\n",
        "test_df_y = pd.read_csv('dataset/titanic_test_results.csv')[['Survived']] #carregando a variável dependente\n"
      ],
      "metadata": {
        "cell_id": "33a08d3a9edf4b3294754c2d46b1bae2",
        "tags": [],
        "deepnote_to_be_reexecuted": false,
        "source_hash": "51d4051f",
        "execution_start": 1660612653362,
        "execution_millis": 1,
        "deepnote_cell_type": "code",
        "deepnote_cell_height": 225,
        "id": "qhqiwZZuQmvZ"
      },
      "outputs": [],
      "execution_count": null
    },
    {
      "cell_type": "markdown",
      "source": [
        "### Calculando como o modelo se saiu com os dados de teste\n",
        "Agora que todos os dados já foram é a hora de pedir para o modelo prever o resultado com base nos dados do arquivo teste e após isso, vamos calcular a acurácia do modelo usado \"accuracy_score\". Não se preocupe, essa última parte do código já está escrita para você."
      ],
      "metadata": {
        "cell_id": "23670298814847c7a360a0d8263252b7",
        "tags": [],
        "deepnote_cell_type": "markdown",
        "deepnote_cell_height": 145.1875,
        "id": "jGTVnFD9QmvZ"
      }
    },
    {
      "cell_type": "code",
      "source": [
        "#Questão 12\n",
        "#Agora é a hora da verdade!\n",
        "#Rode um predict no seu modelo salvando o resultado em y_predRL"
      ],
      "metadata": {
        "cell_id": "1fb90cc19d0d46378bf9e0d08e50e15b",
        "tags": [],
        "deepnote_to_be_reexecuted": false,
        "source_hash": "22150255",
        "execution_start": 1660612723466,
        "execution_millis": 0,
        "deepnote_cell_type": "code",
        "deepnote_cell_height": 112,
        "id": "TTMhzlLXQmvZ"
      },
      "outputs": [],
      "execution_count": null
    },
    {
      "cell_type": "code",
      "source": [
        "#gabarito questão 12\n",
        "y_predRL = modeloLR.predict(test_df_X)\n"
      ],
      "metadata": {
        "cell_id": "b4acd2ee59e44110b54b2ec0b242ceab",
        "tags": [],
        "deepnote_to_be_reexecuted": false,
        "source_hash": "dde284da",
        "execution_start": 1660612732456,
        "execution_millis": 1,
        "deepnote_cell_type": "code",
        "deepnote_cell_height": 112,
        "id": "wsYJOLKkQmva"
      },
      "outputs": [],
      "execution_count": null
    },
    {
      "cell_type": "markdown",
      "source": [
        "### Verificando o resultado Final\n",
        "Execute os comandos abaixo para sabermos a acurácia do nosso modelo! E ae, o que achou do resultado final? Bom? Ruim? Suficiente?"
      ],
      "metadata": {
        "cell_id": "43d976c95ccb4e02989eaeaea2439779",
        "tags": [],
        "deepnote_cell_type": "markdown",
        "deepnote_cell_height": 122.796875,
        "id": "0leKT60JQmvn"
      }
    },
    {
      "cell_type": "code",
      "source": [
        "from sklearn import metrics\n",
        "#por fim, comparamos o valor que o modelo previu (y_predRL) com o valor que ele deveria ter previsto (test_df_y)\n",
        "print(\"Acurácia do modelo de Regressão Logística: {}\".format(metrics.accuracy_score(test_df_y, y_predRL).round(8)))"
      ],
      "metadata": {
        "cell_id": "9eed3d9b88824dfeae0c592bf563b4d3",
        "tags": [],
        "deepnote_to_be_reexecuted": false,
        "source_hash": "4ad4f75f",
        "execution_start": 1660612830034,
        "execution_millis": 9,
        "deepnote_cell_type": "code",
        "deepnote_cell_height": 147.6875,
        "id": "72DpDmXrQmvo",
        "outputId": "7019ebcb-f848-4965-c268-aec735041488"
      },
      "outputs": [
        {
          "name": "stdout",
          "text": "Acurácia do modelo de Regressão Logística: 0.8708134\n",
          "output_type": "stream"
        }
      ],
      "execution_count": null
    },
    {
      "cell_type": "markdown",
      "source": [
        "## Ampliando a Caixa de Ferramentas\n",
        "\n",
        "Muito bem, nos últimos preparamos dados reais para aplicar em um algoritmo de regressão logistica e obter um resultado satisfatório, mas e agora?\n",
        "\n",
        "Se você acessar a [documentação do Sklearn](https://scikit-learn.org/stable/auto_examples/classification/plot_classifier_comparison.html) verá que existem diversos algoritmos de classificação, como vamos saber se, dentre todas as alternativas a nossa regressão logistica é a melhor?\n",
        "\n",
        "Uma atividade comum entre ciêntistas de dados é treinar inúmeros modelos para um mesmo problema e compará-los através de alguma ferramenta estatística. Muitas vezes um modelo especifico pode performar melhor diante de um problema por algum detalhe que muitas vezes o ciêntista de dados desconhece no momento.\n",
        "\n",
        "Então, para essa última etapa, vamos apresentar para vocês outros algoritmos de classificação. Repita os últimos passos de treino, predição e acurácia para vermos como eles se saem."
      ],
      "metadata": {
        "cell_id": "cea38dc34b34414a8447ec7bf598fb63",
        "tags": [],
        "deepnote_cell_type": "markdown",
        "deepnote_cell_height": 329.578125,
        "id": "BiDsfJ0aQmvo"
      }
    },
    {
      "cell_type": "markdown",
      "source": [
        "### DecisionTree\n",
        "\n",
        "A arvore de decisão é uma das estruturas mais intuitivas de classificação, ela basicamente pega as colunas que temos e cria regras de separação até que tenhamos uma sequencia de regras que atribui com alguma acurácia entre nossas classes.\n",
        "\n",
        "A melhor forma de entender esse modelo é usá-lo e visualizar sua árvore, por isso vamos trabalhar com a base do Titanic novamente."
      ],
      "metadata": {
        "cell_id": "bdbdcf8b510e4e358682696f248f2fba",
        "tags": [],
        "deepnote_cell_type": "markdown",
        "deepnote_cell_height": 181.59375,
        "id": "--XP1sJZQmvo"
      }
    },
    {
      "cell_type": "code",
      "source": [
        "#Questão 13\n",
        "#Use uma árvore de decisão para criar um novo modelo (modeloDT). Passe como parâmetro para a árvore a profundidade máxima de 3 (max_depth=3)\n"
      ],
      "metadata": {
        "cell_id": "1ee42fdb9abd4e8ab622b0e8a371a59a",
        "tags": [],
        "deepnote_to_be_reexecuted": false,
        "source_hash": "2ed3e98f",
        "execution_start": 1660613020839,
        "execution_millis": 0,
        "deepnote_cell_type": "code",
        "deepnote_cell_height": 117,
        "id": "XnI1-XxTQmvo"
      },
      "outputs": [],
      "execution_count": null
    },
    {
      "cell_type": "code",
      "source": [
        "#gabarito questão 13\n",
        "from sklearn.tree import DecisionTreeClassifier\n",
        "\n",
        "modeloDT = DecisionTreeClassifier(max_depth=3)\n",
        "\n",
        "modeloDT.fit(train_df_X, train_df_y)\n",
        "\n",
        "y_predDT = modeloDT.predict(test_df_X)\n",
        "\n",
        "from sklearn import metrics\n",
        "\n",
        "print(\"accuracy score: {}\".format(metrics.accuracy_score(test_df_y, y_predDT).round(8)))"
      ],
      "metadata": {
        "cell_id": "2ea96b223cc5446982b47c5075674060",
        "tags": [],
        "deepnote_to_be_reexecuted": false,
        "source_hash": "47f34ac",
        "allow_embed": false,
        "execution_start": 1660613128858,
        "execution_millis": 9,
        "deepnote_cell_type": "code",
        "deepnote_cell_height": 304.6875,
        "id": "DdmbVnWdQmvo",
        "outputId": "323d54e6-f471-4fd0-8bc8-5aec1e3374b7"
      },
      "outputs": [
        {
          "name": "stdout",
          "text": "accuracy score: 0.8708134\n",
          "output_type": "stream"
        }
      ],
      "execution_count": null
    },
    {
      "cell_type": "markdown",
      "source": [
        "### Visualizando a árvore de decisão\n",
        "\n",
        "Uma das vantagens das árvores de decisão é que podemos visualizar o seu resultado. Execute o código abaixo para plotarmos o resultado final e tente entender passo a passo o que está acontecendo.\n",
        "\n",
        "O método `plot_tree` presente na biblioteca do sklearn apresenta na tela o modelo que acabamos de construir. Execute os comandos abaixo e interprete o resultado"
      ],
      "metadata": {
        "cell_id": "02757b465f2a4a728b9df27c3bcd1754",
        "tags": [],
        "deepnote_cell_type": "markdown",
        "deepnote_cell_height": 181.59375,
        "id": "Tjs05x3YQmvp"
      }
    },
    {
      "cell_type": "code",
      "source": [
        "test_df_X.columns #visualizando as colunas usadas no teste"
      ],
      "metadata": {
        "cell_id": "7546c7bcb6464c1d81467fe0791da1a9",
        "tags": [],
        "deepnote_to_be_reexecuted": false,
        "source_hash": "dcf2aa03",
        "execution_start": 1660613184746,
        "execution_millis": 2,
        "deepnote_cell_type": "code",
        "deepnote_cell_height": 170.78125,
        "deepnote_output_heights": [
          78.78125
        ],
        "id": "6AFs5-a-Qmvp",
        "outputId": "2731ec7e-0ec1-4264-bad4-4357b5a5a73a"
      },
      "outputs": [
        {
          "output_type": "execute_result",
          "execution_count": 66,
          "data": {
            "text/plain": "Index(['Age', 'SibSp', 'Fare', 'Embarked_C', 'Embarked_Q', 'Embarked_S',\n       'Embarked_nan', 'Sex_female', 'Sex_male', 'Pclass_1', 'Pclass_2',\n       'Pclass_3'],\n      dtype='object')"
          },
          "metadata": {}
        }
      ],
      "execution_count": null
    },
    {
      "cell_type": "code",
      "source": [
        "from sklearn import tree\n",
        "import matplotlib.pyplot as plt\n",
        "\n",
        "plt.figure(figsize=(12,12))  # set plot size (denoted in inches)\n",
        "tree.plot_tree(modeloDT, fontsize=10)\n",
        "plt.show()"
      ],
      "metadata": {
        "cell_id": "a2a2856932c142d486383bb6a823fa5d",
        "tags": [],
        "deepnote_to_be_reexecuted": false,
        "source_hash": "91580810",
        "execution_start": 1660613188576,
        "execution_millis": 1106,
        "deepnote_cell_type": "code",
        "deepnote_cell_height": 793,
        "deepnote_output_heights": [
          611,
          21.1875
        ],
        "id": "XPx3vc_1Qmvp",
        "outputId": "811846e4-b74d-4fb0-e282-5cb89c927840"
      },
      "outputs": [
        {
          "data": {
            "text/plain": "<Figure size 864x864 with 1 Axes>",
            "image/png": "[encoded data removed]"
          },
          "metadata": {
            "needs_background": "light",
            "image/png": {
              "width": 683,
              "height": 666
            }
          },
          "output_type": "display_data"
        }
      ],
      "execution_count": null
    },
    {
      "cell_type": "markdown",
      "source": [
        "## Support Vector Machine\n",
        "\n",
        "Suppoer Vector Machine, Máquina de vetores de suporte ou simplesmente SVM é a abordagem popular de classificação baseado em um conjunto de separadores lineares, a matemática por trás é bem interessante e você pode [conhecer mais por aqui](https://towardsdatascience.com/https-medium-com-pupalerushikesh-svm-f4b42800e989). Porém, hoje, focaremos apenas na implementação.\n",
        "\n",
        "Procure pela implementação `SVC` do skelearn, que é a implementação de SVM aplicada a problemas de classificação e aplique a nossa base `Titanic`. Procure também entender os parametros `C` e `kernel` do modelo, brinque um pouco com eles e teste diferentes valores, o que você percebe no resultado?\n"
      ],
      "metadata": {
        "cell_id": "eb94d03449e140599253c6d36c7f31f8",
        "tags": [],
        "deepnote_cell_type": "markdown",
        "deepnote_cell_height": 234.390625,
        "id": "4Ys-oySMQmvp"
      }
    },
    {
      "cell_type": "code",
      "source": [
        "#Questão 14\n",
        "#Use o SVM (SVC - modeloSVC). Para prever os valores. Troque o `Kernel` do modelo e o hiperparâmetro C.\n",
        "#Será que você consegue obter valores melhores do que os já alcançados até agora?"
      ],
      "metadata": {
        "cell_id": "ec7aefff78484c408f1ab3bd1ee9562e",
        "tags": [],
        "deepnote_to_be_reexecuted": false,
        "source_hash": "1f6bb0e8",
        "execution_start": 1660613364470,
        "execution_millis": 3,
        "deepnote_cell_type": "code",
        "deepnote_cell_height": 112,
        "id": "QYgt9qFhQmvq"
      },
      "outputs": [],
      "execution_count": null
    },
    {
      "cell_type": "code",
      "source": [
        "#gabarito questão 14\n",
        "from sklearn.svm import SVC\n",
        "\n",
        "modeloSVC = SVC(kernel=\"rbf\", C=0.1)\n",
        "\n",
        "modeloSVC.fit(train_df_X, train_df_y)\n",
        "\n",
        "y_predSVC = modeloSVC.predict(test_df_X)\n",
        "\n",
        "from sklearn import metrics\n",
        "\n",
        "print(\"accuracy score: {}\".format(metrics.accuracy_score(test_df_y, y_predSVC).round(8)))"
      ],
      "metadata": {
        "cell_id": "56f70b3d1fe94b98987f96b7cc29ce21",
        "tags": [],
        "deepnote_to_be_reexecuted": false,
        "source_hash": "c903a16c",
        "allow_embed": false,
        "execution_start": 1660614022144,
        "execution_millis": 57,
        "deepnote_cell_type": "code",
        "deepnote_cell_height": 348.578125,
        "id": "d36Dc2jSQmvq",
        "outputId": "01c53b4f-c44a-4921-9597-8321fde4203a"
      },
      "outputs": [
        {
          "name": "stdout",
          "text": "accuracy score: 0.85167464\n/shared-libs/python3.7/py/lib/python3.7/site-packages/sklearn/utils/validation.py:993: DataConversionWarning: A column-vector y was passed when a 1d array was expected. Please change the shape of y to (n_samples, ), for example using ravel().\n  y = column_or_1d(y, warn=True)\n",
          "output_type": "stream"
        }
      ],
      "execution_count": null
    },
    {
      "cell_type": "code",
      "source": [
        "#Questão 15\n",
        "#Use o Naive Bayes (modeloNB).\n",
        "#Será que você consegue obter valores melhores do que os já alcançados até agora?"
      ],
      "metadata": {
        "cell_id": "9313254961e649b4b36ad80add0d254e",
        "tags": [],
        "deepnote_cell_type": "code",
        "deepnote_cell_height": 97,
        "id": "cHUy94cIQmvq"
      },
      "outputs": [],
      "execution_count": null
    },
    {
      "cell_type": "code",
      "source": [
        "#gabarito questão 15\n",
        "from sklearn.naive_bayes import GaussianNB\n",
        "\n",
        "modeloNB = GaussianNB()\n",
        "\n",
        "modeloNB.fit(train_df_X, train_df_y)\n",
        "\n",
        "y_predNB = modeloNB.predict(test_df_X)\n",
        "\n",
        "from sklearn import metrics\n",
        "\n",
        "print(\"accuracy score: {}\".format(metrics.accuracy_score(test_df_y, y_predNB).round(8)))"
      ],
      "metadata": {
        "cell_id": "d35200e35189453ab1077c20916044ab",
        "tags": [],
        "deepnote_to_be_reexecuted": false,
        "source_hash": "a7bc71a0",
        "execution_start": 1660614106957,
        "execution_millis": 3,
        "deepnote_cell_type": "code",
        "deepnote_cell_height": 348.578125,
        "id": "RyAn3RuuQmvq",
        "outputId": "5e755852-5057-409f-8218-01b172d91b9c"
      },
      "outputs": [
        {
          "name": "stdout",
          "text": "accuracy score: 0.74880383\n/shared-libs/python3.7/py/lib/python3.7/site-packages/sklearn/utils/validation.py:993: DataConversionWarning: A column-vector y was passed when a 1d array was expected. Please change the shape of y to (n_samples, ), for example using ravel().\n  y = column_or_1d(y, warn=True)\n",
          "output_type": "stream"
        }
      ],
      "execution_count": null
    },
    {
      "cell_type": "code",
      "source": [
        "#Questão 16\n",
        "#O bom e conhecido KNN! Use o KNN (modeloSVC). Para prever os valores.\n",
        "#Será que você consegue obter valores melhores do que os já alcançados até agora?\n",
        "#se você usar n_neighbors=2, o resultado melhora ou piora? E se for n_neighbors=10?"
      ],
      "metadata": {
        "cell_id": "e1e8d845426744448957095b29e1142b",
        "tags": [],
        "deepnote_cell_type": "code",
        "deepnote_cell_height": 115,
        "id": "-ALaH6tLQmvq"
      },
      "outputs": [],
      "execution_count": null
    },
    {
      "cell_type": "code",
      "source": [
        "#gabarito questão 16\n",
        "from sklearn.neighbors import KNeighborsClassifier\n",
        "\n",
        "modeloKNN = KNeighborsClassifier(n_neighbors=10)\n",
        "\n",
        "modeloKNN.fit(train_df_X, train_df_y)\n",
        "\n",
        "y_predKNN = modeloKNN.predict(test_df_X)\n",
        "\n",
        "from sklearn import metrics\n",
        "\n",
        "print(\"accuracy score: {}\".format(metrics.accuracy_score(test_df_y, y_predKNN).round(8)))"
      ],
      "metadata": {
        "cell_id": "08d4defe49264c1ca6cde79dd26dfba1",
        "tags": [],
        "deepnote_to_be_reexecuted": false,
        "source_hash": "aceec0b0",
        "execution_start": 1660614176830,
        "execution_millis": 759,
        "deepnote_cell_type": "code",
        "deepnote_cell_height": 348.578125,
        "id": "w0q8wNl5Qmvr",
        "outputId": "7ad8403e-720c-4936-e313-6bb700dc8030"
      },
      "outputs": [
        {
          "name": "stdout",
          "text": "accuracy score: 0.92822967\n/shared-libs/python3.7/py/lib/python3.7/site-packages/sklearn/neighbors/_classification.py:198: DataConversionWarning: A column-vector y was passed when a 1d array was expected. Please change the shape of y to (n_samples,), for example using ravel().\n  return self._fit(X, y)\n",
          "output_type": "stream"
        }
      ],
      "execution_count": null
    },
    {
      "cell_type": "code",
      "source": [
        "#Questão 17\n",
        "#Rode o otimizador SGD\n",
        "#se você rodar o modelo mais de uma vez, sem alterar nada, o resultado final muda?\n",
        "#Como saber qual o melhor resultado podemos obter com esse modelo?"
      ],
      "metadata": {
        "cell_id": "ab38f67e5ffd4327ac083c3c5fe2037a",
        "tags": [],
        "deepnote_cell_type": "code",
        "deepnote_cell_height": 115,
        "id": "hAFxVxhEQmvr"
      },
      "outputs": [],
      "execution_count": null
    },
    {
      "cell_type": "code",
      "source": [
        "#gabarito questão 17\n",
        "from sklearn.linear_model import SGDClassifier\n",
        "\n",
        "modeloSGD = SGDClassifier()\n",
        "\n",
        "modeloSGD.fit(train_df_X,train_df_y)\n",
        "\n",
        "y_predSGD = modeloSGD.predict(test_df_X)\n",
        "\n",
        "from sklearn import metrics\n",
        "\n",
        "print(\"accuracy score: {}\".format(metrics.accuracy_score(test_df_y, y_predSGD).round(8)))"
      ],
      "metadata": {
        "cell_id": "dab27da77bcb4bb39fef4f0c62fc458f",
        "tags": [],
        "deepnote_to_be_reexecuted": false,
        "source_hash": "310eef85",
        "execution_start": 1660613846358,
        "execution_millis": 534,
        "deepnote_cell_type": "code",
        "deepnote_cell_height": 348.578125,
        "id": "JqnWSrFDQmvr",
        "outputId": "2be9982d-f33d-4cd0-ea0f-91971f8891dc"
      },
      "outputs": [
        {
          "name": "stdout",
          "text": "accuracy score: 0.84210526\n/shared-libs/python3.7/py/lib/python3.7/site-packages/sklearn/utils/validation.py:993: DataConversionWarning: A column-vector y was passed when a 1d array was expected. Please change the shape of y to (n_samples, ), for example using ravel().\n  y = column_or_1d(y, warn=True)\n",
          "output_type": "stream"
        }
      ],
      "execution_count": null
    },
    {
      "cell_type": "code",
      "source": [
        "#Questão 18\n",
        "#Rode o otimizador RandomForest\n",
        "#se você rodar o modelo mais de uma vez, sem alterar nada, o resultado final muda?\n",
        "#Como saber qual o melhor resultado podemos obter com esse modelo?\n",
        "#se alterarmos o valor de n_estimators e min_samples_leaf, os resultados mudam?"
      ],
      "metadata": {
        "cell_id": "e8d6a9a46af04e308a99118bc3f4bd62",
        "tags": [],
        "deepnote_cell_type": "code",
        "deepnote_cell_height": 133,
        "id": "PWG489v8Qmvr"
      },
      "outputs": [],
      "execution_count": null
    },
    {
      "cell_type": "code",
      "source": [
        "#gabarito questão 18\n",
        "from sklearn.ensemble import RandomForestClassifier\n",
        "\n",
        "modeloRF = RandomForestClassifier(n_estimators=100, min_samples_leaf=2)\n",
        "\n",
        "modeloRF.fit(train_df_X,train_df_y)\n",
        "\n",
        "y_predRF = modeloRF.predict(test_df_X)\n",
        "\n",
        "from sklearn import metrics\n",
        "\n",
        "print(\"accuracy score: {}\".format(metrics.accuracy_score(test_df_y, y_predRF).round(8)))"
      ],
      "metadata": {
        "cell_id": "0ed48fa7a6eb43bc958b930ab28245b1",
        "tags": [],
        "deepnote_to_be_reexecuted": false,
        "source_hash": "110861ca",
        "execution_start": 1660614305797,
        "execution_millis": 1000,
        "deepnote_cell_type": "code",
        "deepnote_cell_height": 348.578125,
        "id": "jrDkfyl6Qmvr",
        "outputId": "d8b1c077-e6e1-4790-ffa3-622c7d9dc00e"
      },
      "outputs": [
        {
          "name": "stderr",
          "text": "/shared-libs/python3.7/py-core/lib/python3.7/site-packages/ipykernel_launcher.py:5: DataConversionWarning: A column-vector y was passed when a 1d array was expected. Please change the shape of y to (n_samples,), for example using ravel().\n  \"\"\"\naccuracy score: 0.92105263\n",
          "output_type": "stream"
        }
      ],
      "execution_count": null
    },
    {
      "cell_type": "code",
      "source": [
        "#Questão 19\n",
        "#Qual modelo entregou a maior acurácia?"
      ],
      "metadata": {
        "cell_id": "3ed997739184455c9f4fddee7408219a",
        "tags": [],
        "deepnote_to_be_reexecuted": false,
        "source_hash": "36f5f8e",
        "execution_start": 1660614386834,
        "execution_millis": 1,
        "deepnote_cell_type": "code",
        "deepnote_cell_height": 79,
        "id": "cBIx6Jr2Qmvs"
      },
      "outputs": [],
      "execution_count": null
    },
    {
      "cell_type": "markdown",
      "source": [
        "<a style='text-decoration:none;line-height:16px;display:flex;color:#5B5B62;padding:10px;justify-content:end;' href='https://deepnote.com?utm_source=created-in-deepnote-cell&projectId=147d331f-4ce3-433e-88ff-abf8178bfd2f' target=\"_blank\">\n",
        "<img alt='Created in deepnote.com' style='display:inline;max-height:16px;margin:0px;margin-right:7.5px;' src='data:image/svg+xml;base64,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' > </img>\n",
        "Created in <span style='font-weight:600;margin-left:4px;'>Deepnote</span></a>"
      ],
      "metadata": {
        "tags": [],
        "created_in_deepnote_cell": true,
        "deepnote_cell_type": "markdown",
        "id": "h3BawM2gQmvs"
      }
    }
  ],
  "nbformat": 4,
  "nbformat_minor": 0,
  "metadata": {
    "orig_nbformat": 2,
    "deepnote": {
      "is_reactive": false
    },
    "deepnote_notebook_id": "8f2052cf-165b-464f-84eb-681c6be3a2dd",
    "deepnote_execution_queue": [],
    "colab": {
      "provenance": []
    }
  }
}