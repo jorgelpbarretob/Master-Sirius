{
  "cells": [
    {
      "cell_type": "markdown",
      "source": [
        "## Um problema maior, do tamanho de um Návio!\n",
        "\n",
        "Que tal pegarmos uma base de dados da vida real e trabalhar um pouco mais com algoritmos de classificação?\n",
        "\n",
        "Dessa vez, vamos usar um base classicamente usada para aprender aprendizado de maquina: A `Titanic`. Essa base descreve, para cada passageiro no histórico návio, se ele sobreviveu ou não aquela tragédia. Dentro das nossas `features` temos informações numéricas como idade e número de parentes a bordo, catégoricas como sexo e portão de embarque e até colunas que descrevem em qual cabine aquele passageiro estava dormindo!\n",
        "\n",
        "### Questão 1\n",
        "\n",
        "Nossa missão aqui é predizer quando um determinado passageiro sobreviveu ou não, sendo `1` sobreviveu e `0` não sobreviveu. Mas antes vamos tomar um tempo para estudar a base! Vamos usa-la bastante nesse exercício então precisamos nos familiarizar.\n",
        "\n",
        "Carregue a base `dataset/titanic_test.csv` e `dataset/titanic_train.csv`. Repare que como nossos dados estão separados em arquivos não iremos precisar usar o train_test_split!\n",
        "\n",
        "Através do arquivo de treino (`dataset/titanic_train.csv`) Visualize graficamente cada coluna, suas distribuições, sua cardinalidade, etc...\n",
        "\n",
        "Talvez você irá precisar de um catálogo explicando o que cada coluna que pode ser [encontrado aqui](https://www.kaggle.com/c/titanic/data)."
      ],
      "metadata": {
        "tags": [],
        "cell_id": "00008-f574aa0d-ee2b-4876-822e-057ae103de00",
        "deepnote_cell_type": "markdown",
        "deepnote_cell_height": 472.78125,
        "id": "vDiZ0YyTVjYC"
      }
    },
    {
      "cell_type": "code",
      "source": [
        "import numpy as np\n",
        "import pandas as pd\n",
        "import matplotlib.pyplot as plt\n",
        "import seaborn as sns"
      ],
      "metadata": {
        "tags": [],
        "cell_id": "00001-5923ce1f-5d34-4ce9-98c1-ebdc3ee7cba9",
        "deepnote_to_be_reexecuted": false,
        "source_hash": "cd1615fd",
        "execution_start": 1660611154722,
        "execution_millis": 1,
        "deepnote_cell_type": "code",
        "deepnote_cell_height": 166,
        "id": "H15_GaxQVjYE"
      },
      "execution_count": null,
      "outputs": []
    },
    {
      "cell_type": "code",
      "source": [
        "#Questão 1\n",
        "#Escreva aqui o comando para importar os dados do arquivo titanic_train.csv para o seu dataframe usando pandas\n",
        "#lembra como ler(read em inglês) o arquivo?\n"
      ],
      "metadata": {
        "cell_id": "e20c77be71174b82803c8507a244100d",
        "tags": [],
        "deepnote_cell_type": "code",
        "deepnote_cell_height": 120,
        "id": "iJXKjrJZVjYF"
      },
      "outputs": [],
      "execution_count": null
    },
    {
      "cell_type": "code",
      "source": [
        "# Questão 2\n",
        "# Agora de uma olhada nos dados para se familizarizar com as colunas númericas. Dica: descreva os dados? (describe)\n"
      ],
      "metadata": {
        "tags": [],
        "cell_id": "00002-e11e2635-8e4f-41b9-8d02-5e295359db62",
        "deepnote_to_be_reexecuted": false,
        "source_hash": "b9583d9b",
        "execution_start": 1660611206069,
        "execution_millis": 1,
        "deepnote_cell_type": "code",
        "deepnote_cell_height": 117,
        "id": "sq4nqp-VVjYF"
      },
      "execution_count": null,
      "outputs": []
    },
    {
      "cell_type": "code",
      "source": [
        "## Questão 3\n",
        "#sera que temos dados nulos? se sim, quantos? (isnull com um sum)\n"
      ],
      "metadata": {
        "tags": [],
        "cell_id": "00003-a454844b-a9ec-49e0-bcca-6c4c93cb8479",
        "deepnote_to_be_reexecuted": false,
        "source_hash": "f4f9f7ac",
        "execution_start": 1660611292617,
        "execution_millis": 2,
        "deepnote_cell_type": "code",
        "deepnote_cell_height": 112,
        "id": "EUdCWCGvVjYG"
      },
      "execution_count": null,
      "outputs": []
    },
    {
      "cell_type": "code",
      "source": [
        "#Questão 4\n",
        "#plot um gráfico contando (count) a quantidade de pessoas que sobreviveram. Essa informação está na coluna `Survived`\n",
        "#dica1 plt.figure(figsize=(8,6))\n"
      ],
      "metadata": {
        "tags": [],
        "cell_id": "00004-0ffcb16c-8ff7-4753-944a-4737d230549a",
        "deepnote_to_be_reexecuted": false,
        "source_hash": "be2a2917",
        "execution_start": 1660611471895,
        "execution_millis": 1,
        "deepnote_cell_type": "code",
        "deepnote_cell_height": 135,
        "deepnote_output_heights": [
          21.1875,
          373
        ],
        "id": "dHfcnOPLVjYH"
      },
      "execution_count": null,
      "outputs": []
    },
    {
      "cell_type": "code",
      "source": [
        "#Questão 4\n",
        "#plot um gráfico contando (count) a quantidade de pessoas por gênero. Essa informação está na coluna `Sex`\n",
        "#dica1 plt.figure(figsize=(8,6))"
      ],
      "metadata": {
        "tags": [],
        "cell_id": "00005-994c7ee6-7475-4f9a-ab5b-0b1afa240c8b",
        "deepnote_to_be_reexecuted": false,
        "source_hash": "ef09f368",
        "execution_start": 1660611528149,
        "execution_millis": 209,
        "deepnote_cell_type": "code",
        "deepnote_cell_height": 487.1875,
        "deepnote_output_heights": [
          21.1875,
          266
        ],
        "id": "-DNJ2_INVjYH"
      },
      "execution_count": null,
      "outputs": []
    },
    {
      "cell_type": "code",
      "source": [
        "#Questão 6\n",
        "#plot um gráfico contando (count) a quantidade de pessoas que sobreviveram por sexo. Essas informações estão nas colunas `Survived` e `Sex`\n",
        "#dica1 plt.figure(figsize=(8,6))\n",
        "#dica 2 x='Survived', hue='Sex'\n"
      ],
      "metadata": {
        "tags": [],
        "cell_id": "00006-9f32ec2a-0b88-439a-af6b-044ca2293be3",
        "deepnote_to_be_reexecuted": false,
        "source_hash": "9b283d9a",
        "execution_start": 1660611657642,
        "execution_millis": 0,
        "deepnote_cell_type": "code",
        "deepnote_cell_height": 153,
        "deepnote_output_heights": [
          21.1875,
          373
        ],
        "id": "qlprHGzLVjYI"
      },
      "execution_count": null,
      "outputs": []
    },
    {
      "cell_type": "code",
      "source": [
        "#Questão 7\n",
        "#agora veja como são os sobreviventes de acordo com as suas classes. Essa informação está na coluna `Pclass`\n",
        "#dica1 plt.figure(figsize=(8,6))"
      ],
      "metadata": {
        "tags": [],
        "cell_id": "00007-204fa783-7889-40f2-b160-8b8815d11f7b",
        "deepnote_to_be_reexecuted": false,
        "source_hash": "43d01109",
        "execution_start": 1660611772846,
        "execution_millis": 0,
        "deepnote_cell_type": "code",
        "deepnote_cell_height": 117,
        "deepnote_output_heights": [
          21.1875,
          373
        ],
        "id": "eFqKtA_qVjYI"
      },
      "execution_count": null,
      "outputs": []
    },
    {
      "cell_type": "code",
      "source": [
        "#Questão 8\n",
        "#Que tal agora fazemos um boxplot para juntarmos em um mesmo gráfico quem sobreviveu, seu gênero e sua idade?\n",
        "#dica1 plt.figure(figsize=(8,6))\n",
        "#dica 2 x='Survived', y= 'Age', hue='Sex'"
      ],
      "metadata": {
        "tags": [],
        "cell_id": "00008-2803dae2-2caa-4439-afab-03208f7fe2e9",
        "deepnote_to_be_reexecuted": false,
        "source_hash": "ddb04df3",
        "execution_start": 1660611845122,
        "execution_millis": 1,
        "deepnote_cell_type": "code",
        "deepnote_cell_height": 135,
        "deepnote_output_heights": [
          21.1875,
          373
        ],
        "id": "pFZYtLE6VjYJ"
      },
      "execution_count": null,
      "outputs": []
    },
    {
      "cell_type": "code",
      "source": [
        "#Questão 9\n",
        "#Como seria um boxplot da classe `Pclass` pela tarifa `Fare`?\n",
        "#dica1 plt.figure(figsize=(8,6))"
      ],
      "metadata": {
        "tags": [],
        "cell_id": "00009-a2ce1240-2070-4567-bbb2-900a510dcd18",
        "deepnote_to_be_reexecuted": false,
        "source_hash": "d7178b61",
        "execution_start": 1660611921338,
        "execution_millis": 1,
        "deepnote_cell_type": "code",
        "deepnote_cell_height": 112,
        "deepnote_output_heights": [
          21.1875,
          373
        ],
        "id": "9gkCRDj-VjYJ"
      },
      "execution_count": null,
      "outputs": []
    },
    {
      "cell_type": "markdown",
      "source": [
        "## Usando Regressão Logística em problemas reais\n",
        "\n",
        "A regressão logística é um algoritmo de classificação binária, porém ele usa os mesmos princípios da regressão linear para resolver seus problemas.\n",
        "\n",
        "Logo, nossa entrada `X` precisa ser uma sequência de colunas numéricas e `y` uma coluna única binária.\n",
        "\n",
        "Olhando para a base do Titanic, é notavel que nosso `y` esta num formato adequado, porém, muitas colunas promissoras para nosso modelo não estão, como `gender`, `Pclass` e `Embarked`.\n",
        "\n",
        "Para torna-las númericas, precisamos **transforma-las em mais colunas e torna-las boolenas**. Isso porque não sabemos se elas tem alguma correlação, logo seria errado colocar por exemplo `Male = 1` e `Female = 0`. Para esse processo usamos um método de pré-processamento chamada **one-hot enconding**. Ainda vamos aprofundar nesse conceito na próxima aula. Por enquanto será suficiente apenas executar os comandos abaixo.\n",
        "\n",
        "### OneHotEnconding\n",
        "\n",
        "Rode o comando do scikit learn de OneHotEnconding nas colunas `gender`, `Pclass` e `Embarked`. Se quiser entender melhor o que está acontecendo, você acha a [documentação oficial](https://scikit-learn.org/stable/modules/generated/sklearn.preprocessing.OneHotEncoder.html) mas sinta-se livre para encontrar suas próprias fontes."
      ],
      "metadata": {
        "tags": [],
        "cell_id": "00010-06952b29-b7e8-410c-ab33-51c05c5f528f",
        "deepnote_cell_type": "markdown",
        "deepnote_cell_height": 436.375,
        "id": "5WiiSU0lVjYK"
      }
    },
    {
      "cell_type": "code",
      "source": [
        "from sklearn.preprocessing import OneHotEncoder\n",
        "\n",
        "train_df = pd.read_csv('titanic_train.csv') #aqui estamos carregando os dados de train para o dataframe\n",
        "\n",
        "encoder = OneHotEncoder(sparse=False)\n",
        "\n",
        "train_X_encoded = pd.DataFrame(encoder.fit_transform(train_df[['Sex', 'Pclass', 'Embarked']]))\n",
        "train_X_encoded.columns = encoder.get_feature_names(['Sex', 'Pclass', 'Embarked'])\n",
        "train_df.drop(['Sex', 'Pclass', 'Embarked'] ,axis=1, inplace=True)\n",
        "train_df = pd.concat([train_df, train_X_encoded ], axis=1)\n",
        "\n",
        "train_df #novo dataframe após rodarmos o OneHotEncoder. Você consegue ver o que mudou?"
      ],
      "metadata": {
        "tags": [],
        "cell_id": "00011-ccc397bc-1512-4e6a-884b-33c1daa2ff4f",
        "deepnote_to_be_reexecuted": false,
        "source_hash": "624c923d",
        "execution_start": 1660612053384,
        "execution_millis": 238,
        "deepnote_cell_type": "code",
        "deepnote_cell_height": 867.890625,
        "id": "eP7Ug6zfVjYK"
      },
      "execution_count": null,
      "outputs": []
    },
    {
      "cell_type": "markdown",
      "source": [
        "### Normalizando\n",
        "\n",
        "Note que agora, todas as nossas colunas categóricas relevantes tem suas contrapartes categóricas (inclusive mais de uma).\n",
        "\n",
        "Esse processo que estamos fazendo se chama _pré-processamento_ e está centrado em tornar nossas bases adequadas para o algoritmo que pretendemos usar.\n",
        "\n",
        "Vamos então entender um novo processo de pré-processamento, agora para variáveis númericas. Uma boa prática que facilita o trabalho do nosso modelo é **normalizarmos variáveis numéricas**. Isto é, deixa-las todas com um `range` semelhante.\n",
        "\n",
        "Para isso podemos usar o `StandardScaler`, da biblioteca sklearn, para aplicarmos essas operações em nossa base, vamos aplica-las nas colunas `Age`, `SibSp` e `Fare`.\n",
        "\n",
        "Lembrando que para entender como usa você deve pesquisar por referência e exemplos na internet, e nunca se esqueça de olhar a [documentação oficial](https://scikit-learn.org/stable/modules/generated/sklearn.preprocessing.StandardScaler.html).\n",
        "\n",
        "Novamente, não se preocupe tanto com esse passo. Os comandos a serem executados estão logo abaixo. Substitua as colunas originais pelo resultado alcançado. Mas tente entender o que está acontecendo"
      ],
      "metadata": {
        "tags": [],
        "cell_id": "00012-1369d091-6d52-4c71-9412-a6637b45e72e",
        "deepnote_cell_type": "markdown",
        "deepnote_cell_height": 394.375,
        "id": "tnTMaeNyVjYL"
      }
    },
    {
      "cell_type": "code",
      "metadata": {
        "tags": [],
        "cell_id": "00013-afd44c09-268c-4e87-b5c4-a36848e7a35c",
        "deepnote_to_be_reexecuted": false,
        "source_hash": "54b69399",
        "execution_start": 1660612106419,
        "execution_millis": 130,
        "deepnote_cell_type": "code",
        "deepnote_cell_height": 775,
        "id": "atB8DD_iVjYL"
      },
      "source": [
        "from sklearn.preprocessing import StandardScaler\n",
        "\n",
        "features = ['Age', 'SibSp', 'Fare']\n",
        "\n",
        "ss = StandardScaler()\n",
        "\n",
        "ss.fit(train_df[features])\n",
        "\n",
        "train_df[features] = ss.transform(train_df[features])\n",
        "\n",
        "train_df"
      ],
      "execution_count": null,
      "outputs": []
    },
    {
      "cell_type": "markdown",
      "source": [
        "### Eliminando valores nulos\n",
        "\n",
        "Agora antes de irmos adiante existe uma coisa sobre regressão logística e valores numéricos que precisamos saber: _Regressões odeiam valores nulos!_ (você consegue entender o porque disso?)\n",
        "\n",
        "Analise as três colunas geradas e verifique se temos valores nulos nelas\n",
        "\n",
        "Substitua esses valores nulos pela mediana, essa é uma tecnica comum para evitar problemas de valores nulos.\n",
        "\n",
        "Uso métodos do pandas para isso. Essa aqui eu deixo com vocês escrever o código para fazer isso."
      ],
      "metadata": {
        "tags": [],
        "cell_id": "00014-dc833474-ab12-4b73-8c92-ebaad54ceb6f",
        "deepnote_cell_type": "markdown",
        "deepnote_cell_height": 231.984375,
        "id": "DbMW31-bVjYL"
      }
    },
    {
      "cell_type": "code",
      "source": [
        "#Questão 10\n",
        "#preencha os valores vazios da cooluna `Age` com a média da idade dos passageiros"
      ],
      "metadata": {
        "tags": [],
        "cell_id": "00015-9216a8b7-6021-428f-a990-64725678a169",
        "deepnote_to_be_reexecuted": false,
        "source_hash": "3c12190d",
        "execution_start": 1660608501639,
        "execution_millis": 3,
        "deepnote_cell_type": "code",
        "deepnote_cell_height": 94,
        "id": "xDCImwN0VjYL"
      },
      "execution_count": null,
      "outputs": []
    },
    {
      "cell_type": "markdown",
      "source": [
        "### Ajustando o arquivo de teste\n",
        "\n",
        "Como voce percebeu, fizemos diversas alterações nos dados que carregamos do arquivo 'titanic_train.csv'\n",
        "Precisamos repetir os mesmos passos para os dados de teste! Os comandos são os mesmos.\n",
        "\n",
        "Carregue a base de teste e faça as mesmas transformações (`OneHotEnconding` e `StandardScalar`)."
      ],
      "metadata": {
        "cell_id": "8094c522ab544fde9a06d38465495549",
        "tags": [],
        "deepnote_cell_type": "markdown",
        "deepnote_cell_height": 159.1875,
        "id": "7mKmY4MlVjYM"
      }
    },
    {
      "cell_type": "code",
      "source": [
        "test_df = pd.read_csv('titanic_test.csv')\n",
        "\n",
        "test_df['Age'].fillna(test_df['Age'].median(), inplace=True)\n",
        "test_df['Fare'].fillna(test_df['Fare'].median(), inplace=True)\n",
        "\n",
        "features = ['Age', 'SibSp', 'Fare']\n",
        "test_df[features] = ss.transform(test_df[features])\n",
        "\n",
        "encoder = OneHotEncoder(sparse=False)\n",
        "\n",
        "test_X_encoded = pd.DataFrame(encoder.fit_transform(test_df[['Sex', 'Pclass', 'Embarked']]))\n",
        "test_X_encoded.columns = encoder.get_feature_names(['Sex', 'Pclass', 'Embarked'])\n",
        "test_df.drop(['Sex', 'Pclass', 'Embarked'] ,axis=1, inplace=True)\n",
        "test_df = pd.concat([test_df, test_X_encoded ], axis=1)"
      ],
      "metadata": {
        "cell_id": "7b5e6f297aae42d9898d030fc0d59448",
        "tags": [],
        "deepnote_to_be_reexecuted": false,
        "source_hash": "56ff99e",
        "execution_start": 1660612247028,
        "execution_millis": 34,
        "deepnote_cell_type": "code",
        "deepnote_cell_height": 364.890625,
        "id": "IjonlC_wVjYM"
      },
      "outputs": [],
      "execution_count": null
    },
    {
      "cell_type": "markdown",
      "source": [
        "Perceba que a coluna `Survived` não esta no arquivo `titanic_test.csv`,ao invés disso está no arquivo `titanic_test_results.csv`.\n",
        "Vamos aproveitar e já deixar tudo preparado. Apenas execute os comandos abaixo mas sempre entendendo o que está acontecendo!"
      ],
      "metadata": {
        "cell_id": "ef5d53d0ac9a4ffab51f36d4c90bfc2b",
        "tags": [],
        "deepnote_cell_type": "markdown",
        "deepnote_cell_height": 119.59375,
        "id": "QN1RnTdfVjYM"
      }
    },
    {
      "cell_type": "code",
      "source": [
        "features = ['Age', 'SibSp', 'Fare', 'Embarked_C', 'Embarked_Q', 'Embarked_S', 'Embarked_nan', 'Sex_female', 'Sex_male', 'Pclass_1', 'Pclass_2',\n",
        "       'Pclass_3'] #estamos escolhendo as colunas/features/variáveis que usaremos no nosso modelo\n",
        "\n",
        "train_df_X = train_df[features] #carregamos apenas elas para o nosso X\n",
        "\n",
        "train_df_y = train_df[['Survived']] #aqui carregamos o nosso Y"
      ],
      "metadata": {
        "cell_id": "714ae435763a4d6383be7ccd16b99a92",
        "tags": [],
        "deepnote_to_be_reexecuted": false,
        "source_hash": "f403b330",
        "execution_start": 1660612375470,
        "execution_millis": 1,
        "deepnote_cell_type": "code",
        "deepnote_cell_height": 171,
        "id": "HKoFevaEVjYM"
      },
      "outputs": [],
      "execution_count": null
    },
    {
      "cell_type": "markdown",
      "source": [
        "### Fazendo a previsão\n",
        "\n",
        "Agora vamos aplicar a regressão logística!\n",
        "\n",
        "Lembre-se de usar apenas as colunas numéricas que geramos nos últimos dois exercícios. Para o arquivo de testes nos já retiramos mas garanta passando apenas as colunas que quer usar\n",
        "\n",
        "\n",
        "\n",
        "Apresente na tela a `accuracy_score`. Para fins do exercício usaremos a acurácia para ver quão bom são nossos modelos. Lembre-se que quanto maior a nossa acurácia, melhor o modelo! (será que isso é sempre verdade?)"
      ],
      "metadata": {
        "tags": [],
        "cell_id": "00014-aaa19fa7-a6c4-49a0-801f-cfc7d58c7379",
        "deepnote_cell_type": "markdown",
        "deepnote_cell_height": 217.984375,
        "id": "xHUl1oBhVjYM"
      }
    },
    {
      "cell_type": "code",
      "source": [
        "#Questão 11\n",
        "#rode um modelo (modeloLR) de regressão logiística (LogisticRegression no scikit learn)\n",
        "#importe o modelo, inicie o modelo e depois treine o modelo (fit)\n"
      ],
      "metadata": {
        "tags": [],
        "cell_id": "00015-8534ff5a-0d2c-4a50-8f1f-9584025a7ed1",
        "deepnote_to_be_reexecuted": false,
        "source_hash": "d222805",
        "execution_start": 1660612529855,
        "execution_millis": 0,
        "deepnote_cell_type": "code",
        "deepnote_cell_height": 130,
        "deepnote_output_heights": [
          null,
          21.1875
        ],
        "id": "66d9WAVxVjYN"
      },
      "execution_count": null,
      "outputs": []
    },
    {
      "cell_type": "markdown",
      "source": [
        "### Verificando a performance nos dados de testes\n",
        "Como nossos dados estão em 2 arquivos diferentes, agora que temos o modelo treinado (.fit()) precisamos ver como ele se sai com dados q nunca viu. Os dados do arquivo \"titanic_test.csv\" nunca foram vistos pelo modelo. Vamos carrega-lo e colocar as colunas preditoras ou variáveis independentes para ser o nosso X.\n",
        "O valor correto, variável dependente (a resposta final) está também em um terceiro arquivo \"titanic_test_results.csv\". Dessa forma esses são os dados que vamos levar para o nosso Y\n",
        "\n",
        "Após carregar esses dois arquivos em dataframes, precisamos pegar o modelo treinado e ver como ele de fato se sai com esses dados. Apenas execute os comandos abaixo mas procure entender o que está acontecendo!"
      ],
      "metadata": {
        "cell_id": "eb991b09187d4c5f92cc834dabe4aee3",
        "tags": [],
        "deepnote_cell_type": "markdown",
        "deepnote_cell_height": 248.78125,
        "id": "LdKbB_GrVjYN"
      }
    },
    {
      "cell_type": "code",
      "source": [
        "features = ['Age', 'SibSp', 'Fare', 'Embarked_C', 'Embarked_Q', 'Embarked_S', 'Embarked_nan', 'Sex_female', 'Sex_male', 'Pclass_1', 'Pclass_2',\n",
        "       'Pclass_3'] #escolhendo quais features iremos usar\n",
        "\n",
        "test_df['Embarked_nan'] = 0\n",
        "\n",
        "test_df_X = test_df[features] #carregando as variáveis independentes\n",
        "\n",
        "test_df_y = pd.read_csv('titanic_test_results.csv')[['Survived']] #carregando a variável dependente\n"
      ],
      "metadata": {
        "cell_id": "33a08d3a9edf4b3294754c2d46b1bae2",
        "tags": [],
        "deepnote_to_be_reexecuted": false,
        "source_hash": "51d4051f",
        "execution_start": 1660612653362,
        "execution_millis": 1,
        "deepnote_cell_type": "code",
        "deepnote_cell_height": 225,
        "id": "dvkz4A4AVjYN"
      },
      "outputs": [],
      "execution_count": null
    },
    {
      "cell_type": "markdown",
      "source": [
        "### Calculando como o modelo se saiu com os dados de teste\n",
        "Agora que todos os dados já foram é a hora de pedir para o modelo prever o resultado com base nos dados do arquivo teste e após isso, vamos calcular a acurácia do modelo usado \"accuracy_score\". Não se preocupe, essa última parte do código já está escrita para você."
      ],
      "metadata": {
        "cell_id": "23670298814847c7a360a0d8263252b7",
        "tags": [],
        "deepnote_cell_type": "markdown",
        "deepnote_cell_height": 145.1875,
        "id": "io_h4FWqVjYN"
      }
    },
    {
      "cell_type": "code",
      "source": [
        "#Questão 12\n",
        "#Agora é a hora da verdade!\n",
        "#Rode um predict no seu modelo salvando o resultado em y_predRL"
      ],
      "metadata": {
        "cell_id": "1fb90cc19d0d46378bf9e0d08e50e15b",
        "tags": [],
        "deepnote_to_be_reexecuted": false,
        "source_hash": "22150255",
        "execution_start": 1660612723466,
        "execution_millis": 0,
        "deepnote_cell_type": "code",
        "deepnote_cell_height": 112,
        "id": "cmWkC1__VjYO"
      },
      "outputs": [],
      "execution_count": null
    },
    {
      "cell_type": "markdown",
      "source": [
        "### Verificando o resultado Final\n",
        "Execute os comandos abaixo para sabermos a acurácia do nosso modelo! E ae, o que achou do resultado final? Bom? Ruim? Suficiente?"
      ],
      "metadata": {
        "cell_id": "43d976c95ccb4e02989eaeaea2439779",
        "tags": [],
        "deepnote_cell_type": "markdown",
        "deepnote_cell_height": 122.796875,
        "id": "559V80W1VjYO"
      }
    },
    {
      "cell_type": "code",
      "source": [
        "from sklearn import metrics\n",
        "#por fim, comparamos o valor que o modelo previu (y_predRL) com o valor que ele deveria ter previsto (test_df_y)\n",
        "print(\"Acurácia do modelo de Regressão Logística: {}\".format(metrics.accuracy_score(test_df_y, y_predRL).round(8)))"
      ],
      "metadata": {
        "cell_id": "9eed3d9b88824dfeae0c592bf563b4d3",
        "tags": [],
        "deepnote_to_be_reexecuted": false,
        "source_hash": "4ad4f75f",
        "execution_start": 1660612830034,
        "execution_millis": 9,
        "deepnote_cell_type": "code",
        "deepnote_cell_height": 147.6875,
        "id": "x9IDEB6NVjYO"
      },
      "outputs": [],
      "execution_count": null
    },
    {
      "cell_type": "markdown",
      "source": [
        "## Ampliando a Caixa de Ferramentas\n",
        "\n",
        "Muito bem, nos últimos preparamos dados reais para aplicar em um algoritmo de regressão logistica e obter um resultado satisfatório, mas e agora?\n",
        "\n",
        "Se você acessar a [documentação do Sklearn](https://scikit-learn.org/stable/auto_examples/classification/plot_classifier_comparison.html) verá que existem diversos algoritmos de classificação, como vamos saber se, dentre todas as alternativas a nossa regressão logistica é a melhor?\n",
        "\n",
        "Uma atividade comum entre ciêntistas de dados é treinar inúmeros modelos para um mesmo problema e compará-los através de alguma ferramenta estatística. Muitas vezes um modelo especifico pode performar melhor diante de um problema por algum detalhe que muitas vezes o ciêntista de dados desconhece no momento.\n",
        "\n",
        "Então, para essa última etapa, vamos apresentar para vocês outros algoritmos de classificação. Repita os últimos passos de treino, predição e acurácia para vermos como eles se saem."
      ],
      "metadata": {
        "cell_id": "cea38dc34b34414a8447ec7bf598fb63",
        "tags": [],
        "deepnote_cell_type": "markdown",
        "deepnote_cell_height": 329.578125,
        "id": "6R_su9d8VjYO"
      }
    },
    {
      "cell_type": "markdown",
      "source": [
        "### DecisionTree\n",
        "\n",
        "A arvore de decisão é uma das estruturas mais intuitivas de classificação, ela basicamente pega as colunas que temos e cria regras de separação até que tenhamos uma sequencia de regras que atribui com alguma acurácia entre nossas classes.\n",
        "\n",
        "A melhor forma de entender esse modelo é usá-lo e visualizar sua árvore, por isso vamos trabalhar com a base do Titanic novamente."
      ],
      "metadata": {
        "cell_id": "bdbdcf8b510e4e358682696f248f2fba",
        "tags": [],
        "deepnote_cell_type": "markdown",
        "deepnote_cell_height": 181.59375,
        "id": "WHona35SVjYO"
      }
    },
    {
      "cell_type": "code",
      "source": [
        "#Questão 13\n",
        "#Use uma árvore de decisão para criar um novo modelo (modeloDT). Passe como parâmetro para a árvore a profundidade máxima de 3 (max_depth=3)\n"
      ],
      "metadata": {
        "cell_id": "1ee42fdb9abd4e8ab622b0e8a371a59a",
        "tags": [],
        "deepnote_to_be_reexecuted": false,
        "source_hash": "2ed3e98f",
        "execution_start": 1660613020839,
        "execution_millis": 0,
        "deepnote_cell_type": "code",
        "deepnote_cell_height": 117,
        "id": "NkoUPmwtVjYO"
      },
      "outputs": [],
      "execution_count": null
    },
    {
      "cell_type": "markdown",
      "source": [
        "### Visualizando a árvore de decisão\n",
        "\n",
        "Uma das vantagens das árvores de decisão é que podemos visualizar o seu resultado. Execute o código abaixo para plotarmos o resultado final e tente entender passo a passo o que está acontecendo.\n",
        "\n",
        "O método `plot_tree` presente na biblioteca do sklearn apresenta na tela o modelo que acabamos de construir. Execute os comandos abaixo e interprete o resultado"
      ],
      "metadata": {
        "cell_id": "02757b465f2a4a728b9df27c3bcd1754",
        "tags": [],
        "deepnote_cell_type": "markdown",
        "deepnote_cell_height": 181.59375,
        "id": "wsBHuFFcVjYP"
      }
    },
    {
      "cell_type": "code",
      "source": [
        "test_df_X.columns #visualizando as colunas usadas no teste"
      ],
      "metadata": {
        "cell_id": "7546c7bcb6464c1d81467fe0791da1a9",
        "tags": [],
        "deepnote_to_be_reexecuted": false,
        "source_hash": "dcf2aa03",
        "execution_start": 1660613184746,
        "execution_millis": 2,
        "deepnote_cell_type": "code",
        "deepnote_cell_height": 170.78125,
        "deepnote_output_heights": [
          78.78125
        ],
        "id": "xBgMdxKBVjYP"
      },
      "outputs": [],
      "execution_count": null
    },
    {
      "cell_type": "code",
      "source": [
        "from sklearn import tree\n",
        "import matplotlib.pyplot as plt\n",
        "\n",
        "plt.figure(figsize=(12,12))  # set plot size (denoted in inches)\n",
        "tree.plot_tree(modeloDT, fontsize=10)\n",
        "plt.show()"
      ],
      "metadata": {
        "cell_id": "a2a2856932c142d486383bb6a823fa5d",
        "tags": [],
        "deepnote_to_be_reexecuted": false,
        "source_hash": "91580810",
        "execution_start": 1660613188576,
        "execution_millis": 1106,
        "deepnote_cell_type": "code",
        "deepnote_cell_height": 793,
        "deepnote_output_heights": [
          611,
          21.1875
        ],
        "id": "mHpOhf9xVjYP"
      },
      "outputs": [],
      "execution_count": null
    },
    {
      "cell_type": "markdown",
      "source": [
        "## Support Vector Machine\n",
        "\n",
        "Suppoer Vector Machine, Máquina de vetores de suporte ou simplesmente SVM é a abordagem popular de classificação baseado em um conjunto de separadores lineares, a matemática por trás é bem interessante e você pode [conhecer mais por aqui](https://towardsdatascience.com/https-medium-com-pupalerushikesh-svm-f4b42800e989). Porém, hoje, focaremos apenas na implementação.\n",
        "\n",
        "Procure pela implementação `SVC` do skelearn, que é a implementação de SVM aplicada a problemas de classificação e aplique a nossa base `Titanic`. Procure também entender os parametros `C` e `kernel` do modelo, brinque um pouco com eles e teste diferentes valores, o que você percebe no resultado?\n"
      ],
      "metadata": {
        "cell_id": "eb94d03449e140599253c6d36c7f31f8",
        "tags": [],
        "deepnote_cell_type": "markdown",
        "deepnote_cell_height": 234.390625,
        "id": "Q_UHMGdxVjYP"
      }
    },
    {
      "cell_type": "code",
      "source": [
        "#Questão 14\n",
        "#Use o SVM (SVC - modeloSVC). Para prever os valores. Troque o `Kernel` do modelo e o hiperparâmetro C.\n",
        "#Será que você consegue obter valores melhores do que os já alcançados até agora?"
      ],
      "metadata": {
        "cell_id": "ec7aefff78484c408f1ab3bd1ee9562e",
        "tags": [],
        "deepnote_to_be_reexecuted": false,
        "source_hash": "1f6bb0e8",
        "execution_start": 1660613364470,
        "execution_millis": 3,
        "deepnote_cell_type": "code",
        "deepnote_cell_height": 112,
        "id": "jgtvAO5IVjYP"
      },
      "outputs": [],
      "execution_count": null
    },
    {
      "cell_type": "code",
      "source": [
        "#Questão 15\n",
        "#Use o Naive Bayes (modeloNB).\n",
        "#Será que você consegue obter valores melhores do que os já alcançados até agora?"
      ],
      "metadata": {
        "cell_id": "9313254961e649b4b36ad80add0d254e",
        "tags": [],
        "deepnote_cell_type": "code",
        "deepnote_cell_height": 97,
        "id": "zFHVf0qRVjYQ"
      },
      "outputs": [],
      "execution_count": null
    },
    {
      "cell_type": "code",
      "source": [
        "#Questão 16\n",
        "#O bom e conhecido KNN! Use o KNN (modeloSVC). Para prever os valores.\n",
        "#Será que você consegue obter valores melhores do que os já alcançados até agora?\n",
        "#se você usar n_neighbors=2, o resultado melhora ou piora? E se for n_neighbors=10?"
      ],
      "metadata": {
        "cell_id": "e1e8d845426744448957095b29e1142b",
        "tags": [],
        "deepnote_cell_type": "code",
        "deepnote_cell_height": 115,
        "id": "h5jaVkGPVjYQ"
      },
      "outputs": [],
      "execution_count": null
    },
    {
      "cell_type": "code",
      "source": [
        "#Questão 17\n",
        "#Rode o otimizador SGD\n",
        "#se você rodar o modelo mais de uma vez, sem alterar nada, o resultado final muda?\n",
        "#Como saber qual o melhor resultado podemos obter com esse modelo?"
      ],
      "metadata": {
        "cell_id": "ab38f67e5ffd4327ac083c3c5fe2037a",
        "tags": [],
        "deepnote_cell_type": "code",
        "deepnote_cell_height": 115,
        "id": "dC22nuIWVjYQ"
      },
      "outputs": [],
      "execution_count": null
    },
    {
      "cell_type": "code",
      "source": [
        "#Questão 18\n",
        "#Rode o otimizador RandomForest\n",
        "#se você rodar o modelo mais de uma vez, sem alterar nada, o resultado final muda?\n",
        "#Como saber qual o melhor resultado podemos obter com esse modelo?\n",
        "#se alterarmos o valor de n_estimators e min_samples_leaf, os resultados mudam?"
      ],
      "metadata": {
        "cell_id": "e8d6a9a46af04e308a99118bc3f4bd62",
        "tags": [],
        "deepnote_cell_type": "code",
        "deepnote_cell_height": 133,
        "id": "uU2SL-8rVjYR"
      },
      "outputs": [],
      "execution_count": null
    },
    {
      "cell_type": "code",
      "source": [
        "#Questão 19\n",
        "#Qual modelo entregou a maior acurácia?"
      ],
      "metadata": {
        "cell_id": "3ed997739184455c9f4fddee7408219a",
        "tags": [],
        "deepnote_to_be_reexecuted": false,
        "source_hash": "36f5f8e",
        "execution_start": 1660614386834,
        "execution_millis": 1,
        "deepnote_cell_type": "code",
        "deepnote_cell_height": 79,
        "id": "ygIJEA2kVjYR"
      },
      "outputs": [],
      "execution_count": null
    }
  ],
  "nbformat": 4,
  "nbformat_minor": 0,
  "metadata": {
    "orig_nbformat": 2,
    "deepnote": {
      "is_reactive": false
    },
    "deepnote_notebook_id": "8f2052cf-165b-464f-84eb-681c6be3a2dd",
    "deepnote_execution_queue": [],
    "colab": {
      "provenance": []
    },
    "language_info": {
      "name": "python"
    },
    "kernelspec": {
      "name": "python3",
      "display_name": "Python 3"
    },
    "gpuClass": "standard"
  }
}