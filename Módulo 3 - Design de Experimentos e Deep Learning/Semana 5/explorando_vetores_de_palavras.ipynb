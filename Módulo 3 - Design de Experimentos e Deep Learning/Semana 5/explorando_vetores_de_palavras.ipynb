{
  "cells": [
    {
      "cell_type": "markdown",
      "metadata": {
        "id": "T05yTdXfPNDk"
      },
      "source": [
        "# Explorando Vetores de Palavras\n",
        "\n",
        "Muito código é fornecido neste colab e recomendamos fortemente que você o leia e compreenda como parte do aprendizado :)\n",
        "\n",
        "Este laboratório Colab Notebook será utilizado na aula ao vivo de quinta-feira desta 2a semana.\n",
        "\n",
        "\n",
        "**Assignment Notes:** Garanta que seu notebook está sendo salvo a medida que for executando as células e realizando os exercícios"
      ]
    },
    {
      "cell_type": "code",
      "execution_count": 1,
      "metadata": {
        "id": "lpoeq12JPNDo",
        "outputId": "4111e884-76b3-47c8-eac0-7a186ae13f9b",
        "colab": {
          "base_uri": "https://localhost:8080/"
        }
      },
      "outputs": [
        {
          "output_type": "stream",
          "name": "stderr",
          "text": [
            "[nltk_data] Downloading package reuters to /root/nltk_data...\n"
          ]
        }
      ],
      "source": [
        "# Todas as importações que serão utilizadas neste Lab.\n",
        "# Nota:  não adicione a esta lista\n",
        "# ----------------\n",
        "\n",
        "import sys\n",
        "assert sys.version_info[0]==3\n",
        "assert sys.version_info[1] >= 5\n",
        "\n",
        "from platform import python_version\n",
        "assert int(python_version().split(\".\")[1]) >= 5, \"Garantindo que a versão do Python é adequada. Sua versão do python é \" + python_version()\n",
        "\n",
        "from gensim.models import KeyedVectors\n",
        "from gensim.test.utils import datapath\n",
        "import pprint\n",
        "import matplotlib.pyplot as plt\n",
        "plt.rcParams['figure.figsize'] = [10, 5]\n",
        "import nltk\n",
        "nltk.download('reuters') #to specify download location, optionally add the argument: download_dir='/specify/desired/path/'\n",
        "from nltk.corpus import reuters\n",
        "import numpy as np\n",
        "import random\n",
        "import scipy as sp\n",
        "from sklearn.decomposition import TruncatedSVD\n",
        "from sklearn.decomposition import PCA\n",
        "\n",
        "START_TOKEN = '<START>'\n",
        "END_TOKEN = '<END>'\n",
        "\n",
        "np.random.seed(0)\n",
        "random.seed(0)\n",
        "# ----------------"
      ]
    },
    {
      "cell_type": "markdown",
      "metadata": {
        "id": "gnks17ZzPNDp"
      },
      "source": [
        "## Vetores de palavras\n",
        "\n",
        "Vetores de palavras são frequentemente usados como um componente fundamental para tarefas posteriores de NLP, por exemplo. resposta a perguntas, geração de texto, tradução, etc., por isso é importante construir algumas intuições quanto aos seus pontos fortes e fracos. Aqui, você explorará dois tipos de vetores de palavras: aqueles derivados de *matrizes de co-ocorrência* e aqueles derivados via *GloVe*.\n",
        "\n",
        "**Nota sobre terminologia:** Os termos \"vetores de palavras\" e \"incorporações de palavras\" são frequentemente usados de forma intercambiável. O termo “incorporação” refere-se ao fato de que estamos codificando aspectos do significado de uma palavra em um espaço dimensional inferior. Como afirma a [Wikipedia](https://en.wikipedia.org/wiki/Word_embedding), \"*conceitualmente envolve uma incorporação matemática de um espaço com uma dimensão por palavra para um espaço vetorial contínuo com uma dimensão muito menor*\"."
      ]
    },
    {
      "cell_type": "markdown",
      "metadata": {
        "id": "JxWRD0tUPNDq"
      },
      "source": [
        "## Parte 1: Vetores de palavras baseados em contagem\n",
        "\n",
        "A maioria dos modelos de vetores de palavras parte da seguinte ideia:\n",
        "\n",
        "*Você conhecerá uma palavra da empresa que ela mantém ([Firth, J. R. 1957:11](https://en.wikipedia.org/wiki/John_Rupert_Firth))*\n",
        "\n",
        "Muitas implementações de vetores de palavras são motivadas pela ideia de que palavras semelhantes, ou seja, (quase) sinônimos, serão usadas em contextos semelhantes. Como resultado, palavras semelhantes serão frequentemente faladas ou escritas juntamente com um subconjunto partilhado de palavras, ou seja, contextos. Ao examinar estes contextos, podemos tentar desenvolver incorporações para as nossas palavras. Com essa intuição em mente, muitas abordagens da \"velha escola\" para a construção de vetores de palavras dependiam da contagem de palavras. Aqui elaboramos uma dessas estratégias, *matrizes de coocorrência* (para obter mais informações, consulte [aqui](https://web.stanford.edu/~jurafsky/slp3/6.pdf) ou [aqui](https ://medium.com/data-science-group-iitr/word-embedding-2d05d270b285))."
      ]
    },
    {
      "cell_type": "markdown",
      "metadata": {
        "id": "jXWd1i0bPNDq"
      },
      "source": [
        "### Co-ocorrência\n",
        "\n",
        "Uma matriz de coocorrência conta com que frequência as coisas ocorrem simultaneamente em algum ambiente. Dada alguma palavra $w_i$ que ocorre no documento, consideramos a *janela de contexto* que envolve $w_i$. Supondo que nosso tamanho fixo de janela seja $n$, então estas são as palavras $n$ anteriores e $n$ subsequentes nesse documento, ou seja, palavras $w_{i-n} \\dots w_{i-1}$ e $w_{i+ 1} \\pontos w_{i+n}$. Construímos uma *matriz de co-ocorrência* $M$, que é uma matriz simétrica palavra por palavra na qual $M_{ij}$ é o número de vezes que $w_j$ aparece dentro da janela de $w_i$ entre todos os documentos .\n",
        "\n",
        "**Exemplo: Coocorrência com Janela Fixa de n=1**:\n",
        "\n",
        "Documento 1: “nem tudo que reluz é ouro”\n",
        "\n",
        "Documento 2: “tudo está bem quando acaba bem”\n",
        "\n",
        "\n",
        "|     *    | `<START>` | all | that | glitters | is   | not  | gold  | well | ends | `<END>` |\n",
        "|----------|-------|-----|------|----------|------|------|-------|------|------|-----|\n",
        "| `<START>`    | 0     | 2   | 0    | 0        | 0    | 0    | 0     | 0    | 0    | 0   |\n",
        "| all      | 2     | 0   | 1    | 0        | 1    | 0    | 0     | 0    | 0    | 0   |\n",
        "| that     | 0     | 1   | 0    | 1        | 0    | 0    | 0     | 1    | 1    | 0   |\n",
        "| glitters | 0     | 0   | 1    | 0        | 1    | 0    | 0     | 0    | 0    | 0   |\n",
        "| is       | 0     | 1   | 0    | 1        | 0    | 1    | 0     | 1    | 0    | 0   |\n",
        "| not      | 0     | 0   | 0    | 0        | 1    | 0    | 1     | 0    | 0    | 0   |\n",
        "| gold     | 0     | 0   | 0    | 0        | 0    | 1    | 0     | 0    | 0    | 1   |\n",
        "| well     | 0     | 0   | 1    | 0        | 1    | 0    | 0     | 0    | 1    | 1   |\n",
        "| ends     | 0     | 0   | 1    | 0        | 0    | 0    | 0     | 1    | 0    | 0   |\n",
        "| `<END>`      | 0     | 0   | 0    | 0        | 0    | 0    | 1     | 1    | 0    | 0   |\n",
        "\n",
        "**Nota:** Em NLP, frequentemente adicionamos tokens `<START>` e `<END>` para representar o início e o fim de frases, parágrafos ou documentos. Neste caso, imaginamos tokens `<START>` e `<END>` encapsulando cada documento, por exemplo, \"`<START>` Nem tudo que reluz é ouro `<END>`\", e incluímos esses tokens em nosso co- contagem de ocorrências.\n",
        "\n",
        "As linhas (ou colunas) desta matriz fornecem um tipo de vetores de palavras (aqueles baseados na coocorrência palavra-palavra), mas os vetores serão grandes em geral (lineares no número de palavras distintas em um corpus). Assim, nosso próximo passo é executar a *redução de dimensionalidade*. Em particular, executaremos *SVD (Singular Value Decomposition)*, que é uma espécie de *PCA (Análise de Componentes Principais)* generalizada para selecionar os principais $k$ componentes principais. Aqui está uma visualização da redução de dimensionalidade com SVD. Nesta imagem, nossa matriz de coocorrência é $A$ com $n$ linhas correspondendo a $n$ palavras. Obtemos uma decomposição de matriz completa, com os valores singulares ordenados na matriz diagonal $S$, e nossos novos vetores de palavras $k$ de comprimento mais curto em $U_k$.\n",
        "\n",
        "Esta representação de co-ocorrência de dimensionalidade reduzida preserva as relações semânticas entre palavras, por ex. *médico* e *hospital* estarão mais próximos do que *médico* e *cachorro*.\n",
        "\n",
        "**Observações:** Se você mal consegue lembrar o que é um autovalor, aqui está [uma introdução lenta e amigável ao SVD](https://davetang.org/file/Singular_Value_Decomposition_Tutorial.pdf). Se você quiser aprender mais sobre PCA ou SVD, sinta-se à vontade para conferir as palestras [7](https://web.stanford.edu/class/cs168/l/l7.pdf), [8](http:/ /theory.stanford.edu/~tim/s15/l/l8.pdf) e [9](https://web.stanford.edu/class/cs168/l/l9.pdf) de CS168. Estas notas do curso fornecem um excelente tratamento de alto nível desses algoritmos de uso geral. Porém, para o propósito desta classe, você só precisa saber como extrair os embeddings k-dimensionais utilizando implementações pré-programadas desses algoritmos dos pacotes python numpy, scipy ou sklearn. Na prática, é um desafio aplicar SVD completo a corpora grandes devido à memória necessária para realizar PCA ou SVD. No entanto, se você deseja apenas os principais componentes do vetor $k$ para $k$ relativamente pequenos - conhecidos como [SVD truncado](https://en.wikipedia.org/wiki/Singular_value_decomposition#Truncated_SVD) - então existem técnicas razoavelmente escalonáveis para calculá-los iterativamente."
      ]
    },
    {
      "cell_type": "markdown",
      "metadata": {
        "id": "eRElDElUPNDq"
      },
      "source": [
        "### Plotando incorporações de palavras de co-ocorrência\n",
        "\n",
        "Aqui, usaremos o corpus da Reuters (notícias de negócios e financeiras). Se você não executou a célula de importação no topo desta página, execute-a agora (clique nela e pressione SHIFT-RETURN). O corpus é composto por 10.788 documentos noticiosos totalizando 1,3 milhão de palavras. Esses documentos abrangem 90 categorias e são divididos em treinamento e teste. Para obter mais detalhes, consulte https://www.nltk.org/book/ch02.html. Fornecemos abaixo uma função `read_corpus` que extrai apenas artigos da categoria \"grãos\" (ou seja, artigos de notícias sobre milho, trigo, etc.). A função também adiciona tokens `<START>` e `<END>` a cada um dos documentos e coloca palavras em minúsculas. Você **não** precisa realizar nenhum outro tipo de pré-processamento."
      ]
    },
    {
      "cell_type": "code",
      "execution_count": 2,
      "metadata": {
        "id": "FjGuev3sPNDr"
      },
      "outputs": [],
      "source": [
        "def read_corpus(category=\"grain\"):\n",
        "    \"\"\" Leia arquivos da categoria especificada do Reuter.\n",
        "         Parâmetros:\n",
        "             categoria (string): nome da categoria\n",
        "         Retornar:\n",
        "             lista de listas, com palavras de cada um dos arquivos processados\n",
        "    \"\"\"\n",
        "    files = reuters.fileids(category)\n",
        "    return [[START_TOKEN] + [w.lower() for w in list(reuters.words(f))] + [END_TOKEN] for f in files]\n"
      ]
    },
    {
      "cell_type": "markdown",
      "metadata": {
        "id": "9POQToO6PNDr"
      },
      "source": [
        "Vamos dar uma olhada em como são esses documentos…."
      ]
    },
    {
      "cell_type": "code",
      "execution_count": 3,
      "metadata": {
        "scrolled": true,
        "id": "ffeiuNcePNDr",
        "outputId": "9d2363b2-a9d8-4c97-fff6-556391899473",
        "colab": {
          "base_uri": "https://localhost:8080/"
        }
      },
      "outputs": [
        {
          "output_type": "stream",
          "name": "stdout",
          "text": [
            "[['<START>', 'china', 'daily', 'says', 'vermin', 'eat', '7', '-', '12', 'pct', 'grain', 'stocks',\n",
            "  'a', 'survey', 'of', '19', 'provinces', 'and', 'seven', 'cities', 'showed', 'vermin', 'consume',\n",
            "  'between', 'seven', 'and', '12', 'pct', 'of', 'china', \"'\", 's', 'grain', 'stocks', ',', 'the',\n",
            "  'china', 'daily', 'said', '.', 'it', 'also', 'said', 'that', 'each', 'year', '1', '.', '575',\n",
            "  'mln', 'tonnes', ',', 'or', '25', 'pct', ',', 'of', 'china', \"'\", 's', 'fruit', 'output', 'are',\n",
            "  'left', 'to', 'rot', ',', 'and', '2', '.', '1', 'mln', 'tonnes', ',', 'or', 'up', 'to', '30',\n",
            "  'pct', ',', 'of', 'its', 'vegetables', '.', 'the', 'paper', 'blamed', 'the', 'waste', 'on',\n",
            "  'inadequate', 'storage', 'and', 'bad', 'preservation', 'methods', '.', 'it', 'said', 'the',\n",
            "  'government', 'had', 'launched', 'a', 'national', 'programme', 'to', 'reduce', 'waste', ',',\n",
            "  'calling', 'for', 'improved', 'technology', 'in', 'storage', 'and', 'preservation', ',', 'and',\n",
            "  'greater', 'production', 'of', 'additives', '.', 'the', 'paper', 'gave', 'no', 'further',\n",
            "  'details', '.', '<END>'],\n",
            " ['<START>', 'thai', 'trade', 'deficit', 'widens', 'in', 'first', 'quarter', 'thailand', \"'\", 's',\n",
            "  'trade', 'deficit', 'widened', 'to', '4', '.', '5', 'billion', 'baht', 'in', 'the', 'first',\n",
            "  'quarter', 'of', '1987', 'from', '2', '.', '1', 'billion', 'a', 'year', 'ago', ',', 'the',\n",
            "  'business', 'economics', 'department', 'said', '.', 'it', 'said', 'janunary', '/', 'march',\n",
            "  'imports', 'rose', 'to', '65', '.', '1', 'billion', 'baht', 'from', '58', '.', '7', 'billion',\n",
            "  '.', 'thailand', \"'\", 's', 'improved', 'business', 'climate', 'this', 'year', 'resulted', 'in',\n",
            "  'a', '27', 'pct', 'increase', 'in', 'imports', 'of', 'raw', 'materials', 'and', 'semi', '-',\n",
            "  'finished', 'products', '.', 'the', 'country', \"'\", 's', 'oil', 'import', 'bill', ',', 'however',\n",
            "  ',', 'fell', '23', 'pct', 'in', 'the', 'first', 'quarter', 'due', 'to', 'lower', 'oil', 'prices',\n",
            "  '.', 'the', 'department', 'said', 'first', 'quarter', 'exports', 'expanded', 'to', '60', '.', '6',\n",
            "  'billion', 'baht', 'from', '56', '.', '6', 'billion', '.', 'export', 'growth', 'was', 'smaller',\n",
            "  'than', 'expected', 'due', 'to', 'lower', 'earnings', 'from', 'many', 'key', 'commodities',\n",
            "  'including', 'rice', 'whose', 'earnings', 'declined', '18', 'pct', ',', 'maize', '66', 'pct', ',',\n",
            "  'sugar', '45', 'pct', ',', 'tin', '26', 'pct', 'and', 'canned', 'pineapples', 'seven', 'pct', '.',\n",
            "  'products', 'registering', 'high', 'export', 'growth', 'were', 'jewellery', 'up', '64', 'pct',\n",
            "  ',', 'clothing', '57', 'pct', 'and', 'rubber', '35', 'pct', '.', '<END>'],\n",
            " ['<START>', 'sri', 'lanka', 'gets', 'usda', 'approval', 'for', 'wheat', 'price', 'food',\n",
            "  'department', 'officials', 'said', 'the', 'u', '.', 's', '.', 'department', 'of', 'agriculture',\n",
            "  'approved', 'the', 'continental', 'grain', 'co', 'sale', 'of', '52', ',', '500', 'tonnes', 'of',\n",
            "  'soft', 'wheat', 'at', '89', 'u', '.', 's', '.', 'dlrs', 'a', 'tonne', 'c', 'and', 'f', 'from',\n",
            "  'pacific', 'northwest', 'to', 'colombo', '.', 'they', 'said', 'the', 'shipment', 'was', 'for',\n",
            "  'april', '8', 'to', '20', 'delivery', '.', '<END>']]\n"
          ]
        }
      ],
      "source": [
        "reuters_corpus = read_corpus()\n",
        "pprint.pprint(reuters_corpus[:3], compact=True, width=100)"
      ]
    },
    {
      "cell_type": "markdown",
      "metadata": {
        "id": "vyGl-Y8VPNDs"
      },
      "source": [
        "### Pergunta 1.1: Implementar `distinct_words` [código] (2 pontos)\n",
        "\n",
        "Escreva um método para descobrir as palavras distintas (tipos de palavras) que ocorrem no corpus. Você pode fazer isso com loops `for`, mas é mais eficiente fazer isso com compreensões de lista Python. Em particular, [isto](https://coderwall.com/p/rcmaea/flatten-a-list-of-lists-in-one-line-in-python) pode ser útil para nivelar uma lista de listas. Se você não estiver familiarizado com a compreensão de listas do Python em geral, aqui estão [mais informações](https://python-3-patterns-idioms-test.readthedocs.io/en/latest/Comprehensions.html).\n",
        "\n",
        "Suas `corpus_words` retornadas devem ser classificadas. Você pode usar a função `sorted` do python para isso.\n",
        "\n",
        "Você pode achar útil usar [conjuntos Python](https://www.w3schools.com/python/python_sets.asp) para remover palavras duplicadas."
      ]
    },
    {
      "cell_type": "code",
      "execution_count": 4,
      "metadata": {
        "id": "6z8u6PtoPNDs"
      },
      "outputs": [],
      "source": [
        "def distinct_words(corpus):\n",
        "    \"\"\" Determine uma lista de palavras distintas para o corpus.\n",
        "         Parâmetros:\n",
        "             corpus (lista de lista de strings): corpus de documentos\n",
        "         Retornar:\n",
        "             corpus_words (lista de strings): lista ordenada de palavras distintas no corpus\n",
        "             n_corpus_words (inteiro): número de palavras distintas no corpus\n",
        "    \"\"\"\n",
        "    #corpus_words = []\n",
        "    #n_corpus_words = -1\n",
        "\n",
        "    # ------------------\n",
        "    # Achatando a lista de listas e criando um conjunto para obter palavras únicas\n",
        "    corpus_words = sorted(list(set([word for sentence in corpus for word in sentence])))\n",
        "    n_corpus_words = len(corpus_words)\n",
        "    # ------------------\n",
        "\n",
        "    return corpus_words, n_corpus_words"
      ]
    },
    {
      "cell_type": "code",
      "execution_count": 5,
      "metadata": {
        "id": "5Fp1aSKiPNDs",
        "outputId": "781bcfc4-36a0-4774-8b8a-cfbebb1398e2",
        "colab": {
          "base_uri": "https://localhost:8080/"
        }
      },
      "outputs": [
        {
          "output_type": "stream",
          "name": "stdout",
          "text": [
            "--------------------------------------------------------------------------------\n",
            "Passed All Tests!\n",
            "--------------------------------------------------------------------------------\n"
          ]
        }
      ],
      "source": [
        "# ---------------------\n",
        "# Rode este cheque de sanidade\n",
        "# Nota: Não é um cheque exaustivo de correção.\n",
        "# ---------------------\n",
        "\n",
        "# Define toy corpus\n",
        "test_corpus = [\"{} All that glitters isn't gold {}\".format(START_TOKEN, END_TOKEN).split(\" \"), \"{} All's well that ends well {}\".format(START_TOKEN, END_TOKEN).split(\" \")]\n",
        "test_corpus_words, num_corpus_words = distinct_words(test_corpus)\n",
        "\n",
        "# Correct answers\n",
        "ans_test_corpus_words = sorted([START_TOKEN, \"All\", \"ends\", \"that\", \"gold\", \"All's\", \"glitters\", \"isn't\", \"well\", END_TOKEN])\n",
        "ans_num_corpus_words = len(ans_test_corpus_words)\n",
        "\n",
        "# Test correct number of words\n",
        "assert(num_corpus_words == ans_num_corpus_words), \"Incorrect number of distinct words. Correct: {}. Yours: {}\".format(ans_num_corpus_words, num_corpus_words)\n",
        "\n",
        "# Test correct words\n",
        "assert (test_corpus_words == ans_test_corpus_words), \"Incorrect corpus_words.\\nCorrect: {}\\nYours:   {}\".format(str(ans_test_corpus_words), str(test_corpus_words))\n",
        "\n",
        "# Print Success\n",
        "print (\"-\" * 80)\n",
        "print(\"Passed All Tests!\")\n",
        "print (\"-\" * 80)"
      ]
    },
    {
      "cell_type": "markdown",
      "metadata": {
        "id": "h1LtzynuPNDs"
      },
      "source": [
        "### Pergunta 1.2: Implementar `compute_co_occurrence_matrix` [código]\n",
        "\n",
        "Escreva um método que construa uma matriz de co-ocorrência para um determinado tamanho de janela $n$ (com padrão 4), considerando palavras $n$ antes e $n$ depois da palavra no centro da janela. Aqui, começamos a usar `numpy (np)` para representar vetores, matrizes e tensores. Se você não estiver familiarizado com o NumPy, há um tutorial do NumPy na segunda metade deste notebook de Stanford CS231n [tutorial do Python NumPy](http://cs231n.github.io/python-numpy-tutorial/ - em inglês)."
      ]
    },
    {
      "cell_type": "code",
      "execution_count": 12,
      "metadata": {
        "id": "Y95a0rVfPNDs"
      },
      "outputs": [],
      "source": [
        "def compute_co_occurrence_matrix(corpus, window_size=4):\n",
        "    \"\"\" Calcule a matriz de coocorrência para o corpus e window_size fornecidos (padrão 4).\n",
        "\n",
        "         Nota: Cada palavra de um documento deve estar no centro de uma janela. Palavras próximas às bordas terão um tamanho menor\n",
        "               número de palavras concomitantes.\n",
        "\n",
        "               Por exemplo, se pegarmos o documento \"<START> Nem tudo que reluz é ouro <END>\" com tamanho de janela 4,\n",
        "               \"All\" ocorrerá simultaneamente com \"<START>\", \"that\", \"glitters\", \"is\" e \"not\".\n",
        "\n",
        "         Parâmetros:\n",
        "             corpus (lista de lista de strings): corpus de documentos\n",
        "             window_size (int): tamanho da janela de contexto\n",
        "         Retornar:\n",
        "             M (uma matriz numpy simétrica de forma (número de palavras únicas no corpus, número de palavras únicas no corpus)):\n",
        "                 Matriz de coocorrência de contagens de palavras.\n",
        "                 A ordem das palavras nas linhas/colunas deve ser igual à ordem das palavras dada pela função distintos_words.\n",
        "             word2ind (dict): dicionário que mapeia palavra para índice (ou seja, número de linha/coluna) para a matriz M.\n",
        "    \"\"\"\n",
        "    words, n_words = distinct_words(corpus)\n",
        "    M = np.zeros((n_words, n_words))\n",
        "    word2ind = {word: index for index, word in enumerate(words)}\n",
        "\n",
        "    # ------------------\n",
        "    for sentence in corpus:\n",
        "        for i, word in enumerate(sentence):\n",
        "            # índice central da palavra\n",
        "            current_index = word2ind[word]\n",
        "\n",
        "            # índices das palavras vizinhas na janela\n",
        "            left_boundary = max(i - window_size, 0)\n",
        "            right_boundary = min(i + window_size + 1, len(sentence))\n",
        "\n",
        "            for j in range(left_boundary, right_boundary):\n",
        "                if j != i: # não conte a própria palavra\n",
        "                    neighbor_word = sentence[j]\n",
        "                    neighbor_index = word2ind[neighbor_word]\n",
        "                    M[current_index, neighbor_index] += 1\n",
        "    # ------------------\n",
        "\n",
        "    return M, word2ind"
      ]
    },
    {
      "cell_type": "code",
      "execution_count": 13,
      "metadata": {
        "id": "ybxuOSVkPNDt",
        "outputId": "ed602c58-f58e-4e25-8846-63ff90084fe2",
        "colab": {
          "base_uri": "https://localhost:8080/"
        }
      },
      "outputs": [
        {
          "output_type": "stream",
          "name": "stdout",
          "text": [
            "--------------------------------------------------------------------------------\n",
            "Passed All Tests!\n",
            "--------------------------------------------------------------------------------\n"
          ]
        }
      ],
      "source": [
        "# ---------------------\n",
        "# Rode este cheque de sanidade\n",
        "# Nota: Não é um cheque exaustivo de correção.\n",
        "# ---------------------\n",
        "\n",
        "# Define toy corpus and get student's co-occurrence matrix\n",
        "test_corpus = [\"{} All that glitters isn't gold {}\".format(START_TOKEN, END_TOKEN).split(\" \"), \"{} All's well that ends well {}\".format(START_TOKEN, END_TOKEN).split(\" \")]\n",
        "M_test, word2ind_test = compute_co_occurrence_matrix(test_corpus, window_size=1)\n",
        "\n",
        "# Correct M and word2ind\n",
        "M_test_ans = np.array(\n",
        "    [[0., 0., 0., 0., 0., 0., 1., 0., 0., 1.,],\n",
        "     [0., 0., 1., 1., 0., 0., 0., 0., 0., 0.,],\n",
        "     [0., 1., 0., 0., 0., 0., 0., 0., 1., 0.,],\n",
        "     [0., 1., 0., 0., 0., 0., 0., 0., 0., 1.,],\n",
        "     [0., 0., 0., 0., 0., 0., 0., 0., 1., 1.,],\n",
        "     [0., 0., 0., 0., 0., 0., 0., 1., 1., 0.,],\n",
        "     [1., 0., 0., 0., 0., 0., 0., 1., 0., 0.,],\n",
        "     [0., 0., 0., 0., 0., 1., 1., 0., 0., 0.,],\n",
        "     [0., 0., 1., 0., 1., 1., 0., 0., 0., 1.,],\n",
        "     [1., 0., 0., 1., 1., 0., 0., 0., 1., 0.,]]\n",
        ")\n",
        "ans_test_corpus_words = sorted([START_TOKEN, \"All\", \"ends\", \"that\", \"gold\", \"All's\", \"glitters\", \"isn't\", \"well\", END_TOKEN])\n",
        "word2ind_ans = dict(zip(ans_test_corpus_words, range(len(ans_test_corpus_words))))\n",
        "\n",
        "# Test correct word2ind\n",
        "assert (word2ind_ans == word2ind_test), \"Your word2ind is incorrect:\\nCorrect: {}\\nYours: {}\".format(word2ind_ans, word2ind_test)\n",
        "\n",
        "# Test correct M shape\n",
        "assert (M_test.shape == M_test_ans.shape), \"M matrix has incorrect shape.\\nCorrect: {}\\nYours: {}\".format(M_test.shape, M_test_ans.shape)\n",
        "\n",
        "# Test correct M values\n",
        "for w1 in word2ind_ans.keys():\n",
        "    idx1 = word2ind_ans[w1]\n",
        "    for w2 in word2ind_ans.keys():\n",
        "        idx2 = word2ind_ans[w2]\n",
        "        student = M_test[idx1, idx2]\n",
        "        correct = M_test_ans[idx1, idx2]\n",
        "        if student != correct:\n",
        "            print(\"Correct M:\")\n",
        "            print(M_test_ans)\n",
        "            print(\"Your M: \")\n",
        "            print(M_test)\n",
        "            raise AssertionError(\"Incorrect count at index ({}, {})=({}, {}) in matrix M. Yours has {} but should have {}.\".format(idx1, idx2, w1, w2, student, correct))\n",
        "\n",
        "# Print Success\n",
        "print (\"-\" * 80)\n",
        "print(\"Passed All Tests!\")\n",
        "print (\"-\" * 80)"
      ]
    },
    {
      "cell_type": "markdown",
      "metadata": {
        "id": "lTaRvxtdPNDt"
      },
      "source": [
        "### Pergunta 1.3: Implementar `reduce_to_k_dim` [código]\n",
        "\n",
        "Construa um método que realize redução de dimensionalidade na matriz para produzir embeddings k-dimensionais. Use SVD para pegar os k principais componentes e produzir uma nova matriz de incorporações k-dimensionais.\n",
        "\n",
        "**Observação:** Todos os numpy, scipy e scikit-learn (`sklearn`) fornecem *alguma* implementação de SVD, mas apenas scipy e sklearn fornecem uma implementação de SVD truncado, e apenas sklearn fornece um algoritmo aleatório eficiente para calculando SVD truncado em grande escala. Portanto, use [sklearn.decomposition.TruncatedSVD](https://scikit-learn.org/stable/modules/generated/sklearn.decomposition.TruncatedSVD.html)."
      ]
    },
    {
      "cell_type": "code",
      "execution_count": 16,
      "metadata": {
        "id": "dEs3RaDhPNDt"
      },
      "outputs": [],
      "source": [
        "def reduce_to_k_dim(M, k=2):\n",
        "    \"\"\" Reduza uma matriz de dimensionalidade de contagem de coocorrência (num_corpus_words, num_corpus_words)\n",
        "         para uma matriz de dimensionalidade (num_corpus_words, k) usando a seguinte função SVD do Scikit-Learn:\n",
        "             - http://scikit-learn.org/stable/modules/generated/sklearn.decomposition.TruncatedSVD.html\n",
        "\n",
        "         Parâmetros:\n",
        "             M (matriz numpy de forma (número de palavras únicas no corpus, número de palavras únicas no corpus)): matriz de coocorrência de contagens de palavras\n",
        "             k (int): tamanho de incorporação de cada palavra após redução de dimensão\n",
        "         Retornar:\n",
        "             M_reduced (matriz numpy de forma (número de palavras do corpus, k)): matriz de incorporações de palavras k-dimensionais.\n",
        "                     Em termos do SVD da aula de matemática, isso na verdade retorna U * S\n",
        "    \"\"\"\n",
        "    n_iters = 10     # Use este parâmetro ao chamar `TruncatedSVD`\n",
        "    M_reduced = None\n",
        "    print(\"Running Truncated SVD over %i words...\" % (M.shape[0]))\n",
        "\n",
        "    # ------------------\n",
        "    # Aplicando TruncatedSVD\n",
        "    svd = TruncatedSVD(n_components=k, n_iter=n_iters)\n",
        "    M_reduced = svd.fit_transform(M)\n",
        "    # ------------------\n",
        "\n",
        "    print(\"Done.\")\n",
        "    return M_reduced"
      ]
    },
    {
      "cell_type": "code",
      "execution_count": 17,
      "metadata": {
        "id": "-zZWxTYCPNDt",
        "outputId": "167634ba-52af-4804-c3d7-2d270ed38774",
        "colab": {
          "base_uri": "https://localhost:8080/"
        }
      },
      "outputs": [
        {
          "output_type": "stream",
          "name": "stdout",
          "text": [
            "Running Truncated SVD over 10 words...\n",
            "Done.\n",
            "--------------------------------------------------------------------------------\n",
            "Passed All Tests!\n",
            "--------------------------------------------------------------------------------\n"
          ]
        }
      ],
      "source": [
        "# ---------------------\n",
        "# Execute esta verificação de sanidade\n",
        "# Observe que esta não é uma verificação exaustiva de correção\n",
        "# Na verdade, apenas verificamos se o seu M_reduced tem as dimensões corretas.\n",
        "# ---------------------\n",
        "\n",
        "# Define toy corpus and run student code\n",
        "test_corpus = [\"{} All that glitters isn't gold {}\".format(START_TOKEN, END_TOKEN).split(\" \"), \"{} All's well that ends well {}\".format(START_TOKEN, END_TOKEN).split(\" \")]\n",
        "M_test, word2ind_test = compute_co_occurrence_matrix(test_corpus, window_size=1)\n",
        "M_test_reduced = reduce_to_k_dim(M_test, k=2)\n",
        "\n",
        "# Test proper dimensions\n",
        "assert (M_test_reduced.shape[0] == 10), \"M_reduced has {} rows; should have {}\".format(M_test_reduced.shape[0], 10)\n",
        "assert (M_test_reduced.shape[1] == 2), \"M_reduced has {} columns; should have {}\".format(M_test_reduced.shape[1], 2)\n",
        "\n",
        "# Print Success\n",
        "print (\"-\" * 80)\n",
        "print(\"Passed All Tests!\")\n",
        "print (\"-\" * 80)"
      ]
    },
    {
      "cell_type": "markdown",
      "metadata": {
        "id": "MrGEo0bYPNDt"
      },
      "source": [
        "### Pergunta 1.4: Implementar `plot_embeddings` [código] (1 ponto)\n",
        "\n",
        "Aqui você escreverá uma função para traçar um conjunto de vetores 2D no espaço 2D. Para gráficos, usaremos Matplotlib (`plt`).\n",
        "\n",
        "Para este exemplo, pode ser útil adaptar [este código](http://web.archive.org/web/20190924160434/https://www.pythonmembers.club/2018/05/08/matplotlib-scatter- plotar-anotar-definir-texto-no-rótulo-cada-ponto/). No futuro, uma boa maneira de fazer um gráfico é dar uma olhada na [galeria Matplotlib](https://matplotlib.org/gallery/index.html), encontrar um gráfico que se pareça um pouco com o que você deseja e adaptar o código que eles fornecem."
      ]
    },
    {
      "cell_type": "code",
      "execution_count": 18,
      "metadata": {
        "id": "S3DV7rVoPNDt"
      },
      "outputs": [],
      "source": [
        "def plot_embeddings(M_reduced, word2ind, words):\n",
        "    \"\"\" Trace em um gráfico de dispersão as incorporações das palavras especificadas na lista \"palavras\".\n",
        "         NOTA: não plote todas as palavras listadas em M_reduced/word2ind.\n",
        "         Inclua um rótulo ao lado de cada ponto.\n",
        "\n",
        "         Parâmetros:\n",
        "             M_reduced (matriz numpy de forma (número de palavras únicas no corpus, 2)): matriz de incorporações de palavras bidimensionais\n",
        "             word2ind (dict): dicionário que mapeia palavras para índices da matriz M\n",
        "             palavras (lista de strings): palavras cujos embeddings queremos visualizar\n",
        "    \"\"\"\n",
        "\n",
        "    # ------------------\n",
        "    # Obtendo coordenadas x e y para cada palavra\n",
        "    x_coords = [M_reduced[word2ind[word], 0] for word in words]\n",
        "    y_coords = [M_reduced[word2ind[word], 1] for word in words]\n",
        "\n",
        "    # Plotando os pontos no gráfico de dispersão\n",
        "    plt.scatter(x_coords, y_coords, marker='o', color='red', s=100)\n",
        "\n",
        "    # Adicionando rótulos para cada ponto\n",
        "    for label, x, y in zip(words, x_coords, y_coords):\n",
        "        plt.annotate(label, xy=(x, y), xytext=(5, 2), textcoords='offset points', ha='right', va='bottom')\n",
        "\n",
        "    plt.show()\n",
        "    # ------------------"
      ]
    },
    {
      "cell_type": "code",
      "execution_count": 19,
      "metadata": {
        "id": "Qv3jaQa_PNDt",
        "outputId": "21252622-d113-42f5-f24d-707ddc325fc4",
        "colab": {
          "base_uri": "https://localhost:8080/",
          "height": 500
        }
      },
      "outputs": [
        {
          "output_type": "stream",
          "name": "stdout",
          "text": [
            "--------------------------------------------------------------------------------\n",
            "Outputted Plot:\n"
          ]
        },
        {
          "output_type": "display_data",
          "data": {
            "text/plain": [
              "<Figure size 1000x500 with 1 Axes>"
            ],
            "image/png": "[encoded data removed]"
          },
          "metadata": {}
        },
        {
          "output_type": "stream",
          "name": "stdout",
          "text": [
            "--------------------------------------------------------------------------------\n"
          ]
        }
      ],
      "source": [
        "# ---------------------\n",
        "# Execute esta verificação de sanidade\n",
        "# Observe que esta não é uma verificação exaustiva de correção.\n",
        "# O gráfico produzido deve ser semelhante ao \"gráfico da solução de teste\" ilustrado abaixo.\n",
        "# ---------------------\n",
        "\n",
        "print (\"-\" * 80)\n",
        "print (\"Outputted Plot:\")\n",
        "\n",
        "M_reduced_plot_test = np.array([[1, 1], [-1, -1], [1, -1], [-1, 1], [0, 0]])\n",
        "word2ind_plot_test = {'test1': 0, 'test2': 1, 'test3': 2, 'test4': 3, 'test5': 4}\n",
        "words = ['test1', 'test2', 'test3', 'test4', 'test5']\n",
        "plot_embeddings(M_reduced_plot_test, word2ind_plot_test, words)\n",
        "\n",
        "print (\"-\" * 80)"
      ]
    },
    {
      "cell_type": "markdown",
      "metadata": {
        "id": "fexhiCwuPNDu"
      },
      "source": [
        "### Pergunta 1.5: Análise de gráfico de coocorrência [escrita]\n",
        "\n",
        "Agora vamos juntar todas as partes que você escreveu! Calcularemos a matriz de co-ocorrência com janela fixa de 4 (o tamanho da janela padrão), sobre o corpus \"grão\" da Reuters. Em seguida, usaremos TruncatedSVD para calcular embeddings bidimensionais de cada palavra. TruncatedSVD retorna U\\*S, então precisamos normalizar os vetores retornados, para que todos os vetores apareçam ao redor do círculo unitário (portanto, proximidade é proximidade direcional). **Observação**: A linha de código abaixo que faz a normalização usa o conceito NumPy de *broadcasting*. Se você não sabe sobre transmissão, dê uma olhada\n",
        "[Computação em matrizes: transmissão por Jake VanderPlas](https://jakevdp.github.io/PythonDataScienceHandbook/02.05-computation-on-arrays-broadcasting.html).\n",
        "\n",
        "Execute a célula abaixo para produzir o gráfico. Provavelmente levará alguns segundos para ser executado. O que se agrupa em um espaço de incorporação bidimensional? O que não se agrupa e você acha que deveria estar?"
      ]
    },
    {
      "cell_type": "code",
      "execution_count": 20,
      "metadata": {
        "id": "KyDwMCFsPNDu",
        "outputId": "aa091251-6985-441d-a78f-157874d96ad9",
        "colab": {
          "base_uri": "https://localhost:8080/",
          "height": 482
        }
      },
      "outputs": [
        {
          "output_type": "stream",
          "name": "stdout",
          "text": [
            "Running Truncated SVD over 7146 words...\n",
            "Done.\n"
          ]
        },
        {
          "output_type": "display_data",
          "data": {
            "text/plain": [
              "<Figure size 1000x500 with 1 Axes>"
            ],
            "image/png": "[encoded data removed]"
          },
          "metadata": {}
        }
      ],
      "source": [
        "# -----------------------------\n",
        "# Rode esta célula para reproduzir seu plot.\n",
        "# ------------------------------\n",
        "reuters_corpus = read_corpus()\n",
        "M_co_occurrence, word2ind_co_occurrence = compute_co_occurrence_matrix(reuters_corpus)\n",
        "M_reduced_co_occurrence = reduce_to_k_dim(M_co_occurrence, k=2)\n",
        "\n",
        "# Redimensionar (normalizar) as linhas para torná-las cada uma com comprimento unitário\n",
        "M_lengths = np.linalg.norm(M_reduced_co_occurrence, axis=1)\n",
        "M_normalized = M_reduced_co_occurrence / M_lengths[:, np.newaxis] # broadcasting\n",
        "\n",
        "words = ['tonnes', 'grain', 'wheat',  'agriculture', 'corn', 'maize', 'export', 'department', 'barley', 'grains', 'soybeans', 'sorghum']\n",
        "\n",
        "plot_embeddings(M_normalized, word2ind_co_occurrence, words)"
      ]
    },
    {
      "cell_type": "markdown",
      "metadata": {
        "id": "JXMY8NsSPNDu"
      },
      "source": [
        "#### <font color=\"red\"> Agrupamentos Observados: Palavras relacionadas a diferentes tipos de grãos, como \"corn\", \"wheat\", \"sorghum\", \"soybeans\", \"barley\", e \"grains\", estão agrupadas próximas umas das outras. Isso indica que elas frequentemente ocorrem juntas no corpus e são usadas em contextos similares. Termos como \"tonnes\" e \"export\" estão próximos, o que sugere que no corpus muitas vezes se discute a quantidade (em toneladas) de grãos que são exportados. \"Agriculture\" e \"department\" estão posicionados próximos, o que pode indicar discussões sobre um departamento de agricultura ou contextos em que ambas as palavras são frequentemente mencionadas juntas. O que não se agrupou e poderia ter agrupado: Não é possível concluir definitivamente sem o contexto completo, mas, dadas as palavras, poderíamos imaginar que \"agriculture\" (agricultura) poderia estar mais próximo de termos como \"grains\" (grãos) ou grãos específicos, já que a agricultura envolve a produção desses grãos.\n",
        "\n",
        "Conclusão:\n",
        "O gráfico de coocorrência é uma ferramenta útil para visualizar como as palavras estão relacionadas com base em sua proximidade no corpus. No entanto, a representação bidimensional é uma simplificação e pode não capturar todas as nuances e relações entre as palavras. A escolha da janela de co-ocorrência, o método de redução de dimensionalidade e outros fatores também podem influenciar os resultados. É essencial interpretar tais gráficos no contexto do corpus e do conhecimento do domínio.\n",
        "</font>"
      ]
    },
    {
      "cell_type": "markdown",
      "metadata": {
        "id": "w2gUGHqCPNDu"
      },
      "source": [
        "## Parte 2: Vetores de palavras baseados em previsão\n",
        "\n",
        "Conforme discutido em aula, mais recentemente vetores de palavras baseados em predição demonstraram melhor desempenho, como word2vec e GloVe (que também utiliza o benefício das contagens). Aqui, exploraremos os embeddings produzidos pela GloVe. Revise as notas da aula e os slides da aula para obter mais detalhes sobre os algoritmos word2vec e GloVe. Se você estiver se sentindo aventureiro, desafie-se e tente ler o [artigo original da GloVe](https://nlp.stanford.edu/pubs/glove.pdf).\n",
        "\n",
        "Em seguida, execute as células a seguir para carregar os vetores GloVe na memória. **Observação**: Se esta for a primeira vez que você executa essas células, ou seja, baixa o modelo de incorporação, a execução levará alguns minutos. Se você já executou essas células antes, executá-las novamente carregará o modelo sem baixá-lo novamente, o que levará cerca de 1 a 2 minutos."
      ]
    },
    {
      "cell_type": "code",
      "execution_count": 21,
      "metadata": {
        "id": "WYYglw_7PNDu"
      },
      "outputs": [],
      "source": [
        "def load_embedding_model():\n",
        "    \"\"\" Carregar vetores de luva\n",
        "         Retornar:\n",
        "             wv_from_bin: Todos os 400.000 embeddings, cada comprimento 200\n",
        "    \"\"\"\n",
        "    import gensim.downloader as api\n",
        "    wv_from_bin = api.load(\"glove-wiki-gigaword-200\")\n",
        "    print(\"Loaded vocab size %i\" % len(list(wv_from_bin.index_to_key)))\n",
        "    return wv_from_bin"
      ]
    },
    {
      "cell_type": "code",
      "execution_count": 22,
      "metadata": {
        "id": "3Wulw69FPNDu",
        "outputId": "4785f736-8ab8-48e5-aea4-26002a2947ed",
        "colab": {
          "base_uri": "https://localhost:8080/"
        }
      },
      "outputs": [
        {
          "output_type": "stream",
          "name": "stdout",
          "text": [
            "[==================================================] 100.0% 252.1/252.1MB downloaded\n",
            "Loaded vocab size 400000\n"
          ]
        }
      ],
      "source": [
        "# -----------------------------------\n",
        "# Execute a célula para carregar vetores de palavras\n",
        "# Nota: Isso levará alguns minutos\n",
        "# -----------------------------------\n",
        "wv_from_bin = load_embedding_model()"
      ]
    },
    {
      "cell_type": "markdown",
      "metadata": {
        "id": "sh_how6JPNDu"
      },
      "source": [
        "#### Nota: Se você estiver recebendo um erro \"reset by peer\", execute novamente a célula para reiniciar o download."
      ]
    },
    {
      "cell_type": "markdown",
      "metadata": {
        "id": "FG7n0IpzPNDu"
      },
      "source": [
        "### Reduzindo a dimensionalidade de Word Embeddings\n",
        "Vamos comparar diretamente os embeddings do GloVe com os da matriz de coocorrência. Para evitar ficar sem memória, trabalharemos com uma amostra de 10.000 vetores GloVe.\n",
        "Execute as seguintes células para:\n",
        "\n",
        "1. Coloque 10.000 vetores de luva em uma matriz M\n",
        "2. Execute `reduce_to_k_dim` (sua função SVD truncada) para reduzir os vetores de 200 dimensões para bidimensionais."
      ]
    },
    {
      "cell_type": "code",
      "execution_count": 23,
      "metadata": {
        "id": "lfWaKDdBPNDu"
      },
      "outputs": [],
      "source": [
        "def get_matrix_of_vectors(wv_from_bin, required_words=['tonnes', 'grain', 'wheat',  'agriculture', 'corn', 'maize', 'export', 'department', 'barley', 'grains', 'soybeans', 'sorghum']):\n",
        "    \"\"\" Coloque os vetores GloVe em uma matriz M.\n",
        "         Parâmetro:\n",
        "             wv_from_bin: objeto KeyedVectors; os 400.000 vetores GloVe carregados do arquivo\n",
        "         Retornar:\n",
        "             M: forma de matriz numpy (num palavras, 200) contendo os vetores\n",
        "             word2ind: dicionário mapeando cada palavra para seu número de linha em M\n",
        "    \"\"\"\n",
        "    import random\n",
        "    words = list(wv_from_bin.index_to_key)\n",
        "    print(\"Shuffling words ...\")\n",
        "    random.seed(225)\n",
        "    random.shuffle(words)\n",
        "    words = words[:10000]\n",
        "    print(\"Putting %i words into word2ind and matrix M...\" % len(words))\n",
        "    word2ind = {}\n",
        "    M = []\n",
        "    curInd = 0\n",
        "    for w in words:\n",
        "        try:\n",
        "            M.append(wv_from_bin.get_vector(w))\n",
        "            word2ind[w] = curInd\n",
        "            curInd += 1\n",
        "        except KeyError:\n",
        "            continue\n",
        "    for w in required_words:\n",
        "        if w in words:\n",
        "            continue\n",
        "        try:\n",
        "            M.append(wv_from_bin.get_vector(w))\n",
        "            word2ind[w] = curInd\n",
        "            curInd += 1\n",
        "        except KeyError:\n",
        "            continue\n",
        "    M = np.stack(M)\n",
        "    print(\"Done.\")\n",
        "    return M, word2ind"
      ]
    },
    {
      "cell_type": "code",
      "execution_count": 24,
      "metadata": {
        "id": "Jy9qQ0VOPNDv",
        "outputId": "9e7aa860-4088-4ba7-b944-ef48d9e4d649",
        "colab": {
          "base_uri": "https://localhost:8080/"
        }
      },
      "outputs": [
        {
          "output_type": "stream",
          "name": "stdout",
          "text": [
            "Shuffling words ...\n",
            "Putting 10000 words into word2ind and matrix M...\n",
            "Done.\n",
            "Running Truncated SVD over 10012 words...\n",
            "Done.\n"
          ]
        }
      ],
      "source": [
        "# -----------------------------------------------------------------\n",
        "# Execute Cell para reduzir embeddings de palavras de 200 dimensões para k dimensões\n",
        "# Nota: Isto deve ser rápido de executar\n",
        "# -----------------------------------------------------------------\n",
        "M, word2ind = get_matrix_of_vectors(wv_from_bin)\n",
        "M_reduced = reduce_to_k_dim(M, k=2)\n",
        "\n",
        "# Redimensionar (normalizar) as linhas para torná-las cada uma com comprimento unitário\n",
        "M_lengths = np.linalg.norm(M_reduced, axis=1)\n",
        "M_reduced_normalized = M_reduced / M_lengths[:, np.newaxis] # broadcasting"
      ]
    },
    {
      "cell_type": "markdown",
      "metadata": {
        "id": "eVL1k4UQPNDv"
      },
      "source": [
        "**Observação: se você estiver enfrentando problemas de falta de memória em sua máquina local, tente fechar outros aplicativos para liberar mais memória em seu dispositivo. Você pode tentar reiniciar sua máquina para liberar memória extra. Em seguida, execute imediatamente o notebook jupyter e veja se você consegue carregar os vetores de palavras corretamente. Se você ainda tiver problemas ao carregar os embeddings em sua máquina local depois disso, vá até o horário comercial ou entre em contato com a equipe do curso.**"
      ]
    },
    {
      "cell_type": "markdown",
      "metadata": {
        "id": "6f3CoQh6PNDv"
      },
      "source": [
        "### Pergunta 2.1: GloVe Plot Analysis [escrita] (3 pontos)\n",
        "\n",
        "Execute a célula abaixo para plotar os embeddings 2D GloVe para `['toneladas', 'grão', 'trigo', 'agricultura', 'milho', 'milho', 'exportação', 'departamento', 'cevada', ' grãos», «soja», «sorgo»]».\n",
        "\n",
        "O que se agrupa em um espaço de incorporação bidimensional? O que não se agrupa e você acha que deveria estar? Como o gráfico difere daquele gerado anteriormente a partir da matriz de coocorrência? Qual é uma possível causa para a diferença?"
      ]
    },
    {
      "cell_type": "code",
      "execution_count": 25,
      "metadata": {
        "scrolled": true,
        "id": "-3uadvTvPNDv",
        "outputId": "bb9145e9-3520-4bb3-8d00-a5d5d0e48edf",
        "colab": {
          "base_uri": "https://localhost:8080/",
          "height": 445
        }
      },
      "outputs": [
        {
          "output_type": "display_data",
          "data": {
            "text/plain": [
              "<Figure size 1000x500 with 1 Axes>"
            ],
            "image/png": "[encoded data removed]"
          },
          "metadata": {}
        }
      ],
      "source": [
        "words = ['tonnes', 'grain', 'wheat',  'agriculture', 'corn', 'maize', 'export', 'department', 'barley', 'grains', 'soybeans', 'sorghum']\n",
        "plot_embeddings(M_reduced_normalized, word2ind, words)"
      ]
    },
    {
      "cell_type": "markdown",
      "metadata": {
        "id": "DK4fi2sMPNDv"
      },
      "source": [
        "#### <font color=\"red\">Agrupamentos Observados: 1. Palavras relacionadas a grãos, como \"wheat\" (trigo), \"soybeans\" (soja), \"barley\" (cevada), \"grains\" (grãos) e \"sorghum\" (sorgo) estão próximas umas das outras. Isso indica que elas têm contextos semânticos semelhantes. 2. \"Agriculture\" (agricultura) e \"department\" (departamento) estão próximos, sugerindo que podem ser discutidos juntos em muitos contextos, provavelmente se referindo a um departamento de agricultura. 3. \"Export\" (exportação) está posicionada próxima a \"wheat\" (trigo), sugerindo que pode haver discussões sobre a exportação de trigo. O que não se agrupou e poderia ter agrupado: Assim como no gráfico anterior, pode-se argumentar que \"agriculture\" (agricultura) poderia estar mais próxima de grãos específicos, mas aqui ela está um pouco mais próxima deles do que no gráfico anterior.Diferenças do Gráfico de Coocorrência: 1. No gráfico anterior, a relação entre \"tonnes\" e \"export\" era destacada, enquanto neste gráfico, \"tonnes\" (toneladas) parece estar ausente e \"export\" (exportação) tem uma relação mais próxima com \"wheat\" (trigo). 2. A disposição relativa de algumas palavras mudou. Por exemplo, \"agriculture\" (agricultura) e \"department\" (departamento) estão mais à direita neste gráfico. Possível Causa para a Diferença: O modelo GloVe leva em consideração informações estatísticas globais do corpus, ao contrário da análise de coocorrência que se baseia em contagens locais. Isso pode resultar em embeddings que capturam mais nuances semânticas e contextuais. Além disso, o GloVe pode ter sido treinado em um corpus mais amplo ou diversificado, influenciando a maneira como os embeddings representam as relações entre as palavras. Conclusão: Ambos os métodos, matriz de coocorrência e GloVe, oferecem insights sobre as relações semânticas entre as palavras, mas podem produzir resultados ligeiramente diferentes devido às diferenças em suas abordagens e possíveis corpus de treinamento.</font>"
      ]
    },
    {
      "cell_type": "markdown",
      "metadata": {
        "id": "uRvkls2UPNDv"
      },
      "source": [
        "### Cosine Similarity\n",
        "\n",
        "Agora que temos vetores de palavras, precisamos de uma forma de quantificar a semelhança entre palavras individuais, de acordo com esses vetores. Uma dessas métricas é a similaridade de cosseno. Usaremos isso para encontrar palavras “próximas” e “distantes” umas das outras.\n",
        "\n",
        "Podemos pensar em vetores n-dimensionais como pontos no espaço n-dimensional. Se tomarmos esta perspectiva [L1](http://mathworld.wolfram.com/L1-Norm.html) e [L2](http://mathworld.wolfram.com/L2-Norm.html) as distâncias ajudam a quantificar o quantidade de espaço \"devemos viajar\" para chegar entre esses dois pontos.\n",
        "\n",
        "Em vez de calcular o ângulo real, podemos deixar a similaridade em termos de $similarity = cos(\\Theta)$. Formalmente, a [similaridade de cosseno](https://en.wikipedia.org/wiki/Cosine_similarity) $s$ entre dois vetores $p$ e $q$ é definida como:\n",
        "\n",
        "$$s = \\frac{p \\cdot q}{||p|| ||q||}, \\textrm{ onde } s \\in [-1, 1] $$"
      ]
    },
    {
      "cell_type": "markdown",
      "metadata": {
        "id": "2Kk1RRJ7PNDv"
      },
      "source": [
        "### Questão 2.2: Palavras com múltiplos significados (1,5 pontos) [código + escrito]\n",
        "Polissemias e homônimos são palavras que possuem mais de um significado (veja esta [página wiki](https://en.wikipedia.org/wiki/Polysemy) para saber mais sobre a diferença entre polissemias e homônimos). Encontre uma palavra com *pelo menos dois significados diferentes* de modo que as 10 palavras mais semelhantes (de acordo com a similaridade de cosseno) contenham palavras relacionadas de *ambos* significados. Por exemplo, \"folhas\" tem o significado de \"go_away\" e \"a_structure_of_a_plant\" entre os 10 primeiros, e \"scoop\" tem \"handed_waffle_cone\" e \"lowdown\". Você provavelmente precisará tentar diversas palavras polissêmicas ou homônimas antes de encontrar uma.\n",
        "\n",
        "Por favor, indique a palavra que você descobriu e os múltiplos significados que ocorrem entre as 10 primeiras palavras. Por que você acha que muitas das palavras polissêmicas ou homônimas que você tentou não funcionaram (ou seja, as 10 palavras mais semelhantes contêm apenas **uma** dos significados das palavras)?\n",
        "\n",
        "**Nota**: Você deve usar a função `wv_from_bin.most_similar(word)` para obter as 10 principais palavras semelhantes. Esta função classifica todas as outras palavras do vocabulário em relação à sua semelhança de cosseno com a palavra dada. Para obter mais assistência, verifique a __[documentação do GenSim](https://radimrehurek.com/gensim/models/keyedvectors.html#gensim.models.keyedvectors.FastTextKeyedVectors.most_similar)__."
      ]
    },
    {
      "cell_type": "code",
      "execution_count": 26,
      "metadata": {
        "id": "tSs2U5a-PNDv",
        "outputId": "1d803bc8-de81-430f-8ecc-850039e16b3e",
        "colab": {
          "base_uri": "https://localhost:8080/"
        }
      },
      "outputs": [
        {
          "output_type": "stream",
          "name": "stdout",
          "text": [
            "[('goals', 0.8359706401824951), ('scored', 0.7112907767295837), ('scoring', 0.7085539698600769), ('minute', 0.6560438871383667), ('kick', 0.6459980607032776), ('penalty', 0.6249834895133972), ('half', 0.6115258932113647), ('missed', 0.6031259298324585), ('substitute', 0.5984079241752625), ('score', 0.5955643057823181)]\n"
          ]
        }
      ],
      "source": [
        "# ------------------\n",
        "similar_words = wv_from_bin.most_similar(\"goal\")\n",
        "print(similar_words)\n",
        "# ------------------"
      ]
    },
    {
      "cell_type": "markdown",
      "metadata": {
        "id": "JqUx-1RWPND0"
      },
      "source": [
        "#### <font color=\"red\">Analisando o gráfico com os embeddings 2D GloVe: Todas essas palavras estão diretamente relacionadas ao contexto esportivo de \"gol\", principalmente ao ato de marcar ou tentar marcar um gol em um jogo de futebol. A palavra \"goal\" também tem outros significados, como \"objetivo\" ou \"meta\" em um contexto mais amplo (por exemplo, \"meu objetivo é aprender uma nova língua este ano\"). No entanto, neste caso, o modelo GloVe parece ter capturado predominantemente o significado esportivo da palavra, possivelmente devido à frequência com que essa palavra aparece nesse contexto no corpus de treinamento.Para encontrar uma palavra polissêmica que mostre ambos os significados nas palavras semelhantes, você pode tentar outras palavras ou explorar mais palavras na lista de palavras semelhantes (além das 10 principais).</font>"
      ]
    },
    {
      "cell_type": "markdown",
      "metadata": {
        "id": "H4Xhm5ahPND0"
      },
      "source": [
        "### Pergunta 2.3: Sinônimos e Antônimos [código + escrito]\n",
        "\n",
        "Ao considerar a similaridade de cossenos, muitas vezes é mais conveniente pensar na distância de cossenos, que é simplesmente 1 - similaridade de cossenos.\n",
        "\n",
        "Encontre três palavras $(w_1,w_2,w_3)$ onde $w_1$ e $w_2$ são sinônimos e $w_1$ e $w_3$ são antônimos, mas Distância do cosseno $(w_1,w_3) <$ Distância do cosseno $(w_1, w_2)$.\n",
        "\n",
        "Por exemplo, $w_1$=\"happy\" está mais próximo de $w_3$=\"triste\" do que de $w_2$=\"alegre\". Encontre um exemplo diferente que satisfaça o acima. Depois de encontrar seu exemplo, dê uma possível explicação de por que esse resultado contra-intuitivo pode ter acontecido.\n",
        "\n",
        "Você deve usar a função `wv_from_bin.distance(w1, w2)` aqui para calcular a distância do cosseno entre duas palavras. Consulte a __[documentação do GenSim](https://radimrehurek.com/gensim/models/keyedvectors.html#gensim.models.keyedvectors.FastTextKeyedVectors.distance)__ para obter mais assistência."
      ]
    },
    {
      "cell_type": "code",
      "execution_count": 30,
      "metadata": {
        "id": "v2B6j2nsPND0",
        "outputId": "aab49aa9-ce49-4a97-c137-a36b96f46069",
        "colab": {
          "base_uri": "https://localhost:8080/"
        }
      },
      "outputs": [
        {
          "output_type": "stream",
          "name": "stdout",
          "text": [
            "\n",
            "Dadas as palavras:\n",
            "- w1: bright (brilhante)\n",
            "- w2: luminous (luminoso) - sinônimo de bright\n",
            "- w3: dark (escuro) - antônimo de bright\n",
            "\n",
            "As distâncias de cosseno calculadas são:\n",
            "- Distância entre bright e luminous: 0.4822\n",
            "- Distância entre bright e dark: 0.3470\n",
            "\n"
          ]
        }
      ],
      "source": [
        "# ------------------\n",
        "# Define the words\n",
        "w1 = \"bright\"\n",
        "w2 = \"luminous\"  # Synonym of w1\n",
        "w3 = \"dark\"      # Antonym of w1\n",
        "\n",
        "# Calculate cosine distances\n",
        "distance_w1_w2 = wv_from_bin.distance(w1, w2)\n",
        "distance_w1_w3 = wv_from_bin.distance(w1, w3)\n",
        "\n",
        "output = f\"\"\"\n",
        "Dadas as palavras:\n",
        "- w1: {w1} (brilhante)\n",
        "- w2: {w2} (luminoso) - sinônimo de {w1}\n",
        "- w3: {w3} (escuro) - antônimo de {w1}\n",
        "\n",
        "As distâncias de cosseno calculadas são:\n",
        "- Distância entre {w1} e {w2}: {distance_w1_w2:.4f}\n",
        "- Distância entre {w1} e {w3}: {distance_w1_w3:.4f}\n",
        "\"\"\"\n",
        "\n",
        "print(output)\n",
        "# ------------------"
      ]
    },
    {
      "cell_type": "markdown",
      "metadata": {
        "id": "tWMutXZEPND1"
      },
      "source": [
        "#### <font color=\"red\">As distâncias de cosseno calculadas revelam um resultado interessante e contra-intuitivo. Observamos que a distância entre \"bright\" e seu antônimo \"dark\" é na verdade menor do que a distância entre \"bright\" e seu sinônimo \"luminous\".\n",
        "Especificamente:\n",
        "\n",
        "Distância entre bright e luminous: 0.4822\n",
        "Distância entre bright e dark: 0.3470\n",
        "Isto sugere que, no espaço vetorial das incorporações de palavras, a semelhança não se limita estritamente a sinônimos ou antônimos, mas também pode capturar outras relações ou contextos em que as palavras são frequentemente usadas. Em muitos contextos, \"bright\" e \"dark\" podem ser discutidos juntos (por exemplo, ao descrever contrastes), o que pode resultar em uma proximidade vetorial. Por outro lado, \"bright\" e \"luminous\" podem ser usados em contextos diferentes, levando a uma maior distância vetorial, mesmo sendo sinônimos.</font>"
      ]
    },
    {
      "cell_type": "markdown",
      "metadata": {
        "id": "Z9xGdPQPPND1"
      },
      "source": [
        "### Questão 2.4: Analogias com vetores de palavras [escritas] (1,5 pontos)\n",
        "Foi demonstrado que vetores de palavras *às vezes* exibem a capacidade de resolver analogias.\n",
        "\n",
        "Como exemplo, para a analogia “homem: avô :: mulher: x” (leia-se: o homem está para o avô assim como a mulher está para x), o que é x?\n",
        "\n",
        "Na célula abaixo, mostramos como usar vetores de palavras para encontrar x usando a função `most_similar` da __[documentação do GenSim](https://radimrehurek.com/gensim/models/keyedvectors.html#gensim.models. keyedvectors.KeyedVectors.most_similar)__. A função encontra palavras que são mais semelhantes às palavras na lista `positiva` e mais diferentes das palavras na lista `negativa` (enquanto omite as palavras de entrada, que geralmente são as mais semelhantes; consulte [este artigo](https ://www.aclweb.org/antology/N18-2039.pdf)). A resposta à analogia terá a maior similaridade de cosseno (maior valor numérico retornado)."
      ]
    },
    {
      "cell_type": "code",
      "execution_count": 31,
      "metadata": {
        "id": "fMlY7fvHPND1",
        "outputId": "52e4d400-8c17-4ee9-d1d7-7eb820d557c6",
        "colab": {
          "base_uri": "https://localhost:8080/"
        }
      },
      "outputs": [
        {
          "output_type": "stream",
          "name": "stdout",
          "text": [
            "[('grandmother', 0.7608445286750793),\n",
            " ('granddaughter', 0.7200808525085449),\n",
            " ('daughter', 0.7168302536010742),\n",
            " ('mother', 0.7151536345481873),\n",
            " ('niece', 0.7005682587623596),\n",
            " ('father', 0.6659887433052063),\n",
            " ('aunt', 0.6623408794403076),\n",
            " ('grandson', 0.6618767976760864),\n",
            " ('grandparents', 0.644661009311676),\n",
            " ('wife', 0.6445354223251343)]\n"
          ]
        }
      ],
      "source": [
        "# Execute esta célula para responder à analogia -- man : grandfather :: woman : x\n",
        "pprint.pprint(wv_from_bin.most_similar(positive=['woman', 'grandfather'], negative=['man']))"
      ]
    },
    {
      "cell_type": "markdown",
      "metadata": {
        "id": "YNxZPlubPND1"
      },
      "source": [
        "Deixe $m$, $g$, $w$ e $x$ denotarem os vetores de palavras para `homem`, `avô`, `mulher` e a resposta, respectivamente. Usando **apenas** os vetores $m$, $g$, $w$ e os operadores aritméticos vetoriais $+$ e $-$ em sua resposta, qual é a expressão na qual estamos maximizando a similaridade de cosseno com $x$ ?\n",
        "\n",
        "Dica: lembre-se de que os vetores de palavras são simplesmente vetores multidimensionais que representam uma palavra. Pode ser útil desenhar um exemplo 2D usando localizações arbitrárias de cada vetor. Onde estariam `homem` e `mulher` no plano de coordenadas em relação ao `avô` e à resposta?"
      ]
    },
    {
      "cell_type": "markdown",
      "metadata": {
        "id": "p_MZKmREPND1"
      },
      "source": [
        "#### <font color=\"red\">x=w+g−m Isso é interpretado da seguinte maneira:\n",
        "\n",
        "Começamos com o vetor para \"woman\" (w).\n",
        "Em seguida, adicionamos o vetor \"grandfather\" (g) para mover na direção da relação de avô.\n",
        "Finalmente, subtraímos o vetor \"man\" (m) para remover a influência masculina e equilibrar a adição de \"grandfather\".\n",
        "A ideia é que, após essas operações, nos aproximemos do vetor que representa a relação feminina de avô, que é \"grandmother\". A expressão efetivamente captura a relação \"homem está para o avô assim como a mulher está para x\". Portanto, maximizamos a similaridade de cosseno com x que resulta dessa combinação vetorial.</font>"
      ]
    },
    {
      "cell_type": "markdown",
      "metadata": {
        "id": "dn1TdDq3PND1"
      },
      "source": [
        "### Questão 2.5: Encontrando Analogias [código + escrito]\n",
        "Encontre um exemplo de analogia válida de acordo com esses vetores (ou seja, a palavra pretendida está classificada no topo). Em sua solução, indique a analogia completa na forma x:y :: a:b. Se você acredita que a analogia é complicada, explique por que a analogia é válida em uma ou duas frases.\n",
        "\n",
        "**Nota**: Talvez você precise tentar muitas analogias para encontrar uma que funcione!"
      ]
    },
    {
      "cell_type": "code",
      "execution_count": 40,
      "metadata": {
        "id": "TOCDLNu0PND1",
        "outputId": "fd3263a5-45f3-430f-87a9-9f1d1e4de6a8",
        "colab": {
          "base_uri": "https://localhost:8080/"
        }
      },
      "outputs": [
        {
          "output_type": "stream",
          "name": "stdout",
          "text": [
            "[('peso', 0.5441952347755432),\n",
            " ('currencies', 0.5140781402587891),\n",
            " ('currency', 0.5095153450965881),\n",
            " ('brazilian', 0.5033090114593506),\n",
            " ('devaluation', 0.4893932342529297),\n",
            " ('weaker', 0.4805140495300293),\n",
            " ('stocks', 0.4792601466178894),\n",
            " ('rise', 0.47749221324920654),\n",
            " ('euro', 0.47130730748176575),\n",
            " ('prices', 0.46906185150146484)]\n"
          ]
        }
      ],
      "source": [
        "# ------------------\n",
        "pprint.pprint(wv_from_bin.most_similar(positive=['dollar', 'brazil'], negative=['usa']))\n",
        "# ------------------"
      ]
    },
    {
      "cell_type": "markdown",
      "metadata": {
        "id": "vshAi4oePND1"
      },
      "source": [
        "#### <font color=\"red\">O resultado da analogia \"dólar: EUA :: x: Brasil\" nos dá a palavra \"peso\" como a resposta mais próxima. No entanto, essa resposta não é exata, pois a moeda oficial do Brasil é o \"Real\". A palavra \"peso\" é a moeda de países como Argentina, México e Colômbia. É interessante observar que a palavra \"brazilian\" (brasileiro) também aparece na lista, indicando uma relação forte com \"Brasil\". Além disso, outras palavras relacionadas ao contexto financeiro, como \"currencies\" (moedas), \"currency\" (moeda) e \"devaluation\" (desvalorização), também são destacadas, mostrando a relevância do contexto na formação dos embeddings. A analogia válida mais próxima seria \"dólar: EUA :: real: Brasil\", mas o modelo não capturou exatamente essa relação neste caso.</font>"
      ]
    },
    {
      "cell_type": "markdown",
      "metadata": {
        "id": "VWPM62hoPND2"
      },
      "source": [
        "### Pergunta 2.6: Análise guiada de viés em vetores de palavras [escrita]\n",
        "\n",
        "É importante estar ciente dos preconceitos (gênero, raça, orientação sexual, etc.) implícitos em nossas incorporações de palavras. O preconceito pode ser perigoso porque pode reforçar estereótipos através de aplicações que empregam estes modelos.\n",
        "\n",
        "Execute a célula abaixo para examinar (a) quais termos são mais semelhantes a \"menina\" e \"brinquedo\" e mais diferentes de \"menino\" e (b) quais termos são mais semelhantes a \"menino\" e \"brinquedo\" e mais diferente de \"garota\". Aponte a diferença entre a lista de palavras associadas a mulheres e a lista de palavras associadas a homens e explique como é que reflecte preconceitos de género."
      ]
    },
    {
      "cell_type": "code",
      "execution_count": 41,
      "metadata": {
        "id": "xPLWs8DFPND2",
        "outputId": "56084968-dc27-44bc-d85c-c7d583f7cd2c",
        "colab": {
          "base_uri": "https://localhost:8080/"
        }
      },
      "outputs": [
        {
          "output_type": "stream",
          "name": "stdout",
          "text": [
            "[('toys', 0.7094953060150146),\n",
            " ('doll', 0.5932914614677429),\n",
            " ('dolls', 0.570662260055542),\n",
            " ('barbie', 0.5407706499099731),\n",
            " ('mattel', 0.5328551530838013),\n",
            " ('accessories', 0.5206909775733948),\n",
            " ('hasbro', 0.49227219820022583),\n",
            " ('jewelry', 0.47385692596435547),\n",
            " ('lego', 0.4690813422203064),\n",
            " ('apparel', 0.46136239171028137)]\n",
            "\n",
            "[('toys', 0.71570885181427),\n",
            " ('hasbro', 0.5164632797241211),\n",
            " ('robot', 0.47317108511924744),\n",
            " ('pet', 0.4670490324497223),\n",
            " ('manufacturer', 0.4668163061141968),\n",
            " ('mattel', 0.4582391679286957),\n",
            " ('lego', 0.45811763405799866),\n",
            " ('miniature', 0.4441472291946411),\n",
            " ('makers', 0.44298243522644043),\n",
            " ('manufactured', 0.44275349378585815)]\n"
          ]
        }
      ],
      "source": [
        "# Execute esta célula\n",
        "# Aqui `positivo` indica a lista de palavras a serem semelhantes e `negativo` indica a lista de palavras a serem\n",
        "# mais diferente de.\n",
        "pprint.pprint(wv_from_bin.most_similar(positive=['girl', 'toy'], negative=['boy']))\n",
        "print()\n",
        "pprint.pprint(wv_from_bin.most_similar(positive=['boy', 'toy'], negative=['girl']))"
      ]
    },
    {
      "cell_type": "markdown",
      "metadata": {
        "id": "dgZJlKkbPND3"
      },
      "source": [
        "#### <font color=\"red\">Se essas listas refletem estereótipos tradicionais de gênero (por exemplo, se a primeira lista contém palavras como \"boneca\" e a segunda lista contém palavras como \"caminhão\"), isso indica que os embeddings aprenderam esses estereótipos a partir dos dados nos quais foram treinados. Esses preconceitos de gênero nos embeddings são reflexos dos preconceitos presentes nos textos utilizados para treinar o modelo. Eles demonstram a importância de estarmos cientes e críticos quanto aos preconceitos potencialmente presentes nos modelos de linguagem e a necessidade de abordagens que possam mitigar esses preconceitos.</font>"
      ]
    },
    {
      "cell_type": "markdown",
      "metadata": {
        "id": "dnTzCkDZPND3"
      },
      "source": [
        "### Questão 2.7: Análise independente de viés em vetores de palavras [código + escrito]\n",
        "\n",
        "Use a função `most_similar` para encontrar outro caso em que alguma tendência é exibida pelos vetores. Explique brevemente o exemplo de preconceito que você descobriu."
      ]
    },
    {
      "cell_type": "code",
      "execution_count": 43,
      "metadata": {
        "id": "6wRJqQ0FPND3",
        "outputId": "6a9683d9-bb34-41c2-dfe4-6cdb1958392c",
        "colab": {
          "base_uri": "https://localhost:8080/"
        }
      },
      "outputs": [
        {
          "output_type": "stream",
          "name": "stdout",
          "text": [
            "[('reputation', 0.5250176787376404),\n",
            " ('professions', 0.5178037881851196),\n",
            " ('skill', 0.49046966433525085),\n",
            " ('skills', 0.49005505442619324),\n",
            " ('ethic', 0.4897659420967102),\n",
            " ('business', 0.4875852167606354),\n",
            " ('respected', 0.485920250415802),\n",
            " ('practice', 0.482104629278183),\n",
            " ('regarded', 0.4778572618961334),\n",
            " ('life', 0.4760662019252777)]\n",
            "\n",
            "[('professions', 0.5957457423210144),\n",
            " ('practitioner', 0.49884122610092163),\n",
            " ('teaching', 0.48292139172554016),\n",
            " ('nursing', 0.48211804032325745),\n",
            " ('vocation', 0.4788965880870819),\n",
            " ('teacher', 0.47160351276397705),\n",
            " ('practicing', 0.46937814354896545),\n",
            " ('educator', 0.46524327993392944),\n",
            " ('physicians', 0.4628995358943939),\n",
            " ('professionals', 0.4601394236087799)]\n"
          ]
        }
      ],
      "source": [
        "# ------------------\n",
        "pprint.pprint(wv_from_bin.most_similar(positive=['man', 'profession'], negative=['woman']))\n",
        "print()\n",
        "pprint.pprint(wv_from_bin.most_similar(positive=['woman', 'profession'], negative=['man']))\n",
        "# ------------------"
      ]
    },
    {
      "cell_type": "markdown",
      "metadata": {
        "id": "mAtINVQwPND3"
      },
      "source": [
        "#### <font color=\"red\">Os vetores de palavras refletem estereótipos culturais, associando homens a termos genéricos como \"negócios\" e \"reputação\", enquanto associam mulheres a profissões específicas como \"ensino\" e \"enfermagem\". Essas associações mostram que os modelos de linguagem podem perpetuar estereótipos de gênero presentes nos dados em que são treinados.</font>"
      ]
    },
    {
      "cell_type": "markdown",
      "metadata": {
        "id": "ZdEKHrmGPND3"
      },
      "source": [
        "### Pergunta 2.8: Pensando sobre preconceito [escrito]\n",
        "\n",
        "Dê uma explicação de como o viés entra nos vetores de palavras. Qual experimento você poderia fazer para testar ou medir essa fonte de preconceito?"
      ]
    },
    {
      "cell_type": "markdown",
      "metadata": {
        "id": "a61hBmAKPND3"
      },
      "source": [
        "#### <font color=\"red\">Para testar ou medir essa fonte de preconceito, um experimento poderia envolver a avaliação de associações entre pares de palavras em diferentes corpus. Por exemplo, poderíamos medir a proximidade entre profissões e gêneros em um corpus de notícias dos anos 1950 e compará-la com a proximidade em um corpus moderno. Se a sociedade evoluiu e os preconceitos diminuíram, esperaríamos ver uma mudança nas associações ao longo do tempo. Outra abordagem poderia ser treinar vetores de palavras em corpora \"limpos\", onde tentamos equilibrar representações e remover linguagem preconceituosa, e então comparar os resultados com vetores treinados em corpora não filtrados.</font>"
      ]
    }
  ],
  "metadata": {
    "anaconda-cloud": {},
    "kernelspec": {
      "display_name": "Python 3",
      "name": "python3"
    },
    "language_info": {
      "codemirror_mode": {
        "name": "ipython",
        "version": 3
      },
      "file_extension": ".py",
      "mimetype": "text/x-python",
      "name": "python",
      "nbconvert_exporter": "python",
      "pygments_lexer": "ipython3",
      "version": "3.8.5"
    },
    "colab": {
      "provenance": [],
      "machine_shape": "hm",
      "gpuType": "V100"
    },
    "accelerator": "GPU"
  },
  "nbformat": 4,
  "nbformat_minor": 0
}