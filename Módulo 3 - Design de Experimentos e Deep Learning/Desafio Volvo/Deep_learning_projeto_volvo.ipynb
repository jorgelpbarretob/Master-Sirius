{
  "cells": [
    {
      "cell_type": "markdown",
      "metadata": {
        "id": "cumQxmmpziGl"
      },
      "source": [
        "# **Projeto Volvo**\n",
        "\n",
        "##Estimativa de valores de horímetro das máquinas da frota circulante\n",
        "\n",
        "[Drive Volvo](https://drive.google.com/drive/folders/1HS80lS_XzGH7Tz9juk08d2IR65zZ4Cyv)\n",
        "\n",
        "[Nosso Drive](https://drive.google.com/drive/folders/1QSw-csAJ1tW1FgAQQOY3tkXMBFcb2hmR?usp=sharing)\n"
      ]
    },
    {
      "cell_type": "markdown",
      "metadata": {
        "id": "wrleX0cL1kAP"
      },
      "source": [
        "#0 - Informações sobre o projeto\n",
        "\n",
        "###Projeto Volvo Construction Equipments na América Latina\n",
        "\n",
        "####**Problema**\n",
        "Dificuldade de obter dados da frota circulante, o que atrapalha a gestão e impacta o cliente\n",
        "\n",
        "####**Perguntas**\n",
        "\n",
        "1.   Como poderíamos inferir a partir de uma amostra da população de máquinas o valor de horímetro de um equipamento que não está comunicando através do dispositivo de telemetria?\n",
        "2.   Seria possível estimar padrões de operação diária de um equipamento que não nos envia dados?\n",
        "\n",
        "\n",
        "####**Solução**\n",
        "\n",
        "Com base no histórico de dados, verificar se é possível prever padrões de operação diária de um equipamento (horímetro) que envia/não envia dados.\n",
        "\n",
        "\n",
        "####**Objetivo**\n",
        "\n",
        "Melhorar a gestão da frota circulante para que se alcance:\n",
        "\n",
        "* o aumento da eficiência operacional da rede de distribuição\n",
        "* a antecipação de necessidades dos clientes\n",
        "* o aumento da produtividade das máquinas (uptime)\n",
        "* a identificação de novas oportunidades em vendas de peças e serviços que não são exploradas\n",
        "* o aumento de satisfação dos clientes Volvo CE"
      ]
    },
    {
      "cell_type": "markdown",
      "metadata": {
        "id": "kWR-xJrM6JXR"
      },
      "source": [
        "#1 - Hipóteses\n",
        "*a serem testadas após o desenvolvimento do modelo preditivo*\n",
        "\n",
        "* H0: É possível prever o horímetro da máquina com base no histórico de registros com precisão significativamente maior que a fornecida pelo cálculo atual (baseado em médias)\n",
        "* H1: É possivel utilizar a mesma técnica para os 3 cenários de medição do problema?\n",
        "1.   máquinas que enviaram dados nos últimos 4 dias\n",
        "2.   máquinas que enviaram dados mas não recententemente\n",
        "3.   máquinas que nunca enviaram dados\n",
        "* H2: A técnica proposta garante resultados independentemente da classe da máquina: AHL; WL; EXC?\n",
        "* H3: A técnica proposta garante resultados independentemente do segmento de aplicação da máquina?\n",
        "* H4: A técnica proposta garante resultados independentemente do país onde a máquina está localizada?\n",
        "* H5: A técnica proposta garante resultados independentemente do Dealer que realizou a venda?\n",
        "* H6: A técnica proposta garante resultados independentemente da idade da máquina?"
      ]
    },
    {
      "cell_type": "markdown",
      "metadata": {
        "id": "8F4HnYmD1FLN"
      },
      "source": [
        "#2 - Dicionário\n",
        "\n",
        "###**Variáveis**\n",
        "\n",
        "**Dataset de equipamentos**\n",
        "\n",
        "* Região: regiões de vendas. São 3 ('Hispânico Sul', 'Brasil', 'Hispânico Norte')\n",
        "\n",
        "* País: onde a máquina foi comprada. São 3 ('Argentina', 'Brasil', 'México')\n",
        "\n",
        "* Dealer: revendedor de peças. São 7 ('EPSA', 'Dinâmica', 'Gotemburgo', 'Linck', 'Tecnoeste', 'Tracbel', 'Ascendum')\n",
        "\n",
        "* Segmento: atuação da máquina. São 5 ('Mining', 'Construction', 'Forestry', 'Agriculture', 'Industry')\n",
        "\n",
        "* Modelo: linha da máquina WLO (Wheel Loader ou máquinas com pás articuladas), EXC (escavadeiras) e ART (caminhões articulados) ('ART', 'EXC', 'WLO')\n",
        "\n",
        "* Chassis ID\n",
        "\n",
        "* PIN17: identificação mais detalhada da máquina (não relevante para a análise)\n",
        "\n",
        "* Delivery Date: data em que a máquina começou a trabalhar\n",
        "\n",
        "* Obs.: observações internas da Volvo sobre a coleta de dados (não relevante para a análise)\n",
        "\n",
        "* Estado: estado onde a máquina está operando atualmente ('San Luis', 'San Juan', 'Entre Ríos', 0, 'Jujuy','Provincia de Buenos Aires', 'Misiónes', 'Catamarca Province','Minas Gerais', 'Pará', 'Mato Grosso', 'Rondônia', 'Pernambuco','Bahia', 'Sergipe', 'Rio Grande do Norte', 'Paraná','Rio Grande do Sul', 'Santa Catarina', 'São Paulo','Mato Grosso do Sul', 'Rio de Janeiro', 'Veracruz','Estado de México', 'Nuevo León', 'Querétaro', 'Hidalgo','Coahuila de Zaragoza', 'Tabasco')\n",
        "\n",
        "* Região: país onde a máquina está operando atualmente (pode diferir da de venda)\n",
        "\n",
        "**Dataset de séries temporais**\n",
        "\n",
        "* Chassis ID\n",
        "\n",
        "* Machine History Date Day: dia no histórico de datas da máquina (dia de registro das horas)\n",
        "\n",
        "* Compensated Working Hours By Day: quantidade de horas trabalhadas no dia\n",
        "\n",
        "###**Outros**\n",
        "\n",
        "Volvo CE: Volvo Construction Equipment\n",
        "\n",
        "Horímetro: Quantidade de horas de operação que um equipamento tem\n",
        "\n",
        "POC: proof of concept, a demonstration of a product in which work is focused on determining whether an idea can be turned into a reality"
      ]
    },
    {
      "cell_type": "markdown",
      "metadata": {
        "id": "wYfVvVlu7IGK"
      },
      "source": [
        "#3 - Importando bibliotecas"
      ]
    },
    {
      "cell_type": "code",
      "execution_count": 2,
      "metadata": {},
      "outputs": [],
      "source": [
        "# Remover warnings\n",
        "import warnings\n",
        "warnings.filterwarnings('ignore')"
      ]
    },
    {
      "cell_type": "code",
      "execution_count": 1,
      "metadata": {
        "colab": {
          "base_uri": "https://localhost:8080/"
        },
        "id": "1JdH5D8gCAwp",
        "outputId": "9a729b84-7e38-4c3d-905b-d963240ed698"
      },
      "outputs": [],
      "source": [
        "import pandas_flavor as pf\n",
        "import janitor"
      ]
    },
    {
      "cell_type": "code",
      "execution_count": 3,
      "metadata": {
        "colab": {
          "base_uri": "https://localhost:8080/"
        },
        "id": "Ql9AOnkI6nEj",
        "outputId": "483fc569-bcbe-49ef-a912-6edd5ad26986"
      },
      "outputs": [],
      "source": [
        "import pandas as pd\n",
        "import numpy as np\n",
        "import seaborn as sns\n",
        "#from google.colab import drive\n",
        "import matplotlib.pyplot as plt\n",
        "from ipywidgets import interact\n",
        "import statsmodels.api as sm\n",
        "\n",
        "# bibliotecas para os modelos\n",
        "from sklearn.model_selection import train_test_split\n",
        "from sklearn.linear_model import LinearRegression\n",
        "from sklearn.ensemble import RandomForestRegressor\n",
        "from sklearn.linear_model import Lasso\n",
        "from sklearn.linear_model import Ridge\n",
        "from xgboost import XGBRegressor\n",
        "from sklearn.tree import DecisionTreeRegressor\n",
        "from sklearn.neighbors import KNeighborsRegressor\n",
        "\n",
        "# bibliotecas de métricas\n",
        "from sklearn.metrics import mean_absolute_error, mean_squared_error, r2_score"
      ]
    },
    {
      "cell_type": "markdown",
      "metadata": {
        "id": "5gBcFn8u7Xrm"
      },
      "source": [
        "#4 - Importando Dados"
      ]
    },
    {
      "cell_type": "code",
      "execution_count": 10,
      "metadata": {
        "colab": {
          "base_uri": "https://localhost:8080/"
        },
        "id": "jRL8lEvoIm1T",
        "outputId": "64285bf1-a007-4286-edeb-7f33411ae6b5"
      },
      "outputs": [
        {
          "name": "stderr",
          "output_type": "stream",
          "text": [
            "/usr/local/lib/python3.10/dist-packages/ipykernel/ipkernel.py:283: DeprecationWarning: `should_run_async` will not call `transform_cell` automatically in the future. Please pass the result to `transformed_cell` argument and any exception that happen during thetransform in `preprocessing_exc_tuple` in IPython 7.17 and above.\n",
            "  and should_run_async(code)\n"
          ]
        }
      ],
      "source": [
        "# importando o conjunto de dados\n",
        "pd.set_option('display.max_columns', None)\n",
        "#drive.mount('/content/drive')\n",
        "\n",
        "equip = pd.read_excel('23w06_Equipamentos.xlsx')\n",
        "temporal = pd.read_excel('23w06_SeriesTemporais_Horimetros.xlsx')"
      ]
    },
    {
      "cell_type": "markdown",
      "metadata": {
        "id": "sicY__eF7rog"
      },
      "source": [
        "#5 - Analisando dados"
      ]
    },
    {
      "cell_type": "code",
      "execution_count": 11,
      "metadata": {
        "colab": {
          "base_uri": "https://localhost:8080/",
          "height": 169
        },
        "id": "Fdyb6ly-QCIP",
        "outputId": "aedca3ae-d4fe-4066-d6ab-f33452aa3f03"
      },
      "outputs": [
        {
          "name": "stderr",
          "output_type": "stream",
          "text": [
            "/usr/local/lib/python3.10/dist-packages/ipykernel/ipkernel.py:283: DeprecationWarning: `should_run_async` will not call `transform_cell` automatically in the future. Please pass the result to `transformed_cell` argument and any exception that happen during thetransform in `preprocessing_exc_tuple` in IPython 7.17 and above.\n",
            "  and should_run_async(code)\n"
          ]
        },
        {
          "data": {
            "text/html": [
              "\n",
              "  <div id=\"df-884e9312-3f62-4c2e-8076-1d7ac81f3b53\" class=\"colab-df-container\">\n",
              "    <div>\n",
              "<style scoped>\n",
              "    .dataframe tbody tr th:only-of-type {\n",
              "        vertical-align: middle;\n",
              "    }\n",
              "\n",
              "    .dataframe tbody tr th {\n",
              "        vertical-align: top;\n",
              "    }\n",
              "\n",
              "    .dataframe thead th {\n",
              "        text-align: right;\n",
              "    }\n",
              "</style>\n",
              "<table border=\"1\" class=\"dataframe\">\n",
              "  <thead>\n",
              "    <tr style=\"text-align: right;\">\n",
              "      <th></th>\n",
              "      <th>Região</th>\n",
              "      <th>País</th>\n",
              "      <th>Dealer</th>\n",
              "      <th>Segmento</th>\n",
              "      <th>Modelo</th>\n",
              "      <th>Chassis ID</th>\n",
              "      <th>PIN17</th>\n",
              "      <th>Delivery Date</th>\n",
              "      <th>Obs.:</th>\n",
              "      <th>Estado</th>\n",
              "      <th>Região.1</th>\n",
              "    </tr>\n",
              "  </thead>\n",
              "  <tbody>\n",
              "    <tr>\n",
              "      <th>0</th>\n",
              "      <td>Hispânico Sul</td>\n",
              "      <td>Argentina</td>\n",
              "      <td>EPSA</td>\n",
              "      <td>Mining</td>\n",
              "      <td>ART</td>\n",
              "      <td>A040F320538</td>\n",
              "      <td>VCEA040FCG0320538</td>\n",
              "      <td>2020-11-26</td>\n",
              "      <td>NaN</td>\n",
              "      <td>San Luis</td>\n",
              "      <td>Argentina</td>\n",
              "    </tr>\n",
              "    <tr>\n",
              "      <th>1</th>\n",
              "      <td>Hispânico Sul</td>\n",
              "      <td>Argentina</td>\n",
              "      <td>EPSA</td>\n",
              "      <td>Construction</td>\n",
              "      <td>ART</td>\n",
              "      <td>A30G732052</td>\n",
              "      <td>VCE0A30GCL0732052</td>\n",
              "      <td>2020-06-22</td>\n",
              "      <td>NaN</td>\n",
              "      <td>San Juan</td>\n",
              "      <td>Argentina</td>\n",
              "    </tr>\n",
              "  </tbody>\n",
              "</table>\n",
              "</div>\n",
              "    <div class=\"colab-df-buttons\">\n",
              "\n",
              "  <div class=\"colab-df-container\">\n",
              "    <button class=\"colab-df-convert\" onclick=\"convertToInteractive('df-884e9312-3f62-4c2e-8076-1d7ac81f3b53')\"\n",
              "            title=\"Convert this dataframe to an interactive table.\"\n",
              "            style=\"display:none;\">\n",
              "\n",
              "  <svg xmlns=\"http://www.w3.org/2000/svg\" height=\"24px\" viewBox=\"0 -960 960 960\">\n",
              "    <path d=\"M120-120v-720h720v720H120Zm60-500h600v-160H180v160Zm220 220h160v-160H400v160Zm0 220h160v-160H400v160ZM180-400h160v-160H180v160Zm440 0h160v-160H620v160ZM180-180h160v-160H180v160Zm440 0h160v-160H620v160Z\"/>\n",
              "  </svg>\n",
              "    </button>\n",
              "\n",
              "  <style>\n",
              "    .colab-df-container {\n",
              "      display:flex;\n",
              "      gap: 12px;\n",
              "    }\n",
              "\n",
              "    .colab-df-convert {\n",
              "      background-color: #E8F0FE;\n",
              "      border: none;\n",
              "      border-radius: 50%;\n",
              "      cursor: pointer;\n",
              "      display: none;\n",
              "      fill: #1967D2;\n",
              "      height: 32px;\n",
              "      padding: 0 0 0 0;\n",
              "      width: 32px;\n",
              "    }\n",
              "\n",
              "    .colab-df-convert:hover {\n",
              "      background-color: #E2EBFA;\n",
              "      box-shadow: 0px 1px 2px rgba(60, 64, 67, 0.3), 0px 1px 3px 1px rgba(60, 64, 67, 0.15);\n",
              "      fill: #174EA6;\n",
              "    }\n",
              "\n",
              "    .colab-df-buttons div {\n",
              "      margin-bottom: 4px;\n",
              "    }\n",
              "\n",
              "    [theme=dark] .colab-df-convert {\n",
              "      background-color: #3B4455;\n",
              "      fill: #D2E3FC;\n",
              "    }\n",
              "\n",
              "    [theme=dark] .colab-df-convert:hover {\n",
              "      background-color: #434B5C;\n",
              "      box-shadow: 0px 1px 3px 1px rgba(0, 0, 0, 0.15);\n",
              "      filter: drop-shadow(0px 1px 2px rgba(0, 0, 0, 0.3));\n",
              "      fill: #FFFFFF;\n",
              "    }\n",
              "  </style>\n",
              "\n",
              "    <script>\n",
              "      const buttonEl =\n",
              "        document.querySelector('#df-884e9312-3f62-4c2e-8076-1d7ac81f3b53 button.colab-df-convert');\n",
              "      buttonEl.style.display =\n",
              "        google.colab.kernel.accessAllowed ? 'block' : 'none';\n",
              "\n",
              "      async function convertToInteractive(key) {\n",
              "        const element = document.querySelector('#df-884e9312-3f62-4c2e-8076-1d7ac81f3b53');\n",
              "        const dataTable =\n",
              "          await google.colab.kernel.invokeFunction('convertToInteractive',\n",
              "                                                    [key], {});\n",
              "        if (!dataTable) return;\n",
              "\n",
              "        const docLinkHtml = 'Like what you see? Visit the ' +\n",
              "          '<a target=\"_blank\" href=https://colab.research.google.com/notebooks/data_table.ipynb>data table notebook</a>'\n",
              "          + ' to learn more about interactive tables.';\n",
              "        element.innerHTML = '';\n",
              "        dataTable['output_type'] = 'display_data';\n",
              "        await google.colab.output.renderOutput(dataTable, element);\n",
              "        const docLink = document.createElement('div');\n",
              "        docLink.innerHTML = docLinkHtml;\n",
              "        element.appendChild(docLink);\n",
              "      }\n",
              "    </script>\n",
              "  </div>\n",
              "\n",
              "\n",
              "<div id=\"df-881a313d-d747-421f-9907-1ebec5df2936\">\n",
              "  <button class=\"colab-df-quickchart\" onclick=\"quickchart('df-881a313d-d747-421f-9907-1ebec5df2936')\"\n",
              "            title=\"Suggest charts.\"\n",
              "            style=\"display:none;\">\n",
              "\n",
              "<svg xmlns=\"http://www.w3.org/2000/svg\" height=\"24px\"viewBox=\"0 0 24 24\"\n",
              "     width=\"24px\">\n",
              "    <g>\n",
              "        <path d=\"M19 3H5c-1.1 0-2 .9-2 2v14c0 1.1.9 2 2 2h14c1.1 0 2-.9 2-2V5c0-1.1-.9-2-2-2zM9 17H7v-7h2v7zm4 0h-2V7h2v10zm4 0h-2v-4h2v4z\"/>\n",
              "    </g>\n",
              "</svg>\n",
              "  </button>\n",
              "\n",
              "<style>\n",
              "  .colab-df-quickchart {\n",
              "      --bg-color: #E8F0FE;\n",
              "      --fill-color: #1967D2;\n",
              "      --hover-bg-color: #E2EBFA;\n",
              "      --hover-fill-color: #174EA6;\n",
              "      --disabled-fill-color: #AAA;\n",
              "      --disabled-bg-color: #DDD;\n",
              "  }\n",
              "\n",
              "  [theme=dark] .colab-df-quickchart {\n",
              "      --bg-color: #3B4455;\n",
              "      --fill-color: #D2E3FC;\n",
              "      --hover-bg-color: #434B5C;\n",
              "      --hover-fill-color: #FFFFFF;\n",
              "      --disabled-bg-color: #3B4455;\n",
              "      --disabled-fill-color: #666;\n",
              "  }\n",
              "\n",
              "  .colab-df-quickchart {\n",
              "    background-color: var(--bg-color);\n",
              "    border: none;\n",
              "    border-radius: 50%;\n",
              "    cursor: pointer;\n",
              "    display: none;\n",
              "    fill: var(--fill-color);\n",
              "    height: 32px;\n",
              "    padding: 0;\n",
              "    width: 32px;\n",
              "  }\n",
              "\n",
              "  .colab-df-quickchart:hover {\n",
              "    background-color: var(--hover-bg-color);\n",
              "    box-shadow: 0 1px 2px rgba(60, 64, 67, 0.3), 0 1px 3px 1px rgba(60, 64, 67, 0.15);\n",
              "    fill: var(--button-hover-fill-color);\n",
              "  }\n",
              "\n",
              "  .colab-df-quickchart-complete:disabled,\n",
              "  .colab-df-quickchart-complete:disabled:hover {\n",
              "    background-color: var(--disabled-bg-color);\n",
              "    fill: var(--disabled-fill-color);\n",
              "    box-shadow: none;\n",
              "  }\n",
              "\n",
              "  .colab-df-spinner {\n",
              "    border: 2px solid var(--fill-color);\n",
              "    border-color: transparent;\n",
              "    border-bottom-color: var(--fill-color);\n",
              "    animation:\n",
              "      spin 1s steps(1) infinite;\n",
              "  }\n",
              "\n",
              "  @keyframes spin {\n",
              "    0% {\n",
              "      border-color: transparent;\n",
              "      border-bottom-color: var(--fill-color);\n",
              "      border-left-color: var(--fill-color);\n",
              "    }\n",
              "    20% {\n",
              "      border-color: transparent;\n",
              "      border-left-color: var(--fill-color);\n",
              "      border-top-color: var(--fill-color);\n",
              "    }\n",
              "    30% {\n",
              "      border-color: transparent;\n",
              "      border-left-color: var(--fill-color);\n",
              "      border-top-color: var(--fill-color);\n",
              "      border-right-color: var(--fill-color);\n",
              "    }\n",
              "    40% {\n",
              "      border-color: transparent;\n",
              "      border-right-color: var(--fill-color);\n",
              "      border-top-color: var(--fill-color);\n",
              "    }\n",
              "    60% {\n",
              "      border-color: transparent;\n",
              "      border-right-color: var(--fill-color);\n",
              "    }\n",
              "    80% {\n",
              "      border-color: transparent;\n",
              "      border-right-color: var(--fill-color);\n",
              "      border-bottom-color: var(--fill-color);\n",
              "    }\n",
              "    90% {\n",
              "      border-color: transparent;\n",
              "      border-bottom-color: var(--fill-color);\n",
              "    }\n",
              "  }\n",
              "</style>\n",
              "\n",
              "  <script>\n",
              "    async function quickchart(key) {\n",
              "      const quickchartButtonEl =\n",
              "        document.querySelector('#' + key + ' button');\n",
              "      quickchartButtonEl.disabled = true;  // To prevent multiple clicks.\n",
              "      quickchartButtonEl.classList.add('colab-df-spinner');\n",
              "      try {\n",
              "        const charts = await google.colab.kernel.invokeFunction(\n",
              "            'suggestCharts', [key], {});\n",
              "      } catch (error) {\n",
              "        console.error('Error during call to suggestCharts:', error);\n",
              "      }\n",
              "      quickchartButtonEl.classList.remove('colab-df-spinner');\n",
              "      quickchartButtonEl.classList.add('colab-df-quickchart-complete');\n",
              "    }\n",
              "    (() => {\n",
              "      let quickchartButtonEl =\n",
              "        document.querySelector('#df-881a313d-d747-421f-9907-1ebec5df2936 button');\n",
              "      quickchartButtonEl.style.display =\n",
              "        google.colab.kernel.accessAllowed ? 'block' : 'none';\n",
              "    })();\n",
              "  </script>\n",
              "</div>\n",
              "    </div>\n",
              "  </div>\n"
            ],
            "text/plain": [
              "          Região       País Dealer      Segmento Modelo   Chassis ID  \\\n",
              "0  Hispânico Sul  Argentina   EPSA        Mining    ART  A040F320538   \n",
              "1  Hispânico Sul  Argentina   EPSA  Construction    ART   A30G732052   \n",
              "\n",
              "               PIN17 Delivery Date Obs.:    Estado   Região.1  \n",
              "0  VCEA040FCG0320538    2020-11-26   NaN  San Luis  Argentina  \n",
              "1  VCE0A30GCL0732052    2020-06-22   NaN  San Juan  Argentina  "
            ]
          },
          "execution_count": 11,
          "metadata": {},
          "output_type": "execute_result"
        }
      ],
      "source": [
        "# observando dataset equip\n",
        "equip.head(2)"
      ]
    },
    {
      "cell_type": "code",
      "execution_count": 12,
      "metadata": {
        "colab": {
          "base_uri": "https://localhost:8080/"
        },
        "id": "BhfFmswOROYJ",
        "outputId": "8d0d060e-34e0-48d2-961f-a121ed8e0e8d"
      },
      "outputs": [
        {
          "name": "stdout",
          "output_type": "stream",
          "text": [
            "<class 'pandas.core.frame.DataFrame'>\n",
            "RangeIndex: 63 entries, 0 to 62\n",
            "Data columns (total 11 columns):\n",
            " #   Column         Non-Null Count  Dtype         \n",
            "---  ------         --------------  -----         \n",
            " 0   Região         63 non-null     object        \n",
            " 1   País           63 non-null     object        \n",
            " 2   Dealer         63 non-null     object        \n",
            " 3   Segmento       63 non-null     object        \n",
            " 4   Modelo         63 non-null     object        \n",
            " 5   Chassis ID     63 non-null     object        \n",
            " 6   PIN17          57 non-null     object        \n",
            " 7   Delivery Date  62 non-null     datetime64[ns]\n",
            " 8   Obs.:          15 non-null     object        \n",
            " 9   Estado         63 non-null     object        \n",
            " 10  Região.1       63 non-null     object        \n",
            "dtypes: datetime64[ns](1), object(10)\n",
            "memory usage: 5.5+ KB\n"
          ]
        },
        {
          "name": "stderr",
          "output_type": "stream",
          "text": [
            "/usr/local/lib/python3.10/dist-packages/ipykernel/ipkernel.py:283: DeprecationWarning: `should_run_async` will not call `transform_cell` automatically in the future. Please pass the result to `transformed_cell` argument and any exception that happen during thetransform in `preprocessing_exc_tuple` in IPython 7.17 and above.\n",
            "  and should_run_async(code)\n"
          ]
        }
      ],
      "source": [
        "# observando informações básicas de equip\n",
        "equip.info()"
      ]
    },
    {
      "cell_type": "code",
      "execution_count": 13,
      "metadata": {
        "colab": {
          "base_uri": "https://localhost:8080/"
        },
        "id": "JbFiu6vORUjH",
        "outputId": "cff0f0a0-64c8-4832-88b3-a0f7fae824c4"
      },
      "outputs": [
        {
          "name": "stderr",
          "output_type": "stream",
          "text": [
            "/usr/local/lib/python3.10/dist-packages/ipykernel/ipkernel.py:283: DeprecationWarning: `should_run_async` will not call `transform_cell` automatically in the future. Please pass the result to `transformed_cell` argument and any exception that happen during thetransform in `preprocessing_exc_tuple` in IPython 7.17 and above.\n",
            "  and should_run_async(code)\n"
          ]
        },
        {
          "data": {
            "text/plain": [
              "Região            0\n",
              "País              0\n",
              "Dealer            0\n",
              "Segmento          0\n",
              "Modelo            0\n",
              "Chassis ID        0\n",
              "PIN17             6\n",
              "Delivery Date     1\n",
              "Obs.:            48\n",
              "Estado            0\n",
              "Região.1          0\n",
              "dtype: int64"
            ]
          },
          "execution_count": 13,
          "metadata": {},
          "output_type": "execute_result"
        }
      ],
      "source": [
        "# verificando quantos valores nulos equip tem\n",
        "equip.isna().sum()"
      ]
    },
    {
      "cell_type": "code",
      "execution_count": 14,
      "metadata": {
        "colab": {
          "base_uri": "https://localhost:8080/"
        },
        "id": "zJlYXrf5Sh6-",
        "outputId": "55b01fef-1073-4f6b-ab4e-eb0fe57f27b7"
      },
      "outputs": [
        {
          "name": "stdout",
          "output_type": "stream",
          "text": [
            "Int64Index([22], dtype='int64')\n"
          ]
        },
        {
          "name": "stderr",
          "output_type": "stream",
          "text": [
            "/usr/local/lib/python3.10/dist-packages/ipykernel/ipkernel.py:283: DeprecationWarning: `should_run_async` will not call `transform_cell` automatically in the future. Please pass the result to `transformed_cell` argument and any exception that happen during thetransform in `preprocessing_exc_tuple` in IPython 7.17 and above.\n",
            "  and should_run_async(code)\n"
          ]
        }
      ],
      "source": [
        "# identificando o índice do valor nulo de `Delivery Date`\n",
        "indices_nulos = equip[equip['Delivery Date'].isnull()].index\n",
        "print(indices_nulos)"
      ]
    },
    {
      "cell_type": "code",
      "execution_count": 15,
      "metadata": {
        "colab": {
          "base_uri": "https://localhost:8080/"
        },
        "id": "nKrwjkf9TizV",
        "outputId": "e470bd7e-9af9-4d19-fc60-ba404beaf875"
      },
      "outputs": [
        {
          "name": "stdout",
          "output_type": "stream",
          "text": [
            "EC220240109\n"
          ]
        },
        {
          "name": "stderr",
          "output_type": "stream",
          "text": [
            "/usr/local/lib/python3.10/dist-packages/ipykernel/ipkernel.py:283: DeprecationWarning: `should_run_async` will not call `transform_cell` automatically in the future. Please pass the result to `transformed_cell` argument and any exception that happen during thetransform in `preprocessing_exc_tuple` in IPython 7.17 and above.\n",
            "  and should_run_async(code)\n"
          ]
        }
      ],
      "source": [
        "# verificando qual ID está sem delivery date\n",
        "print(equip.loc[22, 'Chassis ID'])"
      ]
    },
    {
      "cell_type": "code",
      "execution_count": 16,
      "metadata": {
        "colab": {
          "base_uri": "https://localhost:8080/"
        },
        "id": "eQcs9CDLRH5X",
        "outputId": "af6c22fd-9fc0-48e3-9a35-be5445a9d033"
      },
      "outputs": [
        {
          "name": "stderr",
          "output_type": "stream",
          "text": [
            "/usr/local/lib/python3.10/dist-packages/ipykernel/ipkernel.py:283: DeprecationWarning: `should_run_async` will not call `transform_cell` automatically in the future. Please pass the result to `transformed_cell` argument and any exception that happen during thetransform in `preprocessing_exc_tuple` in IPython 7.17 and above.\n",
            "  and should_run_async(code)\n"
          ]
        }
      ],
      "source": [
        "# removendo variáveis não relevantes e renomeando variáveis\n",
        "equip = equip.drop(columns = ['Obs.:', 'PIN17'])\n",
        "equip = equip.rename(columns={'Região.1': 'pais_operacao', 'País': 'pais_compra', 'Chassis ID': 'ID'})"
      ]
    },
    {
      "cell_type": "code",
      "execution_count": 17,
      "metadata": {
        "colab": {
          "base_uri": "https://localhost:8080/",
          "height": 169
        },
        "id": "ScrirkCkVy8R",
        "outputId": "d0f2cf86-2204-434a-c5c4-86aece6c09db"
      },
      "outputs": [
        {
          "name": "stderr",
          "output_type": "stream",
          "text": [
            "/usr/local/lib/python3.10/dist-packages/ipykernel/ipkernel.py:283: DeprecationWarning: `should_run_async` will not call `transform_cell` automatically in the future. Please pass the result to `transformed_cell` argument and any exception that happen during thetransform in `preprocessing_exc_tuple` in IPython 7.17 and above.\n",
            "  and should_run_async(code)\n"
          ]
        },
        {
          "data": {
            "text/html": [
              "\n",
              "  <div id=\"df-a425934a-1298-4d83-a62c-bafa9c8c4fae\" class=\"colab-df-container\">\n",
              "    <div>\n",
              "<style scoped>\n",
              "    .dataframe tbody tr th:only-of-type {\n",
              "        vertical-align: middle;\n",
              "    }\n",
              "\n",
              "    .dataframe tbody tr th {\n",
              "        vertical-align: top;\n",
              "    }\n",
              "\n",
              "    .dataframe thead th {\n",
              "        text-align: right;\n",
              "    }\n",
              "</style>\n",
              "<table border=\"1\" class=\"dataframe\">\n",
              "  <thead>\n",
              "    <tr style=\"text-align: right;\">\n",
              "      <th></th>\n",
              "      <th>Chassis Id*</th>\n",
              "      <th>Machine History Date Day</th>\n",
              "      <th>Compensated Working Hours By Day</th>\n",
              "    </tr>\n",
              "  </thead>\n",
              "  <tbody>\n",
              "    <tr>\n",
              "      <th>0</th>\n",
              "      <td>A030F720057</td>\n",
              "      <td>2016-12-09</td>\n",
              "      <td>0.00</td>\n",
              "    </tr>\n",
              "    <tr>\n",
              "      <th>1</th>\n",
              "      <td>A030F720057</td>\n",
              "      <td>2016-12-10</td>\n",
              "      <td>5.75</td>\n",
              "    </tr>\n",
              "  </tbody>\n",
              "</table>\n",
              "</div>\n",
              "    <div class=\"colab-df-buttons\">\n",
              "\n",
              "  <div class=\"colab-df-container\">\n",
              "    <button class=\"colab-df-convert\" onclick=\"convertToInteractive('df-a425934a-1298-4d83-a62c-bafa9c8c4fae')\"\n",
              "            title=\"Convert this dataframe to an interactive table.\"\n",
              "            style=\"display:none;\">\n",
              "\n",
              "  <svg xmlns=\"http://www.w3.org/2000/svg\" height=\"24px\" viewBox=\"0 -960 960 960\">\n",
              "    <path d=\"M120-120v-720h720v720H120Zm60-500h600v-160H180v160Zm220 220h160v-160H400v160Zm0 220h160v-160H400v160ZM180-400h160v-160H180v160Zm440 0h160v-160H620v160ZM180-180h160v-160H180v160Zm440 0h160v-160H620v160Z\"/>\n",
              "  </svg>\n",
              "    </button>\n",
              "\n",
              "  <style>\n",
              "    .colab-df-container {\n",
              "      display:flex;\n",
              "      gap: 12px;\n",
              "    }\n",
              "\n",
              "    .colab-df-convert {\n",
              "      background-color: #E8F0FE;\n",
              "      border: none;\n",
              "      border-radius: 50%;\n",
              "      cursor: pointer;\n",
              "      display: none;\n",
              "      fill: #1967D2;\n",
              "      height: 32px;\n",
              "      padding: 0 0 0 0;\n",
              "      width: 32px;\n",
              "    }\n",
              "\n",
              "    .colab-df-convert:hover {\n",
              "      background-color: #E2EBFA;\n",
              "      box-shadow: 0px 1px 2px rgba(60, 64, 67, 0.3), 0px 1px 3px 1px rgba(60, 64, 67, 0.15);\n",
              "      fill: #174EA6;\n",
              "    }\n",
              "\n",
              "    .colab-df-buttons div {\n",
              "      margin-bottom: 4px;\n",
              "    }\n",
              "\n",
              "    [theme=dark] .colab-df-convert {\n",
              "      background-color: #3B4455;\n",
              "      fill: #D2E3FC;\n",
              "    }\n",
              "\n",
              "    [theme=dark] .colab-df-convert:hover {\n",
              "      background-color: #434B5C;\n",
              "      box-shadow: 0px 1px 3px 1px rgba(0, 0, 0, 0.15);\n",
              "      filter: drop-shadow(0px 1px 2px rgba(0, 0, 0, 0.3));\n",
              "      fill: #FFFFFF;\n",
              "    }\n",
              "  </style>\n",
              "\n",
              "    <script>\n",
              "      const buttonEl =\n",
              "        document.querySelector('#df-a425934a-1298-4d83-a62c-bafa9c8c4fae button.colab-df-convert');\n",
              "      buttonEl.style.display =\n",
              "        google.colab.kernel.accessAllowed ? 'block' : 'none';\n",
              "\n",
              "      async function convertToInteractive(key) {\n",
              "        const element = document.querySelector('#df-a425934a-1298-4d83-a62c-bafa9c8c4fae');\n",
              "        const dataTable =\n",
              "          await google.colab.kernel.invokeFunction('convertToInteractive',\n",
              "                                                    [key], {});\n",
              "        if (!dataTable) return;\n",
              "\n",
              "        const docLinkHtml = 'Like what you see? Visit the ' +\n",
              "          '<a target=\"_blank\" href=https://colab.research.google.com/notebooks/data_table.ipynb>data table notebook</a>'\n",
              "          + ' to learn more about interactive tables.';\n",
              "        element.innerHTML = '';\n",
              "        dataTable['output_type'] = 'display_data';\n",
              "        await google.colab.output.renderOutput(dataTable, element);\n",
              "        const docLink = document.createElement('div');\n",
              "        docLink.innerHTML = docLinkHtml;\n",
              "        element.appendChild(docLink);\n",
              "      }\n",
              "    </script>\n",
              "  </div>\n",
              "\n",
              "\n",
              "<div id=\"df-1ab4e09b-f63d-4241-a8b2-fccf298af4ba\">\n",
              "  <button class=\"colab-df-quickchart\" onclick=\"quickchart('df-1ab4e09b-f63d-4241-a8b2-fccf298af4ba')\"\n",
              "            title=\"Suggest charts.\"\n",
              "            style=\"display:none;\">\n",
              "\n",
              "<svg xmlns=\"http://www.w3.org/2000/svg\" height=\"24px\"viewBox=\"0 0 24 24\"\n",
              "     width=\"24px\">\n",
              "    <g>\n",
              "        <path d=\"M19 3H5c-1.1 0-2 .9-2 2v14c0 1.1.9 2 2 2h14c1.1 0 2-.9 2-2V5c0-1.1-.9-2-2-2zM9 17H7v-7h2v7zm4 0h-2V7h2v10zm4 0h-2v-4h2v4z\"/>\n",
              "    </g>\n",
              "</svg>\n",
              "  </button>\n",
              "\n",
              "<style>\n",
              "  .colab-df-quickchart {\n",
              "      --bg-color: #E8F0FE;\n",
              "      --fill-color: #1967D2;\n",
              "      --hover-bg-color: #E2EBFA;\n",
              "      --hover-fill-color: #174EA6;\n",
              "      --disabled-fill-color: #AAA;\n",
              "      --disabled-bg-color: #DDD;\n",
              "  }\n",
              "\n",
              "  [theme=dark] .colab-df-quickchart {\n",
              "      --bg-color: #3B4455;\n",
              "      --fill-color: #D2E3FC;\n",
              "      --hover-bg-color: #434B5C;\n",
              "      --hover-fill-color: #FFFFFF;\n",
              "      --disabled-bg-color: #3B4455;\n",
              "      --disabled-fill-color: #666;\n",
              "  }\n",
              "\n",
              "  .colab-df-quickchart {\n",
              "    background-color: var(--bg-color);\n",
              "    border: none;\n",
              "    border-radius: 50%;\n",
              "    cursor: pointer;\n",
              "    display: none;\n",
              "    fill: var(--fill-color);\n",
              "    height: 32px;\n",
              "    padding: 0;\n",
              "    width: 32px;\n",
              "  }\n",
              "\n",
              "  .colab-df-quickchart:hover {\n",
              "    background-color: var(--hover-bg-color);\n",
              "    box-shadow: 0 1px 2px rgba(60, 64, 67, 0.3), 0 1px 3px 1px rgba(60, 64, 67, 0.15);\n",
              "    fill: var(--button-hover-fill-color);\n",
              "  }\n",
              "\n",
              "  .colab-df-quickchart-complete:disabled,\n",
              "  .colab-df-quickchart-complete:disabled:hover {\n",
              "    background-color: var(--disabled-bg-color);\n",
              "    fill: var(--disabled-fill-color);\n",
              "    box-shadow: none;\n",
              "  }\n",
              "\n",
              "  .colab-df-spinner {\n",
              "    border: 2px solid var(--fill-color);\n",
              "    border-color: transparent;\n",
              "    border-bottom-color: var(--fill-color);\n",
              "    animation:\n",
              "      spin 1s steps(1) infinite;\n",
              "  }\n",
              "\n",
              "  @keyframes spin {\n",
              "    0% {\n",
              "      border-color: transparent;\n",
              "      border-bottom-color: var(--fill-color);\n",
              "      border-left-color: var(--fill-color);\n",
              "    }\n",
              "    20% {\n",
              "      border-color: transparent;\n",
              "      border-left-color: var(--fill-color);\n",
              "      border-top-color: var(--fill-color);\n",
              "    }\n",
              "    30% {\n",
              "      border-color: transparent;\n",
              "      border-left-color: var(--fill-color);\n",
              "      border-top-color: var(--fill-color);\n",
              "      border-right-color: var(--fill-color);\n",
              "    }\n",
              "    40% {\n",
              "      border-color: transparent;\n",
              "      border-right-color: var(--fill-color);\n",
              "      border-top-color: var(--fill-color);\n",
              "    }\n",
              "    60% {\n",
              "      border-color: transparent;\n",
              "      border-right-color: var(--fill-color);\n",
              "    }\n",
              "    80% {\n",
              "      border-color: transparent;\n",
              "      border-right-color: var(--fill-color);\n",
              "      border-bottom-color: var(--fill-color);\n",
              "    }\n",
              "    90% {\n",
              "      border-color: transparent;\n",
              "      border-bottom-color: var(--fill-color);\n",
              "    }\n",
              "  }\n",
              "</style>\n",
              "\n",
              "  <script>\n",
              "    async function quickchart(key) {\n",
              "      const quickchartButtonEl =\n",
              "        document.querySelector('#' + key + ' button');\n",
              "      quickchartButtonEl.disabled = true;  // To prevent multiple clicks.\n",
              "      quickchartButtonEl.classList.add('colab-df-spinner');\n",
              "      try {\n",
              "        const charts = await google.colab.kernel.invokeFunction(\n",
              "            'suggestCharts', [key], {});\n",
              "      } catch (error) {\n",
              "        console.error('Error during call to suggestCharts:', error);\n",
              "      }\n",
              "      quickchartButtonEl.classList.remove('colab-df-spinner');\n",
              "      quickchartButtonEl.classList.add('colab-df-quickchart-complete');\n",
              "    }\n",
              "    (() => {\n",
              "      let quickchartButtonEl =\n",
              "        document.querySelector('#df-1ab4e09b-f63d-4241-a8b2-fccf298af4ba button');\n",
              "      quickchartButtonEl.style.display =\n",
              "        google.colab.kernel.accessAllowed ? 'block' : 'none';\n",
              "    })();\n",
              "  </script>\n",
              "</div>\n",
              "    </div>\n",
              "  </div>\n"
            ],
            "text/plain": [
              "   Chassis Id* Machine History Date Day  Compensated Working Hours By Day\n",
              "0  A030F720057               2016-12-09                              0.00\n",
              "1  A030F720057               2016-12-10                              5.75"
            ]
          },
          "execution_count": 17,
          "metadata": {},
          "output_type": "execute_result"
        }
      ],
      "source": [
        "# observando dataset temporal\n",
        "temporal.head(2)"
      ]
    },
    {
      "cell_type": "code",
      "execution_count": 18,
      "metadata": {
        "colab": {
          "base_uri": "https://localhost:8080/"
        },
        "id": "bowK4Mf8V5cB",
        "outputId": "c994204d-80e5-4827-ab93-df9456a70845"
      },
      "outputs": [
        {
          "name": "stdout",
          "output_type": "stream",
          "text": [
            "<class 'pandas.core.frame.DataFrame'>\n",
            "RangeIndex: 118161 entries, 0 to 118160\n",
            "Data columns (total 3 columns):\n",
            " #   Column                            Non-Null Count   Dtype         \n",
            "---  ------                            --------------   -----         \n",
            " 0   Chassis Id*                       118161 non-null  object        \n",
            " 1   Machine History Date Day          118161 non-null  datetime64[ns]\n",
            " 2   Compensated Working Hours By Day  118161 non-null  float64       \n",
            "dtypes: datetime64[ns](1), float64(1), object(1)\n",
            "memory usage: 2.7+ MB\n"
          ]
        },
        {
          "name": "stderr",
          "output_type": "stream",
          "text": [
            "/usr/local/lib/python3.10/dist-packages/ipykernel/ipkernel.py:283: DeprecationWarning: `should_run_async` will not call `transform_cell` automatically in the future. Please pass the result to `transformed_cell` argument and any exception that happen during thetransform in `preprocessing_exc_tuple` in IPython 7.17 and above.\n",
            "  and should_run_async(code)\n"
          ]
        }
      ],
      "source": [
        "# observando informações básicas de temporal\n",
        "temporal.info()"
      ]
    },
    {
      "cell_type": "code",
      "execution_count": 19,
      "metadata": {
        "colab": {
          "base_uri": "https://localhost:8080/"
        },
        "id": "EcWgIjNYWAzs",
        "outputId": "64e11145-f71a-4a4f-f232-5cfb1d02a895"
      },
      "outputs": [
        {
          "name": "stderr",
          "output_type": "stream",
          "text": [
            "/usr/local/lib/python3.10/dist-packages/ipykernel/ipkernel.py:283: DeprecationWarning: `should_run_async` will not call `transform_cell` automatically in the future. Please pass the result to `transformed_cell` argument and any exception that happen during thetransform in `preprocessing_exc_tuple` in IPython 7.17 and above.\n",
            "  and should_run_async(code)\n"
          ]
        },
        {
          "data": {
            "text/plain": [
              "Chassis Id*                         0\n",
              "Machine History Date Day            0\n",
              "Compensated Working Hours By Day    0\n",
              "dtype: int64"
            ]
          },
          "execution_count": 19,
          "metadata": {},
          "output_type": "execute_result"
        }
      ],
      "source": [
        "# verificando quantos valores nulos temporal tem\n",
        "temporal.isna().sum()"
      ]
    },
    {
      "cell_type": "code",
      "execution_count": 20,
      "metadata": {
        "colab": {
          "base_uri": "https://localhost:8080/"
        },
        "id": "JqY-W-CfYbVH",
        "outputId": "acf98646-fa46-423d-8895-5d84906a8e78"
      },
      "outputs": [
        {
          "name": "stderr",
          "output_type": "stream",
          "text": [
            "/usr/local/lib/python3.10/dist-packages/ipykernel/ipkernel.py:283: DeprecationWarning: `should_run_async` will not call `transform_cell` automatically in the future. Please pass the result to `transformed_cell` argument and any exception that happen during thetransform in `preprocessing_exc_tuple` in IPython 7.17 and above.\n",
            "  and should_run_async(code)\n"
          ]
        },
        {
          "data": {
            "text/plain": [
              "62"
            ]
          },
          "execution_count": 20,
          "metadata": {},
          "output_type": "execute_result"
        }
      ],
      "source": [
        "# verificando quantos IDs temporal tem\n",
        "len(temporal['Chassis Id*'].unique())"
      ]
    },
    {
      "cell_type": "code",
      "execution_count": 21,
      "metadata": {
        "colab": {
          "base_uri": "https://localhost:8080/"
        },
        "id": "Za0T4HoYXpTd",
        "outputId": "5b47a27a-1975-473b-c454-2abf2122c58a"
      },
      "outputs": [
        {
          "name": "stderr",
          "output_type": "stream",
          "text": [
            "/usr/local/lib/python3.10/dist-packages/ipykernel/ipkernel.py:283: DeprecationWarning: `should_run_async` will not call `transform_cell` automatically in the future. Please pass the result to `transformed_cell` argument and any exception that happen during thetransform in `preprocessing_exc_tuple` in IPython 7.17 and above.\n",
            "  and should_run_async(code)\n"
          ]
        },
        {
          "data": {
            "text/plain": [
              "38422"
            ]
          },
          "execution_count": 21,
          "metadata": {},
          "output_type": "execute_result"
        }
      ],
      "source": [
        "# verificando se o ID EC220240109 consta no dataset temporal\n",
        "busca = temporal.loc[temporal['Chassis Id*'] == 'EC220240109'].index[0]\n",
        "busca"
      ]
    },
    {
      "cell_type": "code",
      "execution_count": 22,
      "metadata": {
        "colab": {
          "base_uri": "https://localhost:8080/"
        },
        "id": "Z58EWRYafE3Y",
        "outputId": "48052744-ef9a-4219-a112-319e2a456c6b"
      },
      "outputs": [
        {
          "name": "stdout",
          "output_type": "stream",
          "text": [
            "{'A30F720054'}\n"
          ]
        },
        {
          "name": "stderr",
          "output_type": "stream",
          "text": [
            "/usr/local/lib/python3.10/dist-packages/ipykernel/ipkernel.py:283: DeprecationWarning: `should_run_async` will not call `transform_cell` automatically in the future. Please pass the result to `transformed_cell` argument and any exception that happen during thetransform in `preprocessing_exc_tuple` in IPython 7.17 and above.\n",
            "  and should_run_async(code)\n"
          ]
        }
      ],
      "source": [
        "# verificando qual ID o equip tem a mais que temporal\n",
        "chassis_temp = temporal['Chassis Id*'].unique()\n",
        "chassis_equip = equip['ID'].unique()\n",
        "valor_adicional = set(chassis_equip) - set(chassis_temp)\n",
        "\n",
        "print(valor_adicional)"
      ]
    },
    {
      "cell_type": "code",
      "execution_count": 23,
      "metadata": {
        "colab": {
          "base_uri": "https://localhost:8080/"
        },
        "id": "xGjc2TYEmLGN",
        "outputId": "071685fa-ee0b-4cc8-d8d1-34b731937c91"
      },
      "outputs": [
        {
          "name": "stderr",
          "output_type": "stream",
          "text": [
            "/usr/local/lib/python3.10/dist-packages/ipykernel/ipkernel.py:283: DeprecationWarning: `should_run_async` will not call `transform_cell` automatically in the future. Please pass the result to `transformed_cell` argument and any exception that happen during thetransform in `preprocessing_exc_tuple` in IPython 7.17 and above.\n",
            "  and should_run_async(code)\n"
          ]
        }
      ],
      "source": [
        "# renomeando variável\n",
        "temporal = temporal.rename(columns={'Compensated Working Hours By Day': 'Horas', 'Machine History Date Day': 'Dia', 'Chassis Id*': 'ID'})"
      ]
    },
    {
      "cell_type": "code",
      "execution_count": 24,
      "metadata": {
        "colab": {
          "base_uri": "https://localhost:8080/"
        },
        "id": "u24S6Bvuoaj1",
        "outputId": "a7bed088-8a47-4fe6-996f-80f6c8143a58"
      },
      "outputs": [
        {
          "name": "stderr",
          "output_type": "stream",
          "text": [
            "/usr/local/lib/python3.10/dist-packages/ipykernel/ipkernel.py:283: DeprecationWarning: `should_run_async` will not call `transform_cell` automatically in the future. Please pass the result to `transformed_cell` argument and any exception that happen during thetransform in `preprocessing_exc_tuple` in IPython 7.17 and above.\n",
            "  and should_run_async(code)\n"
          ]
        }
      ],
      "source": [
        "# removendo ID A30F720054\n",
        "equip = equip.drop(equip[equip['ID'] == 'A30F720054'].index)"
      ]
    },
    {
      "cell_type": "code",
      "execution_count": 25,
      "metadata": {
        "colab": {
          "base_uri": "https://localhost:8080/",
          "height": 543
        },
        "id": "wfA0EVyuHGes",
        "outputId": "3e9df192-58fa-404a-f30d-5f0f546c8f5a"
      },
      "outputs": [
        {
          "name": "stderr",
          "output_type": "stream",
          "text": [
            "/usr/local/lib/python3.10/dist-packages/ipykernel/ipkernel.py:283: DeprecationWarning: `should_run_async` will not call `transform_cell` automatically in the future. Please pass the result to `transformed_cell` argument and any exception that happen during thetransform in `preprocessing_exc_tuple` in IPython 7.17 and above.\n",
            "  and should_run_async(code)\n"
          ]
        },
        {
          "data": {
            "text/html": [
              "\n",
              "  <div id=\"df-4498dcad-5fc7-4642-83d5-743a0bd365df\" class=\"colab-df-container\">\n",
              "    <div>\n",
              "<style scoped>\n",
              "    .dataframe tbody tr th:only-of-type {\n",
              "        vertical-align: middle;\n",
              "    }\n",
              "\n",
              "    .dataframe tbody tr th {\n",
              "        vertical-align: top;\n",
              "    }\n",
              "\n",
              "    .dataframe thead tr th {\n",
              "        text-align: left;\n",
              "    }\n",
              "\n",
              "    .dataframe thead tr:last-of-type th {\n",
              "        text-align: right;\n",
              "    }\n",
              "</style>\n",
              "<table border=\"1\" class=\"dataframe\">\n",
              "  <thead>\n",
              "    <tr>\n",
              "      <th></th>\n",
              "      <th colspan=\"8\" halign=\"left\">Horas</th>\n",
              "    </tr>\n",
              "    <tr>\n",
              "      <th></th>\n",
              "      <th>count</th>\n",
              "      <th>mean</th>\n",
              "      <th>std</th>\n",
              "      <th>min</th>\n",
              "      <th>25%</th>\n",
              "      <th>50%</th>\n",
              "      <th>75%</th>\n",
              "      <th>max</th>\n",
              "    </tr>\n",
              "    <tr>\n",
              "      <th>ID</th>\n",
              "      <th></th>\n",
              "      <th></th>\n",
              "      <th></th>\n",
              "      <th></th>\n",
              "      <th></th>\n",
              "      <th></th>\n",
              "      <th></th>\n",
              "      <th></th>\n",
              "    </tr>\n",
              "  </thead>\n",
              "  <tbody>\n",
              "    <tr>\n",
              "      <th>A030F720057</th>\n",
              "      <td>1805.0</td>\n",
              "      <td>6.851108</td>\n",
              "      <td>7.257318</td>\n",
              "      <td>0.0</td>\n",
              "      <td>0.000446</td>\n",
              "      <td>5.600000</td>\n",
              "      <td>12.4000</td>\n",
              "      <td>57.20</td>\n",
              "    </tr>\n",
              "    <tr>\n",
              "      <th>A040F320538</th>\n",
              "      <td>2241.0</td>\n",
              "      <td>2.885249</td>\n",
              "      <td>5.186442</td>\n",
              "      <td>0.0</td>\n",
              "      <td>0.001818</td>\n",
              "      <td>0.004074</td>\n",
              "      <td>4.3000</td>\n",
              "      <td>22.10</td>\n",
              "    </tr>\n",
              "    <tr>\n",
              "      <th>A040F320657</th>\n",
              "      <td>2121.0</td>\n",
              "      <td>14.792456</td>\n",
              "      <td>7.534622</td>\n",
              "      <td>0.0</td>\n",
              "      <td>10.700000</td>\n",
              "      <td>18.000000</td>\n",
              "      <td>20.4000</td>\n",
              "      <td>29.40</td>\n",
              "    </tr>\n",
              "    <tr>\n",
              "      <th>A040F320672</th>\n",
              "      <td>2121.0</td>\n",
              "      <td>4.596603</td>\n",
              "      <td>5.129515</td>\n",
              "      <td>0.0</td>\n",
              "      <td>0.025926</td>\n",
              "      <td>3.750000</td>\n",
              "      <td>7.2500</td>\n",
              "      <td>23.85</td>\n",
              "    </tr>\n",
              "    <tr>\n",
              "      <th>A30F072791</th>\n",
              "      <td>3041.0</td>\n",
              "      <td>11.465549</td>\n",
              "      <td>5.937882</td>\n",
              "      <td>0.0</td>\n",
              "      <td>8.950000</td>\n",
              "      <td>12.500000</td>\n",
              "      <td>16.4000</td>\n",
              "      <td>35.35</td>\n",
              "    </tr>\n",
              "    <tr>\n",
              "      <th>...</th>\n",
              "      <td>...</td>\n",
              "      <td>...</td>\n",
              "      <td>...</td>\n",
              "      <td>...</td>\n",
              "      <td>...</td>\n",
              "      <td>...</td>\n",
              "      <td>...</td>\n",
              "      <td>...</td>\n",
              "    </tr>\n",
              "    <tr>\n",
              "      <th>L60F073972</th>\n",
              "      <td>921.0</td>\n",
              "      <td>14.318868</td>\n",
              "      <td>6.292234</td>\n",
              "      <td>0.0</td>\n",
              "      <td>11.550000</td>\n",
              "      <td>15.450000</td>\n",
              "      <td>18.5500</td>\n",
              "      <td>32.50</td>\n",
              "    </tr>\n",
              "    <tr>\n",
              "      <th>L60F074089</th>\n",
              "      <td>916.0</td>\n",
              "      <td>4.702040</td>\n",
              "      <td>4.962446</td>\n",
              "      <td>0.0</td>\n",
              "      <td>0.091071</td>\n",
              "      <td>3.000000</td>\n",
              "      <td>8.7000</td>\n",
              "      <td>28.55</td>\n",
              "    </tr>\n",
              "    <tr>\n",
              "      <th>L60F074104</th>\n",
              "      <td>897.0</td>\n",
              "      <td>4.625585</td>\n",
              "      <td>3.941112</td>\n",
              "      <td>0.0</td>\n",
              "      <td>0.000000</td>\n",
              "      <td>4.900000</td>\n",
              "      <td>7.4500</td>\n",
              "      <td>21.35</td>\n",
              "    </tr>\n",
              "    <tr>\n",
              "      <th>L60F074121</th>\n",
              "      <td>891.0</td>\n",
              "      <td>3.062028</td>\n",
              "      <td>2.995701</td>\n",
              "      <td>0.0</td>\n",
              "      <td>1.400000</td>\n",
              "      <td>2.700000</td>\n",
              "      <td>4.2500</td>\n",
              "      <td>56.35</td>\n",
              "    </tr>\n",
              "    <tr>\n",
              "      <th>L60F074213</th>\n",
              "      <td>808.0</td>\n",
              "      <td>6.495359</td>\n",
              "      <td>5.074819</td>\n",
              "      <td>0.0</td>\n",
              "      <td>1.187500</td>\n",
              "      <td>6.325000</td>\n",
              "      <td>9.5625</td>\n",
              "      <td>26.50</td>\n",
              "    </tr>\n",
              "  </tbody>\n",
              "</table>\n",
              "<p>62 rows × 8 columns</p>\n",
              "</div>\n",
              "    <div class=\"colab-df-buttons\">\n",
              "\n",
              "  <div class=\"colab-df-container\">\n",
              "    <button class=\"colab-df-convert\" onclick=\"convertToInteractive('df-4498dcad-5fc7-4642-83d5-743a0bd365df')\"\n",
              "            title=\"Convert this dataframe to an interactive table.\"\n",
              "            style=\"display:none;\">\n",
              "\n",
              "  <svg xmlns=\"http://www.w3.org/2000/svg\" height=\"24px\" viewBox=\"0 -960 960 960\">\n",
              "    <path d=\"M120-120v-720h720v720H120Zm60-500h600v-160H180v160Zm220 220h160v-160H400v160Zm0 220h160v-160H400v160ZM180-400h160v-160H180v160Zm440 0h160v-160H620v160ZM180-180h160v-160H180v160Zm440 0h160v-160H620v160Z\"/>\n",
              "  </svg>\n",
              "    </button>\n",
              "\n",
              "  <style>\n",
              "    .colab-df-container {\n",
              "      display:flex;\n",
              "      gap: 12px;\n",
              "    }\n",
              "\n",
              "    .colab-df-convert {\n",
              "      background-color: #E8F0FE;\n",
              "      border: none;\n",
              "      border-radius: 50%;\n",
              "      cursor: pointer;\n",
              "      display: none;\n",
              "      fill: #1967D2;\n",
              "      height: 32px;\n",
              "      padding: 0 0 0 0;\n",
              "      width: 32px;\n",
              "    }\n",
              "\n",
              "    .colab-df-convert:hover {\n",
              "      background-color: #E2EBFA;\n",
              "      box-shadow: 0px 1px 2px rgba(60, 64, 67, 0.3), 0px 1px 3px 1px rgba(60, 64, 67, 0.15);\n",
              "      fill: #174EA6;\n",
              "    }\n",
              "\n",
              "    .colab-df-buttons div {\n",
              "      margin-bottom: 4px;\n",
              "    }\n",
              "\n",
              "    [theme=dark] .colab-df-convert {\n",
              "      background-color: #3B4455;\n",
              "      fill: #D2E3FC;\n",
              "    }\n",
              "\n",
              "    [theme=dark] .colab-df-convert:hover {\n",
              "      background-color: #434B5C;\n",
              "      box-shadow: 0px 1px 3px 1px rgba(0, 0, 0, 0.15);\n",
              "      filter: drop-shadow(0px 1px 2px rgba(0, 0, 0, 0.3));\n",
              "      fill: #FFFFFF;\n",
              "    }\n",
              "  </style>\n",
              "\n",
              "    <script>\n",
              "      const buttonEl =\n",
              "        document.querySelector('#df-4498dcad-5fc7-4642-83d5-743a0bd365df button.colab-df-convert');\n",
              "      buttonEl.style.display =\n",
              "        google.colab.kernel.accessAllowed ? 'block' : 'none';\n",
              "\n",
              "      async function convertToInteractive(key) {\n",
              "        const element = document.querySelector('#df-4498dcad-5fc7-4642-83d5-743a0bd365df');\n",
              "        const dataTable =\n",
              "          await google.colab.kernel.invokeFunction('convertToInteractive',\n",
              "                                                    [key], {});\n",
              "        if (!dataTable) return;\n",
              "\n",
              "        const docLinkHtml = 'Like what you see? Visit the ' +\n",
              "          '<a target=\"_blank\" href=https://colab.research.google.com/notebooks/data_table.ipynb>data table notebook</a>'\n",
              "          + ' to learn more about interactive tables.';\n",
              "        element.innerHTML = '';\n",
              "        dataTable['output_type'] = 'display_data';\n",
              "        await google.colab.output.renderOutput(dataTable, element);\n",
              "        const docLink = document.createElement('div');\n",
              "        docLink.innerHTML = docLinkHtml;\n",
              "        element.appendChild(docLink);\n",
              "      }\n",
              "    </script>\n",
              "  </div>\n",
              "\n",
              "\n",
              "<div id=\"df-9635200f-d989-4e91-bb82-e7a8faea9d1c\">\n",
              "  <button class=\"colab-df-quickchart\" onclick=\"quickchart('df-9635200f-d989-4e91-bb82-e7a8faea9d1c')\"\n",
              "            title=\"Suggest charts.\"\n",
              "            style=\"display:none;\">\n",
              "\n",
              "<svg xmlns=\"http://www.w3.org/2000/svg\" height=\"24px\"viewBox=\"0 0 24 24\"\n",
              "     width=\"24px\">\n",
              "    <g>\n",
              "        <path d=\"M19 3H5c-1.1 0-2 .9-2 2v14c0 1.1.9 2 2 2h14c1.1 0 2-.9 2-2V5c0-1.1-.9-2-2-2zM9 17H7v-7h2v7zm4 0h-2V7h2v10zm4 0h-2v-4h2v4z\"/>\n",
              "    </g>\n",
              "</svg>\n",
              "  </button>\n",
              "\n",
              "<style>\n",
              "  .colab-df-quickchart {\n",
              "      --bg-color: #E8F0FE;\n",
              "      --fill-color: #1967D2;\n",
              "      --hover-bg-color: #E2EBFA;\n",
              "      --hover-fill-color: #174EA6;\n",
              "      --disabled-fill-color: #AAA;\n",
              "      --disabled-bg-color: #DDD;\n",
              "  }\n",
              "\n",
              "  [theme=dark] .colab-df-quickchart {\n",
              "      --bg-color: #3B4455;\n",
              "      --fill-color: #D2E3FC;\n",
              "      --hover-bg-color: #434B5C;\n",
              "      --hover-fill-color: #FFFFFF;\n",
              "      --disabled-bg-color: #3B4455;\n",
              "      --disabled-fill-color: #666;\n",
              "  }\n",
              "\n",
              "  .colab-df-quickchart {\n",
              "    background-color: var(--bg-color);\n",
              "    border: none;\n",
              "    border-radius: 50%;\n",
              "    cursor: pointer;\n",
              "    display: none;\n",
              "    fill: var(--fill-color);\n",
              "    height: 32px;\n",
              "    padding: 0;\n",
              "    width: 32px;\n",
              "  }\n",
              "\n",
              "  .colab-df-quickchart:hover {\n",
              "    background-color: var(--hover-bg-color);\n",
              "    box-shadow: 0 1px 2px rgba(60, 64, 67, 0.3), 0 1px 3px 1px rgba(60, 64, 67, 0.15);\n",
              "    fill: var(--button-hover-fill-color);\n",
              "  }\n",
              "\n",
              "  .colab-df-quickchart-complete:disabled,\n",
              "  .colab-df-quickchart-complete:disabled:hover {\n",
              "    background-color: var(--disabled-bg-color);\n",
              "    fill: var(--disabled-fill-color);\n",
              "    box-shadow: none;\n",
              "  }\n",
              "\n",
              "  .colab-df-spinner {\n",
              "    border: 2px solid var(--fill-color);\n",
              "    border-color: transparent;\n",
              "    border-bottom-color: var(--fill-color);\n",
              "    animation:\n",
              "      spin 1s steps(1) infinite;\n",
              "  }\n",
              "\n",
              "  @keyframes spin {\n",
              "    0% {\n",
              "      border-color: transparent;\n",
              "      border-bottom-color: var(--fill-color);\n",
              "      border-left-color: var(--fill-color);\n",
              "    }\n",
              "    20% {\n",
              "      border-color: transparent;\n",
              "      border-left-color: var(--fill-color);\n",
              "      border-top-color: var(--fill-color);\n",
              "    }\n",
              "    30% {\n",
              "      border-color: transparent;\n",
              "      border-left-color: var(--fill-color);\n",
              "      border-top-color: var(--fill-color);\n",
              "      border-right-color: var(--fill-color);\n",
              "    }\n",
              "    40% {\n",
              "      border-color: transparent;\n",
              "      border-right-color: var(--fill-color);\n",
              "      border-top-color: var(--fill-color);\n",
              "    }\n",
              "    60% {\n",
              "      border-color: transparent;\n",
              "      border-right-color: var(--fill-color);\n",
              "    }\n",
              "    80% {\n",
              "      border-color: transparent;\n",
              "      border-right-color: var(--fill-color);\n",
              "      border-bottom-color: var(--fill-color);\n",
              "    }\n",
              "    90% {\n",
              "      border-color: transparent;\n",
              "      border-bottom-color: var(--fill-color);\n",
              "    }\n",
              "  }\n",
              "</style>\n",
              "\n",
              "  <script>\n",
              "    async function quickchart(key) {\n",
              "      const quickchartButtonEl =\n",
              "        document.querySelector('#' + key + ' button');\n",
              "      quickchartButtonEl.disabled = true;  // To prevent multiple clicks.\n",
              "      quickchartButtonEl.classList.add('colab-df-spinner');\n",
              "      try {\n",
              "        const charts = await google.colab.kernel.invokeFunction(\n",
              "            'suggestCharts', [key], {});\n",
              "      } catch (error) {\n",
              "        console.error('Error during call to suggestCharts:', error);\n",
              "      }\n",
              "      quickchartButtonEl.classList.remove('colab-df-spinner');\n",
              "      quickchartButtonEl.classList.add('colab-df-quickchart-complete');\n",
              "    }\n",
              "    (() => {\n",
              "      let quickchartButtonEl =\n",
              "        document.querySelector('#df-9635200f-d989-4e91-bb82-e7a8faea9d1c button');\n",
              "      quickchartButtonEl.style.display =\n",
              "        google.colab.kernel.accessAllowed ? 'block' : 'none';\n",
              "    })();\n",
              "  </script>\n",
              "</div>\n",
              "    </div>\n",
              "  </div>\n"
            ],
            "text/plain": [
              "              Horas                                                           \\\n",
              "              count       mean       std  min        25%        50%      75%   \n",
              "ID                                                                             \n",
              "A030F720057  1805.0   6.851108  7.257318  0.0   0.000446   5.600000  12.4000   \n",
              "A040F320538  2241.0   2.885249  5.186442  0.0   0.001818   0.004074   4.3000   \n",
              "A040F320657  2121.0  14.792456  7.534622  0.0  10.700000  18.000000  20.4000   \n",
              "A040F320672  2121.0   4.596603  5.129515  0.0   0.025926   3.750000   7.2500   \n",
              "A30F072791   3041.0  11.465549  5.937882  0.0   8.950000  12.500000  16.4000   \n",
              "...             ...        ...       ...  ...        ...        ...      ...   \n",
              "L60F073972    921.0  14.318868  6.292234  0.0  11.550000  15.450000  18.5500   \n",
              "L60F074089    916.0   4.702040  4.962446  0.0   0.091071   3.000000   8.7000   \n",
              "L60F074104    897.0   4.625585  3.941112  0.0   0.000000   4.900000   7.4500   \n",
              "L60F074121    891.0   3.062028  2.995701  0.0   1.400000   2.700000   4.2500   \n",
              "L60F074213    808.0   6.495359  5.074819  0.0   1.187500   6.325000   9.5625   \n",
              "\n",
              "                    \n",
              "               max  \n",
              "ID                  \n",
              "A030F720057  57.20  \n",
              "A040F320538  22.10  \n",
              "A040F320657  29.40  \n",
              "A040F320672  23.85  \n",
              "A30F072791   35.35  \n",
              "...            ...  \n",
              "L60F073972   32.50  \n",
              "L60F074089   28.55  \n",
              "L60F074104   21.35  \n",
              "L60F074121   56.35  \n",
              "L60F074213   26.50  \n",
              "\n",
              "[62 rows x 8 columns]"
            ]
          },
          "execution_count": 25,
          "metadata": {},
          "output_type": "execute_result"
        }
      ],
      "source": [
        "# observando os valores dos IDs no temporal\n",
        "chassis_valores = temporal.groupby('ID').describe()\n",
        "chassis_valores"
      ]
    },
    {
      "cell_type": "code",
      "execution_count": 26,
      "metadata": {
        "colab": {
          "base_uri": "https://localhost:8080/"
        },
        "id": "ziQbDY5vzeAB",
        "outputId": "4e4c85cd-252b-477d-c735-3c2f1bc7ca27"
      },
      "outputs": [
        {
          "name": "stderr",
          "output_type": "stream",
          "text": [
            "/usr/local/lib/python3.10/dist-packages/ipykernel/ipkernel.py:283: DeprecationWarning: `should_run_async` will not call `transform_cell` automatically in the future. Please pass the result to `transformed_cell` argument and any exception that happen during thetransform in `preprocessing_exc_tuple` in IPython 7.17 and above.\n",
            "  and should_run_async(code)\n"
          ]
        }
      ],
      "source": [
        "# juntando os dois datasets para visualizar\n",
        "df_original = equip.merge(temporal, how = 'left', left_on = 'ID', right_on = 'ID')"
      ]
    },
    {
      "cell_type": "code",
      "execution_count": 27,
      "metadata": {
        "colab": {
          "base_uri": "https://localhost:8080/"
        },
        "id": "bW3Dc6Ufzeg5",
        "outputId": "4376f702-162c-4a82-e906-abb0af53884c"
      },
      "outputs": [
        {
          "name": "stderr",
          "output_type": "stream",
          "text": [
            "/usr/local/lib/python3.10/dist-packages/ipykernel/ipkernel.py:283: DeprecationWarning: `should_run_async` will not call `transform_cell` automatically in the future. Please pass the result to `transformed_cell` argument and any exception that happen during thetransform in `preprocessing_exc_tuple` in IPython 7.17 and above.\n",
            "  and should_run_async(code)\n"
          ]
        }
      ],
      "source": [
        "df = df_original.copy()"
      ]
    },
    {
      "cell_type": "code",
      "execution_count": 28,
      "metadata": {
        "colab": {
          "base_uri": "https://localhost:8080/"
        },
        "id": "y9oG9jvxTlVw",
        "outputId": "d86eba2f-beae-4e35-b71f-a603e16dc62a"
      },
      "outputs": [
        {
          "name": "stderr",
          "output_type": "stream",
          "text": [
            "/usr/local/lib/python3.10/dist-packages/ipykernel/ipkernel.py:283: DeprecationWarning: `should_run_async` will not call `transform_cell` automatically in the future. Please pass the result to `transformed_cell` argument and any exception that happen during thetransform in `preprocessing_exc_tuple` in IPython 7.17 and above.\n",
            "  and should_run_async(code)\n"
          ]
        },
        {
          "name": "stdout",
          "output_type": "stream",
          "text": [
            "<class 'pandas.core.frame.DataFrame'>\n",
            "Int64Index: 118161 entries, 0 to 118160\n",
            "Data columns (total 11 columns):\n",
            " #   Column         Non-Null Count   Dtype         \n",
            "---  ------         --------------   -----         \n",
            " 0   Região         118161 non-null  object        \n",
            " 1   pais_compra    118161 non-null  object        \n",
            " 2   Dealer         118161 non-null  object        \n",
            " 3   Segmento       118161 non-null  object        \n",
            " 4   Modelo         118161 non-null  object        \n",
            " 5   ID             118161 non-null  object        \n",
            " 6   Delivery Date  115120 non-null  datetime64[ns]\n",
            " 7   Estado         118161 non-null  object        \n",
            " 8   pais_operacao  118161 non-null  object        \n",
            " 9   Dia            118161 non-null  datetime64[ns]\n",
            " 10  Horas          118161 non-null  float64       \n",
            "dtypes: datetime64[ns](2), float64(1), object(8)\n",
            "memory usage: 10.8+ MB\n"
          ]
        }
      ],
      "source": [
        "df.info()"
      ]
    },
    {
      "cell_type": "code",
      "execution_count": 29,
      "metadata": {
        "colab": {
          "base_uri": "https://localhost:8080/",
          "height": 405,
          "referenced_widgets": [
            "750d98f6eafb4edbb8cfc596ad1fc221",
            "40cb0c2b073948a4978c9003359498d5",
            "da61e624adfc4cc7b22ca3aeb2be5a8e",
            "9a64bdaad9c249569798ceed53de5720",
            "8470a58a10d543df9de4d7bf7cdf0b5f",
            "6f3683699af542bda0815a1e48e5d5a2",
            "713d2a51077a4feca7dd82d78804dfab"
          ]
        },
        "id": "2XTID_2Hpn51",
        "outputId": "947bd21f-fc77-4132-df42-d07d3a26076d"
      },
      "outputs": [
        {
          "name": "stderr",
          "output_type": "stream",
          "text": [
            "/usr/local/lib/python3.10/dist-packages/ipykernel/ipkernel.py:283: DeprecationWarning: `should_run_async` will not call `transform_cell` automatically in the future. Please pass the result to `transformed_cell` argument and any exception that happen during thetransform in `preprocessing_exc_tuple` in IPython 7.17 and above.\n",
            "  and should_run_async(code)\n"
          ]
        },
        {
          "data": {
            "application/vnd.jupyter.widget-view+json": {
              "model_id": "750d98f6eafb4edbb8cfc596ad1fc221",
              "version_major": 2,
              "version_minor": 0
            },
            "text/plain": [
              "interactive(children=(Dropdown(description='id', options=('A030F720057', 'A040F320538', 'A040F320657', 'A040F3…"
            ]
          },
          "metadata": {},
          "output_type": "display_data"
        }
      ],
      "source": [
        "# criando gráficos\n",
        "@interact(id = temporal.ID.unique().tolist())\n",
        "def graficos(id):\n",
        "    plt.figure(figsize= (16,3))\n",
        "    ax = sns.lineplot(data = temporal[temporal.ID == id],\n",
        "                      x = 'Dia',\n",
        "                      y = 'Horas')\n",
        "    plt.show()"
      ]
    },
    {
      "cell_type": "code",
      "execution_count": 30,
      "metadata": {
        "colab": {
          "base_uri": "https://localhost:8080/"
        },
        "id": "PUJHjYfWhWAU",
        "outputId": "44ad8f1c-6b43-46d2-b604-f5c4866cfaaf"
      },
      "outputs": [
        {
          "name": "stderr",
          "output_type": "stream",
          "text": [
            "/usr/local/lib/python3.10/dist-packages/ipykernel/ipkernel.py:283: DeprecationWarning: `should_run_async` will not call `transform_cell` automatically in the future. Please pass the result to `transformed_cell` argument and any exception that happen during thetransform in `preprocessing_exc_tuple` in IPython 7.17 and above.\n",
            "  and should_run_async(code)\n"
          ]
        }
      ],
      "source": [
        "# criando variável para armazenar as variáveis que vão ser apresentadas na tabela geral\n",
        "cols = ['Região', 'País Compra','Dealer','Segmento','Modelo','Estado','País Operação', 'ID']"
      ]
    },
    {
      "cell_type": "code",
      "execution_count": 31,
      "metadata": {
        "colab": {
          "base_uri": "https://localhost:8080/",
          "height": 296,
          "referenced_widgets": [
            "4fcd6306609d4609a88ce038dbb5c208",
            "82cc69d2b27147e6ad577336f8bf105e",
            "5c0013f75d37430990058aaf08695ca3",
            "62563544fcf446ad9ea36b33e5de4c74",
            "22fac4a94e194d6794194fe671debff0",
            "41156ea3da7d465cb25ea79905b33620",
            "81cc1d7c31d84f17afea5beab215e544",
            "aefef55da2294f7ca3edde020e787a38",
            "5e3f31eed5004c3aa33c1278e1e2e2ce",
            "c4e34aa562a9465f8b3d8ee7667d06fb"
          ]
        },
        "id": "x-w4RRzfhiJd",
        "outputId": "a94cd942-ce2f-49ad-bb21-d518fad59b65"
      },
      "outputs": [
        {
          "name": "stderr",
          "output_type": "stream",
          "text": [
            "/usr/local/lib/python3.10/dist-packages/ipykernel/ipkernel.py:283: DeprecationWarning: `should_run_async` will not call `transform_cell` automatically in the future. Please pass the result to `transformed_cell` argument and any exception that happen during thetransform in `preprocessing_exc_tuple` in IPython 7.17 and above.\n",
            "  and should_run_async(code)\n"
          ]
        },
        {
          "data": {
            "application/vnd.jupyter.widget-view+json": {
              "model_id": "4fcd6306609d4609a88ce038dbb5c208",
              "version_major": 2,
              "version_minor": 0
            },
            "text/plain": [
              "interactive(children=(Dropdown(description='agg_fun', options=('sum', 'mean', 'max'), value='sum'), Dropdown(d…"
            ]
          },
          "metadata": {},
          "output_type": "display_data"
        }
      ],
      "source": [
        "# criando tabela geral para visualizar os principais dados das principais variáveis\n",
        "@interact(agg_fun = ['sum', 'mean','max'], col_groupby = cols)\n",
        "\n",
        "\n",
        "def tabela_geral(agg_fun,col_groupby):\n",
        "    df2 = df.groupby([col_groupby], sort = 'Horas')[['Horas']].agg(agg_fun)\\\n",
        "              .sort_values('Horas', ascending = False)\n",
        "\n",
        "    return df2.style.highlight_min(color = 'black')\\\n",
        "                    .highlight_max(color = 'lightcoral')"
      ]
    },
    {
      "cell_type": "markdown",
      "metadata": {
        "id": "6bZN6rpINE7_"
      },
      "source": [
        "#6 - Criando novas variáveis\n"
      ]
    },
    {
      "cell_type": "markdown",
      "metadata": {
        "id": "oDBTTwR40rQe"
      },
      "source": [
        "### 6.1 - Método 1: Aplicando One Hot Encoding nas variáveis categóricas"
      ]
    },
    {
      "cell_type": "code",
      "execution_count": 32,
      "metadata": {
        "colab": {
          "base_uri": "https://localhost:8080/"
        },
        "id": "FZEVOBBWr4mp",
        "outputId": "2ba1452e-b614-45e9-ad79-730a179fa5ec"
      },
      "outputs": [
        {
          "name": "stderr",
          "output_type": "stream",
          "text": [
            "/usr/local/lib/python3.10/dist-packages/ipykernel/ipkernel.py:283: DeprecationWarning: `should_run_async` will not call `transform_cell` automatically in the future. Please pass the result to `transformed_cell` argument and any exception that happen during thetransform in `preprocessing_exc_tuple` in IPython 7.17 and above.\n",
            "  and should_run_async(code)\n"
          ]
        }
      ],
      "source": [
        "#criando df2 para o Método 2\n",
        "df2 = df"
      ]
    },
    {
      "cell_type": "code",
      "execution_count": 33,
      "metadata": {
        "colab": {
          "base_uri": "https://localhost:8080/"
        },
        "id": "E3cD0uyuF6zQ",
        "outputId": "a0acb894-4daa-4ef5-d96c-79fee4b4132d"
      },
      "outputs": [
        {
          "name": "stderr",
          "output_type": "stream",
          "text": [
            "/usr/local/lib/python3.10/dist-packages/ipykernel/ipkernel.py:283: DeprecationWarning: `should_run_async` will not call `transform_cell` automatically in the future. Please pass the result to `transformed_cell` argument and any exception that happen during thetransform in `preprocessing_exc_tuple` in IPython 7.17 and above.\n",
            "  and should_run_async(code)\n"
          ]
        }
      ],
      "source": [
        "# aplicando One Hot Encoding às variáveis\n",
        "df_aux = pd.get_dummies(df['Segmento'], prefix='Segmento')\n",
        "df = pd.concat([df, df_aux], axis=1)\n",
        "df_aux = pd.get_dummies(df['Modelo'], prefix='Modelo')\n",
        "df = pd.concat([df, df_aux], axis=1)\n",
        "df_aux = pd.get_dummies(df['Dealer'], prefix='Dealer')\n",
        "df = pd.concat([df, df_aux], axis=1)\n",
        "df_aux = pd.get_dummies(df['Região'], prefix='Região')\n",
        "df = pd.concat([df, df_aux], axis=1)"
      ]
    },
    {
      "cell_type": "code",
      "execution_count": 34,
      "metadata": {
        "colab": {
          "base_uri": "https://localhost:8080/"
        },
        "id": "vDx5jXx32NX9",
        "outputId": "9676f1d1-7483-451b-fd8b-3b2f4b91dc17"
      },
      "outputs": [
        {
          "name": "stderr",
          "output_type": "stream",
          "text": [
            "/usr/local/lib/python3.10/dist-packages/ipykernel/ipkernel.py:283: DeprecationWarning: `should_run_async` will not call `transform_cell` automatically in the future. Please pass the result to `transformed_cell` argument and any exception that happen during thetransform in `preprocessing_exc_tuple` in IPython 7.17 and above.\n",
            "  and should_run_async(code)\n"
          ]
        }
      ],
      "source": [
        "# deletando variáveis originais\n",
        "df.drop(['Segmento', 'Modelo', 'Dealer', 'Região'], axis=1, inplace=True)"
      ]
    },
    {
      "cell_type": "code",
      "execution_count": 35,
      "metadata": {
        "colab": {
          "base_uri": "https://localhost:8080/"
        },
        "id": "6xwlLuQM19xu",
        "outputId": "59befd74-f425-4456-de20-36f7eb4f3c4c"
      },
      "outputs": [
        {
          "name": "stderr",
          "output_type": "stream",
          "text": [
            "/usr/local/lib/python3.10/dist-packages/ipykernel/ipkernel.py:283: DeprecationWarning: `should_run_async` will not call `transform_cell` automatically in the future. Please pass the result to `transformed_cell` argument and any exception that happen during thetransform in `preprocessing_exc_tuple` in IPython 7.17 and above.\n",
            "  and should_run_async(code)\n"
          ]
        }
      ],
      "source": [
        "# apagando os dados vazios\n",
        "df = df.dropna()"
      ]
    },
    {
      "cell_type": "code",
      "execution_count": 36,
      "metadata": {
        "colab": {
          "base_uri": "https://localhost:8080/",
          "height": 221
        },
        "id": "b1zdNl5V2A89",
        "outputId": "921966f2-9a1f-48c2-8599-fa8db4fa1289"
      },
      "outputs": [
        {
          "name": "stderr",
          "output_type": "stream",
          "text": [
            "/usr/local/lib/python3.10/dist-packages/ipykernel/ipkernel.py:283: DeprecationWarning: `should_run_async` will not call `transform_cell` automatically in the future. Please pass the result to `transformed_cell` argument and any exception that happen during thetransform in `preprocessing_exc_tuple` in IPython 7.17 and above.\n",
            "  and should_run_async(code)\n"
          ]
        },
        {
          "data": {
            "text/html": [
              "\n",
              "  <div id=\"df-8615ee57-3798-4c3f-a436-2bde17f61ab0\" class=\"colab-df-container\">\n",
              "    <div>\n",
              "<style scoped>\n",
              "    .dataframe tbody tr th:only-of-type {\n",
              "        vertical-align: middle;\n",
              "    }\n",
              "\n",
              "    .dataframe tbody tr th {\n",
              "        vertical-align: top;\n",
              "    }\n",
              "\n",
              "    .dataframe thead th {\n",
              "        text-align: right;\n",
              "    }\n",
              "</style>\n",
              "<table border=\"1\" class=\"dataframe\">\n",
              "  <thead>\n",
              "    <tr style=\"text-align: right;\">\n",
              "      <th></th>\n",
              "      <th>pais_compra</th>\n",
              "      <th>ID</th>\n",
              "      <th>Delivery Date</th>\n",
              "      <th>Estado</th>\n",
              "      <th>pais_operacao</th>\n",
              "      <th>Dia</th>\n",
              "      <th>Horas</th>\n",
              "      <th>Segmento_Agriculture</th>\n",
              "      <th>Segmento_Construction</th>\n",
              "      <th>Segmento_Forestry</th>\n",
              "      <th>Segmento_Industry</th>\n",
              "      <th>Segmento_Mining</th>\n",
              "      <th>Modelo_ART</th>\n",
              "      <th>Modelo_EXC</th>\n",
              "      <th>Modelo_WLO</th>\n",
              "      <th>Dealer_Ascendum</th>\n",
              "      <th>Dealer_Dinâmica</th>\n",
              "      <th>Dealer_EPSA</th>\n",
              "      <th>Dealer_Gotemburgo</th>\n",
              "      <th>Dealer_Linck</th>\n",
              "      <th>Dealer_Tecnoeste</th>\n",
              "      <th>Dealer_Tracbel</th>\n",
              "      <th>Região_Brasil</th>\n",
              "      <th>Região_Hispânico Norte</th>\n",
              "      <th>Região_Hispânico Sul</th>\n",
              "    </tr>\n",
              "  </thead>\n",
              "  <tbody>\n",
              "    <tr>\n",
              "      <th>0</th>\n",
              "      <td>Argentina</td>\n",
              "      <td>A040F320538</td>\n",
              "      <td>2020-11-26</td>\n",
              "      <td>San Luis</td>\n",
              "      <td>Argentina</td>\n",
              "      <td>2016-12-14</td>\n",
              "      <td>0.0</td>\n",
              "      <td>0</td>\n",
              "      <td>0</td>\n",
              "      <td>0</td>\n",
              "      <td>0</td>\n",
              "      <td>1</td>\n",
              "      <td>1</td>\n",
              "      <td>0</td>\n",
              "      <td>0</td>\n",
              "      <td>0</td>\n",
              "      <td>0</td>\n",
              "      <td>1</td>\n",
              "      <td>0</td>\n",
              "      <td>0</td>\n",
              "      <td>0</td>\n",
              "      <td>0</td>\n",
              "      <td>0</td>\n",
              "      <td>0</td>\n",
              "      <td>1</td>\n",
              "    </tr>\n",
              "    <tr>\n",
              "      <th>1</th>\n",
              "      <td>Argentina</td>\n",
              "      <td>A040F320538</td>\n",
              "      <td>2020-11-26</td>\n",
              "      <td>San Luis</td>\n",
              "      <td>Argentina</td>\n",
              "      <td>2016-12-15</td>\n",
              "      <td>0.0</td>\n",
              "      <td>0</td>\n",
              "      <td>0</td>\n",
              "      <td>0</td>\n",
              "      <td>0</td>\n",
              "      <td>1</td>\n",
              "      <td>1</td>\n",
              "      <td>0</td>\n",
              "      <td>0</td>\n",
              "      <td>0</td>\n",
              "      <td>0</td>\n",
              "      <td>1</td>\n",
              "      <td>0</td>\n",
              "      <td>0</td>\n",
              "      <td>0</td>\n",
              "      <td>0</td>\n",
              "      <td>0</td>\n",
              "      <td>0</td>\n",
              "      <td>1</td>\n",
              "    </tr>\n",
              "  </tbody>\n",
              "</table>\n",
              "</div>\n",
              "    <div class=\"colab-df-buttons\">\n",
              "\n",
              "  <div class=\"colab-df-container\">\n",
              "    <button class=\"colab-df-convert\" onclick=\"convertToInteractive('df-8615ee57-3798-4c3f-a436-2bde17f61ab0')\"\n",
              "            title=\"Convert this dataframe to an interactive table.\"\n",
              "            style=\"display:none;\">\n",
              "\n",
              "  <svg xmlns=\"http://www.w3.org/2000/svg\" height=\"24px\" viewBox=\"0 -960 960 960\">\n",
              "    <path d=\"M120-120v-720h720v720H120Zm60-500h600v-160H180v160Zm220 220h160v-160H400v160Zm0 220h160v-160H400v160ZM180-400h160v-160H180v160Zm440 0h160v-160H620v160ZM180-180h160v-160H180v160Zm440 0h160v-160H620v160Z\"/>\n",
              "  </svg>\n",
              "    </button>\n",
              "\n",
              "  <style>\n",
              "    .colab-df-container {\n",
              "      display:flex;\n",
              "      gap: 12px;\n",
              "    }\n",
              "\n",
              "    .colab-df-convert {\n",
              "      background-color: #E8F0FE;\n",
              "      border: none;\n",
              "      border-radius: 50%;\n",
              "      cursor: pointer;\n",
              "      display: none;\n",
              "      fill: #1967D2;\n",
              "      height: 32px;\n",
              "      padding: 0 0 0 0;\n",
              "      width: 32px;\n",
              "    }\n",
              "\n",
              "    .colab-df-convert:hover {\n",
              "      background-color: #E2EBFA;\n",
              "      box-shadow: 0px 1px 2px rgba(60, 64, 67, 0.3), 0px 1px 3px 1px rgba(60, 64, 67, 0.15);\n",
              "      fill: #174EA6;\n",
              "    }\n",
              "\n",
              "    .colab-df-buttons div {\n",
              "      margin-bottom: 4px;\n",
              "    }\n",
              "\n",
              "    [theme=dark] .colab-df-convert {\n",
              "      background-color: #3B4455;\n",
              "      fill: #D2E3FC;\n",
              "    }\n",
              "\n",
              "    [theme=dark] .colab-df-convert:hover {\n",
              "      background-color: #434B5C;\n",
              "      box-shadow: 0px 1px 3px 1px rgba(0, 0, 0, 0.15);\n",
              "      filter: drop-shadow(0px 1px 2px rgba(0, 0, 0, 0.3));\n",
              "      fill: #FFFFFF;\n",
              "    }\n",
              "  </style>\n",
              "\n",
              "    <script>\n",
              "      const buttonEl =\n",
              "        document.querySelector('#df-8615ee57-3798-4c3f-a436-2bde17f61ab0 button.colab-df-convert');\n",
              "      buttonEl.style.display =\n",
              "        google.colab.kernel.accessAllowed ? 'block' : 'none';\n",
              "\n",
              "      async function convertToInteractive(key) {\n",
              "        const element = document.querySelector('#df-8615ee57-3798-4c3f-a436-2bde17f61ab0');\n",
              "        const dataTable =\n",
              "          await google.colab.kernel.invokeFunction('convertToInteractive',\n",
              "                                                    [key], {});\n",
              "        if (!dataTable) return;\n",
              "\n",
              "        const docLinkHtml = 'Like what you see? Visit the ' +\n",
              "          '<a target=\"_blank\" href=https://colab.research.google.com/notebooks/data_table.ipynb>data table notebook</a>'\n",
              "          + ' to learn more about interactive tables.';\n",
              "        element.innerHTML = '';\n",
              "        dataTable['output_type'] = 'display_data';\n",
              "        await google.colab.output.renderOutput(dataTable, element);\n",
              "        const docLink = document.createElement('div');\n",
              "        docLink.innerHTML = docLinkHtml;\n",
              "        element.appendChild(docLink);\n",
              "      }\n",
              "    </script>\n",
              "  </div>\n",
              "\n",
              "\n",
              "<div id=\"df-8f7328c8-e147-473d-8288-429dff0e4d3f\">\n",
              "  <button class=\"colab-df-quickchart\" onclick=\"quickchart('df-8f7328c8-e147-473d-8288-429dff0e4d3f')\"\n",
              "            title=\"Suggest charts.\"\n",
              "            style=\"display:none;\">\n",
              "\n",
              "<svg xmlns=\"http://www.w3.org/2000/svg\" height=\"24px\"viewBox=\"0 0 24 24\"\n",
              "     width=\"24px\">\n",
              "    <g>\n",
              "        <path d=\"M19 3H5c-1.1 0-2 .9-2 2v14c0 1.1.9 2 2 2h14c1.1 0 2-.9 2-2V5c0-1.1-.9-2-2-2zM9 17H7v-7h2v7zm4 0h-2V7h2v10zm4 0h-2v-4h2v4z\"/>\n",
              "    </g>\n",
              "</svg>\n",
              "  </button>\n",
              "\n",
              "<style>\n",
              "  .colab-df-quickchart {\n",
              "      --bg-color: #E8F0FE;\n",
              "      --fill-color: #1967D2;\n",
              "      --hover-bg-color: #E2EBFA;\n",
              "      --hover-fill-color: #174EA6;\n",
              "      --disabled-fill-color: #AAA;\n",
              "      --disabled-bg-color: #DDD;\n",
              "  }\n",
              "\n",
              "  [theme=dark] .colab-df-quickchart {\n",
              "      --bg-color: #3B4455;\n",
              "      --fill-color: #D2E3FC;\n",
              "      --hover-bg-color: #434B5C;\n",
              "      --hover-fill-color: #FFFFFF;\n",
              "      --disabled-bg-color: #3B4455;\n",
              "      --disabled-fill-color: #666;\n",
              "  }\n",
              "\n",
              "  .colab-df-quickchart {\n",
              "    background-color: var(--bg-color);\n",
              "    border: none;\n",
              "    border-radius: 50%;\n",
              "    cursor: pointer;\n",
              "    display: none;\n",
              "    fill: var(--fill-color);\n",
              "    height: 32px;\n",
              "    padding: 0;\n",
              "    width: 32px;\n",
              "  }\n",
              "\n",
              "  .colab-df-quickchart:hover {\n",
              "    background-color: var(--hover-bg-color);\n",
              "    box-shadow: 0 1px 2px rgba(60, 64, 67, 0.3), 0 1px 3px 1px rgba(60, 64, 67, 0.15);\n",
              "    fill: var(--button-hover-fill-color);\n",
              "  }\n",
              "\n",
              "  .colab-df-quickchart-complete:disabled,\n",
              "  .colab-df-quickchart-complete:disabled:hover {\n",
              "    background-color: var(--disabled-bg-color);\n",
              "    fill: var(--disabled-fill-color);\n",
              "    box-shadow: none;\n",
              "  }\n",
              "\n",
              "  .colab-df-spinner {\n",
              "    border: 2px solid var(--fill-color);\n",
              "    border-color: transparent;\n",
              "    border-bottom-color: var(--fill-color);\n",
              "    animation:\n",
              "      spin 1s steps(1) infinite;\n",
              "  }\n",
              "\n",
              "  @keyframes spin {\n",
              "    0% {\n",
              "      border-color: transparent;\n",
              "      border-bottom-color: var(--fill-color);\n",
              "      border-left-color: var(--fill-color);\n",
              "    }\n",
              "    20% {\n",
              "      border-color: transparent;\n",
              "      border-left-color: var(--fill-color);\n",
              "      border-top-color: var(--fill-color);\n",
              "    }\n",
              "    30% {\n",
              "      border-color: transparent;\n",
              "      border-left-color: var(--fill-color);\n",
              "      border-top-color: var(--fill-color);\n",
              "      border-right-color: var(--fill-color);\n",
              "    }\n",
              "    40% {\n",
              "      border-color: transparent;\n",
              "      border-right-color: var(--fill-color);\n",
              "      border-top-color: var(--fill-color);\n",
              "    }\n",
              "    60% {\n",
              "      border-color: transparent;\n",
              "      border-right-color: var(--fill-color);\n",
              "    }\n",
              "    80% {\n",
              "      border-color: transparent;\n",
              "      border-right-color: var(--fill-color);\n",
              "      border-bottom-color: var(--fill-color);\n",
              "    }\n",
              "    90% {\n",
              "      border-color: transparent;\n",
              "      border-bottom-color: var(--fill-color);\n",
              "    }\n",
              "  }\n",
              "</style>\n",
              "\n",
              "  <script>\n",
              "    async function quickchart(key) {\n",
              "      const quickchartButtonEl =\n",
              "        document.querySelector('#' + key + ' button');\n",
              "      quickchartButtonEl.disabled = true;  // To prevent multiple clicks.\n",
              "      quickchartButtonEl.classList.add('colab-df-spinner');\n",
              "      try {\n",
              "        const charts = await google.colab.kernel.invokeFunction(\n",
              "            'suggestCharts', [key], {});\n",
              "      } catch (error) {\n",
              "        console.error('Error during call to suggestCharts:', error);\n",
              "      }\n",
              "      quickchartButtonEl.classList.remove('colab-df-spinner');\n",
              "      quickchartButtonEl.classList.add('colab-df-quickchart-complete');\n",
              "    }\n",
              "    (() => {\n",
              "      let quickchartButtonEl =\n",
              "        document.querySelector('#df-8f7328c8-e147-473d-8288-429dff0e4d3f button');\n",
              "      quickchartButtonEl.style.display =\n",
              "        google.colab.kernel.accessAllowed ? 'block' : 'none';\n",
              "    })();\n",
              "  </script>\n",
              "</div>\n",
              "    </div>\n",
              "  </div>\n"
            ],
            "text/plain": [
              "  pais_compra           ID Delivery Date    Estado pais_operacao        Dia  \\\n",
              "0   Argentina  A040F320538    2020-11-26  San Luis     Argentina 2016-12-14   \n",
              "1   Argentina  A040F320538    2020-11-26  San Luis     Argentina 2016-12-15   \n",
              "\n",
              "   Horas  Segmento_Agriculture  Segmento_Construction  Segmento_Forestry  \\\n",
              "0    0.0                     0                      0                  0   \n",
              "1    0.0                     0                      0                  0   \n",
              "\n",
              "   Segmento_Industry  Segmento_Mining  Modelo_ART  Modelo_EXC  Modelo_WLO  \\\n",
              "0                  0                1           1           0           0   \n",
              "1                  0                1           1           0           0   \n",
              "\n",
              "   Dealer_Ascendum  Dealer_Dinâmica  Dealer_EPSA  Dealer_Gotemburgo  \\\n",
              "0                0                0            1                  0   \n",
              "1                0                0            1                  0   \n",
              "\n",
              "   Dealer_Linck  Dealer_Tecnoeste  Dealer_Tracbel  Região_Brasil  \\\n",
              "0             0                 0               0              0   \n",
              "1             0                 0               0              0   \n",
              "\n",
              "   Região_Hispânico Norte  Região_Hispânico Sul  \n",
              "0                       0                     1  \n",
              "1                       0                     1  "
            ]
          },
          "execution_count": 36,
          "metadata": {},
          "output_type": "execute_result"
        }
      ],
      "source": [
        "df.head(2)"
      ]
    },
    {
      "cell_type": "markdown",
      "metadata": {
        "id": "RZE2jysF9Ukj"
      },
      "source": [
        "### 6.2 - Método 2: Adicionando médias dos horimetros"
      ]
    },
    {
      "cell_type": "code",
      "execution_count": 37,
      "metadata": {
        "colab": {
          "base_uri": "https://localhost:8080/"
        },
        "id": "iBjCncWZq3NP",
        "outputId": "92e43445-3f45-4482-c3e2-328ac637fe47"
      },
      "outputs": [
        {
          "name": "stderr",
          "output_type": "stream",
          "text": [
            "/usr/local/lib/python3.10/dist-packages/ipykernel/ipkernel.py:283: DeprecationWarning: `should_run_async` will not call `transform_cell` automatically in the future. Please pass the result to `transformed_cell` argument and any exception that happen during thetransform in `preprocessing_exc_tuple` in IPython 7.17 and above.\n",
            "  and should_run_async(code)\n"
          ]
        }
      ],
      "source": [
        "dayOfWeek={0:'Seg', 1:'Ter', 2:'Qua', 3:'Qui', 4:'Sex', 5:'Sab', 6:'Dom'}\n",
        "df2['dia_da_semana'] = df2.Dia.dt.dayofweek.map(dayOfWeek)\n",
        "df2[\"mes\"] = df2.Dia.dt.month"
      ]
    },
    {
      "cell_type": "code",
      "execution_count": 38,
      "metadata": {
        "colab": {
          "base_uri": "https://localhost:8080/",
          "height": 480
        },
        "id": "PyNZcv26NA0k",
        "outputId": "24408609-52da-4996-e22a-9baee7d8d862"
      },
      "outputs": [
        {
          "name": "stderr",
          "output_type": "stream",
          "text": [
            "/usr/local/lib/python3.10/dist-packages/ipykernel/ipkernel.py:283: DeprecationWarning: `should_run_async` will not call `transform_cell` automatically in the future. Please pass the result to `transformed_cell` argument and any exception that happen during thetransform in `preprocessing_exc_tuple` in IPython 7.17 and above.\n",
            "  and should_run_async(code)\n"
          ]
        },
        {
          "data": {
            "text/html": [
              "\n",
              "  <div id=\"df-0b230bb4-dde4-47f6-a1fe-26e5ef1fa748\" class=\"colab-df-container\">\n",
              "    <div>\n",
              "<style scoped>\n",
              "    .dataframe tbody tr th:only-of-type {\n",
              "        vertical-align: middle;\n",
              "    }\n",
              "\n",
              "    .dataframe tbody tr th {\n",
              "        vertical-align: top;\n",
              "    }\n",
              "\n",
              "    .dataframe thead th {\n",
              "        text-align: right;\n",
              "    }\n",
              "</style>\n",
              "<table border=\"1\" class=\"dataframe\">\n",
              "  <thead>\n",
              "    <tr style=\"text-align: right;\">\n",
              "      <th></th>\n",
              "      <th>Modelo</th>\n",
              "      <th>pais_operacao</th>\n",
              "      <th>dia_da_semana</th>\n",
              "      <th>Horas</th>\n",
              "    </tr>\n",
              "  </thead>\n",
              "  <tbody>\n",
              "    <tr>\n",
              "      <th>0</th>\n",
              "      <td>ART</td>\n",
              "      <td>Argentina</td>\n",
              "      <td>Dom</td>\n",
              "      <td>2.076216</td>\n",
              "    </tr>\n",
              "    <tr>\n",
              "      <th>1</th>\n",
              "      <td>ART</td>\n",
              "      <td>Argentina</td>\n",
              "      <td>Qua</td>\n",
              "      <td>7.280186</td>\n",
              "    </tr>\n",
              "    <tr>\n",
              "      <th>2</th>\n",
              "      <td>ART</td>\n",
              "      <td>Argentina</td>\n",
              "      <td>Qui</td>\n",
              "      <td>6.990743</td>\n",
              "    </tr>\n",
              "    <tr>\n",
              "      <th>3</th>\n",
              "      <td>ART</td>\n",
              "      <td>Argentina</td>\n",
              "      <td>Sab</td>\n",
              "      <td>4.979574</td>\n",
              "    </tr>\n",
              "    <tr>\n",
              "      <th>4</th>\n",
              "      <td>ART</td>\n",
              "      <td>Argentina</td>\n",
              "      <td>Seg</td>\n",
              "      <td>4.885679</td>\n",
              "    </tr>\n",
              "    <tr>\n",
              "      <th>...</th>\n",
              "      <td>...</td>\n",
              "      <td>...</td>\n",
              "      <td>...</td>\n",
              "      <td>...</td>\n",
              "    </tr>\n",
              "    <tr>\n",
              "      <th>135</th>\n",
              "      <td>WLO</td>\n",
              "      <td>Sul</td>\n",
              "      <td>Qui</td>\n",
              "      <td>7.747734</td>\n",
              "    </tr>\n",
              "    <tr>\n",
              "      <th>136</th>\n",
              "      <td>WLO</td>\n",
              "      <td>Sul</td>\n",
              "      <td>Sab</td>\n",
              "      <td>3.954848</td>\n",
              "    </tr>\n",
              "    <tr>\n",
              "      <th>137</th>\n",
              "      <td>WLO</td>\n",
              "      <td>Sul</td>\n",
              "      <td>Seg</td>\n",
              "      <td>7.424557</td>\n",
              "    </tr>\n",
              "    <tr>\n",
              "      <th>138</th>\n",
              "      <td>WLO</td>\n",
              "      <td>Sul</td>\n",
              "      <td>Sex</td>\n",
              "      <td>7.789480</td>\n",
              "    </tr>\n",
              "    <tr>\n",
              "      <th>139</th>\n",
              "      <td>WLO</td>\n",
              "      <td>Sul</td>\n",
              "      <td>Ter</td>\n",
              "      <td>7.620857</td>\n",
              "    </tr>\n",
              "  </tbody>\n",
              "</table>\n",
              "<p>140 rows × 4 columns</p>\n",
              "</div>\n",
              "    <div class=\"colab-df-buttons\">\n",
              "\n",
              "  <div class=\"colab-df-container\">\n",
              "    <button class=\"colab-df-convert\" onclick=\"convertToInteractive('df-0b230bb4-dde4-47f6-a1fe-26e5ef1fa748')\"\n",
              "            title=\"Convert this dataframe to an interactive table.\"\n",
              "            style=\"display:none;\">\n",
              "\n",
              "  <svg xmlns=\"http://www.w3.org/2000/svg\" height=\"24px\" viewBox=\"0 -960 960 960\">\n",
              "    <path d=\"M120-120v-720h720v720H120Zm60-500h600v-160H180v160Zm220 220h160v-160H400v160Zm0 220h160v-160H400v160ZM180-400h160v-160H180v160Zm440 0h160v-160H620v160ZM180-180h160v-160H180v160Zm440 0h160v-160H620v160Z\"/>\n",
              "  </svg>\n",
              "    </button>\n",
              "\n",
              "  <style>\n",
              "    .colab-df-container {\n",
              "      display:flex;\n",
              "      gap: 12px;\n",
              "    }\n",
              "\n",
              "    .colab-df-convert {\n",
              "      background-color: #E8F0FE;\n",
              "      border: none;\n",
              "      border-radius: 50%;\n",
              "      cursor: pointer;\n",
              "      display: none;\n",
              "      fill: #1967D2;\n",
              "      height: 32px;\n",
              "      padding: 0 0 0 0;\n",
              "      width: 32px;\n",
              "    }\n",
              "\n",
              "    .colab-df-convert:hover {\n",
              "      background-color: #E2EBFA;\n",
              "      box-shadow: 0px 1px 2px rgba(60, 64, 67, 0.3), 0px 1px 3px 1px rgba(60, 64, 67, 0.15);\n",
              "      fill: #174EA6;\n",
              "    }\n",
              "\n",
              "    .colab-df-buttons div {\n",
              "      margin-bottom: 4px;\n",
              "    }\n",
              "\n",
              "    [theme=dark] .colab-df-convert {\n",
              "      background-color: #3B4455;\n",
              "      fill: #D2E3FC;\n",
              "    }\n",
              "\n",
              "    [theme=dark] .colab-df-convert:hover {\n",
              "      background-color: #434B5C;\n",
              "      box-shadow: 0px 1px 3px 1px rgba(0, 0, 0, 0.15);\n",
              "      filter: drop-shadow(0px 1px 2px rgba(0, 0, 0, 0.3));\n",
              "      fill: #FFFFFF;\n",
              "    }\n",
              "  </style>\n",
              "\n",
              "    <script>\n",
              "      const buttonEl =\n",
              "        document.querySelector('#df-0b230bb4-dde4-47f6-a1fe-26e5ef1fa748 button.colab-df-convert');\n",
              "      buttonEl.style.display =\n",
              "        google.colab.kernel.accessAllowed ? 'block' : 'none';\n",
              "\n",
              "      async function convertToInteractive(key) {\n",
              "        const element = document.querySelector('#df-0b230bb4-dde4-47f6-a1fe-26e5ef1fa748');\n",
              "        const dataTable =\n",
              "          await google.colab.kernel.invokeFunction('convertToInteractive',\n",
              "                                                    [key], {});\n",
              "        if (!dataTable) return;\n",
              "\n",
              "        const docLinkHtml = 'Like what you see? Visit the ' +\n",
              "          '<a target=\"_blank\" href=https://colab.research.google.com/notebooks/data_table.ipynb>data table notebook</a>'\n",
              "          + ' to learn more about interactive tables.';\n",
              "        element.innerHTML = '';\n",
              "        dataTable['output_type'] = 'display_data';\n",
              "        await google.colab.output.renderOutput(dataTable, element);\n",
              "        const docLink = document.createElement('div');\n",
              "        docLink.innerHTML = docLinkHtml;\n",
              "        element.appendChild(docLink);\n",
              "      }\n",
              "    </script>\n",
              "  </div>\n",
              "\n",
              "\n",
              "<div id=\"df-61b62420-b86f-40db-87d6-00124c796782\">\n",
              "  <button class=\"colab-df-quickchart\" onclick=\"quickchart('df-61b62420-b86f-40db-87d6-00124c796782')\"\n",
              "            title=\"Suggest charts.\"\n",
              "            style=\"display:none;\">\n",
              "\n",
              "<svg xmlns=\"http://www.w3.org/2000/svg\" height=\"24px\"viewBox=\"0 0 24 24\"\n",
              "     width=\"24px\">\n",
              "    <g>\n",
              "        <path d=\"M19 3H5c-1.1 0-2 .9-2 2v14c0 1.1.9 2 2 2h14c1.1 0 2-.9 2-2V5c0-1.1-.9-2-2-2zM9 17H7v-7h2v7zm4 0h-2V7h2v10zm4 0h-2v-4h2v4z\"/>\n",
              "    </g>\n",
              "</svg>\n",
              "  </button>\n",
              "\n",
              "<style>\n",
              "  .colab-df-quickchart {\n",
              "      --bg-color: #E8F0FE;\n",
              "      --fill-color: #1967D2;\n",
              "      --hover-bg-color: #E2EBFA;\n",
              "      --hover-fill-color: #174EA6;\n",
              "      --disabled-fill-color: #AAA;\n",
              "      --disabled-bg-color: #DDD;\n",
              "  }\n",
              "\n",
              "  [theme=dark] .colab-df-quickchart {\n",
              "      --bg-color: #3B4455;\n",
              "      --fill-color: #D2E3FC;\n",
              "      --hover-bg-color: #434B5C;\n",
              "      --hover-fill-color: #FFFFFF;\n",
              "      --disabled-bg-color: #3B4455;\n",
              "      --disabled-fill-color: #666;\n",
              "  }\n",
              "\n",
              "  .colab-df-quickchart {\n",
              "    background-color: var(--bg-color);\n",
              "    border: none;\n",
              "    border-radius: 50%;\n",
              "    cursor: pointer;\n",
              "    display: none;\n",
              "    fill: var(--fill-color);\n",
              "    height: 32px;\n",
              "    padding: 0;\n",
              "    width: 32px;\n",
              "  }\n",
              "\n",
              "  .colab-df-quickchart:hover {\n",
              "    background-color: var(--hover-bg-color);\n",
              "    box-shadow: 0 1px 2px rgba(60, 64, 67, 0.3), 0 1px 3px 1px rgba(60, 64, 67, 0.15);\n",
              "    fill: var(--button-hover-fill-color);\n",
              "  }\n",
              "\n",
              "  .colab-df-quickchart-complete:disabled,\n",
              "  .colab-df-quickchart-complete:disabled:hover {\n",
              "    background-color: var(--disabled-bg-color);\n",
              "    fill: var(--disabled-fill-color);\n",
              "    box-shadow: none;\n",
              "  }\n",
              "\n",
              "  .colab-df-spinner {\n",
              "    border: 2px solid var(--fill-color);\n",
              "    border-color: transparent;\n",
              "    border-bottom-color: var(--fill-color);\n",
              "    animation:\n",
              "      spin 1s steps(1) infinite;\n",
              "  }\n",
              "\n",
              "  @keyframes spin {\n",
              "    0% {\n",
              "      border-color: transparent;\n",
              "      border-bottom-color: var(--fill-color);\n",
              "      border-left-color: var(--fill-color);\n",
              "    }\n",
              "    20% {\n",
              "      border-color: transparent;\n",
              "      border-left-color: var(--fill-color);\n",
              "      border-top-color: var(--fill-color);\n",
              "    }\n",
              "    30% {\n",
              "      border-color: transparent;\n",
              "      border-left-color: var(--fill-color);\n",
              "      border-top-color: var(--fill-color);\n",
              "      border-right-color: var(--fill-color);\n",
              "    }\n",
              "    40% {\n",
              "      border-color: transparent;\n",
              "      border-right-color: var(--fill-color);\n",
              "      border-top-color: var(--fill-color);\n",
              "    }\n",
              "    60% {\n",
              "      border-color: transparent;\n",
              "      border-right-color: var(--fill-color);\n",
              "    }\n",
              "    80% {\n",
              "      border-color: transparent;\n",
              "      border-right-color: var(--fill-color);\n",
              "      border-bottom-color: var(--fill-color);\n",
              "    }\n",
              "    90% {\n",
              "      border-color: transparent;\n",
              "      border-bottom-color: var(--fill-color);\n",
              "    }\n",
              "  }\n",
              "</style>\n",
              "\n",
              "  <script>\n",
              "    async function quickchart(key) {\n",
              "      const quickchartButtonEl =\n",
              "        document.querySelector('#' + key + ' button');\n",
              "      quickchartButtonEl.disabled = true;  // To prevent multiple clicks.\n",
              "      quickchartButtonEl.classList.add('colab-df-spinner');\n",
              "      try {\n",
              "        const charts = await google.colab.kernel.invokeFunction(\n",
              "            'suggestCharts', [key], {});\n",
              "      } catch (error) {\n",
              "        console.error('Error during call to suggestCharts:', error);\n",
              "      }\n",
              "      quickchartButtonEl.classList.remove('colab-df-spinner');\n",
              "      quickchartButtonEl.classList.add('colab-df-quickchart-complete');\n",
              "    }\n",
              "    (() => {\n",
              "      let quickchartButtonEl =\n",
              "        document.querySelector('#df-61b62420-b86f-40db-87d6-00124c796782 button');\n",
              "      quickchartButtonEl.style.display =\n",
              "        google.colab.kernel.accessAllowed ? 'block' : 'none';\n",
              "    })();\n",
              "  </script>\n",
              "</div>\n",
              "    </div>\n",
              "  </div>\n"
            ],
            "text/plain": [
              "    Modelo pais_operacao dia_da_semana     Horas\n",
              "0      ART     Argentina           Dom  2.076216\n",
              "1      ART     Argentina           Qua  7.280186\n",
              "2      ART     Argentina           Qui  6.990743\n",
              "3      ART     Argentina           Sab  4.979574\n",
              "4      ART     Argentina           Seg  4.885679\n",
              "..     ...           ...           ...       ...\n",
              "135    WLO           Sul           Qui  7.747734\n",
              "136    WLO           Sul           Sab  3.954848\n",
              "137    WLO           Sul           Seg  7.424557\n",
              "138    WLO           Sul           Sex  7.789480\n",
              "139    WLO           Sul           Ter  7.620857\n",
              "\n",
              "[140 rows x 4 columns]"
            ]
          },
          "execution_count": 38,
          "metadata": {},
          "output_type": "execute_result"
        }
      ],
      "source": [
        "df2.groupby(['Modelo',\"pais_operacao\",\"dia_da_semana\"])[[\"Horas\"]].mean().reset_index()"
      ]
    },
    {
      "cell_type": "code",
      "execution_count": 39,
      "metadata": {
        "colab": {
          "base_uri": "https://localhost:8080/",
          "height": 480
        },
        "id": "iQEVbaWhsiZ9",
        "outputId": "c090dfb5-1746-4c79-e230-ec13f920c1fb"
      },
      "outputs": [
        {
          "name": "stderr",
          "output_type": "stream",
          "text": [
            "/usr/local/lib/python3.10/dist-packages/ipykernel/ipkernel.py:283: DeprecationWarning: `should_run_async` will not call `transform_cell` automatically in the future. Please pass the result to `transformed_cell` argument and any exception that happen during thetransform in `preprocessing_exc_tuple` in IPython 7.17 and above.\n",
            "  and should_run_async(code)\n"
          ]
        },
        {
          "data": {
            "text/html": [
              "\n",
              "  <div id=\"df-6b64a4a3-19ac-489b-8dc4-cc77aa73b614\" class=\"colab-df-container\">\n",
              "    <div>\n",
              "<style scoped>\n",
              "    .dataframe tbody tr th:only-of-type {\n",
              "        vertical-align: middle;\n",
              "    }\n",
              "\n",
              "    .dataframe tbody tr th {\n",
              "        vertical-align: top;\n",
              "    }\n",
              "\n",
              "    .dataframe thead th {\n",
              "        text-align: right;\n",
              "    }\n",
              "</style>\n",
              "<table border=\"1\" class=\"dataframe\">\n",
              "  <thead>\n",
              "    <tr style=\"text-align: right;\">\n",
              "      <th></th>\n",
              "      <th>ID</th>\n",
              "      <th>dia_da_semana</th>\n",
              "      <th>Horas</th>\n",
              "    </tr>\n",
              "  </thead>\n",
              "  <tbody>\n",
              "    <tr>\n",
              "      <th>0</th>\n",
              "      <td>A030F720057</td>\n",
              "      <td>Dom</td>\n",
              "      <td>1.400040</td>\n",
              "    </tr>\n",
              "    <tr>\n",
              "      <th>1</th>\n",
              "      <td>A030F720057</td>\n",
              "      <td>Qua</td>\n",
              "      <td>9.219244</td>\n",
              "    </tr>\n",
              "    <tr>\n",
              "      <th>2</th>\n",
              "      <td>A030F720057</td>\n",
              "      <td>Qui</td>\n",
              "      <td>9.591219</td>\n",
              "    </tr>\n",
              "    <tr>\n",
              "      <th>3</th>\n",
              "      <td>A030F720057</td>\n",
              "      <td>Sab</td>\n",
              "      <td>4.725538</td>\n",
              "    </tr>\n",
              "    <tr>\n",
              "      <th>4</th>\n",
              "      <td>A030F720057</td>\n",
              "      <td>Seg</td>\n",
              "      <td>6.170583</td>\n",
              "    </tr>\n",
              "    <tr>\n",
              "      <th>...</th>\n",
              "      <td>...</td>\n",
              "      <td>...</td>\n",
              "      <td>...</td>\n",
              "    </tr>\n",
              "    <tr>\n",
              "      <th>429</th>\n",
              "      <td>L60F074213</td>\n",
              "      <td>Qui</td>\n",
              "      <td>8.481739</td>\n",
              "    </tr>\n",
              "    <tr>\n",
              "      <th>430</th>\n",
              "      <td>L60F074213</td>\n",
              "      <td>Sab</td>\n",
              "      <td>5.934783</td>\n",
              "    </tr>\n",
              "    <tr>\n",
              "      <th>431</th>\n",
              "      <td>L60F074213</td>\n",
              "      <td>Seg</td>\n",
              "      <td>5.556897</td>\n",
              "    </tr>\n",
              "    <tr>\n",
              "      <th>432</th>\n",
              "      <td>L60F074213</td>\n",
              "      <td>Sex</td>\n",
              "      <td>8.137391</td>\n",
              "    </tr>\n",
              "    <tr>\n",
              "      <th>433</th>\n",
              "      <td>L60F074213</td>\n",
              "      <td>Ter</td>\n",
              "      <td>8.051724</td>\n",
              "    </tr>\n",
              "  </tbody>\n",
              "</table>\n",
              "<p>434 rows × 3 columns</p>\n",
              "</div>\n",
              "    <div class=\"colab-df-buttons\">\n",
              "\n",
              "  <div class=\"colab-df-container\">\n",
              "    <button class=\"colab-df-convert\" onclick=\"convertToInteractive('df-6b64a4a3-19ac-489b-8dc4-cc77aa73b614')\"\n",
              "            title=\"Convert this dataframe to an interactive table.\"\n",
              "            style=\"display:none;\">\n",
              "\n",
              "  <svg xmlns=\"http://www.w3.org/2000/svg\" height=\"24px\" viewBox=\"0 -960 960 960\">\n",
              "    <path d=\"M120-120v-720h720v720H120Zm60-500h600v-160H180v160Zm220 220h160v-160H400v160Zm0 220h160v-160H400v160ZM180-400h160v-160H180v160Zm440 0h160v-160H620v160ZM180-180h160v-160H180v160Zm440 0h160v-160H620v160Z\"/>\n",
              "  </svg>\n",
              "    </button>\n",
              "\n",
              "  <style>\n",
              "    .colab-df-container {\n",
              "      display:flex;\n",
              "      gap: 12px;\n",
              "    }\n",
              "\n",
              "    .colab-df-convert {\n",
              "      background-color: #E8F0FE;\n",
              "      border: none;\n",
              "      border-radius: 50%;\n",
              "      cursor: pointer;\n",
              "      display: none;\n",
              "      fill: #1967D2;\n",
              "      height: 32px;\n",
              "      padding: 0 0 0 0;\n",
              "      width: 32px;\n",
              "    }\n",
              "\n",
              "    .colab-df-convert:hover {\n",
              "      background-color: #E2EBFA;\n",
              "      box-shadow: 0px 1px 2px rgba(60, 64, 67, 0.3), 0px 1px 3px 1px rgba(60, 64, 67, 0.15);\n",
              "      fill: #174EA6;\n",
              "    }\n",
              "\n",
              "    .colab-df-buttons div {\n",
              "      margin-bottom: 4px;\n",
              "    }\n",
              "\n",
              "    [theme=dark] .colab-df-convert {\n",
              "      background-color: #3B4455;\n",
              "      fill: #D2E3FC;\n",
              "    }\n",
              "\n",
              "    [theme=dark] .colab-df-convert:hover {\n",
              "      background-color: #434B5C;\n",
              "      box-shadow: 0px 1px 3px 1px rgba(0, 0, 0, 0.15);\n",
              "      filter: drop-shadow(0px 1px 2px rgba(0, 0, 0, 0.3));\n",
              "      fill: #FFFFFF;\n",
              "    }\n",
              "  </style>\n",
              "\n",
              "    <script>\n",
              "      const buttonEl =\n",
              "        document.querySelector('#df-6b64a4a3-19ac-489b-8dc4-cc77aa73b614 button.colab-df-convert');\n",
              "      buttonEl.style.display =\n",
              "        google.colab.kernel.accessAllowed ? 'block' : 'none';\n",
              "\n",
              "      async function convertToInteractive(key) {\n",
              "        const element = document.querySelector('#df-6b64a4a3-19ac-489b-8dc4-cc77aa73b614');\n",
              "        const dataTable =\n",
              "          await google.colab.kernel.invokeFunction('convertToInteractive',\n",
              "                                                    [key], {});\n",
              "        if (!dataTable) return;\n",
              "\n",
              "        const docLinkHtml = 'Like what you see? Visit the ' +\n",
              "          '<a target=\"_blank\" href=https://colab.research.google.com/notebooks/data_table.ipynb>data table notebook</a>'\n",
              "          + ' to learn more about interactive tables.';\n",
              "        element.innerHTML = '';\n",
              "        dataTable['output_type'] = 'display_data';\n",
              "        await google.colab.output.renderOutput(dataTable, element);\n",
              "        const docLink = document.createElement('div');\n",
              "        docLink.innerHTML = docLinkHtml;\n",
              "        element.appendChild(docLink);\n",
              "      }\n",
              "    </script>\n",
              "  </div>\n",
              "\n",
              "\n",
              "<div id=\"df-05ba2c9a-75a6-4957-ba0d-b7d58bdb9bcb\">\n",
              "  <button class=\"colab-df-quickchart\" onclick=\"quickchart('df-05ba2c9a-75a6-4957-ba0d-b7d58bdb9bcb')\"\n",
              "            title=\"Suggest charts.\"\n",
              "            style=\"display:none;\">\n",
              "\n",
              "<svg xmlns=\"http://www.w3.org/2000/svg\" height=\"24px\"viewBox=\"0 0 24 24\"\n",
              "     width=\"24px\">\n",
              "    <g>\n",
              "        <path d=\"M19 3H5c-1.1 0-2 .9-2 2v14c0 1.1.9 2 2 2h14c1.1 0 2-.9 2-2V5c0-1.1-.9-2-2-2zM9 17H7v-7h2v7zm4 0h-2V7h2v10zm4 0h-2v-4h2v4z\"/>\n",
              "    </g>\n",
              "</svg>\n",
              "  </button>\n",
              "\n",
              "<style>\n",
              "  .colab-df-quickchart {\n",
              "      --bg-color: #E8F0FE;\n",
              "      --fill-color: #1967D2;\n",
              "      --hover-bg-color: #E2EBFA;\n",
              "      --hover-fill-color: #174EA6;\n",
              "      --disabled-fill-color: #AAA;\n",
              "      --disabled-bg-color: #DDD;\n",
              "  }\n",
              "\n",
              "  [theme=dark] .colab-df-quickchart {\n",
              "      --bg-color: #3B4455;\n",
              "      --fill-color: #D2E3FC;\n",
              "      --hover-bg-color: #434B5C;\n",
              "      --hover-fill-color: #FFFFFF;\n",
              "      --disabled-bg-color: #3B4455;\n",
              "      --disabled-fill-color: #666;\n",
              "  }\n",
              "\n",
              "  .colab-df-quickchart {\n",
              "    background-color: var(--bg-color);\n",
              "    border: none;\n",
              "    border-radius: 50%;\n",
              "    cursor: pointer;\n",
              "    display: none;\n",
              "    fill: var(--fill-color);\n",
              "    height: 32px;\n",
              "    padding: 0;\n",
              "    width: 32px;\n",
              "  }\n",
              "\n",
              "  .colab-df-quickchart:hover {\n",
              "    background-color: var(--hover-bg-color);\n",
              "    box-shadow: 0 1px 2px rgba(60, 64, 67, 0.3), 0 1px 3px 1px rgba(60, 64, 67, 0.15);\n",
              "    fill: var(--button-hover-fill-color);\n",
              "  }\n",
              "\n",
              "  .colab-df-quickchart-complete:disabled,\n",
              "  .colab-df-quickchart-complete:disabled:hover {\n",
              "    background-color: var(--disabled-bg-color);\n",
              "    fill: var(--disabled-fill-color);\n",
              "    box-shadow: none;\n",
              "  }\n",
              "\n",
              "  .colab-df-spinner {\n",
              "    border: 2px solid var(--fill-color);\n",
              "    border-color: transparent;\n",
              "    border-bottom-color: var(--fill-color);\n",
              "    animation:\n",
              "      spin 1s steps(1) infinite;\n",
              "  }\n",
              "\n",
              "  @keyframes spin {\n",
              "    0% {\n",
              "      border-color: transparent;\n",
              "      border-bottom-color: var(--fill-color);\n",
              "      border-left-color: var(--fill-color);\n",
              "    }\n",
              "    20% {\n",
              "      border-color: transparent;\n",
              "      border-left-color: var(--fill-color);\n",
              "      border-top-color: var(--fill-color);\n",
              "    }\n",
              "    30% {\n",
              "      border-color: transparent;\n",
              "      border-left-color: var(--fill-color);\n",
              "      border-top-color: var(--fill-color);\n",
              "      border-right-color: var(--fill-color);\n",
              "    }\n",
              "    40% {\n",
              "      border-color: transparent;\n",
              "      border-right-color: var(--fill-color);\n",
              "      border-top-color: var(--fill-color);\n",
              "    }\n",
              "    60% {\n",
              "      border-color: transparent;\n",
              "      border-right-color: var(--fill-color);\n",
              "    }\n",
              "    80% {\n",
              "      border-color: transparent;\n",
              "      border-right-color: var(--fill-color);\n",
              "      border-bottom-color: var(--fill-color);\n",
              "    }\n",
              "    90% {\n",
              "      border-color: transparent;\n",
              "      border-bottom-color: var(--fill-color);\n",
              "    }\n",
              "  }\n",
              "</style>\n",
              "\n",
              "  <script>\n",
              "    async function quickchart(key) {\n",
              "      const quickchartButtonEl =\n",
              "        document.querySelector('#' + key + ' button');\n",
              "      quickchartButtonEl.disabled = true;  // To prevent multiple clicks.\n",
              "      quickchartButtonEl.classList.add('colab-df-spinner');\n",
              "      try {\n",
              "        const charts = await google.colab.kernel.invokeFunction(\n",
              "            'suggestCharts', [key], {});\n",
              "      } catch (error) {\n",
              "        console.error('Error during call to suggestCharts:', error);\n",
              "      }\n",
              "      quickchartButtonEl.classList.remove('colab-df-spinner');\n",
              "      quickchartButtonEl.classList.add('colab-df-quickchart-complete');\n",
              "    }\n",
              "    (() => {\n",
              "      let quickchartButtonEl =\n",
              "        document.querySelector('#df-05ba2c9a-75a6-4957-ba0d-b7d58bdb9bcb button');\n",
              "      quickchartButtonEl.style.display =\n",
              "        google.colab.kernel.accessAllowed ? 'block' : 'none';\n",
              "    })();\n",
              "  </script>\n",
              "</div>\n",
              "    </div>\n",
              "  </div>\n"
            ],
            "text/plain": [
              "              ID dia_da_semana     Horas\n",
              "0    A030F720057           Dom  1.400040\n",
              "1    A030F720057           Qua  9.219244\n",
              "2    A030F720057           Qui  9.591219\n",
              "3    A030F720057           Sab  4.725538\n",
              "4    A030F720057           Seg  6.170583\n",
              "..           ...           ...       ...\n",
              "429   L60F074213           Qui  8.481739\n",
              "430   L60F074213           Sab  5.934783\n",
              "431   L60F074213           Seg  5.556897\n",
              "432   L60F074213           Sex  8.137391\n",
              "433   L60F074213           Ter  8.051724\n",
              "\n",
              "[434 rows x 3 columns]"
            ]
          },
          "execution_count": 39,
          "metadata": {},
          "output_type": "execute_result"
        }
      ],
      "source": [
        "df2.groupby(['ID',\"dia_da_semana\"])[[\"Horas\"]].mean().reset_index()"
      ]
    },
    {
      "cell_type": "code",
      "execution_count": 40,
      "metadata": {
        "colab": {
          "base_uri": "https://localhost:8080/"
        },
        "id": "1vkrOAWF7Cjg",
        "outputId": "5dfa68f3-5020-4f8d-abfa-15c97d29d5f4"
      },
      "outputs": [
        {
          "name": "stderr",
          "output_type": "stream",
          "text": [
            "/usr/local/lib/python3.10/dist-packages/ipykernel/ipkernel.py:283: DeprecationWarning: `should_run_async` will not call `transform_cell` automatically in the future. Please pass the result to `transformed_cell` argument and any exception that happen during thetransform in `preprocessing_exc_tuple` in IPython 7.17 and above.\n",
            "  and should_run_async(code)\n"
          ]
        }
      ],
      "source": [
        "# Seleciona as colunas para o loop for\n",
        "cols = [\"Região\",\"Dealer\",\"Segmento\",\"Modelo\"]\n",
        "\n",
        "# Coluna que será feito o calculo\n",
        "agg = [\"Horas\"]\n",
        "\n",
        "# Métricas\n",
        "func = ['mean',\"min\",\"max\",'median']"
      ]
    },
    {
      "cell_type": "code",
      "execution_count": 41,
      "metadata": {
        "colab": {
          "base_uri": "https://localhost:8080/"
        },
        "id": "y9jeW4Exu4B2",
        "outputId": "5e8c3686-053b-4447-e6e6-3ad5f47d2a0d"
      },
      "outputs": [
        {
          "name": "stderr",
          "output_type": "stream",
          "text": [
            "/usr/local/lib/python3.10/dist-packages/ipykernel/ipkernel.py:283: DeprecationWarning: `should_run_async` will not call `transform_cell` automatically in the future. Please pass the result to `transformed_cell` argument and any exception that happen during thetransform in `preprocessing_exc_tuple` in IPython 7.17 and above.\n",
            "  and should_run_async(code)\n",
            "/usr/local/lib/python3.10/dist-packages/pandas_flavor/register.py:157: FutureWarning: This function will be deprecated in a 1.x release. Please use `janitor.transform_column` instead.\n",
            "  return method(self._obj, *args, **kwargs)\n",
            "/usr/local/lib/python3.10/dist-packages/pandas_flavor/register.py:157: FutureWarning: This function will be deprecated in a 1.x release. Please use `janitor.transform_column` instead.\n",
            "  return method(self._obj, *args, **kwargs)\n",
            "/usr/local/lib/python3.10/dist-packages/pandas_flavor/register.py:157: FutureWarning: This function will be deprecated in a 1.x release. Please use `janitor.transform_column` instead.\n",
            "  return method(self._obj, *args, **kwargs)\n",
            "/usr/local/lib/python3.10/dist-packages/pandas_flavor/register.py:157: FutureWarning: This function will be deprecated in a 1.x release. Please use `janitor.transform_column` instead.\n",
            "  return method(self._obj, *args, **kwargs)\n",
            "/usr/local/lib/python3.10/dist-packages/pandas_flavor/register.py:157: FutureWarning: This function will be deprecated in a 1.x release. Please use `janitor.transform_column` instead.\n",
            "  return method(self._obj, *args, **kwargs)\n",
            "/usr/local/lib/python3.10/dist-packages/pandas_flavor/register.py:157: FutureWarning: This function will be deprecated in a 1.x release. Please use `janitor.transform_column` instead.\n",
            "  return method(self._obj, *args, **kwargs)\n",
            "/usr/local/lib/python3.10/dist-packages/pandas_flavor/register.py:157: FutureWarning: This function will be deprecated in a 1.x release. Please use `janitor.transform_column` instead.\n",
            "  return method(self._obj, *args, **kwargs)\n",
            "/usr/local/lib/python3.10/dist-packages/pandas_flavor/register.py:157: FutureWarning: This function will be deprecated in a 1.x release. Please use `janitor.transform_column` instead.\n",
            "  return method(self._obj, *args, **kwargs)\n",
            "/usr/local/lib/python3.10/dist-packages/pandas_flavor/register.py:157: FutureWarning: This function will be deprecated in a 1.x release. Please use `janitor.transform_column` instead.\n",
            "  return method(self._obj, *args, **kwargs)\n",
            "/usr/local/lib/python3.10/dist-packages/pandas_flavor/register.py:157: FutureWarning: This function will be deprecated in a 1.x release. Please use `janitor.transform_column` instead.\n",
            "  return method(self._obj, *args, **kwargs)\n",
            "/usr/local/lib/python3.10/dist-packages/pandas_flavor/register.py:157: FutureWarning: This function will be deprecated in a 1.x release. Please use `janitor.transform_column` instead.\n",
            "  return method(self._obj, *args, **kwargs)\n",
            "/usr/local/lib/python3.10/dist-packages/pandas_flavor/register.py:157: FutureWarning: This function will be deprecated in a 1.x release. Please use `janitor.transform_column` instead.\n",
            "  return method(self._obj, *args, **kwargs)\n",
            "/usr/local/lib/python3.10/dist-packages/pandas_flavor/register.py:157: FutureWarning: This function will be deprecated in a 1.x release. Please use `janitor.transform_column` instead.\n",
            "  return method(self._obj, *args, **kwargs)\n",
            "/usr/local/lib/python3.10/dist-packages/pandas_flavor/register.py:157: FutureWarning: This function will be deprecated in a 1.x release. Please use `janitor.transform_column` instead.\n",
            "  return method(self._obj, *args, **kwargs)\n",
            "/usr/local/lib/python3.10/dist-packages/pandas_flavor/register.py:157: FutureWarning: This function will be deprecated in a 1.x release. Please use `janitor.transform_column` instead.\n",
            "  return method(self._obj, *args, **kwargs)\n",
            "/usr/local/lib/python3.10/dist-packages/pandas_flavor/register.py:157: FutureWarning: This function will be deprecated in a 1.x release. Please use `janitor.transform_column` instead.\n",
            "  return method(self._obj, *args, **kwargs)\n"
          ]
        }
      ],
      "source": [
        "for col in cols:\n",
        "  for fun in func:\n",
        "    df2 = df2.groupby_agg(by = [col,\"dia_da_semana\",\"ID\",],\n",
        "                        agg = fun,\n",
        "                        agg_column_name = [\"Horas\"],\n",
        "                        new_column_name = f'{col}_{fun}_Horas')"
      ]
    },
    {
      "cell_type": "code",
      "execution_count": 42,
      "metadata": {
        "colab": {
          "base_uri": "https://localhost:8080/"
        },
        "id": "GmyoNTpdHSNN",
        "outputId": "b2dc331b-d9d1-4fa0-d065-c7d9efd5a202"
      },
      "outputs": [
        {
          "name": "stderr",
          "output_type": "stream",
          "text": [
            "/usr/local/lib/python3.10/dist-packages/ipykernel/ipkernel.py:283: DeprecationWarning: `should_run_async` will not call `transform_cell` automatically in the future. Please pass the result to `transformed_cell` argument and any exception that happen during thetransform in `preprocessing_exc_tuple` in IPython 7.17 and above.\n",
            "  and should_run_async(code)\n",
            "/usr/local/lib/python3.10/dist-packages/pandas_flavor/register.py:157: FutureWarning: This function will be deprecated in a 1.x release. Please use `janitor.transform_column` instead.\n",
            "  return method(self._obj, *args, **kwargs)\n",
            "/usr/local/lib/python3.10/dist-packages/pandas_flavor/register.py:157: FutureWarning: This function will be deprecated in a 1.x release. Please use `janitor.transform_column` instead.\n",
            "  return method(self._obj, *args, **kwargs)\n",
            "/usr/local/lib/python3.10/dist-packages/pandas_flavor/register.py:157: FutureWarning: This function will be deprecated in a 1.x release. Please use `janitor.transform_column` instead.\n",
            "  return method(self._obj, *args, **kwargs)\n",
            "/usr/local/lib/python3.10/dist-packages/pandas_flavor/register.py:157: FutureWarning: This function will be deprecated in a 1.x release. Please use `janitor.transform_column` instead.\n",
            "  return method(self._obj, *args, **kwargs)\n",
            "/usr/local/lib/python3.10/dist-packages/pandas_flavor/register.py:157: FutureWarning: This function will be deprecated in a 1.x release. Please use `janitor.transform_column` instead.\n",
            "  return method(self._obj, *args, **kwargs)\n",
            "/usr/local/lib/python3.10/dist-packages/pandas_flavor/register.py:157: FutureWarning: This function will be deprecated in a 1.x release. Please use `janitor.transform_column` instead.\n",
            "  return method(self._obj, *args, **kwargs)\n",
            "/usr/local/lib/python3.10/dist-packages/pandas_flavor/register.py:157: FutureWarning: This function will be deprecated in a 1.x release. Please use `janitor.transform_column` instead.\n",
            "  return method(self._obj, *args, **kwargs)\n",
            "/usr/local/lib/python3.10/dist-packages/pandas_flavor/register.py:157: FutureWarning: This function will be deprecated in a 1.x release. Please use `janitor.transform_column` instead.\n",
            "  return method(self._obj, *args, **kwargs)\n",
            "/usr/local/lib/python3.10/dist-packages/pandas_flavor/register.py:157: FutureWarning: This function will be deprecated in a 1.x release. Please use `janitor.transform_column` instead.\n",
            "  return method(self._obj, *args, **kwargs)\n",
            "/usr/local/lib/python3.10/dist-packages/pandas_flavor/register.py:157: FutureWarning: This function will be deprecated in a 1.x release. Please use `janitor.transform_column` instead.\n",
            "  return method(self._obj, *args, **kwargs)\n",
            "/usr/local/lib/python3.10/dist-packages/pandas_flavor/register.py:157: FutureWarning: This function will be deprecated in a 1.x release. Please use `janitor.transform_column` instead.\n",
            "  return method(self._obj, *args, **kwargs)\n",
            "/usr/local/lib/python3.10/dist-packages/pandas_flavor/register.py:157: FutureWarning: This function will be deprecated in a 1.x release. Please use `janitor.transform_column` instead.\n",
            "  return method(self._obj, *args, **kwargs)\n",
            "/usr/local/lib/python3.10/dist-packages/pandas_flavor/register.py:157: FutureWarning: This function will be deprecated in a 1.x release. Please use `janitor.transform_column` instead.\n",
            "  return method(self._obj, *args, **kwargs)\n",
            "/usr/local/lib/python3.10/dist-packages/pandas_flavor/register.py:157: FutureWarning: This function will be deprecated in a 1.x release. Please use `janitor.transform_column` instead.\n",
            "  return method(self._obj, *args, **kwargs)\n",
            "/usr/local/lib/python3.10/dist-packages/pandas_flavor/register.py:157: FutureWarning: This function will be deprecated in a 1.x release. Please use `janitor.transform_column` instead.\n",
            "  return method(self._obj, *args, **kwargs)\n",
            "/usr/local/lib/python3.10/dist-packages/pandas_flavor/register.py:157: FutureWarning: This function will be deprecated in a 1.x release. Please use `janitor.transform_column` instead.\n",
            "  return method(self._obj, *args, **kwargs)\n"
          ]
        }
      ],
      "source": [
        "for col in cols:\n",
        "  for fun in func:\n",
        "    df2 = df2.groupby_agg(by = [\"ID\", col, \"dia_da_semana\"],\n",
        "                        agg = fun,\n",
        "                        agg_column_name = [\"Horas\"],\n",
        "                        new_column_name = f'{col}_{fun}_Horas')"
      ]
    },
    {
      "cell_type": "code",
      "execution_count": 43,
      "metadata": {
        "colab": {
          "base_uri": "https://localhost:8080/"
        },
        "id": "g2NyoW60XnDn",
        "outputId": "4a894fb8-ff88-4000-c3e5-5d13f6366403"
      },
      "outputs": [
        {
          "name": "stderr",
          "output_type": "stream",
          "text": [
            "/usr/local/lib/python3.10/dist-packages/ipykernel/ipkernel.py:283: DeprecationWarning: `should_run_async` will not call `transform_cell` automatically in the future. Please pass the result to `transformed_cell` argument and any exception that happen during thetransform in `preprocessing_exc_tuple` in IPython 7.17 and above.\n",
            "  and should_run_async(code)\n"
          ]
        }
      ],
      "source": [
        "# verificando as correções, porém com o gráfica fica pouca visualização\n",
        "#sns.heatmap(df2.corr(), annot=True);"
      ]
    },
    {
      "cell_type": "code",
      "execution_count": 44,
      "metadata": {
        "colab": {
          "base_uri": "https://localhost:8080/"
        },
        "id": "lZkyYKqbxkrN",
        "outputId": "b2ae94d8-c3df-4d24-a5b6-9d3b82aae370"
      },
      "outputs": [
        {
          "name": "stderr",
          "output_type": "stream",
          "text": [
            "/usr/local/lib/python3.10/dist-packages/ipykernel/ipkernel.py:283: DeprecationWarning: `should_run_async` will not call `transform_cell` automatically in the future. Please pass the result to `transformed_cell` argument and any exception that happen during thetransform in `preprocessing_exc_tuple` in IPython 7.17 and above.\n",
            "  and should_run_async(code)\n"
          ]
        }
      ],
      "source": [
        "# apagando os dados vazios\n",
        "df2 = df2.dropna()"
      ]
    },
    {
      "cell_type": "code",
      "execution_count": 45,
      "metadata": {
        "colab": {
          "base_uri": "https://localhost:8080/",
          "height": 221
        },
        "id": "8epRymgg09du",
        "outputId": "e32f80a6-3f5a-4da7-9d12-02b2e955306e"
      },
      "outputs": [
        {
          "name": "stderr",
          "output_type": "stream",
          "text": [
            "/usr/local/lib/python3.10/dist-packages/ipykernel/ipkernel.py:283: DeprecationWarning: `should_run_async` will not call `transform_cell` automatically in the future. Please pass the result to `transformed_cell` argument and any exception that happen during thetransform in `preprocessing_exc_tuple` in IPython 7.17 and above.\n",
            "  and should_run_async(code)\n"
          ]
        },
        {
          "data": {
            "text/html": [
              "\n",
              "  <div id=\"df-4b468069-6664-4d38-8259-734f402ac1fd\" class=\"colab-df-container\">\n",
              "    <div>\n",
              "<style scoped>\n",
              "    .dataframe tbody tr th:only-of-type {\n",
              "        vertical-align: middle;\n",
              "    }\n",
              "\n",
              "    .dataframe tbody tr th {\n",
              "        vertical-align: top;\n",
              "    }\n",
              "\n",
              "    .dataframe thead th {\n",
              "        text-align: right;\n",
              "    }\n",
              "</style>\n",
              "<table border=\"1\" class=\"dataframe\">\n",
              "  <thead>\n",
              "    <tr style=\"text-align: right;\">\n",
              "      <th></th>\n",
              "      <th>Região</th>\n",
              "      <th>pais_compra</th>\n",
              "      <th>Dealer</th>\n",
              "      <th>Segmento</th>\n",
              "      <th>Modelo</th>\n",
              "      <th>ID</th>\n",
              "      <th>Delivery Date</th>\n",
              "      <th>Estado</th>\n",
              "      <th>pais_operacao</th>\n",
              "      <th>Dia</th>\n",
              "      <th>Horas</th>\n",
              "      <th>dia_da_semana</th>\n",
              "      <th>mes</th>\n",
              "      <th>Região_mean_Horas</th>\n",
              "      <th>Região_min_Horas</th>\n",
              "      <th>Região_max_Horas</th>\n",
              "      <th>Região_median_Horas</th>\n",
              "      <th>Dealer_mean_Horas</th>\n",
              "      <th>Dealer_min_Horas</th>\n",
              "      <th>Dealer_max_Horas</th>\n",
              "      <th>Dealer_median_Horas</th>\n",
              "      <th>Segmento_mean_Horas</th>\n",
              "      <th>Segmento_min_Horas</th>\n",
              "      <th>Segmento_max_Horas</th>\n",
              "      <th>Segmento_median_Horas</th>\n",
              "      <th>Modelo_mean_Horas</th>\n",
              "      <th>Modelo_min_Horas</th>\n",
              "      <th>Modelo_max_Horas</th>\n",
              "      <th>Modelo_median_Horas</th>\n",
              "    </tr>\n",
              "  </thead>\n",
              "  <tbody>\n",
              "    <tr>\n",
              "      <th>0</th>\n",
              "      <td>Hispânico Sul</td>\n",
              "      <td>Argentina</td>\n",
              "      <td>EPSA</td>\n",
              "      <td>Mining</td>\n",
              "      <td>ART</td>\n",
              "      <td>A040F320538</td>\n",
              "      <td>2020-11-26</td>\n",
              "      <td>San Luis</td>\n",
              "      <td>Argentina</td>\n",
              "      <td>2016-12-14</td>\n",
              "      <td>0.0</td>\n",
              "      <td>Qua</td>\n",
              "      <td>12</td>\n",
              "      <td>3.689488</td>\n",
              "      <td>0.0</td>\n",
              "      <td>21.65</td>\n",
              "      <td>0.004167</td>\n",
              "      <td>3.689488</td>\n",
              "      <td>0.0</td>\n",
              "      <td>21.65</td>\n",
              "      <td>0.004167</td>\n",
              "      <td>3.689488</td>\n",
              "      <td>0.0</td>\n",
              "      <td>21.65</td>\n",
              "      <td>0.004167</td>\n",
              "      <td>3.689488</td>\n",
              "      <td>0.0</td>\n",
              "      <td>21.65</td>\n",
              "      <td>0.004167</td>\n",
              "    </tr>\n",
              "    <tr>\n",
              "      <th>1</th>\n",
              "      <td>Hispânico Sul</td>\n",
              "      <td>Argentina</td>\n",
              "      <td>EPSA</td>\n",
              "      <td>Mining</td>\n",
              "      <td>ART</td>\n",
              "      <td>A040F320538</td>\n",
              "      <td>2020-11-26</td>\n",
              "      <td>San Luis</td>\n",
              "      <td>Argentina</td>\n",
              "      <td>2016-12-15</td>\n",
              "      <td>0.0</td>\n",
              "      <td>Qui</td>\n",
              "      <td>12</td>\n",
              "      <td>3.390931</td>\n",
              "      <td>0.0</td>\n",
              "      <td>21.65</td>\n",
              "      <td>0.004545</td>\n",
              "      <td>3.390931</td>\n",
              "      <td>0.0</td>\n",
              "      <td>21.65</td>\n",
              "      <td>0.004545</td>\n",
              "      <td>3.390931</td>\n",
              "      <td>0.0</td>\n",
              "      <td>21.65</td>\n",
              "      <td>0.004545</td>\n",
              "      <td>3.390931</td>\n",
              "      <td>0.0</td>\n",
              "      <td>21.65</td>\n",
              "      <td>0.004545</td>\n",
              "    </tr>\n",
              "  </tbody>\n",
              "</table>\n",
              "</div>\n",
              "    <div class=\"colab-df-buttons\">\n",
              "\n",
              "  <div class=\"colab-df-container\">\n",
              "    <button class=\"colab-df-convert\" onclick=\"convertToInteractive('df-4b468069-6664-4d38-8259-734f402ac1fd')\"\n",
              "            title=\"Convert this dataframe to an interactive table.\"\n",
              "            style=\"display:none;\">\n",
              "\n",
              "  <svg xmlns=\"http://www.w3.org/2000/svg\" height=\"24px\" viewBox=\"0 -960 960 960\">\n",
              "    <path d=\"M120-120v-720h720v720H120Zm60-500h600v-160H180v160Zm220 220h160v-160H400v160Zm0 220h160v-160H400v160ZM180-400h160v-160H180v160Zm440 0h160v-160H620v160ZM180-180h160v-160H180v160Zm440 0h160v-160H620v160Z\"/>\n",
              "  </svg>\n",
              "    </button>\n",
              "\n",
              "  <style>\n",
              "    .colab-df-container {\n",
              "      display:flex;\n",
              "      gap: 12px;\n",
              "    }\n",
              "\n",
              "    .colab-df-convert {\n",
              "      background-color: #E8F0FE;\n",
              "      border: none;\n",
              "      border-radius: 50%;\n",
              "      cursor: pointer;\n",
              "      display: none;\n",
              "      fill: #1967D2;\n",
              "      height: 32px;\n",
              "      padding: 0 0 0 0;\n",
              "      width: 32px;\n",
              "    }\n",
              "\n",
              "    .colab-df-convert:hover {\n",
              "      background-color: #E2EBFA;\n",
              "      box-shadow: 0px 1px 2px rgba(60, 64, 67, 0.3), 0px 1px 3px 1px rgba(60, 64, 67, 0.15);\n",
              "      fill: #174EA6;\n",
              "    }\n",
              "\n",
              "    .colab-df-buttons div {\n",
              "      margin-bottom: 4px;\n",
              "    }\n",
              "\n",
              "    [theme=dark] .colab-df-convert {\n",
              "      background-color: #3B4455;\n",
              "      fill: #D2E3FC;\n",
              "    }\n",
              "\n",
              "    [theme=dark] .colab-df-convert:hover {\n",
              "      background-color: #434B5C;\n",
              "      box-shadow: 0px 1px 3px 1px rgba(0, 0, 0, 0.15);\n",
              "      filter: drop-shadow(0px 1px 2px rgba(0, 0, 0, 0.3));\n",
              "      fill: #FFFFFF;\n",
              "    }\n",
              "  </style>\n",
              "\n",
              "    <script>\n",
              "      const buttonEl =\n",
              "        document.querySelector('#df-4b468069-6664-4d38-8259-734f402ac1fd button.colab-df-convert');\n",
              "      buttonEl.style.display =\n",
              "        google.colab.kernel.accessAllowed ? 'block' : 'none';\n",
              "\n",
              "      async function convertToInteractive(key) {\n",
              "        const element = document.querySelector('#df-4b468069-6664-4d38-8259-734f402ac1fd');\n",
              "        const dataTable =\n",
              "          await google.colab.kernel.invokeFunction('convertToInteractive',\n",
              "                                                    [key], {});\n",
              "        if (!dataTable) return;\n",
              "\n",
              "        const docLinkHtml = 'Like what you see? Visit the ' +\n",
              "          '<a target=\"_blank\" href=https://colab.research.google.com/notebooks/data_table.ipynb>data table notebook</a>'\n",
              "          + ' to learn more about interactive tables.';\n",
              "        element.innerHTML = '';\n",
              "        dataTable['output_type'] = 'display_data';\n",
              "        await google.colab.output.renderOutput(dataTable, element);\n",
              "        const docLink = document.createElement('div');\n",
              "        docLink.innerHTML = docLinkHtml;\n",
              "        element.appendChild(docLink);\n",
              "      }\n",
              "    </script>\n",
              "  </div>\n",
              "\n",
              "\n",
              "<div id=\"df-aee1b52b-b6fc-40de-9dfe-40ffb78d9b57\">\n",
              "  <button class=\"colab-df-quickchart\" onclick=\"quickchart('df-aee1b52b-b6fc-40de-9dfe-40ffb78d9b57')\"\n",
              "            title=\"Suggest charts.\"\n",
              "            style=\"display:none;\">\n",
              "\n",
              "<svg xmlns=\"http://www.w3.org/2000/svg\" height=\"24px\"viewBox=\"0 0 24 24\"\n",
              "     width=\"24px\">\n",
              "    <g>\n",
              "        <path d=\"M19 3H5c-1.1 0-2 .9-2 2v14c0 1.1.9 2 2 2h14c1.1 0 2-.9 2-2V5c0-1.1-.9-2-2-2zM9 17H7v-7h2v7zm4 0h-2V7h2v10zm4 0h-2v-4h2v4z\"/>\n",
              "    </g>\n",
              "</svg>\n",
              "  </button>\n",
              "\n",
              "<style>\n",
              "  .colab-df-quickchart {\n",
              "      --bg-color: #E8F0FE;\n",
              "      --fill-color: #1967D2;\n",
              "      --hover-bg-color: #E2EBFA;\n",
              "      --hover-fill-color: #174EA6;\n",
              "      --disabled-fill-color: #AAA;\n",
              "      --disabled-bg-color: #DDD;\n",
              "  }\n",
              "\n",
              "  [theme=dark] .colab-df-quickchart {\n",
              "      --bg-color: #3B4455;\n",
              "      --fill-color: #D2E3FC;\n",
              "      --hover-bg-color: #434B5C;\n",
              "      --hover-fill-color: #FFFFFF;\n",
              "      --disabled-bg-color: #3B4455;\n",
              "      --disabled-fill-color: #666;\n",
              "  }\n",
              "\n",
              "  .colab-df-quickchart {\n",
              "    background-color: var(--bg-color);\n",
              "    border: none;\n",
              "    border-radius: 50%;\n",
              "    cursor: pointer;\n",
              "    display: none;\n",
              "    fill: var(--fill-color);\n",
              "    height: 32px;\n",
              "    padding: 0;\n",
              "    width: 32px;\n",
              "  }\n",
              "\n",
              "  .colab-df-quickchart:hover {\n",
              "    background-color: var(--hover-bg-color);\n",
              "    box-shadow: 0 1px 2px rgba(60, 64, 67, 0.3), 0 1px 3px 1px rgba(60, 64, 67, 0.15);\n",
              "    fill: var(--button-hover-fill-color);\n",
              "  }\n",
              "\n",
              "  .colab-df-quickchart-complete:disabled,\n",
              "  .colab-df-quickchart-complete:disabled:hover {\n",
              "    background-color: var(--disabled-bg-color);\n",
              "    fill: var(--disabled-fill-color);\n",
              "    box-shadow: none;\n",
              "  }\n",
              "\n",
              "  .colab-df-spinner {\n",
              "    border: 2px solid var(--fill-color);\n",
              "    border-color: transparent;\n",
              "    border-bottom-color: var(--fill-color);\n",
              "    animation:\n",
              "      spin 1s steps(1) infinite;\n",
              "  }\n",
              "\n",
              "  @keyframes spin {\n",
              "    0% {\n",
              "      border-color: transparent;\n",
              "      border-bottom-color: var(--fill-color);\n",
              "      border-left-color: var(--fill-color);\n",
              "    }\n",
              "    20% {\n",
              "      border-color: transparent;\n",
              "      border-left-color: var(--fill-color);\n",
              "      border-top-color: var(--fill-color);\n",
              "    }\n",
              "    30% {\n",
              "      border-color: transparent;\n",
              "      border-left-color: var(--fill-color);\n",
              "      border-top-color: var(--fill-color);\n",
              "      border-right-color: var(--fill-color);\n",
              "    }\n",
              "    40% {\n",
              "      border-color: transparent;\n",
              "      border-right-color: var(--fill-color);\n",
              "      border-top-color: var(--fill-color);\n",
              "    }\n",
              "    60% {\n",
              "      border-color: transparent;\n",
              "      border-right-color: var(--fill-color);\n",
              "    }\n",
              "    80% {\n",
              "      border-color: transparent;\n",
              "      border-right-color: var(--fill-color);\n",
              "      border-bottom-color: var(--fill-color);\n",
              "    }\n",
              "    90% {\n",
              "      border-color: transparent;\n",
              "      border-bottom-color: var(--fill-color);\n",
              "    }\n",
              "  }\n",
              "</style>\n",
              "\n",
              "  <script>\n",
              "    async function quickchart(key) {\n",
              "      const quickchartButtonEl =\n",
              "        document.querySelector('#' + key + ' button');\n",
              "      quickchartButtonEl.disabled = true;  // To prevent multiple clicks.\n",
              "      quickchartButtonEl.classList.add('colab-df-spinner');\n",
              "      try {\n",
              "        const charts = await google.colab.kernel.invokeFunction(\n",
              "            'suggestCharts', [key], {});\n",
              "      } catch (error) {\n",
              "        console.error('Error during call to suggestCharts:', error);\n",
              "      }\n",
              "      quickchartButtonEl.classList.remove('colab-df-spinner');\n",
              "      quickchartButtonEl.classList.add('colab-df-quickchart-complete');\n",
              "    }\n",
              "    (() => {\n",
              "      let quickchartButtonEl =\n",
              "        document.querySelector('#df-aee1b52b-b6fc-40de-9dfe-40ffb78d9b57 button');\n",
              "      quickchartButtonEl.style.display =\n",
              "        google.colab.kernel.accessAllowed ? 'block' : 'none';\n",
              "    })();\n",
              "  </script>\n",
              "</div>\n",
              "    </div>\n",
              "  </div>\n"
            ],
            "text/plain": [
              "          Região pais_compra Dealer Segmento Modelo           ID  \\\n",
              "0  Hispânico Sul   Argentina   EPSA   Mining    ART  A040F320538   \n",
              "1  Hispânico Sul   Argentina   EPSA   Mining    ART  A040F320538   \n",
              "\n",
              "  Delivery Date    Estado pais_operacao        Dia  Horas dia_da_semana  mes  \\\n",
              "0    2020-11-26  San Luis     Argentina 2016-12-14    0.0           Qua   12   \n",
              "1    2020-11-26  San Luis     Argentina 2016-12-15    0.0           Qui   12   \n",
              "\n",
              "   Região_mean_Horas  Região_min_Horas  Região_max_Horas  Região_median_Horas  \\\n",
              "0           3.689488               0.0             21.65             0.004167   \n",
              "1           3.390931               0.0             21.65             0.004545   \n",
              "\n",
              "   Dealer_mean_Horas  Dealer_min_Horas  Dealer_max_Horas  Dealer_median_Horas  \\\n",
              "0           3.689488               0.0             21.65             0.004167   \n",
              "1           3.390931               0.0             21.65             0.004545   \n",
              "\n",
              "   Segmento_mean_Horas  Segmento_min_Horas  Segmento_max_Horas  \\\n",
              "0             3.689488                 0.0               21.65   \n",
              "1             3.390931                 0.0               21.65   \n",
              "\n",
              "   Segmento_median_Horas  Modelo_mean_Horas  Modelo_min_Horas  \\\n",
              "0               0.004167           3.689488               0.0   \n",
              "1               0.004545           3.390931               0.0   \n",
              "\n",
              "   Modelo_max_Horas  Modelo_median_Horas  \n",
              "0             21.65             0.004167  \n",
              "1             21.65             0.004545  "
            ]
          },
          "execution_count": 45,
          "metadata": {},
          "output_type": "execute_result"
        }
      ],
      "source": [
        "df2.head(2)"
      ]
    },
    {
      "cell_type": "markdown",
      "metadata": {
        "id": "2V_lyYUROFsX"
      },
      "source": [
        "# **7 - Ajustando e Separando Dados (Treino e Teste)**"
      ]
    },
    {
      "cell_type": "markdown",
      "metadata": {
        "id": "lEEwr8Ae8lt0"
      },
      "source": [
        "### 7.1 - Método 1"
      ]
    },
    {
      "cell_type": "code",
      "execution_count": 46,
      "metadata": {
        "colab": {
          "base_uri": "https://localhost:8080/"
        },
        "id": "11t9BiHY6AJ8",
        "outputId": "b81ec437-fedd-493f-ce26-b18386c40e8a"
      },
      "outputs": [
        {
          "name": "stderr",
          "output_type": "stream",
          "text": [
            "/usr/local/lib/python3.10/dist-packages/ipykernel/ipkernel.py:283: DeprecationWarning: `should_run_async` will not call `transform_cell` automatically in the future. Please pass the result to `transformed_cell` argument and any exception that happen during thetransform in `preprocessing_exc_tuple` in IPython 7.17 and above.\n",
            "  and should_run_async(code)\n"
          ]
        }
      ],
      "source": [
        "# apagando as variaveis categoricas e ficando apenas as numericas PARA O MODELO 1\n",
        "df.drop(['pais_compra','ID','Delivery Date','Estado','pais_operacao','Dia'], axis=1, inplace=True)"
      ]
    },
    {
      "cell_type": "code",
      "execution_count": 47,
      "metadata": {
        "colab": {
          "base_uri": "https://localhost:8080/"
        },
        "id": "W7OMCmXr5giL",
        "outputId": "4a85367c-fd2e-4e58-bb6f-e50ece3b8ceb"
      },
      "outputs": [
        {
          "name": "stderr",
          "output_type": "stream",
          "text": [
            "/usr/local/lib/python3.10/dist-packages/ipykernel/ipkernel.py:283: DeprecationWarning: `should_run_async` will not call `transform_cell` automatically in the future. Please pass the result to `transformed_cell` argument and any exception that happen during thetransform in `preprocessing_exc_tuple` in IPython 7.17 and above.\n",
            "  and should_run_async(code)\n"
          ]
        }
      ],
      "source": [
        "# criando X e y\n",
        "X = df.iloc[:, 1:]\n",
        "y = df.iloc[:, 0]"
      ]
    },
    {
      "cell_type": "code",
      "execution_count": 48,
      "metadata": {
        "colab": {
          "base_uri": "https://localhost:8080/"
        },
        "id": "XiRftpR6TlV8",
        "outputId": "abbe0353-c29c-4541-b34a-96e2d496c47d"
      },
      "outputs": [
        {
          "name": "stdout",
          "output_type": "stream",
          "text": [
            "<class 'pandas.core.frame.DataFrame'>\n",
            "Int64Index: 115120 entries, 0 to 118160\n",
            "Data columns (total 18 columns):\n",
            " #   Column                  Non-Null Count   Dtype\n",
            "---  ------                  --------------   -----\n",
            " 0   Segmento_Agriculture    115120 non-null  uint8\n",
            " 1   Segmento_Construction   115120 non-null  uint8\n",
            " 2   Segmento_Forestry       115120 non-null  uint8\n",
            " 3   Segmento_Industry       115120 non-null  uint8\n",
            " 4   Segmento_Mining         115120 non-null  uint8\n",
            " 5   Modelo_ART              115120 non-null  uint8\n",
            " 6   Modelo_EXC              115120 non-null  uint8\n",
            " 7   Modelo_WLO              115120 non-null  uint8\n",
            " 8   Dealer_Ascendum         115120 non-null  uint8\n",
            " 9   Dealer_Dinâmica         115120 non-null  uint8\n",
            " 10  Dealer_EPSA             115120 non-null  uint8\n",
            " 11  Dealer_Gotemburgo       115120 non-null  uint8\n",
            " 12  Dealer_Linck            115120 non-null  uint8\n",
            " 13  Dealer_Tecnoeste        115120 non-null  uint8\n",
            " 14  Dealer_Tracbel          115120 non-null  uint8\n",
            " 15  Região_Brasil           115120 non-null  uint8\n",
            " 16  Região_Hispânico Norte  115120 non-null  uint8\n",
            " 17  Região_Hispânico Sul    115120 non-null  uint8\n",
            "dtypes: uint8(18)\n",
            "memory usage: 2.9 MB\n"
          ]
        },
        {
          "name": "stderr",
          "output_type": "stream",
          "text": [
            "/usr/local/lib/python3.10/dist-packages/ipykernel/ipkernel.py:283: DeprecationWarning: `should_run_async` will not call `transform_cell` automatically in the future. Please pass the result to `transformed_cell` argument and any exception that happen during thetransform in `preprocessing_exc_tuple` in IPython 7.17 and above.\n",
            "  and should_run_async(code)\n"
          ]
        }
      ],
      "source": [
        "X.info()"
      ]
    },
    {
      "cell_type": "markdown",
      "metadata": {
        "id": "X3mxPscK8jig"
      },
      "source": [
        "### 7.2 - Método 2"
      ]
    },
    {
      "cell_type": "code",
      "execution_count": 81,
      "metadata": {
        "id": "6osDqbuiyb0u"
      },
      "outputs": [],
      "source": [
        "# apagando as variaveis categoricas e ficando apenas as numericas\n",
        "df2.drop(['Região','Dealer','Segmento','Modelo','pais_compra','ID','Delivery Date','Estado','pais_operacao','Dia',\"dia_da_semana\",\"mes\"], axis=1, inplace=True)"
      ]
    },
    {
      "cell_type": "code",
      "execution_count": 82,
      "metadata": {
        "id": "vD9swN-JBdJa"
      },
      "outputs": [],
      "source": [
        "# criando X e y\n",
        "X = df2.iloc[:, 1:]\n",
        "y = df2.iloc[:, 0]"
      ]
    },
    {
      "cell_type": "markdown",
      "metadata": {
        "id": "kF98oKqeWgPu"
      },
      "source": [
        "### 7.3 Treinando os modelos"
      ]
    },
    {
      "cell_type": "code",
      "execution_count": 83,
      "metadata": {
        "id": "FSiktTkBVgx7"
      },
      "outputs": [],
      "source": [
        "# separando dados de treino e teste\n",
        "X_train, X_test, y_train, y_test = train_test_split(X, y, test_size=0.30, random_state=42)"
      ]
    },
    {
      "cell_type": "markdown",
      "metadata": {
        "id": "9XQ4ed_3kkw7"
      },
      "source": [
        "# **8 - Aplicando Modelos**\n"
      ]
    },
    {
      "cell_type": "markdown",
      "metadata": {
        "id": "uPxuLWQNOgT3"
      },
      "source": [
        "### 8.1 - Regressão Linear"
      ]
    },
    {
      "cell_type": "code",
      "execution_count": 84,
      "metadata": {
        "colab": {
          "base_uri": "https://localhost:8080/",
          "height": 75
        },
        "id": "2l7FCkbGn4OI",
        "outputId": "f43c3f80-1790-4c9f-a189-ec5d963f482a"
      },
      "outputs": [
        {
          "data": {
            "text/html": [
              "<style>#sk-container-id-12 {color: black;background-color: white;}#sk-container-id-12 pre{padding: 0;}#sk-container-id-12 div.sk-toggleable {background-color: white;}#sk-container-id-12 label.sk-toggleable__label {cursor: pointer;display: block;width: 100%;margin-bottom: 0;padding: 0.3em;box-sizing: border-box;text-align: center;}#sk-container-id-12 label.sk-toggleable__label-arrow:before {content: \"▸\";float: left;margin-right: 0.25em;color: #696969;}#sk-container-id-12 label.sk-toggleable__label-arrow:hover:before {color: black;}#sk-container-id-12 div.sk-estimator:hover label.sk-toggleable__label-arrow:before {color: black;}#sk-container-id-12 div.sk-toggleable__content {max-height: 0;max-width: 0;overflow: hidden;text-align: left;background-color: #f0f8ff;}#sk-container-id-12 div.sk-toggleable__content pre {margin: 0.2em;color: black;border-radius: 0.25em;background-color: #f0f8ff;}#sk-container-id-12 input.sk-toggleable__control:checked~div.sk-toggleable__content {max-height: 200px;max-width: 100%;overflow: auto;}#sk-container-id-12 input.sk-toggleable__control:checked~label.sk-toggleable__label-arrow:before {content: \"▾\";}#sk-container-id-12 div.sk-estimator input.sk-toggleable__control:checked~label.sk-toggleable__label {background-color: #d4ebff;}#sk-container-id-12 div.sk-label input.sk-toggleable__control:checked~label.sk-toggleable__label {background-color: #d4ebff;}#sk-container-id-12 input.sk-hidden--visually {border: 0;clip: rect(1px 1px 1px 1px);clip: rect(1px, 1px, 1px, 1px);height: 1px;margin: -1px;overflow: hidden;padding: 0;position: absolute;width: 1px;}#sk-container-id-12 div.sk-estimator {font-family: monospace;background-color: #f0f8ff;border: 1px dotted black;border-radius: 0.25em;box-sizing: border-box;margin-bottom: 0.5em;}#sk-container-id-12 div.sk-estimator:hover {background-color: #d4ebff;}#sk-container-id-12 div.sk-parallel-item::after {content: \"\";width: 100%;border-bottom: 1px solid gray;flex-grow: 1;}#sk-container-id-12 div.sk-label:hover label.sk-toggleable__label {background-color: #d4ebff;}#sk-container-id-12 div.sk-serial::before {content: \"\";position: absolute;border-left: 1px solid gray;box-sizing: border-box;top: 0;bottom: 0;left: 50%;z-index: 0;}#sk-container-id-12 div.sk-serial {display: flex;flex-direction: column;align-items: center;background-color: white;padding-right: 0.2em;padding-left: 0.2em;position: relative;}#sk-container-id-12 div.sk-item {position: relative;z-index: 1;}#sk-container-id-12 div.sk-parallel {display: flex;align-items: stretch;justify-content: center;background-color: white;position: relative;}#sk-container-id-12 div.sk-item::before, #sk-container-id-12 div.sk-parallel-item::before {content: \"\";position: absolute;border-left: 1px solid gray;box-sizing: border-box;top: 0;bottom: 0;left: 50%;z-index: -1;}#sk-container-id-12 div.sk-parallel-item {display: flex;flex-direction: column;z-index: 1;position: relative;background-color: white;}#sk-container-id-12 div.sk-parallel-item:first-child::after {align-self: flex-end;width: 50%;}#sk-container-id-12 div.sk-parallel-item:last-child::after {align-self: flex-start;width: 50%;}#sk-container-id-12 div.sk-parallel-item:only-child::after {width: 0;}#sk-container-id-12 div.sk-dashed-wrapped {border: 1px dashed gray;margin: 0 0.4em 0.5em 0.4em;box-sizing: border-box;padding-bottom: 0.4em;background-color: white;}#sk-container-id-12 div.sk-label label {font-family: monospace;font-weight: bold;display: inline-block;line-height: 1.2em;}#sk-container-id-12 div.sk-label-container {text-align: center;}#sk-container-id-12 div.sk-container {/* jupyter's `normalize.less` sets `[hidden] { display: none; }` but bootstrap.min.css set `[hidden] { display: none !important; }` so we also need the `!important` here to be able to override the default hidden behavior on the sphinx rendered scikit-learn.org. See: https://github.com/scikit-learn/scikit-learn/issues/21755 */display: inline-block !important;position: relative;}#sk-container-id-12 div.sk-text-repr-fallback {display: none;}</style><div id=\"sk-container-id-12\" class=\"sk-top-container\"><div class=\"sk-text-repr-fallback\"><pre>LinearRegression()</pre><b>In a Jupyter environment, please rerun this cell to show the HTML representation or trust the notebook. <br />On GitHub, the HTML representation is unable to render, please try loading this page with nbviewer.org.</b></div><div class=\"sk-container\" hidden><div class=\"sk-item\"><div class=\"sk-estimator sk-toggleable\"><input class=\"sk-toggleable__control sk-hidden--visually\" id=\"sk-estimator-id-12\" type=\"checkbox\" checked><label for=\"sk-estimator-id-12\" class=\"sk-toggleable__label sk-toggleable__label-arrow\">LinearRegression</label><div class=\"sk-toggleable__content\"><pre>LinearRegression()</pre></div></div></div></div></div>"
            ],
            "text/plain": [
              "LinearRegression()"
            ]
          },
          "execution_count": 84,
          "metadata": {},
          "output_type": "execute_result"
        }
      ],
      "source": [
        "# criando modelo de Regressão Linear\n",
        "modeloLR = LinearRegression()\n",
        "# fazendo o fit/ajustando o modelo com os dados de treinamento\n",
        "modeloLR.fit(X_train, y_train)"
      ]
    },
    {
      "cell_type": "code",
      "execution_count": 85,
      "metadata": {
        "id": "zjLAjl7gUxjh"
      },
      "outputs": [],
      "source": [
        "#eliminar warnings\n",
        "import warnings\n",
        "warnings.filterwarnings('ignore')"
      ]
    },
    {
      "cell_type": "markdown",
      "metadata": {
        "id": "mKwhGF1yOqN8"
      },
      "source": [
        "### 8.2 - Random Forest"
      ]
    },
    {
      "cell_type": "code",
      "execution_count": 86,
      "metadata": {
        "colab": {
          "base_uri": "https://localhost:8080/",
          "height": 75
        },
        "id": "g_5bzqz7pT5I",
        "outputId": "5cfa6794-11de-4148-8217-bc1a70d2fbaa"
      },
      "outputs": [
        {
          "data": {
            "text/html": [
              "<style>#sk-container-id-13 {color: black;background-color: white;}#sk-container-id-13 pre{padding: 0;}#sk-container-id-13 div.sk-toggleable {background-color: white;}#sk-container-id-13 label.sk-toggleable__label {cursor: pointer;display: block;width: 100%;margin-bottom: 0;padding: 0.3em;box-sizing: border-box;text-align: center;}#sk-container-id-13 label.sk-toggleable__label-arrow:before {content: \"▸\";float: left;margin-right: 0.25em;color: #696969;}#sk-container-id-13 label.sk-toggleable__label-arrow:hover:before {color: black;}#sk-container-id-13 div.sk-estimator:hover label.sk-toggleable__label-arrow:before {color: black;}#sk-container-id-13 div.sk-toggleable__content {max-height: 0;max-width: 0;overflow: hidden;text-align: left;background-color: #f0f8ff;}#sk-container-id-13 div.sk-toggleable__content pre {margin: 0.2em;color: black;border-radius: 0.25em;background-color: #f0f8ff;}#sk-container-id-13 input.sk-toggleable__control:checked~div.sk-toggleable__content {max-height: 200px;max-width: 100%;overflow: auto;}#sk-container-id-13 input.sk-toggleable__control:checked~label.sk-toggleable__label-arrow:before {content: \"▾\";}#sk-container-id-13 div.sk-estimator input.sk-toggleable__control:checked~label.sk-toggleable__label {background-color: #d4ebff;}#sk-container-id-13 div.sk-label input.sk-toggleable__control:checked~label.sk-toggleable__label {background-color: #d4ebff;}#sk-container-id-13 input.sk-hidden--visually {border: 0;clip: rect(1px 1px 1px 1px);clip: rect(1px, 1px, 1px, 1px);height: 1px;margin: -1px;overflow: hidden;padding: 0;position: absolute;width: 1px;}#sk-container-id-13 div.sk-estimator {font-family: monospace;background-color: #f0f8ff;border: 1px dotted black;border-radius: 0.25em;box-sizing: border-box;margin-bottom: 0.5em;}#sk-container-id-13 div.sk-estimator:hover {background-color: #d4ebff;}#sk-container-id-13 div.sk-parallel-item::after {content: \"\";width: 100%;border-bottom: 1px solid gray;flex-grow: 1;}#sk-container-id-13 div.sk-label:hover label.sk-toggleable__label {background-color: #d4ebff;}#sk-container-id-13 div.sk-serial::before {content: \"\";position: absolute;border-left: 1px solid gray;box-sizing: border-box;top: 0;bottom: 0;left: 50%;z-index: 0;}#sk-container-id-13 div.sk-serial {display: flex;flex-direction: column;align-items: center;background-color: white;padding-right: 0.2em;padding-left: 0.2em;position: relative;}#sk-container-id-13 div.sk-item {position: relative;z-index: 1;}#sk-container-id-13 div.sk-parallel {display: flex;align-items: stretch;justify-content: center;background-color: white;position: relative;}#sk-container-id-13 div.sk-item::before, #sk-container-id-13 div.sk-parallel-item::before {content: \"\";position: absolute;border-left: 1px solid gray;box-sizing: border-box;top: 0;bottom: 0;left: 50%;z-index: -1;}#sk-container-id-13 div.sk-parallel-item {display: flex;flex-direction: column;z-index: 1;position: relative;background-color: white;}#sk-container-id-13 div.sk-parallel-item:first-child::after {align-self: flex-end;width: 50%;}#sk-container-id-13 div.sk-parallel-item:last-child::after {align-self: flex-start;width: 50%;}#sk-container-id-13 div.sk-parallel-item:only-child::after {width: 0;}#sk-container-id-13 div.sk-dashed-wrapped {border: 1px dashed gray;margin: 0 0.4em 0.5em 0.4em;box-sizing: border-box;padding-bottom: 0.4em;background-color: white;}#sk-container-id-13 div.sk-label label {font-family: monospace;font-weight: bold;display: inline-block;line-height: 1.2em;}#sk-container-id-13 div.sk-label-container {text-align: center;}#sk-container-id-13 div.sk-container {/* jupyter's `normalize.less` sets `[hidden] { display: none; }` but bootstrap.min.css set `[hidden] { display: none !important; }` so we also need the `!important` here to be able to override the default hidden behavior on the sphinx rendered scikit-learn.org. See: https://github.com/scikit-learn/scikit-learn/issues/21755 */display: inline-block !important;position: relative;}#sk-container-id-13 div.sk-text-repr-fallback {display: none;}</style><div id=\"sk-container-id-13\" class=\"sk-top-container\"><div class=\"sk-text-repr-fallback\"><pre>RandomForestRegressor(min_samples_leaf=2)</pre><b>In a Jupyter environment, please rerun this cell to show the HTML representation or trust the notebook. <br />On GitHub, the HTML representation is unable to render, please try loading this page with nbviewer.org.</b></div><div class=\"sk-container\" hidden><div class=\"sk-item\"><div class=\"sk-estimator sk-toggleable\"><input class=\"sk-toggleable__control sk-hidden--visually\" id=\"sk-estimator-id-13\" type=\"checkbox\" checked><label for=\"sk-estimator-id-13\" class=\"sk-toggleable__label sk-toggleable__label-arrow\">RandomForestRegressor</label><div class=\"sk-toggleable__content\"><pre>RandomForestRegressor(min_samples_leaf=2)</pre></div></div></div></div></div>"
            ],
            "text/plain": [
              "RandomForestRegressor(min_samples_leaf=2)"
            ]
          },
          "execution_count": 86,
          "metadata": {},
          "output_type": "execute_result"
        }
      ],
      "source": [
        "# criando modelo Random Forest\n",
        "modeloRF = RandomForestRegressor(n_estimators=100, min_samples_leaf=2)\n",
        "# fazendo o fit/ajustando o modelo com os dados de treinamento\n",
        "modeloRF.fit(X_train, y_train)"
      ]
    },
    {
      "cell_type": "markdown",
      "metadata": {
        "id": "jwoNHMwz5Byp"
      },
      "source": [
        "### 8.3 - Random Forest (alterando parâmetros)"
      ]
    },
    {
      "cell_type": "code",
      "execution_count": 87,
      "metadata": {
        "colab": {
          "base_uri": "https://localhost:8080/",
          "height": 75
        },
        "id": "PG02uOQU48Ha",
        "outputId": "79ed65d1-62cb-4a35-ea43-d8e0c23137d1"
      },
      "outputs": [
        {
          "data": {
            "text/html": [
              "<style>#sk-container-id-14 {color: black;background-color: white;}#sk-container-id-14 pre{padding: 0;}#sk-container-id-14 div.sk-toggleable {background-color: white;}#sk-container-id-14 label.sk-toggleable__label {cursor: pointer;display: block;width: 100%;margin-bottom: 0;padding: 0.3em;box-sizing: border-box;text-align: center;}#sk-container-id-14 label.sk-toggleable__label-arrow:before {content: \"▸\";float: left;margin-right: 0.25em;color: #696969;}#sk-container-id-14 label.sk-toggleable__label-arrow:hover:before {color: black;}#sk-container-id-14 div.sk-estimator:hover label.sk-toggleable__label-arrow:before {color: black;}#sk-container-id-14 div.sk-toggleable__content {max-height: 0;max-width: 0;overflow: hidden;text-align: left;background-color: #f0f8ff;}#sk-container-id-14 div.sk-toggleable__content pre {margin: 0.2em;color: black;border-radius: 0.25em;background-color: #f0f8ff;}#sk-container-id-14 input.sk-toggleable__control:checked~div.sk-toggleable__content {max-height: 200px;max-width: 100%;overflow: auto;}#sk-container-id-14 input.sk-toggleable__control:checked~label.sk-toggleable__label-arrow:before {content: \"▾\";}#sk-container-id-14 div.sk-estimator input.sk-toggleable__control:checked~label.sk-toggleable__label {background-color: #d4ebff;}#sk-container-id-14 div.sk-label input.sk-toggleable__control:checked~label.sk-toggleable__label {background-color: #d4ebff;}#sk-container-id-14 input.sk-hidden--visually {border: 0;clip: rect(1px 1px 1px 1px);clip: rect(1px, 1px, 1px, 1px);height: 1px;margin: -1px;overflow: hidden;padding: 0;position: absolute;width: 1px;}#sk-container-id-14 div.sk-estimator {font-family: monospace;background-color: #f0f8ff;border: 1px dotted black;border-radius: 0.25em;box-sizing: border-box;margin-bottom: 0.5em;}#sk-container-id-14 div.sk-estimator:hover {background-color: #d4ebff;}#sk-container-id-14 div.sk-parallel-item::after {content: \"\";width: 100%;border-bottom: 1px solid gray;flex-grow: 1;}#sk-container-id-14 div.sk-label:hover label.sk-toggleable__label {background-color: #d4ebff;}#sk-container-id-14 div.sk-serial::before {content: \"\";position: absolute;border-left: 1px solid gray;box-sizing: border-box;top: 0;bottom: 0;left: 50%;z-index: 0;}#sk-container-id-14 div.sk-serial {display: flex;flex-direction: column;align-items: center;background-color: white;padding-right: 0.2em;padding-left: 0.2em;position: relative;}#sk-container-id-14 div.sk-item {position: relative;z-index: 1;}#sk-container-id-14 div.sk-parallel {display: flex;align-items: stretch;justify-content: center;background-color: white;position: relative;}#sk-container-id-14 div.sk-item::before, #sk-container-id-14 div.sk-parallel-item::before {content: \"\";position: absolute;border-left: 1px solid gray;box-sizing: border-box;top: 0;bottom: 0;left: 50%;z-index: -1;}#sk-container-id-14 div.sk-parallel-item {display: flex;flex-direction: column;z-index: 1;position: relative;background-color: white;}#sk-container-id-14 div.sk-parallel-item:first-child::after {align-self: flex-end;width: 50%;}#sk-container-id-14 div.sk-parallel-item:last-child::after {align-self: flex-start;width: 50%;}#sk-container-id-14 div.sk-parallel-item:only-child::after {width: 0;}#sk-container-id-14 div.sk-dashed-wrapped {border: 1px dashed gray;margin: 0 0.4em 0.5em 0.4em;box-sizing: border-box;padding-bottom: 0.4em;background-color: white;}#sk-container-id-14 div.sk-label label {font-family: monospace;font-weight: bold;display: inline-block;line-height: 1.2em;}#sk-container-id-14 div.sk-label-container {text-align: center;}#sk-container-id-14 div.sk-container {/* jupyter's `normalize.less` sets `[hidden] { display: none; }` but bootstrap.min.css set `[hidden] { display: none !important; }` so we also need the `!important` here to be able to override the default hidden behavior on the sphinx rendered scikit-learn.org. See: https://github.com/scikit-learn/scikit-learn/issues/21755 */display: inline-block !important;position: relative;}#sk-container-id-14 div.sk-text-repr-fallback {display: none;}</style><div id=\"sk-container-id-14\" class=\"sk-top-container\"><div class=\"sk-text-repr-fallback\"><pre>RandomForestRegressor(min_samples_leaf=2, n_estimators=200)</pre><b>In a Jupyter environment, please rerun this cell to show the HTML representation or trust the notebook. <br />On GitHub, the HTML representation is unable to render, please try loading this page with nbviewer.org.</b></div><div class=\"sk-container\" hidden><div class=\"sk-item\"><div class=\"sk-estimator sk-toggleable\"><input class=\"sk-toggleable__control sk-hidden--visually\" id=\"sk-estimator-id-14\" type=\"checkbox\" checked><label for=\"sk-estimator-id-14\" class=\"sk-toggleable__label sk-toggleable__label-arrow\">RandomForestRegressor</label><div class=\"sk-toggleable__content\"><pre>RandomForestRegressor(min_samples_leaf=2, n_estimators=200)</pre></div></div></div></div></div>"
            ],
            "text/plain": [
              "RandomForestRegressor(min_samples_leaf=2, n_estimators=200)"
            ]
          },
          "execution_count": 87,
          "metadata": {},
          "output_type": "execute_result"
        }
      ],
      "source": [
        "# tunando modelo Random Forest\n",
        "modeloRF2 = RandomForestRegressor(n_estimators=200, min_samples_leaf=2)\n",
        "# fazendo o fit/ajustando o modelo com os dados de treinamento\n",
        "modeloRF2.fit(X_train, y_train)"
      ]
    },
    {
      "cell_type": "markdown",
      "metadata": {
        "id": "ar4pjeG1PAOW"
      },
      "source": [
        "### 8.4 - Regressão Lasso"
      ]
    },
    {
      "cell_type": "code",
      "execution_count": 88,
      "metadata": {
        "colab": {
          "base_uri": "https://localhost:8080/",
          "height": 75
        },
        "id": "_9WCFI9mPHmH",
        "outputId": "8b61ff3b-16ac-43dc-de93-de0ef402049e"
      },
      "outputs": [
        {
          "data": {
            "text/html": [
              "<style>#sk-container-id-15 {color: black;background-color: white;}#sk-container-id-15 pre{padding: 0;}#sk-container-id-15 div.sk-toggleable {background-color: white;}#sk-container-id-15 label.sk-toggleable__label {cursor: pointer;display: block;width: 100%;margin-bottom: 0;padding: 0.3em;box-sizing: border-box;text-align: center;}#sk-container-id-15 label.sk-toggleable__label-arrow:before {content: \"▸\";float: left;margin-right: 0.25em;color: #696969;}#sk-container-id-15 label.sk-toggleable__label-arrow:hover:before {color: black;}#sk-container-id-15 div.sk-estimator:hover label.sk-toggleable__label-arrow:before {color: black;}#sk-container-id-15 div.sk-toggleable__content {max-height: 0;max-width: 0;overflow: hidden;text-align: left;background-color: #f0f8ff;}#sk-container-id-15 div.sk-toggleable__content pre {margin: 0.2em;color: black;border-radius: 0.25em;background-color: #f0f8ff;}#sk-container-id-15 input.sk-toggleable__control:checked~div.sk-toggleable__content {max-height: 200px;max-width: 100%;overflow: auto;}#sk-container-id-15 input.sk-toggleable__control:checked~label.sk-toggleable__label-arrow:before {content: \"▾\";}#sk-container-id-15 div.sk-estimator input.sk-toggleable__control:checked~label.sk-toggleable__label {background-color: #d4ebff;}#sk-container-id-15 div.sk-label input.sk-toggleable__control:checked~label.sk-toggleable__label {background-color: #d4ebff;}#sk-container-id-15 input.sk-hidden--visually {border: 0;clip: rect(1px 1px 1px 1px);clip: rect(1px, 1px, 1px, 1px);height: 1px;margin: -1px;overflow: hidden;padding: 0;position: absolute;width: 1px;}#sk-container-id-15 div.sk-estimator {font-family: monospace;background-color: #f0f8ff;border: 1px dotted black;border-radius: 0.25em;box-sizing: border-box;margin-bottom: 0.5em;}#sk-container-id-15 div.sk-estimator:hover {background-color: #d4ebff;}#sk-container-id-15 div.sk-parallel-item::after {content: \"\";width: 100%;border-bottom: 1px solid gray;flex-grow: 1;}#sk-container-id-15 div.sk-label:hover label.sk-toggleable__label {background-color: #d4ebff;}#sk-container-id-15 div.sk-serial::before {content: \"\";position: absolute;border-left: 1px solid gray;box-sizing: border-box;top: 0;bottom: 0;left: 50%;z-index: 0;}#sk-container-id-15 div.sk-serial {display: flex;flex-direction: column;align-items: center;background-color: white;padding-right: 0.2em;padding-left: 0.2em;position: relative;}#sk-container-id-15 div.sk-item {position: relative;z-index: 1;}#sk-container-id-15 div.sk-parallel {display: flex;align-items: stretch;justify-content: center;background-color: white;position: relative;}#sk-container-id-15 div.sk-item::before, #sk-container-id-15 div.sk-parallel-item::before {content: \"\";position: absolute;border-left: 1px solid gray;box-sizing: border-box;top: 0;bottom: 0;left: 50%;z-index: -1;}#sk-container-id-15 div.sk-parallel-item {display: flex;flex-direction: column;z-index: 1;position: relative;background-color: white;}#sk-container-id-15 div.sk-parallel-item:first-child::after {align-self: flex-end;width: 50%;}#sk-container-id-15 div.sk-parallel-item:last-child::after {align-self: flex-start;width: 50%;}#sk-container-id-15 div.sk-parallel-item:only-child::after {width: 0;}#sk-container-id-15 div.sk-dashed-wrapped {border: 1px dashed gray;margin: 0 0.4em 0.5em 0.4em;box-sizing: border-box;padding-bottom: 0.4em;background-color: white;}#sk-container-id-15 div.sk-label label {font-family: monospace;font-weight: bold;display: inline-block;line-height: 1.2em;}#sk-container-id-15 div.sk-label-container {text-align: center;}#sk-container-id-15 div.sk-container {/* jupyter's `normalize.less` sets `[hidden] { display: none; }` but bootstrap.min.css set `[hidden] { display: none !important; }` so we also need the `!important` here to be able to override the default hidden behavior on the sphinx rendered scikit-learn.org. See: https://github.com/scikit-learn/scikit-learn/issues/21755 */display: inline-block !important;position: relative;}#sk-container-id-15 div.sk-text-repr-fallback {display: none;}</style><div id=\"sk-container-id-15\" class=\"sk-top-container\"><div class=\"sk-text-repr-fallback\"><pre>Lasso()</pre><b>In a Jupyter environment, please rerun this cell to show the HTML representation or trust the notebook. <br />On GitHub, the HTML representation is unable to render, please try loading this page with nbviewer.org.</b></div><div class=\"sk-container\" hidden><div class=\"sk-item\"><div class=\"sk-estimator sk-toggleable\"><input class=\"sk-toggleable__control sk-hidden--visually\" id=\"sk-estimator-id-15\" type=\"checkbox\" checked><label for=\"sk-estimator-id-15\" class=\"sk-toggleable__label sk-toggleable__label-arrow\">Lasso</label><div class=\"sk-toggleable__content\"><pre>Lasso()</pre></div></div></div></div></div>"
            ],
            "text/plain": [
              "Lasso()"
            ]
          },
          "execution_count": 88,
          "metadata": {},
          "output_type": "execute_result"
        }
      ],
      "source": [
        "# criando modelo de Lasso\n",
        "modeloRL = Lasso()\n",
        "\n",
        "# fazendo o fit/ajustando o modelo com os dados de treinamento\n",
        "modeloRL.fit(X_train, y_train)"
      ]
    },
    {
      "cell_type": "markdown",
      "metadata": {
        "id": "RPDDmQpIPrmI"
      },
      "source": [
        "### 8.5 - Regressão de cume (Ridge)"
      ]
    },
    {
      "cell_type": "code",
      "execution_count": 89,
      "metadata": {
        "colab": {
          "base_uri": "https://localhost:8080/",
          "height": 75
        },
        "id": "VPAT0yfnPhDG",
        "outputId": "54f8db40-1e8a-454c-b5eb-4ab4868a172a"
      },
      "outputs": [
        {
          "data": {
            "text/html": [
              "<style>#sk-container-id-16 {color: black;background-color: white;}#sk-container-id-16 pre{padding: 0;}#sk-container-id-16 div.sk-toggleable {background-color: white;}#sk-container-id-16 label.sk-toggleable__label {cursor: pointer;display: block;width: 100%;margin-bottom: 0;padding: 0.3em;box-sizing: border-box;text-align: center;}#sk-container-id-16 label.sk-toggleable__label-arrow:before {content: \"▸\";float: left;margin-right: 0.25em;color: #696969;}#sk-container-id-16 label.sk-toggleable__label-arrow:hover:before {color: black;}#sk-container-id-16 div.sk-estimator:hover label.sk-toggleable__label-arrow:before {color: black;}#sk-container-id-16 div.sk-toggleable__content {max-height: 0;max-width: 0;overflow: hidden;text-align: left;background-color: #f0f8ff;}#sk-container-id-16 div.sk-toggleable__content pre {margin: 0.2em;color: black;border-radius: 0.25em;background-color: #f0f8ff;}#sk-container-id-16 input.sk-toggleable__control:checked~div.sk-toggleable__content {max-height: 200px;max-width: 100%;overflow: auto;}#sk-container-id-16 input.sk-toggleable__control:checked~label.sk-toggleable__label-arrow:before {content: \"▾\";}#sk-container-id-16 div.sk-estimator input.sk-toggleable__control:checked~label.sk-toggleable__label {background-color: #d4ebff;}#sk-container-id-16 div.sk-label input.sk-toggleable__control:checked~label.sk-toggleable__label {background-color: #d4ebff;}#sk-container-id-16 input.sk-hidden--visually {border: 0;clip: rect(1px 1px 1px 1px);clip: rect(1px, 1px, 1px, 1px);height: 1px;margin: -1px;overflow: hidden;padding: 0;position: absolute;width: 1px;}#sk-container-id-16 div.sk-estimator {font-family: monospace;background-color: #f0f8ff;border: 1px dotted black;border-radius: 0.25em;box-sizing: border-box;margin-bottom: 0.5em;}#sk-container-id-16 div.sk-estimator:hover {background-color: #d4ebff;}#sk-container-id-16 div.sk-parallel-item::after {content: \"\";width: 100%;border-bottom: 1px solid gray;flex-grow: 1;}#sk-container-id-16 div.sk-label:hover label.sk-toggleable__label {background-color: #d4ebff;}#sk-container-id-16 div.sk-serial::before {content: \"\";position: absolute;border-left: 1px solid gray;box-sizing: border-box;top: 0;bottom: 0;left: 50%;z-index: 0;}#sk-container-id-16 div.sk-serial {display: flex;flex-direction: column;align-items: center;background-color: white;padding-right: 0.2em;padding-left: 0.2em;position: relative;}#sk-container-id-16 div.sk-item {position: relative;z-index: 1;}#sk-container-id-16 div.sk-parallel {display: flex;align-items: stretch;justify-content: center;background-color: white;position: relative;}#sk-container-id-16 div.sk-item::before, #sk-container-id-16 div.sk-parallel-item::before {content: \"\";position: absolute;border-left: 1px solid gray;box-sizing: border-box;top: 0;bottom: 0;left: 50%;z-index: -1;}#sk-container-id-16 div.sk-parallel-item {display: flex;flex-direction: column;z-index: 1;position: relative;background-color: white;}#sk-container-id-16 div.sk-parallel-item:first-child::after {align-self: flex-end;width: 50%;}#sk-container-id-16 div.sk-parallel-item:last-child::after {align-self: flex-start;width: 50%;}#sk-container-id-16 div.sk-parallel-item:only-child::after {width: 0;}#sk-container-id-16 div.sk-dashed-wrapped {border: 1px dashed gray;margin: 0 0.4em 0.5em 0.4em;box-sizing: border-box;padding-bottom: 0.4em;background-color: white;}#sk-container-id-16 div.sk-label label {font-family: monospace;font-weight: bold;display: inline-block;line-height: 1.2em;}#sk-container-id-16 div.sk-label-container {text-align: center;}#sk-container-id-16 div.sk-container {/* jupyter's `normalize.less` sets `[hidden] { display: none; }` but bootstrap.min.css set `[hidden] { display: none !important; }` so we also need the `!important` here to be able to override the default hidden behavior on the sphinx rendered scikit-learn.org. See: https://github.com/scikit-learn/scikit-learn/issues/21755 */display: inline-block !important;position: relative;}#sk-container-id-16 div.sk-text-repr-fallback {display: none;}</style><div id=\"sk-container-id-16\" class=\"sk-top-container\"><div class=\"sk-text-repr-fallback\"><pre>Ridge()</pre><b>In a Jupyter environment, please rerun this cell to show the HTML representation or trust the notebook. <br />On GitHub, the HTML representation is unable to render, please try loading this page with nbviewer.org.</b></div><div class=\"sk-container\" hidden><div class=\"sk-item\"><div class=\"sk-estimator sk-toggleable\"><input class=\"sk-toggleable__control sk-hidden--visually\" id=\"sk-estimator-id-16\" type=\"checkbox\" checked><label for=\"sk-estimator-id-16\" class=\"sk-toggleable__label sk-toggleable__label-arrow\">Ridge</label><div class=\"sk-toggleable__content\"><pre>Ridge()</pre></div></div></div></div></div>"
            ],
            "text/plain": [
              "Ridge()"
            ]
          },
          "execution_count": 89,
          "metadata": {},
          "output_type": "execute_result"
        }
      ],
      "source": [
        "# criando modelo de Cume\n",
        "modeloRC = Ridge()\n",
        "\n",
        "# fazendo o fit/ajustando o modelo com os dados de treinamento\n",
        "modeloRC.fit(X_train, y_train)"
      ]
    },
    {
      "cell_type": "markdown",
      "metadata": {
        "id": "5y8MfTvJhr5i"
      },
      "source": [
        "### 8.6 - Regressão de cume (Ridge)2"
      ]
    },
    {
      "cell_type": "code",
      "execution_count": 90,
      "metadata": {
        "colab": {
          "base_uri": "https://localhost:8080/",
          "height": 75
        },
        "id": "UXzuCWdXhpEE",
        "outputId": "cdbba82a-963a-430e-f4bd-c313a0718228"
      },
      "outputs": [
        {
          "data": {
            "text/html": [
              "<style>#sk-container-id-17 {color: black;background-color: white;}#sk-container-id-17 pre{padding: 0;}#sk-container-id-17 div.sk-toggleable {background-color: white;}#sk-container-id-17 label.sk-toggleable__label {cursor: pointer;display: block;width: 100%;margin-bottom: 0;padding: 0.3em;box-sizing: border-box;text-align: center;}#sk-container-id-17 label.sk-toggleable__label-arrow:before {content: \"▸\";float: left;margin-right: 0.25em;color: #696969;}#sk-container-id-17 label.sk-toggleable__label-arrow:hover:before {color: black;}#sk-container-id-17 div.sk-estimator:hover label.sk-toggleable__label-arrow:before {color: black;}#sk-container-id-17 div.sk-toggleable__content {max-height: 0;max-width: 0;overflow: hidden;text-align: left;background-color: #f0f8ff;}#sk-container-id-17 div.sk-toggleable__content pre {margin: 0.2em;color: black;border-radius: 0.25em;background-color: #f0f8ff;}#sk-container-id-17 input.sk-toggleable__control:checked~div.sk-toggleable__content {max-height: 200px;max-width: 100%;overflow: auto;}#sk-container-id-17 input.sk-toggleable__control:checked~label.sk-toggleable__label-arrow:before {content: \"▾\";}#sk-container-id-17 div.sk-estimator input.sk-toggleable__control:checked~label.sk-toggleable__label {background-color: #d4ebff;}#sk-container-id-17 div.sk-label input.sk-toggleable__control:checked~label.sk-toggleable__label {background-color: #d4ebff;}#sk-container-id-17 input.sk-hidden--visually {border: 0;clip: rect(1px 1px 1px 1px);clip: rect(1px, 1px, 1px, 1px);height: 1px;margin: -1px;overflow: hidden;padding: 0;position: absolute;width: 1px;}#sk-container-id-17 div.sk-estimator {font-family: monospace;background-color: #f0f8ff;border: 1px dotted black;border-radius: 0.25em;box-sizing: border-box;margin-bottom: 0.5em;}#sk-container-id-17 div.sk-estimator:hover {background-color: #d4ebff;}#sk-container-id-17 div.sk-parallel-item::after {content: \"\";width: 100%;border-bottom: 1px solid gray;flex-grow: 1;}#sk-container-id-17 div.sk-label:hover label.sk-toggleable__label {background-color: #d4ebff;}#sk-container-id-17 div.sk-serial::before {content: \"\";position: absolute;border-left: 1px solid gray;box-sizing: border-box;top: 0;bottom: 0;left: 50%;z-index: 0;}#sk-container-id-17 div.sk-serial {display: flex;flex-direction: column;align-items: center;background-color: white;padding-right: 0.2em;padding-left: 0.2em;position: relative;}#sk-container-id-17 div.sk-item {position: relative;z-index: 1;}#sk-container-id-17 div.sk-parallel {display: flex;align-items: stretch;justify-content: center;background-color: white;position: relative;}#sk-container-id-17 div.sk-item::before, #sk-container-id-17 div.sk-parallel-item::before {content: \"\";position: absolute;border-left: 1px solid gray;box-sizing: border-box;top: 0;bottom: 0;left: 50%;z-index: -1;}#sk-container-id-17 div.sk-parallel-item {display: flex;flex-direction: column;z-index: 1;position: relative;background-color: white;}#sk-container-id-17 div.sk-parallel-item:first-child::after {align-self: flex-end;width: 50%;}#sk-container-id-17 div.sk-parallel-item:last-child::after {align-self: flex-start;width: 50%;}#sk-container-id-17 div.sk-parallel-item:only-child::after {width: 0;}#sk-container-id-17 div.sk-dashed-wrapped {border: 1px dashed gray;margin: 0 0.4em 0.5em 0.4em;box-sizing: border-box;padding-bottom: 0.4em;background-color: white;}#sk-container-id-17 div.sk-label label {font-family: monospace;font-weight: bold;display: inline-block;line-height: 1.2em;}#sk-container-id-17 div.sk-label-container {text-align: center;}#sk-container-id-17 div.sk-container {/* jupyter's `normalize.less` sets `[hidden] { display: none; }` but bootstrap.min.css set `[hidden] { display: none !important; }` so we also need the `!important` here to be able to override the default hidden behavior on the sphinx rendered scikit-learn.org. See: https://github.com/scikit-learn/scikit-learn/issues/21755 */display: inline-block !important;position: relative;}#sk-container-id-17 div.sk-text-repr-fallback {display: none;}</style><div id=\"sk-container-id-17\" class=\"sk-top-container\"><div class=\"sk-text-repr-fallback\"><pre>Ridge(alpha=0)</pre><b>In a Jupyter environment, please rerun this cell to show the HTML representation or trust the notebook. <br />On GitHub, the HTML representation is unable to render, please try loading this page with nbviewer.org.</b></div><div class=\"sk-container\" hidden><div class=\"sk-item\"><div class=\"sk-estimator sk-toggleable\"><input class=\"sk-toggleable__control sk-hidden--visually\" id=\"sk-estimator-id-17\" type=\"checkbox\" checked><label for=\"sk-estimator-id-17\" class=\"sk-toggleable__label sk-toggleable__label-arrow\">Ridge</label><div class=\"sk-toggleable__content\"><pre>Ridge(alpha=0)</pre></div></div></div></div></div>"
            ],
            "text/plain": [
              "Ridge(alpha=0)"
            ]
          },
          "execution_count": 90,
          "metadata": {},
          "output_type": "execute_result"
        }
      ],
      "source": [
        "# criando modelo de Cume\n",
        "modeloRC2 = Ridge(alpha=0)\n",
        "\n",
        "# fazendo o fit/ajustando o modelo com os dados de treinamento\n",
        "modeloRC2.fit(X_train, y_train)"
      ]
    },
    {
      "cell_type": "markdown",
      "metadata": {
        "id": "cmtLUpINQdEF"
      },
      "source": [
        "### 8.6 - Regressão XGBoost"
      ]
    },
    {
      "cell_type": "code",
      "execution_count": 91,
      "metadata": {
        "colab": {
          "base_uri": "https://localhost:8080/",
          "height": 248
        },
        "id": "fFg1dX1BQl35",
        "outputId": "7de1637e-5415-43a2-d993-d275f2de2289"
      },
      "outputs": [
        {
          "data": {
            "text/html": [
              "<style>#sk-container-id-18 {color: black;background-color: white;}#sk-container-id-18 pre{padding: 0;}#sk-container-id-18 div.sk-toggleable {background-color: white;}#sk-container-id-18 label.sk-toggleable__label {cursor: pointer;display: block;width: 100%;margin-bottom: 0;padding: 0.3em;box-sizing: border-box;text-align: center;}#sk-container-id-18 label.sk-toggleable__label-arrow:before {content: \"▸\";float: left;margin-right: 0.25em;color: #696969;}#sk-container-id-18 label.sk-toggleable__label-arrow:hover:before {color: black;}#sk-container-id-18 div.sk-estimator:hover label.sk-toggleable__label-arrow:before {color: black;}#sk-container-id-18 div.sk-toggleable__content {max-height: 0;max-width: 0;overflow: hidden;text-align: left;background-color: #f0f8ff;}#sk-container-id-18 div.sk-toggleable__content pre {margin: 0.2em;color: black;border-radius: 0.25em;background-color: #f0f8ff;}#sk-container-id-18 input.sk-toggleable__control:checked~div.sk-toggleable__content {max-height: 200px;max-width: 100%;overflow: auto;}#sk-container-id-18 input.sk-toggleable__control:checked~label.sk-toggleable__label-arrow:before {content: \"▾\";}#sk-container-id-18 div.sk-estimator input.sk-toggleable__control:checked~label.sk-toggleable__label {background-color: #d4ebff;}#sk-container-id-18 div.sk-label input.sk-toggleable__control:checked~label.sk-toggleable__label {background-color: #d4ebff;}#sk-container-id-18 input.sk-hidden--visually {border: 0;clip: rect(1px 1px 1px 1px);clip: rect(1px, 1px, 1px, 1px);height: 1px;margin: -1px;overflow: hidden;padding: 0;position: absolute;width: 1px;}#sk-container-id-18 div.sk-estimator {font-family: monospace;background-color: #f0f8ff;border: 1px dotted black;border-radius: 0.25em;box-sizing: border-box;margin-bottom: 0.5em;}#sk-container-id-18 div.sk-estimator:hover {background-color: #d4ebff;}#sk-container-id-18 div.sk-parallel-item::after {content: \"\";width: 100%;border-bottom: 1px solid gray;flex-grow: 1;}#sk-container-id-18 div.sk-label:hover label.sk-toggleable__label {background-color: #d4ebff;}#sk-container-id-18 div.sk-serial::before {content: \"\";position: absolute;border-left: 1px solid gray;box-sizing: border-box;top: 0;bottom: 0;left: 50%;z-index: 0;}#sk-container-id-18 div.sk-serial {display: flex;flex-direction: column;align-items: center;background-color: white;padding-right: 0.2em;padding-left: 0.2em;position: relative;}#sk-container-id-18 div.sk-item {position: relative;z-index: 1;}#sk-container-id-18 div.sk-parallel {display: flex;align-items: stretch;justify-content: center;background-color: white;position: relative;}#sk-container-id-18 div.sk-item::before, #sk-container-id-18 div.sk-parallel-item::before {content: \"\";position: absolute;border-left: 1px solid gray;box-sizing: border-box;top: 0;bottom: 0;left: 50%;z-index: -1;}#sk-container-id-18 div.sk-parallel-item {display: flex;flex-direction: column;z-index: 1;position: relative;background-color: white;}#sk-container-id-18 div.sk-parallel-item:first-child::after {align-self: flex-end;width: 50%;}#sk-container-id-18 div.sk-parallel-item:last-child::after {align-self: flex-start;width: 50%;}#sk-container-id-18 div.sk-parallel-item:only-child::after {width: 0;}#sk-container-id-18 div.sk-dashed-wrapped {border: 1px dashed gray;margin: 0 0.4em 0.5em 0.4em;box-sizing: border-box;padding-bottom: 0.4em;background-color: white;}#sk-container-id-18 div.sk-label label {font-family: monospace;font-weight: bold;display: inline-block;line-height: 1.2em;}#sk-container-id-18 div.sk-label-container {text-align: center;}#sk-container-id-18 div.sk-container {/* jupyter's `normalize.less` sets `[hidden] { display: none; }` but bootstrap.min.css set `[hidden] { display: none !important; }` so we also need the `!important` here to be able to override the default hidden behavior on the sphinx rendered scikit-learn.org. See: https://github.com/scikit-learn/scikit-learn/issues/21755 */display: inline-block !important;position: relative;}#sk-container-id-18 div.sk-text-repr-fallback {display: none;}</style><div id=\"sk-container-id-18\" class=\"sk-top-container\"><div class=\"sk-text-repr-fallback\"><pre>XGBRegressor(base_score=None, booster=None, callbacks=None,\n",
              "             colsample_bylevel=None, colsample_bynode=None,\n",
              "             colsample_bytree=None, device=None, early_stopping_rounds=None,\n",
              "             enable_categorical=False, eval_metric=None, feature_types=None,\n",
              "             gamma=None, grow_policy=None, importance_type=None,\n",
              "             interaction_constraints=None, learning_rate=None, max_bin=None,\n",
              "             max_cat_threshold=None, max_cat_to_onehot=None,\n",
              "             max_delta_step=None, max_depth=None, max_leaves=None,\n",
              "             min_child_weight=None, missing=nan, monotone_constraints=None,\n",
              "             multi_strategy=None, n_estimators=None, n_jobs=None,\n",
              "             num_parallel_tree=None, random_state=None, ...)</pre><b>In a Jupyter environment, please rerun this cell to show the HTML representation or trust the notebook. <br />On GitHub, the HTML representation is unable to render, please try loading this page with nbviewer.org.</b></div><div class=\"sk-container\" hidden><div class=\"sk-item\"><div class=\"sk-estimator sk-toggleable\"><input class=\"sk-toggleable__control sk-hidden--visually\" id=\"sk-estimator-id-18\" type=\"checkbox\" checked><label for=\"sk-estimator-id-18\" class=\"sk-toggleable__label sk-toggleable__label-arrow\">XGBRegressor</label><div class=\"sk-toggleable__content\"><pre>XGBRegressor(base_score=None, booster=None, callbacks=None,\n",
              "             colsample_bylevel=None, colsample_bynode=None,\n",
              "             colsample_bytree=None, device=None, early_stopping_rounds=None,\n",
              "             enable_categorical=False, eval_metric=None, feature_types=None,\n",
              "             gamma=None, grow_policy=None, importance_type=None,\n",
              "             interaction_constraints=None, learning_rate=None, max_bin=None,\n",
              "             max_cat_threshold=None, max_cat_to_onehot=None,\n",
              "             max_delta_step=None, max_depth=None, max_leaves=None,\n",
              "             min_child_weight=None, missing=nan, monotone_constraints=None,\n",
              "             multi_strategy=None, n_estimators=None, n_jobs=None,\n",
              "             num_parallel_tree=None, random_state=None, ...)</pre></div></div></div></div></div>"
            ],
            "text/plain": [
              "XGBRegressor(base_score=None, booster=None, callbacks=None,\n",
              "             colsample_bylevel=None, colsample_bynode=None,\n",
              "             colsample_bytree=None, device=None, early_stopping_rounds=None,\n",
              "             enable_categorical=False, eval_metric=None, feature_types=None,\n",
              "             gamma=None, grow_policy=None, importance_type=None,\n",
              "             interaction_constraints=None, learning_rate=None, max_bin=None,\n",
              "             max_cat_threshold=None, max_cat_to_onehot=None,\n",
              "             max_delta_step=None, max_depth=None, max_leaves=None,\n",
              "             min_child_weight=None, missing=nan, monotone_constraints=None,\n",
              "             multi_strategy=None, n_estimators=None, n_jobs=None,\n",
              "             num_parallel_tree=None, random_state=None, ...)"
            ]
          },
          "execution_count": 91,
          "metadata": {},
          "output_type": "execute_result"
        }
      ],
      "source": [
        "# criando modelo de Regressão XGBoost\n",
        "modeloXGB = XGBRegressor()\n",
        "# fazendo o fit/ajustando o modelo com os dados de treinamento\n",
        "modeloXGB.fit(X_train, y_train)"
      ]
    },
    {
      "cell_type": "markdown",
      "metadata": {
        "id": "XkM0xxd43J3T"
      },
      "source": [
        "### 8.7 - Regressão XGBoost2 (alterando parâmetros)"
      ]
    },
    {
      "cell_type": "code",
      "execution_count": 92,
      "metadata": {
        "colab": {
          "base_uri": "https://localhost:8080/",
          "height": 248
        },
        "id": "IjOsA8YD3JNS",
        "outputId": "4df9ca05-4030-4f31-aa0d-754b7247cf66"
      },
      "outputs": [
        {
          "data": {
            "text/html": [
              "<style>#sk-container-id-19 {color: black;background-color: white;}#sk-container-id-19 pre{padding: 0;}#sk-container-id-19 div.sk-toggleable {background-color: white;}#sk-container-id-19 label.sk-toggleable__label {cursor: pointer;display: block;width: 100%;margin-bottom: 0;padding: 0.3em;box-sizing: border-box;text-align: center;}#sk-container-id-19 label.sk-toggleable__label-arrow:before {content: \"▸\";float: left;margin-right: 0.25em;color: #696969;}#sk-container-id-19 label.sk-toggleable__label-arrow:hover:before {color: black;}#sk-container-id-19 div.sk-estimator:hover label.sk-toggleable__label-arrow:before {color: black;}#sk-container-id-19 div.sk-toggleable__content {max-height: 0;max-width: 0;overflow: hidden;text-align: left;background-color: #f0f8ff;}#sk-container-id-19 div.sk-toggleable__content pre {margin: 0.2em;color: black;border-radius: 0.25em;background-color: #f0f8ff;}#sk-container-id-19 input.sk-toggleable__control:checked~div.sk-toggleable__content {max-height: 200px;max-width: 100%;overflow: auto;}#sk-container-id-19 input.sk-toggleable__control:checked~label.sk-toggleable__label-arrow:before {content: \"▾\";}#sk-container-id-19 div.sk-estimator input.sk-toggleable__control:checked~label.sk-toggleable__label {background-color: #d4ebff;}#sk-container-id-19 div.sk-label input.sk-toggleable__control:checked~label.sk-toggleable__label {background-color: #d4ebff;}#sk-container-id-19 input.sk-hidden--visually {border: 0;clip: rect(1px 1px 1px 1px);clip: rect(1px, 1px, 1px, 1px);height: 1px;margin: -1px;overflow: hidden;padding: 0;position: absolute;width: 1px;}#sk-container-id-19 div.sk-estimator {font-family: monospace;background-color: #f0f8ff;border: 1px dotted black;border-radius: 0.25em;box-sizing: border-box;margin-bottom: 0.5em;}#sk-container-id-19 div.sk-estimator:hover {background-color: #d4ebff;}#sk-container-id-19 div.sk-parallel-item::after {content: \"\";width: 100%;border-bottom: 1px solid gray;flex-grow: 1;}#sk-container-id-19 div.sk-label:hover label.sk-toggleable__label {background-color: #d4ebff;}#sk-container-id-19 div.sk-serial::before {content: \"\";position: absolute;border-left: 1px solid gray;box-sizing: border-box;top: 0;bottom: 0;left: 50%;z-index: 0;}#sk-container-id-19 div.sk-serial {display: flex;flex-direction: column;align-items: center;background-color: white;padding-right: 0.2em;padding-left: 0.2em;position: relative;}#sk-container-id-19 div.sk-item {position: relative;z-index: 1;}#sk-container-id-19 div.sk-parallel {display: flex;align-items: stretch;justify-content: center;background-color: white;position: relative;}#sk-container-id-19 div.sk-item::before, #sk-container-id-19 div.sk-parallel-item::before {content: \"\";position: absolute;border-left: 1px solid gray;box-sizing: border-box;top: 0;bottom: 0;left: 50%;z-index: -1;}#sk-container-id-19 div.sk-parallel-item {display: flex;flex-direction: column;z-index: 1;position: relative;background-color: white;}#sk-container-id-19 div.sk-parallel-item:first-child::after {align-self: flex-end;width: 50%;}#sk-container-id-19 div.sk-parallel-item:last-child::after {align-self: flex-start;width: 50%;}#sk-container-id-19 div.sk-parallel-item:only-child::after {width: 0;}#sk-container-id-19 div.sk-dashed-wrapped {border: 1px dashed gray;margin: 0 0.4em 0.5em 0.4em;box-sizing: border-box;padding-bottom: 0.4em;background-color: white;}#sk-container-id-19 div.sk-label label {font-family: monospace;font-weight: bold;display: inline-block;line-height: 1.2em;}#sk-container-id-19 div.sk-label-container {text-align: center;}#sk-container-id-19 div.sk-container {/* jupyter's `normalize.less` sets `[hidden] { display: none; }` but bootstrap.min.css set `[hidden] { display: none !important; }` so we also need the `!important` here to be able to override the default hidden behavior on the sphinx rendered scikit-learn.org. See: https://github.com/scikit-learn/scikit-learn/issues/21755 */display: inline-block !important;position: relative;}#sk-container-id-19 div.sk-text-repr-fallback {display: none;}</style><div id=\"sk-container-id-19\" class=\"sk-top-container\"><div class=\"sk-text-repr-fallback\"><pre>XGBRegressor(base_score=None, booster=None, callbacks=None,\n",
              "             colsample_bylevel=None, colsample_bynode=None,\n",
              "             colsample_bytree=None, device=None, early_stopping_rounds=None,\n",
              "             enable_categorical=False, eval_metric=None, feature_types=None,\n",
              "             gamma=None, grow_policy=None, importance_type=None,\n",
              "             interaction_constraints=None, learning_rate=None, max_bin=None,\n",
              "             max_cat_threshold=None, max_cat_to_onehot=None,\n",
              "             max_delta_step=None, max_depth=8, max_leaves=None,\n",
              "             min_child_weight=None, missing=nan, monotone_constraints=None,\n",
              "             multi_strategy=None, n_estimators=2000, n_jobs=None,\n",
              "             num_parallel_tree=None, random_state=None, ...)</pre><b>In a Jupyter environment, please rerun this cell to show the HTML representation or trust the notebook. <br />On GitHub, the HTML representation is unable to render, please try loading this page with nbviewer.org.</b></div><div class=\"sk-container\" hidden><div class=\"sk-item\"><div class=\"sk-estimator sk-toggleable\"><input class=\"sk-toggleable__control sk-hidden--visually\" id=\"sk-estimator-id-19\" type=\"checkbox\" checked><label for=\"sk-estimator-id-19\" class=\"sk-toggleable__label sk-toggleable__label-arrow\">XGBRegressor</label><div class=\"sk-toggleable__content\"><pre>XGBRegressor(base_score=None, booster=None, callbacks=None,\n",
              "             colsample_bylevel=None, colsample_bynode=None,\n",
              "             colsample_bytree=None, device=None, early_stopping_rounds=None,\n",
              "             enable_categorical=False, eval_metric=None, feature_types=None,\n",
              "             gamma=None, grow_policy=None, importance_type=None,\n",
              "             interaction_constraints=None, learning_rate=None, max_bin=None,\n",
              "             max_cat_threshold=None, max_cat_to_onehot=None,\n",
              "             max_delta_step=None, max_depth=8, max_leaves=None,\n",
              "             min_child_weight=None, missing=nan, monotone_constraints=None,\n",
              "             multi_strategy=None, n_estimators=2000, n_jobs=None,\n",
              "             num_parallel_tree=None, random_state=None, ...)</pre></div></div></div></div></div>"
            ],
            "text/plain": [
              "XGBRegressor(base_score=None, booster=None, callbacks=None,\n",
              "             colsample_bylevel=None, colsample_bynode=None,\n",
              "             colsample_bytree=None, device=None, early_stopping_rounds=None,\n",
              "             enable_categorical=False, eval_metric=None, feature_types=None,\n",
              "             gamma=None, grow_policy=None, importance_type=None,\n",
              "             interaction_constraints=None, learning_rate=None, max_bin=None,\n",
              "             max_cat_threshold=None, max_cat_to_onehot=None,\n",
              "             max_delta_step=None, max_depth=8, max_leaves=None,\n",
              "             min_child_weight=None, missing=nan, monotone_constraints=None,\n",
              "             multi_strategy=None, n_estimators=2000, n_jobs=None,\n",
              "             num_parallel_tree=None, random_state=None, ...)"
            ]
          },
          "execution_count": 92,
          "metadata": {},
          "output_type": "execute_result"
        }
      ],
      "source": [
        "# tunando modelo de Regressão XGBoost\n",
        "modeloXGB2 = XGBRegressor(n_estimators=2000, max_depth=8)\n",
        "# fazendo o fit/ajustando o modelo com os dados de treinamento\n",
        "modeloXGB2.fit(X_train, y_train)"
      ]
    },
    {
      "cell_type": "markdown",
      "metadata": {
        "id": "SuR4ZDdKy0wS"
      },
      "source": [
        "### 8.8 - Decision Tree Regressor"
      ]
    },
    {
      "cell_type": "code",
      "execution_count": 93,
      "metadata": {
        "colab": {
          "base_uri": "https://localhost:8080/",
          "height": 75
        },
        "id": "aVvBulhy5hla",
        "outputId": "ba514779-14ff-4779-836a-87285783ea1c"
      },
      "outputs": [
        {
          "data": {
            "text/html": [
              "<style>#sk-container-id-20 {color: black;background-color: white;}#sk-container-id-20 pre{padding: 0;}#sk-container-id-20 div.sk-toggleable {background-color: white;}#sk-container-id-20 label.sk-toggleable__label {cursor: pointer;display: block;width: 100%;margin-bottom: 0;padding: 0.3em;box-sizing: border-box;text-align: center;}#sk-container-id-20 label.sk-toggleable__label-arrow:before {content: \"▸\";float: left;margin-right: 0.25em;color: #696969;}#sk-container-id-20 label.sk-toggleable__label-arrow:hover:before {color: black;}#sk-container-id-20 div.sk-estimator:hover label.sk-toggleable__label-arrow:before {color: black;}#sk-container-id-20 div.sk-toggleable__content {max-height: 0;max-width: 0;overflow: hidden;text-align: left;background-color: #f0f8ff;}#sk-container-id-20 div.sk-toggleable__content pre {margin: 0.2em;color: black;border-radius: 0.25em;background-color: #f0f8ff;}#sk-container-id-20 input.sk-toggleable__control:checked~div.sk-toggleable__content {max-height: 200px;max-width: 100%;overflow: auto;}#sk-container-id-20 input.sk-toggleable__control:checked~label.sk-toggleable__label-arrow:before {content: \"▾\";}#sk-container-id-20 div.sk-estimator input.sk-toggleable__control:checked~label.sk-toggleable__label {background-color: #d4ebff;}#sk-container-id-20 div.sk-label input.sk-toggleable__control:checked~label.sk-toggleable__label {background-color: #d4ebff;}#sk-container-id-20 input.sk-hidden--visually {border: 0;clip: rect(1px 1px 1px 1px);clip: rect(1px, 1px, 1px, 1px);height: 1px;margin: -1px;overflow: hidden;padding: 0;position: absolute;width: 1px;}#sk-container-id-20 div.sk-estimator {font-family: monospace;background-color: #f0f8ff;border: 1px dotted black;border-radius: 0.25em;box-sizing: border-box;margin-bottom: 0.5em;}#sk-container-id-20 div.sk-estimator:hover {background-color: #d4ebff;}#sk-container-id-20 div.sk-parallel-item::after {content: \"\";width: 100%;border-bottom: 1px solid gray;flex-grow: 1;}#sk-container-id-20 div.sk-label:hover label.sk-toggleable__label {background-color: #d4ebff;}#sk-container-id-20 div.sk-serial::before {content: \"\";position: absolute;border-left: 1px solid gray;box-sizing: border-box;top: 0;bottom: 0;left: 50%;z-index: 0;}#sk-container-id-20 div.sk-serial {display: flex;flex-direction: column;align-items: center;background-color: white;padding-right: 0.2em;padding-left: 0.2em;position: relative;}#sk-container-id-20 div.sk-item {position: relative;z-index: 1;}#sk-container-id-20 div.sk-parallel {display: flex;align-items: stretch;justify-content: center;background-color: white;position: relative;}#sk-container-id-20 div.sk-item::before, #sk-container-id-20 div.sk-parallel-item::before {content: \"\";position: absolute;border-left: 1px solid gray;box-sizing: border-box;top: 0;bottom: 0;left: 50%;z-index: -1;}#sk-container-id-20 div.sk-parallel-item {display: flex;flex-direction: column;z-index: 1;position: relative;background-color: white;}#sk-container-id-20 div.sk-parallel-item:first-child::after {align-self: flex-end;width: 50%;}#sk-container-id-20 div.sk-parallel-item:last-child::after {align-self: flex-start;width: 50%;}#sk-container-id-20 div.sk-parallel-item:only-child::after {width: 0;}#sk-container-id-20 div.sk-dashed-wrapped {border: 1px dashed gray;margin: 0 0.4em 0.5em 0.4em;box-sizing: border-box;padding-bottom: 0.4em;background-color: white;}#sk-container-id-20 div.sk-label label {font-family: monospace;font-weight: bold;display: inline-block;line-height: 1.2em;}#sk-container-id-20 div.sk-label-container {text-align: center;}#sk-container-id-20 div.sk-container {/* jupyter's `normalize.less` sets `[hidden] { display: none; }` but bootstrap.min.css set `[hidden] { display: none !important; }` so we also need the `!important` here to be able to override the default hidden behavior on the sphinx rendered scikit-learn.org. See: https://github.com/scikit-learn/scikit-learn/issues/21755 */display: inline-block !important;position: relative;}#sk-container-id-20 div.sk-text-repr-fallback {display: none;}</style><div id=\"sk-container-id-20\" class=\"sk-top-container\"><div class=\"sk-text-repr-fallback\"><pre>DecisionTreeRegressor()</pre><b>In a Jupyter environment, please rerun this cell to show the HTML representation or trust the notebook. <br />On GitHub, the HTML representation is unable to render, please try loading this page with nbviewer.org.</b></div><div class=\"sk-container\" hidden><div class=\"sk-item\"><div class=\"sk-estimator sk-toggleable\"><input class=\"sk-toggleable__control sk-hidden--visually\" id=\"sk-estimator-id-20\" type=\"checkbox\" checked><label for=\"sk-estimator-id-20\" class=\"sk-toggleable__label sk-toggleable__label-arrow\">DecisionTreeRegressor</label><div class=\"sk-toggleable__content\"><pre>DecisionTreeRegressor()</pre></div></div></div></div></div>"
            ],
            "text/plain": [
              "DecisionTreeRegressor()"
            ]
          },
          "execution_count": 93,
          "metadata": {},
          "output_type": "execute_result"
        }
      ],
      "source": [
        "# criando modelo\n",
        "modeloDT = DecisionTreeRegressor()\n",
        "# fazendo o fit/ajustando o modelo com os dados de treinamento\n",
        "modeloDT.fit(X_train, y_train)"
      ]
    },
    {
      "cell_type": "markdown",
      "metadata": {
        "id": "uW4cpYQyy34D"
      },
      "source": [
        "### 8.9 - KNN Regressor"
      ]
    },
    {
      "cell_type": "code",
      "execution_count": 94,
      "metadata": {
        "colab": {
          "base_uri": "https://localhost:8080/",
          "height": 75
        },
        "id": "9V5W0HLKyy8V",
        "outputId": "6ae46da4-3256-4bd2-8623-a6d8463cee50"
      },
      "outputs": [
        {
          "data": {
            "text/html": [
              "<style>#sk-container-id-21 {color: black;background-color: white;}#sk-container-id-21 pre{padding: 0;}#sk-container-id-21 div.sk-toggleable {background-color: white;}#sk-container-id-21 label.sk-toggleable__label {cursor: pointer;display: block;width: 100%;margin-bottom: 0;padding: 0.3em;box-sizing: border-box;text-align: center;}#sk-container-id-21 label.sk-toggleable__label-arrow:before {content: \"▸\";float: left;margin-right: 0.25em;color: #696969;}#sk-container-id-21 label.sk-toggleable__label-arrow:hover:before {color: black;}#sk-container-id-21 div.sk-estimator:hover label.sk-toggleable__label-arrow:before {color: black;}#sk-container-id-21 div.sk-toggleable__content {max-height: 0;max-width: 0;overflow: hidden;text-align: left;background-color: #f0f8ff;}#sk-container-id-21 div.sk-toggleable__content pre {margin: 0.2em;color: black;border-radius: 0.25em;background-color: #f0f8ff;}#sk-container-id-21 input.sk-toggleable__control:checked~div.sk-toggleable__content {max-height: 200px;max-width: 100%;overflow: auto;}#sk-container-id-21 input.sk-toggleable__control:checked~label.sk-toggleable__label-arrow:before {content: \"▾\";}#sk-container-id-21 div.sk-estimator input.sk-toggleable__control:checked~label.sk-toggleable__label {background-color: #d4ebff;}#sk-container-id-21 div.sk-label input.sk-toggleable__control:checked~label.sk-toggleable__label {background-color: #d4ebff;}#sk-container-id-21 input.sk-hidden--visually {border: 0;clip: rect(1px 1px 1px 1px);clip: rect(1px, 1px, 1px, 1px);height: 1px;margin: -1px;overflow: hidden;padding: 0;position: absolute;width: 1px;}#sk-container-id-21 div.sk-estimator {font-family: monospace;background-color: #f0f8ff;border: 1px dotted black;border-radius: 0.25em;box-sizing: border-box;margin-bottom: 0.5em;}#sk-container-id-21 div.sk-estimator:hover {background-color: #d4ebff;}#sk-container-id-21 div.sk-parallel-item::after {content: \"\";width: 100%;border-bottom: 1px solid gray;flex-grow: 1;}#sk-container-id-21 div.sk-label:hover label.sk-toggleable__label {background-color: #d4ebff;}#sk-container-id-21 div.sk-serial::before {content: \"\";position: absolute;border-left: 1px solid gray;box-sizing: border-box;top: 0;bottom: 0;left: 50%;z-index: 0;}#sk-container-id-21 div.sk-serial {display: flex;flex-direction: column;align-items: center;background-color: white;padding-right: 0.2em;padding-left: 0.2em;position: relative;}#sk-container-id-21 div.sk-item {position: relative;z-index: 1;}#sk-container-id-21 div.sk-parallel {display: flex;align-items: stretch;justify-content: center;background-color: white;position: relative;}#sk-container-id-21 div.sk-item::before, #sk-container-id-21 div.sk-parallel-item::before {content: \"\";position: absolute;border-left: 1px solid gray;box-sizing: border-box;top: 0;bottom: 0;left: 50%;z-index: -1;}#sk-container-id-21 div.sk-parallel-item {display: flex;flex-direction: column;z-index: 1;position: relative;background-color: white;}#sk-container-id-21 div.sk-parallel-item:first-child::after {align-self: flex-end;width: 50%;}#sk-container-id-21 div.sk-parallel-item:last-child::after {align-self: flex-start;width: 50%;}#sk-container-id-21 div.sk-parallel-item:only-child::after {width: 0;}#sk-container-id-21 div.sk-dashed-wrapped {border: 1px dashed gray;margin: 0 0.4em 0.5em 0.4em;box-sizing: border-box;padding-bottom: 0.4em;background-color: white;}#sk-container-id-21 div.sk-label label {font-family: monospace;font-weight: bold;display: inline-block;line-height: 1.2em;}#sk-container-id-21 div.sk-label-container {text-align: center;}#sk-container-id-21 div.sk-container {/* jupyter's `normalize.less` sets `[hidden] { display: none; }` but bootstrap.min.css set `[hidden] { display: none !important; }` so we also need the `!important` here to be able to override the default hidden behavior on the sphinx rendered scikit-learn.org. See: https://github.com/scikit-learn/scikit-learn/issues/21755 */display: inline-block !important;position: relative;}#sk-container-id-21 div.sk-text-repr-fallback {display: none;}</style><div id=\"sk-container-id-21\" class=\"sk-top-container\"><div class=\"sk-text-repr-fallback\"><pre>KNeighborsRegressor()</pre><b>In a Jupyter environment, please rerun this cell to show the HTML representation or trust the notebook. <br />On GitHub, the HTML representation is unable to render, please try loading this page with nbviewer.org.</b></div><div class=\"sk-container\" hidden><div class=\"sk-item\"><div class=\"sk-estimator sk-toggleable\"><input class=\"sk-toggleable__control sk-hidden--visually\" id=\"sk-estimator-id-21\" type=\"checkbox\" checked><label for=\"sk-estimator-id-21\" class=\"sk-toggleable__label sk-toggleable__label-arrow\">KNeighborsRegressor</label><div class=\"sk-toggleable__content\"><pre>KNeighborsRegressor()</pre></div></div></div></div></div>"
            ],
            "text/plain": [
              "KNeighborsRegressor()"
            ]
          },
          "execution_count": 94,
          "metadata": {},
          "output_type": "execute_result"
        }
      ],
      "source": [
        "# criando modelo KNN Regressor\n",
        "modeloKNN = KNeighborsRegressor(n_neighbors=5) # considerando 5 neighbors\n",
        "# fazendo o fit/ajustando o modelo com os dados de treinamento\n",
        "modeloKNN.fit(X_train, y_train)"
      ]
    },
    {
      "cell_type": "markdown",
      "metadata": {
        "id": "SbrCj8Ea5QgA"
      },
      "source": [
        "### 8.10 - KNN Regressor (alterando parâmetros)"
      ]
    },
    {
      "cell_type": "code",
      "execution_count": 95,
      "metadata": {
        "colab": {
          "base_uri": "https://localhost:8080/",
          "height": 75
        },
        "id": "fL3AdVME5VTn",
        "outputId": "7cbd5d02-4402-426b-fd5f-d7730826ab46"
      },
      "outputs": [
        {
          "data": {
            "text/html": [
              "<style>#sk-container-id-22 {color: black;background-color: white;}#sk-container-id-22 pre{padding: 0;}#sk-container-id-22 div.sk-toggleable {background-color: white;}#sk-container-id-22 label.sk-toggleable__label {cursor: pointer;display: block;width: 100%;margin-bottom: 0;padding: 0.3em;box-sizing: border-box;text-align: center;}#sk-container-id-22 label.sk-toggleable__label-arrow:before {content: \"▸\";float: left;margin-right: 0.25em;color: #696969;}#sk-container-id-22 label.sk-toggleable__label-arrow:hover:before {color: black;}#sk-container-id-22 div.sk-estimator:hover label.sk-toggleable__label-arrow:before {color: black;}#sk-container-id-22 div.sk-toggleable__content {max-height: 0;max-width: 0;overflow: hidden;text-align: left;background-color: #f0f8ff;}#sk-container-id-22 div.sk-toggleable__content pre {margin: 0.2em;color: black;border-radius: 0.25em;background-color: #f0f8ff;}#sk-container-id-22 input.sk-toggleable__control:checked~div.sk-toggleable__content {max-height: 200px;max-width: 100%;overflow: auto;}#sk-container-id-22 input.sk-toggleable__control:checked~label.sk-toggleable__label-arrow:before {content: \"▾\";}#sk-container-id-22 div.sk-estimator input.sk-toggleable__control:checked~label.sk-toggleable__label {background-color: #d4ebff;}#sk-container-id-22 div.sk-label input.sk-toggleable__control:checked~label.sk-toggleable__label {background-color: #d4ebff;}#sk-container-id-22 input.sk-hidden--visually {border: 0;clip: rect(1px 1px 1px 1px);clip: rect(1px, 1px, 1px, 1px);height: 1px;margin: -1px;overflow: hidden;padding: 0;position: absolute;width: 1px;}#sk-container-id-22 div.sk-estimator {font-family: monospace;background-color: #f0f8ff;border: 1px dotted black;border-radius: 0.25em;box-sizing: border-box;margin-bottom: 0.5em;}#sk-container-id-22 div.sk-estimator:hover {background-color: #d4ebff;}#sk-container-id-22 div.sk-parallel-item::after {content: \"\";width: 100%;border-bottom: 1px solid gray;flex-grow: 1;}#sk-container-id-22 div.sk-label:hover label.sk-toggleable__label {background-color: #d4ebff;}#sk-container-id-22 div.sk-serial::before {content: \"\";position: absolute;border-left: 1px solid gray;box-sizing: border-box;top: 0;bottom: 0;left: 50%;z-index: 0;}#sk-container-id-22 div.sk-serial {display: flex;flex-direction: column;align-items: center;background-color: white;padding-right: 0.2em;padding-left: 0.2em;position: relative;}#sk-container-id-22 div.sk-item {position: relative;z-index: 1;}#sk-container-id-22 div.sk-parallel {display: flex;align-items: stretch;justify-content: center;background-color: white;position: relative;}#sk-container-id-22 div.sk-item::before, #sk-container-id-22 div.sk-parallel-item::before {content: \"\";position: absolute;border-left: 1px solid gray;box-sizing: border-box;top: 0;bottom: 0;left: 50%;z-index: -1;}#sk-container-id-22 div.sk-parallel-item {display: flex;flex-direction: column;z-index: 1;position: relative;background-color: white;}#sk-container-id-22 div.sk-parallel-item:first-child::after {align-self: flex-end;width: 50%;}#sk-container-id-22 div.sk-parallel-item:last-child::after {align-self: flex-start;width: 50%;}#sk-container-id-22 div.sk-parallel-item:only-child::after {width: 0;}#sk-container-id-22 div.sk-dashed-wrapped {border: 1px dashed gray;margin: 0 0.4em 0.5em 0.4em;box-sizing: border-box;padding-bottom: 0.4em;background-color: white;}#sk-container-id-22 div.sk-label label {font-family: monospace;font-weight: bold;display: inline-block;line-height: 1.2em;}#sk-container-id-22 div.sk-label-container {text-align: center;}#sk-container-id-22 div.sk-container {/* jupyter's `normalize.less` sets `[hidden] { display: none; }` but bootstrap.min.css set `[hidden] { display: none !important; }` so we also need the `!important` here to be able to override the default hidden behavior on the sphinx rendered scikit-learn.org. See: https://github.com/scikit-learn/scikit-learn/issues/21755 */display: inline-block !important;position: relative;}#sk-container-id-22 div.sk-text-repr-fallback {display: none;}</style><div id=\"sk-container-id-22\" class=\"sk-top-container\"><div class=\"sk-text-repr-fallback\"><pre>KNeighborsRegressor(n_neighbors=6)</pre><b>In a Jupyter environment, please rerun this cell to show the HTML representation or trust the notebook. <br />On GitHub, the HTML representation is unable to render, please try loading this page with nbviewer.org.</b></div><div class=\"sk-container\" hidden><div class=\"sk-item\"><div class=\"sk-estimator sk-toggleable\"><input class=\"sk-toggleable__control sk-hidden--visually\" id=\"sk-estimator-id-22\" type=\"checkbox\" checked><label for=\"sk-estimator-id-22\" class=\"sk-toggleable__label sk-toggleable__label-arrow\">KNeighborsRegressor</label><div class=\"sk-toggleable__content\"><pre>KNeighborsRegressor(n_neighbors=6)</pre></div></div></div></div></div>"
            ],
            "text/plain": [
              "KNeighborsRegressor(n_neighbors=6)"
            ]
          },
          "execution_count": 95,
          "metadata": {},
          "output_type": "execute_result"
        }
      ],
      "source": [
        "# criando modelo KNN Regressor\n",
        "modeloKNN2 = KNeighborsRegressor(n_neighbors=6) # considerando 6 neighbors\n",
        "# fazendo o fit/ajustando o modelo com os dados de treinamento\n",
        "modeloKNN2.fit(X_train, y_train)"
      ]
    },
    {
      "cell_type": "markdown",
      "metadata": {
        "id": "pKpB1J87TlWE"
      },
      "source": [
        "### 8.11 - LSTM (Long Short-Term Memory)"
      ]
    },
    {
      "cell_type": "code",
      "execution_count": 96,
      "metadata": {
        "id": "K0MBWZogTlWE"
      },
      "outputs": [],
      "source": [
        "# 1. Importando bibliotecas necessárias\n",
        "from keras.models import Sequential\n",
        "from keras.layers import Dense, LSTM, Bidirectional, GRU\n",
        "\n",
        "from keras.callbacks import EarlyStopping\n",
        "\n",
        "# Define o Early Stopping\n",
        "early_stopping = EarlyStopping(monitor='val_loss', patience=5, restore_best_weights=True)"
      ]
    },
    {
      "cell_type": "code",
      "execution_count": 97,
      "metadata": {
        "id": "fJ5-p-U5TlWE"
      },
      "outputs": [],
      "source": [
        "# 2. Preparando dados\n",
        "# Normalizar os dados pode ser uma boa prática ao trabalhar com redes neurais\n",
        "from sklearn.preprocessing import MinMaxScaler\n",
        "scaler = MinMaxScaler(feature_range=(0, 1))\n",
        "X_train_scaled = scaler.fit_transform(X_train)\n",
        "X_test_scaled = scaler.transform(X_test)\n"
      ]
    },
    {
      "cell_type": "code",
      "execution_count": 98,
      "metadata": {
        "colab": {
          "base_uri": "https://localhost:8080/"
        },
        "id": "za_iS7ioTlWF",
        "outputId": "ba90eb42-d199-4dc7-cbd5-0f18ef785d64"
      },
      "outputs": [
        {
          "name": "stdout",
          "output_type": "stream",
          "text": [
            "Epoch 1/100\n",
            "567/567 [==============================] - 7s 7ms/step - loss: 27.6619 - val_loss: 24.2767\n",
            "Epoch 2/100\n",
            "567/567 [==============================] - 3s 5ms/step - loss: 25.8189 - val_loss: 23.8514\n",
            "Epoch 3/100\n",
            "567/567 [==============================] - 3s 5ms/step - loss: 25.7643 - val_loss: 23.7963\n",
            "Epoch 4/100\n",
            "567/567 [==============================] - 3s 6ms/step - loss: 25.6849 - val_loss: 23.7473\n",
            "Epoch 5/100\n",
            "567/567 [==============================] - 3s 6ms/step - loss: 25.7096 - val_loss: 23.8307\n",
            "Epoch 6/100\n",
            "567/567 [==============================] - 3s 6ms/step - loss: 25.7006 - val_loss: 23.8781\n",
            "Epoch 7/100\n",
            "567/567 [==============================] - 3s 5ms/step - loss: 25.6829 - val_loss: 23.8987\n",
            "Epoch 8/100\n",
            "567/567 [==============================] - 3s 5ms/step - loss: 25.6191 - val_loss: 23.7296\n",
            "Epoch 9/100\n",
            "567/567 [==============================] - 3s 6ms/step - loss: 25.6281 - val_loss: 23.9098\n",
            "Epoch 10/100\n",
            "567/567 [==============================] - 3s 6ms/step - loss: 25.5786 - val_loss: 23.7930\n",
            "Epoch 11/100\n",
            "567/567 [==============================] - 3s 6ms/step - loss: 25.4437 - val_loss: 23.7593\n",
            "Epoch 12/100\n",
            "567/567 [==============================] - 3s 6ms/step - loss: 25.2890 - val_loss: 23.4902\n",
            "Epoch 13/100\n",
            "567/567 [==============================] - 3s 6ms/step - loss: 25.1574 - val_loss: 23.3358\n",
            "Epoch 14/100\n",
            "567/567 [==============================] - 3s 6ms/step - loss: 25.0917 - val_loss: 23.0704\n",
            "Epoch 15/100\n",
            "567/567 [==============================] - 3s 5ms/step - loss: 25.0130 - val_loss: 23.3127\n",
            "Epoch 16/100\n",
            "567/567 [==============================] - 3s 6ms/step - loss: 25.0636 - val_loss: 23.1169\n",
            "Epoch 17/100\n",
            "567/567 [==============================] - 3s 6ms/step - loss: 25.0221 - val_loss: 23.1992\n",
            "Epoch 18/100\n",
            "567/567 [==============================] - 3s 6ms/step - loss: 24.9830 - val_loss: 23.3629\n",
            "Epoch 19/100\n",
            "567/567 [==============================] - 3s 6ms/step - loss: 24.9572 - val_loss: 23.2303\n"
          ]
        },
        {
          "data": {
            "text/plain": [
              "<keras.src.callbacks.History at 0x7d39003c3a00>"
            ]
          },
          "execution_count": 98,
          "metadata": {},
          "output_type": "execute_result"
        }
      ],
      "source": [
        "# 3. Construir o modelo\n",
        "model_LSTM = Sequential()\n",
        "model_LSTM.add(LSTM(units=70, return_sequences=True, input_shape=(X_train_scaled.shape[1], 1)))\n",
        "model_LSTM.add(LSTM(units=70))\n",
        "model_LSTM.add(Dense(units=1))\n",
        "\n",
        "model_LSTM.compile(optimizer='adam', loss='mean_squared_error')\n",
        "\n",
        "# 4. Treinar o modelo\n",
        "model_LSTM.fit(X_train_scaled, y_train, epochs=100, batch_size=128, validation_split=0.10, callbacks=[early_stopping])\n"
      ]
    },
    {
      "cell_type": "code",
      "execution_count": 99,
      "metadata": {
        "colab": {
          "base_uri": "https://localhost:8080/"
        },
        "id": "XIWw2aRoTlWF",
        "outputId": "c0b3cd75-d842-4537-fe17-028d93e9bb59"
      },
      "outputs": [
        {
          "name": "stdout",
          "output_type": "stream",
          "text": [
            "1080/1080 [==============================] - 3s 2ms/step\n"
          ]
        }
      ],
      "source": [
        "# 5. Fazer previsões\n",
        "predicted_values = model_LSTM.predict(X_test_scaled)"
      ]
    },
    {
      "cell_type": "markdown",
      "metadata": {
        "id": "HYCbdeqyTlWF"
      },
      "source": [
        "### 8.12 - BDLSTM (Bidirecional Long Short-Term Memory)"
      ]
    },
    {
      "cell_type": "code",
      "execution_count": 100,
      "metadata": {
        "colab": {
          "base_uri": "https://localhost:8080/"
        },
        "id": "PbCDCMYlTlWG",
        "outputId": "a97d35c5-0515-420b-fe79-574be3274e46"
      },
      "outputs": [
        {
          "name": "stdout",
          "output_type": "stream",
          "text": [
            "Epoch 1/100\n",
            "284/284 [==============================] - 10s 13ms/step - loss: 28.1413 - val_loss: 23.8145\n",
            "Epoch 2/100\n",
            "284/284 [==============================] - 2s 9ms/step - loss: 25.7687 - val_loss: 23.7998\n",
            "Epoch 3/100\n",
            "284/284 [==============================] - 2s 8ms/step - loss: 25.6751 - val_loss: 23.8090\n",
            "Epoch 4/100\n",
            "284/284 [==============================] - 2s 8ms/step - loss: 25.6588 - val_loss: 23.7093\n",
            "Epoch 5/100\n",
            "284/284 [==============================] - 2s 8ms/step - loss: 25.5794 - val_loss: 24.0291\n",
            "Epoch 6/100\n",
            "284/284 [==============================] - 2s 8ms/step - loss: 25.5435 - val_loss: 23.6191\n",
            "Epoch 7/100\n",
            "284/284 [==============================] - 2s 8ms/step - loss: 25.3776 - val_loss: 23.4473\n",
            "Epoch 8/100\n",
            "284/284 [==============================] - 2s 8ms/step - loss: 25.2243 - val_loss: 23.1767\n",
            "Epoch 9/100\n",
            "284/284 [==============================] - 2s 9ms/step - loss: 25.0869 - val_loss: 23.0869\n",
            "Epoch 10/100\n",
            "284/284 [==============================] - 2s 9ms/step - loss: 25.0829 - val_loss: 23.0679\n",
            "Epoch 11/100\n",
            "284/284 [==============================] - 2s 9ms/step - loss: 25.0226 - val_loss: 23.1035\n",
            "Epoch 12/100\n",
            "284/284 [==============================] - 2s 8ms/step - loss: 24.9803 - val_loss: 23.0801\n",
            "Epoch 13/100\n",
            "284/284 [==============================] - 2s 8ms/step - loss: 24.9500 - val_loss: 22.9915\n",
            "Epoch 14/100\n",
            "284/284 [==============================] - 2s 8ms/step - loss: 24.9131 - val_loss: 23.0560\n",
            "Epoch 15/100\n",
            "284/284 [==============================] - 2s 8ms/step - loss: 24.9082 - val_loss: 22.9552\n",
            "Epoch 16/100\n",
            "284/284 [==============================] - 3s 9ms/step - loss: 24.8822 - val_loss: 22.9508\n",
            "Epoch 17/100\n",
            "284/284 [==============================] - 2s 9ms/step - loss: 24.8779 - val_loss: 22.9805\n",
            "Epoch 18/100\n",
            "284/284 [==============================] - 2s 9ms/step - loss: 24.8727 - val_loss: 22.9899\n",
            "Epoch 19/100\n",
            "284/284 [==============================] - 2s 8ms/step - loss: 24.8580 - val_loss: 23.0763\n",
            "Epoch 20/100\n",
            "284/284 [==============================] - 2s 8ms/step - loss: 24.8834 - val_loss: 22.9721\n",
            "Epoch 21/100\n",
            "284/284 [==============================] - 2s 9ms/step - loss: 24.8599 - val_loss: 22.9983\n"
          ]
        }
      ],
      "source": [
        "# 3. Construir o modelo\n",
        "model_BDLSTM = Sequential()\n",
        "model_BDLSTM.add(Bidirectional(LSTM(units=70, return_sequences=True), input_shape=(X_train_scaled.shape[1], 1)))\n",
        "model_BDLSTM.add(Bidirectional(LSTM(units=70)))\n",
        "model_BDLSTM.add(Dense(units=1))\n",
        "\n",
        "model_BDLSTM.compile(optimizer='adam', loss='mean_squared_error')\n",
        "\n",
        "# 4. Treinar o modelo\n",
        "history = model_BDLSTM.fit(X_train_scaled, y_train, epochs=100, batch_size=256, validation_split=0.10, callbacks=[early_stopping])"
      ]
    },
    {
      "cell_type": "code",
      "execution_count": 101,
      "metadata": {
        "colab": {
          "base_uri": "https://localhost:8080/"
        },
        "id": "ODJoZsJKTlWG",
        "outputId": "badfe54d-9060-4b4b-9f4b-e8f942e38bc8"
      },
      "outputs": [
        {
          "name": "stdout",
          "output_type": "stream",
          "text": [
            "1080/1080 [==============================] - 5s 3ms/step\n"
          ]
        }
      ],
      "source": [
        "# 5. Fazer previsões\n",
        "predicted_values_BDLSTM = model_BDLSTM.predict(X_test_scaled)"
      ]
    },
    {
      "cell_type": "markdown",
      "metadata": {},
      "source": [
        "### 8.12 - BDLSTM (Bidirecional Long Short-Term Memory)"
      ]
    },
    {
      "cell_type": "markdown",
      "metadata": {
        "id": "w9e7bKA0RbwF"
      },
      "source": [
        "# **9 - Comparando Modelos**\n"
      ]
    },
    {
      "cell_type": "code",
      "execution_count": null,
      "metadata": {},
      "outputs": [],
      "source": [
        "# 3. Construir o modelo GRU\n",
        "model_GRU = Sequential()\n",
        "model_GRU.add(GRU(units=70, return_sequences=True), input_shape=(X_train_scaled.shape[1], 1))\n",
        "model_GRU.add(GRU(units=70))\n",
        "model_GRU.add(Dense(units=1))\n",
        "\n",
        "model_GRU.compile(optimizer='adam', loss='mean_squared_error')\n",
        "\n",
        "# 4. Treinar o modelo\n",
        "history = model_GRU.fit(X_train_scaled, y_train, epochs=100, batch_size=256, validation_split=0.10, callbacks=[early_stopping])"
      ]
    },
    {
      "cell_type": "code",
      "execution_count": null,
      "metadata": {},
      "outputs": [],
      "source": [
        "# 5. Fazer previsões\n",
        "predicted_values_GRU = model_GRU.predict(X_test_scaled)"
      ]
    },
    {
      "cell_type": "markdown",
      "metadata": {
        "id": "ycIqfT7R-5lA"
      },
      "source": [
        "### 9.1 - Método 1"
      ]
    },
    {
      "cell_type": "code",
      "execution_count": 72,
      "metadata": {
        "colab": {
          "base_uri": "https://localhost:8080/"
        },
        "id": "joqF1WGzH-DM",
        "outputId": "ddcc9bae-9836-4501-df34-7c675db4cc24"
      },
      "outputs": [
        {
          "name": "stdout",
          "output_type": "stream",
          "text": [
            "Regressão Linear: 4.881212902805855\n",
            "Random Forest: 4.066423022145112\n",
            "Random Forest2: 4.065815804873535\n",
            "Regressão de Laço: 5.151700006383883\n",
            "Regressão de Cume: 4.8786578323443255\n",
            "Regressão de Cume2: 4.8786578323443255\n",
            "XGBoost: 4.066161510667336\n",
            "XGBoost2: 4.066159181919939\n",
            "Decision Tree: 4.066156375686458\n",
            "KNN: 4.593604934830322\n",
            "KNN2: 4.49084985108633\n",
            "LSTM: 4.073890360226032\n",
            "BDLSTM: 4.071620908363501\n"
          ]
        }
      ],
      "source": [
        "# Função para calcular o MAE - Método 1\n",
        "def calcular_mae(modelo):\n",
        "    predicoes = modelo.predict(X_test)\n",
        "    erro_absoluto = mean_absolute_error(predicoes, y_test)\n",
        "    return erro_absoluto\n",
        "\n",
        "# Calcular e imprimir o MAE para cada modelo\n",
        "Erro_absoluto_LR_modelo1 = calcular_mae(modeloLR)\n",
        "print('Regressão Linear:', Erro_absoluto_LR_modelo1)\n",
        "Erro_absoluto_RF_modelo1 = calcular_mae(modeloRF)\n",
        "print('Random Forest:', Erro_absoluto_RF_modelo1)\n",
        "Erro_absoluto_RF2_modelo1 = calcular_mae(modeloRF2)\n",
        "print('Random Forest2:', Erro_absoluto_RF2_modelo1)\n",
        "Erro_absoluto_RL_modelo1 = calcular_mae(modeloRL)\n",
        "print('Regressão de Laço:', Erro_absoluto_RL_modelo1)\n",
        "Erro_absoluto_RC_modelo1 = calcular_mae(modeloRC)\n",
        "print('Regressão de Cume:', Erro_absoluto_RC_modelo1)\n",
        "Erro_absoluto_RC2_modelo1 = calcular_mae(modeloRC)\n",
        "print('Regressão de Cume2:', Erro_absoluto_RC2_modelo1)\n",
        "Erro_absoluto_XGB_modelo1 = calcular_mae(modeloXGB)\n",
        "print('XGBoost:', Erro_absoluto_XGB_modelo1)\n",
        "Erro_absoluto_XGB2_modelo1 = calcular_mae(modeloXGB2)\n",
        "print('XGBoost2:', Erro_absoluto_XGB2_modelo1)\n",
        "Erro_absoluto_DT_modelo1 = calcular_mae(modeloDT)\n",
        "print('Decision Tree:', Erro_absoluto_DT_modelo1)\n",
        "Erro_absoluto_KNN_modelo1 = calcular_mae(modeloKNN)\n",
        "print('KNN:', Erro_absoluto_KNN_modelo1)\n",
        "Erro_absoluto_KNN2_modelo1 = calcular_mae(modeloKNN2)\n",
        "print('KNN2:', Erro_absoluto_KNN2_modelo1)\n",
        "\n",
        "Erro_absoluto_model_LSTM = mean_absolute_error(predicted_values, y_test)\n",
        "print('LSTM:', Erro_absoluto_model_LSTM)\n",
        "\n",
        "Erro_absoluto_model_BDLSTM = mean_absolute_error(predicted_values_BDLSTM, y_test)\n",
        "print('BDLSTM:', Erro_absoluto_model_BDLSTM)"
      ]
    },
    {
      "cell_type": "code",
      "execution_count": 73,
      "metadata": {
        "colab": {
          "base_uri": "https://localhost:8080/"
        },
        "id": "eQHuY9FQJUAr",
        "outputId": "b8165592-e789-4aa0-923e-d450a8ecd896"
      },
      "outputs": [
        {
          "name": "stdout",
          "output_type": "stream",
          "text": [
            "\n",
            "MSE do Regressão Linear: 37.170268010900685\n",
            "RMSE do Regressão Linear: 6.096742409754629\n",
            "\n",
            "MSE do Random Forest: 28.799481933188634\n",
            "RMSE do Random Forest: 5.3665148777571305\n",
            "\n",
            "MSE do Random Forest2: 28.800490823180315\n",
            "RMSE do Random Forest2: 5.3666088755544985\n",
            "\n",
            "MSE do Regressão de Lasso: 41.48274968943937\n",
            "RMSE do Regressão de Lasso: 6.440710340439118\n",
            "\n",
            "MSE do Regressão de Cume: 37.171548174730106\n",
            "RMSE do Regressão de Cume: 6.09684739637873\n",
            "\n",
            "MSE do Regressão de Cume2: 37.21781917038958\n",
            "RMSE do Regressão de Cume2: 6.100640881939338\n",
            "\n",
            "MSE do XGBoost: 28.800228048819957\n",
            "RMSE do XGBoost: 5.366584393151752\n",
            "\n",
            "MSE do XGBoost2: 28.800230187641745\n",
            "RMSE do XGBoost2: 5.366584592423914\n",
            "\n",
            "MSE do Decision Tree: 28.800230869640107\n",
            "RMSE do Decision Tree: 5.366584655965105\n",
            "\n",
            "MSE do KNN: 38.12706844514456\n",
            "RMSE do KNN: 6.174712013134261\n",
            "\n",
            "MSE do KNN2: 36.487941993551075\n",
            "RMSE do KNN2: 6.040524976651539\n",
            "1080/1080 [==============================] - 3s 2ms/step\n",
            "\n",
            "MSE do Modelo Keras LSTM: 28.887604704574414\n",
            "RMSE do Modelo Keras LSTM: 5.3747190349426095\n",
            "1080/1080 [==============================] - 4s 3ms/step\n",
            "\n",
            "MSE do Modelo Keras Bidirecional: 28.866212810771106\n",
            "RMSE do Modelo Keras Bidirecional: 5.372728618753333\n"
          ]
        }
      ],
      "source": [
        "# Função para calcular e imprimir MSE e RMSE - Método 1\n",
        "def calcular_e_imprimir_mse_rmse(modelo, nome_modelo):\n",
        "    predicoes = modelo.predict(X_test)\n",
        "    mse = mean_squared_error(predicoes, y_test)\n",
        "    rmse = np.sqrt(mse)\n",
        "    print(f'\\nMSE do {nome_modelo}: {mse}')\n",
        "    print(f'RMSE do {nome_modelo}: {rmse}')\n",
        "\n",
        "# Calcular e imprimir MSE e RMSE para cada modelo\n",
        "calcular_e_imprimir_mse_rmse(modeloLR, 'Regressão Linear')\n",
        "calcular_e_imprimir_mse_rmse(modeloRF, 'Random Forest')\n",
        "calcular_e_imprimir_mse_rmse(modeloRF2, 'Random Forest2')\n",
        "calcular_e_imprimir_mse_rmse(modeloRL, 'Regressão de Lasso')\n",
        "calcular_e_imprimir_mse_rmse(modeloRC, 'Regressão de Cume')\n",
        "calcular_e_imprimir_mse_rmse(modeloRC2, 'Regressão de Cume2')\n",
        "calcular_e_imprimir_mse_rmse(modeloXGB, 'XGBoost')\n",
        "calcular_e_imprimir_mse_rmse(modeloXGB2, 'XGBoost2')\n",
        "calcular_e_imprimir_mse_rmse(modeloDT, 'Decision Tree')\n",
        "calcular_e_imprimir_mse_rmse(modeloKNN, 'KNN')\n",
        "calcular_e_imprimir_mse_rmse(modeloKNN2, 'KNN2')\n",
        "\n",
        "def calcular_e_imprimir_mse_rmse_keras(modelo, nome_modelo, X_test_scaled):\n",
        "    # Observe que estamos usando X_test_scaled aqui, já que o modelo foi treinado com dados normalizados\n",
        "    predicoes = modelo.predict(X_test_scaled)\n",
        "\n",
        "    mse = mean_squared_error(predicoes, y_test)\n",
        "    rmse = np.sqrt(mse)\n",
        "\n",
        "    print(f'\\nMSE do {nome_modelo}: {mse}')\n",
        "    print(f'RMSE do {nome_modelo}: {rmse}')\n",
        "\n",
        "# Usando a função\n",
        "calcular_e_imprimir_mse_rmse_keras(model_LSTM, \"Modelo Keras LSTM\", X_test_scaled)\n",
        "calcular_e_imprimir_mse_rmse_keras(model_BDLSTM, \"Modelo Keras Bidirecional\", X_test_scaled)"
      ]
    },
    {
      "cell_type": "code",
      "execution_count": 74,
      "metadata": {
        "colab": {
          "base_uri": "https://localhost:8080/"
        },
        "id": "3ehG1Px6_GpR",
        "outputId": "0990ef64-566d-4c39-8595-72065338c135"
      },
      "outputs": [
        {
          "name": "stdout",
          "output_type": "stream",
          "text": [
            "R² do Regressão Linear: 0.10395280537895768\n",
            "R² do Random Forest: 0.30574363937313553\n",
            "R² do Random Forest2: 0.3057193185087699\n",
            "R² do Regressão de Lasso: -6.281189264267795e-06\n",
            "R² do Regressão de Cume: 0.10392194503628616\n",
            "R² do Regressão de Cume2: 0.10280651062938762\n",
            "R² do XGBoost: 0.3057256530939376\n",
            "R² do XGBoost2: 0.3057256015343076\n",
            "R² do Decision Tree: 0.3057255850936751\n",
            "R² do KNN: 0.08088764091296585\n",
            "R² do KNN2: 0.12040133659438401\n",
            "1080/1080 [==============================] - 3s 2ms/step\n",
            "R² do Modelo Keras LSTM: 0.3036193027377553\n",
            "1080/1080 [==============================] - 4s 3ms/step\n",
            "R² do Modelo Keras Bidirecional: 0.30413498765088176\n"
          ]
        }
      ],
      "source": [
        "# Função para calcular e imprimir R²\n",
        "def calcular_e_imprimir_r2(modelo, nome_modelo):\n",
        "    predicoes = modelo.predict(X_test)\n",
        "    r2 = r2_score(y_test, predicoes)\n",
        "    print(f'R² do {nome_modelo}: {r2}')\n",
        "\n",
        "# Calcular e imprimir R² para cada modelo\n",
        "calcular_e_imprimir_r2(modeloLR, 'Regressão Linear')\n",
        "calcular_e_imprimir_r2(modeloRF, 'Random Forest')\n",
        "calcular_e_imprimir_r2(modeloRF2, 'Random Forest2')\n",
        "calcular_e_imprimir_r2(modeloRL, 'Regressão de Lasso')\n",
        "calcular_e_imprimir_r2(modeloRC, 'Regressão de Cume')\n",
        "calcular_e_imprimir_r2(modeloRC2, 'Regressão de Cume2')\n",
        "calcular_e_imprimir_r2(modeloXGB, 'XGBoost')\n",
        "calcular_e_imprimir_r2(modeloXGB2, 'XGBoost2')\n",
        "calcular_e_imprimir_r2(modeloDT, 'Decision Tree')\n",
        "calcular_e_imprimir_r2(modeloKNN, 'KNN')\n",
        "calcular_e_imprimir_r2(modeloKNN2, 'KNN2')\n",
        "\n",
        "def calcular_e_imprimir_r2_keras(modelo, nome_modelo, X_test_scaled):\n",
        "    # Observe que estamos usando X_test_scaled aqui, já que o modelo foi treinado com dados normalizados\n",
        "    predicoes = modelo.predict(X_test_scaled)\n",
        "\n",
        "    r2 = r2_score(y_test, predicoes)\n",
        "    print(f'R² do {nome_modelo}: {r2}')\n",
        "\n",
        "# Usando a função\n",
        "calcular_e_imprimir_r2_keras(model_LSTM, \"Modelo Keras LSTM\", X_test_scaled)\n",
        "calcular_e_imprimir_r2_keras(model_BDLSTM, \"Modelo Keras Bidirecional\", X_test_scaled)\n"
      ]
    },
    {
      "cell_type": "code",
      "execution_count": 75,
      "metadata": {
        "id": "q41jd4MNCjkx"
      },
      "outputs": [],
      "source": [
        "resultados_1 = pd.DataFrame([Erro_absoluto_LR_modelo1,\n",
        "                           Erro_absoluto_RF_modelo1,\n",
        "                           Erro_absoluto_RF2_modelo1,\n",
        "                           Erro_absoluto_RL_modelo1,\n",
        "                           Erro_absoluto_RC_modelo1,\n",
        "                           Erro_absoluto_RC2_modelo1,\n",
        "                           Erro_absoluto_XGB_modelo1,\n",
        "                           Erro_absoluto_XGB2_modelo1,\n",
        "                           Erro_absoluto_DT_modelo1,\n",
        "                           Erro_absoluto_KNN_modelo1,\n",
        "                           Erro_absoluto_KNN2_modelo1,\n",
        "                           Erro_absoluto_model_LSTM,\n",
        "                           Erro_absoluto_model_BDLSTM])\n",
        "\n",
        "\n",
        "resultados_1[\"modelos\"] = [\"Reg. Linear\",\n",
        "                         \"R. Forest\",\n",
        "                         \"R. Forest2\",\n",
        "                         \"Reg. Lasso\",\n",
        "                         \"Reg. Cume\",\n",
        "                         \"Reg. Cume2\",\n",
        "                         \"XGBoost\",\n",
        "                         \"XGBoost2\",\n",
        "                         \"Decision Tree\",\n",
        "                         \"KNN\",\n",
        "                         \"KNN2\",\n",
        "                         \"LSTM\",\n",
        "                         \"BDLSTM\"]\n",
        "\n",
        "resultados_1 = resultados_1.rename({0: \"erro_medio\"}, axis = 1)"
      ]
    },
    {
      "cell_type": "code",
      "execution_count": 76,
      "metadata": {
        "id": "rV9jj4K9DT-l"
      },
      "outputs": [],
      "source": [
        "resultados_1[\"metodo\"] = 1"
      ]
    },
    {
      "cell_type": "code",
      "execution_count": 77,
      "metadata": {
        "id": "Hkps1p1r9jXl"
      },
      "outputs": [],
      "source": [
        "resultados_1 = resultados_1.rename({0: \"erro_medio\"}, axis = 1)"
      ]
    },
    {
      "cell_type": "code",
      "execution_count": 78,
      "metadata": {
        "colab": {
          "base_uri": "https://localhost:8080/",
          "height": 457
        },
        "id": "isda_5WnD3f_",
        "outputId": "c8afae7c-8639-4d8c-8a2c-055fbff5a9cd"
      },
      "outputs": [
        {
          "data": {
            "text/html": [
              "\n",
              "  <div id=\"df-16bf5531-b11b-4bdf-ac78-b69566a498b1\" class=\"colab-df-container\">\n",
              "    <div>\n",
              "<style scoped>\n",
              "    .dataframe tbody tr th:only-of-type {\n",
              "        vertical-align: middle;\n",
              "    }\n",
              "\n",
              "    .dataframe tbody tr th {\n",
              "        vertical-align: top;\n",
              "    }\n",
              "\n",
              "    .dataframe thead th {\n",
              "        text-align: right;\n",
              "    }\n",
              "</style>\n",
              "<table border=\"1\" class=\"dataframe\">\n",
              "  <thead>\n",
              "    <tr style=\"text-align: right;\">\n",
              "      <th></th>\n",
              "      <th>erro_medio</th>\n",
              "      <th>modelos</th>\n",
              "      <th>metodo</th>\n",
              "    </tr>\n",
              "  </thead>\n",
              "  <tbody>\n",
              "    <tr>\n",
              "      <th>0</th>\n",
              "      <td>4.881213</td>\n",
              "      <td>Reg. Linear</td>\n",
              "      <td>1</td>\n",
              "    </tr>\n",
              "    <tr>\n",
              "      <th>1</th>\n",
              "      <td>4.066423</td>\n",
              "      <td>R. Forest</td>\n",
              "      <td>1</td>\n",
              "    </tr>\n",
              "    <tr>\n",
              "      <th>2</th>\n",
              "      <td>4.065816</td>\n",
              "      <td>R. Forest2</td>\n",
              "      <td>1</td>\n",
              "    </tr>\n",
              "    <tr>\n",
              "      <th>3</th>\n",
              "      <td>5.151700</td>\n",
              "      <td>Reg. Lasso</td>\n",
              "      <td>1</td>\n",
              "    </tr>\n",
              "    <tr>\n",
              "      <th>4</th>\n",
              "      <td>4.878658</td>\n",
              "      <td>Reg. Cume</td>\n",
              "      <td>1</td>\n",
              "    </tr>\n",
              "    <tr>\n",
              "      <th>5</th>\n",
              "      <td>4.878658</td>\n",
              "      <td>Reg. Cume2</td>\n",
              "      <td>1</td>\n",
              "    </tr>\n",
              "    <tr>\n",
              "      <th>6</th>\n",
              "      <td>4.066162</td>\n",
              "      <td>XGBoost</td>\n",
              "      <td>1</td>\n",
              "    </tr>\n",
              "    <tr>\n",
              "      <th>7</th>\n",
              "      <td>4.066159</td>\n",
              "      <td>XGBoost2</td>\n",
              "      <td>1</td>\n",
              "    </tr>\n",
              "    <tr>\n",
              "      <th>8</th>\n",
              "      <td>4.066156</td>\n",
              "      <td>Decision Tree</td>\n",
              "      <td>1</td>\n",
              "    </tr>\n",
              "    <tr>\n",
              "      <th>9</th>\n",
              "      <td>4.593605</td>\n",
              "      <td>KNN</td>\n",
              "      <td>1</td>\n",
              "    </tr>\n",
              "    <tr>\n",
              "      <th>10</th>\n",
              "      <td>4.490850</td>\n",
              "      <td>KNN2</td>\n",
              "      <td>1</td>\n",
              "    </tr>\n",
              "    <tr>\n",
              "      <th>11</th>\n",
              "      <td>4.073890</td>\n",
              "      <td>LSTM</td>\n",
              "      <td>1</td>\n",
              "    </tr>\n",
              "    <tr>\n",
              "      <th>12</th>\n",
              "      <td>4.071621</td>\n",
              "      <td>BDLSTM</td>\n",
              "      <td>1</td>\n",
              "    </tr>\n",
              "  </tbody>\n",
              "</table>\n",
              "</div>\n",
              "    <div class=\"colab-df-buttons\">\n",
              "\n",
              "  <div class=\"colab-df-container\">\n",
              "    <button class=\"colab-df-convert\" onclick=\"convertToInteractive('df-16bf5531-b11b-4bdf-ac78-b69566a498b1')\"\n",
              "            title=\"Convert this dataframe to an interactive table.\"\n",
              "            style=\"display:none;\">\n",
              "\n",
              "  <svg xmlns=\"http://www.w3.org/2000/svg\" height=\"24px\" viewBox=\"0 -960 960 960\">\n",
              "    <path d=\"M120-120v-720h720v720H120Zm60-500h600v-160H180v160Zm220 220h160v-160H400v160Zm0 220h160v-160H400v160ZM180-400h160v-160H180v160Zm440 0h160v-160H620v160ZM180-180h160v-160H180v160Zm440 0h160v-160H620v160Z\"/>\n",
              "  </svg>\n",
              "    </button>\n",
              "\n",
              "  <style>\n",
              "    .colab-df-container {\n",
              "      display:flex;\n",
              "      gap: 12px;\n",
              "    }\n",
              "\n",
              "    .colab-df-convert {\n",
              "      background-color: #E8F0FE;\n",
              "      border: none;\n",
              "      border-radius: 50%;\n",
              "      cursor: pointer;\n",
              "      display: none;\n",
              "      fill: #1967D2;\n",
              "      height: 32px;\n",
              "      padding: 0 0 0 0;\n",
              "      width: 32px;\n",
              "    }\n",
              "\n",
              "    .colab-df-convert:hover {\n",
              "      background-color: #E2EBFA;\n",
              "      box-shadow: 0px 1px 2px rgba(60, 64, 67, 0.3), 0px 1px 3px 1px rgba(60, 64, 67, 0.15);\n",
              "      fill: #174EA6;\n",
              "    }\n",
              "\n",
              "    .colab-df-buttons div {\n",
              "      margin-bottom: 4px;\n",
              "    }\n",
              "\n",
              "    [theme=dark] .colab-df-convert {\n",
              "      background-color: #3B4455;\n",
              "      fill: #D2E3FC;\n",
              "    }\n",
              "\n",
              "    [theme=dark] .colab-df-convert:hover {\n",
              "      background-color: #434B5C;\n",
              "      box-shadow: 0px 1px 3px 1px rgba(0, 0, 0, 0.15);\n",
              "      filter: drop-shadow(0px 1px 2px rgba(0, 0, 0, 0.3));\n",
              "      fill: #FFFFFF;\n",
              "    }\n",
              "  </style>\n",
              "\n",
              "    <script>\n",
              "      const buttonEl =\n",
              "        document.querySelector('#df-16bf5531-b11b-4bdf-ac78-b69566a498b1 button.colab-df-convert');\n",
              "      buttonEl.style.display =\n",
              "        google.colab.kernel.accessAllowed ? 'block' : 'none';\n",
              "\n",
              "      async function convertToInteractive(key) {\n",
              "        const element = document.querySelector('#df-16bf5531-b11b-4bdf-ac78-b69566a498b1');\n",
              "        const dataTable =\n",
              "          await google.colab.kernel.invokeFunction('convertToInteractive',\n",
              "                                                    [key], {});\n",
              "        if (!dataTable) return;\n",
              "\n",
              "        const docLinkHtml = 'Like what you see? Visit the ' +\n",
              "          '<a target=\"_blank\" href=https://colab.research.google.com/notebooks/data_table.ipynb>data table notebook</a>'\n",
              "          + ' to learn more about interactive tables.';\n",
              "        element.innerHTML = '';\n",
              "        dataTable['output_type'] = 'display_data';\n",
              "        await google.colab.output.renderOutput(dataTable, element);\n",
              "        const docLink = document.createElement('div');\n",
              "        docLink.innerHTML = docLinkHtml;\n",
              "        element.appendChild(docLink);\n",
              "      }\n",
              "    </script>\n",
              "  </div>\n",
              "\n",
              "\n",
              "<div id=\"df-960b1a76-0e8a-41ea-a64f-a25aeb622fac\">\n",
              "  <button class=\"colab-df-quickchart\" onclick=\"quickchart('df-960b1a76-0e8a-41ea-a64f-a25aeb622fac')\"\n",
              "            title=\"Suggest charts.\"\n",
              "            style=\"display:none;\">\n",
              "\n",
              "<svg xmlns=\"http://www.w3.org/2000/svg\" height=\"24px\"viewBox=\"0 0 24 24\"\n",
              "     width=\"24px\">\n",
              "    <g>\n",
              "        <path d=\"M19 3H5c-1.1 0-2 .9-2 2v14c0 1.1.9 2 2 2h14c1.1 0 2-.9 2-2V5c0-1.1-.9-2-2-2zM9 17H7v-7h2v7zm4 0h-2V7h2v10zm4 0h-2v-4h2v4z\"/>\n",
              "    </g>\n",
              "</svg>\n",
              "  </button>\n",
              "\n",
              "<style>\n",
              "  .colab-df-quickchart {\n",
              "      --bg-color: #E8F0FE;\n",
              "      --fill-color: #1967D2;\n",
              "      --hover-bg-color: #E2EBFA;\n",
              "      --hover-fill-color: #174EA6;\n",
              "      --disabled-fill-color: #AAA;\n",
              "      --disabled-bg-color: #DDD;\n",
              "  }\n",
              "\n",
              "  [theme=dark] .colab-df-quickchart {\n",
              "      --bg-color: #3B4455;\n",
              "      --fill-color: #D2E3FC;\n",
              "      --hover-bg-color: #434B5C;\n",
              "      --hover-fill-color: #FFFFFF;\n",
              "      --disabled-bg-color: #3B4455;\n",
              "      --disabled-fill-color: #666;\n",
              "  }\n",
              "\n",
              "  .colab-df-quickchart {\n",
              "    background-color: var(--bg-color);\n",
              "    border: none;\n",
              "    border-radius: 50%;\n",
              "    cursor: pointer;\n",
              "    display: none;\n",
              "    fill: var(--fill-color);\n",
              "    height: 32px;\n",
              "    padding: 0;\n",
              "    width: 32px;\n",
              "  }\n",
              "\n",
              "  .colab-df-quickchart:hover {\n",
              "    background-color: var(--hover-bg-color);\n",
              "    box-shadow: 0 1px 2px rgba(60, 64, 67, 0.3), 0 1px 3px 1px rgba(60, 64, 67, 0.15);\n",
              "    fill: var(--button-hover-fill-color);\n",
              "  }\n",
              "\n",
              "  .colab-df-quickchart-complete:disabled,\n",
              "  .colab-df-quickchart-complete:disabled:hover {\n",
              "    background-color: var(--disabled-bg-color);\n",
              "    fill: var(--disabled-fill-color);\n",
              "    box-shadow: none;\n",
              "  }\n",
              "\n",
              "  .colab-df-spinner {\n",
              "    border: 2px solid var(--fill-color);\n",
              "    border-color: transparent;\n",
              "    border-bottom-color: var(--fill-color);\n",
              "    animation:\n",
              "      spin 1s steps(1) infinite;\n",
              "  }\n",
              "\n",
              "  @keyframes spin {\n",
              "    0% {\n",
              "      border-color: transparent;\n",
              "      border-bottom-color: var(--fill-color);\n",
              "      border-left-color: var(--fill-color);\n",
              "    }\n",
              "    20% {\n",
              "      border-color: transparent;\n",
              "      border-left-color: var(--fill-color);\n",
              "      border-top-color: var(--fill-color);\n",
              "    }\n",
              "    30% {\n",
              "      border-color: transparent;\n",
              "      border-left-color: var(--fill-color);\n",
              "      border-top-color: var(--fill-color);\n",
              "      border-right-color: var(--fill-color);\n",
              "    }\n",
              "    40% {\n",
              "      border-color: transparent;\n",
              "      border-right-color: var(--fill-color);\n",
              "      border-top-color: var(--fill-color);\n",
              "    }\n",
              "    60% {\n",
              "      border-color: transparent;\n",
              "      border-right-color: var(--fill-color);\n",
              "    }\n",
              "    80% {\n",
              "      border-color: transparent;\n",
              "      border-right-color: var(--fill-color);\n",
              "      border-bottom-color: var(--fill-color);\n",
              "    }\n",
              "    90% {\n",
              "      border-color: transparent;\n",
              "      border-bottom-color: var(--fill-color);\n",
              "    }\n",
              "  }\n",
              "</style>\n",
              "\n",
              "  <script>\n",
              "    async function quickchart(key) {\n",
              "      const quickchartButtonEl =\n",
              "        document.querySelector('#' + key + ' button');\n",
              "      quickchartButtonEl.disabled = true;  // To prevent multiple clicks.\n",
              "      quickchartButtonEl.classList.add('colab-df-spinner');\n",
              "      try {\n",
              "        const charts = await google.colab.kernel.invokeFunction(\n",
              "            'suggestCharts', [key], {});\n",
              "      } catch (error) {\n",
              "        console.error('Error during call to suggestCharts:', error);\n",
              "      }\n",
              "      quickchartButtonEl.classList.remove('colab-df-spinner');\n",
              "      quickchartButtonEl.classList.add('colab-df-quickchart-complete');\n",
              "    }\n",
              "    (() => {\n",
              "      let quickchartButtonEl =\n",
              "        document.querySelector('#df-960b1a76-0e8a-41ea-a64f-a25aeb622fac button');\n",
              "      quickchartButtonEl.style.display =\n",
              "        google.colab.kernel.accessAllowed ? 'block' : 'none';\n",
              "    })();\n",
              "  </script>\n",
              "</div>\n",
              "    </div>\n",
              "  </div>\n"
            ],
            "text/plain": [
              "    erro_medio        modelos  metodo\n",
              "0     4.881213    Reg. Linear       1\n",
              "1     4.066423      R. Forest       1\n",
              "2     4.065816     R. Forest2       1\n",
              "3     5.151700     Reg. Lasso       1\n",
              "4     4.878658      Reg. Cume       1\n",
              "5     4.878658     Reg. Cume2       1\n",
              "6     4.066162        XGBoost       1\n",
              "7     4.066159       XGBoost2       1\n",
              "8     4.066156  Decision Tree       1\n",
              "9     4.593605            KNN       1\n",
              "10    4.490850           KNN2       1\n",
              "11    4.073890           LSTM       1\n",
              "12    4.071621         BDLSTM       1"
            ]
          },
          "execution_count": 78,
          "metadata": {},
          "output_type": "execute_result"
        }
      ],
      "source": [
        "resultados_1"
      ]
    },
    {
      "cell_type": "markdown",
      "metadata": {
        "id": "SVU5YQ6Q78WY"
      },
      "source": [
        "### 9.2 - Método 2"
      ]
    },
    {
      "cell_type": "code",
      "execution_count": 102,
      "metadata": {
        "colab": {
          "base_uri": "https://localhost:8080/"
        },
        "id": "uwCk8U8q5VYb",
        "outputId": "53dc28d4-785d-4484-a475-3396c25a302e"
      },
      "outputs": [
        {
          "name": "stdout",
          "output_type": "stream",
          "text": [
            "Regressão Linear: 3.56709482127068\n",
            "Random Forest: 3.582273254360448\n",
            "Random Forest2: 3.582647465289841\n",
            "Regressão de Laço: 3.6224855890794347\n",
            "Regressão de Cume: 3.567094837308428\n",
            "Regressão de Cume2: 3.864257319608739\n",
            "XGBoost: 3.5818566035237036\n",
            "XGBoost2: 3.5820960235944224\n",
            "Decision Tree: 3.5821924527680244\n",
            "KNN: 3.8664215199012446\n",
            "KNN2: 3.795736260505864\n",
            "LSTM: 3.611744016550971\n",
            "BDLSTM: 3.5556360464938104\n"
          ]
        }
      ],
      "source": [
        "# Função para calcular o MAE - Método 2\n",
        "def calcular_mae(modelo):\n",
        "    predicoes = modelo.predict(X_test)\n",
        "    erro_absoluto = mean_absolute_error(predicoes, y_test)\n",
        "    return erro_absoluto\n",
        "\n",
        "# Calcular e imprimir o MAE para cada modelo\n",
        "Erro_absoluto_LR_modelo2 = calcular_mae(modeloLR)\n",
        "print('Regressão Linear:', Erro_absoluto_LR_modelo2)\n",
        "Erro_absoluto_RF_modelo2 = calcular_mae(modeloRF)\n",
        "print('Random Forest:', Erro_absoluto_RF_modelo2)\n",
        "Erro_absoluto_RF2_modelo2 = calcular_mae(modeloRF2)\n",
        "print('Random Forest2:', Erro_absoluto_RF2_modelo2)\n",
        "Erro_absoluto_RL_modelo2 = calcular_mae(modeloRL)\n",
        "print('Regressão de Laço:', Erro_absoluto_RL_modelo2)\n",
        "Erro_absoluto_RC_modelo2 = calcular_mae(modeloRC)\n",
        "print('Regressão de Cume:', Erro_absoluto_RC_modelo2)\n",
        "Erro_absoluto_RC2_modelo2 = calcular_mae(modeloRC2)\n",
        "print('Regressão de Cume2:', Erro_absoluto_RC2_modelo2)\n",
        "Erro_absoluto_XGB_modelo2 = calcular_mae(modeloXGB)\n",
        "print('XGBoost:', Erro_absoluto_XGB_modelo2)\n",
        "Erro_absoluto_XGB2_modelo2 = calcular_mae(modeloXGB2)\n",
        "print('XGBoost2:', Erro_absoluto_XGB2_modelo2)\n",
        "Erro_absoluto_DT_modelo2 = calcular_mae(modeloDT)\n",
        "print('Decision Tree:', Erro_absoluto_DT_modelo2)\n",
        "Erro_absoluto_KNN_modelo2 = calcular_mae(modeloKNN)\n",
        "print('KNN:', Erro_absoluto_KNN_modelo2)\n",
        "Erro_absoluto_KNN2_modelo2 = calcular_mae(modeloKNN2)\n",
        "print('KNN2:', Erro_absoluto_KNN2_modelo2)\n",
        "\n",
        "Erro_absoluto_model_LSTM_modelo2 = mean_absolute_error(predicted_values, y_test)\n",
        "print('LSTM:', Erro_absoluto_model_LSTM_modelo2)\n",
        "\n",
        "Erro_absoluto_model_BDLSTM_modelo2 = mean_absolute_error(predicted_values_BDLSTM, y_test)\n",
        "print('BDLSTM:', Erro_absoluto_model_BDLSTM_modelo2)"
      ]
    },
    {
      "cell_type": "code",
      "execution_count": 103,
      "metadata": {
        "colab": {
          "base_uri": "https://localhost:8080/"
        },
        "id": "b8XcAAP6Iud0",
        "outputId": "fe718e03-e82b-470f-dd07-8b82d1daa10b"
      },
      "outputs": [
        {
          "name": "stdout",
          "output_type": "stream",
          "text": [
            "\n",
            "MSE do Regressão Linear: 25.185476259227435\n",
            "RMSE do Regressão Linear: 5.018513351504351\n",
            "\n",
            "MSE do Random Forest: 25.42049991219868\n",
            "RMSE do Random Forest: 5.04187464265016\n",
            "\n",
            "MSE do Random Forest2: 25.42371978042199\n",
            "RMSE do Random Forest2: 5.0421939451415385\n",
            "\n",
            "MSE do Regressão de Lasso: 25.29347152004985\n",
            "RMSE do Regressão de Lasso: 5.0292615283011335\n",
            "\n",
            "MSE do Regressão de Cume: 25.18547637147219\n",
            "RMSE do Regressão de Cume: 5.018513362687419\n",
            "\n",
            "MSE do Regressão de Cume2: 26.30855253991143\n",
            "RMSE do Regressão de Cume2: 5.129186342872662\n",
            "\n",
            "MSE do XGBoost: 25.41934648699767\n",
            "RMSE do XGBoost: 5.041760256795008\n",
            "\n",
            "MSE do XGBoost2: 25.42214486004429\n",
            "RMSE do XGBoost2: 5.042037768605496\n",
            "\n",
            "MSE do Decision Tree: 25.42325388035038\n",
            "RMSE do Decision Tree: 5.0421477447958996\n",
            "\n",
            "MSE do KNN: 30.666202867701926\n",
            "RMSE do KNN: 5.537707365661527\n",
            "\n",
            "MSE do KNN2: 29.522315575098503\n",
            "RMSE do KNN2: 5.433444172447022\n",
            "1080/1080 [==============================] - 3s 2ms/step\n",
            "\n",
            "MSE do Modelo Keras LSTM: 25.37112786389834\n",
            "RMSE do Modelo Keras LSTM: 5.036976063462912\n",
            "1080/1080 [==============================] - 4s 3ms/step\n",
            "\n",
            "MSE do Modelo Keras Bidirecional: 25.2455774046607\n",
            "RMSE do Modelo Keras Bidirecional: 5.024497726605188\n"
          ]
        }
      ],
      "source": [
        "# Função para calcular e imprimir MSE e RMSE - Método 2\n",
        "def calcular_e_imprimir_mse_rmse(modelo, nome_modelo):\n",
        "    predicoes = modelo.predict(X_test)\n",
        "    mse = mean_squared_error(predicoes, y_test)\n",
        "    rmse = np.sqrt(mse)\n",
        "    print(f'\\nMSE do {nome_modelo}: {mse}')\n",
        "    print(f'RMSE do {nome_modelo}: {rmse}')\n",
        "\n",
        "# Calcular e imprimir MSE e RMSE para cada modelo\n",
        "calcular_e_imprimir_mse_rmse(modeloLR, 'Regressão Linear')\n",
        "calcular_e_imprimir_mse_rmse(modeloRF, 'Random Forest')\n",
        "calcular_e_imprimir_mse_rmse(modeloRF2, 'Random Forest2')\n",
        "calcular_e_imprimir_mse_rmse(modeloRL, 'Regressão de Lasso')\n",
        "calcular_e_imprimir_mse_rmse(modeloRC, 'Regressão de Cume')\n",
        "calcular_e_imprimir_mse_rmse(modeloRC2, 'Regressão de Cume2')\n",
        "calcular_e_imprimir_mse_rmse(modeloXGB, 'XGBoost')\n",
        "calcular_e_imprimir_mse_rmse(modeloXGB2, 'XGBoost2')\n",
        "calcular_e_imprimir_mse_rmse(modeloDT, 'Decision Tree')\n",
        "calcular_e_imprimir_mse_rmse(modeloKNN, 'KNN')\n",
        "calcular_e_imprimir_mse_rmse(modeloKNN2, 'KNN2')\n",
        "\n",
        "def calcular_e_imprimir_mse_rmse_keras(modelo, nome_modelo, X_test_scaled):\n",
        "    # Observe que estamos usando X_test_scaled aqui, já que o modelo foi treinado com dados normalizados\n",
        "    predicoes = modelo.predict(X_test_scaled)\n",
        "\n",
        "    mse = mean_squared_error(predicoes, y_test)\n",
        "    rmse = np.sqrt(mse)\n",
        "\n",
        "    print(f'\\nMSE do {nome_modelo}: {mse}')\n",
        "    print(f'RMSE do {nome_modelo}: {rmse}')\n",
        "\n",
        "# Usando a função\n",
        "calcular_e_imprimir_mse_rmse_keras(model_LSTM, \"Modelo Keras LSTM\", X_test_scaled)\n",
        "calcular_e_imprimir_mse_rmse_keras(model_BDLSTM, \"Modelo Keras Bidirecional\", X_test_scaled)"
      ]
    },
    {
      "cell_type": "code",
      "execution_count": 104,
      "metadata": {
        "colab": {
          "base_uri": "https://localhost:8080/"
        },
        "id": "Baq_LNWjSXX2",
        "outputId": "d2e2bcfd-bcb9-4db7-af28-6462a14ea705"
      },
      "outputs": [
        {
          "name": "stdout",
          "output_type": "stream",
          "text": [
            "R² do Regressão Linear: 0.3928648741338798\n",
            "R² do Random Forest: 0.3871992629832496\n",
            "R² do Random Forest2: 0.387121643045516\n",
            "R² do Regressão de Lasso: 0.39026148019375784\n",
            "R² do Regressão de Cume: 0.39286487142804516\n",
            "R² do XGBoost: 0.3872270680939167\n",
            "R² do XGBoost2: 0.38715960895379986\n",
            "R² do Decision Tree: 0.3871328742922754\n",
            "R² do KNN: 0.26074342425441566\n",
            "R² do KNN2: 0.2883186087862939\n",
            "1080/1080 [==============================] - 3s 2ms/step\n",
            "R² do Modelo Keras LSTM: 0.3883894530932386\n",
            "1080/1080 [==============================] - 4s 3ms/step\n",
            "R² do Modelo Keras Bidirecional: 0.391416042429379\n"
          ]
        }
      ],
      "source": [
        "# Função para calcular e imprimir R²\n",
        "def calcular_e_imprimir_r2(modelo, nome_modelo):\n",
        "    predicoes = modelo.predict(X_test)\n",
        "    r2 = r2_score(y_test, predicoes)\n",
        "    print(f'R² do {nome_modelo}: {r2}')\n",
        "\n",
        "# Calcular e imprimir R² para cada modelo\n",
        "calcular_e_imprimir_r2(modeloLR, 'Regressão Linear')\n",
        "calcular_e_imprimir_r2(modeloRF, 'Random Forest')\n",
        "calcular_e_imprimir_r2(modeloRF2, 'Random Forest2')\n",
        "calcular_e_imprimir_r2(modeloRL, 'Regressão de Lasso')\n",
        "calcular_e_imprimir_r2(modeloRC, 'Regressão de Cume')\n",
        "calcular_e_imprimir_r2(modeloXGB, 'XGBoost')\n",
        "calcular_e_imprimir_r2(modeloXGB2, 'XGBoost2')\n",
        "calcular_e_imprimir_r2(modeloDT, 'Decision Tree')\n",
        "calcular_e_imprimir_r2(modeloKNN, 'KNN')\n",
        "calcular_e_imprimir_r2(modeloKNN2, 'KNN2')\n",
        "\n",
        "def calcular_e_imprimir_r2_keras(modelo, nome_modelo, X_test_scaled):\n",
        "    # Observe que estamos usando X_test_scaled aqui, já que o modelo foi treinado com dados normalizados\n",
        "    predicoes = modelo.predict(X_test_scaled)\n",
        "\n",
        "    r2 = r2_score(y_test, predicoes)\n",
        "    print(f'R² do {nome_modelo}: {r2}')\n",
        "\n",
        "# Usando a função\n",
        "calcular_e_imprimir_r2_keras(model_LSTM, \"Modelo Keras LSTM\", X_test_scaled)\n",
        "calcular_e_imprimir_r2_keras(model_BDLSTM, \"Modelo Keras Bidirecional\", X_test_scaled)"
      ]
    },
    {
      "cell_type": "code",
      "execution_count": 105,
      "metadata": {
        "id": "nsGQE5lu8nuA"
      },
      "outputs": [],
      "source": [
        "resultados_2 = pd.DataFrame([Erro_absoluto_LR_modelo2,\n",
        "                           Erro_absoluto_RF_modelo2,\n",
        "                           Erro_absoluto_RF2_modelo2,\n",
        "                           Erro_absoluto_RL_modelo2,\n",
        "                           Erro_absoluto_RC_modelo2,\n",
        "                           Erro_absoluto_RC2_modelo2,\n",
        "                           Erro_absoluto_XGB_modelo2,\n",
        "                           Erro_absoluto_XGB2_modelo2,\n",
        "                           Erro_absoluto_DT_modelo2,\n",
        "                           Erro_absoluto_KNN_modelo2,\n",
        "                           Erro_absoluto_KNN2_modelo2,\n",
        "                           Erro_absoluto_model_LSTM_modelo2,\n",
        "                           Erro_absoluto_model_BDLSTM_modelo2])\n",
        "\n",
        "resultados_2[\"modelos\"] = [\"Reg. Linear\",\n",
        "                         \"R. Forest\",\n",
        "                         \"R. Forest2\",\n",
        "                         \"Reg. Lasso\",\n",
        "                         \"Reg. Cume\",\n",
        "                         \"Reg. Cume2\",\n",
        "                         \"XGBoost\",\n",
        "                         \"XGBoost2\",\n",
        "                         \"Decision Tree\",\n",
        "                         \"KNN\",\n",
        "                         \"KNN2\",\n",
        "                         \"LSTM\",\n",
        "                         \"BDLSTM\"]"
      ]
    },
    {
      "cell_type": "code",
      "execution_count": 106,
      "metadata": {
        "id": "DQZHA9dU96qB"
      },
      "outputs": [],
      "source": [
        "resultados_2[\"metodo\"] = 2"
      ]
    },
    {
      "cell_type": "code",
      "execution_count": 107,
      "metadata": {
        "id": "pT0jmAAIGxro"
      },
      "outputs": [],
      "source": [
        "resultados_2 = resultados_2.rename({0: \"erro_medio\"}, axis = 1)"
      ]
    },
    {
      "cell_type": "code",
      "execution_count": 108,
      "metadata": {
        "colab": {
          "base_uri": "https://localhost:8080/",
          "height": 457
        },
        "id": "leZyhd9oFxYt",
        "outputId": "fafc28c9-df29-47d3-d194-847709949cde"
      },
      "outputs": [
        {
          "data": {
            "text/html": [
              "\n",
              "  <div id=\"df-3793b7ea-d9f1-4f0f-8761-3645492b3de2\" class=\"colab-df-container\">\n",
              "    <div>\n",
              "<style scoped>\n",
              "    .dataframe tbody tr th:only-of-type {\n",
              "        vertical-align: middle;\n",
              "    }\n",
              "\n",
              "    .dataframe tbody tr th {\n",
              "        vertical-align: top;\n",
              "    }\n",
              "\n",
              "    .dataframe thead th {\n",
              "        text-align: right;\n",
              "    }\n",
              "</style>\n",
              "<table border=\"1\" class=\"dataframe\">\n",
              "  <thead>\n",
              "    <tr style=\"text-align: right;\">\n",
              "      <th></th>\n",
              "      <th>erro_medio</th>\n",
              "      <th>modelos</th>\n",
              "      <th>metodo</th>\n",
              "    </tr>\n",
              "  </thead>\n",
              "  <tbody>\n",
              "    <tr>\n",
              "      <th>0</th>\n",
              "      <td>3.567095</td>\n",
              "      <td>Reg. Linear</td>\n",
              "      <td>2</td>\n",
              "    </tr>\n",
              "    <tr>\n",
              "      <th>1</th>\n",
              "      <td>3.582273</td>\n",
              "      <td>R. Forest</td>\n",
              "      <td>2</td>\n",
              "    </tr>\n",
              "    <tr>\n",
              "      <th>2</th>\n",
              "      <td>3.582647</td>\n",
              "      <td>R. Forest2</td>\n",
              "      <td>2</td>\n",
              "    </tr>\n",
              "    <tr>\n",
              "      <th>3</th>\n",
              "      <td>3.622486</td>\n",
              "      <td>Reg. Lasso</td>\n",
              "      <td>2</td>\n",
              "    </tr>\n",
              "    <tr>\n",
              "      <th>4</th>\n",
              "      <td>3.567095</td>\n",
              "      <td>Reg. Cume</td>\n",
              "      <td>2</td>\n",
              "    </tr>\n",
              "    <tr>\n",
              "      <th>5</th>\n",
              "      <td>3.864257</td>\n",
              "      <td>Reg. Cume2</td>\n",
              "      <td>2</td>\n",
              "    </tr>\n",
              "    <tr>\n",
              "      <th>6</th>\n",
              "      <td>3.581857</td>\n",
              "      <td>XGBoost</td>\n",
              "      <td>2</td>\n",
              "    </tr>\n",
              "    <tr>\n",
              "      <th>7</th>\n",
              "      <td>3.582096</td>\n",
              "      <td>XGBoost2</td>\n",
              "      <td>2</td>\n",
              "    </tr>\n",
              "    <tr>\n",
              "      <th>8</th>\n",
              "      <td>3.582192</td>\n",
              "      <td>Decision Tree</td>\n",
              "      <td>2</td>\n",
              "    </tr>\n",
              "    <tr>\n",
              "      <th>9</th>\n",
              "      <td>3.866422</td>\n",
              "      <td>KNN</td>\n",
              "      <td>2</td>\n",
              "    </tr>\n",
              "    <tr>\n",
              "      <th>10</th>\n",
              "      <td>3.795736</td>\n",
              "      <td>KNN2</td>\n",
              "      <td>2</td>\n",
              "    </tr>\n",
              "    <tr>\n",
              "      <th>11</th>\n",
              "      <td>3.611744</td>\n",
              "      <td>LSTM</td>\n",
              "      <td>2</td>\n",
              "    </tr>\n",
              "    <tr>\n",
              "      <th>12</th>\n",
              "      <td>3.555636</td>\n",
              "      <td>BDLSTM</td>\n",
              "      <td>2</td>\n",
              "    </tr>\n",
              "  </tbody>\n",
              "</table>\n",
              "</div>\n",
              "    <div class=\"colab-df-buttons\">\n",
              "\n",
              "  <div class=\"colab-df-container\">\n",
              "    <button class=\"colab-df-convert\" onclick=\"convertToInteractive('df-3793b7ea-d9f1-4f0f-8761-3645492b3de2')\"\n",
              "            title=\"Convert this dataframe to an interactive table.\"\n",
              "            style=\"display:none;\">\n",
              "\n",
              "  <svg xmlns=\"http://www.w3.org/2000/svg\" height=\"24px\" viewBox=\"0 -960 960 960\">\n",
              "    <path d=\"M120-120v-720h720v720H120Zm60-500h600v-160H180v160Zm220 220h160v-160H400v160Zm0 220h160v-160H400v160ZM180-400h160v-160H180v160Zm440 0h160v-160H620v160ZM180-180h160v-160H180v160Zm440 0h160v-160H620v160Z\"/>\n",
              "  </svg>\n",
              "    </button>\n",
              "\n",
              "  <style>\n",
              "    .colab-df-container {\n",
              "      display:flex;\n",
              "      gap: 12px;\n",
              "    }\n",
              "\n",
              "    .colab-df-convert {\n",
              "      background-color: #E8F0FE;\n",
              "      border: none;\n",
              "      border-radius: 50%;\n",
              "      cursor: pointer;\n",
              "      display: none;\n",
              "      fill: #1967D2;\n",
              "      height: 32px;\n",
              "      padding: 0 0 0 0;\n",
              "      width: 32px;\n",
              "    }\n",
              "\n",
              "    .colab-df-convert:hover {\n",
              "      background-color: #E2EBFA;\n",
              "      box-shadow: 0px 1px 2px rgba(60, 64, 67, 0.3), 0px 1px 3px 1px rgba(60, 64, 67, 0.15);\n",
              "      fill: #174EA6;\n",
              "    }\n",
              "\n",
              "    .colab-df-buttons div {\n",
              "      margin-bottom: 4px;\n",
              "    }\n",
              "\n",
              "    [theme=dark] .colab-df-convert {\n",
              "      background-color: #3B4455;\n",
              "      fill: #D2E3FC;\n",
              "    }\n",
              "\n",
              "    [theme=dark] .colab-df-convert:hover {\n",
              "      background-color: #434B5C;\n",
              "      box-shadow: 0px 1px 3px 1px rgba(0, 0, 0, 0.15);\n",
              "      filter: drop-shadow(0px 1px 2px rgba(0, 0, 0, 0.3));\n",
              "      fill: #FFFFFF;\n",
              "    }\n",
              "  </style>\n",
              "\n",
              "    <script>\n",
              "      const buttonEl =\n",
              "        document.querySelector('#df-3793b7ea-d9f1-4f0f-8761-3645492b3de2 button.colab-df-convert');\n",
              "      buttonEl.style.display =\n",
              "        google.colab.kernel.accessAllowed ? 'block' : 'none';\n",
              "\n",
              "      async function convertToInteractive(key) {\n",
              "        const element = document.querySelector('#df-3793b7ea-d9f1-4f0f-8761-3645492b3de2');\n",
              "        const dataTable =\n",
              "          await google.colab.kernel.invokeFunction('convertToInteractive',\n",
              "                                                    [key], {});\n",
              "        if (!dataTable) return;\n",
              "\n",
              "        const docLinkHtml = 'Like what you see? Visit the ' +\n",
              "          '<a target=\"_blank\" href=https://colab.research.google.com/notebooks/data_table.ipynb>data table notebook</a>'\n",
              "          + ' to learn more about interactive tables.';\n",
              "        element.innerHTML = '';\n",
              "        dataTable['output_type'] = 'display_data';\n",
              "        await google.colab.output.renderOutput(dataTable, element);\n",
              "        const docLink = document.createElement('div');\n",
              "        docLink.innerHTML = docLinkHtml;\n",
              "        element.appendChild(docLink);\n",
              "      }\n",
              "    </script>\n",
              "  </div>\n",
              "\n",
              "\n",
              "<div id=\"df-5ca5b693-71b3-4184-806b-8b6faada7f26\">\n",
              "  <button class=\"colab-df-quickchart\" onclick=\"quickchart('df-5ca5b693-71b3-4184-806b-8b6faada7f26')\"\n",
              "            title=\"Suggest charts.\"\n",
              "            style=\"display:none;\">\n",
              "\n",
              "<svg xmlns=\"http://www.w3.org/2000/svg\" height=\"24px\"viewBox=\"0 0 24 24\"\n",
              "     width=\"24px\">\n",
              "    <g>\n",
              "        <path d=\"M19 3H5c-1.1 0-2 .9-2 2v14c0 1.1.9 2 2 2h14c1.1 0 2-.9 2-2V5c0-1.1-.9-2-2-2zM9 17H7v-7h2v7zm4 0h-2V7h2v10zm4 0h-2v-4h2v4z\"/>\n",
              "    </g>\n",
              "</svg>\n",
              "  </button>\n",
              "\n",
              "<style>\n",
              "  .colab-df-quickchart {\n",
              "      --bg-color: #E8F0FE;\n",
              "      --fill-color: #1967D2;\n",
              "      --hover-bg-color: #E2EBFA;\n",
              "      --hover-fill-color: #174EA6;\n",
              "      --disabled-fill-color: #AAA;\n",
              "      --disabled-bg-color: #DDD;\n",
              "  }\n",
              "\n",
              "  [theme=dark] .colab-df-quickchart {\n",
              "      --bg-color: #3B4455;\n",
              "      --fill-color: #D2E3FC;\n",
              "      --hover-bg-color: #434B5C;\n",
              "      --hover-fill-color: #FFFFFF;\n",
              "      --disabled-bg-color: #3B4455;\n",
              "      --disabled-fill-color: #666;\n",
              "  }\n",
              "\n",
              "  .colab-df-quickchart {\n",
              "    background-color: var(--bg-color);\n",
              "    border: none;\n",
              "    border-radius: 50%;\n",
              "    cursor: pointer;\n",
              "    display: none;\n",
              "    fill: var(--fill-color);\n",
              "    height: 32px;\n",
              "    padding: 0;\n",
              "    width: 32px;\n",
              "  }\n",
              "\n",
              "  .colab-df-quickchart:hover {\n",
              "    background-color: var(--hover-bg-color);\n",
              "    box-shadow: 0 1px 2px rgba(60, 64, 67, 0.3), 0 1px 3px 1px rgba(60, 64, 67, 0.15);\n",
              "    fill: var(--button-hover-fill-color);\n",
              "  }\n",
              "\n",
              "  .colab-df-quickchart-complete:disabled,\n",
              "  .colab-df-quickchart-complete:disabled:hover {\n",
              "    background-color: var(--disabled-bg-color);\n",
              "    fill: var(--disabled-fill-color);\n",
              "    box-shadow: none;\n",
              "  }\n",
              "\n",
              "  .colab-df-spinner {\n",
              "    border: 2px solid var(--fill-color);\n",
              "    border-color: transparent;\n",
              "    border-bottom-color: var(--fill-color);\n",
              "    animation:\n",
              "      spin 1s steps(1) infinite;\n",
              "  }\n",
              "\n",
              "  @keyframes spin {\n",
              "    0% {\n",
              "      border-color: transparent;\n",
              "      border-bottom-color: var(--fill-color);\n",
              "      border-left-color: var(--fill-color);\n",
              "    }\n",
              "    20% {\n",
              "      border-color: transparent;\n",
              "      border-left-color: var(--fill-color);\n",
              "      border-top-color: var(--fill-color);\n",
              "    }\n",
              "    30% {\n",
              "      border-color: transparent;\n",
              "      border-left-color: var(--fill-color);\n",
              "      border-top-color: var(--fill-color);\n",
              "      border-right-color: var(--fill-color);\n",
              "    }\n",
              "    40% {\n",
              "      border-color: transparent;\n",
              "      border-right-color: var(--fill-color);\n",
              "      border-top-color: var(--fill-color);\n",
              "    }\n",
              "    60% {\n",
              "      border-color: transparent;\n",
              "      border-right-color: var(--fill-color);\n",
              "    }\n",
              "    80% {\n",
              "      border-color: transparent;\n",
              "      border-right-color: var(--fill-color);\n",
              "      border-bottom-color: var(--fill-color);\n",
              "    }\n",
              "    90% {\n",
              "      border-color: transparent;\n",
              "      border-bottom-color: var(--fill-color);\n",
              "    }\n",
              "  }\n",
              "</style>\n",
              "\n",
              "  <script>\n",
              "    async function quickchart(key) {\n",
              "      const quickchartButtonEl =\n",
              "        document.querySelector('#' + key + ' button');\n",
              "      quickchartButtonEl.disabled = true;  // To prevent multiple clicks.\n",
              "      quickchartButtonEl.classList.add('colab-df-spinner');\n",
              "      try {\n",
              "        const charts = await google.colab.kernel.invokeFunction(\n",
              "            'suggestCharts', [key], {});\n",
              "      } catch (error) {\n",
              "        console.error('Error during call to suggestCharts:', error);\n",
              "      }\n",
              "      quickchartButtonEl.classList.remove('colab-df-spinner');\n",
              "      quickchartButtonEl.classList.add('colab-df-quickchart-complete');\n",
              "    }\n",
              "    (() => {\n",
              "      let quickchartButtonEl =\n",
              "        document.querySelector('#df-5ca5b693-71b3-4184-806b-8b6faada7f26 button');\n",
              "      quickchartButtonEl.style.display =\n",
              "        google.colab.kernel.accessAllowed ? 'block' : 'none';\n",
              "    })();\n",
              "  </script>\n",
              "</div>\n",
              "    </div>\n",
              "  </div>\n"
            ],
            "text/plain": [
              "    erro_medio        modelos  metodo\n",
              "0     3.567095    Reg. Linear       2\n",
              "1     3.582273      R. Forest       2\n",
              "2     3.582647     R. Forest2       2\n",
              "3     3.622486     Reg. Lasso       2\n",
              "4     3.567095      Reg. Cume       2\n",
              "5     3.864257     Reg. Cume2       2\n",
              "6     3.581857        XGBoost       2\n",
              "7     3.582096       XGBoost2       2\n",
              "8     3.582192  Decision Tree       2\n",
              "9     3.866422            KNN       2\n",
              "10    3.795736           KNN2       2\n",
              "11    3.611744           LSTM       2\n",
              "12    3.555636         BDLSTM       2"
            ]
          },
          "execution_count": 108,
          "metadata": {},
          "output_type": "execute_result"
        }
      ],
      "source": [
        "resultados_2"
      ]
    },
    {
      "cell_type": "markdown",
      "metadata": {
        "id": "sxfpeH-i_2dK"
      },
      "source": [
        "#10 - Comparando Métodos"
      ]
    },
    {
      "cell_type": "code",
      "execution_count": 109,
      "metadata": {
        "id": "dbg_nudIDapW"
      },
      "outputs": [],
      "source": [
        "metricas = pd.concat([resultados_1,resultados_2])"
      ]
    },
    {
      "cell_type": "code",
      "execution_count": 110,
      "metadata": {
        "colab": {
          "base_uri": "https://localhost:8080/",
          "height": 864
        },
        "id": "VJ8fN1_lB3_l",
        "outputId": "8b93902e-d594-4e95-b933-bd9e4fc01c8e"
      },
      "outputs": [
        {
          "data": {
            "text/html": [
              "\n",
              "  <div id=\"df-615c6087-4a9d-496a-a7b1-699f7362e0d3\" class=\"colab-df-container\">\n",
              "    <div>\n",
              "<style scoped>\n",
              "    .dataframe tbody tr th:only-of-type {\n",
              "        vertical-align: middle;\n",
              "    }\n",
              "\n",
              "    .dataframe tbody tr th {\n",
              "        vertical-align: top;\n",
              "    }\n",
              "\n",
              "    .dataframe thead th {\n",
              "        text-align: right;\n",
              "    }\n",
              "</style>\n",
              "<table border=\"1\" class=\"dataframe\">\n",
              "  <thead>\n",
              "    <tr style=\"text-align: right;\">\n",
              "      <th></th>\n",
              "      <th>erro_medio</th>\n",
              "      <th>modelos</th>\n",
              "      <th>metodo</th>\n",
              "    </tr>\n",
              "  </thead>\n",
              "  <tbody>\n",
              "    <tr>\n",
              "      <th>0</th>\n",
              "      <td>4.881213</td>\n",
              "      <td>Reg. Linear</td>\n",
              "      <td>1</td>\n",
              "    </tr>\n",
              "    <tr>\n",
              "      <th>1</th>\n",
              "      <td>4.066423</td>\n",
              "      <td>R. Forest</td>\n",
              "      <td>1</td>\n",
              "    </tr>\n",
              "    <tr>\n",
              "      <th>2</th>\n",
              "      <td>4.065816</td>\n",
              "      <td>R. Forest2</td>\n",
              "      <td>1</td>\n",
              "    </tr>\n",
              "    <tr>\n",
              "      <th>3</th>\n",
              "      <td>5.151700</td>\n",
              "      <td>Reg. Lasso</td>\n",
              "      <td>1</td>\n",
              "    </tr>\n",
              "    <tr>\n",
              "      <th>4</th>\n",
              "      <td>4.878658</td>\n",
              "      <td>Reg. Cume</td>\n",
              "      <td>1</td>\n",
              "    </tr>\n",
              "    <tr>\n",
              "      <th>5</th>\n",
              "      <td>4.878658</td>\n",
              "      <td>Reg. Cume2</td>\n",
              "      <td>1</td>\n",
              "    </tr>\n",
              "    <tr>\n",
              "      <th>6</th>\n",
              "      <td>4.066162</td>\n",
              "      <td>XGBoost</td>\n",
              "      <td>1</td>\n",
              "    </tr>\n",
              "    <tr>\n",
              "      <th>7</th>\n",
              "      <td>4.066159</td>\n",
              "      <td>XGBoost2</td>\n",
              "      <td>1</td>\n",
              "    </tr>\n",
              "    <tr>\n",
              "      <th>8</th>\n",
              "      <td>4.066156</td>\n",
              "      <td>Decision Tree</td>\n",
              "      <td>1</td>\n",
              "    </tr>\n",
              "    <tr>\n",
              "      <th>9</th>\n",
              "      <td>4.593605</td>\n",
              "      <td>KNN</td>\n",
              "      <td>1</td>\n",
              "    </tr>\n",
              "    <tr>\n",
              "      <th>10</th>\n",
              "      <td>4.490850</td>\n",
              "      <td>KNN2</td>\n",
              "      <td>1</td>\n",
              "    </tr>\n",
              "    <tr>\n",
              "      <th>11</th>\n",
              "      <td>4.073890</td>\n",
              "      <td>LSTM</td>\n",
              "      <td>1</td>\n",
              "    </tr>\n",
              "    <tr>\n",
              "      <th>12</th>\n",
              "      <td>4.071621</td>\n",
              "      <td>BDLSTM</td>\n",
              "      <td>1</td>\n",
              "    </tr>\n",
              "    <tr>\n",
              "      <th>0</th>\n",
              "      <td>3.567095</td>\n",
              "      <td>Reg. Linear</td>\n",
              "      <td>2</td>\n",
              "    </tr>\n",
              "    <tr>\n",
              "      <th>1</th>\n",
              "      <td>3.582273</td>\n",
              "      <td>R. Forest</td>\n",
              "      <td>2</td>\n",
              "    </tr>\n",
              "    <tr>\n",
              "      <th>2</th>\n",
              "      <td>3.582647</td>\n",
              "      <td>R. Forest2</td>\n",
              "      <td>2</td>\n",
              "    </tr>\n",
              "    <tr>\n",
              "      <th>3</th>\n",
              "      <td>3.622486</td>\n",
              "      <td>Reg. Lasso</td>\n",
              "      <td>2</td>\n",
              "    </tr>\n",
              "    <tr>\n",
              "      <th>4</th>\n",
              "      <td>3.567095</td>\n",
              "      <td>Reg. Cume</td>\n",
              "      <td>2</td>\n",
              "    </tr>\n",
              "    <tr>\n",
              "      <th>5</th>\n",
              "      <td>3.864257</td>\n",
              "      <td>Reg. Cume2</td>\n",
              "      <td>2</td>\n",
              "    </tr>\n",
              "    <tr>\n",
              "      <th>6</th>\n",
              "      <td>3.581857</td>\n",
              "      <td>XGBoost</td>\n",
              "      <td>2</td>\n",
              "    </tr>\n",
              "    <tr>\n",
              "      <th>7</th>\n",
              "      <td>3.582096</td>\n",
              "      <td>XGBoost2</td>\n",
              "      <td>2</td>\n",
              "    </tr>\n",
              "    <tr>\n",
              "      <th>8</th>\n",
              "      <td>3.582192</td>\n",
              "      <td>Decision Tree</td>\n",
              "      <td>2</td>\n",
              "    </tr>\n",
              "    <tr>\n",
              "      <th>9</th>\n",
              "      <td>3.866422</td>\n",
              "      <td>KNN</td>\n",
              "      <td>2</td>\n",
              "    </tr>\n",
              "    <tr>\n",
              "      <th>10</th>\n",
              "      <td>3.795736</td>\n",
              "      <td>KNN2</td>\n",
              "      <td>2</td>\n",
              "    </tr>\n",
              "    <tr>\n",
              "      <th>11</th>\n",
              "      <td>3.611744</td>\n",
              "      <td>LSTM</td>\n",
              "      <td>2</td>\n",
              "    </tr>\n",
              "    <tr>\n",
              "      <th>12</th>\n",
              "      <td>3.555636</td>\n",
              "      <td>BDLSTM</td>\n",
              "      <td>2</td>\n",
              "    </tr>\n",
              "  </tbody>\n",
              "</table>\n",
              "</div>\n",
              "    <div class=\"colab-df-buttons\">\n",
              "\n",
              "  <div class=\"colab-df-container\">\n",
              "    <button class=\"colab-df-convert\" onclick=\"convertToInteractive('df-615c6087-4a9d-496a-a7b1-699f7362e0d3')\"\n",
              "            title=\"Convert this dataframe to an interactive table.\"\n",
              "            style=\"display:none;\">\n",
              "\n",
              "  <svg xmlns=\"http://www.w3.org/2000/svg\" height=\"24px\" viewBox=\"0 -960 960 960\">\n",
              "    <path d=\"M120-120v-720h720v720H120Zm60-500h600v-160H180v160Zm220 220h160v-160H400v160Zm0 220h160v-160H400v160ZM180-400h160v-160H180v160Zm440 0h160v-160H620v160ZM180-180h160v-160H180v160Zm440 0h160v-160H620v160Z\"/>\n",
              "  </svg>\n",
              "    </button>\n",
              "\n",
              "  <style>\n",
              "    .colab-df-container {\n",
              "      display:flex;\n",
              "      gap: 12px;\n",
              "    }\n",
              "\n",
              "    .colab-df-convert {\n",
              "      background-color: #E8F0FE;\n",
              "      border: none;\n",
              "      border-radius: 50%;\n",
              "      cursor: pointer;\n",
              "      display: none;\n",
              "      fill: #1967D2;\n",
              "      height: 32px;\n",
              "      padding: 0 0 0 0;\n",
              "      width: 32px;\n",
              "    }\n",
              "\n",
              "    .colab-df-convert:hover {\n",
              "      background-color: #E2EBFA;\n",
              "      box-shadow: 0px 1px 2px rgba(60, 64, 67, 0.3), 0px 1px 3px 1px rgba(60, 64, 67, 0.15);\n",
              "      fill: #174EA6;\n",
              "    }\n",
              "\n",
              "    .colab-df-buttons div {\n",
              "      margin-bottom: 4px;\n",
              "    }\n",
              "\n",
              "    [theme=dark] .colab-df-convert {\n",
              "      background-color: #3B4455;\n",
              "      fill: #D2E3FC;\n",
              "    }\n",
              "\n",
              "    [theme=dark] .colab-df-convert:hover {\n",
              "      background-color: #434B5C;\n",
              "      box-shadow: 0px 1px 3px 1px rgba(0, 0, 0, 0.15);\n",
              "      filter: drop-shadow(0px 1px 2px rgba(0, 0, 0, 0.3));\n",
              "      fill: #FFFFFF;\n",
              "    }\n",
              "  </style>\n",
              "\n",
              "    <script>\n",
              "      const buttonEl =\n",
              "        document.querySelector('#df-615c6087-4a9d-496a-a7b1-699f7362e0d3 button.colab-df-convert');\n",
              "      buttonEl.style.display =\n",
              "        google.colab.kernel.accessAllowed ? 'block' : 'none';\n",
              "\n",
              "      async function convertToInteractive(key) {\n",
              "        const element = document.querySelector('#df-615c6087-4a9d-496a-a7b1-699f7362e0d3');\n",
              "        const dataTable =\n",
              "          await google.colab.kernel.invokeFunction('convertToInteractive',\n",
              "                                                    [key], {});\n",
              "        if (!dataTable) return;\n",
              "\n",
              "        const docLinkHtml = 'Like what you see? Visit the ' +\n",
              "          '<a target=\"_blank\" href=https://colab.research.google.com/notebooks/data_table.ipynb>data table notebook</a>'\n",
              "          + ' to learn more about interactive tables.';\n",
              "        element.innerHTML = '';\n",
              "        dataTable['output_type'] = 'display_data';\n",
              "        await google.colab.output.renderOutput(dataTable, element);\n",
              "        const docLink = document.createElement('div');\n",
              "        docLink.innerHTML = docLinkHtml;\n",
              "        element.appendChild(docLink);\n",
              "      }\n",
              "    </script>\n",
              "  </div>\n",
              "\n",
              "\n",
              "<div id=\"df-f7d56e64-a1e4-4bed-8370-8aae401d616e\">\n",
              "  <button class=\"colab-df-quickchart\" onclick=\"quickchart('df-f7d56e64-a1e4-4bed-8370-8aae401d616e')\"\n",
              "            title=\"Suggest charts.\"\n",
              "            style=\"display:none;\">\n",
              "\n",
              "<svg xmlns=\"http://www.w3.org/2000/svg\" height=\"24px\"viewBox=\"0 0 24 24\"\n",
              "     width=\"24px\">\n",
              "    <g>\n",
              "        <path d=\"M19 3H5c-1.1 0-2 .9-2 2v14c0 1.1.9 2 2 2h14c1.1 0 2-.9 2-2V5c0-1.1-.9-2-2-2zM9 17H7v-7h2v7zm4 0h-2V7h2v10zm4 0h-2v-4h2v4z\"/>\n",
              "    </g>\n",
              "</svg>\n",
              "  </button>\n",
              "\n",
              "<style>\n",
              "  .colab-df-quickchart {\n",
              "      --bg-color: #E8F0FE;\n",
              "      --fill-color: #1967D2;\n",
              "      --hover-bg-color: #E2EBFA;\n",
              "      --hover-fill-color: #174EA6;\n",
              "      --disabled-fill-color: #AAA;\n",
              "      --disabled-bg-color: #DDD;\n",
              "  }\n",
              "\n",
              "  [theme=dark] .colab-df-quickchart {\n",
              "      --bg-color: #3B4455;\n",
              "      --fill-color: #D2E3FC;\n",
              "      --hover-bg-color: #434B5C;\n",
              "      --hover-fill-color: #FFFFFF;\n",
              "      --disabled-bg-color: #3B4455;\n",
              "      --disabled-fill-color: #666;\n",
              "  }\n",
              "\n",
              "  .colab-df-quickchart {\n",
              "    background-color: var(--bg-color);\n",
              "    border: none;\n",
              "    border-radius: 50%;\n",
              "    cursor: pointer;\n",
              "    display: none;\n",
              "    fill: var(--fill-color);\n",
              "    height: 32px;\n",
              "    padding: 0;\n",
              "    width: 32px;\n",
              "  }\n",
              "\n",
              "  .colab-df-quickchart:hover {\n",
              "    background-color: var(--hover-bg-color);\n",
              "    box-shadow: 0 1px 2px rgba(60, 64, 67, 0.3), 0 1px 3px 1px rgba(60, 64, 67, 0.15);\n",
              "    fill: var(--button-hover-fill-color);\n",
              "  }\n",
              "\n",
              "  .colab-df-quickchart-complete:disabled,\n",
              "  .colab-df-quickchart-complete:disabled:hover {\n",
              "    background-color: var(--disabled-bg-color);\n",
              "    fill: var(--disabled-fill-color);\n",
              "    box-shadow: none;\n",
              "  }\n",
              "\n",
              "  .colab-df-spinner {\n",
              "    border: 2px solid var(--fill-color);\n",
              "    border-color: transparent;\n",
              "    border-bottom-color: var(--fill-color);\n",
              "    animation:\n",
              "      spin 1s steps(1) infinite;\n",
              "  }\n",
              "\n",
              "  @keyframes spin {\n",
              "    0% {\n",
              "      border-color: transparent;\n",
              "      border-bottom-color: var(--fill-color);\n",
              "      border-left-color: var(--fill-color);\n",
              "    }\n",
              "    20% {\n",
              "      border-color: transparent;\n",
              "      border-left-color: var(--fill-color);\n",
              "      border-top-color: var(--fill-color);\n",
              "    }\n",
              "    30% {\n",
              "      border-color: transparent;\n",
              "      border-left-color: var(--fill-color);\n",
              "      border-top-color: var(--fill-color);\n",
              "      border-right-color: var(--fill-color);\n",
              "    }\n",
              "    40% {\n",
              "      border-color: transparent;\n",
              "      border-right-color: var(--fill-color);\n",
              "      border-top-color: var(--fill-color);\n",
              "    }\n",
              "    60% {\n",
              "      border-color: transparent;\n",
              "      border-right-color: var(--fill-color);\n",
              "    }\n",
              "    80% {\n",
              "      border-color: transparent;\n",
              "      border-right-color: var(--fill-color);\n",
              "      border-bottom-color: var(--fill-color);\n",
              "    }\n",
              "    90% {\n",
              "      border-color: transparent;\n",
              "      border-bottom-color: var(--fill-color);\n",
              "    }\n",
              "  }\n",
              "</style>\n",
              "\n",
              "  <script>\n",
              "    async function quickchart(key) {\n",
              "      const quickchartButtonEl =\n",
              "        document.querySelector('#' + key + ' button');\n",
              "      quickchartButtonEl.disabled = true;  // To prevent multiple clicks.\n",
              "      quickchartButtonEl.classList.add('colab-df-spinner');\n",
              "      try {\n",
              "        const charts = await google.colab.kernel.invokeFunction(\n",
              "            'suggestCharts', [key], {});\n",
              "      } catch (error) {\n",
              "        console.error('Error during call to suggestCharts:', error);\n",
              "      }\n",
              "      quickchartButtonEl.classList.remove('colab-df-spinner');\n",
              "      quickchartButtonEl.classList.add('colab-df-quickchart-complete');\n",
              "    }\n",
              "    (() => {\n",
              "      let quickchartButtonEl =\n",
              "        document.querySelector('#df-f7d56e64-a1e4-4bed-8370-8aae401d616e button');\n",
              "      quickchartButtonEl.style.display =\n",
              "        google.colab.kernel.accessAllowed ? 'block' : 'none';\n",
              "    })();\n",
              "  </script>\n",
              "</div>\n",
              "    </div>\n",
              "  </div>\n"
            ],
            "text/plain": [
              "    erro_medio        modelos  metodo\n",
              "0     4.881213    Reg. Linear       1\n",
              "1     4.066423      R. Forest       1\n",
              "2     4.065816     R. Forest2       1\n",
              "3     5.151700     Reg. Lasso       1\n",
              "4     4.878658      Reg. Cume       1\n",
              "5     4.878658     Reg. Cume2       1\n",
              "6     4.066162        XGBoost       1\n",
              "7     4.066159       XGBoost2       1\n",
              "8     4.066156  Decision Tree       1\n",
              "9     4.593605            KNN       1\n",
              "10    4.490850           KNN2       1\n",
              "11    4.073890           LSTM       1\n",
              "12    4.071621         BDLSTM       1\n",
              "0     3.567095    Reg. Linear       2\n",
              "1     3.582273      R. Forest       2\n",
              "2     3.582647     R. Forest2       2\n",
              "3     3.622486     Reg. Lasso       2\n",
              "4     3.567095      Reg. Cume       2\n",
              "5     3.864257     Reg. Cume2       2\n",
              "6     3.581857        XGBoost       2\n",
              "7     3.582096       XGBoost2       2\n",
              "8     3.582192  Decision Tree       2\n",
              "9     3.866422            KNN       2\n",
              "10    3.795736           KNN2       2\n",
              "11    3.611744           LSTM       2\n",
              "12    3.555636         BDLSTM       2"
            ]
          },
          "execution_count": 110,
          "metadata": {},
          "output_type": "execute_result"
        }
      ],
      "source": [
        "metricas"
      ]
    },
    {
      "cell_type": "code",
      "execution_count": 111,
      "metadata": {
        "colab": {
          "base_uri": "https://localhost:8080/",
          "height": 564
        },
        "id": "LrckN-0x7udR",
        "outputId": "22ac716f-66ef-42c7-9053-879b33b15a86"
      },
      "outputs": [
        {
          "data": {
            "image/png": "[encoded data removed]",
            "text/plain": [
              "<Figure size 1400x600 with 1 Axes>"
            ]
          },
          "metadata": {},
          "output_type": "display_data"
        }
      ],
      "source": [
        "plt.figure(figsize = (14,6))\n",
        "\n",
        "splot = sns.barplot(data= metricas,\n",
        "            x = \"modelos\",\n",
        "            y = \"erro_medio\",\n",
        "            hue = \"metodo\",\n",
        "            palette = \"Greys\");\n",
        "splot.set_ylim(0,6)\n",
        "splot.set_ylabel(\"Erro em horas\")\n",
        "\n",
        "plt.title(\"Modelos testados\")\n",
        "\n",
        "\n",
        "for g in splot.patches:\n",
        "    splot.annotate(format(g.get_height(), '.2f'),\n",
        "                   (g.get_x() + g.get_width() / 2., g.get_height()),\n",
        "                   ha = 'center', va = 'center',\n",
        "                   xytext = (0, 9),\n",
        "                   textcoords = 'offset points')"
      ]
    },
    {
      "cell_type": "markdown",
      "metadata": {
        "id": "hsNbTVMmkR9H"
      },
      "source": [
        "#**11 - Conclusão**\n"
      ]
    },
    {
      "cell_type": "markdown",
      "metadata": {
        "id": "G_bIDcyb0mEy"
      },
      "source": [
        "O melhor modelo para a previsão é a Regressão Linear."
      ]
    }
  ],
  "metadata": {
    "accelerator": "GPU",
    "colab": {
      "gpuType": "V100",
      "machine_shape": "hm",
      "provenance": []
    },
    "kernelspec": {
      "display_name": "Python 3",
      "name": "python3"
    },
    "language_info": {
      "codemirror_mode": {
        "name": "ipython",
        "version": 3
      },
      "file_extension": ".py",
      "mimetype": "text/x-python",
      "name": "python",
      "nbconvert_exporter": "python",
      "pygments_lexer": "ipython3",
      "version": "3.9.18"
    },
    "widgets": {
      "application/vnd.jupyter.widget-state+json": {
        "22fac4a94e194d6794194fe671debff0": {
          "model_module": "@jupyter-widgets/base",
          "model_module_version": "1.2.0",
          "model_name": "LayoutModel",
          "state": {
            "_model_module": "@jupyter-widgets/base",
            "_model_module_version": "1.2.0",
            "_model_name": "LayoutModel",
            "_view_count": null,
            "_view_module": "@jupyter-widgets/base",
            "_view_module_version": "1.2.0",
            "_view_name": "LayoutView",
            "align_content": null,
            "align_items": null,
            "align_self": null,
            "border": null,
            "bottom": null,
            "display": null,
            "flex": null,
            "flex_flow": null,
            "grid_area": null,
            "grid_auto_columns": null,
            "grid_auto_flow": null,
            "grid_auto_rows": null,
            "grid_column": null,
            "grid_gap": null,
            "grid_row": null,
            "grid_template_areas": null,
            "grid_template_columns": null,
            "grid_template_rows": null,
            "height": null,
            "justify_content": null,
            "justify_items": null,
            "left": null,
            "margin": null,
            "max_height": null,
            "max_width": null,
            "min_height": null,
            "min_width": null,
            "object_fit": null,
            "object_position": null,
            "order": null,
            "overflow": null,
            "overflow_x": null,
            "overflow_y": null,
            "padding": null,
            "right": null,
            "top": null,
            "visibility": null,
            "width": null
          }
        },
        "40cb0c2b073948a4978c9003359498d5": {
          "model_module": "@jupyter-widgets/controls",
          "model_module_version": "1.5.0",
          "model_name": "DropdownModel",
          "state": {
            "_dom_classes": [],
            "_model_module": "@jupyter-widgets/controls",
            "_model_module_version": "1.5.0",
            "_model_name": "DropdownModel",
            "_options_labels": [
              "A030F720057",
              "A040F320538",
              "A040F320657",
              "A040F320672",
              "A30F072791",
              "A30F072792",
              "A30F072882",
              "A30F072956",
              "A30F072960",
              "A30F072964",
              "A30G732008",
              "A30G732028",
              "A30G732029",
              "A30G732035",
              "A30G732052",
              "A30G732079",
              "A40G341530",
              "A45G332087",
              "A45G332090",
              "A45G332092",
              "EC210240111",
              "EC210282764",
              "EC210282811",
              "EC220240109",
              "EC220240223",
              "EC220240341",
              "EC220240448",
              "EC220240477",
              "EC220240485",
              "EC220240605",
              "EC220240814",
              "EC220245052",
              "EC220245079",
              "EC220245238",
              "EC220245239",
              "EC220245244",
              "EC220245253",
              "EC220245261",
              "EC220245288",
              "EC220245388",
              "EC220245461",
              "L60F007228",
              "L60F071852",
              "L60F072205",
              "L60F072286",
              "L60F072447",
              "L60F072499",
              "L60F072640",
              "L60F072664",
              "L60F072903",
              "L60F072957",
              "L60F073082",
              "L60F073176",
              "L60F073321",
              "L60F073325",
              "L60F073726",
              "L60F073882",
              "L60F073972",
              "L60F074089",
              "L60F074104",
              "L60F074121",
              "L60F074213"
            ],
            "_view_count": null,
            "_view_module": "@jupyter-widgets/controls",
            "_view_module_version": "1.5.0",
            "_view_name": "DropdownView",
            "description": "id",
            "description_tooltip": null,
            "disabled": false,
            "index": 0,
            "layout": "IPY_MODEL_8470a58a10d543df9de4d7bf7cdf0b5f",
            "style": "IPY_MODEL_6f3683699af542bda0815a1e48e5d5a2"
          }
        },
        "41156ea3da7d465cb25ea79905b33620": {
          "model_module": "@jupyter-widgets/base",
          "model_module_version": "1.2.0",
          "model_name": "LayoutModel",
          "state": {
            "_model_module": "@jupyter-widgets/base",
            "_model_module_version": "1.2.0",
            "_model_name": "LayoutModel",
            "_view_count": null,
            "_view_module": "@jupyter-widgets/base",
            "_view_module_version": "1.2.0",
            "_view_name": "LayoutView",
            "align_content": null,
            "align_items": null,
            "align_self": null,
            "border": null,
            "bottom": null,
            "display": null,
            "flex": null,
            "flex_flow": null,
            "grid_area": null,
            "grid_auto_columns": null,
            "grid_auto_flow": null,
            "grid_auto_rows": null,
            "grid_column": null,
            "grid_gap": null,
            "grid_row": null,
            "grid_template_areas": null,
            "grid_template_columns": null,
            "grid_template_rows": null,
            "height": null,
            "justify_content": null,
            "justify_items": null,
            "left": null,
            "margin": null,
            "max_height": null,
            "max_width": null,
            "min_height": null,
            "min_width": null,
            "object_fit": null,
            "object_position": null,
            "order": null,
            "overflow": null,
            "overflow_x": null,
            "overflow_y": null,
            "padding": null,
            "right": null,
            "top": null,
            "visibility": null,
            "width": null
          }
        },
        "4fcd6306609d4609a88ce038dbb5c208": {
          "model_module": "@jupyter-widgets/controls",
          "model_module_version": "1.5.0",
          "model_name": "VBoxModel",
          "state": {
            "_dom_classes": [
              "widget-interact"
            ],
            "_model_module": "@jupyter-widgets/controls",
            "_model_module_version": "1.5.0",
            "_model_name": "VBoxModel",
            "_view_count": null,
            "_view_module": "@jupyter-widgets/controls",
            "_view_module_version": "1.5.0",
            "_view_name": "VBoxView",
            "box_style": "",
            "children": [
              "IPY_MODEL_82cc69d2b27147e6ad577336f8bf105e",
              "IPY_MODEL_5c0013f75d37430990058aaf08695ca3",
              "IPY_MODEL_62563544fcf446ad9ea36b33e5de4c74"
            ],
            "layout": "IPY_MODEL_22fac4a94e194d6794194fe671debff0"
          }
        },
        "5c0013f75d37430990058aaf08695ca3": {
          "model_module": "@jupyter-widgets/controls",
          "model_module_version": "1.5.0",
          "model_name": "DropdownModel",
          "state": {
            "_dom_classes": [],
            "_model_module": "@jupyter-widgets/controls",
            "_model_module_version": "1.5.0",
            "_model_name": "DropdownModel",
            "_options_labels": [
              "Região",
              "País Compra",
              "Dealer",
              "Segmento",
              "Modelo",
              "Estado",
              "País Operação",
              "ID"
            ],
            "_view_count": null,
            "_view_module": "@jupyter-widgets/controls",
            "_view_module_version": "1.5.0",
            "_view_name": "DropdownView",
            "description": "col_groupby",
            "description_tooltip": null,
            "disabled": false,
            "index": 0,
            "layout": "IPY_MODEL_aefef55da2294f7ca3edde020e787a38",
            "style": "IPY_MODEL_5e3f31eed5004c3aa33c1278e1e2e2ce"
          }
        },
        "5e3f31eed5004c3aa33c1278e1e2e2ce": {
          "model_module": "@jupyter-widgets/controls",
          "model_module_version": "1.5.0",
          "model_name": "DescriptionStyleModel",
          "state": {
            "_model_module": "@jupyter-widgets/controls",
            "_model_module_version": "1.5.0",
            "_model_name": "DescriptionStyleModel",
            "_view_count": null,
            "_view_module": "@jupyter-widgets/base",
            "_view_module_version": "1.2.0",
            "_view_name": "StyleView",
            "description_width": ""
          }
        },
        "62563544fcf446ad9ea36b33e5de4c74": {
          "model_module": "@jupyter-widgets/output",
          "model_module_version": "1.0.0",
          "model_name": "OutputModel",
          "state": {
            "_dom_classes": [],
            "_model_module": "@jupyter-widgets/output",
            "_model_module_version": "1.0.0",
            "_model_name": "OutputModel",
            "_view_count": null,
            "_view_module": "@jupyter-widgets/output",
            "_view_module_version": "1.0.0",
            "_view_name": "OutputView",
            "layout": "IPY_MODEL_c4e34aa562a9465f8b3d8ee7667d06fb",
            "msg_id": "",
            "outputs": [
              {
                "data": {
                  "text/html": "<style type=\"text/css\">\n#T_4bdd4_row0_col0 {\n  background-color: lightcoral;\n}\n#T_4bdd4_row2_col0 {\n  background-color: black;\n}\n</style>\n<table id=\"T_4bdd4\" class=\"dataframe\">\n  <thead>\n    <tr>\n      <th class=\"blank level0\" >&nbsp;</th>\n      <th id=\"T_4bdd4_level0_col0\" class=\"col_heading level0 col0\" >Horas</th>\n    </tr>\n    <tr>\n      <th class=\"index_name level0\" >Região</th>\n      <th class=\"blank col0\" >&nbsp;</th>\n    </tr>\n  </thead>\n  <tbody>\n    <tr>\n      <th id=\"T_4bdd4_level0_row0\" class=\"row_heading level0 row0\" >Brasil</th>\n      <td id=\"T_4bdd4_row0_col0\" class=\"data row0 col0\" >456744.824910</td>\n    </tr>\n    <tr>\n      <th id=\"T_4bdd4_level0_row1\" class=\"row_heading level0 row1\" >Hispânico Norte</th>\n      <td id=\"T_4bdd4_row1_col0\" class=\"data row1 col0\" >135318.065475</td>\n    </tr>\n    <tr>\n      <th id=\"T_4bdd4_level0_row2\" class=\"row_heading level0 row2\" >Hispânico Sul</th>\n      <td id=\"T_4bdd4_row2_col0\" class=\"data row2 col0\" >93664.231238</td>\n    </tr>\n  </tbody>\n</table>\n",
                  "text/plain": "<pandas.io.formats.style.Styler at 0x7d3aa8901e40>"
                },
                "metadata": {},
                "output_type": "display_data"
              }
            ]
          }
        },
        "6f3683699af542bda0815a1e48e5d5a2": {
          "model_module": "@jupyter-widgets/controls",
          "model_module_version": "1.5.0",
          "model_name": "DescriptionStyleModel",
          "state": {
            "_model_module": "@jupyter-widgets/controls",
            "_model_module_version": "1.5.0",
            "_model_name": "DescriptionStyleModel",
            "_view_count": null,
            "_view_module": "@jupyter-widgets/base",
            "_view_module_version": "1.2.0",
            "_view_name": "StyleView",
            "description_width": ""
          }
        },
        "713d2a51077a4feca7dd82d78804dfab": {
          "model_module": "@jupyter-widgets/base",
          "model_module_version": "1.2.0",
          "model_name": "LayoutModel",
          "state": {
            "_model_module": "@jupyter-widgets/base",
            "_model_module_version": "1.2.0",
            "_model_name": "LayoutModel",
            "_view_count": null,
            "_view_module": "@jupyter-widgets/base",
            "_view_module_version": "1.2.0",
            "_view_name": "LayoutView",
            "align_content": null,
            "align_items": null,
            "align_self": null,
            "border": null,
            "bottom": null,
            "display": null,
            "flex": null,
            "flex_flow": null,
            "grid_area": null,
            "grid_auto_columns": null,
            "grid_auto_flow": null,
            "grid_auto_rows": null,
            "grid_column": null,
            "grid_gap": null,
            "grid_row": null,
            "grid_template_areas": null,
            "grid_template_columns": null,
            "grid_template_rows": null,
            "height": null,
            "justify_content": null,
            "justify_items": null,
            "left": null,
            "margin": null,
            "max_height": null,
            "max_width": null,
            "min_height": null,
            "min_width": null,
            "object_fit": null,
            "object_position": null,
            "order": null,
            "overflow": null,
            "overflow_x": null,
            "overflow_y": null,
            "padding": null,
            "right": null,
            "top": null,
            "visibility": null,
            "width": null
          }
        },
        "750d98f6eafb4edbb8cfc596ad1fc221": {
          "model_module": "@jupyter-widgets/controls",
          "model_module_version": "1.5.0",
          "model_name": "VBoxModel",
          "state": {
            "_dom_classes": [
              "widget-interact"
            ],
            "_model_module": "@jupyter-widgets/controls",
            "_model_module_version": "1.5.0",
            "_model_name": "VBoxModel",
            "_view_count": null,
            "_view_module": "@jupyter-widgets/controls",
            "_view_module_version": "1.5.0",
            "_view_name": "VBoxView",
            "box_style": "",
            "children": [
              "IPY_MODEL_40cb0c2b073948a4978c9003359498d5",
              "IPY_MODEL_da61e624adfc4cc7b22ca3aeb2be5a8e"
            ],
            "layout": "IPY_MODEL_9a64bdaad9c249569798ceed53de5720"
          }
        },
        "81cc1d7c31d84f17afea5beab215e544": {
          "model_module": "@jupyter-widgets/controls",
          "model_module_version": "1.5.0",
          "model_name": "DescriptionStyleModel",
          "state": {
            "_model_module": "@jupyter-widgets/controls",
            "_model_module_version": "1.5.0",
            "_model_name": "DescriptionStyleModel",
            "_view_count": null,
            "_view_module": "@jupyter-widgets/base",
            "_view_module_version": "1.2.0",
            "_view_name": "StyleView",
            "description_width": ""
          }
        },
        "82cc69d2b27147e6ad577336f8bf105e": {
          "model_module": "@jupyter-widgets/controls",
          "model_module_version": "1.5.0",
          "model_name": "DropdownModel",
          "state": {
            "_dom_classes": [],
            "_model_module": "@jupyter-widgets/controls",
            "_model_module_version": "1.5.0",
            "_model_name": "DropdownModel",
            "_options_labels": [
              "sum",
              "mean",
              "max"
            ],
            "_view_count": null,
            "_view_module": "@jupyter-widgets/controls",
            "_view_module_version": "1.5.0",
            "_view_name": "DropdownView",
            "description": "agg_fun",
            "description_tooltip": null,
            "disabled": false,
            "index": 0,
            "layout": "IPY_MODEL_41156ea3da7d465cb25ea79905b33620",
            "style": "IPY_MODEL_81cc1d7c31d84f17afea5beab215e544"
          }
        },
        "8470a58a10d543df9de4d7bf7cdf0b5f": {
          "model_module": "@jupyter-widgets/base",
          "model_module_version": "1.2.0",
          "model_name": "LayoutModel",
          "state": {
            "_model_module": "@jupyter-widgets/base",
            "_model_module_version": "1.2.0",
            "_model_name": "LayoutModel",
            "_view_count": null,
            "_view_module": "@jupyter-widgets/base",
            "_view_module_version": "1.2.0",
            "_view_name": "LayoutView",
            "align_content": null,
            "align_items": null,
            "align_self": null,
            "border": null,
            "bottom": null,
            "display": null,
            "flex": null,
            "flex_flow": null,
            "grid_area": null,
            "grid_auto_columns": null,
            "grid_auto_flow": null,
            "grid_auto_rows": null,
            "grid_column": null,
            "grid_gap": null,
            "grid_row": null,
            "grid_template_areas": null,
            "grid_template_columns": null,
            "grid_template_rows": null,
            "height": null,
            "justify_content": null,
            "justify_items": null,
            "left": null,
            "margin": null,
            "max_height": null,
            "max_width": null,
            "min_height": null,
            "min_width": null,
            "object_fit": null,
            "object_position": null,
            "order": null,
            "overflow": null,
            "overflow_x": null,
            "overflow_y": null,
            "padding": null,
            "right": null,
            "top": null,
            "visibility": null,
            "width": null
          }
        },
        "9a64bdaad9c249569798ceed53de5720": {
          "model_module": "@jupyter-widgets/base",
          "model_module_version": "1.2.0",
          "model_name": "LayoutModel",
          "state": {
            "_model_module": "@jupyter-widgets/base",
            "_model_module_version": "1.2.0",
            "_model_name": "LayoutModel",
            "_view_count": null,
            "_view_module": "@jupyter-widgets/base",
            "_view_module_version": "1.2.0",
            "_view_name": "LayoutView",
            "align_content": null,
            "align_items": null,
            "align_self": null,
            "border": null,
            "bottom": null,
            "display": null,
            "flex": null,
            "flex_flow": null,
            "grid_area": null,
            "grid_auto_columns": null,
            "grid_auto_flow": null,
            "grid_auto_rows": null,
            "grid_column": null,
            "grid_gap": null,
            "grid_row": null,
            "grid_template_areas": null,
            "grid_template_columns": null,
            "grid_template_rows": null,
            "height": null,
            "justify_content": null,
            "justify_items": null,
            "left": null,
            "margin": null,
            "max_height": null,
            "max_width": null,
            "min_height": null,
            "min_width": null,
            "object_fit": null,
            "object_position": null,
            "order": null,
            "overflow": null,
            "overflow_x": null,
            "overflow_y": null,
            "padding": null,
            "right": null,
            "top": null,
            "visibility": null,
            "width": null
          }
        },
        "aefef55da2294f7ca3edde020e787a38": {
          "model_module": "@jupyter-widgets/base",
          "model_module_version": "1.2.0",
          "model_name": "LayoutModel",
          "state": {
            "_model_module": "@jupyter-widgets/base",
            "_model_module_version": "1.2.0",
            "_model_name": "LayoutModel",
            "_view_count": null,
            "_view_module": "@jupyter-widgets/base",
            "_view_module_version": "1.2.0",
            "_view_name": "LayoutView",
            "align_content": null,
            "align_items": null,
            "align_self": null,
            "border": null,
            "bottom": null,
            "display": null,
            "flex": null,
            "flex_flow": null,
            "grid_area": null,
            "grid_auto_columns": null,
            "grid_auto_flow": null,
            "grid_auto_rows": null,
            "grid_column": null,
            "grid_gap": null,
            "grid_row": null,
            "grid_template_areas": null,
            "grid_template_columns": null,
            "grid_template_rows": null,
            "height": null,
            "justify_content": null,
            "justify_items": null,
            "left": null,
            "margin": null,
            "max_height": null,
            "max_width": null,
            "min_height": null,
            "min_width": null,
            "object_fit": null,
            "object_position": null,
            "order": null,
            "overflow": null,
            "overflow_x": null,
            "overflow_y": null,
            "padding": null,
            "right": null,
            "top": null,
            "visibility": null,
            "width": null
          }
        },
        "c4e34aa562a9465f8b3d8ee7667d06fb": {
          "model_module": "@jupyter-widgets/base",
          "model_module_version": "1.2.0",
          "model_name": "LayoutModel",
          "state": {
            "_model_module": "@jupyter-widgets/base",
            "_model_module_version": "1.2.0",
            "_model_name": "LayoutModel",
            "_view_count": null,
            "_view_module": "@jupyter-widgets/base",
            "_view_module_version": "1.2.0",
            "_view_name": "LayoutView",
            "align_content": null,
            "align_items": null,
            "align_self": null,
            "border": null,
            "bottom": null,
            "display": null,
            "flex": null,
            "flex_flow": null,
            "grid_area": null,
            "grid_auto_columns": null,
            "grid_auto_flow": null,
            "grid_auto_rows": null,
            "grid_column": null,
            "grid_gap": null,
            "grid_row": null,
            "grid_template_areas": null,
            "grid_template_columns": null,
            "grid_template_rows": null,
            "height": null,
            "justify_content": null,
            "justify_items": null,
            "left": null,
            "margin": null,
            "max_height": null,
            "max_width": null,
            "min_height": null,
            "min_width": null,
            "object_fit": null,
            "object_position": null,
            "order": null,
            "overflow": null,
            "overflow_x": null,
            "overflow_y": null,
            "padding": null,
            "right": null,
            "top": null,
            "visibility": null,
            "width": null
          }
        },
        "da61e624adfc4cc7b22ca3aeb2be5a8e": {
          "model_module": "@jupyter-widgets/output",
          "model_module_version": "1.0.0",
          "model_name": "OutputModel",
          "state": {
            "_dom_classes": [],
            "_model_module": "@jupyter-widgets/output",
            "_model_module_version": "1.0.0",
            "_model_name": "OutputModel",
            "_view_count": null,
            "_view_module": "@jupyter-widgets/output",
            "_view_module_version": "1.0.0",
            "_view_name": "OutputView",
            "layout": "IPY_MODEL_713d2a51077a4feca7dd82d78804dfab",
            "msg_id": "",
            "outputs": [
              {
                "data": {
                  "image/png": "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\n",
                  "text/plain": "<Figure size 1600x300 with 1 Axes>"
                },
                "metadata": {},
                "output_type": "display_data"
              }
            ]
          }
        }
      }
    }
  },
  "nbformat": 4,
  "nbformat_minor": 0
}
