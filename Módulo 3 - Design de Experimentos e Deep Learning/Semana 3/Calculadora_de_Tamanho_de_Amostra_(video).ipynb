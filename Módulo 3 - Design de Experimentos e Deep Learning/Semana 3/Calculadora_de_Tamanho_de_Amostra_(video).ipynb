{
  "nbformat": 4,
  "nbformat_minor": 0,
  "metadata": {
    "colab": {
      "provenance": []
    },
    "kernelspec": {
      "name": "python3",
      "display_name": "Python 3"
    },
    "language_info": {
      "name": "python"
    }
  },
  "cells": [
    {
      "cell_type": "markdown",
      "source": [
        "#**Calculadora de Tamanho de Amostra para Teste A/B**\n",
        "\n",
        "Como vimos em aula, definir o tamanho da amostra é um passo bem importante para realizarmos nosso teste A/B.\n",
        "\n",
        "Neste notebook traz funções para auxiliar vocês nesse trabalho. Mas vale ressalvar que essas funções calculam tamanho de amostra quando nossa métrica de interesse é uma proporção. Por exemplo, percentual de conversão, percentual de churn... Mas esse tipo de métrica é a mais usada nos testes A/B."
      ],
      "metadata": {
        "id": "xVBoscoVAsy-"
      }
    },
    {
      "cell_type": "markdown",
      "source": [
        "## **Observações importantes :**\n",
        "- Precisamos de pelo menos dois grupos quando fazemos um teste A/B:\n",
        "o controle (que é a vida como ela sempre foi) e o alternativo (onde você faz alguma modificação que é o que você quer medir, na prática)\n",
        "- O cálculo amostral é pra que você encontre o tamanho mínimo necessário para conseguir caracterizar uma população.\n",
        "- Ou seja, como o controle e a variante vem da mesma população, o número mínimo (tamanho de amostra) é o mesmo, então você pode utilizar o mesmo tamanho de amostra que encontrar para o grupo controle e para o grupo variante, o valor encontrado é o recomendado para cada grupo.\n",
        "- Escolha o erro a ser utilizado ele pode ser tanto um erro absoluto quanto um erro relativo."
      ],
      "metadata": {
        "id": "QfdpdCSFDt5k"
      }
    },
    {
      "cell_type": "markdown",
      "source": [
        "### **Importações**"
      ],
      "metadata": {
        "id": "I0VMth7ZzeiQ"
      }
    },
    {
      "cell_type": "code",
      "source": [
        "from math import ceil\n",
        "from scipy.stats import norm"
      ],
      "metadata": {
        "id": "pqjqKR7xzduZ"
      },
      "execution_count": null,
      "outputs": []
    },
    {
      "cell_type": "markdown",
      "source": [
        "## **Cálculo utilizando o erro relativo**\n",
        "\n",
        "O código abaixo é usado para calcular o tamanho da amostra necessário para um teste A/B, dado um erro máximo permitido (max_lift_error), um nível de confiança (confidence_level) e uma taxa de controle (control_rate). A taxa de controle é a taxa de sucesso esperada no grupo de controle, enquanto o erro máximo permitido é a diferença máxima aceitável entre a taxa de controle e a taxa de sucesso no grupo de teste (é o lift minimo que queremos pegar como significativo). O nível de confiança é a probabilidade de que a diferença observada entre os grupos de teste e controle seja real e não devida ao acaso. Recomendo a utilização de no mínimo 95%.\n",
        "\n",
        "Exemplo de control_rate = Média da taxa de conversão atual."
      ],
      "metadata": {
        "id": "0awiLvr6x2Mn"
      }
    },
    {
      "cell_type": "code",
      "source": [
        "def sample_size_relative_error(max_lift_error, confidence_level, control_rate):\n",
        "  # Calcula a taxa alternativa adicionando o erro máximo permitido à taxa de controle\n",
        "\n",
        "\n",
        "  # Calcula a média das taxas de controle e alternativa\n",
        "\n",
        "\n",
        "  # Calcula o nível de significância a partir do nível de confiança\n",
        "\n",
        "\n",
        "  # Obtém o quantil z correspondente ao nível de significância\n",
        "\n",
        "\n",
        "  # Calcula o primeiro termo temporário para a fórmula do tamanho da amostra\n",
        "\n",
        "\n",
        "  # Calcula o segundo termo temporário para a fórmula do tamanho da amostra\n",
        "\n",
        "\n",
        "  # Calcula o tamanho da amostra necessário para atingir o erro máximo permitido com o nível de confiança desejado\n",
        "\n",
        "\n",
        "  # Retorna o tamanho da amostra\n",
        "  return"
      ],
      "metadata": {
        "id": "2lae1FSgx6fE"
      },
      "execution_count": null,
      "outputs": []
    },
    {
      "cell_type": "markdown",
      "source": [
        "### Exemplo"
      ],
      "metadata": {
        "id": "SaICQ3GPzMNZ"
      }
    },
    {
      "cell_type": "code",
      "source": [
        "# taxa atual da métrica testada, como por exemplo, quantidade de sessoes com pedidos/total de sessoes\n",
        "control_rate =\n",
        "confidence_level =\n",
        "max_lift_error = 0.05\n",
        "\n",
        "sample_size_relative_error(max_lift_error, confidence_level, control_rate)"
      ],
      "metadata": {
        "id": "exJf3yKszOeH",
        "colab": {
          "base_uri": "https://localhost:8080/"
        },
        "outputId": "03c991be-158f-46cd-a28e-2421ba39c97e"
      },
      "execution_count": null,
      "outputs": [
        {
          "output_type": "execute_result",
          "data": {
            "text/plain": [
              "36147"
            ]
          },
          "metadata": {},
          "execution_count": 24
        }
      ]
    },
    {
      "cell_type": "markdown",
      "source": [
        "## **Cálculo utilizando o erro relativo e definindo o poder do teste**\n",
        "\n",
        "- baseline_conversion_rate: A taxa de conversão base para o grupo de controle.\n",
        "- minimum_detectable_effect: O tamanho mínimo do efeito detectável, expresso como uma porcentagem da taxa de conversão base.\n",
        "- alpha: O nível de significância para o teste. O padrão é 0.05.\n",
        "- beta: O poder estatístico desejado para o teste. O padrão é 0.2."
      ],
      "metadata": {
        "id": "vxw4w-_F0zQP"
      }
    },
    {
      "cell_type": "code",
      "source": [
        "def sample_size_calculator(baseline_conversion_rate, minimum_detectable_effect, alpha=0.05, beta=0.2):\n",
        "\n",
        "    # Calcula os desvios normais padrão para os níveis alfa e beta desejados\n",
        "    z_alpha = norm.ppf(1 - alpha / 2)\n",
        "    z_beta = norm.ppf(1 - beta)\n",
        "\n",
        "    # Calcula o desvio padrão agrupado\n",
        "    p1 = baseline_conversion_rate\n",
        "    p2 = baseline_conversion_rate * (1 + minimum_detectable_effect)\n",
        "    pooled_sd = ((p1 * (1 - p1) + p2 * (1 - p2)) / 2) ** 0.5\n",
        "\n",
        "    # Calcula o tamanho mínimo da amostra\n",
        "    sample_size = ((z_alpha + z_beta) * 2 * pooled_sd * 2) / (p1 - p2) ** 2\n",
        "    sample_size = ceil(sample_size)\n",
        "\n",
        "    return sample_size"
      ],
      "metadata": {
        "id": "Ww7bxxYZ1Ko6"
      },
      "execution_count": null,
      "outputs": []
    },
    {
      "cell_type": "markdown",
      "source": [
        "### Exemplo"
      ],
      "metadata": {
        "id": "DC-6oe0219dX"
      }
    },
    {
      "cell_type": "code",
      "source": [
        "baseline_conversion_rate = 0.08\n",
        "minimum_detectable_effect = 0.05\n",
        "\n",
        "sample_size_calculator(baseline_conversion_rate, minimum_detectable_effect)"
      ],
      "metadata": {
        "id": "TBL7P9ri18r3",
        "colab": {
          "base_uri": "https://localhost:8080/"
        },
        "outputId": "8b4e91dc-1a39-4860-c7b9-68c292c09273"
      },
      "execution_count": null,
      "outputs": [
        {
          "output_type": "execute_result",
          "data": {
            "text/plain": [
              "192159"
            ]
          },
          "metadata": {},
          "execution_count": 20
        }
      ]
    }
  ]
}