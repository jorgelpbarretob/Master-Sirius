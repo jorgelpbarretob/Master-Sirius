{
  "nbformat": 4,
  "nbformat_minor": 0,
  "metadata": {
    "colab": {
      "provenance": []
    },
    "kernelspec": {
      "name": "python3",
      "display_name": "Python 3"
    },
    "language_info": {
      "name": "python"
    }
  },
  "cells": [
    {
      "cell_type": "markdown",
      "source": [
        "#**Testes Estatísticos usando Python - Para praticar**\n",
        "\n",
        "Para realizarmos testes estatísticos com python a pricipal biblioteca existente é a **SciPy** ( acesse a documentação [aqui](https://docs.scipy.org/doc/scipy/reference/stats.html)).\n",
        "\n",
        "Como vimos nos materiais disponibilizados, as possibilidades de testes são muitas. Então, que tal praticar um pouco..."
      ],
      "metadata": {
        "id": "7fWrOLDpRvcR"
      }
    },
    {
      "cell_type": "code",
      "source": [
        "import numpy as np\n",
        "from scipy.stats import norm"
      ],
      "metadata": {
        "id": "CtUNdh7GThuh"
      },
      "execution_count": null,
      "outputs": []
    },
    {
      "cell_type": "markdown",
      "source": [
        "###Exercício 1 - Teste para um amostra\n",
        "\n",
        "Dado o array 'x' gerado abaixo, como realizar um teste tal que:\n",
        "\n",
        "a)\n",
        "\n",
        "Hipótese nula: A média dos dados é igual 5\n",
        "\n",
        "Hipótese alternativa: A média dos dados diferente de 5\n",
        "\n",
        "b)\n",
        "\n",
        "Hipótese nula: A média dos dados é igual 0\n",
        "\n",
        "Hipótese alternativa: A média dos dados diferente de 0"
      ],
      "metadata": {
        "id": "6pwbe-4mSAk_"
      }
    },
    {
      "cell_type": "code",
      "execution_count": null,
      "metadata": {
        "id": "1IsSlst6RqkZ"
      },
      "outputs": [],
      "source": [
        "np.random.seed(42)\n",
        "\n",
        "x = norm.rvs(loc=5, scale=10, size=1000)"
      ]
    },
    {
      "cell_type": "code",
      "source": [
        "#RESPOSTA AQUI\n",
        "\n",
        "\n"
      ],
      "metadata": {
        "id": "teQRXuugS9aq"
      },
      "execution_count": null,
      "outputs": []
    },
    {
      "cell_type": "markdown",
      "source": [
        "###Exercício 2 - Teste para duas amostras independentes\n",
        "\n",
        "Dado os arrays 'a' e 'b' gerados abaixo, como realizar um teste tal que:\n",
        "\n",
        "Hipótese nula: A média dos dados em 'a' é igual a média dos dados em 'b'\n",
        "\n",
        "Hipótese alternativa: A média dos dados em 'a' é diferente da média dos dados em 'b'"
      ],
      "metadata": {
        "id": "_FQaXTeuUbkG"
      }
    },
    {
      "cell_type": "code",
      "source": [
        "np.random.seed(42)\n",
        "a = norm.rvs(loc=5, scale=10, size=50)\n",
        "b = norm.rvs(loc=5, scale=10, size=30)"
      ],
      "metadata": {
        "id": "P3ihNZIMVWUQ"
      },
      "execution_count": null,
      "outputs": []
    },
    {
      "cell_type": "code",
      "source": [
        "#RESPOSTA AQUI\n",
        "\n"
      ],
      "metadata": {
        "id": "5manlzblVZdd"
      },
      "execution_count": null,
      "outputs": []
    },
    {
      "cell_type": "markdown",
      "source": [
        "###Exercício 3 - Teste para duas amostras pareadas\n",
        "\n",
        "Dado os arrays 'a' e 'b' gerados abaixo, como realizar um teste tal que:\n",
        "\n",
        "Hipótese nula: A média dos dados em 'a' é igual a média dos dados em 'b'\n",
        "\n",
        "Hipótese alternativa: A média dos dados em 'a' é diferente da média dos dados em 'b'"
      ],
      "metadata": {
        "id": "HlsbGoNDVmbR"
      }
    },
    {
      "cell_type": "code",
      "source": [
        "np.random.seed(42)\n",
        "a = norm.rvs(loc=5, scale=10, size=50)\n",
        "b = norm.rvs(loc=0, scale=1, size=50)  # mesmo tamanho"
      ],
      "metadata": {
        "id": "6Dmpi67jVw8y"
      },
      "execution_count": null,
      "outputs": []
    },
    {
      "cell_type": "code",
      "source": [
        "#RESPOSTA AQUI\n",
        "\n"
      ],
      "metadata": {
        "id": "Olb5_kFCV2b0"
      },
      "execution_count": null,
      "outputs": []
    },
    {
      "cell_type": "markdown",
      "source": [
        "###Exercício 4 - Caso apenas os valores das médias, desvios e tamanhos amostrais estejam disponíveis (ao invés das amostras em si).\n",
        "\n",
        "Dadas as informações abaixo, como realizar um teste tal que:\n",
        "\n",
        "Hipótese nula: A média das duas amostras é igual\n",
        "\n",
        "Hipótese alternativa: A média das duas amostras não é igual"
      ],
      "metadata": {
        "id": "-FyYvaOTV6sJ"
      }
    },
    {
      "cell_type": "code",
      "source": [
        "mean1, std1, nobs1 = 0, 1, 50\n",
        "mean2, std2, nobs2 = -1, 1, 15"
      ],
      "metadata": {
        "id": "sMaDmG8vV6Rf"
      },
      "execution_count": null,
      "outputs": []
    },
    {
      "cell_type": "code",
      "source": [
        "#RESPOSTA AQUI\n",
        "\n"
      ],
      "metadata": {
        "id": "uuI90DZnYIod"
      },
      "execution_count": null,
      "outputs": []
    },
    {
      "cell_type": "markdown",
      "source": [
        "###Exercício 5 - Testar a hipótese de que duas amostras foram extraídas da mesma distribuição contínua\n",
        "\n",
        "a) Dado os arrays 'a' e 'b' gerados abaixo, como realizar um teste tal que:\n",
        "\n",
        "Hipótese nula: Amostras vêm da mesma distribuição contínua\n",
        "\n",
        "Hipótese alternativa: Amostras não vêm da mesma distribuição contínua\n",
        "\n",
        "b) Dado os arrays 'a' e 'c' gerados abaixo, como realizar um teste tal que:\n",
        "\n",
        "Hipótese nula: Amostras vêm da mesma distribuição contínua\n",
        "\n",
        "Hipótese alternativa: Amostras não vêm da mesma distribuição contínua"
      ],
      "metadata": {
        "id": "QDaG6-MOYalS"
      }
    },
    {
      "cell_type": "code",
      "source": [
        "a = norm.rvs(loc=5, scale=10, size=50)\n",
        "b = norm.rvs(loc=5, scale=10, size=50)\n",
        "c = norm.rvs(size=50)"
      ],
      "metadata": {
        "id": "m-R3psOOYaJl"
      },
      "execution_count": null,
      "outputs": []
    },
    {
      "cell_type": "code",
      "source": [
        "#RESPOSTA AQUI\n",
        "\n"
      ],
      "metadata": {
        "id": "ENpBDLR_ZPtG"
      },
      "execution_count": null,
      "outputs": []
    }
  ]
}